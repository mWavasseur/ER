{
 "cells": [
  {
   "cell_type": "markdown",
   "id": "405a99ec",
   "metadata": {},
   "source": [
    "# HAIRY BLACK HOLES SOLUTION IMBEDDED IN A MAGNETIC FIELD IN EINSTEIN-MAXWELL-DILATON THEORIES"
   ]
  },
  {
   "cell_type": "markdown",
   "id": "6011d11e",
   "metadata": {},
   "source": [
    "We consider external vacuum solutions in scalar–tensor\n",
    "theories for the general class of actions\n",
    "\n",
    "\\begin{equation}\n",
    "S = \\int d^4x \\sqrt{-g} \\left[ R - 2 (\\nabla \\varphi)^2 - e^{-2\\alpha\\varphi}F^{2} \\right],\n",
    "\\end{equation}\n",
    "\n",
    "With the corresponding motion equations:\n",
    "\n",
    "\\begin{align*}\n",
    "\\nabla_\\mu \\left( e^{-2\\alpha\\phi} F^{\\mu\\nu} \\right) = 0, \\\\\n",
    "\\nabla^2 \\phi + \\frac{a}{2} e^{-2\\alpha\\phi} F^2 = 0, \\\\\n",
    "R_{\\mu\\nu} = 2 \\nabla_\\mu \\phi \\nabla_\\nu \\phi + 2 e^{-2\\alpha\\phi} F_{\\mu\\rho} F_\\nu^{\\ \\rho} - \\frac{1}{2} g_{\\mu\\nu} e^{-2\\alpha\\phi} F^2.\n",
    "\\end{align*}\n",
    "\n",
    "\n",
    "In Arruga & Minazzoli (2021) the authors found vacuum spherical solutions for\n",
    "this class of actions that read\n",
    "\n",
    "\\begin{eqnarray}\n",
    "ds^2 &=& - \\left( 1 - \\frac{r_{s}}{r} \\right)^{b} dt^2 \n",
    "+ \\left( 1 - \\frac{r_{s}}{r} \\right)^{-b} dr^2  + r^2 \\left( 1 - \\frac{r_{s}}{r} \\right)^{1-b} \\left[ d\\theta^2 + \\sin^2\\theta \\, d\\psi^2 \\right], \\\\\n",
    "\\varphi &=& \\frac{\\sqrt{1-b^{2}}}{2}\\log{\\left( 1 - \\frac{r_{s}}{r} \\right)},\\\\\n",
    "\\end{eqnarray}\n",
    "\n",
    "Applying the Dowker's transformation to the different metric components, we add a magnetic field to the solutions which now read in entangled relativity as\n",
    "\n",
    "\\begin{eqnarray}\n",
    "g'_{ij} &=& \\Lambda^{24 / 13} g_{ij}, \\\\\n",
    "g'_{\\varphi \\varphi} &=& \\Lambda^{-24 / 13} g_{\\varphi \\varphi},\\\\\n",
    "\\Psi \\rightarrow \\Psi' &=& \\Lambda^{-\\frac{2}{13}}\\Psi = \\Lambda^{-\\frac{2}{13}} e^{2\\alpha\\varphi} , \\\\\n",
    "\\varphi \\rightarrow \\varphi'&=&\\frac{log(\\Psi')}{2\\alpha}=\\frac{-2/13 log(\\Lambda)+2\\alpha\\phi}{2\\alpha}=-\\frac{2\\sqrt(3)}{13}log(\\Lambda)+\\phi,\n",
    "\\end{eqnarray}"
   ]
  },
  {
   "cell_type": "code",
   "execution_count": 1,
   "id": "62f6d87c",
   "metadata": {},
   "outputs": [
    {
     "data": {
      "text/plain": [
       "'SageMath version 10.1, Release Date: 2023-08-20'"
      ]
     },
     "execution_count": 1,
     "metadata": {},
     "output_type": "execute_result"
    }
   ],
   "source": [
    "version()"
   ]
  },
  {
   "cell_type": "markdown",
   "id": "66897cfe",
   "metadata": {},
   "source": [
    "'SageMath version used is 10.1, Release Date: 2023-08-20'"
   ]
  },
  {
   "cell_type": "code",
   "execution_count": 2,
   "id": "112af488",
   "metadata": {},
   "outputs": [],
   "source": [
    "%display latex"
   ]
  },
  {
   "cell_type": "code",
   "execution_count": 3,
   "id": "1a2f3ec7",
   "metadata": {},
   "outputs": [],
   "source": [
    "from sage.manifolds.operators import dalembertian\n",
    "from sage.manifolds.operators import laplacian\n",
    "from sage.manifolds.operators import grad"
   ]
  },
  {
   "cell_type": "code",
   "execution_count": 4,
   "id": "52764e53",
   "metadata": {},
   "outputs": [
    {
     "name": "stdout",
     "output_type": "stream",
     "text": [
      "4-dimensional Lorentzian manifold M\n"
     ]
    }
   ],
   "source": [
    "M = Manifold(4, 'M', structure='Lorentzian')\n",
    "print(M)"
   ]
  },
  {
   "cell_type": "code",
   "execution_count": 5,
   "id": "0ca83434",
   "metadata": {},
   "outputs": [
    {
     "data": {
      "text/html": [
       "<html>\\(\\displaystyle \\left(M,(t, r, {\\theta}, {\\varphi})\\right)\\)</html>"
      ],
      "text/latex": [
       "$\\displaystyle \\left(M,(t, r, {\\theta}, {\\varphi})\\right)$"
      ],
      "text/plain": [
       "Chart (M, (t, r, th, ph))"
      ]
     },
     "execution_count": 5,
     "metadata": {},
     "output_type": "execute_result"
    }
   ],
   "source": [
    "XY.<t,r,th,ph> = M.chart(r\"t r:(0,+oo) th:(0,pi):\\theta ph:(0,2*pi):\\varphi\")\n",
    "XY"
   ]
  },
  {
   "cell_type": "code",
   "execution_count": 6,
   "id": "3a743003",
   "metadata": {},
   "outputs": [],
   "source": [
    "g = M.metric()\n",
    "r_s, B, b, a = var('r_s B_0 b a')"
   ]
  },
  {
   "cell_type": "markdown",
   "id": "102a229b",
   "metadata": {},
   "source": [
    "# I. Definition of the metric with Dowker's transformation"
   ]
  },
  {
   "cell_type": "code",
   "execution_count": 7,
   "id": "af432bad",
   "metadata": {},
   "outputs": [
    {
     "data": {
      "text/html": [
       "<html>\\(\\displaystyle g = \\left( -{\\left(-\\frac{r_{s}}{r} + 1\\right)}^{b} \\Lambda\\left(r, {\\theta}\\right)^{\\frac{2}{a^{2} + 1}} \\right) \\mathrm{d} t\\otimes \\mathrm{d} t + \\left( \\frac{\\Lambda\\left(r, {\\theta}\\right)^{\\frac{2}{a^{2} + 1}}}{{\\left(-\\frac{r_{s}}{r} + 1\\right)}^{b}} \\right) \\mathrm{d} r\\otimes \\mathrm{d} r + \\left( \\frac{r^{2} \\Lambda\\left(r, {\\theta}\\right)^{\\frac{2}{a^{2} + 1}}}{{\\left(-\\frac{r_{s}}{r} + 1\\right)}^{b - 1}} \\right) \\mathrm{d} {\\theta}\\otimes \\mathrm{d} {\\theta} + \\left( \\frac{r^{2} \\sin\\left({\\theta}\\right)^{2}}{{\\left(-\\frac{r_{s}}{r} + 1\\right)}^{b - 1} \\Lambda\\left(r, {\\theta}\\right)^{\\frac{2}{a^{2} + 1}}} \\right) \\mathrm{d} {\\varphi}\\otimes \\mathrm{d} {\\varphi}\\)</html>"
      ],
      "text/latex": [
       "$\\displaystyle g = \\left( -{\\left(-\\frac{r_{s}}{r} + 1\\right)}^{b} \\Lambda\\left(r, {\\theta}\\right)^{\\frac{2}{a^{2} + 1}} \\right) \\mathrm{d} t\\otimes \\mathrm{d} t + \\left( \\frac{\\Lambda\\left(r, {\\theta}\\right)^{\\frac{2}{a^{2} + 1}}}{{\\left(-\\frac{r_{s}}{r} + 1\\right)}^{b}} \\right) \\mathrm{d} r\\otimes \\mathrm{d} r + \\left( \\frac{r^{2} \\Lambda\\left(r, {\\theta}\\right)^{\\frac{2}{a^{2} + 1}}}{{\\left(-\\frac{r_{s}}{r} + 1\\right)}^{b - 1}} \\right) \\mathrm{d} {\\theta}\\otimes \\mathrm{d} {\\theta} + \\left( \\frac{r^{2} \\sin\\left({\\theta}\\right)^{2}}{{\\left(-\\frac{r_{s}}{r} + 1\\right)}^{b - 1} \\Lambda\\left(r, {\\theta}\\right)^{\\frac{2}{a^{2} + 1}}} \\right) \\mathrm{d} {\\varphi}\\otimes \\mathrm{d} {\\varphi}$"
      ],
      "text/plain": [
       "g = -(-r_s/r + 1)^b*Lambda(r, th)^(2/(a^2 + 1)) dt⊗dt + Lambda(r, th)^(2/(a^2 + 1))/(-r_s/r + 1)^b dr⊗dr + r^2*Lambda(r, th)^(2/(a^2 + 1))/(-r_s/r + 1)^(b - 1) dth⊗dth + r^2*sin(th)^2/((-r_s/r + 1)^(b - 1)*Lambda(r, th)^(2/(a^2 + 1))) dph⊗dph"
      ]
     },
     "metadata": {},
     "output_type": "display_data"
    },
    {
     "data": {
      "text/html": [
       "<html>\\(\\displaystyle \\varphi =  \\frac{1}{2} \\, \\sqrt{-b^{2} + 1} \\log\\left(-\\frac{r_{s}}{r} + 1\\right) \\rightarrow \\varphi' =  \\frac{1}{2} \\, \\sqrt{-b^{2} + 1} \\log\\left(-\\frac{r_{s}}{r} + 1\\right) - \\frac{a \\log\\left(\\Lambda\\left(r, {\\theta}\\right)\\right)}{a^{2} + 1}\\)</html>"
      ],
      "text/latex": [
       "$\\displaystyle \\varphi =  \\frac{1}{2} \\, \\sqrt{-b^{2} + 1} \\log\\left(-\\frac{r_{s}}{r} + 1\\right) \\rightarrow \\varphi' =  \\frac{1}{2} \\, \\sqrt{-b^{2} + 1} \\log\\left(-\\frac{r_{s}}{r} + 1\\right) - \\frac{a \\log\\left(\\Lambda\\left(r, {\\theta}\\right)\\right)}{a^{2} + 1}$"
      ],
      "text/plain": [
       "\\varphi =  1/2*sqrt(-b^2 + 1)*log(-r_s/r + 1) \\rightarrow \\varphi' =  1/2*sqrt(-b^2 + 1)*log(-r_s/r + 1) - a*log(Lambda(r, th))/(a^2 + 1)"
      ]
     },
     "metadata": {},
     "output_type": "display_data"
    },
    {
     "data": {
      "text/html": [
       "<html>\\(\\displaystyle \\Psi =  \\frac{{\\left(r - r_{s}\\right)}^{a \\sqrt{b + 1} \\sqrt{-b + 1}}}{r^{a \\sqrt{b + 1} \\sqrt{-b + 1}}} \\rightarrow \\Psi' =  \\frac{{\\left(r - r_{s}\\right)}^{a \\sqrt{b + 1} \\sqrt{-b + 1}}}{r^{a \\sqrt{b + 1} \\sqrt{-b + 1}} \\Lambda\\left(r, {\\theta}\\right)^{\\frac{2 \\, a^{2}}{a^{2} + 1}}}\\)</html>"
      ],
      "text/latex": [
       "$\\displaystyle \\Psi =  \\frac{{\\left(r - r_{s}\\right)}^{a \\sqrt{b + 1} \\sqrt{-b + 1}}}{r^{a \\sqrt{b + 1} \\sqrt{-b + 1}}} \\rightarrow \\Psi' =  \\frac{{\\left(r - r_{s}\\right)}^{a \\sqrt{b + 1} \\sqrt{-b + 1}}}{r^{a \\sqrt{b + 1} \\sqrt{-b + 1}} \\Lambda\\left(r, {\\theta}\\right)^{\\frac{2 \\, a^{2}}{a^{2} + 1}}}$"
      ],
      "text/plain": [
       "\\Psi =  (r - r_s)^(a*sqrt(b + 1)*sqrt(-b + 1))/r^(a*sqrt(b + 1)*sqrt(-b + 1)) \\rightarrow \\Psi' =  (r - r_s)^(a*sqrt(b + 1)*sqrt(-b + 1))/(r^(a*sqrt(b + 1)*sqrt(-b + 1))*Lambda(r, th)^(2*a^2/(a^2 + 1)))"
      ]
     },
     "metadata": {},
     "output_type": "display_data"
    },
    {
     "data": {
      "text/html": [
       "<html>\\(\\displaystyle \\Lambda =  \\frac{{\\left(a^{2} + 1\\right)} B_{0}^{2} {\\left(r - r_{s}\\right)}^{a \\sqrt{b + 1} \\sqrt{-b + 1}} r^{2} \\sin\\left({\\theta}\\right)^{2}}{4 \\, r^{a \\sqrt{b + 1} \\sqrt{-b + 1}} {\\left(-\\frac{r_{s}}{r} + 1\\right)}^{b - 1}} + 1\\)</html>"
      ],
      "text/latex": [
       "$\\displaystyle \\Lambda =  \\frac{{\\left(a^{2} + 1\\right)} B_{0}^{2} {\\left(r - r_{s}\\right)}^{a \\sqrt{b + 1} \\sqrt{-b + 1}} r^{2} \\sin\\left({\\theta}\\right)^{2}}{4 \\, r^{a \\sqrt{b + 1} \\sqrt{-b + 1}} {\\left(-\\frac{r_{s}}{r} + 1\\right)}^{b - 1}} + 1$"
      ],
      "text/plain": [
       "\\Lambda =  1/4*(a^2 + 1)*B_0^2*(r - r_s)^(a*sqrt(b + 1)*sqrt(-b + 1))*r^2*sin(th)^2/(r^(a*sqrt(b + 1)*sqrt(-b + 1))*(-r_s/r + 1)^(b - 1)) + 1"
      ]
     },
     "metadata": {},
     "output_type": "display_data"
    }
   ],
   "source": [
    "Lambda = function('Lambda')\n",
    "\n",
    "Omega(r) = (1- r_s/r)**(b-1)\n",
    "old_Phi = M.scalar_field({XY:1/2*sqrt(1-b**2)*ln(1- r_s/r)}, name=r'\\varphi')\n",
    "old_Psi = exp(2*a*old_Phi)\n",
    "Phi = M.scalar_field({XY:- a / (1+a**2) * ln(Lambda(r,th))+old_Phi.expr()}, name=r'\\phi') \n",
    "Psi = M.scalar_field({XY:old_Psi.expr() / (Lambda(r,th))**(2*a**2/(1+a**2))}, name=r'\\Psi')\n",
    "\n",
    "g[0,0] = -(1- r_s/r)**b * Lambda(r,th)**(2/(1+a**2))\n",
    "g[1,1] = 1 / (1- r_s/r)**b * Lambda(r,th)**(2/(1+a**2))\n",
    "g[2,2] = r**2 * Lambda(r,th)**(2/(1+a**2)) / Omega(r)\n",
    "g[3,3] =  (r*sin(th))**2 / Lambda(r,th)**(2/(1+a**2)) /Omega(r)\n",
    "\n",
    "Lamb(r, th) = 1 + (1+ a**2) / 4 * B**2 * (r*sin(th))**2 / Omega(r) * old_Psi.expr()\n",
    "\n",
    "show(g.display())\n",
    "show(LatexExpr(r'\\varphi = '), old_Phi.expr(), LatexExpr(r\"\\rightarrow \\varphi' = \"), Phi.expr())\n",
    "show(LatexExpr(r'\\Psi = '), old_Psi.expr(), LatexExpr(r\"\\rightarrow \\Psi' = \"), Psi.expr())\n",
    "show(LatexExpr(r'\\Lambda = '), Lamb(r, th))"
   ]
  },
  {
   "cell_type": "markdown",
   "id": "e7d1d1a6",
   "metadata": {},
   "source": [
    "# II. The vector potential"
   ]
  },
  {
   "cell_type": "code",
   "execution_count": 8,
   "id": "b3d64816",
   "metadata": {},
   "outputs": [],
   "source": [
    "nab = g.connection() "
   ]
  },
  {
   "cell_type": "code",
   "execution_count": 9,
   "id": "9e3bb784",
   "metadata": {},
   "outputs": [
    {
     "data": {
      "text/html": [
       "<html>\\(\\displaystyle A = \\frac{2 \\, {\\left(\\frac{1}{\\Lambda\\left(r, {\\theta}\\right)} - 1\\right)}}{{\\left(a^{2} + 1\\right)} B_{0}} \\mathrm{d} {\\varphi}\\)</html>"
      ],
      "text/latex": [
       "$\\displaystyle A = \\frac{2 \\, {\\left(\\frac{1}{\\Lambda\\left(r, {\\theta}\\right)} - 1\\right)}}{{\\left(a^{2} + 1\\right)} B_{0}} \\mathrm{d} {\\varphi}$"
      ],
      "text/plain": [
       "A = 2*(1/Lambda(r, th) - 1)/((a^2 + 1)*B_0) dph"
      ]
     },
     "metadata": {},
     "output_type": "display_data"
    }
   ],
   "source": [
    "pot_vec = M.tensor_field(0,1,name='A')\n",
    "pot_vec[0]=0\n",
    "pot_vec[1]=0\n",
    "pot_vec[2]=0\n",
    "#pot_vec[3]=- 2 / (1+a**2) / B / Lambda(r,th)\n",
    "pot_vec[3]=- 2 / (1+a**2) / B *(1 - 1 / Lambda(r,th))\n",
    "\n",
    "show(pot_vec.display())"
   ]
  },
  {
   "cell_type": "code",
   "execution_count": 10,
   "id": "23704926",
   "metadata": {},
   "outputs": [
    {
     "data": {
      "text/html": [
       "<html>\\(\\displaystyle \\nabla_{g} A\\)</html>"
      ],
      "text/latex": [
       "$\\displaystyle \\nabla_{g} A$"
      ],
      "text/plain": [
       "Tensor field nabla_g(A) of type (0,2) on the 4-dimensional Lorentzian manifold M"
      ]
     },
     "execution_count": 10,
     "metadata": {},
     "output_type": "execute_result"
    }
   ],
   "source": [
    "DF = nab(pot_vec) ; DF"
   ]
  },
  {
   "cell_type": "markdown",
   "id": "3f02d269",
   "metadata": {},
   "source": [
    "## II.1. Definition of the EM tensor"
   ]
  },
  {
   "cell_type": "markdown",
   "id": "3baf2f94",
   "metadata": {},
   "source": [
    "Let's now define the EM tensor:\n",
    "\n",
    "$F_{\\mu\\nu}=\\partial_{\\mu}A_{\\nu}-\\partial_{\\nu}A_{\\mu}$"
   ]
  },
  {
   "cell_type": "code",
   "execution_count": 11,
   "id": "1fefa3aa",
   "metadata": {},
   "outputs": [
    {
     "data": {
      "text/html": [
       "<html>\\(\\displaystyle F = -\\frac{2 \\, \\frac{\\partial\\,\\Lambda}{\\partial r}}{{\\left(B_{0} a^{2} + B_{0}\\right)} \\Lambda\\left(r, {\\theta}\\right)^{2}} \\mathrm{d} r\\wedge \\mathrm{d} {\\varphi} -\\frac{2 \\, \\frac{\\partial\\,\\Lambda}{\\partial {\\theta}}}{{\\left(B_{0} a^{2} + B_{0}\\right)} \\Lambda\\left(r, {\\theta}\\right)^{2}} \\mathrm{d} {\\theta}\\wedge \\mathrm{d} {\\varphi}\\)</html>"
      ],
      "text/latex": [
       "$\\displaystyle F = -\\frac{2 \\, \\frac{\\partial\\,\\Lambda}{\\partial r}}{{\\left(B_{0} a^{2} + B_{0}\\right)} \\Lambda\\left(r, {\\theta}\\right)^{2}} \\mathrm{d} r\\wedge \\mathrm{d} {\\varphi} -\\frac{2 \\, \\frac{\\partial\\,\\Lambda}{\\partial {\\theta}}}{{\\left(B_{0} a^{2} + B_{0}\\right)} \\Lambda\\left(r, {\\theta}\\right)^{2}} \\mathrm{d} {\\theta}\\wedge \\mathrm{d} {\\varphi}$"
      ],
      "text/plain": [
       "F = -2*d(Lambda)/dr/((B_0*a^2 + B_0)*Lambda(r, th)^2) dr∧dph - 2*d(Lambda)/dth/((B_0*a^2 + B_0)*Lambda(r, th)^2) dth∧dph"
      ]
     },
     "execution_count": 11,
     "metadata": {},
     "output_type": "execute_result"
    }
   ],
   "source": [
    "F = diff(pot_vec)\n",
    "F.set_name('F')\n",
    "Fuu = F.up(g)\n",
    "F.display()"
   ]
  },
  {
   "cell_type": "markdown",
   "id": "ccf9498c",
   "metadata": {},
   "source": [
    "# III. The motion equations"
   ]
  },
  {
   "cell_type": "markdown",
   "id": "3ce3182e-274a-4b78-9312-60d447ecd4eb",
   "metadata": {},
   "source": [
    "## III.1. Verification of the Maxwell equations $\\bigtriangledown_{\\mu}(e^{-2\\alpha\\Phi}F^{\\mu\\nu})=0$"
   ]
  },
  {
   "cell_type": "code",
   "execution_count": 12,
   "id": "70461ded",
   "metadata": {},
   "outputs": [],
   "source": [
    "eq1 = nab(Fuu / Psi)"
   ]
  },
  {
   "cell_type": "code",
   "execution_count": 13,
   "id": "e06ce2b6-8062-4cc3-9cb9-473c5519ab65",
   "metadata": {},
   "outputs": [],
   "source": [
    "eq = eq1['^a._a']"
   ]
  },
  {
   "cell_type": "code",
   "execution_count": 14,
   "id": "b77b7e3d",
   "metadata": {},
   "outputs": [],
   "source": [
    "eq.apply_map(lambda f :f.substitute_function(Lambda,Lamb).factor())"
   ]
  },
  {
   "cell_type": "code",
   "execution_count": 15,
   "id": "4986a41f",
   "metadata": {},
   "outputs": [
    {
     "data": {
      "text/html": [
       "<html>\\(\\displaystyle \\mathrm{True}\\)</html>"
      ],
      "text/latex": [
       "$\\displaystyle \\mathrm{True}$"
      ],
      "text/plain": [
       "True"
      ]
     },
     "execution_count": 15,
     "metadata": {},
     "output_type": "execute_result"
    }
   ],
   "source": [
    "eq == 0"
   ]
  },
  {
   "cell_type": "markdown",
   "id": "ad877516-74d2-4aa1-9240-cd513c126f6e",
   "metadata": {},
   "source": [
    "## III. 2. Verification of the equation $\\bigtriangledown^{2}\\Phi+\\frac{\\alpha}{2}e^{-2\\alpha\\Phi}F^{2}=0$ "
   ]
  },
  {
   "cell_type": "code",
   "execution_count": 16,
   "id": "794dd327",
   "metadata": {},
   "outputs": [],
   "source": [
    "F2 = F['_ab']*Fuu['^ab']"
   ]
  },
  {
   "cell_type": "code",
   "execution_count": 17,
   "id": "8f9b1dd6",
   "metadata": {},
   "outputs": [],
   "source": [
    "eq2_1 = Phi.dalembertian()"
   ]
  },
  {
   "cell_type": "code",
   "execution_count": 18,
   "id": "13851021",
   "metadata": {},
   "outputs": [],
   "source": [
    "eq2_2 = (a/2)*F2 / Psi "
   ]
  },
  {
   "cell_type": "code",
   "execution_count": 19,
   "id": "db1f1d0b",
   "metadata": {},
   "outputs": [],
   "source": [
    "eq2 = eq2_1 + eq2_2"
   ]
  },
  {
   "cell_type": "code",
   "execution_count": 20,
   "id": "3dbddc52",
   "metadata": {},
   "outputs": [
    {
     "data": {
      "text/html": [
       "<html>\\(\\displaystyle \\verb|Substitution:|\\verb| |\\verb|done|\\)</html>"
      ],
      "text/latex": [
       "$\\displaystyle \\verb|Substitution:|\\verb| |\\verb|done|$"
      ],
      "text/plain": [
       "'Substitution: done'"
      ]
     },
     "metadata": {},
     "output_type": "display_data"
    },
    {
     "data": {
      "text/html": [
       "<html>\\(\\displaystyle \\verb|Simplification:|\\verb| |\\verb|done|\\)</html>"
      ],
      "text/latex": [
       "$\\displaystyle \\verb|Simplification:|\\verb| |\\verb|done|$"
      ],
      "text/plain": [
       "'Simplification: done'"
      ]
     },
     "metadata": {},
     "output_type": "display_data"
    },
    {
     "data": {
      "text/html": [
       "<html>\\(\\displaystyle \\verb|Verification:| \\mathrm{True}\\)</html>"
      ],
      "text/latex": [
       "$\\displaystyle \\verb|Verification:| \\mathrm{True}$"
      ],
      "text/plain": [
       "'Verification: ' True"
      ]
     },
     "metadata": {},
     "output_type": "display_data"
    }
   ],
   "source": [
    "eq_num = numerator(eq2.expr().substitute_function(Lambda,Lamb)).factor()\n",
    "show('Substitution: done')\n",
    "eq_num = eq_num.simplify_full()\n",
    "show('Simplification: done')\n",
    "show('Verification: ', eq_num.canonicalize_radical().factor().is_zero())"
   ]
  },
  {
   "cell_type": "markdown",
   "id": "f300aeb3-10d4-402a-92ff-65c86d747f3b",
   "metadata": {},
   "source": [
    "## III.3 Verification of the main motion equation $R_{\\mu\\nu}=2\\triangledown_{\\mu}\\Phi\\triangledown_{\\nu}\\Phi+\\frac{T_{\\mu\\nu}}{\\Psi}$"
   ]
  },
  {
   "cell_type": "code",
   "execution_count": 21,
   "id": "4f4eee31",
   "metadata": {},
   "outputs": [],
   "source": [
    "Fud = F.up(g,0)\n",
    "T = 2*(F['_k.']*Fud['^k_.'] - 1/4*F2*g)"
   ]
  },
  {
   "cell_type": "code",
   "execution_count": 22,
   "id": "f54ab797",
   "metadata": {},
   "outputs": [],
   "source": [
    "UU=T / Psi"
   ]
  },
  {
   "cell_type": "code",
   "execution_count": 23,
   "id": "2818022f",
   "metadata": {},
   "outputs": [],
   "source": [
    "nab_phi = nab(Phi)\n",
    "S = 2*nab_phi*nab_phi"
   ]
  },
  {
   "cell_type": "code",
   "execution_count": 24,
   "id": "b8326482",
   "metadata": {},
   "outputs": [],
   "source": [
    "RHS = UU + S"
   ]
  },
  {
   "cell_type": "code",
   "execution_count": 25,
   "id": "2b2de236",
   "metadata": {},
   "outputs": [],
   "source": [
    "ER_ricc = g.ricci()"
   ]
  },
  {
   "cell_type": "code",
   "execution_count": 26,
   "id": "ebcb7c2d",
   "metadata": {},
   "outputs": [],
   "source": [
    "eq3 = ER_ricc - RHS"
   ]
  },
  {
   "cell_type": "code",
   "execution_count": 27,
   "id": "cd6e8303",
   "metadata": {},
   "outputs": [
    {
     "data": {
      "text/html": [
       "<html>\\(\\displaystyle \\verb|Substitution:|\\verb| |\\verb|done|\\)</html>"
      ],
      "text/latex": [
       "$\\displaystyle \\verb|Substitution:|\\verb| |\\verb|done|$"
      ],
      "text/plain": [
       "'Substitution: done'"
      ]
     },
     "metadata": {},
     "output_type": "display_data"
    },
    {
     "data": {
      "text/html": [
       "<html>\\(\\displaystyle \\verb|Verification:| \\mathrm{True}\\)</html>"
      ],
      "text/latex": [
       "$\\displaystyle \\verb|Verification:| \\mathrm{True}$"
      ],
      "text/plain": [
       "'Verification: ' True"
      ]
     },
     "metadata": {},
     "output_type": "display_data"
    }
   ],
   "source": [
    "eq3.apply_map(lambda f :f.substitute_function(Lambda,Lamb).factor())\n",
    "show('Substitution: done')\n",
    "eq3.apply_map(lambda f :f.canonicalize_radical().factor())\n",
    "show('Verification: ', eq3 == 0)"
   ]
  },
  {
   "cell_type": "markdown",
   "id": "2fbcd7fd",
   "metadata": {},
   "source": [
    "# WE CONCLUDE THAT APPLYING DOWKER'S TRANSFORMATION TO THIS GENERAL CLASS OF VACUUM SPHERICAL SOLUTION GENERATES NEW SOLUTIONS OF THE MOTION EQUATIONS WITH A MAGNETIC FIELD"
   ]
  }
 ],
 "metadata": {
  "kernelspec": {
   "display_name": "SageMath 10.1",
   "language": "sage",
   "name": "sagemath"
  },
  "language_info": {
   "codemirror_mode": {
    "name": "ipython",
    "version": 3
   },
   "file_extension": ".py",
   "mimetype": "text/x-python",
   "name": "python",
   "nbconvert_exporter": "python",
   "pygments_lexer": "ipython3",
   "version": "3.10.12"
  }
 },
 "nbformat": 4,
 "nbformat_minor": 5
}
