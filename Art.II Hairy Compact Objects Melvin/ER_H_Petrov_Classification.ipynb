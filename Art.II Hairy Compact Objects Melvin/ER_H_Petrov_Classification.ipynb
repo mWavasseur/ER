{
 "cells": [
  {
   "cell_type": "markdown",
   "id": "fd24da89-ea69-4038-95ee-fb5f1ac63b24",
   "metadata": {},
   "source": [
    "# PETROV CLASSIFICATION OF SPACE-TIME IN ENTANGLED RELATIVITY FOR BOTH ELECTRICALLY AND MAGNETICALLY HAIRY BLACK HOLES "
   ]
  },
  {
   "cell_type": "code",
   "execution_count": 1,
   "id": "e80b49a5-8e6d-4d11-8ed3-3a709a6c0f10",
   "metadata": {},
   "outputs": [
    {
     "data": {
      "text/plain": [
       "'SageMath version 10.1, Release Date: 2023-08-20'"
      ]
     },
     "execution_count": 1,
     "metadata": {},
     "output_type": "execute_result"
    }
   ],
   "source": [
    "version()"
   ]
  },
  {
   "cell_type": "markdown",
   "id": "1ea7119a",
   "metadata": {},
   "source": [
    "'SageMath version used is 10.1, Release Date: 2023-08-20'"
   ]
  },
  {
   "cell_type": "code",
   "execution_count": 2,
   "id": "c8e62c3b-2f19-4bd3-a05b-9a2b1ebac5ef",
   "metadata": {},
   "outputs": [],
   "source": [
    "%display latex"
   ]
  },
  {
   "cell_type": "code",
   "execution_count": 3,
   "id": "37bb8571-5c97-409e-849f-ecf8441eb00e",
   "metadata": {},
   "outputs": [],
   "source": [
    "from sage.manifolds.operators import dalembertian\n",
    "from sage.manifolds.operators import grad\n",
    "from sage.tensor.modules.tensor_with_indices import TensorWithIndices\n",
    "from IPython.display import clear_output\n",
    "import time\n",
    "import pickle\n",
    "comput_time0 = time.perf_counter()"
   ]
  },
  {
   "cell_type": "code",
   "execution_count": 4,
   "id": "aaf98942-3a99-47f5-9a9e-4ebf778b0456",
   "metadata": {},
   "outputs": [
    {
     "name": "stdout",
     "output_type": "stream",
     "text": [
      "4-dimensional Lorentzian manifold M\n"
     ]
    }
   ],
   "source": [
    "M = Manifold(4, 'M', structure='Lorentzian')\n",
    "print(M)"
   ]
  },
  {
   "cell_type": "code",
   "execution_count": 5,
   "id": "70fb3dbf-9329-46dc-b5e4-039b92b8f655",
   "metadata": {},
   "outputs": [],
   "source": [
    "XY.<t,r,th,ph> = M.chart(r\"t r:(0,+oo) th:(0,pi):\\theta ph:(0,2*pi):\\varphi\")\n",
    "XY\n",
    "assume(th>0, th<pi)"
   ]
  },
  {
   "cell_type": "code",
   "execution_count": 6,
   "id": "2c589e34-e79c-4a75-9e85-f0a8d6f5a842",
   "metadata": {},
   "outputs": [],
   "source": [
    "g = M.metric()\n",
    "r_s, B, b, a = var('r_s B_0 b a')\n",
    "assume(r_s>=0)\n",
    "assume(r_s<r)"
   ]
  },
  {
   "cell_type": "code",
   "execution_count": 7,
   "id": "bf35c59c-cd7a-4e9a-88c8-cff208c7417c",
   "metadata": {},
   "outputs": [],
   "source": [
    "def subs_func(arg):\n",
    "    subs_funcs = [(Lambda, Lamb), (Delta, Delt)]\n",
    "    \n",
    "    if hasattr(arg, 'expr'):\n",
    "        arg = arg.expr()\n",
    "        \n",
    "    if hasattr(arg, 'apply_map')*hasattr(arg, 'display'):\n",
    "        for i, (old_func, new_func) in enumerate(subs_funcs):\n",
    "            arg.apply_map(lambda f: (f.substitute_function(old_func, new_func).factor() if i == len(subs_funcs)-1\\\n",
    "                                           else f.substitute_function(old_func, new_func)))  \n",
    "            show('Substitution Lambda: done') if i==0 else show('Substitution Delta: done')\n",
    "    else:\n",
    "        for i, (old_func, new_func) in enumerate(subs_funcs):\n",
    "            arg = (arg.substitute_function(old_func, new_func).factor() if i == len(subs_funcs)-1\\\n",
    "                                           else arg.substitute_function(old_func, new_func)) \n",
    "            show('Substitution Lambda: done') if i==0 else show('Substitution Delta: done')\n",
    "    return arg"
   ]
  },
  {
   "cell_type": "code",
   "execution_count": 8,
   "id": "747085c0",
   "metadata": {},
   "outputs": [],
   "source": [
    "\n",
    "def simp_exp(expr, assumptions=None):\n",
    "    \n",
    "    if assumptions:\n",
    "        for var, condition in assumptions.items():\n",
    "            assume(condition)\n",
    "    simplified_expr = expr.canonicalize_radical().factor()\n",
    "    show(\"After canonicalize_radical + factor:\", simplified_expr)\n",
    "    simplified_expr = expr.factor()\n",
    "    show(\"After factor:\", simplified_expr)\n",
    "    simplified_expr = expr.simplify_full().factor()\n",
    "    show(\"After simplify_full + factor:\", simplified_expr)  "
   ]
  },
  {
   "cell_type": "markdown",
   "id": "3cc62d71-f6ed-4a93-80c8-1ade6010e3b6",
   "metadata": {},
   "source": [
    "# I. Definition of the metric after Dowker's transformation"
   ]
  },
  {
   "cell_type": "code",
   "execution_count": 9,
   "id": "36e821e4-041a-4947-8bd7-4186540a02fc",
   "metadata": {},
   "outputs": [],
   "source": [
    "elec = True"
   ]
  },
  {
   "cell_type": "code",
   "execution_count": 10,
   "id": "52284fdb-bb6e-4b47-af14-10b7a64678b8",
   "metadata": {},
   "outputs": [
    {
     "data": {
      "text/html": [
       "<html>\\(\\displaystyle g = -\\frac{{\\left(-\\frac{r_{s}}{r} + 1\\right)}^{b} \\Lambda\\left(r, {\\theta}\\right)^{\\frac{28}{13}}}{\\Delta\\left(r\\right)^{2}} \\mathrm{d} t\\otimes \\mathrm{d} t + \\frac{\\Lambda\\left(r, {\\theta}\\right)^{\\frac{28}{13}}}{{\\left(-\\frac{r_{s}}{r} + 1\\right)}^{b} \\Delta\\left(r\\right)^{2}} \\mathrm{d} r\\otimes \\mathrm{d} r + \\left( \\frac{r^{2} {\\left(-\\frac{r_{s}}{r} + 1\\right)}^{-b + 1} \\Lambda\\left(r, {\\theta}\\right)^{\\frac{28}{13}}}{\\Delta\\left(r\\right)^{2}} \\right) \\mathrm{d} {\\theta}\\otimes \\mathrm{d} {\\theta} + \\left( \\frac{r^{2} {\\left(-\\frac{r_{s}}{r} + 1\\right)}^{-b + 1} \\sin\\left({\\theta}\\right)^{2}}{\\Delta\\left(r\\right)^{2} \\Lambda\\left(r, {\\theta}\\right)^{\\frac{20}{13}}} \\right) \\mathrm{d} {\\varphi}\\otimes \\mathrm{d} {\\varphi}\\)</html>"
      ],
      "text/latex": [
       "$\\displaystyle g = -\\frac{{\\left(-\\frac{r_{s}}{r} + 1\\right)}^{b} \\Lambda\\left(r, {\\theta}\\right)^{\\frac{28}{13}}}{\\Delta\\left(r\\right)^{2}} \\mathrm{d} t\\otimes \\mathrm{d} t + \\frac{\\Lambda\\left(r, {\\theta}\\right)^{\\frac{28}{13}}}{{\\left(-\\frac{r_{s}}{r} + 1\\right)}^{b} \\Delta\\left(r\\right)^{2}} \\mathrm{d} r\\otimes \\mathrm{d} r + \\left( \\frac{r^{2} {\\left(-\\frac{r_{s}}{r} + 1\\right)}^{-b + 1} \\Lambda\\left(r, {\\theta}\\right)^{\\frac{28}{13}}}{\\Delta\\left(r\\right)^{2}} \\right) \\mathrm{d} {\\theta}\\otimes \\mathrm{d} {\\theta} + \\left( \\frac{r^{2} {\\left(-\\frac{r_{s}}{r} + 1\\right)}^{-b + 1} \\sin\\left({\\theta}\\right)^{2}}{\\Delta\\left(r\\right)^{2} \\Lambda\\left(r, {\\theta}\\right)^{\\frac{20}{13}}} \\right) \\mathrm{d} {\\varphi}\\otimes \\mathrm{d} {\\varphi}$"
      ],
      "text/plain": [
       "g = -(-r_s/r + 1)^b*Lambda(r, th)^(28/13)/Delta(r)^2 dt⊗dt + Lambda(r, th)^(28/13)/((-r_s/r + 1)^b*Delta(r)^2) dr⊗dr + r^2*(-r_s/r + 1)^(-b + 1)*Lambda(r, th)^(28/13)/Delta(r)^2 dth⊗dth + r^2*(-r_s/r + 1)^(-b + 1)*sin(th)^2/(Delta(r)^2*Lambda(r, th)^(20/13)) dph⊗dph"
      ]
     },
     "metadata": {},
     "output_type": "display_data"
    },
    {
     "data": {
      "text/html": [
       "<html>\\(\\displaystyle \\Delta =  {\\left(-\\frac{r_{s}}{r} + 1\\right)}^{\\frac{1}{6} \\, \\sqrt{3} \\sqrt{-b^{2} + 1}}\\)</html>"
      ],
      "text/latex": [
       "$\\displaystyle \\Delta =  {\\left(-\\frac{r_{s}}{r} + 1\\right)}^{\\frac{1}{6} \\, \\sqrt{3} \\sqrt{-b^{2} + 1}}$"
      ],
      "text/plain": [
       "\\Delta =  (-r_s/r + 1)^(1/6*sqrt(3)*sqrt(-b^2 + 1))"
      ]
     },
     "metadata": {},
     "output_type": "display_data"
    },
    {
     "data": {
      "text/html": [
       "<html>\\(\\displaystyle \\Lambda =  \\frac{13}{48} \\, B_{0}^{2} r^{2} {\\left(-\\frac{r_{s}}{r} + 1\\right)}^{\\frac{1}{6} \\, \\sqrt{3} \\sqrt{-b^{2} + 1} - b + 1} \\sin\\left({\\theta}\\right)^{2} + 1\\)</html>"
      ],
      "text/latex": [
       "$\\displaystyle \\Lambda =  \\frac{13}{48} \\, B_{0}^{2} r^{2} {\\left(-\\frac{r_{s}}{r} + 1\\right)}^{\\frac{1}{6} \\, \\sqrt{3} \\sqrt{-b^{2} + 1} - b + 1} \\sin\\left({\\theta}\\right)^{2} + 1$"
      ],
      "text/plain": [
       "\\Lambda =  13/48*B_0^2*r^2*(-r_s/r + 1)^(1/6*sqrt(3)*sqrt(-b^2 + 1) - b + 1)*sin(th)^2 + 1"
      ]
     },
     "metadata": {},
     "output_type": "display_data"
    }
   ],
   "source": [
    "Lambda = function('Lambda')\n",
    "Delta = function('Delta')\n",
    "\n",
    "Lamb(r, th) = 1 + 13/48 * B**2 * (r*sin(th))**2 * (1- r_s/r)**(1/6 * sqrt(3) * sqrt(1-b**2)-b+1)\n",
    "Delt(r) = (1- r_s/r)**(1/6 * sqrt(3) * sqrt(1-b**2))\n",
    "\n",
    "if elec: \n",
    "    g[0,0] = -(1- r_s/r)**b / Delta(r)**2 * Lambda(r,th)**(28/13)\n",
    "    g[1,1] = 1 / (1- r_s/r)**b / Delta(r)**2 * Lambda(r,th)**(28/13)\n",
    "    g[2,2] = r**2 * (1- r_s/r)**(1-b) / Delta(r)**2 * Lambda(r,th)**(28/13)\n",
    "    g[3,3] =  (r*sin(th))**2 * (1- r_s/r)**(1-b) / Delta(r)**2 / Lambda(r,th)**(20/13)\n",
    "\n",
    "else:\n",
    "    g[0,0] = -(1- r_s/r)**b * Delta(r)**2 * Lambda(r,th)**(20/13)\n",
    "    g[1,1] = 1 / (1- r_s/r)**b * Delta(r)**2 * Lambda(r,th)**(20/13)\n",
    "    g[2,2] = r**2 * (1- r_s/r)**(1-b) * Delta(r)**2 * Lambda(r,th)**(20/13)\n",
    "    g[3,3] =  (r*sin(th))**2 * (1- r_s/r)**(1-b) * Delta(r)**2 * Lambda(r,th)**(28/13)\n",
    "\n",
    "show(g.display())\n",
    "show(LatexExpr(r'\\Delta = '), Delt(r))\n",
    "show(LatexExpr(r'\\Lambda = '), Lamb(r, th))"
   ]
  },
  {
   "cell_type": "markdown",
   "id": "1a1c0560-690a-4109-8653-1af21ef69532",
   "metadata": {},
   "source": [
    "# II. Null Complex tetrad"
   ]
  },
  {
   "cell_type": "code",
   "execution_count": 11,
   "id": "3ff6b92d-f096-4133-8afe-08c659d7d920",
   "metadata": {},
   "outputs": [],
   "source": [
    "Ld = M.one_form({XY.frame(): [sqrt(-g[0,0]/2), sqrt(g[1,1]/2), 0, 0]})\n",
    "Nd = M.one_form({XY.frame(): [sqrt(-g[0,0]/2), -sqrt(g[1,1]/2), 0, 0]})\n",
    "Md = M.one_form({XY.frame(): [0, 0, sqrt(g[2,2]/2), i*sqrt(g[3,3]/2)]})\n",
    "Mbar_d = M.one_form({XY.frame(): [0, 0, sqrt(g[2,2]/2), -i*sqrt(g[3,3]/2)]}) \n",
    "\n",
    "L, N, Mr, Mbar = Ld.up(g), Nd.up(g), Md.up(g), Mbar_d.up(g)"
   ]
  },
  {
   "cell_type": "code",
   "execution_count": 12,
   "id": "a7e71c99-e35d-4edc-9356-7fb2addb2062",
   "metadata": {},
   "outputs": [],
   "source": [
    "l_scalar, n_scalar, m_scalar, mbar_scalar =  (Ld.contract(0, L, 0)).expr(), (Nd.contract(0, N, 0)).expr(),\\\n",
    "                                            (Md.contract(0, Mr, 0)).expr(), (Mbar_d.contract(0, Mbar, 0)).expr()\n",
    "lm, mn,ln, mbarm = (Ld.contract(0, Mr, 0)).expr(), (Nd.contract(0, Mr, 0)).expr(),\\\n",
    "                                            (Nd.contract(0, L, 0)).expr(), (Mbar_d.contract(0, Mr, 0)).expr()"
   ]
  },
  {
   "cell_type": "markdown",
   "id": "90a088b6-951a-4904-bc9d-df1397ed4939",
   "metadata": {},
   "source": [
    "Let's verify that the nul complex tetrad components satisfy the othogonality and normalization conditions"
   ]
  },
  {
   "cell_type": "code",
   "execution_count": 13,
   "id": "a4fdcb43-8ed2-4cc7-9164-df8badb709b2",
   "metadata": {},
   "outputs": [
    {
     "data": {
      "text/html": [
       "<html>\\(\\displaystyle l^{\\mu}l_{\\mu} =  0 \\hspace{0.5cm} n^{\\mu}n_{\\mu} =  0 \\hspace{0.5cm} m^{\\mu}m_{\\mu} =  0 \\hspace{0.5cm} \\bar{m}^{\\mu}\\bar{m}_{\\mu} =  0\\)</html>"
      ],
      "text/latex": [
       "$\\displaystyle l^{\\mu}l_{\\mu} =  0 \\hspace{0.5cm} n^{\\mu}n_{\\mu} =  0 \\hspace{0.5cm} m^{\\mu}m_{\\mu} =  0 \\hspace{0.5cm} \\bar{m}^{\\mu}\\bar{m}_{\\mu} =  0$"
      ],
      "text/plain": [
       "l^{\\mu}l_{\\mu} =  0 \\hspace{0.5cm} n^{\\mu}n_{\\mu} =  0 \\hspace{0.5cm} m^{\\mu}m_{\\mu} =  0 \\hspace{0.5cm} \\bar{m}^{\\mu}\\bar{m}_{\\mu} =  0"
      ]
     },
     "metadata": {},
     "output_type": "display_data"
    },
    {
     "data": {
      "text/html": [
       "<html>\\(\\displaystyle l^{\\mu}m_{\\mu} =  0 \\hspace{0.5cm} m^{\\mu}n_{\\mu} =  0\\)</html>"
      ],
      "text/latex": [
       "$\\displaystyle l^{\\mu}m_{\\mu} =  0 \\hspace{0.5cm} m^{\\mu}n_{\\mu} =  0$"
      ],
      "text/plain": [
       "l^{\\mu}m_{\\mu} =  0 \\hspace{0.5cm} m^{\\mu}n_{\\mu} =  0"
      ]
     },
     "metadata": {},
     "output_type": "display_data"
    },
    {
     "data": {
      "text/html": [
       "<html>\\(\\displaystyle l^{\\mu}n_{\\mu} =  -1 \\hspace{0.5cm} m^{\\mu}\\bar{m}_{\\mu} =  1\\)</html>"
      ],
      "text/latex": [
       "$\\displaystyle l^{\\mu}n_{\\mu} =  -1 \\hspace{0.5cm} m^{\\mu}\\bar{m}_{\\mu} =  1$"
      ],
      "text/plain": [
       "l^{\\mu}n_{\\mu} =  -1 \\hspace{0.5cm} m^{\\mu}\\bar{m}_{\\mu} =  1"
      ]
     },
     "metadata": {},
     "output_type": "display_data"
    }
   ],
   "source": [
    "show(LatexExpr(r'l^{\\mu}l_{\\mu} = '),l_scalar, LatexExpr(r'\\hspace{0.5cm} n^{\\mu}n_{\\mu} = '),\\\n",
    "     n_scalar, LatexExpr(r'\\hspace{0.5cm} m^{\\mu}m_{\\mu} = '),m_scalar, \\\n",
    "     LatexExpr(r'\\hspace{0.5cm} \\bar{m}^{\\mu}\\bar{m}_{\\mu} = '),mbar_scalar)\n",
    "\n",
    "show(LatexExpr(r'l^{\\mu}m_{\\mu} = '),lm, LatexExpr(r'\\hspace{0.5cm} m^{\\mu}n_{\\mu} = '),\\\n",
    "     mn)\n",
    "\n",
    "\n",
    "show(LatexExpr(r'l^{\\mu}n_{\\mu} = '),ln, LatexExpr(r'\\hspace{0.5cm} m^{\\mu}\\bar{m}_{\\mu} = '),mbarm)"
   ]
  },
  {
   "cell_type": "markdown",
   "id": "d6fa083d-fdb0-4e01-b8df-3feb89a144d5",
   "metadata": {},
   "source": [
    "Let's verify we recover the initial metric from the null complex tetrad components"
   ]
  },
  {
   "cell_type": "code",
   "execution_count": 14,
   "id": "9c461876-9fbc-4b9e-9e74-ed0de5b5b33a",
   "metadata": {},
   "outputs": [
    {
     "data": {
      "text/html": [
       "<html>\\(\\displaystyle g_{\\mu\\nu} =  \\left(\\begin{array}{rrrr}\n",
       "-\\frac{{\\left(r - r_{s}\\right)}^{b} \\Lambda\\left(r, {\\theta}\\right)^{\\frac{28}{13}}}{r^{b} \\Delta\\left(r\\right)^{2}} & 0 & 0 & 0 \\\\\n",
       "0 & \\frac{r^{b} \\Lambda\\left(r, {\\theta}\\right)^{\\frac{28}{13}}}{{\\left(r - r_{s}\\right)}^{b} \\Delta\\left(r\\right)^{2}} & 0 & 0 \\\\\n",
       "0 & 0 & -\\frac{{\\left(r^{b + 1} r_{s} \\Lambda\\left(r, {\\theta}\\right)^{2} - r^{b + 2} \\Lambda\\left(r, {\\theta}\\right)^{2}\\right)} \\Lambda\\left(r, {\\theta}\\right)^{\\frac{2}{13}}}{{\\left(r - r_{s}\\right)}^{b} \\Delta\\left(r\\right)^{2}} & 0 \\\\\n",
       "0 & 0 & 0 & -\\frac{{\\left(r^{b + 1} r_{s} - r^{b + 2}\\right)} \\sin\\left({\\theta}\\right)^{2}}{{\\left(r - r_{s}\\right)}^{b} \\Delta\\left(r\\right)^{2} \\Lambda\\left(r, {\\theta}\\right)^{\\frac{20}{13}}}\n",
       "\\end{array}\\right)\\)</html>"
      ],
      "text/latex": [
       "$\\displaystyle g_{\\mu\\nu} =  \\left(\\begin{array}{rrrr}\n",
       "-\\frac{{\\left(r - r_{s}\\right)}^{b} \\Lambda\\left(r, {\\theta}\\right)^{\\frac{28}{13}}}{r^{b} \\Delta\\left(r\\right)^{2}} & 0 & 0 & 0 \\\\\n",
       "0 & \\frac{r^{b} \\Lambda\\left(r, {\\theta}\\right)^{\\frac{28}{13}}}{{\\left(r - r_{s}\\right)}^{b} \\Delta\\left(r\\right)^{2}} & 0 & 0 \\\\\n",
       "0 & 0 & -\\frac{{\\left(r^{b + 1} r_{s} \\Lambda\\left(r, {\\theta}\\right)^{2} - r^{b + 2} \\Lambda\\left(r, {\\theta}\\right)^{2}\\right)} \\Lambda\\left(r, {\\theta}\\right)^{\\frac{2}{13}}}{{\\left(r - r_{s}\\right)}^{b} \\Delta\\left(r\\right)^{2}} & 0 \\\\\n",
       "0 & 0 & 0 & -\\frac{{\\left(r^{b + 1} r_{s} - r^{b + 2}\\right)} \\sin\\left({\\theta}\\right)^{2}}{{\\left(r - r_{s}\\right)}^{b} \\Delta\\left(r\\right)^{2} \\Lambda\\left(r, {\\theta}\\right)^{\\frac{20}{13}}}\n",
       "\\end{array}\\right)$"
      ],
      "text/plain": [
       "g_{\\mu\\nu} =  [                                                       -(r - r_s)^b*Lambda(r, th)^(28/13)/(r^b*Delta(r)^2)                                                                                                          0                                                                                                          0                                                                                                          0]\n",
       "[                                                                                                         0                                                         r^b*Lambda(r, th)^(28/13)/((r - r_s)^b*Delta(r)^2)                                                                                                          0                                                                                                          0]\n",
       "[                                                                                                         0                                                                                                          0 -(r^(b + 1)*r_s*Lambda(r, th)^2 - r^(b + 2)*Lambda(r, th)^2)*Lambda(r, th)^(2/13)/((r - r_s)^b*Delta(r)^2)                                                                                                          0]\n",
       "[                                                                                                         0                                                                                                          0                                                                                                          0                      -(r^(b + 1)*r_s - r^(b + 2))*sin(th)^2/((r - r_s)^b*Delta(r)^2*Lambda(r, th)^(20/13))]"
      ]
     },
     "metadata": {},
     "output_type": "display_data"
    }
   ],
   "source": [
    "for i in range(4):\n",
    "    g[i,i] = -2*Ld[i]*Nd[i] + 2*Md[i]*Mbar_d[i]\n",
    "show(LatexExpr(r'g_{\\mu\\nu} = '), g[:])"
   ]
  },
  {
   "cell_type": "markdown",
   "id": "d0758015-5e83-4b85-83e2-9da5d954b2cb",
   "metadata": {
    "tags": []
   },
   "source": [
    "# III. Computation of the Weyl tensor"
   ]
  },
  {
   "cell_type": "markdown",
   "id": "74c8930c-bd71-4863-af30-65c481d89494",
   "metadata": {},
   "source": [
    "\\begin{eqnarray}\n",
    "C_{abcd} &=& R_{abcd} - \\frac{1}{2}(g_{a[c}R_{d]b} - g_{b[c}R_{d]a}) + \\frac{1}{6}R g_{a[c}g_{d]b}\\\\\n",
    "&=& R_{abcd} - \\frac{1}{2}\\left(R_{ac}.g_{bd}-R_{ad}.g_{bc}+R_{bd}.g_{ac}-R_{bc}.g_{ad}\\right)+\\frac{1}{6}\\left(g_{ac}g_{bd}-g_{ad}g_{bc}\\right)R\n",
    "\\end{eqnarray}"
   ]
  },
  {
   "cell_type": "markdown",
   "id": "a561ec79-4f99-4762-be15-f27447140727",
   "metadata": {},
   "source": [
    "## II.1. The Riemann and Ricci tensors"
   ]
  },
  {
   "cell_type": "code",
   "execution_count": 15,
   "id": "613cd1ee-ac17-44fe-bd79-8a68001381de",
   "metadata": {},
   "outputs": [],
   "source": [
    "ER_riem = g.riemann()\n",
    "ER_riem = ER_riem.down(g,0)\n",
    "ER_riem = TensorWithIndices(ER_riem, '_abcd')"
   ]
  },
  {
   "cell_type": "code",
   "execution_count": 16,
   "id": "584ef6c2-9acf-441c-bf97-232b7d4ab55c",
   "metadata": {},
   "outputs": [],
   "source": [
    "ER_ricc = g.ricci()"
   ]
  },
  {
   "cell_type": "code",
   "execution_count": 17,
   "id": "3303a223-e676-4b0f-bb61-645735f1e0ee",
   "metadata": {},
   "outputs": [],
   "source": [
    "gu = g.up(g)"
   ]
  },
  {
   "cell_type": "code",
   "execution_count": 18,
   "id": "a58ea09d-1d2d-48d6-b123-545f455930b8",
   "metadata": {},
   "outputs": [],
   "source": [
    "ER_rsc = gu['^ab']*ER_ricc['_ab']"
   ]
  },
  {
   "cell_type": "markdown",
   "id": "279c8915-0dad-42f7-980e-dbc33de6fede",
   "metadata": {},
   "source": [
    "## II.2. Antisymmetrization"
   ]
  },
  {
   "cell_type": "markdown",
   "id": "b28ff323-c852-4438-8b99-55f2bacb88de",
   "metadata": {},
   "source": [
    "1. Let's compute $Rg_{a[c}g_{d]b}$"
   ]
  },
  {
   "cell_type": "code",
   "execution_count": 19,
   "id": "5f4f4f1b-4cb9-4b4e-a553-144c4bd32955",
   "metadata": {},
   "outputs": [],
   "source": [
    "g_prod = ER_rsc*g*g\n",
    "gp_anti = g_prod['_acbd']-g_prod['_adbc']"
   ]
  },
  {
   "cell_type": "markdown",
   "id": "48aad341-29fe-4bc5-84f7-e6f8fd1e0a25",
   "metadata": {},
   "source": [
    "antisymmetrize$\\lbrace1,2\\rbrace(g_{ac}g_{bd})\\rightarrow \\frac{1}{2}\\left(g_{ac}g_{bd}-g_{ad}g_{bc}\\right)=\\frac{1}{2}g_{a[c}g_{b]d}$"
   ]
  },
  {
   "cell_type": "markdown",
   "id": "7f397a5b-3238-4933-9e9a-b8bafd54cb2e",
   "metadata": {},
   "source": [
    "2. Let's now compute $g_{a[c}R_{d]b} - g_{b[c}R_{d]a}$"
   ]
  },
  {
   "cell_type": "code",
   "execution_count": 20,
   "id": "e9f1db90-b510-48b5-bccd-16def264158f",
   "metadata": {},
   "outputs": [],
   "source": [
    "gR = g*ER_ricc\n",
    "gR_prod = gR['_acbd']-gR['_adbc']+gR['_bdac']-gR['_bcad']"
   ]
  },
  {
   "cell_type": "markdown",
   "id": "43667a5e-70b3-430f-94a9-0f46a81e325e",
   "metadata": {
    "tags": []
   },
   "source": [
    "# VI. The Weyl tensor"
   ]
  },
  {
   "cell_type": "code",
   "execution_count": 21,
   "id": "9277fe57-a2be-485c-8d7c-b676878c7c32",
   "metadata": {},
   "outputs": [],
   "source": [
    "ER_Weyl = ER_riem-(1/2)*gR_prod+(1/6)*gp_anti"
   ]
  },
  {
   "cell_type": "code",
   "execution_count": 22,
   "id": "5e798911-de0d-4ec5-b346-cb55674b36c3",
   "metadata": {},
   "outputs": [
    {
     "data": {
      "text/html": [
       "<html>\\(\\displaystyle \\verb|Substitution|\\verb| |\\verb|Lambda:|\\verb| |\\verb|done|\\)</html>"
      ],
      "text/latex": [
       "$\\displaystyle \\verb|Substitution|\\verb| |\\verb|Lambda:|\\verb| |\\verb|done|$"
      ],
      "text/plain": [
       "'Substitution Lambda: done'"
      ]
     },
     "metadata": {},
     "output_type": "display_data"
    },
    {
     "data": {
      "text/html": [
       "<html>\\(\\displaystyle \\verb|Substitution|\\verb| |\\verb|Delta:|\\verb| |\\verb|done|\\)</html>"
      ],
      "text/latex": [
       "$\\displaystyle \\verb|Substitution|\\verb| |\\verb|Delta:|\\verb| |\\verb|done|$"
      ],
      "text/plain": [
       "'Substitution Delta: done'"
      ]
     },
     "metadata": {},
     "output_type": "display_data"
    },
    {
     "data": {
      "text/html": [
       "<html>\\(\\displaystyle C_{0101} =  \\frac{3^{\\frac{11}{13}} 2^{\\frac{5}{13}} {\\left(244 \\, \\sqrt{3} B_{0}^{4} \\sqrt{b + 1} b \\sqrt{-b + 1} {\\left(r - r_{s}\\right)}^{\\frac{1}{3} \\, \\sqrt{3} \\sqrt{b + 1} \\sqrt{-b + 1}} r^{2 \\, b + 2} r_{s}^{4} \\sin\\left({\\theta}\\right)^{4} - 502 \\, B_{0}^{4} b^{2} {\\left(r - r_{s}\\right)}^{\\frac{1}{3} \\, \\sqrt{3} \\sqrt{b + 1} \\sqrt{-b + 1}} r^{2 \\, b + 2} r_{s}^{4} \\sin\\left({\\theta}\\right)^{4} - 488 \\, \\sqrt{3} B_{0}^{4} \\sqrt{b + 1} b \\sqrt{-b + 1} {\\left(r - r_{s}\\right)}^{\\frac{1}{3} \\, \\sqrt{3} \\sqrt{b + 1} \\sqrt{-b + 1}} r^{2 \\, b + 3} r_{s}^{3} \\sin\\left({\\theta}\\right)^{4} + 244 \\, \\sqrt{3} B_{0}^{4} \\sqrt{b + 1} \\sqrt{-b + 1} {\\left(r - r_{s}\\right)}^{\\frac{1}{3} \\, \\sqrt{3} \\sqrt{b + 1} \\sqrt{-b + 1}} r^{2 \\, b + 2} r_{s}^{4} \\sin\\left({\\theta}\\right)^{4} + 1004 \\, B_{0}^{4} b^{2} {\\left(r - r_{s}\\right)}^{\\frac{1}{3} \\, \\sqrt{3} \\sqrt{b + 1} \\sqrt{-b + 1}} r^{2 \\, b + 3} r_{s}^{3} \\sin\\left({\\theta}\\right)^{4} - 1269 \\, B_{0}^{4} b {\\left(r - r_{s}\\right)}^{\\frac{1}{3} \\, \\sqrt{3} \\sqrt{b + 1} \\sqrt{-b + 1}} r^{2 \\, b + 2} r_{s}^{4} \\sin\\left({\\theta}\\right)^{4} + 244 \\, \\sqrt{3} B_{0}^{4} \\sqrt{b + 1} b \\sqrt{-b + 1} {\\left(r - r_{s}\\right)}^{\\frac{1}{3} \\, \\sqrt{3} \\sqrt{b + 1} \\sqrt{-b + 1}} r^{2 \\, b + 4} r_{s}^{2} \\sin\\left({\\theta}\\right)^{4} - 976 \\, \\sqrt{3} B_{0}^{4} \\sqrt{b + 1} \\sqrt{-b + 1} {\\left(r - r_{s}\\right)}^{\\frac{1}{3} \\, \\sqrt{3} \\sqrt{b + 1} \\sqrt{-b + 1}} r^{2 \\, b + 3} r_{s}^{3} \\sin\\left({\\theta}\\right)^{4} - 502 \\, B_{0}^{4} b^{2} {\\left(r - r_{s}\\right)}^{\\frac{1}{3} \\, \\sqrt{3} \\sqrt{b + 1} \\sqrt{-b + 1}} r^{2 \\, b + 4} r_{s}^{2} \\sin\\left({\\theta}\\right)^{4} + 5076 \\, B_{0}^{4} b {\\left(r - r_{s}\\right)}^{\\frac{1}{3} \\, \\sqrt{3} \\sqrt{b + 1} \\sqrt{-b + 1}} r^{2 \\, b + 3} r_{s}^{3} \\sin\\left({\\theta}\\right)^{4} - 767 \\, B_{0}^{4} {\\left(r - r_{s}\\right)}^{\\frac{1}{3} \\, \\sqrt{3} \\sqrt{b + 1} \\sqrt{-b + 1}} r^{2 \\, b + 2} r_{s}^{4} \\sin\\left({\\theta}\\right)^{4} + 1220 \\, \\sqrt{3} B_{0}^{4} \\sqrt{b + 1} \\sqrt{-b + 1} {\\left(r - r_{s}\\right)}^{\\frac{1}{3} \\, \\sqrt{3} \\sqrt{b + 1} \\sqrt{-b + 1}} r^{2 \\, b + 4} r_{s}^{2} \\sin\\left({\\theta}\\right)^{4} - 3360 \\, B_{0}^{4} {\\left(r - r_{s}\\right)}^{\\frac{1}{3} \\, \\sqrt{3} \\sqrt{b + 1} \\sqrt{-b + 1}} r^{2 \\, b + 3} r_{s}^{3} \\cos\\left({\\theta}\\right)^{2} \\sin\\left({\\theta}\\right)^{2} - 6345 \\, B_{0}^{4} b {\\left(r - r_{s}\\right)}^{\\frac{1}{3} \\, \\sqrt{3} \\sqrt{b + 1} \\sqrt{-b + 1}} r^{2 \\, b + 4} r_{s}^{2} \\sin\\left({\\theta}\\right)^{4} + 3214 \\, B_{0}^{4} {\\left(r - r_{s}\\right)}^{\\frac{1}{3} \\, \\sqrt{3} \\sqrt{b + 1} \\sqrt{-b + 1}} r^{2 \\, b + 3} r_{s}^{3} \\sin\\left({\\theta}\\right)^{4} - 488 \\, \\sqrt{3} B_{0}^{4} \\sqrt{b + 1} \\sqrt{-b + 1} {\\left(r - r_{s}\\right)}^{\\frac{1}{3} \\, \\sqrt{3} \\sqrt{b + 1} \\sqrt{-b + 1}} r^{2 \\, b + 5} r_{s} \\sin\\left({\\theta}\\right)^{4} + 10080 \\, B_{0}^{4} {\\left(r - r_{s}\\right)}^{\\frac{1}{3} \\, \\sqrt{3} \\sqrt{b + 1} \\sqrt{-b + 1}} r^{2 \\, b + 4} r_{s}^{2} \\cos\\left({\\theta}\\right)^{2} \\sin\\left({\\theta}\\right)^{2} + 2538 \\, B_{0}^{4} b {\\left(r - r_{s}\\right)}^{\\frac{1}{3} \\, \\sqrt{3} \\sqrt{b + 1} \\sqrt{-b + 1}} r^{2 \\, b + 5} r_{s} \\sin\\left({\\theta}\\right)^{4} - 5807 \\, B_{0}^{4} {\\left(r - r_{s}\\right)}^{\\frac{1}{3} \\, \\sqrt{3} \\sqrt{b + 1} \\sqrt{-b + 1}} r^{2 \\, b + 4} r_{s}^{2} \\sin\\left({\\theta}\\right)^{4} + 192 \\, \\sqrt{3} B_{0}^{2} \\sqrt{b + 1} b \\sqrt{-b + 1} {\\left(r - r_{s}\\right)}^{\\frac{1}{6} \\, \\sqrt{3} \\sqrt{b + 1} \\sqrt{-b + 1} + b} r^{\\frac{1}{6} \\, \\sqrt{3} \\sqrt{b + 1} \\sqrt{-b + 1} + b + 1} r_{s}^{3} \\sin\\left({\\theta}\\right)^{2} - 2400 \\, B_{0}^{2} b^{2} {\\left(r - r_{s}\\right)}^{\\frac{1}{6} \\, \\sqrt{3} \\sqrt{b + 1} \\sqrt{-b + 1} + b} r^{\\frac{1}{6} \\, \\sqrt{3} \\sqrt{b + 1} \\sqrt{-b + 1} + b + 1} r_{s}^{3} \\sin\\left({\\theta}\\right)^{2} - 10080 \\, B_{0}^{4} {\\left(r - r_{s}\\right)}^{\\frac{1}{3} \\, \\sqrt{3} \\sqrt{b + 1} \\sqrt{-b + 1}} r^{2 \\, b + 5} r_{s} \\cos\\left({\\theta}\\right)^{2} \\sin\\left({\\theta}\\right)^{2} + 5040 \\, B_{0}^{4} {\\left(r - r_{s}\\right)}^{\\frac{1}{3} \\, \\sqrt{3} \\sqrt{b + 1} \\sqrt{-b + 1}} r^{2 \\, b + 5} r_{s} \\sin\\left({\\theta}\\right)^{4} - 192 \\, \\sqrt{3} B_{0}^{2} \\sqrt{b + 1} b \\sqrt{-b + 1} {\\left(r - r_{s}\\right)}^{\\frac{1}{6} \\, \\sqrt{3} \\sqrt{b + 1} \\sqrt{-b + 1} + b} r^{\\frac{1}{6} \\, \\sqrt{3} \\sqrt{b + 1} \\sqrt{-b + 1} + b + 2} r_{s}^{2} \\sin\\left({\\theta}\\right)^{2} + 192 \\, \\sqrt{3} B_{0}^{2} \\sqrt{b + 1} \\sqrt{-b + 1} {\\left(r - r_{s}\\right)}^{\\frac{1}{6} \\, \\sqrt{3} \\sqrt{b + 1} \\sqrt{-b + 1} + b} r^{\\frac{1}{6} \\, \\sqrt{3} \\sqrt{b + 1} \\sqrt{-b + 1} + b + 1} r_{s}^{3} \\sin\\left({\\theta}\\right)^{2} + 2400 \\, B_{0}^{2} b^{2} {\\left(r - r_{s}\\right)}^{\\frac{1}{6} \\, \\sqrt{3} \\sqrt{b + 1} \\sqrt{-b + 1} + b} r^{\\frac{1}{6} \\, \\sqrt{3} \\sqrt{b + 1} \\sqrt{-b + 1} + b + 2} r_{s}^{2} \\sin\\left({\\theta}\\right)^{2} - 3744 \\, B_{0}^{2} b {\\left(r - r_{s}\\right)}^{\\frac{1}{6} \\, \\sqrt{3} \\sqrt{b + 1} \\sqrt{-b + 1} + b} r^{\\frac{1}{6} \\, \\sqrt{3} \\sqrt{b + 1} \\sqrt{-b + 1} + b + 1} r_{s}^{3} \\sin\\left({\\theta}\\right)^{2} + 3360 \\, B_{0}^{4} {\\left(r - r_{s}\\right)}^{\\frac{1}{3} \\, \\sqrt{3} \\sqrt{b + 1} \\sqrt{-b + 1}} r^{2 \\, b + 6} \\cos\\left({\\theta}\\right)^{2} \\sin\\left({\\theta}\\right)^{2} - 1680 \\, B_{0}^{4} {\\left(r - r_{s}\\right)}^{\\frac{1}{3} \\, \\sqrt{3} \\sqrt{b + 1} \\sqrt{-b + 1}} r^{2 \\, b + 6} \\sin\\left({\\theta}\\right)^{4} - 576 \\, \\sqrt{3} B_{0}^{2} \\sqrt{b + 1} \\sqrt{-b + 1} {\\left(r - r_{s}\\right)}^{\\frac{1}{6} \\, \\sqrt{3} \\sqrt{b + 1} \\sqrt{-b + 1} + b} r^{\\frac{1}{6} \\, \\sqrt{3} \\sqrt{b + 1} \\sqrt{-b + 1} + b + 2} r_{s}^{2} \\sin\\left({\\theta}\\right)^{2} + 11232 \\, B_{0}^{2} b {\\left(r - r_{s}\\right)}^{\\frac{1}{6} \\, \\sqrt{3} \\sqrt{b + 1} \\sqrt{-b + 1} + b} r^{\\frac{1}{6} \\, \\sqrt{3} \\sqrt{b + 1} \\sqrt{-b + 1} + b + 2} r_{s}^{2} \\sin\\left({\\theta}\\right)^{2} - 1344 \\, B_{0}^{2} {\\left(r - r_{s}\\right)}^{\\frac{1}{6} \\, \\sqrt{3} \\sqrt{b + 1} \\sqrt{-b + 1} + b} r^{\\frac{1}{6} \\, \\sqrt{3} \\sqrt{b + 1} \\sqrt{-b + 1} + b + 1} r_{s}^{3} \\sin\\left({\\theta}\\right)^{2} + 384 \\, \\sqrt{3} B_{0}^{2} \\sqrt{b + 1} \\sqrt{-b + 1} {\\left(r - r_{s}\\right)}^{\\frac{1}{6} \\, \\sqrt{3} \\sqrt{b + 1} \\sqrt{-b + 1} + b} r^{\\frac{1}{6} \\, \\sqrt{3} \\sqrt{b + 1} \\sqrt{-b + 1} + b + 3} r_{s} \\sin\\left({\\theta}\\right)^{2} - 13824 \\, B_{0}^{2} {\\left(r - r_{s}\\right)}^{\\frac{1}{6} \\, \\sqrt{3} \\sqrt{b + 1} \\sqrt{-b + 1} + b} r^{\\frac{1}{6} \\, \\sqrt{3} \\sqrt{b + 1} \\sqrt{-b + 1} + b + 2} r_{s}^{2} \\cos\\left({\\theta}\\right)^{2} - 7488 \\, B_{0}^{2} b {\\left(r - r_{s}\\right)}^{\\frac{1}{6} \\, \\sqrt{3} \\sqrt{b + 1} \\sqrt{-b + 1} + b} r^{\\frac{1}{6} \\, \\sqrt{3} \\sqrt{b + 1} \\sqrt{-b + 1} + b + 3} r_{s} \\sin\\left({\\theta}\\right)^{2} + 8256 \\, B_{0}^{2} {\\left(r - r_{s}\\right)}^{\\frac{1}{6} \\, \\sqrt{3} \\sqrt{b + 1} \\sqrt{-b + 1} + b} r^{\\frac{1}{6} \\, \\sqrt{3} \\sqrt{b + 1} \\sqrt{-b + 1} + b + 2} r_{s}^{2} \\sin\\left({\\theta}\\right)^{2} + 27648 \\, B_{0}^{2} {\\left(r - r_{s}\\right)}^{\\frac{1}{6} \\, \\sqrt{3} \\sqrt{b + 1} \\sqrt{-b + 1} + b} r^{\\frac{1}{6} \\, \\sqrt{3} \\sqrt{b + 1} \\sqrt{-b + 1} + b + 3} r_{s} \\cos\\left({\\theta}\\right)^{2} - 13824 \\, B_{0}^{2} {\\left(r - r_{s}\\right)}^{\\frac{1}{6} \\, \\sqrt{3} \\sqrt{b + 1} \\sqrt{-b + 1} + b} r^{\\frac{1}{6} \\, \\sqrt{3} \\sqrt{b + 1} \\sqrt{-b + 1} + b + 3} r_{s} \\sin\\left({\\theta}\\right)^{2} + 4608 \\, b^{2} {\\left(r - r_{s}\\right)}^{2 \\, b} r^{\\frac{1}{3} \\, \\sqrt{3} \\sqrt{b + 1} \\sqrt{-b + 1}} r_{s}^{2} - 13824 \\, B_{0}^{2} {\\left(r - r_{s}\\right)}^{\\frac{1}{6} \\, \\sqrt{3} \\sqrt{b + 1} \\sqrt{-b + 1} + b} r^{\\frac{1}{6} \\, \\sqrt{3} \\sqrt{b + 1} \\sqrt{-b + 1} + b + 4} \\cos\\left({\\theta}\\right)^{2} + 6912 \\, B_{0}^{2} {\\left(r - r_{s}\\right)}^{\\frac{1}{6} \\, \\sqrt{3} \\sqrt{b + 1} \\sqrt{-b + 1} + b} r^{\\frac{1}{6} \\, \\sqrt{3} \\sqrt{b + 1} \\sqrt{-b + 1} + b + 4} \\sin\\left({\\theta}\\right)^{2} + 6912 \\, b {\\left(r - r_{s}\\right)}^{2 \\, b} r^{\\frac{1}{3} \\, \\sqrt{3} \\sqrt{b + 1} \\sqrt{-b + 1}} r_{s}^{2} - 13824 \\, b {\\left(r - r_{s}\\right)}^{2 \\, b} r^{\\frac{1}{3} \\, \\sqrt{3} \\sqrt{b + 1} \\sqrt{-b + 1} + 1} r_{s} + 2304 \\, {\\left(r - r_{s}\\right)}^{2 \\, b} r^{\\frac{1}{3} \\, \\sqrt{3} \\sqrt{b + 1} \\sqrt{-b + 1}} r_{s}^{2}\\right)} {\\left(-13 \\, {\\left(B_{0}^{2} {\\left(r - r_{s}\\right)}^{\\frac{1}{6} \\, \\sqrt{3} \\sqrt{b + 1} \\sqrt{-b + 1}} r^{b + 1} r_{s} - B_{0}^{2} {\\left(r - r_{s}\\right)}^{\\frac{1}{6} \\, \\sqrt{3} \\sqrt{b + 1} \\sqrt{-b + 1}} r^{b + 2}\\right)} \\sin\\left({\\theta}\\right)^{2} + 48 \\, {\\left(r - r_{s}\\right)}^{b} r^{\\frac{1}{6} \\, \\sqrt{3} \\sqrt{b + 1} \\sqrt{-b + 1}}\\right)}^{\\frac{2}{13}} {\\left(r - r_{s}\\right)}^{-\\frac{1}{3} \\, \\sqrt{3} \\sqrt{b + 1} \\sqrt{-b + 1} - \\frac{15}{13} \\, b} r^{-\\frac{1}{39} \\, \\sqrt{3} \\sqrt{b + 1} \\sqrt{-b + 1} - b - 2}}{82944 \\, {\\left(r - r_{s}\\right)}^{2}}\\)</html>"
      ],
      "text/latex": [
       "$\\displaystyle C_{0101} =  \\frac{3^{\\frac{11}{13}} 2^{\\frac{5}{13}} {\\left(244 \\, \\sqrt{3} B_{0}^{4} \\sqrt{b + 1} b \\sqrt{-b + 1} {\\left(r - r_{s}\\right)}^{\\frac{1}{3} \\, \\sqrt{3} \\sqrt{b + 1} \\sqrt{-b + 1}} r^{2 \\, b + 2} r_{s}^{4} \\sin\\left({\\theta}\\right)^{4} - 502 \\, B_{0}^{4} b^{2} {\\left(r - r_{s}\\right)}^{\\frac{1}{3} \\, \\sqrt{3} \\sqrt{b + 1} \\sqrt{-b + 1}} r^{2 \\, b + 2} r_{s}^{4} \\sin\\left({\\theta}\\right)^{4} - 488 \\, \\sqrt{3} B_{0}^{4} \\sqrt{b + 1} b \\sqrt{-b + 1} {\\left(r - r_{s}\\right)}^{\\frac{1}{3} \\, \\sqrt{3} \\sqrt{b + 1} \\sqrt{-b + 1}} r^{2 \\, b + 3} r_{s}^{3} \\sin\\left({\\theta}\\right)^{4} + 244 \\, \\sqrt{3} B_{0}^{4} \\sqrt{b + 1} \\sqrt{-b + 1} {\\left(r - r_{s}\\right)}^{\\frac{1}{3} \\, \\sqrt{3} \\sqrt{b + 1} \\sqrt{-b + 1}} r^{2 \\, b + 2} r_{s}^{4} \\sin\\left({\\theta}\\right)^{4} + 1004 \\, B_{0}^{4} b^{2} {\\left(r - r_{s}\\right)}^{\\frac{1}{3} \\, \\sqrt{3} \\sqrt{b + 1} \\sqrt{-b + 1}} r^{2 \\, b + 3} r_{s}^{3} \\sin\\left({\\theta}\\right)^{4} - 1269 \\, B_{0}^{4} b {\\left(r - r_{s}\\right)}^{\\frac{1}{3} \\, \\sqrt{3} \\sqrt{b + 1} \\sqrt{-b + 1}} r^{2 \\, b + 2} r_{s}^{4} \\sin\\left({\\theta}\\right)^{4} + 244 \\, \\sqrt{3} B_{0}^{4} \\sqrt{b + 1} b \\sqrt{-b + 1} {\\left(r - r_{s}\\right)}^{\\frac{1}{3} \\, \\sqrt{3} \\sqrt{b + 1} \\sqrt{-b + 1}} r^{2 \\, b + 4} r_{s}^{2} \\sin\\left({\\theta}\\right)^{4} - 976 \\, \\sqrt{3} B_{0}^{4} \\sqrt{b + 1} \\sqrt{-b + 1} {\\left(r - r_{s}\\right)}^{\\frac{1}{3} \\, \\sqrt{3} \\sqrt{b + 1} \\sqrt{-b + 1}} r^{2 \\, b + 3} r_{s}^{3} \\sin\\left({\\theta}\\right)^{4} - 502 \\, B_{0}^{4} b^{2} {\\left(r - r_{s}\\right)}^{\\frac{1}{3} \\, \\sqrt{3} \\sqrt{b + 1} \\sqrt{-b + 1}} r^{2 \\, b + 4} r_{s}^{2} \\sin\\left({\\theta}\\right)^{4} + 5076 \\, B_{0}^{4} b {\\left(r - r_{s}\\right)}^{\\frac{1}{3} \\, \\sqrt{3} \\sqrt{b + 1} \\sqrt{-b + 1}} r^{2 \\, b + 3} r_{s}^{3} \\sin\\left({\\theta}\\right)^{4} - 767 \\, B_{0}^{4} {\\left(r - r_{s}\\right)}^{\\frac{1}{3} \\, \\sqrt{3} \\sqrt{b + 1} \\sqrt{-b + 1}} r^{2 \\, b + 2} r_{s}^{4} \\sin\\left({\\theta}\\right)^{4} + 1220 \\, \\sqrt{3} B_{0}^{4} \\sqrt{b + 1} \\sqrt{-b + 1} {\\left(r - r_{s}\\right)}^{\\frac{1}{3} \\, \\sqrt{3} \\sqrt{b + 1} \\sqrt{-b + 1}} r^{2 \\, b + 4} r_{s}^{2} \\sin\\left({\\theta}\\right)^{4} - 3360 \\, B_{0}^{4} {\\left(r - r_{s}\\right)}^{\\frac{1}{3} \\, \\sqrt{3} \\sqrt{b + 1} \\sqrt{-b + 1}} r^{2 \\, b + 3} r_{s}^{3} \\cos\\left({\\theta}\\right)^{2} \\sin\\left({\\theta}\\right)^{2} - 6345 \\, B_{0}^{4} b {\\left(r - r_{s}\\right)}^{\\frac{1}{3} \\, \\sqrt{3} \\sqrt{b + 1} \\sqrt{-b + 1}} r^{2 \\, b + 4} r_{s}^{2} \\sin\\left({\\theta}\\right)^{4} + 3214 \\, B_{0}^{4} {\\left(r - r_{s}\\right)}^{\\frac{1}{3} \\, \\sqrt{3} \\sqrt{b + 1} \\sqrt{-b + 1}} r^{2 \\, b + 3} r_{s}^{3} \\sin\\left({\\theta}\\right)^{4} - 488 \\, \\sqrt{3} B_{0}^{4} \\sqrt{b + 1} \\sqrt{-b + 1} {\\left(r - r_{s}\\right)}^{\\frac{1}{3} \\, \\sqrt{3} \\sqrt{b + 1} \\sqrt{-b + 1}} r^{2 \\, b + 5} r_{s} \\sin\\left({\\theta}\\right)^{4} + 10080 \\, B_{0}^{4} {\\left(r - r_{s}\\right)}^{\\frac{1}{3} \\, \\sqrt{3} \\sqrt{b + 1} \\sqrt{-b + 1}} r^{2 \\, b + 4} r_{s}^{2} \\cos\\left({\\theta}\\right)^{2} \\sin\\left({\\theta}\\right)^{2} + 2538 \\, B_{0}^{4} b {\\left(r - r_{s}\\right)}^{\\frac{1}{3} \\, \\sqrt{3} \\sqrt{b + 1} \\sqrt{-b + 1}} r^{2 \\, b + 5} r_{s} \\sin\\left({\\theta}\\right)^{4} - 5807 \\, B_{0}^{4} {\\left(r - r_{s}\\right)}^{\\frac{1}{3} \\, \\sqrt{3} \\sqrt{b + 1} \\sqrt{-b + 1}} r^{2 \\, b + 4} r_{s}^{2} \\sin\\left({\\theta}\\right)^{4} + 192 \\, \\sqrt{3} B_{0}^{2} \\sqrt{b + 1} b \\sqrt{-b + 1} {\\left(r - r_{s}\\right)}^{\\frac{1}{6} \\, \\sqrt{3} \\sqrt{b + 1} \\sqrt{-b + 1} + b} r^{\\frac{1}{6} \\, \\sqrt{3} \\sqrt{b + 1} \\sqrt{-b + 1} + b + 1} r_{s}^{3} \\sin\\left({\\theta}\\right)^{2} - 2400 \\, B_{0}^{2} b^{2} {\\left(r - r_{s}\\right)}^{\\frac{1}{6} \\, \\sqrt{3} \\sqrt{b + 1} \\sqrt{-b + 1} + b} r^{\\frac{1}{6} \\, \\sqrt{3} \\sqrt{b + 1} \\sqrt{-b + 1} + b + 1} r_{s}^{3} \\sin\\left({\\theta}\\right)^{2} - 10080 \\, B_{0}^{4} {\\left(r - r_{s}\\right)}^{\\frac{1}{3} \\, \\sqrt{3} \\sqrt{b + 1} \\sqrt{-b + 1}} r^{2 \\, b + 5} r_{s} \\cos\\left({\\theta}\\right)^{2} \\sin\\left({\\theta}\\right)^{2} + 5040 \\, B_{0}^{4} {\\left(r - r_{s}\\right)}^{\\frac{1}{3} \\, \\sqrt{3} \\sqrt{b + 1} \\sqrt{-b + 1}} r^{2 \\, b + 5} r_{s} \\sin\\left({\\theta}\\right)^{4} - 192 \\, \\sqrt{3} B_{0}^{2} \\sqrt{b + 1} b \\sqrt{-b + 1} {\\left(r - r_{s}\\right)}^{\\frac{1}{6} \\, \\sqrt{3} \\sqrt{b + 1} \\sqrt{-b + 1} + b} r^{\\frac{1}{6} \\, \\sqrt{3} \\sqrt{b + 1} \\sqrt{-b + 1} + b + 2} r_{s}^{2} \\sin\\left({\\theta}\\right)^{2} + 192 \\, \\sqrt{3} B_{0}^{2} \\sqrt{b + 1} \\sqrt{-b + 1} {\\left(r - r_{s}\\right)}^{\\frac{1}{6} \\, \\sqrt{3} \\sqrt{b + 1} \\sqrt{-b + 1} + b} r^{\\frac{1}{6} \\, \\sqrt{3} \\sqrt{b + 1} \\sqrt{-b + 1} + b + 1} r_{s}^{3} \\sin\\left({\\theta}\\right)^{2} + 2400 \\, B_{0}^{2} b^{2} {\\left(r - r_{s}\\right)}^{\\frac{1}{6} \\, \\sqrt{3} \\sqrt{b + 1} \\sqrt{-b + 1} + b} r^{\\frac{1}{6} \\, \\sqrt{3} \\sqrt{b + 1} \\sqrt{-b + 1} + b + 2} r_{s}^{2} \\sin\\left({\\theta}\\right)^{2} - 3744 \\, B_{0}^{2} b {\\left(r - r_{s}\\right)}^{\\frac{1}{6} \\, \\sqrt{3} \\sqrt{b + 1} \\sqrt{-b + 1} + b} r^{\\frac{1}{6} \\, \\sqrt{3} \\sqrt{b + 1} \\sqrt{-b + 1} + b + 1} r_{s}^{3} \\sin\\left({\\theta}\\right)^{2} + 3360 \\, B_{0}^{4} {\\left(r - r_{s}\\right)}^{\\frac{1}{3} \\, \\sqrt{3} \\sqrt{b + 1} \\sqrt{-b + 1}} r^{2 \\, b + 6} \\cos\\left({\\theta}\\right)^{2} \\sin\\left({\\theta}\\right)^{2} - 1680 \\, B_{0}^{4} {\\left(r - r_{s}\\right)}^{\\frac{1}{3} \\, \\sqrt{3} \\sqrt{b + 1} \\sqrt{-b + 1}} r^{2 \\, b + 6} \\sin\\left({\\theta}\\right)^{4} - 576 \\, \\sqrt{3} B_{0}^{2} \\sqrt{b + 1} \\sqrt{-b + 1} {\\left(r - r_{s}\\right)}^{\\frac{1}{6} \\, \\sqrt{3} \\sqrt{b + 1} \\sqrt{-b + 1} + b} r^{\\frac{1}{6} \\, \\sqrt{3} \\sqrt{b + 1} \\sqrt{-b + 1} + b + 2} r_{s}^{2} \\sin\\left({\\theta}\\right)^{2} + 11232 \\, B_{0}^{2} b {\\left(r - r_{s}\\right)}^{\\frac{1}{6} \\, \\sqrt{3} \\sqrt{b + 1} \\sqrt{-b + 1} + b} r^{\\frac{1}{6} \\, \\sqrt{3} \\sqrt{b + 1} \\sqrt{-b + 1} + b + 2} r_{s}^{2} \\sin\\left({\\theta}\\right)^{2} - 1344 \\, B_{0}^{2} {\\left(r - r_{s}\\right)}^{\\frac{1}{6} \\, \\sqrt{3} \\sqrt{b + 1} \\sqrt{-b + 1} + b} r^{\\frac{1}{6} \\, \\sqrt{3} \\sqrt{b + 1} \\sqrt{-b + 1} + b + 1} r_{s}^{3} \\sin\\left({\\theta}\\right)^{2} + 384 \\, \\sqrt{3} B_{0}^{2} \\sqrt{b + 1} \\sqrt{-b + 1} {\\left(r - r_{s}\\right)}^{\\frac{1}{6} \\, \\sqrt{3} \\sqrt{b + 1} \\sqrt{-b + 1} + b} r^{\\frac{1}{6} \\, \\sqrt{3} \\sqrt{b + 1} \\sqrt{-b + 1} + b + 3} r_{s} \\sin\\left({\\theta}\\right)^{2} - 13824 \\, B_{0}^{2} {\\left(r - r_{s}\\right)}^{\\frac{1}{6} \\, \\sqrt{3} \\sqrt{b + 1} \\sqrt{-b + 1} + b} r^{\\frac{1}{6} \\, \\sqrt{3} \\sqrt{b + 1} \\sqrt{-b + 1} + b + 2} r_{s}^{2} \\cos\\left({\\theta}\\right)^{2} - 7488 \\, B_{0}^{2} b {\\left(r - r_{s}\\right)}^{\\frac{1}{6} \\, \\sqrt{3} \\sqrt{b + 1} \\sqrt{-b + 1} + b} r^{\\frac{1}{6} \\, \\sqrt{3} \\sqrt{b + 1} \\sqrt{-b + 1} + b + 3} r_{s} \\sin\\left({\\theta}\\right)^{2} + 8256 \\, B_{0}^{2} {\\left(r - r_{s}\\right)}^{\\frac{1}{6} \\, \\sqrt{3} \\sqrt{b + 1} \\sqrt{-b + 1} + b} r^{\\frac{1}{6} \\, \\sqrt{3} \\sqrt{b + 1} \\sqrt{-b + 1} + b + 2} r_{s}^{2} \\sin\\left({\\theta}\\right)^{2} + 27648 \\, B_{0}^{2} {\\left(r - r_{s}\\right)}^{\\frac{1}{6} \\, \\sqrt{3} \\sqrt{b + 1} \\sqrt{-b + 1} + b} r^{\\frac{1}{6} \\, \\sqrt{3} \\sqrt{b + 1} \\sqrt{-b + 1} + b + 3} r_{s} \\cos\\left({\\theta}\\right)^{2} - 13824 \\, B_{0}^{2} {\\left(r - r_{s}\\right)}^{\\frac{1}{6} \\, \\sqrt{3} \\sqrt{b + 1} \\sqrt{-b + 1} + b} r^{\\frac{1}{6} \\, \\sqrt{3} \\sqrt{b + 1} \\sqrt{-b + 1} + b + 3} r_{s} \\sin\\left({\\theta}\\right)^{2} + 4608 \\, b^{2} {\\left(r - r_{s}\\right)}^{2 \\, b} r^{\\frac{1}{3} \\, \\sqrt{3} \\sqrt{b + 1} \\sqrt{-b + 1}} r_{s}^{2} - 13824 \\, B_{0}^{2} {\\left(r - r_{s}\\right)}^{\\frac{1}{6} \\, \\sqrt{3} \\sqrt{b + 1} \\sqrt{-b + 1} + b} r^{\\frac{1}{6} \\, \\sqrt{3} \\sqrt{b + 1} \\sqrt{-b + 1} + b + 4} \\cos\\left({\\theta}\\right)^{2} + 6912 \\, B_{0}^{2} {\\left(r - r_{s}\\right)}^{\\frac{1}{6} \\, \\sqrt{3} \\sqrt{b + 1} \\sqrt{-b + 1} + b} r^{\\frac{1}{6} \\, \\sqrt{3} \\sqrt{b + 1} \\sqrt{-b + 1} + b + 4} \\sin\\left({\\theta}\\right)^{2} + 6912 \\, b {\\left(r - r_{s}\\right)}^{2 \\, b} r^{\\frac{1}{3} \\, \\sqrt{3} \\sqrt{b + 1} \\sqrt{-b + 1}} r_{s}^{2} - 13824 \\, b {\\left(r - r_{s}\\right)}^{2 \\, b} r^{\\frac{1}{3} \\, \\sqrt{3} \\sqrt{b + 1} \\sqrt{-b + 1} + 1} r_{s} + 2304 \\, {\\left(r - r_{s}\\right)}^{2 \\, b} r^{\\frac{1}{3} \\, \\sqrt{3} \\sqrt{b + 1} \\sqrt{-b + 1}} r_{s}^{2}\\right)} {\\left(-13 \\, {\\left(B_{0}^{2} {\\left(r - r_{s}\\right)}^{\\frac{1}{6} \\, \\sqrt{3} \\sqrt{b + 1} \\sqrt{-b + 1}} r^{b + 1} r_{s} - B_{0}^{2} {\\left(r - r_{s}\\right)}^{\\frac{1}{6} \\, \\sqrt{3} \\sqrt{b + 1} \\sqrt{-b + 1}} r^{b + 2}\\right)} \\sin\\left({\\theta}\\right)^{2} + 48 \\, {\\left(r - r_{s}\\right)}^{b} r^{\\frac{1}{6} \\, \\sqrt{3} \\sqrt{b + 1} \\sqrt{-b + 1}}\\right)}^{\\frac{2}{13}} {\\left(r - r_{s}\\right)}^{-\\frac{1}{3} \\, \\sqrt{3} \\sqrt{b + 1} \\sqrt{-b + 1} - \\frac{15}{13} \\, b} r^{-\\frac{1}{39} \\, \\sqrt{3} \\sqrt{b + 1} \\sqrt{-b + 1} - b - 2}}{82944 \\, {\\left(r - r_{s}\\right)}^{2}}$"
      ],
      "text/plain": [
       "C_{0101} =  1/82944*3^(11/13)*2^(5/13)*(244*sqrt(3)*B_0^4*sqrt(b + 1)*b*sqrt(-b + 1)*(r - r_s)^(1/3*sqrt(3)*sqrt(b + 1)*sqrt(-b + 1))*r^(2*b + 2)*r_s^4*sin(th)^4 - 502*B_0^4*b^2*(r - r_s)^(1/3*sqrt(3)*sqrt(b + 1)*sqrt(-b + 1))*r^(2*b + 2)*r_s^4*sin(th)^4 - 488*sqrt(3)*B_0^4*sqrt(b + 1)*b*sqrt(-b + 1)*(r - r_s)^(1/3*sqrt(3)*sqrt(b + 1)*sqrt(-b + 1))*r^(2*b + 3)*r_s^3*sin(th)^4 + 244*sqrt(3)*B_0^4*sqrt(b + 1)*sqrt(-b + 1)*(r - r_s)^(1/3*sqrt(3)*sqrt(b + 1)*sqrt(-b + 1))*r^(2*b + 2)*r_s^4*sin(th)^4 + 1004*B_0^4*b^2*(r - r_s)^(1/3*sqrt(3)*sqrt(b + 1)*sqrt(-b + 1))*r^(2*b + 3)*r_s^3*sin(th)^4 - 1269*B_0^4*b*(r - r_s)^(1/3*sqrt(3)*sqrt(b + 1)*sqrt(-b + 1))*r^(2*b + 2)*r_s^4*sin(th)^4 + 244*sqrt(3)*B_0^4*sqrt(b + 1)*b*sqrt(-b + 1)*(r - r_s)^(1/3*sqrt(3)*sqrt(b + 1)*sqrt(-b + 1))*r^(2*b + 4)*r_s^2*sin(th)^4 - 976*sqrt(3)*B_0^4*sqrt(b + 1)*sqrt(-b + 1)*(r - r_s)^(1/3*sqrt(3)*sqrt(b + 1)*sqrt(-b + 1))*r^(2*b + 3)*r_s^3*sin(th)^4 - 502*B_0^4*b^2*(r - r_s)^(1/3*sqrt(3)*sqrt(b + 1)*sqrt(-b + 1))*r^(2*b + 4)*r_s^2*sin(th)^4 + 5076*B_0^4*b*(r - r_s)^(1/3*sqrt(3)*sqrt(b + 1)*sqrt(-b + 1))*r^(2*b + 3)*r_s^3*sin(th)^4 - 767*B_0^4*(r - r_s)^(1/3*sqrt(3)*sqrt(b + 1)*sqrt(-b + 1))*r^(2*b + 2)*r_s^4*sin(th)^4 + 1220*sqrt(3)*B_0^4*sqrt(b + 1)*sqrt(-b + 1)*(r - r_s)^(1/3*sqrt(3)*sqrt(b + 1)*sqrt(-b + 1))*r^(2*b + 4)*r_s^2*sin(th)^4 - 3360*B_0^4*(r - r_s)^(1/3*sqrt(3)*sqrt(b + 1)*sqrt(-b + 1))*r^(2*b + 3)*r_s^3*cos(th)^2*sin(th)^2 - 6345*B_0^4*b*(r - r_s)^(1/3*sqrt(3)*sqrt(b + 1)*sqrt(-b + 1))*r^(2*b + 4)*r_s^2*sin(th)^4 + 3214*B_0^4*(r - r_s)^(1/3*sqrt(3)*sqrt(b + 1)*sqrt(-b + 1))*r^(2*b + 3)*r_s^3*sin(th)^4 - 488*sqrt(3)*B_0^4*sqrt(b + 1)*sqrt(-b + 1)*(r - r_s)^(1/3*sqrt(3)*sqrt(b + 1)*sqrt(-b + 1))*r^(2*b + 5)*r_s*sin(th)^4 + 10080*B_0^4*(r - r_s)^(1/3*sqrt(3)*sqrt(b + 1)*sqrt(-b + 1))*r^(2*b + 4)*r_s^2*cos(th)^2*sin(th)^2 + 2538*B_0^4*b*(r - r_s)^(1/3*sqrt(3)*sqrt(b + 1)*sqrt(-b + 1))*r^(2*b + 5)*r_s*sin(th)^4 - 5807*B_0^4*(r - r_s)^(1/3*sqrt(3)*sqrt(b + 1)*sqrt(-b + 1))*r^(2*b + 4)*r_s^2*sin(th)^4 + 192*sqrt(3)*B_0^2*sqrt(b + 1)*b*sqrt(-b + 1)*(r - r_s)^(1/6*sqrt(3)*sqrt(b + 1)*sqrt(-b + 1) + b)*r^(1/6*sqrt(3)*sqrt(b + 1)*sqrt(-b + 1) + b + 1)*r_s^3*sin(th)^2 - 2400*B_0^2*b^2*(r - r_s)^(1/6*sqrt(3)*sqrt(b + 1)*sqrt(-b + 1) + b)*r^(1/6*sqrt(3)*sqrt(b + 1)*sqrt(-b + 1) + b + 1)*r_s^3*sin(th)^2 - 10080*B_0^4*(r - r_s)^(1/3*sqrt(3)*sqrt(b + 1)*sqrt(-b + 1))*r^(2*b + 5)*r_s*cos(th)^2*sin(th)^2 + 5040*B_0^4*(r - r_s)^(1/3*sqrt(3)*sqrt(b + 1)*sqrt(-b + 1))*r^(2*b + 5)*r_s*sin(th)^4 - 192*sqrt(3)*B_0^2*sqrt(b + 1)*b*sqrt(-b + 1)*(r - r_s)^(1/6*sqrt(3)*sqrt(b + 1)*sqrt(-b + 1) + b)*r^(1/6*sqrt(3)*sqrt(b + 1)*sqrt(-b + 1) + b + 2)*r_s^2*sin(th)^2 + 192*sqrt(3)*B_0^2*sqrt(b + 1)*sqrt(-b + 1)*(r - r_s)^(1/6*sqrt(3)*sqrt(b + 1)*sqrt(-b + 1) + b)*r^(1/6*sqrt(3)*sqrt(b + 1)*sqrt(-b + 1) + b + 1)*r_s^3*sin(th)^2 + 2400*B_0^2*b^2*(r - r_s)^(1/6*sqrt(3)*sqrt(b + 1)*sqrt(-b + 1) + b)*r^(1/6*sqrt(3)*sqrt(b + 1)*sqrt(-b + 1) + b + 2)*r_s^2*sin(th)^2 - 3744*B_0^2*b*(r - r_s)^(1/6*sqrt(3)*sqrt(b + 1)*sqrt(-b + 1) + b)*r^(1/6*sqrt(3)*sqrt(b + 1)*sqrt(-b + 1) + b + 1)*r_s^3*sin(th)^2 + 3360*B_0^4*(r - r_s)^(1/3*sqrt(3)*sqrt(b + 1)*sqrt(-b + 1))*r^(2*b + 6)*cos(th)^2*sin(th)^2 - 1680*B_0^4*(r - r_s)^(1/3*sqrt(3)*sqrt(b + 1)*sqrt(-b + 1))*r^(2*b + 6)*sin(th)^4 - 576*sqrt(3)*B_0^2*sqrt(b + 1)*sqrt(-b + 1)*(r - r_s)^(1/6*sqrt(3)*sqrt(b + 1)*sqrt(-b + 1) + b)*r^(1/6*sqrt(3)*sqrt(b + 1)*sqrt(-b + 1) + b + 2)*r_s^2*sin(th)^2 + 11232*B_0^2*b*(r - r_s)^(1/6*sqrt(3)*sqrt(b + 1)*sqrt(-b + 1) + b)*r^(1/6*sqrt(3)*sqrt(b + 1)*sqrt(-b + 1) + b + 2)*r_s^2*sin(th)^2 - 1344*B_0^2*(r - r_s)^(1/6*sqrt(3)*sqrt(b + 1)*sqrt(-b + 1) + b)*r^(1/6*sqrt(3)*sqrt(b + 1)*sqrt(-b + 1) + b + 1)*r_s^3*sin(th)^2 + 384*sqrt(3)*B_0^2*sqrt(b + 1)*sqrt(-b + 1)*(r - r_s)^(1/6*sqrt(3)*sqrt(b + 1)*sqrt(-b + 1) + b)*r^(1/6*sqrt(3)*sqrt(b + 1)*sqrt(-b + 1) + b + 3)*r_s*sin(th)^2 - 13824*B_0^2*(r - r_s)^(1/6*sqrt(3)*sqrt(b + 1)*sqrt(-b + 1) + b)*r^(1/6*sqrt(3)*sqrt(b + 1)*sqrt(-b + 1) + b + 2)*r_s^2*cos(th)^2 - 7488*B_0^2*b*(r - r_s)^(1/6*sqrt(3)*sqrt(b + 1)*sqrt(-b + 1) + b)*r^(1/6*sqrt(3)*sqrt(b + 1)*sqrt(-b + 1) + b + 3)*r_s*sin(th)^2 + 8256*B_0^2*(r - r_s)^(1/6*sqrt(3)*sqrt(b + 1)*sqrt(-b + 1) + b)*r^(1/6*sqrt(3)*sqrt(b + 1)*sqrt(-b + 1) + b + 2)*r_s^2*sin(th)^2 + 27648*B_0^2*(r - r_s)^(1/6*sqrt(3)*sqrt(b + 1)*sqrt(-b + 1) + b)*r^(1/6*sqrt(3)*sqrt(b + 1)*sqrt(-b + 1) + b + 3)*r_s*cos(th)^2 - 13824*B_0^2*(r - r_s)^(1/6*sqrt(3)*sqrt(b + 1)*sqrt(-b + 1) + b)*r^(1/6*sqrt(3)*sqrt(b + 1)*sqrt(-b + 1) + b + 3)*r_s*sin(th)^2 + 4608*b^2*(r - r_s)^(2*b)*r^(1/3*sqrt(3)*sqrt(b + 1)*sqrt(-b + 1))*r_s^2 - 13824*B_0^2*(r - r_s)^(1/6*sqrt(3)*sqrt(b + 1)*sqrt(-b + 1) + b)*r^(1/6*sqrt(3)*sqrt(b + 1)*sqrt(-b + 1) + b + 4)*cos(th)^2 + 6912*B_0^2*(r - r_s)^(1/6*sqrt(3)*sqrt(b + 1)*sqrt(-b + 1) + b)*r^(1/6*sqrt(3)*sqrt(b + 1)*sqrt(-b + 1) + b + 4)*sin(th)^2 + 6912*b*(r - r_s)^(2*b)*r^(1/3*sqrt(3)*sqrt(b + 1)*sqrt(-b + 1))*r_s^2 - 13824*b*(r - r_s)^(2*b)*r^(1/3*sqrt(3)*sqrt(b + 1)*sqrt(-b + 1) + 1)*r_s + 2304*(r - r_s)^(2*b)*r^(1/3*sqrt(3)*sqrt(b + 1)*sqrt(-b + 1))*r_s^2)*(-13*(B_0^2*(r - r_s)^(1/6*sqrt(3)*sqrt(b + 1)*sqrt(-b + 1))*r^(b + 1)*r_s - B_0^2*(r - r_s)^(1/6*sqrt(3)*sqrt(b + 1)*sqrt(-b + 1))*r^(b + 2))*sin(th)^2 + 48*(r - r_s)^b*r^(1/6*sqrt(3)*sqrt(b + 1)*sqrt(-b + 1)))^(2/13)*(r - r_s)^(-1/3*sqrt(3)*sqrt(b + 1)*sqrt(-b + 1) - 15/13*b)*r^(-1/39*sqrt(3)*sqrt(b + 1)*sqrt(-b + 1) - b - 2)/(r - r_s)^2"
      ]
     },
     "metadata": {},
     "output_type": "display_data"
    },
    {
     "data": {
      "text/html": [
       "<html>\\(\\displaystyle \\verb|Substitution|\\verb| |\\verb|Lambda:|\\verb| |\\verb|done|\\)</html>"
      ],
      "text/latex": [
       "$\\displaystyle \\verb|Substitution|\\verb| |\\verb|Lambda:|\\verb| |\\verb|done|$"
      ],
      "text/plain": [
       "'Substitution Lambda: done'"
      ]
     },
     "metadata": {},
     "output_type": "display_data"
    },
    {
     "data": {
      "text/html": [
       "<html>\\(\\displaystyle \\verb|Substitution|\\verb| |\\verb|Delta:|\\verb| |\\verb|done|\\)</html>"
      ],
      "text/latex": [
       "$\\displaystyle \\verb|Substitution|\\verb| |\\verb|Delta:|\\verb| |\\verb|done|$"
      ],
      "text/plain": [
       "'Substitution Delta: done'"
      ]
     },
     "metadata": {},
     "output_type": "display_data"
    },
    {
     "data": {
      "text/html": [
       "<html>\\(\\displaystyle C_{0110} =  -\\frac{3^{\\frac{11}{13}} 2^{\\frac{5}{13}} {\\left(244 \\, \\sqrt{3} B_{0}^{4} \\sqrt{b + 1} b \\sqrt{-b + 1} {\\left(r - r_{s}\\right)}^{\\frac{1}{3} \\, \\sqrt{3} \\sqrt{b + 1} \\sqrt{-b + 1}} r^{2 \\, b + 2} r_{s}^{4} \\sin\\left({\\theta}\\right)^{4} - 502 \\, B_{0}^{4} b^{2} {\\left(r - r_{s}\\right)}^{\\frac{1}{3} \\, \\sqrt{3} \\sqrt{b + 1} \\sqrt{-b + 1}} r^{2 \\, b + 2} r_{s}^{4} \\sin\\left({\\theta}\\right)^{4} - 488 \\, \\sqrt{3} B_{0}^{4} \\sqrt{b + 1} b \\sqrt{-b + 1} {\\left(r - r_{s}\\right)}^{\\frac{1}{3} \\, \\sqrt{3} \\sqrt{b + 1} \\sqrt{-b + 1}} r^{2 \\, b + 3} r_{s}^{3} \\sin\\left({\\theta}\\right)^{4} + 244 \\, \\sqrt{3} B_{0}^{4} \\sqrt{b + 1} \\sqrt{-b + 1} {\\left(r - r_{s}\\right)}^{\\frac{1}{3} \\, \\sqrt{3} \\sqrt{b + 1} \\sqrt{-b + 1}} r^{2 \\, b + 2} r_{s}^{4} \\sin\\left({\\theta}\\right)^{4} + 1004 \\, B_{0}^{4} b^{2} {\\left(r - r_{s}\\right)}^{\\frac{1}{3} \\, \\sqrt{3} \\sqrt{b + 1} \\sqrt{-b + 1}} r^{2 \\, b + 3} r_{s}^{3} \\sin\\left({\\theta}\\right)^{4} - 1269 \\, B_{0}^{4} b {\\left(r - r_{s}\\right)}^{\\frac{1}{3} \\, \\sqrt{3} \\sqrt{b + 1} \\sqrt{-b + 1}} r^{2 \\, b + 2} r_{s}^{4} \\sin\\left({\\theta}\\right)^{4} + 244 \\, \\sqrt{3} B_{0}^{4} \\sqrt{b + 1} b \\sqrt{-b + 1} {\\left(r - r_{s}\\right)}^{\\frac{1}{3} \\, \\sqrt{3} \\sqrt{b + 1} \\sqrt{-b + 1}} r^{2 \\, b + 4} r_{s}^{2} \\sin\\left({\\theta}\\right)^{4} - 976 \\, \\sqrt{3} B_{0}^{4} \\sqrt{b + 1} \\sqrt{-b + 1} {\\left(r - r_{s}\\right)}^{\\frac{1}{3} \\, \\sqrt{3} \\sqrt{b + 1} \\sqrt{-b + 1}} r^{2 \\, b + 3} r_{s}^{3} \\sin\\left({\\theta}\\right)^{4} - 502 \\, B_{0}^{4} b^{2} {\\left(r - r_{s}\\right)}^{\\frac{1}{3} \\, \\sqrt{3} \\sqrt{b + 1} \\sqrt{-b + 1}} r^{2 \\, b + 4} r_{s}^{2} \\sin\\left({\\theta}\\right)^{4} + 5076 \\, B_{0}^{4} b {\\left(r - r_{s}\\right)}^{\\frac{1}{3} \\, \\sqrt{3} \\sqrt{b + 1} \\sqrt{-b + 1}} r^{2 \\, b + 3} r_{s}^{3} \\sin\\left({\\theta}\\right)^{4} - 767 \\, B_{0}^{4} {\\left(r - r_{s}\\right)}^{\\frac{1}{3} \\, \\sqrt{3} \\sqrt{b + 1} \\sqrt{-b + 1}} r^{2 \\, b + 2} r_{s}^{4} \\sin\\left({\\theta}\\right)^{4} + 1220 \\, \\sqrt{3} B_{0}^{4} \\sqrt{b + 1} \\sqrt{-b + 1} {\\left(r - r_{s}\\right)}^{\\frac{1}{3} \\, \\sqrt{3} \\sqrt{b + 1} \\sqrt{-b + 1}} r^{2 \\, b + 4} r_{s}^{2} \\sin\\left({\\theta}\\right)^{4} - 3360 \\, B_{0}^{4} {\\left(r - r_{s}\\right)}^{\\frac{1}{3} \\, \\sqrt{3} \\sqrt{b + 1} \\sqrt{-b + 1}} r^{2 \\, b + 3} r_{s}^{3} \\cos\\left({\\theta}\\right)^{2} \\sin\\left({\\theta}\\right)^{2} - 6345 \\, B_{0}^{4} b {\\left(r - r_{s}\\right)}^{\\frac{1}{3} \\, \\sqrt{3} \\sqrt{b + 1} \\sqrt{-b + 1}} r^{2 \\, b + 4} r_{s}^{2} \\sin\\left({\\theta}\\right)^{4} + 3214 \\, B_{0}^{4} {\\left(r - r_{s}\\right)}^{\\frac{1}{3} \\, \\sqrt{3} \\sqrt{b + 1} \\sqrt{-b + 1}} r^{2 \\, b + 3} r_{s}^{3} \\sin\\left({\\theta}\\right)^{4} - 488 \\, \\sqrt{3} B_{0}^{4} \\sqrt{b + 1} \\sqrt{-b + 1} {\\left(r - r_{s}\\right)}^{\\frac{1}{3} \\, \\sqrt{3} \\sqrt{b + 1} \\sqrt{-b + 1}} r^{2 \\, b + 5} r_{s} \\sin\\left({\\theta}\\right)^{4} + 10080 \\, B_{0}^{4} {\\left(r - r_{s}\\right)}^{\\frac{1}{3} \\, \\sqrt{3} \\sqrt{b + 1} \\sqrt{-b + 1}} r^{2 \\, b + 4} r_{s}^{2} \\cos\\left({\\theta}\\right)^{2} \\sin\\left({\\theta}\\right)^{2} + 2538 \\, B_{0}^{4} b {\\left(r - r_{s}\\right)}^{\\frac{1}{3} \\, \\sqrt{3} \\sqrt{b + 1} \\sqrt{-b + 1}} r^{2 \\, b + 5} r_{s} \\sin\\left({\\theta}\\right)^{4} - 5807 \\, B_{0}^{4} {\\left(r - r_{s}\\right)}^{\\frac{1}{3} \\, \\sqrt{3} \\sqrt{b + 1} \\sqrt{-b + 1}} r^{2 \\, b + 4} r_{s}^{2} \\sin\\left({\\theta}\\right)^{4} + 192 \\, \\sqrt{3} B_{0}^{2} \\sqrt{b + 1} b \\sqrt{-b + 1} {\\left(r - r_{s}\\right)}^{\\frac{1}{6} \\, \\sqrt{3} \\sqrt{b + 1} \\sqrt{-b + 1} + b} r^{\\frac{1}{6} \\, \\sqrt{3} \\sqrt{b + 1} \\sqrt{-b + 1} + b + 1} r_{s}^{3} \\sin\\left({\\theta}\\right)^{2} - 2400 \\, B_{0}^{2} b^{2} {\\left(r - r_{s}\\right)}^{\\frac{1}{6} \\, \\sqrt{3} \\sqrt{b + 1} \\sqrt{-b + 1} + b} r^{\\frac{1}{6} \\, \\sqrt{3} \\sqrt{b + 1} \\sqrt{-b + 1} + b + 1} r_{s}^{3} \\sin\\left({\\theta}\\right)^{2} - 10080 \\, B_{0}^{4} {\\left(r - r_{s}\\right)}^{\\frac{1}{3} \\, \\sqrt{3} \\sqrt{b + 1} \\sqrt{-b + 1}} r^{2 \\, b + 5} r_{s} \\cos\\left({\\theta}\\right)^{2} \\sin\\left({\\theta}\\right)^{2} + 5040 \\, B_{0}^{4} {\\left(r - r_{s}\\right)}^{\\frac{1}{3} \\, \\sqrt{3} \\sqrt{b + 1} \\sqrt{-b + 1}} r^{2 \\, b + 5} r_{s} \\sin\\left({\\theta}\\right)^{4} - 192 \\, \\sqrt{3} B_{0}^{2} \\sqrt{b + 1} b \\sqrt{-b + 1} {\\left(r - r_{s}\\right)}^{\\frac{1}{6} \\, \\sqrt{3} \\sqrt{b + 1} \\sqrt{-b + 1} + b} r^{\\frac{1}{6} \\, \\sqrt{3} \\sqrt{b + 1} \\sqrt{-b + 1} + b + 2} r_{s}^{2} \\sin\\left({\\theta}\\right)^{2} + 192 \\, \\sqrt{3} B_{0}^{2} \\sqrt{b + 1} \\sqrt{-b + 1} {\\left(r - r_{s}\\right)}^{\\frac{1}{6} \\, \\sqrt{3} \\sqrt{b + 1} \\sqrt{-b + 1} + b} r^{\\frac{1}{6} \\, \\sqrt{3} \\sqrt{b + 1} \\sqrt{-b + 1} + b + 1} r_{s}^{3} \\sin\\left({\\theta}\\right)^{2} + 2400 \\, B_{0}^{2} b^{2} {\\left(r - r_{s}\\right)}^{\\frac{1}{6} \\, \\sqrt{3} \\sqrt{b + 1} \\sqrt{-b + 1} + b} r^{\\frac{1}{6} \\, \\sqrt{3} \\sqrt{b + 1} \\sqrt{-b + 1} + b + 2} r_{s}^{2} \\sin\\left({\\theta}\\right)^{2} - 3744 \\, B_{0}^{2} b {\\left(r - r_{s}\\right)}^{\\frac{1}{6} \\, \\sqrt{3} \\sqrt{b + 1} \\sqrt{-b + 1} + b} r^{\\frac{1}{6} \\, \\sqrt{3} \\sqrt{b + 1} \\sqrt{-b + 1} + b + 1} r_{s}^{3} \\sin\\left({\\theta}\\right)^{2} + 3360 \\, B_{0}^{4} {\\left(r - r_{s}\\right)}^{\\frac{1}{3} \\, \\sqrt{3} \\sqrt{b + 1} \\sqrt{-b + 1}} r^{2 \\, b + 6} \\cos\\left({\\theta}\\right)^{2} \\sin\\left({\\theta}\\right)^{2} - 1680 \\, B_{0}^{4} {\\left(r - r_{s}\\right)}^{\\frac{1}{3} \\, \\sqrt{3} \\sqrt{b + 1} \\sqrt{-b + 1}} r^{2 \\, b + 6} \\sin\\left({\\theta}\\right)^{4} - 576 \\, \\sqrt{3} B_{0}^{2} \\sqrt{b + 1} \\sqrt{-b + 1} {\\left(r - r_{s}\\right)}^{\\frac{1}{6} \\, \\sqrt{3} \\sqrt{b + 1} \\sqrt{-b + 1} + b} r^{\\frac{1}{6} \\, \\sqrt{3} \\sqrt{b + 1} \\sqrt{-b + 1} + b + 2} r_{s}^{2} \\sin\\left({\\theta}\\right)^{2} + 11232 \\, B_{0}^{2} b {\\left(r - r_{s}\\right)}^{\\frac{1}{6} \\, \\sqrt{3} \\sqrt{b + 1} \\sqrt{-b + 1} + b} r^{\\frac{1}{6} \\, \\sqrt{3} \\sqrt{b + 1} \\sqrt{-b + 1} + b + 2} r_{s}^{2} \\sin\\left({\\theta}\\right)^{2} - 1344 \\, B_{0}^{2} {\\left(r - r_{s}\\right)}^{\\frac{1}{6} \\, \\sqrt{3} \\sqrt{b + 1} \\sqrt{-b + 1} + b} r^{\\frac{1}{6} \\, \\sqrt{3} \\sqrt{b + 1} \\sqrt{-b + 1} + b + 1} r_{s}^{3} \\sin\\left({\\theta}\\right)^{2} + 384 \\, \\sqrt{3} B_{0}^{2} \\sqrt{b + 1} \\sqrt{-b + 1} {\\left(r - r_{s}\\right)}^{\\frac{1}{6} \\, \\sqrt{3} \\sqrt{b + 1} \\sqrt{-b + 1} + b} r^{\\frac{1}{6} \\, \\sqrt{3} \\sqrt{b + 1} \\sqrt{-b + 1} + b + 3} r_{s} \\sin\\left({\\theta}\\right)^{2} - 13824 \\, B_{0}^{2} {\\left(r - r_{s}\\right)}^{\\frac{1}{6} \\, \\sqrt{3} \\sqrt{b + 1} \\sqrt{-b + 1} + b} r^{\\frac{1}{6} \\, \\sqrt{3} \\sqrt{b + 1} \\sqrt{-b + 1} + b + 2} r_{s}^{2} \\cos\\left({\\theta}\\right)^{2} - 7488 \\, B_{0}^{2} b {\\left(r - r_{s}\\right)}^{\\frac{1}{6} \\, \\sqrt{3} \\sqrt{b + 1} \\sqrt{-b + 1} + b} r^{\\frac{1}{6} \\, \\sqrt{3} \\sqrt{b + 1} \\sqrt{-b + 1} + b + 3} r_{s} \\sin\\left({\\theta}\\right)^{2} + 8256 \\, B_{0}^{2} {\\left(r - r_{s}\\right)}^{\\frac{1}{6} \\, \\sqrt{3} \\sqrt{b + 1} \\sqrt{-b + 1} + b} r^{\\frac{1}{6} \\, \\sqrt{3} \\sqrt{b + 1} \\sqrt{-b + 1} + b + 2} r_{s}^{2} \\sin\\left({\\theta}\\right)^{2} + 27648 \\, B_{0}^{2} {\\left(r - r_{s}\\right)}^{\\frac{1}{6} \\, \\sqrt{3} \\sqrt{b + 1} \\sqrt{-b + 1} + b} r^{\\frac{1}{6} \\, \\sqrt{3} \\sqrt{b + 1} \\sqrt{-b + 1} + b + 3} r_{s} \\cos\\left({\\theta}\\right)^{2} - 13824 \\, B_{0}^{2} {\\left(r - r_{s}\\right)}^{\\frac{1}{6} \\, \\sqrt{3} \\sqrt{b + 1} \\sqrt{-b + 1} + b} r^{\\frac{1}{6} \\, \\sqrt{3} \\sqrt{b + 1} \\sqrt{-b + 1} + b + 3} r_{s} \\sin\\left({\\theta}\\right)^{2} + 4608 \\, b^{2} {\\left(r - r_{s}\\right)}^{2 \\, b} r^{\\frac{1}{3} \\, \\sqrt{3} \\sqrt{b + 1} \\sqrt{-b + 1}} r_{s}^{2} - 13824 \\, B_{0}^{2} {\\left(r - r_{s}\\right)}^{\\frac{1}{6} \\, \\sqrt{3} \\sqrt{b + 1} \\sqrt{-b + 1} + b} r^{\\frac{1}{6} \\, \\sqrt{3} \\sqrt{b + 1} \\sqrt{-b + 1} + b + 4} \\cos\\left({\\theta}\\right)^{2} + 6912 \\, B_{0}^{2} {\\left(r - r_{s}\\right)}^{\\frac{1}{6} \\, \\sqrt{3} \\sqrt{b + 1} \\sqrt{-b + 1} + b} r^{\\frac{1}{6} \\, \\sqrt{3} \\sqrt{b + 1} \\sqrt{-b + 1} + b + 4} \\sin\\left({\\theta}\\right)^{2} + 6912 \\, b {\\left(r - r_{s}\\right)}^{2 \\, b} r^{\\frac{1}{3} \\, \\sqrt{3} \\sqrt{b + 1} \\sqrt{-b + 1}} r_{s}^{2} - 13824 \\, b {\\left(r - r_{s}\\right)}^{2 \\, b} r^{\\frac{1}{3} \\, \\sqrt{3} \\sqrt{b + 1} \\sqrt{-b + 1} + 1} r_{s} + 2304 \\, {\\left(r - r_{s}\\right)}^{2 \\, b} r^{\\frac{1}{3} \\, \\sqrt{3} \\sqrt{b + 1} \\sqrt{-b + 1}} r_{s}^{2}\\right)} {\\left(-13 \\, {\\left(B_{0}^{2} {\\left(r - r_{s}\\right)}^{\\frac{1}{6} \\, \\sqrt{3} \\sqrt{b + 1} \\sqrt{-b + 1}} r^{b + 1} r_{s} - B_{0}^{2} {\\left(r - r_{s}\\right)}^{\\frac{1}{6} \\, \\sqrt{3} \\sqrt{b + 1} \\sqrt{-b + 1}} r^{b + 2}\\right)} \\sin\\left({\\theta}\\right)^{2} + 48 \\, {\\left(r - r_{s}\\right)}^{b} r^{\\frac{1}{6} \\, \\sqrt{3} \\sqrt{b + 1} \\sqrt{-b + 1}}\\right)}^{\\frac{2}{13}} {\\left(r - r_{s}\\right)}^{-\\frac{1}{3} \\, \\sqrt{3} \\sqrt{b + 1} \\sqrt{-b + 1} - \\frac{15}{13} \\, b} r^{-\\frac{1}{39} \\, \\sqrt{3} \\sqrt{b + 1} \\sqrt{-b + 1} - b - 2}}{82944 \\, {\\left(r - r_{s}\\right)}^{2}}\\)</html>"
      ],
      "text/latex": [
       "$\\displaystyle C_{0110} =  -\\frac{3^{\\frac{11}{13}} 2^{\\frac{5}{13}} {\\left(244 \\, \\sqrt{3} B_{0}^{4} \\sqrt{b + 1} b \\sqrt{-b + 1} {\\left(r - r_{s}\\right)}^{\\frac{1}{3} \\, \\sqrt{3} \\sqrt{b + 1} \\sqrt{-b + 1}} r^{2 \\, b + 2} r_{s}^{4} \\sin\\left({\\theta}\\right)^{4} - 502 \\, B_{0}^{4} b^{2} {\\left(r - r_{s}\\right)}^{\\frac{1}{3} \\, \\sqrt{3} \\sqrt{b + 1} \\sqrt{-b + 1}} r^{2 \\, b + 2} r_{s}^{4} \\sin\\left({\\theta}\\right)^{4} - 488 \\, \\sqrt{3} B_{0}^{4} \\sqrt{b + 1} b \\sqrt{-b + 1} {\\left(r - r_{s}\\right)}^{\\frac{1}{3} \\, \\sqrt{3} \\sqrt{b + 1} \\sqrt{-b + 1}} r^{2 \\, b + 3} r_{s}^{3} \\sin\\left({\\theta}\\right)^{4} + 244 \\, \\sqrt{3} B_{0}^{4} \\sqrt{b + 1} \\sqrt{-b + 1} {\\left(r - r_{s}\\right)}^{\\frac{1}{3} \\, \\sqrt{3} \\sqrt{b + 1} \\sqrt{-b + 1}} r^{2 \\, b + 2} r_{s}^{4} \\sin\\left({\\theta}\\right)^{4} + 1004 \\, B_{0}^{4} b^{2} {\\left(r - r_{s}\\right)}^{\\frac{1}{3} \\, \\sqrt{3} \\sqrt{b + 1} \\sqrt{-b + 1}} r^{2 \\, b + 3} r_{s}^{3} \\sin\\left({\\theta}\\right)^{4} - 1269 \\, B_{0}^{4} b {\\left(r - r_{s}\\right)}^{\\frac{1}{3} \\, \\sqrt{3} \\sqrt{b + 1} \\sqrt{-b + 1}} r^{2 \\, b + 2} r_{s}^{4} \\sin\\left({\\theta}\\right)^{4} + 244 \\, \\sqrt{3} B_{0}^{4} \\sqrt{b + 1} b \\sqrt{-b + 1} {\\left(r - r_{s}\\right)}^{\\frac{1}{3} \\, \\sqrt{3} \\sqrt{b + 1} \\sqrt{-b + 1}} r^{2 \\, b + 4} r_{s}^{2} \\sin\\left({\\theta}\\right)^{4} - 976 \\, \\sqrt{3} B_{0}^{4} \\sqrt{b + 1} \\sqrt{-b + 1} {\\left(r - r_{s}\\right)}^{\\frac{1}{3} \\, \\sqrt{3} \\sqrt{b + 1} \\sqrt{-b + 1}} r^{2 \\, b + 3} r_{s}^{3} \\sin\\left({\\theta}\\right)^{4} - 502 \\, B_{0}^{4} b^{2} {\\left(r - r_{s}\\right)}^{\\frac{1}{3} \\, \\sqrt{3} \\sqrt{b + 1} \\sqrt{-b + 1}} r^{2 \\, b + 4} r_{s}^{2} \\sin\\left({\\theta}\\right)^{4} + 5076 \\, B_{0}^{4} b {\\left(r - r_{s}\\right)}^{\\frac{1}{3} \\, \\sqrt{3} \\sqrt{b + 1} \\sqrt{-b + 1}} r^{2 \\, b + 3} r_{s}^{3} \\sin\\left({\\theta}\\right)^{4} - 767 \\, B_{0}^{4} {\\left(r - r_{s}\\right)}^{\\frac{1}{3} \\, \\sqrt{3} \\sqrt{b + 1} \\sqrt{-b + 1}} r^{2 \\, b + 2} r_{s}^{4} \\sin\\left({\\theta}\\right)^{4} + 1220 \\, \\sqrt{3} B_{0}^{4} \\sqrt{b + 1} \\sqrt{-b + 1} {\\left(r - r_{s}\\right)}^{\\frac{1}{3} \\, \\sqrt{3} \\sqrt{b + 1} \\sqrt{-b + 1}} r^{2 \\, b + 4} r_{s}^{2} \\sin\\left({\\theta}\\right)^{4} - 3360 \\, B_{0}^{4} {\\left(r - r_{s}\\right)}^{\\frac{1}{3} \\, \\sqrt{3} \\sqrt{b + 1} \\sqrt{-b + 1}} r^{2 \\, b + 3} r_{s}^{3} \\cos\\left({\\theta}\\right)^{2} \\sin\\left({\\theta}\\right)^{2} - 6345 \\, B_{0}^{4} b {\\left(r - r_{s}\\right)}^{\\frac{1}{3} \\, \\sqrt{3} \\sqrt{b + 1} \\sqrt{-b + 1}} r^{2 \\, b + 4} r_{s}^{2} \\sin\\left({\\theta}\\right)^{4} + 3214 \\, B_{0}^{4} {\\left(r - r_{s}\\right)}^{\\frac{1}{3} \\, \\sqrt{3} \\sqrt{b + 1} \\sqrt{-b + 1}} r^{2 \\, b + 3} r_{s}^{3} \\sin\\left({\\theta}\\right)^{4} - 488 \\, \\sqrt{3} B_{0}^{4} \\sqrt{b + 1} \\sqrt{-b + 1} {\\left(r - r_{s}\\right)}^{\\frac{1}{3} \\, \\sqrt{3} \\sqrt{b + 1} \\sqrt{-b + 1}} r^{2 \\, b + 5} r_{s} \\sin\\left({\\theta}\\right)^{4} + 10080 \\, B_{0}^{4} {\\left(r - r_{s}\\right)}^{\\frac{1}{3} \\, \\sqrt{3} \\sqrt{b + 1} \\sqrt{-b + 1}} r^{2 \\, b + 4} r_{s}^{2} \\cos\\left({\\theta}\\right)^{2} \\sin\\left({\\theta}\\right)^{2} + 2538 \\, B_{0}^{4} b {\\left(r - r_{s}\\right)}^{\\frac{1}{3} \\, \\sqrt{3} \\sqrt{b + 1} \\sqrt{-b + 1}} r^{2 \\, b + 5} r_{s} \\sin\\left({\\theta}\\right)^{4} - 5807 \\, B_{0}^{4} {\\left(r - r_{s}\\right)}^{\\frac{1}{3} \\, \\sqrt{3} \\sqrt{b + 1} \\sqrt{-b + 1}} r^{2 \\, b + 4} r_{s}^{2} \\sin\\left({\\theta}\\right)^{4} + 192 \\, \\sqrt{3} B_{0}^{2} \\sqrt{b + 1} b \\sqrt{-b + 1} {\\left(r - r_{s}\\right)}^{\\frac{1}{6} \\, \\sqrt{3} \\sqrt{b + 1} \\sqrt{-b + 1} + b} r^{\\frac{1}{6} \\, \\sqrt{3} \\sqrt{b + 1} \\sqrt{-b + 1} + b + 1} r_{s}^{3} \\sin\\left({\\theta}\\right)^{2} - 2400 \\, B_{0}^{2} b^{2} {\\left(r - r_{s}\\right)}^{\\frac{1}{6} \\, \\sqrt{3} \\sqrt{b + 1} \\sqrt{-b + 1} + b} r^{\\frac{1}{6} \\, \\sqrt{3} \\sqrt{b + 1} \\sqrt{-b + 1} + b + 1} r_{s}^{3} \\sin\\left({\\theta}\\right)^{2} - 10080 \\, B_{0}^{4} {\\left(r - r_{s}\\right)}^{\\frac{1}{3} \\, \\sqrt{3} \\sqrt{b + 1} \\sqrt{-b + 1}} r^{2 \\, b + 5} r_{s} \\cos\\left({\\theta}\\right)^{2} \\sin\\left({\\theta}\\right)^{2} + 5040 \\, B_{0}^{4} {\\left(r - r_{s}\\right)}^{\\frac{1}{3} \\, \\sqrt{3} \\sqrt{b + 1} \\sqrt{-b + 1}} r^{2 \\, b + 5} r_{s} \\sin\\left({\\theta}\\right)^{4} - 192 \\, \\sqrt{3} B_{0}^{2} \\sqrt{b + 1} b \\sqrt{-b + 1} {\\left(r - r_{s}\\right)}^{\\frac{1}{6} \\, \\sqrt{3} \\sqrt{b + 1} \\sqrt{-b + 1} + b} r^{\\frac{1}{6} \\, \\sqrt{3} \\sqrt{b + 1} \\sqrt{-b + 1} + b + 2} r_{s}^{2} \\sin\\left({\\theta}\\right)^{2} + 192 \\, \\sqrt{3} B_{0}^{2} \\sqrt{b + 1} \\sqrt{-b + 1} {\\left(r - r_{s}\\right)}^{\\frac{1}{6} \\, \\sqrt{3} \\sqrt{b + 1} \\sqrt{-b + 1} + b} r^{\\frac{1}{6} \\, \\sqrt{3} \\sqrt{b + 1} \\sqrt{-b + 1} + b + 1} r_{s}^{3} \\sin\\left({\\theta}\\right)^{2} + 2400 \\, B_{0}^{2} b^{2} {\\left(r - r_{s}\\right)}^{\\frac{1}{6} \\, \\sqrt{3} \\sqrt{b + 1} \\sqrt{-b + 1} + b} r^{\\frac{1}{6} \\, \\sqrt{3} \\sqrt{b + 1} \\sqrt{-b + 1} + b + 2} r_{s}^{2} \\sin\\left({\\theta}\\right)^{2} - 3744 \\, B_{0}^{2} b {\\left(r - r_{s}\\right)}^{\\frac{1}{6} \\, \\sqrt{3} \\sqrt{b + 1} \\sqrt{-b + 1} + b} r^{\\frac{1}{6} \\, \\sqrt{3} \\sqrt{b + 1} \\sqrt{-b + 1} + b + 1} r_{s}^{3} \\sin\\left({\\theta}\\right)^{2} + 3360 \\, B_{0}^{4} {\\left(r - r_{s}\\right)}^{\\frac{1}{3} \\, \\sqrt{3} \\sqrt{b + 1} \\sqrt{-b + 1}} r^{2 \\, b + 6} \\cos\\left({\\theta}\\right)^{2} \\sin\\left({\\theta}\\right)^{2} - 1680 \\, B_{0}^{4} {\\left(r - r_{s}\\right)}^{\\frac{1}{3} \\, \\sqrt{3} \\sqrt{b + 1} \\sqrt{-b + 1}} r^{2 \\, b + 6} \\sin\\left({\\theta}\\right)^{4} - 576 \\, \\sqrt{3} B_{0}^{2} \\sqrt{b + 1} \\sqrt{-b + 1} {\\left(r - r_{s}\\right)}^{\\frac{1}{6} \\, \\sqrt{3} \\sqrt{b + 1} \\sqrt{-b + 1} + b} r^{\\frac{1}{6} \\, \\sqrt{3} \\sqrt{b + 1} \\sqrt{-b + 1} + b + 2} r_{s}^{2} \\sin\\left({\\theta}\\right)^{2} + 11232 \\, B_{0}^{2} b {\\left(r - r_{s}\\right)}^{\\frac{1}{6} \\, \\sqrt{3} \\sqrt{b + 1} \\sqrt{-b + 1} + b} r^{\\frac{1}{6} \\, \\sqrt{3} \\sqrt{b + 1} \\sqrt{-b + 1} + b + 2} r_{s}^{2} \\sin\\left({\\theta}\\right)^{2} - 1344 \\, B_{0}^{2} {\\left(r - r_{s}\\right)}^{\\frac{1}{6} \\, \\sqrt{3} \\sqrt{b + 1} \\sqrt{-b + 1} + b} r^{\\frac{1}{6} \\, \\sqrt{3} \\sqrt{b + 1} \\sqrt{-b + 1} + b + 1} r_{s}^{3} \\sin\\left({\\theta}\\right)^{2} + 384 \\, \\sqrt{3} B_{0}^{2} \\sqrt{b + 1} \\sqrt{-b + 1} {\\left(r - r_{s}\\right)}^{\\frac{1}{6} \\, \\sqrt{3} \\sqrt{b + 1} \\sqrt{-b + 1} + b} r^{\\frac{1}{6} \\, \\sqrt{3} \\sqrt{b + 1} \\sqrt{-b + 1} + b + 3} r_{s} \\sin\\left({\\theta}\\right)^{2} - 13824 \\, B_{0}^{2} {\\left(r - r_{s}\\right)}^{\\frac{1}{6} \\, \\sqrt{3} \\sqrt{b + 1} \\sqrt{-b + 1} + b} r^{\\frac{1}{6} \\, \\sqrt{3} \\sqrt{b + 1} \\sqrt{-b + 1} + b + 2} r_{s}^{2} \\cos\\left({\\theta}\\right)^{2} - 7488 \\, B_{0}^{2} b {\\left(r - r_{s}\\right)}^{\\frac{1}{6} \\, \\sqrt{3} \\sqrt{b + 1} \\sqrt{-b + 1} + b} r^{\\frac{1}{6} \\, \\sqrt{3} \\sqrt{b + 1} \\sqrt{-b + 1} + b + 3} r_{s} \\sin\\left({\\theta}\\right)^{2} + 8256 \\, B_{0}^{2} {\\left(r - r_{s}\\right)}^{\\frac{1}{6} \\, \\sqrt{3} \\sqrt{b + 1} \\sqrt{-b + 1} + b} r^{\\frac{1}{6} \\, \\sqrt{3} \\sqrt{b + 1} \\sqrt{-b + 1} + b + 2} r_{s}^{2} \\sin\\left({\\theta}\\right)^{2} + 27648 \\, B_{0}^{2} {\\left(r - r_{s}\\right)}^{\\frac{1}{6} \\, \\sqrt{3} \\sqrt{b + 1} \\sqrt{-b + 1} + b} r^{\\frac{1}{6} \\, \\sqrt{3} \\sqrt{b + 1} \\sqrt{-b + 1} + b + 3} r_{s} \\cos\\left({\\theta}\\right)^{2} - 13824 \\, B_{0}^{2} {\\left(r - r_{s}\\right)}^{\\frac{1}{6} \\, \\sqrt{3} \\sqrt{b + 1} \\sqrt{-b + 1} + b} r^{\\frac{1}{6} \\, \\sqrt{3} \\sqrt{b + 1} \\sqrt{-b + 1} + b + 3} r_{s} \\sin\\left({\\theta}\\right)^{2} + 4608 \\, b^{2} {\\left(r - r_{s}\\right)}^{2 \\, b} r^{\\frac{1}{3} \\, \\sqrt{3} \\sqrt{b + 1} \\sqrt{-b + 1}} r_{s}^{2} - 13824 \\, B_{0}^{2} {\\left(r - r_{s}\\right)}^{\\frac{1}{6} \\, \\sqrt{3} \\sqrt{b + 1} \\sqrt{-b + 1} + b} r^{\\frac{1}{6} \\, \\sqrt{3} \\sqrt{b + 1} \\sqrt{-b + 1} + b + 4} \\cos\\left({\\theta}\\right)^{2} + 6912 \\, B_{0}^{2} {\\left(r - r_{s}\\right)}^{\\frac{1}{6} \\, \\sqrt{3} \\sqrt{b + 1} \\sqrt{-b + 1} + b} r^{\\frac{1}{6} \\, \\sqrt{3} \\sqrt{b + 1} \\sqrt{-b + 1} + b + 4} \\sin\\left({\\theta}\\right)^{2} + 6912 \\, b {\\left(r - r_{s}\\right)}^{2 \\, b} r^{\\frac{1}{3} \\, \\sqrt{3} \\sqrt{b + 1} \\sqrt{-b + 1}} r_{s}^{2} - 13824 \\, b {\\left(r - r_{s}\\right)}^{2 \\, b} r^{\\frac{1}{3} \\, \\sqrt{3} \\sqrt{b + 1} \\sqrt{-b + 1} + 1} r_{s} + 2304 \\, {\\left(r - r_{s}\\right)}^{2 \\, b} r^{\\frac{1}{3} \\, \\sqrt{3} \\sqrt{b + 1} \\sqrt{-b + 1}} r_{s}^{2}\\right)} {\\left(-13 \\, {\\left(B_{0}^{2} {\\left(r - r_{s}\\right)}^{\\frac{1}{6} \\, \\sqrt{3} \\sqrt{b + 1} \\sqrt{-b + 1}} r^{b + 1} r_{s} - B_{0}^{2} {\\left(r - r_{s}\\right)}^{\\frac{1}{6} \\, \\sqrt{3} \\sqrt{b + 1} \\sqrt{-b + 1}} r^{b + 2}\\right)} \\sin\\left({\\theta}\\right)^{2} + 48 \\, {\\left(r - r_{s}\\right)}^{b} r^{\\frac{1}{6} \\, \\sqrt{3} \\sqrt{b + 1} \\sqrt{-b + 1}}\\right)}^{\\frac{2}{13}} {\\left(r - r_{s}\\right)}^{-\\frac{1}{3} \\, \\sqrt{3} \\sqrt{b + 1} \\sqrt{-b + 1} - \\frac{15}{13} \\, b} r^{-\\frac{1}{39} \\, \\sqrt{3} \\sqrt{b + 1} \\sqrt{-b + 1} - b - 2}}{82944 \\, {\\left(r - r_{s}\\right)}^{2}}$"
      ],
      "text/plain": [
       "C_{0110} =  -1/82944*3^(11/13)*2^(5/13)*(244*sqrt(3)*B_0^4*sqrt(b + 1)*b*sqrt(-b + 1)*(r - r_s)^(1/3*sqrt(3)*sqrt(b + 1)*sqrt(-b + 1))*r^(2*b + 2)*r_s^4*sin(th)^4 - 502*B_0^4*b^2*(r - r_s)^(1/3*sqrt(3)*sqrt(b + 1)*sqrt(-b + 1))*r^(2*b + 2)*r_s^4*sin(th)^4 - 488*sqrt(3)*B_0^4*sqrt(b + 1)*b*sqrt(-b + 1)*(r - r_s)^(1/3*sqrt(3)*sqrt(b + 1)*sqrt(-b + 1))*r^(2*b + 3)*r_s^3*sin(th)^4 + 244*sqrt(3)*B_0^4*sqrt(b + 1)*sqrt(-b + 1)*(r - r_s)^(1/3*sqrt(3)*sqrt(b + 1)*sqrt(-b + 1))*r^(2*b + 2)*r_s^4*sin(th)^4 + 1004*B_0^4*b^2*(r - r_s)^(1/3*sqrt(3)*sqrt(b + 1)*sqrt(-b + 1))*r^(2*b + 3)*r_s^3*sin(th)^4 - 1269*B_0^4*b*(r - r_s)^(1/3*sqrt(3)*sqrt(b + 1)*sqrt(-b + 1))*r^(2*b + 2)*r_s^4*sin(th)^4 + 244*sqrt(3)*B_0^4*sqrt(b + 1)*b*sqrt(-b + 1)*(r - r_s)^(1/3*sqrt(3)*sqrt(b + 1)*sqrt(-b + 1))*r^(2*b + 4)*r_s^2*sin(th)^4 - 976*sqrt(3)*B_0^4*sqrt(b + 1)*sqrt(-b + 1)*(r - r_s)^(1/3*sqrt(3)*sqrt(b + 1)*sqrt(-b + 1))*r^(2*b + 3)*r_s^3*sin(th)^4 - 502*B_0^4*b^2*(r - r_s)^(1/3*sqrt(3)*sqrt(b + 1)*sqrt(-b + 1))*r^(2*b + 4)*r_s^2*sin(th)^4 + 5076*B_0^4*b*(r - r_s)^(1/3*sqrt(3)*sqrt(b + 1)*sqrt(-b + 1))*r^(2*b + 3)*r_s^3*sin(th)^4 - 767*B_0^4*(r - r_s)^(1/3*sqrt(3)*sqrt(b + 1)*sqrt(-b + 1))*r^(2*b + 2)*r_s^4*sin(th)^4 + 1220*sqrt(3)*B_0^4*sqrt(b + 1)*sqrt(-b + 1)*(r - r_s)^(1/3*sqrt(3)*sqrt(b + 1)*sqrt(-b + 1))*r^(2*b + 4)*r_s^2*sin(th)^4 - 3360*B_0^4*(r - r_s)^(1/3*sqrt(3)*sqrt(b + 1)*sqrt(-b + 1))*r^(2*b + 3)*r_s^3*cos(th)^2*sin(th)^2 - 6345*B_0^4*b*(r - r_s)^(1/3*sqrt(3)*sqrt(b + 1)*sqrt(-b + 1))*r^(2*b + 4)*r_s^2*sin(th)^4 + 3214*B_0^4*(r - r_s)^(1/3*sqrt(3)*sqrt(b + 1)*sqrt(-b + 1))*r^(2*b + 3)*r_s^3*sin(th)^4 - 488*sqrt(3)*B_0^4*sqrt(b + 1)*sqrt(-b + 1)*(r - r_s)^(1/3*sqrt(3)*sqrt(b + 1)*sqrt(-b + 1))*r^(2*b + 5)*r_s*sin(th)^4 + 10080*B_0^4*(r - r_s)^(1/3*sqrt(3)*sqrt(b + 1)*sqrt(-b + 1))*r^(2*b + 4)*r_s^2*cos(th)^2*sin(th)^2 + 2538*B_0^4*b*(r - r_s)^(1/3*sqrt(3)*sqrt(b + 1)*sqrt(-b + 1))*r^(2*b + 5)*r_s*sin(th)^4 - 5807*B_0^4*(r - r_s)^(1/3*sqrt(3)*sqrt(b + 1)*sqrt(-b + 1))*r^(2*b + 4)*r_s^2*sin(th)^4 + 192*sqrt(3)*B_0^2*sqrt(b + 1)*b*sqrt(-b + 1)*(r - r_s)^(1/6*sqrt(3)*sqrt(b + 1)*sqrt(-b + 1) + b)*r^(1/6*sqrt(3)*sqrt(b + 1)*sqrt(-b + 1) + b + 1)*r_s^3*sin(th)^2 - 2400*B_0^2*b^2*(r - r_s)^(1/6*sqrt(3)*sqrt(b + 1)*sqrt(-b + 1) + b)*r^(1/6*sqrt(3)*sqrt(b + 1)*sqrt(-b + 1) + b + 1)*r_s^3*sin(th)^2 - 10080*B_0^4*(r - r_s)^(1/3*sqrt(3)*sqrt(b + 1)*sqrt(-b + 1))*r^(2*b + 5)*r_s*cos(th)^2*sin(th)^2 + 5040*B_0^4*(r - r_s)^(1/3*sqrt(3)*sqrt(b + 1)*sqrt(-b + 1))*r^(2*b + 5)*r_s*sin(th)^4 - 192*sqrt(3)*B_0^2*sqrt(b + 1)*b*sqrt(-b + 1)*(r - r_s)^(1/6*sqrt(3)*sqrt(b + 1)*sqrt(-b + 1) + b)*r^(1/6*sqrt(3)*sqrt(b + 1)*sqrt(-b + 1) + b + 2)*r_s^2*sin(th)^2 + 192*sqrt(3)*B_0^2*sqrt(b + 1)*sqrt(-b + 1)*(r - r_s)^(1/6*sqrt(3)*sqrt(b + 1)*sqrt(-b + 1) + b)*r^(1/6*sqrt(3)*sqrt(b + 1)*sqrt(-b + 1) + b + 1)*r_s^3*sin(th)^2 + 2400*B_0^2*b^2*(r - r_s)^(1/6*sqrt(3)*sqrt(b + 1)*sqrt(-b + 1) + b)*r^(1/6*sqrt(3)*sqrt(b + 1)*sqrt(-b + 1) + b + 2)*r_s^2*sin(th)^2 - 3744*B_0^2*b*(r - r_s)^(1/6*sqrt(3)*sqrt(b + 1)*sqrt(-b + 1) + b)*r^(1/6*sqrt(3)*sqrt(b + 1)*sqrt(-b + 1) + b + 1)*r_s^3*sin(th)^2 + 3360*B_0^4*(r - r_s)^(1/3*sqrt(3)*sqrt(b + 1)*sqrt(-b + 1))*r^(2*b + 6)*cos(th)^2*sin(th)^2 - 1680*B_0^4*(r - r_s)^(1/3*sqrt(3)*sqrt(b + 1)*sqrt(-b + 1))*r^(2*b + 6)*sin(th)^4 - 576*sqrt(3)*B_0^2*sqrt(b + 1)*sqrt(-b + 1)*(r - r_s)^(1/6*sqrt(3)*sqrt(b + 1)*sqrt(-b + 1) + b)*r^(1/6*sqrt(3)*sqrt(b + 1)*sqrt(-b + 1) + b + 2)*r_s^2*sin(th)^2 + 11232*B_0^2*b*(r - r_s)^(1/6*sqrt(3)*sqrt(b + 1)*sqrt(-b + 1) + b)*r^(1/6*sqrt(3)*sqrt(b + 1)*sqrt(-b + 1) + b + 2)*r_s^2*sin(th)^2 - 1344*B_0^2*(r - r_s)^(1/6*sqrt(3)*sqrt(b + 1)*sqrt(-b + 1) + b)*r^(1/6*sqrt(3)*sqrt(b + 1)*sqrt(-b + 1) + b + 1)*r_s^3*sin(th)^2 + 384*sqrt(3)*B_0^2*sqrt(b + 1)*sqrt(-b + 1)*(r - r_s)^(1/6*sqrt(3)*sqrt(b + 1)*sqrt(-b + 1) + b)*r^(1/6*sqrt(3)*sqrt(b + 1)*sqrt(-b + 1) + b + 3)*r_s*sin(th)^2 - 13824*B_0^2*(r - r_s)^(1/6*sqrt(3)*sqrt(b + 1)*sqrt(-b + 1) + b)*r^(1/6*sqrt(3)*sqrt(b + 1)*sqrt(-b + 1) + b + 2)*r_s^2*cos(th)^2 - 7488*B_0^2*b*(r - r_s)^(1/6*sqrt(3)*sqrt(b + 1)*sqrt(-b + 1) + b)*r^(1/6*sqrt(3)*sqrt(b + 1)*sqrt(-b + 1) + b + 3)*r_s*sin(th)^2 + 8256*B_0^2*(r - r_s)^(1/6*sqrt(3)*sqrt(b + 1)*sqrt(-b + 1) + b)*r^(1/6*sqrt(3)*sqrt(b + 1)*sqrt(-b + 1) + b + 2)*r_s^2*sin(th)^2 + 27648*B_0^2*(r - r_s)^(1/6*sqrt(3)*sqrt(b + 1)*sqrt(-b + 1) + b)*r^(1/6*sqrt(3)*sqrt(b + 1)*sqrt(-b + 1) + b + 3)*r_s*cos(th)^2 - 13824*B_0^2*(r - r_s)^(1/6*sqrt(3)*sqrt(b + 1)*sqrt(-b + 1) + b)*r^(1/6*sqrt(3)*sqrt(b + 1)*sqrt(-b + 1) + b + 3)*r_s*sin(th)^2 + 4608*b^2*(r - r_s)^(2*b)*r^(1/3*sqrt(3)*sqrt(b + 1)*sqrt(-b + 1))*r_s^2 - 13824*B_0^2*(r - r_s)^(1/6*sqrt(3)*sqrt(b + 1)*sqrt(-b + 1) + b)*r^(1/6*sqrt(3)*sqrt(b + 1)*sqrt(-b + 1) + b + 4)*cos(th)^2 + 6912*B_0^2*(r - r_s)^(1/6*sqrt(3)*sqrt(b + 1)*sqrt(-b + 1) + b)*r^(1/6*sqrt(3)*sqrt(b + 1)*sqrt(-b + 1) + b + 4)*sin(th)^2 + 6912*b*(r - r_s)^(2*b)*r^(1/3*sqrt(3)*sqrt(b + 1)*sqrt(-b + 1))*r_s^2 - 13824*b*(r - r_s)^(2*b)*r^(1/3*sqrt(3)*sqrt(b + 1)*sqrt(-b + 1) + 1)*r_s + 2304*(r - r_s)^(2*b)*r^(1/3*sqrt(3)*sqrt(b + 1)*sqrt(-b + 1))*r_s^2)*(-13*(B_0^2*(r - r_s)^(1/6*sqrt(3)*sqrt(b + 1)*sqrt(-b + 1))*r^(b + 1)*r_s - B_0^2*(r - r_s)^(1/6*sqrt(3)*sqrt(b + 1)*sqrt(-b + 1))*r^(b + 2))*sin(th)^2 + 48*(r - r_s)^b*r^(1/6*sqrt(3)*sqrt(b + 1)*sqrt(-b + 1)))^(2/13)*(r - r_s)^(-1/3*sqrt(3)*sqrt(b + 1)*sqrt(-b + 1) - 15/13*b)*r^(-1/39*sqrt(3)*sqrt(b + 1)*sqrt(-b + 1) - b - 2)/(r - r_s)^2"
      ]
     },
     "metadata": {},
     "output_type": "display_data"
    },
    {
     "data": {
      "text/html": [
       "<html>\\(\\displaystyle \\verb|Substitution|\\verb| |\\verb|Lambda:|\\verb| |\\verb|done|\\)</html>"
      ],
      "text/latex": [
       "$\\displaystyle \\verb|Substitution|\\verb| |\\verb|Lambda:|\\verb| |\\verb|done|$"
      ],
      "text/plain": [
       "'Substitution Lambda: done'"
      ]
     },
     "metadata": {},
     "output_type": "display_data"
    },
    {
     "data": {
      "text/html": [
       "<html>\\(\\displaystyle \\verb|Substitution|\\verb| |\\verb|Delta:|\\verb| |\\verb|done|\\)</html>"
      ],
      "text/latex": [
       "$\\displaystyle \\verb|Substitution|\\verb| |\\verb|Delta:|\\verb| |\\verb|done|$"
      ],
      "text/plain": [
       "'Substitution Delta: done'"
      ]
     },
     "metadata": {},
     "output_type": "display_data"
    },
    {
     "data": {
      "text/html": [
       "<html>\\(\\displaystyle C_{0113} =  0\\)</html>"
      ],
      "text/latex": [
       "$\\displaystyle C_{0113} =  0$"
      ],
      "text/plain": [
       "C_{0113} =  0"
      ]
     },
     "metadata": {},
     "output_type": "display_data"
    },
    {
     "data": {
      "text/html": [
       "<html>\\(\\displaystyle \\verb|Substitution|\\verb| |\\verb|Lambda:|\\verb| |\\verb|done|\\)</html>"
      ],
      "text/latex": [
       "$\\displaystyle \\verb|Substitution|\\verb| |\\verb|Lambda:|\\verb| |\\verb|done|$"
      ],
      "text/plain": [
       "'Substitution Lambda: done'"
      ]
     },
     "metadata": {},
     "output_type": "display_data"
    },
    {
     "data": {
      "text/html": [
       "<html>\\(\\displaystyle \\verb|Substitution|\\verb| |\\verb|Delta:|\\verb| |\\verb|done|\\)</html>"
      ],
      "text/latex": [
       "$\\displaystyle \\verb|Substitution|\\verb| |\\verb|Delta:|\\verb| |\\verb|done|$"
      ],
      "text/plain": [
       "'Substitution Delta: done'"
      ]
     },
     "metadata": {},
     "output_type": "display_data"
    },
    {
     "data": {
      "text/html": [
       "<html>\\(\\displaystyle C_{0123} =  0\\)</html>"
      ],
      "text/latex": [
       "$\\displaystyle C_{0123} =  0$"
      ],
      "text/plain": [
       "C_{0123} =  0"
      ]
     },
     "metadata": {},
     "output_type": "display_data"
    },
    {
     "data": {
      "text/html": [
       "<html>\\(\\displaystyle \\verb|Substitution|\\verb| |\\verb|Lambda:|\\verb| |\\verb|done|\\)</html>"
      ],
      "text/latex": [
       "$\\displaystyle \\verb|Substitution|\\verb| |\\verb|Lambda:|\\verb| |\\verb|done|$"
      ],
      "text/plain": [
       "'Substitution Lambda: done'"
      ]
     },
     "metadata": {},
     "output_type": "display_data"
    },
    {
     "data": {
      "text/html": [
       "<html>\\(\\displaystyle \\verb|Substitution|\\verb| |\\verb|Delta:|\\verb| |\\verb|done|\\)</html>"
      ],
      "text/latex": [
       "$\\displaystyle \\verb|Substitution|\\verb| |\\verb|Delta:|\\verb| |\\verb|done|$"
      ],
      "text/plain": [
       "'Substitution Delta: done'"
      ]
     },
     "metadata": {},
     "output_type": "display_data"
    },
    {
     "data": {
      "text/html": [
       "<html>\\(\\displaystyle C_{0132} =  0\\)</html>"
      ],
      "text/latex": [
       "$\\displaystyle C_{0132} =  0$"
      ],
      "text/plain": [
       "C_{0132} =  0"
      ]
     },
     "metadata": {},
     "output_type": "display_data"
    }
   ],
   "source": [
    "for i in range(4):\n",
    "    for j in range(4):\n",
    "        for k in range(4):\n",
    "            for l in range(4):\n",
    "                latex_str = r'C_{{{}{}{}{}}} = '.format(i, j, k, l)  \n",
    "                if [i, j, k, l] in [[0, 1, 0, 1],[0, 1, 1, 0],[0, 1, 1, 3],[0, 1, 2, 3],[0, 1, 3, 2]]:\n",
    "                    show(LatexExpr(latex_str), subs_func(ER_Weyl[i, j, k, l]).canonicalize_radical().factor().factor()) "
   ]
  },
  {
   "cell_type": "markdown",
   "id": "0ae166bb-8550-49a7-90c0-c7f41d63bcec",
   "metadata": {},
   "source": [
    "# V. NP-Weyl scalars"
   ]
  },
  {
   "cell_type": "markdown",
   "id": "f21baa38-d666-4128-bd37-b3133dbba958",
   "metadata": {},
   "source": [
    "We need to convert the tetrad into a M manifold indexed vector field and align it onto the same tetrad"
   ]
  },
  {
   "cell_type": "code",
   "execution_count": 23,
   "id": "79decec1-4cee-4aca-b937-cad9e6d767b6",
   "metadata": {},
   "outputs": [],
   "source": [
    "tetrad_L, tetrad_N, tetrad_Mr, tetrad_Mbar = M.vector_field(name='tetrad_L'), M.vector_field(name='tetrad_N'), \\\n",
    "                                            M.vector_field(name='tetrad_Mr'), M.vector_field(name='tetrad_Mbar')\n",
    "for i in range(4):\n",
    "    tetrad_L[i] = L[i].expr()\n",
    "    tetrad_N[i] = N[i].expr()\n",
    "    tetrad_Mr[i] = Mr[i].expr()\n",
    "    tetrad_Mbar[i] = Mbar[i].expr()"
   ]
  },
  {
   "cell_type": "code",
   "execution_count": 24,
   "id": "6e2af8ab-b534-45ea-a0a8-032ba8dc1889",
   "metadata": {},
   "outputs": [],
   "source": [
    "l_scalar, n_scalar, m_scalar, mbar_scalar =  (tetrad_L.down(g).contract(0, tetrad_L, 0)).expr(), (tetrad_N.down(g).contract(0, tetrad_N, 0)).expr(),\\\n",
    "                                            (tetrad_Mr.down(g).contract(0, tetrad_Mr, 0)).expr(), (tetrad_Mbar.down(g).contract(0, tetrad_Mbar, 0)).expr()\n",
    "lm, mn,ln, mbarm = (tetrad_L.down(g).contract(0, tetrad_Mr, 0)).expr(), (tetrad_N.down(g).contract(0, tetrad_Mr, 0)).expr(),\\\n",
    "                                            (tetrad_N.down(g).contract(0, tetrad_L, 0)).expr(), (tetrad_Mbar.down(g).contract(0, tetrad_Mr, 0)).expr()"
   ]
  },
  {
   "cell_type": "code",
   "execution_count": 25,
   "id": "1e131faa-488d-42b8-9dc9-5996ec66f81a",
   "metadata": {},
   "outputs": [
    {
     "data": {
      "text/html": [
       "<html>\\(\\displaystyle l^{\\mu}l_{\\mu} =  0 \\hspace{0.5cm} n^{\\mu}n_{\\mu} =  0 \\hspace{0.5cm} m^{\\mu}m_{\\mu} =  0 \\hspace{0.5cm} \\bar{m}^{\\mu}\\bar{m}_{\\mu} =  0\\)</html>"
      ],
      "text/latex": [
       "$\\displaystyle l^{\\mu}l_{\\mu} =  0 \\hspace{0.5cm} n^{\\mu}n_{\\mu} =  0 \\hspace{0.5cm} m^{\\mu}m_{\\mu} =  0 \\hspace{0.5cm} \\bar{m}^{\\mu}\\bar{m}_{\\mu} =  0$"
      ],
      "text/plain": [
       "l^{\\mu}l_{\\mu} =  0 \\hspace{0.5cm} n^{\\mu}n_{\\mu} =  0 \\hspace{0.5cm} m^{\\mu}m_{\\mu} =  0 \\hspace{0.5cm} \\bar{m}^{\\mu}\\bar{m}_{\\mu} =  0"
      ]
     },
     "metadata": {},
     "output_type": "display_data"
    },
    {
     "data": {
      "text/html": [
       "<html>\\(\\displaystyle l^{\\mu}m_{\\mu} =  0 \\hspace{0.5cm} m^{\\mu}n_{\\mu} =  0\\)</html>"
      ],
      "text/latex": [
       "$\\displaystyle l^{\\mu}m_{\\mu} =  0 \\hspace{0.5cm} m^{\\mu}n_{\\mu} =  0$"
      ],
      "text/plain": [
       "l^{\\mu}m_{\\mu} =  0 \\hspace{0.5cm} m^{\\mu}n_{\\mu} =  0"
      ]
     },
     "metadata": {},
     "output_type": "display_data"
    },
    {
     "data": {
      "text/html": [
       "<html>\\(\\displaystyle l^{\\mu}n_{\\mu} =  -1 \\hspace{0.5cm} m^{\\mu}\\bar{m}_{\\mu} =  1\\)</html>"
      ],
      "text/latex": [
       "$\\displaystyle l^{\\mu}n_{\\mu} =  -1 \\hspace{0.5cm} m^{\\mu}\\bar{m}_{\\mu} =  1$"
      ],
      "text/plain": [
       "l^{\\mu}n_{\\mu} =  -1 \\hspace{0.5cm} m^{\\mu}\\bar{m}_{\\mu} =  1"
      ]
     },
     "metadata": {},
     "output_type": "display_data"
    }
   ],
   "source": [
    "show(LatexExpr(r'l^{\\mu}l_{\\mu} = '),l_scalar, LatexExpr(r'\\hspace{0.5cm} n^{\\mu}n_{\\mu} = '),\\\n",
    "     n_scalar, LatexExpr(r'\\hspace{0.5cm} m^{\\mu}m_{\\mu} = '),m_scalar, \\\n",
    "     LatexExpr(r'\\hspace{0.5cm} \\bar{m}^{\\mu}\\bar{m}_{\\mu} = '),mbar_scalar)\n",
    "\n",
    "show(LatexExpr(r'l^{\\mu}m_{\\mu} = '),lm, LatexExpr(r'\\hspace{0.5cm} m^{\\mu}n_{\\mu} = '),\\\n",
    "     mn)\n",
    "\n",
    "\n",
    "show(LatexExpr(r'l^{\\mu}n_{\\mu} = '),ln, LatexExpr(r'\\hspace{0.5cm} m^{\\mu}\\bar{m}_{\\mu} = '),mbarm)"
   ]
  },
  {
   "cell_type": "markdown",
   "id": "432ef465-7394-4ffb-9121-030d91edc365",
   "metadata": {},
   "source": [
    "Let's verify we recover the metric on the basis of the null complex tetrad components"
   ]
  },
  {
   "cell_type": "code",
   "execution_count": 26,
   "id": "acbf36e1-9b7e-4002-bde9-b1662460e227",
   "metadata": {},
   "outputs": [
    {
     "data": {
      "text/html": [
       "<html>\\(\\displaystyle g_{\\mu\\nu} =  \\left(\\begin{array}{rrrr}\n",
       "-\\frac{{\\left(r - r_{s}\\right)}^{b} \\Lambda\\left(r, {\\theta}\\right)^{\\frac{28}{13}}}{r^{b} \\Delta\\left(r\\right)^{2}} & 0 & 0 & 0 \\\\\n",
       "0 & \\frac{r^{b} \\Lambda\\left(r, {\\theta}\\right)^{\\frac{28}{13}}}{{\\left(r - r_{s}\\right)}^{b} \\Delta\\left(r\\right)^{2}} & 0 & 0 \\\\\n",
       "0 & 0 & -\\frac{{\\left(r^{b + 1} r_{s} \\Lambda\\left(r, {\\theta}\\right)^{2} - r^{b + 2} \\Lambda\\left(r, {\\theta}\\right)^{2}\\right)} \\Lambda\\left(r, {\\theta}\\right)^{\\frac{2}{13}}}{{\\left(r - r_{s}\\right)}^{b} \\Delta\\left(r\\right)^{2}} & 0 \\\\\n",
       "0 & 0 & 0 & -\\frac{{\\left(r^{b + 1} r_{s} - r^{b + 2}\\right)} \\sin\\left({\\theta}\\right)^{2}}{{\\left(r - r_{s}\\right)}^{b} \\Delta\\left(r\\right)^{2} \\Lambda\\left(r, {\\theta}\\right)^{\\frac{20}{13}}}\n",
       "\\end{array}\\right)\\)</html>"
      ],
      "text/latex": [
       "$\\displaystyle g_{\\mu\\nu} =  \\left(\\begin{array}{rrrr}\n",
       "-\\frac{{\\left(r - r_{s}\\right)}^{b} \\Lambda\\left(r, {\\theta}\\right)^{\\frac{28}{13}}}{r^{b} \\Delta\\left(r\\right)^{2}} & 0 & 0 & 0 \\\\\n",
       "0 & \\frac{r^{b} \\Lambda\\left(r, {\\theta}\\right)^{\\frac{28}{13}}}{{\\left(r - r_{s}\\right)}^{b} \\Delta\\left(r\\right)^{2}} & 0 & 0 \\\\\n",
       "0 & 0 & -\\frac{{\\left(r^{b + 1} r_{s} \\Lambda\\left(r, {\\theta}\\right)^{2} - r^{b + 2} \\Lambda\\left(r, {\\theta}\\right)^{2}\\right)} \\Lambda\\left(r, {\\theta}\\right)^{\\frac{2}{13}}}{{\\left(r - r_{s}\\right)}^{b} \\Delta\\left(r\\right)^{2}} & 0 \\\\\n",
       "0 & 0 & 0 & -\\frac{{\\left(r^{b + 1} r_{s} - r^{b + 2}\\right)} \\sin\\left({\\theta}\\right)^{2}}{{\\left(r - r_{s}\\right)}^{b} \\Delta\\left(r\\right)^{2} \\Lambda\\left(r, {\\theta}\\right)^{\\frac{20}{13}}}\n",
       "\\end{array}\\right)$"
      ],
      "text/plain": [
       "g_{\\mu\\nu} =  [                                                       -(r - r_s)^b*Lambda(r, th)^(28/13)/(r^b*Delta(r)^2)                                                                                                          0                                                                                                          0                                                                                                          0]\n",
       "[                                                                                                         0                                                         r^b*Lambda(r, th)^(28/13)/((r - r_s)^b*Delta(r)^2)                                                                                                          0                                                                                                          0]\n",
       "[                                                                                                         0                                                                                                          0 -(r^(b + 1)*r_s*Lambda(r, th)^2 - r^(b + 2)*Lambda(r, th)^2)*Lambda(r, th)^(2/13)/((r - r_s)^b*Delta(r)^2)                                                                                                          0]\n",
       "[                                                                                                         0                                                                                                          0                                                                                                          0                      -(r^(b + 1)*r_s - r^(b + 2))*sin(th)^2/((r - r_s)^b*Delta(r)^2*Lambda(r, th)^(20/13))]"
      ]
     },
     "metadata": {},
     "output_type": "display_data"
    }
   ],
   "source": [
    "for i in range(4):\n",
    "    g[i,i] = -2*tetrad_L.down(g)[i]*tetrad_N.down(g)[i] + 2*tetrad_Mr.down(g)[i]*tetrad_Mbar.down(g)[i]\n",
    "show(LatexExpr(r'g_{\\mu\\nu} = '), g[:])"
   ]
  },
  {
   "cell_type": "code",
   "execution_count": 27,
   "id": "9ba50c8a-8ed5-4b0e-8d7d-521e6815c74e",
   "metadata": {},
   "outputs": [],
   "source": [
    "components = [[[[ER_Weyl[i,j,k,l] for i in range(4)] for j in range(4)] for k in range(4)] for l in range(4)]\n",
    "Weyl_tensor = M.tensor_field(0, 4, name='Weyl_tensor')\n",
    "Weyl_tensor[:, :, :, :] = components"
   ]
  },
  {
   "cell_type": "markdown",
   "id": "4266fd17-7310-4453-8696-3ba61d9f2ba9",
   "metadata": {},
   "source": [
    "## V.1. Scalar 0"
   ]
  },
  {
   "cell_type": "code",
   "execution_count": 28,
   "id": "47b4e871-1718-47d3-90e0-a3077f231c5f",
   "metadata": {},
   "outputs": [
    {
     "name": "stdout",
     "output_type": "stream",
     "text": [
      "1st contraction (0, 4)\n",
      "2nd contraction (0, 3)\n",
      "3rd contraction (0, 2)\n",
      "4th contraction (0, 1)\n"
     ]
    },
    {
     "data": {
      "text/html": [
       "<html>\\(\\displaystyle \\verb|Substitution|\\verb| |\\verb|Lambda:|\\verb| |\\verb|done|\\)</html>"
      ],
      "text/latex": [
       "$\\displaystyle \\verb|Substitution|\\verb| |\\verb|Lambda:|\\verb| |\\verb|done|$"
      ],
      "text/plain": [
       "'Substitution Lambda: done'"
      ]
     },
     "metadata": {},
     "output_type": "display_data"
    },
    {
     "data": {
      "text/html": [
       "<html>\\(\\displaystyle \\verb|Substitution|\\verb| |\\verb|Delta:|\\verb| |\\verb|done|\\)</html>"
      ],
      "text/latex": [
       "$\\displaystyle \\verb|Substitution|\\verb| |\\verb|Delta:|\\verb| |\\verb|done|$"
      ],
      "text/plain": [
       "'Substitution Delta: done'"
      ]
     },
     "metadata": {},
     "output_type": "display_data"
    },
    {
     "data": {
      "text/html": [
       "<html>\\(\\displaystyle \\Psi_{0} = W_{\\alpha\\beta\\gamma\\delta}l^{\\alpha}m^{\\beta}l^{\\gamma}m^{\\delta} =  -\\frac{110592 \\, \\left(\\frac{1}{48}\\right)^{\\frac{11}{13}} {\\left(35 \\, \\sqrt{3} \\sqrt{-b^{2} + 1} B_{0}^{2} b r^{2} r_{s}^{2} \\left(\\frac{r - r_{s}}{r}\\right)^{\\frac{1}{6} \\, \\sqrt{3} \\sqrt{-b^{2} + 1}} \\sin\\left({\\theta}\\right)^{2} - 54 \\, B_{0}^{2} b^{2} r^{2} r_{s}^{2} \\left(\\frac{r - r_{s}}{r}\\right)^{\\frac{1}{6} \\, \\sqrt{3} \\sqrt{-b^{2} + 1}} \\sin\\left({\\theta}\\right)^{2} - 35 \\, \\sqrt{3} \\sqrt{-b^{2} + 1} B_{0}^{2} b r r_{s}^{3} \\left(\\frac{r - r_{s}}{r}\\right)^{\\frac{1}{6} \\, \\sqrt{3} \\sqrt{-b^{2} + 1}} \\sin\\left({\\theta}\\right)^{2} + 54 \\, B_{0}^{2} b^{2} r r_{s}^{3} \\left(\\frac{r - r_{s}}{r}\\right)^{\\frac{1}{6} \\, \\sqrt{3} \\sqrt{-b^{2} + 1}} \\sin\\left({\\theta}\\right)^{2} - 96 \\, \\sqrt{3} \\sqrt{-b^{2} + 1} B_{0}^{2} r^{3} r_{s} \\left(\\frac{r - r_{s}}{r}\\right)^{\\frac{1}{6} \\, \\sqrt{3} \\sqrt{-b^{2} + 1}} \\sin\\left({\\theta}\\right)^{2} + 420 \\, B_{0}^{2} b r^{3} r_{s} \\left(\\frac{r - r_{s}}{r}\\right)^{\\frac{1}{6} \\, \\sqrt{3} \\sqrt{-b^{2} + 1}} \\sin\\left({\\theta}\\right)^{2} + 144 \\, \\sqrt{3} \\sqrt{-b^{2} + 1} B_{0}^{2} r^{2} r_{s}^{2} \\left(\\frac{r - r_{s}}{r}\\right)^{\\frac{1}{6} \\, \\sqrt{3} \\sqrt{-b^{2} + 1}} \\sin\\left({\\theta}\\right)^{2} - 630 \\, B_{0}^{2} b r^{2} r_{s}^{2} \\left(\\frac{r - r_{s}}{r}\\right)^{\\frac{1}{6} \\, \\sqrt{3} \\sqrt{-b^{2} + 1}} \\sin\\left({\\theta}\\right)^{2} - 48 \\, \\sqrt{3} \\sqrt{-b^{2} + 1} B_{0}^{2} r r_{s}^{3} \\left(\\frac{r - r_{s}}{r}\\right)^{\\frac{1}{6} \\, \\sqrt{3} \\sqrt{-b^{2} + 1}} \\sin\\left({\\theta}\\right)^{2} + 210 \\, B_{0}^{2} b r r_{s}^{3} \\left(\\frac{r - r_{s}}{r}\\right)^{\\frac{1}{6} \\, \\sqrt{3} \\sqrt{-b^{2} + 1}} \\sin\\left({\\theta}\\right)^{2} - 420 \\, B_{0}^{2} r^{4} \\left(\\frac{r - r_{s}}{r}\\right)^{\\frac{1}{6} \\, \\sqrt{3} \\sqrt{-b^{2} + 1}} \\sin\\left({\\theta}\\right)^{2} + 840 \\, B_{0}^{2} r^{3} r_{s} \\left(\\frac{r - r_{s}}{r}\\right)^{\\frac{1}{6} \\, \\sqrt{3} \\sqrt{-b^{2} + 1}} \\sin\\left({\\theta}\\right)^{2} - 576 \\, B_{0}^{2} r^{2} r_{s}^{2} \\left(\\frac{r - r_{s}}{r}\\right)^{\\frac{1}{6} \\, \\sqrt{3} \\sqrt{-b^{2} + 1}} \\sin\\left({\\theta}\\right)^{2} + 156 \\, B_{0}^{2} r r_{s}^{3} \\left(\\frac{r - r_{s}}{r}\\right)^{\\frac{1}{6} \\, \\sqrt{3} \\sqrt{-b^{2} + 1}} \\sin\\left({\\theta}\\right)^{2} - 144 \\, \\sqrt{3} \\sqrt{-b^{2} + 1} b r_{s}^{2} \\left(\\frac{r - r_{s}}{r}\\right)^{b} + 552 \\, b^{2} r_{s}^{2} \\left(\\frac{r - r_{s}}{r}\\right)^{b} + 192 \\, \\sqrt{3} \\sqrt{-b^{2} + 1} r r_{s} \\left(\\frac{r - r_{s}}{r}\\right)^{b} - 1728 \\, b r r_{s} \\left(\\frac{r - r_{s}}{r}\\right)^{b} - 96 \\, \\sqrt{3} \\sqrt{-b^{2} + 1} r_{s}^{2} \\left(\\frac{r - r_{s}}{r}\\right)^{b} + 864 \\, b r_{s}^{2} \\left(\\frac{r - r_{s}}{r}\\right)^{b} + 1728 \\, r^{2} \\left(\\frac{r - r_{s}}{r}\\right)^{b} - 1728 \\, r r_{s} \\left(\\frac{r - r_{s}}{r}\\right)^{b} + 312 \\, r_{s}^{2} \\left(\\frac{r - r_{s}}{r}\\right)^{b}\\right)} B_{0}^{2} {\\left(r - r_{s}\\right)}^{b} r^{-b - 1} \\left(\\frac{r - r_{s}}{r}\\right)^{\\frac{1}{2} \\, \\sqrt{3} \\sqrt{-b^{2} + 1} + 2 \\, b} \\sin\\left({\\theta}\\right)^{2}}{{\\left(13 \\, B_{0}^{2} r^{2} \\left(\\frac{r - r_{s}}{r}\\right)^{\\frac{1}{6} \\, \\sqrt{3} \\sqrt{-b^{2} + 1}} \\sin\\left({\\theta}\\right)^{2} - 13 \\, B_{0}^{2} r r_{s} \\left(\\frac{r - r_{s}}{r}\\right)^{\\frac{1}{6} \\, \\sqrt{3} \\sqrt{-b^{2} + 1}} \\sin\\left({\\theta}\\right)^{2} + 48 \\, \\left(\\frac{r - r_{s}}{r}\\right)^{b}\\right)}^{4} {\\left(r - r_{s}\\right)} \\left(\\frac{13 \\, {\\left(B_{0}^{2} r^{2} - B_{0}^{2} r r_{s}\\right)} \\left(\\frac{r - r_{s}}{r}\\right)^{\\frac{1}{6} \\, \\sqrt{3} \\sqrt{-b^{2} + 1}} \\sin\\left({\\theta}\\right)^{2} + 48 \\, \\left(\\frac{r - r_{s}}{r}\\right)^{b}}{\\left(\\frac{r - r_{s}}{r}\\right)^{b}}\\right)^{\\frac{2}{13}}}\\)</html>"
      ],
      "text/latex": [
       "$\\displaystyle \\Psi_{0} = W_{\\alpha\\beta\\gamma\\delta}l^{\\alpha}m^{\\beta}l^{\\gamma}m^{\\delta} =  -\\frac{110592 \\, \\left(\\frac{1}{48}\\right)^{\\frac{11}{13}} {\\left(35 \\, \\sqrt{3} \\sqrt{-b^{2} + 1} B_{0}^{2} b r^{2} r_{s}^{2} \\left(\\frac{r - r_{s}}{r}\\right)^{\\frac{1}{6} \\, \\sqrt{3} \\sqrt{-b^{2} + 1}} \\sin\\left({\\theta}\\right)^{2} - 54 \\, B_{0}^{2} b^{2} r^{2} r_{s}^{2} \\left(\\frac{r - r_{s}}{r}\\right)^{\\frac{1}{6} \\, \\sqrt{3} \\sqrt{-b^{2} + 1}} \\sin\\left({\\theta}\\right)^{2} - 35 \\, \\sqrt{3} \\sqrt{-b^{2} + 1} B_{0}^{2} b r r_{s}^{3} \\left(\\frac{r - r_{s}}{r}\\right)^{\\frac{1}{6} \\, \\sqrt{3} \\sqrt{-b^{2} + 1}} \\sin\\left({\\theta}\\right)^{2} + 54 \\, B_{0}^{2} b^{2} r r_{s}^{3} \\left(\\frac{r - r_{s}}{r}\\right)^{\\frac{1}{6} \\, \\sqrt{3} \\sqrt{-b^{2} + 1}} \\sin\\left({\\theta}\\right)^{2} - 96 \\, \\sqrt{3} \\sqrt{-b^{2} + 1} B_{0}^{2} r^{3} r_{s} \\left(\\frac{r - r_{s}}{r}\\right)^{\\frac{1}{6} \\, \\sqrt{3} \\sqrt{-b^{2} + 1}} \\sin\\left({\\theta}\\right)^{2} + 420 \\, B_{0}^{2} b r^{3} r_{s} \\left(\\frac{r - r_{s}}{r}\\right)^{\\frac{1}{6} \\, \\sqrt{3} \\sqrt{-b^{2} + 1}} \\sin\\left({\\theta}\\right)^{2} + 144 \\, \\sqrt{3} \\sqrt{-b^{2} + 1} B_{0}^{2} r^{2} r_{s}^{2} \\left(\\frac{r - r_{s}}{r}\\right)^{\\frac{1}{6} \\, \\sqrt{3} \\sqrt{-b^{2} + 1}} \\sin\\left({\\theta}\\right)^{2} - 630 \\, B_{0}^{2} b r^{2} r_{s}^{2} \\left(\\frac{r - r_{s}}{r}\\right)^{\\frac{1}{6} \\, \\sqrt{3} \\sqrt{-b^{2} + 1}} \\sin\\left({\\theta}\\right)^{2} - 48 \\, \\sqrt{3} \\sqrt{-b^{2} + 1} B_{0}^{2} r r_{s}^{3} \\left(\\frac{r - r_{s}}{r}\\right)^{\\frac{1}{6} \\, \\sqrt{3} \\sqrt{-b^{2} + 1}} \\sin\\left({\\theta}\\right)^{2} + 210 \\, B_{0}^{2} b r r_{s}^{3} \\left(\\frac{r - r_{s}}{r}\\right)^{\\frac{1}{6} \\, \\sqrt{3} \\sqrt{-b^{2} + 1}} \\sin\\left({\\theta}\\right)^{2} - 420 \\, B_{0}^{2} r^{4} \\left(\\frac{r - r_{s}}{r}\\right)^{\\frac{1}{6} \\, \\sqrt{3} \\sqrt{-b^{2} + 1}} \\sin\\left({\\theta}\\right)^{2} + 840 \\, B_{0}^{2} r^{3} r_{s} \\left(\\frac{r - r_{s}}{r}\\right)^{\\frac{1}{6} \\, \\sqrt{3} \\sqrt{-b^{2} + 1}} \\sin\\left({\\theta}\\right)^{2} - 576 \\, B_{0}^{2} r^{2} r_{s}^{2} \\left(\\frac{r - r_{s}}{r}\\right)^{\\frac{1}{6} \\, \\sqrt{3} \\sqrt{-b^{2} + 1}} \\sin\\left({\\theta}\\right)^{2} + 156 \\, B_{0}^{2} r r_{s}^{3} \\left(\\frac{r - r_{s}}{r}\\right)^{\\frac{1}{6} \\, \\sqrt{3} \\sqrt{-b^{2} + 1}} \\sin\\left({\\theta}\\right)^{2} - 144 \\, \\sqrt{3} \\sqrt{-b^{2} + 1} b r_{s}^{2} \\left(\\frac{r - r_{s}}{r}\\right)^{b} + 552 \\, b^{2} r_{s}^{2} \\left(\\frac{r - r_{s}}{r}\\right)^{b} + 192 \\, \\sqrt{3} \\sqrt{-b^{2} + 1} r r_{s} \\left(\\frac{r - r_{s}}{r}\\right)^{b} - 1728 \\, b r r_{s} \\left(\\frac{r - r_{s}}{r}\\right)^{b} - 96 \\, \\sqrt{3} \\sqrt{-b^{2} + 1} r_{s}^{2} \\left(\\frac{r - r_{s}}{r}\\right)^{b} + 864 \\, b r_{s}^{2} \\left(\\frac{r - r_{s}}{r}\\right)^{b} + 1728 \\, r^{2} \\left(\\frac{r - r_{s}}{r}\\right)^{b} - 1728 \\, r r_{s} \\left(\\frac{r - r_{s}}{r}\\right)^{b} + 312 \\, r_{s}^{2} \\left(\\frac{r - r_{s}}{r}\\right)^{b}\\right)} B_{0}^{2} {\\left(r - r_{s}\\right)}^{b} r^{-b - 1} \\left(\\frac{r - r_{s}}{r}\\right)^{\\frac{1}{2} \\, \\sqrt{3} \\sqrt{-b^{2} + 1} + 2 \\, b} \\sin\\left({\\theta}\\right)^{2}}{{\\left(13 \\, B_{0}^{2} r^{2} \\left(\\frac{r - r_{s}}{r}\\right)^{\\frac{1}{6} \\, \\sqrt{3} \\sqrt{-b^{2} + 1}} \\sin\\left({\\theta}\\right)^{2} - 13 \\, B_{0}^{2} r r_{s} \\left(\\frac{r - r_{s}}{r}\\right)^{\\frac{1}{6} \\, \\sqrt{3} \\sqrt{-b^{2} + 1}} \\sin\\left({\\theta}\\right)^{2} + 48 \\, \\left(\\frac{r - r_{s}}{r}\\right)^{b}\\right)}^{4} {\\left(r - r_{s}\\right)} \\left(\\frac{13 \\, {\\left(B_{0}^{2} r^{2} - B_{0}^{2} r r_{s}\\right)} \\left(\\frac{r - r_{s}}{r}\\right)^{\\frac{1}{6} \\, \\sqrt{3} \\sqrt{-b^{2} + 1}} \\sin\\left({\\theta}\\right)^{2} + 48 \\, \\left(\\frac{r - r_{s}}{r}\\right)^{b}}{\\left(\\frac{r - r_{s}}{r}\\right)^{b}}\\right)^{\\frac{2}{13}}}$"
      ],
      "text/plain": [
       "\\Psi_{0} = W_{\\alpha\\beta\\gamma\\delta}l^{\\alpha}m^{\\beta}l^{\\gamma}m^{\\delta} =  -110592*(1/48)^(11/13)*(35*sqrt(3)*sqrt(-b^2 + 1)*B_0^2*b*r^2*r_s^2*((r - r_s)/r)^(1/6*sqrt(3)*sqrt(-b^2 + 1))*sin(th)^2 - 54*B_0^2*b^2*r^2*r_s^2*((r - r_s)/r)^(1/6*sqrt(3)*sqrt(-b^2 + 1))*sin(th)^2 - 35*sqrt(3)*sqrt(-b^2 + 1)*B_0^2*b*r*r_s^3*((r - r_s)/r)^(1/6*sqrt(3)*sqrt(-b^2 + 1))*sin(th)^2 + 54*B_0^2*b^2*r*r_s^3*((r - r_s)/r)^(1/6*sqrt(3)*sqrt(-b^2 + 1))*sin(th)^2 - 96*sqrt(3)*sqrt(-b^2 + 1)*B_0^2*r^3*r_s*((r - r_s)/r)^(1/6*sqrt(3)*sqrt(-b^2 + 1))*sin(th)^2 + 420*B_0^2*b*r^3*r_s*((r - r_s)/r)^(1/6*sqrt(3)*sqrt(-b^2 + 1))*sin(th)^2 + 144*sqrt(3)*sqrt(-b^2 + 1)*B_0^2*r^2*r_s^2*((r - r_s)/r)^(1/6*sqrt(3)*sqrt(-b^2 + 1))*sin(th)^2 - 630*B_0^2*b*r^2*r_s^2*((r - r_s)/r)^(1/6*sqrt(3)*sqrt(-b^2 + 1))*sin(th)^2 - 48*sqrt(3)*sqrt(-b^2 + 1)*B_0^2*r*r_s^3*((r - r_s)/r)^(1/6*sqrt(3)*sqrt(-b^2 + 1))*sin(th)^2 + 210*B_0^2*b*r*r_s^3*((r - r_s)/r)^(1/6*sqrt(3)*sqrt(-b^2 + 1))*sin(th)^2 - 420*B_0^2*r^4*((r - r_s)/r)^(1/6*sqrt(3)*sqrt(-b^2 + 1))*sin(th)^2 + 840*B_0^2*r^3*r_s*((r - r_s)/r)^(1/6*sqrt(3)*sqrt(-b^2 + 1))*sin(th)^2 - 576*B_0^2*r^2*r_s^2*((r - r_s)/r)^(1/6*sqrt(3)*sqrt(-b^2 + 1))*sin(th)^2 + 156*B_0^2*r*r_s^3*((r - r_s)/r)^(1/6*sqrt(3)*sqrt(-b^2 + 1))*sin(th)^2 - 144*sqrt(3)*sqrt(-b^2 + 1)*b*r_s^2*((r - r_s)/r)^b + 552*b^2*r_s^2*((r - r_s)/r)^b + 192*sqrt(3)*sqrt(-b^2 + 1)*r*r_s*((r - r_s)/r)^b - 1728*b*r*r_s*((r - r_s)/r)^b - 96*sqrt(3)*sqrt(-b^2 + 1)*r_s^2*((r - r_s)/r)^b + 864*b*r_s^2*((r - r_s)/r)^b + 1728*r^2*((r - r_s)/r)^b - 1728*r*r_s*((r - r_s)/r)^b + 312*r_s^2*((r - r_s)/r)^b)*B_0^2*(r - r_s)^b*r^(-b - 1)*((r - r_s)/r)^(1/2*sqrt(3)*sqrt(-b^2 + 1) + 2*b)*sin(th)^2/((13*B_0^2*r^2*((r - r_s)/r)^(1/6*sqrt(3)*sqrt(-b^2 + 1))*sin(th)^2 - 13*B_0^2*r*r_s*((r - r_s)/r)^(1/6*sqrt(3)*sqrt(-b^2 + 1))*sin(th)^2 + 48*((r - r_s)/r)^b)^4*(r - r_s)*((13*(B_0^2*r^2 - B_0^2*r*r_s)*((r - r_s)/r)^(1/6*sqrt(3)*sqrt(-b^2 + 1))*sin(th)^2 + 48*((r - r_s)/r)^b)/((r - r_s)/r)^b)^(2/13))"
      ]
     },
     "metadata": {},
     "output_type": "display_data"
    }
   ],
   "source": [
    "print('1st contraction', Weyl_tensor.tensor_type())\n",
    "Psi0 = Weyl_tensor.contract(0, tetrad_L, 0)\n",
    "print('2nd contraction', Psi0.tensor_type())\n",
    "Psi0 = Psi0.contract(0, tetrad_Mr, 0)\n",
    "print('3rd contraction', Psi0.tensor_type())\n",
    "Psi0 = Psi0.contract(0, tetrad_L, 0)\n",
    "print('4th contraction', Psi0.tensor_type())\n",
    "Psi0 = Psi0.contract(0, tetrad_Mr, 0)\n",
    "latex_str = r'\\Psi_{0} = W_{\\alpha\\beta\\gamma\\delta}l^{\\alpha}m^{\\beta}l^{\\gamma}m^{\\delta} = ' \n",
    "show(LatexExpr(latex_str), subs_func(Psi0))\n",
    "clear_output(wait=True)"
   ]
  },
  {
   "cell_type": "code",
   "execution_count": 29,
   "id": "a77addfa",
   "metadata": {},
   "outputs": [
    {
     "data": {
      "text/html": [
       "<html>\\(\\displaystyle \\verb|Substitution|\\verb| |\\verb|Lambda:|\\verb| |\\verb|done|\\)</html>"
      ],
      "text/latex": [
       "$\\displaystyle \\verb|Substitution|\\verb| |\\verb|Lambda:|\\verb| |\\verb|done|$"
      ],
      "text/plain": [
       "'Substitution Lambda: done'"
      ]
     },
     "metadata": {},
     "output_type": "display_data"
    },
    {
     "data": {
      "text/html": [
       "<html>\\(\\displaystyle \\verb|Substitution|\\verb| |\\verb|Delta:|\\verb| |\\verb|done|\\)</html>"
      ],
      "text/latex": [
       "$\\displaystyle \\verb|Substitution|\\verb| |\\verb|Delta:|\\verb| |\\verb|done|$"
      ],
      "text/plain": [
       "'Substitution Delta: done'"
      ]
     },
     "metadata": {},
     "output_type": "display_data"
    },
    {
     "data": {
      "text/html": [
       "<html>\\(\\displaystyle \\Psi_{0}= 0 \\Rightarrow  \\mathrm{False}\\)</html>"
      ],
      "text/latex": [
       "$\\displaystyle \\Psi_{0}= 0 \\Rightarrow  \\mathrm{False}$"
      ],
      "text/plain": [
       "\\Psi_{0}= 0 \\Rightarrow  False"
      ]
     },
     "metadata": {},
     "output_type": "display_data"
    }
   ],
   "source": [
    "show(LatexExpr(r'\\Psi_{0}= 0 \\Rightarrow '), numerator(subs_func(Psi0)).factor().is_zero())"
   ]
  },
  {
   "cell_type": "markdown",
   "id": "b90349f9-6f30-4f3e-bbca-0d045a250359",
   "metadata": {},
   "source": [
    "## V.2. Scalar I"
   ]
  },
  {
   "cell_type": "code",
   "execution_count": 30,
   "id": "6b8bb13c-5e4b-465d-9e11-e26e5de2516d",
   "metadata": {},
   "outputs": [
    {
     "name": "stdout",
     "output_type": "stream",
     "text": [
      "1st contraction (0, 4)\n",
      "2nd contraction (0, 3)\n",
      "3rd contraction (0, 2)\n",
      "4th contraction (0, 1)\n"
     ]
    },
    {
     "data": {
      "text/html": [
       "<html>\\(\\displaystyle \\verb|Substitution|\\verb| |\\verb|Lambda:|\\verb| |\\verb|done|\\)</html>"
      ],
      "text/latex": [
       "$\\displaystyle \\verb|Substitution|\\verb| |\\verb|Lambda:|\\verb| |\\verb|done|$"
      ],
      "text/plain": [
       "'Substitution Lambda: done'"
      ]
     },
     "metadata": {},
     "output_type": "display_data"
    },
    {
     "data": {
      "text/html": [
       "<html>\\(\\displaystyle \\verb|Substitution|\\verb| |\\verb|Delta:|\\verb| |\\verb|done|\\)</html>"
      ],
      "text/latex": [
       "$\\displaystyle \\verb|Substitution|\\verb| |\\verb|Delta:|\\verb| |\\verb|done|$"
      ],
      "text/plain": [
       "'Substitution Delta: done'"
      ]
     },
     "metadata": {},
     "output_type": "display_data"
    },
    {
     "data": {
      "text/html": [
       "<html>\\(\\displaystyle \\Psi_{1} = W_{\\alpha\\beta\\gamma\\delta}l^{\\alpha}n^{\\beta}l^{\\gamma}m^{\\delta} =  \\frac{110592 \\, \\left(\\frac{1}{48}\\right)^{\\frac{11}{13}} {\\left(35 \\, B_{0}^{2} r^{2} \\left(\\frac{r - r_{s}}{r}\\right)^{\\frac{1}{2} \\, \\sqrt{3} \\sqrt{-b^{2} + 1}} \\sin\\left({\\theta}\\right)^{2} - 35 \\, B_{0}^{2} r r_{s} \\left(\\frac{r - r_{s}}{r}\\right)^{\\frac{1}{2} \\, \\sqrt{3} \\sqrt{-b^{2} + 1}} \\sin\\left({\\theta}\\right)^{2} - 144 \\, \\left(\\frac{r - r_{s}}{r}\\right)^{\\frac{1}{3} \\, \\sqrt{3} \\sqrt{-b^{2} + 1} + b}\\right)} {\\left(\\sqrt{3} \\sqrt{-b^{2} + 1} r_{s} - 6 \\, b r_{s} + 12 \\, r - 6 \\, r_{s}\\right)} B_{0}^{2} {\\left(r - r_{s}\\right)}^{b + \\frac{1}{2}} r^{-b - \\frac{1}{2}} \\left(\\frac{r - r_{s}}{r}\\right)^{\\frac{1}{6} \\, \\sqrt{3} \\sqrt{-b^{2} + 1} + 2 \\, b} \\cos\\left({\\theta}\\right) \\sin\\left({\\theta}\\right)}{{\\left(13 \\, B_{0}^{2} r^{2} \\left(\\frac{r - r_{s}}{r}\\right)^{\\frac{1}{6} \\, \\sqrt{3} \\sqrt{-b^{2} + 1}} \\sin\\left({\\theta}\\right)^{2} - 13 \\, B_{0}^{2} r r_{s} \\left(\\frac{r - r_{s}}{r}\\right)^{\\frac{1}{6} \\, \\sqrt{3} \\sqrt{-b^{2} + 1}} \\sin\\left({\\theta}\\right)^{2} + 48 \\, \\left(\\frac{r - r_{s}}{r}\\right)^{b}\\right)}^{4} {\\left(r - r_{s}\\right)} \\left(\\frac{13 \\, {\\left(B_{0}^{2} r^{2} - B_{0}^{2} r r_{s}\\right)} \\left(\\frac{r - r_{s}}{r}\\right)^{\\frac{1}{6} \\, \\sqrt{3} \\sqrt{-b^{2} + 1}} \\sin\\left({\\theta}\\right)^{2} + 48 \\, \\left(\\frac{r - r_{s}}{r}\\right)^{b}}{\\left(\\frac{r - r_{s}}{r}\\right)^{b}}\\right)^{\\frac{2}{13}}}\\)</html>"
      ],
      "text/latex": [
       "$\\displaystyle \\Psi_{1} = W_{\\alpha\\beta\\gamma\\delta}l^{\\alpha}n^{\\beta}l^{\\gamma}m^{\\delta} =  \\frac{110592 \\, \\left(\\frac{1}{48}\\right)^{\\frac{11}{13}} {\\left(35 \\, B_{0}^{2} r^{2} \\left(\\frac{r - r_{s}}{r}\\right)^{\\frac{1}{2} \\, \\sqrt{3} \\sqrt{-b^{2} + 1}} \\sin\\left({\\theta}\\right)^{2} - 35 \\, B_{0}^{2} r r_{s} \\left(\\frac{r - r_{s}}{r}\\right)^{\\frac{1}{2} \\, \\sqrt{3} \\sqrt{-b^{2} + 1}} \\sin\\left({\\theta}\\right)^{2} - 144 \\, \\left(\\frac{r - r_{s}}{r}\\right)^{\\frac{1}{3} \\, \\sqrt{3} \\sqrt{-b^{2} + 1} + b}\\right)} {\\left(\\sqrt{3} \\sqrt{-b^{2} + 1} r_{s} - 6 \\, b r_{s} + 12 \\, r - 6 \\, r_{s}\\right)} B_{0}^{2} {\\left(r - r_{s}\\right)}^{b + \\frac{1}{2}} r^{-b - \\frac{1}{2}} \\left(\\frac{r - r_{s}}{r}\\right)^{\\frac{1}{6} \\, \\sqrt{3} \\sqrt{-b^{2} + 1} + 2 \\, b} \\cos\\left({\\theta}\\right) \\sin\\left({\\theta}\\right)}{{\\left(13 \\, B_{0}^{2} r^{2} \\left(\\frac{r - r_{s}}{r}\\right)^{\\frac{1}{6} \\, \\sqrt{3} \\sqrt{-b^{2} + 1}} \\sin\\left({\\theta}\\right)^{2} - 13 \\, B_{0}^{2} r r_{s} \\left(\\frac{r - r_{s}}{r}\\right)^{\\frac{1}{6} \\, \\sqrt{3} \\sqrt{-b^{2} + 1}} \\sin\\left({\\theta}\\right)^{2} + 48 \\, \\left(\\frac{r - r_{s}}{r}\\right)^{b}\\right)}^{4} {\\left(r - r_{s}\\right)} \\left(\\frac{13 \\, {\\left(B_{0}^{2} r^{2} - B_{0}^{2} r r_{s}\\right)} \\left(\\frac{r - r_{s}}{r}\\right)^{\\frac{1}{6} \\, \\sqrt{3} \\sqrt{-b^{2} + 1}} \\sin\\left({\\theta}\\right)^{2} + 48 \\, \\left(\\frac{r - r_{s}}{r}\\right)^{b}}{\\left(\\frac{r - r_{s}}{r}\\right)^{b}}\\right)^{\\frac{2}{13}}}$"
      ],
      "text/plain": [
       "\\Psi_{1} = W_{\\alpha\\beta\\gamma\\delta}l^{\\alpha}n^{\\beta}l^{\\gamma}m^{\\delta} =  110592*(1/48)^(11/13)*(35*B_0^2*r^2*((r - r_s)/r)^(1/2*sqrt(3)*sqrt(-b^2 + 1))*sin(th)^2 - 35*B_0^2*r*r_s*((r - r_s)/r)^(1/2*sqrt(3)*sqrt(-b^2 + 1))*sin(th)^2 - 144*((r - r_s)/r)^(1/3*sqrt(3)*sqrt(-b^2 + 1) + b))*(sqrt(3)*sqrt(-b^2 + 1)*r_s - 6*b*r_s + 12*r - 6*r_s)*B_0^2*(r - r_s)^(b + 1/2)*r^(-b - 1/2)*((r - r_s)/r)^(1/6*sqrt(3)*sqrt(-b^2 + 1) + 2*b)*cos(th)*sin(th)/((13*B_0^2*r^2*((r - r_s)/r)^(1/6*sqrt(3)*sqrt(-b^2 + 1))*sin(th)^2 - 13*B_0^2*r*r_s*((r - r_s)/r)^(1/6*sqrt(3)*sqrt(-b^2 + 1))*sin(th)^2 + 48*((r - r_s)/r)^b)^4*(r - r_s)*((13*(B_0^2*r^2 - B_0^2*r*r_s)*((r - r_s)/r)^(1/6*sqrt(3)*sqrt(-b^2 + 1))*sin(th)^2 + 48*((r - r_s)/r)^b)/((r - r_s)/r)^b)^(2/13))"
      ]
     },
     "metadata": {},
     "output_type": "display_data"
    }
   ],
   "source": [
    "print('1st contraction', Weyl_tensor.tensor_type())\n",
    "Psi1 = Weyl_tensor.contract(0, tetrad_L, 0)\n",
    "print('2nd contraction', Psi1.tensor_type())\n",
    "Psi1 = Psi1.contract(0, tetrad_N, 0)\n",
    "print('3rd contraction', Psi1.tensor_type())\n",
    "Psi1 = Psi1.contract(0, tetrad_L, 0)\n",
    "print('4th contraction', Psi1.tensor_type())\n",
    "Psi1 = Psi1.contract(0, tetrad_Mr, 0)\n",
    "latex_str = r'\\Psi_{1} = W_{\\alpha\\beta\\gamma\\delta}l^{\\alpha}n^{\\beta}l^{\\gamma}m^{\\delta} = ' \n",
    "show(LatexExpr(latex_str), subs_func(Psi1))\n",
    "clear_output(wait=True)"
   ]
  },
  {
   "cell_type": "code",
   "execution_count": 31,
   "id": "1a8094a9",
   "metadata": {},
   "outputs": [
    {
     "data": {
      "text/html": [
       "<html>\\(\\displaystyle \\verb|Substitution|\\verb| |\\verb|Lambda:|\\verb| |\\verb|done|\\)</html>"
      ],
      "text/latex": [
       "$\\displaystyle \\verb|Substitution|\\verb| |\\verb|Lambda:|\\verb| |\\verb|done|$"
      ],
      "text/plain": [
       "'Substitution Lambda: done'"
      ]
     },
     "metadata": {},
     "output_type": "display_data"
    },
    {
     "data": {
      "text/html": [
       "<html>\\(\\displaystyle \\verb|Substitution|\\verb| |\\verb|Delta:|\\verb| |\\verb|done|\\)</html>"
      ],
      "text/latex": [
       "$\\displaystyle \\verb|Substitution|\\verb| |\\verb|Delta:|\\verb| |\\verb|done|$"
      ],
      "text/plain": [
       "'Substitution Delta: done'"
      ]
     },
     "metadata": {},
     "output_type": "display_data"
    },
    {
     "data": {
      "text/html": [
       "<html>\\(\\displaystyle \\Psi_{1}= 0 \\Rightarrow  \\mathrm{False}\\)</html>"
      ],
      "text/latex": [
       "$\\displaystyle \\Psi_{1}= 0 \\Rightarrow  \\mathrm{False}$"
      ],
      "text/plain": [
       "\\Psi_{1}= 0 \\Rightarrow  False"
      ]
     },
     "metadata": {},
     "output_type": "display_data"
    }
   ],
   "source": [
    "show(LatexExpr(r'\\Psi_{1}= 0 \\Rightarrow '), numerator(subs_func(Psi1)).factor().is_zero())"
   ]
  },
  {
   "cell_type": "markdown",
   "id": "9518e426-bca8-465a-b415-2a2acf38132c",
   "metadata": {},
   "source": [
    "## IV.3. Scalar II"
   ]
  },
  {
   "cell_type": "code",
   "execution_count": 32,
   "id": "0b830d59-68d1-45af-8720-b5b5426fcee3",
   "metadata": {},
   "outputs": [
    {
     "name": "stdout",
     "output_type": "stream",
     "text": [
      "1st contraction (0, 4)\n",
      "2nd contraction (0, 3)\n",
      "3rd contraction (0, 2)\n",
      "4th contraction (0, 1)\n"
     ]
    },
    {
     "data": {
      "text/html": [
       "<html>\\(\\displaystyle \\verb|Substitution|\\verb| |\\verb|Lambda:|\\verb| |\\verb|done|\\)</html>"
      ],
      "text/latex": [
       "$\\displaystyle \\verb|Substitution|\\verb| |\\verb|Lambda:|\\verb| |\\verb|done|$"
      ],
      "text/plain": [
       "'Substitution Lambda: done'"
      ]
     },
     "metadata": {},
     "output_type": "display_data"
    },
    {
     "data": {
      "text/html": [
       "<html>\\(\\displaystyle \\verb|Substitution|\\verb| |\\verb|Delta:|\\verb| |\\verb|done|\\)</html>"
      ],
      "text/latex": [
       "$\\displaystyle \\verb|Substitution|\\verb| |\\verb|Delta:|\\verb| |\\verb|done|$"
      ],
      "text/plain": [
       "'Substitution Delta: done'"
      ]
     },
     "metadata": {},
     "output_type": "display_data"
    },
    {
     "data": {
      "text/html": [
       "<html>\\(\\displaystyle \\Psi_{2} = W_{\\alpha\\beta\\gamma\\delta}l^{\\alpha}m^{\\beta}\\bar{m}^{\\gamma}n^{\\delta} =  \\frac{9216 \\, \\left(\\frac{1}{48}\\right)^{\\frac{11}{13}} {\\left(244 \\, \\sqrt{3} \\sqrt{-b^{2} + 1} B_{0}^{4} b r^{4} r_{s}^{2} \\left(\\frac{r - r_{s}}{r}\\right)^{\\frac{2}{3} \\, \\sqrt{3} \\sqrt{-b^{2} + 1}} \\sin\\left({\\theta}\\right)^{4} - 502 \\, B_{0}^{4} b^{2} r^{4} r_{s}^{2} \\left(\\frac{r - r_{s}}{r}\\right)^{\\frac{2}{3} \\, \\sqrt{3} \\sqrt{-b^{2} + 1}} \\sin\\left({\\theta}\\right)^{4} - 488 \\, \\sqrt{3} \\sqrt{-b^{2} + 1} B_{0}^{4} b r^{3} r_{s}^{3} \\left(\\frac{r - r_{s}}{r}\\right)^{\\frac{2}{3} \\, \\sqrt{3} \\sqrt{-b^{2} + 1}} \\sin\\left({\\theta}\\right)^{4} + 1004 \\, B_{0}^{4} b^{2} r^{3} r_{s}^{3} \\left(\\frac{r - r_{s}}{r}\\right)^{\\frac{2}{3} \\, \\sqrt{3} \\sqrt{-b^{2} + 1}} \\sin\\left({\\theta}\\right)^{4} + 244 \\, \\sqrt{3} \\sqrt{-b^{2} + 1} B_{0}^{4} b r^{2} r_{s}^{4} \\left(\\frac{r - r_{s}}{r}\\right)^{\\frac{2}{3} \\, \\sqrt{3} \\sqrt{-b^{2} + 1}} \\sin\\left({\\theta}\\right)^{4} - 502 \\, B_{0}^{4} b^{2} r^{2} r_{s}^{4} \\left(\\frac{r - r_{s}}{r}\\right)^{\\frac{2}{3} \\, \\sqrt{3} \\sqrt{-b^{2} + 1}} \\sin\\left({\\theta}\\right)^{4} - 488 \\, \\sqrt{3} \\sqrt{-b^{2} + 1} B_{0}^{4} r^{5} r_{s} \\left(\\frac{r - r_{s}}{r}\\right)^{\\frac{2}{3} \\, \\sqrt{3} \\sqrt{-b^{2} + 1}} \\sin\\left({\\theta}\\right)^{4} + 2538 \\, B_{0}^{4} b r^{5} r_{s} \\left(\\frac{r - r_{s}}{r}\\right)^{\\frac{2}{3} \\, \\sqrt{3} \\sqrt{-b^{2} + 1}} \\sin\\left({\\theta}\\right)^{4} + 1220 \\, \\sqrt{3} \\sqrt{-b^{2} + 1} B_{0}^{4} r^{4} r_{s}^{2} \\left(\\frac{r - r_{s}}{r}\\right)^{\\frac{2}{3} \\, \\sqrt{3} \\sqrt{-b^{2} + 1}} \\sin\\left({\\theta}\\right)^{4} - 6345 \\, B_{0}^{4} b r^{4} r_{s}^{2} \\left(\\frac{r - r_{s}}{r}\\right)^{\\frac{2}{3} \\, \\sqrt{3} \\sqrt{-b^{2} + 1}} \\sin\\left({\\theta}\\right)^{4} - 976 \\, \\sqrt{3} \\sqrt{-b^{2} + 1} B_{0}^{4} r^{3} r_{s}^{3} \\left(\\frac{r - r_{s}}{r}\\right)^{\\frac{2}{3} \\, \\sqrt{3} \\sqrt{-b^{2} + 1}} \\sin\\left({\\theta}\\right)^{4} + 5076 \\, B_{0}^{4} b r^{3} r_{s}^{3} \\left(\\frac{r - r_{s}}{r}\\right)^{\\frac{2}{3} \\, \\sqrt{3} \\sqrt{-b^{2} + 1}} \\sin\\left({\\theta}\\right)^{4} + 244 \\, \\sqrt{3} \\sqrt{-b^{2} + 1} B_{0}^{4} r^{2} r_{s}^{4} \\left(\\frac{r - r_{s}}{r}\\right)^{\\frac{2}{3} \\, \\sqrt{3} \\sqrt{-b^{2} + 1}} \\sin\\left({\\theta}\\right)^{4} - 1269 \\, B_{0}^{4} b r^{2} r_{s}^{4} \\left(\\frac{r - r_{s}}{r}\\right)^{\\frac{2}{3} \\, \\sqrt{3} \\sqrt{-b^{2} + 1}} \\sin\\left({\\theta}\\right)^{4} + 3360 \\, B_{0}^{4} r^{6} \\left(\\frac{r - r_{s}}{r}\\right)^{\\frac{2}{3} \\, \\sqrt{3} \\sqrt{-b^{2} + 1}} \\cos\\left({\\theta}\\right)^{2} \\sin\\left({\\theta}\\right)^{2} - 10080 \\, B_{0}^{4} r^{5} r_{s} \\left(\\frac{r - r_{s}}{r}\\right)^{\\frac{2}{3} \\, \\sqrt{3} \\sqrt{-b^{2} + 1}} \\cos\\left({\\theta}\\right)^{2} \\sin\\left({\\theta}\\right)^{2} + 10080 \\, B_{0}^{4} r^{4} r_{s}^{2} \\left(\\frac{r - r_{s}}{r}\\right)^{\\frac{2}{3} \\, \\sqrt{3} \\sqrt{-b^{2} + 1}} \\cos\\left({\\theta}\\right)^{2} \\sin\\left({\\theta}\\right)^{2} - 3360 \\, B_{0}^{4} r^{3} r_{s}^{3} \\left(\\frac{r - r_{s}}{r}\\right)^{\\frac{2}{3} \\, \\sqrt{3} \\sqrt{-b^{2} + 1}} \\cos\\left({\\theta}\\right)^{2} \\sin\\left({\\theta}\\right)^{2} - 1680 \\, B_{0}^{4} r^{6} \\left(\\frac{r - r_{s}}{r}\\right)^{\\frac{2}{3} \\, \\sqrt{3} \\sqrt{-b^{2} + 1}} \\sin\\left({\\theta}\\right)^{4} + 5040 \\, B_{0}^{4} r^{5} r_{s} \\left(\\frac{r - r_{s}}{r}\\right)^{\\frac{2}{3} \\, \\sqrt{3} \\sqrt{-b^{2} + 1}} \\sin\\left({\\theta}\\right)^{4} - 5807 \\, B_{0}^{4} r^{4} r_{s}^{2} \\left(\\frac{r - r_{s}}{r}\\right)^{\\frac{2}{3} \\, \\sqrt{3} \\sqrt{-b^{2} + 1}} \\sin\\left({\\theta}\\right)^{4} + 3214 \\, B_{0}^{4} r^{3} r_{s}^{3} \\left(\\frac{r - r_{s}}{r}\\right)^{\\frac{2}{3} \\, \\sqrt{3} \\sqrt{-b^{2} + 1}} \\sin\\left({\\theta}\\right)^{4} - 767 \\, B_{0}^{4} r^{2} r_{s}^{4} \\left(\\frac{r - r_{s}}{r}\\right)^{\\frac{2}{3} \\, \\sqrt{3} \\sqrt{-b^{2} + 1}} \\sin\\left({\\theta}\\right)^{4} - 192 \\, \\sqrt{3} \\sqrt{-b^{2} + 1} B_{0}^{2} b r^{2} r_{s}^{2} \\left(\\frac{r - r_{s}}{r}\\right)^{\\frac{1}{2} \\, \\sqrt{3} \\sqrt{-b^{2} + 1} + b} \\sin\\left({\\theta}\\right)^{2} + 2400 \\, B_{0}^{2} b^{2} r^{2} r_{s}^{2} \\left(\\frac{r - r_{s}}{r}\\right)^{\\frac{1}{2} \\, \\sqrt{3} \\sqrt{-b^{2} + 1} + b} \\sin\\left({\\theta}\\right)^{2} + 192 \\, \\sqrt{3} \\sqrt{-b^{2} + 1} B_{0}^{2} b r r_{s}^{3} \\left(\\frac{r - r_{s}}{r}\\right)^{\\frac{1}{2} \\, \\sqrt{3} \\sqrt{-b^{2} + 1} + b} \\sin\\left({\\theta}\\right)^{2} - 2400 \\, B_{0}^{2} b^{2} r r_{s}^{3} \\left(\\frac{r - r_{s}}{r}\\right)^{\\frac{1}{2} \\, \\sqrt{3} \\sqrt{-b^{2} + 1} + b} \\sin\\left({\\theta}\\right)^{2} + 384 \\, \\sqrt{3} \\sqrt{-b^{2} + 1} B_{0}^{2} r^{3} r_{s} \\left(\\frac{r - r_{s}}{r}\\right)^{\\frac{1}{2} \\, \\sqrt{3} \\sqrt{-b^{2} + 1} + b} \\sin\\left({\\theta}\\right)^{2} - 7488 \\, B_{0}^{2} b r^{3} r_{s} \\left(\\frac{r - r_{s}}{r}\\right)^{\\frac{1}{2} \\, \\sqrt{3} \\sqrt{-b^{2} + 1} + b} \\sin\\left({\\theta}\\right)^{2} - 576 \\, \\sqrt{3} \\sqrt{-b^{2} + 1} B_{0}^{2} r^{2} r_{s}^{2} \\left(\\frac{r - r_{s}}{r}\\right)^{\\frac{1}{2} \\, \\sqrt{3} \\sqrt{-b^{2} + 1} + b} \\sin\\left({\\theta}\\right)^{2} + 11232 \\, B_{0}^{2} b r^{2} r_{s}^{2} \\left(\\frac{r - r_{s}}{r}\\right)^{\\frac{1}{2} \\, \\sqrt{3} \\sqrt{-b^{2} + 1} + b} \\sin\\left({\\theta}\\right)^{2} + 192 \\, \\sqrt{3} \\sqrt{-b^{2} + 1} B_{0}^{2} r r_{s}^{3} \\left(\\frac{r - r_{s}}{r}\\right)^{\\frac{1}{2} \\, \\sqrt{3} \\sqrt{-b^{2} + 1} + b} \\sin\\left({\\theta}\\right)^{2} - 3744 \\, B_{0}^{2} b r r_{s}^{3} \\left(\\frac{r - r_{s}}{r}\\right)^{\\frac{1}{2} \\, \\sqrt{3} \\sqrt{-b^{2} + 1} + b} \\sin\\left({\\theta}\\right)^{2} - 13824 \\, B_{0}^{2} r^{4} \\left(\\frac{r - r_{s}}{r}\\right)^{\\frac{1}{2} \\, \\sqrt{3} \\sqrt{-b^{2} + 1} + b} \\cos\\left({\\theta}\\right)^{2} + 27648 \\, B_{0}^{2} r^{3} r_{s} \\left(\\frac{r - r_{s}}{r}\\right)^{\\frac{1}{2} \\, \\sqrt{3} \\sqrt{-b^{2} + 1} + b} \\cos\\left({\\theta}\\right)^{2} - 13824 \\, B_{0}^{2} r^{2} r_{s}^{2} \\left(\\frac{r - r_{s}}{r}\\right)^{\\frac{1}{2} \\, \\sqrt{3} \\sqrt{-b^{2} + 1} + b} \\cos\\left({\\theta}\\right)^{2} + 6912 \\, B_{0}^{2} r^{4} \\left(\\frac{r - r_{s}}{r}\\right)^{\\frac{1}{2} \\, \\sqrt{3} \\sqrt{-b^{2} + 1} + b} \\sin\\left({\\theta}\\right)^{2} - 13824 \\, B_{0}^{2} r^{3} r_{s} \\left(\\frac{r - r_{s}}{r}\\right)^{\\frac{1}{2} \\, \\sqrt{3} \\sqrt{-b^{2} + 1} + b} \\sin\\left({\\theta}\\right)^{2} + 8256 \\, B_{0}^{2} r^{2} r_{s}^{2} \\left(\\frac{r - r_{s}}{r}\\right)^{\\frac{1}{2} \\, \\sqrt{3} \\sqrt{-b^{2} + 1} + b} \\sin\\left({\\theta}\\right)^{2} - 1344 \\, B_{0}^{2} r r_{s}^{3} \\left(\\frac{r - r_{s}}{r}\\right)^{\\frac{1}{2} \\, \\sqrt{3} \\sqrt{-b^{2} + 1} + b} \\sin\\left({\\theta}\\right)^{2} + 4608 \\, b^{2} r_{s}^{2} \\left(\\frac{r - r_{s}}{r}\\right)^{\\frac{1}{3} \\, \\sqrt{3} \\sqrt{-b^{2} + 1} + 2 \\, b} - 13824 \\, b r r_{s} \\left(\\frac{r - r_{s}}{r}\\right)^{\\frac{1}{3} \\, \\sqrt{3} \\sqrt{-b^{2} + 1} + 2 \\, b} + 6912 \\, b r_{s}^{2} \\left(\\frac{r - r_{s}}{r}\\right)^{\\frac{1}{3} \\, \\sqrt{3} \\sqrt{-b^{2} + 1} + 2 \\, b} + 2304 \\, r_{s}^{2} \\left(\\frac{r - r_{s}}{r}\\right)^{\\frac{1}{3} \\, \\sqrt{3} \\sqrt{-b^{2} + 1} + 2 \\, b}\\right)} {\\left(r - r_{s}\\right)}^{b} r^{-b - 2} \\left(\\frac{r - r_{s}}{r}\\right)^{2 \\, b}}{{\\left(13 \\, B_{0}^{2} r^{2} \\left(\\frac{r - r_{s}}{r}\\right)^{\\frac{1}{6} \\, \\sqrt{3} \\sqrt{-b^{2} + 1}} \\sin\\left({\\theta}\\right)^{2} - 13 \\, B_{0}^{2} r r_{s} \\left(\\frac{r - r_{s}}{r}\\right)^{\\frac{1}{6} \\, \\sqrt{3} \\sqrt{-b^{2} + 1}} \\sin\\left({\\theta}\\right)^{2} + 48 \\, \\left(\\frac{r - r_{s}}{r}\\right)^{b}\\right)}^{4} {\\left(r - r_{s}\\right)}^{2} \\left(\\frac{13 \\, {\\left(B_{0}^{2} r^{2} - B_{0}^{2} r r_{s}\\right)} \\left(\\frac{r - r_{s}}{r}\\right)^{\\frac{1}{6} \\, \\sqrt{3} \\sqrt{-b^{2} + 1}} \\sin\\left({\\theta}\\right)^{2} + 48 \\, \\left(\\frac{r - r_{s}}{r}\\right)^{b}}{\\left(\\frac{r - r_{s}}{r}\\right)^{b}}\\right)^{\\frac{2}{13}}}\\)</html>"
      ],
      "text/latex": [
       "$\\displaystyle \\Psi_{2} = W_{\\alpha\\beta\\gamma\\delta}l^{\\alpha}m^{\\beta}\\bar{m}^{\\gamma}n^{\\delta} =  \\frac{9216 \\, \\left(\\frac{1}{48}\\right)^{\\frac{11}{13}} {\\left(244 \\, \\sqrt{3} \\sqrt{-b^{2} + 1} B_{0}^{4} b r^{4} r_{s}^{2} \\left(\\frac{r - r_{s}}{r}\\right)^{\\frac{2}{3} \\, \\sqrt{3} \\sqrt{-b^{2} + 1}} \\sin\\left({\\theta}\\right)^{4} - 502 \\, B_{0}^{4} b^{2} r^{4} r_{s}^{2} \\left(\\frac{r - r_{s}}{r}\\right)^{\\frac{2}{3} \\, \\sqrt{3} \\sqrt{-b^{2} + 1}} \\sin\\left({\\theta}\\right)^{4} - 488 \\, \\sqrt{3} \\sqrt{-b^{2} + 1} B_{0}^{4} b r^{3} r_{s}^{3} \\left(\\frac{r - r_{s}}{r}\\right)^{\\frac{2}{3} \\, \\sqrt{3} \\sqrt{-b^{2} + 1}} \\sin\\left({\\theta}\\right)^{4} + 1004 \\, B_{0}^{4} b^{2} r^{3} r_{s}^{3} \\left(\\frac{r - r_{s}}{r}\\right)^{\\frac{2}{3} \\, \\sqrt{3} \\sqrt{-b^{2} + 1}} \\sin\\left({\\theta}\\right)^{4} + 244 \\, \\sqrt{3} \\sqrt{-b^{2} + 1} B_{0}^{4} b r^{2} r_{s}^{4} \\left(\\frac{r - r_{s}}{r}\\right)^{\\frac{2}{3} \\, \\sqrt{3} \\sqrt{-b^{2} + 1}} \\sin\\left({\\theta}\\right)^{4} - 502 \\, B_{0}^{4} b^{2} r^{2} r_{s}^{4} \\left(\\frac{r - r_{s}}{r}\\right)^{\\frac{2}{3} \\, \\sqrt{3} \\sqrt{-b^{2} + 1}} \\sin\\left({\\theta}\\right)^{4} - 488 \\, \\sqrt{3} \\sqrt{-b^{2} + 1} B_{0}^{4} r^{5} r_{s} \\left(\\frac{r - r_{s}}{r}\\right)^{\\frac{2}{3} \\, \\sqrt{3} \\sqrt{-b^{2} + 1}} \\sin\\left({\\theta}\\right)^{4} + 2538 \\, B_{0}^{4} b r^{5} r_{s} \\left(\\frac{r - r_{s}}{r}\\right)^{\\frac{2}{3} \\, \\sqrt{3} \\sqrt{-b^{2} + 1}} \\sin\\left({\\theta}\\right)^{4} + 1220 \\, \\sqrt{3} \\sqrt{-b^{2} + 1} B_{0}^{4} r^{4} r_{s}^{2} \\left(\\frac{r - r_{s}}{r}\\right)^{\\frac{2}{3} \\, \\sqrt{3} \\sqrt{-b^{2} + 1}} \\sin\\left({\\theta}\\right)^{4} - 6345 \\, B_{0}^{4} b r^{4} r_{s}^{2} \\left(\\frac{r - r_{s}}{r}\\right)^{\\frac{2}{3} \\, \\sqrt{3} \\sqrt{-b^{2} + 1}} \\sin\\left({\\theta}\\right)^{4} - 976 \\, \\sqrt{3} \\sqrt{-b^{2} + 1} B_{0}^{4} r^{3} r_{s}^{3} \\left(\\frac{r - r_{s}}{r}\\right)^{\\frac{2}{3} \\, \\sqrt{3} \\sqrt{-b^{2} + 1}} \\sin\\left({\\theta}\\right)^{4} + 5076 \\, B_{0}^{4} b r^{3} r_{s}^{3} \\left(\\frac{r - r_{s}}{r}\\right)^{\\frac{2}{3} \\, \\sqrt{3} \\sqrt{-b^{2} + 1}} \\sin\\left({\\theta}\\right)^{4} + 244 \\, \\sqrt{3} \\sqrt{-b^{2} + 1} B_{0}^{4} r^{2} r_{s}^{4} \\left(\\frac{r - r_{s}}{r}\\right)^{\\frac{2}{3} \\, \\sqrt{3} \\sqrt{-b^{2} + 1}} \\sin\\left({\\theta}\\right)^{4} - 1269 \\, B_{0}^{4} b r^{2} r_{s}^{4} \\left(\\frac{r - r_{s}}{r}\\right)^{\\frac{2}{3} \\, \\sqrt{3} \\sqrt{-b^{2} + 1}} \\sin\\left({\\theta}\\right)^{4} + 3360 \\, B_{0}^{4} r^{6} \\left(\\frac{r - r_{s}}{r}\\right)^{\\frac{2}{3} \\, \\sqrt{3} \\sqrt{-b^{2} + 1}} \\cos\\left({\\theta}\\right)^{2} \\sin\\left({\\theta}\\right)^{2} - 10080 \\, B_{0}^{4} r^{5} r_{s} \\left(\\frac{r - r_{s}}{r}\\right)^{\\frac{2}{3} \\, \\sqrt{3} \\sqrt{-b^{2} + 1}} \\cos\\left({\\theta}\\right)^{2} \\sin\\left({\\theta}\\right)^{2} + 10080 \\, B_{0}^{4} r^{4} r_{s}^{2} \\left(\\frac{r - r_{s}}{r}\\right)^{\\frac{2}{3} \\, \\sqrt{3} \\sqrt{-b^{2} + 1}} \\cos\\left({\\theta}\\right)^{2} \\sin\\left({\\theta}\\right)^{2} - 3360 \\, B_{0}^{4} r^{3} r_{s}^{3} \\left(\\frac{r - r_{s}}{r}\\right)^{\\frac{2}{3} \\, \\sqrt{3} \\sqrt{-b^{2} + 1}} \\cos\\left({\\theta}\\right)^{2} \\sin\\left({\\theta}\\right)^{2} - 1680 \\, B_{0}^{4} r^{6} \\left(\\frac{r - r_{s}}{r}\\right)^{\\frac{2}{3} \\, \\sqrt{3} \\sqrt{-b^{2} + 1}} \\sin\\left({\\theta}\\right)^{4} + 5040 \\, B_{0}^{4} r^{5} r_{s} \\left(\\frac{r - r_{s}}{r}\\right)^{\\frac{2}{3} \\, \\sqrt{3} \\sqrt{-b^{2} + 1}} \\sin\\left({\\theta}\\right)^{4} - 5807 \\, B_{0}^{4} r^{4} r_{s}^{2} \\left(\\frac{r - r_{s}}{r}\\right)^{\\frac{2}{3} \\, \\sqrt{3} \\sqrt{-b^{2} + 1}} \\sin\\left({\\theta}\\right)^{4} + 3214 \\, B_{0}^{4} r^{3} r_{s}^{3} \\left(\\frac{r - r_{s}}{r}\\right)^{\\frac{2}{3} \\, \\sqrt{3} \\sqrt{-b^{2} + 1}} \\sin\\left({\\theta}\\right)^{4} - 767 \\, B_{0}^{4} r^{2} r_{s}^{4} \\left(\\frac{r - r_{s}}{r}\\right)^{\\frac{2}{3} \\, \\sqrt{3} \\sqrt{-b^{2} + 1}} \\sin\\left({\\theta}\\right)^{4} - 192 \\, \\sqrt{3} \\sqrt{-b^{2} + 1} B_{0}^{2} b r^{2} r_{s}^{2} \\left(\\frac{r - r_{s}}{r}\\right)^{\\frac{1}{2} \\, \\sqrt{3} \\sqrt{-b^{2} + 1} + b} \\sin\\left({\\theta}\\right)^{2} + 2400 \\, B_{0}^{2} b^{2} r^{2} r_{s}^{2} \\left(\\frac{r - r_{s}}{r}\\right)^{\\frac{1}{2} \\, \\sqrt{3} \\sqrt{-b^{2} + 1} + b} \\sin\\left({\\theta}\\right)^{2} + 192 \\, \\sqrt{3} \\sqrt{-b^{2} + 1} B_{0}^{2} b r r_{s}^{3} \\left(\\frac{r - r_{s}}{r}\\right)^{\\frac{1}{2} \\, \\sqrt{3} \\sqrt{-b^{2} + 1} + b} \\sin\\left({\\theta}\\right)^{2} - 2400 \\, B_{0}^{2} b^{2} r r_{s}^{3} \\left(\\frac{r - r_{s}}{r}\\right)^{\\frac{1}{2} \\, \\sqrt{3} \\sqrt{-b^{2} + 1} + b} \\sin\\left({\\theta}\\right)^{2} + 384 \\, \\sqrt{3} \\sqrt{-b^{2} + 1} B_{0}^{2} r^{3} r_{s} \\left(\\frac{r - r_{s}}{r}\\right)^{\\frac{1}{2} \\, \\sqrt{3} \\sqrt{-b^{2} + 1} + b} \\sin\\left({\\theta}\\right)^{2} - 7488 \\, B_{0}^{2} b r^{3} r_{s} \\left(\\frac{r - r_{s}}{r}\\right)^{\\frac{1}{2} \\, \\sqrt{3} \\sqrt{-b^{2} + 1} + b} \\sin\\left({\\theta}\\right)^{2} - 576 \\, \\sqrt{3} \\sqrt{-b^{2} + 1} B_{0}^{2} r^{2} r_{s}^{2} \\left(\\frac{r - r_{s}}{r}\\right)^{\\frac{1}{2} \\, \\sqrt{3} \\sqrt{-b^{2} + 1} + b} \\sin\\left({\\theta}\\right)^{2} + 11232 \\, B_{0}^{2} b r^{2} r_{s}^{2} \\left(\\frac{r - r_{s}}{r}\\right)^{\\frac{1}{2} \\, \\sqrt{3} \\sqrt{-b^{2} + 1} + b} \\sin\\left({\\theta}\\right)^{2} + 192 \\, \\sqrt{3} \\sqrt{-b^{2} + 1} B_{0}^{2} r r_{s}^{3} \\left(\\frac{r - r_{s}}{r}\\right)^{\\frac{1}{2} \\, \\sqrt{3} \\sqrt{-b^{2} + 1} + b} \\sin\\left({\\theta}\\right)^{2} - 3744 \\, B_{0}^{2} b r r_{s}^{3} \\left(\\frac{r - r_{s}}{r}\\right)^{\\frac{1}{2} \\, \\sqrt{3} \\sqrt{-b^{2} + 1} + b} \\sin\\left({\\theta}\\right)^{2} - 13824 \\, B_{0}^{2} r^{4} \\left(\\frac{r - r_{s}}{r}\\right)^{\\frac{1}{2} \\, \\sqrt{3} \\sqrt{-b^{2} + 1} + b} \\cos\\left({\\theta}\\right)^{2} + 27648 \\, B_{0}^{2} r^{3} r_{s} \\left(\\frac{r - r_{s}}{r}\\right)^{\\frac{1}{2} \\, \\sqrt{3} \\sqrt{-b^{2} + 1} + b} \\cos\\left({\\theta}\\right)^{2} - 13824 \\, B_{0}^{2} r^{2} r_{s}^{2} \\left(\\frac{r - r_{s}}{r}\\right)^{\\frac{1}{2} \\, \\sqrt{3} \\sqrt{-b^{2} + 1} + b} \\cos\\left({\\theta}\\right)^{2} + 6912 \\, B_{0}^{2} r^{4} \\left(\\frac{r - r_{s}}{r}\\right)^{\\frac{1}{2} \\, \\sqrt{3} \\sqrt{-b^{2} + 1} + b} \\sin\\left({\\theta}\\right)^{2} - 13824 \\, B_{0}^{2} r^{3} r_{s} \\left(\\frac{r - r_{s}}{r}\\right)^{\\frac{1}{2} \\, \\sqrt{3} \\sqrt{-b^{2} + 1} + b} \\sin\\left({\\theta}\\right)^{2} + 8256 \\, B_{0}^{2} r^{2} r_{s}^{2} \\left(\\frac{r - r_{s}}{r}\\right)^{\\frac{1}{2} \\, \\sqrt{3} \\sqrt{-b^{2} + 1} + b} \\sin\\left({\\theta}\\right)^{2} - 1344 \\, B_{0}^{2} r r_{s}^{3} \\left(\\frac{r - r_{s}}{r}\\right)^{\\frac{1}{2} \\, \\sqrt{3} \\sqrt{-b^{2} + 1} + b} \\sin\\left({\\theta}\\right)^{2} + 4608 \\, b^{2} r_{s}^{2} \\left(\\frac{r - r_{s}}{r}\\right)^{\\frac{1}{3} \\, \\sqrt{3} \\sqrt{-b^{2} + 1} + 2 \\, b} - 13824 \\, b r r_{s} \\left(\\frac{r - r_{s}}{r}\\right)^{\\frac{1}{3} \\, \\sqrt{3} \\sqrt{-b^{2} + 1} + 2 \\, b} + 6912 \\, b r_{s}^{2} \\left(\\frac{r - r_{s}}{r}\\right)^{\\frac{1}{3} \\, \\sqrt{3} \\sqrt{-b^{2} + 1} + 2 \\, b} + 2304 \\, r_{s}^{2} \\left(\\frac{r - r_{s}}{r}\\right)^{\\frac{1}{3} \\, \\sqrt{3} \\sqrt{-b^{2} + 1} + 2 \\, b}\\right)} {\\left(r - r_{s}\\right)}^{b} r^{-b - 2} \\left(\\frac{r - r_{s}}{r}\\right)^{2 \\, b}}{{\\left(13 \\, B_{0}^{2} r^{2} \\left(\\frac{r - r_{s}}{r}\\right)^{\\frac{1}{6} \\, \\sqrt{3} \\sqrt{-b^{2} + 1}} \\sin\\left({\\theta}\\right)^{2} - 13 \\, B_{0}^{2} r r_{s} \\left(\\frac{r - r_{s}}{r}\\right)^{\\frac{1}{6} \\, \\sqrt{3} \\sqrt{-b^{2} + 1}} \\sin\\left({\\theta}\\right)^{2} + 48 \\, \\left(\\frac{r - r_{s}}{r}\\right)^{b}\\right)}^{4} {\\left(r - r_{s}\\right)}^{2} \\left(\\frac{13 \\, {\\left(B_{0}^{2} r^{2} - B_{0}^{2} r r_{s}\\right)} \\left(\\frac{r - r_{s}}{r}\\right)^{\\frac{1}{6} \\, \\sqrt{3} \\sqrt{-b^{2} + 1}} \\sin\\left({\\theta}\\right)^{2} + 48 \\, \\left(\\frac{r - r_{s}}{r}\\right)^{b}}{\\left(\\frac{r - r_{s}}{r}\\right)^{b}}\\right)^{\\frac{2}{13}}}$"
      ],
      "text/plain": [
       "\\Psi_{2} = W_{\\alpha\\beta\\gamma\\delta}l^{\\alpha}m^{\\beta}\\bar{m}^{\\gamma}n^{\\delta} =  9216*(1/48)^(11/13)*(244*sqrt(3)*sqrt(-b^2 + 1)*B_0^4*b*r^4*r_s^2*((r - r_s)/r)^(2/3*sqrt(3)*sqrt(-b^2 + 1))*sin(th)^4 - 502*B_0^4*b^2*r^4*r_s^2*((r - r_s)/r)^(2/3*sqrt(3)*sqrt(-b^2 + 1))*sin(th)^4 - 488*sqrt(3)*sqrt(-b^2 + 1)*B_0^4*b*r^3*r_s^3*((r - r_s)/r)^(2/3*sqrt(3)*sqrt(-b^2 + 1))*sin(th)^4 + 1004*B_0^4*b^2*r^3*r_s^3*((r - r_s)/r)^(2/3*sqrt(3)*sqrt(-b^2 + 1))*sin(th)^4 + 244*sqrt(3)*sqrt(-b^2 + 1)*B_0^4*b*r^2*r_s^4*((r - r_s)/r)^(2/3*sqrt(3)*sqrt(-b^2 + 1))*sin(th)^4 - 502*B_0^4*b^2*r^2*r_s^4*((r - r_s)/r)^(2/3*sqrt(3)*sqrt(-b^2 + 1))*sin(th)^4 - 488*sqrt(3)*sqrt(-b^2 + 1)*B_0^4*r^5*r_s*((r - r_s)/r)^(2/3*sqrt(3)*sqrt(-b^2 + 1))*sin(th)^4 + 2538*B_0^4*b*r^5*r_s*((r - r_s)/r)^(2/3*sqrt(3)*sqrt(-b^2 + 1))*sin(th)^4 + 1220*sqrt(3)*sqrt(-b^2 + 1)*B_0^4*r^4*r_s^2*((r - r_s)/r)^(2/3*sqrt(3)*sqrt(-b^2 + 1))*sin(th)^4 - 6345*B_0^4*b*r^4*r_s^2*((r - r_s)/r)^(2/3*sqrt(3)*sqrt(-b^2 + 1))*sin(th)^4 - 976*sqrt(3)*sqrt(-b^2 + 1)*B_0^4*r^3*r_s^3*((r - r_s)/r)^(2/3*sqrt(3)*sqrt(-b^2 + 1))*sin(th)^4 + 5076*B_0^4*b*r^3*r_s^3*((r - r_s)/r)^(2/3*sqrt(3)*sqrt(-b^2 + 1))*sin(th)^4 + 244*sqrt(3)*sqrt(-b^2 + 1)*B_0^4*r^2*r_s^4*((r - r_s)/r)^(2/3*sqrt(3)*sqrt(-b^2 + 1))*sin(th)^4 - 1269*B_0^4*b*r^2*r_s^4*((r - r_s)/r)^(2/3*sqrt(3)*sqrt(-b^2 + 1))*sin(th)^4 + 3360*B_0^4*r^6*((r - r_s)/r)^(2/3*sqrt(3)*sqrt(-b^2 + 1))*cos(th)^2*sin(th)^2 - 10080*B_0^4*r^5*r_s*((r - r_s)/r)^(2/3*sqrt(3)*sqrt(-b^2 + 1))*cos(th)^2*sin(th)^2 + 10080*B_0^4*r^4*r_s^2*((r - r_s)/r)^(2/3*sqrt(3)*sqrt(-b^2 + 1))*cos(th)^2*sin(th)^2 - 3360*B_0^4*r^3*r_s^3*((r - r_s)/r)^(2/3*sqrt(3)*sqrt(-b^2 + 1))*cos(th)^2*sin(th)^2 - 1680*B_0^4*r^6*((r - r_s)/r)^(2/3*sqrt(3)*sqrt(-b^2 + 1))*sin(th)^4 + 5040*B_0^4*r^5*r_s*((r - r_s)/r)^(2/3*sqrt(3)*sqrt(-b^2 + 1))*sin(th)^4 - 5807*B_0^4*r^4*r_s^2*((r - r_s)/r)^(2/3*sqrt(3)*sqrt(-b^2 + 1))*sin(th)^4 + 3214*B_0^4*r^3*r_s^3*((r - r_s)/r)^(2/3*sqrt(3)*sqrt(-b^2 + 1))*sin(th)^4 - 767*B_0^4*r^2*r_s^4*((r - r_s)/r)^(2/3*sqrt(3)*sqrt(-b^2 + 1))*sin(th)^4 - 192*sqrt(3)*sqrt(-b^2 + 1)*B_0^2*b*r^2*r_s^2*((r - r_s)/r)^(1/2*sqrt(3)*sqrt(-b^2 + 1) + b)*sin(th)^2 + 2400*B_0^2*b^2*r^2*r_s^2*((r - r_s)/r)^(1/2*sqrt(3)*sqrt(-b^2 + 1) + b)*sin(th)^2 + 192*sqrt(3)*sqrt(-b^2 + 1)*B_0^2*b*r*r_s^3*((r - r_s)/r)^(1/2*sqrt(3)*sqrt(-b^2 + 1) + b)*sin(th)^2 - 2400*B_0^2*b^2*r*r_s^3*((r - r_s)/r)^(1/2*sqrt(3)*sqrt(-b^2 + 1) + b)*sin(th)^2 + 384*sqrt(3)*sqrt(-b^2 + 1)*B_0^2*r^3*r_s*((r - r_s)/r)^(1/2*sqrt(3)*sqrt(-b^2 + 1) + b)*sin(th)^2 - 7488*B_0^2*b*r^3*r_s*((r - r_s)/r)^(1/2*sqrt(3)*sqrt(-b^2 + 1) + b)*sin(th)^2 - 576*sqrt(3)*sqrt(-b^2 + 1)*B_0^2*r^2*r_s^2*((r - r_s)/r)^(1/2*sqrt(3)*sqrt(-b^2 + 1) + b)*sin(th)^2 + 11232*B_0^2*b*r^2*r_s^2*((r - r_s)/r)^(1/2*sqrt(3)*sqrt(-b^2 + 1) + b)*sin(th)^2 + 192*sqrt(3)*sqrt(-b^2 + 1)*B_0^2*r*r_s^3*((r - r_s)/r)^(1/2*sqrt(3)*sqrt(-b^2 + 1) + b)*sin(th)^2 - 3744*B_0^2*b*r*r_s^3*((r - r_s)/r)^(1/2*sqrt(3)*sqrt(-b^2 + 1) + b)*sin(th)^2 - 13824*B_0^2*r^4*((r - r_s)/r)^(1/2*sqrt(3)*sqrt(-b^2 + 1) + b)*cos(th)^2 + 27648*B_0^2*r^3*r_s*((r - r_s)/r)^(1/2*sqrt(3)*sqrt(-b^2 + 1) + b)*cos(th)^2 - 13824*B_0^2*r^2*r_s^2*((r - r_s)/r)^(1/2*sqrt(3)*sqrt(-b^2 + 1) + b)*cos(th)^2 + 6912*B_0^2*r^4*((r - r_s)/r)^(1/2*sqrt(3)*sqrt(-b^2 + 1) + b)*sin(th)^2 - 13824*B_0^2*r^3*r_s*((r - r_s)/r)^(1/2*sqrt(3)*sqrt(-b^2 + 1) + b)*sin(th)^2 + 8256*B_0^2*r^2*r_s^2*((r - r_s)/r)^(1/2*sqrt(3)*sqrt(-b^2 + 1) + b)*sin(th)^2 - 1344*B_0^2*r*r_s^3*((r - r_s)/r)^(1/2*sqrt(3)*sqrt(-b^2 + 1) + b)*sin(th)^2 + 4608*b^2*r_s^2*((r - r_s)/r)^(1/3*sqrt(3)*sqrt(-b^2 + 1) + 2*b) - 13824*b*r*r_s*((r - r_s)/r)^(1/3*sqrt(3)*sqrt(-b^2 + 1) + 2*b) + 6912*b*r_s^2*((r - r_s)/r)^(1/3*sqrt(3)*sqrt(-b^2 + 1) + 2*b) + 2304*r_s^2*((r - r_s)/r)^(1/3*sqrt(3)*sqrt(-b^2 + 1) + 2*b))*(r - r_s)^b*r^(-b - 2)*((r - r_s)/r)^(2*b)/((13*B_0^2*r^2*((r - r_s)/r)^(1/6*sqrt(3)*sqrt(-b^2 + 1))*sin(th)^2 - 13*B_0^2*r*r_s*((r - r_s)/r)^(1/6*sqrt(3)*sqrt(-b^2 + 1))*sin(th)^2 + 48*((r - r_s)/r)^b)^4*(r - r_s)^2*((13*(B_0^2*r^2 - B_0^2*r*r_s)*((r - r_s)/r)^(1/6*sqrt(3)*sqrt(-b^2 + 1))*sin(th)^2 + 48*((r - r_s)/r)^b)/((r - r_s)/r)^b)^(2/13))"
      ]
     },
     "metadata": {},
     "output_type": "display_data"
    }
   ],
   "source": [
    "print('1st contraction', Weyl_tensor.tensor_type())\n",
    "Psi2 = Weyl_tensor.contract(0, tetrad_L, 0)\n",
    "print('2nd contraction', Psi2.tensor_type())\n",
    "Psi2 = Psi2.contract(0, tetrad_Mr, 0)\n",
    "print('3rd contraction', Psi2.tensor_type())\n",
    "Psi2 = Psi2.contract(0, tetrad_Mbar, 0)\n",
    "print('4th contraction', Psi2.tensor_type())\n",
    "Psi2 = Psi2.contract(0, tetrad_N, 0)\n",
    "latex_str = r'\\Psi_{2} = W_{\\alpha\\beta\\gamma\\delta}l^{\\alpha}m^{\\beta}\\bar{m}^{\\gamma}n^{\\delta} = ' \n",
    "show(LatexExpr(latex_str), subs_func(Psi2))\n",
    "clear_output(wait=True)"
   ]
  },
  {
   "cell_type": "code",
   "execution_count": 33,
   "id": "255e20a0",
   "metadata": {},
   "outputs": [
    {
     "data": {
      "text/html": [
       "<html>\\(\\displaystyle \\verb|Substitution|\\verb| |\\verb|Lambda:|\\verb| |\\verb|done|\\)</html>"
      ],
      "text/latex": [
       "$\\displaystyle \\verb|Substitution|\\verb| |\\verb|Lambda:|\\verb| |\\verb|done|$"
      ],
      "text/plain": [
       "'Substitution Lambda: done'"
      ]
     },
     "metadata": {},
     "output_type": "display_data"
    },
    {
     "data": {
      "text/html": [
       "<html>\\(\\displaystyle \\verb|Substitution|\\verb| |\\verb|Delta:|\\verb| |\\verb|done|\\)</html>"
      ],
      "text/latex": [
       "$\\displaystyle \\verb|Substitution|\\verb| |\\verb|Delta:|\\verb| |\\verb|done|$"
      ],
      "text/plain": [
       "'Substitution Delta: done'"
      ]
     },
     "metadata": {},
     "output_type": "display_data"
    },
    {
     "data": {
      "text/html": [
       "<html>\\(\\displaystyle \\Psi_{2}= 0 \\Rightarrow  \\mathrm{False}\\)</html>"
      ],
      "text/latex": [
       "$\\displaystyle \\Psi_{2}= 0 \\Rightarrow  \\mathrm{False}$"
      ],
      "text/plain": [
       "\\Psi_{2}= 0 \\Rightarrow  False"
      ]
     },
     "metadata": {},
     "output_type": "display_data"
    }
   ],
   "source": [
    "show(LatexExpr(r'\\Psi_{2}= 0 \\Rightarrow '), numerator(subs_func(Psi2)).factor().is_zero())"
   ]
  },
  {
   "cell_type": "markdown",
   "id": "2e5bf384-1a48-4ba4-8901-bac8a14fe777",
   "metadata": {},
   "source": [
    "## IV.4. Scalar III"
   ]
  },
  {
   "cell_type": "code",
   "execution_count": 34,
   "id": "777a88c3-ad25-4dcf-9501-b62722f9e607",
   "metadata": {},
   "outputs": [
    {
     "name": "stdout",
     "output_type": "stream",
     "text": [
      "1st contraction (0, 4)\n",
      "2nd contraction (0, 3)\n",
      "3rd contraction (0, 2)\n",
      "4th contraction (0, 1)\n"
     ]
    },
    {
     "data": {
      "text/html": [
       "<html>\\(\\displaystyle \\verb|Substitution|\\verb| |\\verb|Lambda:|\\verb| |\\verb|done|\\)</html>"
      ],
      "text/latex": [
       "$\\displaystyle \\verb|Substitution|\\verb| |\\verb|Lambda:|\\verb| |\\verb|done|$"
      ],
      "text/plain": [
       "'Substitution Lambda: done'"
      ]
     },
     "metadata": {},
     "output_type": "display_data"
    },
    {
     "data": {
      "text/html": [
       "<html>\\(\\displaystyle \\verb|Substitution|\\verb| |\\verb|Delta:|\\verb| |\\verb|done|\\)</html>"
      ],
      "text/latex": [
       "$\\displaystyle \\verb|Substitution|\\verb| |\\verb|Delta:|\\verb| |\\verb|done|$"
      ],
      "text/plain": [
       "'Substitution Delta: done'"
      ]
     },
     "metadata": {},
     "output_type": "display_data"
    },
    {
     "data": {
      "text/html": [
       "<html>\\(\\displaystyle \\Psi_{3} = W_{\\alpha\\beta\\gamma\\delta}l^{\\alpha}n^{\\beta}\\bar{m}^{\\gamma}n^{\\delta} =  -\\frac{110592 \\, \\left(\\frac{1}{48}\\right)^{\\frac{11}{13}} {\\left(35 \\, B_{0}^{2} r^{2} \\left(\\frac{r - r_{s}}{r}\\right)^{\\frac{1}{2} \\, \\sqrt{3} \\sqrt{-b^{2} + 1}} \\sin\\left({\\theta}\\right)^{2} - 35 \\, B_{0}^{2} r r_{s} \\left(\\frac{r - r_{s}}{r}\\right)^{\\frac{1}{2} \\, \\sqrt{3} \\sqrt{-b^{2} + 1}} \\sin\\left({\\theta}\\right)^{2} - 144 \\, \\left(\\frac{r - r_{s}}{r}\\right)^{\\frac{1}{3} \\, \\sqrt{3} \\sqrt{-b^{2} + 1} + b}\\right)} {\\left(\\sqrt{3} \\sqrt{-b^{2} + 1} r_{s} - 6 \\, b r_{s} + 12 \\, r - 6 \\, r_{s}\\right)} B_{0}^{2} {\\left(r - r_{s}\\right)}^{b + \\frac{1}{2}} r^{-b - \\frac{1}{2}} \\left(\\frac{r - r_{s}}{r}\\right)^{\\frac{1}{6} \\, \\sqrt{3} \\sqrt{-b^{2} + 1} + 2 \\, b} \\cos\\left({\\theta}\\right) \\sin\\left({\\theta}\\right)}{{\\left(13 \\, B_{0}^{2} r^{2} \\left(\\frac{r - r_{s}}{r}\\right)^{\\frac{1}{6} \\, \\sqrt{3} \\sqrt{-b^{2} + 1}} \\sin\\left({\\theta}\\right)^{2} - 13 \\, B_{0}^{2} r r_{s} \\left(\\frac{r - r_{s}}{r}\\right)^{\\frac{1}{6} \\, \\sqrt{3} \\sqrt{-b^{2} + 1}} \\sin\\left({\\theta}\\right)^{2} + 48 \\, \\left(\\frac{r - r_{s}}{r}\\right)^{b}\\right)}^{4} {\\left(r - r_{s}\\right)} \\left(\\frac{13 \\, {\\left(B_{0}^{2} r^{2} - B_{0}^{2} r r_{s}\\right)} \\left(\\frac{r - r_{s}}{r}\\right)^{\\frac{1}{6} \\, \\sqrt{3} \\sqrt{-b^{2} + 1}} \\sin\\left({\\theta}\\right)^{2} + 48 \\, \\left(\\frac{r - r_{s}}{r}\\right)^{b}}{\\left(\\frac{r - r_{s}}{r}\\right)^{b}}\\right)^{\\frac{2}{13}}}\\)</html>"
      ],
      "text/latex": [
       "$\\displaystyle \\Psi_{3} = W_{\\alpha\\beta\\gamma\\delta}l^{\\alpha}n^{\\beta}\\bar{m}^{\\gamma}n^{\\delta} =  -\\frac{110592 \\, \\left(\\frac{1}{48}\\right)^{\\frac{11}{13}} {\\left(35 \\, B_{0}^{2} r^{2} \\left(\\frac{r - r_{s}}{r}\\right)^{\\frac{1}{2} \\, \\sqrt{3} \\sqrt{-b^{2} + 1}} \\sin\\left({\\theta}\\right)^{2} - 35 \\, B_{0}^{2} r r_{s} \\left(\\frac{r - r_{s}}{r}\\right)^{\\frac{1}{2} \\, \\sqrt{3} \\sqrt{-b^{2} + 1}} \\sin\\left({\\theta}\\right)^{2} - 144 \\, \\left(\\frac{r - r_{s}}{r}\\right)^{\\frac{1}{3} \\, \\sqrt{3} \\sqrt{-b^{2} + 1} + b}\\right)} {\\left(\\sqrt{3} \\sqrt{-b^{2} + 1} r_{s} - 6 \\, b r_{s} + 12 \\, r - 6 \\, r_{s}\\right)} B_{0}^{2} {\\left(r - r_{s}\\right)}^{b + \\frac{1}{2}} r^{-b - \\frac{1}{2}} \\left(\\frac{r - r_{s}}{r}\\right)^{\\frac{1}{6} \\, \\sqrt{3} \\sqrt{-b^{2} + 1} + 2 \\, b} \\cos\\left({\\theta}\\right) \\sin\\left({\\theta}\\right)}{{\\left(13 \\, B_{0}^{2} r^{2} \\left(\\frac{r - r_{s}}{r}\\right)^{\\frac{1}{6} \\, \\sqrt{3} \\sqrt{-b^{2} + 1}} \\sin\\left({\\theta}\\right)^{2} - 13 \\, B_{0}^{2} r r_{s} \\left(\\frac{r - r_{s}}{r}\\right)^{\\frac{1}{6} \\, \\sqrt{3} \\sqrt{-b^{2} + 1}} \\sin\\left({\\theta}\\right)^{2} + 48 \\, \\left(\\frac{r - r_{s}}{r}\\right)^{b}\\right)}^{4} {\\left(r - r_{s}\\right)} \\left(\\frac{13 \\, {\\left(B_{0}^{2} r^{2} - B_{0}^{2} r r_{s}\\right)} \\left(\\frac{r - r_{s}}{r}\\right)^{\\frac{1}{6} \\, \\sqrt{3} \\sqrt{-b^{2} + 1}} \\sin\\left({\\theta}\\right)^{2} + 48 \\, \\left(\\frac{r - r_{s}}{r}\\right)^{b}}{\\left(\\frac{r - r_{s}}{r}\\right)^{b}}\\right)^{\\frac{2}{13}}}$"
      ],
      "text/plain": [
       "\\Psi_{3} = W_{\\alpha\\beta\\gamma\\delta}l^{\\alpha}n^{\\beta}\\bar{m}^{\\gamma}n^{\\delta} =  -110592*(1/48)^(11/13)*(35*B_0^2*r^2*((r - r_s)/r)^(1/2*sqrt(3)*sqrt(-b^2 + 1))*sin(th)^2 - 35*B_0^2*r*r_s*((r - r_s)/r)^(1/2*sqrt(3)*sqrt(-b^2 + 1))*sin(th)^2 - 144*((r - r_s)/r)^(1/3*sqrt(3)*sqrt(-b^2 + 1) + b))*(sqrt(3)*sqrt(-b^2 + 1)*r_s - 6*b*r_s + 12*r - 6*r_s)*B_0^2*(r - r_s)^(b + 1/2)*r^(-b - 1/2)*((r - r_s)/r)^(1/6*sqrt(3)*sqrt(-b^2 + 1) + 2*b)*cos(th)*sin(th)/((13*B_0^2*r^2*((r - r_s)/r)^(1/6*sqrt(3)*sqrt(-b^2 + 1))*sin(th)^2 - 13*B_0^2*r*r_s*((r - r_s)/r)^(1/6*sqrt(3)*sqrt(-b^2 + 1))*sin(th)^2 + 48*((r - r_s)/r)^b)^4*(r - r_s)*((13*(B_0^2*r^2 - B_0^2*r*r_s)*((r - r_s)/r)^(1/6*sqrt(3)*sqrt(-b^2 + 1))*sin(th)^2 + 48*((r - r_s)/r)^b)/((r - r_s)/r)^b)^(2/13))"
      ]
     },
     "metadata": {},
     "output_type": "display_data"
    }
   ],
   "source": [
    "print('1st contraction', Weyl_tensor.tensor_type())\n",
    "Psi3 = Weyl_tensor.contract(0, tetrad_L, 0)\n",
    "print('2nd contraction', Psi3.tensor_type())\n",
    "Psi3 = Psi3.contract(0, tetrad_N, 0)\n",
    "print('3rd contraction', Psi3.tensor_type())\n",
    "Psi3 = Psi3.contract(0, tetrad_Mbar, 0)\n",
    "print('4th contraction', Psi3.tensor_type())\n",
    "Psi3 = Psi3.contract(0, tetrad_N, 0)\n",
    "latex_str = r'\\Psi_{3} = W_{\\alpha\\beta\\gamma\\delta}l^{\\alpha}n^{\\beta}\\bar{m}^{\\gamma}n^{\\delta} = ' \n",
    "show(LatexExpr(latex_str), subs_func(Psi3))\n",
    "clear_output(wait=True)"
   ]
  },
  {
   "cell_type": "code",
   "execution_count": 35,
   "id": "62e8d29e",
   "metadata": {},
   "outputs": [
    {
     "data": {
      "text/html": [
       "<html>\\(\\displaystyle \\verb|Substitution|\\verb| |\\verb|Lambda:|\\verb| |\\verb|done|\\)</html>"
      ],
      "text/latex": [
       "$\\displaystyle \\verb|Substitution|\\verb| |\\verb|Lambda:|\\verb| |\\verb|done|$"
      ],
      "text/plain": [
       "'Substitution Lambda: done'"
      ]
     },
     "metadata": {},
     "output_type": "display_data"
    },
    {
     "data": {
      "text/html": [
       "<html>\\(\\displaystyle \\verb|Substitution|\\verb| |\\verb|Delta:|\\verb| |\\verb|done|\\)</html>"
      ],
      "text/latex": [
       "$\\displaystyle \\verb|Substitution|\\verb| |\\verb|Delta:|\\verb| |\\verb|done|$"
      ],
      "text/plain": [
       "'Substitution Delta: done'"
      ]
     },
     "metadata": {},
     "output_type": "display_data"
    },
    {
     "data": {
      "text/html": [
       "<html>\\(\\displaystyle \\Psi_{3}= 0 \\Rightarrow  \\mathrm{False}\\)</html>"
      ],
      "text/latex": [
       "$\\displaystyle \\Psi_{3}= 0 \\Rightarrow  \\mathrm{False}$"
      ],
      "text/plain": [
       "\\Psi_{3}= 0 \\Rightarrow  False"
      ]
     },
     "metadata": {},
     "output_type": "display_data"
    }
   ],
   "source": [
    "show(LatexExpr(r'\\Psi_{3}= 0 \\Rightarrow '), numerator(subs_func(Psi3)).factor().is_zero())"
   ]
  },
  {
   "cell_type": "markdown",
   "id": "0baef232-1ecf-4b67-a673-0aa745091d87",
   "metadata": {},
   "source": [
    "## IV.5. Scalar IV"
   ]
  },
  {
   "cell_type": "code",
   "execution_count": 36,
   "id": "8ae780d4-c680-4212-acb9-e49b5e5954ae",
   "metadata": {},
   "outputs": [
    {
     "name": "stdout",
     "output_type": "stream",
     "text": [
      "1st contraction (0, 4)\n",
      "2nd contraction (0, 3)\n",
      "3rd contraction (0, 2)\n",
      "4th contraction (0, 1)\n"
     ]
    },
    {
     "data": {
      "text/html": [
       "<html>\\(\\displaystyle \\verb|Substitution|\\verb| |\\verb|Lambda:|\\verb| |\\verb|done|\\)</html>"
      ],
      "text/latex": [
       "$\\displaystyle \\verb|Substitution|\\verb| |\\verb|Lambda:|\\verb| |\\verb|done|$"
      ],
      "text/plain": [
       "'Substitution Lambda: done'"
      ]
     },
     "metadata": {},
     "output_type": "display_data"
    },
    {
     "data": {
      "text/html": [
       "<html>\\(\\displaystyle \\verb|Substitution|\\verb| |\\verb|Delta:|\\verb| |\\verb|done|\\)</html>"
      ],
      "text/latex": [
       "$\\displaystyle \\verb|Substitution|\\verb| |\\verb|Delta:|\\verb| |\\verb|done|$"
      ],
      "text/plain": [
       "'Substitution Delta: done'"
      ]
     },
     "metadata": {},
     "output_type": "display_data"
    },
    {
     "data": {
      "text/html": [
       "<html>\\(\\displaystyle \\Psi_{4} = W_{\\alpha\\beta\\gamma\\delta}n^{\\alpha}\\bar{m}^{\\beta}n^{\\gamma}\\bar{m}^{\\delta} =  -\\frac{110592 \\, \\left(\\frac{1}{48}\\right)^{\\frac{11}{13}} {\\left(35 \\, \\sqrt{3} \\sqrt{-b^{2} + 1} B_{0}^{2} b r^{2} r_{s}^{2} \\left(\\frac{r - r_{s}}{r}\\right)^{\\frac{1}{6} \\, \\sqrt{3} \\sqrt{-b^{2} + 1}} \\sin\\left({\\theta}\\right)^{2} - 54 \\, B_{0}^{2} b^{2} r^{2} r_{s}^{2} \\left(\\frac{r - r_{s}}{r}\\right)^{\\frac{1}{6} \\, \\sqrt{3} \\sqrt{-b^{2} + 1}} \\sin\\left({\\theta}\\right)^{2} - 35 \\, \\sqrt{3} \\sqrt{-b^{2} + 1} B_{0}^{2} b r r_{s}^{3} \\left(\\frac{r - r_{s}}{r}\\right)^{\\frac{1}{6} \\, \\sqrt{3} \\sqrt{-b^{2} + 1}} \\sin\\left({\\theta}\\right)^{2} + 54 \\, B_{0}^{2} b^{2} r r_{s}^{3} \\left(\\frac{r - r_{s}}{r}\\right)^{\\frac{1}{6} \\, \\sqrt{3} \\sqrt{-b^{2} + 1}} \\sin\\left({\\theta}\\right)^{2} - 96 \\, \\sqrt{3} \\sqrt{-b^{2} + 1} B_{0}^{2} r^{3} r_{s} \\left(\\frac{r - r_{s}}{r}\\right)^{\\frac{1}{6} \\, \\sqrt{3} \\sqrt{-b^{2} + 1}} \\sin\\left({\\theta}\\right)^{2} + 420 \\, B_{0}^{2} b r^{3} r_{s} \\left(\\frac{r - r_{s}}{r}\\right)^{\\frac{1}{6} \\, \\sqrt{3} \\sqrt{-b^{2} + 1}} \\sin\\left({\\theta}\\right)^{2} + 144 \\, \\sqrt{3} \\sqrt{-b^{2} + 1} B_{0}^{2} r^{2} r_{s}^{2} \\left(\\frac{r - r_{s}}{r}\\right)^{\\frac{1}{6} \\, \\sqrt{3} \\sqrt{-b^{2} + 1}} \\sin\\left({\\theta}\\right)^{2} - 630 \\, B_{0}^{2} b r^{2} r_{s}^{2} \\left(\\frac{r - r_{s}}{r}\\right)^{\\frac{1}{6} \\, \\sqrt{3} \\sqrt{-b^{2} + 1}} \\sin\\left({\\theta}\\right)^{2} - 48 \\, \\sqrt{3} \\sqrt{-b^{2} + 1} B_{0}^{2} r r_{s}^{3} \\left(\\frac{r - r_{s}}{r}\\right)^{\\frac{1}{6} \\, \\sqrt{3} \\sqrt{-b^{2} + 1}} \\sin\\left({\\theta}\\right)^{2} + 210 \\, B_{0}^{2} b r r_{s}^{3} \\left(\\frac{r - r_{s}}{r}\\right)^{\\frac{1}{6} \\, \\sqrt{3} \\sqrt{-b^{2} + 1}} \\sin\\left({\\theta}\\right)^{2} - 420 \\, B_{0}^{2} r^{4} \\left(\\frac{r - r_{s}}{r}\\right)^{\\frac{1}{6} \\, \\sqrt{3} \\sqrt{-b^{2} + 1}} \\sin\\left({\\theta}\\right)^{2} + 840 \\, B_{0}^{2} r^{3} r_{s} \\left(\\frac{r - r_{s}}{r}\\right)^{\\frac{1}{6} \\, \\sqrt{3} \\sqrt{-b^{2} + 1}} \\sin\\left({\\theta}\\right)^{2} - 576 \\, B_{0}^{2} r^{2} r_{s}^{2} \\left(\\frac{r - r_{s}}{r}\\right)^{\\frac{1}{6} \\, \\sqrt{3} \\sqrt{-b^{2} + 1}} \\sin\\left({\\theta}\\right)^{2} + 156 \\, B_{0}^{2} r r_{s}^{3} \\left(\\frac{r - r_{s}}{r}\\right)^{\\frac{1}{6} \\, \\sqrt{3} \\sqrt{-b^{2} + 1}} \\sin\\left({\\theta}\\right)^{2} - 144 \\, \\sqrt{3} \\sqrt{-b^{2} + 1} b r_{s}^{2} \\left(\\frac{r - r_{s}}{r}\\right)^{b} + 552 \\, b^{2} r_{s}^{2} \\left(\\frac{r - r_{s}}{r}\\right)^{b} + 192 \\, \\sqrt{3} \\sqrt{-b^{2} + 1} r r_{s} \\left(\\frac{r - r_{s}}{r}\\right)^{b} - 1728 \\, b r r_{s} \\left(\\frac{r - r_{s}}{r}\\right)^{b} - 96 \\, \\sqrt{3} \\sqrt{-b^{2} + 1} r_{s}^{2} \\left(\\frac{r - r_{s}}{r}\\right)^{b} + 864 \\, b r_{s}^{2} \\left(\\frac{r - r_{s}}{r}\\right)^{b} + 1728 \\, r^{2} \\left(\\frac{r - r_{s}}{r}\\right)^{b} - 1728 \\, r r_{s} \\left(\\frac{r - r_{s}}{r}\\right)^{b} + 312 \\, r_{s}^{2} \\left(\\frac{r - r_{s}}{r}\\right)^{b}\\right)} B_{0}^{2} {\\left(r - r_{s}\\right)}^{b} r^{-b - 1} \\left(\\frac{r - r_{s}}{r}\\right)^{\\frac{1}{2} \\, \\sqrt{3} \\sqrt{-b^{2} + 1} + 2 \\, b} \\sin\\left({\\theta}\\right)^{2}}{{\\left(13 \\, B_{0}^{2} r^{2} \\left(\\frac{r - r_{s}}{r}\\right)^{\\frac{1}{6} \\, \\sqrt{3} \\sqrt{-b^{2} + 1}} \\sin\\left({\\theta}\\right)^{2} - 13 \\, B_{0}^{2} r r_{s} \\left(\\frac{r - r_{s}}{r}\\right)^{\\frac{1}{6} \\, \\sqrt{3} \\sqrt{-b^{2} + 1}} \\sin\\left({\\theta}\\right)^{2} + 48 \\, \\left(\\frac{r - r_{s}}{r}\\right)^{b}\\right)}^{4} {\\left(r - r_{s}\\right)} \\left(\\frac{13 \\, {\\left(B_{0}^{2} r^{2} - B_{0}^{2} r r_{s}\\right)} \\left(\\frac{r - r_{s}}{r}\\right)^{\\frac{1}{6} \\, \\sqrt{3} \\sqrt{-b^{2} + 1}} \\sin\\left({\\theta}\\right)^{2} + 48 \\, \\left(\\frac{r - r_{s}}{r}\\right)^{b}}{\\left(\\frac{r - r_{s}}{r}\\right)^{b}}\\right)^{\\frac{2}{13}}}\\)</html>"
      ],
      "text/latex": [
       "$\\displaystyle \\Psi_{4} = W_{\\alpha\\beta\\gamma\\delta}n^{\\alpha}\\bar{m}^{\\beta}n^{\\gamma}\\bar{m}^{\\delta} =  -\\frac{110592 \\, \\left(\\frac{1}{48}\\right)^{\\frac{11}{13}} {\\left(35 \\, \\sqrt{3} \\sqrt{-b^{2} + 1} B_{0}^{2} b r^{2} r_{s}^{2} \\left(\\frac{r - r_{s}}{r}\\right)^{\\frac{1}{6} \\, \\sqrt{3} \\sqrt{-b^{2} + 1}} \\sin\\left({\\theta}\\right)^{2} - 54 \\, B_{0}^{2} b^{2} r^{2} r_{s}^{2} \\left(\\frac{r - r_{s}}{r}\\right)^{\\frac{1}{6} \\, \\sqrt{3} \\sqrt{-b^{2} + 1}} \\sin\\left({\\theta}\\right)^{2} - 35 \\, \\sqrt{3} \\sqrt{-b^{2} + 1} B_{0}^{2} b r r_{s}^{3} \\left(\\frac{r - r_{s}}{r}\\right)^{\\frac{1}{6} \\, \\sqrt{3} \\sqrt{-b^{2} + 1}} \\sin\\left({\\theta}\\right)^{2} + 54 \\, B_{0}^{2} b^{2} r r_{s}^{3} \\left(\\frac{r - r_{s}}{r}\\right)^{\\frac{1}{6} \\, \\sqrt{3} \\sqrt{-b^{2} + 1}} \\sin\\left({\\theta}\\right)^{2} - 96 \\, \\sqrt{3} \\sqrt{-b^{2} + 1} B_{0}^{2} r^{3} r_{s} \\left(\\frac{r - r_{s}}{r}\\right)^{\\frac{1}{6} \\, \\sqrt{3} \\sqrt{-b^{2} + 1}} \\sin\\left({\\theta}\\right)^{2} + 420 \\, B_{0}^{2} b r^{3} r_{s} \\left(\\frac{r - r_{s}}{r}\\right)^{\\frac{1}{6} \\, \\sqrt{3} \\sqrt{-b^{2} + 1}} \\sin\\left({\\theta}\\right)^{2} + 144 \\, \\sqrt{3} \\sqrt{-b^{2} + 1} B_{0}^{2} r^{2} r_{s}^{2} \\left(\\frac{r - r_{s}}{r}\\right)^{\\frac{1}{6} \\, \\sqrt{3} \\sqrt{-b^{2} + 1}} \\sin\\left({\\theta}\\right)^{2} - 630 \\, B_{0}^{2} b r^{2} r_{s}^{2} \\left(\\frac{r - r_{s}}{r}\\right)^{\\frac{1}{6} \\, \\sqrt{3} \\sqrt{-b^{2} + 1}} \\sin\\left({\\theta}\\right)^{2} - 48 \\, \\sqrt{3} \\sqrt{-b^{2} + 1} B_{0}^{2} r r_{s}^{3} \\left(\\frac{r - r_{s}}{r}\\right)^{\\frac{1}{6} \\, \\sqrt{3} \\sqrt{-b^{2} + 1}} \\sin\\left({\\theta}\\right)^{2} + 210 \\, B_{0}^{2} b r r_{s}^{3} \\left(\\frac{r - r_{s}}{r}\\right)^{\\frac{1}{6} \\, \\sqrt{3} \\sqrt{-b^{2} + 1}} \\sin\\left({\\theta}\\right)^{2} - 420 \\, B_{0}^{2} r^{4} \\left(\\frac{r - r_{s}}{r}\\right)^{\\frac{1}{6} \\, \\sqrt{3} \\sqrt{-b^{2} + 1}} \\sin\\left({\\theta}\\right)^{2} + 840 \\, B_{0}^{2} r^{3} r_{s} \\left(\\frac{r - r_{s}}{r}\\right)^{\\frac{1}{6} \\, \\sqrt{3} \\sqrt{-b^{2} + 1}} \\sin\\left({\\theta}\\right)^{2} - 576 \\, B_{0}^{2} r^{2} r_{s}^{2} \\left(\\frac{r - r_{s}}{r}\\right)^{\\frac{1}{6} \\, \\sqrt{3} \\sqrt{-b^{2} + 1}} \\sin\\left({\\theta}\\right)^{2} + 156 \\, B_{0}^{2} r r_{s}^{3} \\left(\\frac{r - r_{s}}{r}\\right)^{\\frac{1}{6} \\, \\sqrt{3} \\sqrt{-b^{2} + 1}} \\sin\\left({\\theta}\\right)^{2} - 144 \\, \\sqrt{3} \\sqrt{-b^{2} + 1} b r_{s}^{2} \\left(\\frac{r - r_{s}}{r}\\right)^{b} + 552 \\, b^{2} r_{s}^{2} \\left(\\frac{r - r_{s}}{r}\\right)^{b} + 192 \\, \\sqrt{3} \\sqrt{-b^{2} + 1} r r_{s} \\left(\\frac{r - r_{s}}{r}\\right)^{b} - 1728 \\, b r r_{s} \\left(\\frac{r - r_{s}}{r}\\right)^{b} - 96 \\, \\sqrt{3} \\sqrt{-b^{2} + 1} r_{s}^{2} \\left(\\frac{r - r_{s}}{r}\\right)^{b} + 864 \\, b r_{s}^{2} \\left(\\frac{r - r_{s}}{r}\\right)^{b} + 1728 \\, r^{2} \\left(\\frac{r - r_{s}}{r}\\right)^{b} - 1728 \\, r r_{s} \\left(\\frac{r - r_{s}}{r}\\right)^{b} + 312 \\, r_{s}^{2} \\left(\\frac{r - r_{s}}{r}\\right)^{b}\\right)} B_{0}^{2} {\\left(r - r_{s}\\right)}^{b} r^{-b - 1} \\left(\\frac{r - r_{s}}{r}\\right)^{\\frac{1}{2} \\, \\sqrt{3} \\sqrt{-b^{2} + 1} + 2 \\, b} \\sin\\left({\\theta}\\right)^{2}}{{\\left(13 \\, B_{0}^{2} r^{2} \\left(\\frac{r - r_{s}}{r}\\right)^{\\frac{1}{6} \\, \\sqrt{3} \\sqrt{-b^{2} + 1}} \\sin\\left({\\theta}\\right)^{2} - 13 \\, B_{0}^{2} r r_{s} \\left(\\frac{r - r_{s}}{r}\\right)^{\\frac{1}{6} \\, \\sqrt{3} \\sqrt{-b^{2} + 1}} \\sin\\left({\\theta}\\right)^{2} + 48 \\, \\left(\\frac{r - r_{s}}{r}\\right)^{b}\\right)}^{4} {\\left(r - r_{s}\\right)} \\left(\\frac{13 \\, {\\left(B_{0}^{2} r^{2} - B_{0}^{2} r r_{s}\\right)} \\left(\\frac{r - r_{s}}{r}\\right)^{\\frac{1}{6} \\, \\sqrt{3} \\sqrt{-b^{2} + 1}} \\sin\\left({\\theta}\\right)^{2} + 48 \\, \\left(\\frac{r - r_{s}}{r}\\right)^{b}}{\\left(\\frac{r - r_{s}}{r}\\right)^{b}}\\right)^{\\frac{2}{13}}}$"
      ],
      "text/plain": [
       "\\Psi_{4} = W_{\\alpha\\beta\\gamma\\delta}n^{\\alpha}\\bar{m}^{\\beta}n^{\\gamma}\\bar{m}^{\\delta} =  -110592*(1/48)^(11/13)*(35*sqrt(3)*sqrt(-b^2 + 1)*B_0^2*b*r^2*r_s^2*((r - r_s)/r)^(1/6*sqrt(3)*sqrt(-b^2 + 1))*sin(th)^2 - 54*B_0^2*b^2*r^2*r_s^2*((r - r_s)/r)^(1/6*sqrt(3)*sqrt(-b^2 + 1))*sin(th)^2 - 35*sqrt(3)*sqrt(-b^2 + 1)*B_0^2*b*r*r_s^3*((r - r_s)/r)^(1/6*sqrt(3)*sqrt(-b^2 + 1))*sin(th)^2 + 54*B_0^2*b^2*r*r_s^3*((r - r_s)/r)^(1/6*sqrt(3)*sqrt(-b^2 + 1))*sin(th)^2 - 96*sqrt(3)*sqrt(-b^2 + 1)*B_0^2*r^3*r_s*((r - r_s)/r)^(1/6*sqrt(3)*sqrt(-b^2 + 1))*sin(th)^2 + 420*B_0^2*b*r^3*r_s*((r - r_s)/r)^(1/6*sqrt(3)*sqrt(-b^2 + 1))*sin(th)^2 + 144*sqrt(3)*sqrt(-b^2 + 1)*B_0^2*r^2*r_s^2*((r - r_s)/r)^(1/6*sqrt(3)*sqrt(-b^2 + 1))*sin(th)^2 - 630*B_0^2*b*r^2*r_s^2*((r - r_s)/r)^(1/6*sqrt(3)*sqrt(-b^2 + 1))*sin(th)^2 - 48*sqrt(3)*sqrt(-b^2 + 1)*B_0^2*r*r_s^3*((r - r_s)/r)^(1/6*sqrt(3)*sqrt(-b^2 + 1))*sin(th)^2 + 210*B_0^2*b*r*r_s^3*((r - r_s)/r)^(1/6*sqrt(3)*sqrt(-b^2 + 1))*sin(th)^2 - 420*B_0^2*r^4*((r - r_s)/r)^(1/6*sqrt(3)*sqrt(-b^2 + 1))*sin(th)^2 + 840*B_0^2*r^3*r_s*((r - r_s)/r)^(1/6*sqrt(3)*sqrt(-b^2 + 1))*sin(th)^2 - 576*B_0^2*r^2*r_s^2*((r - r_s)/r)^(1/6*sqrt(3)*sqrt(-b^2 + 1))*sin(th)^2 + 156*B_0^2*r*r_s^3*((r - r_s)/r)^(1/6*sqrt(3)*sqrt(-b^2 + 1))*sin(th)^2 - 144*sqrt(3)*sqrt(-b^2 + 1)*b*r_s^2*((r - r_s)/r)^b + 552*b^2*r_s^2*((r - r_s)/r)^b + 192*sqrt(3)*sqrt(-b^2 + 1)*r*r_s*((r - r_s)/r)^b - 1728*b*r*r_s*((r - r_s)/r)^b - 96*sqrt(3)*sqrt(-b^2 + 1)*r_s^2*((r - r_s)/r)^b + 864*b*r_s^2*((r - r_s)/r)^b + 1728*r^2*((r - r_s)/r)^b - 1728*r*r_s*((r - r_s)/r)^b + 312*r_s^2*((r - r_s)/r)^b)*B_0^2*(r - r_s)^b*r^(-b - 1)*((r - r_s)/r)^(1/2*sqrt(3)*sqrt(-b^2 + 1) + 2*b)*sin(th)^2/((13*B_0^2*r^2*((r - r_s)/r)^(1/6*sqrt(3)*sqrt(-b^2 + 1))*sin(th)^2 - 13*B_0^2*r*r_s*((r - r_s)/r)^(1/6*sqrt(3)*sqrt(-b^2 + 1))*sin(th)^2 + 48*((r - r_s)/r)^b)^4*(r - r_s)*((13*(B_0^2*r^2 - B_0^2*r*r_s)*((r - r_s)/r)^(1/6*sqrt(3)*sqrt(-b^2 + 1))*sin(th)^2 + 48*((r - r_s)/r)^b)/((r - r_s)/r)^b)^(2/13))"
      ]
     },
     "metadata": {},
     "output_type": "display_data"
    }
   ],
   "source": [
    "print('1st contraction', Weyl_tensor.tensor_type())\n",
    "Psi4 = Weyl_tensor.contract(0, tetrad_N, 0)\n",
    "print('2nd contraction', Psi4.tensor_type())\n",
    "Psi4 = Psi4.contract(0, tetrad_Mbar, 0)\n",
    "print('3rd contraction', Psi4.tensor_type())\n",
    "Psi4 = Psi4.contract(0, tetrad_N, 0)\n",
    "print('4th contraction', Psi4.tensor_type())\n",
    "Psi4 = Psi4.contract(0, tetrad_Mbar, 0)\n",
    "latex_str = r'\\Psi_{4} = W_{\\alpha\\beta\\gamma\\delta}n^{\\alpha}\\bar{m}^{\\beta}n^{\\gamma}\\bar{m}^{\\delta} = ' \n",
    "show(LatexExpr(latex_str), subs_func(Psi4))\n",
    "clear_output(wait=True)"
   ]
  },
  {
   "cell_type": "code",
   "execution_count": 37,
   "id": "424f6cc2",
   "metadata": {},
   "outputs": [
    {
     "data": {
      "text/html": [
       "<html>\\(\\displaystyle \\verb|Substitution|\\verb| |\\verb|Lambda:|\\verb| |\\verb|done|\\)</html>"
      ],
      "text/latex": [
       "$\\displaystyle \\verb|Substitution|\\verb| |\\verb|Lambda:|\\verb| |\\verb|done|$"
      ],
      "text/plain": [
       "'Substitution Lambda: done'"
      ]
     },
     "metadata": {},
     "output_type": "display_data"
    },
    {
     "data": {
      "text/html": [
       "<html>\\(\\displaystyle \\verb|Substitution|\\verb| |\\verb|Delta:|\\verb| |\\verb|done|\\)</html>"
      ],
      "text/latex": [
       "$\\displaystyle \\verb|Substitution|\\verb| |\\verb|Delta:|\\verb| |\\verb|done|$"
      ],
      "text/plain": [
       "'Substitution Delta: done'"
      ]
     },
     "metadata": {},
     "output_type": "display_data"
    },
    {
     "data": {
      "text/html": [
       "<html>\\(\\displaystyle \\Psi_{4}= 0 \\Rightarrow  \\mathrm{False}\\)</html>"
      ],
      "text/latex": [
       "$\\displaystyle \\Psi_{4}= 0 \\Rightarrow  \\mathrm{False}$"
      ],
      "text/plain": [
       "\\Psi_{4}= 0 \\Rightarrow  False"
      ]
     },
     "metadata": {},
     "output_type": "display_data"
    }
   ],
   "source": [
    "show(LatexExpr(r'\\Psi_{4}= 0 \\Rightarrow '), numerator(subs_func(Psi4)).factor().is_zero())"
   ]
  },
  {
   "cell_type": "code",
   "execution_count": 38,
   "id": "b28f52f6-2663-4065-93c4-2c1a0ba5f789",
   "metadata": {},
   "outputs": [],
   "source": [
    "clear_output(wait=True)"
   ]
  },
  {
   "cell_type": "markdown",
   "id": "aee81bac-b9e2-4f21-9e83-ea89d633b758",
   "metadata": {},
   "source": [
    "# In conclusion, and as expected, we find a type I spacetime for both the electric and magnetic cases since the classification is conformally invariant."
   ]
  }
 ],
 "metadata": {
  "kernelspec": {
   "display_name": "SageMath 10.1",
   "language": "sage",
   "name": "sagemath"
  },
  "language_info": {
   "codemirror_mode": {
    "name": "ipython",
    "version": 3
   },
   "file_extension": ".py",
   "mimetype": "text/x-python",
   "name": "python",
   "nbconvert_exporter": "python",
   "pygments_lexer": "ipython3",
   "version": "3.10.12"
  }
 },
 "nbformat": 4,
 "nbformat_minor": 5
}
