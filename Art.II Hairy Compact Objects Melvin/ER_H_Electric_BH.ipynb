{
 "cells": [
  {
   "cell_type": "markdown",
   "id": "115e65e3-e133-4f58-8b8e-e6056f36d22d",
   "metadata": {},
   "source": [
    "# HAIRY NON ROTATING TEST ELECTRICALLY CHARGED BLACK HOLE IN ENTANGLED RELATIVITY"
   ]
  },
  {
   "cell_type": "code",
   "execution_count": 3,
   "id": "62f6d87c",
   "metadata": {},
   "outputs": [
    {
     "data": {
      "text/plain": [
       "'SageMath version 10.1, Release Date: 2023-08-20'"
      ]
     },
     "execution_count": 3,
     "metadata": {},
     "output_type": "execute_result"
    }
   ],
   "source": [
    "version()"
   ]
  },
  {
   "cell_type": "markdown",
   "id": "044635f0",
   "metadata": {},
   "source": [
    "'SageMath version used is 10.1, Release Date: 2023-08-20'"
   ]
  },
  {
   "cell_type": "code",
   "execution_count": 4,
   "id": "112af488",
   "metadata": {},
   "outputs": [],
   "source": [
    "%display latex"
   ]
  },
  {
   "cell_type": "code",
   "execution_count": 5,
   "id": "1a2f3ec7",
   "metadata": {},
   "outputs": [],
   "source": [
    "from sage.manifolds.operators import dalembertian\n",
    "from sage.manifolds.operators import laplacian\n",
    "from sage.manifolds.operators import grad"
   ]
  },
  {
   "cell_type": "code",
   "execution_count": 6,
   "id": "52764e53",
   "metadata": {},
   "outputs": [
    {
     "name": "stdout",
     "output_type": "stream",
     "text": [
      "4-dimensional Lorentzian manifold M\n"
     ]
    }
   ],
   "source": [
    "M = Manifold(4, 'M', structure='Lorentzian')\n",
    "print(M)"
   ]
  },
  {
   "cell_type": "code",
   "execution_count": 7,
   "id": "0ca83434",
   "metadata": {},
   "outputs": [
    {
     "data": {
      "text/html": [
       "<html>\\(\\displaystyle \\left(M,(t, r, {\\theta}, {\\varphi})\\right)\\)</html>"
      ],
      "text/latex": [
       "$\\displaystyle \\left(M,(t, r, {\\theta}, {\\varphi})\\right)$"
      ],
      "text/plain": [
       "Chart (M, (t, r, th, ph))"
      ]
     },
     "execution_count": 7,
     "metadata": {},
     "output_type": "execute_result"
    }
   ],
   "source": [
    "XY.<t,r,th,ph> = M.chart(r\"t r:(0,+oo) th:(0,pi):\\theta ph:(0,2*pi):\\varphi\")\n",
    "XY"
   ]
  },
  {
   "cell_type": "code",
   "execution_count": 8,
   "id": "3a743003",
   "metadata": {},
   "outputs": [],
   "source": [
    "g = M.metric()\n",
    "r_s, B, b, a = var('r_s B_0 b a')\n",
    "assume(r_s>=0)\n",
    "assume(r_s<r)"
   ]
  },
  {
   "cell_type": "code",
   "execution_count": 9,
   "id": "d7fbffa6-dbc7-43f6-bf58-a663fd5ea8cf",
   "metadata": {},
   "outputs": [],
   "source": [
    "def subs_func(arg):\n",
    "    subs_funcs = [(Lambda, Lamb), (Delta, Delt)]\n",
    "    \n",
    "    if hasattr(arg, 'expr'):\n",
    "        arg = arg.expr()\n",
    "        \n",
    "    if hasattr(arg, 'apply_map')*hasattr(arg, 'display'):\n",
    "        for i, (old_func, new_func) in enumerate(subs_funcs):\n",
    "            arg.apply_map(lambda f: (f.substitute_function(old_func, new_func).factor() if i == len(subs_funcs)-1\\\n",
    "                                           else f.substitute_function(old_func, new_func)))  \n",
    "            show('Substitution Lambda: done') if i==0 else show('Substitution Delta: done')\n",
    "    else:\n",
    "        for i, (old_func, new_func) in enumerate(subs_funcs):\n",
    "            arg = (arg.substitute_function(old_func, new_func).factor() if i == len(subs_funcs)-1\\\n",
    "                                           else arg.substitute_function(old_func, new_func)) \n",
    "            show('Substitution Lambda: done') if i==0 else show('Substitution Delta: done')\n",
    "    return arg"
   ]
  },
  {
   "cell_type": "markdown",
   "id": "102a229b",
   "metadata": {},
   "source": [
    "# I. Definition of the metric after Dowker's transformation"
   ]
  },
  {
   "cell_type": "code",
   "execution_count": 10,
   "id": "b2f7b778",
   "metadata": {},
   "outputs": [
    {
     "data": {
      "text/html": [
       "<html>\\(\\displaystyle g = -\\frac{{\\left(-\\frac{r_{s}}{r} + 1\\right)}^{b} \\Lambda\\left(r, {\\theta}\\right)^{\\frac{28}{13}}}{\\Delta\\left(r\\right)^{2}} \\mathrm{d} t\\otimes \\mathrm{d} t + \\frac{\\Lambda\\left(r, {\\theta}\\right)^{\\frac{28}{13}}}{{\\left(-\\frac{r_{s}}{r} + 1\\right)}^{b} \\Delta\\left(r\\right)^{2}} \\mathrm{d} r\\otimes \\mathrm{d} r + \\left( \\frac{r^{2} {\\left(-\\frac{r_{s}}{r} + 1\\right)}^{-b + 1} \\Lambda\\left(r, {\\theta}\\right)^{\\frac{28}{13}}}{\\Delta\\left(r\\right)^{2}} \\right) \\mathrm{d} {\\theta}\\otimes \\mathrm{d} {\\theta} + \\left( \\frac{r^{2} {\\left(-\\frac{r_{s}}{r} + 1\\right)}^{-b + 1} \\sin\\left({\\theta}\\right)^{2}}{\\Delta\\left(r\\right)^{2} \\Lambda\\left(r, {\\theta}\\right)^{\\frac{20}{13}}} \\right) \\mathrm{d} {\\varphi}\\otimes \\mathrm{d} {\\varphi}\\)</html>"
      ],
      "text/latex": [
       "$\\displaystyle g = -\\frac{{\\left(-\\frac{r_{s}}{r} + 1\\right)}^{b} \\Lambda\\left(r, {\\theta}\\right)^{\\frac{28}{13}}}{\\Delta\\left(r\\right)^{2}} \\mathrm{d} t\\otimes \\mathrm{d} t + \\frac{\\Lambda\\left(r, {\\theta}\\right)^{\\frac{28}{13}}}{{\\left(-\\frac{r_{s}}{r} + 1\\right)}^{b} \\Delta\\left(r\\right)^{2}} \\mathrm{d} r\\otimes \\mathrm{d} r + \\left( \\frac{r^{2} {\\left(-\\frac{r_{s}}{r} + 1\\right)}^{-b + 1} \\Lambda\\left(r, {\\theta}\\right)^{\\frac{28}{13}}}{\\Delta\\left(r\\right)^{2}} \\right) \\mathrm{d} {\\theta}\\otimes \\mathrm{d} {\\theta} + \\left( \\frac{r^{2} {\\left(-\\frac{r_{s}}{r} + 1\\right)}^{-b + 1} \\sin\\left({\\theta}\\right)^{2}}{\\Delta\\left(r\\right)^{2} \\Lambda\\left(r, {\\theta}\\right)^{\\frac{20}{13}}} \\right) \\mathrm{d} {\\varphi}\\otimes \\mathrm{d} {\\varphi}$"
      ],
      "text/plain": [
       "g = -(-r_s/r + 1)^b*Lambda(r, th)^(28/13)/Delta(r)^2 dt⊗dt + Lambda(r, th)^(28/13)/((-r_s/r + 1)^b*Delta(r)^2) dr⊗dr + r^2*(-r_s/r + 1)^(-b + 1)*Lambda(r, th)^(28/13)/Delta(r)^2 dth⊗dth + r^2*(-r_s/r + 1)^(-b + 1)*sin(th)^2/(Delta(r)^2*Lambda(r, th)^(20/13)) dph⊗dph"
      ]
     },
     "metadata": {},
     "output_type": "display_data"
    },
    {
     "data": {
      "text/html": [
       "<html>\\(\\displaystyle \\sqrt{\\Phi} = \\vartheta =  \\frac{\\Delta\\left(r\\right)}{\\Lambda\\left(r, {\\theta}\\right)^{\\frac{2}{13}}}\\)</html>"
      ],
      "text/latex": [
       "$\\displaystyle \\sqrt{\\Phi} = \\vartheta =  \\frac{\\Delta\\left(r\\right)}{\\Lambda\\left(r, {\\theta}\\right)^{\\frac{2}{13}}}$"
      ],
      "text/plain": [
       "\\sqrt{\\Phi} = \\vartheta =  Delta(r)/Lambda(r, th)^(2/13)"
      ]
     },
     "metadata": {},
     "output_type": "display_data"
    },
    {
     "data": {
      "text/html": [
       "<html>\\(\\displaystyle \\Delta =  {\\left(-\\frac{r_{s}}{r} + 1\\right)}^{\\frac{1}{6} \\, \\sqrt{3} \\sqrt{-b^{2} + 1}}\\)</html>"
      ],
      "text/latex": [
       "$\\displaystyle \\Delta =  {\\left(-\\frac{r_{s}}{r} + 1\\right)}^{\\frac{1}{6} \\, \\sqrt{3} \\sqrt{-b^{2} + 1}}$"
      ],
      "text/plain": [
       "\\Delta =  (-r_s/r + 1)^(1/6*sqrt(3)*sqrt(-b^2 + 1))"
      ]
     },
     "metadata": {},
     "output_type": "display_data"
    },
    {
     "data": {
      "text/html": [
       "<html>\\(\\displaystyle \\Lambda =  \\frac{13}{48} \\, B_{0}^{2} r^{2} {\\left(-\\frac{r_{s}}{r} + 1\\right)}^{\\frac{1}{6} \\, \\sqrt{3} \\sqrt{-b^{2} + 1} - b + 1} \\sin\\left({\\theta}\\right)^{2} + 1\\)</html>"
      ],
      "text/latex": [
       "$\\displaystyle \\Lambda =  \\frac{13}{48} \\, B_{0}^{2} r^{2} {\\left(-\\frac{r_{s}}{r} + 1\\right)}^{\\frac{1}{6} \\, \\sqrt{3} \\sqrt{-b^{2} + 1} - b + 1} \\sin\\left({\\theta}\\right)^{2} + 1$"
      ],
      "text/plain": [
       "\\Lambda =  13/48*B_0^2*r^2*(-r_s/r + 1)^(1/6*sqrt(3)*sqrt(-b^2 + 1) - b + 1)*sin(th)^2 + 1"
      ]
     },
     "metadata": {},
     "output_type": "display_data"
    }
   ],
   "source": [
    "a = 1 / (2 * sqrt(3))\n",
    "\n",
    "Lambda = function('Lambda')\n",
    "Delta = function('Delta')\n",
    "\n",
    "Lamb(r, th) = 1 + (1+ a**2) / 4 * B**2 * (r*sin(th))**2 * (1- r_s/r)**(1-b+a*sqrt(1-b**2))\n",
    "Delt(r) = (1- r_s/r)**(a*sqrt(1-b**2))\n",
    "\n",
    "g[0,0] = -(1- r_s/r)**b / Delta(r)**2 * Lambda(r,th)**(28/13)\n",
    "g[1,1] = 1 / (1- r_s/r)**b / Delta(r)**2 * Lambda(r,th)**(28/13)\n",
    "g[2,2] = r**2 * (1- r_s/r)**(1-b) / Delta(r)**2 * Lambda(r,th)**(28/13)\n",
    "g[3,3] =  (r*sin(th))**2 * (1- r_s/r)**(1-b) / Delta(r)**2 / Lambda(r,th)**(20/13)\n",
    "\n",
    "Phi = M.scalar_field({XY: Lambda(r,th)**(-4*a**2/(1+a**2)) * Delta(r)**2}, name=r'\\phi') \n",
    "varth = M.scalar_field({XY: Lambda(r,th)**(-2*a**2/(1+a**2))*Delta(r)}, name=r'\\vartheta') \n",
    "\n",
    "show(g.display())\n",
    "show(LatexExpr(r'\\sqrt{\\Phi} = \\vartheta = '), varth.expr())\n",
    "show(LatexExpr(r'\\Delta = '), Delt(r, th))\n",
    "show(LatexExpr(r'\\Lambda = '), Lamb(r, th))"
   ]
  },
  {
   "cell_type": "markdown",
   "id": "e7d1d1a6",
   "metadata": {},
   "source": [
    "# II. The vector potential"
   ]
  },
  {
   "cell_type": "code",
   "execution_count": 11,
   "id": "b3d64816",
   "metadata": {},
   "outputs": [],
   "source": [
    "nab = g.connection() "
   ]
  },
  {
   "cell_type": "code",
   "execution_count": 12,
   "id": "020b3463-c4ce-495c-b3c3-233b0e7a95f3",
   "metadata": {},
   "outputs": [
    {
     "data": {
      "text/html": [
       "<html>\\(\\displaystyle A = \\left( -\\frac{1}{12} \\, {\\left(\\sqrt{3} \\sqrt{-b^{2} + 1} - 6 \\, b - 6\\right)} B_{0} r_{s} \\cos\\left({\\theta}\\right) - B_{0} r \\cos\\left({\\theta}\\right) \\right) \\mathrm{d} t\\)</html>"
      ],
      "text/latex": [
       "$\\displaystyle A = \\left( -\\frac{1}{12} \\, {\\left(\\sqrt{3} \\sqrt{-b^{2} + 1} - 6 \\, b - 6\\right)} B_{0} r_{s} \\cos\\left({\\theta}\\right) - B_{0} r \\cos\\left({\\theta}\\right) \\right) \\mathrm{d} t$"
      ],
      "text/plain": [
       "A = (-1/12*(sqrt(3)*sqrt(-b^2 + 1) - 6*b - 6)*B_0*r_s*cos(th) - B_0*r*cos(th)) dt"
      ]
     },
     "metadata": {},
     "output_type": "display_data"
    }
   ],
   "source": [
    "pot_vec = M.tensor_field(0,1,name='A')\n",
    "pot_vec[0]=-(sqrt(3)*sqrt(1-b**2)-6*(b+1))*r_s*B/12*cos(th)-r*B*cos(th)\n",
    "pot_vec[1]=0\n",
    "pot_vec[2]=0\n",
    "pot_vec[3]=0\n",
    "\n",
    "show(pot_vec.display())"
   ]
  },
  {
   "cell_type": "code",
   "execution_count": 13,
   "id": "fccdba50-661f-4c29-b36a-47ef27fa3114",
   "metadata": {},
   "outputs": [
    {
     "data": {
      "text/html": [
       "<html>\\(\\displaystyle \\nabla_{g} A\\)</html>"
      ],
      "text/latex": [
       "$\\displaystyle \\nabla_{g} A$"
      ],
      "text/plain": [
       "Tensor field nabla_g(A) of type (0,2) on the 4-dimensional Lorentzian manifold M"
      ]
     },
     "execution_count": 13,
     "metadata": {},
     "output_type": "execute_result"
    }
   ],
   "source": [
    "DF = nab(pot_vec) ; DF"
   ]
  },
  {
   "cell_type": "code",
   "execution_count": 14,
   "id": "3baae27c-3572-4ece-977b-15bc92de6c8f",
   "metadata": {},
   "outputs": [
    {
     "data": {
      "text/html": [
       "<html>\\(\\displaystyle F_{\\mu\\nu} = -\\frac{1}{12} \\, \\sqrt{3} {\\left(2 \\, \\sqrt{3} b r_{s} - \\sqrt{b + 1} \\sqrt{-b + 1} r_{s} - 4 \\, \\sqrt{3} r + 2 \\, \\sqrt{3} r_{s}\\right)} B_{0} \\sin\\left({\\theta}\\right)\\)</html>"
      ],
      "text/latex": [
       "$\\displaystyle F_{\\mu\\nu} = -\\frac{1}{12} \\, \\sqrt{3} {\\left(2 \\, \\sqrt{3} b r_{s} - \\sqrt{b + 1} \\sqrt{-b + 1} r_{s} - 4 \\, \\sqrt{3} r + 2 \\, \\sqrt{3} r_{s}\\right)} B_{0} \\sin\\left({\\theta}\\right)$"
      ],
      "text/plain": [
       "F_{\\mu\\nu} = -1/12*sqrt(3)*(2*sqrt(3)*b*r_s - sqrt(b + 1)*sqrt(-b + 1)*r_s - 4*sqrt(3)*r + 2*sqrt(3)*r_s)*B_0*sin(th)"
      ]
     },
     "metadata": {},
     "output_type": "display_data"
    }
   ],
   "source": [
    "F=(DF['_ij']-DF['_ji'])._tensor\n",
    "Fuu = F.up(g)\n",
    "show(LatexExpr(r'F_{\\mu\\nu} ='), F[0,2].factor())"
   ]
  },
  {
   "cell_type": "code",
   "execution_count": 15,
   "id": "5b78358e-faf5-4f5d-9d4b-c05153e76fe4",
   "metadata": {},
   "outputs": [],
   "source": [
    "Ric = g.ricci() #Ricci tensor"
   ]
  },
  {
   "cell_type": "code",
   "execution_count": 16,
   "id": "0ecc395c-9793-4e0c-bc44-eafd390bb714",
   "metadata": {},
   "outputs": [],
   "source": [
    "R = g.ricci_scalar() #Ricci scalar\n",
    "G = Ric-R*g/2 #Einstein tensor"
   ]
  },
  {
   "cell_type": "code",
   "execution_count": 17,
   "id": "fd01d9bd-029a-4623-83b9-e0056bc09328",
   "metadata": {},
   "outputs": [],
   "source": [
    "Lm = -F['_ij']*F.up(g)['^ij']/2"
   ]
  },
  {
   "cell_type": "markdown",
   "id": "aafc9bbd-2cfa-454a-9144-d85dffeb5eae",
   "metadata": {},
   "source": [
    "# IV. The scalar-field form $-\\frac{\\mathcal{L}_m}{R} = \\vartheta$"
   ]
  },
  {
   "cell_type": "code",
   "execution_count": 18,
   "id": "4b986b8c-5900-4589-b97a-b63dd111e85f",
   "metadata": {},
   "outputs": [],
   "source": [
    "eqphi = varth + Lm/R"
   ]
  },
  {
   "cell_type": "code",
   "execution_count": 19,
   "id": "30e0f170-e809-4823-a373-8a3ed2feed41",
   "metadata": {
    "scrolled": true,
    "tags": []
   },
   "outputs": [
    {
     "data": {
      "text/html": [
       "<html>\\(\\displaystyle \\verb|Substitution|\\verb| |\\verb|Lambda:|\\verb| |\\verb|done|\\)</html>"
      ],
      "text/latex": [
       "$\\displaystyle \\verb|Substitution|\\verb| |\\verb|Lambda:|\\verb| |\\verb|done|$"
      ],
      "text/plain": [
       "'Substitution Lambda: done'"
      ]
     },
     "metadata": {},
     "output_type": "display_data"
    },
    {
     "data": {
      "text/html": [
       "<html>\\(\\displaystyle \\verb|Substitution|\\verb| |\\verb|Delta:|\\verb| |\\verb|done|\\)</html>"
      ],
      "text/latex": [
       "$\\displaystyle \\verb|Substitution|\\verb| |\\verb|Delta:|\\verb| |\\verb|done|$"
      ],
      "text/plain": [
       "'Substitution Delta: done'"
      ]
     },
     "metadata": {},
     "output_type": "display_data"
    }
   ],
   "source": [
    "eqphi = subs_func(eqphi).canonicalize_radical().factor()"
   ]
  },
  {
   "cell_type": "code",
   "execution_count": 20,
   "id": "3fe6b777-92ea-4c3c-9319-b02a96a08807",
   "metadata": {},
   "outputs": [
    {
     "data": {
      "text/html": [
       "<html>\\(\\displaystyle \\frac{\\mathcal{L}_m}{R} + \\vartheta =  0\\)</html>"
      ],
      "text/latex": [
       "$\\displaystyle \\frac{\\mathcal{L}_m}{R} + \\vartheta =  0$"
      ],
      "text/plain": [
       "\\frac{\\mathcal{L}_m}{R} + \\vartheta =  0"
      ]
     },
     "metadata": {},
     "output_type": "display_data"
    }
   ],
   "source": [
    "latex_str = r'\\frac{\\mathcal{L}_m}{R} + \\vartheta = ' \n",
    "show(LatexExpr(latex_str), eqphi.simplify_full())"
   ]
  },
  {
   "cell_type": "code",
   "execution_count": 21,
   "id": "73c89e8d",
   "metadata": {},
   "outputs": [
    {
     "data": {
      "text/html": [
       "<html>\\(\\displaystyle \\begin{array}{llcl} \\vartheta:& M & \\longrightarrow & \\mathbb{R} \\\\ & \\left(t, r, {\\theta}, {\\varphi}\\right) & \\longmapsto & \\frac{\\Delta\\left(r\\right)}{\\Lambda\\left(r, {\\theta}\\right)^{\\frac{2}{13}}} \\end{array}\\)</html>"
      ],
      "text/latex": [
       "$\\displaystyle \\begin{array}{llcl} \\vartheta:& M & \\longrightarrow & \\mathbb{R} \\\\ & \\left(t, r, {\\theta}, {\\varphi}\\right) & \\longmapsto & \\frac{\\Delta\\left(r\\right)}{\\Lambda\\left(r, {\\theta}\\right)^{\\frac{2}{13}}} \\end{array}$"
      ],
      "text/plain": [
       "\\vartheta: M → ℝ\n",
       "   (t, r, th, ph) ↦ Delta(r)/Lambda(r, th)^(2/13)"
      ]
     },
     "execution_count": 21,
     "metadata": {},
     "output_type": "execute_result"
    }
   ],
   "source": [
    "varth.display()"
   ]
  },
  {
   "cell_type": "markdown",
   "id": "49453df6-9cba-4c25-8eb5-7411c30fbbaf",
   "metadata": {},
   "source": [
    "# V. Electromagnetic field equation"
   ]
  },
  {
   "cell_type": "markdown",
   "id": "caf1315e-d01f-4e5d-8b93-81a85aaf6b8a",
   "metadata": {},
   "source": [
    "<!-- Let's verify the Maxwell equations $\\triangledown\\left(\\sqrt{\\phi}F_{\\mu\\nu}\\right)=0$  -->\n",
    "Let's verify the Maxwell equations $\\nabla_\\sigma \\left(\\frac{\\mathcal{L}_m}{R} F^{\\mu \\sigma}\\right) = 0$"
   ]
  },
  {
   "cell_type": "code",
   "execution_count": 22,
   "id": "dc54ad62-a038-44f5-b118-eb6ea1af7623",
   "metadata": {},
   "outputs": [
    {
     "data": {
      "text/html": [
       "<html>\\(\\displaystyle \\verb|Substitution|\\verb| |\\verb|Lambda:|\\verb| |\\verb|done|\\)</html>"
      ],
      "text/latex": [
       "$\\displaystyle \\verb|Substitution|\\verb| |\\verb|Lambda:|\\verb| |\\verb|done|$"
      ],
      "text/plain": [
       "'Substitution Lambda: done'"
      ]
     },
     "metadata": {},
     "output_type": "display_data"
    },
    {
     "data": {
      "text/html": [
       "<html>\\(\\displaystyle \\verb|Substitution|\\verb| |\\verb|Delta:|\\verb| |\\verb|done|\\)</html>"
      ],
      "text/latex": [
       "$\\displaystyle \\verb|Substitution|\\verb| |\\verb|Delta:|\\verb| |\\verb|done|$"
      ],
      "text/plain": [
       "'Substitution Delta: done'"
      ]
     },
     "metadata": {},
     "output_type": "display_data"
    }
   ],
   "source": [
    "eq_MxW = nab(varth *F.up(g))['_i^ij']\n",
    "eq_MxW = subs_func(eq_MxW)"
   ]
  },
  {
   "cell_type": "code",
   "execution_count": 23,
   "id": "8946a2b7-bb04-460a-bbbc-29c846607e4e",
   "metadata": {},
   "outputs": [
    {
     "data": {
      "text/html": [
       "<html>\\(\\displaystyle \\triangledown\\left(\\sqrt{\\phi}F^{\\mu\\nu}\\right)_{mag} =  0\\)</html>"
      ],
      "text/latex": [
       "$\\displaystyle \\triangledown\\left(\\sqrt{\\phi}F^{\\mu\\nu}\\right)_{mag} =  0$"
      ],
      "text/plain": [
       "\\triangledown\\left(\\sqrt{\\phi}F^{\\mu\\nu}\\right)_{mag} =  0"
      ]
     },
     "metadata": {},
     "output_type": "display_data"
    }
   ],
   "source": [
    "latex_str = r'\\triangledown\\left(\\sqrt{\\phi}F^{\\mu\\nu}\\right)_{mag} = ' \n",
    "show(LatexExpr(latex_str), eq_MxW[0].expr().canonicalize_radical())"
   ]
  },
  {
   "cell_type": "markdown",
   "id": "39d691d0-fbe8-4d37-a8a3-4a09e26dc318",
   "metadata": {},
   "source": [
    "# VI. The metric field equation"
   ]
  },
  {
   "cell_type": "markdown",
   "id": "1a2993a6-b363-4aeb-89cf-a3445dd3d309",
   "metadata": {},
   "source": [
    "Let's define the stress-energy tensor $T_{\\mu\\nu}=2\\left(F_{\\rho\\mu}F^{\\rho}_{\\hspace{0.2cm}\\nu}-\\frac{1}{4}g_{\\mu\\nu}F^{2}\\right)$ "
   ]
  },
  {
   "cell_type": "code",
   "execution_count": 24,
   "id": "ffd9b6f3",
   "metadata": {},
   "outputs": [],
   "source": [
    "T = 2*(F.up(g,1)['_i^j']*F['_kj'] + g*Lm/2)"
   ]
  },
  {
   "cell_type": "code",
   "execution_count": 25,
   "id": "60ee8b58",
   "metadata": {},
   "outputs": [],
   "source": [
    "S = (nab(nab(varth**2)) - g*(varth**2).dalembertian()) / varth**2"
   ]
  },
  {
   "cell_type": "markdown",
   "id": "7410dc26-5fbd-4280-af3e-188fae654615",
   "metadata": {},
   "source": [
    "And the field equation"
   ]
  },
  {
   "cell_type": "code",
   "execution_count": 26,
   "id": "9df21924",
   "metadata": {},
   "outputs": [],
   "source": [
    "eq_m = G + R / Lm * T - S"
   ]
  },
  {
   "cell_type": "code",
   "execution_count": 27,
   "id": "b480a84a-597e-4547-b0e5-ff5ff7877603",
   "metadata": {},
   "outputs": [
    {
     "data": {
      "text/html": [
       "<html>\\(\\displaystyle \\verb|Substitution|\\verb| |\\verb|Lambda:|\\verb| |\\verb|done|\\)</html>"
      ],
      "text/latex": [
       "$\\displaystyle \\verb|Substitution|\\verb| |\\verb|Lambda:|\\verb| |\\verb|done|$"
      ],
      "text/plain": [
       "'Substitution Lambda: done'"
      ]
     },
     "metadata": {},
     "output_type": "display_data"
    },
    {
     "data": {
      "text/html": [
       "<html>\\(\\displaystyle \\verb|Substitution|\\verb| |\\verb|Delta:|\\verb| |\\verb|done|\\)</html>"
      ],
      "text/latex": [
       "$\\displaystyle \\verb|Substitution|\\verb| |\\verb|Delta:|\\verb| |\\verb|done|$"
      ],
      "text/plain": [
       "'Substitution Delta: done'"
      ]
     },
     "metadata": {},
     "output_type": "display_data"
    },
    {
     "data": {
      "text/html": [
       "<html>\\(\\displaystyle \\mbox{Tensor field of type (0,2) on the 4-dimensional Lorentzian manifold M}\\)</html>"
      ],
      "text/latex": [
       "$\\displaystyle \\mbox{Tensor field of type (0,2) on the 4-dimensional Lorentzian manifold M}$"
      ],
      "text/plain": [
       "Tensor field of type (0,2) on the 4-dimensional Lorentzian manifold M"
      ]
     },
     "execution_count": 27,
     "metadata": {},
     "output_type": "execute_result"
    }
   ],
   "source": [
    "subs_func(eq_m)"
   ]
  },
  {
   "cell_type": "code",
   "execution_count": 28,
   "id": "8dc44fbb-c432-4ab4-93aa-f50775f4f2f7",
   "metadata": {},
   "outputs": [],
   "source": [
    "latex_str = r'G_{\\mu\\nu} + \\frac{R}{\\mathcal{L}_{m}}T_{\\mu\\nu}-\\frac{1}{\\vartheta^2}\\left[\\nabla_{\\mu}\\nabla_{\\nu} - g_{\\mu\\nu}\\square\\right]\\vartheta² = ' "
   ]
  },
  {
   "cell_type": "code",
   "execution_count": 29,
   "id": "2fbf97f2-6554-485e-9124-cb34a8a2c95d",
   "metadata": {},
   "outputs": [],
   "source": [
    "result = eq_m\n",
    "result.apply_map(lambda f:f.simplify_full().factor().canonicalize_radical())"
   ]
  },
  {
   "cell_type": "code",
   "execution_count": 30,
   "id": "0c428e06-04f3-4ca8-ad12-64080df8cd47",
   "metadata": {},
   "outputs": [
    {
     "data": {
      "text/html": [
       "<html>\\(\\displaystyle G_{\\mu\\nu} + \\frac{R}{\\mathcal{L}_{m}}T_{\\mu\\nu}-\\frac{1}{\\vartheta^2}\\left[\\nabla_{\\mu}\\nabla_{\\nu} - g_{\\mu\\nu}\\square\\right]\\vartheta² =  \\left(\\begin{array}{rrrr}\n",
       "0 & 0 & 0 & 0 \\\\\n",
       "0 & 0 & 0 & 0 \\\\\n",
       "0 & 0 & 0 & 0 \\\\\n",
       "0 & 0 & 0 & 0\n",
       "\\end{array}\\right)\\)</html>"
      ],
      "text/latex": [
       "$\\displaystyle G_{\\mu\\nu} + \\frac{R}{\\mathcal{L}_{m}}T_{\\mu\\nu}-\\frac{1}{\\vartheta^2}\\left[\\nabla_{\\mu}\\nabla_{\\nu} - g_{\\mu\\nu}\\square\\right]\\vartheta² =  \\left(\\begin{array}{rrrr}\n",
       "0 & 0 & 0 & 0 \\\\\n",
       "0 & 0 & 0 & 0 \\\\\n",
       "0 & 0 & 0 & 0 \\\\\n",
       "0 & 0 & 0 & 0\n",
       "\\end{array}\\right)$"
      ],
      "text/plain": [
       "G_{\\mu\\nu} + \\frac{R}{\\mathcal{L}_{m}}T_{\\mu\\nu}-\\frac{1}{\\vartheta^2}\\left[\\nabla_{\\mu}\\nabla_{\\nu} - g_{\\mu\\nu}\\square\\right]\\vartheta² =  [0 0 0 0]\n",
       "[0 0 0 0]\n",
       "[0 0 0 0]\n",
       "[0 0 0 0]"
      ]
     },
     "metadata": {},
     "output_type": "display_data"
    }
   ],
   "source": [
    "show(LatexExpr(latex_str), result[:])"
   ]
  },
  {
   "cell_type": "markdown",
   "id": "7a6881d6",
   "metadata": {},
   "source": [
    "# Appendix"
   ]
  },
  {
   "cell_type": "markdown",
   "id": "f82935f4",
   "metadata": {},
   "source": [
    "## V.1. Verification of the Melvin-Schwarzchild solution"
   ]
  },
  {
   "cell_type": "code",
   "execution_count": 31,
   "id": "fdf090d6",
   "metadata": {
    "scrolled": true
   },
   "outputs": [
    {
     "data": {
      "text/html": [
       "<html>\\(\\displaystyle -\\frac{5308416 \\, {\\left(r_{s} \\sin\\left({\\theta}\\right)^{2} - r\\right)} B_{0}^{2}}{{\\left(13 \\, B_{0}^{2} r^{2} \\sin\\left({\\theta}\\right)^{2} + 48\\right)}^{4} {\\left(\\frac{13}{48} \\, B_{0}^{2} r^{2} \\sin\\left({\\theta}\\right)^{2} + 1\\right)}^{\\frac{4}{13}} r}\\)</html>"
      ],
      "text/latex": [
       "$\\displaystyle -\\frac{5308416 \\, {\\left(r_{s} \\sin\\left({\\theta}\\right)^{2} - r\\right)} B_{0}^{2}}{{\\left(13 \\, B_{0}^{2} r^{2} \\sin\\left({\\theta}\\right)^{2} + 48\\right)}^{4} {\\left(\\frac{13}{48} \\, B_{0}^{2} r^{2} \\sin\\left({\\theta}\\right)^{2} + 1\\right)}^{\\frac{4}{13}} r}$"
      ],
      "text/plain": [
       "-5308416*(r_s*sin(th)^2 - r)*B_0^2/((13*B_0^2*r^2*sin(th)^2 + 48)^4*(13/48*B_0^2*r^2*sin(th)^2 + 1)^(4/13)*r)"
      ]
     },
     "execution_count": 31,
     "metadata": {},
     "output_type": "execute_result"
    }
   ],
   "source": [
    "Lm.expr().substitute_function(Delta,Delt).substitute_function(Lambda,Lamb).subs(b=1).factor()"
   ]
  },
  {
   "cell_type": "code",
   "execution_count": 32,
   "id": "cc0be6a6",
   "metadata": {},
   "outputs": [
    {
     "data": {
      "text/html": [
       "<html>\\(\\displaystyle 1\\)</html>"
      ],
      "text/latex": [
       "$\\displaystyle 1$"
      ],
      "text/plain": [
       "1"
      ]
     },
     "execution_count": 32,
     "metadata": {},
     "output_type": "execute_result"
    }
   ],
   "source": [
    "5308416/(48**4)"
   ]
  },
  {
   "cell_type": "markdown",
   "id": "ca6e8b92",
   "metadata": {},
   "source": [
    "We recover here the expression of equation (13) from Minazzoli & Wavasseur "
   ]
  },
  {
   "cell_type": "markdown",
   "id": "dfd84e86",
   "metadata": {},
   "source": [
    "## V.II. Simplification of the $\\Xi(r,\\theta)$ expression"
   ]
  },
  {
   "cell_type": "code",
   "execution_count": 33,
   "id": "cfa74332",
   "metadata": {},
   "outputs": [
    {
     "data": {
      "text/html": [
       "<html>\\(\\displaystyle \\mathcal{L}_m =  -\\frac{5308416 \\, \\left(\\frac{1}{48}\\right)^{\\frac{9}{13}} {\\left(4 \\, \\sqrt{3} \\sqrt{b + 1} b \\sqrt{-b + 1} r_{s}^{2} \\sin\\left({\\theta}\\right)^{2} - 11 \\, b^{2} r_{s}^{2} \\sin\\left({\\theta}\\right)^{2} - 8 \\, \\sqrt{3} \\sqrt{b + 1} \\sqrt{-b + 1} r r_{s} \\sin\\left({\\theta}\\right)^{2} + 4 \\, \\sqrt{3} \\sqrt{b + 1} \\sqrt{-b + 1} r_{s}^{2} \\sin\\left({\\theta}\\right)^{2} + 48 \\, b r r_{s} \\sin\\left({\\theta}\\right)^{2} - 24 \\, b r_{s}^{2} \\sin\\left({\\theta}\\right)^{2} - 13 \\, r_{s}^{2} \\sin\\left({\\theta}\\right)^{2} - 48 \\, r^{2} + 48 \\, r r_{s}\\right)} B_{0}^{2} \\left(\\frac{r - r_{s}}{r}\\right)^{\\frac{2}{3} \\, \\sqrt{3} \\sqrt{-b^{2} + 1} + 4 \\, b}}{{\\left(13 \\, B_{0}^{2} r^{2} \\left(\\frac{r - r_{s}}{r}\\right)^{\\frac{1}{6} \\, \\sqrt{3} \\sqrt{-b^{2} + 1}} \\sin\\left({\\theta}\\right)^{2} - 13 \\, B_{0}^{2} r r_{s} \\left(\\frac{r - r_{s}}{r}\\right)^{\\frac{1}{6} \\, \\sqrt{3} \\sqrt{-b^{2} + 1}} \\sin\\left({\\theta}\\right)^{2} + 48 \\, \\left(\\frac{r - r_{s}}{r}\\right)^{b}\\right)}^{4} {\\left(r - r_{s}\\right)} r \\left(\\frac{13 \\, {\\left(B_{0}^{2} r^{2} - B_{0}^{2} r r_{s}\\right)} \\left(\\frac{r - r_{s}}{r}\\right)^{\\frac{1}{6} \\, \\sqrt{3} \\sqrt{-b^{2} + 1}} \\sin\\left({\\theta}\\right)^{2} + 48 \\, \\left(\\frac{r - r_{s}}{r}\\right)^{b}}{\\left(\\frac{r - r_{s}}{r}\\right)^{b}}\\right)^{\\frac{4}{13}}}\\)</html>"
      ],
      "text/latex": [
       "$\\displaystyle \\mathcal{L}_m =  -\\frac{5308416 \\, \\left(\\frac{1}{48}\\right)^{\\frac{9}{13}} {\\left(4 \\, \\sqrt{3} \\sqrt{b + 1} b \\sqrt{-b + 1} r_{s}^{2} \\sin\\left({\\theta}\\right)^{2} - 11 \\, b^{2} r_{s}^{2} \\sin\\left({\\theta}\\right)^{2} - 8 \\, \\sqrt{3} \\sqrt{b + 1} \\sqrt{-b + 1} r r_{s} \\sin\\left({\\theta}\\right)^{2} + 4 \\, \\sqrt{3} \\sqrt{b + 1} \\sqrt{-b + 1} r_{s}^{2} \\sin\\left({\\theta}\\right)^{2} + 48 \\, b r r_{s} \\sin\\left({\\theta}\\right)^{2} - 24 \\, b r_{s}^{2} \\sin\\left({\\theta}\\right)^{2} - 13 \\, r_{s}^{2} \\sin\\left({\\theta}\\right)^{2} - 48 \\, r^{2} + 48 \\, r r_{s}\\right)} B_{0}^{2} \\left(\\frac{r - r_{s}}{r}\\right)^{\\frac{2}{3} \\, \\sqrt{3} \\sqrt{-b^{2} + 1} + 4 \\, b}}{{\\left(13 \\, B_{0}^{2} r^{2} \\left(\\frac{r - r_{s}}{r}\\right)^{\\frac{1}{6} \\, \\sqrt{3} \\sqrt{-b^{2} + 1}} \\sin\\left({\\theta}\\right)^{2} - 13 \\, B_{0}^{2} r r_{s} \\left(\\frac{r - r_{s}}{r}\\right)^{\\frac{1}{6} \\, \\sqrt{3} \\sqrt{-b^{2} + 1}} \\sin\\left({\\theta}\\right)^{2} + 48 \\, \\left(\\frac{r - r_{s}}{r}\\right)^{b}\\right)}^{4} {\\left(r - r_{s}\\right)} r \\left(\\frac{13 \\, {\\left(B_{0}^{2} r^{2} - B_{0}^{2} r r_{s}\\right)} \\left(\\frac{r - r_{s}}{r}\\right)^{\\frac{1}{6} \\, \\sqrt{3} \\sqrt{-b^{2} + 1}} \\sin\\left({\\theta}\\right)^{2} + 48 \\, \\left(\\frac{r - r_{s}}{r}\\right)^{b}}{\\left(\\frac{r - r_{s}}{r}\\right)^{b}}\\right)^{\\frac{4}{13}}}$"
      ],
      "text/plain": [
       "\\mathcal{L}_m =  -5308416*(1/48)^(9/13)*(4*sqrt(3)*sqrt(b + 1)*b*sqrt(-b + 1)*r_s^2*sin(th)^2 - 11*b^2*r_s^2*sin(th)^2 - 8*sqrt(3)*sqrt(b + 1)*sqrt(-b + 1)*r*r_s*sin(th)^2 + 4*sqrt(3)*sqrt(b + 1)*sqrt(-b + 1)*r_s^2*sin(th)^2 + 48*b*r*r_s*sin(th)^2 - 24*b*r_s^2*sin(th)^2 - 13*r_s^2*sin(th)^2 - 48*r^2 + 48*r*r_s)*B_0^2*((r - r_s)/r)^(2/3*sqrt(3)*sqrt(-b^2 + 1) + 4*b)/((13*B_0^2*r^2*((r - r_s)/r)^(1/6*sqrt(3)*sqrt(-b^2 + 1))*sin(th)^2 - 13*B_0^2*r*r_s*((r - r_s)/r)^(1/6*sqrt(3)*sqrt(-b^2 + 1))*sin(th)^2 + 48*((r - r_s)/r)^b)^4*(r - r_s)*r*((13*(B_0^2*r^2 - B_0^2*r*r_s)*((r - r_s)/r)^(1/6*sqrt(3)*sqrt(-b^2 + 1))*sin(th)^2 + 48*((r - r_s)/r)^b)/((r - r_s)/r)^b)^(4/13))"
      ]
     },
     "metadata": {},
     "output_type": "display_data"
    }
   ],
   "source": [
    "show(LatexExpr(r'\\mathcal{L}_m = '), Lm.expr().substitute_function(Delta,Delt).substitute_function(Lambda,Lamb).factor())"
   ]
  },
  {
   "cell_type": "code",
   "execution_count": 34,
   "id": "653a7445",
   "metadata": {},
   "outputs": [
    {
     "data": {
      "text/html": [
       "<html>\\(\\displaystyle \\Xi =  4 \\, \\sqrt{3} \\sqrt{b + 1} b \\sqrt{-b + 1} r_{s}^{2} \\sin\\left({\\theta}\\right)^{2} - 11 \\, b^{2} r_{s}^{2} \\sin\\left({\\theta}\\right)^{2} - 8 \\, \\sqrt{3} \\sqrt{b + 1} \\sqrt{-b + 1} r r_{s} \\sin\\left({\\theta}\\right)^{2} + 4 \\, \\sqrt{3} \\sqrt{b + 1} \\sqrt{-b + 1} r_{s}^{2} \\sin\\left({\\theta}\\right)^{2} + 48 \\, b r r_{s} \\sin\\left({\\theta}\\right)^{2} - 24 \\, b r_{s}^{2} \\sin\\left({\\theta}\\right)^{2} - 13 \\, r_{s}^{2} \\sin\\left({\\theta}\\right)^{2} - 48 \\, r^{2} + 48 \\, r r_{s}\\)</html>"
      ],
      "text/latex": [
       "$\\displaystyle \\Xi =  4 \\, \\sqrt{3} \\sqrt{b + 1} b \\sqrt{-b + 1} r_{s}^{2} \\sin\\left({\\theta}\\right)^{2} - 11 \\, b^{2} r_{s}^{2} \\sin\\left({\\theta}\\right)^{2} - 8 \\, \\sqrt{3} \\sqrt{b + 1} \\sqrt{-b + 1} r r_{s} \\sin\\left({\\theta}\\right)^{2} + 4 \\, \\sqrt{3} \\sqrt{b + 1} \\sqrt{-b + 1} r_{s}^{2} \\sin\\left({\\theta}\\right)^{2} + 48 \\, b r r_{s} \\sin\\left({\\theta}\\right)^{2} - 24 \\, b r_{s}^{2} \\sin\\left({\\theta}\\right)^{2} - 13 \\, r_{s}^{2} \\sin\\left({\\theta}\\right)^{2} - 48 \\, r^{2} + 48 \\, r r_{s}$"
      ],
      "text/plain": [
       "\\Xi =  4*sqrt(3)*sqrt(b + 1)*b*sqrt(-b + 1)*r_s^2*sin(th)^2 - 11*b^2*r_s^2*sin(th)^2 - 8*sqrt(3)*sqrt(b + 1)*sqrt(-b + 1)*r*r_s*sin(th)^2 + 4*sqrt(3)*sqrt(b + 1)*sqrt(-b + 1)*r_s^2*sin(th)^2 + 48*b*r*r_s*sin(th)^2 - 24*b*r_s^2*sin(th)^2 - 13*r_s^2*sin(th)^2 - 48*r^2 + 48*r*r_s"
      ]
     },
     "metadata": {},
     "output_type": "display_data"
    },
    {
     "data": {
      "text/html": [
       "<html>\\(\\displaystyle \\Xi =  4 \\, {\\left({\\left(\\sqrt{3} b + \\sqrt{3}\\right)} r_{s}^{2} - 2 \\, \\sqrt{3} r r_{s}\\right)} \\sqrt{b + 1} \\sqrt{-b + 1} \\sin\\left({\\theta}\\right)^{2} + {\\left(48 \\, b r r_{s} - {\\left(11 \\, b^{2} + 24 \\, b + 13\\right)} r_{s}^{2}\\right)} \\sin\\left({\\theta}\\right)^{2} - 48 \\, r^{2} + 48 \\, r r_{s}\\)</html>"
      ],
      "text/latex": [
       "$\\displaystyle \\Xi =  4 \\, {\\left({\\left(\\sqrt{3} b + \\sqrt{3}\\right)} r_{s}^{2} - 2 \\, \\sqrt{3} r r_{s}\\right)} \\sqrt{b + 1} \\sqrt{-b + 1} \\sin\\left({\\theta}\\right)^{2} + {\\left(48 \\, b r r_{s} - {\\left(11 \\, b^{2} + 24 \\, b + 13\\right)} r_{s}^{2}\\right)} \\sin\\left({\\theta}\\right)^{2} - 48 \\, r^{2} + 48 \\, r r_{s}$"
      ],
      "text/plain": [
       "\\Xi =  4*((sqrt(3)*b + sqrt(3))*r_s^2 - 2*sqrt(3)*r*r_s)*sqrt(b + 1)*sqrt(-b + 1)*sin(th)^2 + (48*b*r*r_s - (11*b^2 + 24*b + 13)*r_s^2)*sin(th)^2 - 48*r^2 + 48*r*r_s"
      ]
     },
     "metadata": {},
     "output_type": "display_data"
    }
   ],
   "source": [
    "expression_to_factorize = (4 * sqrt(3) * sqrt(b + 1) * b * sqrt(-b + 1) * r_s^2 * sin(th)^2\n",
    "        - 11 * b^2 * r_s^2 * sin(th)^2\n",
    "        - 8 * sqrt(3) * sqrt(b + 1) * sqrt(-b + 1) * r * r_s * sin(th)^2\n",
    "        + 4 * sqrt(3) * sqrt(b + 1) * sqrt(-b + 1) * r_s^2 * sin(th)^2\n",
    "        + 48 * b * r * r_s * sin(th)^2\n",
    "        - 24 * b * r_s^2 * sin(th)^2\n",
    "        - 13 * r_s^2 * sin(th)^2\n",
    "        - 48 * r^2\n",
    "        + 48 * r * r_s)\n",
    "show(LatexExpr(r'\\Xi = '), expression_to_factorize)\n",
    "show(LatexExpr(r'\\Xi = '), expression_to_factorize.simplify_trig())"
   ]
  },
  {
   "cell_type": "code",
   "execution_count": 35,
   "id": "bb3dc5ee",
   "metadata": {},
   "outputs": [
    {
     "data": {
      "text/html": [
       "<html>\\(\\displaystyle \\frac{\\mathcal{L}_m}{\\Xi} =  -\\frac{5308416 \\, \\left(\\frac{1}{48}\\right)^{\\frac{9}{13}} B_{0}^{2} \\left(\\frac{r - r_{s}}{r}\\right)^{\\frac{2}{3} \\, \\sqrt{3} \\sqrt{-b^{2} + 1} + 4 \\, b}}{{\\left(13 \\, B_{0}^{2} r^{2} \\left(\\frac{r - r_{s}}{r}\\right)^{\\frac{1}{6} \\, \\sqrt{3} \\sqrt{-b^{2} + 1}} \\sin\\left({\\theta}\\right)^{2} - 13 \\, B_{0}^{2} r r_{s} \\left(\\frac{r - r_{s}}{r}\\right)^{\\frac{1}{6} \\, \\sqrt{3} \\sqrt{-b^{2} + 1}} \\sin\\left({\\theta}\\right)^{2} + 48 \\, \\left(\\frac{r - r_{s}}{r}\\right)^{b}\\right)}^{4} {\\left(r - r_{s}\\right)} r \\left(\\frac{13 \\, {\\left(B_{0}^{2} r^{2} - B_{0}^{2} r r_{s}\\right)} \\left(\\frac{r - r_{s}}{r}\\right)^{\\frac{1}{6} \\, \\sqrt{3} \\sqrt{-b^{2} + 1}} \\sin\\left({\\theta}\\right)^{2} + 48 \\, \\left(\\frac{r - r_{s}}{r}\\right)^{b}}{\\left(\\frac{r - r_{s}}{r}\\right)^{b}}\\right)^{\\frac{4}{13}}}\\)</html>"
      ],
      "text/latex": [
       "$\\displaystyle \\frac{\\mathcal{L}_m}{\\Xi} =  -\\frac{5308416 \\, \\left(\\frac{1}{48}\\right)^{\\frac{9}{13}} B_{0}^{2} \\left(\\frac{r - r_{s}}{r}\\right)^{\\frac{2}{3} \\, \\sqrt{3} \\sqrt{-b^{2} + 1} + 4 \\, b}}{{\\left(13 \\, B_{0}^{2} r^{2} \\left(\\frac{r - r_{s}}{r}\\right)^{\\frac{1}{6} \\, \\sqrt{3} \\sqrt{-b^{2} + 1}} \\sin\\left({\\theta}\\right)^{2} - 13 \\, B_{0}^{2} r r_{s} \\left(\\frac{r - r_{s}}{r}\\right)^{\\frac{1}{6} \\, \\sqrt{3} \\sqrt{-b^{2} + 1}} \\sin\\left({\\theta}\\right)^{2} + 48 \\, \\left(\\frac{r - r_{s}}{r}\\right)^{b}\\right)}^{4} {\\left(r - r_{s}\\right)} r \\left(\\frac{13 \\, {\\left(B_{0}^{2} r^{2} - B_{0}^{2} r r_{s}\\right)} \\left(\\frac{r - r_{s}}{r}\\right)^{\\frac{1}{6} \\, \\sqrt{3} \\sqrt{-b^{2} + 1}} \\sin\\left({\\theta}\\right)^{2} + 48 \\, \\left(\\frac{r - r_{s}}{r}\\right)^{b}}{\\left(\\frac{r - r_{s}}{r}\\right)^{b}}\\right)^{\\frac{4}{13}}}$"
      ],
      "text/plain": [
       "\\frac{\\mathcal{L}_m}{\\Xi} =  -5308416*(1/48)^(9/13)*B_0^2*((r - r_s)/r)^(2/3*sqrt(3)*sqrt(-b^2 + 1) + 4*b)/((13*B_0^2*r^2*((r - r_s)/r)^(1/6*sqrt(3)*sqrt(-b^2 + 1))*sin(th)^2 - 13*B_0^2*r*r_s*((r - r_s)/r)^(1/6*sqrt(3)*sqrt(-b^2 + 1))*sin(th)^2 + 48*((r - r_s)/r)^b)^4*(r - r_s)*r*((13*(B_0^2*r^2 - B_0^2*r*r_s)*((r - r_s)/r)^(1/6*sqrt(3)*sqrt(-b^2 + 1))*sin(th)^2 + 48*((r - r_s)/r)^b)/((r - r_s)/r)^b)^(4/13))"
      ]
     },
     "metadata": {},
     "output_type": "display_data"
    },
    {
     "data": {
      "text/html": [
       "<html>\\(\\displaystyle \\frac{\\mathcal{L}_m\\Lambda^{(56/13)}}{\\Xi} =  -\\frac{B_{0}^{2} {\\left(r - r_{s}\\right)}^{\\frac{2}{3} \\, \\sqrt{3} \\sqrt{b + 1} \\sqrt{-b + 1}} r^{-\\frac{2}{3} \\, \\sqrt{3} \\sqrt{b + 1} \\sqrt{-b + 1} - 1}}{48 \\, {\\left(r - r_{s}\\right)}}  = -\\frac{B^{2}\\Delta^{4}}{48r^{2}\\left(1-\\frac{r_{s}}{r}\\right)}\\)</html>"
      ],
      "text/latex": [
       "$\\displaystyle \\frac{\\mathcal{L}_m\\Lambda^{(56/13)}}{\\Xi} =  -\\frac{B_{0}^{2} {\\left(r - r_{s}\\right)}^{\\frac{2}{3} \\, \\sqrt{3} \\sqrt{b + 1} \\sqrt{-b + 1}} r^{-\\frac{2}{3} \\, \\sqrt{3} \\sqrt{b + 1} \\sqrt{-b + 1} - 1}}{48 \\, {\\left(r - r_{s}\\right)}}  = -\\frac{B^{2}\\Delta^{4}}{48r^{2}\\left(1-\\frac{r_{s}}{r}\\right)}$"
      ],
      "text/plain": [
       "\\frac{\\mathcal{L}_m\\Lambda^{(56/13)}}{\\Xi} =  -1/48*B_0^2*(r - r_s)^(2/3*sqrt(3)*sqrt(b + 1)*sqrt(-b + 1))*r^(-2/3*sqrt(3)*sqrt(b + 1)*sqrt(-b + 1) - 1)/(r - r_s)  = -\\frac{B^{2}\\Delta^{4}}{48r^{2}\\left(1-\\frac{r_{s}}{r}\\right)}"
      ]
     },
     "metadata": {},
     "output_type": "display_data"
    }
   ],
   "source": [
    "rest = Lm.expr().substitute_function(Delta,Delt).substitute_function(Lambda,Lamb).factor()/expression_to_factorize\n",
    "rest.factor()\n",
    "show(LatexExpr(r'\\frac{\\mathcal{L}_m}{\\Xi} = '), rest)\n",
    "show(LatexExpr(r'\\frac{\\mathcal{L}_m\\Lambda^{(56/13)}}{\\Xi} = '), (rest*Lamb**(56/13)).factor().canonicalize_radical().factor(),LatexExpr(r' = -\\frac{B^{2}\\Delta^{4}}{48r^{2}\\left(1-\\frac{r_{s}}{r}\\right)}'))"
   ]
  },
  {
   "cell_type": "markdown",
   "id": "d0c08aff",
   "metadata": {},
   "source": [
    "## V.III. Simplification of the Ricci scalar expression"
   ]
  },
  {
   "cell_type": "code",
   "execution_count": 36,
   "id": "5d0715ca",
   "metadata": {},
   "outputs": [
    {
     "data": {
      "text/html": [
       "<html>\\(\\displaystyle R =  \\frac{5308416 \\, \\left(\\frac{1}{48}\\right)^{\\frac{11}{13}} {\\left(4 \\, \\sqrt{3} \\sqrt{-b^{2} + 1} b r_{s}^{2} \\left(\\frac{r - r_{s}}{r}\\right)^{\\frac{1}{2} \\, \\sqrt{3} \\sqrt{-b^{2} + 1} + b} \\sin\\left({\\theta}\\right)^{2} - 11 \\, b^{2} r_{s}^{2} \\left(\\frac{r - r_{s}}{r}\\right)^{\\frac{1}{2} \\, \\sqrt{3} \\sqrt{-b^{2} + 1} + b} \\sin\\left({\\theta}\\right)^{2} - 8 \\, \\sqrt{3} \\sqrt{-b^{2} + 1} r r_{s} \\left(\\frac{r - r_{s}}{r}\\right)^{\\frac{1}{2} \\, \\sqrt{3} \\sqrt{-b^{2} + 1} + b} \\sin\\left({\\theta}\\right)^{2} + 48 \\, b r r_{s} \\left(\\frac{r - r_{s}}{r}\\right)^{\\frac{1}{2} \\, \\sqrt{3} \\sqrt{-b^{2} + 1} + b} \\sin\\left({\\theta}\\right)^{2} + 4 \\, \\sqrt{3} \\sqrt{-b^{2} + 1} r_{s}^{2} \\left(\\frac{r - r_{s}}{r}\\right)^{\\frac{1}{2} \\, \\sqrt{3} \\sqrt{-b^{2} + 1} + b} \\sin\\left({\\theta}\\right)^{2} - 24 \\, b r_{s}^{2} \\left(\\frac{r - r_{s}}{r}\\right)^{\\frac{1}{2} \\, \\sqrt{3} \\sqrt{-b^{2} + 1} + b} \\sin\\left({\\theta}\\right)^{2} - 48 \\, r^{2} \\left(\\frac{r - r_{s}}{r}\\right)^{\\frac{1}{2} \\, \\sqrt{3} \\sqrt{-b^{2} + 1} + b} \\cos\\left({\\theta}\\right)^{2} + 48 \\, r r_{s} \\left(\\frac{r - r_{s}}{r}\\right)^{\\frac{1}{2} \\, \\sqrt{3} \\sqrt{-b^{2} + 1} + b} \\cos\\left({\\theta}\\right)^{2} - 48 \\, r^{2} \\left(\\frac{r - r_{s}}{r}\\right)^{\\frac{1}{2} \\, \\sqrt{3} \\sqrt{-b^{2} + 1} + b} \\sin\\left({\\theta}\\right)^{2} + 48 \\, r r_{s} \\left(\\frac{r - r_{s}}{r}\\right)^{\\frac{1}{2} \\, \\sqrt{3} \\sqrt{-b^{2} + 1} + b} \\sin\\left({\\theta}\\right)^{2} - 13 \\, r_{s}^{2} \\left(\\frac{r - r_{s}}{r}\\right)^{\\frac{1}{2} \\, \\sqrt{3} \\sqrt{-b^{2} + 1} + b} \\sin\\left({\\theta}\\right)^{2}\\right)} B_{0}^{2} {\\left(r - r_{s}\\right)}^{b} r^{-b - 1} \\left(\\frac{r - r_{s}}{r}\\right)^{2 \\, b}}{{\\left(13 \\, B_{0}^{2} r^{2} \\left(\\frac{r - r_{s}}{r}\\right)^{\\frac{1}{6} \\, \\sqrt{3} \\sqrt{-b^{2} + 1}} \\sin\\left({\\theta}\\right)^{2} - 13 \\, B_{0}^{2} r r_{s} \\left(\\frac{r - r_{s}}{r}\\right)^{\\frac{1}{6} \\, \\sqrt{3} \\sqrt{-b^{2} + 1}} \\sin\\left({\\theta}\\right)^{2} + 48 \\, \\left(\\frac{r - r_{s}}{r}\\right)^{b}\\right)}^{4} {\\left(r - r_{s}\\right)} \\left(\\frac{13 \\, {\\left(B_{0}^{2} r^{2} - B_{0}^{2} r r_{s}\\right)} \\left(\\frac{r - r_{s}}{r}\\right)^{\\frac{1}{6} \\, \\sqrt{3} \\sqrt{-b^{2} + 1}} \\sin\\left({\\theta}\\right)^{2} + 48 \\, \\left(\\frac{r - r_{s}}{r}\\right)^{b}}{\\left(\\frac{r - r_{s}}{r}\\right)^{b}}\\right)^{\\frac{2}{13}}}\\)</html>"
      ],
      "text/latex": [
       "$\\displaystyle R =  \\frac{5308416 \\, \\left(\\frac{1}{48}\\right)^{\\frac{11}{13}} {\\left(4 \\, \\sqrt{3} \\sqrt{-b^{2} + 1} b r_{s}^{2} \\left(\\frac{r - r_{s}}{r}\\right)^{\\frac{1}{2} \\, \\sqrt{3} \\sqrt{-b^{2} + 1} + b} \\sin\\left({\\theta}\\right)^{2} - 11 \\, b^{2} r_{s}^{2} \\left(\\frac{r - r_{s}}{r}\\right)^{\\frac{1}{2} \\, \\sqrt{3} \\sqrt{-b^{2} + 1} + b} \\sin\\left({\\theta}\\right)^{2} - 8 \\, \\sqrt{3} \\sqrt{-b^{2} + 1} r r_{s} \\left(\\frac{r - r_{s}}{r}\\right)^{\\frac{1}{2} \\, \\sqrt{3} \\sqrt{-b^{2} + 1} + b} \\sin\\left({\\theta}\\right)^{2} + 48 \\, b r r_{s} \\left(\\frac{r - r_{s}}{r}\\right)^{\\frac{1}{2} \\, \\sqrt{3} \\sqrt{-b^{2} + 1} + b} \\sin\\left({\\theta}\\right)^{2} + 4 \\, \\sqrt{3} \\sqrt{-b^{2} + 1} r_{s}^{2} \\left(\\frac{r - r_{s}}{r}\\right)^{\\frac{1}{2} \\, \\sqrt{3} \\sqrt{-b^{2} + 1} + b} \\sin\\left({\\theta}\\right)^{2} - 24 \\, b r_{s}^{2} \\left(\\frac{r - r_{s}}{r}\\right)^{\\frac{1}{2} \\, \\sqrt{3} \\sqrt{-b^{2} + 1} + b} \\sin\\left({\\theta}\\right)^{2} - 48 \\, r^{2} \\left(\\frac{r - r_{s}}{r}\\right)^{\\frac{1}{2} \\, \\sqrt{3} \\sqrt{-b^{2} + 1} + b} \\cos\\left({\\theta}\\right)^{2} + 48 \\, r r_{s} \\left(\\frac{r - r_{s}}{r}\\right)^{\\frac{1}{2} \\, \\sqrt{3} \\sqrt{-b^{2} + 1} + b} \\cos\\left({\\theta}\\right)^{2} - 48 \\, r^{2} \\left(\\frac{r - r_{s}}{r}\\right)^{\\frac{1}{2} \\, \\sqrt{3} \\sqrt{-b^{2} + 1} + b} \\sin\\left({\\theta}\\right)^{2} + 48 \\, r r_{s} \\left(\\frac{r - r_{s}}{r}\\right)^{\\frac{1}{2} \\, \\sqrt{3} \\sqrt{-b^{2} + 1} + b} \\sin\\left({\\theta}\\right)^{2} - 13 \\, r_{s}^{2} \\left(\\frac{r - r_{s}}{r}\\right)^{\\frac{1}{2} \\, \\sqrt{3} \\sqrt{-b^{2} + 1} + b} \\sin\\left({\\theta}\\right)^{2}\\right)} B_{0}^{2} {\\left(r - r_{s}\\right)}^{b} r^{-b - 1} \\left(\\frac{r - r_{s}}{r}\\right)^{2 \\, b}}{{\\left(13 \\, B_{0}^{2} r^{2} \\left(\\frac{r - r_{s}}{r}\\right)^{\\frac{1}{6} \\, \\sqrt{3} \\sqrt{-b^{2} + 1}} \\sin\\left({\\theta}\\right)^{2} - 13 \\, B_{0}^{2} r r_{s} \\left(\\frac{r - r_{s}}{r}\\right)^{\\frac{1}{6} \\, \\sqrt{3} \\sqrt{-b^{2} + 1}} \\sin\\left({\\theta}\\right)^{2} + 48 \\, \\left(\\frac{r - r_{s}}{r}\\right)^{b}\\right)}^{4} {\\left(r - r_{s}\\right)} \\left(\\frac{13 \\, {\\left(B_{0}^{2} r^{2} - B_{0}^{2} r r_{s}\\right)} \\left(\\frac{r - r_{s}}{r}\\right)^{\\frac{1}{6} \\, \\sqrt{3} \\sqrt{-b^{2} + 1}} \\sin\\left({\\theta}\\right)^{2} + 48 \\, \\left(\\frac{r - r_{s}}{r}\\right)^{b}}{\\left(\\frac{r - r_{s}}{r}\\right)^{b}}\\right)^{\\frac{2}{13}}}$"
      ],
      "text/plain": [
       "R =  5308416*(1/48)^(11/13)*(4*sqrt(3)*sqrt(-b^2 + 1)*b*r_s^2*((r - r_s)/r)^(1/2*sqrt(3)*sqrt(-b^2 + 1) + b)*sin(th)^2 - 11*b^2*r_s^2*((r - r_s)/r)^(1/2*sqrt(3)*sqrt(-b^2 + 1) + b)*sin(th)^2 - 8*sqrt(3)*sqrt(-b^2 + 1)*r*r_s*((r - r_s)/r)^(1/2*sqrt(3)*sqrt(-b^2 + 1) + b)*sin(th)^2 + 48*b*r*r_s*((r - r_s)/r)^(1/2*sqrt(3)*sqrt(-b^2 + 1) + b)*sin(th)^2 + 4*sqrt(3)*sqrt(-b^2 + 1)*r_s^2*((r - r_s)/r)^(1/2*sqrt(3)*sqrt(-b^2 + 1) + b)*sin(th)^2 - 24*b*r_s^2*((r - r_s)/r)^(1/2*sqrt(3)*sqrt(-b^2 + 1) + b)*sin(th)^2 - 48*r^2*((r - r_s)/r)^(1/2*sqrt(3)*sqrt(-b^2 + 1) + b)*cos(th)^2 + 48*r*r_s*((r - r_s)/r)^(1/2*sqrt(3)*sqrt(-b^2 + 1) + b)*cos(th)^2 - 48*r^2*((r - r_s)/r)^(1/2*sqrt(3)*sqrt(-b^2 + 1) + b)*sin(th)^2 + 48*r*r_s*((r - r_s)/r)^(1/2*sqrt(3)*sqrt(-b^2 + 1) + b)*sin(th)^2 - 13*r_s^2*((r - r_s)/r)^(1/2*sqrt(3)*sqrt(-b^2 + 1) + b)*sin(th)^2)*B_0^2*(r - r_s)^b*r^(-b - 1)*((r - r_s)/r)^(2*b)/((13*B_0^2*r^2*((r - r_s)/r)^(1/6*sqrt(3)*sqrt(-b^2 + 1))*sin(th)^2 - 13*B_0^2*r*r_s*((r - r_s)/r)^(1/6*sqrt(3)*sqrt(-b^2 + 1))*sin(th)^2 + 48*((r - r_s)/r)^b)^4*(r - r_s)*((13*(B_0^2*r^2 - B_0^2*r*r_s)*((r - r_s)/r)^(1/6*sqrt(3)*sqrt(-b^2 + 1))*sin(th)^2 + 48*((r - r_s)/r)^b)/((r - r_s)/r)^b)^(2/13))"
      ]
     },
     "metadata": {},
     "output_type": "display_data"
    }
   ],
   "source": [
    "show(LatexExpr(r'R = '), R.expr().substitute_function(Delta,Delt).substitute_function(Lambda,Lamb).factor())"
   ]
  },
  {
   "cell_type": "code",
   "execution_count": 37,
   "id": "7631a883",
   "metadata": {},
   "outputs": [
    {
     "data": {
      "text/html": [
       "<html>\\(\\displaystyle \\Xi =  4 \\, \\sqrt{3} \\sqrt{-b^{2} + 1} b r_{s}^{2} \\sin\\left({\\theta}\\right)^{2} - 11 \\, b^{2} r_{s}^{2} \\sin\\left({\\theta}\\right)^{2} - 8 \\, \\sqrt{3} \\sqrt{-b^{2} + 1} r r_{s} \\sin\\left({\\theta}\\right)^{2} + 48 \\, b r r_{s} \\sin\\left({\\theta}\\right)^{2} + 4 \\, \\sqrt{3} \\sqrt{-b^{2} + 1} r_{s}^{2} \\sin\\left({\\theta}\\right)^{2} - 24 \\, b r_{s}^{2} \\sin\\left({\\theta}\\right)^{2} - 48 \\, r^{2} \\cos\\left({\\theta}\\right)^{2} + 48 \\, r r_{s} \\cos\\left({\\theta}\\right)^{2} - 48 \\, r^{2} \\sin\\left({\\theta}\\right)^{2} + 48 \\, r r_{s} \\sin\\left({\\theta}\\right)^{2} - 13 \\, r_{s}^{2} \\sin\\left({\\theta}\\right)^{2}\\)</html>"
      ],
      "text/latex": [
       "$\\displaystyle \\Xi =  4 \\, \\sqrt{3} \\sqrt{-b^{2} + 1} b r_{s}^{2} \\sin\\left({\\theta}\\right)^{2} - 11 \\, b^{2} r_{s}^{2} \\sin\\left({\\theta}\\right)^{2} - 8 \\, \\sqrt{3} \\sqrt{-b^{2} + 1} r r_{s} \\sin\\left({\\theta}\\right)^{2} + 48 \\, b r r_{s} \\sin\\left({\\theta}\\right)^{2} + 4 \\, \\sqrt{3} \\sqrt{-b^{2} + 1} r_{s}^{2} \\sin\\left({\\theta}\\right)^{2} - 24 \\, b r_{s}^{2} \\sin\\left({\\theta}\\right)^{2} - 48 \\, r^{2} \\cos\\left({\\theta}\\right)^{2} + 48 \\, r r_{s} \\cos\\left({\\theta}\\right)^{2} - 48 \\, r^{2} \\sin\\left({\\theta}\\right)^{2} + 48 \\, r r_{s} \\sin\\left({\\theta}\\right)^{2} - 13 \\, r_{s}^{2} \\sin\\left({\\theta}\\right)^{2}$"
      ],
      "text/plain": [
       "\\Xi =  4*sqrt(3)*sqrt(-b^2 + 1)*b*r_s^2*sin(th)^2 - 11*b^2*r_s^2*sin(th)^2 - 8*sqrt(3)*sqrt(-b^2 + 1)*r*r_s*sin(th)^2 + 48*b*r*r_s*sin(th)^2 + 4*sqrt(3)*sqrt(-b^2 + 1)*r_s^2*sin(th)^2 - 24*b*r_s^2*sin(th)^2 - 48*r^2*cos(th)^2 + 48*r*r_s*cos(th)^2 - 48*r^2*sin(th)^2 + 48*r*r_s*sin(th)^2 - 13*r_s^2*sin(th)^2"
      ]
     },
     "metadata": {},
     "output_type": "display_data"
    },
    {
     "data": {
      "text/html": [
       "<html>\\(\\displaystyle \\Xi =  4 \\, {\\left({\\left(\\sqrt{3} b + \\sqrt{3}\\right)} r_{s}^{2} - 2 \\, \\sqrt{3} r r_{s}\\right)} \\sqrt{-b^{2} + 1} \\sin\\left({\\theta}\\right)^{2} + {\\left(48 \\, b r r_{s} - {\\left(11 \\, b^{2} + 24 \\, b + 13\\right)} r_{s}^{2}\\right)} \\sin\\left({\\theta}\\right)^{2} - 48 \\, r^{2} + 48 \\, r r_{s}\\)</html>"
      ],
      "text/latex": [
       "$\\displaystyle \\Xi =  4 \\, {\\left({\\left(\\sqrt{3} b + \\sqrt{3}\\right)} r_{s}^{2} - 2 \\, \\sqrt{3} r r_{s}\\right)} \\sqrt{-b^{2} + 1} \\sin\\left({\\theta}\\right)^{2} + {\\left(48 \\, b r r_{s} - {\\left(11 \\, b^{2} + 24 \\, b + 13\\right)} r_{s}^{2}\\right)} \\sin\\left({\\theta}\\right)^{2} - 48 \\, r^{2} + 48 \\, r r_{s}$"
      ],
      "text/plain": [
       "\\Xi =  4*((sqrt(3)*b + sqrt(3))*r_s^2 - 2*sqrt(3)*r*r_s)*sqrt(-b^2 + 1)*sin(th)^2 + (48*b*r*r_s - (11*b^2 + 24*b + 13)*r_s^2)*sin(th)^2 - 48*r^2 + 48*r*r_s"
      ]
     },
     "metadata": {},
     "output_type": "display_data"
    }
   ],
   "source": [
    "expression_to_factorize = (\n",
    "    4 * sqrt(3) * sqrt(-b^2 + 1) * b * r_s^2 * sin(th)^2\n",
    "    - 11 * b^2 * r_s^2 * sin(th)^2\n",
    "    - 8 * sqrt(3) * sqrt(-b^2 + 1) * r * r_s * sin(th)^2\n",
    "    + 48 * b * r * r_s * sin(th)^2\n",
    "    + 4 * sqrt(3) * sqrt(-b^2 + 1) * r_s^2 * sin(th)^2\n",
    "    - 24 * b * r_s^2 * sin(th)^2\n",
    "    + 48 * r * r_s * cos(th)^2\n",
    "    - 48 * r^2 * cos(th)^2# rajouter commentaires sur la démarche\n",
    "    - 48 * r^2 * sin(th)^2\n",
    "    + 48 * r * r_s * sin(th)^2\n",
    "    - 13 * r_s^2 * sin(th)^2\n",
    ")\n",
    "show(LatexExpr(r'\\Xi = '), expression_to_factorize)\n",
    "show(LatexExpr(r'\\Xi = '), expression_to_factorize.simplify_trig())"
   ]
  },
  {
   "cell_type": "code",
   "execution_count": 38,
   "id": "df28adbe",
   "metadata": {},
   "outputs": [
    {
     "data": {
      "text/html": [
       "<html>\\(\\displaystyle \\frac{R}{\\Xi} =  \\frac{110592 \\cdot 48^{\\frac{2}{13}} B_{0}^{2} {\\left(r - r_{s}\\right)}^{b} r^{-b - 1} \\left(\\frac{r - r_{s}}{r}\\right)^{\\frac{1}{2} \\, \\sqrt{3} \\sqrt{-b^{2} + 1} + 3 \\, b}}{{\\left(13 \\, B_{0}^{2} r^{2} \\left(\\frac{r - r_{s}}{r}\\right)^{\\frac{1}{6} \\, \\sqrt{3} \\sqrt{-b^{2} + 1}} \\sin\\left({\\theta}\\right)^{2} - 13 \\, B_{0}^{2} r r_{s} \\left(\\frac{r - r_{s}}{r}\\right)^{\\frac{1}{6} \\, \\sqrt{3} \\sqrt{-b^{2} + 1}} \\sin\\left({\\theta}\\right)^{2} + 48 \\, \\left(\\frac{r - r_{s}}{r}\\right)^{b}\\right)}^{4} {\\left(r - r_{s}\\right)} \\left(\\frac{13 \\, {\\left(B_{0}^{2} r^{2} - B_{0}^{2} r r_{s}\\right)} \\left(\\frac{r - r_{s}}{r}\\right)^{\\frac{1}{6} \\, \\sqrt{3} \\sqrt{-b^{2} + 1}} \\sin\\left({\\theta}\\right)^{2} + 48 \\, \\left(\\frac{r - r_{s}}{r}\\right)^{b}}{\\left(\\frac{r - r_{s}}{r}\\right)^{b}}\\right)^{\\frac{2}{13}}}\\)</html>"
      ],
      "text/latex": [
       "$\\displaystyle \\frac{R}{\\Xi} =  \\frac{110592 \\cdot 48^{\\frac{2}{13}} B_{0}^{2} {\\left(r - r_{s}\\right)}^{b} r^{-b - 1} \\left(\\frac{r - r_{s}}{r}\\right)^{\\frac{1}{2} \\, \\sqrt{3} \\sqrt{-b^{2} + 1} + 3 \\, b}}{{\\left(13 \\, B_{0}^{2} r^{2} \\left(\\frac{r - r_{s}}{r}\\right)^{\\frac{1}{6} \\, \\sqrt{3} \\sqrt{-b^{2} + 1}} \\sin\\left({\\theta}\\right)^{2} - 13 \\, B_{0}^{2} r r_{s} \\left(\\frac{r - r_{s}}{r}\\right)^{\\frac{1}{6} \\, \\sqrt{3} \\sqrt{-b^{2} + 1}} \\sin\\left({\\theta}\\right)^{2} + 48 \\, \\left(\\frac{r - r_{s}}{r}\\right)^{b}\\right)}^{4} {\\left(r - r_{s}\\right)} \\left(\\frac{13 \\, {\\left(B_{0}^{2} r^{2} - B_{0}^{2} r r_{s}\\right)} \\left(\\frac{r - r_{s}}{r}\\right)^{\\frac{1}{6} \\, \\sqrt{3} \\sqrt{-b^{2} + 1}} \\sin\\left({\\theta}\\right)^{2} + 48 \\, \\left(\\frac{r - r_{s}}{r}\\right)^{b}}{\\left(\\frac{r - r_{s}}{r}\\right)^{b}}\\right)^{\\frac{2}{13}}}$"
      ],
      "text/plain": [
       "\\frac{R}{\\Xi} =  110592*48^(2/13)*B_0^2*(r - r_s)^b*r^(-b - 1)*((r - r_s)/r)^(1/2*sqrt(3)*sqrt(-b^2 + 1) + 3*b)/((13*B_0^2*r^2*((r - r_s)/r)^(1/6*sqrt(3)*sqrt(-b^2 + 1))*sin(th)^2 - 13*B_0^2*r*r_s*((r - r_s)/r)^(1/6*sqrt(3)*sqrt(-b^2 + 1))*sin(th)^2 + 48*((r - r_s)/r)^b)^4*(r - r_s)*((13*(B_0^2*r^2 - B_0^2*r*r_s)*((r - r_s)/r)^(1/6*sqrt(3)*sqrt(-b^2 + 1))*sin(th)^2 + 48*((r - r_s)/r)^b)/((r - r_s)/r)^b)^(2/13))"
      ]
     },
     "metadata": {},
     "output_type": "display_data"
    },
    {
     "data": {
      "text/html": [
       "<html>\\(\\displaystyle \\frac{R\\Lambda^{(54/13)}}{\\Xi} =  \\frac{B_{0}^{2} {\\left(r - r_{s}\\right)}^{\\frac{1}{2} \\, \\sqrt{3} \\sqrt{b + 1} \\sqrt{-b + 1}} r^{-\\frac{1}{2} \\, \\sqrt{3} \\sqrt{b + 1} \\sqrt{-b + 1} - 1}}{48 \\, {\\left(r - r_{s}\\right)}}  = \\frac{B^{2}\\Delta^{3}}{48r^{2}\\left(1-\\frac{r_{s}}{r}\\right)}\\)</html>"
      ],
      "text/latex": [
       "$\\displaystyle \\frac{R\\Lambda^{(54/13)}}{\\Xi} =  \\frac{B_{0}^{2} {\\left(r - r_{s}\\right)}^{\\frac{1}{2} \\, \\sqrt{3} \\sqrt{b + 1} \\sqrt{-b + 1}} r^{-\\frac{1}{2} \\, \\sqrt{3} \\sqrt{b + 1} \\sqrt{-b + 1} - 1}}{48 \\, {\\left(r - r_{s}\\right)}}  = \\frac{B^{2}\\Delta^{3}}{48r^{2}\\left(1-\\frac{r_{s}}{r}\\right)}$"
      ],
      "text/plain": [
       "\\frac{R\\Lambda^{(54/13)}}{\\Xi} =  1/48*B_0^2*(r - r_s)^(1/2*sqrt(3)*sqrt(b + 1)*sqrt(-b + 1))*r^(-1/2*sqrt(3)*sqrt(b + 1)*sqrt(-b + 1) - 1)/(r - r_s)  = \\frac{B^{2}\\Delta^{3}}{48r^{2}\\left(1-\\frac{r_{s}}{r}\\right)}"
      ]
     },
     "metadata": {},
     "output_type": "display_data"
    }
   ],
   "source": [
    "rest = R.expr().substitute_function(Delta,Delt).substitute_function(Lambda,Lamb).factor()/expression_to_factorize\n",
    "rest.factor()\n",
    "show(LatexExpr(r'\\frac{R}{\\Xi} = '), rest.factor())\n",
    "show(LatexExpr(r'\\frac{R\\Lambda^{(54/13)}}{\\Xi} = '), (rest*Lamb**(54/13)).factor().canonicalize_radical().factor(),LatexExpr(r' = \\frac{B^{2}\\Delta^{3}}{48r^{2}\\left(1-\\frac{r_{s}}{r}\\right)}'))"
   ]
  },
  {
   "cell_type": "markdown",
   "id": "5d4c5b4d-fde6-48e9-893f-a09827932bfd",
   "metadata": {},
   "source": [
    "# In conclusion the connection between the scalar-field and the ratio $-\\frac{\\mathcal{L}_m}{R}$, Maxwell and motion equations are verified outside the black hole.\n",
    "\n",
    "# So the electrically charged solutions are solutions in ER in the case of a hairy black hole."
   ]
  }
 ],
 "metadata": {
  "kernelspec": {
   "display_name": "SageMath 10.1",
   "language": "sage",
   "name": "sagemath"
  },
  "language_info": {
   "codemirror_mode": {
    "name": "ipython",
    "version": 3
   },
   "file_extension": ".py",
   "mimetype": "text/x-python",
   "name": "python",
   "nbconvert_exporter": "python",
   "pygments_lexer": "ipython3",
   "version": "3.10.12"
  }
 },
 "nbformat": 4,
 "nbformat_minor": 5
}
