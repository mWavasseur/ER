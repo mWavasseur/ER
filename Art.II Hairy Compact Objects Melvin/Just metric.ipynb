{
 "cells": [
  {
   "cell_type": "code",
   "execution_count": 1,
   "metadata": {},
   "outputs": [],
   "source": [
    "%display latex"
   ]
  },
  {
   "cell_type": "code",
   "execution_count": 2,
   "metadata": {},
   "outputs": [],
   "source": [
    "M = Manifold(4, 'M', structure='Lorentzian')"
   ]
  },
  {
   "cell_type": "code",
   "execution_count": 3,
   "metadata": {},
   "outputs": [],
   "source": [
    "# m = var('m')\n",
    "# assume(m>=0)\n",
    "rs = var('r_S')\n",
    "assume(rs>=0)\n",
    "b = var('b')\n",
    "assume(b>0)\n",
    "assume(b<=1)\n",
    "#b = var('b')\n",
    "# a = var('a')\n",
    "# b = 1-a**2/(1+a**2)"
   ]
  },
  {
   "cell_type": "code",
   "execution_count": 4,
   "metadata": {},
   "outputs": [],
   "source": [
    "X.<t,r,th,ph> = M.chart(r\"t r:(0,+oo) th:(0,pi):\\theta ph:\\varphi\")"
   ]
  },
  {
   "cell_type": "raw",
   "metadata": {},
   "source": [
    "\"\"\"La métrique avec une charge scalaire seule\"\"\"\n",
    "\n",
    "g = M.metric(name='g')\n",
    "g[0,0] = -(1- 2*m/(b*r))^b\n",
    "g[1,1] = 1/(1- 2*m/(b*r))^b\n",
    "g[2,2] = r**2*(1- 2*m/(b*r))^(1-b)\n",
    "g[3,3] = (r*sin(th))**2*(1- 2*m/(b*r))^(1-b)\n",
    "g.display()"
   ]
  },
  {
   "cell_type": "code",
   "execution_count": 5,
   "metadata": {},
   "outputs": [
    {
     "data": {
      "text/html": [
       "<html>\\(\\displaystyle g = -{\\left(-\\frac{r_{S}}{r} + 1\\right)}^{b} \\mathrm{d} t\\otimes \\mathrm{d} t + \\frac{1}{{\\left(-\\frac{r_{S}}{r} + 1\\right)}^{b}} \\mathrm{d} r\\otimes \\mathrm{d} r + \\left( r^{2} {\\left(-\\frac{r_{S}}{r} + 1\\right)}^{-b + 1} \\right) \\mathrm{d} {\\theta}\\otimes \\mathrm{d} {\\theta} + \\left( r^{2} {\\left(-\\frac{r_{S}}{r} + 1\\right)}^{-b + 1} \\sin\\left({\\theta}\\right)^{2} \\right) \\mathrm{d} {\\varphi}\\otimes \\mathrm{d} {\\varphi}\\)</html>"
      ],
      "text/latex": [
       "$\\displaystyle g = -{\\left(-\\frac{r_{S}}{r} + 1\\right)}^{b} \\mathrm{d} t\\otimes \\mathrm{d} t + \\frac{1}{{\\left(-\\frac{r_{S}}{r} + 1\\right)}^{b}} \\mathrm{d} r\\otimes \\mathrm{d} r + \\left( r^{2} {\\left(-\\frac{r_{S}}{r} + 1\\right)}^{-b + 1} \\right) \\mathrm{d} {\\theta}\\otimes \\mathrm{d} {\\theta} + \\left( r^{2} {\\left(-\\frac{r_{S}}{r} + 1\\right)}^{-b + 1} \\sin\\left({\\theta}\\right)^{2} \\right) \\mathrm{d} {\\varphi}\\otimes \\mathrm{d} {\\varphi}$"
      ],
      "text/plain": [
       "g = -(-r_S/r + 1)^b dt⊗dt + 1/((-r_S/r + 1)^b) dr⊗dr + r^2*(-r_S/r + 1)^(-b + 1) dth⊗dth + r^2*(-r_S/r + 1)^(-b + 1)*sin(th)^2 dph⊗dph"
      ]
     },
     "execution_count": 5,
     "metadata": {},
     "output_type": "execute_result"
    }
   ],
   "source": [
    "\"\"\"La métrique avec une charge scalaire seule\"\"\"\n",
    "\n",
    "g = M.metric(name='g')\n",
    "g[0,0] = -(1- rs/r)^b\n",
    "g[1,1] = 1/(1- rs / r)^b\n",
    "g[2,2] = r**2*(1- rs/r)^(1-b)\n",
    "g[3,3] =  (r*sin(th))**2 *(1- rs / r)^(1-b)\n",
    "g.display()"
   ]
  },
  {
   "cell_type": "code",
   "execution_count": 6,
   "metadata": {},
   "outputs": [
    {
     "data": {
      "text/html": [
       "<html>\\(\\displaystyle \\begin{array}{llcl} & M & \\longrightarrow & \\mathbb{R} \\\\ & \\left(t, r, {\\theta}, {\\varphi}\\right) & \\longmapsto & -\\frac{{\\left(r^{2 \\, b + 2} r_{S}^{2} - 2 \\, r^{2 \\, b + 3} r_{S} + r^{2 \\, b + 4}\\right)} \\sin\\left({\\theta}\\right)^{2}}{{\\left(r - r_{S}\\right)}^{2 \\, b}} \\end{array}\\)</html>"
      ],
      "text/latex": [
       "$\\displaystyle \\begin{array}{llcl} & M & \\longrightarrow & \\mathbb{R} \\\\ & \\left(t, r, {\\theta}, {\\varphi}\\right) & \\longmapsto & -\\frac{{\\left(r^{2 \\, b + 2} r_{S}^{2} - 2 \\, r^{2 \\, b + 3} r_{S} + r^{2 \\, b + 4}\\right)} \\sin\\left({\\theta}\\right)^{2}}{{\\left(r - r_{S}\\right)}^{2 \\, b}} \\end{array}$"
      ],
      "text/plain": [
       "M → ℝ\n",
       "(t, r, th, ph) ↦ -(r^(2*b + 2)*r_S^2 - 2*r^(2*b + 3)*r_S + r^(2*b + 4))*sin(th)^2/(r - r_S)^(2*b)"
      ]
     },
     "execution_count": 6,
     "metadata": {},
     "output_type": "execute_result"
    }
   ],
   "source": [
    "detg = g.determinant()\n",
    "detg.display()"
   ]
  },
  {
   "cell_type": "code",
   "execution_count": 7,
   "metadata": {},
   "outputs": [
    {
     "data": {
      "text/html": [
       "<html>\\(\\displaystyle g^{-1} = -\\frac{r^{b}}{{\\left(r - r_{S}\\right)}^{b}} \\frac{\\partial}{\\partial t }\\otimes \\frac{\\partial}{\\partial t } + \\frac{{\\left(r - r_{S}\\right)}^{b}}{r^{b}} \\frac{\\partial}{\\partial r }\\otimes \\frac{\\partial}{\\partial r } + \\left( -\\frac{{\\left(r - r_{S}\\right)}^{b}}{r^{b + 1} r_{S} - r^{b + 2}} \\right) \\frac{\\partial}{\\partial {\\theta} }\\otimes \\frac{\\partial}{\\partial {\\theta} } -\\frac{{\\left(r - r_{S}\\right)}^{b}}{{\\left(r^{b + 1} r_{S} - r^{b + 2}\\right)} \\sin\\left({\\theta}\\right)^{2}} \\frac{\\partial}{\\partial {\\varphi} }\\otimes \\frac{\\partial}{\\partial {\\varphi} }\\)</html>"
      ],
      "text/latex": [
       "$\\displaystyle g^{-1} = -\\frac{r^{b}}{{\\left(r - r_{S}\\right)}^{b}} \\frac{\\partial}{\\partial t }\\otimes \\frac{\\partial}{\\partial t } + \\frac{{\\left(r - r_{S}\\right)}^{b}}{r^{b}} \\frac{\\partial}{\\partial r }\\otimes \\frac{\\partial}{\\partial r } + \\left( -\\frac{{\\left(r - r_{S}\\right)}^{b}}{r^{b + 1} r_{S} - r^{b + 2}} \\right) \\frac{\\partial}{\\partial {\\theta} }\\otimes \\frac{\\partial}{\\partial {\\theta} } -\\frac{{\\left(r - r_{S}\\right)}^{b}}{{\\left(r^{b + 1} r_{S} - r^{b + 2}\\right)} \\sin\\left({\\theta}\\right)^{2}} \\frac{\\partial}{\\partial {\\varphi} }\\otimes \\frac{\\partial}{\\partial {\\varphi} }$"
      ],
      "text/plain": [
       "inv_g = -r^b/(r - r_S)^b ∂/∂t⊗∂/∂t + (r - r_S)^b/r^b ∂/∂r⊗∂/∂r - (r - r_S)^b/(r^(b + 1)*r_S - r^(b + 2)) ∂/∂th⊗∂/∂th - (r - r_S)^b/((r^(b + 1)*r_S - r^(b + 2))*sin(th)^2) ∂/∂ph⊗∂/∂ph"
      ]
     },
     "execution_count": 7,
     "metadata": {},
     "output_type": "execute_result"
    }
   ],
   "source": [
    "invg = g.inverse()\n",
    "invg.display()"
   ]
  },
  {
   "cell_type": "code",
   "execution_count": 8,
   "metadata": {},
   "outputs": [],
   "source": [
    "nab = g.connection(name=r'\\nabla')"
   ]
  },
  {
   "cell_type": "raw",
   "metadata": {},
   "source": [
    "\"\"\"Le champ phi\"\"\"\n",
    "\n",
    "phi = M.scalar_field({X:1/2*sqrt(1-b)*sqrt(1+b)*ln(1- 2*m/(b*r))}, name=r'\\varphi')\n",
    "phi.display()"
   ]
  },
  {
   "cell_type": "code",
   "execution_count": 9,
   "metadata": {},
   "outputs": [
    {
     "data": {
      "text/html": [
       "<html>\\(\\displaystyle \\begin{array}{llcl} \\varphi:& M & \\longrightarrow & \\mathbb{R} \\\\ & \\left(t, r, {\\theta}, {\\varphi}\\right) & \\longmapsto & \\frac{1}{2} \\, \\sqrt{b + 1} \\sqrt{-b + 1} \\log\\left(-\\frac{r_{S}}{r} + 1\\right) \\end{array}\\)</html>"
      ],
      "text/latex": [
       "$\\displaystyle \\begin{array}{llcl} \\varphi:& M & \\longrightarrow & \\mathbb{R} \\\\ & \\left(t, r, {\\theta}, {\\varphi}\\right) & \\longmapsto & \\frac{1}{2} \\, \\sqrt{b + 1} \\sqrt{-b + 1} \\log\\left(-\\frac{r_{S}}{r} + 1\\right) \\end{array}$"
      ],
      "text/plain": [
       "\\varphi: M → ℝ\n",
       "   (t, r, th, ph) ↦ 1/2*sqrt(b + 1)*sqrt(-b + 1)*log(-r_S/r + 1)"
      ]
     },
     "execution_count": 9,
     "metadata": {},
     "output_type": "execute_result"
    }
   ],
   "source": [
    "\"\"\"Le champ phi\"\"\"\n",
    "\n",
    "phi = M.scalar_field({X:1/2*sqrt(1-b)*sqrt(1+b)*ln(1- rs/r)}, name=r'\\varphi')\n",
    "phi.display()"
   ]
  },
  {
   "cell_type": "markdown",
   "metadata": {},
   "source": [
    "# Vérification de la solution"
   ]
  },
  {
   "cell_type": "markdown",
   "metadata": {},
   "source": [
    "On vérifie l'équation\n",
    "$$G_{\\alpha \\beta} = 2 \\left[\\partial_\\alpha \\varphi \\partial_\\beta \\varphi - \\frac{1}{2} g_{\\alpha \\beta} (\\partial \\varphi)^2\\right]$$"
   ]
  },
  {
   "cell_type": "code",
   "execution_count": 10,
   "metadata": {},
   "outputs": [],
   "source": [
    "\"\"\"Equation d'Einstein\"\"\"\n",
    "\n",
    "Ric = g.ricci() #Le tenseur de Ricci\n",
    "R = g.ricci_scalar() #La courbure scalaire\n",
    "G = Ric-R*g/2 #Le tenseur d'Einstein"
   ]
  },
  {
   "cell_type": "code",
   "execution_count": 11,
   "metadata": {},
   "outputs": [],
   "source": [
    "dphi2 = (nab(phi)*nab(phi))"
   ]
  },
  {
   "cell_type": "code",
   "execution_count": 12,
   "metadata": {},
   "outputs": [
    {
     "data": {
      "text/html": [
       "<html>\\(\\displaystyle -\\frac{{\\left(b^{2} - 1\\right)} {\\left(r - r_{S}\\right)}^{2 \\, b} r_{S}^{2}}{4 \\, {\\left(r^{2 \\, b + 2} r_{S}^{2} - 2 \\, r^{2 \\, b + 3} r_{S} + r^{2 \\, b + 4}\\right)}} \\mathrm{d} t\\otimes \\mathrm{d} t -\\frac{{\\left(b^{2} - 1\\right)} r_{S}^{2}}{4 \\, {\\left(r^{4} - 2 \\, r^{3} r_{S} + r^{2} r_{S}^{2}\\right)}} \\mathrm{d} r\\otimes \\mathrm{d} r + \\frac{{\\left(b^{2} - 1\\right)} r_{S}^{2}}{4 \\, {\\left(r^{2} - r r_{S}\\right)}} \\mathrm{d} {\\theta}\\otimes \\mathrm{d} {\\theta} + \\frac{{\\left(b^{2} - 1\\right)} r_{S}^{2} \\sin\\left({\\theta}\\right)^{2}}{4 \\, {\\left(r^{2} - r r_{S}\\right)}} \\mathrm{d} {\\varphi}\\otimes \\mathrm{d} {\\varphi}\\)</html>"
      ],
      "text/latex": [
       "$\\displaystyle -\\frac{{\\left(b^{2} - 1\\right)} {\\left(r - r_{S}\\right)}^{2 \\, b} r_{S}^{2}}{4 \\, {\\left(r^{2 \\, b + 2} r_{S}^{2} - 2 \\, r^{2 \\, b + 3} r_{S} + r^{2 \\, b + 4}\\right)}} \\mathrm{d} t\\otimes \\mathrm{d} t -\\frac{{\\left(b^{2} - 1\\right)} r_{S}^{2}}{4 \\, {\\left(r^{4} - 2 \\, r^{3} r_{S} + r^{2} r_{S}^{2}\\right)}} \\mathrm{d} r\\otimes \\mathrm{d} r + \\frac{{\\left(b^{2} - 1\\right)} r_{S}^{2}}{4 \\, {\\left(r^{2} - r r_{S}\\right)}} \\mathrm{d} {\\theta}\\otimes \\mathrm{d} {\\theta} + \\frac{{\\left(b^{2} - 1\\right)} r_{S}^{2} \\sin\\left({\\theta}\\right)^{2}}{4 \\, {\\left(r^{2} - r r_{S}\\right)}} \\mathrm{d} {\\varphi}\\otimes \\mathrm{d} {\\varphi}$"
      ],
      "text/plain": [
       "-1/4*(b^2 - 1)*(r - r_S)^(2*b)*r_S^2/(r^(2*b + 2)*r_S^2 - 2*r^(2*b + 3)*r_S + r^(2*b + 4)) dt⊗dt - 1/4*(b^2 - 1)*r_S^2/(r^4 - 2*r^3*r_S + r^2*r_S^2) dr⊗dr + 1/4*(b^2 - 1)*r_S^2/(r^2 - r*r_S) dth⊗dth + 1/4*(b^2 - 1)*r_S^2*sin(th)^2/(r^2 - r*r_S) dph⊗dph"
      ]
     },
     "execution_count": 12,
     "metadata": {},
     "output_type": "execute_result"
    }
   ],
   "source": [
    "S = 2*nab(phi)*nab(phi)-g*(invg['^ij']*dphi2['_ij'])\n",
    "S.display()"
   ]
  },
  {
   "cell_type": "code",
   "execution_count": 13,
   "metadata": {},
   "outputs": [
    {
     "data": {
      "text/html": [
       "<html>\\(\\displaystyle \\mathrm{True}\\)</html>"
      ],
      "text/latex": [
       "$\\displaystyle \\mathrm{True}$"
      ],
      "text/plain": [
       "True"
      ]
     },
     "execution_count": 13,
     "metadata": {},
     "output_type": "execute_result"
    }
   ],
   "source": [
    "G == S"
   ]
  },
  {
   "cell_type": "code",
   "execution_count": 14,
   "metadata": {},
   "outputs": [
    {
     "data": {
      "text/html": [
       "<html>\\(\\displaystyle -\\frac{{\\left(b + 1\\right)} {\\left(b - 1\\right)} {\\left(r - r_{S}\\right)}^{b} r^{-b - 2} r_{S}^{2}}{2 \\, {\\left(r - r_{S}\\right)}^{2}}\\)</html>"
      ],
      "text/latex": [
       "$\\displaystyle -\\frac{{\\left(b + 1\\right)} {\\left(b - 1\\right)} {\\left(r - r_{S}\\right)}^{b} r^{-b - 2} r_{S}^{2}}{2 \\, {\\left(r - r_{S}\\right)}^{2}}$"
      ],
      "text/plain": [
       "-1/2*(b + 1)*(b - 1)*(r - r_S)^b*r^(-b - 2)*r_S^2/(r - r_S)^2"
      ]
     },
     "execution_count": 14,
     "metadata": {},
     "output_type": "execute_result"
    }
   ],
   "source": [
    "R.expr().canonicalize_radical().factor()"
   ]
  },
  {
   "cell_type": "markdown",
   "metadata": {},
   "source": [
    "# Vérification de la solution conforme"
   ]
  },
  {
   "cell_type": "markdown",
   "metadata": {},
   "source": [
    "The Lagrangian density in one frame is\n",
    "$$\\mathcal{\\tilde L} = \\tilde R - 2 \\tilde g^{\\alpha \\beta} \\partial_\\alpha \\varphi \\partial_\\beta \\varphi \\qquad(1)$$ \n",
    "whereas after the conformal transformation $\\tilde g_{\\alpha \\beta} = e^{-2 \\varphi/3}g_{\\alpha \\beta} = \\phi g_{\\alpha \\beta}$, one has the following Lagrangian density\n",
    "$$\\mathcal{L} =\\phi R \\qquad(2)$$. \n",
    "From (2), one deduces that $R=0$ on-shell. Let's try that."
   ]
  },
  {
   "cell_type": "code",
   "execution_count": 15,
   "metadata": {},
   "outputs": [],
   "source": [
    "Om = (exp(phi))**(-2/sqrt(3))"
   ]
  },
  {
   "cell_type": "code",
   "execution_count": 16,
   "metadata": {},
   "outputs": [
    {
     "data": {
      "text/html": [
       "<html>\\(\\displaystyle \\begin{array}{llcl} {\\exp\\left(\\varphi\\right)}^{ -\\frac{2}{3} \\, \\sqrt{3} } : & M & \\longrightarrow & \\mathbb{R} \\\\ & \\left(t, r, {\\theta}, {\\varphi}\\right) & \\longmapsto & \\frac{r^{\\frac{1}{3} \\, \\sqrt{3} \\sqrt{b + 1} \\sqrt{-b + 1}}}{{\\left({\\left(r - r_{S}\\right)}^{\\frac{1}{2} \\, \\sqrt{b + 1} \\sqrt{-b + 1}}\\right)}^{\\frac{2}{3} \\, \\sqrt{3}}} \\end{array}\\)</html>"
      ],
      "text/latex": [
       "$\\displaystyle \\begin{array}{llcl} {\\exp\\left(\\varphi\\right)}^{ -\\frac{2}{3} \\, \\sqrt{3} } : & M & \\longrightarrow & \\mathbb{R} \\\\ & \\left(t, r, {\\theta}, {\\varphi}\\right) & \\longmapsto & \\frac{r^{\\frac{1}{3} \\, \\sqrt{3} \\sqrt{b + 1} \\sqrt{-b + 1}}}{{\\left({\\left(r - r_{S}\\right)}^{\\frac{1}{2} \\, \\sqrt{b + 1} \\sqrt{-b + 1}}\\right)}^{\\frac{2}{3} \\, \\sqrt{3}}} \\end{array}$"
      ],
      "text/plain": [
       "exp(\\varphi)^-2/3*sqrt(3): M → ℝ\n",
       "   (t, r, th, ph) ↦ r^(1/3*sqrt(3)*sqrt(b + 1)*sqrt(-b + 1))/((r - r_S)^(1/2*sqrt(b + 1)*sqrt(-b + 1)))^(2/3*sqrt(3))"
      ]
     },
     "execution_count": 16,
     "metadata": {},
     "output_type": "execute_result"
    }
   ],
   "source": [
    "Om.display()"
   ]
  },
  {
   "cell_type": "raw",
   "metadata": {},
   "source": [
    "Om.apply_map(lambda f: f.simplify_full()); Om.display()"
   ]
  },
  {
   "cell_type": "code",
   "execution_count": 17,
   "metadata": {},
   "outputs": [
    {
     "data": {
      "text/html": [
       "<html>\\(\\displaystyle \\left( {\\exp\\left(\\varphi\\right)}^{ -\\frac{2}{3} \\, \\sqrt{3} } \\right) \\cdot g = \\left( -\\frac{{\\left(r - r_{S}\\right)}^{b} r^{\\frac{1}{3} \\, \\sqrt{3} \\sqrt{b + 1} \\sqrt{-b + 1} - b}}{{\\left({\\left(r - r_{S}\\right)}^{\\frac{1}{2} \\, \\sqrt{b + 1} \\sqrt{-b + 1}}\\right)}^{\\frac{2}{3} \\, \\sqrt{3}}} \\right) \\mathrm{d} t\\otimes \\mathrm{d} t + \\left( \\frac{r^{\\frac{1}{3} \\, \\sqrt{3} \\sqrt{b + 1} \\sqrt{-b + 1} + b}}{{\\left({\\left(r - r_{S}\\right)}^{\\frac{1}{2} \\, \\sqrt{b + 1} \\sqrt{-b + 1}}\\right)}^{\\frac{2}{3} \\, \\sqrt{3}} {\\left(r - r_{S}\\right)}^{b}} \\right) \\mathrm{d} r\\otimes \\mathrm{d} r + \\left( -\\frac{r^{\\frac{1}{3} \\, \\sqrt{3} \\sqrt{b + 1} \\sqrt{-b + 1} + b + 1} r_{S} - r^{\\frac{1}{3} \\, \\sqrt{3} \\sqrt{b + 1} \\sqrt{-b + 1} + b + 2}}{{\\left({\\left(r - r_{S}\\right)}^{\\frac{1}{2} \\, \\sqrt{b + 1} \\sqrt{-b + 1}}\\right)}^{\\frac{2}{3} \\, \\sqrt{3}} {\\left(r - r_{S}\\right)}^{b}} \\right) \\mathrm{d} {\\theta}\\otimes \\mathrm{d} {\\theta} -\\frac{{\\left(r^{\\frac{1}{3} \\, \\sqrt{3} \\sqrt{b + 1} \\sqrt{-b + 1} + b + 1} r_{S} - r^{\\frac{1}{3} \\, \\sqrt{3} \\sqrt{b + 1} \\sqrt{-b + 1} + b + 2}\\right)} \\sin\\left({\\theta}\\right)^{2}}{{\\left({\\left(r - r_{S}\\right)}^{\\frac{1}{2} \\, \\sqrt{b + 1} \\sqrt{-b + 1}}\\right)}^{\\frac{2}{3} \\, \\sqrt{3}} {\\left(r - r_{S}\\right)}^{b}} \\mathrm{d} {\\varphi}\\otimes \\mathrm{d} {\\varphi}\\)</html>"
      ],
      "text/latex": [
       "$\\displaystyle \\left( {\\exp\\left(\\varphi\\right)}^{ -\\frac{2}{3} \\, \\sqrt{3} } \\right) \\cdot g = \\left( -\\frac{{\\left(r - r_{S}\\right)}^{b} r^{\\frac{1}{3} \\, \\sqrt{3} \\sqrt{b + 1} \\sqrt{-b + 1} - b}}{{\\left({\\left(r - r_{S}\\right)}^{\\frac{1}{2} \\, \\sqrt{b + 1} \\sqrt{-b + 1}}\\right)}^{\\frac{2}{3} \\, \\sqrt{3}}} \\right) \\mathrm{d} t\\otimes \\mathrm{d} t + \\left( \\frac{r^{\\frac{1}{3} \\, \\sqrt{3} \\sqrt{b + 1} \\sqrt{-b + 1} + b}}{{\\left({\\left(r - r_{S}\\right)}^{\\frac{1}{2} \\, \\sqrt{b + 1} \\sqrt{-b + 1}}\\right)}^{\\frac{2}{3} \\, \\sqrt{3}} {\\left(r - r_{S}\\right)}^{b}} \\right) \\mathrm{d} r\\otimes \\mathrm{d} r + \\left( -\\frac{r^{\\frac{1}{3} \\, \\sqrt{3} \\sqrt{b + 1} \\sqrt{-b + 1} + b + 1} r_{S} - r^{\\frac{1}{3} \\, \\sqrt{3} \\sqrt{b + 1} \\sqrt{-b + 1} + b + 2}}{{\\left({\\left(r - r_{S}\\right)}^{\\frac{1}{2} \\, \\sqrt{b + 1} \\sqrt{-b + 1}}\\right)}^{\\frac{2}{3} \\, \\sqrt{3}} {\\left(r - r_{S}\\right)}^{b}} \\right) \\mathrm{d} {\\theta}\\otimes \\mathrm{d} {\\theta} -\\frac{{\\left(r^{\\frac{1}{3} \\, \\sqrt{3} \\sqrt{b + 1} \\sqrt{-b + 1} + b + 1} r_{S} - r^{\\frac{1}{3} \\, \\sqrt{3} \\sqrt{b + 1} \\sqrt{-b + 1} + b + 2}\\right)} \\sin\\left({\\theta}\\right)^{2}}{{\\left({\\left(r - r_{S}\\right)}^{\\frac{1}{2} \\, \\sqrt{b + 1} \\sqrt{-b + 1}}\\right)}^{\\frac{2}{3} \\, \\sqrt{3}} {\\left(r - r_{S}\\right)}^{b}} \\mathrm{d} {\\varphi}\\otimes \\mathrm{d} {\\varphi}$"
      ],
      "text/plain": [
       "(exp(\\varphi)^-2/3*sqrt(3))*g = -(r - r_S)^b*r^(1/3*sqrt(3)*sqrt(b + 1)*sqrt(-b + 1) - b)/((r - r_S)^(1/2*sqrt(b + 1)*sqrt(-b + 1)))^(2/3*sqrt(3)) dt⊗dt + r^(1/3*sqrt(3)*sqrt(b + 1)*sqrt(-b + 1) + b)/(((r - r_S)^(1/2*sqrt(b + 1)*sqrt(-b + 1)))^(2/3*sqrt(3))*(r - r_S)^b) dr⊗dr - (r^(1/3*sqrt(3)*sqrt(b + 1)*sqrt(-b + 1) + b + 1)*r_S - r^(1/3*sqrt(3)*sqrt(b + 1)*sqrt(-b + 1) + b + 2))/(((r - r_S)^(1/2*sqrt(b + 1)*sqrt(-b + 1)))^(2/3*sqrt(3))*(r - r_S)^b) dth⊗dth - (r^(1/3*sqrt(3)*sqrt(b + 1)*sqrt(-b + 1) + b + 1)*r_S - r^(1/3*sqrt(3)*sqrt(b + 1)*sqrt(-b + 1) + b + 2))*sin(th)^2/(((r - r_S)^(1/2*sqrt(b + 1)*sqrt(-b + 1)))^(2/3*sqrt(3))*(r - r_S)^b) dph⊗dph"
      ]
     },
     "execution_count": 17,
     "metadata": {},
     "output_type": "execute_result"
    }
   ],
   "source": [
    "h = Om*g\n",
    "h.display()"
   ]
  },
  {
   "cell_type": "code",
   "execution_count": 18,
   "metadata": {},
   "outputs": [],
   "source": [
    "Rich = h.ricci() #Le tenseur de Ricci\n",
    "Rh = h.ricci_scalar() #La courbure scalaire\n",
    "Gh = Rich-Rh*h/2 #Le tenseur d'Einstein"
   ]
  },
  {
   "cell_type": "code",
   "execution_count": 19,
   "metadata": {},
   "outputs": [
    {
     "data": {
      "text/html": [
       "<html>\\(\\displaystyle \\begin{array}{llcl} \\mathrm{r}\\left( \\left( {\\exp\\left(\\varphi\\right)}^{ -\\frac{2}{3} \\, \\sqrt{3} } \\right) \\cdot g \\right) : & M & \\longrightarrow & \\mathbb{R} \\\\ & \\left(t, r, {\\theta}, {\\varphi}\\right) & \\longmapsto & 0 \\end{array}\\)</html>"
      ],
      "text/latex": [
       "$\\displaystyle \\begin{array}{llcl} \\mathrm{r}\\left( \\left( {\\exp\\left(\\varphi\\right)}^{ -\\frac{2}{3} \\, \\sqrt{3} } \\right) \\cdot g \\right) : & M & \\longrightarrow & \\mathbb{R} \\\\ & \\left(t, r, {\\theta}, {\\varphi}\\right) & \\longmapsto & 0 \\end{array}$"
      ],
      "text/plain": [
       "r((exp(\\varphi)^-2/3*sqrt(3))*g): M → ℝ\n",
       "   (t, r, th, ph) ↦ 0"
      ]
     },
     "execution_count": 19,
     "metadata": {},
     "output_type": "execute_result"
    }
   ],
   "source": [
    "Rh.display()"
   ]
  },
  {
   "cell_type": "markdown",
   "metadata": {},
   "source": [
    "CQFD"
   ]
  },
  {
   "cell_type": "code",
   "execution_count": 20,
   "metadata": {},
   "outputs": [
    {
     "data": {
      "text/html": [
       "<html>\\(\\displaystyle \\mathrm{Ric}\\left( \\left( {\\exp\\left(\\varphi\\right)}^{ -\\frac{2}{3} \\, \\sqrt{3} } \\right) \\cdot g \\right) - \\text{unnamed metric} = \\left( -\\frac{3 \\, \\sqrt{b + 1} b \\sqrt{-b + 1} {\\left(r - r_{S}\\right)}^{2 \\, b} r_{S}^{2} + {\\left(\\sqrt{3} b^{2} - \\sqrt{3}\\right)} {\\left(r - r_{S}\\right)}^{2 \\, b} r_{S}^{2}}{6 \\, {\\left(\\sqrt{3} r^{2 \\, b + 2} r_{S}^{2} - 2 \\, \\sqrt{3} r^{2 \\, b + 3} r_{S} + \\sqrt{3} r^{2 \\, b + 4}\\right)}} \\right) \\mathrm{d} t\\otimes \\mathrm{d} t + \\left( -\\frac{3 \\, {\\left(b^{2} - 1\\right)} r_{S}^{2} - {\\left({\\left(\\sqrt{3} b + 2 \\, \\sqrt{3}\\right)} r_{S}^{2} - 4 \\, \\sqrt{3} r r_{S}\\right)} \\sqrt{b + 1} \\sqrt{-b + 1}}{6 \\, {\\left(r^{4} - 2 \\, r^{3} r_{S} + r^{2} r_{S}^{2}\\right)}} \\right) \\mathrm{d} r\\otimes \\mathrm{d} r + \\left( \\frac{{\\left(b^{2} - 1\\right)} r_{S}^{2} - {\\left({\\left(\\sqrt{3} b + \\sqrt{3}\\right)} r_{S}^{2} - 2 \\, \\sqrt{3} r r_{S}\\right)} \\sqrt{b + 1} \\sqrt{-b + 1}}{6 \\, {\\left(r^{2} - r r_{S}\\right)}} \\right) \\mathrm{d} {\\theta}\\otimes \\mathrm{d} {\\theta} + \\left( \\frac{{\\left(b^{2} - 1\\right)} r_{S}^{2} \\sin\\left({\\theta}\\right)^{2} - {\\left({\\left(\\sqrt{3} b + \\sqrt{3}\\right)} r_{S}^{2} - 2 \\, \\sqrt{3} r r_{S}\\right)} \\sqrt{b + 1} \\sqrt{-b + 1} \\sin\\left({\\theta}\\right)^{2}}{6 \\, {\\left(r^{2} - r r_{S}\\right)}} \\right) \\mathrm{d} {\\varphi}\\otimes \\mathrm{d} {\\varphi}\\)</html>"
      ],
      "text/latex": [
       "$\\displaystyle \\mathrm{Ric}\\left( \\left( {\\exp\\left(\\varphi\\right)}^{ -\\frac{2}{3} \\, \\sqrt{3} } \\right) \\cdot g \\right) - \\text{unnamed metric} = \\left( -\\frac{3 \\, \\sqrt{b + 1} b \\sqrt{-b + 1} {\\left(r - r_{S}\\right)}^{2 \\, b} r_{S}^{2} + {\\left(\\sqrt{3} b^{2} - \\sqrt{3}\\right)} {\\left(r - r_{S}\\right)}^{2 \\, b} r_{S}^{2}}{6 \\, {\\left(\\sqrt{3} r^{2 \\, b + 2} r_{S}^{2} - 2 \\, \\sqrt{3} r^{2 \\, b + 3} r_{S} + \\sqrt{3} r^{2 \\, b + 4}\\right)}} \\right) \\mathrm{d} t\\otimes \\mathrm{d} t + \\left( -\\frac{3 \\, {\\left(b^{2} - 1\\right)} r_{S}^{2} - {\\left({\\left(\\sqrt{3} b + 2 \\, \\sqrt{3}\\right)} r_{S}^{2} - 4 \\, \\sqrt{3} r r_{S}\\right)} \\sqrt{b + 1} \\sqrt{-b + 1}}{6 \\, {\\left(r^{4} - 2 \\, r^{3} r_{S} + r^{2} r_{S}^{2}\\right)}} \\right) \\mathrm{d} r\\otimes \\mathrm{d} r + \\left( \\frac{{\\left(b^{2} - 1\\right)} r_{S}^{2} - {\\left({\\left(\\sqrt{3} b + \\sqrt{3}\\right)} r_{S}^{2} - 2 \\, \\sqrt{3} r r_{S}\\right)} \\sqrt{b + 1} \\sqrt{-b + 1}}{6 \\, {\\left(r^{2} - r r_{S}\\right)}} \\right) \\mathrm{d} {\\theta}\\otimes \\mathrm{d} {\\theta} + \\left( \\frac{{\\left(b^{2} - 1\\right)} r_{S}^{2} \\sin\\left({\\theta}\\right)^{2} - {\\left({\\left(\\sqrt{3} b + \\sqrt{3}\\right)} r_{S}^{2} - 2 \\, \\sqrt{3} r r_{S}\\right)} \\sqrt{b + 1} \\sqrt{-b + 1} \\sin\\left({\\theta}\\right)^{2}}{6 \\, {\\left(r^{2} - r r_{S}\\right)}} \\right) \\mathrm{d} {\\varphi}\\otimes \\mathrm{d} {\\varphi}$"
      ],
      "text/plain": [
       "Ric((exp(\\varphi)^-2/3*sqrt(3))*g)-unnamed metric = -1/6*(3*sqrt(b + 1)*b*sqrt(-b + 1)*(r - r_S)^(2*b)*r_S^2 + (sqrt(3)*b^2 - sqrt(3))*(r - r_S)^(2*b)*r_S^2)/(sqrt(3)*r^(2*b + 2)*r_S^2 - 2*sqrt(3)*r^(2*b + 3)*r_S + sqrt(3)*r^(2*b + 4)) dt⊗dt - 1/6*(3*(b^2 - 1)*r_S^2 - ((sqrt(3)*b + 2*sqrt(3))*r_S^2 - 4*sqrt(3)*r*r_S)*sqrt(b + 1)*sqrt(-b + 1))/(r^4 - 2*r^3*r_S + r^2*r_S^2) dr⊗dr + 1/6*((b^2 - 1)*r_S^2 - ((sqrt(3)*b + sqrt(3))*r_S^2 - 2*sqrt(3)*r*r_S)*sqrt(b + 1)*sqrt(-b + 1))/(r^2 - r*r_S) dth⊗dth + 1/6*((b^2 - 1)*r_S^2*sin(th)^2 - ((sqrt(3)*b + sqrt(3))*r_S^2 - 2*sqrt(3)*r*r_S)*sqrt(b + 1)*sqrt(-b + 1)*sin(th)^2)/(r^2 - r*r_S) dph⊗dph"
      ]
     },
     "execution_count": 20,
     "metadata": {},
     "output_type": "execute_result"
    }
   ],
   "source": [
    "Gh.display()"
   ]
  },
  {
   "cell_type": "code",
   "execution_count": 21,
   "metadata": {},
   "outputs": [
    {
     "data": {
      "text/html": [
       "<html>\\(\\displaystyle \\mathrm{Ric}\\left( \\left( {\\exp\\left(\\varphi\\right)}^{ -\\frac{2}{3} \\, \\sqrt{3} } \\right) \\cdot g \\right) - \\text{unnamed metric}\\)</html>"
      ],
      "text/latex": [
       "$\\displaystyle \\mathrm{Ric}\\left( \\left( {\\exp\\left(\\varphi\\right)}^{ -\\frac{2}{3} \\, \\sqrt{3} } \\right) \\cdot g \\right) - \\text{unnamed metric}$"
      ],
      "text/plain": [
       "Field of symmetric bilinear forms Ric((exp(\\varphi)^-2/3*sqrt(3))*g)-unnamed metric on the 4-dimensional Lorentzian manifold M"
      ]
     },
     "execution_count": 21,
     "metadata": {},
     "output_type": "execute_result"
    }
   ],
   "source": [
    "Gh"
   ]
  },
  {
   "cell_type": "code",
   "execution_count": 22,
   "metadata": {
    "scrolled": true
   },
   "outputs": [
    {
     "data": {
      "text/html": [
       "<html>\\(\\displaystyle \\mathrm{True}\\)</html>"
      ],
      "text/latex": [
       "$\\displaystyle \\mathrm{True}$"
      ],
      "text/plain": [
       "True"
      ]
     },
     "execution_count": 22,
     "metadata": {},
     "output_type": "execute_result"
    }
   ],
   "source": [
    "Gh == Rich"
   ]
  },
  {
   "cell_type": "markdown",
   "metadata": {},
   "source": [
    "Check OK, one has $G_{\\alpha \\beta} = R_{\\alpha \\beta}$."
   ]
  },
  {
   "cell_type": "markdown",
   "metadata": {},
   "source": [
    "From (1), one may think that one has\n",
    "$$\\tilde R = 2 \\tilde g^{\\alpha \\beta} \\partial_\\alpha \\varphi \\partial_\\beta \\varphi \\qquad(1).$$\n",
    "Let's check that:"
   ]
  },
  {
   "cell_type": "code",
   "execution_count": 23,
   "metadata": {},
   "outputs": [],
   "source": [
    "Sc = 2*invg['^ij']*dphi2['_ij']\n",
    "# Sc.display()"
   ]
  },
  {
   "cell_type": "code",
   "execution_count": 24,
   "metadata": {},
   "outputs": [],
   "source": [
    "# R.display()"
   ]
  },
  {
   "cell_type": "code",
   "execution_count": 25,
   "metadata": {},
   "outputs": [
    {
     "data": {
      "text/html": [
       "<html>\\(\\displaystyle \\mathrm{True}\\)</html>"
      ],
      "text/latex": [
       "$\\displaystyle \\mathrm{True}$"
      ],
      "text/plain": [
       "True"
      ]
     },
     "execution_count": 25,
     "metadata": {},
     "output_type": "execute_result"
    }
   ],
   "source": [
    "Sc == R"
   ]
  },
  {
   "cell_type": "markdown",
   "metadata": {},
   "source": [
    "CQFD"
   ]
  },
  {
   "cell_type": "code",
   "execution_count": 26,
   "metadata": {},
   "outputs": [],
   "source": [
    "# G.display()"
   ]
  },
  {
   "cell_type": "markdown",
   "metadata": {},
   "source": [
    "The solution in the entangled frame must be such that\n",
    "$$R_{\\alpha \\beta} - \\frac{1}{2} g_{\\alpha \\beta} R = \\frac{1}{\\phi}\\left[\\nabla_\\alpha \\nabla_\\beta - g_{\\alpha \\beta} \\Box \\right] \\phi,$$\n",
    "such that one has\n",
    "$$R = \\frac{3}{\\phi} \\Box \\phi$$.\n",
    "Given that we know that $R=0$, it must mean that $\\Phi$ is solution of the following equation\n",
    "$$\\Box \\phi = 0.$$\n",
    "\n",
    "Let's try to check that."
   ]
  },
  {
   "cell_type": "code",
   "execution_count": 27,
   "metadata": {},
   "outputs": [],
   "source": [
    "deth = h.determinant()\n",
    "# deth.display()"
   ]
  },
  {
   "cell_type": "code",
   "execution_count": 28,
   "metadata": {},
   "outputs": [],
   "source": [
    "invh = h.inverse()\n",
    "# invh.display()"
   ]
  },
  {
   "cell_type": "code",
   "execution_count": 29,
   "metadata": {},
   "outputs": [],
   "source": [
    "nabh = h.connection(name=r'\\nabla_h')"
   ]
  },
  {
   "cell_type": "code",
   "execution_count": 30,
   "metadata": {},
   "outputs": [
    {
     "data": {
      "text/html": [
       "<html>\\(\\displaystyle \\begin{array}{llcl} & M & \\longrightarrow & \\mathbb{R} \\\\ & \\left(t, r, {\\theta}, {\\varphi}\\right) & \\longmapsto & -\\frac{2 \\, {\\left(b^{2} - 1\\right)} {\\left(r - r_{S}\\right)}^{b} r_{S}^{2}}{3 \\, {\\left(r^{b + 2} r_{S}^{2} - 2 \\, r^{b + 3} r_{S} + r^{b + 4}\\right)}} \\end{array}\\)</html>"
      ],
      "text/latex": [
       "$\\displaystyle \\begin{array}{llcl} & M & \\longrightarrow & \\mathbb{R} \\\\ & \\left(t, r, {\\theta}, {\\varphi}\\right) & \\longmapsto & -\\frac{2 \\, {\\left(b^{2} - 1\\right)} {\\left(r - r_{S}\\right)}^{b} r_{S}^{2}}{3 \\, {\\left(r^{b + 2} r_{S}^{2} - 2 \\, r^{b + 3} r_{S} + r^{b + 4}\\right)}} \\end{array}$"
      ],
      "text/plain": [
       "M → ℝ\n",
       "(t, r, th, ph) ↦ -2/3*(b^2 - 1)*(r - r_S)^b*r_S^2/(r^(b + 2)*r_S^2 - 2*r^(b + 3)*r_S + r^(b + 4))"
      ]
     },
     "execution_count": 30,
     "metadata": {},
     "output_type": "execute_result"
    }
   ],
   "source": [
    "((invh['^ij'])*(nabh(nabh(Om)))['_ij']).display()"
   ]
  },
  {
   "cell_type": "code",
   "execution_count": 31,
   "metadata": {},
   "outputs": [
    {
     "data": {
      "text/html": [
       "<html>\\(\\displaystyle \\begin{array}{llcl} \\Box_{ \\left( {\\exp\\left(\\varphi\\right)}^{ -\\frac{2}{3} \\, \\sqrt{3} } \\right) \\cdot g }\\left( {\\exp\\left(\\varphi\\right)}^{ -\\frac{2}{3} \\, \\sqrt{3} } \\right) : & M & \\longrightarrow & \\mathbb{R} \\\\ & \\left(t, r, {\\theta}, {\\varphi}\\right) & \\longmapsto & -\\frac{2 \\, {\\left(b^{2} - 1\\right)} {\\left(r - r_{S}\\right)}^{b} r_{S}^{2}}{3 \\, {\\left(r^{b + 2} r_{S}^{2} - 2 \\, r^{b + 3} r_{S} + r^{b + 4}\\right)}} \\end{array}\\)</html>"
      ],
      "text/latex": [
       "$\\displaystyle \\begin{array}{llcl} \\Box_{ \\left( {\\exp\\left(\\varphi\\right)}^{ -\\frac{2}{3} \\, \\sqrt{3} } \\right) \\cdot g }\\left( {\\exp\\left(\\varphi\\right)}^{ -\\frac{2}{3} \\, \\sqrt{3} } \\right) : & M & \\longrightarrow & \\mathbb{R} \\\\ & \\left(t, r, {\\theta}, {\\varphi}\\right) & \\longmapsto & -\\frac{2 \\, {\\left(b^{2} - 1\\right)} {\\left(r - r_{S}\\right)}^{b} r_{S}^{2}}{3 \\, {\\left(r^{b + 2} r_{S}^{2} - 2 \\, r^{b + 3} r_{S} + r^{b + 4}\\right)}} \\end{array}$"
      ],
      "text/plain": [
       "Box_(exp(\\varphi)^-2/3*sqrt(3))*g(exp(\\varphi)^-2/3*sqrt(3)): M → ℝ\n",
       "   (t, r, th, ph) ↦ -2/3*(b^2 - 1)*(r - r_S)^b*r_S^2/(r^(b + 2)*r_S^2 - 2*r^(b + 3)*r_S + r^(b + 4))"
      ]
     },
     "execution_count": 31,
     "metadata": {},
     "output_type": "execute_result"
    }
   ],
   "source": [
    "(Om.dalembertian(h)).display()"
   ]
  },
  {
   "cell_type": "code",
   "execution_count": 32,
   "metadata": {},
   "outputs": [
    {
     "data": {
      "text/html": [
       "<html>\\(\\displaystyle \\begin{array}{llcl} & M & \\longrightarrow & \\mathbb{R} \\\\ & \\left(t, r, {\\theta}, {\\varphi}\\right) & \\longmapsto & 0 \\end{array}\\)</html>"
      ],
      "text/latex": [
       "$\\displaystyle \\begin{array}{llcl} & M & \\longrightarrow & \\mathbb{R} \\\\ & \\left(t, r, {\\theta}, {\\varphi}\\right) & \\longmapsto & 0 \\end{array}$"
      ],
      "text/plain": [
       "M → ℝ\n",
       "(t, r, th, ph) ↦ 0"
      ]
     },
     "execution_count": 32,
     "metadata": {},
     "output_type": "execute_result"
    }
   ],
   "source": [
    "(Om.dalembertian(h)-(invh['^ij'])*(nabh(nabh(Om)))['_ij']).display()"
   ]
  },
  {
   "cell_type": "code",
   "execution_count": 33,
   "metadata": {},
   "outputs": [
    {
     "data": {
      "text/html": [
       "<html>\\(\\displaystyle \\mathrm{True}\\)</html>"
      ],
      "text/latex": [
       "$\\displaystyle \\mathrm{True}$"
      ],
      "text/plain": [
       "True"
      ]
     },
     "execution_count": 33,
     "metadata": {},
     "output_type": "execute_result"
    }
   ],
   "source": [
    "(invh['^ij'])*(nabh(nabh(Om)))['_ij'] ==  Om.dalembertian(h)"
   ]
  },
  {
   "cell_type": "markdown",
   "metadata": {},
   "source": [
    "# Brouillon"
   ]
  },
  {
   "cell_type": "code",
   "execution_count": 34,
   "metadata": {
    "scrolled": true
   },
   "outputs": [
    {
     "data": {
      "text/html": [
       "<html>\\(\\displaystyle \\begin{array}{llcl} \\mathrm{r}\\left(g\\right):& M & \\longrightarrow & \\mathbb{R} \\\\ & \\left(t, r, {\\theta}, {\\varphi}\\right) & \\longmapsto & -\\frac{{\\left(b^{2} - 1\\right)} {\\left(r - r_{S}\\right)}^{b} r_{S}^{2}}{2 \\, {\\left(r^{b + 2} r_{S}^{2} - 2 \\, r^{b + 3} r_{S} + r^{b + 4}\\right)}} \\end{array}\\)</html>"
      ],
      "text/latex": [
       "$\\displaystyle \\begin{array}{llcl} \\mathrm{r}\\left(g\\right):& M & \\longrightarrow & \\mathbb{R} \\\\ & \\left(t, r, {\\theta}, {\\varphi}\\right) & \\longmapsto & -\\frac{{\\left(b^{2} - 1\\right)} {\\left(r - r_{S}\\right)}^{b} r_{S}^{2}}{2 \\, {\\left(r^{b + 2} r_{S}^{2} - 2 \\, r^{b + 3} r_{S} + r^{b + 4}\\right)}} \\end{array}$"
      ],
      "text/plain": [
       "r(g): M → ℝ\n",
       "   (t, r, th, ph) ↦ -1/2*(b^2 - 1)*(r - r_S)^b*r_S^2/(r^(b + 2)*r_S^2 - 2*r^(b + 3)*r_S + r^(b + 4))"
      ]
     },
     "execution_count": 34,
     "metadata": {},
     "output_type": "execute_result"
    }
   ],
   "source": [
    "R.display()"
   ]
  },
  {
   "cell_type": "code",
   "execution_count": 35,
   "metadata": {},
   "outputs": [],
   "source": [
    "R_mod = (R/sqrt(R*R))"
   ]
  },
  {
   "cell_type": "code",
   "execution_count": 36,
   "metadata": {},
   "outputs": [
    {
     "data": {
      "text/html": [
       "<html>\\(\\displaystyle \\begin{array}{llcl} \\mathrm{r}\\left(g\\right)/\\sqrt{\\mathrm{r}\\left(g\\right) \\cdot \\mathrm{r}\\left(g\\right)}:& M & \\longrightarrow & \\mathbb{R} \\\\ & \\left(t, r, {\\theta}, {\\varphi}\\right) & \\longmapsto & \\frac{{\\left(r - r_{S}\\right)}^{b}}{{\\left| -r + r_{S} \\right|}^{b}} \\end{array}\\)</html>"
      ],
      "text/latex": [
       "$\\displaystyle \\begin{array}{llcl} \\mathrm{r}\\left(g\\right)/\\sqrt{\\mathrm{r}\\left(g\\right) \\cdot \\mathrm{r}\\left(g\\right)}:& M & \\longrightarrow & \\mathbb{R} \\\\ & \\left(t, r, {\\theta}, {\\varphi}\\right) & \\longmapsto & \\frac{{\\left(r - r_{S}\\right)}^{b}}{{\\left| -r + r_{S} \\right|}^{b}} \\end{array}$"
      ],
      "text/plain": [
       "r(g)/sqrt(r(g)*r(g)): M → ℝ\n",
       "   (t, r, th, ph) ↦ (r - r_S)^b/abs(-r + r_S)^b"
      ]
     },
     "execution_count": 36,
     "metadata": {},
     "output_type": "execute_result"
    }
   ],
   "source": [
    "R_mod.display()"
   ]
  },
  {
   "cell_type": "code",
   "execution_count": 37,
   "metadata": {
    "scrolled": true
   },
   "outputs": [
    {
     "data": {
      "text/html": [
       "<html>\\(\\displaystyle \\begin{array}{llcl} \\mathrm{r}\\left(g\\right)/\\sqrt{\\mathrm{r}\\left(g\\right) \\cdot \\mathrm{r}\\left(g\\right)}:& M & \\longrightarrow & \\mathbb{R} \\\\ & \\left(t, r, {\\theta}, {\\varphi}\\right) & \\longmapsto & \\frac{{\\left(r - r_{S}\\right)}^{b}}{{\\left| -r + r_{S} \\right|}^{b}} \\end{array}\\)</html>"
      ],
      "text/latex": [
       "$\\displaystyle \\begin{array}{llcl} \\mathrm{r}\\left(g\\right)/\\sqrt{\\mathrm{r}\\left(g\\right) \\cdot \\mathrm{r}\\left(g\\right)}:& M & \\longrightarrow & \\mathbb{R} \\\\ & \\left(t, r, {\\theta}, {\\varphi}\\right) & \\longmapsto & \\frac{{\\left(r - r_{S}\\right)}^{b}}{{\\left| -r + r_{S} \\right|}^{b}} \\end{array}$"
      ],
      "text/plain": [
       "r(g)/sqrt(r(g)*r(g)): M → ℝ\n",
       "   (t, r, th, ph) ↦ (r - r_S)^b/abs(-r + r_S)^b"
      ]
     },
     "execution_count": 37,
     "metadata": {},
     "output_type": "execute_result"
    }
   ],
   "source": [
    "(R_mod.subs(b==1)).display()"
   ]
  }
 ],
 "metadata": {
  "kernelspec": {
   "display_name": "SageMath 10.1",
   "language": "sage",
   "name": "sagemath"
  },
  "language_info": {
   "codemirror_mode": {
    "name": "ipython",
    "version": 3
   },
   "file_extension": ".py",
   "mimetype": "text/x-python",
   "name": "python",
   "nbconvert_exporter": "python",
   "pygments_lexer": "ipython3",
   "version": "3.10.12"
  }
 },
 "nbformat": 4,
 "nbformat_minor": 4
}
