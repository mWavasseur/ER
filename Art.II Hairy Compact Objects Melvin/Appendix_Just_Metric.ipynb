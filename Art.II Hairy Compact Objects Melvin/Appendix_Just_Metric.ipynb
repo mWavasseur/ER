{
 "cells": [
  {
   "cell_type": "code",
   "execution_count": 1,
   "metadata": {},
   "outputs": [
    {
     "data": {
      "text/plain": [
       "'SageMath version 10.1, Release Date: 2023-08-20'"
      ]
     },
     "execution_count": 1,
     "metadata": {},
     "output_type": "execute_result"
    }
   ],
   "source": [
    "version()"
   ]
  },
  {
   "cell_type": "code",
   "execution_count": 2,
   "metadata": {},
   "outputs": [],
   "source": [
    "%display latex"
   ]
  },
  {
   "cell_type": "code",
   "execution_count": 3,
   "metadata": {},
   "outputs": [
    {
     "name": "stdout",
     "output_type": "stream",
     "text": [
      "4-dimensional Lorentzian manifold M\n"
     ]
    }
   ],
   "source": [
    "M = Manifold(4, 'M', structure='Lorentzian')\n",
    "print(M)"
   ]
  },
  {
   "cell_type": "code",
   "execution_count": 4,
   "metadata": {},
   "outputs": [
    {
     "data": {
      "text/html": [
       "<html>\\(\\displaystyle \\left(M,(t, r, {\\theta}, {\\varphi})\\right)\\)</html>"
      ],
      "text/latex": [
       "$\\displaystyle \\left(M,(t, r, {\\theta}, {\\varphi})\\right)$"
      ],
      "text/plain": [
       "Chart (M, (t, r, th, ph))"
      ]
     },
     "execution_count": 4,
     "metadata": {},
     "output_type": "execute_result"
    }
   ],
   "source": [
    "XY.<t,r,th,ph> = M.chart(r\"t r:(0,+oo) th:(0,pi):\\theta ph:(0,2*pi):\\varphi\")\n",
    "XY"
   ]
  },
  {
   "cell_type": "code",
   "execution_count": 5,
   "metadata": {},
   "outputs": [],
   "source": [
    "g = M.metric()\n",
    "r_s, B, b, a = var('r_s B_0 b a')\n",
    "assume(r>r_s)\n",
    "assume(th>0, th<pi)\n",
    "assume(b>0, b<=1)"
   ]
  },
  {
   "cell_type": "markdown",
   "metadata": {},
   "source": [
    "# I. Definition of the two metric solutions"
   ]
  },
  {
   "cell_type": "code",
   "execution_count": 23,
   "metadata": {},
   "outputs": [],
   "source": [
    "sol_1 = True # Depending on this boolean value, we alternatively check for solutions of the two metrics"
   ]
  },
  {
   "cell_type": "code",
   "execution_count": 24,
   "metadata": {},
   "outputs": [
    {
     "data": {
      "text/html": [
       "<html>\\(\\displaystyle g = -{\\left(-\\frac{r_{s}}{r} + 1\\right)}^{b} \\Delta\\left(r\\right) \\mathrm{d} t\\otimes \\mathrm{d} t + \\frac{\\Delta\\left(r\\right)}{{\\left(-\\frac{r_{s}}{r} + 1\\right)}^{b}} \\mathrm{d} r\\otimes \\mathrm{d} r + \\left( r^{2} {\\left(-\\frac{r_{s}}{r} + 1\\right)}^{-b + 1} \\Delta\\left(r\\right) \\right) \\mathrm{d} {\\theta}\\otimes \\mathrm{d} {\\theta} + \\left( r^{2} {\\left(-\\frac{r_{s}}{r} + 1\\right)}^{-b + 1} \\Delta\\left(r\\right) \\sin\\left({\\theta}\\right)^{2} \\right) \\mathrm{d} {\\varphi}\\otimes \\mathrm{d} {\\varphi}\\)</html>"
      ],
      "text/latex": [
       "$\\displaystyle g = -{\\left(-\\frac{r_{s}}{r} + 1\\right)}^{b} \\Delta\\left(r\\right) \\mathrm{d} t\\otimes \\mathrm{d} t + \\frac{\\Delta\\left(r\\right)}{{\\left(-\\frac{r_{s}}{r} + 1\\right)}^{b}} \\mathrm{d} r\\otimes \\mathrm{d} r + \\left( r^{2} {\\left(-\\frac{r_{s}}{r} + 1\\right)}^{-b + 1} \\Delta\\left(r\\right) \\right) \\mathrm{d} {\\theta}\\otimes \\mathrm{d} {\\theta} + \\left( r^{2} {\\left(-\\frac{r_{s}}{r} + 1\\right)}^{-b + 1} \\Delta\\left(r\\right) \\sin\\left({\\theta}\\right)^{2} \\right) \\mathrm{d} {\\varphi}\\otimes \\mathrm{d} {\\varphi}$"
      ],
      "text/plain": [
       "g = -(-r_s/r + 1)^b*Delta(r) dt⊗dt + Delta(r)/(-r_s/r + 1)^b dr⊗dr + r^2*(-r_s/r + 1)^(-b + 1)*Delta(r) dth⊗dth + r^2*(-r_s/r + 1)^(-b + 1)*Delta(r)*sin(th)^2 dph⊗dph"
      ]
     },
     "metadata": {},
     "output_type": "display_data"
    },
    {
     "data": {
      "text/html": [
       "<html>\\(\\displaystyle \\Delta =  {\\left(-\\frac{r_{s}}{r} + 1\\right)}^{\\left(\\sqrt{-\\frac{1}{3} \\, b^{2} + \\frac{1}{3}}\\right)}\\)</html>"
      ],
      "text/latex": [
       "$\\displaystyle \\Delta =  {\\left(-\\frac{r_{s}}{r} + 1\\right)}^{\\left(\\sqrt{-\\frac{1}{3} \\, b^{2} + \\frac{1}{3}}\\right)}$"
      ],
      "text/plain": [
       "\\Delta =  (-r_s/r + 1)^sqrt(-1/3*b^2 + 1/3)"
      ]
     },
     "metadata": {},
     "output_type": "display_data"
    }
   ],
   "source": [
    "Delta = function('Delta')\n",
    "Delt(r) = (1- r_s/r)**((1 if sol_1 else -1)*sqrt((1-b**2)/3))\n",
    "\n",
    "g[0,0] = -Delta(r)*(1- r_s/r)**b\n",
    "g[1,1] = Delta(r)*(1- r_s / r)**(-b)\n",
    "g[2,2] = r**2*Delta(r)*(1- r_s/r)**(1-b)\n",
    "g[3,3] =  (r*sin(th))**2 *Delta(r)*(1- r_s / r)**(1-b)\n",
    "show(g.display())\n",
    "show(LatexExpr(r'\\Delta = '), Delt(r, th))"
   ]
  },
  {
   "cell_type": "markdown",
   "metadata": {},
   "source": [
    "# II. Verification of the equation $R=0$"
   ]
  },
  {
   "cell_type": "code",
   "execution_count": 25,
   "metadata": {},
   "outputs": [
    {
     "data": {
      "text/html": [
       "<html>\\(\\displaystyle \\begin{array}{llcl} \\mathrm{r}\\left(g\\right):& M & \\longrightarrow & \\mathbb{R} \\\\ & \\left(t, r, {\\theta}, {\\varphi}\\right) & \\longmapsto & \\frac{{\\left(3 \\, r^{2} \\left(\\frac{\\partial\\,\\Delta}{\\partial r}\\right)^{2} - 6 \\, r^{2} \\Delta\\left(r\\right) \\frac{\\partial^2\\,\\Delta}{\\partial r ^ 2} - {\\left(b^{2} - 1\\right)} \\Delta\\left(r\\right)^{2} - 6 \\, r \\Delta\\left(r\\right) \\frac{\\partial\\,\\Delta}{\\partial r}\\right)} {\\left(r - r_{s}\\right)}^{b} r_{s}^{2} - 6 \\, {\\left(r^{3} \\left(\\frac{\\partial\\,\\Delta}{\\partial r}\\right)^{2} - 2 \\, r^{3} \\Delta\\left(r\\right) \\frac{\\partial^2\\,\\Delta}{\\partial r ^ 2} - 3 \\, r^{2} \\Delta\\left(r\\right) \\frac{\\partial\\,\\Delta}{\\partial r}\\right)} {\\left(r - r_{s}\\right)}^{b} r_{s} + 3 \\, {\\left(r^{4} \\left(\\frac{\\partial\\,\\Delta}{\\partial r}\\right)^{2} - 2 \\, r^{4} \\Delta\\left(r\\right) \\frac{\\partial^2\\,\\Delta}{\\partial r ^ 2} - 4 \\, r^{3} \\Delta\\left(r\\right) \\frac{\\partial\\,\\Delta}{\\partial r}\\right)} {\\left(r - r_{s}\\right)}^{b}}{2 \\, {\\left(r^{b + 2} r_{s}^{2} \\Delta\\left(r\\right)^{3} - 2 \\, r^{b + 3} r_{s} \\Delta\\left(r\\right)^{3} + r^{b + 4} \\Delta\\left(r\\right)^{3}\\right)}} \\end{array}\\)</html>"
      ],
      "text/latex": [
       "$\\displaystyle \\begin{array}{llcl} \\mathrm{r}\\left(g\\right):& M & \\longrightarrow & \\mathbb{R} \\\\ & \\left(t, r, {\\theta}, {\\varphi}\\right) & \\longmapsto & \\frac{{\\left(3 \\, r^{2} \\left(\\frac{\\partial\\,\\Delta}{\\partial r}\\right)^{2} - 6 \\, r^{2} \\Delta\\left(r\\right) \\frac{\\partial^2\\,\\Delta}{\\partial r ^ 2} - {\\left(b^{2} - 1\\right)} \\Delta\\left(r\\right)^{2} - 6 \\, r \\Delta\\left(r\\right) \\frac{\\partial\\,\\Delta}{\\partial r}\\right)} {\\left(r - r_{s}\\right)}^{b} r_{s}^{2} - 6 \\, {\\left(r^{3} \\left(\\frac{\\partial\\,\\Delta}{\\partial r}\\right)^{2} - 2 \\, r^{3} \\Delta\\left(r\\right) \\frac{\\partial^2\\,\\Delta}{\\partial r ^ 2} - 3 \\, r^{2} \\Delta\\left(r\\right) \\frac{\\partial\\,\\Delta}{\\partial r}\\right)} {\\left(r - r_{s}\\right)}^{b} r_{s} + 3 \\, {\\left(r^{4} \\left(\\frac{\\partial\\,\\Delta}{\\partial r}\\right)^{2} - 2 \\, r^{4} \\Delta\\left(r\\right) \\frac{\\partial^2\\,\\Delta}{\\partial r ^ 2} - 4 \\, r^{3} \\Delta\\left(r\\right) \\frac{\\partial\\,\\Delta}{\\partial r}\\right)} {\\left(r - r_{s}\\right)}^{b}}{2 \\, {\\left(r^{b + 2} r_{s}^{2} \\Delta\\left(r\\right)^{3} - 2 \\, r^{b + 3} r_{s} \\Delta\\left(r\\right)^{3} + r^{b + 4} \\Delta\\left(r\\right)^{3}\\right)}} \\end{array}$"
      ],
      "text/plain": [
       "r(g): M → ℝ\n",
       "   (t, r, th, ph) ↦ 1/2*((3*r^2*(d(Delta)/dr)^2 - 6*r^2*Delta(r)*d^2(Delta)/dr^2 - (b^2 - 1)*Delta(r)^2 - 6*r*Delta(r)*d(Delta)/dr)*(r - r_s)^b*r_s^2 - 6*(r^3*(d(Delta)/dr)^2 - 2*r^3*Delta(r)*d^2(Delta)/dr^2 - 3*r^2*Delta(r)*d(Delta)/dr)*(r - r_s)^b*r_s + 3*(r^4*(d(Delta)/dr)^2 - 2*r^4*Delta(r)*d^2(Delta)/dr^2 - 4*r^3*Delta(r)*d(Delta)/dr)*(r - r_s)^b)/(r^(b + 2)*r_s^2*Delta(r)^3 - 2*r^(b + 3)*r_s*Delta(r)^3 + r^(b + 4)*Delta(r)^3)"
      ]
     },
     "execution_count": 25,
     "metadata": {},
     "output_type": "execute_result"
    }
   ],
   "source": [
    "R = g.ricci_scalar() \n",
    "R.display()"
   ]
  },
  {
   "cell_type": "code",
   "execution_count": 26,
   "metadata": {},
   "outputs": [
    {
     "data": {
      "text/html": [
       "<html>\\(\\displaystyle 0\\)</html>"
      ],
      "text/latex": [
       "$\\displaystyle 0$"
      ],
      "text/plain": [
       "0"
      ]
     },
     "execution_count": 26,
     "metadata": {},
     "output_type": "execute_result"
    }
   ],
   "source": [
    "R.expr().substitute_function(Delta,Delt).factor()"
   ]
  }
 ],
 "metadata": {
  "kernelspec": {
   "display_name": "SageMath 10.1",
   "language": "sage",
   "name": "sagemath"
  },
  "language_info": {
   "codemirror_mode": {
    "name": "ipython",
    "version": 3
   },
   "file_extension": ".py",
   "mimetype": "text/x-python",
   "name": "python",
   "nbconvert_exporter": "python",
   "pygments_lexer": "ipython3",
   "version": "3.10.12"
  }
 },
 "nbformat": 4,
 "nbformat_minor": 4
}
