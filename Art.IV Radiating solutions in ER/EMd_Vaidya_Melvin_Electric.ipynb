{
 "cells": [
  {
   "cell_type": "markdown",
   "id": "2487182d",
   "metadata": {},
   "source": [
    "# MINEUR-VAIDYA RADIATING SOLUTIONS EMBEDDED INTO AN EXTERNAL ELECTRIC FIELD IN EMD"
   ]
  },
  {
   "cell_type": "markdown",
   "id": "5b7dfe97",
   "metadata": {},
   "source": [
    "We are using the same approach than in the notebook **EMd_Vaidya_Melvin** but now, we are considering the case of an electric external field which can be obtained by applying the following transformation:\n",
    "\n",
    "\\begin{eqnarray}\n",
    "&&F_{\\mu \\nu}  \\longrightarrow F^{e}_{\\mu \\nu} =-\\frac{1}{2} \\frac{\\mathcal{L}_{m}}{R} ~ \\epsilon_{\\mu \\nu \\kappa \\lambda} F^{\\kappa \\lambda},\\\\\n",
    "&&g_{\\mu \\nu} \\longrightarrow g^e_{\\mu \\nu} = \\left(\\frac{\\mathcal{L}_{m}}{R}\\right)^4 g_{\\mu \\nu},\n",
    "\\end{eqnarray}\n",
    "\n",
    "where $\\epsilon_{\\mu \\nu \\kappa \\lambda}$ is the Levi-Cività tensor, such that\n",
    "\n",
    "\\begin{equation}\n",
    "\\vartheta \\longrightarrow \\vartheta^e = \\frac{1}{\\vartheta}.\n",
    "\\end{equation}\n"
   ]
  },
  {
   "cell_type": "code",
   "execution_count": 1,
   "id": "20b437f8-845d-40e2-9f7d-4f03d25d3ced",
   "metadata": {},
   "outputs": [],
   "source": [
    "%display latex"
   ]
  },
  {
   "cell_type": "code",
   "execution_count": 2,
   "id": "8240ef05-3490-4ba6-ae7d-6448e450f805",
   "metadata": {},
   "outputs": [
    {
     "name": "stdout",
     "output_type": "stream",
     "text": [
      "4-dimensional Lorentzian manifold M\n"
     ]
    }
   ],
   "source": [
    "M = Manifold(4, 'M', structure='Lorentzian')\n",
    "print(M)"
   ]
  },
  {
   "cell_type": "code",
   "execution_count": 3,
   "id": "df985ca1-6598-4cba-bab2-837ea92eb2fc",
   "metadata": {},
   "outputs": [
    {
     "data": {
      "text/html": [
       "<html>\\(\\displaystyle \\left(M,(u, r, {\\theta}, {\\varphi})\\right)\\)</html>"
      ],
      "text/latex": [
       "$\\displaystyle \\left(M,(u, r, {\\theta}, {\\varphi})\\right)$"
      ],
      "text/plain": [
       "Chart (M, (u, r, th, ph))"
      ]
     },
     "execution_count": 3,
     "metadata": {},
     "output_type": "execute_result"
    }
   ],
   "source": [
    "XN.<u,r,th,ph> = M.chart(r'u r:(0,+oo) th:(0,pi):\\theta ph:(0,2*pi):\\varphi:periodic')\n",
    "XN"
   ]
  },
  {
   "cell_type": "code",
   "execution_count": 4,
   "id": "3df7e71b-9c3a-4e21-8864-d24eacc8b443",
   "metadata": {},
   "outputs": [
    {
     "data": {
      "text/html": [
       "<html>\\(\\displaystyle u :\\ \\left( -\\infty, +\\infty \\right) ;\\quad r :\\ \\left( 0 , +\\infty \\right) ;\\quad {\\theta} :\\ \\left( 0 , \\pi \\right) ;\\quad {\\varphi} :\\ \\left[ 0 , 2 \\, \\pi \\right] \\text{(periodic)}\\)</html>"
      ],
      "text/latex": [
       "$\\displaystyle u :\\ \\left( -\\infty, +\\infty \\right) ;\\quad r :\\ \\left( 0 , +\\infty \\right) ;\\quad {\\theta} :\\ \\left( 0 , \\pi \\right) ;\\quad {\\varphi} :\\ \\left[ 0 , 2 \\, \\pi \\right] \\text{(periodic)}$"
      ],
      "text/plain": [
       "u: (-oo, +oo); r: (0, +oo); th: (0, pi); ph: [0, 2*pi] (periodic)"
      ]
     },
     "execution_count": 4,
     "metadata": {},
     "output_type": "execute_result"
    }
   ],
   "source": [
    "XN.coord_range()"
   ]
  },
  {
   "cell_type": "markdown",
   "id": "99aa9552",
   "metadata": {},
   "source": [
    "# I. Definition of the metric"
   ]
  },
  {
   "cell_type": "code",
   "execution_count": 5,
   "id": "70dce409",
   "metadata": {},
   "outputs": [],
   "source": [
    "ingoing=True #change to False to get the outgoing radiation case"
   ]
  },
  {
   "cell_type": "code",
   "execution_count": 6,
   "id": "2c1cfcec-a4d0-46b6-8b0b-29b59edb08bb",
   "metadata": {},
   "outputs": [
    {
     "data": {
      "text/html": [
       "<html>\\(\\displaystyle g = \\left( \\Lambda\\left(r, {\\theta}\\right)^{\\frac{2}{a^{2} + 1}} {\\left(\\frac{2 \\, m\\left(u\\right)}{r} - 1\\right)} \\right) \\mathrm{d} u\\otimes \\mathrm{d} u + \\left( \\Lambda\\left(r, {\\theta}\\right)^{\\frac{2}{a^{2} + 1}} \\right) \\mathrm{d} u\\otimes \\mathrm{d} r + \\left( \\Lambda\\left(r, {\\theta}\\right)^{\\frac{2}{a^{2} + 1}} \\right) \\mathrm{d} r\\otimes \\mathrm{d} u + \\left( r^{2} \\Lambda\\left(r, {\\theta}\\right)^{\\frac{2}{a^{2} + 1}} \\right) \\mathrm{d} {\\theta}\\otimes \\mathrm{d} {\\theta} + \\left( \\frac{r^{2} \\sin\\left({\\theta}\\right)^{2}}{\\Lambda\\left(r, {\\theta}\\right)^{\\frac{2}{a^{2} + 1}}} \\right) \\mathrm{d} {\\varphi}\\otimes \\mathrm{d} {\\varphi}\\)</html>"
      ],
      "text/latex": [
       "$\\displaystyle g = \\left( \\Lambda\\left(r, {\\theta}\\right)^{\\frac{2}{a^{2} + 1}} {\\left(\\frac{2 \\, m\\left(u\\right)}{r} - 1\\right)} \\right) \\mathrm{d} u\\otimes \\mathrm{d} u + \\left( \\Lambda\\left(r, {\\theta}\\right)^{\\frac{2}{a^{2} + 1}} \\right) \\mathrm{d} u\\otimes \\mathrm{d} r + \\left( \\Lambda\\left(r, {\\theta}\\right)^{\\frac{2}{a^{2} + 1}} \\right) \\mathrm{d} r\\otimes \\mathrm{d} u + \\left( r^{2} \\Lambda\\left(r, {\\theta}\\right)^{\\frac{2}{a^{2} + 1}} \\right) \\mathrm{d} {\\theta}\\otimes \\mathrm{d} {\\theta} + \\left( \\frac{r^{2} \\sin\\left({\\theta}\\right)^{2}}{\\Lambda\\left(r, {\\theta}\\right)^{\\frac{2}{a^{2} + 1}}} \\right) \\mathrm{d} {\\varphi}\\otimes \\mathrm{d} {\\varphi}$"
      ],
      "text/plain": [
       "g = Lambda(r, th)^(2/(a^2 + 1))*(2*m(u)/r - 1) du⊗du + Lambda(r, th)^(2/(a^2 + 1)) du⊗dr + Lambda(r, th)^(2/(a^2 + 1)) dr⊗du + r^2*Lambda(r, th)^(2/(a^2 + 1)) dth⊗dth + r^2*sin(th)^2/Lambda(r, th)^(2/(a^2 + 1)) dph⊗dph"
      ]
     },
     "execution_count": 6,
     "metadata": {},
     "output_type": "execute_result"
    }
   ],
   "source": [
    "if ingoing: \n",
    "    eps=1\n",
    "else:\n",
    "    eps=-1\n",
    "    \n",
    "############################\n",
    "#   Functions & variables  #\n",
    "############################\n",
    "\n",
    "m = function('m')\n",
    "\n",
    "Lambda = function('Lambda')\n",
    "B = var('B')\n",
    "a = var('a')\n",
    "\n",
    "g = M.metric()\n",
    "g[0,0] = -(1 - 2*m(u)/r) * Lambda(r,th)**(2/(1+a**2))\n",
    "g[0,1] =  eps*Lambda(r,th)**(2/(1+a**2))\n",
    "g[2,2] = r**2 * Lambda(r,th)**(2/(1+a**2))\n",
    "g[3,3] = (r*sin(th))**2 / Lambda(r,th)**(2/(1+a**2))\n",
    "\n",
    "Lamb(r, th) = 1 + (1+a**2) / 4 * B**2 * (r*sin(th))**2\n",
    "\n",
    "g.display()"
   ]
  },
  {
   "cell_type": "code",
   "execution_count": 7,
   "id": "f8f39cdf",
   "metadata": {},
   "outputs": [],
   "source": [
    "Phi = M.scalar_field({XN: a / (1+a**2) * log(Lambda(r,th))}, name=r'\\phi') \n",
    "Psi = M.scalar_field({XN: exp(2*a*Phi).expr()}, name=r'\\Psi')"
   ]
  },
  {
   "cell_type": "markdown",
   "id": "ea3bd2ed-75b7-46fa-9f6c-8399c802dab8",
   "metadata": {},
   "source": [
    "## I.1 The wave vector $k$"
   ]
  },
  {
   "cell_type": "code",
   "execution_count": 8,
   "id": "9bf6fa43-b555-485f-8e36-e78dd26a2dfe",
   "metadata": {},
   "outputs": [
    {
     "data": {
      "text/html": [
       "<html>\\(\\displaystyle \\left(M, \\left(\\mathrm{d} u,\\mathrm{d} r,\\mathrm{d} {\\theta},\\mathrm{d} {\\varphi}\\right)\\right)\\)</html>"
      ],
      "text/latex": [
       "$\\displaystyle \\left(M, \\left(\\mathrm{d} u,\\mathrm{d} r,\\mathrm{d} {\\theta},\\mathrm{d} {\\varphi}\\right)\\right)$"
      ],
      "text/plain": [
       "Coordinate coframe (M, (du,dr,dth,dph))"
      ]
     },
     "execution_count": 8,
     "metadata": {},
     "output_type": "execute_result"
    }
   ],
   "source": [
    "XN.coframe()"
   ]
  },
  {
   "cell_type": "code",
   "execution_count": 9,
   "id": "3a66675d-57b8-458c-a11b-b21a18c4dca1",
   "metadata": {},
   "outputs": [
    {
     "data": {
      "text/html": [
       "<html>\\(\\displaystyle \\mathrm{d} u = \\mathrm{d} u\\)</html>"
      ],
      "text/latex": [
       "$\\displaystyle \\mathrm{d} u = \\mathrm{d} u$"
      ],
      "text/plain": [
       "du = du"
      ]
     },
     "execution_count": 9,
     "metadata": {},
     "output_type": "execute_result"
    }
   ],
   "source": [
    "du = XN.coframe()[0]\n",
    "du.display()"
   ]
  },
  {
   "cell_type": "code",
   "execution_count": 10,
   "id": "351d3d1e-e65a-4104-984a-4dccca15fcc4",
   "metadata": {},
   "outputs": [
    {
     "data": {
      "text/html": [
       "<html>\\(\\displaystyle k = \\left( -\\frac{1}{\\Lambda\\left(r, {\\theta}\\right)^{\\frac{2}{a^{2} + 1}}} \\right) \\frac{\\partial}{\\partial r }\\)</html>"
      ],
      "text/latex": [
       "$\\displaystyle k = \\left( -\\frac{1}{\\Lambda\\left(r, {\\theta}\\right)^{\\frac{2}{a^{2} + 1}}} \\right) \\frac{\\partial}{\\partial r }$"
      ],
      "text/plain": [
       "k = -1/Lambda(r, th)^(2/(a^2 + 1)) ∂/∂r"
      ]
     },
     "execution_count": 10,
     "metadata": {},
     "output_type": "execute_result"
    }
   ],
   "source": [
    "k = - du.up(g)\n",
    "k.set_name('k')\n",
    "k.display()"
   ]
  },
  {
   "cell_type": "markdown",
   "id": "8e01ce44",
   "metadata": {},
   "source": [
    "Let's check that the metric field is sourced by a conformally invariant (null) field ($k_\\sigma k^\\sigma =0$). "
   ]
  },
  {
   "cell_type": "code",
   "execution_count": 11,
   "id": "6427ea35-ceba-4778-b06a-eafb2bb048bb",
   "metadata": {},
   "outputs": [
    {
     "data": {
      "text/html": [
       "<html>\\(\\displaystyle 0\\)</html>"
      ],
      "text/latex": [
       "$\\displaystyle 0$"
      ],
      "text/plain": [
       "0"
      ]
     },
     "execution_count": 11,
     "metadata": {},
     "output_type": "execute_result"
    }
   ],
   "source": [
    "g(k, k).expr()"
   ]
  },
  {
   "cell_type": "markdown",
   "id": "98d72d5f",
   "metadata": {},
   "source": [
    "And"
   ]
  },
  {
   "cell_type": "code",
   "execution_count": 12,
   "id": "ab75a595-a9dc-4c72-aed3-55edbed5d642",
   "metadata": {},
   "outputs": [
    {
     "data": {
      "text/html": [
       "<html>\\(\\displaystyle 0\\)</html>"
      ],
      "text/latex": [
       "$\\displaystyle 0$"
      ],
      "text/plain": [
       "0"
      ]
     },
     "execution_count": 12,
     "metadata": {},
     "output_type": "execute_result"
    }
   ],
   "source": [
    "nabla = g.connection()\n",
    "acc = nabla(k).contract(k)\n",
    "acc.display()"
   ]
  },
  {
   "cell_type": "markdown",
   "id": "a969a0ec-d280-4bf7-b675-2cc80f303f2f",
   "metadata": {},
   "source": [
    "## I.2 Ingoing Eddington-Finkelstein coordinates $(t,r,\\theta,\\varphi)$ \n",
    "\n",
    "Let us introduce a new chart $(t,r,\\theta,\\varphi)$ such that the advanced time $t+\\epsilon r$ is $\\xi$: $\\xi = t + \\epsilon r$; this is the \n",
    "analog of **ingoing/outgoing Eddington-Finkelstein (IEF) coordinates** in Schwarzschild spacetime."
   ]
  },
  {
   "cell_type": "code",
   "execution_count": 13,
   "id": "5834ded5-88ed-4aa9-95b1-3720978270eb",
   "metadata": {},
   "outputs": [
    {
     "data": {
      "text/html": [
       "<html>\\(\\displaystyle \\left(M,(t, r, {\\theta}, {\\varphi})\\right)\\)</html>"
      ],
      "text/latex": [
       "$\\displaystyle \\left(M,(t, r, {\\theta}, {\\varphi})\\right)$"
      ],
      "text/plain": [
       "Chart (M, (t, r, th, ph))"
      ]
     },
     "execution_count": 13,
     "metadata": {},
     "output_type": "execute_result"
    }
   ],
   "source": [
    "X.<t,r,th,ph> = M.chart(r't r:(0,+oo) th:(0,pi):\\theta ph:(0,2*pi):\\varphi:periodic')\n",
    "X"
   ]
  },
  {
   "cell_type": "code",
   "execution_count": 14,
   "id": "e118c8b9-ae34-4c4a-be84-76b9badbbcb7",
   "metadata": {},
   "outputs": [
    {
     "data": {
      "text/html": [
       "<html>\\(\\displaystyle t :\\ \\left( -\\infty, +\\infty \\right) ;\\quad r :\\ \\left( 0 , +\\infty \\right) ;\\quad {\\theta} :\\ \\left( 0 , \\pi \\right) ;\\quad {\\varphi} :\\ \\left[ 0 , 2 \\, \\pi \\right] \\text{(periodic)}\\)</html>"
      ],
      "text/latex": [
       "$\\displaystyle t :\\ \\left( -\\infty, +\\infty \\right) ;\\quad r :\\ \\left( 0 , +\\infty \\right) ;\\quad {\\theta} :\\ \\left( 0 , \\pi \\right) ;\\quad {\\varphi} :\\ \\left[ 0 , 2 \\, \\pi \\right] \\text{(periodic)}$"
      ],
      "text/plain": [
       "t: (-oo, +oo); r: (0, +oo); th: (0, pi); ph: [0, 2*pi] (periodic)"
      ]
     },
     "execution_count": 14,
     "metadata": {},
     "output_type": "execute_result"
    }
   ],
   "source": [
    "X.coord_range()"
   ]
  },
  {
   "cell_type": "code",
   "execution_count": 15,
   "id": "275839be-5658-42bc-96e4-4fcd8c7bfd0e",
   "metadata": {},
   "outputs": [
    {
     "data": {
      "text/html": [
       "<html>\\(\\displaystyle \\left\\{\\begin{array}{lcl} u & = & r + t \\\\ r & = & r \\\\ {\\theta} & = & {\\theta} \\\\ {\\varphi} & = & {\\varphi} \\end{array}\\right.\\)</html>"
      ],
      "text/latex": [
       "$\\displaystyle \\left\\{\\begin{array}{lcl} u & = & r + t \\\\ r & = & r \\\\ {\\theta} & = & {\\theta} \\\\ {\\varphi} & = & {\\varphi} \\end{array}\\right.$"
      ],
      "text/plain": [
       "u = r + t\n",
       "r = r\n",
       "th = th\n",
       "ph = ph"
      ]
     },
     "execution_count": 15,
     "metadata": {},
     "output_type": "execute_result"
    }
   ],
   "source": [
    "X_to_XN = X.transition_map(XN, (t + eps*r, r, th, ph))\n",
    "X_to_XN.display()"
   ]
  },
  {
   "cell_type": "code",
   "execution_count": 16,
   "id": "ae029154-f0f6-4113-822e-db43d520d60d",
   "metadata": {},
   "outputs": [
    {
     "data": {
      "text/html": [
       "<html>\\(\\displaystyle \\left\\{\\begin{array}{lcl} t & = & -r + u \\\\ r & = & r \\\\ {\\theta} & = & {\\theta} \\\\ {\\varphi} & = & {\\varphi} \\end{array}\\right.\\)</html>"
      ],
      "text/latex": [
       "$\\displaystyle \\left\\{\\begin{array}{lcl} t & = & -r + u \\\\ r & = & r \\\\ {\\theta} & = & {\\theta} \\\\ {\\varphi} & = & {\\varphi} \\end{array}\\right.$"
      ],
      "text/plain": [
       "t = -r + u\n",
       "r = r\n",
       "th = th\n",
       "ph = ph"
      ]
     },
     "execution_count": 16,
     "metadata": {},
     "output_type": "execute_result"
    }
   ],
   "source": [
    "X_to_XN.inverse().display()"
   ]
  },
  {
   "cell_type": "code",
   "execution_count": 17,
   "id": "6beb4ebe-da4b-43b4-b5dd-08909c24a03c",
   "metadata": {},
   "outputs": [],
   "source": [
    "M.set_default_chart(X)\n",
    "M.set_default_frame(X.frame())"
   ]
  },
  {
   "cell_type": "code",
   "execution_count": 18,
   "id": "5c76515f-381b-47e5-867c-87509c0f4ac3",
   "metadata": {},
   "outputs": [
    {
     "data": {
      "text/html": [
       "<html>\\(\\displaystyle g = \\left( -\\frac{r \\Lambda\\left(r, {\\theta}\\right)^{\\frac{2}{a^{2} + 1}} - 2 \\, \\Lambda\\left(r, {\\theta}\\right)^{\\frac{2}{a^{2} + 1}} m\\left(r + t\\right)}{r} \\right) \\mathrm{d} t\\otimes \\mathrm{d} t + \\left( \\frac{2 \\, \\Lambda\\left(r, {\\theta}\\right)^{\\frac{2}{a^{2} + 1}} m\\left(r + t\\right)}{r} \\right) \\mathrm{d} t\\otimes \\mathrm{d} r + \\left( \\frac{2 \\, \\Lambda\\left(r, {\\theta}\\right)^{\\frac{2}{a^{2} + 1}} m\\left(r + t\\right)}{r} \\right) \\mathrm{d} r\\otimes \\mathrm{d} t + \\left( \\frac{r \\Lambda\\left(r, {\\theta}\\right)^{\\frac{2}{a^{2} + 1}} + 2 \\, \\Lambda\\left(r, {\\theta}\\right)^{\\frac{2}{a^{2} + 1}} m\\left(r + t\\right)}{r} \\right) \\mathrm{d} r\\otimes \\mathrm{d} r + \\left( r^{2} \\Lambda\\left(r, {\\theta}\\right)^{\\frac{2}{a^{2} + 1}} \\right) \\mathrm{d} {\\theta}\\otimes \\mathrm{d} {\\theta} + \\left( \\frac{r^{2} \\sin\\left({\\theta}\\right)^{2}}{\\Lambda\\left(r, {\\theta}\\right)^{\\frac{2}{a^{2} + 1}}} \\right) \\mathrm{d} {\\varphi}\\otimes \\mathrm{d} {\\varphi}\\)</html>"
      ],
      "text/latex": [
       "$\\displaystyle g = \\left( -\\frac{r \\Lambda\\left(r, {\\theta}\\right)^{\\frac{2}{a^{2} + 1}} - 2 \\, \\Lambda\\left(r, {\\theta}\\right)^{\\frac{2}{a^{2} + 1}} m\\left(r + t\\right)}{r} \\right) \\mathrm{d} t\\otimes \\mathrm{d} t + \\left( \\frac{2 \\, \\Lambda\\left(r, {\\theta}\\right)^{\\frac{2}{a^{2} + 1}} m\\left(r + t\\right)}{r} \\right) \\mathrm{d} t\\otimes \\mathrm{d} r + \\left( \\frac{2 \\, \\Lambda\\left(r, {\\theta}\\right)^{\\frac{2}{a^{2} + 1}} m\\left(r + t\\right)}{r} \\right) \\mathrm{d} r\\otimes \\mathrm{d} t + \\left( \\frac{r \\Lambda\\left(r, {\\theta}\\right)^{\\frac{2}{a^{2} + 1}} + 2 \\, \\Lambda\\left(r, {\\theta}\\right)^{\\frac{2}{a^{2} + 1}} m\\left(r + t\\right)}{r} \\right) \\mathrm{d} r\\otimes \\mathrm{d} r + \\left( r^{2} \\Lambda\\left(r, {\\theta}\\right)^{\\frac{2}{a^{2} + 1}} \\right) \\mathrm{d} {\\theta}\\otimes \\mathrm{d} {\\theta} + \\left( \\frac{r^{2} \\sin\\left({\\theta}\\right)^{2}}{\\Lambda\\left(r, {\\theta}\\right)^{\\frac{2}{a^{2} + 1}}} \\right) \\mathrm{d} {\\varphi}\\otimes \\mathrm{d} {\\varphi}$"
      ],
      "text/plain": [
       "g = -(r*Lambda(r, th)^(2/(a^2 + 1)) - 2*Lambda(r, th)^(2/(a^2 + 1))*m(r + t))/r dt⊗dt + 2*Lambda(r, th)^(2/(a^2 + 1))*m(r + t)/r dt⊗dr + 2*Lambda(r, th)^(2/(a^2 + 1))*m(r + t)/r dr⊗dt + (r*Lambda(r, th)^(2/(a^2 + 1)) + 2*Lambda(r, th)^(2/(a^2 + 1))*m(r + t))/r dr⊗dr + r^2*Lambda(r, th)^(2/(a^2 + 1)) dth⊗dth + r^2*sin(th)^2/Lambda(r, th)^(2/(a^2 + 1)) dph⊗dph"
      ]
     },
     "execution_count": 18,
     "metadata": {},
     "output_type": "execute_result"
    }
   ],
   "source": [
    "g.display()"
   ]
  },
  {
   "cell_type": "markdown",
   "id": "8835b227-7409-4744-83e2-6800214aa39d",
   "metadata": {},
   "source": [
    "# II. The vector potential"
   ]
  },
  {
   "cell_type": "code",
   "execution_count": 45,
   "id": "53b10cc5-61b2-4f60-a6da-da5336a95d09",
   "metadata": {},
   "outputs": [
    {
     "data": {
      "text/html": [
       "<html>\\(\\displaystyle A = -{\\left(B r - 2 \\, B m\\left(r + t\\right)\\right)} \\cos\\left({\\theta}\\right) \\mathrm{d} t + 2 \\, B \\cos\\left({\\theta}\\right) m\\left(r + t\\right) \\mathrm{d} r\\)</html>"
      ],
      "text/latex": [
       "$\\displaystyle A = -{\\left(B r - 2 \\, B m\\left(r + t\\right)\\right)} \\cos\\left({\\theta}\\right) \\mathrm{d} t + 2 \\, B \\cos\\left({\\theta}\\right) m\\left(r + t\\right) \\mathrm{d} r$"
      ],
      "text/plain": [
       "A = -(B*r - 2*B*m(r + t))*cos(th) dt + 2*B*cos(th)*m(r + t) dr"
      ]
     },
     "metadata": {},
     "output_type": "display_data"
    }
   ],
   "source": [
    "pot_vec = M.tensor_field(0,1,name='A')\n",
    "pot_vec[0]=-B*cos(th)*r+m(u)*2*B*cos(th)\n",
    "pot_vec[1]=2*eps*B*cos(th)*m(u)\n",
    "pot_vec[2]=0\n",
    "pot_vec[3]=0\n",
    "\n",
    "\n",
    "show(pot_vec.display())"
   ]
  },
  {
   "cell_type": "code",
   "execution_count": 46,
   "id": "feb89e76-7650-4413-a9c6-b03f056ff184",
   "metadata": {},
   "outputs": [],
   "source": [
    "nab = g.connection(name=r'\\nabla')"
   ]
  },
  {
   "cell_type": "code",
   "execution_count": 47,
   "id": "a99821d1-5713-409a-9f1d-e1a31ae93289",
   "metadata": {},
   "outputs": [
    {
     "data": {
      "text/html": [
       "<html>\\(\\displaystyle F = B \\cos\\left({\\theta}\\right) \\mathrm{d} t\\wedge \\mathrm{d} r -{\\left(B r - 2 \\, B m\\left(r + t\\right)\\right)} \\sin\\left({\\theta}\\right) \\mathrm{d} t\\wedge \\mathrm{d} {\\theta} + 2 \\, B m\\left(r + t\\right) \\sin\\left({\\theta}\\right) \\mathrm{d} r\\wedge \\mathrm{d} {\\theta}\\)</html>"
      ],
      "text/latex": [
       "$\\displaystyle F = B \\cos\\left({\\theta}\\right) \\mathrm{d} t\\wedge \\mathrm{d} r -{\\left(B r - 2 \\, B m\\left(r + t\\right)\\right)} \\sin\\left({\\theta}\\right) \\mathrm{d} t\\wedge \\mathrm{d} {\\theta} + 2 \\, B m\\left(r + t\\right) \\sin\\left({\\theta}\\right) \\mathrm{d} r\\wedge \\mathrm{d} {\\theta}$"
      ],
      "text/plain": [
       "F = B*cos(th) dt∧dr - (B*r - 2*B*m(r + t))*sin(th) dt∧dth + 2*B*m(r + t)*sin(th) dr∧dth"
      ]
     },
     "execution_count": 47,
     "metadata": {},
     "output_type": "execute_result"
    }
   ],
   "source": [
    "DF = nab(pot_vec)\n",
    "\n",
    "F = diff(pot_vec)\n",
    "F.set_name('F')\n",
    "Fuu = F.up(g)\n",
    "F.display()"
   ]
  },
  {
   "cell_type": "code",
   "execution_count": 48,
   "id": "9b7a28d8",
   "metadata": {},
   "outputs": [
    {
     "data": {
      "text/html": [
       "<html>\\(\\displaystyle E^{\\mu} =  \\left[0, B \\cos\\left({\\theta}\\right), -{\\left(B r - 2 \\, B m\\left(r + t\\right)\\right)} \\sin\\left({\\theta}\\right), 0\\right]\\)</html>"
      ],
      "text/latex": [
       "$\\displaystyle E^{\\mu} =  \\left[0, B \\cos\\left({\\theta}\\right), -{\\left(B r - 2 \\, B m\\left(r + t\\right)\\right)} \\sin\\left({\\theta}\\right), 0\\right]$"
      ],
      "text/plain": [
       "E^{\\mu} =  [0, B*cos(th), -(B*r - 2*B*m(r + t))*sin(th), 0]"
      ]
     },
     "metadata": {},
     "output_type": "display_data"
    }
   ],
   "source": [
    "E_elec = M.tensor_field(1,0)\n",
    "for i in [1, 2, 3]:  \n",
    "    E_elec[i] = F[0, i].expr().substitute_function(Lambda,Lamb).canonicalize_radical() \n",
    "show(LatexExpr(r'E^{\\mu} = '),E_elec[:])"
   ]
  },
  {
   "cell_type": "markdown",
   "id": "18ea1a14-df28-46d8-ba19-220cc69a282e",
   "metadata": {},
   "source": [
    "# III. Equations verification"
   ]
  },
  {
   "cell_type": "markdown",
   "id": "c8f573df",
   "metadata": {},
   "source": [
    "## III. 1 Verification of the Maxwell equations $\\bigtriangledown_{\\mu}(e^{-2\\alpha\\Phi}F^{\\mu\\nu})=0$"
   ]
  },
  {
   "cell_type": "code",
   "execution_count": 49,
   "id": "f518a9ca-c3f7-47a8-9f9b-a89e4d2fc9d9",
   "metadata": {},
   "outputs": [
    {
     "data": {
      "text/html": [
       "<html>\\(\\displaystyle \\bigtriangledown_{\\mu}(e^{-2\\alpha\\Phi}F^{\\mu\\nu}) =  \\left[0, 0, 0, 0\\right]\\)</html>"
      ],
      "text/latex": [
       "$\\displaystyle \\bigtriangledown_{\\mu}(e^{-2\\alpha\\Phi}F^{\\mu\\nu}) =  \\left[0, 0, 0, 0\\right]$"
      ],
      "text/plain": [
       "\\bigtriangledown_{\\mu}(e^{-2\\alpha\\Phi}F^{\\mu\\nu}) =  [0, 0, 0, 0]"
      ]
     },
     "metadata": {},
     "output_type": "display_data"
    }
   ],
   "source": [
    "eq1 = nab(Fuu / Psi)\n",
    "eq = eq1['^a._a']\n",
    "eq.apply_map(lambda f :f.substitute_function(Lambda,Lamb))\n",
    "latex_str = r'\\bigtriangledown_{\\mu}(e^{-2\\alpha\\Phi}F^{\\mu\\nu}) = ' \n",
    "show(LatexExpr(latex_str), eq[:])"
   ]
  },
  {
   "cell_type": "markdown",
   "id": "c194ddd4-bd60-41eb-afbe-1ac990272819",
   "metadata": {},
   "source": [
    "## III. 2 Verification of the equation $\\bigtriangledown^{2}\\Phi+\\frac{\\alpha}{2}e^{-2\\alpha\\Phi}F^{2}=0$ "
   ]
  },
  {
   "cell_type": "code",
   "execution_count": 50,
   "id": "55cbd9ae-ef39-42ef-9007-981045621145",
   "metadata": {},
   "outputs": [],
   "source": [
    "F2 = F['_ab']*Fuu['^ab']"
   ]
  },
  {
   "cell_type": "code",
   "execution_count": 51,
   "id": "2a128e70-ff30-4180-8724-aa027948303d",
   "metadata": {},
   "outputs": [],
   "source": [
    "eq2_1 = Phi.dalembertian()"
   ]
  },
  {
   "cell_type": "code",
   "execution_count": 52,
   "id": "e45cd47f-e269-4e00-9bc6-028bab8c49f0",
   "metadata": {},
   "outputs": [],
   "source": [
    "eq2_2 = (a/2)*F2 / Psi "
   ]
  },
  {
   "cell_type": "code",
   "execution_count": 53,
   "id": "e9d2d38d-c1d5-4fe2-acd2-75c65e64d1b4",
   "metadata": {},
   "outputs": [],
   "source": [
    "eq2 = eq2_1 + eq2_2"
   ]
  },
  {
   "cell_type": "code",
   "execution_count": 54,
   "id": "87fdf2be-6355-4bdb-b992-1a637ba796d6",
   "metadata": {},
   "outputs": [
    {
     "data": {
      "text/html": [
       "<html>\\(\\displaystyle \\bigtriangledown^{2}\\Phi+\\frac{\\alpha}{2}e^{-2\\alpha\\Phi}F^{2} =  0\\)</html>"
      ],
      "text/latex": [
       "$\\displaystyle \\bigtriangledown^{2}\\Phi+\\frac{\\alpha}{2}e^{-2\\alpha\\Phi}F^{2} =  0$"
      ],
      "text/plain": [
       "\\bigtriangledown^{2}\\Phi+\\frac{\\alpha}{2}e^{-2\\alpha\\Phi}F^{2} =  0"
      ]
     },
     "metadata": {},
     "output_type": "display_data"
    }
   ],
   "source": [
    "eq_num = numerator(eq2.expr().substitute_function(Lambda,Lamb)).factor()\n",
    "eq_num = eq_num.simplify_full()\n",
    "latex_str = r'\\bigtriangledown^{2}\\Phi+\\frac{\\alpha}{2}e^{-2\\alpha\\Phi}F^{2} = '\n",
    "show(LatexExpr(latex_str), eq_num.canonicalize_radical().factor())"
   ]
  },
  {
   "cell_type": "markdown",
   "id": "dd51ad7f-d3b8-44a1-819b-d815f56b1574",
   "metadata": {},
   "source": [
    "## III. 3 Verification of the main motion equation $R_{\\mu\\nu}=2\\triangledown_{\\mu}\\Phi\\triangledown_{\\nu}\\Phi+\\frac{T_{\\mu\\nu}}{\\Psi}$"
   ]
  },
  {
   "cell_type": "code",
   "execution_count": 55,
   "id": "c900676e-f589-4ac4-97e6-6fc374723530",
   "metadata": {},
   "outputs": [
    {
     "data": {
      "text/html": [
       "<html>\\(\\displaystyle \\frac{\\partial}{\\partial u}m\\left(u\\right)\\)</html>"
      ],
      "text/latex": [
       "$\\displaystyle \\frac{\\partial}{\\partial u}m\\left(u\\right)$"
      ],
      "text/plain": [
       "diff(m(u), u)"
      ]
     },
     "execution_count": 55,
     "metadata": {},
     "output_type": "execute_result"
    }
   ],
   "source": [
    "mp(u) = diff(m(u), u)\n",
    "mp(u)"
   ]
  },
  {
   "cell_type": "code",
   "execution_count": 56,
   "id": "7d10b44b-4c6e-4a72-82dc-a04cdfefdbe7",
   "metadata": {},
   "outputs": [],
   "source": [
    "T1 = 2*eps*mp(t+eps*r)/r^2 * Psi * du*du "
   ]
  },
  {
   "cell_type": "code",
   "execution_count": 57,
   "id": "4ab7fa1f",
   "metadata": {},
   "outputs": [
    {
     "data": {
      "text/html": [
       "<html>\\(\\displaystyle \\left( \\frac{2 \\, \\Lambda\\left(r, {\\theta}\\right)^{\\frac{2 \\, a^{2}}{a^{2} + 1}} \\frac{\\partial\\,m}{\\partial \\left( r + t \\right)}}{r^{2}} \\right) \\mathrm{d} t\\otimes \\mathrm{d} t + \\left( \\frac{2 \\, \\Lambda\\left(r, {\\theta}\\right)^{\\frac{2 \\, a^{2}}{a^{2} + 1}} \\frac{\\partial\\,m}{\\partial \\left( r + t \\right)}}{r^{2}} \\right) \\mathrm{d} t\\otimes \\mathrm{d} r + \\left( \\frac{2 \\, \\Lambda\\left(r, {\\theta}\\right)^{\\frac{2 \\, a^{2}}{a^{2} + 1}} \\frac{\\partial\\,m}{\\partial \\left( r + t \\right)}}{r^{2}} \\right) \\mathrm{d} r\\otimes \\mathrm{d} t + \\left( \\frac{2 \\, \\Lambda\\left(r, {\\theta}\\right)^{\\frac{2 \\, a^{2}}{a^{2} + 1}} \\frac{\\partial\\,m}{\\partial \\left( r + t \\right)}}{r^{2}} \\right) \\mathrm{d} r\\otimes \\mathrm{d} r\\)</html>"
      ],
      "text/latex": [
       "$\\displaystyle \\left( \\frac{2 \\, \\Lambda\\left(r, {\\theta}\\right)^{\\frac{2 \\, a^{2}}{a^{2} + 1}} \\frac{\\partial\\,m}{\\partial \\left( r + t \\right)}}{r^{2}} \\right) \\mathrm{d} t\\otimes \\mathrm{d} t + \\left( \\frac{2 \\, \\Lambda\\left(r, {\\theta}\\right)^{\\frac{2 \\, a^{2}}{a^{2} + 1}} \\frac{\\partial\\,m}{\\partial \\left( r + t \\right)}}{r^{2}} \\right) \\mathrm{d} t\\otimes \\mathrm{d} r + \\left( \\frac{2 \\, \\Lambda\\left(r, {\\theta}\\right)^{\\frac{2 \\, a^{2}}{a^{2} + 1}} \\frac{\\partial\\,m}{\\partial \\left( r + t \\right)}}{r^{2}} \\right) \\mathrm{d} r\\otimes \\mathrm{d} t + \\left( \\frac{2 \\, \\Lambda\\left(r, {\\theta}\\right)^{\\frac{2 \\, a^{2}}{a^{2} + 1}} \\frac{\\partial\\,m}{\\partial \\left( r + t \\right)}}{r^{2}} \\right) \\mathrm{d} r\\otimes \\mathrm{d} r$"
      ],
      "text/plain": [
       "2*Lambda(r, th)^(2*a^2/(a^2 + 1))*d(m)/d(r + t)/r^2 dt⊗dt + 2*Lambda(r, th)^(2*a^2/(a^2 + 1))*d(m)/d(r + t)/r^2 dt⊗dr + 2*Lambda(r, th)^(2*a^2/(a^2 + 1))*d(m)/d(r + t)/r^2 dr⊗dt + 2*Lambda(r, th)^(2*a^2/(a^2 + 1))*d(m)/d(r + t)/r^2 dr⊗dr"
      ]
     },
     "execution_count": 57,
     "metadata": {},
     "output_type": "execute_result"
    }
   ],
   "source": [
    "T1.display()"
   ]
  },
  {
   "cell_type": "code",
   "execution_count": 58,
   "id": "d6b417a5-ed83-4020-a813-7cc938fab3f5",
   "metadata": {},
   "outputs": [],
   "source": [
    "Fud = F.up(g,0)\n",
    "F2 = F['_ab']*Fuu['^ab']\n",
    "T2 = 2*(F['_k.']*Fud['^k_.'] - 1/4*F2*g)"
   ]
  },
  {
   "cell_type": "code",
   "execution_count": 59,
   "id": "5c503f96-637f-437f-90a0-1f65cb172523",
   "metadata": {},
   "outputs": [],
   "source": [
    "T = T1+T2\n",
    "UU=T / Psi"
   ]
  },
  {
   "cell_type": "code",
   "execution_count": 60,
   "id": "56b91f1e-55f7-465a-a1e6-b2fbedfa5ae6",
   "metadata": {},
   "outputs": [],
   "source": [
    "nab_phi = nab(Phi)\n",
    "S = 2*nab_phi*nab_phi"
   ]
  },
  {
   "cell_type": "code",
   "execution_count": 61,
   "id": "e969e7e9-1cf8-4973-91f3-e663d8402f4c",
   "metadata": {},
   "outputs": [],
   "source": [
    "RHS = UU + S"
   ]
  },
  {
   "cell_type": "code",
   "execution_count": 62,
   "id": "a5b4af50-d478-4eac-b450-d9e6a231c2e4",
   "metadata": {},
   "outputs": [],
   "source": [
    "ER_ricc = g.ricci()"
   ]
  },
  {
   "cell_type": "code",
   "execution_count": 63,
   "id": "7381e8d2-967e-4ad1-976a-827e37125b50",
   "metadata": {},
   "outputs": [],
   "source": [
    "eq3 = ER_ricc - RHS"
   ]
  },
  {
   "cell_type": "code",
   "execution_count": 64,
   "id": "ca5b2983-ea86-46a2-8ee6-e7295872ae49",
   "metadata": {},
   "outputs": [],
   "source": [
    "eq3.apply_map(lambda f :f.substitute_function(Lambda,Lamb).factor().simplify_trig())"
   ]
  },
  {
   "cell_type": "code",
   "execution_count": 65,
   "id": "828b2029-4893-415d-9f97-94b609cdb467",
   "metadata": {},
   "outputs": [
    {
     "data": {
      "text/html": [
       "<html>\\(\\displaystyle R_{\\mu\\nu}-2\\triangledown_{\\mu}\\Phi\\triangledown_{\\nu}\\Phi+\\frac{T_{\\mu\\nu}}{\\Psi} =  \\left(\\begin{array}{rrrr}\n",
       "0 & 0 & 0 & 0 \\\\\n",
       "0 & 0 & 0 & 0 \\\\\n",
       "0 & 0 & 0 & 0 \\\\\n",
       "0 & 0 & 0 & 0\n",
       "\\end{array}\\right)\\)</html>"
      ],
      "text/latex": [
       "$\\displaystyle R_{\\mu\\nu}-2\\triangledown_{\\mu}\\Phi\\triangledown_{\\nu}\\Phi+\\frac{T_{\\mu\\nu}}{\\Psi} =  \\left(\\begin{array}{rrrr}\n",
       "0 & 0 & 0 & 0 \\\\\n",
       "0 & 0 & 0 & 0 \\\\\n",
       "0 & 0 & 0 & 0 \\\\\n",
       "0 & 0 & 0 & 0\n",
       "\\end{array}\\right)$"
      ],
      "text/plain": [
       "R_{\\mu\\nu}-2\\triangledown_{\\mu}\\Phi\\triangledown_{\\nu}\\Phi+\\frac{T_{\\mu\\nu}}{\\Psi} =  [0 0 0 0]\n",
       "[0 0 0 0]\n",
       "[0 0 0 0]\n",
       "[0 0 0 0]"
      ]
     },
     "metadata": {},
     "output_type": "display_data"
    }
   ],
   "source": [
    "latex_str = r'R_{\\mu\\nu}-2\\triangledown_{\\mu}\\Phi\\triangledown_{\\nu}\\Phi+\\frac{T_{\\mu\\nu}}{\\Psi} = '\n",
    "show(LatexExpr(latex_str), eq3[:])"
   ]
  },
  {
   "cell_type": "markdown",
   "id": "0fdc77e8",
   "metadata": {},
   "source": [
    "# IN CONCLUSION, THE VAIDYA'S SOLUTION WITH AN EXTERNAL ELECTRIC CHARGE IS SOLUTION IN EMD FOR ANY ARBITRARY COUPLING"
   ]
  }
 ],
 "metadata": {
  "kernelspec": {
   "display_name": "SageMath 10.1",
   "language": "sage",
   "name": "sagemath"
  },
  "language_info": {
   "codemirror_mode": {
    "name": "ipython",
    "version": 3
   },
   "file_extension": ".py",
   "mimetype": "text/x-python",
   "name": "python",
   "nbconvert_exporter": "python",
   "pygments_lexer": "ipython3",
   "version": "3.10.12"
  }
 },
 "nbformat": 4,
 "nbformat_minor": 5
}
