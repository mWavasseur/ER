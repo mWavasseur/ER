{
 "cells": [
  {
   "cell_type": "markdown",
   "id": "7bb7f005",
   "metadata": {},
   "source": [
    "# MINEUR-VAIDYA RADIATING SOLUTIONS EMBEDDED INTO AN EXTERNAL MAGNETIC FIELD IN ER"
   ]
  },
  {
   "cell_type": "markdown",
   "id": "de20b685",
   "metadata": {},
   "source": [
    "The Vaidya radiating solutions reads as follows:\n",
    "\n",
    "\\begin{equation}\n",
    "d\\tilde{s}^2 = - \\left(1-\\frac{r_s(v)}{r} \\right) dv^2 + 2 \\epsilon dv dr + r^2 (d\\theta^2 + \\sin^2 \\theta d\\varphi^2),\n",
    "\\end{equation}\n",
    "\n",
    "in the Eddington-Finkelstein (IEF) coordinates $v:=t+\\epsilon r$ for the $\\textbf{ingoing}$ ($\\epsilon=1$) and $\\textbf{outgoing}$ ($\\epsilon=-1$) cases respectively. \n",
    "\n",
    "They are solutions to the equation of General Relativity without a cosmological constant that is sourced by a spherical symmetric electromagnetic radiation within the geometrical optics approximation:\n",
    "\n",
    "\\begin{equation}\n",
    "\\tilde{T}^{\\mu \\nu} =  \\epsilon\\frac{2r_s(v)}{r^2} k^\\mu k^\\nu,\n",
    "\\end{equation}\n",
    "with $k_\\alpha:= - \\partial_\\alpha v$. \n",
    "\n",
    "We then embbed this solution into an external magnetic field following the Dowker et al. (1994) solution generating technique. \n",
    "\n",
    "The field equations in ER are given by: \n",
    "\n",
    "\n",
    "\\begin{aligned}\n",
    "\\begin{cases}\n",
    "G_{\\mu \\nu} = \\frac{T_{\\mu \\nu}}{\\vartheta} + \\vartheta^{-2} \\left[\\nabla_\\mu \\nabla_\\nu - g_{\\mu \\nu} \\Box \\right] \\vartheta^{2}\\nonumber\\\\\n",
    "3 \\vartheta^{-2} \\Box \\vartheta^2 = \\vartheta^{-1} \\left(T - \\mathcal{L}_m \\right)\\\\ \n",
    "\\nabla_\\sigma \\left(\\vartheta F^{\\mu \\sigma} \\right)=0 \\quad \\text{with} \\quad \\boxed{\\vartheta:=-\\mathcal{L}_m/R\\nonumber}\n",
    "\\end{cases}\n",
    "\\end{aligned}\n",
    "\n",
    "In its Einstein-dilaton form, ER corresponds to a coupling between matter and gravity equals to $\\alpha=\\frac{1}{2\\sqrt{3}}$\n"
   ]
  },
  {
   "cell_type": "code",
   "execution_count": 1,
   "id": "20b437f8-845d-40e2-9f7d-4f03d25d3ced",
   "metadata": {},
   "outputs": [],
   "source": [
    "%display latex"
   ]
  },
  {
   "cell_type": "code",
   "execution_count": 2,
   "id": "8240ef05-3490-4ba6-ae7d-6448e450f805",
   "metadata": {},
   "outputs": [
    {
     "name": "stdout",
     "output_type": "stream",
     "text": [
      "4-dimensional Lorentzian manifold M\n"
     ]
    }
   ],
   "source": [
    "M = Manifold(4, 'M', structure='Lorentzian')\n",
    "print(M)"
   ]
  },
  {
   "cell_type": "code",
   "execution_count": 3,
   "id": "df985ca1-6598-4cba-bab2-837ea92eb2fc",
   "metadata": {},
   "outputs": [
    {
     "data": {
      "text/html": [
       "<html>\\(\\displaystyle \\left(M,(v, r, {\\theta}, {\\varphi})\\right)\\)</html>"
      ],
      "text/latex": [
       "$\\displaystyle \\left(M,(v, r, {\\theta}, {\\varphi})\\right)$"
      ],
      "text/plain": [
       "Chart (M, (v, r, th, ph))"
      ]
     },
     "execution_count": 3,
     "metadata": {},
     "output_type": "execute_result"
    }
   ],
   "source": [
    "XN.<v,r,th,ph> = M.chart(r'v r:(0,+oo) th:(0,pi):\\theta ph:(0,2*pi):\\varphi:periodic')\n",
    "XN"
   ]
  },
  {
   "cell_type": "code",
   "execution_count": 4,
   "id": "3df7e71b-9c3a-4e21-8864-d24eacc8b443",
   "metadata": {},
   "outputs": [
    {
     "data": {
      "text/html": [
       "<html>\\(\\displaystyle v :\\ \\left( -\\infty, +\\infty \\right) ;\\quad r :\\ \\left( 0 , +\\infty \\right) ;\\quad {\\theta} :\\ \\left( 0 , \\pi \\right) ;\\quad {\\varphi} :\\ \\left[ 0 , 2 \\, \\pi \\right] \\text{(periodic)}\\)</html>"
      ],
      "text/latex": [
       "$\\displaystyle v :\\ \\left( -\\infty, +\\infty \\right) ;\\quad r :\\ \\left( 0 , +\\infty \\right) ;\\quad {\\theta} :\\ \\left( 0 , \\pi \\right) ;\\quad {\\varphi} :\\ \\left[ 0 , 2 \\, \\pi \\right] \\text{(periodic)}$"
      ],
      "text/plain": [
       "v: (-oo, +oo); r: (0, +oo); th: (0, pi); ph: [0, 2*pi] (periodic)"
      ]
     },
     "execution_count": 4,
     "metadata": {},
     "output_type": "execute_result"
    }
   ],
   "source": [
    "XN.coord_range()"
   ]
  },
  {
   "cell_type": "markdown",
   "id": "527add47",
   "metadata": {},
   "source": [
    "# I. Definition of the metric"
   ]
  },
  {
   "cell_type": "code",
   "execution_count": 5,
   "id": "6ef12a4e",
   "metadata": {},
   "outputs": [],
   "source": [
    "ingoing=True #change to False to get the outgoing radiation case"
   ]
  },
  {
   "cell_type": "code",
   "execution_count": 6,
   "id": "2c1cfcec-a4d0-46b6-8b0b-29b59edb08bb",
   "metadata": {},
   "outputs": [
    {
     "data": {
      "text/html": [
       "<html>\\(\\displaystyle g = {\\left(\\frac{2 \\, m\\left(v\\right)}{r} - 1\\right)} \\Lambda\\left(r, {\\theta}\\right)^{\\frac{20}{13}} \\mathrm{d} v\\otimes \\mathrm{d} v + \\Lambda\\left(r, {\\theta}\\right)^{\\frac{20}{13}} \\mathrm{d} v\\otimes \\mathrm{d} r + \\Lambda\\left(r, {\\theta}\\right)^{\\frac{20}{13}} \\mathrm{d} r\\otimes \\mathrm{d} v + r^{2} \\Lambda\\left(r, {\\theta}\\right)^{\\frac{20}{13}} \\mathrm{d} {\\theta}\\otimes \\mathrm{d} {\\theta} + \\frac{r^{2} \\sin\\left({\\theta}\\right)^{2}}{\\Lambda\\left(r, {\\theta}\\right)^{\\frac{28}{13}}} \\mathrm{d} {\\varphi}\\otimes \\mathrm{d} {\\varphi}\\)</html>"
      ],
      "text/latex": [
       "$\\displaystyle g = {\\left(\\frac{2 \\, m\\left(v\\right)}{r} - 1\\right)} \\Lambda\\left(r, {\\theta}\\right)^{\\frac{20}{13}} \\mathrm{d} v\\otimes \\mathrm{d} v + \\Lambda\\left(r, {\\theta}\\right)^{\\frac{20}{13}} \\mathrm{d} v\\otimes \\mathrm{d} r + \\Lambda\\left(r, {\\theta}\\right)^{\\frac{20}{13}} \\mathrm{d} r\\otimes \\mathrm{d} v + r^{2} \\Lambda\\left(r, {\\theta}\\right)^{\\frac{20}{13}} \\mathrm{d} {\\theta}\\otimes \\mathrm{d} {\\theta} + \\frac{r^{2} \\sin\\left({\\theta}\\right)^{2}}{\\Lambda\\left(r, {\\theta}\\right)^{\\frac{28}{13}}} \\mathrm{d} {\\varphi}\\otimes \\mathrm{d} {\\varphi}$"
      ],
      "text/plain": [
       "g = (2*m(v)/r - 1)*Lambda(r, th)^(20/13) dv⊗dv + Lambda(r, th)^(20/13) dv⊗dr + Lambda(r, th)^(20/13) dr⊗dv + r^2*Lambda(r, th)^(20/13) dth⊗dth + r^2*sin(th)^2/Lambda(r, th)^(28/13) dph⊗dph"
      ]
     },
     "execution_count": 6,
     "metadata": {},
     "output_type": "execute_result"
    }
   ],
   "source": [
    "if ingoing: \n",
    "    eps=1\n",
    "else:\n",
    "    eps=-1\n",
    "    \n",
    "############################\n",
    "#   Functions & variables  #\n",
    "############################\n",
    "    \n",
    "m = function('m')\n",
    "Lambda = function('Lambda')\n",
    "B = var('B')\n",
    "\n",
    "g = M.metric()\n",
    "g[0,0] = -(1 - 2*m(v)/r) * Lambda(r,th)**(20 / 13)\n",
    "g[0,1] = eps*Lambda(r,th)**(20 / 13)\n",
    "g[2,2] = r**2 * Lambda(r,th)**(20 / 13)\n",
    "g[3,3] = (r*sin(th))**2 / Lambda(r,th)**(28 / 13)\n",
    "\n",
    "Lamb(r,th) = 1 + 13 / 48 * B**2 * (r*sin(th))**2\n",
    "\n",
    "g.display()"
   ]
  },
  {
   "cell_type": "code",
   "execution_count": 7,
   "id": "2515958a-55c4-4583-80fb-cfe1b26491bb",
   "metadata": {},
   "outputs": [],
   "source": [
    "alpha = 1 / (2*sqrt(3))\n",
    "Phi = M.scalar_field({XN:-alpha/ (1+alpha**2) * log(Lambda(r,th))}, name=r'\\phi') \n",
    "Psi = M.scalar_field({XN:1/ (Lambda(r,th))**(2*alpha**2/(1+alpha**2))}, name=r'\\Psi')\n",
    "varth = M.scalar_field({XN:Psi.expr()**(-1)}, name=r'\\vartheta') # varth=1/Psi=e^{-2*\\alpha*\\phi}"
   ]
  },
  {
   "cell_type": "code",
   "execution_count": 8,
   "id": "b91c6103-58f2-4661-af37-5b7b20f4dc17",
   "metadata": {},
   "outputs": [
    {
     "data": {
      "text/html": [
       "<html>\\(\\displaystyle \\Lambda\\left(r, {\\theta}\\right)^{\\frac{2}{13}}\\)</html>"
      ],
      "text/latex": [
       "$\\displaystyle \\Lambda\\left(r, {\\theta}\\right)^{\\frac{2}{13}}$"
      ],
      "text/plain": [
       "Lambda(r, th)^(2/13)"
      ]
     },
     "execution_count": 8,
     "metadata": {},
     "output_type": "execute_result"
    }
   ],
   "source": [
    "varth.expr()"
   ]
  },
  {
   "cell_type": "code",
   "execution_count": 9,
   "id": "d120d643-404a-4b3d-a8b2-39f0a78111f1",
   "metadata": {},
   "outputs": [],
   "source": [
    "Ric = g.ricci() #Ricci tensor\n",
    "R = g.ricci_scalar() #Ricci scalar\n",
    "G = Ric-R*g/2 #Einstein tensor"
   ]
  },
  {
   "cell_type": "markdown",
   "id": "ea3bd2ed-75b7-46fa-9f6c-8399c802dab8",
   "metadata": {},
   "source": [
    "## I.1 The wave vector $k$"
   ]
  },
  {
   "cell_type": "code",
   "execution_count": 10,
   "id": "9bf6fa43-b555-485f-8e36-e78dd26a2dfe",
   "metadata": {},
   "outputs": [
    {
     "data": {
      "text/html": [
       "<html>\\(\\displaystyle \\left(M, \\left(\\mathrm{d} v,\\mathrm{d} r,\\mathrm{d} {\\theta},\\mathrm{d} {\\varphi}\\right)\\right)\\)</html>"
      ],
      "text/latex": [
       "$\\displaystyle \\left(M, \\left(\\mathrm{d} v,\\mathrm{d} r,\\mathrm{d} {\\theta},\\mathrm{d} {\\varphi}\\right)\\right)$"
      ],
      "text/plain": [
       "Coordinate coframe (M, (dv,dr,dth,dph))"
      ]
     },
     "execution_count": 10,
     "metadata": {},
     "output_type": "execute_result"
    }
   ],
   "source": [
    "XN.coframe()"
   ]
  },
  {
   "cell_type": "code",
   "execution_count": 11,
   "id": "3a66675d-57b8-458c-a11b-b21a18c4dca1",
   "metadata": {},
   "outputs": [
    {
     "data": {
      "text/html": [
       "<html>\\(\\displaystyle \\mathrm{d} v = \\mathrm{d} v\\)</html>"
      ],
      "text/latex": [
       "$\\displaystyle \\mathrm{d} v = \\mathrm{d} v$"
      ],
      "text/plain": [
       "dv = dv"
      ]
     },
     "execution_count": 11,
     "metadata": {},
     "output_type": "execute_result"
    }
   ],
   "source": [
    "dv = XN.coframe()[0]\n",
    "dv.display()"
   ]
  },
  {
   "cell_type": "code",
   "execution_count": 12,
   "id": "351d3d1e-e65a-4104-984a-4dccca15fcc4",
   "metadata": {},
   "outputs": [
    {
     "data": {
      "text/html": [
       "<html>\\(\\displaystyle k = -\\frac{1}{\\Lambda\\left(r, {\\theta}\\right)^{\\frac{20}{13}}} \\frac{\\partial}{\\partial r }\\)</html>"
      ],
      "text/latex": [
       "$\\displaystyle k = -\\frac{1}{\\Lambda\\left(r, {\\theta}\\right)^{\\frac{20}{13}}} \\frac{\\partial}{\\partial r }$"
      ],
      "text/plain": [
       "k = -1/Lambda(r, th)^(20/13) ∂/∂r"
      ]
     },
     "execution_count": 12,
     "metadata": {},
     "output_type": "execute_result"
    }
   ],
   "source": [
    "k = - dv.up(g)\n",
    "k.set_name('k')\n",
    "k.display()"
   ]
  },
  {
   "cell_type": "markdown",
   "id": "c8d62823",
   "metadata": {},
   "source": [
    "Let's check that the metric field is sourced by a conformally invariant (null) field ($k_\\sigma k^\\sigma =0$). "
   ]
  },
  {
   "cell_type": "code",
   "execution_count": 13,
   "id": "6427ea35-ceba-4778-b06a-eafb2bb048bb",
   "metadata": {},
   "outputs": [
    {
     "data": {
      "text/html": [
       "<html>\\(\\displaystyle 0\\)</html>"
      ],
      "text/latex": [
       "$\\displaystyle 0$"
      ],
      "text/plain": [
       "0"
      ]
     },
     "execution_count": 13,
     "metadata": {},
     "output_type": "execute_result"
    }
   ],
   "source": [
    "g(k, k).expr()"
   ]
  },
  {
   "cell_type": "code",
   "execution_count": 14,
   "id": "ab75a595-a9dc-4c72-aed3-55edbed5d642",
   "metadata": {},
   "outputs": [
    {
     "data": {
      "text/html": [
       "<html>\\(\\displaystyle 0\\)</html>"
      ],
      "text/latex": [
       "$\\displaystyle 0$"
      ],
      "text/plain": [
       "0"
      ]
     },
     "execution_count": 14,
     "metadata": {},
     "output_type": "execute_result"
    }
   ],
   "source": [
    "nabla = g.connection()\n",
    "acc = nabla(k).contract(k)\n",
    "acc.display()"
   ]
  },
  {
   "cell_type": "markdown",
   "id": "3b19fc4f",
   "metadata": {},
   "source": [
    "Let's verify the Ricci scalar is zero in the limit $B\\rightarrow0$"
   ]
  },
  {
   "cell_type": "code",
   "execution_count": 15,
   "id": "da763922",
   "metadata": {},
   "outputs": [
    {
     "data": {
      "text/html": [
       "<html>\\(\\displaystyle 0\\)</html>"
      ],
      "text/latex": [
       "$\\displaystyle 0$"
      ],
      "text/plain": [
       "0"
      ]
     },
     "execution_count": 15,
     "metadata": {},
     "output_type": "execute_result"
    }
   ],
   "source": [
    "g.ricci_scalar().expr().substitute_function(Lambda,Lamb).subs(B=0).factor()"
   ]
  },
  {
   "cell_type": "markdown",
   "id": "a969a0ec-d280-4bf7-b675-2cc80f303f2f",
   "metadata": {},
   "source": [
    "## I.2 Ingoing Eddington-Finkelstein coordinates $(t,r,\\theta,\\varphi)$ \n",
    "\n",
    "Let us introduce a new chart $(t,r,\\theta,\\varphi)$ such that the advanced time $t+\\epsilon r$ is $\\xi$: $\\xi = t + \\epsilon r$; this is the \n",
    "analog of **ingoing/outgoing Eddington-Finkelstein (IEF) coordinates** in Schwarzschild spacetime."
   ]
  },
  {
   "cell_type": "code",
   "execution_count": 16,
   "id": "5834ded5-88ed-4aa9-95b1-3720978270eb",
   "metadata": {},
   "outputs": [
    {
     "data": {
      "text/html": [
       "<html>\\(\\displaystyle \\left(M,(t, r, {\\theta}, {\\varphi})\\right)\\)</html>"
      ],
      "text/latex": [
       "$\\displaystyle \\left(M,(t, r, {\\theta}, {\\varphi})\\right)$"
      ],
      "text/plain": [
       "Chart (M, (t, r, th, ph))"
      ]
     },
     "execution_count": 16,
     "metadata": {},
     "output_type": "execute_result"
    }
   ],
   "source": [
    "X.<t,r,th,ph> = M.chart(r't r:(0,+oo) th:(0,pi):\\theta ph:(0,2*pi):\\varphi:periodic')\n",
    "X"
   ]
  },
  {
   "cell_type": "code",
   "execution_count": 17,
   "id": "e118c8b9-ae34-4c4a-be84-76b9badbbcb7",
   "metadata": {},
   "outputs": [
    {
     "data": {
      "text/html": [
       "<html>\\(\\displaystyle t :\\ \\left( -\\infty, +\\infty \\right) ;\\quad r :\\ \\left( 0 , +\\infty \\right) ;\\quad {\\theta} :\\ \\left( 0 , \\pi \\right) ;\\quad {\\varphi} :\\ \\left[ 0 , 2 \\, \\pi \\right] \\text{(periodic)}\\)</html>"
      ],
      "text/latex": [
       "$\\displaystyle t :\\ \\left( -\\infty, +\\infty \\right) ;\\quad r :\\ \\left( 0 , +\\infty \\right) ;\\quad {\\theta} :\\ \\left( 0 , \\pi \\right) ;\\quad {\\varphi} :\\ \\left[ 0 , 2 \\, \\pi \\right] \\text{(periodic)}$"
      ],
      "text/plain": [
       "t: (-oo, +oo); r: (0, +oo); th: (0, pi); ph: [0, 2*pi] (periodic)"
      ]
     },
     "execution_count": 17,
     "metadata": {},
     "output_type": "execute_result"
    }
   ],
   "source": [
    "X.coord_range()"
   ]
  },
  {
   "cell_type": "code",
   "execution_count": 18,
   "id": "275839be-5658-42bc-96e4-4fcd8c7bfd0e",
   "metadata": {},
   "outputs": [
    {
     "data": {
      "text/html": [
       "<html>\\(\\displaystyle \\left\\{\\begin{array}{lcl} v & = & r + t \\\\ r & = & r \\\\ {\\theta} & = & {\\theta} \\\\ {\\varphi} & = & {\\varphi} \\end{array}\\right.\\)</html>"
      ],
      "text/latex": [
       "$\\displaystyle \\left\\{\\begin{array}{lcl} v & = & r + t \\\\ r & = & r \\\\ {\\theta} & = & {\\theta} \\\\ {\\varphi} & = & {\\varphi} \\end{array}\\right.$"
      ],
      "text/plain": [
       "v = r + t\n",
       "r = r\n",
       "th = th\n",
       "ph = ph"
      ]
     },
     "execution_count": 18,
     "metadata": {},
     "output_type": "execute_result"
    }
   ],
   "source": [
    "X_to_XN = X.transition_map(XN, (t + eps*r, r, th, ph))\n",
    "X_to_XN.display()"
   ]
  },
  {
   "cell_type": "code",
   "execution_count": 19,
   "id": "ae029154-f0f6-4113-822e-db43d520d60d",
   "metadata": {},
   "outputs": [
    {
     "data": {
      "text/html": [
       "<html>\\(\\displaystyle \\left\\{\\begin{array}{lcl} t & = & -r + v \\\\ r & = & r \\\\ {\\theta} & = & {\\theta} \\\\ {\\varphi} & = & {\\varphi} \\end{array}\\right.\\)</html>"
      ],
      "text/latex": [
       "$\\displaystyle \\left\\{\\begin{array}{lcl} t & = & -r + v \\\\ r & = & r \\\\ {\\theta} & = & {\\theta} \\\\ {\\varphi} & = & {\\varphi} \\end{array}\\right.$"
      ],
      "text/plain": [
       "t = -r + v\n",
       "r = r\n",
       "th = th\n",
       "ph = ph"
      ]
     },
     "execution_count": 19,
     "metadata": {},
     "output_type": "execute_result"
    }
   ],
   "source": [
    "X_to_XN.inverse().display()"
   ]
  },
  {
   "cell_type": "code",
   "execution_count": 20,
   "id": "6beb4ebe-da4b-43b4-b5dd-08909c24a03c",
   "metadata": {},
   "outputs": [],
   "source": [
    "M.set_default_chart(X)\n",
    "M.set_default_frame(X.frame())"
   ]
  },
  {
   "cell_type": "code",
   "execution_count": 21,
   "id": "5c76515f-381b-47e5-867c-87509c0f4ac3",
   "metadata": {},
   "outputs": [
    {
     "data": {
      "text/html": [
       "<html>\\(\\displaystyle g = -\\frac{{\\left(r \\Lambda\\left(r, {\\theta}\\right) - 2 \\, \\Lambda\\left(r, {\\theta}\\right) m\\left(r + t\\right)\\right)} \\Lambda\\left(r, {\\theta}\\right)^{\\frac{7}{13}}}{r} \\mathrm{d} t\\otimes \\mathrm{d} t + \\frac{2 \\, \\Lambda\\left(r, {\\theta}\\right)^{\\frac{20}{13}} m\\left(r + t\\right)}{r} \\mathrm{d} t\\otimes \\mathrm{d} r + \\frac{2 \\, \\Lambda\\left(r, {\\theta}\\right)^{\\frac{20}{13}} m\\left(r + t\\right)}{r} \\mathrm{d} r\\otimes \\mathrm{d} t + \\frac{{\\left(r \\Lambda\\left(r, {\\theta}\\right) + 2 \\, \\Lambda\\left(r, {\\theta}\\right) m\\left(r + t\\right)\\right)} \\Lambda\\left(r, {\\theta}\\right)^{\\frac{7}{13}}}{r} \\mathrm{d} r\\otimes \\mathrm{d} r + r^{2} \\Lambda\\left(r, {\\theta}\\right)^{\\frac{20}{13}} \\mathrm{d} {\\theta}\\otimes \\mathrm{d} {\\theta} + \\frac{r^{2} \\sin\\left({\\theta}\\right)^{2}}{\\Lambda\\left(r, {\\theta}\\right)^{\\frac{28}{13}}} \\mathrm{d} {\\varphi}\\otimes \\mathrm{d} {\\varphi}\\)</html>"
      ],
      "text/latex": [
       "$\\displaystyle g = -\\frac{{\\left(r \\Lambda\\left(r, {\\theta}\\right) - 2 \\, \\Lambda\\left(r, {\\theta}\\right) m\\left(r + t\\right)\\right)} \\Lambda\\left(r, {\\theta}\\right)^{\\frac{7}{13}}}{r} \\mathrm{d} t\\otimes \\mathrm{d} t + \\frac{2 \\, \\Lambda\\left(r, {\\theta}\\right)^{\\frac{20}{13}} m\\left(r + t\\right)}{r} \\mathrm{d} t\\otimes \\mathrm{d} r + \\frac{2 \\, \\Lambda\\left(r, {\\theta}\\right)^{\\frac{20}{13}} m\\left(r + t\\right)}{r} \\mathrm{d} r\\otimes \\mathrm{d} t + \\frac{{\\left(r \\Lambda\\left(r, {\\theta}\\right) + 2 \\, \\Lambda\\left(r, {\\theta}\\right) m\\left(r + t\\right)\\right)} \\Lambda\\left(r, {\\theta}\\right)^{\\frac{7}{13}}}{r} \\mathrm{d} r\\otimes \\mathrm{d} r + r^{2} \\Lambda\\left(r, {\\theta}\\right)^{\\frac{20}{13}} \\mathrm{d} {\\theta}\\otimes \\mathrm{d} {\\theta} + \\frac{r^{2} \\sin\\left({\\theta}\\right)^{2}}{\\Lambda\\left(r, {\\theta}\\right)^{\\frac{28}{13}}} \\mathrm{d} {\\varphi}\\otimes \\mathrm{d} {\\varphi}$"
      ],
      "text/plain": [
       "g = -(r*Lambda(r, th) - 2*Lambda(r, th)*m(r + t))*Lambda(r, th)^(7/13)/r dt⊗dt + 2*Lambda(r, th)^(20/13)*m(r + t)/r dt⊗dr + 2*Lambda(r, th)^(20/13)*m(r + t)/r dr⊗dt + (r*Lambda(r, th) + 2*Lambda(r, th)*m(r + t))*Lambda(r, th)^(7/13)/r dr⊗dr + r^2*Lambda(r, th)^(20/13) dth⊗dth + r^2*sin(th)^2/Lambda(r, th)^(28/13) dph⊗dph"
      ]
     },
     "execution_count": 21,
     "metadata": {},
     "output_type": "execute_result"
    }
   ],
   "source": [
    "g.display()"
   ]
  },
  {
   "cell_type": "markdown",
   "id": "8835b227-7409-4744-83e2-6800214aa39d",
   "metadata": {},
   "source": [
    "# II. The vector potential"
   ]
  },
  {
   "cell_type": "code",
   "execution_count": 22,
   "id": "53b10cc5-61b2-4f60-a6da-da5336a95d09",
   "metadata": {},
   "outputs": [
    {
     "data": {
      "text/html": [
       "<html>\\(\\displaystyle A = -\\frac{24}{13 \\, B \\Lambda\\left(r, {\\theta}\\right)} \\mathrm{d} {\\varphi}\\)</html>"
      ],
      "text/latex": [
       "$\\displaystyle A = -\\frac{24}{13 \\, B \\Lambda\\left(r, {\\theta}\\right)} \\mathrm{d} {\\varphi}$"
      ],
      "text/plain": [
       "A = -24/13/(B*Lambda(r, th)) dph"
      ]
     },
     "metadata": {},
     "output_type": "display_data"
    }
   ],
   "source": [
    "pot_vec = M.tensor_field(0,1,name='A')\n",
    "pot_vec[0]=0\n",
    "pot_vec[1]=0\n",
    "pot_vec[2]=0\n",
    "a = 1 / (2*sqrt(3))\n",
    "pot_vec[3]=- 2 / B / Lambda(r,th) / (1+a**2)\n",
    "\n",
    "\n",
    "show(pot_vec.display())"
   ]
  },
  {
   "cell_type": "code",
   "execution_count": 23,
   "id": "feb89e76-7650-4413-a9c6-b03f056ff184",
   "metadata": {},
   "outputs": [],
   "source": [
    "nab = g.connection(name=r'\\nabla')"
   ]
  },
  {
   "cell_type": "code",
   "execution_count": 24,
   "id": "a99821d1-5713-409a-9f1d-e1a31ae93289",
   "metadata": {},
   "outputs": [
    {
     "data": {
      "text/html": [
       "<html>\\(\\displaystyle F = \\frac{24 \\, \\frac{\\partial\\,\\Lambda}{\\partial r}}{13 \\, B \\Lambda\\left(r, {\\theta}\\right)^{2}} \\mathrm{d} r\\wedge \\mathrm{d} {\\varphi} + \\frac{24 \\, \\frac{\\partial\\,\\Lambda}{\\partial {\\theta}}}{13 \\, B \\Lambda\\left(r, {\\theta}\\right)^{2}} \\mathrm{d} {\\theta}\\wedge \\mathrm{d} {\\varphi}\\)</html>"
      ],
      "text/latex": [
       "$\\displaystyle F = \\frac{24 \\, \\frac{\\partial\\,\\Lambda}{\\partial r}}{13 \\, B \\Lambda\\left(r, {\\theta}\\right)^{2}} \\mathrm{d} r\\wedge \\mathrm{d} {\\varphi} + \\frac{24 \\, \\frac{\\partial\\,\\Lambda}{\\partial {\\theta}}}{13 \\, B \\Lambda\\left(r, {\\theta}\\right)^{2}} \\mathrm{d} {\\theta}\\wedge \\mathrm{d} {\\varphi}$"
      ],
      "text/plain": [
       "F = 24/13*d(Lambda)/dr/(B*Lambda(r, th)^2) dr∧dph + 24/13*d(Lambda)/dth/(B*Lambda(r, th)^2) dth∧dph"
      ]
     },
     "execution_count": 24,
     "metadata": {},
     "output_type": "execute_result"
    }
   ],
   "source": [
    "DF = nab(pot_vec)\n",
    "\n",
    "F = diff(pot_vec)\n",
    "F.set_name('F')\n",
    "Fuu = F.up(g)\n",
    "F.display()"
   ]
  },
  {
   "cell_type": "markdown",
   "id": "9621b8a6",
   "metadata": {},
   "source": [
    "Let's derive the corresponding magnetic field"
   ]
  },
  {
   "cell_type": "code",
   "execution_count": 25,
   "id": "626b4c53",
   "metadata": {},
   "outputs": [
    {
     "data": {
      "text/html": [
       "<html>\\(\\displaystyle \\epsilon_{c} = \\mathrm{d} r\\otimes \\mathrm{d} {\\theta}\\otimes \\mathrm{d} {\\varphi}-\\mathrm{d} r\\otimes \\mathrm{d} {\\varphi}\\otimes \\mathrm{d} {\\theta}-\\mathrm{d} {\\theta}\\otimes \\mathrm{d} r\\otimes \\mathrm{d} {\\varphi}+\\mathrm{d} {\\theta}\\otimes \\mathrm{d} {\\varphi}\\otimes \\mathrm{d} r+\\mathrm{d} {\\varphi}\\otimes \\mathrm{d} r\\otimes \\mathrm{d} {\\theta}-\\mathrm{d} {\\varphi}\\otimes \\mathrm{d} {\\theta}\\otimes \\mathrm{d} r\\)</html>"
      ],
      "text/latex": [
       "$\\displaystyle \\epsilon_{c} = \\mathrm{d} r\\otimes \\mathrm{d} {\\theta}\\otimes \\mathrm{d} {\\varphi}-\\mathrm{d} r\\otimes \\mathrm{d} {\\varphi}\\otimes \\mathrm{d} {\\theta}-\\mathrm{d} {\\theta}\\otimes \\mathrm{d} r\\otimes \\mathrm{d} {\\varphi}+\\mathrm{d} {\\theta}\\otimes \\mathrm{d} {\\varphi}\\otimes \\mathrm{d} r+\\mathrm{d} {\\varphi}\\otimes \\mathrm{d} r\\otimes \\mathrm{d} {\\theta}-\\mathrm{d} {\\varphi}\\otimes \\mathrm{d} {\\theta}\\otimes \\mathrm{d} r$"
      ],
      "text/plain": [
       "\\epsilon_{c} = dr⊗dth⊗dph - dr⊗dph⊗dth - dth⊗dr⊗dph + dth⊗dph⊗dr + dph⊗dr⊗dth - dph⊗dth⊗dr"
      ]
     },
     "execution_count": 25,
     "metadata": {},
     "output_type": "execute_result"
    }
   ],
   "source": [
    "epsilon_3D = M.tensor_field(0,3, antisymmetric=True, name=r'\\epsilon_{c}') \n",
    "epsilon_3D[1,2,3] = 1\n",
    "epsilon_3D[2,3,1] = 1\n",
    "epsilon_3D[3,1,2] = 1\n",
    "epsilon_3D[3,2,1] = -1\n",
    "epsilon_3D[2,1,3] = -1\n",
    "epsilon_3D[1,3,2] = -1\n",
    "epsilon_3D.display()"
   ]
  },
  {
   "cell_type": "code",
   "execution_count": 26,
   "id": "601cc73e",
   "metadata": {},
   "outputs": [
    {
     "data": {
      "text/html": [
       "<html>\\(\\displaystyle B^{\\mu} =  \\left[0, \\frac{24 \\, \\frac{\\partial\\,\\Lambda}{\\partial {\\theta}}}{13 \\, B \\Lambda\\left(r, {\\theta}\\right)^{2}}, -\\frac{24 \\, \\frac{\\partial\\,\\Lambda}{\\partial r}}{13 \\, B \\Lambda\\left(r, {\\theta}\\right)^{2}}, 0\\right]\\)</html>"
      ],
      "text/latex": [
       "$\\displaystyle B^{\\mu} =  \\left[0, \\frac{24 \\, \\frac{\\partial\\,\\Lambda}{\\partial {\\theta}}}{13 \\, B \\Lambda\\left(r, {\\theta}\\right)^{2}}, -\\frac{24 \\, \\frac{\\partial\\,\\Lambda}{\\partial r}}{13 \\, B \\Lambda\\left(r, {\\theta}\\right)^{2}}, 0\\right]$"
      ],
      "text/plain": [
       "B^{\\mu} =  [0,\n",
       " 24/13*d(Lambda)/dth/(B*Lambda(r, th)^2),\n",
       " -24/13*d(Lambda)/dr/(B*Lambda(r, th)^2),\n",
       " 0]"
      ]
     },
     "metadata": {},
     "output_type": "display_data"
    }
   ],
   "source": [
    "B_mag = M.tensor_field(1,0)  \n",
    "for i in [1, 2, 3]: \n",
    "    B_mag[i] = 1/2 * sum(epsilon_3D[i,j,k] * F[j,k] for j in [1,2,3] for k in [1,2,3])\n",
    "show(LatexExpr(r'B^{\\mu} = '),B_mag[:])"
   ]
  },
  {
   "cell_type": "markdown",
   "id": "64e12afd",
   "metadata": {},
   "source": [
    "# III. Equations verification"
   ]
  },
  {
   "cell_type": "markdown",
   "id": "6ac59c95",
   "metadata": {},
   "source": [
    "## III. 1 Verification of the Maxwell equations $\\bigtriangledown_{\\mu}(\\vartheta F^{\\mu\\nu})=0$"
   ]
  },
  {
   "cell_type": "code",
   "execution_count": 25,
   "id": "f518a9ca-c3f7-47a8-9f9b-a89e4d2fc9d9",
   "metadata": {},
   "outputs": [],
   "source": [
    "eq1 = nab(varth *Fuu)"
   ]
  },
  {
   "cell_type": "code",
   "execution_count": 26,
   "id": "9127bdf5-bb2a-4b9c-978f-61ed9a8119b3",
   "metadata": {},
   "outputs": [],
   "source": [
    "eq = eq1['^a._a']"
   ]
  },
  {
   "cell_type": "code",
   "execution_count": 27,
   "id": "feea0897-5e4b-4144-b4ea-83cccca5a496",
   "metadata": {},
   "outputs": [
    {
     "data": {
      "text/html": [
       "<html>\\(\\displaystyle \\bigtriangledown_{\\mu}(\\vartheta F^{\\mu\\nu}) =  \\left[0, 0, 0, 0\\right]\\)</html>"
      ],
      "text/latex": [
       "$\\displaystyle \\bigtriangledown_{\\mu}(\\vartheta F^{\\mu\\nu}) =  \\left[0, 0, 0, 0\\right]$"
      ],
      "text/plain": [
       "\\bigtriangledown_{\\mu}(\\vartheta F^{\\mu\\nu}) =  [0, 0, 0, 0]"
      ]
     },
     "metadata": {},
     "output_type": "display_data"
    }
   ],
   "source": [
    "eq.apply_map(lambda f :f.substitute_function(Lambda,Lamb))\n",
    "latex_str = r'\\bigtriangledown_{\\mu}(\\vartheta F^{\\mu\\nu}) = ' \n",
    "show(LatexExpr(latex_str), eq[:])"
   ]
  },
  {
   "cell_type": "markdown",
   "id": "dd1b52d1-940b-492a-9967-f89bcb1bd661",
   "metadata": {},
   "source": [
    "## III. 2 Verification of the scalar field expression $\\vartheta = \\frac{\\mathcal{L}_{m}}{R}$"
   ]
  },
  {
   "cell_type": "code",
   "execution_count": 28,
   "id": "041498da-9bba-4767-99b8-75bb6baa3291",
   "metadata": {},
   "outputs": [],
   "source": [
    "Lm = -F['_ij']*F.up(g)['^ij']/2"
   ]
  },
  {
   "cell_type": "code",
   "execution_count": 29,
   "id": "570f26a6-bbae-4c22-931e-0353c09d0e8d",
   "metadata": {},
   "outputs": [
    {
     "data": {
      "text/html": [
       "<html>\\(\\displaystyle \\mathcal{L}_{m} =  \\frac{2 \\, B^{2} m\\left(r + t\\right) \\sin\\left({\\theta}\\right)^{2} - B^{2} r}{{\\left(\\frac{13}{48} \\, B^{2} r^{2} \\sin\\left({\\theta}\\right)^{2} + 1\\right)}^{\\frac{44}{13}} r}\\)</html>"
      ],
      "text/latex": [
       "$\\displaystyle \\mathcal{L}_{m} =  \\frac{2 \\, B^{2} m\\left(r + t\\right) \\sin\\left({\\theta}\\right)^{2} - B^{2} r}{{\\left(\\frac{13}{48} \\, B^{2} r^{2} \\sin\\left({\\theta}\\right)^{2} + 1\\right)}^{\\frac{44}{13}} r}$"
      ],
      "text/plain": [
       "\\mathcal{L}_{m} =  (2*B^2*m(r + t)*sin(th)^2 - B^2*r)/((13/48*B^2*r^2*sin(th)^2 + 1)^(44/13)*r)"
      ]
     },
     "metadata": {},
     "output_type": "display_data"
    }
   ],
   "source": [
    "show(LatexExpr(r'\\mathcal{L}_{m} = '), Lm.expr().substitute_function(Lambda,Lamb).simplify_full().simplify_trig())"
   ]
  },
  {
   "cell_type": "code",
   "execution_count": 30,
   "id": "b17c0e5f-21cc-40ea-b86b-3de86003f0b4",
   "metadata": {},
   "outputs": [
    {
     "data": {
      "text/html": [
       "<html>\\(\\displaystyle R =  -\\frac{2 \\, B^{2} m\\left(r + t\\right) \\sin\\left({\\theta}\\right)^{2} - B^{2} r}{{\\left(\\frac{13}{48} \\, B^{2} r^{2} \\sin\\left({\\theta}\\right)^{2} + 1\\right)}^{\\frac{46}{13}} r}\\)</html>"
      ],
      "text/latex": [
       "$\\displaystyle R =  -\\frac{2 \\, B^{2} m\\left(r + t\\right) \\sin\\left({\\theta}\\right)^{2} - B^{2} r}{{\\left(\\frac{13}{48} \\, B^{2} r^{2} \\sin\\left({\\theta}\\right)^{2} + 1\\right)}^{\\frac{46}{13}} r}$"
      ],
      "text/plain": [
       "R =  -(2*B^2*m(r + t)*sin(th)^2 - B^2*r)/((13/48*B^2*r^2*sin(th)^2 + 1)^(46/13)*r)"
      ]
     },
     "metadata": {},
     "output_type": "display_data"
    }
   ],
   "source": [
    "show(LatexExpr(r'R = '), R.expr().substitute_function(Lambda,Lamb).simplify_full().simplify_trig())"
   ]
  },
  {
   "cell_type": "code",
   "execution_count": 31,
   "id": "364b0802-60a6-4a82-ac24-f377d3f39ebd",
   "metadata": {
    "scrolled": true
   },
   "outputs": [
    {
     "data": {
      "text/html": [
       "<html>\\(\\displaystyle \\vartheta - \\frac{\\mathcal{L}_{m}}{R} =  0\\)</html>"
      ],
      "text/latex": [
       "$\\displaystyle \\vartheta - \\frac{\\mathcal{L}_{m}}{R} =  0$"
      ],
      "text/plain": [
       "\\vartheta - \\frac{\\mathcal{L}_{m}}{R} =  0"
      ]
     },
     "metadata": {},
     "output_type": "display_data"
    }
   ],
   "source": [
    "eqs = varth+ Lm/R\n",
    "latex_str = r'\\vartheta - \\frac{\\mathcal{L}_{m}}{R} = ' \n",
    "show(LatexExpr(latex_str), eqs.expr().substitute_function(Lambda,Lamb).canonicalize_radical().factor())"
   ]
  },
  {
   "cell_type": "code",
   "execution_count": 32,
   "id": "b0ec195a-f4c7-4258-ad0f-2d06c7e5f31f",
   "metadata": {},
   "outputs": [
    {
     "data": {
      "text/html": [
       "<html>\\(\\displaystyle \\vartheta = \\frac{\\mathcal{L}_{m}}{R} =  -{\\left(\\frac{13}{48} \\, B^{2} r^{2} \\sin\\left({\\theta}\\right)^{2} + 1\\right)}^{\\frac{2}{13}}\\)</html>"
      ],
      "text/latex": [
       "$\\displaystyle \\vartheta = \\frac{\\mathcal{L}_{m}}{R} =  -{\\left(\\frac{13}{48} \\, B^{2} r^{2} \\sin\\left({\\theta}\\right)^{2} + 1\\right)}^{\\frac{2}{13}}$"
      ],
      "text/plain": [
       "\\vartheta = \\frac{\\mathcal{L}_{m}}{R} =  -(13/48*B^2*r^2*sin(th)^2 + 1)^(2/13)"
      ]
     },
     "metadata": {},
     "output_type": "display_data"
    }
   ],
   "source": [
    "show(LatexExpr(r'\\vartheta = \\frac{\\mathcal{L}_{m}}{R} = '), (Lm / R).expr().substitute_function(Lambda,Lamb).simplify_full().simplify_trig())"
   ]
  },
  {
   "cell_type": "markdown",
   "id": "dd51ad7f-d3b8-44a1-819b-d815f56b1574",
   "metadata": {},
   "source": [
    "## III. 3 Verification of the metric field equation $G_{\\mu \\nu} = \\frac{T_{\\mu \\nu}}{\\vartheta} + \\vartheta^{-2} \\left[\\nabla_\\mu \\nabla_\\nu - g_{\\mu \\nu} \\Box \\right] \\vartheta^{2}$"
   ]
  },
  {
   "cell_type": "code",
   "execution_count": 33,
   "id": "c900676e-f589-4ac4-97e6-6fc374723530",
   "metadata": {},
   "outputs": [
    {
     "data": {
      "text/html": [
       "<html>\\(\\displaystyle \\frac{\\partial}{\\partial v}m\\left(v\\right)\\)</html>"
      ],
      "text/latex": [
       "$\\displaystyle \\frac{\\partial}{\\partial v}m\\left(v\\right)$"
      ],
      "text/plain": [
       "diff(m(v), v)"
      ]
     },
     "execution_count": 33,
     "metadata": {},
     "output_type": "execute_result"
    }
   ],
   "source": [
    "mp(v) = diff(m(v), v)\n",
    "mp(v)"
   ]
  },
  {
   "cell_type": "code",
   "execution_count": 34,
   "id": "7d10b44b-4c6e-4a72-82dc-a04cdfefdbe7",
   "metadata": {},
   "outputs": [],
   "source": [
    "T1 = 2*eps*mp(t+eps*r)/r^2 * varth * dv*dv"
   ]
  },
  {
   "cell_type": "code",
   "execution_count": 35,
   "id": "d6b417a5-ed83-4020-a813-7cc938fab3f5",
   "metadata": {},
   "outputs": [],
   "source": [
    "Fud = F.up(g,0)\n",
    "F2 = F['_ab']*Fuu['^ab']\n",
    "T2 = 2*(F['_k.']*Fud['^k_.'] - 1/4*F2*g)"
   ]
  },
  {
   "cell_type": "code",
   "execution_count": 36,
   "id": "bb1057e9-ef01-45de-9e99-128e2cbe3708",
   "metadata": {},
   "outputs": [],
   "source": [
    "S = (nab(nab(varth**2 )) - g*(varth**2).dalembertian()) / varth**2 "
   ]
  },
  {
   "cell_type": "code",
   "execution_count": 37,
   "id": "b794a439-4f6b-4280-864d-ebd1528075ac",
   "metadata": {},
   "outputs": [],
   "source": [
    "eq_metric = G - (T1+T2) / varth - S"
   ]
  },
  {
   "cell_type": "code",
   "execution_count": 38,
   "id": "f218a6d9-dc50-4cca-addd-ba254e02251f",
   "metadata": {},
   "outputs": [],
   "source": [
    "eq_metric.apply_map(lambda f :f.substitute_function(Lambda,Lamb).canonicalize_radical())"
   ]
  },
  {
   "cell_type": "code",
   "execution_count": 39,
   "id": "3741f971-3d73-4e36-ac87-b4166ec50817",
   "metadata": {},
   "outputs": [
    {
     "data": {
      "text/html": [
       "<html>\\(\\displaystyle G_{\\mu \\nu} - \\frac{T_{\\mu \\nu}}{\\vartheta} + \\vartheta^{-2} \\left[\\nabla_\\mu \\nabla_\\nu - g_{\\mu \\nu} \\Box \\right] \\vartheta^{2} =  \\left(\\begin{array}{rrrr}\n",
       "0 & 0 & 0 & 0 \\\\\n",
       "0 & 0 & 0 & 0 \\\\\n",
       "0 & 0 & 0 & 0 \\\\\n",
       "0 & 0 & 0 & 0\n",
       "\\end{array}\\right)\\)</html>"
      ],
      "text/latex": [
       "$\\displaystyle G_{\\mu \\nu} - \\frac{T_{\\mu \\nu}}{\\vartheta} + \\vartheta^{-2} \\left[\\nabla_\\mu \\nabla_\\nu - g_{\\mu \\nu} \\Box \\right] \\vartheta^{2} =  \\left(\\begin{array}{rrrr}\n",
       "0 & 0 & 0 & 0 \\\\\n",
       "0 & 0 & 0 & 0 \\\\\n",
       "0 & 0 & 0 & 0 \\\\\n",
       "0 & 0 & 0 & 0\n",
       "\\end{array}\\right)$"
      ],
      "text/plain": [
       "G_{\\mu \\nu} - \\frac{T_{\\mu \\nu}}{\\vartheta} + \\vartheta^{-2} \\left[\\nabla_\\mu \\nabla_\\nu - g_{\\mu \\nu} \\Box \\right] \\vartheta^{2} =  [0 0 0 0]\n",
       "[0 0 0 0]\n",
       "[0 0 0 0]\n",
       "[0 0 0 0]"
      ]
     },
     "metadata": {},
     "output_type": "display_data"
    }
   ],
   "source": [
    "latex_str = r'G_{\\mu \\nu} - \\frac{T_{\\mu \\nu}}{\\vartheta} + \\vartheta^{-2} \\left[\\nabla_\\mu \\nabla_\\nu - g_{\\mu \\nu} \\Box \\right] \\vartheta^{2} = ' \n",
    "show(LatexExpr(latex_str), eq_metric[:])"
   ]
  },
  {
   "cell_type": "markdown",
   "id": "bc6aff44",
   "metadata": {},
   "source": [
    "Let's verify that the trace of the stress-energy tensor is zero"
   ]
  },
  {
   "cell_type": "code",
   "execution_count": 40,
   "id": "99925e35-f471-43d8-8a57-7664d9ead4cf",
   "metadata": {},
   "outputs": [
    {
     "data": {
      "text/html": [
       "<html>\\(\\displaystyle T = 0\\)</html>"
      ],
      "text/latex": [
       "$\\displaystyle T = 0$"
      ],
      "text/plain": [
       "T = 0"
      ]
     },
     "metadata": {},
     "output_type": "display_data"
    }
   ],
   "source": [
    "Trace = (T1+T2).trace(using = g)\n",
    "show(LatexExpr(r'T ='), Trace.expr())"
   ]
  },
  {
   "cell_type": "markdown",
   "id": "b5937875-c722-4b13-bc88-3060db793777",
   "metadata": {},
   "source": [
    "# IN CONCLUSION, THE VAIDYA'S SOLUTION WITH AN EXTERNAL MAGNETIC CHARGE IS SOLUTION IN ER"
   ]
  }
 ],
 "metadata": {
  "kernelspec": {
   "display_name": "SageMath 10.1",
   "language": "sage",
   "name": "sagemath"
  },
  "language_info": {
   "codemirror_mode": {
    "name": "ipython",
    "version": 3
   },
   "file_extension": ".py",
   "mimetype": "text/x-python",
   "name": "python",
   "nbconvert_exporter": "python",
   "pygments_lexer": "ipython3",
   "version": "3.10.12"
  }
 },
 "nbformat": 4,
 "nbformat_minor": 5
}
