{
 "cells": [
  {
   "cell_type": "markdown",
   "id": "9a08301a",
   "metadata": {},
   "source": [
    "# MINEUR-VAIDYA RADIATING SOLUTIONS EMBEDDED INTO AN EXTERNAL ELECTRIC FIELD IN ER"
   ]
  },
  {
   "cell_type": "markdown",
   "id": "540e924b",
   "metadata": {},
   "source": [
    "We are using the same approach than in the notebook **ER_Vaidya_Melvin** but now, we are considering the case of an electric external field which can be obtained by applying the following transformation:\n",
    "\n",
    "\\begin{eqnarray}\n",
    "&&F_{\\mu \\nu}  \\longrightarrow F^{e}_{\\mu \\nu} =-\\frac{1}{2} \\frac{\\mathcal{L}_{m}}{R} ~ \\epsilon_{\\mu \\nu \\kappa \\lambda} F^{\\kappa \\lambda},\\\\\n",
    "&&g_{\\mu \\nu} \\longrightarrow g^e_{\\mu \\nu} = \\left(\\frac{\\mathcal{L}_{m}}{R}\\right)^4 g_{\\mu \\nu},\n",
    "\\end{eqnarray}\n",
    "\n",
    "where $\\epsilon_{\\mu \\nu \\kappa \\lambda}$ is the Levi-Cività tensor, such that\n",
    "\n",
    "\\begin{equation}\n",
    "\\vartheta \\longrightarrow \\vartheta^e = \\frac{1}{\\vartheta}.\n",
    "\\end{equation}\n"
   ]
  },
  {
   "cell_type": "code",
   "execution_count": 1,
   "id": "20b437f8-845d-40e2-9f7d-4f03d25d3ced",
   "metadata": {},
   "outputs": [],
   "source": [
    "%display latex"
   ]
  },
  {
   "cell_type": "code",
   "execution_count": 2,
   "id": "8240ef05-3490-4ba6-ae7d-6448e450f805",
   "metadata": {},
   "outputs": [
    {
     "name": "stdout",
     "output_type": "stream",
     "text": [
      "4-dimensional Lorentzian manifold M\n"
     ]
    }
   ],
   "source": [
    "M = Manifold(4, 'M', structure='Lorentzian')\n",
    "print(M)"
   ]
  },
  {
   "cell_type": "code",
   "execution_count": 3,
   "id": "df985ca1-6598-4cba-bab2-837ea92eb2fc",
   "metadata": {},
   "outputs": [
    {
     "data": {
      "text/html": [
       "<html>\\(\\displaystyle \\left(M,(v, r, {\\theta}, {\\varphi})\\right)\\)</html>"
      ],
      "text/latex": [
       "$\\displaystyle \\left(M,(v, r, {\\theta}, {\\varphi})\\right)$"
      ],
      "text/plain": [
       "Chart (M, (v, r, th, ph))"
      ]
     },
     "execution_count": 3,
     "metadata": {},
     "output_type": "execute_result"
    }
   ],
   "source": [
    "XN.<v,r,th,ph> = M.chart(r'v r:(0,+oo) th:(0,pi):\\theta ph:(0,2*pi):\\varphi:periodic')\n",
    "XN"
   ]
  },
  {
   "cell_type": "code",
   "execution_count": 4,
   "id": "3df7e71b-9c3a-4e21-8864-d24eacc8b443",
   "metadata": {},
   "outputs": [
    {
     "data": {
      "text/html": [
       "<html>\\(\\displaystyle v :\\ \\left( -\\infty, +\\infty \\right) ;\\quad r :\\ \\left( 0 , +\\infty \\right) ;\\quad {\\theta} :\\ \\left( 0 , \\pi \\right) ;\\quad {\\varphi} :\\ \\left[ 0 , 2 \\, \\pi \\right] \\text{(periodic)}\\)</html>"
      ],
      "text/latex": [
       "$\\displaystyle v :\\ \\left( -\\infty, +\\infty \\right) ;\\quad r :\\ \\left( 0 , +\\infty \\right) ;\\quad {\\theta} :\\ \\left( 0 , \\pi \\right) ;\\quad {\\varphi} :\\ \\left[ 0 , 2 \\, \\pi \\right] \\text{(periodic)}$"
      ],
      "text/plain": [
       "v: (-oo, +oo); r: (0, +oo); th: (0, pi); ph: [0, 2*pi] (periodic)"
      ]
     },
     "execution_count": 4,
     "metadata": {},
     "output_type": "execute_result"
    }
   ],
   "source": [
    "XN.coord_range()"
   ]
  },
  {
   "cell_type": "markdown",
   "id": "dc2a043c",
   "metadata": {},
   "source": [
    "# I. Definition of the metric"
   ]
  },
  {
   "cell_type": "code",
   "execution_count": 5,
   "id": "6c307569",
   "metadata": {},
   "outputs": [],
   "source": [
    "ingoing=False #change to False to get the outgoing radiation case"
   ]
  },
  {
   "cell_type": "code",
   "execution_count": 6,
   "id": "2c1cfcec-a4d0-46b6-8b0b-29b59edb08bb",
   "metadata": {},
   "outputs": [
    {
     "data": {
      "text/html": [
       "<html>\\(\\displaystyle g = {\\left(\\frac{2 \\, m\\left(v\\right)}{r} - 1\\right)} \\Lambda\\left(r, {\\theta}\\right)^{\\frac{28}{13}} \\mathrm{d} v\\otimes \\mathrm{d} v -\\Lambda\\left(r, {\\theta}\\right)^{\\frac{28}{13}} \\mathrm{d} v\\otimes \\mathrm{d} r -\\Lambda\\left(r, {\\theta}\\right)^{\\frac{28}{13}} \\mathrm{d} r\\otimes \\mathrm{d} v + r^{2} \\Lambda\\left(r, {\\theta}\\right)^{\\frac{28}{13}} \\mathrm{d} {\\theta}\\otimes \\mathrm{d} {\\theta} + \\frac{r^{2} \\sin\\left({\\theta}\\right)^{2}}{\\Lambda\\left(r, {\\theta}\\right)^{\\frac{20}{13}}} \\mathrm{d} {\\varphi}\\otimes \\mathrm{d} {\\varphi}\\)</html>"
      ],
      "text/latex": [
       "$\\displaystyle g = {\\left(\\frac{2 \\, m\\left(v\\right)}{r} - 1\\right)} \\Lambda\\left(r, {\\theta}\\right)^{\\frac{28}{13}} \\mathrm{d} v\\otimes \\mathrm{d} v -\\Lambda\\left(r, {\\theta}\\right)^{\\frac{28}{13}} \\mathrm{d} v\\otimes \\mathrm{d} r -\\Lambda\\left(r, {\\theta}\\right)^{\\frac{28}{13}} \\mathrm{d} r\\otimes \\mathrm{d} v + r^{2} \\Lambda\\left(r, {\\theta}\\right)^{\\frac{28}{13}} \\mathrm{d} {\\theta}\\otimes \\mathrm{d} {\\theta} + \\frac{r^{2} \\sin\\left({\\theta}\\right)^{2}}{\\Lambda\\left(r, {\\theta}\\right)^{\\frac{20}{13}}} \\mathrm{d} {\\varphi}\\otimes \\mathrm{d} {\\varphi}$"
      ],
      "text/plain": [
       "g = (2*m(v)/r - 1)*Lambda(r, th)^(28/13) dv⊗dv - Lambda(r, th)^(28/13) dv⊗dr - Lambda(r, th)^(28/13) dr⊗dv + r^2*Lambda(r, th)^(28/13) dth⊗dth + r^2*sin(th)^2/Lambda(r, th)^(20/13) dph⊗dph"
      ]
     },
     "execution_count": 6,
     "metadata": {},
     "output_type": "execute_result"
    }
   ],
   "source": [
    "if ingoing: \n",
    "    eps=1\n",
    "else:\n",
    "    eps=-1\n",
    "    \n",
    "############################\n",
    "#   Functions & variables  #\n",
    "############################\n",
    "\n",
    "m = function('m')\n",
    "Lambda = function('Lambda')\n",
    "B = var('B')\n",
    "\n",
    "g = M.metric()\n",
    "g[0,0] = -(1 - 2*m(v)/r) * Lambda(r,th)**(28 / 13)\n",
    "g[0,1] =  eps*Lambda(r,th)**(28 / 13)# is missing a minus here?\n",
    "g[2,2] = r**2 * Lambda(r,th)**(28 / 13)\n",
    "g[3,3] = (r*sin(th))**2 / Lambda(r,th)**(20 / 13)\n",
    "\n",
    "Lamb(r,th) = 1 + 13 / 48 * B**2 * (r*sin(th))**2\n",
    "\n",
    "g.display()"
   ]
  },
  {
   "cell_type": "code",
   "execution_count": 7,
   "id": "1c74b7b2",
   "metadata": {},
   "outputs": [],
   "source": [
    "alpha = 1 / (2*sqrt(3))\n",
    "Phi = M.scalar_field({XN: alpha/ (1+alpha**2) * log(Lambda(r,th))}, name=r'\\phi') \n",
    "Psi = M.scalar_field({XN: exp(2*alpha*Phi).expr()}, name=r'\\Psi')\n",
    "varth = M.scalar_field({XN:Psi.expr()**(-1)}, name=r'\\vartheta') # varth=1/Psi=e^{-2*\\alpha*\\phi}"
   ]
  },
  {
   "cell_type": "code",
   "execution_count": 8,
   "id": "b91c6103-58f2-4661-af37-5b7b20f4dc17",
   "metadata": {},
   "outputs": [
    {
     "data": {
      "text/html": [
       "<html>\\(\\displaystyle \\frac{1}{\\Lambda\\left(r, {\\theta}\\right)^{\\frac{2}{13}}}\\)</html>"
      ],
      "text/latex": [
       "$\\displaystyle \\frac{1}{\\Lambda\\left(r, {\\theta}\\right)^{\\frac{2}{13}}}$"
      ],
      "text/plain": [
       "Lambda(r, th)^(-2/13)"
      ]
     },
     "execution_count": 8,
     "metadata": {},
     "output_type": "execute_result"
    }
   ],
   "source": [
    "varth.expr()"
   ]
  },
  {
   "cell_type": "code",
   "execution_count": 9,
   "id": "d120d643-404a-4b3d-a8b2-39f0a78111f1",
   "metadata": {},
   "outputs": [],
   "source": [
    "Ric = g.ricci() #Ricci tensor\n",
    "R = g.ricci_scalar() #Ricci scalar\n",
    "G = Ric-R*g/2 #Einstein tensor"
   ]
  },
  {
   "cell_type": "markdown",
   "id": "ea3bd2ed-75b7-46fa-9f6c-8399c802dab8",
   "metadata": {},
   "source": [
    "## I.1 The wave vector $k$"
   ]
  },
  {
   "cell_type": "code",
   "execution_count": 10,
   "id": "9bf6fa43-b555-485f-8e36-e78dd26a2dfe",
   "metadata": {},
   "outputs": [
    {
     "data": {
      "text/html": [
       "<html>\\(\\displaystyle \\left(M, \\left(\\mathrm{d} v,\\mathrm{d} r,\\mathrm{d} {\\theta},\\mathrm{d} {\\varphi}\\right)\\right)\\)</html>"
      ],
      "text/latex": [
       "$\\displaystyle \\left(M, \\left(\\mathrm{d} v,\\mathrm{d} r,\\mathrm{d} {\\theta},\\mathrm{d} {\\varphi}\\right)\\right)$"
      ],
      "text/plain": [
       "Coordinate coframe (M, (dv,dr,dth,dph))"
      ]
     },
     "execution_count": 10,
     "metadata": {},
     "output_type": "execute_result"
    }
   ],
   "source": [
    "XN.coframe()"
   ]
  },
  {
   "cell_type": "code",
   "execution_count": 11,
   "id": "3a66675d-57b8-458c-a11b-b21a18c4dca1",
   "metadata": {},
   "outputs": [
    {
     "data": {
      "text/html": [
       "<html>\\(\\displaystyle \\mathrm{d} v = \\mathrm{d} v\\)</html>"
      ],
      "text/latex": [
       "$\\displaystyle \\mathrm{d} v = \\mathrm{d} v$"
      ],
      "text/plain": [
       "dv = dv"
      ]
     },
     "execution_count": 11,
     "metadata": {},
     "output_type": "execute_result"
    }
   ],
   "source": [
    "dv = XN.coframe()[0]\n",
    "dv.display()"
   ]
  },
  {
   "cell_type": "code",
   "execution_count": 12,
   "id": "351d3d1e-e65a-4104-984a-4dccca15fcc4",
   "metadata": {},
   "outputs": [
    {
     "data": {
      "text/html": [
       "<html>\\(\\displaystyle k = \\frac{1}{\\Lambda\\left(r, {\\theta}\\right)^{\\frac{28}{13}}} \\frac{\\partial}{\\partial r }\\)</html>"
      ],
      "text/latex": [
       "$\\displaystyle k = \\frac{1}{\\Lambda\\left(r, {\\theta}\\right)^{\\frac{28}{13}}} \\frac{\\partial}{\\partial r }$"
      ],
      "text/plain": [
       "k = Lambda(r, th)^(-28/13) ∂/∂r"
      ]
     },
     "execution_count": 12,
     "metadata": {},
     "output_type": "execute_result"
    }
   ],
   "source": [
    "k = - dv.up(g)\n",
    "k.set_name('k')\n",
    "k.display()"
   ]
  },
  {
   "cell_type": "markdown",
   "id": "b8526048",
   "metadata": {},
   "source": [
    "Let's check that the metric field is sourced by a conformally invariant (null) field ($k_\\sigma k^\\sigma =0$). "
   ]
  },
  {
   "cell_type": "code",
   "execution_count": 13,
   "id": "6427ea35-ceba-4778-b06a-eafb2bb048bb",
   "metadata": {},
   "outputs": [
    {
     "data": {
      "text/html": [
       "<html>\\(\\displaystyle 0\\)</html>"
      ],
      "text/latex": [
       "$\\displaystyle 0$"
      ],
      "text/plain": [
       "0"
      ]
     },
     "execution_count": 13,
     "metadata": {},
     "output_type": "execute_result"
    }
   ],
   "source": [
    "g(k, k).expr()"
   ]
  },
  {
   "cell_type": "code",
   "execution_count": 14,
   "id": "ab75a595-a9dc-4c72-aed3-55edbed5d642",
   "metadata": {},
   "outputs": [
    {
     "data": {
      "text/html": [
       "<html>\\(\\displaystyle 0\\)</html>"
      ],
      "text/latex": [
       "$\\displaystyle 0$"
      ],
      "text/plain": [
       "0"
      ]
     },
     "execution_count": 14,
     "metadata": {},
     "output_type": "execute_result"
    }
   ],
   "source": [
    "nabla = g.connection()\n",
    "acc = nabla(k).contract(k)\n",
    "acc.display()"
   ]
  },
  {
   "cell_type": "markdown",
   "id": "62d2804b",
   "metadata": {},
   "source": [
    "Let's verify the Ricci scalar is zero in the limit $B\\rightarrow0$"
   ]
  },
  {
   "cell_type": "code",
   "execution_count": 15,
   "id": "6c5b19a6",
   "metadata": {},
   "outputs": [
    {
     "data": {
      "text/html": [
       "<html>\\(\\displaystyle 0\\)</html>"
      ],
      "text/latex": [
       "$\\displaystyle 0$"
      ],
      "text/plain": [
       "0"
      ]
     },
     "execution_count": 15,
     "metadata": {},
     "output_type": "execute_result"
    }
   ],
   "source": [
    "g.ricci_scalar().expr().substitute_function(Lambda,Lamb).subs(B=0).factor()"
   ]
  },
  {
   "cell_type": "markdown",
   "id": "a969a0ec-d280-4bf7-b675-2cc80f303f2f",
   "metadata": {},
   "source": [
    "## I.2 Ingoing Eddington-Finkelstein coordinates $(t,r,\\theta,\\varphi)$ \n",
    "\n",
    "Let us introduce a new chart $(t,r,\\theta,\\varphi)$ such that the advanced time $t+\\epsilon r$ is $\\xi$: $\\xi = t + \\epsilon r$; this is the \n",
    "analog of **ingoing/outgoing Eddington-Finkelstein (IEF) coordinates** in Schwarzschild spacetime."
   ]
  },
  {
   "cell_type": "code",
   "execution_count": 16,
   "id": "5834ded5-88ed-4aa9-95b1-3720978270eb",
   "metadata": {},
   "outputs": [
    {
     "data": {
      "text/html": [
       "<html>\\(\\displaystyle \\left(M,(t, r, {\\theta}, {\\varphi})\\right)\\)</html>"
      ],
      "text/latex": [
       "$\\displaystyle \\left(M,(t, r, {\\theta}, {\\varphi})\\right)$"
      ],
      "text/plain": [
       "Chart (M, (t, r, th, ph))"
      ]
     },
     "execution_count": 16,
     "metadata": {},
     "output_type": "execute_result"
    }
   ],
   "source": [
    "X.<t,r,th,ph> = M.chart(r't r:(0,+oo) th:(0,pi):\\theta ph:(0,2*pi):\\varphi:periodic')\n",
    "X"
   ]
  },
  {
   "cell_type": "code",
   "execution_count": 17,
   "id": "e118c8b9-ae34-4c4a-be84-76b9badbbcb7",
   "metadata": {},
   "outputs": [
    {
     "data": {
      "text/html": [
       "<html>\\(\\displaystyle t :\\ \\left( -\\infty, +\\infty \\right) ;\\quad r :\\ \\left( 0 , +\\infty \\right) ;\\quad {\\theta} :\\ \\left( 0 , \\pi \\right) ;\\quad {\\varphi} :\\ \\left[ 0 , 2 \\, \\pi \\right] \\text{(periodic)}\\)</html>"
      ],
      "text/latex": [
       "$\\displaystyle t :\\ \\left( -\\infty, +\\infty \\right) ;\\quad r :\\ \\left( 0 , +\\infty \\right) ;\\quad {\\theta} :\\ \\left( 0 , \\pi \\right) ;\\quad {\\varphi} :\\ \\left[ 0 , 2 \\, \\pi \\right] \\text{(periodic)}$"
      ],
      "text/plain": [
       "t: (-oo, +oo); r: (0, +oo); th: (0, pi); ph: [0, 2*pi] (periodic)"
      ]
     },
     "execution_count": 17,
     "metadata": {},
     "output_type": "execute_result"
    }
   ],
   "source": [
    "X.coord_range()"
   ]
  },
  {
   "cell_type": "code",
   "execution_count": 18,
   "id": "275839be-5658-42bc-96e4-4fcd8c7bfd0e",
   "metadata": {},
   "outputs": [
    {
     "data": {
      "text/html": [
       "<html>\\(\\displaystyle \\left\\{\\begin{array}{lcl} v & = & -r + t \\\\ r & = & r \\\\ {\\theta} & = & {\\theta} \\\\ {\\varphi} & = & {\\varphi} \\end{array}\\right.\\)</html>"
      ],
      "text/latex": [
       "$\\displaystyle \\left\\{\\begin{array}{lcl} v & = & -r + t \\\\ r & = & r \\\\ {\\theta} & = & {\\theta} \\\\ {\\varphi} & = & {\\varphi} \\end{array}\\right.$"
      ],
      "text/plain": [
       "v = -r + t\n",
       "r = r\n",
       "th = th\n",
       "ph = ph"
      ]
     },
     "execution_count": 18,
     "metadata": {},
     "output_type": "execute_result"
    }
   ],
   "source": [
    "X_to_XN = X.transition_map(XN, (t + eps*r, r, th, ph))\n",
    "X_to_XN.display()"
   ]
  },
  {
   "cell_type": "code",
   "execution_count": 19,
   "id": "ae029154-f0f6-4113-822e-db43d520d60d",
   "metadata": {},
   "outputs": [
    {
     "data": {
      "text/html": [
       "<html>\\(\\displaystyle \\left\\{\\begin{array}{lcl} t & = & r + v \\\\ r & = & r \\\\ {\\theta} & = & {\\theta} \\\\ {\\varphi} & = & {\\varphi} \\end{array}\\right.\\)</html>"
      ],
      "text/latex": [
       "$\\displaystyle \\left\\{\\begin{array}{lcl} t & = & r + v \\\\ r & = & r \\\\ {\\theta} & = & {\\theta} \\\\ {\\varphi} & = & {\\varphi} \\end{array}\\right.$"
      ],
      "text/plain": [
       "t = r + v\n",
       "r = r\n",
       "th = th\n",
       "ph = ph"
      ]
     },
     "execution_count": 19,
     "metadata": {},
     "output_type": "execute_result"
    }
   ],
   "source": [
    "X_to_XN.inverse().display()"
   ]
  },
  {
   "cell_type": "code",
   "execution_count": 20,
   "id": "6beb4ebe-da4b-43b4-b5dd-08909c24a03c",
   "metadata": {},
   "outputs": [],
   "source": [
    "M.set_default_chart(X)\n",
    "M.set_default_frame(X.frame())"
   ]
  },
  {
   "cell_type": "code",
   "execution_count": 21,
   "id": "5c76515f-381b-47e5-867c-87509c0f4ac3",
   "metadata": {},
   "outputs": [
    {
     "data": {
      "text/html": [
       "<html>\\(\\displaystyle g = -\\frac{{\\left(r \\Lambda\\left(r, {\\theta}\\right)^{2} - 2 \\, \\Lambda\\left(r, {\\theta}\\right)^{2} m\\left(-r + t\\right)\\right)} \\Lambda\\left(r, {\\theta}\\right)^{\\frac{2}{13}}}{r} \\mathrm{d} t\\otimes \\mathrm{d} t -\\frac{2 \\, \\Lambda\\left(r, {\\theta}\\right)^{\\frac{28}{13}} m\\left(-r + t\\right)}{r} \\mathrm{d} t\\otimes \\mathrm{d} r -\\frac{2 \\, \\Lambda\\left(r, {\\theta}\\right)^{\\frac{28}{13}} m\\left(-r + t\\right)}{r} \\mathrm{d} r\\otimes \\mathrm{d} t + \\frac{{\\left(r \\Lambda\\left(r, {\\theta}\\right)^{2} + 2 \\, \\Lambda\\left(r, {\\theta}\\right)^{2} m\\left(-r + t\\right)\\right)} \\Lambda\\left(r, {\\theta}\\right)^{\\frac{2}{13}}}{r} \\mathrm{d} r\\otimes \\mathrm{d} r + r^{2} \\Lambda\\left(r, {\\theta}\\right)^{\\frac{28}{13}} \\mathrm{d} {\\theta}\\otimes \\mathrm{d} {\\theta} + \\frac{r^{2} \\sin\\left({\\theta}\\right)^{2}}{\\Lambda\\left(r, {\\theta}\\right)^{\\frac{20}{13}}} \\mathrm{d} {\\varphi}\\otimes \\mathrm{d} {\\varphi}\\)</html>"
      ],
      "text/latex": [
       "$\\displaystyle g = -\\frac{{\\left(r \\Lambda\\left(r, {\\theta}\\right)^{2} - 2 \\, \\Lambda\\left(r, {\\theta}\\right)^{2} m\\left(-r + t\\right)\\right)} \\Lambda\\left(r, {\\theta}\\right)^{\\frac{2}{13}}}{r} \\mathrm{d} t\\otimes \\mathrm{d} t -\\frac{2 \\, \\Lambda\\left(r, {\\theta}\\right)^{\\frac{28}{13}} m\\left(-r + t\\right)}{r} \\mathrm{d} t\\otimes \\mathrm{d} r -\\frac{2 \\, \\Lambda\\left(r, {\\theta}\\right)^{\\frac{28}{13}} m\\left(-r + t\\right)}{r} \\mathrm{d} r\\otimes \\mathrm{d} t + \\frac{{\\left(r \\Lambda\\left(r, {\\theta}\\right)^{2} + 2 \\, \\Lambda\\left(r, {\\theta}\\right)^{2} m\\left(-r + t\\right)\\right)} \\Lambda\\left(r, {\\theta}\\right)^{\\frac{2}{13}}}{r} \\mathrm{d} r\\otimes \\mathrm{d} r + r^{2} \\Lambda\\left(r, {\\theta}\\right)^{\\frac{28}{13}} \\mathrm{d} {\\theta}\\otimes \\mathrm{d} {\\theta} + \\frac{r^{2} \\sin\\left({\\theta}\\right)^{2}}{\\Lambda\\left(r, {\\theta}\\right)^{\\frac{20}{13}}} \\mathrm{d} {\\varphi}\\otimes \\mathrm{d} {\\varphi}$"
      ],
      "text/plain": [
       "g = -(r*Lambda(r, th)^2 - 2*Lambda(r, th)^2*m(-r + t))*Lambda(r, th)^(2/13)/r dt⊗dt - 2*Lambda(r, th)^(28/13)*m(-r + t)/r dt⊗dr - 2*Lambda(r, th)^(28/13)*m(-r + t)/r dr⊗dt + (r*Lambda(r, th)^2 + 2*Lambda(r, th)^2*m(-r + t))*Lambda(r, th)^(2/13)/r dr⊗dr + r^2*Lambda(r, th)^(28/13) dth⊗dth + r^2*sin(th)^2/Lambda(r, th)^(20/13) dph⊗dph"
      ]
     },
     "execution_count": 21,
     "metadata": {},
     "output_type": "execute_result"
    }
   ],
   "source": [
    "g.display()"
   ]
  },
  {
   "cell_type": "markdown",
   "id": "8835b227-7409-4744-83e2-6800214aa39d",
   "metadata": {},
   "source": [
    "# II. The vector potential"
   ]
  },
  {
   "cell_type": "code",
   "execution_count": 22,
   "id": "53b10cc5-61b2-4f60-a6da-da5336a95d09",
   "metadata": {},
   "outputs": [
    {
     "data": {
      "text/html": [
       "<html>\\(\\displaystyle A = -{\\left(B r - 2 \\, B m\\left(-r + t\\right)\\right)} \\cos\\left({\\theta}\\right) \\mathrm{d} t -2 \\, B \\cos\\left({\\theta}\\right) m\\left(-r + t\\right) \\mathrm{d} r\\)</html>"
      ],
      "text/latex": [
       "$\\displaystyle A = -{\\left(B r - 2 \\, B m\\left(-r + t\\right)\\right)} \\cos\\left({\\theta}\\right) \\mathrm{d} t -2 \\, B \\cos\\left({\\theta}\\right) m\\left(-r + t\\right) \\mathrm{d} r$"
      ],
      "text/plain": [
       "A = -(B*r - 2*B*m(-r + t))*cos(th) dt - 2*B*cos(th)*m(-r + t) dr"
      ]
     },
     "metadata": {},
     "output_type": "display_data"
    }
   ],
   "source": [
    "pot_vec = M.tensor_field(0,1,name='A')\n",
    "pot_vec[0]=-B*cos(th)*r+m(v)*2*B*cos(th)\n",
    "pot_vec[1]=2*eps*B*cos(th)*m(v)\n",
    "pot_vec[2]=0\n",
    "pot_vec[3]=0\n",
    "\n",
    "\n",
    "show(pot_vec.display())"
   ]
  },
  {
   "cell_type": "code",
   "execution_count": 23,
   "id": "feb89e76-7650-4413-a9c6-b03f056ff184",
   "metadata": {},
   "outputs": [],
   "source": [
    "nab = g.connection(name=r'\\nabla')"
   ]
  },
  {
   "cell_type": "code",
   "execution_count": 24,
   "id": "a99821d1-5713-409a-9f1d-e1a31ae93289",
   "metadata": {},
   "outputs": [
    {
     "data": {
      "text/html": [
       "<html>\\(\\displaystyle F = B \\cos\\left({\\theta}\\right) \\mathrm{d} t\\wedge \\mathrm{d} r -{\\left(B r - 2 \\, B m\\left(-r + t\\right)\\right)} \\sin\\left({\\theta}\\right) \\mathrm{d} t\\wedge \\mathrm{d} {\\theta} -2 \\, B m\\left(-r + t\\right) \\sin\\left({\\theta}\\right) \\mathrm{d} r\\wedge \\mathrm{d} {\\theta}\\)</html>"
      ],
      "text/latex": [
       "$\\displaystyle F = B \\cos\\left({\\theta}\\right) \\mathrm{d} t\\wedge \\mathrm{d} r -{\\left(B r - 2 \\, B m\\left(-r + t\\right)\\right)} \\sin\\left({\\theta}\\right) \\mathrm{d} t\\wedge \\mathrm{d} {\\theta} -2 \\, B m\\left(-r + t\\right) \\sin\\left({\\theta}\\right) \\mathrm{d} r\\wedge \\mathrm{d} {\\theta}$"
      ],
      "text/plain": [
       "F = B*cos(th) dt∧dr - (B*r - 2*B*m(-r + t))*sin(th) dt∧dth - 2*B*m(-r + t)*sin(th) dr∧dth"
      ]
     },
     "execution_count": 24,
     "metadata": {},
     "output_type": "execute_result"
    }
   ],
   "source": [
    "DF = nab(pot_vec)\n",
    "\n",
    "F = diff(pot_vec)\n",
    "F.set_name('F')\n",
    "Fuu = F.up(g)\n",
    "F.display()"
   ]
  },
  {
   "cell_type": "code",
   "execution_count": 25,
   "id": "68635082",
   "metadata": {},
   "outputs": [
    {
     "data": {
      "text/html": [
       "<html>\\(\\displaystyle E^{\\mu} =  \\left[0, B \\cos\\left({\\theta}\\right), -{\\left(B r - 2 \\, B m\\left(-r + t\\right)\\right)} \\sin\\left({\\theta}\\right), 0\\right]\\)</html>"
      ],
      "text/latex": [
       "$\\displaystyle E^{\\mu} =  \\left[0, B \\cos\\left({\\theta}\\right), -{\\left(B r - 2 \\, B m\\left(-r + t\\right)\\right)} \\sin\\left({\\theta}\\right), 0\\right]$"
      ],
      "text/plain": [
       "E^{\\mu} =  [0, B*cos(th), -(B*r - 2*B*m(-r + t))*sin(th), 0]"
      ]
     },
     "metadata": {},
     "output_type": "display_data"
    }
   ],
   "source": [
    "E_elec = M.tensor_field(1,0)\n",
    "for i in [1, 2, 3]:  \n",
    "    E_elec[i] = F[0, i].expr().substitute_function(Lambda,Lamb).simplify_full() \n",
    "show(LatexExpr(r'E^{\\mu} = '),E_elec[:])"
   ]
  },
  {
   "cell_type": "markdown",
   "id": "4d84c8fb",
   "metadata": {},
   "source": [
    "# III. Equations verification"
   ]
  },
  {
   "cell_type": "markdown",
   "id": "bf6bd05c",
   "metadata": {},
   "source": [
    "## III. 1 Verification of the Maxwell equations $\\bigtriangledown_{\\mu}(\\vartheta F^{\\mu\\nu})=0$"
   ]
  },
  {
   "cell_type": "code",
   "execution_count": 26,
   "id": "f518a9ca-c3f7-47a8-9f9b-a89e4d2fc9d9",
   "metadata": {},
   "outputs": [],
   "source": [
    "eq1 = nab(varth *Fuu)"
   ]
  },
  {
   "cell_type": "code",
   "execution_count": 27,
   "id": "9127bdf5-bb2a-4b9c-978f-61ed9a8119b3",
   "metadata": {},
   "outputs": [],
   "source": [
    "eq = eq1['^a._a']"
   ]
  },
  {
   "cell_type": "code",
   "execution_count": 28,
   "id": "feea0897-5e4b-4144-b4ea-83cccca5a496",
   "metadata": {},
   "outputs": [
    {
     "data": {
      "text/html": [
       "<html>\\(\\displaystyle \\bigtriangledown_{\\mu}(\\vartheta F^{\\mu\\nu}) =  \\left[0, 0, 0, 0\\right]\\)</html>"
      ],
      "text/latex": [
       "$\\displaystyle \\bigtriangledown_{\\mu}(\\vartheta F^{\\mu\\nu}) =  \\left[0, 0, 0, 0\\right]$"
      ],
      "text/plain": [
       "\\bigtriangledown_{\\mu}(\\vartheta F^{\\mu\\nu}) =  [0, 0, 0, 0]"
      ]
     },
     "metadata": {},
     "output_type": "display_data"
    }
   ],
   "source": [
    "eq.apply_map(lambda f :f.substitute_function(Lambda,Lamb))\n",
    "latex_str = r'\\bigtriangledown_{\\mu}(\\vartheta F^{\\mu\\nu}) = ' \n",
    "show(LatexExpr(latex_str), eq[:])"
   ]
  },
  {
   "cell_type": "markdown",
   "id": "dd1b52d1-940b-492a-9967-f89bcb1bd661",
   "metadata": {},
   "source": [
    "## III. 2 Verification of the scalar field expression $\\vartheta = \\frac{\\mathcal{L}_{m}}{R}$"
   ]
  },
  {
   "cell_type": "code",
   "execution_count": 29,
   "id": "041498da-9bba-4767-99b8-75bb6baa3291",
   "metadata": {},
   "outputs": [],
   "source": [
    "Lm = -F['_ij']*F.up(g)['^ij']/2"
   ]
  },
  {
   "cell_type": "code",
   "execution_count": 30,
   "id": "66b3ed1e",
   "metadata": {},
   "outputs": [
    {
     "data": {
      "text/html": [
       "<html>\\(\\displaystyle \\mathcal{L}_{m} =  -\\frac{2 \\, B^{2} m\\left(-r + t\\right) \\sin\\left({\\theta}\\right)^{2} - B^{2} r}{{\\left(\\frac{13}{48} \\, B^{2} r^{2} \\sin\\left({\\theta}\\right)^{2} + 1\\right)}^{\\frac{56}{13}} r}\\)</html>"
      ],
      "text/latex": [
       "$\\displaystyle \\mathcal{L}_{m} =  -\\frac{2 \\, B^{2} m\\left(-r + t\\right) \\sin\\left({\\theta}\\right)^{2} - B^{2} r}{{\\left(\\frac{13}{48} \\, B^{2} r^{2} \\sin\\left({\\theta}\\right)^{2} + 1\\right)}^{\\frac{56}{13}} r}$"
      ],
      "text/plain": [
       "\\mathcal{L}_{m} =  -(2*B^2*m(-r + t)*sin(th)^2 - B^2*r)/((13/48*B^2*r^2*sin(th)^2 + 1)^(56/13)*r)"
      ]
     },
     "metadata": {},
     "output_type": "display_data"
    }
   ],
   "source": [
    "show(LatexExpr(r'\\mathcal{L}_{m} = '), Lm.expr().substitute_function(Lambda,Lamb).simplify_full().simplify_trig())"
   ]
  },
  {
   "cell_type": "code",
   "execution_count": 31,
   "id": "74db22c1",
   "metadata": {},
   "outputs": [
    {
     "data": {
      "text/html": [
       "<html>\\(\\displaystyle R =  \\frac{2 \\, B^{2} m\\left(-r + t\\right) \\sin\\left({\\theta}\\right)^{2} - B^{2} r}{{\\left(\\frac{13}{48} \\, B^{2} r^{2} \\sin\\left({\\theta}\\right)^{2} + 1\\right)}^{\\frac{54}{13}} r}\\)</html>"
      ],
      "text/latex": [
       "$\\displaystyle R =  \\frac{2 \\, B^{2} m\\left(-r + t\\right) \\sin\\left({\\theta}\\right)^{2} - B^{2} r}{{\\left(\\frac{13}{48} \\, B^{2} r^{2} \\sin\\left({\\theta}\\right)^{2} + 1\\right)}^{\\frac{54}{13}} r}$"
      ],
      "text/plain": [
       "R =  (2*B^2*m(-r + t)*sin(th)^2 - B^2*r)/((13/48*B^2*r^2*sin(th)^2 + 1)^(54/13)*r)"
      ]
     },
     "metadata": {},
     "output_type": "display_data"
    }
   ],
   "source": [
    "show(LatexExpr(r'R = '), R.expr().substitute_function(Lambda,Lamb).simplify_full().simplify_trig())"
   ]
  },
  {
   "cell_type": "code",
   "execution_count": 32,
   "id": "364b0802-60a6-4a82-ac24-f377d3f39ebd",
   "metadata": {
    "scrolled": true
   },
   "outputs": [
    {
     "data": {
      "text/html": [
       "<html>\\(\\displaystyle \\vartheta - \\frac{\\mathcal{L}_{m}}{R} =  0\\)</html>"
      ],
      "text/latex": [
       "$\\displaystyle \\vartheta - \\frac{\\mathcal{L}_{m}}{R} =  0$"
      ],
      "text/plain": [
       "\\vartheta - \\frac{\\mathcal{L}_{m}}{R} =  0"
      ]
     },
     "metadata": {},
     "output_type": "display_data"
    }
   ],
   "source": [
    "eqs = varth + Lm/R\n",
    "latex_str = r'\\vartheta - \\frac{\\mathcal{L}_{m}}{R} = ' \n",
    "show(LatexExpr(latex_str), eqs.expr().substitute_function(Lambda,Lamb).canonicalize_radical().factor().simplify_trig())"
   ]
  },
  {
   "cell_type": "code",
   "execution_count": 33,
   "id": "905f1a01",
   "metadata": {},
   "outputs": [
    {
     "data": {
      "text/html": [
       "<html>\\(\\displaystyle \\vartheta = \\frac{\\mathcal{L}_{m}}{R} =  -\\frac{1}{{\\left(\\frac{13}{48} \\, B^{2} r^{2} \\sin\\left({\\theta}\\right)^{2} + 1\\right)}^{\\frac{2}{13}}}\\)</html>"
      ],
      "text/latex": [
       "$\\displaystyle \\vartheta = \\frac{\\mathcal{L}_{m}}{R} =  -\\frac{1}{{\\left(\\frac{13}{48} \\, B^{2} r^{2} \\sin\\left({\\theta}\\right)^{2} + 1\\right)}^{\\frac{2}{13}}}$"
      ],
      "text/plain": [
       "\\vartheta = \\frac{\\mathcal{L}_{m}}{R} =  -1/(13/48*B^2*r^2*sin(th)^2 + 1)^(2/13)"
      ]
     },
     "metadata": {},
     "output_type": "display_data"
    }
   ],
   "source": [
    "show(LatexExpr(r'\\vartheta = \\frac{\\mathcal{L}_{m}}{R} = '), (Lm / R).expr().substitute_function(Lambda,Lamb).simplify_full().simplify_trig())"
   ]
  },
  {
   "cell_type": "markdown",
   "id": "dd51ad7f-d3b8-44a1-819b-d815f56b1574",
   "metadata": {},
   "source": [
    "## III. 3 Verification of the metric field equation $G_{\\mu \\nu} = \\frac{T_{\\mu \\nu}}{\\vartheta} + \\vartheta^{-2} \\left[\\nabla_\\mu \\nabla_\\nu - g_{\\mu \\nu} \\Box \\right] \\vartheta^{2}$"
   ]
  },
  {
   "cell_type": "code",
   "execution_count": 34,
   "id": "c900676e-f589-4ac4-97e6-6fc374723530",
   "metadata": {},
   "outputs": [
    {
     "data": {
      "text/html": [
       "<html>\\(\\displaystyle \\frac{\\partial}{\\partial v}m\\left(v\\right)\\)</html>"
      ],
      "text/latex": [
       "$\\displaystyle \\frac{\\partial}{\\partial v}m\\left(v\\right)$"
      ],
      "text/plain": [
       "diff(m(v), v)"
      ]
     },
     "execution_count": 34,
     "metadata": {},
     "output_type": "execute_result"
    }
   ],
   "source": [
    "mp(v) = diff(m(v), v)\n",
    "mp(v)"
   ]
  },
  {
   "cell_type": "code",
   "execution_count": 35,
   "id": "7d10b44b-4c6e-4a72-82dc-a04cdfefdbe7",
   "metadata": {},
   "outputs": [],
   "source": [
    "T1 = 2*eps*mp(t+eps*r)/r^2 * varth * dv*dv"
   ]
  },
  {
   "cell_type": "code",
   "execution_count": 36,
   "id": "d6b417a5-ed83-4020-a813-7cc938fab3f5",
   "metadata": {},
   "outputs": [],
   "source": [
    "Fud = F.up(g,0)\n",
    "F2 = F['_ab']*Fuu['^ab']\n",
    "T2 = 2*(F['_k.']*Fud['^k_.'] - 1/4*F2*g)"
   ]
  },
  {
   "cell_type": "code",
   "execution_count": 37,
   "id": "bb1057e9-ef01-45de-9e99-128e2cbe3708",
   "metadata": {},
   "outputs": [],
   "source": [
    "S = (nab(nab(varth**2 )) - g*(varth**2).dalembertian()) / varth**2 "
   ]
  },
  {
   "cell_type": "code",
   "execution_count": 38,
   "id": "b794a439-4f6b-4280-864d-ebd1528075ac",
   "metadata": {},
   "outputs": [],
   "source": [
    "eq_metric = G - (T1+T2) / varth - S"
   ]
  },
  {
   "cell_type": "code",
   "execution_count": 39,
   "id": "f218a6d9-dc50-4cca-addd-ba254e02251f",
   "metadata": {},
   "outputs": [],
   "source": [
    "eq_metric.apply_map(lambda f :f.substitute_function(Lambda,Lamb).factor().simplify_trig())"
   ]
  },
  {
   "cell_type": "code",
   "execution_count": 40,
   "id": "3741f971-3d73-4e36-ac87-b4166ec50817",
   "metadata": {},
   "outputs": [
    {
     "data": {
      "text/html": [
       "<html>\\(\\displaystyle G_{\\mu \\nu} - \\frac{T_{\\mu \\nu}}{\\vartheta} + \\vartheta^{-2} \\left[\\nabla_\\mu \\nabla_\\nu - g_{\\mu \\nu} \\Box \\right] \\vartheta^{2} =  \\left(\\begin{array}{rrrr}\n",
       "0 & 0 & 0 & 0 \\\\\n",
       "0 & 0 & 0 & 0 \\\\\n",
       "0 & 0 & 0 & 0 \\\\\n",
       "0 & 0 & 0 & 0\n",
       "\\end{array}\\right)\\)</html>"
      ],
      "text/latex": [
       "$\\displaystyle G_{\\mu \\nu} - \\frac{T_{\\mu \\nu}}{\\vartheta} + \\vartheta^{-2} \\left[\\nabla_\\mu \\nabla_\\nu - g_{\\mu \\nu} \\Box \\right] \\vartheta^{2} =  \\left(\\begin{array}{rrrr}\n",
       "0 & 0 & 0 & 0 \\\\\n",
       "0 & 0 & 0 & 0 \\\\\n",
       "0 & 0 & 0 & 0 \\\\\n",
       "0 & 0 & 0 & 0\n",
       "\\end{array}\\right)$"
      ],
      "text/plain": [
       "G_{\\mu \\nu} - \\frac{T_{\\mu \\nu}}{\\vartheta} + \\vartheta^{-2} \\left[\\nabla_\\mu \\nabla_\\nu - g_{\\mu \\nu} \\Box \\right] \\vartheta^{2} =  [0 0 0 0]\n",
       "[0 0 0 0]\n",
       "[0 0 0 0]\n",
       "[0 0 0 0]"
      ]
     },
     "metadata": {},
     "output_type": "display_data"
    }
   ],
   "source": [
    "latex_str = r'G_{\\mu \\nu} - \\frac{T_{\\mu \\nu}}{\\vartheta} + \\vartheta^{-2} \\left[\\nabla_\\mu \\nabla_\\nu - g_{\\mu \\nu} \\Box \\right] \\vartheta^{2} = ' \n",
    "show(LatexExpr(latex_str), eq_metric[:])"
   ]
  },
  {
   "cell_type": "code",
   "execution_count": 41,
   "id": "99925e35-f471-43d8-8a57-7664d9ead4cf",
   "metadata": {},
   "outputs": [
    {
     "data": {
      "text/html": [
       "<html>\\(\\displaystyle T = 0\\)</html>"
      ],
      "text/latex": [
       "$\\displaystyle T = 0$"
      ],
      "text/plain": [
       "T = 0"
      ]
     },
     "metadata": {},
     "output_type": "display_data"
    }
   ],
   "source": [
    "Trace = (T1+T2).trace(using = g)\n",
    "show(LatexExpr(r'T ='), Trace.expr())"
   ]
  },
  {
   "cell_type": "markdown",
   "id": "46a989de",
   "metadata": {},
   "source": [
    "# IN CONCLUSION, THE VAIDYA'S SOLUTION WITH AN EXTERNAL ELECTRIC CHARGE IS SOLUTION IN ER"
   ]
  },
  {
   "cell_type": "code",
   "execution_count": null,
   "id": "3c44e1e0",
   "metadata": {},
   "outputs": [],
   "source": []
  }
 ],
 "metadata": {
  "kernelspec": {
   "display_name": "SageMath 10.1",
   "language": "sage",
   "name": "sagemath"
  },
  "language_info": {
   "codemirror_mode": {
    "name": "ipython",
    "version": 3
   },
   "file_extension": ".py",
   "mimetype": "text/x-python",
   "name": "python",
   "nbconvert_exporter": "python",
   "pygments_lexer": "ipython3",
   "version": "3.10.12"
  }
 },
 "nbformat": 4,
 "nbformat_minor": 5
}
