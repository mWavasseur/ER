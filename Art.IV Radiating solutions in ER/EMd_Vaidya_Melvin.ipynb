{
 "cells": [
  {
   "cell_type": "markdown",
   "id": "3e248f94",
   "metadata": {},
   "source": [
    "# MINEUR-VAIDYA RADIATING SOLUTIONS EMBEDDED INTO AN EXTERNAL MAGNETIC FIELD IN EMD"
   ]
  },
  {
   "cell_type": "markdown",
   "id": "86dde428",
   "metadata": {},
   "source": [
    "The Vaidya radiating solutions reads as follows:\n",
    "\n",
    "\\begin{equation}\n",
    "d\\tilde{s}^2 = - \\left(1-\\frac{r_s(v)}{r} \\right) dv^2 + 2 \\epsilon dv dr + r^2 (d\\theta^2 + \\sin^2 \\theta d\\varphi^2),\n",
    "\\end{equation}\n",
    "\n",
    "in the Eddington-Finkelstein (IEF) coordinates $v:=t+\\epsilon r$ for the $\\textbf{ingoing}$ ($\\epsilon=1$) and $\\textbf{outgoing}$ ($\\epsilon=-1$) cases respectively. \n",
    "\n",
    "They are solutions to the equation of General Relativity without a cosmological constant that is sourced by a spherical symmetric electromagnetic radiation within the geometrical optics approximation:\n",
    "\n",
    "\\begin{equation}\n",
    "\\tilde{T}^{\\mu \\nu} =  \\epsilon\\frac{2r_s(v)}{r^2} k^\\mu k^\\nu,\n",
    "\\end{equation}\n",
    "with $k_\\alpha:= - \\partial_\\alpha v$. \n",
    "\n",
    "We then embbed this solution into an external magnetic field following the Dowker et al. (1994) solution generating technique:\n",
    "\n",
    "\\begin{align}\n",
    "\t\tg'_{ij} &= \\Lambda^{\\frac{2}{1+\\alpha^{2}}} g_{ij}, \\quad\n",
    "\t\tg'_{\\varphi\\varphi} = \\Lambda^{-\\frac{2}{1+\\alpha^{2}}} g_{\\varphi\\varphi}, \\quad\n",
    "\t\te^{-2 a \\phi'} = e^{-2 a \\phi}\\,\\Lambda^{\\frac{2 \\alpha^{2}}{1+\\alpha^{2}}},\\nonumber\\\\\n",
    "\t\tA'_{\\varphi} &= - \\frac{2}{(1+\\alpha^{2})\\, B\\, \\Lambda},\\quad\\Lambda = 1+ \\frac{1+\\alpha^2}{4} B^2 r^2 \\sin^2 \\theta\\nonumber\n",
    "\\end{align}\n",
    "    \n",
    "The Einstein-Maxwell-Dilaton equations can be written as:\n",
    "\n",
    "\\begin{align}\n",
    "\\nabla_\\mu\\!\\left(e^{-2\\alpha\\Phi} F^{\\mu\\nu}\\right) &= 0,\\\\[4pt]\n",
    "\\nabla^2\\Phi + \\frac{\\alpha}{2}\\,e^{-2\\alpha\\Phi} F^{2} &= 0,\\\\[4pt]\n",
    "R_{\\mu\\nu} &= 2\\,\\nabla_\\mu\\Phi\\,\\nabla_\\nu\\Phi\n",
    "            + 2\\,e^{-2\\alpha\\Phi} F_{\\mu\\rho} F_{\\nu}{}^{\\rho}\n",
    "            - \\frac{1}{2}\\,g_{\\mu\\nu}\\,e^{-2\\alpha\\Phi} F^{2}.\n",
    "\\end{align}\n"
   ]
  },
  {
   "cell_type": "code",
   "execution_count": 2,
   "id": "20b437f8-845d-40e2-9f7d-4f03d25d3ced",
   "metadata": {},
   "outputs": [],
   "source": [
    "%display latex"
   ]
  },
  {
   "cell_type": "code",
   "execution_count": 3,
   "id": "8240ef05-3490-4ba6-ae7d-6448e450f805",
   "metadata": {},
   "outputs": [
    {
     "name": "stdout",
     "output_type": "stream",
     "text": [
      "4-dimensional Lorentzian manifold M\n"
     ]
    }
   ],
   "source": [
    "M = Manifold(4, 'M', structure='Lorentzian')\n",
    "print(M)"
   ]
  },
  {
   "cell_type": "code",
   "execution_count": 4,
   "id": "df985ca1-6598-4cba-bab2-837ea92eb2fc",
   "metadata": {},
   "outputs": [
    {
     "data": {
      "text/html": [
       "<html>\\(\\displaystyle \\left(M,(u, r, {\\theta}, {\\varphi})\\right)\\)</html>"
      ],
      "text/latex": [
       "$\\displaystyle \\left(M,(u, r, {\\theta}, {\\varphi})\\right)$"
      ],
      "text/plain": [
       "Chart (M, (u, r, th, ph))"
      ]
     },
     "execution_count": 4,
     "metadata": {},
     "output_type": "execute_result"
    }
   ],
   "source": [
    "XN.<u,r,th,ph> = M.chart(r'u r:(0,+oo) th:(0,pi):\\theta ph:(0,2*pi):\\varphi:periodic')\n",
    "XN"
   ]
  },
  {
   "cell_type": "code",
   "execution_count": 5,
   "id": "3df7e71b-9c3a-4e21-8864-d24eacc8b443",
   "metadata": {},
   "outputs": [
    {
     "data": {
      "text/html": [
       "<html>\\(\\displaystyle u :\\ \\left( -\\infty, +\\infty \\right) ;\\quad r :\\ \\left( 0 , +\\infty \\right) ;\\quad {\\theta} :\\ \\left( 0 , \\pi \\right) ;\\quad {\\varphi} :\\ \\left[ 0 , 2 \\, \\pi \\right] \\text{(periodic)}\\)</html>"
      ],
      "text/latex": [
       "$\\displaystyle u :\\ \\left( -\\infty, +\\infty \\right) ;\\quad r :\\ \\left( 0 , +\\infty \\right) ;\\quad {\\theta} :\\ \\left( 0 , \\pi \\right) ;\\quad {\\varphi} :\\ \\left[ 0 , 2 \\, \\pi \\right] \\text{(periodic)}$"
      ],
      "text/plain": [
       "u: (-oo, +oo); r: (0, +oo); th: (0, pi); ph: [0, 2*pi] (periodic)"
      ]
     },
     "execution_count": 5,
     "metadata": {},
     "output_type": "execute_result"
    }
   ],
   "source": [
    "XN.coord_range()"
   ]
  },
  {
   "cell_type": "markdown",
   "id": "c899ac95",
   "metadata": {},
   "source": [
    "# I. Definition of the metric"
   ]
  },
  {
   "cell_type": "code",
   "execution_count": 6,
   "id": "59e21e43",
   "metadata": {},
   "outputs": [],
   "source": [
    "ingoing=True #change to False to get the outgoing radiation case"
   ]
  },
  {
   "cell_type": "code",
   "execution_count": 7,
   "id": "2c1cfcec-a4d0-46b6-8b0b-29b59edb08bb",
   "metadata": {},
   "outputs": [
    {
     "data": {
      "text/html": [
       "<html>\\(\\displaystyle g = \\left( \\Lambda\\left(r, {\\theta}\\right)^{\\frac{2}{a^{2} + 1}} {\\left(\\frac{2 \\, m\\left(u\\right)}{r} - 1\\right)} \\right) \\mathrm{d} u\\otimes \\mathrm{d} u + \\left( \\Lambda\\left(r, {\\theta}\\right)^{\\frac{2}{a^{2} + 1}} \\right) \\mathrm{d} u\\otimes \\mathrm{d} r + \\left( \\Lambda\\left(r, {\\theta}\\right)^{\\frac{2}{a^{2} + 1}} \\right) \\mathrm{d} r\\otimes \\mathrm{d} u + \\left( r^{2} \\Lambda\\left(r, {\\theta}\\right)^{\\frac{2}{a^{2} + 1}} \\right) \\mathrm{d} {\\theta}\\otimes \\mathrm{d} {\\theta} + \\left( \\frac{r^{2} \\sin\\left({\\theta}\\right)^{2}}{\\Lambda\\left(r, {\\theta}\\right)^{\\frac{2}{a^{2} + 1}}} \\right) \\mathrm{d} {\\varphi}\\otimes \\mathrm{d} {\\varphi}\\)</html>"
      ],
      "text/latex": [
       "$\\displaystyle g = \\left( \\Lambda\\left(r, {\\theta}\\right)^{\\frac{2}{a^{2} + 1}} {\\left(\\frac{2 \\, m\\left(u\\right)}{r} - 1\\right)} \\right) \\mathrm{d} u\\otimes \\mathrm{d} u + \\left( \\Lambda\\left(r, {\\theta}\\right)^{\\frac{2}{a^{2} + 1}} \\right) \\mathrm{d} u\\otimes \\mathrm{d} r + \\left( \\Lambda\\left(r, {\\theta}\\right)^{\\frac{2}{a^{2} + 1}} \\right) \\mathrm{d} r\\otimes \\mathrm{d} u + \\left( r^{2} \\Lambda\\left(r, {\\theta}\\right)^{\\frac{2}{a^{2} + 1}} \\right) \\mathrm{d} {\\theta}\\otimes \\mathrm{d} {\\theta} + \\left( \\frac{r^{2} \\sin\\left({\\theta}\\right)^{2}}{\\Lambda\\left(r, {\\theta}\\right)^{\\frac{2}{a^{2} + 1}}} \\right) \\mathrm{d} {\\varphi}\\otimes \\mathrm{d} {\\varphi}$"
      ],
      "text/plain": [
       "g = Lambda(r, th)^(2/(a^2 + 1))*(2*m(u)/r - 1) du⊗du + Lambda(r, th)^(2/(a^2 + 1)) du⊗dr + Lambda(r, th)^(2/(a^2 + 1)) dr⊗du + r^2*Lambda(r, th)^(2/(a^2 + 1)) dth⊗dth + r^2*sin(th)^2/Lambda(r, th)^(2/(a^2 + 1)) dph⊗dph"
      ]
     },
     "execution_count": 7,
     "metadata": {},
     "output_type": "execute_result"
    }
   ],
   "source": [
    "if ingoing: \n",
    "    eps=1\n",
    "else:\n",
    "    eps=-1\n",
    "    \n",
    "############################\n",
    "#   Functions & variables  #\n",
    "############################\n",
    "    \n",
    "m = function('m')\n",
    "Lambda = function('Lambda')\n",
    "B = var('B')\n",
    "a = var('a')\n",
    "\n",
    "Phi = M.scalar_field({XN:- a / (1+a**2) * log(Lambda(r,th))}, name=r'\\phi') \n",
    "Psi = M.scalar_field({XN:1 / (Lambda(r,th))**(2*a**2/(1+a**2))}, name=r'\\Psi')\n",
    "\n",
    "g = M.metric()\n",
    "g[0,0] = -(1 - 2*m(u)/r) * Lambda(r,th)**(2/(1+a**2))\n",
    "g[0,1] =  eps*Lambda(r,th)**(2/(1+a**2))\n",
    "g[2,2] = r**2 * Lambda(r,th)**(2/(1+a**2))\n",
    "g[3,3] = (r*sin(th))**2 / Lambda(r,th)**(2/(1+a**2))\n",
    "\n",
    "Lamb(r, th) = 1 + (1+a**2) / 4 * B**2 * (r*sin(th))**2 \n",
    "\n",
    "g.display()"
   ]
  },
  {
   "cell_type": "markdown",
   "id": "ea3bd2ed-75b7-46fa-9f6c-8399c802dab8",
   "metadata": {},
   "source": [
    "## I.1 The wave vector $k$"
   ]
  },
  {
   "cell_type": "code",
   "execution_count": 8,
   "id": "9bf6fa43-b555-485f-8e36-e78dd26a2dfe",
   "metadata": {},
   "outputs": [
    {
     "data": {
      "text/html": [
       "<html>\\(\\displaystyle \\left(M, \\left(\\mathrm{d} u,\\mathrm{d} r,\\mathrm{d} {\\theta},\\mathrm{d} {\\varphi}\\right)\\right)\\)</html>"
      ],
      "text/latex": [
       "$\\displaystyle \\left(M, \\left(\\mathrm{d} u,\\mathrm{d} r,\\mathrm{d} {\\theta},\\mathrm{d} {\\varphi}\\right)\\right)$"
      ],
      "text/plain": [
       "Coordinate coframe (M, (du,dr,dth,dph))"
      ]
     },
     "execution_count": 8,
     "metadata": {},
     "output_type": "execute_result"
    }
   ],
   "source": [
    "XN.coframe()"
   ]
  },
  {
   "cell_type": "code",
   "execution_count": 9,
   "id": "3a66675d-57b8-458c-a11b-b21a18c4dca1",
   "metadata": {},
   "outputs": [
    {
     "data": {
      "text/html": [
       "<html>\\(\\displaystyle \\mathrm{d} u = \\mathrm{d} u\\)</html>"
      ],
      "text/latex": [
       "$\\displaystyle \\mathrm{d} u = \\mathrm{d} u$"
      ],
      "text/plain": [
       "du = du"
      ]
     },
     "execution_count": 9,
     "metadata": {},
     "output_type": "execute_result"
    }
   ],
   "source": [
    "du = XN.coframe()[0]\n",
    "du.display()"
   ]
  },
  {
   "cell_type": "code",
   "execution_count": 10,
   "id": "351d3d1e-e65a-4104-984a-4dccca15fcc4",
   "metadata": {},
   "outputs": [
    {
     "data": {
      "text/html": [
       "<html>\\(\\displaystyle k = \\left( -\\frac{1}{\\Lambda\\left(r, {\\theta}\\right)^{\\frac{2}{a^{2} + 1}}} \\right) \\frac{\\partial}{\\partial r }\\)</html>"
      ],
      "text/latex": [
       "$\\displaystyle k = \\left( -\\frac{1}{\\Lambda\\left(r, {\\theta}\\right)^{\\frac{2}{a^{2} + 1}}} \\right) \\frac{\\partial}{\\partial r }$"
      ],
      "text/plain": [
       "k = -1/Lambda(r, th)^(2/(a^2 + 1)) ∂/∂r"
      ]
     },
     "execution_count": 10,
     "metadata": {},
     "output_type": "execute_result"
    }
   ],
   "source": [
    "k = - du.up(g)\n",
    "k.set_name('k')\n",
    "k.display()"
   ]
  },
  {
   "cell_type": "markdown",
   "id": "291957b7",
   "metadata": {},
   "source": [
    "Let's check that the metric field is sourced by a conformally invariant (null) field ($k_\\sigma k^\\sigma =0$). "
   ]
  },
  {
   "cell_type": "code",
   "execution_count": 11,
   "id": "6427ea35-ceba-4778-b06a-eafb2bb048bb",
   "metadata": {},
   "outputs": [
    {
     "data": {
      "text/html": [
       "<html>\\(\\displaystyle 0\\)</html>"
      ],
      "text/latex": [
       "$\\displaystyle 0$"
      ],
      "text/plain": [
       "0"
      ]
     },
     "execution_count": 11,
     "metadata": {},
     "output_type": "execute_result"
    }
   ],
   "source": [
    "g(k, k).expr()"
   ]
  },
  {
   "cell_type": "markdown",
   "id": "02ea88b9",
   "metadata": {},
   "source": [
    "And"
   ]
  },
  {
   "cell_type": "code",
   "execution_count": 12,
   "id": "ab75a595-a9dc-4c72-aed3-55edbed5d642",
   "metadata": {},
   "outputs": [
    {
     "data": {
      "text/html": [
       "<html>\\(\\displaystyle 0\\)</html>"
      ],
      "text/latex": [
       "$\\displaystyle 0$"
      ],
      "text/plain": [
       "0"
      ]
     },
     "execution_count": 12,
     "metadata": {},
     "output_type": "execute_result"
    }
   ],
   "source": [
    "nabla = g.connection()\n",
    "acc = nabla(k).contract(k)\n",
    "acc.display()"
   ]
  },
  {
   "cell_type": "markdown",
   "id": "212593d2",
   "metadata": {},
   "source": [
    "Let's verify the Ricci scalar is zero in the limit $B\\rightarrow0$"
   ]
  },
  {
   "cell_type": "code",
   "execution_count": 13,
   "id": "eae9b168",
   "metadata": {},
   "outputs": [
    {
     "data": {
      "text/html": [
       "<html>\\(\\displaystyle 0\\)</html>"
      ],
      "text/latex": [
       "$\\displaystyle 0$"
      ],
      "text/plain": [
       "0"
      ]
     },
     "execution_count": 13,
     "metadata": {},
     "output_type": "execute_result"
    }
   ],
   "source": [
    "g.ricci_scalar().expr().substitute_function(Lambda,Lamb).subs(B=0).factor()"
   ]
  },
  {
   "cell_type": "markdown",
   "id": "a969a0ec-d280-4bf7-b675-2cc80f303f2f",
   "metadata": {},
   "source": [
    "## I.2 Ingoing Eddington-Finkelstein coordinates $(t,r,\\theta,\\varphi)$ \n",
    "\n",
    "Let us introduce a new chart $(t,r,\\theta,\\varphi)$ such that the advanced time $t+\\epsilon r$ is $\\xi$: $\\xi = t + \\epsilon r$; this is the \n",
    "analog of **ingoing/outgoing Eddington-Finkelstein (IEF) coordinates** in Schwarzschild spacetime."
   ]
  },
  {
   "cell_type": "code",
   "execution_count": 14,
   "id": "5834ded5-88ed-4aa9-95b1-3720978270eb",
   "metadata": {},
   "outputs": [
    {
     "data": {
      "text/html": [
       "<html>\\(\\displaystyle \\left(M,(t, r, {\\theta}, {\\varphi})\\right)\\)</html>"
      ],
      "text/latex": [
       "$\\displaystyle \\left(M,(t, r, {\\theta}, {\\varphi})\\right)$"
      ],
      "text/plain": [
       "Chart (M, (t, r, th, ph))"
      ]
     },
     "execution_count": 14,
     "metadata": {},
     "output_type": "execute_result"
    }
   ],
   "source": [
    "X.<t,r,th,ph> = M.chart(r't r:(0,+oo) th:(0,pi):\\theta ph:(0,2*pi):\\varphi:periodic')\n",
    "X"
   ]
  },
  {
   "cell_type": "code",
   "execution_count": 15,
   "id": "e118c8b9-ae34-4c4a-be84-76b9badbbcb7",
   "metadata": {},
   "outputs": [
    {
     "data": {
      "text/html": [
       "<html>\\(\\displaystyle t :\\ \\left( -\\infty, +\\infty \\right) ;\\quad r :\\ \\left( 0 , +\\infty \\right) ;\\quad {\\theta} :\\ \\left( 0 , \\pi \\right) ;\\quad {\\varphi} :\\ \\left[ 0 , 2 \\, \\pi \\right] \\text{(periodic)}\\)</html>"
      ],
      "text/latex": [
       "$\\displaystyle t :\\ \\left( -\\infty, +\\infty \\right) ;\\quad r :\\ \\left( 0 , +\\infty \\right) ;\\quad {\\theta} :\\ \\left( 0 , \\pi \\right) ;\\quad {\\varphi} :\\ \\left[ 0 , 2 \\, \\pi \\right] \\text{(periodic)}$"
      ],
      "text/plain": [
       "t: (-oo, +oo); r: (0, +oo); th: (0, pi); ph: [0, 2*pi] (periodic)"
      ]
     },
     "execution_count": 15,
     "metadata": {},
     "output_type": "execute_result"
    }
   ],
   "source": [
    "X.coord_range()"
   ]
  },
  {
   "cell_type": "code",
   "execution_count": 16,
   "id": "275839be-5658-42bc-96e4-4fcd8c7bfd0e",
   "metadata": {},
   "outputs": [
    {
     "data": {
      "text/html": [
       "<html>\\(\\displaystyle \\left\\{\\begin{array}{lcl} u & = & r + t \\\\ r & = & r \\\\ {\\theta} & = & {\\theta} \\\\ {\\varphi} & = & {\\varphi} \\end{array}\\right.\\)</html>"
      ],
      "text/latex": [
       "$\\displaystyle \\left\\{\\begin{array}{lcl} u & = & r + t \\\\ r & = & r \\\\ {\\theta} & = & {\\theta} \\\\ {\\varphi} & = & {\\varphi} \\end{array}\\right.$"
      ],
      "text/plain": [
       "u = r + t\n",
       "r = r\n",
       "th = th\n",
       "ph = ph"
      ]
     },
     "execution_count": 16,
     "metadata": {},
     "output_type": "execute_result"
    }
   ],
   "source": [
    "X_to_XN = X.transition_map(XN, (t + eps*r, r, th, ph))\n",
    "X_to_XN.display()"
   ]
  },
  {
   "cell_type": "code",
   "execution_count": 17,
   "id": "ae029154-f0f6-4113-822e-db43d520d60d",
   "metadata": {},
   "outputs": [
    {
     "data": {
      "text/html": [
       "<html>\\(\\displaystyle \\left\\{\\begin{array}{lcl} t & = & -r + u \\\\ r & = & r \\\\ {\\theta} & = & {\\theta} \\\\ {\\varphi} & = & {\\varphi} \\end{array}\\right.\\)</html>"
      ],
      "text/latex": [
       "$\\displaystyle \\left\\{\\begin{array}{lcl} t & = & -r + u \\\\ r & = & r \\\\ {\\theta} & = & {\\theta} \\\\ {\\varphi} & = & {\\varphi} \\end{array}\\right.$"
      ],
      "text/plain": [
       "t = -r + u\n",
       "r = r\n",
       "th = th\n",
       "ph = ph"
      ]
     },
     "execution_count": 17,
     "metadata": {},
     "output_type": "execute_result"
    }
   ],
   "source": [
    "X_to_XN.inverse().display()"
   ]
  },
  {
   "cell_type": "code",
   "execution_count": 18,
   "id": "6beb4ebe-da4b-43b4-b5dd-08909c24a03c",
   "metadata": {},
   "outputs": [],
   "source": [
    "M.set_default_chart(X)\n",
    "M.set_default_frame(X.frame())"
   ]
  },
  {
   "cell_type": "code",
   "execution_count": 19,
   "id": "5c76515f-381b-47e5-867c-87509c0f4ac3",
   "metadata": {},
   "outputs": [
    {
     "data": {
      "text/html": [
       "<html>\\(\\displaystyle g = \\left( -\\frac{r \\Lambda\\left(r, {\\theta}\\right)^{\\frac{2}{a^{2} + 1}} - 2 \\, \\Lambda\\left(r, {\\theta}\\right)^{\\frac{2}{a^{2} + 1}} m\\left(r + t\\right)}{r} \\right) \\mathrm{d} t\\otimes \\mathrm{d} t + \\left( \\frac{2 \\, \\Lambda\\left(r, {\\theta}\\right)^{\\frac{2}{a^{2} + 1}} m\\left(r + t\\right)}{r} \\right) \\mathrm{d} t\\otimes \\mathrm{d} r + \\left( \\frac{2 \\, \\Lambda\\left(r, {\\theta}\\right)^{\\frac{2}{a^{2} + 1}} m\\left(r + t\\right)}{r} \\right) \\mathrm{d} r\\otimes \\mathrm{d} t + \\left( \\frac{r \\Lambda\\left(r, {\\theta}\\right)^{\\frac{2}{a^{2} + 1}} + 2 \\, \\Lambda\\left(r, {\\theta}\\right)^{\\frac{2}{a^{2} + 1}} m\\left(r + t\\right)}{r} \\right) \\mathrm{d} r\\otimes \\mathrm{d} r + \\left( r^{2} \\Lambda\\left(r, {\\theta}\\right)^{\\frac{2}{a^{2} + 1}} \\right) \\mathrm{d} {\\theta}\\otimes \\mathrm{d} {\\theta} + \\left( \\frac{r^{2} \\sin\\left({\\theta}\\right)^{2}}{\\Lambda\\left(r, {\\theta}\\right)^{\\frac{2}{a^{2} + 1}}} \\right) \\mathrm{d} {\\varphi}\\otimes \\mathrm{d} {\\varphi}\\)</html>"
      ],
      "text/latex": [
       "$\\displaystyle g = \\left( -\\frac{r \\Lambda\\left(r, {\\theta}\\right)^{\\frac{2}{a^{2} + 1}} - 2 \\, \\Lambda\\left(r, {\\theta}\\right)^{\\frac{2}{a^{2} + 1}} m\\left(r + t\\right)}{r} \\right) \\mathrm{d} t\\otimes \\mathrm{d} t + \\left( \\frac{2 \\, \\Lambda\\left(r, {\\theta}\\right)^{\\frac{2}{a^{2} + 1}} m\\left(r + t\\right)}{r} \\right) \\mathrm{d} t\\otimes \\mathrm{d} r + \\left( \\frac{2 \\, \\Lambda\\left(r, {\\theta}\\right)^{\\frac{2}{a^{2} + 1}} m\\left(r + t\\right)}{r} \\right) \\mathrm{d} r\\otimes \\mathrm{d} t + \\left( \\frac{r \\Lambda\\left(r, {\\theta}\\right)^{\\frac{2}{a^{2} + 1}} + 2 \\, \\Lambda\\left(r, {\\theta}\\right)^{\\frac{2}{a^{2} + 1}} m\\left(r + t\\right)}{r} \\right) \\mathrm{d} r\\otimes \\mathrm{d} r + \\left( r^{2} \\Lambda\\left(r, {\\theta}\\right)^{\\frac{2}{a^{2} + 1}} \\right) \\mathrm{d} {\\theta}\\otimes \\mathrm{d} {\\theta} + \\left( \\frac{r^{2} \\sin\\left({\\theta}\\right)^{2}}{\\Lambda\\left(r, {\\theta}\\right)^{\\frac{2}{a^{2} + 1}}} \\right) \\mathrm{d} {\\varphi}\\otimes \\mathrm{d} {\\varphi}$"
      ],
      "text/plain": [
       "g = -(r*Lambda(r, th)^(2/(a^2 + 1)) - 2*Lambda(r, th)^(2/(a^2 + 1))*m(r + t))/r dt⊗dt + 2*Lambda(r, th)^(2/(a^2 + 1))*m(r + t)/r dt⊗dr + 2*Lambda(r, th)^(2/(a^2 + 1))*m(r + t)/r dr⊗dt + (r*Lambda(r, th)^(2/(a^2 + 1)) + 2*Lambda(r, th)^(2/(a^2 + 1))*m(r + t))/r dr⊗dr + r^2*Lambda(r, th)^(2/(a^2 + 1)) dth⊗dth + r^2*sin(th)^2/Lambda(r, th)^(2/(a^2 + 1)) dph⊗dph"
      ]
     },
     "execution_count": 19,
     "metadata": {},
     "output_type": "execute_result"
    }
   ],
   "source": [
    "g.display()"
   ]
  },
  {
   "cell_type": "markdown",
   "id": "8835b227-7409-4744-83e2-6800214aa39d",
   "metadata": {},
   "source": [
    "# II. The vector potential"
   ]
  },
  {
   "cell_type": "code",
   "execution_count": 20,
   "id": "53b10cc5-61b2-4f60-a6da-da5336a95d09",
   "metadata": {},
   "outputs": [
    {
     "data": {
      "text/html": [
       "<html>\\(\\displaystyle A = -\\frac{2}{{\\left(a^{2} + 1\\right)} B \\Lambda\\left(r, {\\theta}\\right)} \\mathrm{d} {\\varphi}\\)</html>"
      ],
      "text/latex": [
       "$\\displaystyle A = -\\frac{2}{{\\left(a^{2} + 1\\right)} B \\Lambda\\left(r, {\\theta}\\right)} \\mathrm{d} {\\varphi}$"
      ],
      "text/plain": [
       "A = -2/((a^2 + 1)*B*Lambda(r, th)) dph"
      ]
     },
     "metadata": {},
     "output_type": "display_data"
    }
   ],
   "source": [
    "pot_vec = M.tensor_field(0,1,name='A')\n",
    "pot_vec[0]=0\n",
    "pot_vec[1]=0\n",
    "pot_vec[2]=0\n",
    "pot_vec[3]=- 2 / B / Lambda(r,th) / (1+a**2)\n",
    "\n",
    "show(pot_vec.display())"
   ]
  },
  {
   "cell_type": "code",
   "execution_count": 21,
   "id": "feb89e76-7650-4413-a9c6-b03f056ff184",
   "metadata": {},
   "outputs": [],
   "source": [
    "nab = g.connection(name=r'\\nabla')"
   ]
  },
  {
   "cell_type": "code",
   "execution_count": 22,
   "id": "a99821d1-5713-409a-9f1d-e1a31ae93289",
   "metadata": {},
   "outputs": [
    {
     "data": {
      "text/html": [
       "<html>\\(\\displaystyle F = \\frac{2 \\, \\frac{\\partial\\,\\Lambda}{\\partial r}}{{\\left(B a^{2} + B\\right)} \\Lambda\\left(r, {\\theta}\\right)^{2}} \\mathrm{d} r\\wedge \\mathrm{d} {\\varphi} + \\frac{2 \\, \\frac{\\partial\\,\\Lambda}{\\partial {\\theta}}}{{\\left(B a^{2} + B\\right)} \\Lambda\\left(r, {\\theta}\\right)^{2}} \\mathrm{d} {\\theta}\\wedge \\mathrm{d} {\\varphi}\\)</html>"
      ],
      "text/latex": [
       "$\\displaystyle F = \\frac{2 \\, \\frac{\\partial\\,\\Lambda}{\\partial r}}{{\\left(B a^{2} + B\\right)} \\Lambda\\left(r, {\\theta}\\right)^{2}} \\mathrm{d} r\\wedge \\mathrm{d} {\\varphi} + \\frac{2 \\, \\frac{\\partial\\,\\Lambda}{\\partial {\\theta}}}{{\\left(B a^{2} + B\\right)} \\Lambda\\left(r, {\\theta}\\right)^{2}} \\mathrm{d} {\\theta}\\wedge \\mathrm{d} {\\varphi}$"
      ],
      "text/plain": [
       "F = 2*d(Lambda)/dr/((B*a^2 + B)*Lambda(r, th)^2) dr∧dph + 2*d(Lambda)/dth/((B*a^2 + B)*Lambda(r, th)^2) dth∧dph"
      ]
     },
     "execution_count": 22,
     "metadata": {},
     "output_type": "execute_result"
    }
   ],
   "source": [
    "DF = nab(pot_vec)\n",
    "\n",
    "F = diff(pot_vec)\n",
    "F.set_name('F')\n",
    "Fuu = F.up(g)\n",
    "F.display()"
   ]
  },
  {
   "cell_type": "markdown",
   "id": "488f9ab7",
   "metadata": {},
   "source": [
    "Let's derive the corresponding magnetic field"
   ]
  },
  {
   "cell_type": "code",
   "execution_count": 23,
   "id": "0bf11f30",
   "metadata": {},
   "outputs": [
    {
     "data": {
      "text/html": [
       "<html>\\(\\displaystyle \\epsilon_{c} = \\mathrm{d} r\\otimes \\mathrm{d} {\\theta}\\otimes \\mathrm{d} {\\varphi}-\\mathrm{d} r\\otimes \\mathrm{d} {\\varphi}\\otimes \\mathrm{d} {\\theta}-\\mathrm{d} {\\theta}\\otimes \\mathrm{d} r\\otimes \\mathrm{d} {\\varphi}+\\mathrm{d} {\\theta}\\otimes \\mathrm{d} {\\varphi}\\otimes \\mathrm{d} r+\\mathrm{d} {\\varphi}\\otimes \\mathrm{d} r\\otimes \\mathrm{d} {\\theta}-\\mathrm{d} {\\varphi}\\otimes \\mathrm{d} {\\theta}\\otimes \\mathrm{d} r\\)</html>"
      ],
      "text/latex": [
       "$\\displaystyle \\epsilon_{c} = \\mathrm{d} r\\otimes \\mathrm{d} {\\theta}\\otimes \\mathrm{d} {\\varphi}-\\mathrm{d} r\\otimes \\mathrm{d} {\\varphi}\\otimes \\mathrm{d} {\\theta}-\\mathrm{d} {\\theta}\\otimes \\mathrm{d} r\\otimes \\mathrm{d} {\\varphi}+\\mathrm{d} {\\theta}\\otimes \\mathrm{d} {\\varphi}\\otimes \\mathrm{d} r+\\mathrm{d} {\\varphi}\\otimes \\mathrm{d} r\\otimes \\mathrm{d} {\\theta}-\\mathrm{d} {\\varphi}\\otimes \\mathrm{d} {\\theta}\\otimes \\mathrm{d} r$"
      ],
      "text/plain": [
       "\\epsilon_{c} = dr⊗dth⊗dph - dr⊗dph⊗dth - dth⊗dr⊗dph + dth⊗dph⊗dr + dph⊗dr⊗dth - dph⊗dth⊗dr"
      ]
     },
     "execution_count": 23,
     "metadata": {},
     "output_type": "execute_result"
    }
   ],
   "source": [
    "epsilon_3D = M.tensor_field(0,3, antisymmetric=True, name=r'\\epsilon_{c}') \n",
    "epsilon_3D[1,2,3] = 1\n",
    "epsilon_3D[2,3,1] = 1\n",
    "epsilon_3D[3,1,2] = 1\n",
    "epsilon_3D[3,2,1] = -1\n",
    "epsilon_3D[2,1,3] = -1\n",
    "epsilon_3D[1,3,2] = -1\n",
    "epsilon_3D.display()"
   ]
  },
  {
   "cell_type": "code",
   "execution_count": 46,
   "id": "2843869f",
   "metadata": {},
   "outputs": [
    {
     "data": {
      "text/html": [
       "<html>\\(\\displaystyle B^{\\mu} =  \\left[0, \\frac{16 \\, B r^{2} \\cos\\left({\\theta}\\right) \\sin\\left({\\theta}\\right)}{{\\left(B^{2} a^{2} r^{2} \\sin\\left({\\theta}\\right)^{2} + B^{2} r^{2} \\sin\\left({\\theta}\\right)^{2} + 4\\right)}^{2}}, -\\frac{16 \\, B r \\sin\\left({\\theta}\\right)^{2}}{{\\left(B^{2} a^{2} r^{2} \\sin\\left({\\theta}\\right)^{2} + B^{2} r^{2} \\sin\\left({\\theta}\\right)^{2} + 4\\right)}^{2}}, 0\\right]\\)</html>"
      ],
      "text/latex": [
       "$\\displaystyle B^{\\mu} =  \\left[0, \\frac{16 \\, B r^{2} \\cos\\left({\\theta}\\right) \\sin\\left({\\theta}\\right)}{{\\left(B^{2} a^{2} r^{2} \\sin\\left({\\theta}\\right)^{2} + B^{2} r^{2} \\sin\\left({\\theta}\\right)^{2} + 4\\right)}^{2}}, -\\frac{16 \\, B r \\sin\\left({\\theta}\\right)^{2}}{{\\left(B^{2} a^{2} r^{2} \\sin\\left({\\theta}\\right)^{2} + B^{2} r^{2} \\sin\\left({\\theta}\\right)^{2} + 4\\right)}^{2}}, 0\\right]$"
      ],
      "text/plain": [
       "B^{\\mu} =  [0,\n",
       " 16*B*r^2*cos(th)*sin(th)/(B^2*a^2*r^2*sin(th)^2 + B^2*r^2*sin(th)^2 + 4)^2,\n",
       " -16*B*r*sin(th)^2/(B^2*a^2*r^2*sin(th)^2 + B^2*r^2*sin(th)^2 + 4)^2,\n",
       " 0]"
      ]
     },
     "metadata": {},
     "output_type": "display_data"
    }
   ],
   "source": [
    "B_mag = M.tensor_field(1,0)  \n",
    "for i in [1, 2, 3]: \n",
    "    expr = 1/2 * sum(epsilon_3D[i,j,k] * F[j,k] for j in [1,2,3] for k in [1,2,3])\n",
    "    B_mag[i] = expr.expr().substitute_function(Lambda,Lamb).factor() \n",
    "show(LatexExpr(r'B^{\\mu} = '),B_mag[:])"
   ]
  },
  {
   "cell_type": "markdown",
   "id": "60f3095e",
   "metadata": {},
   "source": [
    "# III. Equations verification"
   ]
  },
  {
   "cell_type": "markdown",
   "id": "18ea1a14-df28-46d8-ba19-220cc69a282e",
   "metadata": {},
   "source": [
    "## III. 1 Verification of the Maxwell equations $\\bigtriangledown_{\\mu}(e^{-2\\alpha\\Phi}F^{\\mu\\nu})=0$"
   ]
  },
  {
   "cell_type": "code",
   "execution_count": 25,
   "id": "f518a9ca-c3f7-47a8-9f9b-a89e4d2fc9d9",
   "metadata": {},
   "outputs": [
    {
     "data": {
      "text/html": [
       "<html>\\(\\displaystyle \\bigtriangledown_{\\mu}(e^{-2\\alpha\\Phi}F^{\\mu\\nu}) =  \\left[0, 0, 0, 0\\right]\\)</html>"
      ],
      "text/latex": [
       "$\\displaystyle \\bigtriangledown_{\\mu}(e^{-2\\alpha\\Phi}F^{\\mu\\nu}) =  \\left[0, 0, 0, 0\\right]$"
      ],
      "text/plain": [
       "\\bigtriangledown_{\\mu}(e^{-2\\alpha\\Phi}F^{\\mu\\nu}) =  [0, 0, 0, 0]"
      ]
     },
     "metadata": {},
     "output_type": "display_data"
    }
   ],
   "source": [
    "eq1 = nab(Fuu / Psi)\n",
    "eq = eq1['^a._a']\n",
    "eq.apply_map(lambda f :f.substitute_function(Lambda,Lamb))\n",
    "latex_str = r'\\bigtriangledown_{\\mu}(e^{-2\\alpha\\Phi}F^{\\mu\\nu}) = ' \n",
    "show(LatexExpr(latex_str), eq[:])"
   ]
  },
  {
   "cell_type": "markdown",
   "id": "c194ddd4-bd60-41eb-afbe-1ac990272819",
   "metadata": {},
   "source": [
    "## III. 2 Verification of the equation $\\bigtriangledown^{2}\\Phi+\\frac{\\alpha}{2}e^{-2\\alpha\\Phi}F^{2}=0$ "
   ]
  },
  {
   "cell_type": "code",
   "execution_count": 26,
   "id": "55cbd9ae-ef39-42ef-9007-981045621145",
   "metadata": {},
   "outputs": [],
   "source": [
    "F2 = F['_ab']*Fuu['^ab']"
   ]
  },
  {
   "cell_type": "code",
   "execution_count": 27,
   "id": "2a128e70-ff30-4180-8724-aa027948303d",
   "metadata": {},
   "outputs": [],
   "source": [
    "eq2_1 = Phi.dalembertian()"
   ]
  },
  {
   "cell_type": "code",
   "execution_count": 28,
   "id": "e45cd47f-e269-4e00-9bc6-028bab8c49f0",
   "metadata": {},
   "outputs": [],
   "source": [
    "eq2_2 = (a/2)*F2 / Psi "
   ]
  },
  {
   "cell_type": "code",
   "execution_count": 29,
   "id": "e9d2d38d-c1d5-4fe2-acd2-75c65e64d1b4",
   "metadata": {},
   "outputs": [],
   "source": [
    "eq2 = eq2_1 + eq2_2"
   ]
  },
  {
   "cell_type": "code",
   "execution_count": 30,
   "id": "87fdf2be-6355-4bdb-b992-1a637ba796d6",
   "metadata": {},
   "outputs": [
    {
     "data": {
      "text/html": [
       "<html>\\(\\displaystyle \\bigtriangledown^{2}\\Phi+\\frac{\\alpha}{2}e^{-2\\alpha\\Phi}F^{2} =  0\\)</html>"
      ],
      "text/latex": [
       "$\\displaystyle \\bigtriangledown^{2}\\Phi+\\frac{\\alpha}{2}e^{-2\\alpha\\Phi}F^{2} =  0$"
      ],
      "text/plain": [
       "\\bigtriangledown^{2}\\Phi+\\frac{\\alpha}{2}e^{-2\\alpha\\Phi}F^{2} =  0"
      ]
     },
     "metadata": {},
     "output_type": "display_data"
    }
   ],
   "source": [
    "eq_num = numerator(eq2.expr().substitute_function(Lambda,Lamb)).factor()\n",
    "eq_num = eq_num.simplify_full()\n",
    "latex_str = r'\\bigtriangledown^{2}\\Phi+\\frac{\\alpha}{2}e^{-2\\alpha\\Phi}F^{2} = '\n",
    "show(LatexExpr(latex_str), eq_num.canonicalize_radical().factor())"
   ]
  },
  {
   "cell_type": "markdown",
   "id": "dd51ad7f-d3b8-44a1-819b-d815f56b1574",
   "metadata": {},
   "source": [
    "## III. 3 Verification of the main motion equation $R_{\\mu\\nu}=2\\triangledown_{\\mu}\\Phi\\triangledown_{\\nu}\\Phi+\\frac{T_{\\mu\\nu}}{\\Psi}$"
   ]
  },
  {
   "cell_type": "code",
   "execution_count": 31,
   "id": "c900676e-f589-4ac4-97e6-6fc374723530",
   "metadata": {},
   "outputs": [
    {
     "data": {
      "text/html": [
       "<html>\\(\\displaystyle \\frac{\\partial}{\\partial u}m\\left(u\\right)\\)</html>"
      ],
      "text/latex": [
       "$\\displaystyle \\frac{\\partial}{\\partial u}m\\left(u\\right)$"
      ],
      "text/plain": [
       "diff(m(u), u)"
      ]
     },
     "execution_count": 31,
     "metadata": {},
     "output_type": "execute_result"
    }
   ],
   "source": [
    "mp(u) = diff(m(u), u)\n",
    "mp(u)"
   ]
  },
  {
   "cell_type": "code",
   "execution_count": 32,
   "id": "7d10b44b-4c6e-4a72-82dc-a04cdfefdbe7",
   "metadata": {},
   "outputs": [],
   "source": [
    "T1 = 2*eps*mp(t+eps*r)/r^2 * Psi * du*du "
   ]
  },
  {
   "cell_type": "code",
   "execution_count": 33,
   "id": "c11cb7d0",
   "metadata": {},
   "outputs": [
    {
     "data": {
      "text/html": [
       "<html>\\(\\displaystyle \\left( \\frac{2 \\, \\frac{\\partial\\,m}{\\partial \\left( r + t \\right)}}{r^{2} \\Lambda\\left(r, {\\theta}\\right)^{\\frac{2 \\, a^{2}}{a^{2} + 1}}} \\right) \\mathrm{d} t\\otimes \\mathrm{d} t + \\left( \\frac{2 \\, \\frac{\\partial\\,m}{\\partial \\left( r + t \\right)}}{r^{2} \\Lambda\\left(r, {\\theta}\\right)^{\\frac{2 \\, a^{2}}{a^{2} + 1}}} \\right) \\mathrm{d} t\\otimes \\mathrm{d} r + \\left( \\frac{2 \\, \\frac{\\partial\\,m}{\\partial \\left( r + t \\right)}}{r^{2} \\Lambda\\left(r, {\\theta}\\right)^{\\frac{2 \\, a^{2}}{a^{2} + 1}}} \\right) \\mathrm{d} r\\otimes \\mathrm{d} t + \\left( \\frac{2 \\, \\frac{\\partial\\,m}{\\partial \\left( r + t \\right)}}{r^{2} \\Lambda\\left(r, {\\theta}\\right)^{\\frac{2 \\, a^{2}}{a^{2} + 1}}} \\right) \\mathrm{d} r\\otimes \\mathrm{d} r\\)</html>"
      ],
      "text/latex": [
       "$\\displaystyle \\left( \\frac{2 \\, \\frac{\\partial\\,m}{\\partial \\left( r + t \\right)}}{r^{2} \\Lambda\\left(r, {\\theta}\\right)^{\\frac{2 \\, a^{2}}{a^{2} + 1}}} \\right) \\mathrm{d} t\\otimes \\mathrm{d} t + \\left( \\frac{2 \\, \\frac{\\partial\\,m}{\\partial \\left( r + t \\right)}}{r^{2} \\Lambda\\left(r, {\\theta}\\right)^{\\frac{2 \\, a^{2}}{a^{2} + 1}}} \\right) \\mathrm{d} t\\otimes \\mathrm{d} r + \\left( \\frac{2 \\, \\frac{\\partial\\,m}{\\partial \\left( r + t \\right)}}{r^{2} \\Lambda\\left(r, {\\theta}\\right)^{\\frac{2 \\, a^{2}}{a^{2} + 1}}} \\right) \\mathrm{d} r\\otimes \\mathrm{d} t + \\left( \\frac{2 \\, \\frac{\\partial\\,m}{\\partial \\left( r + t \\right)}}{r^{2} \\Lambda\\left(r, {\\theta}\\right)^{\\frac{2 \\, a^{2}}{a^{2} + 1}}} \\right) \\mathrm{d} r\\otimes \\mathrm{d} r$"
      ],
      "text/plain": [
       "2*d(m)/d(r + t)/(r^2*Lambda(r, th)^(2*a^2/(a^2 + 1))) dt⊗dt + 2*d(m)/d(r + t)/(r^2*Lambda(r, th)^(2*a^2/(a^2 + 1))) dt⊗dr + 2*d(m)/d(r + t)/(r^2*Lambda(r, th)^(2*a^2/(a^2 + 1))) dr⊗dt + 2*d(m)/d(r + t)/(r^2*Lambda(r, th)^(2*a^2/(a^2 + 1))) dr⊗dr"
      ]
     },
     "execution_count": 33,
     "metadata": {},
     "output_type": "execute_result"
    }
   ],
   "source": [
    "T1.display()"
   ]
  },
  {
   "cell_type": "code",
   "execution_count": 34,
   "id": "d6b417a5-ed83-4020-a813-7cc938fab3f5",
   "metadata": {},
   "outputs": [],
   "source": [
    "Fud = F.up(g,0)\n",
    "F2 = F['_ab']*Fuu['^ab']\n",
    "T2 = 2*(F['_k.']*Fud['^k_.'] - 1/4*F2*g)"
   ]
  },
  {
   "cell_type": "code",
   "execution_count": 35,
   "id": "5c503f96-637f-437f-90a0-1f65cb172523",
   "metadata": {},
   "outputs": [],
   "source": [
    "T = T1+T2\n",
    "UU=T / Psi"
   ]
  },
  {
   "cell_type": "code",
   "execution_count": 36,
   "id": "56b91f1e-55f7-465a-a1e6-b2fbedfa5ae6",
   "metadata": {},
   "outputs": [],
   "source": [
    "nab_phi = nab(Phi)\n",
    "S = 2*nab_phi*nab_phi"
   ]
  },
  {
   "cell_type": "code",
   "execution_count": 37,
   "id": "e969e7e9-1cf8-4973-91f3-e663d8402f4c",
   "metadata": {},
   "outputs": [],
   "source": [
    "RHS = UU + S"
   ]
  },
  {
   "cell_type": "code",
   "execution_count": 38,
   "id": "a5b4af50-d478-4eac-b450-d9e6a231c2e4",
   "metadata": {},
   "outputs": [],
   "source": [
    "ER_ricc = g.ricci()"
   ]
  },
  {
   "cell_type": "code",
   "execution_count": 39,
   "id": "7381e8d2-967e-4ad1-976a-827e37125b50",
   "metadata": {},
   "outputs": [],
   "source": [
    "eq3 = ER_ricc - RHS"
   ]
  },
  {
   "cell_type": "code",
   "execution_count": 40,
   "id": "ca5b2983-ea86-46a2-8ee6-e7295872ae49",
   "metadata": {},
   "outputs": [],
   "source": [
    "eq3.apply_map(lambda f :f.substitute_function(Lambda,Lamb).factor())"
   ]
  },
  {
   "cell_type": "code",
   "execution_count": 41,
   "id": "828b2029-4893-415d-9f97-94b609cdb467",
   "metadata": {},
   "outputs": [
    {
     "data": {
      "text/html": [
       "<html>\\(\\displaystyle R_{\\mu\\nu}-2\\triangledown_{\\mu}\\Phi\\triangledown_{\\nu}\\Phi+\\frac{T_{\\mu\\nu}}{\\Psi} =  \\left(\\begin{array}{rrrr}\n",
       "0 & 0 & 0 & 0 \\\\\n",
       "0 & 0 & 0 & 0 \\\\\n",
       "0 & 0 & 0 & 0 \\\\\n",
       "0 & 0 & 0 & 0\n",
       "\\end{array}\\right)\\)</html>"
      ],
      "text/latex": [
       "$\\displaystyle R_{\\mu\\nu}-2\\triangledown_{\\mu}\\Phi\\triangledown_{\\nu}\\Phi+\\frac{T_{\\mu\\nu}}{\\Psi} =  \\left(\\begin{array}{rrrr}\n",
       "0 & 0 & 0 & 0 \\\\\n",
       "0 & 0 & 0 & 0 \\\\\n",
       "0 & 0 & 0 & 0 \\\\\n",
       "0 & 0 & 0 & 0\n",
       "\\end{array}\\right)$"
      ],
      "text/plain": [
       "R_{\\mu\\nu}-2\\triangledown_{\\mu}\\Phi\\triangledown_{\\nu}\\Phi+\\frac{T_{\\mu\\nu}}{\\Psi} =  [0 0 0 0]\n",
       "[0 0 0 0]\n",
       "[0 0 0 0]\n",
       "[0 0 0 0]"
      ]
     },
     "metadata": {},
     "output_type": "display_data"
    }
   ],
   "source": [
    "latex_str = r'R_{\\mu\\nu}-2\\triangledown_{\\mu}\\Phi\\triangledown_{\\nu}\\Phi+\\frac{T_{\\mu\\nu}}{\\Psi} = '\n",
    "show(LatexExpr(latex_str), eq3[:])"
   ]
  },
  {
   "cell_type": "markdown",
   "id": "b75f7d27",
   "metadata": {},
   "source": [
    "# IN CONCLUSION, THE VAIDYA'S SOLUTION WITH AN EXTERNAL MAGNETIC CHARGE IS SOLUTION IN EMD FOR ANY ARBITRARY COUPLING"
   ]
  }
 ],
 "metadata": {
  "kernelspec": {
   "display_name": "SageMath 10.1",
   "language": "sage",
   "name": "sagemath"
  },
  "language_info": {
   "codemirror_mode": {
    "name": "ipython",
    "version": 3
   },
   "file_extension": ".py",
   "mimetype": "text/x-python",
   "name": "python",
   "nbconvert_exporter": "python",
   "pygments_lexer": "ipython3",
   "version": "3.10.12"
  }
 },
 "nbformat": 4,
 "nbformat_minor": 5
}
