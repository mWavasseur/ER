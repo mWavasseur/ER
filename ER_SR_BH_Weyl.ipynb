{
 "cells": [
  {
   "cell_type": "markdown",
   "id": "be74b5e0",
   "metadata": {},
   "source": [
    "# PETROV CLASSIFICATION OF SPACE-TIME IN ER FOR SLOWLY ROTATING BLACK HOLES"
   ]
  },
  {
   "cell_type": "markdown",
   "id": "6c78c395",
   "metadata": {},
   "source": [
    "This notebook's main objective is to characterize spacetime in the case of a slowly rotating black hole within the framework of entangled relativity (ER). Here, we use the Petrov classification criteria. As external solutions of isolated bodies characterized by their mass and angular momentum, we expect to find a type D black hole. \n",
    "\n",
    "We will start by introducing the ER metric, then we will calculate the Weyl tensor at first order in 'a' (the black hole's angular momentum), and finally, we will determine the NP-Weyl scalars to define the type of spacetime."
   ]
  },
  {
   "cell_type": "code",
   "execution_count": 1,
   "id": "0877badb",
   "metadata": {},
   "outputs": [
    {
     "data": {
      "text/plain": [
       "'SageMath version 10.1, Release Date: 2023-08-20'"
      ]
     },
     "execution_count": 1,
     "metadata": {},
     "output_type": "execute_result"
    }
   ],
   "source": [
    "version()"
   ]
  },
  {
   "cell_type": "code",
   "execution_count": 2,
   "id": "dbb3361b",
   "metadata": {},
   "outputs": [],
   "source": [
    "%display latex"
   ]
  },
  {
   "cell_type": "markdown",
   "id": "25212144",
   "metadata": {},
   "source": [
    "'SageMath version used is 10.1, Release Date: 2023-08-20'"
   ]
  },
  {
   "cell_type": "code",
   "execution_count": 3,
   "id": "9adff967",
   "metadata": {},
   "outputs": [],
   "source": [
    "from sage.manifolds.operators import dalembertian\n",
    "from sage.manifolds.operators import grad\n",
    "from sage.tensor.modules.tensor_with_indices import TensorWithIndices\n",
    "import time\n",
    "import pickle\n",
    "comput_time0 = time.perf_counter()"
   ]
  },
  {
   "cell_type": "markdown",
   "id": "7011bca1",
   "metadata": {},
   "source": [
    "# General Solution"
   ]
  },
  {
   "cell_type": "markdown",
   "id": "0fa005a6",
   "metadata": {},
   "source": [
    "## Definition of a general metric"
   ]
  },
  {
   "cell_type": "code",
   "execution_count": 4,
   "id": "b674c718",
   "metadata": {},
   "outputs": [
    {
     "name": "stdout",
     "output_type": "stream",
     "text": [
      "4-dimensional Lorentzian manifold M\n"
     ]
    }
   ],
   "source": [
    "M = Manifold(4, 'M', structure='Lorentzian')\n",
    "print(M)"
   ]
  },
  {
   "cell_type": "code",
   "execution_count": 5,
   "id": "7cf08b04",
   "metadata": {},
   "outputs": [
    {
     "data": {
      "text/html": [
       "<html>\\(\\displaystyle \\left(M,(t, r, {\\theta}, {\\phi})\\right)\\)</html>"
      ],
      "text/latex": [
       "$\\displaystyle \\left(M,(t, r, {\\theta}, {\\phi})\\right)$"
      ],
      "text/plain": [
       "Chart (M, (t, r, th, ph))"
      ]
     },
     "execution_count": 5,
     "metadata": {},
     "output_type": "execute_result"
    }
   ],
   "source": [
    "X.<t,r,th,ph> = M.chart(r't r:(0,+oo) th:(0,pi):\\theta ph:(0,2*pi):\\phi')\n",
    "X"
   ]
  },
  {
   "cell_type": "code",
   "execution_count": 6,
   "id": "0ea5029f",
   "metadata": {},
   "outputs": [
    {
     "data": {
      "text/html": [
       "<html>\\(\\displaystyle g = U\\left(r\\right) \\mathrm{d} t\\otimes \\mathrm{d} t + Z\\left(r, {\\theta}\\right) \\mathrm{d} t\\otimes \\mathrm{d} {\\phi} + V\\left(r\\right) \\mathrm{d} r\\otimes \\mathrm{d} r + X\\left(r\\right) \\mathrm{d} {\\theta}\\otimes \\mathrm{d} {\\theta} + Z\\left(r, {\\theta}\\right) \\mathrm{d} {\\phi}\\otimes \\mathrm{d} t + Y\\left(r, {\\theta}\\right) \\mathrm{d} {\\phi}\\otimes \\mathrm{d} {\\phi}\\)</html>"
      ],
      "text/latex": [
       "$\\displaystyle g = U\\left(r\\right) \\mathrm{d} t\\otimes \\mathrm{d} t + Z\\left(r, {\\theta}\\right) \\mathrm{d} t\\otimes \\mathrm{d} {\\phi} + V\\left(r\\right) \\mathrm{d} r\\otimes \\mathrm{d} r + X\\left(r\\right) \\mathrm{d} {\\theta}\\otimes \\mathrm{d} {\\theta} + Z\\left(r, {\\theta}\\right) \\mathrm{d} {\\phi}\\otimes \\mathrm{d} t + Y\\left(r, {\\theta}\\right) \\mathrm{d} {\\phi}\\otimes \\mathrm{d} {\\phi}$"
      ],
      "text/plain": [
       "g = U(r) dt⊗dt + Z(r, th) dt⊗dph + V(r) dr⊗dr + X(r) dth⊗dth + Z(r, th) dph⊗dt + Y(r, th) dph⊗dph"
      ]
     },
     "execution_count": 6,
     "metadata": {},
     "output_type": "execute_result"
    }
   ],
   "source": [
    "g = M.metric()\n",
    "a = var('a')\n",
    "U = function('U')\n",
    "V = function('V')\n",
    "X = function('X')\n",
    "Y = function('Y')\n",
    "Z = function('Z')\n",
    "O = function('O')\n",
    "g[0,0] = U(r)\n",
    "g[0,3] = Z(r,th) \n",
    "g[1,1] = V(r)\n",
    "g[2,2] = X(r)\n",
    "g[3,3] = Y(r,th)\n",
    "g[3,0] = Z(r,th) \n",
    "g.display()"
   ]
  },
  {
   "cell_type": "code",
   "execution_count": 7,
   "id": "2d35bda6",
   "metadata": {},
   "outputs": [
    {
     "data": {
      "text/html": [
       "<html>\\(\\displaystyle \\left(\\begin{array}{rrrr}\n",
       "U\\left(r\\right) & 0 & 0 & Z\\left(r, {\\theta}\\right) \\\\\n",
       "0 & V\\left(r\\right) & 0 & 0 \\\\\n",
       "0 & 0 & X\\left(r\\right) & 0 \\\\\n",
       "Z\\left(r, {\\theta}\\right) & 0 & 0 & Y\\left(r, {\\theta}\\right)\n",
       "\\end{array}\\right)\\)</html>"
      ],
      "text/latex": [
       "$\\displaystyle \\left(\\begin{array}{rrrr}\n",
       "U\\left(r\\right) & 0 & 0 & Z\\left(r, {\\theta}\\right) \\\\\n",
       "0 & V\\left(r\\right) & 0 & 0 \\\\\n",
       "0 & 0 & X\\left(r\\right) & 0 \\\\\n",
       "Z\\left(r, {\\theta}\\right) & 0 & 0 & Y\\left(r, {\\theta}\\right)\n",
       "\\end{array}\\right)$"
      ],
      "text/plain": [
       "[    U(r)        0        0 Z(r, th)]\n",
       "[       0     V(r)        0        0]\n",
       "[       0        0     X(r)        0]\n",
       "[Z(r, th)        0        0 Y(r, th)]"
      ]
     },
     "execution_count": 7,
     "metadata": {},
     "output_type": "execute_result"
    }
   ],
   "source": [
    "g[:]"
   ]
  },
  {
   "cell_type": "markdown",
   "id": "eeb9b56d",
   "metadata": {},
   "source": [
    "## Define the expressions of U,V,X,Y,Z and O"
   ]
  },
  {
   "cell_type": "code",
   "execution_count": 8,
   "id": "f52afc49",
   "metadata": {},
   "outputs": [],
   "source": [
    "r_m, r_p, alpha, a = var('r_m r_p alpha a', domain='real')\n",
    "H=(r_m*r_p/(1+alpha**2))**(1/2)\n",
    "Psi(r) = (1-r_p/r)\n",
    "Phi(r) = (1-r_m/r)\n",
    "A(r)=-Psi(r)*Phi(r)**((1-alpha**2)/(1+alpha**2))\n",
    "B(r)=-A(r)**(-1)\n",
    "C(r)=r**2*Phi(r)**(2*alpha**2/(1+alpha**2))\n",
    "D(r,th)=sin(th)**2*C(r)\n",
    "f(r)=(r**2*(1+alpha**2)**2)*Phi(r)**(2*alpha**2/(1+alpha**2))/(((1-alpha**2)*(1-3*alpha**2)*r_m**2))-Phi(r)**((1-alpha**2)/(1+alpha**2))*(1+(1+alpha**2)**2*r**2/((1-alpha**2)*(1-3*alpha**2)*r_m**2)+(1+alpha**2)*r/((1-alpha**2)*r_m)-r_p/r)\n",
    "E(r,th)=-a*sin(th)**2*f(r)"
   ]
  },
  {
   "cell_type": "markdown",
   "id": "6884d644",
   "metadata": {},
   "source": [
    "Notice that the function $f()$ is designed such that $\\lim_{{r \\to 0}} f(r)\\rightarrow\\frac{c}{r}$ with $c$ a constant. We can also relate the $r_{-}$ and $r_{+}$ to the mass and the charge as:"
   ]
  },
  {
   "cell_type": "code",
   "execution_count": 9,
   "id": "c3791825",
   "metadata": {},
   "outputs": [
    {
     "data": {
      "text/html": [
       "<html>\\(\\displaystyle \\left(\\begin{array}{rrrr}\n",
       "\\frac{\\frac{r_{p}}{r} - 1}{{\\left(-\\frac{r_{m}}{r} + 1\\right)}^{\\frac{\\alpha^{2} - 1}{\\alpha^{2} + 1}}} & 0 & 0 & -a {\\left(\\frac{{\\left(\\alpha^{2} + 1\\right)}^{2} r^{2} {\\left(-\\frac{r_{m}}{r} + 1\\right)}^{\\frac{2 \\, \\alpha^{2}}{\\alpha^{2} + 1}}}{{\\left(3 \\, \\alpha^{2} - 1\\right)} {\\left(\\alpha^{2} - 1\\right)} r_{m}^{2}} - \\frac{\\frac{{\\left(\\alpha^{2} + 1\\right)}^{2} r^{2}}{{\\left(3 \\, \\alpha^{2} - 1\\right)} {\\left(\\alpha^{2} - 1\\right)} r_{m}^{2}} - \\frac{{\\left(\\alpha^{2} + 1\\right)} r}{{\\left(\\alpha^{2} - 1\\right)} r_{m}} - \\frac{r_{p}}{r} + 1}{{\\left(-\\frac{r_{m}}{r} + 1\\right)}^{\\frac{\\alpha^{2} - 1}{\\alpha^{2} + 1}}}\\right)} \\sin\\left({\\theta}\\right)^{2} \\\\\n",
       "0 & -\\frac{{\\left(-\\frac{r_{m}}{r} + 1\\right)}^{\\frac{\\alpha^{2} - 1}{\\alpha^{2} + 1}}}{\\frac{r_{p}}{r} - 1} & 0 & 0 \\\\\n",
       "0 & 0 & r^{2} {\\left(-\\frac{r_{m}}{r} + 1\\right)}^{\\frac{2 \\, \\alpha^{2}}{\\alpha^{2} + 1}} & 0 \\\\\n",
       "-a {\\left(\\frac{{\\left(\\alpha^{2} + 1\\right)}^{2} r^{2} {\\left(-\\frac{r_{m}}{r} + 1\\right)}^{\\frac{2 \\, \\alpha^{2}}{\\alpha^{2} + 1}}}{{\\left(3 \\, \\alpha^{2} - 1\\right)} {\\left(\\alpha^{2} - 1\\right)} r_{m}^{2}} - \\frac{\\frac{{\\left(\\alpha^{2} + 1\\right)}^{2} r^{2}}{{\\left(3 \\, \\alpha^{2} - 1\\right)} {\\left(\\alpha^{2} - 1\\right)} r_{m}^{2}} - \\frac{{\\left(\\alpha^{2} + 1\\right)} r}{{\\left(\\alpha^{2} - 1\\right)} r_{m}} - \\frac{r_{p}}{r} + 1}{{\\left(-\\frac{r_{m}}{r} + 1\\right)}^{\\frac{\\alpha^{2} - 1}{\\alpha^{2} + 1}}}\\right)} \\sin\\left({\\theta}\\right)^{2} & 0 & 0 & r^{2} {\\left(-\\frac{r_{m}}{r} + 1\\right)}^{\\frac{2 \\, \\alpha^{2}}{\\alpha^{2} + 1}} \\sin\\left({\\theta}\\right)^{2}\n",
       "\\end{array}\\right)\\)</html>"
      ],
      "text/latex": [
       "$\\displaystyle \\left(\\begin{array}{rrrr}\n",
       "\\frac{\\frac{r_{p}}{r} - 1}{{\\left(-\\frac{r_{m}}{r} + 1\\right)}^{\\frac{\\alpha^{2} - 1}{\\alpha^{2} + 1}}} & 0 & 0 & -a {\\left(\\frac{{\\left(\\alpha^{2} + 1\\right)}^{2} r^{2} {\\left(-\\frac{r_{m}}{r} + 1\\right)}^{\\frac{2 \\, \\alpha^{2}}{\\alpha^{2} + 1}}}{{\\left(3 \\, \\alpha^{2} - 1\\right)} {\\left(\\alpha^{2} - 1\\right)} r_{m}^{2}} - \\frac{\\frac{{\\left(\\alpha^{2} + 1\\right)}^{2} r^{2}}{{\\left(3 \\, \\alpha^{2} - 1\\right)} {\\left(\\alpha^{2} - 1\\right)} r_{m}^{2}} - \\frac{{\\left(\\alpha^{2} + 1\\right)} r}{{\\left(\\alpha^{2} - 1\\right)} r_{m}} - \\frac{r_{p}}{r} + 1}{{\\left(-\\frac{r_{m}}{r} + 1\\right)}^{\\frac{\\alpha^{2} - 1}{\\alpha^{2} + 1}}}\\right)} \\sin\\left({\\theta}\\right)^{2} \\\\\n",
       "0 & -\\frac{{\\left(-\\frac{r_{m}}{r} + 1\\right)}^{\\frac{\\alpha^{2} - 1}{\\alpha^{2} + 1}}}{\\frac{r_{p}}{r} - 1} & 0 & 0 \\\\\n",
       "0 & 0 & r^{2} {\\left(-\\frac{r_{m}}{r} + 1\\right)}^{\\frac{2 \\, \\alpha^{2}}{\\alpha^{2} + 1}} & 0 \\\\\n",
       "-a {\\left(\\frac{{\\left(\\alpha^{2} + 1\\right)}^{2} r^{2} {\\left(-\\frac{r_{m}}{r} + 1\\right)}^{\\frac{2 \\, \\alpha^{2}}{\\alpha^{2} + 1}}}{{\\left(3 \\, \\alpha^{2} - 1\\right)} {\\left(\\alpha^{2} - 1\\right)} r_{m}^{2}} - \\frac{\\frac{{\\left(\\alpha^{2} + 1\\right)}^{2} r^{2}}{{\\left(3 \\, \\alpha^{2} - 1\\right)} {\\left(\\alpha^{2} - 1\\right)} r_{m}^{2}} - \\frac{{\\left(\\alpha^{2} + 1\\right)} r}{{\\left(\\alpha^{2} - 1\\right)} r_{m}} - \\frac{r_{p}}{r} + 1}{{\\left(-\\frac{r_{m}}{r} + 1\\right)}^{\\frac{\\alpha^{2} - 1}{\\alpha^{2} + 1}}}\\right)} \\sin\\left({\\theta}\\right)^{2} & 0 & 0 & r^{2} {\\left(-\\frac{r_{m}}{r} + 1\\right)}^{\\frac{2 \\, \\alpha^{2}}{\\alpha^{2} + 1}} \\sin\\left({\\theta}\\right)^{2}\n",
       "\\end{array}\\right)$"
      ],
      "text/plain": [
       "[                                                                                                                                                                                                                    (r_p/r - 1)/(-r_m/r + 1)^((alpha^2 - 1)/(alpha^2 + 1))                                                                                                                                                                                                                                                                          0                                                                                                                                                                                                                                                                          0 -a*((alpha^2 + 1)^2*r^2*(-r_m/r + 1)^(2*alpha^2/(alpha^2 + 1))/((3*alpha^2 - 1)*(alpha^2 - 1)*r_m^2) - ((alpha^2 + 1)^2*r^2/((3*alpha^2 - 1)*(alpha^2 - 1)*r_m^2) - (alpha^2 + 1)*r/((alpha^2 - 1)*r_m) - r_p/r + 1)/(-r_m/r + 1)^((alpha^2 - 1)/(alpha^2 + 1)))*sin(th)^2]\n",
       "[                                                                                                                                                                                                                                                                         0                                                                                                                                                                                                                    -(-r_m/r + 1)^((alpha^2 - 1)/(alpha^2 + 1))/(r_p/r - 1)                                                                                                                                                                                                                                                                          0                                                                                                                                                                                                                                                                          0]\n",
       "[                                                                                                                                                                                                                                                                         0                                                                                                                                                                                                                                                                          0                                                                                                                                                                                                                                 r^2*(-r_m/r + 1)^(2*alpha^2/(alpha^2 + 1))                                                                                                                                                                                                                                                                          0]\n",
       "[-a*((alpha^2 + 1)^2*r^2*(-r_m/r + 1)^(2*alpha^2/(alpha^2 + 1))/((3*alpha^2 - 1)*(alpha^2 - 1)*r_m^2) - ((alpha^2 + 1)^2*r^2/((3*alpha^2 - 1)*(alpha^2 - 1)*r_m^2) - (alpha^2 + 1)*r/((alpha^2 - 1)*r_m) - r_p/r + 1)/(-r_m/r + 1)^((alpha^2 - 1)/(alpha^2 + 1)))*sin(th)^2                                                                                                                                                                                                                                                                          0                                                                                                                                                                                                                                                                          0                                                                                                                                                                                                                       r^2*(-r_m/r + 1)^(2*alpha^2/(alpha^2 + 1))*sin(th)^2]"
      ]
     },
     "execution_count": 9,
     "metadata": {},
     "output_type": "execute_result"
    }
   ],
   "source": [
    "h = g.copy()\n",
    "h.set_name('h')\n",
    "h.display()\n",
    "h.apply_map(lambda f: f.substitute_function(U, A).substitute_function(V, B).substitute_function(X, C).substitute_function(Y, D).substitute_function(Z, E)) \n",
    "h[:]"
   ]
  },
  {
   "cell_type": "markdown",
   "id": "333e8a38",
   "metadata": {},
   "source": [
    "## Conformal transformation"
   ]
  },
  {
   "cell_type": "code",
   "execution_count": 10,
   "id": "d62a5221",
   "metadata": {},
   "outputs": [
    {
     "data": {
      "text/html": [
       "<html>\\(\\displaystyle {\\left(-\\frac{r_{m}}{r} + 1\\right)}^{\\frac{2}{13}}\\)</html>"
      ],
      "text/latex": [
       "$\\displaystyle {\\left(-\\frac{r_{m}}{r} + 1\\right)}^{\\frac{2}{13}}$"
      ],
      "text/plain": [
       "(-r_m/r + 1)^(2/13)"
      ]
     },
     "execution_count": 10,
     "metadata": {},
     "output_type": "execute_result"
    }
   ],
   "source": [
    "Omega(r)=(1-r_m/r)**(2*alpha**2/(1+alpha**2))  ;  Omega(r).subs(alpha=1/(2*(3)**(1/2)))"
   ]
  },
  {
   "cell_type": "markdown",
   "id": "03f2f543",
   "metadata": {},
   "source": [
    "We apply this conformal transformation to each element of the metric"
   ]
  },
  {
   "cell_type": "code",
   "execution_count": 11,
   "id": "bed92928",
   "metadata": {},
   "outputs": [
    {
     "data": {
      "text/html": [
       "<html>\\(\\displaystyle g = O\\left(r\\right)^{2} U\\left(r\\right) \\mathrm{d} t\\otimes \\mathrm{d} t + O\\left(r\\right)^{2} Z\\left(r, {\\theta}\\right) \\mathrm{d} t\\otimes \\mathrm{d} {\\phi} + O\\left(r\\right)^{2} V\\left(r\\right) \\mathrm{d} r\\otimes \\mathrm{d} r + O\\left(r\\right)^{2} X\\left(r\\right) \\mathrm{d} {\\theta}\\otimes \\mathrm{d} {\\theta} + O\\left(r\\right)^{2} Z\\left(r, {\\theta}\\right) \\mathrm{d} {\\phi}\\otimes \\mathrm{d} t + O\\left(r\\right)^{2} Y\\left(r, {\\theta}\\right) \\mathrm{d} {\\phi}\\otimes \\mathrm{d} {\\phi}\\)</html>"
      ],
      "text/latex": [
       "$\\displaystyle g = O\\left(r\\right)^{2} U\\left(r\\right) \\mathrm{d} t\\otimes \\mathrm{d} t + O\\left(r\\right)^{2} Z\\left(r, {\\theta}\\right) \\mathrm{d} t\\otimes \\mathrm{d} {\\phi} + O\\left(r\\right)^{2} V\\left(r\\right) \\mathrm{d} r\\otimes \\mathrm{d} r + O\\left(r\\right)^{2} X\\left(r\\right) \\mathrm{d} {\\theta}\\otimes \\mathrm{d} {\\theta} + O\\left(r\\right)^{2} Z\\left(r, {\\theta}\\right) \\mathrm{d} {\\phi}\\otimes \\mathrm{d} t + O\\left(r\\right)^{2} Y\\left(r, {\\theta}\\right) \\mathrm{d} {\\phi}\\otimes \\mathrm{d} {\\phi}$"
      ],
      "text/plain": [
       "g = O(r)^2*U(r) dt⊗dt + O(r)^2*Z(r, th) dt⊗dph + O(r)^2*V(r) dr⊗dr + O(r)^2*X(r) dth⊗dth + O(r)^2*Z(r, th) dph⊗dt + O(r)^2*Y(r, th) dph⊗dph"
      ]
     },
     "execution_count": 11,
     "metadata": {},
     "output_type": "execute_result"
    }
   ],
   "source": [
    "g.apply_map(lambda f: f*O(r)**2) ; g.display()"
   ]
  },
  {
   "cell_type": "markdown",
   "id": "e7a37b25",
   "metadata": {},
   "source": [
    "# Case of the ER, i.e. when $\\alpha=(2\\sqrt{3})^{-1}$"
   ]
  },
  {
   "cell_type": "code",
   "execution_count": 12,
   "id": "ccba56ad",
   "metadata": {},
   "outputs": [
    {
     "data": {
      "text/html": [
       "<html>\\(\\displaystyle h = O\\left(r\\right)^{2} U\\left(r\\right) \\mathrm{d} t\\otimes \\mathrm{d} t + O\\left(r\\right)^{2} Z\\left(r, {\\theta}\\right) \\mathrm{d} t\\otimes \\mathrm{d} {\\phi} + O\\left(r\\right)^{2} V\\left(r\\right) \\mathrm{d} r\\otimes \\mathrm{d} r + O\\left(r\\right)^{2} X\\left(r\\right) \\mathrm{d} {\\theta}\\otimes \\mathrm{d} {\\theta} + O\\left(r\\right)^{2} Z\\left(r, {\\theta}\\right) \\mathrm{d} {\\phi}\\otimes \\mathrm{d} t + O\\left(r\\right)^{2} Y\\left(r, {\\theta}\\right) \\mathrm{d} {\\phi}\\otimes \\mathrm{d} {\\phi}\\)</html>"
      ],
      "text/latex": [
       "$\\displaystyle h = O\\left(r\\right)^{2} U\\left(r\\right) \\mathrm{d} t\\otimes \\mathrm{d} t + O\\left(r\\right)^{2} Z\\left(r, {\\theta}\\right) \\mathrm{d} t\\otimes \\mathrm{d} {\\phi} + O\\left(r\\right)^{2} V\\left(r\\right) \\mathrm{d} r\\otimes \\mathrm{d} r + O\\left(r\\right)^{2} X\\left(r\\right) \\mathrm{d} {\\theta}\\otimes \\mathrm{d} {\\theta} + O\\left(r\\right)^{2} Z\\left(r, {\\theta}\\right) \\mathrm{d} {\\phi}\\otimes \\mathrm{d} t + O\\left(r\\right)^{2} Y\\left(r, {\\theta}\\right) \\mathrm{d} {\\phi}\\otimes \\mathrm{d} {\\phi}$"
      ],
      "text/plain": [
       "h = O(r)^2*U(r) dt⊗dt + O(r)^2*Z(r, th) dt⊗dph + O(r)^2*V(r) dr⊗dr + O(r)^2*X(r) dth⊗dth + O(r)^2*Z(r, th) dph⊗dt + O(r)^2*Y(r, th) dph⊗dph"
      ]
     },
     "execution_count": 12,
     "metadata": {},
     "output_type": "execute_result"
    }
   ],
   "source": [
    "h = g.copy()\n",
    "h.set_name('h')\n",
    "h.display()"
   ]
  },
  {
   "cell_type": "markdown",
   "id": "b72957ac",
   "metadata": {},
   "source": [
    "We substitute the different functions U,V X,Y,Z,Q and Omega in the expression "
   ]
  },
  {
   "cell_type": "code",
   "execution_count": 13,
   "id": "cec2f2d1",
   "metadata": {},
   "outputs": [
    {
     "data": {
      "text/html": [
       "<html>\\(\\displaystyle h = {\\left(-\\frac{r_{m}}{r} + 1\\right)}^{\\frac{15}{13}} {\\left(\\frac{r_{p}}{r} - 1\\right)} \\mathrm{d} t\\otimes \\mathrm{d} t + \\frac{1}{99} \\, {\\left({\\left(\\frac{169 \\, r^{2}}{r_{m}^{2}} + \\frac{117 \\, r}{r_{m}} - \\frac{99 \\, r_{p}}{r} + 99\\right)} {\\left(-\\frac{r_{m}}{r} + 1\\right)}^{\\frac{11}{13}} - \\frac{169 \\, r^{2} {\\left(-\\frac{r_{m}}{r} + 1\\right)}^{\\frac{2}{13}}}{r_{m}^{2}}\\right)} a {\\left(-\\frac{r_{m}}{r} + 1\\right)}^{\\frac{4}{13}} \\sin\\left({\\theta}\\right)^{2} \\mathrm{d} t\\otimes \\mathrm{d} {\\phi} -\\frac{1}{{\\left(-\\frac{r_{m}}{r} + 1\\right)}^{\\frac{7}{13}} {\\left(\\frac{r_{p}}{r} - 1\\right)}} \\mathrm{d} r\\otimes \\mathrm{d} r + r^{2} {\\left(-\\frac{r_{m}}{r} + 1\\right)}^{\\frac{6}{13}} \\mathrm{d} {\\theta}\\otimes \\mathrm{d} {\\theta} + \\frac{1}{99} \\, {\\left({\\left(\\frac{169 \\, r^{2}}{r_{m}^{2}} + \\frac{117 \\, r}{r_{m}} - \\frac{99 \\, r_{p}}{r} + 99\\right)} {\\left(-\\frac{r_{m}}{r} + 1\\right)}^{\\frac{11}{13}} - \\frac{169 \\, r^{2} {\\left(-\\frac{r_{m}}{r} + 1\\right)}^{\\frac{2}{13}}}{r_{m}^{2}}\\right)} a {\\left(-\\frac{r_{m}}{r} + 1\\right)}^{\\frac{4}{13}} \\sin\\left({\\theta}\\right)^{2} \\mathrm{d} {\\phi}\\otimes \\mathrm{d} t + r^{2} {\\left(-\\frac{r_{m}}{r} + 1\\right)}^{\\frac{6}{13}} \\sin\\left({\\theta}\\right)^{2} \\mathrm{d} {\\phi}\\otimes \\mathrm{d} {\\phi}\\)</html>"
      ],
      "text/latex": [
       "$\\displaystyle h = {\\left(-\\frac{r_{m}}{r} + 1\\right)}^{\\frac{15}{13}} {\\left(\\frac{r_{p}}{r} - 1\\right)} \\mathrm{d} t\\otimes \\mathrm{d} t + \\frac{1}{99} \\, {\\left({\\left(\\frac{169 \\, r^{2}}{r_{m}^{2}} + \\frac{117 \\, r}{r_{m}} - \\frac{99 \\, r_{p}}{r} + 99\\right)} {\\left(-\\frac{r_{m}}{r} + 1\\right)}^{\\frac{11}{13}} - \\frac{169 \\, r^{2} {\\left(-\\frac{r_{m}}{r} + 1\\right)}^{\\frac{2}{13}}}{r_{m}^{2}}\\right)} a {\\left(-\\frac{r_{m}}{r} + 1\\right)}^{\\frac{4}{13}} \\sin\\left({\\theta}\\right)^{2} \\mathrm{d} t\\otimes \\mathrm{d} {\\phi} -\\frac{1}{{\\left(-\\frac{r_{m}}{r} + 1\\right)}^{\\frac{7}{13}} {\\left(\\frac{r_{p}}{r} - 1\\right)}} \\mathrm{d} r\\otimes \\mathrm{d} r + r^{2} {\\left(-\\frac{r_{m}}{r} + 1\\right)}^{\\frac{6}{13}} \\mathrm{d} {\\theta}\\otimes \\mathrm{d} {\\theta} + \\frac{1}{99} \\, {\\left({\\left(\\frac{169 \\, r^{2}}{r_{m}^{2}} + \\frac{117 \\, r}{r_{m}} - \\frac{99 \\, r_{p}}{r} + 99\\right)} {\\left(-\\frac{r_{m}}{r} + 1\\right)}^{\\frac{11}{13}} - \\frac{169 \\, r^{2} {\\left(-\\frac{r_{m}}{r} + 1\\right)}^{\\frac{2}{13}}}{r_{m}^{2}}\\right)} a {\\left(-\\frac{r_{m}}{r} + 1\\right)}^{\\frac{4}{13}} \\sin\\left({\\theta}\\right)^{2} \\mathrm{d} {\\phi}\\otimes \\mathrm{d} t + r^{2} {\\left(-\\frac{r_{m}}{r} + 1\\right)}^{\\frac{6}{13}} \\sin\\left({\\theta}\\right)^{2} \\mathrm{d} {\\phi}\\otimes \\mathrm{d} {\\phi}$"
      ],
      "text/plain": [
       "h = (-r_m/r + 1)^(15/13)*(r_p/r - 1) dt⊗dt + 1/99*((169*r^2/r_m^2 + 117*r/r_m - 99*r_p/r + 99)*(-r_m/r + 1)^(11/13) - 169*r^2*(-r_m/r + 1)^(2/13)/r_m^2)*a*(-r_m/r + 1)^(4/13)*sin(th)^2 dt⊗dph - 1/((-r_m/r + 1)^(7/13)*(r_p/r - 1)) dr⊗dr + r^2*(-r_m/r + 1)^(6/13) dth⊗dth + 1/99*((169*r^2/r_m^2 + 117*r/r_m - 99*r_p/r + 99)*(-r_m/r + 1)^(11/13) - 169*r^2*(-r_m/r + 1)^(2/13)/r_m^2)*a*(-r_m/r + 1)^(4/13)*sin(th)^2 dph⊗dt + r^2*(-r_m/r + 1)^(6/13)*sin(th)^2 dph⊗dph"
      ]
     },
     "execution_count": 13,
     "metadata": {},
     "output_type": "execute_result"
    }
   ],
   "source": [
    "h.apply_map(lambda f: f.substitute_function(U, A).substitute_function(V, B).substitute_function(X, C).substitute_function(Y, D).substitute_function(Z, E)) \n",
    "h.apply_map(lambda f: f.substitute_function(O,Omega).subs(alpha=1/(2*(3)**(1/2))))\n",
    "h.display()"
   ]
  },
  {
   "cell_type": "markdown",
   "id": "1993119f",
   "metadata": {},
   "source": [
    "# Computation of the Weyl tensor"
   ]
  },
  {
   "cell_type": "markdown",
   "id": "285af115",
   "metadata": {},
   "source": [
    "\\begin{eqnarray}\n",
    "C_{abcd} &=& R_{abcd} - \\frac{1}{2}(g_{a[c}R_{d]b} - g_{b[c}R_{d]a}) + \\frac{1}{6}R g_{a[c}g_{d]b}\\\\\n",
    "&=& R_{abcd} - \\frac{1}{2}\\left(R_{ac}.g_{bd}-R_{ad}.g_{bc}+R_{bd}.g_{ac}-R_{bc}.g_{ad}\\right)+\\frac{1}{6}\\left(g_{ac}g_{bd}-g_{ad}g_{bc}\\right)R\n",
    "\\end{eqnarray}"
   ]
  },
  {
   "cell_type": "markdown",
   "id": "371563cb",
   "metadata": {},
   "source": [
    "We will not use the .weyl() property of SageMath here due to the complexity of the calculations and the need to progressively simplify the expressions through a Taylor expansion to first order in 'a'."
   ]
  },
  {
   "cell_type": "code",
   "execution_count": 14,
   "id": "9b95bc13",
   "metadata": {},
   "outputs": [
    {
     "data": {
      "text/html": [
       "<html>\\(\\displaystyle g = O\\left(r\\right)^{2} U\\left(r\\right) \\mathrm{d} t\\otimes \\mathrm{d} t + O\\left(r\\right)^{2} Z\\left(r, {\\theta}\\right) \\mathrm{d} t\\otimes \\mathrm{d} {\\phi} + O\\left(r\\right)^{2} V\\left(r\\right) \\mathrm{d} r\\otimes \\mathrm{d} r + O\\left(r\\right)^{2} X\\left(r\\right) \\mathrm{d} {\\theta}\\otimes \\mathrm{d} {\\theta} + O\\left(r\\right)^{2} Z\\left(r, {\\theta}\\right) \\mathrm{d} {\\phi}\\otimes \\mathrm{d} t + O\\left(r\\right)^{2} Y\\left(r, {\\theta}\\right) \\mathrm{d} {\\phi}\\otimes \\mathrm{d} {\\phi}\\)</html>"
      ],
      "text/latex": [
       "$\\displaystyle g = O\\left(r\\right)^{2} U\\left(r\\right) \\mathrm{d} t\\otimes \\mathrm{d} t + O\\left(r\\right)^{2} Z\\left(r, {\\theta}\\right) \\mathrm{d} t\\otimes \\mathrm{d} {\\phi} + O\\left(r\\right)^{2} V\\left(r\\right) \\mathrm{d} r\\otimes \\mathrm{d} r + O\\left(r\\right)^{2} X\\left(r\\right) \\mathrm{d} {\\theta}\\otimes \\mathrm{d} {\\theta} + O\\left(r\\right)^{2} Z\\left(r, {\\theta}\\right) \\mathrm{d} {\\phi}\\otimes \\mathrm{d} t + O\\left(r\\right)^{2} Y\\left(r, {\\theta}\\right) \\mathrm{d} {\\phi}\\otimes \\mathrm{d} {\\phi}$"
      ],
      "text/plain": [
       "g = O(r)^2*U(r) dt⊗dt + O(r)^2*Z(r, th) dt⊗dph + O(r)^2*V(r) dr⊗dr + O(r)^2*X(r) dth⊗dth + O(r)^2*Z(r, th) dph⊗dt + O(r)^2*Y(r, th) dph⊗dph"
      ]
     },
     "execution_count": 14,
     "metadata": {},
     "output_type": "execute_result"
    }
   ],
   "source": [
    "g.display()"
   ]
  },
  {
   "cell_type": "markdown",
   "id": "e1f7a88d",
   "metadata": {},
   "source": [
    "## The Riemann tensor"
   ]
  },
  {
   "cell_type": "code",
   "execution_count": 15,
   "id": "89d538c5",
   "metadata": {},
   "outputs": [
    {
     "data": {
      "text/html": [
       "<html>\\(\\displaystyle -\\frac{195 \\, r^{2} r_{m} - 180 \\, r r_{m}^{2} + {\\left(169 \\, r^{2} - 702 \\, r r_{m} + 518 \\, r_{m}^{2}\\right)} r_{p}}{169 \\, {\\left(r - r_{m}\\right)}^{\\frac{11}{13}} r^{\\frac{54}{13}}}\\)</html>"
      ],
      "text/latex": [
       "$\\displaystyle -\\frac{195 \\, r^{2} r_{m} - 180 \\, r r_{m}^{2} + {\\left(169 \\, r^{2} - 702 \\, r r_{m} + 518 \\, r_{m}^{2}\\right)} r_{p}}{169 \\, {\\left(r - r_{m}\\right)}^{\\frac{11}{13}} r^{\\frac{54}{13}}}$"
      ],
      "text/plain": [
       "-1/169*(195*r^2*r_m - 180*r*r_m^2 + (169*r^2 - 702*r*r_m + 518*r_m^2)*r_p)/((r - r_m)^(11/13)*r^(54/13))"
      ]
     },
     "execution_count": 15,
     "metadata": {},
     "output_type": "execute_result"
    }
   ],
   "source": [
    "ER_riem = g.riemann()\n",
    "ER_riem = ER_riem.down(g,0)\n",
    "ER_riem.apply_map(lambda f: f.taylor(a,0,1)) \n",
    "ER_riem.apply_map(lambda f: f.substitute_function(Z,E))\n",
    "ER_riem.apply_map(lambda f: f.taylor(a,0,1))\n",
    "ER_riem.apply_map(lambda f: f.substitute_function(U, A).substitute_function(V, B).substitute_function(X, C).substitute_function(Y, D))\n",
    "ER_riem.apply_map(lambda f: f.substitute_function(O, Omega))\n",
    "ER_riem.apply_map(lambda f: f.subs(Q=H).subs(alpha=1/(2*3**(1/2))))\n",
    "ER_riem.apply_map(lambda f: f.factor())\n",
    "ER_riem = TensorWithIndices(ER_riem, '_abcd')\n",
    "ER_riem[1,0,1,0]"
   ]
  },
  {
   "cell_type": "markdown",
   "id": "ec6bef97",
   "metadata": {},
   "source": [
    "## The Ricci tensor and Ricci scalar"
   ]
  },
  {
   "cell_type": "code",
   "execution_count": 16,
   "id": "10756a4c",
   "metadata": {},
   "outputs": [
    {
     "data": {
      "text/html": [
       "<html>\\(\\displaystyle \\left(\\begin{array}{rrrr}\n",
       "\\frac{2 \\, {\\left(15 \\, r r_{m} + 104 \\, r r_{p} - 119 \\, r_{m} r_{p}\\right)} {\\left(r - r_{p}\\right)} r_{m}}{169 \\, r^{6} \\left(\\frac{r - r_{m}}{r}\\right)^{\\frac{4}{13}}} & 0 & 0 & -\\frac{{\\left(28561 \\, r^{8} \\left(\\frac{r - r_{m}}{r}\\right)^{\\frac{35}{13}} - 32955 \\, r^{7} r_{m} \\left(\\frac{r - r_{m}}{r}\\right)^{\\frac{35}{13}} + 2535 \\, r^{6} r_{m}^{2} \\left(\\frac{r - r_{m}}{r}\\right)^{\\frac{35}{13}} - 15444 \\, r^{5} r_{m}^{3} \\left(\\frac{r - r_{m}}{r}\\right)^{\\frac{35}{13}} + 13068 \\, r^{4} r_{m}^{4} \\left(\\frac{r - r_{m}}{r}\\right)^{\\frac{35}{13}} - 4394 \\, r^{6} r_{m} r_{p} \\left(\\frac{r - r_{m}}{r}\\right)^{\\frac{35}{13}} - 13520 \\, r^{5} r_{m}^{2} r_{p} \\left(\\frac{r - r_{m}}{r}\\right)^{\\frac{35}{13}} + 63531 \\, r^{4} r_{m}^{3} r_{p} \\left(\\frac{r - r_{m}}{r}\\right)^{\\frac{35}{13}} - 40293 \\, r^{3} r_{m}^{4} r_{p} \\left(\\frac{r - r_{m}}{r}\\right)^{\\frac{35}{13}} - 28314 \\, r^{3} r_{m}^{3} r_{p}^{2} \\left(\\frac{r - r_{m}}{r}\\right)^{\\frac{35}{13}} + 27225 \\, r^{2} r_{m}^{4} r_{p}^{2} \\left(\\frac{r - r_{m}}{r}\\right)^{\\frac{35}{13}} - 28561 \\, r^{8} \\left(\\frac{r - r_{m}}{r}\\right)^{\\frac{22}{13}} + 70304 \\, r^{7} r_{m} \\left(\\frac{r - r_{m}}{r}\\right)^{\\frac{22}{13}} - 48165 \\, r^{6} r_{m}^{2} \\left(\\frac{r - r_{m}}{r}\\right)^{\\frac{22}{13}} + 20111 \\, r^{5} r_{m}^{3} \\left(\\frac{r - r_{m}}{r}\\right)^{\\frac{22}{13}} - 25668 \\, r^{4} r_{m}^{4} \\left(\\frac{r - r_{m}}{r}\\right)^{\\frac{22}{13}} + 11979 \\, r^{3} r_{m}^{5} \\left(\\frac{r - r_{m}}{r}\\right)^{\\frac{22}{13}} - 26364 \\, r^{6} r_{m} r_{p} \\left(\\frac{r - r_{m}}{r}\\right)^{\\frac{22}{13}} + 50531 \\, r^{5} r_{m}^{2} r_{p} \\left(\\frac{r - r_{m}}{r}\\right)^{\\frac{22}{13}} - 50141 \\, r^{4} r_{m}^{3} r_{p} \\left(\\frac{r - r_{m}}{r}\\right)^{\\frac{22}{13}} + 43497 \\, r^{3} r_{m}^{4} r_{p} \\left(\\frac{r - r_{m}}{r}\\right)^{\\frac{22}{13}} - 17523 \\, r^{2} r_{m}^{5} r_{p} \\left(\\frac{r - r_{m}}{r}\\right)^{\\frac{22}{13}} + 7722 \\, r^{3} r_{m}^{3} r_{p}^{2} \\left(\\frac{r - r_{m}}{r}\\right)^{\\frac{22}{13}} - 13266 \\, r^{2} r_{m}^{4} r_{p}^{2} \\left(\\frac{r - r_{m}}{r}\\right)^{\\frac{22}{13}} + 5544 \\, r r_{m}^{5} r_{p}^{2} \\left(\\frac{r - r_{m}}{r}\\right)^{\\frac{22}{13}} + 3211 \\, r^{6} r_{m}^{2} \\left(\\frac{r - r_{m}}{r}\\right)^{\\frac{9}{13}} - 4199 \\, r^{5} r_{m}^{3} \\left(\\frac{r - r_{m}}{r}\\right)^{\\frac{9}{13}} + 646 \\, r^{4} r_{m}^{4} \\left(\\frac{r - r_{m}}{r}\\right)^{\\frac{9}{13}} - 1539 \\, r^{3} r_{m}^{5} \\left(\\frac{r - r_{m}}{r}\\right)^{\\frac{9}{13}} + 1881 \\, r^{2} r_{m}^{6} \\left(\\frac{r - r_{m}}{r}\\right)^{\\frac{9}{13}} - 3211 \\, r^{5} r_{m}^{2} r_{p} \\left(\\frac{r - r_{m}}{r}\\right)^{\\frac{9}{13}} + 4199 \\, r^{4} r_{m}^{3} r_{p} \\left(\\frac{r - r_{m}}{r}\\right)^{\\frac{9}{13}} - 2527 \\, r^{3} r_{m}^{4} r_{p} \\left(\\frac{r - r_{m}}{r}\\right)^{\\frac{9}{13}} + 5301 \\, r^{2} r_{m}^{5} r_{p} \\left(\\frac{r - r_{m}}{r}\\right)^{\\frac{9}{13}} - 3762 \\, r r_{m}^{6} r_{p} \\left(\\frac{r - r_{m}}{r}\\right)^{\\frac{9}{13}} + 1881 \\, r^{2} r_{m}^{4} r_{p}^{2} \\left(\\frac{r - r_{m}}{r}\\right)^{\\frac{9}{13}} - 3762 \\, r r_{m}^{5} r_{p}^{2} \\left(\\frac{r - r_{m}}{r}\\right)^{\\frac{9}{13}} + 1881 \\, r_{m}^{6} r_{p}^{2} \\left(\\frac{r - r_{m}}{r}\\right)^{\\frac{9}{13}} - 8788 \\, r^{7} r_{m} + 24336 \\, r^{6} r_{m}^{2} - 22308 \\, r^{5} r_{m}^{3} + 6760 \\, r^{4} r_{m}^{4} + 30758 \\, r^{6} r_{m} r_{p} - 90246 \\, r^{5} r_{m}^{2} r_{p} + 88218 \\, r^{4} r_{m}^{3} r_{p} - 28730 \\, r^{3} r_{m}^{4} r_{p}\\right)} a \\sin\\left({\\theta}\\right)^{2}}{16731 \\, {\\left(r - r_{m}\\right)}^{3} r^{5} r_{m}^{2}} \\\\\n",
       "0 & \\frac{2 \\, {\\left(52 \\, r^{2} - 25 \\, r r_{m} - 156 \\, r r_{p} + 129 \\, r_{m} r_{p}\\right)} r_{m}}{169 \\, {\\left(r - r_{m}\\right)}^{2} {\\left(r - r_{p}\\right)} r^{2}} & 0 & 0 \\\\\n",
       "0 & 0 & -\\frac{2 \\, {\\left(26 \\, r^{2} - 20 \\, r r_{m} - 91 \\, r r_{p} + 85 \\, r_{m} r_{p}\\right)} r_{m}}{169 \\, {\\left(r - r_{m}\\right)} r^{2}} & 0 \\\\\n",
       "-\\frac{{\\left(28561 \\, r^{8} \\left(\\frac{r - r_{m}}{r}\\right)^{\\frac{35}{13}} - 32955 \\, r^{7} r_{m} \\left(\\frac{r - r_{m}}{r}\\right)^{\\frac{35}{13}} + 2535 \\, r^{6} r_{m}^{2} \\left(\\frac{r - r_{m}}{r}\\right)^{\\frac{35}{13}} - 15444 \\, r^{5} r_{m}^{3} \\left(\\frac{r - r_{m}}{r}\\right)^{\\frac{35}{13}} + 13068 \\, r^{4} r_{m}^{4} \\left(\\frac{r - r_{m}}{r}\\right)^{\\frac{35}{13}} - 4394 \\, r^{6} r_{m} r_{p} \\left(\\frac{r - r_{m}}{r}\\right)^{\\frac{35}{13}} - 13520 \\, r^{5} r_{m}^{2} r_{p} \\left(\\frac{r - r_{m}}{r}\\right)^{\\frac{35}{13}} + 63531 \\, r^{4} r_{m}^{3} r_{p} \\left(\\frac{r - r_{m}}{r}\\right)^{\\frac{35}{13}} - 40293 \\, r^{3} r_{m}^{4} r_{p} \\left(\\frac{r - r_{m}}{r}\\right)^{\\frac{35}{13}} - 28314 \\, r^{3} r_{m}^{3} r_{p}^{2} \\left(\\frac{r - r_{m}}{r}\\right)^{\\frac{35}{13}} + 27225 \\, r^{2} r_{m}^{4} r_{p}^{2} \\left(\\frac{r - r_{m}}{r}\\right)^{\\frac{35}{13}} - 28561 \\, r^{8} \\left(\\frac{r - r_{m}}{r}\\right)^{\\frac{22}{13}} + 70304 \\, r^{7} r_{m} \\left(\\frac{r - r_{m}}{r}\\right)^{\\frac{22}{13}} - 48165 \\, r^{6} r_{m}^{2} \\left(\\frac{r - r_{m}}{r}\\right)^{\\frac{22}{13}} + 20111 \\, r^{5} r_{m}^{3} \\left(\\frac{r - r_{m}}{r}\\right)^{\\frac{22}{13}} - 25668 \\, r^{4} r_{m}^{4} \\left(\\frac{r - r_{m}}{r}\\right)^{\\frac{22}{13}} + 11979 \\, r^{3} r_{m}^{5} \\left(\\frac{r - r_{m}}{r}\\right)^{\\frac{22}{13}} - 26364 \\, r^{6} r_{m} r_{p} \\left(\\frac{r - r_{m}}{r}\\right)^{\\frac{22}{13}} + 50531 \\, r^{5} r_{m}^{2} r_{p} \\left(\\frac{r - r_{m}}{r}\\right)^{\\frac{22}{13}} - 50141 \\, r^{4} r_{m}^{3} r_{p} \\left(\\frac{r - r_{m}}{r}\\right)^{\\frac{22}{13}} + 43497 \\, r^{3} r_{m}^{4} r_{p} \\left(\\frac{r - r_{m}}{r}\\right)^{\\frac{22}{13}} - 17523 \\, r^{2} r_{m}^{5} r_{p} \\left(\\frac{r - r_{m}}{r}\\right)^{\\frac{22}{13}} + 7722 \\, r^{3} r_{m}^{3} r_{p}^{2} \\left(\\frac{r - r_{m}}{r}\\right)^{\\frac{22}{13}} - 13266 \\, r^{2} r_{m}^{4} r_{p}^{2} \\left(\\frac{r - r_{m}}{r}\\right)^{\\frac{22}{13}} + 5544 \\, r r_{m}^{5} r_{p}^{2} \\left(\\frac{r - r_{m}}{r}\\right)^{\\frac{22}{13}} + 3211 \\, r^{6} r_{m}^{2} \\left(\\frac{r - r_{m}}{r}\\right)^{\\frac{9}{13}} - 4199 \\, r^{5} r_{m}^{3} \\left(\\frac{r - r_{m}}{r}\\right)^{\\frac{9}{13}} + 646 \\, r^{4} r_{m}^{4} \\left(\\frac{r - r_{m}}{r}\\right)^{\\frac{9}{13}} - 1539 \\, r^{3} r_{m}^{5} \\left(\\frac{r - r_{m}}{r}\\right)^{\\frac{9}{13}} + 1881 \\, r^{2} r_{m}^{6} \\left(\\frac{r - r_{m}}{r}\\right)^{\\frac{9}{13}} - 3211 \\, r^{5} r_{m}^{2} r_{p} \\left(\\frac{r - r_{m}}{r}\\right)^{\\frac{9}{13}} + 4199 \\, r^{4} r_{m}^{3} r_{p} \\left(\\frac{r - r_{m}}{r}\\right)^{\\frac{9}{13}} - 2527 \\, r^{3} r_{m}^{4} r_{p} \\left(\\frac{r - r_{m}}{r}\\right)^{\\frac{9}{13}} + 5301 \\, r^{2} r_{m}^{5} r_{p} \\left(\\frac{r - r_{m}}{r}\\right)^{\\frac{9}{13}} - 3762 \\, r r_{m}^{6} r_{p} \\left(\\frac{r - r_{m}}{r}\\right)^{\\frac{9}{13}} + 1881 \\, r^{2} r_{m}^{4} r_{p}^{2} \\left(\\frac{r - r_{m}}{r}\\right)^{\\frac{9}{13}} - 3762 \\, r r_{m}^{5} r_{p}^{2} \\left(\\frac{r - r_{m}}{r}\\right)^{\\frac{9}{13}} + 1881 \\, r_{m}^{6} r_{p}^{2} \\left(\\frac{r - r_{m}}{r}\\right)^{\\frac{9}{13}} - 8788 \\, r^{7} r_{m} + 24336 \\, r^{6} r_{m}^{2} - 22308 \\, r^{5} r_{m}^{3} + 6760 \\, r^{4} r_{m}^{4} + 30758 \\, r^{6} r_{m} r_{p} - 90246 \\, r^{5} r_{m}^{2} r_{p} + 88218 \\, r^{4} r_{m}^{3} r_{p} - 28730 \\, r^{3} r_{m}^{4} r_{p}\\right)} a \\sin\\left({\\theta}\\right)^{2}}{16731 \\, {\\left(r - r_{m}\\right)}^{3} r^{5} r_{m}^{2}} & 0 & 0 & -\\frac{2 \\, {\\left(26 \\, r^{2} - 20 \\, r r_{m} - 91 \\, r r_{p} + 85 \\, r_{m} r_{p}\\right)} r_{m} \\sin\\left({\\theta}\\right)^{2}}{169 \\, {\\left(r - r_{m}\\right)} r^{2}}\n",
       "\\end{array}\\right)\\)</html>"
      ],
      "text/latex": [
       "$\\displaystyle \\left(\\begin{array}{rrrr}\n",
       "\\frac{2 \\, {\\left(15 \\, r r_{m} + 104 \\, r r_{p} - 119 \\, r_{m} r_{p}\\right)} {\\left(r - r_{p}\\right)} r_{m}}{169 \\, r^{6} \\left(\\frac{r - r_{m}}{r}\\right)^{\\frac{4}{13}}} & 0 & 0 & -\\frac{{\\left(28561 \\, r^{8} \\left(\\frac{r - r_{m}}{r}\\right)^{\\frac{35}{13}} - 32955 \\, r^{7} r_{m} \\left(\\frac{r - r_{m}}{r}\\right)^{\\frac{35}{13}} + 2535 \\, r^{6} r_{m}^{2} \\left(\\frac{r - r_{m}}{r}\\right)^{\\frac{35}{13}} - 15444 \\, r^{5} r_{m}^{3} \\left(\\frac{r - r_{m}}{r}\\right)^{\\frac{35}{13}} + 13068 \\, r^{4} r_{m}^{4} \\left(\\frac{r - r_{m}}{r}\\right)^{\\frac{35}{13}} - 4394 \\, r^{6} r_{m} r_{p} \\left(\\frac{r - r_{m}}{r}\\right)^{\\frac{35}{13}} - 13520 \\, r^{5} r_{m}^{2} r_{p} \\left(\\frac{r - r_{m}}{r}\\right)^{\\frac{35}{13}} + 63531 \\, r^{4} r_{m}^{3} r_{p} \\left(\\frac{r - r_{m}}{r}\\right)^{\\frac{35}{13}} - 40293 \\, r^{3} r_{m}^{4} r_{p} \\left(\\frac{r - r_{m}}{r}\\right)^{\\frac{35}{13}} - 28314 \\, r^{3} r_{m}^{3} r_{p}^{2} \\left(\\frac{r - r_{m}}{r}\\right)^{\\frac{35}{13}} + 27225 \\, r^{2} r_{m}^{4} r_{p}^{2} \\left(\\frac{r - r_{m}}{r}\\right)^{\\frac{35}{13}} - 28561 \\, r^{8} \\left(\\frac{r - r_{m}}{r}\\right)^{\\frac{22}{13}} + 70304 \\, r^{7} r_{m} \\left(\\frac{r - r_{m}}{r}\\right)^{\\frac{22}{13}} - 48165 \\, r^{6} r_{m}^{2} \\left(\\frac{r - r_{m}}{r}\\right)^{\\frac{22}{13}} + 20111 \\, r^{5} r_{m}^{3} \\left(\\frac{r - r_{m}}{r}\\right)^{\\frac{22}{13}} - 25668 \\, r^{4} r_{m}^{4} \\left(\\frac{r - r_{m}}{r}\\right)^{\\frac{22}{13}} + 11979 \\, r^{3} r_{m}^{5} \\left(\\frac{r - r_{m}}{r}\\right)^{\\frac{22}{13}} - 26364 \\, r^{6} r_{m} r_{p} \\left(\\frac{r - r_{m}}{r}\\right)^{\\frac{22}{13}} + 50531 \\, r^{5} r_{m}^{2} r_{p} \\left(\\frac{r - r_{m}}{r}\\right)^{\\frac{22}{13}} - 50141 \\, r^{4} r_{m}^{3} r_{p} \\left(\\frac{r - r_{m}}{r}\\right)^{\\frac{22}{13}} + 43497 \\, r^{3} r_{m}^{4} r_{p} \\left(\\frac{r - r_{m}}{r}\\right)^{\\frac{22}{13}} - 17523 \\, r^{2} r_{m}^{5} r_{p} \\left(\\frac{r - r_{m}}{r}\\right)^{\\frac{22}{13}} + 7722 \\, r^{3} r_{m}^{3} r_{p}^{2} \\left(\\frac{r - r_{m}}{r}\\right)^{\\frac{22}{13}} - 13266 \\, r^{2} r_{m}^{4} r_{p}^{2} \\left(\\frac{r - r_{m}}{r}\\right)^{\\frac{22}{13}} + 5544 \\, r r_{m}^{5} r_{p}^{2} \\left(\\frac{r - r_{m}}{r}\\right)^{\\frac{22}{13}} + 3211 \\, r^{6} r_{m}^{2} \\left(\\frac{r - r_{m}}{r}\\right)^{\\frac{9}{13}} - 4199 \\, r^{5} r_{m}^{3} \\left(\\frac{r - r_{m}}{r}\\right)^{\\frac{9}{13}} + 646 \\, r^{4} r_{m}^{4} \\left(\\frac{r - r_{m}}{r}\\right)^{\\frac{9}{13}} - 1539 \\, r^{3} r_{m}^{5} \\left(\\frac{r - r_{m}}{r}\\right)^{\\frac{9}{13}} + 1881 \\, r^{2} r_{m}^{6} \\left(\\frac{r - r_{m}}{r}\\right)^{\\frac{9}{13}} - 3211 \\, r^{5} r_{m}^{2} r_{p} \\left(\\frac{r - r_{m}}{r}\\right)^{\\frac{9}{13}} + 4199 \\, r^{4} r_{m}^{3} r_{p} \\left(\\frac{r - r_{m}}{r}\\right)^{\\frac{9}{13}} - 2527 \\, r^{3} r_{m}^{4} r_{p} \\left(\\frac{r - r_{m}}{r}\\right)^{\\frac{9}{13}} + 5301 \\, r^{2} r_{m}^{5} r_{p} \\left(\\frac{r - r_{m}}{r}\\right)^{\\frac{9}{13}} - 3762 \\, r r_{m}^{6} r_{p} \\left(\\frac{r - r_{m}}{r}\\right)^{\\frac{9}{13}} + 1881 \\, r^{2} r_{m}^{4} r_{p}^{2} \\left(\\frac{r - r_{m}}{r}\\right)^{\\frac{9}{13}} - 3762 \\, r r_{m}^{5} r_{p}^{2} \\left(\\frac{r - r_{m}}{r}\\right)^{\\frac{9}{13}} + 1881 \\, r_{m}^{6} r_{p}^{2} \\left(\\frac{r - r_{m}}{r}\\right)^{\\frac{9}{13}} - 8788 \\, r^{7} r_{m} + 24336 \\, r^{6} r_{m}^{2} - 22308 \\, r^{5} r_{m}^{3} + 6760 \\, r^{4} r_{m}^{4} + 30758 \\, r^{6} r_{m} r_{p} - 90246 \\, r^{5} r_{m}^{2} r_{p} + 88218 \\, r^{4} r_{m}^{3} r_{p} - 28730 \\, r^{3} r_{m}^{4} r_{p}\\right)} a \\sin\\left({\\theta}\\right)^{2}}{16731 \\, {\\left(r - r_{m}\\right)}^{3} r^{5} r_{m}^{2}} \\\\\n",
       "0 & \\frac{2 \\, {\\left(52 \\, r^{2} - 25 \\, r r_{m} - 156 \\, r r_{p} + 129 \\, r_{m} r_{p}\\right)} r_{m}}{169 \\, {\\left(r - r_{m}\\right)}^{2} {\\left(r - r_{p}\\right)} r^{2}} & 0 & 0 \\\\\n",
       "0 & 0 & -\\frac{2 \\, {\\left(26 \\, r^{2} - 20 \\, r r_{m} - 91 \\, r r_{p} + 85 \\, r_{m} r_{p}\\right)} r_{m}}{169 \\, {\\left(r - r_{m}\\right)} r^{2}} & 0 \\\\\n",
       "-\\frac{{\\left(28561 \\, r^{8} \\left(\\frac{r - r_{m}}{r}\\right)^{\\frac{35}{13}} - 32955 \\, r^{7} r_{m} \\left(\\frac{r - r_{m}}{r}\\right)^{\\frac{35}{13}} + 2535 \\, r^{6} r_{m}^{2} \\left(\\frac{r - r_{m}}{r}\\right)^{\\frac{35}{13}} - 15444 \\, r^{5} r_{m}^{3} \\left(\\frac{r - r_{m}}{r}\\right)^{\\frac{35}{13}} + 13068 \\, r^{4} r_{m}^{4} \\left(\\frac{r - r_{m}}{r}\\right)^{\\frac{35}{13}} - 4394 \\, r^{6} r_{m} r_{p} \\left(\\frac{r - r_{m}}{r}\\right)^{\\frac{35}{13}} - 13520 \\, r^{5} r_{m}^{2} r_{p} \\left(\\frac{r - r_{m}}{r}\\right)^{\\frac{35}{13}} + 63531 \\, r^{4} r_{m}^{3} r_{p} \\left(\\frac{r - r_{m}}{r}\\right)^{\\frac{35}{13}} - 40293 \\, r^{3} r_{m}^{4} r_{p} \\left(\\frac{r - r_{m}}{r}\\right)^{\\frac{35}{13}} - 28314 \\, r^{3} r_{m}^{3} r_{p}^{2} \\left(\\frac{r - r_{m}}{r}\\right)^{\\frac{35}{13}} + 27225 \\, r^{2} r_{m}^{4} r_{p}^{2} \\left(\\frac{r - r_{m}}{r}\\right)^{\\frac{35}{13}} - 28561 \\, r^{8} \\left(\\frac{r - r_{m}}{r}\\right)^{\\frac{22}{13}} + 70304 \\, r^{7} r_{m} \\left(\\frac{r - r_{m}}{r}\\right)^{\\frac{22}{13}} - 48165 \\, r^{6} r_{m}^{2} \\left(\\frac{r - r_{m}}{r}\\right)^{\\frac{22}{13}} + 20111 \\, r^{5} r_{m}^{3} \\left(\\frac{r - r_{m}}{r}\\right)^{\\frac{22}{13}} - 25668 \\, r^{4} r_{m}^{4} \\left(\\frac{r - r_{m}}{r}\\right)^{\\frac{22}{13}} + 11979 \\, r^{3} r_{m}^{5} \\left(\\frac{r - r_{m}}{r}\\right)^{\\frac{22}{13}} - 26364 \\, r^{6} r_{m} r_{p} \\left(\\frac{r - r_{m}}{r}\\right)^{\\frac{22}{13}} + 50531 \\, r^{5} r_{m}^{2} r_{p} \\left(\\frac{r - r_{m}}{r}\\right)^{\\frac{22}{13}} - 50141 \\, r^{4} r_{m}^{3} r_{p} \\left(\\frac{r - r_{m}}{r}\\right)^{\\frac{22}{13}} + 43497 \\, r^{3} r_{m}^{4} r_{p} \\left(\\frac{r - r_{m}}{r}\\right)^{\\frac{22}{13}} - 17523 \\, r^{2} r_{m}^{5} r_{p} \\left(\\frac{r - r_{m}}{r}\\right)^{\\frac{22}{13}} + 7722 \\, r^{3} r_{m}^{3} r_{p}^{2} \\left(\\frac{r - r_{m}}{r}\\right)^{\\frac{22}{13}} - 13266 \\, r^{2} r_{m}^{4} r_{p}^{2} \\left(\\frac{r - r_{m}}{r}\\right)^{\\frac{22}{13}} + 5544 \\, r r_{m}^{5} r_{p}^{2} \\left(\\frac{r - r_{m}}{r}\\right)^{\\frac{22}{13}} + 3211 \\, r^{6} r_{m}^{2} \\left(\\frac{r - r_{m}}{r}\\right)^{\\frac{9}{13}} - 4199 \\, r^{5} r_{m}^{3} \\left(\\frac{r - r_{m}}{r}\\right)^{\\frac{9}{13}} + 646 \\, r^{4} r_{m}^{4} \\left(\\frac{r - r_{m}}{r}\\right)^{\\frac{9}{13}} - 1539 \\, r^{3} r_{m}^{5} \\left(\\frac{r - r_{m}}{r}\\right)^{\\frac{9}{13}} + 1881 \\, r^{2} r_{m}^{6} \\left(\\frac{r - r_{m}}{r}\\right)^{\\frac{9}{13}} - 3211 \\, r^{5} r_{m}^{2} r_{p} \\left(\\frac{r - r_{m}}{r}\\right)^{\\frac{9}{13}} + 4199 \\, r^{4} r_{m}^{3} r_{p} \\left(\\frac{r - r_{m}}{r}\\right)^{\\frac{9}{13}} - 2527 \\, r^{3} r_{m}^{4} r_{p} \\left(\\frac{r - r_{m}}{r}\\right)^{\\frac{9}{13}} + 5301 \\, r^{2} r_{m}^{5} r_{p} \\left(\\frac{r - r_{m}}{r}\\right)^{\\frac{9}{13}} - 3762 \\, r r_{m}^{6} r_{p} \\left(\\frac{r - r_{m}}{r}\\right)^{\\frac{9}{13}} + 1881 \\, r^{2} r_{m}^{4} r_{p}^{2} \\left(\\frac{r - r_{m}}{r}\\right)^{\\frac{9}{13}} - 3762 \\, r r_{m}^{5} r_{p}^{2} \\left(\\frac{r - r_{m}}{r}\\right)^{\\frac{9}{13}} + 1881 \\, r_{m}^{6} r_{p}^{2} \\left(\\frac{r - r_{m}}{r}\\right)^{\\frac{9}{13}} - 8788 \\, r^{7} r_{m} + 24336 \\, r^{6} r_{m}^{2} - 22308 \\, r^{5} r_{m}^{3} + 6760 \\, r^{4} r_{m}^{4} + 30758 \\, r^{6} r_{m} r_{p} - 90246 \\, r^{5} r_{m}^{2} r_{p} + 88218 \\, r^{4} r_{m}^{3} r_{p} - 28730 \\, r^{3} r_{m}^{4} r_{p}\\right)} a \\sin\\left({\\theta}\\right)^{2}}{16731 \\, {\\left(r - r_{m}\\right)}^{3} r^{5} r_{m}^{2}} & 0 & 0 & -\\frac{2 \\, {\\left(26 \\, r^{2} - 20 \\, r r_{m} - 91 \\, r r_{p} + 85 \\, r_{m} r_{p}\\right)} r_{m} \\sin\\left({\\theta}\\right)^{2}}{169 \\, {\\left(r - r_{m}\\right)} r^{2}}\n",
       "\\end{array}\\right)$"
      ],
      "text/plain": [
       "[                                                                                                                                                                                                                                                                                                                                                                                                                                                                                                                                                                                                                                                                                                                                                                                                                                                                                                                                                                                                                                                                                                                                                                                                                                                                                                                                                                                                                                                                                                                                                                                                                                                                                                                                              2/169*(15*r*r_m + 104*r*r_p - 119*r_m*r_p)*(r - r_p)*r_m/(r^6*((r - r_m)/r)^(4/13))                                                                                                                                                                                                                                                                                                                                                                                                                                                                                                                                                                                                                                                                                                                                                                                                                                                                                                                                                                                                                                                                                                                                                                                                                                                                                                                                                                                                                                                                                                                                                                                                                                                                                                                                                                                                                                 0                                                                                                                                                                                                                                                                                                                                                                                                                                                                                                                                                                                                                                                                                                                                                                                                                                                                                                                                                                                                                                                                                                                                                                                                                                                                                                                                                                                                                                                                                                                                                                                                                                                                                                                                                                                                                                 0 -1/16731*(28561*r^8*((r - r_m)/r)^(35/13) - 32955*r^7*r_m*((r - r_m)/r)^(35/13) + 2535*r^6*r_m^2*((r - r_m)/r)^(35/13) - 15444*r^5*r_m^3*((r - r_m)/r)^(35/13) + 13068*r^4*r_m^4*((r - r_m)/r)^(35/13) - 4394*r^6*r_m*r_p*((r - r_m)/r)^(35/13) - 13520*r^5*r_m^2*r_p*((r - r_m)/r)^(35/13) + 63531*r^4*r_m^3*r_p*((r - r_m)/r)^(35/13) - 40293*r^3*r_m^4*r_p*((r - r_m)/r)^(35/13) - 28314*r^3*r_m^3*r_p^2*((r - r_m)/r)^(35/13) + 27225*r^2*r_m^4*r_p^2*((r - r_m)/r)^(35/13) - 28561*r^8*((r - r_m)/r)^(22/13) + 70304*r^7*r_m*((r - r_m)/r)^(22/13) - 48165*r^6*r_m^2*((r - r_m)/r)^(22/13) + 20111*r^5*r_m^3*((r - r_m)/r)^(22/13) - 25668*r^4*r_m^4*((r - r_m)/r)^(22/13) + 11979*r^3*r_m^5*((r - r_m)/r)^(22/13) - 26364*r^6*r_m*r_p*((r - r_m)/r)^(22/13) + 50531*r^5*r_m^2*r_p*((r - r_m)/r)^(22/13) - 50141*r^4*r_m^3*r_p*((r - r_m)/r)^(22/13) + 43497*r^3*r_m^4*r_p*((r - r_m)/r)^(22/13) - 17523*r^2*r_m^5*r_p*((r - r_m)/r)^(22/13) + 7722*r^3*r_m^3*r_p^2*((r - r_m)/r)^(22/13) - 13266*r^2*r_m^4*r_p^2*((r - r_m)/r)^(22/13) + 5544*r*r_m^5*r_p^2*((r - r_m)/r)^(22/13) + 3211*r^6*r_m^2*((r - r_m)/r)^(9/13) - 4199*r^5*r_m^3*((r - r_m)/r)^(9/13) + 646*r^4*r_m^4*((r - r_m)/r)^(9/13) - 1539*r^3*r_m^5*((r - r_m)/r)^(9/13) + 1881*r^2*r_m^6*((r - r_m)/r)^(9/13) - 3211*r^5*r_m^2*r_p*((r - r_m)/r)^(9/13) + 4199*r^4*r_m^3*r_p*((r - r_m)/r)^(9/13) - 2527*r^3*r_m^4*r_p*((r - r_m)/r)^(9/13) + 5301*r^2*r_m^5*r_p*((r - r_m)/r)^(9/13) - 3762*r*r_m^6*r_p*((r - r_m)/r)^(9/13) + 1881*r^2*r_m^4*r_p^2*((r - r_m)/r)^(9/13) - 3762*r*r_m^5*r_p^2*((r - r_m)/r)^(9/13) + 1881*r_m^6*r_p^2*((r - r_m)/r)^(9/13) - 8788*r^7*r_m + 24336*r^6*r_m^2 - 22308*r^5*r_m^3 + 6760*r^4*r_m^4 + 30758*r^6*r_m*r_p - 90246*r^5*r_m^2*r_p + 88218*r^4*r_m^3*r_p - 28730*r^3*r_m^4*r_p)*a*sin(th)^2/((r - r_m)^3*r^5*r_m^2)]\n",
       "[                                                                                                                                                                                                                                                                                                                                                                                                                                                                                                                                                                                                                                                                                                                                                                                                                                                                                                                                                                                                                                                                                                                                                                                                                                                                                                                                                                                                                                                                                                                                                                                                                                                                                                                                                                                                                                0                                                                                                                                                                                                                                                                                                                                                                                                                                                                                                                                                                                                                                                                                                                                                                                                                                                                                                                                                                                                                                                                                                                                                                                                                                                                                                                                                                                                                                                                                                                                                                                                                                                                                                                                               2/169*(52*r^2 - 25*r*r_m - 156*r*r_p + 129*r_m*r_p)*r_m/((r - r_m)^2*(r - r_p)*r^2)                                                                                                                                                                                                                                                                                                                                                                                                                                                                                                                                                                                                                                                                                                                                                                                                                                                                                                                                                                                                                                                                                                                                                                                                                                                                                                                                                                                                                                                                                                                                                                                                                                                                                                                                                                                                                                 0                                                                                                                                                                                                                                                                                                                                                                                                                                                                                                                                                                                                                                                                                                                                                                                                                                                                                                                                                                                                                                                                                                                                                                                                                                                                                                                                                                                                                                                                                                                                                                                                                                                                                                                                                                                                                                 0]\n",
       "[                                                                                                                                                                                                                                                                                                                                                                                                                                                                                                                                                                                                                                                                                                                                                                                                                                                                                                                                                                                                                                                                                                                                                                                                                                                                                                                                                                                                                                                                                                                                                                                                                                                                                                                                                                                                                                0                                                                                                                                                                                                                                                                                                                                                                                                                                                                                                                                                                                                                                                                                                                                                                                                                                                                                                                                                                                                                                                                                                                                                                                                                                                                                                                                                                                                                                                                                                                                                                                                                                                                                                                                                                                                                                 0                                                                                                                                                                                                                                                                                                                                                                                                                                                                                                                                                                                                                                                                                                                                                                                                                                                                                                                                                                                                                                                                                                                                                                                                                                                                                                                                                                                                                                                                                                                                                                                                                                                                                                                                                            -2/169*(26*r^2 - 20*r*r_m - 91*r*r_p + 85*r_m*r_p)*r_m/((r - r_m)*r^2)                                                                                                                                                                                                                                                                                                                                                                                                                                                                                                                                                                                                                                                                                                                                                                                                                                                                                                                                                                                                                                                                                                                                                                                                                                                                                                                                                                                                                                                                                                                                                                                                                                                                                                                                                                                                                                 0]\n",
       "[-1/16731*(28561*r^8*((r - r_m)/r)^(35/13) - 32955*r^7*r_m*((r - r_m)/r)^(35/13) + 2535*r^6*r_m^2*((r - r_m)/r)^(35/13) - 15444*r^5*r_m^3*((r - r_m)/r)^(35/13) + 13068*r^4*r_m^4*((r - r_m)/r)^(35/13) - 4394*r^6*r_m*r_p*((r - r_m)/r)^(35/13) - 13520*r^5*r_m^2*r_p*((r - r_m)/r)^(35/13) + 63531*r^4*r_m^3*r_p*((r - r_m)/r)^(35/13) - 40293*r^3*r_m^4*r_p*((r - r_m)/r)^(35/13) - 28314*r^3*r_m^3*r_p^2*((r - r_m)/r)^(35/13) + 27225*r^2*r_m^4*r_p^2*((r - r_m)/r)^(35/13) - 28561*r^8*((r - r_m)/r)^(22/13) + 70304*r^7*r_m*((r - r_m)/r)^(22/13) - 48165*r^6*r_m^2*((r - r_m)/r)^(22/13) + 20111*r^5*r_m^3*((r - r_m)/r)^(22/13) - 25668*r^4*r_m^4*((r - r_m)/r)^(22/13) + 11979*r^3*r_m^5*((r - r_m)/r)^(22/13) - 26364*r^6*r_m*r_p*((r - r_m)/r)^(22/13) + 50531*r^5*r_m^2*r_p*((r - r_m)/r)^(22/13) - 50141*r^4*r_m^3*r_p*((r - r_m)/r)^(22/13) + 43497*r^3*r_m^4*r_p*((r - r_m)/r)^(22/13) - 17523*r^2*r_m^5*r_p*((r - r_m)/r)^(22/13) + 7722*r^3*r_m^3*r_p^2*((r - r_m)/r)^(22/13) - 13266*r^2*r_m^4*r_p^2*((r - r_m)/r)^(22/13) + 5544*r*r_m^5*r_p^2*((r - r_m)/r)^(22/13) + 3211*r^6*r_m^2*((r - r_m)/r)^(9/13) - 4199*r^5*r_m^3*((r - r_m)/r)^(9/13) + 646*r^4*r_m^4*((r - r_m)/r)^(9/13) - 1539*r^3*r_m^5*((r - r_m)/r)^(9/13) + 1881*r^2*r_m^6*((r - r_m)/r)^(9/13) - 3211*r^5*r_m^2*r_p*((r - r_m)/r)^(9/13) + 4199*r^4*r_m^3*r_p*((r - r_m)/r)^(9/13) - 2527*r^3*r_m^4*r_p*((r - r_m)/r)^(9/13) + 5301*r^2*r_m^5*r_p*((r - r_m)/r)^(9/13) - 3762*r*r_m^6*r_p*((r - r_m)/r)^(9/13) + 1881*r^2*r_m^4*r_p^2*((r - r_m)/r)^(9/13) - 3762*r*r_m^5*r_p^2*((r - r_m)/r)^(9/13) + 1881*r_m^6*r_p^2*((r - r_m)/r)^(9/13) - 8788*r^7*r_m + 24336*r^6*r_m^2 - 22308*r^5*r_m^3 + 6760*r^4*r_m^4 + 30758*r^6*r_m*r_p - 90246*r^5*r_m^2*r_p + 88218*r^4*r_m^3*r_p - 28730*r^3*r_m^4*r_p)*a*sin(th)^2/((r - r_m)^3*r^5*r_m^2)                                                                                                                                                                                                                                                                                                                                                                                                                                                                                                                                                                                                                                                                                                                                                                                                                                                                                                                                                                                                                                                                                                                                                                                                                                                                                                                                                                                                                                                                                                                                                                                                                                                                                                                                                                                                                                 0                                                                                                                                                                                                                                                                                                                                                                                                                                                                                                                                                                                                                                                                                                                                                                                                                                                                                                                                                                                                                                                                                                                                                                                                                                                                                                                                                                                                                                                                                                                                                                                                                                                                                                                                                                                                                                 0                                                                                                                                                                                                                                                                                                                                                                                                                                                                                                                                                                                                                                                                                                                                                                                                                                                                                                                                                                                                                                                                                                                                                                                                                                                                                                                                                                                                                                                                                                                                                                                                                                                                                                                                                  -2/169*(26*r^2 - 20*r*r_m - 91*r*r_p + 85*r_m*r_p)*r_m*sin(th)^2/((r - r_m)*r^2)]"
      ]
     },
     "execution_count": 16,
     "metadata": {},
     "output_type": "execute_result"
    }
   ],
   "source": [
    "ER_ricc = g.ricci()\n",
    "ER_ricc.apply_map(lambda f: f.taylor(a,0,1)) \n",
    "ER_ricc.apply_map(lambda f: f.substitute_function(Z,E))\n",
    "ER_ricc.apply_map(lambda f: f.taylor(a,0,1))\n",
    "ER_ricc.apply_map(lambda f: f.substitute_function(U, A).substitute_function(V, B).substitute_function(X, C).substitute_function(Y, D))\n",
    "ER_ricc.apply_map(lambda f: f.substitute_function(O, Omega))\n",
    "ER_ricc.apply_map(lambda f: f.subs(Q=H).subs(alpha=1/(2*3**(1/2))))\n",
    "ER_ricc.apply_map(lambda f: f.factor())\n",
    "ER_ricc[:]"
   ]
  },
  {
   "cell_type": "code",
   "execution_count": 17,
   "id": "f838ad52",
   "metadata": {},
   "outputs": [
    {
     "data": {
      "text/html": [
       "<html>\\(\\displaystyle -\\frac{r}{{\\left(r - r_{p}\\right)} \\left(\\frac{r - r_{m}}{r}\\right)^{\\frac{15}{13}}} \\frac{\\partial}{\\partial t }\\otimes \\frac{\\partial}{\\partial t } + \\frac{{\\left(169 \\, r^{3} \\left(\\frac{r - r_{m}}{r}\\right)^{\\frac{9}{13}} + 117 \\, r^{2} r_{m} \\left(\\frac{r - r_{m}}{r}\\right)^{\\frac{9}{13}} + 99 \\, r r_{m}^{2} \\left(\\frac{r - r_{m}}{r}\\right)^{\\frac{9}{13}} - 99 \\, r_{m}^{2} r_{p} \\left(\\frac{r - r_{m}}{r}\\right)^{\\frac{9}{13}} - 169 \\, r^{3}\\right)} a}{99 \\, {\\left(r - r_{p}\\right)} r^{2} r_{m}^{2} \\left(\\frac{r - r_{m}}{r}\\right)^{\\frac{15}{13}}} \\frac{\\partial}{\\partial t }\\otimes \\frac{\\partial}{\\partial {\\phi} } + \\frac{{\\left(r - r_{p}\\right)} \\left(\\frac{r - r_{m}}{r}\\right)^{\\frac{7}{13}}}{r} \\frac{\\partial}{\\partial r }\\otimes \\frac{\\partial}{\\partial r } + \\frac{1}{r^{2} \\left(\\frac{r - r_{m}}{r}\\right)^{\\frac{6}{13}}} \\frac{\\partial}{\\partial {\\theta} }\\otimes \\frac{\\partial}{\\partial {\\theta} } + \\frac{{\\left(169 \\, r^{3} \\left(\\frac{r - r_{m}}{r}\\right)^{\\frac{9}{13}} + 117 \\, r^{2} r_{m} \\left(\\frac{r - r_{m}}{r}\\right)^{\\frac{9}{13}} + 99 \\, r r_{m}^{2} \\left(\\frac{r - r_{m}}{r}\\right)^{\\frac{9}{13}} - 99 \\, r_{m}^{2} r_{p} \\left(\\frac{r - r_{m}}{r}\\right)^{\\frac{9}{13}} - 169 \\, r^{3}\\right)} a}{99 \\, {\\left(r - r_{p}\\right)} r^{2} r_{m}^{2} \\left(\\frac{r - r_{m}}{r}\\right)^{\\frac{15}{13}}} \\frac{\\partial}{\\partial {\\phi} }\\otimes \\frac{\\partial}{\\partial t } + \\frac{1}{r^{2} \\left(\\frac{r - r_{m}}{r}\\right)^{\\frac{6}{13}} \\sin\\left({\\theta}\\right)^{2}} \\frac{\\partial}{\\partial {\\phi} }\\otimes \\frac{\\partial}{\\partial {\\phi} }\\)</html>"
      ],
      "text/latex": [
       "$\\displaystyle -\\frac{r}{{\\left(r - r_{p}\\right)} \\left(\\frac{r - r_{m}}{r}\\right)^{\\frac{15}{13}}} \\frac{\\partial}{\\partial t }\\otimes \\frac{\\partial}{\\partial t } + \\frac{{\\left(169 \\, r^{3} \\left(\\frac{r - r_{m}}{r}\\right)^{\\frac{9}{13}} + 117 \\, r^{2} r_{m} \\left(\\frac{r - r_{m}}{r}\\right)^{\\frac{9}{13}} + 99 \\, r r_{m}^{2} \\left(\\frac{r - r_{m}}{r}\\right)^{\\frac{9}{13}} - 99 \\, r_{m}^{2} r_{p} \\left(\\frac{r - r_{m}}{r}\\right)^{\\frac{9}{13}} - 169 \\, r^{3}\\right)} a}{99 \\, {\\left(r - r_{p}\\right)} r^{2} r_{m}^{2} \\left(\\frac{r - r_{m}}{r}\\right)^{\\frac{15}{13}}} \\frac{\\partial}{\\partial t }\\otimes \\frac{\\partial}{\\partial {\\phi} } + \\frac{{\\left(r - r_{p}\\right)} \\left(\\frac{r - r_{m}}{r}\\right)^{\\frac{7}{13}}}{r} \\frac{\\partial}{\\partial r }\\otimes \\frac{\\partial}{\\partial r } + \\frac{1}{r^{2} \\left(\\frac{r - r_{m}}{r}\\right)^{\\frac{6}{13}}} \\frac{\\partial}{\\partial {\\theta} }\\otimes \\frac{\\partial}{\\partial {\\theta} } + \\frac{{\\left(169 \\, r^{3} \\left(\\frac{r - r_{m}}{r}\\right)^{\\frac{9}{13}} + 117 \\, r^{2} r_{m} \\left(\\frac{r - r_{m}}{r}\\right)^{\\frac{9}{13}} + 99 \\, r r_{m}^{2} \\left(\\frac{r - r_{m}}{r}\\right)^{\\frac{9}{13}} - 99 \\, r_{m}^{2} r_{p} \\left(\\frac{r - r_{m}}{r}\\right)^{\\frac{9}{13}} - 169 \\, r^{3}\\right)} a}{99 \\, {\\left(r - r_{p}\\right)} r^{2} r_{m}^{2} \\left(\\frac{r - r_{m}}{r}\\right)^{\\frac{15}{13}}} \\frac{\\partial}{\\partial {\\phi} }\\otimes \\frac{\\partial}{\\partial t } + \\frac{1}{r^{2} \\left(\\frac{r - r_{m}}{r}\\right)^{\\frac{6}{13}} \\sin\\left({\\theta}\\right)^{2}} \\frac{\\partial}{\\partial {\\phi} }\\otimes \\frac{\\partial}{\\partial {\\phi} }$"
      ],
      "text/plain": [
       "-r/((r - r_p)*((r - r_m)/r)^(15/13)) ∂/∂t⊗∂/∂t + 1/99*(169*r^3*((r - r_m)/r)^(9/13) + 117*r^2*r_m*((r - r_m)/r)^(9/13) + 99*r*r_m^2*((r - r_m)/r)^(9/13) - 99*r_m^2*r_p*((r - r_m)/r)^(9/13) - 169*r^3)*a/((r - r_p)*r^2*r_m^2*((r - r_m)/r)^(15/13)) ∂/∂t⊗∂/∂ph + (r - r_p)*((r - r_m)/r)^(7/13)/r ∂/∂r⊗∂/∂r + 1/(r^2*((r - r_m)/r)^(6/13)) ∂/∂th⊗∂/∂th + 1/99*(169*r^3*((r - r_m)/r)^(9/13) + 117*r^2*r_m*((r - r_m)/r)^(9/13) + 99*r*r_m^2*((r - r_m)/r)^(9/13) - 99*r_m^2*r_p*((r - r_m)/r)^(9/13) - 169*r^3)*a/((r - r_p)*r^2*r_m^2*((r - r_m)/r)^(15/13)) ∂/∂ph⊗∂/∂t + 1/(r^2*((r - r_m)/r)^(6/13)*sin(th)^2) ∂/∂ph⊗∂/∂ph"
      ]
     },
     "execution_count": 17,
     "metadata": {},
     "output_type": "execute_result"
    }
   ],
   "source": [
    "gu = g.up(g) ; gu.tensor_type()\n",
    "gu.apply_map(lambda f: f.taylor(a,0,1)) \n",
    "gu.apply_map(lambda f: f.substitute_function(Z,E))\n",
    "gu.apply_map(lambda f: f.taylor(a,0,1))\n",
    "gu.apply_map(lambda f: f.substitute_function(U, A).substitute_function(V, B).substitute_function(X, C).substitute_function(Y, D))\n",
    "gu.apply_map(lambda f: f.substitute_function(O, Omega))\n",
    "gu.apply_map(lambda f: f.subs(Q=H).subs(alpha=1/(2*3**(1/2))))\n",
    "gu.apply_map(lambda f: f.factor())\n",
    "gu.display()"
   ]
  },
  {
   "cell_type": "code",
   "execution_count": 18,
   "id": "2c4345cd",
   "metadata": {},
   "outputs": [
    {
     "data": {
      "text/html": [
       "<html>\\(\\displaystyle -\\frac{12 \\, {\\left(r - r_{m}\\right)}^{\\frac{7}{13}} r^{\\frac{6}{13}} r_{m} r_{p}}{13 \\, {\\left(r^{5} - r^{4} r_{m}\\right)}}\\)</html>"
      ],
      "text/latex": [
       "$\\displaystyle -\\frac{12 \\, {\\left(r - r_{m}\\right)}^{\\frac{7}{13}} r^{\\frac{6}{13}} r_{m} r_{p}}{13 \\, {\\left(r^{5} - r^{4} r_{m}\\right)}}$"
      ],
      "text/plain": [
       "-12/13*(r - r_m)^(7/13)*r^(6/13)*r_m*r_p/(r^5 - r^4*r_m)"
      ]
     },
     "execution_count": 18,
     "metadata": {},
     "output_type": "execute_result"
    }
   ],
   "source": [
    "ER_rsc = gu['^ab']*ER_ricc['_ab']\n",
    "ER_rsc.expr().taylor(a,0,1)"
   ]
  },
  {
   "cell_type": "markdown",
   "id": "d5230e21",
   "metadata": {},
   "source": [
    "## Antisymmetrization"
   ]
  },
  {
   "cell_type": "markdown",
   "id": "dafef50c",
   "metadata": {},
   "source": [
    "1. Let's compute $Rg_{a[c}g_{d]b}$"
   ]
  },
  {
   "cell_type": "code",
   "execution_count": 19,
   "id": "52c43902",
   "metadata": {},
   "outputs": [
    {
     "data": {
      "text/html": [
       "<html>\\(\\displaystyle 0\\)</html>"
      ],
      "text/latex": [
       "$\\displaystyle 0$"
      ],
      "text/plain": [
       "0"
      ]
     },
     "execution_count": 19,
     "metadata": {},
     "output_type": "execute_result"
    }
   ],
   "source": [
    "g_prod = ER_rsc*g*g\n",
    "g_prod.apply_map(lambda f: f.substitute_function(Z,E))\n",
    "g_prod.apply_map(lambda f: f.taylor(a,0,1))\n",
    "g_prod.apply_map(lambda f: f.substitute_function(U, A).substitute_function(V, B).substitute_function(X, C).substitute_function(Y, D))\n",
    "g_prod.apply_map(lambda f: f.substitute_function(O, Omega))\n",
    "g_prod.apply_map(lambda f: f.subs(Q=H).subs(alpha=1/(2*3**(1/2))))\n",
    "g_prod.apply_map(lambda f: f.factor())\n",
    "gp_anti = g_prod['_acbd']-g_prod['_adbc']\n",
    "gp_anti[0,3,0,3]"
   ]
  },
  {
   "cell_type": "markdown",
   "id": "16d64f5c",
   "metadata": {},
   "source": [
    "antisymmetrize$\\lbrace1,2\\rbrace(g_{ac}g_{bd})\\rightarrow \\frac{1}{2}\\left(g_{ac}g_{bd}-g_{ad}g_{bc}\\right)=\\frac{1}{2}g_{a[c}g_{b]d}$"
   ]
  },
  {
   "cell_type": "markdown",
   "id": "f8172f4d",
   "metadata": {},
   "source": [
    "2. Let's now compute $g_{a[c}R_{d]b} - g_{b[c}R_{d]a}$"
   ]
  },
  {
   "cell_type": "code",
   "execution_count": 20,
   "id": "842949e1",
   "metadata": {},
   "outputs": [
    {
     "data": {
      "text/html": [
       "<html>\\(\\displaystyle -\\frac{8 \\, {\\left(13 \\, r^{2} r_{m} - 10 \\, r r_{m}^{2} - {\\left(65 \\, r r_{m} - 62 \\, r_{m}^{2}\\right)} r_{p}\\right)}}{169 \\, {\\left(r - r_{m}\\right)}^{\\frac{11}{13}} r^{\\frac{54}{13}}}\\)</html>"
      ],
      "text/latex": [
       "$\\displaystyle -\\frac{8 \\, {\\left(13 \\, r^{2} r_{m} - 10 \\, r r_{m}^{2} - {\\left(65 \\, r r_{m} - 62 \\, r_{m}^{2}\\right)} r_{p}\\right)}}{169 \\, {\\left(r - r_{m}\\right)}^{\\frac{11}{13}} r^{\\frac{54}{13}}}$"
      ],
      "text/plain": [
       "-8/169*(13*r^2*r_m - 10*r*r_m^2 - (65*r*r_m - 62*r_m^2)*r_p)/((r - r_m)^(11/13)*r^(54/13))"
      ]
     },
     "execution_count": 20,
     "metadata": {},
     "output_type": "execute_result"
    }
   ],
   "source": [
    "gR = g*ER_ricc\n",
    "gR.apply_map(lambda f: f.substitute_function(Z,E))\n",
    "gR.apply_map(lambda f: f.taylor(a,0,1))\n",
    "gR.apply_map(lambda f: f.substitute_function(U, A).substitute_function(V, B).substitute_function(X, C).substitute_function(Y, D))\n",
    "gR.apply_map(lambda f: f.substitute_function(O, Omega))\n",
    "gR.apply_map(lambda f: f.subs(Q=H).subs(alpha=1/(2*3**(1/2))))\n",
    "gR.apply_map(lambda f: f.factor())\n",
    "gR_prod = gR['_acbd']-gR['_adbc']+gR['_bdac']-gR['_bcad']\n",
    "gR_prod[0,0,1,1]"
   ]
  },
  {
   "cell_type": "markdown",
   "id": "3e5664b8",
   "metadata": {},
   "source": [
    "## The Weyl tensor"
   ]
  },
  {
   "cell_type": "code",
   "execution_count": 21,
   "id": "1f11224d",
   "metadata": {},
   "outputs": [
    {
     "data": {
      "text/html": [
       "<html>\\(\\displaystyle C_{0000} =  0\\)</html>"
      ],
      "text/latex": [
       "$\\displaystyle C_{0000} =  0$"
      ],
      "text/plain": [
       "C_{0000} =  0"
      ]
     },
     "metadata": {},
     "output_type": "display_data"
    },
    {
     "data": {
      "text/html": [
       "<html>\\(\\displaystyle C_{0001} =  0\\)</html>"
      ],
      "text/latex": [
       "$\\displaystyle C_{0001} =  0$"
      ],
      "text/plain": [
       "C_{0001} =  0"
      ]
     },
     "metadata": {},
     "output_type": "display_data"
    },
    {
     "data": {
      "text/html": [
       "<html>\\(\\displaystyle C_{0002} =  0\\)</html>"
      ],
      "text/latex": [
       "$\\displaystyle C_{0002} =  0$"
      ],
      "text/plain": [
       "C_{0002} =  0"
      ]
     },
     "metadata": {},
     "output_type": "display_data"
    },
    {
     "data": {
      "text/html": [
       "<html>\\(\\displaystyle C_{0003} =  0\\)</html>"
      ],
      "text/latex": [
       "$\\displaystyle C_{0003} =  0$"
      ],
      "text/plain": [
       "C_{0003} =  0"
      ]
     },
     "metadata": {},
     "output_type": "display_data"
    },
    {
     "data": {
      "text/html": [
       "<html>\\(\\displaystyle C_{0010} =  0\\)</html>"
      ],
      "text/latex": [
       "$\\displaystyle C_{0010} =  0$"
      ],
      "text/plain": [
       "C_{0010} =  0"
      ]
     },
     "metadata": {},
     "output_type": "display_data"
    },
    {
     "data": {
      "text/html": [
       "<html>\\(\\displaystyle C_{0011} =  0\\)</html>"
      ],
      "text/latex": [
       "$\\displaystyle C_{0011} =  0$"
      ],
      "text/plain": [
       "C_{0011} =  0"
      ]
     },
     "metadata": {},
     "output_type": "display_data"
    },
    {
     "data": {
      "text/html": [
       "<html>\\(\\displaystyle C_{0012} =  0\\)</html>"
      ],
      "text/latex": [
       "$\\displaystyle C_{0012} =  0$"
      ],
      "text/plain": [
       "C_{0012} =  0"
      ]
     },
     "metadata": {},
     "output_type": "display_data"
    },
    {
     "data": {
      "text/html": [
       "<html>\\(\\displaystyle C_{0013} =  0\\)</html>"
      ],
      "text/latex": [
       "$\\displaystyle C_{0013} =  0$"
      ],
      "text/plain": [
       "C_{0013} =  0"
      ]
     },
     "metadata": {},
     "output_type": "display_data"
    },
    {
     "data": {
      "text/html": [
       "<html>\\(\\displaystyle C_{0020} =  0\\)</html>"
      ],
      "text/latex": [
       "$\\displaystyle C_{0020} =  0$"
      ],
      "text/plain": [
       "C_{0020} =  0"
      ]
     },
     "metadata": {},
     "output_type": "display_data"
    },
    {
     "data": {
      "text/html": [
       "<html>\\(\\displaystyle C_{0021} =  0\\)</html>"
      ],
      "text/latex": [
       "$\\displaystyle C_{0021} =  0$"
      ],
      "text/plain": [
       "C_{0021} =  0"
      ]
     },
     "metadata": {},
     "output_type": "display_data"
    },
    {
     "data": {
      "text/html": [
       "<html>\\(\\displaystyle C_{0022} =  0\\)</html>"
      ],
      "text/latex": [
       "$\\displaystyle C_{0022} =  0$"
      ],
      "text/plain": [
       "C_{0022} =  0"
      ]
     },
     "metadata": {},
     "output_type": "display_data"
    },
    {
     "data": {
      "text/html": [
       "<html>\\(\\displaystyle C_{0023} =  0\\)</html>"
      ],
      "text/latex": [
       "$\\displaystyle C_{0023} =  0$"
      ],
      "text/plain": [
       "C_{0023} =  0"
      ]
     },
     "metadata": {},
     "output_type": "display_data"
    },
    {
     "data": {
      "text/html": [
       "<html>\\(\\displaystyle C_{0030} =  0\\)</html>"
      ],
      "text/latex": [
       "$\\displaystyle C_{0030} =  0$"
      ],
      "text/plain": [
       "C_{0030} =  0"
      ]
     },
     "metadata": {},
     "output_type": "display_data"
    },
    {
     "data": {
      "text/html": [
       "<html>\\(\\displaystyle C_{0031} =  0\\)</html>"
      ],
      "text/latex": [
       "$\\displaystyle C_{0031} =  0$"
      ],
      "text/plain": [
       "C_{0031} =  0"
      ]
     },
     "metadata": {},
     "output_type": "display_data"
    },
    {
     "data": {
      "text/html": [
       "<html>\\(\\displaystyle C_{0032} =  0\\)</html>"
      ],
      "text/latex": [
       "$\\displaystyle C_{0032} =  0$"
      ],
      "text/plain": [
       "C_{0032} =  0"
      ]
     },
     "metadata": {},
     "output_type": "display_data"
    },
    {
     "data": {
      "text/html": [
       "<html>\\(\\displaystyle C_{0033} =  0\\)</html>"
      ],
      "text/latex": [
       "$\\displaystyle C_{0033} =  0$"
      ],
      "text/plain": [
       "C_{0033} =  0"
      ]
     },
     "metadata": {},
     "output_type": "display_data"
    },
    {
     "data": {
      "text/html": [
       "<html>\\(\\displaystyle C_{0100} =  0\\)</html>"
      ],
      "text/latex": [
       "$\\displaystyle C_{0100} =  0$"
      ],
      "text/plain": [
       "C_{0100} =  0"
      ]
     },
     "metadata": {},
     "output_type": "display_data"
    },
    {
     "data": {
      "text/html": [
       "<html>\\(\\displaystyle C_{0101} =  -\\frac{{\\left(143 \\, r^{2} r_{m} - 140 \\, r r_{m}^{2} + {\\left(169 \\, r^{2} - 468 \\, r r_{m} + 296 \\, r_{m}^{2}\\right)} r_{p}\\right)} {\\left(r - r_{m}\\right)}^{\\frac{2}{13}}}{169 \\, {\\left(r^{5} - r^{4} r_{m}\\right)} r^{\\frac{2}{13}}}\\)</html>"
      ],
      "text/latex": [
       "$\\displaystyle C_{0101} =  -\\frac{{\\left(143 \\, r^{2} r_{m} - 140 \\, r r_{m}^{2} + {\\left(169 \\, r^{2} - 468 \\, r r_{m} + 296 \\, r_{m}^{2}\\right)} r_{p}\\right)} {\\left(r - r_{m}\\right)}^{\\frac{2}{13}}}{169 \\, {\\left(r^{5} - r^{4} r_{m}\\right)} r^{\\frac{2}{13}}}$"
      ],
      "text/plain": [
       "C_{0101} =  -1/169*(143*r^2*r_m - 140*r*r_m^2 + (169*r^2 - 468*r*r_m + 296*r_m^2)*r_p)*(r - r_m)^(2/13)/((r^5 - r^4*r_m)*r^(2/13))"
      ]
     },
     "metadata": {},
     "output_type": "display_data"
    },
    {
     "data": {
      "text/html": [
       "<html>\\(\\displaystyle C_{0102} =  0\\)</html>"
      ],
      "text/latex": [
       "$\\displaystyle C_{0102} =  0$"
      ],
      "text/plain": [
       "C_{0102} =  0"
      ]
     },
     "metadata": {},
     "output_type": "display_data"
    },
    {
     "data": {
      "text/html": [
       "<html>\\(\\displaystyle C_{0103} =  0\\)</html>"
      ],
      "text/latex": [
       "$\\displaystyle C_{0103} =  0$"
      ],
      "text/plain": [
       "C_{0103} =  0"
      ]
     },
     "metadata": {},
     "output_type": "display_data"
    },
    {
     "data": {
      "text/html": [
       "<html>\\(\\displaystyle C_{0110} =  \\frac{{\\left(143 \\, r^{2} r_{m} - 140 \\, r r_{m}^{2} + {\\left(169 \\, r^{2} - 468 \\, r r_{m} + 296 \\, r_{m}^{2}\\right)} r_{p}\\right)} {\\left(r - r_{m}\\right)}^{\\frac{2}{13}}}{169 \\, {\\left(r^{5} - r^{4} r_{m}\\right)} r^{\\frac{2}{13}}}\\)</html>"
      ],
      "text/latex": [
       "$\\displaystyle C_{0110} =  \\frac{{\\left(143 \\, r^{2} r_{m} - 140 \\, r r_{m}^{2} + {\\left(169 \\, r^{2} - 468 \\, r r_{m} + 296 \\, r_{m}^{2}\\right)} r_{p}\\right)} {\\left(r - r_{m}\\right)}^{\\frac{2}{13}}}{169 \\, {\\left(r^{5} - r^{4} r_{m}\\right)} r^{\\frac{2}{13}}}$"
      ],
      "text/plain": [
       "C_{0110} =  1/169*(143*r^2*r_m - 140*r*r_m^2 + (169*r^2 - 468*r*r_m + 296*r_m^2)*r_p)*(r - r_m)^(2/13)/((r^5 - r^4*r_m)*r^(2/13))"
      ]
     },
     "metadata": {},
     "output_type": "display_data"
    },
    {
     "data": {
      "text/html": [
       "<html>\\(\\displaystyle C_{0111} =  0\\)</html>"
      ],
      "text/latex": [
       "$\\displaystyle C_{0111} =  0$"
      ],
      "text/plain": [
       "C_{0111} =  0"
      ]
     },
     "metadata": {},
     "output_type": "display_data"
    },
    {
     "data": {
      "text/html": [
       "<html>\\(\\displaystyle C_{0112} =  0\\)</html>"
      ],
      "text/latex": [
       "$\\displaystyle C_{0112} =  0$"
      ],
      "text/plain": [
       "C_{0112} =  0"
      ]
     },
     "metadata": {},
     "output_type": "display_data"
    },
    {
     "data": {
      "text/html": [
       "<html>\\(\\displaystyle C_{0113} =  \\frac{{\\left(24167 \\, a r^{5} r_{m} - 6929 \\, a r^{4} r_{m}^{2} - 47268 \\, a r^{3} r_{m}^{3} + 27720 \\, a r^{2} r_{m}^{4} + 198 \\, {\\left(169 \\, a r^{2} r_{m}^{2} - 468 \\, a r r_{m}^{3} + 296 \\, a r_{m}^{4}\\right)} r_{p}^{2} + {\\left(28561 \\, a r^{5} - 59319 \\, a r^{4} r_{m} - 38194 \\, a r^{3} r_{m}^{2} + 158184 \\, a r^{2} r_{m}^{3} - 86328 \\, a r r_{m}^{4}\\right)} r_{p}\\right)} {\\left(r - r_{m}\\right)}^{\\frac{9}{13}} \\sin\\left({\\theta}\\right)^{2} - 169 \\, {\\left(143 \\, a r^{5} r_{m} - 140 \\, a r^{4} r_{m}^{2} + {\\left(169 \\, a r^{5} - 468 \\, a r^{4} r_{m} + 296 \\, a r^{3} r_{m}^{2}\\right)} r_{p}\\right)} r^{\\frac{9}{13}} \\sin\\left({\\theta}\\right)^{2}}{33462 \\, {\\left(r^{6} r_{m}^{2} - r^{5} r_{m}^{3} - {\\left(r^{5} r_{m}^{2} - r^{4} r_{m}^{3}\\right)} r_{p}\\right)} {\\left(r - r_{m}\\right)}^{\\frac{7}{13}} r^{\\frac{2}{13}}}\\)</html>"
      ],
      "text/latex": [
       "$\\displaystyle C_{0113} =  \\frac{{\\left(24167 \\, a r^{5} r_{m} - 6929 \\, a r^{4} r_{m}^{2} - 47268 \\, a r^{3} r_{m}^{3} + 27720 \\, a r^{2} r_{m}^{4} + 198 \\, {\\left(169 \\, a r^{2} r_{m}^{2} - 468 \\, a r r_{m}^{3} + 296 \\, a r_{m}^{4}\\right)} r_{p}^{2} + {\\left(28561 \\, a r^{5} - 59319 \\, a r^{4} r_{m} - 38194 \\, a r^{3} r_{m}^{2} + 158184 \\, a r^{2} r_{m}^{3} - 86328 \\, a r r_{m}^{4}\\right)} r_{p}\\right)} {\\left(r - r_{m}\\right)}^{\\frac{9}{13}} \\sin\\left({\\theta}\\right)^{2} - 169 \\, {\\left(143 \\, a r^{5} r_{m} - 140 \\, a r^{4} r_{m}^{2} + {\\left(169 \\, a r^{5} - 468 \\, a r^{4} r_{m} + 296 \\, a r^{3} r_{m}^{2}\\right)} r_{p}\\right)} r^{\\frac{9}{13}} \\sin\\left({\\theta}\\right)^{2}}{33462 \\, {\\left(r^{6} r_{m}^{2} - r^{5} r_{m}^{3} - {\\left(r^{5} r_{m}^{2} - r^{4} r_{m}^{3}\\right)} r_{p}\\right)} {\\left(r - r_{m}\\right)}^{\\frac{7}{13}} r^{\\frac{2}{13}}}$"
      ],
      "text/plain": [
       "C_{0113} =  1/33462*((24167*a*r^5*r_m - 6929*a*r^4*r_m^2 - 47268*a*r^3*r_m^3 + 27720*a*r^2*r_m^4 + 198*(169*a*r^2*r_m^2 - 468*a*r*r_m^3 + 296*a*r_m^4)*r_p^2 + (28561*a*r^5 - 59319*a*r^4*r_m - 38194*a*r^3*r_m^2 + 158184*a*r^2*r_m^3 - 86328*a*r*r_m^4)*r_p)*(r - r_m)^(9/13)*sin(th)^2 - 169*(143*a*r^5*r_m - 140*a*r^4*r_m^2 + (169*a*r^5 - 468*a*r^4*r_m + 296*a*r^3*r_m^2)*r_p)*r^(9/13)*sin(th)^2)/((r^6*r_m^2 - r^5*r_m^3 - (r^5*r_m^2 - r^4*r_m^3)*r_p)*(r - r_m)^(7/13)*r^(2/13))"
      ]
     },
     "metadata": {},
     "output_type": "display_data"
    },
    {
     "data": {
      "text/html": [
       "<html>\\(\\displaystyle C_{0120} =  0\\)</html>"
      ],
      "text/latex": [
       "$\\displaystyle C_{0120} =  0$"
      ],
      "text/plain": [
       "C_{0120} =  0"
      ]
     },
     "metadata": {},
     "output_type": "display_data"
    },
    {
     "data": {
      "text/html": [
       "<html>\\(\\displaystyle C_{0121} =  0\\)</html>"
      ],
      "text/latex": [
       "$\\displaystyle C_{0121} =  0$"
      ],
      "text/plain": [
       "C_{0121} =  0"
      ]
     },
     "metadata": {},
     "output_type": "display_data"
    },
    {
     "data": {
      "text/html": [
       "<html>\\(\\displaystyle C_{0122} =  0\\)</html>"
      ],
      "text/latex": [
       "$\\displaystyle C_{0122} =  0$"
      ],
      "text/plain": [
       "C_{0122} =  0"
      ]
     },
     "metadata": {},
     "output_type": "display_data"
    },
    {
     "data": {
      "text/html": [
       "<html>\\(\\displaystyle C_{0123} =  \\frac{{\\left(35 \\, r r_{m} + 39 \\, r r_{p} - 48 \\, r_{m} r_{p}\\right)} a \\left(\\frac{r - r_{m}}{r}\\right)^{\\frac{2}{13}} \\cos\\left({\\theta}\\right) \\sin\\left({\\theta}\\right)}{13 \\, r^{3}}\\)</html>"
      ],
      "text/latex": [
       "$\\displaystyle C_{0123} =  \\frac{{\\left(35 \\, r r_{m} + 39 \\, r r_{p} - 48 \\, r_{m} r_{p}\\right)} a \\left(\\frac{r - r_{m}}{r}\\right)^{\\frac{2}{13}} \\cos\\left({\\theta}\\right) \\sin\\left({\\theta}\\right)}{13 \\, r^{3}}$"
      ],
      "text/plain": [
       "C_{0123} =  1/13*(35*r*r_m + 39*r*r_p - 48*r_m*r_p)*a*((r - r_m)/r)^(2/13)*cos(th)*sin(th)/r^3"
      ]
     },
     "metadata": {},
     "output_type": "display_data"
    },
    {
     "data": {
      "text/html": [
       "<html>\\(\\displaystyle C_{0130} =  0\\)</html>"
      ],
      "text/latex": [
       "$\\displaystyle C_{0130} =  0$"
      ],
      "text/plain": [
       "C_{0130} =  0"
      ]
     },
     "metadata": {},
     "output_type": "display_data"
    },
    {
     "data": {
      "text/html": [
       "<html>\\(\\displaystyle C_{0131} =  -\\frac{{\\left(24167 \\, a r^{5} r_{m} - 6929 \\, a r^{4} r_{m}^{2} - 47268 \\, a r^{3} r_{m}^{3} + 27720 \\, a r^{2} r_{m}^{4} + 198 \\, {\\left(169 \\, a r^{2} r_{m}^{2} - 468 \\, a r r_{m}^{3} + 296 \\, a r_{m}^{4}\\right)} r_{p}^{2} + {\\left(28561 \\, a r^{5} - 59319 \\, a r^{4} r_{m} - 38194 \\, a r^{3} r_{m}^{2} + 158184 \\, a r^{2} r_{m}^{3} - 86328 \\, a r r_{m}^{4}\\right)} r_{p}\\right)} {\\left(r - r_{m}\\right)}^{\\frac{9}{13}} \\sin\\left({\\theta}\\right)^{2} - 169 \\, {\\left(143 \\, a r^{5} r_{m} - 140 \\, a r^{4} r_{m}^{2} + {\\left(169 \\, a r^{5} - 468 \\, a r^{4} r_{m} + 296 \\, a r^{3} r_{m}^{2}\\right)} r_{p}\\right)} r^{\\frac{9}{13}} \\sin\\left({\\theta}\\right)^{2}}{33462 \\, {\\left(r^{6} r_{m}^{2} - r^{5} r_{m}^{3} - {\\left(r^{5} r_{m}^{2} - r^{4} r_{m}^{3}\\right)} r_{p}\\right)} {\\left(r - r_{m}\\right)}^{\\frac{7}{13}} r^{\\frac{2}{13}}}\\)</html>"
      ],
      "text/latex": [
       "$\\displaystyle C_{0131} =  -\\frac{{\\left(24167 \\, a r^{5} r_{m} - 6929 \\, a r^{4} r_{m}^{2} - 47268 \\, a r^{3} r_{m}^{3} + 27720 \\, a r^{2} r_{m}^{4} + 198 \\, {\\left(169 \\, a r^{2} r_{m}^{2} - 468 \\, a r r_{m}^{3} + 296 \\, a r_{m}^{4}\\right)} r_{p}^{2} + {\\left(28561 \\, a r^{5} - 59319 \\, a r^{4} r_{m} - 38194 \\, a r^{3} r_{m}^{2} + 158184 \\, a r^{2} r_{m}^{3} - 86328 \\, a r r_{m}^{4}\\right)} r_{p}\\right)} {\\left(r - r_{m}\\right)}^{\\frac{9}{13}} \\sin\\left({\\theta}\\right)^{2} - 169 \\, {\\left(143 \\, a r^{5} r_{m} - 140 \\, a r^{4} r_{m}^{2} + {\\left(169 \\, a r^{5} - 468 \\, a r^{4} r_{m} + 296 \\, a r^{3} r_{m}^{2}\\right)} r_{p}\\right)} r^{\\frac{9}{13}} \\sin\\left({\\theta}\\right)^{2}}{33462 \\, {\\left(r^{6} r_{m}^{2} - r^{5} r_{m}^{3} - {\\left(r^{5} r_{m}^{2} - r^{4} r_{m}^{3}\\right)} r_{p}\\right)} {\\left(r - r_{m}\\right)}^{\\frac{7}{13}} r^{\\frac{2}{13}}}$"
      ],
      "text/plain": [
       "C_{0131} =  -1/33462*((24167*a*r^5*r_m - 6929*a*r^4*r_m^2 - 47268*a*r^3*r_m^3 + 27720*a*r^2*r_m^4 + 198*(169*a*r^2*r_m^2 - 468*a*r*r_m^3 + 296*a*r_m^4)*r_p^2 + (28561*a*r^5 - 59319*a*r^4*r_m - 38194*a*r^3*r_m^2 + 158184*a*r^2*r_m^3 - 86328*a*r*r_m^4)*r_p)*(r - r_m)^(9/13)*sin(th)^2 - 169*(143*a*r^5*r_m - 140*a*r^4*r_m^2 + (169*a*r^5 - 468*a*r^4*r_m + 296*a*r^3*r_m^2)*r_p)*r^(9/13)*sin(th)^2)/((r^6*r_m^2 - r^5*r_m^3 - (r^5*r_m^2 - r^4*r_m^3)*r_p)*(r - r_m)^(7/13)*r^(2/13))"
      ]
     },
     "metadata": {},
     "output_type": "display_data"
    },
    {
     "data": {
      "text/html": [
       "<html>\\(\\displaystyle C_{0132} =  -\\frac{{\\left(35 \\, a r r_{m} + 3 \\, {\\left(13 \\, a r - 16 \\, a r_{m}\\right)} r_{p}\\right)} {\\left(r - r_{m}\\right)}^{\\frac{2}{13}} \\cos\\left({\\theta}\\right) \\sin\\left({\\theta}\\right)}{13 \\, r^{\\frac{41}{13}}}\\)</html>"
      ],
      "text/latex": [
       "$\\displaystyle C_{0132} =  -\\frac{{\\left(35 \\, a r r_{m} + 3 \\, {\\left(13 \\, a r - 16 \\, a r_{m}\\right)} r_{p}\\right)} {\\left(r - r_{m}\\right)}^{\\frac{2}{13}} \\cos\\left({\\theta}\\right) \\sin\\left({\\theta}\\right)}{13 \\, r^{\\frac{41}{13}}}$"
      ],
      "text/plain": [
       "C_{0132} =  -1/13*(35*a*r*r_m + 3*(13*a*r - 16*a*r_m)*r_p)*(r - r_m)^(2/13)*cos(th)*sin(th)/r^(41/13)"
      ]
     },
     "metadata": {},
     "output_type": "display_data"
    },
    {
     "data": {
      "text/html": [
       "<html>\\(\\displaystyle C_{0133} =  0\\)</html>"
      ],
      "text/latex": [
       "$\\displaystyle C_{0133} =  0$"
      ],
      "text/plain": [
       "C_{0133} =  0"
      ]
     },
     "metadata": {},
     "output_type": "display_data"
    },
    {
     "data": {
      "text/html": [
       "<html>\\(\\displaystyle C_{0200} =  0\\)</html>"
      ],
      "text/latex": [
       "$\\displaystyle C_{0200} =  0$"
      ],
      "text/plain": [
       "C_{0200} =  0"
      ]
     },
     "metadata": {},
     "output_type": "display_data"
    },
    {
     "data": {
      "text/html": [
       "<html>\\(\\displaystyle C_{0201} =  0\\)</html>"
      ],
      "text/latex": [
       "$\\displaystyle C_{0201} =  0$"
      ],
      "text/plain": [
       "C_{0201} =  0"
      ]
     },
     "metadata": {},
     "output_type": "display_data"
    },
    {
     "data": {
      "text/html": [
       "<html>\\(\\displaystyle C_{0202} =  \\frac{{\\left(143 \\, r^{3} r_{m} - 140 \\, r^{2} r_{m}^{2} - {\\left(169 \\, r^{2} - 468 \\, r r_{m} + 296 \\, r_{m}^{2}\\right)} r_{p}^{2} + {\\left(169 \\, r^{3} - 611 \\, r^{2} r_{m} + 436 \\, r r_{m}^{2}\\right)} r_{p}\\right)} {\\left(r - r_{m}\\right)}^{\\frac{2}{13}}}{338 \\, r^{\\frac{54}{13}}}\\)</html>"
      ],
      "text/latex": [
       "$\\displaystyle C_{0202} =  \\frac{{\\left(143 \\, r^{3} r_{m} - 140 \\, r^{2} r_{m}^{2} - {\\left(169 \\, r^{2} - 468 \\, r r_{m} + 296 \\, r_{m}^{2}\\right)} r_{p}^{2} + {\\left(169 \\, r^{3} - 611 \\, r^{2} r_{m} + 436 \\, r r_{m}^{2}\\right)} r_{p}\\right)} {\\left(r - r_{m}\\right)}^{\\frac{2}{13}}}{338 \\, r^{\\frac{54}{13}}}$"
      ],
      "text/plain": [
       "C_{0202} =  1/338*(143*r^3*r_m - 140*r^2*r_m^2 - (169*r^2 - 468*r*r_m + 296*r_m^2)*r_p^2 + (169*r^3 - 611*r^2*r_m + 436*r*r_m^2)*r_p)*(r - r_m)^(2/13)/r^(54/13)"
      ]
     },
     "metadata": {},
     "output_type": "display_data"
    },
    {
     "data": {
      "text/html": [
       "<html>\\(\\displaystyle C_{0203} =  0\\)</html>"
      ],
      "text/latex": [
       "$\\displaystyle C_{0203} =  0$"
      ],
      "text/plain": [
       "C_{0203} =  0"
      ]
     },
     "metadata": {},
     "output_type": "display_data"
    },
    {
     "data": {
      "text/html": [
       "<html>\\(\\displaystyle C_{0210} =  0\\)</html>"
      ],
      "text/latex": [
       "$\\displaystyle C_{0210} =  0$"
      ],
      "text/plain": [
       "C_{0210} =  0"
      ]
     },
     "metadata": {},
     "output_type": "display_data"
    },
    {
     "data": {
      "text/html": [
       "<html>\\(\\displaystyle C_{0211} =  0\\)</html>"
      ],
      "text/latex": [
       "$\\displaystyle C_{0211} =  0$"
      ],
      "text/plain": [
       "C_{0211} =  0"
      ]
     },
     "metadata": {},
     "output_type": "display_data"
    },
    {
     "data": {
      "text/html": [
       "<html>\\(\\displaystyle C_{0212} =  0\\)</html>"
      ],
      "text/latex": [
       "$\\displaystyle C_{0212} =  0$"
      ],
      "text/plain": [
       "C_{0212} =  0"
      ]
     },
     "metadata": {},
     "output_type": "display_data"
    },
    {
     "data": {
      "text/html": [
       "<html>\\(\\displaystyle C_{0213} =  \\frac{{\\left(35 \\, r r_{m} + 39 \\, r r_{p} - 48 \\, r_{m} r_{p}\\right)} a \\left(\\frac{r - r_{m}}{r}\\right)^{\\frac{2}{13}} \\cos\\left({\\theta}\\right) \\sin\\left({\\theta}\\right)}{26 \\, r^{3}}\\)</html>"
      ],
      "text/latex": [
       "$\\displaystyle C_{0213} =  \\frac{{\\left(35 \\, r r_{m} + 39 \\, r r_{p} - 48 \\, r_{m} r_{p}\\right)} a \\left(\\frac{r - r_{m}}{r}\\right)^{\\frac{2}{13}} \\cos\\left({\\theta}\\right) \\sin\\left({\\theta}\\right)}{26 \\, r^{3}}$"
      ],
      "text/plain": [
       "C_{0213} =  1/26*(35*r*r_m + 39*r*r_p - 48*r_m*r_p)*a*((r - r_m)/r)^(2/13)*cos(th)*sin(th)/r^3"
      ]
     },
     "metadata": {},
     "output_type": "display_data"
    },
    {
     "data": {
      "text/html": [
       "<html>\\(\\displaystyle C_{0220} =  -\\frac{{\\left(143 \\, r^{3} r_{m} - 140 \\, r^{2} r_{m}^{2} - {\\left(169 \\, r^{2} - 468 \\, r r_{m} + 296 \\, r_{m}^{2}\\right)} r_{p}^{2} + {\\left(169 \\, r^{3} - 611 \\, r^{2} r_{m} + 436 \\, r r_{m}^{2}\\right)} r_{p}\\right)} {\\left(r - r_{m}\\right)}^{\\frac{2}{13}}}{338 \\, r^{\\frac{54}{13}}}\\)</html>"
      ],
      "text/latex": [
       "$\\displaystyle C_{0220} =  -\\frac{{\\left(143 \\, r^{3} r_{m} - 140 \\, r^{2} r_{m}^{2} - {\\left(169 \\, r^{2} - 468 \\, r r_{m} + 296 \\, r_{m}^{2}\\right)} r_{p}^{2} + {\\left(169 \\, r^{3} - 611 \\, r^{2} r_{m} + 436 \\, r r_{m}^{2}\\right)} r_{p}\\right)} {\\left(r - r_{m}\\right)}^{\\frac{2}{13}}}{338 \\, r^{\\frac{54}{13}}}$"
      ],
      "text/plain": [
       "C_{0220} =  -1/338*(143*r^3*r_m - 140*r^2*r_m^2 - (169*r^2 - 468*r*r_m + 296*r_m^2)*r_p^2 + (169*r^3 - 611*r^2*r_m + 436*r*r_m^2)*r_p)*(r - r_m)^(2/13)/r^(54/13)"
      ]
     },
     "metadata": {},
     "output_type": "display_data"
    },
    {
     "data": {
      "text/html": [
       "<html>\\(\\displaystyle C_{0221} =  0\\)</html>"
      ],
      "text/latex": [
       "$\\displaystyle C_{0221} =  0$"
      ],
      "text/plain": [
       "C_{0221} =  0"
      ]
     },
     "metadata": {},
     "output_type": "display_data"
    },
    {
     "data": {
      "text/html": [
       "<html>\\(\\displaystyle C_{0222} =  0\\)</html>"
      ],
      "text/latex": [
       "$\\displaystyle C_{0222} =  0$"
      ],
      "text/plain": [
       "C_{0222} =  0"
      ]
     },
     "metadata": {},
     "output_type": "display_data"
    },
    {
     "data": {
      "text/html": [
       "<html>\\(\\displaystyle C_{0223} =  -\\frac{{\\left(48334 \\, a r^{5} r_{m} - 13858 \\, a r^{4} r_{m}^{2} - 49491 \\, a r^{3} r_{m}^{3} + 13860 \\, a r^{2} r_{m}^{4} + 99 \\, {\\left(169 \\, a r^{2} r_{m}^{2} - 468 \\, a r r_{m}^{3} + 296 \\, a r_{m}^{4}\\right)} r_{p}^{2} + {\\left(57122 \\, a r^{5} - 118638 \\, a r^{4} r_{m} - 26195 \\, a r^{3} r_{m}^{2} + 132327 \\, a r^{2} r_{m}^{3} - 43164 \\, a r r_{m}^{4}\\right)} r_{p}\\right)} {\\left(r - r_{m}\\right)}^{\\frac{9}{13}} \\sin\\left({\\theta}\\right)^{2} - 338 \\, {\\left(143 \\, a r^{5} r_{m} - 140 \\, a r^{4} r_{m}^{2} + {\\left(169 \\, a r^{5} - 468 \\, a r^{4} r_{m} + 296 \\, a r^{3} r_{m}^{2}\\right)} r_{p}\\right)} r^{\\frac{9}{13}} \\sin\\left({\\theta}\\right)^{2}}{33462 \\, {\\left(r - r_{m}\\right)}^{\\frac{7}{13}} r^{\\frac{54}{13}} r_{m}^{2}}\\)</html>"
      ],
      "text/latex": [
       "$\\displaystyle C_{0223} =  -\\frac{{\\left(48334 \\, a r^{5} r_{m} - 13858 \\, a r^{4} r_{m}^{2} - 49491 \\, a r^{3} r_{m}^{3} + 13860 \\, a r^{2} r_{m}^{4} + 99 \\, {\\left(169 \\, a r^{2} r_{m}^{2} - 468 \\, a r r_{m}^{3} + 296 \\, a r_{m}^{4}\\right)} r_{p}^{2} + {\\left(57122 \\, a r^{5} - 118638 \\, a r^{4} r_{m} - 26195 \\, a r^{3} r_{m}^{2} + 132327 \\, a r^{2} r_{m}^{3} - 43164 \\, a r r_{m}^{4}\\right)} r_{p}\\right)} {\\left(r - r_{m}\\right)}^{\\frac{9}{13}} \\sin\\left({\\theta}\\right)^{2} - 338 \\, {\\left(143 \\, a r^{5} r_{m} - 140 \\, a r^{4} r_{m}^{2} + {\\left(169 \\, a r^{5} - 468 \\, a r^{4} r_{m} + 296 \\, a r^{3} r_{m}^{2}\\right)} r_{p}\\right)} r^{\\frac{9}{13}} \\sin\\left({\\theta}\\right)^{2}}{33462 \\, {\\left(r - r_{m}\\right)}^{\\frac{7}{13}} r^{\\frac{54}{13}} r_{m}^{2}}$"
      ],
      "text/plain": [
       "C_{0223} =  -1/33462*((48334*a*r^5*r_m - 13858*a*r^4*r_m^2 - 49491*a*r^3*r_m^3 + 13860*a*r^2*r_m^4 + 99*(169*a*r^2*r_m^2 - 468*a*r*r_m^3 + 296*a*r_m^4)*r_p^2 + (57122*a*r^5 - 118638*a*r^4*r_m - 26195*a*r^3*r_m^2 + 132327*a*r^2*r_m^3 - 43164*a*r*r_m^4)*r_p)*(r - r_m)^(9/13)*sin(th)^2 - 338*(143*a*r^5*r_m - 140*a*r^4*r_m^2 + (169*a*r^5 - 468*a*r^4*r_m + 296*a*r^3*r_m^2)*r_p)*r^(9/13)*sin(th)^2)/((r - r_m)^(7/13)*r^(54/13)*r_m^2)"
      ]
     },
     "metadata": {},
     "output_type": "display_data"
    },
    {
     "data": {
      "text/html": [
       "<html>\\(\\displaystyle C_{0230} =  0\\)</html>"
      ],
      "text/latex": [
       "$\\displaystyle C_{0230} =  0$"
      ],
      "text/plain": [
       "C_{0230} =  0"
      ]
     },
     "metadata": {},
     "output_type": "display_data"
    },
    {
     "data": {
      "text/html": [
       "<html>\\(\\displaystyle C_{0231} =  -\\frac{{\\left(35 \\, a r r_{m} + 3 \\, {\\left(13 \\, a r - 16 \\, a r_{m}\\right)} r_{p}\\right)} {\\left(r - r_{m}\\right)}^{\\frac{2}{13}} \\cos\\left({\\theta}\\right) \\sin\\left({\\theta}\\right)}{26 \\, r^{\\frac{41}{13}}}\\)</html>"
      ],
      "text/latex": [
       "$\\displaystyle C_{0231} =  -\\frac{{\\left(35 \\, a r r_{m} + 3 \\, {\\left(13 \\, a r - 16 \\, a r_{m}\\right)} r_{p}\\right)} {\\left(r - r_{m}\\right)}^{\\frac{2}{13}} \\cos\\left({\\theta}\\right) \\sin\\left({\\theta}\\right)}{26 \\, r^{\\frac{41}{13}}}$"
      ],
      "text/plain": [
       "C_{0231} =  -1/26*(35*a*r*r_m + 3*(13*a*r - 16*a*r_m)*r_p)*(r - r_m)^(2/13)*cos(th)*sin(th)/r^(41/13)"
      ]
     },
     "metadata": {},
     "output_type": "display_data"
    },
    {
     "data": {
      "text/html": [
       "<html>\\(\\displaystyle C_{0232} =  \\frac{{\\left(48334 \\, a r^{5} r_{m} - 13858 \\, a r^{4} r_{m}^{2} - 49491 \\, a r^{3} r_{m}^{3} + 13860 \\, a r^{2} r_{m}^{4} + 99 \\, {\\left(169 \\, a r^{2} r_{m}^{2} - 468 \\, a r r_{m}^{3} + 296 \\, a r_{m}^{4}\\right)} r_{p}^{2} + {\\left(57122 \\, a r^{5} - 118638 \\, a r^{4} r_{m} - 26195 \\, a r^{3} r_{m}^{2} + 132327 \\, a r^{2} r_{m}^{3} - 43164 \\, a r r_{m}^{4}\\right)} r_{p}\\right)} {\\left(r - r_{m}\\right)}^{\\frac{9}{13}} \\sin\\left({\\theta}\\right)^{2} - 338 \\, {\\left(143 \\, a r^{5} r_{m} - 140 \\, a r^{4} r_{m}^{2} + {\\left(169 \\, a r^{5} - 468 \\, a r^{4} r_{m} + 296 \\, a r^{3} r_{m}^{2}\\right)} r_{p}\\right)} r^{\\frac{9}{13}} \\sin\\left({\\theta}\\right)^{2}}{33462 \\, {\\left(r - r_{m}\\right)}^{\\frac{7}{13}} r^{\\frac{54}{13}} r_{m}^{2}}\\)</html>"
      ],
      "text/latex": [
       "$\\displaystyle C_{0232} =  \\frac{{\\left(48334 \\, a r^{5} r_{m} - 13858 \\, a r^{4} r_{m}^{2} - 49491 \\, a r^{3} r_{m}^{3} + 13860 \\, a r^{2} r_{m}^{4} + 99 \\, {\\left(169 \\, a r^{2} r_{m}^{2} - 468 \\, a r r_{m}^{3} + 296 \\, a r_{m}^{4}\\right)} r_{p}^{2} + {\\left(57122 \\, a r^{5} - 118638 \\, a r^{4} r_{m} - 26195 \\, a r^{3} r_{m}^{2} + 132327 \\, a r^{2} r_{m}^{3} - 43164 \\, a r r_{m}^{4}\\right)} r_{p}\\right)} {\\left(r - r_{m}\\right)}^{\\frac{9}{13}} \\sin\\left({\\theta}\\right)^{2} - 338 \\, {\\left(143 \\, a r^{5} r_{m} - 140 \\, a r^{4} r_{m}^{2} + {\\left(169 \\, a r^{5} - 468 \\, a r^{4} r_{m} + 296 \\, a r^{3} r_{m}^{2}\\right)} r_{p}\\right)} r^{\\frac{9}{13}} \\sin\\left({\\theta}\\right)^{2}}{33462 \\, {\\left(r - r_{m}\\right)}^{\\frac{7}{13}} r^{\\frac{54}{13}} r_{m}^{2}}$"
      ],
      "text/plain": [
       "C_{0232} =  1/33462*((48334*a*r^5*r_m - 13858*a*r^4*r_m^2 - 49491*a*r^3*r_m^3 + 13860*a*r^2*r_m^4 + 99*(169*a*r^2*r_m^2 - 468*a*r*r_m^3 + 296*a*r_m^4)*r_p^2 + (57122*a*r^5 - 118638*a*r^4*r_m - 26195*a*r^3*r_m^2 + 132327*a*r^2*r_m^3 - 43164*a*r*r_m^4)*r_p)*(r - r_m)^(9/13)*sin(th)^2 - 338*(143*a*r^5*r_m - 140*a*r^4*r_m^2 + (169*a*r^5 - 468*a*r^4*r_m + 296*a*r^3*r_m^2)*r_p)*r^(9/13)*sin(th)^2)/((r - r_m)^(7/13)*r^(54/13)*r_m^2)"
      ]
     },
     "metadata": {},
     "output_type": "display_data"
    },
    {
     "data": {
      "text/html": [
       "<html>\\(\\displaystyle C_{0233} =  0\\)</html>"
      ],
      "text/latex": [
       "$\\displaystyle C_{0233} =  0$"
      ],
      "text/plain": [
       "C_{0233} =  0"
      ]
     },
     "metadata": {},
     "output_type": "display_data"
    },
    {
     "data": {
      "text/html": [
       "<html>\\(\\displaystyle C_{0300} =  0\\)</html>"
      ],
      "text/latex": [
       "$\\displaystyle C_{0300} =  0$"
      ],
      "text/plain": [
       "C_{0300} =  0"
      ]
     },
     "metadata": {},
     "output_type": "display_data"
    },
    {
     "data": {
      "text/html": [
       "<html>\\(\\displaystyle C_{0301} =  0\\)</html>"
      ],
      "text/latex": [
       "$\\displaystyle C_{0301} =  0$"
      ],
      "text/plain": [
       "C_{0301} =  0"
      ]
     },
     "metadata": {},
     "output_type": "display_data"
    },
    {
     "data": {
      "text/html": [
       "<html>\\(\\displaystyle C_{0302} =  0\\)</html>"
      ],
      "text/latex": [
       "$\\displaystyle C_{0302} =  0$"
      ],
      "text/plain": [
       "C_{0302} =  0"
      ]
     },
     "metadata": {},
     "output_type": "display_data"
    },
    {
     "data": {
      "text/html": [
       "<html>\\(\\displaystyle C_{0303} =  \\frac{{\\left(143 \\, r^{3} r_{m} - 140 \\, r^{2} r_{m}^{2} - {\\left(169 \\, r^{2} - 468 \\, r r_{m} + 296 \\, r_{m}^{2}\\right)} r_{p}^{2} + {\\left(169 \\, r^{3} - 611 \\, r^{2} r_{m} + 436 \\, r r_{m}^{2}\\right)} r_{p}\\right)} {\\left(r - r_{m}\\right)}^{\\frac{2}{13}} \\sin\\left({\\theta}\\right)^{2}}{338 \\, r^{\\frac{54}{13}}}\\)</html>"
      ],
      "text/latex": [
       "$\\displaystyle C_{0303} =  \\frac{{\\left(143 \\, r^{3} r_{m} - 140 \\, r^{2} r_{m}^{2} - {\\left(169 \\, r^{2} - 468 \\, r r_{m} + 296 \\, r_{m}^{2}\\right)} r_{p}^{2} + {\\left(169 \\, r^{3} - 611 \\, r^{2} r_{m} + 436 \\, r r_{m}^{2}\\right)} r_{p}\\right)} {\\left(r - r_{m}\\right)}^{\\frac{2}{13}} \\sin\\left({\\theta}\\right)^{2}}{338 \\, r^{\\frac{54}{13}}}$"
      ],
      "text/plain": [
       "C_{0303} =  1/338*(143*r^3*r_m - 140*r^2*r_m^2 - (169*r^2 - 468*r*r_m + 296*r_m^2)*r_p^2 + (169*r^3 - 611*r^2*r_m + 436*r*r_m^2)*r_p)*(r - r_m)^(2/13)*sin(th)^2/r^(54/13)"
      ]
     },
     "metadata": {},
     "output_type": "display_data"
    },
    {
     "data": {
      "text/html": [
       "<html>\\(\\displaystyle C_{0310} =  0\\)</html>"
      ],
      "text/latex": [
       "$\\displaystyle C_{0310} =  0$"
      ],
      "text/plain": [
       "C_{0310} =  0"
      ]
     },
     "metadata": {},
     "output_type": "display_data"
    },
    {
     "data": {
      "text/html": [
       "<html>\\(\\displaystyle C_{0311} =  0\\)</html>"
      ],
      "text/latex": [
       "$\\displaystyle C_{0311} =  0$"
      ],
      "text/plain": [
       "C_{0311} =  0"
      ]
     },
     "metadata": {},
     "output_type": "display_data"
    },
    {
     "data": {
      "text/html": [
       "<html>\\(\\displaystyle C_{0312} =  -\\frac{{\\left(35 \\, r r_{m} + 39 \\, r r_{p} - 48 \\, r_{m} r_{p}\\right)} a \\left(\\frac{r - r_{m}}{r}\\right)^{\\frac{15}{13}} \\cos\\left({\\theta}\\right) \\sin\\left({\\theta}\\right)}{26 \\, {\\left(r - r_{m}\\right)} r^{2}}\\)</html>"
      ],
      "text/latex": [
       "$\\displaystyle C_{0312} =  -\\frac{{\\left(35 \\, r r_{m} + 39 \\, r r_{p} - 48 \\, r_{m} r_{p}\\right)} a \\left(\\frac{r - r_{m}}{r}\\right)^{\\frac{15}{13}} \\cos\\left({\\theta}\\right) \\sin\\left({\\theta}\\right)}{26 \\, {\\left(r - r_{m}\\right)} r^{2}}$"
      ],
      "text/plain": [
       "C_{0312} =  -1/26*(35*r*r_m + 39*r*r_p - 48*r_m*r_p)*a*((r - r_m)/r)^(15/13)*cos(th)*sin(th)/((r - r_m)*r^2)"
      ]
     },
     "metadata": {},
     "output_type": "display_data"
    },
    {
     "data": {
      "text/html": [
       "<html>\\(\\displaystyle C_{0313} =  0\\)</html>"
      ],
      "text/latex": [
       "$\\displaystyle C_{0313} =  0$"
      ],
      "text/plain": [
       "C_{0313} =  0"
      ]
     },
     "metadata": {},
     "output_type": "display_data"
    },
    {
     "data": {
      "text/html": [
       "<html>\\(\\displaystyle C_{0320} =  0\\)</html>"
      ],
      "text/latex": [
       "$\\displaystyle C_{0320} =  0$"
      ],
      "text/plain": [
       "C_{0320} =  0"
      ]
     },
     "metadata": {},
     "output_type": "display_data"
    },
    {
     "data": {
      "text/html": [
       "<html>\\(\\displaystyle C_{0321} =  \\frac{{\\left(35 \\, a r r_{m} + 3 \\, {\\left(13 \\, a r - 16 \\, a r_{m}\\right)} r_{p}\\right)} {\\left(r - r_{m}\\right)}^{\\frac{2}{13}} \\cos\\left({\\theta}\\right) \\sin\\left({\\theta}\\right)}{26 \\, r^{\\frac{41}{13}}}\\)</html>"
      ],
      "text/latex": [
       "$\\displaystyle C_{0321} =  \\frac{{\\left(35 \\, a r r_{m} + 3 \\, {\\left(13 \\, a r - 16 \\, a r_{m}\\right)} r_{p}\\right)} {\\left(r - r_{m}\\right)}^{\\frac{2}{13}} \\cos\\left({\\theta}\\right) \\sin\\left({\\theta}\\right)}{26 \\, r^{\\frac{41}{13}}}$"
      ],
      "text/plain": [
       "C_{0321} =  1/26*(35*a*r*r_m + 3*(13*a*r - 16*a*r_m)*r_p)*(r - r_m)^(2/13)*cos(th)*sin(th)/r^(41/13)"
      ]
     },
     "metadata": {},
     "output_type": "display_data"
    },
    {
     "data": {
      "text/html": [
       "<html>\\(\\displaystyle C_{0322} =  0\\)</html>"
      ],
      "text/latex": [
       "$\\displaystyle C_{0322} =  0$"
      ],
      "text/plain": [
       "C_{0322} =  0"
      ]
     },
     "metadata": {},
     "output_type": "display_data"
    },
    {
     "data": {
      "text/html": [
       "<html>\\(\\displaystyle C_{0323} =  0\\)</html>"
      ],
      "text/latex": [
       "$\\displaystyle C_{0323} =  0$"
      ],
      "text/plain": [
       "C_{0323} =  0"
      ]
     },
     "metadata": {},
     "output_type": "display_data"
    },
    {
     "data": {
      "text/html": [
       "<html>\\(\\displaystyle C_{0330} =  -\\frac{{\\left(143 \\, r^{3} r_{m} - 140 \\, r^{2} r_{m}^{2} - {\\left(169 \\, r^{2} - 468 \\, r r_{m} + 296 \\, r_{m}^{2}\\right)} r_{p}^{2} + {\\left(169 \\, r^{3} - 611 \\, r^{2} r_{m} + 436 \\, r r_{m}^{2}\\right)} r_{p}\\right)} {\\left(r - r_{m}\\right)}^{\\frac{2}{13}} \\sin\\left({\\theta}\\right)^{2}}{338 \\, r^{\\frac{54}{13}}}\\)</html>"
      ],
      "text/latex": [
       "$\\displaystyle C_{0330} =  -\\frac{{\\left(143 \\, r^{3} r_{m} - 140 \\, r^{2} r_{m}^{2} - {\\left(169 \\, r^{2} - 468 \\, r r_{m} + 296 \\, r_{m}^{2}\\right)} r_{p}^{2} + {\\left(169 \\, r^{3} - 611 \\, r^{2} r_{m} + 436 \\, r r_{m}^{2}\\right)} r_{p}\\right)} {\\left(r - r_{m}\\right)}^{\\frac{2}{13}} \\sin\\left({\\theta}\\right)^{2}}{338 \\, r^{\\frac{54}{13}}}$"
      ],
      "text/plain": [
       "C_{0330} =  -1/338*(143*r^3*r_m - 140*r^2*r_m^2 - (169*r^2 - 468*r*r_m + 296*r_m^2)*r_p^2 + (169*r^3 - 611*r^2*r_m + 436*r*r_m^2)*r_p)*(r - r_m)^(2/13)*sin(th)^2/r^(54/13)"
      ]
     },
     "metadata": {},
     "output_type": "display_data"
    },
    {
     "data": {
      "text/html": [
       "<html>\\(\\displaystyle C_{0331} =  0\\)</html>"
      ],
      "text/latex": [
       "$\\displaystyle C_{0331} =  0$"
      ],
      "text/plain": [
       "C_{0331} =  0"
      ]
     },
     "metadata": {},
     "output_type": "display_data"
    },
    {
     "data": {
      "text/html": [
       "<html>\\(\\displaystyle C_{0332} =  0\\)</html>"
      ],
      "text/latex": [
       "$\\displaystyle C_{0332} =  0$"
      ],
      "text/plain": [
       "C_{0332} =  0"
      ]
     },
     "metadata": {},
     "output_type": "display_data"
    },
    {
     "data": {
      "text/html": [
       "<html>\\(\\displaystyle C_{0333} =  0\\)</html>"
      ],
      "text/latex": [
       "$\\displaystyle C_{0333} =  0$"
      ],
      "text/plain": [
       "C_{0333} =  0"
      ]
     },
     "metadata": {},
     "output_type": "display_data"
    },
    {
     "data": {
      "text/html": [
       "<html>\\(\\displaystyle C_{1000} =  0\\)</html>"
      ],
      "text/latex": [
       "$\\displaystyle C_{1000} =  0$"
      ],
      "text/plain": [
       "C_{1000} =  0"
      ]
     },
     "metadata": {},
     "output_type": "display_data"
    },
    {
     "data": {
      "text/html": [
       "<html>\\(\\displaystyle C_{1001} =  \\frac{{\\left(143 \\, r^{2} r_{m} - 140 \\, r r_{m}^{2} + {\\left(169 \\, r^{2} - 468 \\, r r_{m} + 296 \\, r_{m}^{2}\\right)} r_{p}\\right)} {\\left(r - r_{m}\\right)}^{\\frac{2}{13}}}{169 \\, {\\left(r^{5} - r^{4} r_{m}\\right)} r^{\\frac{2}{13}}}\\)</html>"
      ],
      "text/latex": [
       "$\\displaystyle C_{1001} =  \\frac{{\\left(143 \\, r^{2} r_{m} - 140 \\, r r_{m}^{2} + {\\left(169 \\, r^{2} - 468 \\, r r_{m} + 296 \\, r_{m}^{2}\\right)} r_{p}\\right)} {\\left(r - r_{m}\\right)}^{\\frac{2}{13}}}{169 \\, {\\left(r^{5} - r^{4} r_{m}\\right)} r^{\\frac{2}{13}}}$"
      ],
      "text/plain": [
       "C_{1001} =  1/169*(143*r^2*r_m - 140*r*r_m^2 + (169*r^2 - 468*r*r_m + 296*r_m^2)*r_p)*(r - r_m)^(2/13)/((r^5 - r^4*r_m)*r^(2/13))"
      ]
     },
     "metadata": {},
     "output_type": "display_data"
    },
    {
     "data": {
      "text/html": [
       "<html>\\(\\displaystyle C_{1002} =  0\\)</html>"
      ],
      "text/latex": [
       "$\\displaystyle C_{1002} =  0$"
      ],
      "text/plain": [
       "C_{1002} =  0"
      ]
     },
     "metadata": {},
     "output_type": "display_data"
    },
    {
     "data": {
      "text/html": [
       "<html>\\(\\displaystyle C_{1003} =  0\\)</html>"
      ],
      "text/latex": [
       "$\\displaystyle C_{1003} =  0$"
      ],
      "text/plain": [
       "C_{1003} =  0"
      ]
     },
     "metadata": {},
     "output_type": "display_data"
    },
    {
     "data": {
      "text/html": [
       "<html>\\(\\displaystyle C_{1010} =  -\\frac{{\\left(143 \\, r^{2} r_{m} - 140 \\, r r_{m}^{2} + {\\left(169 \\, r^{2} - 468 \\, r r_{m} + 296 \\, r_{m}^{2}\\right)} r_{p}\\right)} {\\left(r - r_{m}\\right)}^{\\frac{2}{13}}}{169 \\, {\\left(r^{5} - r^{4} r_{m}\\right)} r^{\\frac{2}{13}}}\\)</html>"
      ],
      "text/latex": [
       "$\\displaystyle C_{1010} =  -\\frac{{\\left(143 \\, r^{2} r_{m} - 140 \\, r r_{m}^{2} + {\\left(169 \\, r^{2} - 468 \\, r r_{m} + 296 \\, r_{m}^{2}\\right)} r_{p}\\right)} {\\left(r - r_{m}\\right)}^{\\frac{2}{13}}}{169 \\, {\\left(r^{5} - r^{4} r_{m}\\right)} r^{\\frac{2}{13}}}$"
      ],
      "text/plain": [
       "C_{1010} =  -1/169*(143*r^2*r_m - 140*r*r_m^2 + (169*r^2 - 468*r*r_m + 296*r_m^2)*r_p)*(r - r_m)^(2/13)/((r^5 - r^4*r_m)*r^(2/13))"
      ]
     },
     "metadata": {},
     "output_type": "display_data"
    },
    {
     "data": {
      "text/html": [
       "<html>\\(\\displaystyle C_{1011} =  0\\)</html>"
      ],
      "text/latex": [
       "$\\displaystyle C_{1011} =  0$"
      ],
      "text/plain": [
       "C_{1011} =  0"
      ]
     },
     "metadata": {},
     "output_type": "display_data"
    },
    {
     "data": {
      "text/html": [
       "<html>\\(\\displaystyle C_{1012} =  0\\)</html>"
      ],
      "text/latex": [
       "$\\displaystyle C_{1012} =  0$"
      ],
      "text/plain": [
       "C_{1012} =  0"
      ]
     },
     "metadata": {},
     "output_type": "display_data"
    },
    {
     "data": {
      "text/html": [
       "<html>\\(\\displaystyle C_{1013} =  -\\frac{{\\left(24167 \\, a r^{5} r_{m} - 6929 \\, a r^{4} r_{m}^{2} - 47268 \\, a r^{3} r_{m}^{3} + 27720 \\, a r^{2} r_{m}^{4} + 198 \\, {\\left(169 \\, a r^{2} r_{m}^{2} - 468 \\, a r r_{m}^{3} + 296 \\, a r_{m}^{4}\\right)} r_{p}^{2} + {\\left(28561 \\, a r^{5} - 59319 \\, a r^{4} r_{m} - 38194 \\, a r^{3} r_{m}^{2} + 158184 \\, a r^{2} r_{m}^{3} - 86328 \\, a r r_{m}^{4}\\right)} r_{p}\\right)} {\\left(r - r_{m}\\right)}^{\\frac{9}{13}} \\sin\\left({\\theta}\\right)^{2} - 169 \\, {\\left(143 \\, a r^{5} r_{m} - 140 \\, a r^{4} r_{m}^{2} + {\\left(169 \\, a r^{5} - 468 \\, a r^{4} r_{m} + 296 \\, a r^{3} r_{m}^{2}\\right)} r_{p}\\right)} r^{\\frac{9}{13}} \\sin\\left({\\theta}\\right)^{2}}{33462 \\, {\\left(r^{6} r_{m}^{2} - r^{5} r_{m}^{3} - {\\left(r^{5} r_{m}^{2} - r^{4} r_{m}^{3}\\right)} r_{p}\\right)} {\\left(r - r_{m}\\right)}^{\\frac{7}{13}} r^{\\frac{2}{13}}}\\)</html>"
      ],
      "text/latex": [
       "$\\displaystyle C_{1013} =  -\\frac{{\\left(24167 \\, a r^{5} r_{m} - 6929 \\, a r^{4} r_{m}^{2} - 47268 \\, a r^{3} r_{m}^{3} + 27720 \\, a r^{2} r_{m}^{4} + 198 \\, {\\left(169 \\, a r^{2} r_{m}^{2} - 468 \\, a r r_{m}^{3} + 296 \\, a r_{m}^{4}\\right)} r_{p}^{2} + {\\left(28561 \\, a r^{5} - 59319 \\, a r^{4} r_{m} - 38194 \\, a r^{3} r_{m}^{2} + 158184 \\, a r^{2} r_{m}^{3} - 86328 \\, a r r_{m}^{4}\\right)} r_{p}\\right)} {\\left(r - r_{m}\\right)}^{\\frac{9}{13}} \\sin\\left({\\theta}\\right)^{2} - 169 \\, {\\left(143 \\, a r^{5} r_{m} - 140 \\, a r^{4} r_{m}^{2} + {\\left(169 \\, a r^{5} - 468 \\, a r^{4} r_{m} + 296 \\, a r^{3} r_{m}^{2}\\right)} r_{p}\\right)} r^{\\frac{9}{13}} \\sin\\left({\\theta}\\right)^{2}}{33462 \\, {\\left(r^{6} r_{m}^{2} - r^{5} r_{m}^{3} - {\\left(r^{5} r_{m}^{2} - r^{4} r_{m}^{3}\\right)} r_{p}\\right)} {\\left(r - r_{m}\\right)}^{\\frac{7}{13}} r^{\\frac{2}{13}}}$"
      ],
      "text/plain": [
       "C_{1013} =  -1/33462*((24167*a*r^5*r_m - 6929*a*r^4*r_m^2 - 47268*a*r^3*r_m^3 + 27720*a*r^2*r_m^4 + 198*(169*a*r^2*r_m^2 - 468*a*r*r_m^3 + 296*a*r_m^4)*r_p^2 + (28561*a*r^5 - 59319*a*r^4*r_m - 38194*a*r^3*r_m^2 + 158184*a*r^2*r_m^3 - 86328*a*r*r_m^4)*r_p)*(r - r_m)^(9/13)*sin(th)^2 - 169*(143*a*r^5*r_m - 140*a*r^4*r_m^2 + (169*a*r^5 - 468*a*r^4*r_m + 296*a*r^3*r_m^2)*r_p)*r^(9/13)*sin(th)^2)/((r^6*r_m^2 - r^5*r_m^3 - (r^5*r_m^2 - r^4*r_m^3)*r_p)*(r - r_m)^(7/13)*r^(2/13))"
      ]
     },
     "metadata": {},
     "output_type": "display_data"
    },
    {
     "data": {
      "text/html": [
       "<html>\\(\\displaystyle C_{1020} =  0\\)</html>"
      ],
      "text/latex": [
       "$\\displaystyle C_{1020} =  0$"
      ],
      "text/plain": [
       "C_{1020} =  0"
      ]
     },
     "metadata": {},
     "output_type": "display_data"
    },
    {
     "data": {
      "text/html": [
       "<html>\\(\\displaystyle C_{1021} =  0\\)</html>"
      ],
      "text/latex": [
       "$\\displaystyle C_{1021} =  0$"
      ],
      "text/plain": [
       "C_{1021} =  0"
      ]
     },
     "metadata": {},
     "output_type": "display_data"
    },
    {
     "data": {
      "text/html": [
       "<html>\\(\\displaystyle C_{1022} =  0\\)</html>"
      ],
      "text/latex": [
       "$\\displaystyle C_{1022} =  0$"
      ],
      "text/plain": [
       "C_{1022} =  0"
      ]
     },
     "metadata": {},
     "output_type": "display_data"
    },
    {
     "data": {
      "text/html": [
       "<html>\\(\\displaystyle C_{1023} =  -\\frac{{\\left(35 \\, r r_{m} + 39 \\, r r_{p} - 48 \\, r_{m} r_{p}\\right)} a \\left(\\frac{r - r_{m}}{r}\\right)^{\\frac{2}{13}} \\cos\\left({\\theta}\\right) \\sin\\left({\\theta}\\right)}{13 \\, r^{3}}\\)</html>"
      ],
      "text/latex": [
       "$\\displaystyle C_{1023} =  -\\frac{{\\left(35 \\, r r_{m} + 39 \\, r r_{p} - 48 \\, r_{m} r_{p}\\right)} a \\left(\\frac{r - r_{m}}{r}\\right)^{\\frac{2}{13}} \\cos\\left({\\theta}\\right) \\sin\\left({\\theta}\\right)}{13 \\, r^{3}}$"
      ],
      "text/plain": [
       "C_{1023} =  -1/13*(35*r*r_m + 39*r*r_p - 48*r_m*r_p)*a*((r - r_m)/r)^(2/13)*cos(th)*sin(th)/r^3"
      ]
     },
     "metadata": {},
     "output_type": "display_data"
    },
    {
     "data": {
      "text/html": [
       "<html>\\(\\displaystyle C_{1030} =  0\\)</html>"
      ],
      "text/latex": [
       "$\\displaystyle C_{1030} =  0$"
      ],
      "text/plain": [
       "C_{1030} =  0"
      ]
     },
     "metadata": {},
     "output_type": "display_data"
    },
    {
     "data": {
      "text/html": [
       "<html>\\(\\displaystyle C_{1031} =  \\frac{{\\left(24167 \\, a r^{5} r_{m} - 6929 \\, a r^{4} r_{m}^{2} - 47268 \\, a r^{3} r_{m}^{3} + 27720 \\, a r^{2} r_{m}^{4} + 198 \\, {\\left(169 \\, a r^{2} r_{m}^{2} - 468 \\, a r r_{m}^{3} + 296 \\, a r_{m}^{4}\\right)} r_{p}^{2} + {\\left(28561 \\, a r^{5} - 59319 \\, a r^{4} r_{m} - 38194 \\, a r^{3} r_{m}^{2} + 158184 \\, a r^{2} r_{m}^{3} - 86328 \\, a r r_{m}^{4}\\right)} r_{p}\\right)} {\\left(r - r_{m}\\right)}^{\\frac{9}{13}} \\sin\\left({\\theta}\\right)^{2} - 169 \\, {\\left(143 \\, a r^{5} r_{m} - 140 \\, a r^{4} r_{m}^{2} + {\\left(169 \\, a r^{5} - 468 \\, a r^{4} r_{m} + 296 \\, a r^{3} r_{m}^{2}\\right)} r_{p}\\right)} r^{\\frac{9}{13}} \\sin\\left({\\theta}\\right)^{2}}{33462 \\, {\\left(r^{6} r_{m}^{2} - r^{5} r_{m}^{3} - {\\left(r^{5} r_{m}^{2} - r^{4} r_{m}^{3}\\right)} r_{p}\\right)} {\\left(r - r_{m}\\right)}^{\\frac{7}{13}} r^{\\frac{2}{13}}}\\)</html>"
      ],
      "text/latex": [
       "$\\displaystyle C_{1031} =  \\frac{{\\left(24167 \\, a r^{5} r_{m} - 6929 \\, a r^{4} r_{m}^{2} - 47268 \\, a r^{3} r_{m}^{3} + 27720 \\, a r^{2} r_{m}^{4} + 198 \\, {\\left(169 \\, a r^{2} r_{m}^{2} - 468 \\, a r r_{m}^{3} + 296 \\, a r_{m}^{4}\\right)} r_{p}^{2} + {\\left(28561 \\, a r^{5} - 59319 \\, a r^{4} r_{m} - 38194 \\, a r^{3} r_{m}^{2} + 158184 \\, a r^{2} r_{m}^{3} - 86328 \\, a r r_{m}^{4}\\right)} r_{p}\\right)} {\\left(r - r_{m}\\right)}^{\\frac{9}{13}} \\sin\\left({\\theta}\\right)^{2} - 169 \\, {\\left(143 \\, a r^{5} r_{m} - 140 \\, a r^{4} r_{m}^{2} + {\\left(169 \\, a r^{5} - 468 \\, a r^{4} r_{m} + 296 \\, a r^{3} r_{m}^{2}\\right)} r_{p}\\right)} r^{\\frac{9}{13}} \\sin\\left({\\theta}\\right)^{2}}{33462 \\, {\\left(r^{6} r_{m}^{2} - r^{5} r_{m}^{3} - {\\left(r^{5} r_{m}^{2} - r^{4} r_{m}^{3}\\right)} r_{p}\\right)} {\\left(r - r_{m}\\right)}^{\\frac{7}{13}} r^{\\frac{2}{13}}}$"
      ],
      "text/plain": [
       "C_{1031} =  1/33462*((24167*a*r^5*r_m - 6929*a*r^4*r_m^2 - 47268*a*r^3*r_m^3 + 27720*a*r^2*r_m^4 + 198*(169*a*r^2*r_m^2 - 468*a*r*r_m^3 + 296*a*r_m^4)*r_p^2 + (28561*a*r^5 - 59319*a*r^4*r_m - 38194*a*r^3*r_m^2 + 158184*a*r^2*r_m^3 - 86328*a*r*r_m^4)*r_p)*(r - r_m)^(9/13)*sin(th)^2 - 169*(143*a*r^5*r_m - 140*a*r^4*r_m^2 + (169*a*r^5 - 468*a*r^4*r_m + 296*a*r^3*r_m^2)*r_p)*r^(9/13)*sin(th)^2)/((r^6*r_m^2 - r^5*r_m^3 - (r^5*r_m^2 - r^4*r_m^3)*r_p)*(r - r_m)^(7/13)*r^(2/13))"
      ]
     },
     "metadata": {},
     "output_type": "display_data"
    },
    {
     "data": {
      "text/html": [
       "<html>\\(\\displaystyle C_{1032} =  \\frac{{\\left(35 \\, a r r_{m} + 3 \\, {\\left(13 \\, a r - 16 \\, a r_{m}\\right)} r_{p}\\right)} {\\left(r - r_{m}\\right)}^{\\frac{2}{13}} \\cos\\left({\\theta}\\right) \\sin\\left({\\theta}\\right)}{13 \\, r^{\\frac{41}{13}}}\\)</html>"
      ],
      "text/latex": [
       "$\\displaystyle C_{1032} =  \\frac{{\\left(35 \\, a r r_{m} + 3 \\, {\\left(13 \\, a r - 16 \\, a r_{m}\\right)} r_{p}\\right)} {\\left(r - r_{m}\\right)}^{\\frac{2}{13}} \\cos\\left({\\theta}\\right) \\sin\\left({\\theta}\\right)}{13 \\, r^{\\frac{41}{13}}}$"
      ],
      "text/plain": [
       "C_{1032} =  1/13*(35*a*r*r_m + 3*(13*a*r - 16*a*r_m)*r_p)*(r - r_m)^(2/13)*cos(th)*sin(th)/r^(41/13)"
      ]
     },
     "metadata": {},
     "output_type": "display_data"
    },
    {
     "data": {
      "text/html": [
       "<html>\\(\\displaystyle C_{1033} =  0\\)</html>"
      ],
      "text/latex": [
       "$\\displaystyle C_{1033} =  0$"
      ],
      "text/plain": [
       "C_{1033} =  0"
      ]
     },
     "metadata": {},
     "output_type": "display_data"
    },
    {
     "data": {
      "text/html": [
       "<html>\\(\\displaystyle C_{1100} =  0\\)</html>"
      ],
      "text/latex": [
       "$\\displaystyle C_{1100} =  0$"
      ],
      "text/plain": [
       "C_{1100} =  0"
      ]
     },
     "metadata": {},
     "output_type": "display_data"
    },
    {
     "data": {
      "text/html": [
       "<html>\\(\\displaystyle C_{1101} =  0\\)</html>"
      ],
      "text/latex": [
       "$\\displaystyle C_{1101} =  0$"
      ],
      "text/plain": [
       "C_{1101} =  0"
      ]
     },
     "metadata": {},
     "output_type": "display_data"
    },
    {
     "data": {
      "text/html": [
       "<html>\\(\\displaystyle C_{1102} =  0\\)</html>"
      ],
      "text/latex": [
       "$\\displaystyle C_{1102} =  0$"
      ],
      "text/plain": [
       "C_{1102} =  0"
      ]
     },
     "metadata": {},
     "output_type": "display_data"
    },
    {
     "data": {
      "text/html": [
       "<html>\\(\\displaystyle C_{1103} =  0\\)</html>"
      ],
      "text/latex": [
       "$\\displaystyle C_{1103} =  0$"
      ],
      "text/plain": [
       "C_{1103} =  0"
      ]
     },
     "metadata": {},
     "output_type": "display_data"
    },
    {
     "data": {
      "text/html": [
       "<html>\\(\\displaystyle C_{1110} =  0\\)</html>"
      ],
      "text/latex": [
       "$\\displaystyle C_{1110} =  0$"
      ],
      "text/plain": [
       "C_{1110} =  0"
      ]
     },
     "metadata": {},
     "output_type": "display_data"
    },
    {
     "data": {
      "text/html": [
       "<html>\\(\\displaystyle C_{1111} =  0\\)</html>"
      ],
      "text/latex": [
       "$\\displaystyle C_{1111} =  0$"
      ],
      "text/plain": [
       "C_{1111} =  0"
      ]
     },
     "metadata": {},
     "output_type": "display_data"
    },
    {
     "data": {
      "text/html": [
       "<html>\\(\\displaystyle C_{1112} =  0\\)</html>"
      ],
      "text/latex": [
       "$\\displaystyle C_{1112} =  0$"
      ],
      "text/plain": [
       "C_{1112} =  0"
      ]
     },
     "metadata": {},
     "output_type": "display_data"
    },
    {
     "data": {
      "text/html": [
       "<html>\\(\\displaystyle C_{1113} =  0\\)</html>"
      ],
      "text/latex": [
       "$\\displaystyle C_{1113} =  0$"
      ],
      "text/plain": [
       "C_{1113} =  0"
      ]
     },
     "metadata": {},
     "output_type": "display_data"
    },
    {
     "data": {
      "text/html": [
       "<html>\\(\\displaystyle C_{1120} =  0\\)</html>"
      ],
      "text/latex": [
       "$\\displaystyle C_{1120} =  0$"
      ],
      "text/plain": [
       "C_{1120} =  0"
      ]
     },
     "metadata": {},
     "output_type": "display_data"
    },
    {
     "data": {
      "text/html": [
       "<html>\\(\\displaystyle C_{1121} =  0\\)</html>"
      ],
      "text/latex": [
       "$\\displaystyle C_{1121} =  0$"
      ],
      "text/plain": [
       "C_{1121} =  0"
      ]
     },
     "metadata": {},
     "output_type": "display_data"
    },
    {
     "data": {
      "text/html": [
       "<html>\\(\\displaystyle C_{1122} =  0\\)</html>"
      ],
      "text/latex": [
       "$\\displaystyle C_{1122} =  0$"
      ],
      "text/plain": [
       "C_{1122} =  0"
      ]
     },
     "metadata": {},
     "output_type": "display_data"
    },
    {
     "data": {
      "text/html": [
       "<html>\\(\\displaystyle C_{1123} =  0\\)</html>"
      ],
      "text/latex": [
       "$\\displaystyle C_{1123} =  0$"
      ],
      "text/plain": [
       "C_{1123} =  0"
      ]
     },
     "metadata": {},
     "output_type": "display_data"
    },
    {
     "data": {
      "text/html": [
       "<html>\\(\\displaystyle C_{1130} =  0\\)</html>"
      ],
      "text/latex": [
       "$\\displaystyle C_{1130} =  0$"
      ],
      "text/plain": [
       "C_{1130} =  0"
      ]
     },
     "metadata": {},
     "output_type": "display_data"
    },
    {
     "data": {
      "text/html": [
       "<html>\\(\\displaystyle C_{1131} =  0\\)</html>"
      ],
      "text/latex": [
       "$\\displaystyle C_{1131} =  0$"
      ],
      "text/plain": [
       "C_{1131} =  0"
      ]
     },
     "metadata": {},
     "output_type": "display_data"
    },
    {
     "data": {
      "text/html": [
       "<html>\\(\\displaystyle C_{1132} =  0\\)</html>"
      ],
      "text/latex": [
       "$\\displaystyle C_{1132} =  0$"
      ],
      "text/plain": [
       "C_{1132} =  0"
      ]
     },
     "metadata": {},
     "output_type": "display_data"
    },
    {
     "data": {
      "text/html": [
       "<html>\\(\\displaystyle C_{1133} =  0\\)</html>"
      ],
      "text/latex": [
       "$\\displaystyle C_{1133} =  0$"
      ],
      "text/plain": [
       "C_{1133} =  0"
      ]
     },
     "metadata": {},
     "output_type": "display_data"
    },
    {
     "data": {
      "text/html": [
       "<html>\\(\\displaystyle C_{1200} =  0\\)</html>"
      ],
      "text/latex": [
       "$\\displaystyle C_{1200} =  0$"
      ],
      "text/plain": [
       "C_{1200} =  0"
      ]
     },
     "metadata": {},
     "output_type": "display_data"
    },
    {
     "data": {
      "text/html": [
       "<html>\\(\\displaystyle C_{1201} =  0\\)</html>"
      ],
      "text/latex": [
       "$\\displaystyle C_{1201} =  0$"
      ],
      "text/plain": [
       "C_{1201} =  0"
      ]
     },
     "metadata": {},
     "output_type": "display_data"
    },
    {
     "data": {
      "text/html": [
       "<html>\\(\\displaystyle C_{1202} =  0\\)</html>"
      ],
      "text/latex": [
       "$\\displaystyle C_{1202} =  0$"
      ],
      "text/plain": [
       "C_{1202} =  0"
      ]
     },
     "metadata": {},
     "output_type": "display_data"
    },
    {
     "data": {
      "text/html": [
       "<html>\\(\\displaystyle C_{1203} =  -\\frac{{\\left(35 \\, r r_{m} + 39 \\, r r_{p} - 48 \\, r_{m} r_{p}\\right)} a \\left(\\frac{r - r_{m}}{r}\\right)^{\\frac{15}{13}} \\cos\\left({\\theta}\\right) \\sin\\left({\\theta}\\right)}{26 \\, {\\left(r - r_{m}\\right)} r^{2}}\\)</html>"
      ],
      "text/latex": [
       "$\\displaystyle C_{1203} =  -\\frac{{\\left(35 \\, r r_{m} + 39 \\, r r_{p} - 48 \\, r_{m} r_{p}\\right)} a \\left(\\frac{r - r_{m}}{r}\\right)^{\\frac{15}{13}} \\cos\\left({\\theta}\\right) \\sin\\left({\\theta}\\right)}{26 \\, {\\left(r - r_{m}\\right)} r^{2}}$"
      ],
      "text/plain": [
       "C_{1203} =  -1/26*(35*r*r_m + 39*r*r_p - 48*r_m*r_p)*a*((r - r_m)/r)^(15/13)*cos(th)*sin(th)/((r - r_m)*r^2)"
      ]
     },
     "metadata": {},
     "output_type": "display_data"
    },
    {
     "data": {
      "text/html": [
       "<html>\\(\\displaystyle C_{1210} =  0\\)</html>"
      ],
      "text/latex": [
       "$\\displaystyle C_{1210} =  0$"
      ],
      "text/plain": [
       "C_{1210} =  0"
      ]
     },
     "metadata": {},
     "output_type": "display_data"
    },
    {
     "data": {
      "text/html": [
       "<html>\\(\\displaystyle C_{1211} =  0\\)</html>"
      ],
      "text/latex": [
       "$\\displaystyle C_{1211} =  0$"
      ],
      "text/plain": [
       "C_{1211} =  0"
      ]
     },
     "metadata": {},
     "output_type": "display_data"
    },
    {
     "data": {
      "text/html": [
       "<html>\\(\\displaystyle C_{1212} =  -\\frac{143 \\, r^{2} r_{m} - 140 \\, r r_{m}^{2} + {\\left(169 \\, r^{2} - 468 \\, r r_{m} + 296 \\, r_{m}^{2}\\right)} r_{p}}{338 \\, {\\left(r^{2} - r r_{m} - {\\left(r - r_{m}\\right)} r_{p}\\right)} {\\left(r - r_{m}\\right)}^{\\frac{7}{13}} r^{\\frac{6}{13}}}\\)</html>"
      ],
      "text/latex": [
       "$\\displaystyle C_{1212} =  -\\frac{143 \\, r^{2} r_{m} - 140 \\, r r_{m}^{2} + {\\left(169 \\, r^{2} - 468 \\, r r_{m} + 296 \\, r_{m}^{2}\\right)} r_{p}}{338 \\, {\\left(r^{2} - r r_{m} - {\\left(r - r_{m}\\right)} r_{p}\\right)} {\\left(r - r_{m}\\right)}^{\\frac{7}{13}} r^{\\frac{6}{13}}}$"
      ],
      "text/plain": [
       "C_{1212} =  -1/338*(143*r^2*r_m - 140*r*r_m^2 + (169*r^2 - 468*r*r_m + 296*r_m^2)*r_p)/((r^2 - r*r_m - (r - r_m)*r_p)*(r - r_m)^(7/13)*r^(6/13))"
      ]
     },
     "metadata": {},
     "output_type": "display_data"
    },
    {
     "data": {
      "text/html": [
       "<html>\\(\\displaystyle C_{1213} =  0\\)</html>"
      ],
      "text/latex": [
       "$\\displaystyle C_{1213} =  0$"
      ],
      "text/plain": [
       "C_{1213} =  0"
      ]
     },
     "metadata": {},
     "output_type": "display_data"
    },
    {
     "data": {
      "text/html": [
       "<html>\\(\\displaystyle C_{1220} =  0\\)</html>"
      ],
      "text/latex": [
       "$\\displaystyle C_{1220} =  0$"
      ],
      "text/plain": [
       "C_{1220} =  0"
      ]
     },
     "metadata": {},
     "output_type": "display_data"
    },
    {
     "data": {
      "text/html": [
       "<html>\\(\\displaystyle C_{1221} =  \\frac{143 \\, r^{2} r_{m} - 140 \\, r r_{m}^{2} + {\\left(169 \\, r^{2} - 468 \\, r r_{m} + 296 \\, r_{m}^{2}\\right)} r_{p}}{338 \\, {\\left(r^{2} - r r_{m} - {\\left(r - r_{m}\\right)} r_{p}\\right)} {\\left(r - r_{m}\\right)}^{\\frac{7}{13}} r^{\\frac{6}{13}}}\\)</html>"
      ],
      "text/latex": [
       "$\\displaystyle C_{1221} =  \\frac{143 \\, r^{2} r_{m} - 140 \\, r r_{m}^{2} + {\\left(169 \\, r^{2} - 468 \\, r r_{m} + 296 \\, r_{m}^{2}\\right)} r_{p}}{338 \\, {\\left(r^{2} - r r_{m} - {\\left(r - r_{m}\\right)} r_{p}\\right)} {\\left(r - r_{m}\\right)}^{\\frac{7}{13}} r^{\\frac{6}{13}}}$"
      ],
      "text/plain": [
       "C_{1221} =  1/338*(143*r^2*r_m - 140*r*r_m^2 + (169*r^2 - 468*r*r_m + 296*r_m^2)*r_p)/((r^2 - r*r_m - (r - r_m)*r_p)*(r - r_m)^(7/13)*r^(6/13))"
      ]
     },
     "metadata": {},
     "output_type": "display_data"
    },
    {
     "data": {
      "text/html": [
       "<html>\\(\\displaystyle C_{1222} =  0\\)</html>"
      ],
      "text/latex": [
       "$\\displaystyle C_{1222} =  0$"
      ],
      "text/plain": [
       "C_{1222} =  0"
      ]
     },
     "metadata": {},
     "output_type": "display_data"
    },
    {
     "data": {
      "text/html": [
       "<html>\\(\\displaystyle C_{1223} =  0\\)</html>"
      ],
      "text/latex": [
       "$\\displaystyle C_{1223} =  0$"
      ],
      "text/plain": [
       "C_{1223} =  0"
      ]
     },
     "metadata": {},
     "output_type": "display_data"
    },
    {
     "data": {
      "text/html": [
       "<html>\\(\\displaystyle C_{1230} =  \\frac{{\\left(35 \\, a r r_{m} + 3 \\, {\\left(13 \\, a r - 16 \\, a r_{m}\\right)} r_{p}\\right)} {\\left(r - r_{m}\\right)}^{\\frac{2}{13}} \\cos\\left({\\theta}\\right) \\sin\\left({\\theta}\\right)}{26 \\, r^{\\frac{41}{13}}}\\)</html>"
      ],
      "text/latex": [
       "$\\displaystyle C_{1230} =  \\frac{{\\left(35 \\, a r r_{m} + 3 \\, {\\left(13 \\, a r - 16 \\, a r_{m}\\right)} r_{p}\\right)} {\\left(r - r_{m}\\right)}^{\\frac{2}{13}} \\cos\\left({\\theta}\\right) \\sin\\left({\\theta}\\right)}{26 \\, r^{\\frac{41}{13}}}$"
      ],
      "text/plain": [
       "C_{1230} =  1/26*(35*a*r*r_m + 3*(13*a*r - 16*a*r_m)*r_p)*(r - r_m)^(2/13)*cos(th)*sin(th)/r^(41/13)"
      ]
     },
     "metadata": {},
     "output_type": "display_data"
    },
    {
     "data": {
      "text/html": [
       "<html>\\(\\displaystyle C_{1231} =  0\\)</html>"
      ],
      "text/latex": [
       "$\\displaystyle C_{1231} =  0$"
      ],
      "text/plain": [
       "C_{1231} =  0"
      ]
     },
     "metadata": {},
     "output_type": "display_data"
    },
    {
     "data": {
      "text/html": [
       "<html>\\(\\displaystyle C_{1232} =  0\\)</html>"
      ],
      "text/latex": [
       "$\\displaystyle C_{1232} =  0$"
      ],
      "text/plain": [
       "C_{1232} =  0"
      ]
     },
     "metadata": {},
     "output_type": "display_data"
    },
    {
     "data": {
      "text/html": [
       "<html>\\(\\displaystyle C_{1233} =  0\\)</html>"
      ],
      "text/latex": [
       "$\\displaystyle C_{1233} =  0$"
      ],
      "text/plain": [
       "C_{1233} =  0"
      ]
     },
     "metadata": {},
     "output_type": "display_data"
    },
    {
     "data": {
      "text/html": [
       "<html>\\(\\displaystyle C_{1300} =  0\\)</html>"
      ],
      "text/latex": [
       "$\\displaystyle C_{1300} =  0$"
      ],
      "text/plain": [
       "C_{1300} =  0"
      ]
     },
     "metadata": {},
     "output_type": "display_data"
    },
    {
     "data": {
      "text/html": [
       "<html>\\(\\displaystyle C_{1301} =  \\frac{{\\left(24167 \\, a r^{5} r_{m} - 6929 \\, a r^{4} r_{m}^{2} - 47268 \\, a r^{3} r_{m}^{3} + 27720 \\, a r^{2} r_{m}^{4} + 198 \\, {\\left(169 \\, a r^{2} r_{m}^{2} - 468 \\, a r r_{m}^{3} + 296 \\, a r_{m}^{4}\\right)} r_{p}^{2} + {\\left(28561 \\, a r^{5} - 59319 \\, a r^{4} r_{m} - 38194 \\, a r^{3} r_{m}^{2} + 158184 \\, a r^{2} r_{m}^{3} - 86328 \\, a r r_{m}^{4}\\right)} r_{p}\\right)} {\\left(r - r_{m}\\right)}^{\\frac{9}{13}} \\sin\\left({\\theta}\\right)^{2} - 169 \\, {\\left(143 \\, a r^{5} r_{m} - 140 \\, a r^{4} r_{m}^{2} + {\\left(169 \\, a r^{5} - 468 \\, a r^{4} r_{m} + 296 \\, a r^{3} r_{m}^{2}\\right)} r_{p}\\right)} r^{\\frac{9}{13}} \\sin\\left({\\theta}\\right)^{2}}{33462 \\, {\\left(r^{6} r_{m}^{2} - r^{5} r_{m}^{3} - {\\left(r^{5} r_{m}^{2} - r^{4} r_{m}^{3}\\right)} r_{p}\\right)} {\\left(r - r_{m}\\right)}^{\\frac{7}{13}} r^{\\frac{2}{13}}}\\)</html>"
      ],
      "text/latex": [
       "$\\displaystyle C_{1301} =  \\frac{{\\left(24167 \\, a r^{5} r_{m} - 6929 \\, a r^{4} r_{m}^{2} - 47268 \\, a r^{3} r_{m}^{3} + 27720 \\, a r^{2} r_{m}^{4} + 198 \\, {\\left(169 \\, a r^{2} r_{m}^{2} - 468 \\, a r r_{m}^{3} + 296 \\, a r_{m}^{4}\\right)} r_{p}^{2} + {\\left(28561 \\, a r^{5} - 59319 \\, a r^{4} r_{m} - 38194 \\, a r^{3} r_{m}^{2} + 158184 \\, a r^{2} r_{m}^{3} - 86328 \\, a r r_{m}^{4}\\right)} r_{p}\\right)} {\\left(r - r_{m}\\right)}^{\\frac{9}{13}} \\sin\\left({\\theta}\\right)^{2} - 169 \\, {\\left(143 \\, a r^{5} r_{m} - 140 \\, a r^{4} r_{m}^{2} + {\\left(169 \\, a r^{5} - 468 \\, a r^{4} r_{m} + 296 \\, a r^{3} r_{m}^{2}\\right)} r_{p}\\right)} r^{\\frac{9}{13}} \\sin\\left({\\theta}\\right)^{2}}{33462 \\, {\\left(r^{6} r_{m}^{2} - r^{5} r_{m}^{3} - {\\left(r^{5} r_{m}^{2} - r^{4} r_{m}^{3}\\right)} r_{p}\\right)} {\\left(r - r_{m}\\right)}^{\\frac{7}{13}} r^{\\frac{2}{13}}}$"
      ],
      "text/plain": [
       "C_{1301} =  1/33462*((24167*a*r^5*r_m - 6929*a*r^4*r_m^2 - 47268*a*r^3*r_m^3 + 27720*a*r^2*r_m^4 + 198*(169*a*r^2*r_m^2 - 468*a*r*r_m^3 + 296*a*r_m^4)*r_p^2 + (28561*a*r^5 - 59319*a*r^4*r_m - 38194*a*r^3*r_m^2 + 158184*a*r^2*r_m^3 - 86328*a*r*r_m^4)*r_p)*(r - r_m)^(9/13)*sin(th)^2 - 169*(143*a*r^5*r_m - 140*a*r^4*r_m^2 + (169*a*r^5 - 468*a*r^4*r_m + 296*a*r^3*r_m^2)*r_p)*r^(9/13)*sin(th)^2)/((r^6*r_m^2 - r^5*r_m^3 - (r^5*r_m^2 - r^4*r_m^3)*r_p)*(r - r_m)^(7/13)*r^(2/13))"
      ]
     },
     "metadata": {},
     "output_type": "display_data"
    },
    {
     "data": {
      "text/html": [
       "<html>\\(\\displaystyle C_{1302} =  \\frac{{\\left(35 \\, r r_{m} + 39 \\, r r_{p} - 48 \\, r_{m} r_{p}\\right)} a \\left(\\frac{r - r_{m}}{r}\\right)^{\\frac{2}{13}} \\cos\\left({\\theta}\\right) \\sin\\left({\\theta}\\right)}{26 \\, r^{3}}\\)</html>"
      ],
      "text/latex": [
       "$\\displaystyle C_{1302} =  \\frac{{\\left(35 \\, r r_{m} + 39 \\, r r_{p} - 48 \\, r_{m} r_{p}\\right)} a \\left(\\frac{r - r_{m}}{r}\\right)^{\\frac{2}{13}} \\cos\\left({\\theta}\\right) \\sin\\left({\\theta}\\right)}{26 \\, r^{3}}$"
      ],
      "text/plain": [
       "C_{1302} =  1/26*(35*r*r_m + 39*r*r_p - 48*r_m*r_p)*a*((r - r_m)/r)^(2/13)*cos(th)*sin(th)/r^3"
      ]
     },
     "metadata": {},
     "output_type": "display_data"
    },
    {
     "data": {
      "text/html": [
       "<html>\\(\\displaystyle C_{1303} =  0\\)</html>"
      ],
      "text/latex": [
       "$\\displaystyle C_{1303} =  0$"
      ],
      "text/plain": [
       "C_{1303} =  0"
      ]
     },
     "metadata": {},
     "output_type": "display_data"
    },
    {
     "data": {
      "text/html": [
       "<html>\\(\\displaystyle C_{1310} =  -\\frac{{\\left(24167 \\, a r^{5} r_{m} - 6929 \\, a r^{4} r_{m}^{2} - 47268 \\, a r^{3} r_{m}^{3} + 27720 \\, a r^{2} r_{m}^{4} + 198 \\, {\\left(169 \\, a r^{2} r_{m}^{2} - 468 \\, a r r_{m}^{3} + 296 \\, a r_{m}^{4}\\right)} r_{p}^{2} + {\\left(28561 \\, a r^{5} - 59319 \\, a r^{4} r_{m} - 38194 \\, a r^{3} r_{m}^{2} + 158184 \\, a r^{2} r_{m}^{3} - 86328 \\, a r r_{m}^{4}\\right)} r_{p}\\right)} {\\left(r - r_{m}\\right)}^{\\frac{9}{13}} \\sin\\left({\\theta}\\right)^{2} - 169 \\, {\\left(143 \\, a r^{5} r_{m} - 140 \\, a r^{4} r_{m}^{2} + {\\left(169 \\, a r^{5} - 468 \\, a r^{4} r_{m} + 296 \\, a r^{3} r_{m}^{2}\\right)} r_{p}\\right)} r^{\\frac{9}{13}} \\sin\\left({\\theta}\\right)^{2}}{33462 \\, {\\left(r^{6} r_{m}^{2} - r^{5} r_{m}^{3} - {\\left(r^{5} r_{m}^{2} - r^{4} r_{m}^{3}\\right)} r_{p}\\right)} {\\left(r - r_{m}\\right)}^{\\frac{7}{13}} r^{\\frac{2}{13}}}\\)</html>"
      ],
      "text/latex": [
       "$\\displaystyle C_{1310} =  -\\frac{{\\left(24167 \\, a r^{5} r_{m} - 6929 \\, a r^{4} r_{m}^{2} - 47268 \\, a r^{3} r_{m}^{3} + 27720 \\, a r^{2} r_{m}^{4} + 198 \\, {\\left(169 \\, a r^{2} r_{m}^{2} - 468 \\, a r r_{m}^{3} + 296 \\, a r_{m}^{4}\\right)} r_{p}^{2} + {\\left(28561 \\, a r^{5} - 59319 \\, a r^{4} r_{m} - 38194 \\, a r^{3} r_{m}^{2} + 158184 \\, a r^{2} r_{m}^{3} - 86328 \\, a r r_{m}^{4}\\right)} r_{p}\\right)} {\\left(r - r_{m}\\right)}^{\\frac{9}{13}} \\sin\\left({\\theta}\\right)^{2} - 169 \\, {\\left(143 \\, a r^{5} r_{m} - 140 \\, a r^{4} r_{m}^{2} + {\\left(169 \\, a r^{5} - 468 \\, a r^{4} r_{m} + 296 \\, a r^{3} r_{m}^{2}\\right)} r_{p}\\right)} r^{\\frac{9}{13}} \\sin\\left({\\theta}\\right)^{2}}{33462 \\, {\\left(r^{6} r_{m}^{2} - r^{5} r_{m}^{3} - {\\left(r^{5} r_{m}^{2} - r^{4} r_{m}^{3}\\right)} r_{p}\\right)} {\\left(r - r_{m}\\right)}^{\\frac{7}{13}} r^{\\frac{2}{13}}}$"
      ],
      "text/plain": [
       "C_{1310} =  -1/33462*((24167*a*r^5*r_m - 6929*a*r^4*r_m^2 - 47268*a*r^3*r_m^3 + 27720*a*r^2*r_m^4 + 198*(169*a*r^2*r_m^2 - 468*a*r*r_m^3 + 296*a*r_m^4)*r_p^2 + (28561*a*r^5 - 59319*a*r^4*r_m - 38194*a*r^3*r_m^2 + 158184*a*r^2*r_m^3 - 86328*a*r*r_m^4)*r_p)*(r - r_m)^(9/13)*sin(th)^2 - 169*(143*a*r^5*r_m - 140*a*r^4*r_m^2 + (169*a*r^5 - 468*a*r^4*r_m + 296*a*r^3*r_m^2)*r_p)*r^(9/13)*sin(th)^2)/((r^6*r_m^2 - r^5*r_m^3 - (r^5*r_m^2 - r^4*r_m^3)*r_p)*(r - r_m)^(7/13)*r^(2/13))"
      ]
     },
     "metadata": {},
     "output_type": "display_data"
    },
    {
     "data": {
      "text/html": [
       "<html>\\(\\displaystyle C_{1311} =  0\\)</html>"
      ],
      "text/latex": [
       "$\\displaystyle C_{1311} =  0$"
      ],
      "text/plain": [
       "C_{1311} =  0"
      ]
     },
     "metadata": {},
     "output_type": "display_data"
    },
    {
     "data": {
      "text/html": [
       "<html>\\(\\displaystyle C_{1312} =  0\\)</html>"
      ],
      "text/latex": [
       "$\\displaystyle C_{1312} =  0$"
      ],
      "text/plain": [
       "C_{1312} =  0"
      ]
     },
     "metadata": {},
     "output_type": "display_data"
    },
    {
     "data": {
      "text/html": [
       "<html>\\(\\displaystyle C_{1313} =  -\\frac{{\\left(143 \\, r^{2} r_{m} - 140 \\, r r_{m}^{2} + {\\left(169 \\, r^{2} - 468 \\, r r_{m} + 296 \\, r_{m}^{2}\\right)} r_{p}\\right)} \\sin\\left({\\theta}\\right)^{2}}{338 \\, {\\left(r^{2} - r r_{m} - {\\left(r - r_{m}\\right)} r_{p}\\right)} {\\left(r - r_{m}\\right)}^{\\frac{7}{13}} r^{\\frac{6}{13}}}\\)</html>"
      ],
      "text/latex": [
       "$\\displaystyle C_{1313} =  -\\frac{{\\left(143 \\, r^{2} r_{m} - 140 \\, r r_{m}^{2} + {\\left(169 \\, r^{2} - 468 \\, r r_{m} + 296 \\, r_{m}^{2}\\right)} r_{p}\\right)} \\sin\\left({\\theta}\\right)^{2}}{338 \\, {\\left(r^{2} - r r_{m} - {\\left(r - r_{m}\\right)} r_{p}\\right)} {\\left(r - r_{m}\\right)}^{\\frac{7}{13}} r^{\\frac{6}{13}}}$"
      ],
      "text/plain": [
       "C_{1313} =  -1/338*(143*r^2*r_m - 140*r*r_m^2 + (169*r^2 - 468*r*r_m + 296*r_m^2)*r_p)*sin(th)^2/((r^2 - r*r_m - (r - r_m)*r_p)*(r - r_m)^(7/13)*r^(6/13))"
      ]
     },
     "metadata": {},
     "output_type": "display_data"
    },
    {
     "data": {
      "text/html": [
       "<html>\\(\\displaystyle C_{1320} =  -\\frac{{\\left(35 \\, a r r_{m} + 3 \\, {\\left(13 \\, a r - 16 \\, a r_{m}\\right)} r_{p}\\right)} {\\left(r - r_{m}\\right)}^{\\frac{2}{13}} \\cos\\left({\\theta}\\right) \\sin\\left({\\theta}\\right)}{26 \\, r^{\\frac{41}{13}}}\\)</html>"
      ],
      "text/latex": [
       "$\\displaystyle C_{1320} =  -\\frac{{\\left(35 \\, a r r_{m} + 3 \\, {\\left(13 \\, a r - 16 \\, a r_{m}\\right)} r_{p}\\right)} {\\left(r - r_{m}\\right)}^{\\frac{2}{13}} \\cos\\left({\\theta}\\right) \\sin\\left({\\theta}\\right)}{26 \\, r^{\\frac{41}{13}}}$"
      ],
      "text/plain": [
       "C_{1320} =  -1/26*(35*a*r*r_m + 3*(13*a*r - 16*a*r_m)*r_p)*(r - r_m)^(2/13)*cos(th)*sin(th)/r^(41/13)"
      ]
     },
     "metadata": {},
     "output_type": "display_data"
    },
    {
     "data": {
      "text/html": [
       "<html>\\(\\displaystyle C_{1321} =  0\\)</html>"
      ],
      "text/latex": [
       "$\\displaystyle C_{1321} =  0$"
      ],
      "text/plain": [
       "C_{1321} =  0"
      ]
     },
     "metadata": {},
     "output_type": "display_data"
    },
    {
     "data": {
      "text/html": [
       "<html>\\(\\displaystyle C_{1322} =  0\\)</html>"
      ],
      "text/latex": [
       "$\\displaystyle C_{1322} =  0$"
      ],
      "text/plain": [
       "C_{1322} =  0"
      ]
     },
     "metadata": {},
     "output_type": "display_data"
    },
    {
     "data": {
      "text/html": [
       "<html>\\(\\displaystyle C_{1323} =  0\\)</html>"
      ],
      "text/latex": [
       "$\\displaystyle C_{1323} =  0$"
      ],
      "text/plain": [
       "C_{1323} =  0"
      ]
     },
     "metadata": {},
     "output_type": "display_data"
    },
    {
     "data": {
      "text/html": [
       "<html>\\(\\displaystyle C_{1330} =  0\\)</html>"
      ],
      "text/latex": [
       "$\\displaystyle C_{1330} =  0$"
      ],
      "text/plain": [
       "C_{1330} =  0"
      ]
     },
     "metadata": {},
     "output_type": "display_data"
    },
    {
     "data": {
      "text/html": [
       "<html>\\(\\displaystyle C_{1331} =  \\frac{{\\left(143 \\, r^{2} r_{m} - 140 \\, r r_{m}^{2} + {\\left(169 \\, r^{2} - 468 \\, r r_{m} + 296 \\, r_{m}^{2}\\right)} r_{p}\\right)} \\sin\\left({\\theta}\\right)^{2}}{338 \\, {\\left(r^{2} - r r_{m} - {\\left(r - r_{m}\\right)} r_{p}\\right)} {\\left(r - r_{m}\\right)}^{\\frac{7}{13}} r^{\\frac{6}{13}}}\\)</html>"
      ],
      "text/latex": [
       "$\\displaystyle C_{1331} =  \\frac{{\\left(143 \\, r^{2} r_{m} - 140 \\, r r_{m}^{2} + {\\left(169 \\, r^{2} - 468 \\, r r_{m} + 296 \\, r_{m}^{2}\\right)} r_{p}\\right)} \\sin\\left({\\theta}\\right)^{2}}{338 \\, {\\left(r^{2} - r r_{m} - {\\left(r - r_{m}\\right)} r_{p}\\right)} {\\left(r - r_{m}\\right)}^{\\frac{7}{13}} r^{\\frac{6}{13}}}$"
      ],
      "text/plain": [
       "C_{1331} =  1/338*(143*r^2*r_m - 140*r*r_m^2 + (169*r^2 - 468*r*r_m + 296*r_m^2)*r_p)*sin(th)^2/((r^2 - r*r_m - (r - r_m)*r_p)*(r - r_m)^(7/13)*r^(6/13))"
      ]
     },
     "metadata": {},
     "output_type": "display_data"
    },
    {
     "data": {
      "text/html": [
       "<html>\\(\\displaystyle C_{1332} =  0\\)</html>"
      ],
      "text/latex": [
       "$\\displaystyle C_{1332} =  0$"
      ],
      "text/plain": [
       "C_{1332} =  0"
      ]
     },
     "metadata": {},
     "output_type": "display_data"
    },
    {
     "data": {
      "text/html": [
       "<html>\\(\\displaystyle C_{1333} =  0\\)</html>"
      ],
      "text/latex": [
       "$\\displaystyle C_{1333} =  0$"
      ],
      "text/plain": [
       "C_{1333} =  0"
      ]
     },
     "metadata": {},
     "output_type": "display_data"
    },
    {
     "data": {
      "text/html": [
       "<html>\\(\\displaystyle C_{2000} =  0\\)</html>"
      ],
      "text/latex": [
       "$\\displaystyle C_{2000} =  0$"
      ],
      "text/plain": [
       "C_{2000} =  0"
      ]
     },
     "metadata": {},
     "output_type": "display_data"
    },
    {
     "data": {
      "text/html": [
       "<html>\\(\\displaystyle C_{2001} =  0\\)</html>"
      ],
      "text/latex": [
       "$\\displaystyle C_{2001} =  0$"
      ],
      "text/plain": [
       "C_{2001} =  0"
      ]
     },
     "metadata": {},
     "output_type": "display_data"
    },
    {
     "data": {
      "text/html": [
       "<html>\\(\\displaystyle C_{2002} =  -\\frac{{\\left(143 \\, r^{3} r_{m} - 140 \\, r^{2} r_{m}^{2} - {\\left(169 \\, r^{2} - 468 \\, r r_{m} + 296 \\, r_{m}^{2}\\right)} r_{p}^{2} + {\\left(169 \\, r^{3} - 611 \\, r^{2} r_{m} + 436 \\, r r_{m}^{2}\\right)} r_{p}\\right)} {\\left(r - r_{m}\\right)}^{\\frac{2}{13}}}{338 \\, r^{\\frac{54}{13}}}\\)</html>"
      ],
      "text/latex": [
       "$\\displaystyle C_{2002} =  -\\frac{{\\left(143 \\, r^{3} r_{m} - 140 \\, r^{2} r_{m}^{2} - {\\left(169 \\, r^{2} - 468 \\, r r_{m} + 296 \\, r_{m}^{2}\\right)} r_{p}^{2} + {\\left(169 \\, r^{3} - 611 \\, r^{2} r_{m} + 436 \\, r r_{m}^{2}\\right)} r_{p}\\right)} {\\left(r - r_{m}\\right)}^{\\frac{2}{13}}}{338 \\, r^{\\frac{54}{13}}}$"
      ],
      "text/plain": [
       "C_{2002} =  -1/338*(143*r^3*r_m - 140*r^2*r_m^2 - (169*r^2 - 468*r*r_m + 296*r_m^2)*r_p^2 + (169*r^3 - 611*r^2*r_m + 436*r*r_m^2)*r_p)*(r - r_m)^(2/13)/r^(54/13)"
      ]
     },
     "metadata": {},
     "output_type": "display_data"
    },
    {
     "data": {
      "text/html": [
       "<html>\\(\\displaystyle C_{2003} =  0\\)</html>"
      ],
      "text/latex": [
       "$\\displaystyle C_{2003} =  0$"
      ],
      "text/plain": [
       "C_{2003} =  0"
      ]
     },
     "metadata": {},
     "output_type": "display_data"
    },
    {
     "data": {
      "text/html": [
       "<html>\\(\\displaystyle C_{2010} =  0\\)</html>"
      ],
      "text/latex": [
       "$\\displaystyle C_{2010} =  0$"
      ],
      "text/plain": [
       "C_{2010} =  0"
      ]
     },
     "metadata": {},
     "output_type": "display_data"
    },
    {
     "data": {
      "text/html": [
       "<html>\\(\\displaystyle C_{2011} =  0\\)</html>"
      ],
      "text/latex": [
       "$\\displaystyle C_{2011} =  0$"
      ],
      "text/plain": [
       "C_{2011} =  0"
      ]
     },
     "metadata": {},
     "output_type": "display_data"
    },
    {
     "data": {
      "text/html": [
       "<html>\\(\\displaystyle C_{2012} =  0\\)</html>"
      ],
      "text/latex": [
       "$\\displaystyle C_{2012} =  0$"
      ],
      "text/plain": [
       "C_{2012} =  0"
      ]
     },
     "metadata": {},
     "output_type": "display_data"
    },
    {
     "data": {
      "text/html": [
       "<html>\\(\\displaystyle C_{2013} =  -\\frac{{\\left(35 \\, r r_{m} + 39 \\, r r_{p} - 48 \\, r_{m} r_{p}\\right)} a \\left(\\frac{r - r_{m}}{r}\\right)^{\\frac{2}{13}} \\cos\\left({\\theta}\\right) \\sin\\left({\\theta}\\right)}{26 \\, r^{3}}\\)</html>"
      ],
      "text/latex": [
       "$\\displaystyle C_{2013} =  -\\frac{{\\left(35 \\, r r_{m} + 39 \\, r r_{p} - 48 \\, r_{m} r_{p}\\right)} a \\left(\\frac{r - r_{m}}{r}\\right)^{\\frac{2}{13}} \\cos\\left({\\theta}\\right) \\sin\\left({\\theta}\\right)}{26 \\, r^{3}}$"
      ],
      "text/plain": [
       "C_{2013} =  -1/26*(35*r*r_m + 39*r*r_p - 48*r_m*r_p)*a*((r - r_m)/r)^(2/13)*cos(th)*sin(th)/r^3"
      ]
     },
     "metadata": {},
     "output_type": "display_data"
    },
    {
     "data": {
      "text/html": [
       "<html>\\(\\displaystyle C_{2020} =  \\frac{{\\left(143 \\, r^{3} r_{m} - 140 \\, r^{2} r_{m}^{2} - {\\left(169 \\, r^{2} - 468 \\, r r_{m} + 296 \\, r_{m}^{2}\\right)} r_{p}^{2} + {\\left(169 \\, r^{3} - 611 \\, r^{2} r_{m} + 436 \\, r r_{m}^{2}\\right)} r_{p}\\right)} {\\left(r - r_{m}\\right)}^{\\frac{2}{13}}}{338 \\, r^{\\frac{54}{13}}}\\)</html>"
      ],
      "text/latex": [
       "$\\displaystyle C_{2020} =  \\frac{{\\left(143 \\, r^{3} r_{m} - 140 \\, r^{2} r_{m}^{2} - {\\left(169 \\, r^{2} - 468 \\, r r_{m} + 296 \\, r_{m}^{2}\\right)} r_{p}^{2} + {\\left(169 \\, r^{3} - 611 \\, r^{2} r_{m} + 436 \\, r r_{m}^{2}\\right)} r_{p}\\right)} {\\left(r - r_{m}\\right)}^{\\frac{2}{13}}}{338 \\, r^{\\frac{54}{13}}}$"
      ],
      "text/plain": [
       "C_{2020} =  1/338*(143*r^3*r_m - 140*r^2*r_m^2 - (169*r^2 - 468*r*r_m + 296*r_m^2)*r_p^2 + (169*r^3 - 611*r^2*r_m + 436*r*r_m^2)*r_p)*(r - r_m)^(2/13)/r^(54/13)"
      ]
     },
     "metadata": {},
     "output_type": "display_data"
    },
    {
     "data": {
      "text/html": [
       "<html>\\(\\displaystyle C_{2021} =  0\\)</html>"
      ],
      "text/latex": [
       "$\\displaystyle C_{2021} =  0$"
      ],
      "text/plain": [
       "C_{2021} =  0"
      ]
     },
     "metadata": {},
     "output_type": "display_data"
    },
    {
     "data": {
      "text/html": [
       "<html>\\(\\displaystyle C_{2022} =  0\\)</html>"
      ],
      "text/latex": [
       "$\\displaystyle C_{2022} =  0$"
      ],
      "text/plain": [
       "C_{2022} =  0"
      ]
     },
     "metadata": {},
     "output_type": "display_data"
    },
    {
     "data": {
      "text/html": [
       "<html>\\(\\displaystyle C_{2023} =  \\frac{{\\left(48334 \\, a r^{5} r_{m} - 13858 \\, a r^{4} r_{m}^{2} - 49491 \\, a r^{3} r_{m}^{3} + 13860 \\, a r^{2} r_{m}^{4} + 99 \\, {\\left(169 \\, a r^{2} r_{m}^{2} - 468 \\, a r r_{m}^{3} + 296 \\, a r_{m}^{4}\\right)} r_{p}^{2} + {\\left(57122 \\, a r^{5} - 118638 \\, a r^{4} r_{m} - 26195 \\, a r^{3} r_{m}^{2} + 132327 \\, a r^{2} r_{m}^{3} - 43164 \\, a r r_{m}^{4}\\right)} r_{p}\\right)} {\\left(r - r_{m}\\right)}^{\\frac{9}{13}} \\sin\\left({\\theta}\\right)^{2} - 338 \\, {\\left(143 \\, a r^{5} r_{m} - 140 \\, a r^{4} r_{m}^{2} + {\\left(169 \\, a r^{5} - 468 \\, a r^{4} r_{m} + 296 \\, a r^{3} r_{m}^{2}\\right)} r_{p}\\right)} r^{\\frac{9}{13}} \\sin\\left({\\theta}\\right)^{2}}{33462 \\, {\\left(r - r_{m}\\right)}^{\\frac{7}{13}} r^{\\frac{54}{13}} r_{m}^{2}}\\)</html>"
      ],
      "text/latex": [
       "$\\displaystyle C_{2023} =  \\frac{{\\left(48334 \\, a r^{5} r_{m} - 13858 \\, a r^{4} r_{m}^{2} - 49491 \\, a r^{3} r_{m}^{3} + 13860 \\, a r^{2} r_{m}^{4} + 99 \\, {\\left(169 \\, a r^{2} r_{m}^{2} - 468 \\, a r r_{m}^{3} + 296 \\, a r_{m}^{4}\\right)} r_{p}^{2} + {\\left(57122 \\, a r^{5} - 118638 \\, a r^{4} r_{m} - 26195 \\, a r^{3} r_{m}^{2} + 132327 \\, a r^{2} r_{m}^{3} - 43164 \\, a r r_{m}^{4}\\right)} r_{p}\\right)} {\\left(r - r_{m}\\right)}^{\\frac{9}{13}} \\sin\\left({\\theta}\\right)^{2} - 338 \\, {\\left(143 \\, a r^{5} r_{m} - 140 \\, a r^{4} r_{m}^{2} + {\\left(169 \\, a r^{5} - 468 \\, a r^{4} r_{m} + 296 \\, a r^{3} r_{m}^{2}\\right)} r_{p}\\right)} r^{\\frac{9}{13}} \\sin\\left({\\theta}\\right)^{2}}{33462 \\, {\\left(r - r_{m}\\right)}^{\\frac{7}{13}} r^{\\frac{54}{13}} r_{m}^{2}}$"
      ],
      "text/plain": [
       "C_{2023} =  1/33462*((48334*a*r^5*r_m - 13858*a*r^4*r_m^2 - 49491*a*r^3*r_m^3 + 13860*a*r^2*r_m^4 + 99*(169*a*r^2*r_m^2 - 468*a*r*r_m^3 + 296*a*r_m^4)*r_p^2 + (57122*a*r^5 - 118638*a*r^4*r_m - 26195*a*r^3*r_m^2 + 132327*a*r^2*r_m^3 - 43164*a*r*r_m^4)*r_p)*(r - r_m)^(9/13)*sin(th)^2 - 338*(143*a*r^5*r_m - 140*a*r^4*r_m^2 + (169*a*r^5 - 468*a*r^4*r_m + 296*a*r^3*r_m^2)*r_p)*r^(9/13)*sin(th)^2)/((r - r_m)^(7/13)*r^(54/13)*r_m^2)"
      ]
     },
     "metadata": {},
     "output_type": "display_data"
    },
    {
     "data": {
      "text/html": [
       "<html>\\(\\displaystyle C_{2030} =  0\\)</html>"
      ],
      "text/latex": [
       "$\\displaystyle C_{2030} =  0$"
      ],
      "text/plain": [
       "C_{2030} =  0"
      ]
     },
     "metadata": {},
     "output_type": "display_data"
    },
    {
     "data": {
      "text/html": [
       "<html>\\(\\displaystyle C_{2031} =  \\frac{{\\left(35 \\, a r r_{m} + 3 \\, {\\left(13 \\, a r - 16 \\, a r_{m}\\right)} r_{p}\\right)} {\\left(r - r_{m}\\right)}^{\\frac{2}{13}} \\cos\\left({\\theta}\\right) \\sin\\left({\\theta}\\right)}{26 \\, r^{\\frac{41}{13}}}\\)</html>"
      ],
      "text/latex": [
       "$\\displaystyle C_{2031} =  \\frac{{\\left(35 \\, a r r_{m} + 3 \\, {\\left(13 \\, a r - 16 \\, a r_{m}\\right)} r_{p}\\right)} {\\left(r - r_{m}\\right)}^{\\frac{2}{13}} \\cos\\left({\\theta}\\right) \\sin\\left({\\theta}\\right)}{26 \\, r^{\\frac{41}{13}}}$"
      ],
      "text/plain": [
       "C_{2031} =  1/26*(35*a*r*r_m + 3*(13*a*r - 16*a*r_m)*r_p)*(r - r_m)^(2/13)*cos(th)*sin(th)/r^(41/13)"
      ]
     },
     "metadata": {},
     "output_type": "display_data"
    },
    {
     "data": {
      "text/html": [
       "<html>\\(\\displaystyle C_{2032} =  -\\frac{{\\left(48334 \\, a r^{5} r_{m} - 13858 \\, a r^{4} r_{m}^{2} - 49491 \\, a r^{3} r_{m}^{3} + 13860 \\, a r^{2} r_{m}^{4} + 99 \\, {\\left(169 \\, a r^{2} r_{m}^{2} - 468 \\, a r r_{m}^{3} + 296 \\, a r_{m}^{4}\\right)} r_{p}^{2} + {\\left(57122 \\, a r^{5} - 118638 \\, a r^{4} r_{m} - 26195 \\, a r^{3} r_{m}^{2} + 132327 \\, a r^{2} r_{m}^{3} - 43164 \\, a r r_{m}^{4}\\right)} r_{p}\\right)} {\\left(r - r_{m}\\right)}^{\\frac{9}{13}} \\sin\\left({\\theta}\\right)^{2} - 338 \\, {\\left(143 \\, a r^{5} r_{m} - 140 \\, a r^{4} r_{m}^{2} + {\\left(169 \\, a r^{5} - 468 \\, a r^{4} r_{m} + 296 \\, a r^{3} r_{m}^{2}\\right)} r_{p}\\right)} r^{\\frac{9}{13}} \\sin\\left({\\theta}\\right)^{2}}{33462 \\, {\\left(r - r_{m}\\right)}^{\\frac{7}{13}} r^{\\frac{54}{13}} r_{m}^{2}}\\)</html>"
      ],
      "text/latex": [
       "$\\displaystyle C_{2032} =  -\\frac{{\\left(48334 \\, a r^{5} r_{m} - 13858 \\, a r^{4} r_{m}^{2} - 49491 \\, a r^{3} r_{m}^{3} + 13860 \\, a r^{2} r_{m}^{4} + 99 \\, {\\left(169 \\, a r^{2} r_{m}^{2} - 468 \\, a r r_{m}^{3} + 296 \\, a r_{m}^{4}\\right)} r_{p}^{2} + {\\left(57122 \\, a r^{5} - 118638 \\, a r^{4} r_{m} - 26195 \\, a r^{3} r_{m}^{2} + 132327 \\, a r^{2} r_{m}^{3} - 43164 \\, a r r_{m}^{4}\\right)} r_{p}\\right)} {\\left(r - r_{m}\\right)}^{\\frac{9}{13}} \\sin\\left({\\theta}\\right)^{2} - 338 \\, {\\left(143 \\, a r^{5} r_{m} - 140 \\, a r^{4} r_{m}^{2} + {\\left(169 \\, a r^{5} - 468 \\, a r^{4} r_{m} + 296 \\, a r^{3} r_{m}^{2}\\right)} r_{p}\\right)} r^{\\frac{9}{13}} \\sin\\left({\\theta}\\right)^{2}}{33462 \\, {\\left(r - r_{m}\\right)}^{\\frac{7}{13}} r^{\\frac{54}{13}} r_{m}^{2}}$"
      ],
      "text/plain": [
       "C_{2032} =  -1/33462*((48334*a*r^5*r_m - 13858*a*r^4*r_m^2 - 49491*a*r^3*r_m^3 + 13860*a*r^2*r_m^4 + 99*(169*a*r^2*r_m^2 - 468*a*r*r_m^3 + 296*a*r_m^4)*r_p^2 + (57122*a*r^5 - 118638*a*r^4*r_m - 26195*a*r^3*r_m^2 + 132327*a*r^2*r_m^3 - 43164*a*r*r_m^4)*r_p)*(r - r_m)^(9/13)*sin(th)^2 - 338*(143*a*r^5*r_m - 140*a*r^4*r_m^2 + (169*a*r^5 - 468*a*r^4*r_m + 296*a*r^3*r_m^2)*r_p)*r^(9/13)*sin(th)^2)/((r - r_m)^(7/13)*r^(54/13)*r_m^2)"
      ]
     },
     "metadata": {},
     "output_type": "display_data"
    },
    {
     "data": {
      "text/html": [
       "<html>\\(\\displaystyle C_{2033} =  0\\)</html>"
      ],
      "text/latex": [
       "$\\displaystyle C_{2033} =  0$"
      ],
      "text/plain": [
       "C_{2033} =  0"
      ]
     },
     "metadata": {},
     "output_type": "display_data"
    },
    {
     "data": {
      "text/html": [
       "<html>\\(\\displaystyle C_{2100} =  0\\)</html>"
      ],
      "text/latex": [
       "$\\displaystyle C_{2100} =  0$"
      ],
      "text/plain": [
       "C_{2100} =  0"
      ]
     },
     "metadata": {},
     "output_type": "display_data"
    },
    {
     "data": {
      "text/html": [
       "<html>\\(\\displaystyle C_{2101} =  0\\)</html>"
      ],
      "text/latex": [
       "$\\displaystyle C_{2101} =  0$"
      ],
      "text/plain": [
       "C_{2101} =  0"
      ]
     },
     "metadata": {},
     "output_type": "display_data"
    },
    {
     "data": {
      "text/html": [
       "<html>\\(\\displaystyle C_{2102} =  0\\)</html>"
      ],
      "text/latex": [
       "$\\displaystyle C_{2102} =  0$"
      ],
      "text/plain": [
       "C_{2102} =  0"
      ]
     },
     "metadata": {},
     "output_type": "display_data"
    },
    {
     "data": {
      "text/html": [
       "<html>\\(\\displaystyle C_{2103} =  \\frac{{\\left(35 \\, r r_{m} + 39 \\, r r_{p} - 48 \\, r_{m} r_{p}\\right)} a \\left(\\frac{r - r_{m}}{r}\\right)^{\\frac{15}{13}} \\cos\\left({\\theta}\\right) \\sin\\left({\\theta}\\right)}{26 \\, {\\left(r - r_{m}\\right)} r^{2}}\\)</html>"
      ],
      "text/latex": [
       "$\\displaystyle C_{2103} =  \\frac{{\\left(35 \\, r r_{m} + 39 \\, r r_{p} - 48 \\, r_{m} r_{p}\\right)} a \\left(\\frac{r - r_{m}}{r}\\right)^{\\frac{15}{13}} \\cos\\left({\\theta}\\right) \\sin\\left({\\theta}\\right)}{26 \\, {\\left(r - r_{m}\\right)} r^{2}}$"
      ],
      "text/plain": [
       "C_{2103} =  1/26*(35*r*r_m + 39*r*r_p - 48*r_m*r_p)*a*((r - r_m)/r)^(15/13)*cos(th)*sin(th)/((r - r_m)*r^2)"
      ]
     },
     "metadata": {},
     "output_type": "display_data"
    },
    {
     "data": {
      "text/html": [
       "<html>\\(\\displaystyle C_{2110} =  0\\)</html>"
      ],
      "text/latex": [
       "$\\displaystyle C_{2110} =  0$"
      ],
      "text/plain": [
       "C_{2110} =  0"
      ]
     },
     "metadata": {},
     "output_type": "display_data"
    },
    {
     "data": {
      "text/html": [
       "<html>\\(\\displaystyle C_{2111} =  0\\)</html>"
      ],
      "text/latex": [
       "$\\displaystyle C_{2111} =  0$"
      ],
      "text/plain": [
       "C_{2111} =  0"
      ]
     },
     "metadata": {},
     "output_type": "display_data"
    },
    {
     "data": {
      "text/html": [
       "<html>\\(\\displaystyle C_{2112} =  \\frac{143 \\, r^{2} r_{m} - 140 \\, r r_{m}^{2} + {\\left(169 \\, r^{2} - 468 \\, r r_{m} + 296 \\, r_{m}^{2}\\right)} r_{p}}{338 \\, {\\left(r^{2} - r r_{m} - {\\left(r - r_{m}\\right)} r_{p}\\right)} {\\left(r - r_{m}\\right)}^{\\frac{7}{13}} r^{\\frac{6}{13}}}\\)</html>"
      ],
      "text/latex": [
       "$\\displaystyle C_{2112} =  \\frac{143 \\, r^{2} r_{m} - 140 \\, r r_{m}^{2} + {\\left(169 \\, r^{2} - 468 \\, r r_{m} + 296 \\, r_{m}^{2}\\right)} r_{p}}{338 \\, {\\left(r^{2} - r r_{m} - {\\left(r - r_{m}\\right)} r_{p}\\right)} {\\left(r - r_{m}\\right)}^{\\frac{7}{13}} r^{\\frac{6}{13}}}$"
      ],
      "text/plain": [
       "C_{2112} =  1/338*(143*r^2*r_m - 140*r*r_m^2 + (169*r^2 - 468*r*r_m + 296*r_m^2)*r_p)/((r^2 - r*r_m - (r - r_m)*r_p)*(r - r_m)^(7/13)*r^(6/13))"
      ]
     },
     "metadata": {},
     "output_type": "display_data"
    },
    {
     "data": {
      "text/html": [
       "<html>\\(\\displaystyle C_{2113} =  0\\)</html>"
      ],
      "text/latex": [
       "$\\displaystyle C_{2113} =  0$"
      ],
      "text/plain": [
       "C_{2113} =  0"
      ]
     },
     "metadata": {},
     "output_type": "display_data"
    },
    {
     "data": {
      "text/html": [
       "<html>\\(\\displaystyle C_{2120} =  0\\)</html>"
      ],
      "text/latex": [
       "$\\displaystyle C_{2120} =  0$"
      ],
      "text/plain": [
       "C_{2120} =  0"
      ]
     },
     "metadata": {},
     "output_type": "display_data"
    },
    {
     "data": {
      "text/html": [
       "<html>\\(\\displaystyle C_{2121} =  -\\frac{143 \\, r^{2} r_{m} - 140 \\, r r_{m}^{2} + {\\left(169 \\, r^{2} - 468 \\, r r_{m} + 296 \\, r_{m}^{2}\\right)} r_{p}}{338 \\, {\\left(r^{2} - r r_{m} - {\\left(r - r_{m}\\right)} r_{p}\\right)} {\\left(r - r_{m}\\right)}^{\\frac{7}{13}} r^{\\frac{6}{13}}}\\)</html>"
      ],
      "text/latex": [
       "$\\displaystyle C_{2121} =  -\\frac{143 \\, r^{2} r_{m} - 140 \\, r r_{m}^{2} + {\\left(169 \\, r^{2} - 468 \\, r r_{m} + 296 \\, r_{m}^{2}\\right)} r_{p}}{338 \\, {\\left(r^{2} - r r_{m} - {\\left(r - r_{m}\\right)} r_{p}\\right)} {\\left(r - r_{m}\\right)}^{\\frac{7}{13}} r^{\\frac{6}{13}}}$"
      ],
      "text/plain": [
       "C_{2121} =  -1/338*(143*r^2*r_m - 140*r*r_m^2 + (169*r^2 - 468*r*r_m + 296*r_m^2)*r_p)/((r^2 - r*r_m - (r - r_m)*r_p)*(r - r_m)^(7/13)*r^(6/13))"
      ]
     },
     "metadata": {},
     "output_type": "display_data"
    },
    {
     "data": {
      "text/html": [
       "<html>\\(\\displaystyle C_{2122} =  0\\)</html>"
      ],
      "text/latex": [
       "$\\displaystyle C_{2122} =  0$"
      ],
      "text/plain": [
       "C_{2122} =  0"
      ]
     },
     "metadata": {},
     "output_type": "display_data"
    },
    {
     "data": {
      "text/html": [
       "<html>\\(\\displaystyle C_{2123} =  0\\)</html>"
      ],
      "text/latex": [
       "$\\displaystyle C_{2123} =  0$"
      ],
      "text/plain": [
       "C_{2123} =  0"
      ]
     },
     "metadata": {},
     "output_type": "display_data"
    },
    {
     "data": {
      "text/html": [
       "<html>\\(\\displaystyle C_{2130} =  -\\frac{{\\left(35 \\, a r r_{m} + 3 \\, {\\left(13 \\, a r - 16 \\, a r_{m}\\right)} r_{p}\\right)} {\\left(r - r_{m}\\right)}^{\\frac{2}{13}} \\cos\\left({\\theta}\\right) \\sin\\left({\\theta}\\right)}{26 \\, r^{\\frac{41}{13}}}\\)</html>"
      ],
      "text/latex": [
       "$\\displaystyle C_{2130} =  -\\frac{{\\left(35 \\, a r r_{m} + 3 \\, {\\left(13 \\, a r - 16 \\, a r_{m}\\right)} r_{p}\\right)} {\\left(r - r_{m}\\right)}^{\\frac{2}{13}} \\cos\\left({\\theta}\\right) \\sin\\left({\\theta}\\right)}{26 \\, r^{\\frac{41}{13}}}$"
      ],
      "text/plain": [
       "C_{2130} =  -1/26*(35*a*r*r_m + 3*(13*a*r - 16*a*r_m)*r_p)*(r - r_m)^(2/13)*cos(th)*sin(th)/r^(41/13)"
      ]
     },
     "metadata": {},
     "output_type": "display_data"
    },
    {
     "data": {
      "text/html": [
       "<html>\\(\\displaystyle C_{2131} =  0\\)</html>"
      ],
      "text/latex": [
       "$\\displaystyle C_{2131} =  0$"
      ],
      "text/plain": [
       "C_{2131} =  0"
      ]
     },
     "metadata": {},
     "output_type": "display_data"
    },
    {
     "data": {
      "text/html": [
       "<html>\\(\\displaystyle C_{2132} =  0\\)</html>"
      ],
      "text/latex": [
       "$\\displaystyle C_{2132} =  0$"
      ],
      "text/plain": [
       "C_{2132} =  0"
      ]
     },
     "metadata": {},
     "output_type": "display_data"
    },
    {
     "data": {
      "text/html": [
       "<html>\\(\\displaystyle C_{2133} =  0\\)</html>"
      ],
      "text/latex": [
       "$\\displaystyle C_{2133} =  0$"
      ],
      "text/plain": [
       "C_{2133} =  0"
      ]
     },
     "metadata": {},
     "output_type": "display_data"
    },
    {
     "data": {
      "text/html": [
       "<html>\\(\\displaystyle C_{2200} =  0\\)</html>"
      ],
      "text/latex": [
       "$\\displaystyle C_{2200} =  0$"
      ],
      "text/plain": [
       "C_{2200} =  0"
      ]
     },
     "metadata": {},
     "output_type": "display_data"
    },
    {
     "data": {
      "text/html": [
       "<html>\\(\\displaystyle C_{2201} =  0\\)</html>"
      ],
      "text/latex": [
       "$\\displaystyle C_{2201} =  0$"
      ],
      "text/plain": [
       "C_{2201} =  0"
      ]
     },
     "metadata": {},
     "output_type": "display_data"
    },
    {
     "data": {
      "text/html": [
       "<html>\\(\\displaystyle C_{2202} =  0\\)</html>"
      ],
      "text/latex": [
       "$\\displaystyle C_{2202} =  0$"
      ],
      "text/plain": [
       "C_{2202} =  0"
      ]
     },
     "metadata": {},
     "output_type": "display_data"
    },
    {
     "data": {
      "text/html": [
       "<html>\\(\\displaystyle C_{2203} =  0\\)</html>"
      ],
      "text/latex": [
       "$\\displaystyle C_{2203} =  0$"
      ],
      "text/plain": [
       "C_{2203} =  0"
      ]
     },
     "metadata": {},
     "output_type": "display_data"
    },
    {
     "data": {
      "text/html": [
       "<html>\\(\\displaystyle C_{2210} =  0\\)</html>"
      ],
      "text/latex": [
       "$\\displaystyle C_{2210} =  0$"
      ],
      "text/plain": [
       "C_{2210} =  0"
      ]
     },
     "metadata": {},
     "output_type": "display_data"
    },
    {
     "data": {
      "text/html": [
       "<html>\\(\\displaystyle C_{2211} =  0\\)</html>"
      ],
      "text/latex": [
       "$\\displaystyle C_{2211} =  0$"
      ],
      "text/plain": [
       "C_{2211} =  0"
      ]
     },
     "metadata": {},
     "output_type": "display_data"
    },
    {
     "data": {
      "text/html": [
       "<html>\\(\\displaystyle C_{2212} =  0\\)</html>"
      ],
      "text/latex": [
       "$\\displaystyle C_{2212} =  0$"
      ],
      "text/plain": [
       "C_{2212} =  0"
      ]
     },
     "metadata": {},
     "output_type": "display_data"
    },
    {
     "data": {
      "text/html": [
       "<html>\\(\\displaystyle C_{2213} =  0\\)</html>"
      ],
      "text/latex": [
       "$\\displaystyle C_{2213} =  0$"
      ],
      "text/plain": [
       "C_{2213} =  0"
      ]
     },
     "metadata": {},
     "output_type": "display_data"
    },
    {
     "data": {
      "text/html": [
       "<html>\\(\\displaystyle C_{2220} =  0\\)</html>"
      ],
      "text/latex": [
       "$\\displaystyle C_{2220} =  0$"
      ],
      "text/plain": [
       "C_{2220} =  0"
      ]
     },
     "metadata": {},
     "output_type": "display_data"
    },
    {
     "data": {
      "text/html": [
       "<html>\\(\\displaystyle C_{2221} =  0\\)</html>"
      ],
      "text/latex": [
       "$\\displaystyle C_{2221} =  0$"
      ],
      "text/plain": [
       "C_{2221} =  0"
      ]
     },
     "metadata": {},
     "output_type": "display_data"
    },
    {
     "data": {
      "text/html": [
       "<html>\\(\\displaystyle C_{2222} =  0\\)</html>"
      ],
      "text/latex": [
       "$\\displaystyle C_{2222} =  0$"
      ],
      "text/plain": [
       "C_{2222} =  0"
      ]
     },
     "metadata": {},
     "output_type": "display_data"
    },
    {
     "data": {
      "text/html": [
       "<html>\\(\\displaystyle C_{2223} =  0\\)</html>"
      ],
      "text/latex": [
       "$\\displaystyle C_{2223} =  0$"
      ],
      "text/plain": [
       "C_{2223} =  0"
      ]
     },
     "metadata": {},
     "output_type": "display_data"
    },
    {
     "data": {
      "text/html": [
       "<html>\\(\\displaystyle C_{2230} =  0\\)</html>"
      ],
      "text/latex": [
       "$\\displaystyle C_{2230} =  0$"
      ],
      "text/plain": [
       "C_{2230} =  0"
      ]
     },
     "metadata": {},
     "output_type": "display_data"
    },
    {
     "data": {
      "text/html": [
       "<html>\\(\\displaystyle C_{2231} =  0\\)</html>"
      ],
      "text/latex": [
       "$\\displaystyle C_{2231} =  0$"
      ],
      "text/plain": [
       "C_{2231} =  0"
      ]
     },
     "metadata": {},
     "output_type": "display_data"
    },
    {
     "data": {
      "text/html": [
       "<html>\\(\\displaystyle C_{2232} =  0\\)</html>"
      ],
      "text/latex": [
       "$\\displaystyle C_{2232} =  0$"
      ],
      "text/plain": [
       "C_{2232} =  0"
      ]
     },
     "metadata": {},
     "output_type": "display_data"
    },
    {
     "data": {
      "text/html": [
       "<html>\\(\\displaystyle C_{2233} =  0\\)</html>"
      ],
      "text/latex": [
       "$\\displaystyle C_{2233} =  0$"
      ],
      "text/plain": [
       "C_{2233} =  0"
      ]
     },
     "metadata": {},
     "output_type": "display_data"
    },
    {
     "data": {
      "text/html": [
       "<html>\\(\\displaystyle C_{2300} =  0\\)</html>"
      ],
      "text/latex": [
       "$\\displaystyle C_{2300} =  0$"
      ],
      "text/plain": [
       "C_{2300} =  0"
      ]
     },
     "metadata": {},
     "output_type": "display_data"
    },
    {
     "data": {
      "text/html": [
       "<html>\\(\\displaystyle C_{2301} =  \\frac{{\\left(35 \\, r r_{m} + 39 \\, r r_{p} - 48 \\, r_{m} r_{p}\\right)} a \\left(\\frac{r - r_{m}}{r}\\right)^{\\frac{2}{13}} \\cos\\left({\\theta}\\right) \\sin\\left({\\theta}\\right)}{13 \\, r^{3}}\\)</html>"
      ],
      "text/latex": [
       "$\\displaystyle C_{2301} =  \\frac{{\\left(35 \\, r r_{m} + 39 \\, r r_{p} - 48 \\, r_{m} r_{p}\\right)} a \\left(\\frac{r - r_{m}}{r}\\right)^{\\frac{2}{13}} \\cos\\left({\\theta}\\right) \\sin\\left({\\theta}\\right)}{13 \\, r^{3}}$"
      ],
      "text/plain": [
       "C_{2301} =  1/13*(35*r*r_m + 39*r*r_p - 48*r_m*r_p)*a*((r - r_m)/r)^(2/13)*cos(th)*sin(th)/r^3"
      ]
     },
     "metadata": {},
     "output_type": "display_data"
    },
    {
     "data": {
      "text/html": [
       "<html>\\(\\displaystyle C_{2302} =  -\\frac{{\\left(48334 \\, a r^{5} r_{m} - 13858 \\, a r^{4} r_{m}^{2} - 49491 \\, a r^{3} r_{m}^{3} + 13860 \\, a r^{2} r_{m}^{4} + 99 \\, {\\left(169 \\, a r^{2} r_{m}^{2} - 468 \\, a r r_{m}^{3} + 296 \\, a r_{m}^{4}\\right)} r_{p}^{2} + {\\left(57122 \\, a r^{5} - 118638 \\, a r^{4} r_{m} - 26195 \\, a r^{3} r_{m}^{2} + 132327 \\, a r^{2} r_{m}^{3} - 43164 \\, a r r_{m}^{4}\\right)} r_{p}\\right)} {\\left(r - r_{m}\\right)}^{\\frac{9}{13}} \\sin\\left({\\theta}\\right)^{2} - 338 \\, {\\left(143 \\, a r^{5} r_{m} - 140 \\, a r^{4} r_{m}^{2} + {\\left(169 \\, a r^{5} - 468 \\, a r^{4} r_{m} + 296 \\, a r^{3} r_{m}^{2}\\right)} r_{p}\\right)} r^{\\frac{9}{13}} \\sin\\left({\\theta}\\right)^{2}}{33462 \\, {\\left(r - r_{m}\\right)}^{\\frac{7}{13}} r^{\\frac{54}{13}} r_{m}^{2}}\\)</html>"
      ],
      "text/latex": [
       "$\\displaystyle C_{2302} =  -\\frac{{\\left(48334 \\, a r^{5} r_{m} - 13858 \\, a r^{4} r_{m}^{2} - 49491 \\, a r^{3} r_{m}^{3} + 13860 \\, a r^{2} r_{m}^{4} + 99 \\, {\\left(169 \\, a r^{2} r_{m}^{2} - 468 \\, a r r_{m}^{3} + 296 \\, a r_{m}^{4}\\right)} r_{p}^{2} + {\\left(57122 \\, a r^{5} - 118638 \\, a r^{4} r_{m} - 26195 \\, a r^{3} r_{m}^{2} + 132327 \\, a r^{2} r_{m}^{3} - 43164 \\, a r r_{m}^{4}\\right)} r_{p}\\right)} {\\left(r - r_{m}\\right)}^{\\frac{9}{13}} \\sin\\left({\\theta}\\right)^{2} - 338 \\, {\\left(143 \\, a r^{5} r_{m} - 140 \\, a r^{4} r_{m}^{2} + {\\left(169 \\, a r^{5} - 468 \\, a r^{4} r_{m} + 296 \\, a r^{3} r_{m}^{2}\\right)} r_{p}\\right)} r^{\\frac{9}{13}} \\sin\\left({\\theta}\\right)^{2}}{33462 \\, {\\left(r - r_{m}\\right)}^{\\frac{7}{13}} r^{\\frac{54}{13}} r_{m}^{2}}$"
      ],
      "text/plain": [
       "C_{2302} =  -1/33462*((48334*a*r^5*r_m - 13858*a*r^4*r_m^2 - 49491*a*r^3*r_m^3 + 13860*a*r^2*r_m^4 + 99*(169*a*r^2*r_m^2 - 468*a*r*r_m^3 + 296*a*r_m^4)*r_p^2 + (57122*a*r^5 - 118638*a*r^4*r_m - 26195*a*r^3*r_m^2 + 132327*a*r^2*r_m^3 - 43164*a*r*r_m^4)*r_p)*(r - r_m)^(9/13)*sin(th)^2 - 338*(143*a*r^5*r_m - 140*a*r^4*r_m^2 + (169*a*r^5 - 468*a*r^4*r_m + 296*a*r^3*r_m^2)*r_p)*r^(9/13)*sin(th)^2)/((r - r_m)^(7/13)*r^(54/13)*r_m^2)"
      ]
     },
     "metadata": {},
     "output_type": "display_data"
    },
    {
     "data": {
      "text/html": [
       "<html>\\(\\displaystyle C_{2303} =  0\\)</html>"
      ],
      "text/latex": [
       "$\\displaystyle C_{2303} =  0$"
      ],
      "text/plain": [
       "C_{2303} =  0"
      ]
     },
     "metadata": {},
     "output_type": "display_data"
    },
    {
     "data": {
      "text/html": [
       "<html>\\(\\displaystyle C_{2310} =  -\\frac{{\\left(35 \\, a r r_{m} + 3 \\, {\\left(13 \\, a r - 16 \\, a r_{m}\\right)} r_{p}\\right)} {\\left(r - r_{m}\\right)}^{\\frac{2}{13}} \\cos\\left({\\theta}\\right) \\sin\\left({\\theta}\\right)}{13 \\, r^{\\frac{41}{13}}}\\)</html>"
      ],
      "text/latex": [
       "$\\displaystyle C_{2310} =  -\\frac{{\\left(35 \\, a r r_{m} + 3 \\, {\\left(13 \\, a r - 16 \\, a r_{m}\\right)} r_{p}\\right)} {\\left(r - r_{m}\\right)}^{\\frac{2}{13}} \\cos\\left({\\theta}\\right) \\sin\\left({\\theta}\\right)}{13 \\, r^{\\frac{41}{13}}}$"
      ],
      "text/plain": [
       "C_{2310} =  -1/13*(35*a*r*r_m + 3*(13*a*r - 16*a*r_m)*r_p)*(r - r_m)^(2/13)*cos(th)*sin(th)/r^(41/13)"
      ]
     },
     "metadata": {},
     "output_type": "display_data"
    },
    {
     "data": {
      "text/html": [
       "<html>\\(\\displaystyle C_{2311} =  0\\)</html>"
      ],
      "text/latex": [
       "$\\displaystyle C_{2311} =  0$"
      ],
      "text/plain": [
       "C_{2311} =  0"
      ]
     },
     "metadata": {},
     "output_type": "display_data"
    },
    {
     "data": {
      "text/html": [
       "<html>\\(\\displaystyle C_{2312} =  0\\)</html>"
      ],
      "text/latex": [
       "$\\displaystyle C_{2312} =  0$"
      ],
      "text/plain": [
       "C_{2312} =  0"
      ]
     },
     "metadata": {},
     "output_type": "display_data"
    },
    {
     "data": {
      "text/html": [
       "<html>\\(\\displaystyle C_{2313} =  0\\)</html>"
      ],
      "text/latex": [
       "$\\displaystyle C_{2313} =  0$"
      ],
      "text/plain": [
       "C_{2313} =  0"
      ]
     },
     "metadata": {},
     "output_type": "display_data"
    },
    {
     "data": {
      "text/html": [
       "<html>\\(\\displaystyle C_{2320} =  \\frac{{\\left(48334 \\, a r^{5} r_{m} - 13858 \\, a r^{4} r_{m}^{2} - 49491 \\, a r^{3} r_{m}^{3} + 13860 \\, a r^{2} r_{m}^{4} + 99 \\, {\\left(169 \\, a r^{2} r_{m}^{2} - 468 \\, a r r_{m}^{3} + 296 \\, a r_{m}^{4}\\right)} r_{p}^{2} + {\\left(57122 \\, a r^{5} - 118638 \\, a r^{4} r_{m} - 26195 \\, a r^{3} r_{m}^{2} + 132327 \\, a r^{2} r_{m}^{3} - 43164 \\, a r r_{m}^{4}\\right)} r_{p}\\right)} {\\left(r - r_{m}\\right)}^{\\frac{9}{13}} \\sin\\left({\\theta}\\right)^{2} - 338 \\, {\\left(143 \\, a r^{5} r_{m} - 140 \\, a r^{4} r_{m}^{2} + {\\left(169 \\, a r^{5} - 468 \\, a r^{4} r_{m} + 296 \\, a r^{3} r_{m}^{2}\\right)} r_{p}\\right)} r^{\\frac{9}{13}} \\sin\\left({\\theta}\\right)^{2}}{33462 \\, {\\left(r - r_{m}\\right)}^{\\frac{7}{13}} r^{\\frac{54}{13}} r_{m}^{2}}\\)</html>"
      ],
      "text/latex": [
       "$\\displaystyle C_{2320} =  \\frac{{\\left(48334 \\, a r^{5} r_{m} - 13858 \\, a r^{4} r_{m}^{2} - 49491 \\, a r^{3} r_{m}^{3} + 13860 \\, a r^{2} r_{m}^{4} + 99 \\, {\\left(169 \\, a r^{2} r_{m}^{2} - 468 \\, a r r_{m}^{3} + 296 \\, a r_{m}^{4}\\right)} r_{p}^{2} + {\\left(57122 \\, a r^{5} - 118638 \\, a r^{4} r_{m} - 26195 \\, a r^{3} r_{m}^{2} + 132327 \\, a r^{2} r_{m}^{3} - 43164 \\, a r r_{m}^{4}\\right)} r_{p}\\right)} {\\left(r - r_{m}\\right)}^{\\frac{9}{13}} \\sin\\left({\\theta}\\right)^{2} - 338 \\, {\\left(143 \\, a r^{5} r_{m} - 140 \\, a r^{4} r_{m}^{2} + {\\left(169 \\, a r^{5} - 468 \\, a r^{4} r_{m} + 296 \\, a r^{3} r_{m}^{2}\\right)} r_{p}\\right)} r^{\\frac{9}{13}} \\sin\\left({\\theta}\\right)^{2}}{33462 \\, {\\left(r - r_{m}\\right)}^{\\frac{7}{13}} r^{\\frac{54}{13}} r_{m}^{2}}$"
      ],
      "text/plain": [
       "C_{2320} =  1/33462*((48334*a*r^5*r_m - 13858*a*r^4*r_m^2 - 49491*a*r^3*r_m^3 + 13860*a*r^2*r_m^4 + 99*(169*a*r^2*r_m^2 - 468*a*r*r_m^3 + 296*a*r_m^4)*r_p^2 + (57122*a*r^5 - 118638*a*r^4*r_m - 26195*a*r^3*r_m^2 + 132327*a*r^2*r_m^3 - 43164*a*r*r_m^4)*r_p)*(r - r_m)^(9/13)*sin(th)^2 - 338*(143*a*r^5*r_m - 140*a*r^4*r_m^2 + (169*a*r^5 - 468*a*r^4*r_m + 296*a*r^3*r_m^2)*r_p)*r^(9/13)*sin(th)^2)/((r - r_m)^(7/13)*r^(54/13)*r_m^2)"
      ]
     },
     "metadata": {},
     "output_type": "display_data"
    },
    {
     "data": {
      "text/html": [
       "<html>\\(\\displaystyle C_{2321} =  0\\)</html>"
      ],
      "text/latex": [
       "$\\displaystyle C_{2321} =  0$"
      ],
      "text/plain": [
       "C_{2321} =  0"
      ]
     },
     "metadata": {},
     "output_type": "display_data"
    },
    {
     "data": {
      "text/html": [
       "<html>\\(\\displaystyle C_{2322} =  0\\)</html>"
      ],
      "text/latex": [
       "$\\displaystyle C_{2322} =  0$"
      ],
      "text/plain": [
       "C_{2322} =  0"
      ]
     },
     "metadata": {},
     "output_type": "display_data"
    },
    {
     "data": {
      "text/html": [
       "<html>\\(\\displaystyle C_{2323} =  \\frac{{\\left(143 \\, r^{2} r_{m} - 140 \\, r r_{m}^{2} + {\\left(169 \\, r^{2} - 468 \\, r r_{m} + 296 \\, r_{m}^{2}\\right)} r_{p}\\right)} \\sin\\left({\\theta}\\right)^{2}}{169 \\, {\\left(r - r_{m}\\right)}^{\\frac{7}{13}} r^{\\frac{6}{13}}}\\)</html>"
      ],
      "text/latex": [
       "$\\displaystyle C_{2323} =  \\frac{{\\left(143 \\, r^{2} r_{m} - 140 \\, r r_{m}^{2} + {\\left(169 \\, r^{2} - 468 \\, r r_{m} + 296 \\, r_{m}^{2}\\right)} r_{p}\\right)} \\sin\\left({\\theta}\\right)^{2}}{169 \\, {\\left(r - r_{m}\\right)}^{\\frac{7}{13}} r^{\\frac{6}{13}}}$"
      ],
      "text/plain": [
       "C_{2323} =  1/169*(143*r^2*r_m - 140*r*r_m^2 + (169*r^2 - 468*r*r_m + 296*r_m^2)*r_p)*sin(th)^2/((r - r_m)^(7/13)*r^(6/13))"
      ]
     },
     "metadata": {},
     "output_type": "display_data"
    },
    {
     "data": {
      "text/html": [
       "<html>\\(\\displaystyle C_{2330} =  0\\)</html>"
      ],
      "text/latex": [
       "$\\displaystyle C_{2330} =  0$"
      ],
      "text/plain": [
       "C_{2330} =  0"
      ]
     },
     "metadata": {},
     "output_type": "display_data"
    },
    {
     "data": {
      "text/html": [
       "<html>\\(\\displaystyle C_{2331} =  0\\)</html>"
      ],
      "text/latex": [
       "$\\displaystyle C_{2331} =  0$"
      ],
      "text/plain": [
       "C_{2331} =  0"
      ]
     },
     "metadata": {},
     "output_type": "display_data"
    },
    {
     "data": {
      "text/html": [
       "<html>\\(\\displaystyle C_{2332} =  -\\frac{{\\left(143 \\, r^{2} r_{m} - 140 \\, r r_{m}^{2} + {\\left(169 \\, r^{2} - 468 \\, r r_{m} + 296 \\, r_{m}^{2}\\right)} r_{p}\\right)} \\sin\\left({\\theta}\\right)^{2}}{169 \\, {\\left(r - r_{m}\\right)}^{\\frac{7}{13}} r^{\\frac{6}{13}}}\\)</html>"
      ],
      "text/latex": [
       "$\\displaystyle C_{2332} =  -\\frac{{\\left(143 \\, r^{2} r_{m} - 140 \\, r r_{m}^{2} + {\\left(169 \\, r^{2} - 468 \\, r r_{m} + 296 \\, r_{m}^{2}\\right)} r_{p}\\right)} \\sin\\left({\\theta}\\right)^{2}}{169 \\, {\\left(r - r_{m}\\right)}^{\\frac{7}{13}} r^{\\frac{6}{13}}}$"
      ],
      "text/plain": [
       "C_{2332} =  -1/169*(143*r^2*r_m - 140*r*r_m^2 + (169*r^2 - 468*r*r_m + 296*r_m^2)*r_p)*sin(th)^2/((r - r_m)^(7/13)*r^(6/13))"
      ]
     },
     "metadata": {},
     "output_type": "display_data"
    },
    {
     "data": {
      "text/html": [
       "<html>\\(\\displaystyle C_{2333} =  0\\)</html>"
      ],
      "text/latex": [
       "$\\displaystyle C_{2333} =  0$"
      ],
      "text/plain": [
       "C_{2333} =  0"
      ]
     },
     "metadata": {},
     "output_type": "display_data"
    },
    {
     "data": {
      "text/html": [
       "<html>\\(\\displaystyle C_{3000} =  0\\)</html>"
      ],
      "text/latex": [
       "$\\displaystyle C_{3000} =  0$"
      ],
      "text/plain": [
       "C_{3000} =  0"
      ]
     },
     "metadata": {},
     "output_type": "display_data"
    },
    {
     "data": {
      "text/html": [
       "<html>\\(\\displaystyle C_{3001} =  0\\)</html>"
      ],
      "text/latex": [
       "$\\displaystyle C_{3001} =  0$"
      ],
      "text/plain": [
       "C_{3001} =  0"
      ]
     },
     "metadata": {},
     "output_type": "display_data"
    },
    {
     "data": {
      "text/html": [
       "<html>\\(\\displaystyle C_{3002} =  0\\)</html>"
      ],
      "text/latex": [
       "$\\displaystyle C_{3002} =  0$"
      ],
      "text/plain": [
       "C_{3002} =  0"
      ]
     },
     "metadata": {},
     "output_type": "display_data"
    },
    {
     "data": {
      "text/html": [
       "<html>\\(\\displaystyle C_{3003} =  -\\frac{{\\left(143 \\, r^{3} r_{m} - 140 \\, r^{2} r_{m}^{2} - {\\left(169 \\, r^{2} - 468 \\, r r_{m} + 296 \\, r_{m}^{2}\\right)} r_{p}^{2} + {\\left(169 \\, r^{3} - 611 \\, r^{2} r_{m} + 436 \\, r r_{m}^{2}\\right)} r_{p}\\right)} {\\left(r - r_{m}\\right)}^{\\frac{2}{13}} \\sin\\left({\\theta}\\right)^{2}}{338 \\, r^{\\frac{54}{13}}}\\)</html>"
      ],
      "text/latex": [
       "$\\displaystyle C_{3003} =  -\\frac{{\\left(143 \\, r^{3} r_{m} - 140 \\, r^{2} r_{m}^{2} - {\\left(169 \\, r^{2} - 468 \\, r r_{m} + 296 \\, r_{m}^{2}\\right)} r_{p}^{2} + {\\left(169 \\, r^{3} - 611 \\, r^{2} r_{m} + 436 \\, r r_{m}^{2}\\right)} r_{p}\\right)} {\\left(r - r_{m}\\right)}^{\\frac{2}{13}} \\sin\\left({\\theta}\\right)^{2}}{338 \\, r^{\\frac{54}{13}}}$"
      ],
      "text/plain": [
       "C_{3003} =  -1/338*(143*r^3*r_m - 140*r^2*r_m^2 - (169*r^2 - 468*r*r_m + 296*r_m^2)*r_p^2 + (169*r^3 - 611*r^2*r_m + 436*r*r_m^2)*r_p)*(r - r_m)^(2/13)*sin(th)^2/r^(54/13)"
      ]
     },
     "metadata": {},
     "output_type": "display_data"
    },
    {
     "data": {
      "text/html": [
       "<html>\\(\\displaystyle C_{3010} =  0\\)</html>"
      ],
      "text/latex": [
       "$\\displaystyle C_{3010} =  0$"
      ],
      "text/plain": [
       "C_{3010} =  0"
      ]
     },
     "metadata": {},
     "output_type": "display_data"
    },
    {
     "data": {
      "text/html": [
       "<html>\\(\\displaystyle C_{3011} =  0\\)</html>"
      ],
      "text/latex": [
       "$\\displaystyle C_{3011} =  0$"
      ],
      "text/plain": [
       "C_{3011} =  0"
      ]
     },
     "metadata": {},
     "output_type": "display_data"
    },
    {
     "data": {
      "text/html": [
       "<html>\\(\\displaystyle C_{3012} =  \\frac{{\\left(35 \\, r r_{m} + 39 \\, r r_{p} - 48 \\, r_{m} r_{p}\\right)} a \\left(\\frac{r - r_{m}}{r}\\right)^{\\frac{15}{13}} \\cos\\left({\\theta}\\right) \\sin\\left({\\theta}\\right)}{26 \\, {\\left(r - r_{m}\\right)} r^{2}}\\)</html>"
      ],
      "text/latex": [
       "$\\displaystyle C_{3012} =  \\frac{{\\left(35 \\, r r_{m} + 39 \\, r r_{p} - 48 \\, r_{m} r_{p}\\right)} a \\left(\\frac{r - r_{m}}{r}\\right)^{\\frac{15}{13}} \\cos\\left({\\theta}\\right) \\sin\\left({\\theta}\\right)}{26 \\, {\\left(r - r_{m}\\right)} r^{2}}$"
      ],
      "text/plain": [
       "C_{3012} =  1/26*(35*r*r_m + 39*r*r_p - 48*r_m*r_p)*a*((r - r_m)/r)^(15/13)*cos(th)*sin(th)/((r - r_m)*r^2)"
      ]
     },
     "metadata": {},
     "output_type": "display_data"
    },
    {
     "data": {
      "text/html": [
       "<html>\\(\\displaystyle C_{3013} =  0\\)</html>"
      ],
      "text/latex": [
       "$\\displaystyle C_{3013} =  0$"
      ],
      "text/plain": [
       "C_{3013} =  0"
      ]
     },
     "metadata": {},
     "output_type": "display_data"
    },
    {
     "data": {
      "text/html": [
       "<html>\\(\\displaystyle C_{3020} =  0\\)</html>"
      ],
      "text/latex": [
       "$\\displaystyle C_{3020} =  0$"
      ],
      "text/plain": [
       "C_{3020} =  0"
      ]
     },
     "metadata": {},
     "output_type": "display_data"
    },
    {
     "data": {
      "text/html": [
       "<html>\\(\\displaystyle C_{3021} =  -\\frac{{\\left(35 \\, a r r_{m} + 3 \\, {\\left(13 \\, a r - 16 \\, a r_{m}\\right)} r_{p}\\right)} {\\left(r - r_{m}\\right)}^{\\frac{2}{13}} \\cos\\left({\\theta}\\right) \\sin\\left({\\theta}\\right)}{26 \\, r^{\\frac{41}{13}}}\\)</html>"
      ],
      "text/latex": [
       "$\\displaystyle C_{3021} =  -\\frac{{\\left(35 \\, a r r_{m} + 3 \\, {\\left(13 \\, a r - 16 \\, a r_{m}\\right)} r_{p}\\right)} {\\left(r - r_{m}\\right)}^{\\frac{2}{13}} \\cos\\left({\\theta}\\right) \\sin\\left({\\theta}\\right)}{26 \\, r^{\\frac{41}{13}}}$"
      ],
      "text/plain": [
       "C_{3021} =  -1/26*(35*a*r*r_m + 3*(13*a*r - 16*a*r_m)*r_p)*(r - r_m)^(2/13)*cos(th)*sin(th)/r^(41/13)"
      ]
     },
     "metadata": {},
     "output_type": "display_data"
    },
    {
     "data": {
      "text/html": [
       "<html>\\(\\displaystyle C_{3022} =  0\\)</html>"
      ],
      "text/latex": [
       "$\\displaystyle C_{3022} =  0$"
      ],
      "text/plain": [
       "C_{3022} =  0"
      ]
     },
     "metadata": {},
     "output_type": "display_data"
    },
    {
     "data": {
      "text/html": [
       "<html>\\(\\displaystyle C_{3023} =  0\\)</html>"
      ],
      "text/latex": [
       "$\\displaystyle C_{3023} =  0$"
      ],
      "text/plain": [
       "C_{3023} =  0"
      ]
     },
     "metadata": {},
     "output_type": "display_data"
    },
    {
     "data": {
      "text/html": [
       "<html>\\(\\displaystyle C_{3030} =  \\frac{{\\left(143 \\, r^{3} r_{m} - 140 \\, r^{2} r_{m}^{2} - {\\left(169 \\, r^{2} - 468 \\, r r_{m} + 296 \\, r_{m}^{2}\\right)} r_{p}^{2} + {\\left(169 \\, r^{3} - 611 \\, r^{2} r_{m} + 436 \\, r r_{m}^{2}\\right)} r_{p}\\right)} {\\left(r - r_{m}\\right)}^{\\frac{2}{13}} \\sin\\left({\\theta}\\right)^{2}}{338 \\, r^{\\frac{54}{13}}}\\)</html>"
      ],
      "text/latex": [
       "$\\displaystyle C_{3030} =  \\frac{{\\left(143 \\, r^{3} r_{m} - 140 \\, r^{2} r_{m}^{2} - {\\left(169 \\, r^{2} - 468 \\, r r_{m} + 296 \\, r_{m}^{2}\\right)} r_{p}^{2} + {\\left(169 \\, r^{3} - 611 \\, r^{2} r_{m} + 436 \\, r r_{m}^{2}\\right)} r_{p}\\right)} {\\left(r - r_{m}\\right)}^{\\frac{2}{13}} \\sin\\left({\\theta}\\right)^{2}}{338 \\, r^{\\frac{54}{13}}}$"
      ],
      "text/plain": [
       "C_{3030} =  1/338*(143*r^3*r_m - 140*r^2*r_m^2 - (169*r^2 - 468*r*r_m + 296*r_m^2)*r_p^2 + (169*r^3 - 611*r^2*r_m + 436*r*r_m^2)*r_p)*(r - r_m)^(2/13)*sin(th)^2/r^(54/13)"
      ]
     },
     "metadata": {},
     "output_type": "display_data"
    },
    {
     "data": {
      "text/html": [
       "<html>\\(\\displaystyle C_{3031} =  0\\)</html>"
      ],
      "text/latex": [
       "$\\displaystyle C_{3031} =  0$"
      ],
      "text/plain": [
       "C_{3031} =  0"
      ]
     },
     "metadata": {},
     "output_type": "display_data"
    },
    {
     "data": {
      "text/html": [
       "<html>\\(\\displaystyle C_{3032} =  0\\)</html>"
      ],
      "text/latex": [
       "$\\displaystyle C_{3032} =  0$"
      ],
      "text/plain": [
       "C_{3032} =  0"
      ]
     },
     "metadata": {},
     "output_type": "display_data"
    },
    {
     "data": {
      "text/html": [
       "<html>\\(\\displaystyle C_{3033} =  0\\)</html>"
      ],
      "text/latex": [
       "$\\displaystyle C_{3033} =  0$"
      ],
      "text/plain": [
       "C_{3033} =  0"
      ]
     },
     "metadata": {},
     "output_type": "display_data"
    },
    {
     "data": {
      "text/html": [
       "<html>\\(\\displaystyle C_{3100} =  0\\)</html>"
      ],
      "text/latex": [
       "$\\displaystyle C_{3100} =  0$"
      ],
      "text/plain": [
       "C_{3100} =  0"
      ]
     },
     "metadata": {},
     "output_type": "display_data"
    },
    {
     "data": {
      "text/html": [
       "<html>\\(\\displaystyle C_{3101} =  -\\frac{{\\left(24167 \\, a r^{5} r_{m} - 6929 \\, a r^{4} r_{m}^{2} - 47268 \\, a r^{3} r_{m}^{3} + 27720 \\, a r^{2} r_{m}^{4} + 198 \\, {\\left(169 \\, a r^{2} r_{m}^{2} - 468 \\, a r r_{m}^{3} + 296 \\, a r_{m}^{4}\\right)} r_{p}^{2} + {\\left(28561 \\, a r^{5} - 59319 \\, a r^{4} r_{m} - 38194 \\, a r^{3} r_{m}^{2} + 158184 \\, a r^{2} r_{m}^{3} - 86328 \\, a r r_{m}^{4}\\right)} r_{p}\\right)} {\\left(r - r_{m}\\right)}^{\\frac{9}{13}} \\sin\\left({\\theta}\\right)^{2} - 169 \\, {\\left(143 \\, a r^{5} r_{m} - 140 \\, a r^{4} r_{m}^{2} + {\\left(169 \\, a r^{5} - 468 \\, a r^{4} r_{m} + 296 \\, a r^{3} r_{m}^{2}\\right)} r_{p}\\right)} r^{\\frac{9}{13}} \\sin\\left({\\theta}\\right)^{2}}{33462 \\, {\\left(r^{6} r_{m}^{2} - r^{5} r_{m}^{3} - {\\left(r^{5} r_{m}^{2} - r^{4} r_{m}^{3}\\right)} r_{p}\\right)} {\\left(r - r_{m}\\right)}^{\\frac{7}{13}} r^{\\frac{2}{13}}}\\)</html>"
      ],
      "text/latex": [
       "$\\displaystyle C_{3101} =  -\\frac{{\\left(24167 \\, a r^{5} r_{m} - 6929 \\, a r^{4} r_{m}^{2} - 47268 \\, a r^{3} r_{m}^{3} + 27720 \\, a r^{2} r_{m}^{4} + 198 \\, {\\left(169 \\, a r^{2} r_{m}^{2} - 468 \\, a r r_{m}^{3} + 296 \\, a r_{m}^{4}\\right)} r_{p}^{2} + {\\left(28561 \\, a r^{5} - 59319 \\, a r^{4} r_{m} - 38194 \\, a r^{3} r_{m}^{2} + 158184 \\, a r^{2} r_{m}^{3} - 86328 \\, a r r_{m}^{4}\\right)} r_{p}\\right)} {\\left(r - r_{m}\\right)}^{\\frac{9}{13}} \\sin\\left({\\theta}\\right)^{2} - 169 \\, {\\left(143 \\, a r^{5} r_{m} - 140 \\, a r^{4} r_{m}^{2} + {\\left(169 \\, a r^{5} - 468 \\, a r^{4} r_{m} + 296 \\, a r^{3} r_{m}^{2}\\right)} r_{p}\\right)} r^{\\frac{9}{13}} \\sin\\left({\\theta}\\right)^{2}}{33462 \\, {\\left(r^{6} r_{m}^{2} - r^{5} r_{m}^{3} - {\\left(r^{5} r_{m}^{2} - r^{4} r_{m}^{3}\\right)} r_{p}\\right)} {\\left(r - r_{m}\\right)}^{\\frac{7}{13}} r^{\\frac{2}{13}}}$"
      ],
      "text/plain": [
       "C_{3101} =  -1/33462*((24167*a*r^5*r_m - 6929*a*r^4*r_m^2 - 47268*a*r^3*r_m^3 + 27720*a*r^2*r_m^4 + 198*(169*a*r^2*r_m^2 - 468*a*r*r_m^3 + 296*a*r_m^4)*r_p^2 + (28561*a*r^5 - 59319*a*r^4*r_m - 38194*a*r^3*r_m^2 + 158184*a*r^2*r_m^3 - 86328*a*r*r_m^4)*r_p)*(r - r_m)^(9/13)*sin(th)^2 - 169*(143*a*r^5*r_m - 140*a*r^4*r_m^2 + (169*a*r^5 - 468*a*r^4*r_m + 296*a*r^3*r_m^2)*r_p)*r^(9/13)*sin(th)^2)/((r^6*r_m^2 - r^5*r_m^3 - (r^5*r_m^2 - r^4*r_m^3)*r_p)*(r - r_m)^(7/13)*r^(2/13))"
      ]
     },
     "metadata": {},
     "output_type": "display_data"
    },
    {
     "data": {
      "text/html": [
       "<html>\\(\\displaystyle C_{3102} =  -\\frac{{\\left(35 \\, r r_{m} + 39 \\, r r_{p} - 48 \\, r_{m} r_{p}\\right)} a \\left(\\frac{r - r_{m}}{r}\\right)^{\\frac{2}{13}} \\cos\\left({\\theta}\\right) \\sin\\left({\\theta}\\right)}{26 \\, r^{3}}\\)</html>"
      ],
      "text/latex": [
       "$\\displaystyle C_{3102} =  -\\frac{{\\left(35 \\, r r_{m} + 39 \\, r r_{p} - 48 \\, r_{m} r_{p}\\right)} a \\left(\\frac{r - r_{m}}{r}\\right)^{\\frac{2}{13}} \\cos\\left({\\theta}\\right) \\sin\\left({\\theta}\\right)}{26 \\, r^{3}}$"
      ],
      "text/plain": [
       "C_{3102} =  -1/26*(35*r*r_m + 39*r*r_p - 48*r_m*r_p)*a*((r - r_m)/r)^(2/13)*cos(th)*sin(th)/r^3"
      ]
     },
     "metadata": {},
     "output_type": "display_data"
    },
    {
     "data": {
      "text/html": [
       "<html>\\(\\displaystyle C_{3103} =  0\\)</html>"
      ],
      "text/latex": [
       "$\\displaystyle C_{3103} =  0$"
      ],
      "text/plain": [
       "C_{3103} =  0"
      ]
     },
     "metadata": {},
     "output_type": "display_data"
    },
    {
     "data": {
      "text/html": [
       "<html>\\(\\displaystyle C_{3110} =  \\frac{{\\left(24167 \\, a r^{5} r_{m} - 6929 \\, a r^{4} r_{m}^{2} - 47268 \\, a r^{3} r_{m}^{3} + 27720 \\, a r^{2} r_{m}^{4} + 198 \\, {\\left(169 \\, a r^{2} r_{m}^{2} - 468 \\, a r r_{m}^{3} + 296 \\, a r_{m}^{4}\\right)} r_{p}^{2} + {\\left(28561 \\, a r^{5} - 59319 \\, a r^{4} r_{m} - 38194 \\, a r^{3} r_{m}^{2} + 158184 \\, a r^{2} r_{m}^{3} - 86328 \\, a r r_{m}^{4}\\right)} r_{p}\\right)} {\\left(r - r_{m}\\right)}^{\\frac{9}{13}} \\sin\\left({\\theta}\\right)^{2} - 169 \\, {\\left(143 \\, a r^{5} r_{m} - 140 \\, a r^{4} r_{m}^{2} + {\\left(169 \\, a r^{5} - 468 \\, a r^{4} r_{m} + 296 \\, a r^{3} r_{m}^{2}\\right)} r_{p}\\right)} r^{\\frac{9}{13}} \\sin\\left({\\theta}\\right)^{2}}{33462 \\, {\\left(r^{6} r_{m}^{2} - r^{5} r_{m}^{3} - {\\left(r^{5} r_{m}^{2} - r^{4} r_{m}^{3}\\right)} r_{p}\\right)} {\\left(r - r_{m}\\right)}^{\\frac{7}{13}} r^{\\frac{2}{13}}}\\)</html>"
      ],
      "text/latex": [
       "$\\displaystyle C_{3110} =  \\frac{{\\left(24167 \\, a r^{5} r_{m} - 6929 \\, a r^{4} r_{m}^{2} - 47268 \\, a r^{3} r_{m}^{3} + 27720 \\, a r^{2} r_{m}^{4} + 198 \\, {\\left(169 \\, a r^{2} r_{m}^{2} - 468 \\, a r r_{m}^{3} + 296 \\, a r_{m}^{4}\\right)} r_{p}^{2} + {\\left(28561 \\, a r^{5} - 59319 \\, a r^{4} r_{m} - 38194 \\, a r^{3} r_{m}^{2} + 158184 \\, a r^{2} r_{m}^{3} - 86328 \\, a r r_{m}^{4}\\right)} r_{p}\\right)} {\\left(r - r_{m}\\right)}^{\\frac{9}{13}} \\sin\\left({\\theta}\\right)^{2} - 169 \\, {\\left(143 \\, a r^{5} r_{m} - 140 \\, a r^{4} r_{m}^{2} + {\\left(169 \\, a r^{5} - 468 \\, a r^{4} r_{m} + 296 \\, a r^{3} r_{m}^{2}\\right)} r_{p}\\right)} r^{\\frac{9}{13}} \\sin\\left({\\theta}\\right)^{2}}{33462 \\, {\\left(r^{6} r_{m}^{2} - r^{5} r_{m}^{3} - {\\left(r^{5} r_{m}^{2} - r^{4} r_{m}^{3}\\right)} r_{p}\\right)} {\\left(r - r_{m}\\right)}^{\\frac{7}{13}} r^{\\frac{2}{13}}}$"
      ],
      "text/plain": [
       "C_{3110} =  1/33462*((24167*a*r^5*r_m - 6929*a*r^4*r_m^2 - 47268*a*r^3*r_m^3 + 27720*a*r^2*r_m^4 + 198*(169*a*r^2*r_m^2 - 468*a*r*r_m^3 + 296*a*r_m^4)*r_p^2 + (28561*a*r^5 - 59319*a*r^4*r_m - 38194*a*r^3*r_m^2 + 158184*a*r^2*r_m^3 - 86328*a*r*r_m^4)*r_p)*(r - r_m)^(9/13)*sin(th)^2 - 169*(143*a*r^5*r_m - 140*a*r^4*r_m^2 + (169*a*r^5 - 468*a*r^4*r_m + 296*a*r^3*r_m^2)*r_p)*r^(9/13)*sin(th)^2)/((r^6*r_m^2 - r^5*r_m^3 - (r^5*r_m^2 - r^4*r_m^3)*r_p)*(r - r_m)^(7/13)*r^(2/13))"
      ]
     },
     "metadata": {},
     "output_type": "display_data"
    },
    {
     "data": {
      "text/html": [
       "<html>\\(\\displaystyle C_{3111} =  0\\)</html>"
      ],
      "text/latex": [
       "$\\displaystyle C_{3111} =  0$"
      ],
      "text/plain": [
       "C_{3111} =  0"
      ]
     },
     "metadata": {},
     "output_type": "display_data"
    },
    {
     "data": {
      "text/html": [
       "<html>\\(\\displaystyle C_{3112} =  0\\)</html>"
      ],
      "text/latex": [
       "$\\displaystyle C_{3112} =  0$"
      ],
      "text/plain": [
       "C_{3112} =  0"
      ]
     },
     "metadata": {},
     "output_type": "display_data"
    },
    {
     "data": {
      "text/html": [
       "<html>\\(\\displaystyle C_{3113} =  \\frac{{\\left(143 \\, r^{2} r_{m} - 140 \\, r r_{m}^{2} + {\\left(169 \\, r^{2} - 468 \\, r r_{m} + 296 \\, r_{m}^{2}\\right)} r_{p}\\right)} \\sin\\left({\\theta}\\right)^{2}}{338 \\, {\\left(r^{2} - r r_{m} - {\\left(r - r_{m}\\right)} r_{p}\\right)} {\\left(r - r_{m}\\right)}^{\\frac{7}{13}} r^{\\frac{6}{13}}}\\)</html>"
      ],
      "text/latex": [
       "$\\displaystyle C_{3113} =  \\frac{{\\left(143 \\, r^{2} r_{m} - 140 \\, r r_{m}^{2} + {\\left(169 \\, r^{2} - 468 \\, r r_{m} + 296 \\, r_{m}^{2}\\right)} r_{p}\\right)} \\sin\\left({\\theta}\\right)^{2}}{338 \\, {\\left(r^{2} - r r_{m} - {\\left(r - r_{m}\\right)} r_{p}\\right)} {\\left(r - r_{m}\\right)}^{\\frac{7}{13}} r^{\\frac{6}{13}}}$"
      ],
      "text/plain": [
       "C_{3113} =  1/338*(143*r^2*r_m - 140*r*r_m^2 + (169*r^2 - 468*r*r_m + 296*r_m^2)*r_p)*sin(th)^2/((r^2 - r*r_m - (r - r_m)*r_p)*(r - r_m)^(7/13)*r^(6/13))"
      ]
     },
     "metadata": {},
     "output_type": "display_data"
    },
    {
     "data": {
      "text/html": [
       "<html>\\(\\displaystyle C_{3120} =  \\frac{{\\left(35 \\, a r r_{m} + 3 \\, {\\left(13 \\, a r - 16 \\, a r_{m}\\right)} r_{p}\\right)} {\\left(r - r_{m}\\right)}^{\\frac{2}{13}} \\cos\\left({\\theta}\\right) \\sin\\left({\\theta}\\right)}{26 \\, r^{\\frac{41}{13}}}\\)</html>"
      ],
      "text/latex": [
       "$\\displaystyle C_{3120} =  \\frac{{\\left(35 \\, a r r_{m} + 3 \\, {\\left(13 \\, a r - 16 \\, a r_{m}\\right)} r_{p}\\right)} {\\left(r - r_{m}\\right)}^{\\frac{2}{13}} \\cos\\left({\\theta}\\right) \\sin\\left({\\theta}\\right)}{26 \\, r^{\\frac{41}{13}}}$"
      ],
      "text/plain": [
       "C_{3120} =  1/26*(35*a*r*r_m + 3*(13*a*r - 16*a*r_m)*r_p)*(r - r_m)^(2/13)*cos(th)*sin(th)/r^(41/13)"
      ]
     },
     "metadata": {},
     "output_type": "display_data"
    },
    {
     "data": {
      "text/html": [
       "<html>\\(\\displaystyle C_{3121} =  0\\)</html>"
      ],
      "text/latex": [
       "$\\displaystyle C_{3121} =  0$"
      ],
      "text/plain": [
       "C_{3121} =  0"
      ]
     },
     "metadata": {},
     "output_type": "display_data"
    },
    {
     "data": {
      "text/html": [
       "<html>\\(\\displaystyle C_{3122} =  0\\)</html>"
      ],
      "text/latex": [
       "$\\displaystyle C_{3122} =  0$"
      ],
      "text/plain": [
       "C_{3122} =  0"
      ]
     },
     "metadata": {},
     "output_type": "display_data"
    },
    {
     "data": {
      "text/html": [
       "<html>\\(\\displaystyle C_{3123} =  0\\)</html>"
      ],
      "text/latex": [
       "$\\displaystyle C_{3123} =  0$"
      ],
      "text/plain": [
       "C_{3123} =  0"
      ]
     },
     "metadata": {},
     "output_type": "display_data"
    },
    {
     "data": {
      "text/html": [
       "<html>\\(\\displaystyle C_{3130} =  0\\)</html>"
      ],
      "text/latex": [
       "$\\displaystyle C_{3130} =  0$"
      ],
      "text/plain": [
       "C_{3130} =  0"
      ]
     },
     "metadata": {},
     "output_type": "display_data"
    },
    {
     "data": {
      "text/html": [
       "<html>\\(\\displaystyle C_{3131} =  -\\frac{{\\left(143 \\, r^{2} r_{m} - 140 \\, r r_{m}^{2} + {\\left(169 \\, r^{2} - 468 \\, r r_{m} + 296 \\, r_{m}^{2}\\right)} r_{p}\\right)} \\sin\\left({\\theta}\\right)^{2}}{338 \\, {\\left(r^{2} - r r_{m} - {\\left(r - r_{m}\\right)} r_{p}\\right)} {\\left(r - r_{m}\\right)}^{\\frac{7}{13}} r^{\\frac{6}{13}}}\\)</html>"
      ],
      "text/latex": [
       "$\\displaystyle C_{3131} =  -\\frac{{\\left(143 \\, r^{2} r_{m} - 140 \\, r r_{m}^{2} + {\\left(169 \\, r^{2} - 468 \\, r r_{m} + 296 \\, r_{m}^{2}\\right)} r_{p}\\right)} \\sin\\left({\\theta}\\right)^{2}}{338 \\, {\\left(r^{2} - r r_{m} - {\\left(r - r_{m}\\right)} r_{p}\\right)} {\\left(r - r_{m}\\right)}^{\\frac{7}{13}} r^{\\frac{6}{13}}}$"
      ],
      "text/plain": [
       "C_{3131} =  -1/338*(143*r^2*r_m - 140*r*r_m^2 + (169*r^2 - 468*r*r_m + 296*r_m^2)*r_p)*sin(th)^2/((r^2 - r*r_m - (r - r_m)*r_p)*(r - r_m)^(7/13)*r^(6/13))"
      ]
     },
     "metadata": {},
     "output_type": "display_data"
    },
    {
     "data": {
      "text/html": [
       "<html>\\(\\displaystyle C_{3132} =  0\\)</html>"
      ],
      "text/latex": [
       "$\\displaystyle C_{3132} =  0$"
      ],
      "text/plain": [
       "C_{3132} =  0"
      ]
     },
     "metadata": {},
     "output_type": "display_data"
    },
    {
     "data": {
      "text/html": [
       "<html>\\(\\displaystyle C_{3133} =  0\\)</html>"
      ],
      "text/latex": [
       "$\\displaystyle C_{3133} =  0$"
      ],
      "text/plain": [
       "C_{3133} =  0"
      ]
     },
     "metadata": {},
     "output_type": "display_data"
    },
    {
     "data": {
      "text/html": [
       "<html>\\(\\displaystyle C_{3200} =  0\\)</html>"
      ],
      "text/latex": [
       "$\\displaystyle C_{3200} =  0$"
      ],
      "text/plain": [
       "C_{3200} =  0"
      ]
     },
     "metadata": {},
     "output_type": "display_data"
    },
    {
     "data": {
      "text/html": [
       "<html>\\(\\displaystyle C_{3201} =  -\\frac{{\\left(35 \\, r r_{m} + 39 \\, r r_{p} - 48 \\, r_{m} r_{p}\\right)} a \\left(\\frac{r - r_{m}}{r}\\right)^{\\frac{2}{13}} \\cos\\left({\\theta}\\right) \\sin\\left({\\theta}\\right)}{13 \\, r^{3}}\\)</html>"
      ],
      "text/latex": [
       "$\\displaystyle C_{3201} =  -\\frac{{\\left(35 \\, r r_{m} + 39 \\, r r_{p} - 48 \\, r_{m} r_{p}\\right)} a \\left(\\frac{r - r_{m}}{r}\\right)^{\\frac{2}{13}} \\cos\\left({\\theta}\\right) \\sin\\left({\\theta}\\right)}{13 \\, r^{3}}$"
      ],
      "text/plain": [
       "C_{3201} =  -1/13*(35*r*r_m + 39*r*r_p - 48*r_m*r_p)*a*((r - r_m)/r)^(2/13)*cos(th)*sin(th)/r^3"
      ]
     },
     "metadata": {},
     "output_type": "display_data"
    },
    {
     "data": {
      "text/html": [
       "<html>\\(\\displaystyle C_{3202} =  \\frac{{\\left(48334 \\, a r^{5} r_{m} - 13858 \\, a r^{4} r_{m}^{2} - 49491 \\, a r^{3} r_{m}^{3} + 13860 \\, a r^{2} r_{m}^{4} + 99 \\, {\\left(169 \\, a r^{2} r_{m}^{2} - 468 \\, a r r_{m}^{3} + 296 \\, a r_{m}^{4}\\right)} r_{p}^{2} + {\\left(57122 \\, a r^{5} - 118638 \\, a r^{4} r_{m} - 26195 \\, a r^{3} r_{m}^{2} + 132327 \\, a r^{2} r_{m}^{3} - 43164 \\, a r r_{m}^{4}\\right)} r_{p}\\right)} {\\left(r - r_{m}\\right)}^{\\frac{9}{13}} \\sin\\left({\\theta}\\right)^{2} - 338 \\, {\\left(143 \\, a r^{5} r_{m} - 140 \\, a r^{4} r_{m}^{2} + {\\left(169 \\, a r^{5} - 468 \\, a r^{4} r_{m} + 296 \\, a r^{3} r_{m}^{2}\\right)} r_{p}\\right)} r^{\\frac{9}{13}} \\sin\\left({\\theta}\\right)^{2}}{33462 \\, {\\left(r - r_{m}\\right)}^{\\frac{7}{13}} r^{\\frac{54}{13}} r_{m}^{2}}\\)</html>"
      ],
      "text/latex": [
       "$\\displaystyle C_{3202} =  \\frac{{\\left(48334 \\, a r^{5} r_{m} - 13858 \\, a r^{4} r_{m}^{2} - 49491 \\, a r^{3} r_{m}^{3} + 13860 \\, a r^{2} r_{m}^{4} + 99 \\, {\\left(169 \\, a r^{2} r_{m}^{2} - 468 \\, a r r_{m}^{3} + 296 \\, a r_{m}^{4}\\right)} r_{p}^{2} + {\\left(57122 \\, a r^{5} - 118638 \\, a r^{4} r_{m} - 26195 \\, a r^{3} r_{m}^{2} + 132327 \\, a r^{2} r_{m}^{3} - 43164 \\, a r r_{m}^{4}\\right)} r_{p}\\right)} {\\left(r - r_{m}\\right)}^{\\frac{9}{13}} \\sin\\left({\\theta}\\right)^{2} - 338 \\, {\\left(143 \\, a r^{5} r_{m} - 140 \\, a r^{4} r_{m}^{2} + {\\left(169 \\, a r^{5} - 468 \\, a r^{4} r_{m} + 296 \\, a r^{3} r_{m}^{2}\\right)} r_{p}\\right)} r^{\\frac{9}{13}} \\sin\\left({\\theta}\\right)^{2}}{33462 \\, {\\left(r - r_{m}\\right)}^{\\frac{7}{13}} r^{\\frac{54}{13}} r_{m}^{2}}$"
      ],
      "text/plain": [
       "C_{3202} =  1/33462*((48334*a*r^5*r_m - 13858*a*r^4*r_m^2 - 49491*a*r^3*r_m^3 + 13860*a*r^2*r_m^4 + 99*(169*a*r^2*r_m^2 - 468*a*r*r_m^3 + 296*a*r_m^4)*r_p^2 + (57122*a*r^5 - 118638*a*r^4*r_m - 26195*a*r^3*r_m^2 + 132327*a*r^2*r_m^3 - 43164*a*r*r_m^4)*r_p)*(r - r_m)^(9/13)*sin(th)^2 - 338*(143*a*r^5*r_m - 140*a*r^4*r_m^2 + (169*a*r^5 - 468*a*r^4*r_m + 296*a*r^3*r_m^2)*r_p)*r^(9/13)*sin(th)^2)/((r - r_m)^(7/13)*r^(54/13)*r_m^2)"
      ]
     },
     "metadata": {},
     "output_type": "display_data"
    },
    {
     "data": {
      "text/html": [
       "<html>\\(\\displaystyle C_{3203} =  0\\)</html>"
      ],
      "text/latex": [
       "$\\displaystyle C_{3203} =  0$"
      ],
      "text/plain": [
       "C_{3203} =  0"
      ]
     },
     "metadata": {},
     "output_type": "display_data"
    },
    {
     "data": {
      "text/html": [
       "<html>\\(\\displaystyle C_{3210} =  \\frac{{\\left(35 \\, a r r_{m} + 3 \\, {\\left(13 \\, a r - 16 \\, a r_{m}\\right)} r_{p}\\right)} {\\left(r - r_{m}\\right)}^{\\frac{2}{13}} \\cos\\left({\\theta}\\right) \\sin\\left({\\theta}\\right)}{13 \\, r^{\\frac{41}{13}}}\\)</html>"
      ],
      "text/latex": [
       "$\\displaystyle C_{3210} =  \\frac{{\\left(35 \\, a r r_{m} + 3 \\, {\\left(13 \\, a r - 16 \\, a r_{m}\\right)} r_{p}\\right)} {\\left(r - r_{m}\\right)}^{\\frac{2}{13}} \\cos\\left({\\theta}\\right) \\sin\\left({\\theta}\\right)}{13 \\, r^{\\frac{41}{13}}}$"
      ],
      "text/plain": [
       "C_{3210} =  1/13*(35*a*r*r_m + 3*(13*a*r - 16*a*r_m)*r_p)*(r - r_m)^(2/13)*cos(th)*sin(th)/r^(41/13)"
      ]
     },
     "metadata": {},
     "output_type": "display_data"
    },
    {
     "data": {
      "text/html": [
       "<html>\\(\\displaystyle C_{3211} =  0\\)</html>"
      ],
      "text/latex": [
       "$\\displaystyle C_{3211} =  0$"
      ],
      "text/plain": [
       "C_{3211} =  0"
      ]
     },
     "metadata": {},
     "output_type": "display_data"
    },
    {
     "data": {
      "text/html": [
       "<html>\\(\\displaystyle C_{3212} =  0\\)</html>"
      ],
      "text/latex": [
       "$\\displaystyle C_{3212} =  0$"
      ],
      "text/plain": [
       "C_{3212} =  0"
      ]
     },
     "metadata": {},
     "output_type": "display_data"
    },
    {
     "data": {
      "text/html": [
       "<html>\\(\\displaystyle C_{3213} =  0\\)</html>"
      ],
      "text/latex": [
       "$\\displaystyle C_{3213} =  0$"
      ],
      "text/plain": [
       "C_{3213} =  0"
      ]
     },
     "metadata": {},
     "output_type": "display_data"
    },
    {
     "data": {
      "text/html": [
       "<html>\\(\\displaystyle C_{3220} =  -\\frac{{\\left(48334 \\, a r^{5} r_{m} - 13858 \\, a r^{4} r_{m}^{2} - 49491 \\, a r^{3} r_{m}^{3} + 13860 \\, a r^{2} r_{m}^{4} + 99 \\, {\\left(169 \\, a r^{2} r_{m}^{2} - 468 \\, a r r_{m}^{3} + 296 \\, a r_{m}^{4}\\right)} r_{p}^{2} + {\\left(57122 \\, a r^{5} - 118638 \\, a r^{4} r_{m} - 26195 \\, a r^{3} r_{m}^{2} + 132327 \\, a r^{2} r_{m}^{3} - 43164 \\, a r r_{m}^{4}\\right)} r_{p}\\right)} {\\left(r - r_{m}\\right)}^{\\frac{9}{13}} \\sin\\left({\\theta}\\right)^{2} - 338 \\, {\\left(143 \\, a r^{5} r_{m} - 140 \\, a r^{4} r_{m}^{2} + {\\left(169 \\, a r^{5} - 468 \\, a r^{4} r_{m} + 296 \\, a r^{3} r_{m}^{2}\\right)} r_{p}\\right)} r^{\\frac{9}{13}} \\sin\\left({\\theta}\\right)^{2}}{33462 \\, {\\left(r - r_{m}\\right)}^{\\frac{7}{13}} r^{\\frac{54}{13}} r_{m}^{2}}\\)</html>"
      ],
      "text/latex": [
       "$\\displaystyle C_{3220} =  -\\frac{{\\left(48334 \\, a r^{5} r_{m} - 13858 \\, a r^{4} r_{m}^{2} - 49491 \\, a r^{3} r_{m}^{3} + 13860 \\, a r^{2} r_{m}^{4} + 99 \\, {\\left(169 \\, a r^{2} r_{m}^{2} - 468 \\, a r r_{m}^{3} + 296 \\, a r_{m}^{4}\\right)} r_{p}^{2} + {\\left(57122 \\, a r^{5} - 118638 \\, a r^{4} r_{m} - 26195 \\, a r^{3} r_{m}^{2} + 132327 \\, a r^{2} r_{m}^{3} - 43164 \\, a r r_{m}^{4}\\right)} r_{p}\\right)} {\\left(r - r_{m}\\right)}^{\\frac{9}{13}} \\sin\\left({\\theta}\\right)^{2} - 338 \\, {\\left(143 \\, a r^{5} r_{m} - 140 \\, a r^{4} r_{m}^{2} + {\\left(169 \\, a r^{5} - 468 \\, a r^{4} r_{m} + 296 \\, a r^{3} r_{m}^{2}\\right)} r_{p}\\right)} r^{\\frac{9}{13}} \\sin\\left({\\theta}\\right)^{2}}{33462 \\, {\\left(r - r_{m}\\right)}^{\\frac{7}{13}} r^{\\frac{54}{13}} r_{m}^{2}}$"
      ],
      "text/plain": [
       "C_{3220} =  -1/33462*((48334*a*r^5*r_m - 13858*a*r^4*r_m^2 - 49491*a*r^3*r_m^3 + 13860*a*r^2*r_m^4 + 99*(169*a*r^2*r_m^2 - 468*a*r*r_m^3 + 296*a*r_m^4)*r_p^2 + (57122*a*r^5 - 118638*a*r^4*r_m - 26195*a*r^3*r_m^2 + 132327*a*r^2*r_m^3 - 43164*a*r*r_m^4)*r_p)*(r - r_m)^(9/13)*sin(th)^2 - 338*(143*a*r^5*r_m - 140*a*r^4*r_m^2 + (169*a*r^5 - 468*a*r^4*r_m + 296*a*r^3*r_m^2)*r_p)*r^(9/13)*sin(th)^2)/((r - r_m)^(7/13)*r^(54/13)*r_m^2)"
      ]
     },
     "metadata": {},
     "output_type": "display_data"
    },
    {
     "data": {
      "text/html": [
       "<html>\\(\\displaystyle C_{3221} =  0\\)</html>"
      ],
      "text/latex": [
       "$\\displaystyle C_{3221} =  0$"
      ],
      "text/plain": [
       "C_{3221} =  0"
      ]
     },
     "metadata": {},
     "output_type": "display_data"
    },
    {
     "data": {
      "text/html": [
       "<html>\\(\\displaystyle C_{3222} =  0\\)</html>"
      ],
      "text/latex": [
       "$\\displaystyle C_{3222} =  0$"
      ],
      "text/plain": [
       "C_{3222} =  0"
      ]
     },
     "metadata": {},
     "output_type": "display_data"
    },
    {
     "data": {
      "text/html": [
       "<html>\\(\\displaystyle C_{3223} =  -\\frac{{\\left(143 \\, r^{2} r_{m} - 140 \\, r r_{m}^{2} + {\\left(169 \\, r^{2} - 468 \\, r r_{m} + 296 \\, r_{m}^{2}\\right)} r_{p}\\right)} \\sin\\left({\\theta}\\right)^{2}}{169 \\, {\\left(r - r_{m}\\right)}^{\\frac{7}{13}} r^{\\frac{6}{13}}}\\)</html>"
      ],
      "text/latex": [
       "$\\displaystyle C_{3223} =  -\\frac{{\\left(143 \\, r^{2} r_{m} - 140 \\, r r_{m}^{2} + {\\left(169 \\, r^{2} - 468 \\, r r_{m} + 296 \\, r_{m}^{2}\\right)} r_{p}\\right)} \\sin\\left({\\theta}\\right)^{2}}{169 \\, {\\left(r - r_{m}\\right)}^{\\frac{7}{13}} r^{\\frac{6}{13}}}$"
      ],
      "text/plain": [
       "C_{3223} =  -1/169*(143*r^2*r_m - 140*r*r_m^2 + (169*r^2 - 468*r*r_m + 296*r_m^2)*r_p)*sin(th)^2/((r - r_m)^(7/13)*r^(6/13))"
      ]
     },
     "metadata": {},
     "output_type": "display_data"
    },
    {
     "data": {
      "text/html": [
       "<html>\\(\\displaystyle C_{3230} =  0\\)</html>"
      ],
      "text/latex": [
       "$\\displaystyle C_{3230} =  0$"
      ],
      "text/plain": [
       "C_{3230} =  0"
      ]
     },
     "metadata": {},
     "output_type": "display_data"
    },
    {
     "data": {
      "text/html": [
       "<html>\\(\\displaystyle C_{3231} =  0\\)</html>"
      ],
      "text/latex": [
       "$\\displaystyle C_{3231} =  0$"
      ],
      "text/plain": [
       "C_{3231} =  0"
      ]
     },
     "metadata": {},
     "output_type": "display_data"
    },
    {
     "data": {
      "text/html": [
       "<html>\\(\\displaystyle C_{3232} =  \\frac{{\\left(143 \\, r^{2} r_{m} - 140 \\, r r_{m}^{2} + {\\left(169 \\, r^{2} - 468 \\, r r_{m} + 296 \\, r_{m}^{2}\\right)} r_{p}\\right)} \\sin\\left({\\theta}\\right)^{2}}{169 \\, {\\left(r - r_{m}\\right)}^{\\frac{7}{13}} r^{\\frac{6}{13}}}\\)</html>"
      ],
      "text/latex": [
       "$\\displaystyle C_{3232} =  \\frac{{\\left(143 \\, r^{2} r_{m} - 140 \\, r r_{m}^{2} + {\\left(169 \\, r^{2} - 468 \\, r r_{m} + 296 \\, r_{m}^{2}\\right)} r_{p}\\right)} \\sin\\left({\\theta}\\right)^{2}}{169 \\, {\\left(r - r_{m}\\right)}^{\\frac{7}{13}} r^{\\frac{6}{13}}}$"
      ],
      "text/plain": [
       "C_{3232} =  1/169*(143*r^2*r_m - 140*r*r_m^2 + (169*r^2 - 468*r*r_m + 296*r_m^2)*r_p)*sin(th)^2/((r - r_m)^(7/13)*r^(6/13))"
      ]
     },
     "metadata": {},
     "output_type": "display_data"
    },
    {
     "data": {
      "text/html": [
       "<html>\\(\\displaystyle C_{3233} =  0\\)</html>"
      ],
      "text/latex": [
       "$\\displaystyle C_{3233} =  0$"
      ],
      "text/plain": [
       "C_{3233} =  0"
      ]
     },
     "metadata": {},
     "output_type": "display_data"
    },
    {
     "data": {
      "text/html": [
       "<html>\\(\\displaystyle C_{3300} =  0\\)</html>"
      ],
      "text/latex": [
       "$\\displaystyle C_{3300} =  0$"
      ],
      "text/plain": [
       "C_{3300} =  0"
      ]
     },
     "metadata": {},
     "output_type": "display_data"
    },
    {
     "data": {
      "text/html": [
       "<html>\\(\\displaystyle C_{3301} =  0\\)</html>"
      ],
      "text/latex": [
       "$\\displaystyle C_{3301} =  0$"
      ],
      "text/plain": [
       "C_{3301} =  0"
      ]
     },
     "metadata": {},
     "output_type": "display_data"
    },
    {
     "data": {
      "text/html": [
       "<html>\\(\\displaystyle C_{3302} =  0\\)</html>"
      ],
      "text/latex": [
       "$\\displaystyle C_{3302} =  0$"
      ],
      "text/plain": [
       "C_{3302} =  0"
      ]
     },
     "metadata": {},
     "output_type": "display_data"
    },
    {
     "data": {
      "text/html": [
       "<html>\\(\\displaystyle C_{3303} =  0\\)</html>"
      ],
      "text/latex": [
       "$\\displaystyle C_{3303} =  0$"
      ],
      "text/plain": [
       "C_{3303} =  0"
      ]
     },
     "metadata": {},
     "output_type": "display_data"
    },
    {
     "data": {
      "text/html": [
       "<html>\\(\\displaystyle C_{3310} =  0\\)</html>"
      ],
      "text/latex": [
       "$\\displaystyle C_{3310} =  0$"
      ],
      "text/plain": [
       "C_{3310} =  0"
      ]
     },
     "metadata": {},
     "output_type": "display_data"
    },
    {
     "data": {
      "text/html": [
       "<html>\\(\\displaystyle C_{3311} =  0\\)</html>"
      ],
      "text/latex": [
       "$\\displaystyle C_{3311} =  0$"
      ],
      "text/plain": [
       "C_{3311} =  0"
      ]
     },
     "metadata": {},
     "output_type": "display_data"
    },
    {
     "data": {
      "text/html": [
       "<html>\\(\\displaystyle C_{3312} =  0\\)</html>"
      ],
      "text/latex": [
       "$\\displaystyle C_{3312} =  0$"
      ],
      "text/plain": [
       "C_{3312} =  0"
      ]
     },
     "metadata": {},
     "output_type": "display_data"
    },
    {
     "data": {
      "text/html": [
       "<html>\\(\\displaystyle C_{3313} =  0\\)</html>"
      ],
      "text/latex": [
       "$\\displaystyle C_{3313} =  0$"
      ],
      "text/plain": [
       "C_{3313} =  0"
      ]
     },
     "metadata": {},
     "output_type": "display_data"
    },
    {
     "data": {
      "text/html": [
       "<html>\\(\\displaystyle C_{3320} =  0\\)</html>"
      ],
      "text/latex": [
       "$\\displaystyle C_{3320} =  0$"
      ],
      "text/plain": [
       "C_{3320} =  0"
      ]
     },
     "metadata": {},
     "output_type": "display_data"
    },
    {
     "data": {
      "text/html": [
       "<html>\\(\\displaystyle C_{3321} =  0\\)</html>"
      ],
      "text/latex": [
       "$\\displaystyle C_{3321} =  0$"
      ],
      "text/plain": [
       "C_{3321} =  0"
      ]
     },
     "metadata": {},
     "output_type": "display_data"
    },
    {
     "data": {
      "text/html": [
       "<html>\\(\\displaystyle C_{3322} =  0\\)</html>"
      ],
      "text/latex": [
       "$\\displaystyle C_{3322} =  0$"
      ],
      "text/plain": [
       "C_{3322} =  0"
      ]
     },
     "metadata": {},
     "output_type": "display_data"
    },
    {
     "data": {
      "text/html": [
       "<html>\\(\\displaystyle C_{3323} =  0\\)</html>"
      ],
      "text/latex": [
       "$\\displaystyle C_{3323} =  0$"
      ],
      "text/plain": [
       "C_{3323} =  0"
      ]
     },
     "metadata": {},
     "output_type": "display_data"
    },
    {
     "data": {
      "text/html": [
       "<html>\\(\\displaystyle C_{3330} =  0\\)</html>"
      ],
      "text/latex": [
       "$\\displaystyle C_{3330} =  0$"
      ],
      "text/plain": [
       "C_{3330} =  0"
      ]
     },
     "metadata": {},
     "output_type": "display_data"
    },
    {
     "data": {
      "text/html": [
       "<html>\\(\\displaystyle C_{3331} =  0\\)</html>"
      ],
      "text/latex": [
       "$\\displaystyle C_{3331} =  0$"
      ],
      "text/plain": [
       "C_{3331} =  0"
      ]
     },
     "metadata": {},
     "output_type": "display_data"
    },
    {
     "data": {
      "text/html": [
       "<html>\\(\\displaystyle C_{3332} =  0\\)</html>"
      ],
      "text/latex": [
       "$\\displaystyle C_{3332} =  0$"
      ],
      "text/plain": [
       "C_{3332} =  0"
      ]
     },
     "metadata": {},
     "output_type": "display_data"
    },
    {
     "data": {
      "text/html": [
       "<html>\\(\\displaystyle C_{3333} =  0\\)</html>"
      ],
      "text/latex": [
       "$\\displaystyle C_{3333} =  0$"
      ],
      "text/plain": [
       "C_{3333} =  0"
      ]
     },
     "metadata": {},
     "output_type": "display_data"
    }
   ],
   "source": [
    "ER_Weyl = ER_riem-(1/2)*gR_prod+(1/6)*gp_anti\n",
    "\n",
    "for i in range(4):\n",
    "    for j in range(4):\n",
    "        for k in range(4):\n",
    "            for l in range(4):\n",
    "                latex_str = r'C_{{{}{}{}{}}} = '.format(i, j, k, l)  \n",
    "                show(LatexExpr(latex_str), ER_Weyl[i, j, k, l]) "
   ]
  },
  {
   "cell_type": "markdown",
   "id": "1df3a3e4",
   "metadata": {},
   "source": [
    "# NP-Weyl scalars"
   ]
  },
  {
   "cell_type": "markdown",
   "id": "82b4e902",
   "metadata": {},
   "source": [
    "Let's import the tetrad expression in ER derived in the notebook entitled \"ER_SR_BH_Tetrad\""
   ]
  },
  {
   "cell_type": "code",
   "execution_count": 22,
   "id": "e28d4c1b",
   "metadata": {},
   "outputs": [
    {
     "data": {
      "text/html": [
       "<html>\\(\\displaystyle l^{\\mu} =  \\left[-\\frac{1}{{\\left(-\\frac{r_{m}}{r} + 1\\right)}^{\\frac{11}{13}} {\\left(\\frac{r_{p}}{r} - 1\\right)}}, 1, 0, -\\frac{{\\left({\\left(\\frac{169 \\, r^{2}}{r_{m}^{2}} + \\frac{117 \\, r}{r_{m}} - \\frac{99 \\, r_{p}}{r} + 99\\right)} {\\left(-\\frac{r_{m}}{r} + 1\\right)}^{\\frac{11}{13}} - \\frac{169 \\, r^{2} {\\left(-\\frac{r_{m}}{r} + 1\\right)}^{\\frac{2}{13}}}{r_{m}^{2}}\\right)} a}{99 \\, {\\left({\\left(-\\frac{r_{m}}{r} + 1\\right)}^{\\frac{11}{13}} {\\left(\\frac{r_{p}}{r} - 1\\right)} + 1\\right)} r^{2} {\\left(\\frac{r_{m}}{r} - 1\\right)} {\\left(\\frac{r_{p}}{r} - 1\\right)}}\\right]\\)</html>"
      ],
      "text/latex": [
       "$\\displaystyle l^{\\mu} =  \\left[-\\frac{1}{{\\left(-\\frac{r_{m}}{r} + 1\\right)}^{\\frac{11}{13}} {\\left(\\frac{r_{p}}{r} - 1\\right)}}, 1, 0, -\\frac{{\\left({\\left(\\frac{169 \\, r^{2}}{r_{m}^{2}} + \\frac{117 \\, r}{r_{m}} - \\frac{99 \\, r_{p}}{r} + 99\\right)} {\\left(-\\frac{r_{m}}{r} + 1\\right)}^{\\frac{11}{13}} - \\frac{169 \\, r^{2} {\\left(-\\frac{r_{m}}{r} + 1\\right)}^{\\frac{2}{13}}}{r_{m}^{2}}\\right)} a}{99 \\, {\\left({\\left(-\\frac{r_{m}}{r} + 1\\right)}^{\\frac{11}{13}} {\\left(\\frac{r_{p}}{r} - 1\\right)} + 1\\right)} r^{2} {\\left(\\frac{r_{m}}{r} - 1\\right)} {\\left(\\frac{r_{p}}{r} - 1\\right)}}\\right]$"
      ],
      "text/plain": [
       "l^{\\mu} =  [-1/((-r_m/r + 1)^(11/13)*(r_p/r - 1)),\n",
       " 1,\n",
       " 0,\n",
       " -1/99*((169*r^2/r_m^2 + 117*r/r_m - 99*r_p/r + 99)*(-r_m/r + 1)^(11/13) - 169*r^2*(-r_m/r + 1)^(2/13)/r_m^2)*a/(((-r_m/r + 1)^(11/13)*(r_p/r - 1) + 1)*r^2*(r_m/r - 1)*(r_p/r - 1))]"
      ]
     },
     "metadata": {},
     "output_type": "display_data"
    },
    {
     "data": {
      "text/html": [
       "<html>\\(\\displaystyle n^{\\mu} =  \\left[\\frac{1}{2}, \\frac{1}{2} \\, {\\left(-\\frac{r_{m}}{r} + 1\\right)}^{\\frac{11}{13}} {\\left(\\frac{r_{p}}{r} - 1\\right)}, 0, -\\frac{{\\left({\\left(\\frac{169 \\, r^{2}}{r_{m}^{2}} + \\frac{117 \\, r}{r_{m}} - \\frac{99 \\, r_{p}}{r} + 99\\right)} {\\left(-\\frac{r_{m}}{r} + 1\\right)}^{\\frac{11}{13}} - \\frac{169 \\, r^{2} {\\left(-\\frac{r_{m}}{r} + 1\\right)}^{\\frac{2}{13}}}{r_{m}^{2}}\\right)} a}{198 \\, {\\left({\\left(-\\frac{r_{m}}{r} + 1\\right)}^{\\frac{11}{13}} {\\left(\\frac{r_{p}}{r} - 1\\right)} + 1\\right)} r^{2} {\\left(-\\frac{r_{m}}{r} + 1\\right)}^{\\frac{2}{13}}}\\right]\\)</html>"
      ],
      "text/latex": [
       "$\\displaystyle n^{\\mu} =  \\left[\\frac{1}{2}, \\frac{1}{2} \\, {\\left(-\\frac{r_{m}}{r} + 1\\right)}^{\\frac{11}{13}} {\\left(\\frac{r_{p}}{r} - 1\\right)}, 0, -\\frac{{\\left({\\left(\\frac{169 \\, r^{2}}{r_{m}^{2}} + \\frac{117 \\, r}{r_{m}} - \\frac{99 \\, r_{p}}{r} + 99\\right)} {\\left(-\\frac{r_{m}}{r} + 1\\right)}^{\\frac{11}{13}} - \\frac{169 \\, r^{2} {\\left(-\\frac{r_{m}}{r} + 1\\right)}^{\\frac{2}{13}}}{r_{m}^{2}}\\right)} a}{198 \\, {\\left({\\left(-\\frac{r_{m}}{r} + 1\\right)}^{\\frac{11}{13}} {\\left(\\frac{r_{p}}{r} - 1\\right)} + 1\\right)} r^{2} {\\left(-\\frac{r_{m}}{r} + 1\\right)}^{\\frac{2}{13}}}\\right]$"
      ],
      "text/plain": [
       "n^{\\mu} =  [1/2,\n",
       " 1/2*(-r_m/r + 1)^(11/13)*(r_p/r - 1),\n",
       " 0,\n",
       " -1/198*((169*r^2/r_m^2 + 117*r/r_m - 99*r_p/r + 99)*(-r_m/r + 1)^(11/13) - 169*r^2*(-r_m/r + 1)^(2/13)/r_m^2)*a/(((-r_m/r + 1)^(11/13)*(r_p/r - 1) + 1)*r^2*(-r_m/r + 1)^(2/13))]"
      ]
     },
     "metadata": {},
     "output_type": "display_data"
    },
    {
     "data": {
      "text/html": [
       "<html>\\(\\displaystyle m^{\\mu} =  \\left[-\\frac{i \\, \\sqrt{2} {\\left({\\left(\\frac{169 \\, r^{2}}{r_{m}^{2}} + \\frac{117 \\, r}{r_{m}} - \\frac{99 \\, r_{p}}{r} + 99\\right)} {\\left(-\\frac{r_{m}}{r} + 1\\right)}^{\\frac{11}{13}} - \\frac{169 \\, r^{2} {\\left(-\\frac{r_{m}}{r} + 1\\right)}^{\\frac{2}{13}}}{r_{m}^{2}}\\right)} a \\sin\\left({\\theta}\\right)}{198 \\, {\\left({\\left(-\\frac{r_{m}}{r} + 1\\right)}^{\\frac{11}{13}} {\\left(\\frac{r_{p}}{r} - 1\\right)} + 1\\right)} r {\\left(-\\frac{r_{m}}{r} + 1\\right)}^{\\frac{1}{13}}}, 0, \\frac{\\sqrt{2}}{2 \\, r {\\left(-\\frac{r_{m}}{r} + 1\\right)}^{\\frac{1}{13}}}, \\frac{i \\, \\sqrt{2}}{2 \\, r {\\left(-\\frac{r_{m}}{r} + 1\\right)}^{\\frac{1}{13}} \\sin\\left({\\theta}\\right)}\\right]\\)</html>"
      ],
      "text/latex": [
       "$\\displaystyle m^{\\mu} =  \\left[-\\frac{i \\, \\sqrt{2} {\\left({\\left(\\frac{169 \\, r^{2}}{r_{m}^{2}} + \\frac{117 \\, r}{r_{m}} - \\frac{99 \\, r_{p}}{r} + 99\\right)} {\\left(-\\frac{r_{m}}{r} + 1\\right)}^{\\frac{11}{13}} - \\frac{169 \\, r^{2} {\\left(-\\frac{r_{m}}{r} + 1\\right)}^{\\frac{2}{13}}}{r_{m}^{2}}\\right)} a \\sin\\left({\\theta}\\right)}{198 \\, {\\left({\\left(-\\frac{r_{m}}{r} + 1\\right)}^{\\frac{11}{13}} {\\left(\\frac{r_{p}}{r} - 1\\right)} + 1\\right)} r {\\left(-\\frac{r_{m}}{r} + 1\\right)}^{\\frac{1}{13}}}, 0, \\frac{\\sqrt{2}}{2 \\, r {\\left(-\\frac{r_{m}}{r} + 1\\right)}^{\\frac{1}{13}}}, \\frac{i \\, \\sqrt{2}}{2 \\, r {\\left(-\\frac{r_{m}}{r} + 1\\right)}^{\\frac{1}{13}} \\sin\\left({\\theta}\\right)}\\right]$"
      ],
      "text/plain": [
       "m^{\\mu} =  [-1/198*I*sqrt(2)*((169*r^2/r_m^2 + 117*r/r_m - 99*r_p/r + 99)*(-r_m/r + 1)^(11/13) - 169*r^2*(-r_m/r + 1)^(2/13)/r_m^2)*a*sin(th)/(((-r_m/r + 1)^(11/13)*(r_p/r - 1) + 1)*r*(-r_m/r + 1)^(1/13)),\n",
       " 0,\n",
       " 1/2*sqrt(2)/(r*(-r_m/r + 1)^(1/13)),\n",
       " 1/2*I*sqrt(2)/(r*(-r_m/r + 1)^(1/13)*sin(th))]"
      ]
     },
     "metadata": {},
     "output_type": "display_data"
    },
    {
     "data": {
      "text/html": [
       "<html>\\(\\displaystyle \\bar{m}^{\\mu} =  \\left[\\frac{i \\, \\sqrt{2} {\\left({\\left(\\frac{169 \\, r^{2}}{r_{m}^{2}} + \\frac{117 \\, r}{r_{m}} - \\frac{99 \\, r_{p}}{r} + 99\\right)} {\\left(-\\frac{r_{m}}{r} + 1\\right)}^{\\frac{11}{13}} - \\frac{169 \\, r^{2} {\\left(-\\frac{r_{m}}{r} + 1\\right)}^{\\frac{2}{13}}}{r_{m}^{2}}\\right)} a \\sin\\left({\\theta}\\right)}{198 \\, {\\left({\\left(-\\frac{r_{m}}{r} + 1\\right)}^{\\frac{11}{13}} {\\left(\\frac{r_{p}}{r} - 1\\right)} + 1\\right)} r {\\left(-\\frac{r_{m}}{r} + 1\\right)}^{\\frac{1}{13}}}, 0, \\frac{\\sqrt{2}}{2 \\, r {\\left(-\\frac{r_{m}}{r} + 1\\right)}^{\\frac{1}{13}}}, -\\frac{i \\, \\sqrt{2}}{2 \\, r {\\left(-\\frac{r_{m}}{r} + 1\\right)}^{\\frac{1}{13}} \\sin\\left({\\theta}\\right)}\\right]\\)</html>"
      ],
      "text/latex": [
       "$\\displaystyle \\bar{m}^{\\mu} =  \\left[\\frac{i \\, \\sqrt{2} {\\left({\\left(\\frac{169 \\, r^{2}}{r_{m}^{2}} + \\frac{117 \\, r}{r_{m}} - \\frac{99 \\, r_{p}}{r} + 99\\right)} {\\left(-\\frac{r_{m}}{r} + 1\\right)}^{\\frac{11}{13}} - \\frac{169 \\, r^{2} {\\left(-\\frac{r_{m}}{r} + 1\\right)}^{\\frac{2}{13}}}{r_{m}^{2}}\\right)} a \\sin\\left({\\theta}\\right)}{198 \\, {\\left({\\left(-\\frac{r_{m}}{r} + 1\\right)}^{\\frac{11}{13}} {\\left(\\frac{r_{p}}{r} - 1\\right)} + 1\\right)} r {\\left(-\\frac{r_{m}}{r} + 1\\right)}^{\\frac{1}{13}}}, 0, \\frac{\\sqrt{2}}{2 \\, r {\\left(-\\frac{r_{m}}{r} + 1\\right)}^{\\frac{1}{13}}}, -\\frac{i \\, \\sqrt{2}}{2 \\, r {\\left(-\\frac{r_{m}}{r} + 1\\right)}^{\\frac{1}{13}} \\sin\\left({\\theta}\\right)}\\right]$"
      ],
      "text/plain": [
       "\\bar{m}^{\\mu} =  [1/198*I*sqrt(2)*((169*r^2/r_m^2 + 117*r/r_m - 99*r_p/r + 99)*(-r_m/r + 1)^(11/13) - 169*r^2*(-r_m/r + 1)^(2/13)/r_m^2)*a*sin(th)/(((-r_m/r + 1)^(11/13)*(r_p/r - 1) + 1)*r*(-r_m/r + 1)^(1/13)),\n",
       " 0,\n",
       " 1/2*sqrt(2)/(r*(-r_m/r + 1)^(1/13)),\n",
       " -1/2*I*sqrt(2)/(r*(-r_m/r + 1)^(1/13)*sin(th))]"
      ]
     },
     "metadata": {},
     "output_type": "display_data"
    }
   ],
   "source": [
    "with open('expressions.pkl', 'rb') as file:\n",
    "    expressions = pickle.load(file)\n",
    "    \n",
    "L = expressions['L_expression']\n",
    "N = expressions['N_expression']\n",
    "Mr = expressions['M_expression']\n",
    "Mbar = expressions['Mbar_expression']\n",
    "\n",
    "show(LatexExpr(r'l^{\\mu} = '),L[:])\n",
    "show(LatexExpr(r'n^{\\mu} = '),N[:])\n",
    "show(LatexExpr(r'm^{\\mu} = '),Mr[:])\n",
    "show(LatexExpr(r'\\bar{m}^{\\mu} = '), Mbar[:])"
   ]
  },
  {
   "cell_type": "markdown",
   "id": "b91c491b",
   "metadata": {},
   "source": [
    "We need to convert the tetrad into a M manifold indexed vector field and align it onto the same tetrad"
   ]
  },
  {
   "cell_type": "code",
   "execution_count": 23,
   "id": "7fef90db",
   "metadata": {},
   "outputs": [],
   "source": [
    "tetrad_L, tetrad_N, tetrad_Mr,tetrad_Mbar = M.vector_field(name='tetrad_L'), M.vector_field(name='tetrad_N'), \\\n",
    "                                            M.vector_field(name='tetrad_Mr'), M.vector_field(name='tetrad_Mbar')\n",
    "for i in range(4):\n",
    "    tetrad_L[i] = L[i].expr()\n",
    "    tetrad_N[i] = N[i].expr()\n",
    "    tetrad_Mr[i] = Mr[i].expr()\n",
    "    tetrad_Mbar[i] = Mbar[i].expr()"
   ]
  },
  {
   "cell_type": "code",
   "execution_count": 24,
   "id": "eeed6bad",
   "metadata": {},
   "outputs": [],
   "source": [
    "components = [[[[ER_Weyl[i,j,k,l] for i in range(4)] for j in range(4)] for k in range(4)] for l in range(4)]\n",
    "Weyl_tensor = M.tensor_field(0, 4, name='Weyl_tensor')\n",
    "Weyl_tensor[:, :, :, :] = components"
   ]
  },
  {
   "cell_type": "markdown",
   "id": "023a9e6e",
   "metadata": {},
   "source": [
    "## Scalar 0"
   ]
  },
  {
   "cell_type": "code",
   "execution_count": 25,
   "id": "b5be95a6",
   "metadata": {},
   "outputs": [
    {
     "name": "stdout",
     "output_type": "stream",
     "text": [
      "1st contraction (0, 4)\n",
      "2nd contraction (0, 3)\n",
      "3rd contraction (0, 2)\n",
      "4th contraction (0, 1)\n"
     ]
    },
    {
     "data": {
      "text/html": [
       "<html>\\(\\displaystyle \\Psi_{0} = W_{\\alpha\\beta\\gamma\\delta}l^{\\alpha}m^{\\beta}l^{\\gamma}m^{\\delta} =  0\\)</html>"
      ],
      "text/latex": [
       "$\\displaystyle \\Psi_{0} = W_{\\alpha\\beta\\gamma\\delta}l^{\\alpha}m^{\\beta}l^{\\gamma}m^{\\delta} =  0$"
      ],
      "text/plain": [
       "\\Psi_{0} = W_{\\alpha\\beta\\gamma\\delta}l^{\\alpha}m^{\\beta}l^{\\gamma}m^{\\delta} =  0"
      ]
     },
     "metadata": {},
     "output_type": "display_data"
    }
   ],
   "source": [
    "print('1st contraction', Weyl_tensor.tensor_type())\n",
    "Psi0 = Weyl_tensor.contract(0, tetrad_L, 0)\n",
    "Psi0.apply_map(lambda u: u.taylor(a,0,1))\n",
    "print('2nd contraction', Psi0.tensor_type())\n",
    "Psi0 = Psi0.contract(0, tetrad_Mr, 0)\n",
    "Psi0.apply_map(lambda u: u.taylor(a,0,1))\n",
    "print('3rd contraction', Psi0.tensor_type())\n",
    "Psi0 = Psi0.contract(0, tetrad_L, 0)\n",
    "Psi0.apply_map(lambda u: u.taylor(a,0,1))\n",
    "print('4th contraction', Psi0.tensor_type())\n",
    "Psi0 = Psi0.contract(0, tetrad_Mr, 0)\n",
    "Psi0 = Psi0.expr().taylor(a,0,1)\n",
    "latex_str = r'\\Psi_{0} = W_{\\alpha\\beta\\gamma\\delta}l^{\\alpha}m^{\\beta}l^{\\gamma}m^{\\delta} = ' \n",
    "show(LatexExpr(latex_str), Psi0)"
   ]
  },
  {
   "cell_type": "markdown",
   "id": "531e5862",
   "metadata": {},
   "source": [
    "## Scalar I"
   ]
  },
  {
   "cell_type": "code",
   "execution_count": 26,
   "id": "575ddc62",
   "metadata": {},
   "outputs": [
    {
     "name": "stdout",
     "output_type": "stream",
     "text": [
      "1st contraction (0, 4)\n",
      "2nd contraction (0, 3)\n",
      "3rd contraction (0, 2)\n",
      "4th contraction (0, 1)\n"
     ]
    },
    {
     "data": {
      "text/html": [
       "<html>\\(\\displaystyle \\Psi_{1} = W_{\\alpha\\beta\\gamma\\delta}l^{\\alpha}n^{\\beta}l^{\\gamma}m^{\\delta} =  \\frac{{\\left(6 \\, {\\left(2310 i \\, \\sqrt{2} {\\left(r - r_{m}\\right)}^{\\frac{7}{13}} r^{3} - 2873 i \\, \\sqrt{2} {\\left(r - r_{m}\\right)}^{\\frac{5}{13}} r^{\\frac{41}{13}}\\right)} r_{m}^{6} - {\\left(-27720 i \\, \\sqrt{2} {\\left(r - r_{m}\\right)}^{\\frac{9}{13}} r^{\\frac{50}{13}} + 77211 i \\, \\sqrt{2} {\\left(r - r_{m}\\right)}^{\\frac{7}{13}} r^{4} - 44785 i \\, \\sqrt{2} {\\left(r - r_{m}\\right)}^{\\frac{5}{13}} r^{\\frac{54}{13}}\\right)} r_{m}^{5} + 4 \\, {\\left(3465 i \\, \\sqrt{2} {\\left(r - r_{m}\\right)}^{\\frac{11}{13}} r^{\\frac{61}{13}} - 24662 i \\, \\sqrt{2} {\\left(r - r_{m}\\right)}^{\\frac{9}{13}} r^{\\frac{63}{13}} + 24746 i \\, \\sqrt{2} {\\left(r - r_{m}\\right)}^{\\frac{7}{13}} r^{5} - 1690 i \\, \\sqrt{2} {\\left(r - r_{m}\\right)}^{\\frac{5}{13}} r^{\\frac{67}{13}}\\right)} r_{m}^{4} + 13 \\, {\\left(-4795 i \\, \\sqrt{2} {\\left(r - r_{m}\\right)}^{\\frac{11}{13}} r^{\\frac{74}{13}} + 8602 i \\, \\sqrt{2} {\\left(r - r_{m}\\right)}^{\\frac{9}{13}} r^{\\frac{76}{13}} + 2043 i \\, \\sqrt{2} {\\left(r - r_{m}\\right)}^{\\frac{7}{13}} r^{6} - 5850 i \\, \\sqrt{2} {\\left(r - r_{m}\\right)}^{\\frac{5}{13}} r^{\\frac{80}{13}} + 1820 i \\, \\sqrt{2} r^{\\frac{85}{13}}\\right)} r_{m}^{3} - {\\left(-28561 i \\, \\sqrt{2} {\\left(r - r_{m}\\right)}^{\\frac{9}{13}} r^{\\frac{76}{13}} + 28561 i \\, \\sqrt{2} {\\left(r - r_{m}\\right)}^{\\frac{5}{13}} r^{\\frac{80}{13}} - 6 \\, {\\left(-4884 i \\, \\sqrt{2} {\\left(r - r_{m}\\right)}^{\\frac{7}{13}} + 5915 i \\, \\sqrt{2} {\\left(r - r_{m}\\right)}^{\\frac{5}{13}} r^{\\frac{2}{13}}\\right)} r_{m}^{6} - 2 \\, {\\left(52470 i \\, \\sqrt{2} {\\left(r - r_{m}\\right)}^{\\frac{7}{13}} r - 55601 i \\, \\sqrt{2} {\\left(r - r_{m}\\right)}^{\\frac{5}{13}} r^{\\frac{15}{13}}\\right)} r_{m}^{5} + {\\left(-50024 i \\, \\sqrt{2} {\\left(r - r_{m}\\right)}^{\\frac{9}{13}} r^{\\frac{24}{13}} + 138699 i \\, \\sqrt{2} {\\left(r - r_{m}\\right)}^{\\frac{7}{13}} r^{2} - 61347 i \\, \\sqrt{2} {\\left(r - r_{m}\\right)}^{\\frac{5}{13}} r^{\\frac{28}{13}}\\right)} r_{m}^{4} - 26 \\, {\\left(-6890 i \\, \\sqrt{2} {\\left(r - r_{m}\\right)}^{\\frac{9}{13}} r^{\\frac{37}{13}} + 3069 i \\, \\sqrt{2} {\\left(r - r_{m}\\right)}^{\\frac{7}{13}} r^{3} + 6032 i \\, \\sqrt{2} {\\left(r - r_{m}\\right)}^{\\frac{5}{13}} r^{\\frac{41}{13}}\\right)} r_{m}^{3} - 169 \\, {\\left(1401 i \\, \\sqrt{2} {\\left(r - r_{m}\\right)}^{\\frac{9}{13}} r^{\\frac{50}{13}} - 99 i \\, \\sqrt{2} {\\left(r - r_{m}\\right)}^{\\frac{7}{13}} r^{4} - 1532 i \\, \\sqrt{2} {\\left(r - r_{m}\\right)}^{\\frac{5}{13}} r^{\\frac{54}{13}}\\right)} r_{m}^{2} - 4394 \\, {\\left(-31 i \\, \\sqrt{2} {\\left(r - r_{m}\\right)}^{\\frac{9}{13}} r^{\\frac{63}{13}} + 33 i \\, \\sqrt{2} {\\left(r - r_{m}\\right)}^{\\frac{5}{13}} r^{\\frac{67}{13}}\\right)} r_{m}\\right)} r_{p}^{3} + 169 \\, {\\left(566 i \\, \\sqrt{2} {\\left(r - r_{m}\\right)}^{\\frac{11}{13}} r^{\\frac{87}{13}} - 242 i \\, \\sqrt{2} {\\left(r - r_{m}\\right)}^{\\frac{9}{13}} r^{\\frac{89}{13}} - 654 i \\, \\sqrt{2} {\\left(r - r_{m}\\right)}^{\\frac{7}{13}} r^{7} + 470 i \\, \\sqrt{2} {\\left(r - r_{m}\\right)}^{\\frac{5}{13}} r^{\\frac{93}{13}} - 283 i \\, \\sqrt{2} r^{\\frac{98}{13}}\\right)} r_{m}^{2} - {\\left(-57122 i \\, \\sqrt{2} {\\left(r - r_{m}\\right)}^{\\frac{11}{13}} r^{\\frac{87}{13}} + 57122 i \\, \\sqrt{2} {\\left(r - r_{m}\\right)}^{\\frac{9}{13}} r^{\\frac{89}{13}} + 57122 i \\, \\sqrt{2} {\\left(r - r_{m}\\right)}^{\\frac{7}{13}} r^{7} - 57122 i \\, \\sqrt{2} {\\left(r - r_{m}\\right)}^{\\frac{5}{13}} r^{\\frac{93}{13}} - 18 \\, {\\left(4026 i \\, \\sqrt{2} {\\left(r - r_{m}\\right)}^{\\frac{7}{13}} r - 4901 i \\, \\sqrt{2} {\\left(r - r_{m}\\right)}^{\\frac{5}{13}} r^{\\frac{15}{13}}\\right)} r_{m}^{6} - 3 \\, {\\left(19536 i \\, \\sqrt{2} {\\left(r - r_{m}\\right)}^{\\frac{9}{13}} r^{\\frac{24}{13}} - 107865 i \\, \\sqrt{2} {\\left(r - r_{m}\\right)}^{\\frac{7}{13}} r^{2} + 89063 i \\, \\sqrt{2} {\\left(r - r_{m}\\right)}^{\\frac{5}{13}} r^{\\frac{28}{13}}\\right)} r_{m}^{5} - 2 \\, {\\left(-137490 i \\, \\sqrt{2} {\\left(r - r_{m}\\right)}^{\\frac{9}{13}} r^{\\frac{37}{13}} + 236356 i \\, \\sqrt{2} {\\left(r - r_{m}\\right)}^{\\frac{7}{13}} r^{3} - 64727 i \\, \\sqrt{2} {\\left(r - r_{m}\\right)}^{\\frac{5}{13}} r^{\\frac{41}{13}}\\right)} r_{m}^{4} - 13 \\, {\\left(-7696 i \\, \\sqrt{2} {\\left(r - r_{m}\\right)}^{\\frac{11}{13}} r^{\\frac{48}{13}} + 42761 i \\, \\sqrt{2} {\\left(r - r_{m}\\right)}^{\\frac{9}{13}} r^{\\frac{50}{13}} - 11221 i \\, \\sqrt{2} {\\left(r - r_{m}\\right)}^{\\frac{7}{13}} r^{4} - 29978 i \\, \\sqrt{2} {\\left(r - r_{m}\\right)}^{\\frac{5}{13}} r^{\\frac{54}{13}}\\right)} r_{m}^{3} - 338 \\, {\\left(764 i \\, \\sqrt{2} {\\left(r - r_{m}\\right)}^{\\frac{11}{13}} r^{\\frac{61}{13}} - 1713 i \\, \\sqrt{2} {\\left(r - r_{m}\\right)}^{\\frac{9}{13}} r^{\\frac{63}{13}} - 744 i \\, \\sqrt{2} {\\left(r - r_{m}\\right)}^{\\frac{7}{13}} r^{5} + 1767 i \\, \\sqrt{2} {\\left(r - r_{m}\\right)}^{\\frac{5}{13}} r^{\\frac{67}{13}}\\right)} r_{m}^{2} - 2197 \\, {\\left(-98 i \\, \\sqrt{2} {\\left(r - r_{m}\\right)}^{\\frac{11}{13}} r^{\\frac{74}{13}} + 135 i \\, \\sqrt{2} {\\left(r - r_{m}\\right)}^{\\frac{9}{13}} r^{\\frac{76}{13}} + 106 i \\, \\sqrt{2} {\\left(r - r_{m}\\right)}^{\\frac{7}{13}} r^{6} - 143 i \\, \\sqrt{2} {\\left(r - r_{m}\\right)}^{\\frac{5}{13}} r^{\\frac{80}{13}}\\right)} r_{m}\\right)} r_{p}^{2} + 24167 \\, {\\left(-2 i \\, \\sqrt{2} {\\left(r - r_{m}\\right)}^{\\frac{11}{13}} r^{\\frac{100}{13}} + 2 i \\, \\sqrt{2} {\\left(r - r_{m}\\right)}^{\\frac{7}{13}} r^{8} - i \\, \\sqrt{2} {\\left(r - r_{m}\\right)}^{\\frac{5}{13}} r^{\\frac{106}{13}} + i \\, \\sqrt{2} r^{\\frac{111}{13}}\\right)} r_{m} - {\\left(57122 i \\, \\sqrt{2} {\\left(r - r_{m}\\right)}^{\\frac{11}{13}} r^{\\frac{100}{13}} - 57122 i \\, \\sqrt{2} {\\left(r - r_{m}\\right)}^{\\frac{7}{13}} r^{8} + 28561 i \\, \\sqrt{2} {\\left(r - r_{m}\\right)}^{\\frac{5}{13}} r^{\\frac{106}{13}} - 28561 i \\, \\sqrt{2} r^{\\frac{111}{13}} - 18 \\, {\\left(-3168 i \\, \\sqrt{2} {\\left(r - r_{m}\\right)}^{\\frac{7}{13}} r^{2} + 3887 i \\, \\sqrt{2} {\\left(r - r_{m}\\right)}^{\\frac{5}{13}} r^{\\frac{28}{13}}\\right)} r_{m}^{6} - 18 \\, {\\left(-4796 i \\, \\sqrt{2} {\\left(r - r_{m}\\right)}^{\\frac{9}{13}} r^{\\frac{37}{13}} + 16437 i \\, \\sqrt{2} {\\left(r - r_{m}\\right)}^{\\frac{7}{13}} r^{3} - 11154 i \\, \\sqrt{2} {\\left(r - r_{m}\\right)}^{\\frac{5}{13}} r^{\\frac{41}{13}}\\right)} r_{m}^{5} + {\\left(29304 i \\, \\sqrt{2} {\\left(r - r_{m}\\right)}^{\\frac{11}{13}} r^{\\frac{48}{13}} - 341856 i \\, \\sqrt{2} {\\left(r - r_{m}\\right)}^{\\frac{9}{13}} r^{\\frac{50}{13}} + 432997 i \\, \\sqrt{2} {\\left(r - r_{m}\\right)}^{\\frac{7}{13}} r^{4} - 74867 i \\, \\sqrt{2} {\\left(r - r_{m}\\right)}^{\\frac{5}{13}} r^{\\frac{54}{13}}\\right)} r_{m}^{4} - 52 \\, {\\left(3725 i \\, \\sqrt{2} {\\left(r - r_{m}\\right)}^{\\frac{11}{13}} r^{\\frac{61}{13}} - 9971 i \\, \\sqrt{2} {\\left(r - r_{m}\\right)}^{\\frac{9}{13}} r^{\\frac{63}{13}} + 760 i \\, \\sqrt{2} {\\left(r - r_{m}\\right)}^{\\frac{7}{13}} r^{5} + 5941 i \\, \\sqrt{2} {\\left(r - r_{m}\\right)}^{\\frac{5}{13}} r^{\\frac{67}{13}} - 962 i \\, \\sqrt{2} r^{\\frac{72}{13}}\\right)} r_{m}^{3} - 169 \\, {\\left(-2193 i \\, \\sqrt{2} {\\left(r - r_{m}\\right)}^{\\frac{11}{13}} r^{\\frac{74}{13}} + 2128 i \\, \\sqrt{2} {\\left(r - r_{m}\\right)}^{\\frac{9}{13}} r^{\\frac{76}{13}} + 2241 i \\, \\sqrt{2} {\\left(r - r_{m}\\right)}^{\\frac{7}{13}} r^{6} - 2472 i \\, \\sqrt{2} {\\left(r - r_{m}\\right)}^{\\frac{5}{13}} r^{\\frac{80}{13}} + 764 i \\, \\sqrt{2} r^{\\frac{85}{13}}\\right)} r_{m}^{2} - 2197 \\, {\\left(120 i \\, \\sqrt{2} {\\left(r - r_{m}\\right)}^{\\frac{11}{13}} r^{\\frac{87}{13}} - 44 i \\, \\sqrt{2} {\\left(r - r_{m}\\right)}^{\\frac{9}{13}} r^{\\frac{89}{13}} - 128 i \\, \\sqrt{2} {\\left(r - r_{m}\\right)}^{\\frac{7}{13}} r^{7} + 88 i \\, \\sqrt{2} {\\left(r - r_{m}\\right)}^{\\frac{5}{13}} r^{\\frac{93}{13}} - 49 i \\, \\sqrt{2} r^{\\frac{98}{13}}\\right)} r_{m}\\right)} r_{p}\\right)} a \\sin\\left({\\theta}\\right)}{22308 \\, {\\left({\\left(r - r_{m}\\right)}^{\\frac{4}{13}} r^{\\frac{81}{13}} r_{m}^{6} + {\\left(3 \\, {\\left(r - r_{m}\\right)}^{\\frac{6}{13}} r^{\\frac{92}{13}} - 4 \\, {\\left(r - r_{m}\\right)}^{\\frac{4}{13}} r^{\\frac{94}{13}}\\right)} r_{m}^{5} + 3 \\, {\\left({\\left(r - r_{m}\\right)}^{\\frac{8}{13}} r^{\\frac{103}{13}} - 3 \\, {\\left(r - r_{m}\\right)}^{\\frac{6}{13}} r^{\\frac{105}{13}} + 2 \\, {\\left(r - r_{m}\\right)}^{\\frac{4}{13}} r^{\\frac{107}{13}}\\right)} r_{m}^{4} + {\\left({\\left(r - r_{m}\\right)}^{\\frac{10}{13}} r^{\\frac{114}{13}} - 6 \\, {\\left(r - r_{m}\\right)}^{\\frac{8}{13}} r^{\\frac{116}{13}} + 9 \\, {\\left(r - r_{m}\\right)}^{\\frac{6}{13}} r^{\\frac{118}{13}} - 4 \\, {\\left(r - r_{m}\\right)}^{\\frac{4}{13}} r^{\\frac{120}{13}}\\right)} r_{m}^{3} - {\\left({\\left(r - r_{m}\\right)}^{\\frac{4}{13}} r^{\\frac{94}{13}} r_{m}^{2} - 4 \\, {\\left(r - r_{m}\\right)}^{\\frac{4}{13}} r^{\\frac{81}{13}} r_{m}^{3} + 6 \\, {\\left(r - r_{m}\\right)}^{\\frac{4}{13}} r^{\\frac{68}{13}} r_{m}^{4} - 4 \\, {\\left(r - r_{m}\\right)}^{\\frac{4}{13}} r^{\\frac{55}{13}} r_{m}^{5} + {\\left(r - r_{m}\\right)}^{\\frac{4}{13}} r^{\\frac{42}{13}} r_{m}^{6}\\right)} r_{p}^{3} - {\\left({\\left(r - r_{m}\\right)}^{\\frac{10}{13}} r^{\\frac{127}{13}} - 3 \\, {\\left(r - r_{m}\\right)}^{\\frac{8}{13}} r^{\\frac{129}{13}} + 3 \\, {\\left(r - r_{m}\\right)}^{\\frac{6}{13}} r^{\\frac{131}{13}} - {\\left(r - r_{m}\\right)}^{\\frac{4}{13}} r^{\\frac{133}{13}}\\right)} r_{m}^{2} + 3 \\, {\\left({\\left(r - r_{m}\\right)}^{\\frac{4}{13}} r^{\\frac{55}{13}} r_{m}^{6} + {\\left({\\left(r - r_{m}\\right)}^{\\frac{6}{13}} r^{\\frac{66}{13}} - 4 \\, {\\left(r - r_{m}\\right)}^{\\frac{4}{13}} r^{\\frac{68}{13}}\\right)} r_{m}^{5} - 3 \\, {\\left({\\left(r - r_{m}\\right)}^{\\frac{6}{13}} r^{\\frac{79}{13}} - 2 \\, {\\left(r - r_{m}\\right)}^{\\frac{4}{13}} r^{\\frac{81}{13}}\\right)} r_{m}^{4} + {\\left(3 \\, {\\left(r - r_{m}\\right)}^{\\frac{6}{13}} r^{\\frac{92}{13}} - 4 \\, {\\left(r - r_{m}\\right)}^{\\frac{4}{13}} r^{\\frac{94}{13}}\\right)} r_{m}^{3} - {\\left({\\left(r - r_{m}\\right)}^{\\frac{6}{13}} r^{\\frac{105}{13}} - {\\left(r - r_{m}\\right)}^{\\frac{4}{13}} r^{\\frac{107}{13}}\\right)} r_{m}^{2}\\right)} r_{p}^{2} - 3 \\, {\\left({\\left(r - r_{m}\\right)}^{\\frac{4}{13}} r^{\\frac{68}{13}} r_{m}^{6} + 2 \\, {\\left({\\left(r - r_{m}\\right)}^{\\frac{6}{13}} r^{\\frac{79}{13}} - 2 \\, {\\left(r - r_{m}\\right)}^{\\frac{4}{13}} r^{\\frac{81}{13}}\\right)} r_{m}^{5} + {\\left({\\left(r - r_{m}\\right)}^{\\frac{8}{13}} r^{\\frac{90}{13}} - 6 \\, {\\left(r - r_{m}\\right)}^{\\frac{6}{13}} r^{\\frac{92}{13}} + 6 \\, {\\left(r - r_{m}\\right)}^{\\frac{4}{13}} r^{\\frac{94}{13}}\\right)} r_{m}^{4} - 2 \\, {\\left({\\left(r - r_{m}\\right)}^{\\frac{8}{13}} r^{\\frac{103}{13}} - 3 \\, {\\left(r - r_{m}\\right)}^{\\frac{6}{13}} r^{\\frac{105}{13}} + 2 \\, {\\left(r - r_{m}\\right)}^{\\frac{4}{13}} r^{\\frac{107}{13}}\\right)} r_{m}^{3} + {\\left({\\left(r - r_{m}\\right)}^{\\frac{8}{13}} r^{\\frac{116}{13}} - 2 \\, {\\left(r - r_{m}\\right)}^{\\frac{6}{13}} r^{\\frac{118}{13}} + {\\left(r - r_{m}\\right)}^{\\frac{4}{13}} r^{\\frac{120}{13}}\\right)} r_{m}^{2}\\right)} r_{p}\\right)}}\\)</html>"
      ],
      "text/latex": [
       "$\\displaystyle \\Psi_{1} = W_{\\alpha\\beta\\gamma\\delta}l^{\\alpha}n^{\\beta}l^{\\gamma}m^{\\delta} =  \\frac{{\\left(6 \\, {\\left(2310 i \\, \\sqrt{2} {\\left(r - r_{m}\\right)}^{\\frac{7}{13}} r^{3} - 2873 i \\, \\sqrt{2} {\\left(r - r_{m}\\right)}^{\\frac{5}{13}} r^{\\frac{41}{13}}\\right)} r_{m}^{6} - {\\left(-27720 i \\, \\sqrt{2} {\\left(r - r_{m}\\right)}^{\\frac{9}{13}} r^{\\frac{50}{13}} + 77211 i \\, \\sqrt{2} {\\left(r - r_{m}\\right)}^{\\frac{7}{13}} r^{4} - 44785 i \\, \\sqrt{2} {\\left(r - r_{m}\\right)}^{\\frac{5}{13}} r^{\\frac{54}{13}}\\right)} r_{m}^{5} + 4 \\, {\\left(3465 i \\, \\sqrt{2} {\\left(r - r_{m}\\right)}^{\\frac{11}{13}} r^{\\frac{61}{13}} - 24662 i \\, \\sqrt{2} {\\left(r - r_{m}\\right)}^{\\frac{9}{13}} r^{\\frac{63}{13}} + 24746 i \\, \\sqrt{2} {\\left(r - r_{m}\\right)}^{\\frac{7}{13}} r^{5} - 1690 i \\, \\sqrt{2} {\\left(r - r_{m}\\right)}^{\\frac{5}{13}} r^{\\frac{67}{13}}\\right)} r_{m}^{4} + 13 \\, {\\left(-4795 i \\, \\sqrt{2} {\\left(r - r_{m}\\right)}^{\\frac{11}{13}} r^{\\frac{74}{13}} + 8602 i \\, \\sqrt{2} {\\left(r - r_{m}\\right)}^{\\frac{9}{13}} r^{\\frac{76}{13}} + 2043 i \\, \\sqrt{2} {\\left(r - r_{m}\\right)}^{\\frac{7}{13}} r^{6} - 5850 i \\, \\sqrt{2} {\\left(r - r_{m}\\right)}^{\\frac{5}{13}} r^{\\frac{80}{13}} + 1820 i \\, \\sqrt{2} r^{\\frac{85}{13}}\\right)} r_{m}^{3} - {\\left(-28561 i \\, \\sqrt{2} {\\left(r - r_{m}\\right)}^{\\frac{9}{13}} r^{\\frac{76}{13}} + 28561 i \\, \\sqrt{2} {\\left(r - r_{m}\\right)}^{\\frac{5}{13}} r^{\\frac{80}{13}} - 6 \\, {\\left(-4884 i \\, \\sqrt{2} {\\left(r - r_{m}\\right)}^{\\frac{7}{13}} + 5915 i \\, \\sqrt{2} {\\left(r - r_{m}\\right)}^{\\frac{5}{13}} r^{\\frac{2}{13}}\\right)} r_{m}^{6} - 2 \\, {\\left(52470 i \\, \\sqrt{2} {\\left(r - r_{m}\\right)}^{\\frac{7}{13}} r - 55601 i \\, \\sqrt{2} {\\left(r - r_{m}\\right)}^{\\frac{5}{13}} r^{\\frac{15}{13}}\\right)} r_{m}^{5} + {\\left(-50024 i \\, \\sqrt{2} {\\left(r - r_{m}\\right)}^{\\frac{9}{13}} r^{\\frac{24}{13}} + 138699 i \\, \\sqrt{2} {\\left(r - r_{m}\\right)}^{\\frac{7}{13}} r^{2} - 61347 i \\, \\sqrt{2} {\\left(r - r_{m}\\right)}^{\\frac{5}{13}} r^{\\frac{28}{13}}\\right)} r_{m}^{4} - 26 \\, {\\left(-6890 i \\, \\sqrt{2} {\\left(r - r_{m}\\right)}^{\\frac{9}{13}} r^{\\frac{37}{13}} + 3069 i \\, \\sqrt{2} {\\left(r - r_{m}\\right)}^{\\frac{7}{13}} r^{3} + 6032 i \\, \\sqrt{2} {\\left(r - r_{m}\\right)}^{\\frac{5}{13}} r^{\\frac{41}{13}}\\right)} r_{m}^{3} - 169 \\, {\\left(1401 i \\, \\sqrt{2} {\\left(r - r_{m}\\right)}^{\\frac{9}{13}} r^{\\frac{50}{13}} - 99 i \\, \\sqrt{2} {\\left(r - r_{m}\\right)}^{\\frac{7}{13}} r^{4} - 1532 i \\, \\sqrt{2} {\\left(r - r_{m}\\right)}^{\\frac{5}{13}} r^{\\frac{54}{13}}\\right)} r_{m}^{2} - 4394 \\, {\\left(-31 i \\, \\sqrt{2} {\\left(r - r_{m}\\right)}^{\\frac{9}{13}} r^{\\frac{63}{13}} + 33 i \\, \\sqrt{2} {\\left(r - r_{m}\\right)}^{\\frac{5}{13}} r^{\\frac{67}{13}}\\right)} r_{m}\\right)} r_{p}^{3} + 169 \\, {\\left(566 i \\, \\sqrt{2} {\\left(r - r_{m}\\right)}^{\\frac{11}{13}} r^{\\frac{87}{13}} - 242 i \\, \\sqrt{2} {\\left(r - r_{m}\\right)}^{\\frac{9}{13}} r^{\\frac{89}{13}} - 654 i \\, \\sqrt{2} {\\left(r - r_{m}\\right)}^{\\frac{7}{13}} r^{7} + 470 i \\, \\sqrt{2} {\\left(r - r_{m}\\right)}^{\\frac{5}{13}} r^{\\frac{93}{13}} - 283 i \\, \\sqrt{2} r^{\\frac{98}{13}}\\right)} r_{m}^{2} - {\\left(-57122 i \\, \\sqrt{2} {\\left(r - r_{m}\\right)}^{\\frac{11}{13}} r^{\\frac{87}{13}} + 57122 i \\, \\sqrt{2} {\\left(r - r_{m}\\right)}^{\\frac{9}{13}} r^{\\frac{89}{13}} + 57122 i \\, \\sqrt{2} {\\left(r - r_{m}\\right)}^{\\frac{7}{13}} r^{7} - 57122 i \\, \\sqrt{2} {\\left(r - r_{m}\\right)}^{\\frac{5}{13}} r^{\\frac{93}{13}} - 18 \\, {\\left(4026 i \\, \\sqrt{2} {\\left(r - r_{m}\\right)}^{\\frac{7}{13}} r - 4901 i \\, \\sqrt{2} {\\left(r - r_{m}\\right)}^{\\frac{5}{13}} r^{\\frac{15}{13}}\\right)} r_{m}^{6} - 3 \\, {\\left(19536 i \\, \\sqrt{2} {\\left(r - r_{m}\\right)}^{\\frac{9}{13}} r^{\\frac{24}{13}} - 107865 i \\, \\sqrt{2} {\\left(r - r_{m}\\right)}^{\\frac{7}{13}} r^{2} + 89063 i \\, \\sqrt{2} {\\left(r - r_{m}\\right)}^{\\frac{5}{13}} r^{\\frac{28}{13}}\\right)} r_{m}^{5} - 2 \\, {\\left(-137490 i \\, \\sqrt{2} {\\left(r - r_{m}\\right)}^{\\frac{9}{13}} r^{\\frac{37}{13}} + 236356 i \\, \\sqrt{2} {\\left(r - r_{m}\\right)}^{\\frac{7}{13}} r^{3} - 64727 i \\, \\sqrt{2} {\\left(r - r_{m}\\right)}^{\\frac{5}{13}} r^{\\frac{41}{13}}\\right)} r_{m}^{4} - 13 \\, {\\left(-7696 i \\, \\sqrt{2} {\\left(r - r_{m}\\right)}^{\\frac{11}{13}} r^{\\frac{48}{13}} + 42761 i \\, \\sqrt{2} {\\left(r - r_{m}\\right)}^{\\frac{9}{13}} r^{\\frac{50}{13}} - 11221 i \\, \\sqrt{2} {\\left(r - r_{m}\\right)}^{\\frac{7}{13}} r^{4} - 29978 i \\, \\sqrt{2} {\\left(r - r_{m}\\right)}^{\\frac{5}{13}} r^{\\frac{54}{13}}\\right)} r_{m}^{3} - 338 \\, {\\left(764 i \\, \\sqrt{2} {\\left(r - r_{m}\\right)}^{\\frac{11}{13}} r^{\\frac{61}{13}} - 1713 i \\, \\sqrt{2} {\\left(r - r_{m}\\right)}^{\\frac{9}{13}} r^{\\frac{63}{13}} - 744 i \\, \\sqrt{2} {\\left(r - r_{m}\\right)}^{\\frac{7}{13}} r^{5} + 1767 i \\, \\sqrt{2} {\\left(r - r_{m}\\right)}^{\\frac{5}{13}} r^{\\frac{67}{13}}\\right)} r_{m}^{2} - 2197 \\, {\\left(-98 i \\, \\sqrt{2} {\\left(r - r_{m}\\right)}^{\\frac{11}{13}} r^{\\frac{74}{13}} + 135 i \\, \\sqrt{2} {\\left(r - r_{m}\\right)}^{\\frac{9}{13}} r^{\\frac{76}{13}} + 106 i \\, \\sqrt{2} {\\left(r - r_{m}\\right)}^{\\frac{7}{13}} r^{6} - 143 i \\, \\sqrt{2} {\\left(r - r_{m}\\right)}^{\\frac{5}{13}} r^{\\frac{80}{13}}\\right)} r_{m}\\right)} r_{p}^{2} + 24167 \\, {\\left(-2 i \\, \\sqrt{2} {\\left(r - r_{m}\\right)}^{\\frac{11}{13}} r^{\\frac{100}{13}} + 2 i \\, \\sqrt{2} {\\left(r - r_{m}\\right)}^{\\frac{7}{13}} r^{8} - i \\, \\sqrt{2} {\\left(r - r_{m}\\right)}^{\\frac{5}{13}} r^{\\frac{106}{13}} + i \\, \\sqrt{2} r^{\\frac{111}{13}}\\right)} r_{m} - {\\left(57122 i \\, \\sqrt{2} {\\left(r - r_{m}\\right)}^{\\frac{11}{13}} r^{\\frac{100}{13}} - 57122 i \\, \\sqrt{2} {\\left(r - r_{m}\\right)}^{\\frac{7}{13}} r^{8} + 28561 i \\, \\sqrt{2} {\\left(r - r_{m}\\right)}^{\\frac{5}{13}} r^{\\frac{106}{13}} - 28561 i \\, \\sqrt{2} r^{\\frac{111}{13}} - 18 \\, {\\left(-3168 i \\, \\sqrt{2} {\\left(r - r_{m}\\right)}^{\\frac{7}{13}} r^{2} + 3887 i \\, \\sqrt{2} {\\left(r - r_{m}\\right)}^{\\frac{5}{13}} r^{\\frac{28}{13}}\\right)} r_{m}^{6} - 18 \\, {\\left(-4796 i \\, \\sqrt{2} {\\left(r - r_{m}\\right)}^{\\frac{9}{13}} r^{\\frac{37}{13}} + 16437 i \\, \\sqrt{2} {\\left(r - r_{m}\\right)}^{\\frac{7}{13}} r^{3} - 11154 i \\, \\sqrt{2} {\\left(r - r_{m}\\right)}^{\\frac{5}{13}} r^{\\frac{41}{13}}\\right)} r_{m}^{5} + {\\left(29304 i \\, \\sqrt{2} {\\left(r - r_{m}\\right)}^{\\frac{11}{13}} r^{\\frac{48}{13}} - 341856 i \\, \\sqrt{2} {\\left(r - r_{m}\\right)}^{\\frac{9}{13}} r^{\\frac{50}{13}} + 432997 i \\, \\sqrt{2} {\\left(r - r_{m}\\right)}^{\\frac{7}{13}} r^{4} - 74867 i \\, \\sqrt{2} {\\left(r - r_{m}\\right)}^{\\frac{5}{13}} r^{\\frac{54}{13}}\\right)} r_{m}^{4} - 52 \\, {\\left(3725 i \\, \\sqrt{2} {\\left(r - r_{m}\\right)}^{\\frac{11}{13}} r^{\\frac{61}{13}} - 9971 i \\, \\sqrt{2} {\\left(r - r_{m}\\right)}^{\\frac{9}{13}} r^{\\frac{63}{13}} + 760 i \\, \\sqrt{2} {\\left(r - r_{m}\\right)}^{\\frac{7}{13}} r^{5} + 5941 i \\, \\sqrt{2} {\\left(r - r_{m}\\right)}^{\\frac{5}{13}} r^{\\frac{67}{13}} - 962 i \\, \\sqrt{2} r^{\\frac{72}{13}}\\right)} r_{m}^{3} - 169 \\, {\\left(-2193 i \\, \\sqrt{2} {\\left(r - r_{m}\\right)}^{\\frac{11}{13}} r^{\\frac{74}{13}} + 2128 i \\, \\sqrt{2} {\\left(r - r_{m}\\right)}^{\\frac{9}{13}} r^{\\frac{76}{13}} + 2241 i \\, \\sqrt{2} {\\left(r - r_{m}\\right)}^{\\frac{7}{13}} r^{6} - 2472 i \\, \\sqrt{2} {\\left(r - r_{m}\\right)}^{\\frac{5}{13}} r^{\\frac{80}{13}} + 764 i \\, \\sqrt{2} r^{\\frac{85}{13}}\\right)} r_{m}^{2} - 2197 \\, {\\left(120 i \\, \\sqrt{2} {\\left(r - r_{m}\\right)}^{\\frac{11}{13}} r^{\\frac{87}{13}} - 44 i \\, \\sqrt{2} {\\left(r - r_{m}\\right)}^{\\frac{9}{13}} r^{\\frac{89}{13}} - 128 i \\, \\sqrt{2} {\\left(r - r_{m}\\right)}^{\\frac{7}{13}} r^{7} + 88 i \\, \\sqrt{2} {\\left(r - r_{m}\\right)}^{\\frac{5}{13}} r^{\\frac{93}{13}} - 49 i \\, \\sqrt{2} r^{\\frac{98}{13}}\\right)} r_{m}\\right)} r_{p}\\right)} a \\sin\\left({\\theta}\\right)}{22308 \\, {\\left({\\left(r - r_{m}\\right)}^{\\frac{4}{13}} r^{\\frac{81}{13}} r_{m}^{6} + {\\left(3 \\, {\\left(r - r_{m}\\right)}^{\\frac{6}{13}} r^{\\frac{92}{13}} - 4 \\, {\\left(r - r_{m}\\right)}^{\\frac{4}{13}} r^{\\frac{94}{13}}\\right)} r_{m}^{5} + 3 \\, {\\left({\\left(r - r_{m}\\right)}^{\\frac{8}{13}} r^{\\frac{103}{13}} - 3 \\, {\\left(r - r_{m}\\right)}^{\\frac{6}{13}} r^{\\frac{105}{13}} + 2 \\, {\\left(r - r_{m}\\right)}^{\\frac{4}{13}} r^{\\frac{107}{13}}\\right)} r_{m}^{4} + {\\left({\\left(r - r_{m}\\right)}^{\\frac{10}{13}} r^{\\frac{114}{13}} - 6 \\, {\\left(r - r_{m}\\right)}^{\\frac{8}{13}} r^{\\frac{116}{13}} + 9 \\, {\\left(r - r_{m}\\right)}^{\\frac{6}{13}} r^{\\frac{118}{13}} - 4 \\, {\\left(r - r_{m}\\right)}^{\\frac{4}{13}} r^{\\frac{120}{13}}\\right)} r_{m}^{3} - {\\left({\\left(r - r_{m}\\right)}^{\\frac{4}{13}} r^{\\frac{94}{13}} r_{m}^{2} - 4 \\, {\\left(r - r_{m}\\right)}^{\\frac{4}{13}} r^{\\frac{81}{13}} r_{m}^{3} + 6 \\, {\\left(r - r_{m}\\right)}^{\\frac{4}{13}} r^{\\frac{68}{13}} r_{m}^{4} - 4 \\, {\\left(r - r_{m}\\right)}^{\\frac{4}{13}} r^{\\frac{55}{13}} r_{m}^{5} + {\\left(r - r_{m}\\right)}^{\\frac{4}{13}} r^{\\frac{42}{13}} r_{m}^{6}\\right)} r_{p}^{3} - {\\left({\\left(r - r_{m}\\right)}^{\\frac{10}{13}} r^{\\frac{127}{13}} - 3 \\, {\\left(r - r_{m}\\right)}^{\\frac{8}{13}} r^{\\frac{129}{13}} + 3 \\, {\\left(r - r_{m}\\right)}^{\\frac{6}{13}} r^{\\frac{131}{13}} - {\\left(r - r_{m}\\right)}^{\\frac{4}{13}} r^{\\frac{133}{13}}\\right)} r_{m}^{2} + 3 \\, {\\left({\\left(r - r_{m}\\right)}^{\\frac{4}{13}} r^{\\frac{55}{13}} r_{m}^{6} + {\\left({\\left(r - r_{m}\\right)}^{\\frac{6}{13}} r^{\\frac{66}{13}} - 4 \\, {\\left(r - r_{m}\\right)}^{\\frac{4}{13}} r^{\\frac{68}{13}}\\right)} r_{m}^{5} - 3 \\, {\\left({\\left(r - r_{m}\\right)}^{\\frac{6}{13}} r^{\\frac{79}{13}} - 2 \\, {\\left(r - r_{m}\\right)}^{\\frac{4}{13}} r^{\\frac{81}{13}}\\right)} r_{m}^{4} + {\\left(3 \\, {\\left(r - r_{m}\\right)}^{\\frac{6}{13}} r^{\\frac{92}{13}} - 4 \\, {\\left(r - r_{m}\\right)}^{\\frac{4}{13}} r^{\\frac{94}{13}}\\right)} r_{m}^{3} - {\\left({\\left(r - r_{m}\\right)}^{\\frac{6}{13}} r^{\\frac{105}{13}} - {\\left(r - r_{m}\\right)}^{\\frac{4}{13}} r^{\\frac{107}{13}}\\right)} r_{m}^{2}\\right)} r_{p}^{2} - 3 \\, {\\left({\\left(r - r_{m}\\right)}^{\\frac{4}{13}} r^{\\frac{68}{13}} r_{m}^{6} + 2 \\, {\\left({\\left(r - r_{m}\\right)}^{\\frac{6}{13}} r^{\\frac{79}{13}} - 2 \\, {\\left(r - r_{m}\\right)}^{\\frac{4}{13}} r^{\\frac{81}{13}}\\right)} r_{m}^{5} + {\\left({\\left(r - r_{m}\\right)}^{\\frac{8}{13}} r^{\\frac{90}{13}} - 6 \\, {\\left(r - r_{m}\\right)}^{\\frac{6}{13}} r^{\\frac{92}{13}} + 6 \\, {\\left(r - r_{m}\\right)}^{\\frac{4}{13}} r^{\\frac{94}{13}}\\right)} r_{m}^{4} - 2 \\, {\\left({\\left(r - r_{m}\\right)}^{\\frac{8}{13}} r^{\\frac{103}{13}} - 3 \\, {\\left(r - r_{m}\\right)}^{\\frac{6}{13}} r^{\\frac{105}{13}} + 2 \\, {\\left(r - r_{m}\\right)}^{\\frac{4}{13}} r^{\\frac{107}{13}}\\right)} r_{m}^{3} + {\\left({\\left(r - r_{m}\\right)}^{\\frac{8}{13}} r^{\\frac{116}{13}} - 2 \\, {\\left(r - r_{m}\\right)}^{\\frac{6}{13}} r^{\\frac{118}{13}} + {\\left(r - r_{m}\\right)}^{\\frac{4}{13}} r^{\\frac{120}{13}}\\right)} r_{m}^{2}\\right)} r_{p}\\right)}}$"
      ],
      "text/plain": [
       "\\Psi_{1} = W_{\\alpha\\beta\\gamma\\delta}l^{\\alpha}n^{\\beta}l^{\\gamma}m^{\\delta} =  1/22308*(6*(2310*I*sqrt(2)*(r - r_m)^(7/13)*r^3 - 2873*I*sqrt(2)*(r - r_m)^(5/13)*r^(41/13))*r_m^6 - (-27720*I*sqrt(2)*(r - r_m)^(9/13)*r^(50/13) + 77211*I*sqrt(2)*(r - r_m)^(7/13)*r^4 - 44785*I*sqrt(2)*(r - r_m)^(5/13)*r^(54/13))*r_m^5 + 4*(3465*I*sqrt(2)*(r - r_m)^(11/13)*r^(61/13) - 24662*I*sqrt(2)*(r - r_m)^(9/13)*r^(63/13) + 24746*I*sqrt(2)*(r - r_m)^(7/13)*r^5 - 1690*I*sqrt(2)*(r - r_m)^(5/13)*r^(67/13))*r_m^4 + 13*(-4795*I*sqrt(2)*(r - r_m)^(11/13)*r^(74/13) + 8602*I*sqrt(2)*(r - r_m)^(9/13)*r^(76/13) + 2043*I*sqrt(2)*(r - r_m)^(7/13)*r^6 - 5850*I*sqrt(2)*(r - r_m)^(5/13)*r^(80/13) + 1820*I*sqrt(2)*r^(85/13))*r_m^3 - (-28561*I*sqrt(2)*(r - r_m)^(9/13)*r^(76/13) + 28561*I*sqrt(2)*(r - r_m)^(5/13)*r^(80/13) - 6*(-4884*I*sqrt(2)*(r - r_m)^(7/13) + 5915*I*sqrt(2)*(r - r_m)^(5/13)*r^(2/13))*r_m^6 - 2*(52470*I*sqrt(2)*(r - r_m)^(7/13)*r - 55601*I*sqrt(2)*(r - r_m)^(5/13)*r^(15/13))*r_m^5 + (-50024*I*sqrt(2)*(r - r_m)^(9/13)*r^(24/13) + 138699*I*sqrt(2)*(r - r_m)^(7/13)*r^2 - 61347*I*sqrt(2)*(r - r_m)^(5/13)*r^(28/13))*r_m^4 - 26*(-6890*I*sqrt(2)*(r - r_m)^(9/13)*r^(37/13) + 3069*I*sqrt(2)*(r - r_m)^(7/13)*r^3 + 6032*I*sqrt(2)*(r - r_m)^(5/13)*r^(41/13))*r_m^3 - 169*(1401*I*sqrt(2)*(r - r_m)^(9/13)*r^(50/13) - 99*I*sqrt(2)*(r - r_m)^(7/13)*r^4 - 1532*I*sqrt(2)*(r - r_m)^(5/13)*r^(54/13))*r_m^2 - 4394*(-31*I*sqrt(2)*(r - r_m)^(9/13)*r^(63/13) + 33*I*sqrt(2)*(r - r_m)^(5/13)*r^(67/13))*r_m)*r_p^3 + 169*(566*I*sqrt(2)*(r - r_m)^(11/13)*r^(87/13) - 242*I*sqrt(2)*(r - r_m)^(9/13)*r^(89/13) - 654*I*sqrt(2)*(r - r_m)^(7/13)*r^7 + 470*I*sqrt(2)*(r - r_m)^(5/13)*r^(93/13) - 283*I*sqrt(2)*r^(98/13))*r_m^2 - (-57122*I*sqrt(2)*(r - r_m)^(11/13)*r^(87/13) + 57122*I*sqrt(2)*(r - r_m)^(9/13)*r^(89/13) + 57122*I*sqrt(2)*(r - r_m)^(7/13)*r^7 - 57122*I*sqrt(2)*(r - r_m)^(5/13)*r^(93/13) - 18*(4026*I*sqrt(2)*(r - r_m)^(7/13)*r - 4901*I*sqrt(2)*(r - r_m)^(5/13)*r^(15/13))*r_m^6 - 3*(19536*I*sqrt(2)*(r - r_m)^(9/13)*r^(24/13) - 107865*I*sqrt(2)*(r - r_m)^(7/13)*r^2 + 89063*I*sqrt(2)*(r - r_m)^(5/13)*r^(28/13))*r_m^5 - 2*(-137490*I*sqrt(2)*(r - r_m)^(9/13)*r^(37/13) + 236356*I*sqrt(2)*(r - r_m)^(7/13)*r^3 - 64727*I*sqrt(2)*(r - r_m)^(5/13)*r^(41/13))*r_m^4 - 13*(-7696*I*sqrt(2)*(r - r_m)^(11/13)*r^(48/13) + 42761*I*sqrt(2)*(r - r_m)^(9/13)*r^(50/13) - 11221*I*sqrt(2)*(r - r_m)^(7/13)*r^4 - 29978*I*sqrt(2)*(r - r_m)^(5/13)*r^(54/13))*r_m^3 - 338*(764*I*sqrt(2)*(r - r_m)^(11/13)*r^(61/13) - 1713*I*sqrt(2)*(r - r_m)^(9/13)*r^(63/13) - 744*I*sqrt(2)*(r - r_m)^(7/13)*r^5 + 1767*I*sqrt(2)*(r - r_m)^(5/13)*r^(67/13))*r_m^2 - 2197*(-98*I*sqrt(2)*(r - r_m)^(11/13)*r^(74/13) + 135*I*sqrt(2)*(r - r_m)^(9/13)*r^(76/13) + 106*I*sqrt(2)*(r - r_m)^(7/13)*r^6 - 143*I*sqrt(2)*(r - r_m)^(5/13)*r^(80/13))*r_m)*r_p^2 + 24167*(-2*I*sqrt(2)*(r - r_m)^(11/13)*r^(100/13) + 2*I*sqrt(2)*(r - r_m)^(7/13)*r^8 - I*sqrt(2)*(r - r_m)^(5/13)*r^(106/13) + I*sqrt(2)*r^(111/13))*r_m - (57122*I*sqrt(2)*(r - r_m)^(11/13)*r^(100/13) - 57122*I*sqrt(2)*(r - r_m)^(7/13)*r^8 + 28561*I*sqrt(2)*(r - r_m)^(5/13)*r^(106/13) - 28561*I*sqrt(2)*r^(111/13) - 18*(-3168*I*sqrt(2)*(r - r_m)^(7/13)*r^2 + 3887*I*sqrt(2)*(r - r_m)^(5/13)*r^(28/13))*r_m^6 - 18*(-4796*I*sqrt(2)*(r - r_m)^(9/13)*r^(37/13) + 16437*I*sqrt(2)*(r - r_m)^(7/13)*r^3 - 11154*I*sqrt(2)*(r - r_m)^(5/13)*r^(41/13))*r_m^5 + (29304*I*sqrt(2)*(r - r_m)^(11/13)*r^(48/13) - 341856*I*sqrt(2)*(r - r_m)^(9/13)*r^(50/13) + 432997*I*sqrt(2)*(r - r_m)^(7/13)*r^4 - 74867*I*sqrt(2)*(r - r_m)^(5/13)*r^(54/13))*r_m^4 - 52*(3725*I*sqrt(2)*(r - r_m)^(11/13)*r^(61/13) - 9971*I*sqrt(2)*(r - r_m)^(9/13)*r^(63/13) + 760*I*sqrt(2)*(r - r_m)^(7/13)*r^5 + 5941*I*sqrt(2)*(r - r_m)^(5/13)*r^(67/13) - 962*I*sqrt(2)*r^(72/13))*r_m^3 - 169*(-2193*I*sqrt(2)*(r - r_m)^(11/13)*r^(74/13) + 2128*I*sqrt(2)*(r - r_m)^(9/13)*r^(76/13) + 2241*I*sqrt(2)*(r - r_m)^(7/13)*r^6 - 2472*I*sqrt(2)*(r - r_m)^(5/13)*r^(80/13) + 764*I*sqrt(2)*r^(85/13))*r_m^2 - 2197*(120*I*sqrt(2)*(r - r_m)^(11/13)*r^(87/13) - 44*I*sqrt(2)*(r - r_m)^(9/13)*r^(89/13) - 128*I*sqrt(2)*(r - r_m)^(7/13)*r^7 + 88*I*sqrt(2)*(r - r_m)^(5/13)*r^(93/13) - 49*I*sqrt(2)*r^(98/13))*r_m)*r_p)*a*sin(th)/((r - r_m)^(4/13)*r^(81/13)*r_m^6 + (3*(r - r_m)^(6/13)*r^(92/13) - 4*(r - r_m)^(4/13)*r^(94/13))*r_m^5 + 3*((r - r_m)^(8/13)*r^(103/13) - 3*(r - r_m)^(6/13)*r^(105/13) + 2*(r - r_m)^(4/13)*r^(107/13))*r_m^4 + ((r - r_m)^(10/13)*r^(114/13) - 6*(r - r_m)^(8/13)*r^(116/13) + 9*(r - r_m)^(6/13)*r^(118/13) - 4*(r - r_m)^(4/13)*r^(120/13))*r_m^3 - ((r - r_m)^(4/13)*r^(94/13)*r_m^2 - 4*(r - r_m)^(4/13)*r^(81/13)*r_m^3 + 6*(r - r_m)^(4/13)*r^(68/13)*r_m^4 - 4*(r - r_m)^(4/13)*r^(55/13)*r_m^5 + (r - r_m)^(4/13)*r^(42/13)*r_m^6)*r_p^3 - ((r - r_m)^(10/13)*r^(127/13) - 3*(r - r_m)^(8/13)*r^(129/13) + 3*(r - r_m)^(6/13)*r^(131/13) - (r - r_m)^(4/13)*r^(133/13))*r_m^2 + 3*((r - r_m)^(4/13)*r^(55/13)*r_m^6 + ((r - r_m)^(6/13)*r^(66/13) - 4*(r - r_m)^(4/13)*r^(68/13))*r_m^5 - 3*((r - r_m)^(6/13)*r^(79/13) - 2*(r - r_m)^(4/13)*r^(81/13))*r_m^4 + (3*(r - r_m)^(6/13)*r^(92/13) - 4*(r - r_m)^(4/13)*r^(94/13))*r_m^3 - ((r - r_m)^(6/13)*r^(105/13) - (r - r_m)^(4/13)*r^(107/13))*r_m^2)*r_p^2 - 3*((r - r_m)^(4/13)*r^(68/13)*r_m^6 + 2*((r - r_m)^(6/13)*r^(79/13) - 2*(r - r_m)^(4/13)*r^(81/13))*r_m^5 + ((r - r_m)^(8/13)*r^(90/13) - 6*(r - r_m)^(6/13)*r^(92/13) + 6*(r - r_m)^(4/13)*r^(94/13))*r_m^4 - 2*((r - r_m)^(8/13)*r^(103/13) - 3*(r - r_m)^(6/13)*r^(105/13) + 2*(r - r_m)^(4/13)*r^(107/13))*r_m^3 + ((r - r_m)^(8/13)*r^(116/13) - 2*(r - r_m)^(6/13)*r^(118/13) + (r - r_m)^(4/13)*r^(120/13))*r_m^2)*r_p)"
      ]
     },
     "metadata": {},
     "output_type": "display_data"
    }
   ],
   "source": [
    "print('1st contraction', Weyl_tensor.tensor_type())\n",
    "Psi1 = Weyl_tensor.contract(0, tetrad_L, 0)\n",
    "Psi1.apply_map(lambda u: u.taylor(a,0,1))\n",
    "print('2nd contraction', Psi1.tensor_type())\n",
    "Psi1 = Psi1.contract(0, tetrad_N, 0)\n",
    "Psi1.apply_map(lambda u: u.taylor(a,0,1))\n",
    "print('3rd contraction', Psi1.tensor_type())\n",
    "Psi1 = Psi1.contract(0, tetrad_L, 0)\n",
    "Psi1.apply_map(lambda u: u.taylor(a,0,1))\n",
    "print('4th contraction', Psi1.tensor_type())\n",
    "Psi1 = Psi1.contract(0, tetrad_Mr, 0)\n",
    "Psi1 = Psi1.expr().taylor(a,0,1)\n",
    "latex_str = r'\\Psi_{1} = W_{\\alpha\\beta\\gamma\\delta}l^{\\alpha}n^{\\beta}l^{\\gamma}m^{\\delta} = ' \n",
    "show(LatexExpr(latex_str), Psi1)"
   ]
  },
  {
   "cell_type": "markdown",
   "id": "6132a119",
   "metadata": {},
   "source": [
    "## Scalar II"
   ]
  },
  {
   "cell_type": "code",
   "execution_count": 27,
   "id": "e15f5e19",
   "metadata": {},
   "outputs": [
    {
     "name": "stdout",
     "output_type": "stream",
     "text": [
      "1st contraction (0, 4)\n",
      "2nd contraction (0, 3)\n",
      "3rd contraction (0, 2)\n",
      "4th contraction (0, 1)\n"
     ]
    },
    {
     "data": {
      "text/html": [
       "<html>\\(\\displaystyle \\Psi_{2} = W_{\\alpha\\beta\\gamma\\delta}l^{\\alpha}m^{\\beta}\\bar{m}^{\\gamma}n^{\\delta} =  \\frac{140 \\, {\\left(r - r_{m}\\right)}^{\\frac{1}{13}} r^{\\frac{141}{13}} r_{m}^{10} + {\\left(169 \\, {\\left(r - r_{m}\\right)}^{\\frac{1}{13}} r^{\\frac{141}{13}} - 1820 \\, {\\left(r - r_{m}\\right)}^{\\frac{1}{13}} r^{\\frac{128}{13}} r_{m} + 8772 \\, {\\left(r - r_{m}\\right)}^{\\frac{1}{13}} r^{\\frac{115}{13}} r_{m}^{2} - 24936 \\, {\\left(r - r_{m}\\right)}^{\\frac{1}{13}} r^{\\frac{102}{13}} r_{m}^{3} + 46326 \\, {\\left(r - r_{m}\\right)}^{\\frac{1}{13}} r^{\\frac{89}{13}} r_{m}^{4} - 58800 \\, {\\left(r - r_{m}\\right)}^{\\frac{1}{13}} r^{\\frac{76}{13}} r_{m}^{5} + 51660 \\, {\\left(r - r_{m}\\right)}^{\\frac{1}{13}} r^{\\frac{63}{13}} r_{m}^{6} - 31032 \\, {\\left(r - r_{m}\\right)}^{\\frac{1}{13}} r^{\\frac{50}{13}} r_{m}^{7} + 12201 \\, {\\left(r - r_{m}\\right)}^{\\frac{1}{13}} r^{\\frac{37}{13}} r_{m}^{8} - 2836 \\, {\\left(r - r_{m}\\right)}^{\\frac{1}{13}} r^{\\frac{24}{13}} r_{m}^{9} + 296 \\, {\\left(r - r_{m}\\right)}^{\\frac{1}{13}} r^{\\frac{11}{13}} r_{m}^{10}\\right)} r_{p}^{10} + 3 \\, {\\left(420 \\, {\\left(r - r_{m}\\right)}^{\\frac{3}{13}} r^{\\frac{152}{13}} - 421 \\, {\\left(r - r_{m}\\right)}^{\\frac{1}{13}} r^{\\frac{154}{13}}\\right)} r_{m}^{9} + {\\left(1521 \\, {\\left(r - r_{m}\\right)}^{\\frac{3}{13}} r^{\\frac{152}{13}} - 1521 \\, {\\left(r - r_{m}\\right)}^{\\frac{1}{13}} r^{\\frac{154}{13}} - 2804 \\, {\\left(r - r_{m}\\right)}^{\\frac{1}{13}} r^{\\frac{24}{13}} r_{m}^{10} - 3 \\, {\\left(888 \\, {\\left(r - r_{m}\\right)}^{\\frac{3}{13}} r^{\\frac{35}{13}} - 8929 \\, {\\left(r - r_{m}\\right)}^{\\frac{1}{13}} r^{\\frac{37}{13}}\\right)} r_{m}^{9} + 3 \\, {\\left(7620 \\, {\\left(r - r_{m}\\right)}^{\\frac{3}{13}} r^{\\frac{48}{13}} - 38291 \\, {\\left(r - r_{m}\\right)}^{\\frac{1}{13}} r^{\\frac{50}{13}}\\right)} r_{m}^{8} - 9 \\, {\\left(9661 \\, {\\left(r - r_{m}\\right)}^{\\frac{3}{13}} r^{\\frac{61}{13}} - 32348 \\, {\\left(r - r_{m}\\right)}^{\\frac{1}{13}} r^{\\frac{63}{13}}\\right)} r_{m}^{7} + 21 \\, {\\left(9159 \\, {\\left(r - r_{m}\\right)}^{\\frac{3}{13}} r^{\\frac{74}{13}} - 22988 \\, {\\left(r - r_{m}\\right)}^{\\frac{1}{13}} r^{\\frac{76}{13}}\\right)} r_{m}^{6} - 21 \\, {\\left(12981 \\, {\\left(r - r_{m}\\right)}^{\\frac{3}{13}} r^{\\frac{87}{13}} - 26050 \\, {\\left(r - r_{m}\\right)}^{\\frac{1}{13}} r^{\\frac{89}{13}}\\right)} r_{m}^{5} + 21 \\, {\\left(12219 \\, {\\left(r - r_{m}\\right)}^{\\frac{3}{13}} r^{\\frac{100}{13}} - 20422 \\, {\\left(r - r_{m}\\right)}^{\\frac{1}{13}} r^{\\frac{102}{13}}\\right)} r_{m}^{4} - 3 \\, {\\left(53445 \\, {\\left(r - r_{m}\\right)}^{\\frac{3}{13}} r^{\\frac{113}{13}} - 76516 \\, {\\left(r - r_{m}\\right)}^{\\frac{1}{13}} r^{\\frac{115}{13}}\\right)} r_{m}^{3} + 3 \\, {\\left(21363 \\, {\\left(r - r_{m}\\right)}^{\\frac{3}{13}} r^{\\frac{126}{13}} - 26744 \\, {\\left(r - r_{m}\\right)}^{\\frac{1}{13}} r^{\\frac{128}{13}}\\right)} r_{m}^{2} - 13 \\, {\\left(1143 \\, {\\left(r - r_{m}\\right)}^{\\frac{3}{13}} r^{\\frac{139}{13}} - 1271 \\, {\\left(r - r_{m}\\right)}^{\\frac{1}{13}} r^{\\frac{141}{13}}\\right)} r_{m}\\right)} r_{p}^{9} + 3 \\, {\\left(1680 \\, {\\left(r - r_{m}\\right)}^{\\frac{5}{13}} r^{\\frac{163}{13}} - 3369 \\, {\\left(r - r_{m}\\right)}^{\\frac{3}{13}} r^{\\frac{165}{13}} + 1688 \\, {\\left(r - r_{m}\\right)}^{\\frac{1}{13}} r^{\\frac{167}{13}}\\right)} r_{m}^{8} + 9 \\, {\\left(676 \\, {\\left(r - r_{m}\\right)}^{\\frac{5}{13}} r^{\\frac{163}{13}} - 1352 \\, {\\left(r - r_{m}\\right)}^{\\frac{3}{13}} r^{\\frac{165}{13}} + 676 \\, {\\left(r - r_{m}\\right)}^{\\frac{1}{13}} r^{\\frac{167}{13}} + 1324 \\, {\\left(r - r_{m}\\right)}^{\\frac{1}{13}} r^{\\frac{37}{13}} r_{m}^{10} + {\\left(2508 \\, {\\left(r - r_{m}\\right)}^{\\frac{3}{13}} r^{\\frac{48}{13}} - 12607 \\, {\\left(r - r_{m}\\right)}^{\\frac{1}{13}} r^{\\frac{50}{13}}\\right)} r_{m}^{9} + {\\left(1184 \\, {\\left(r - r_{m}\\right)}^{\\frac{5}{13}} r^{\\frac{59}{13}} - 21443 \\, {\\left(r - r_{m}\\right)}^{\\frac{3}{13}} r^{\\frac{61}{13}} + 53868 \\, {\\left(r - r_{m}\\right)}^{\\frac{1}{13}} r^{\\frac{63}{13}}\\right)} r_{m}^{8} - {\\left(8976 \\, {\\left(r - r_{m}\\right)}^{\\frac{5}{13}} r^{\\frac{72}{13}} - 81229 \\, {\\left(r - r_{m}\\right)}^{\\frac{3}{13}} r^{\\frac{74}{13}} + 135972 \\, {\\left(r - r_{m}\\right)}^{\\frac{1}{13}} r^{\\frac{76}{13}}\\right)} r_{m}^{7} + {\\left(29668 \\, {\\left(r - r_{m}\\right)}^{\\frac{5}{13}} r^{\\frac{85}{13}} - 178871 \\, {\\left(r - r_{m}\\right)}^{\\frac{3}{13}} r^{\\frac{87}{13}} + 224448 \\, {\\left(r - r_{m}\\right)}^{\\frac{1}{13}} r^{\\frac{89}{13}}\\right)} r_{m}^{6} - {\\left(55816 \\, {\\left(r - r_{m}\\right)}^{\\frac{5}{13}} r^{\\frac{98}{13}} - 252217 \\, {\\left(r - r_{m}\\right)}^{\\frac{3}{13}} r^{\\frac{100}{13}} + 253050 \\, {\\left(r - r_{m}\\right)}^{\\frac{1}{13}} r^{\\frac{102}{13}}\\right)} r_{m}^{5} + {\\left(65340 \\, {\\left(r - r_{m}\\right)}^{\\frac{5}{13}} r^{\\frac{111}{13}} - 236033 \\, {\\left(r - r_{m}\\right)}^{\\frac{3}{13}} r^{\\frac{113}{13}} + 197232 \\, {\\left(r - r_{m}\\right)}^{\\frac{1}{13}} r^{\\frac{115}{13}}\\right)} r_{m}^{4} - {\\left(48704 \\, {\\left(r - r_{m}\\right)}^{\\frac{5}{13}} r^{\\frac{124}{13}} - 146503 \\, {\\left(r - r_{m}\\right)}^{\\frac{3}{13}} r^{\\frac{126}{13}} + 104868 \\, {\\left(r - r_{m}\\right)}^{\\frac{1}{13}} r^{\\frac{128}{13}}\\right)} r_{m}^{3} + {\\left(22556 \\, {\\left(r - r_{m}\\right)}^{\\frac{5}{13}} r^{\\frac{137}{13}} - 58109 \\, {\\left(r - r_{m}\\right)}^{\\frac{3}{13}} r^{\\frac{139}{13}} + 36372 \\, {\\left(r - r_{m}\\right)}^{\\frac{1}{13}} r^{\\frac{141}{13}}\\right)} r_{m}^{2} - 13 \\, {\\left(456 \\, {\\left(r - r_{m}\\right)}^{\\frac{5}{13}} r^{\\frac{150}{13}} - 1027 \\, {\\left(r - r_{m}\\right)}^{\\frac{3}{13}} r^{\\frac{152}{13}} + 571 \\, {\\left(r - r_{m}\\right)}^{\\frac{1}{13}} r^{\\frac{154}{13}}\\right)} r_{m}\\right)} r_{p}^{8} + 3 \\, {\\left(3920 \\, {\\left(r - r_{m}\\right)}^{\\frac{7}{13}} r^{\\frac{174}{13}} - 11796 \\, {\\left(r - r_{m}\\right)}^{\\frac{5}{13}} r^{\\frac{176}{13}} + 11823 \\, {\\left(r - r_{m}\\right)}^{\\frac{3}{13}} r^{\\frac{178}{13}} - 3948 \\, {\\left(r - r_{m}\\right)}^{\\frac{1}{13}} r^{\\frac{180}{13}}\\right)} r_{m}^{7} + 12 \\, {\\left(1183 \\, {\\left(r - r_{m}\\right)}^{\\frac{7}{13}} r^{\\frac{174}{13}} - 3549 \\, {\\left(r - r_{m}\\right)}^{\\frac{5}{13}} r^{\\frac{176}{13}} + 3549 \\, {\\left(r - r_{m}\\right)}^{\\frac{3}{13}} r^{\\frac{178}{13}} - 1183 \\, {\\left(r - r_{m}\\right)}^{\\frac{1}{13}} r^{\\frac{180}{13}} - 2492 \\, {\\left(r - r_{m}\\right)}^{\\frac{1}{13}} r^{\\frac{50}{13}} r_{m}^{10} - {\\left(7056 \\, {\\left(r - r_{m}\\right)}^{\\frac{3}{13}} r^{\\frac{61}{13}} - 23641 \\, {\\left(r - r_{m}\\right)}^{\\frac{1}{13}} r^{\\frac{63}{13}}\\right)} r_{m}^{9} - 3 \\, {\\left(2212 \\, {\\left(r - r_{m}\\right)}^{\\frac{5}{13}} r^{\\frac{72}{13}} - 20026 \\, {\\left(r - r_{m}\\right)}^{\\frac{3}{13}} r^{\\frac{74}{13}} + 33533 \\, {\\left(r - r_{m}\\right)}^{\\frac{1}{13}} r^{\\frac{76}{13}}\\right)} r_{m}^{8} - {\\left(2072 \\, {\\left(r - r_{m}\\right)}^{\\frac{7}{13}} r^{\\frac{83}{13}} - 50073 \\, {\\left(r - r_{m}\\right)}^{\\frac{5}{13}} r^{\\frac{85}{13}} + 226527 \\, {\\left(r - r_{m}\\right)}^{\\frac{3}{13}} r^{\\frac{87}{13}} - 252756 \\, {\\left(r - r_{m}\\right)}^{\\frac{1}{13}} r^{\\frac{89}{13}}\\right)} r_{m}^{7} + {\\left(13636 \\, {\\left(r - r_{m}\\right)}^{\\frac{7}{13}} r^{\\frac{96}{13}} - 164631 \\, {\\left(r - r_{m}\\right)}^{\\frac{5}{13}} r^{\\frac{98}{13}} + 496209 \\, {\\left(r - r_{m}\\right)}^{\\frac{3}{13}} r^{\\frac{100}{13}} - 415044 \\, {\\left(r - r_{m}\\right)}^{\\frac{1}{13}} r^{\\frac{102}{13}}\\right)} r_{m}^{6} - 3 \\, {\\left(12761 \\, {\\left(r - r_{m}\\right)}^{\\frac{7}{13}} r^{\\frac{109}{13}} - 102623 \\, {\\left(r - r_{m}\\right)}^{\\frac{5}{13}} r^{\\frac{111}{13}} + 231833 \\, {\\left(r - r_{m}\\right)}^{\\frac{3}{13}} r^{\\frac{113}{13}} - 155050 \\, {\\left(r - r_{m}\\right)}^{\\frac{1}{13}} r^{\\frac{115}{13}}\\right)} r_{m}^{5} + {\\left(59395 \\, {\\left(r - r_{m}\\right)}^{\\frac{7}{13}} r^{\\frac{122}{13}} - 357915 \\, {\\left(r - r_{m}\\right)}^{\\frac{5}{13}} r^{\\frac{124}{13}} + 646401 \\, {\\left(r - r_{m}\\right)}^{\\frac{3}{13}} r^{\\frac{126}{13}} - 360066 \\, {\\left(r - r_{m}\\right)}^{\\frac{1}{13}} r^{\\frac{128}{13}}\\right)} r_{m}^{4} - {\\left(54950 \\, {\\left(r - r_{m}\\right)}^{\\frac{7}{13}} r^{\\frac{135}{13}} - 264651 \\, {\\left(r - r_{m}\\right)}^{\\frac{5}{13}} r^{\\frac{137}{13}} + 398013 \\, {\\left(r - r_{m}\\right)}^{\\frac{3}{13}} r^{\\frac{139}{13}} - 189924 \\, {\\left(r - r_{m}\\right)}^{\\frac{1}{13}} r^{\\frac{141}{13}}\\right)} r_{m}^{3} + 3 \\, {\\left(10094 \\, {\\left(r - r_{m}\\right)}^{\\frac{7}{13}} r^{\\frac{148}{13}} - 40471 \\, {\\left(r - r_{m}\\right)}^{\\frac{5}{13}} r^{\\frac{150}{13}} + 52129 \\, {\\left(r - r_{m}\\right)}^{\\frac{3}{13}} r^{\\frac{152}{13}} - 21752 \\, {\\left(r - r_{m}\\right)}^{\\frac{1}{13}} r^{\\frac{154}{13}}\\right)} r_{m}^{2} - 13 \\, {\\left(707 \\, {\\left(r - r_{m}\\right)}^{\\frac{7}{13}} r^{\\frac{161}{13}} - 2427 \\, {\\left(r - r_{m}\\right)}^{\\frac{5}{13}} r^{\\frac{163}{13}} + 2733 \\, {\\left(r - r_{m}\\right)}^{\\frac{3}{13}} r^{\\frac{165}{13}} - 1013 \\, {\\left(r - r_{m}\\right)}^{\\frac{1}{13}} r^{\\frac{167}{13}}\\right)} r_{m}\\right)} r_{p}^{7} + 3 \\, {\\left(5880 \\, {\\left(r - r_{m}\\right)}^{\\frac{9}{13}} r^{\\frac{185}{13}} - 23604 \\, {\\left(r - r_{m}\\right)}^{\\frac{7}{13}} r^{\\frac{187}{13}} + 35496 \\, {\\left(r - r_{m}\\right)}^{\\frac{5}{13}} r^{\\frac{189}{13}} - 23709 \\, {\\left(r - r_{m}\\right)}^{\\frac{3}{13}} r^{\\frac{191}{13}} + 5936 \\, {\\left(r - r_{m}\\right)}^{\\frac{1}{13}} r^{\\frac{193}{13}}\\right)} r_{m}^{6} + 42 \\, {\\left(507 \\, {\\left(r - r_{m}\\right)}^{\\frac{9}{13}} r^{\\frac{185}{13}} - 2028 \\, {\\left(r - r_{m}\\right)}^{\\frac{7}{13}} r^{\\frac{187}{13}} + 3042 \\, {\\left(r - r_{m}\\right)}^{\\frac{5}{13}} r^{\\frac{189}{13}} - 2028 \\, {\\left(r - r_{m}\\right)}^{\\frac{3}{13}} r^{\\frac{191}{13}} + 507 \\, {\\left(r - r_{m}\\right)}^{\\frac{1}{13}} r^{\\frac{193}{13}} + 1168 \\, {\\left(r - r_{m}\\right)}^{\\frac{1}{13}} r^{\\frac{63}{13}} r_{m}^{10} + 18 \\, {\\left(244 \\, {\\left(r - r_{m}\\right)}^{\\frac{3}{13}} r^{\\frac{74}{13}} - 613 \\, {\\left(r - r_{m}\\right)}^{\\frac{1}{13}} r^{\\frac{76}{13}}\\right)} r_{m}^{9} + 3 \\, {\\left(2056 \\, {\\left(r - r_{m}\\right)}^{\\frac{5}{13}} r^{\\frac{85}{13}} - 12406 \\, {\\left(r - r_{m}\\right)}^{\\frac{3}{13}} r^{\\frac{87}{13}} + 15577 \\, {\\left(r - r_{m}\\right)}^{\\frac{1}{13}} r^{\\frac{89}{13}}\\right)} r_{m}^{8} + 2 \\, {\\left(1916 \\, {\\left(r - r_{m}\\right)}^{\\frac{7}{13}} r^{\\frac{96}{13}} - 23145 \\, {\\left(r - r_{m}\\right)}^{\\frac{5}{13}} r^{\\frac{98}{13}} + 69789 \\, {\\left(r - r_{m}\\right)}^{\\frac{3}{13}} r^{\\frac{100}{13}} - 58392 \\, {\\left(r - r_{m}\\right)}^{\\frac{1}{13}} r^{\\frac{102}{13}}\\right)} r_{m}^{7} + 6 \\, {\\left(148 \\, {\\left(r - r_{m}\\right)}^{\\frac{9}{13}} r^{\\frac{107}{13}} - 4177 \\, {\\left(r - r_{m}\\right)}^{\\frac{7}{13}} r^{\\frac{109}{13}} + 25209 \\, {\\left(r - r_{m}\\right)}^{\\frac{5}{13}} r^{\\frac{111}{13}} - 50645 \\, {\\left(r - r_{m}\\right)}^{\\frac{3}{13}} r^{\\frac{113}{13}} + 31766 \\, {\\left(r - r_{m}\\right)}^{\\frac{1}{13}} r^{\\frac{115}{13}}\\right)} r_{m}^{6} - 6 \\, {\\left(826 \\, {\\left(r - r_{m}\\right)}^{\\frac{9}{13}} r^{\\frac{120}{13}} - 11643 \\, {\\left(r - r_{m}\\right)}^{\\frac{7}{13}} r^{\\frac{122}{13}} + 46807 \\, {\\left(r - r_{m}\\right)}^{\\frac{5}{13}} r^{\\frac{124}{13}} - 70483 \\, {\\left(r - r_{m}\\right)}^{\\frac{3}{13}} r^{\\frac{126}{13}} + 35350 \\, {\\left(r - r_{m}\\right)}^{\\frac{1}{13}} r^{\\frac{128}{13}}\\right)} r_{m}^{5} + {\\left(11451 \\, {\\left(r - r_{m}\\right)}^{\\frac{9}{13}} r^{\\frac{133}{13}} - 107480 \\, {\\left(r - r_{m}\\right)}^{\\frac{7}{13}} r^{\\frac{135}{13}} + 323790 \\, {\\left(r - r_{m}\\right)}^{\\frac{5}{13}} r^{\\frac{137}{13}} - 389802 \\, {\\left(r - r_{m}\\right)}^{\\frac{3}{13}} r^{\\frac{139}{13}} + 162834 \\, {\\left(r - r_{m}\\right)}^{\\frac{1}{13}} r^{\\frac{141}{13}}\\right)} r_{m}^{4} - 6 \\, {\\left(2334 \\, {\\left(r - r_{m}\\right)}^{\\frac{9}{13}} r^{\\frac{146}{13}} - 16410 \\, {\\left(r - r_{m}\\right)}^{\\frac{7}{13}} r^{\\frac{148}{13}} + 39513 \\, {\\left(r - r_{m}\\right)}^{\\frac{5}{13}} r^{\\frac{150}{13}} - 39613 \\, {\\left(r - r_{m}\\right)}^{\\frac{3}{13}} r^{\\frac{152}{13}} + 14176 \\, {\\left(r - r_{m}\\right)}^{\\frac{1}{13}} r^{\\frac{154}{13}}\\right)} r_{m}^{3} + 6 \\, {\\left(1591 \\, {\\left(r - r_{m}\\right)}^{\\frac{9}{13}} r^{\\frac{159}{13}} - 8937 \\, {\\left(r - r_{m}\\right)}^{\\frac{7}{13}} r^{\\frac{161}{13}} + 17915 \\, {\\left(r - r_{m}\\right)}^{\\frac{5}{13}} r^{\\frac{163}{13}} - 15383 \\, {\\left(r - r_{m}\\right)}^{\\frac{3}{13}} r^{\\frac{165}{13}} + 4814 \\, {\\left(r - r_{m}\\right)}^{\\frac{1}{13}} r^{\\frac{167}{13}}\\right)} r_{m}^{2} - 26 \\, {\\left(132 \\, {\\left(r - r_{m}\\right)}^{\\frac{9}{13}} r^{\\frac{172}{13}} - 617 \\, {\\left(r - r_{m}\\right)}^{\\frac{7}{13}} r^{\\frac{174}{13}} + 1059 \\, {\\left(r - r_{m}\\right)}^{\\frac{5}{13}} r^{\\frac{176}{13}} - 795 \\, {\\left(r - r_{m}\\right)}^{\\frac{3}{13}} r^{\\frac{178}{13}} + 221 \\, {\\left(r - r_{m}\\right)}^{\\frac{1}{13}} r^{\\frac{180}{13}}\\right)} r_{m}\\right)} r_{p}^{6} + 3 \\, {\\left(5880 \\, {\\left(r - r_{m}\\right)}^{\\frac{11}{13}} r^{\\frac{196}{13}} - 29526 \\, {\\left(r - r_{m}\\right)}^{\\frac{9}{13}} r^{\\frac{198}{13}} + 59220 \\, {\\left(r - r_{m}\\right)}^{\\frac{7}{13}} r^{\\frac{200}{13}} - 59340 \\, {\\left(r - r_{m}\\right)}^{\\frac{5}{13}} r^{\\frac{202}{13}} + 29715 \\, {\\left(r - r_{m}\\right)}^{\\frac{3}{13}} r^{\\frac{204}{13}} - 5950 \\, {\\left(r - r_{m}\\right)}^{\\frac{1}{13}} r^{\\frac{206}{13}} - 3920 \\, r^{\\frac{207}{13}}\\right)} r_{m}^{5} + 126 \\, {\\left(169 \\, {\\left(r - r_{m}\\right)}^{\\frac{11}{13}} r^{\\frac{196}{13}} - 845 \\, {\\left(r - r_{m}\\right)}^{\\frac{9}{13}} r^{\\frac{198}{13}} + 1690 \\, {\\left(r - r_{m}\\right)}^{\\frac{7}{13}} r^{\\frac{200}{13}} - 1690 \\, {\\left(r - r_{m}\\right)}^{\\frac{5}{13}} r^{\\frac{202}{13}} + 845 \\, {\\left(r - r_{m}\\right)}^{\\frac{3}{13}} r^{\\frac{204}{13}} - 169 \\, {\\left(r - r_{m}\\right)}^{\\frac{1}{13}} r^{\\frac{206}{13}} - 436 \\, {\\left(r - r_{m}\\right)}^{\\frac{1}{13}} r^{\\frac{76}{13}} r_{m}^{10} - {\\left(2040 \\, {\\left(r - r_{m}\\right)}^{\\frac{3}{13}} r^{\\frac{87}{13}} - 4099 \\, {\\left(r - r_{m}\\right)}^{\\frac{1}{13}} r^{\\frac{89}{13}}\\right)} r_{m}^{9} - {\\left(3800 \\, {\\left(r - r_{m}\\right)}^{\\frac{5}{13}} r^{\\frac{98}{13}} - 17192 \\, {\\left(r - r_{m}\\right)}^{\\frac{3}{13}} r^{\\frac{100}{13}} + 17265 \\, {\\left(r - r_{m}\\right)}^{\\frac{1}{13}} r^{\\frac{102}{13}}\\right)} r_{m}^{8} - {\\left(3520 \\, {\\left(r - r_{m}\\right)}^{\\frac{7}{13}} r^{\\frac{109}{13}} - 28338 \\, {\\left(r - r_{m}\\right)}^{\\frac{5}{13}} r^{\\frac{111}{13}} + 64069 \\, {\\left(r - r_{m}\\right)}^{\\frac{3}{13}} r^{\\frac{113}{13}} - 42876 \\, {\\left(r - r_{m}\\right)}^{\\frac{1}{13}} r^{\\frac{115}{13}}\\right)} r_{m}^{7} - {\\left(1620 \\, {\\left(r - r_{m}\\right)}^{\\frac{9}{13}} r^{\\frac{120}{13}} - 22852 \\, {\\left(r - r_{m}\\right)}^{\\frac{7}{13}} r^{\\frac{122}{13}} + 91918 \\, {\\left(r - r_{m}\\right)}^{\\frac{5}{13}} r^{\\frac{124}{13}} - 138467 \\, {\\left(r - r_{m}\\right)}^{\\frac{3}{13}} r^{\\frac{126}{13}} + 69468 \\, {\\left(r - r_{m}\\right)}^{\\frac{1}{13}} r^{\\frac{128}{13}}\\right)} r_{m}^{6} - {\\left(296 \\, {\\left(r - r_{m}\\right)}^{\\frac{11}{13}} r^{\\frac{131}{13}} - 8963 \\, {\\left(r - r_{m}\\right)}^{\\frac{9}{13}} r^{\\frac{133}{13}} + 63150 \\, {\\left(r - r_{m}\\right)}^{\\frac{7}{13}} r^{\\frac{135}{13}} - 169210 \\, {\\left(r - r_{m}\\right)}^{\\frac{5}{13}} r^{\\frac{137}{13}} + 191065 \\, {\\left(r - r_{m}\\right)}^{\\frac{3}{13}} r^{\\frac{139}{13}} - 76650 \\, {\\left(r - r_{m}\\right)}^{\\frac{1}{13}} r^{\\frac{141}{13}}\\right)} r_{m}^{5} + {\\left(1356 \\, {\\left(r - r_{m}\\right)}^{\\frac{11}{13}} r^{\\frac{144}{13}} - 20497 \\, {\\left(r - r_{m}\\right)}^{\\frac{9}{13}} r^{\\frac{146}{13}} + 96170 \\, {\\left(r - r_{m}\\right)}^{\\frac{7}{13}} r^{\\frac{148}{13}} - 193110 \\, {\\left(r - r_{m}\\right)}^{\\frac{5}{13}} r^{\\frac{150}{13}} + 174335 \\, {\\left(r - r_{m}\\right)}^{\\frac{3}{13}} r^{\\frac{152}{13}} - 58254 \\, {\\left(r - r_{m}\\right)}^{\\frac{1}{13}} r^{\\frac{154}{13}}\\right)} r_{m}^{4} - {\\left(2461 \\, {\\left(r - r_{m}\\right)}^{\\frac{11}{13}} r^{\\frac{157}{13}} - 24758 \\, {\\left(r - r_{m}\\right)}^{\\frac{9}{13}} r^{\\frac{159}{13}} + 87020 \\, {\\left(r - r_{m}\\right)}^{\\frac{7}{13}} r^{\\frac{161}{13}} - 139670 \\, {\\left(r - r_{m}\\right)}^{\\frac{5}{13}} r^{\\frac{163}{13}} + 105007 \\, {\\left(r - r_{m}\\right)}^{\\frac{3}{13}} r^{\\frac{165}{13}} - 30060 \\, {\\left(r - r_{m}\\right)}^{\\frac{1}{13}} r^{\\frac{167}{13}}\\right)} r_{m}^{3} + {\\left(2207 \\, {\\left(r - r_{m}\\right)}^{\\frac{11}{13}} r^{\\frac{170}{13}} - 16622 \\, {\\left(r - r_{m}\\right)}^{\\frac{9}{13}} r^{\\frac{172}{13}} + 46680 \\, {\\left(r - r_{m}\\right)}^{\\frac{7}{13}} r^{\\frac{174}{13}} - 62378 \\, {\\left(r - r_{m}\\right)}^{\\frac{5}{13}} r^{\\frac{176}{13}} + 40169 \\, {\\left(r - r_{m}\\right)}^{\\frac{3}{13}} r^{\\frac{178}{13}} - 10056 \\, {\\left(r - r_{m}\\right)}^{\\frac{1}{13}} r^{\\frac{180}{13}}\\right)} r_{m}^{2} - 13 \\, {\\left(75 \\, {\\left(r - r_{m}\\right)}^{\\frac{11}{13}} r^{\\frac{183}{13}} - 451 \\, {\\left(r - r_{m}\\right)}^{\\frac{9}{13}} r^{\\frac{185}{13}} + 1054 \\, {\\left(r - r_{m}\\right)}^{\\frac{7}{13}} r^{\\frac{187}{13}} - 1206 \\, {\\left(r - r_{m}\\right)}^{\\frac{5}{13}} r^{\\frac{189}{13}} + 679 \\, {\\left(r - r_{m}\\right)}^{\\frac{3}{13}} r^{\\frac{191}{13}} - 151 \\, {\\left(r - r_{m}\\right)}^{\\frac{1}{13}} r^{\\frac{193}{13}}\\right)} r_{m}\\right)} r_{p}^{5} - 3 \\, {\\left(23646 \\, {\\left(r - r_{m}\\right)}^{\\frac{11}{13}} r^{\\frac{209}{13}} - 59304 \\, {\\left(r - r_{m}\\right)}^{\\frac{9}{13}} r^{\\frac{211}{13}} + 79240 \\, {\\left(r - r_{m}\\right)}^{\\frac{7}{13}} r^{\\frac{213}{13}} - 59520 \\, {\\left(r - r_{m}\\right)}^{\\frac{5}{13}} r^{\\frac{215}{13}} + 23835 \\, {\\left(r - r_{m}\\right)}^{\\frac{3}{13}} r^{\\frac{217}{13}} + 1680 \\, {\\left(r - r_{m}\\right)}^{\\frac{2}{13}} r^{\\frac{218}{13}} - 3976 \\, {\\left(r - r_{m}\\right)}^{\\frac{1}{13}} r^{\\frac{219}{13}} - 15764 \\, r^{\\frac{220}{13}}\\right)} r_{m}^{4} - 42 \\, {\\left(2028 \\, {\\left(r - r_{m}\\right)}^{\\frac{11}{13}} r^{\\frac{209}{13}} - 5070 \\, {\\left(r - r_{m}\\right)}^{\\frac{9}{13}} r^{\\frac{211}{13}} + 6760 \\, {\\left(r - r_{m}\\right)}^{\\frac{7}{13}} r^{\\frac{213}{13}} - 5070 \\, {\\left(r - r_{m}\\right)}^{\\frac{5}{13}} r^{\\frac{215}{13}} + 2028 \\, {\\left(r - r_{m}\\right)}^{\\frac{3}{13}} r^{\\frac{217}{13}} - 338 \\, {\\left(r - r_{m}\\right)}^{\\frac{1}{13}} r^{\\frac{219}{13}} - 338 \\, r^{\\frac{220}{13}} - 1012 \\, {\\left(r - r_{m}\\right)}^{\\frac{1}{13}} r^{\\frac{89}{13}} r_{m}^{10} - {\\left(5652 \\, {\\left(r - r_{m}\\right)}^{\\frac{3}{13}} r^{\\frac{100}{13}} - 9461 \\, {\\left(r - r_{m}\\right)}^{\\frac{1}{13}} r^{\\frac{102}{13}}\\right)} r_{m}^{9} - 3 \\, {\\left(4360 \\, {\\left(r - r_{m}\\right)}^{\\frac{5}{13}} r^{\\frac{111}{13}} - 15775 \\, {\\left(r - r_{m}\\right)}^{\\frac{3}{13}} r^{\\frac{113}{13}} + 13198 \\, {\\left(r - r_{m}\\right)}^{\\frac{1}{13}} r^{\\frac{115}{13}}\\right)} r_{m}^{8} - {\\left(16040 \\, {\\left(r - r_{m}\\right)}^{\\frac{7}{13}} r^{\\frac{122}{13}} - 96810 \\, {\\left(r - r_{m}\\right)}^{\\frac{5}{13}} r^{\\frac{124}{13}} + 175047 \\, {\\left(r - r_{m}\\right)}^{\\frac{3}{13}} r^{\\frac{126}{13}} - 97596 \\, {\\left(r - r_{m}\\right)}^{\\frac{1}{13}} r^{\\frac{128}{13}}\\right)} r_{m}^{7} - {\\left(10980 \\, {\\left(r - r_{m}\\right)}^{\\frac{9}{13}} r^{\\frac{133}{13}} - 103210 \\, {\\left(r - r_{m}\\right)}^{\\frac{7}{13}} r^{\\frac{135}{13}} + 311250 \\, {\\left(r - r_{m}\\right)}^{\\frac{5}{13}} r^{\\frac{137}{13}} - 374997 \\, {\\left(r - r_{m}\\right)}^{\\frac{3}{13}} r^{\\frac{139}{13}} + 156744 \\, {\\left(r - r_{m}\\right)}^{\\frac{1}{13}} r^{\\frac{141}{13}}\\right)} r_{m}^{6} - {\\left(3972 \\, {\\left(r - r_{m}\\right)}^{\\frac{11}{13}} r^{\\frac{144}{13}} - 60105 \\, {\\left(r - r_{m}\\right)}^{\\frac{9}{13}} r^{\\frac{146}{13}} + 282210 \\, {\\left(r - r_{m}\\right)}^{\\frac{7}{13}} r^{\\frac{148}{13}} - 566970 \\, {\\left(r - r_{m}\\right)}^{\\frac{5}{13}} r^{\\frac{150}{13}} + 512043 \\, {\\left(r - r_{m}\\right)}^{\\frac{3}{13}} r^{\\frac{152}{13}} - 171150 \\, {\\left(r - r_{m}\\right)}^{\\frac{1}{13}} r^{\\frac{154}{13}} - 592 \\, r^{\\frac{155}{13}}\\right)} r_{m}^{5} + {\\left(17961 \\, {\\left(r - r_{m}\\right)}^{\\frac{11}{13}} r^{\\frac{157}{13}} - 135690 \\, {\\left(r - r_{m}\\right)}^{\\frac{9}{13}} r^{\\frac{159}{13}} + 424300 \\, {\\left(r - r_{m}\\right)}^{\\frac{7}{13}} r^{\\frac{161}{13}} - 638850 \\, {\\left(r - r_{m}\\right)}^{\\frac{5}{13}} r^{\\frac{163}{13}} + 461307 \\, {\\left(r - r_{m}\\right)}^{\\frac{3}{13}} r^{\\frac{165}{13}} - 128436 \\, {\\left(r - r_{m}\\right)}^{\\frac{1}{13}} r^{\\frac{167}{13}} - 2712 \\, r^{\\frac{168}{13}}\\right)} r_{m}^{4} - {\\left(32079 \\, {\\left(r - r_{m}\\right)}^{\\frac{11}{13}} r^{\\frac{170}{13}} - 161310 \\, {\\left(r - r_{m}\\right)}^{\\frac{9}{13}} r^{\\frac{172}{13}} + 377900 \\, {\\left(r - r_{m}\\right)}^{\\frac{7}{13}} r^{\\frac{174}{13}} - 454830 \\, {\\left(r - r_{m}\\right)}^{\\frac{5}{13}} r^{\\frac{176}{13}} + 273525 \\, {\\left(r - r_{m}\\right)}^{\\frac{3}{13}} r^{\\frac{178}{13}} - 65244 \\, {\\left(r - r_{m}\\right)}^{\\frac{1}{13}} r^{\\frac{180}{13}} - 4922 \\, r^{\\frac{181}{13}}\\right)} r_{m}^{3} + {\\left(28191 \\, {\\left(r - r_{m}\\right)}^{\\frac{11}{13}} r^{\\frac{183}{13}} - 106140 \\, {\\left(r - r_{m}\\right)}^{\\frac{9}{13}} r^{\\frac{185}{13}} + 198690 \\, {\\left(r - r_{m}\\right)}^{\\frac{7}{13}} r^{\\frac{187}{13}} - 199110 \\, {\\left(r - r_{m}\\right)}^{\\frac{5}{13}} r^{\\frac{189}{13}} + 102567 \\, {\\left(r - r_{m}\\right)}^{\\frac{3}{13}} r^{\\frac{191}{13}} - 21396 \\, {\\left(r - r_{m}\\right)}^{\\frac{1}{13}} r^{\\frac{193}{13}} - 4414 \\, r^{\\frac{194}{13}}\\right)} r_{m}^{2} - 13 \\, {\\left(933 \\, {\\left(r - r_{m}\\right)}^{\\frac{11}{13}} r^{\\frac{196}{13}} - 2805 \\, {\\left(r - r_{m}\\right)}^{\\frac{9}{13}} r^{\\frac{198}{13}} + 4370 \\, {\\left(r - r_{m}\\right)}^{\\frac{7}{13}} r^{\\frac{200}{13}} - 3750 \\, {\\left(r - r_{m}\\right)}^{\\frac{5}{13}} r^{\\frac{202}{13}} + 1689 \\, {\\left(r - r_{m}\\right)}^{\\frac{3}{13}} r^{\\frac{204}{13}} - 313 \\, {\\left(r - r_{m}\\right)}^{\\frac{1}{13}} r^{\\frac{206}{13}} - 150 \\, r^{\\frac{207}{13}}\\right)} r_{m}\\right)} r_{p}^{4} + 3 \\, {\\left(35658 \\, {\\left(r - r_{m}\\right)}^{\\frac{11}{13}} r^{\\frac{222}{13}} - 59556 \\, {\\left(r - r_{m}\\right)}^{\\frac{9}{13}} r^{\\frac{224}{13}} + 59640 \\, {\\left(r - r_{m}\\right)}^{\\frac{7}{13}} r^{\\frac{226}{13}} - 35820 \\, {\\left(r - r_{m}\\right)}^{\\frac{5}{13}} r^{\\frac{228}{13}} - 420 \\, {\\left(r - r_{m}\\right)}^{\\frac{4}{13}} r^{\\frac{229}{13}} + 11949 \\, {\\left(r - r_{m}\\right)}^{\\frac{3}{13}} r^{\\frac{230}{13}} + 5076 \\, {\\left(r - r_{m}\\right)}^{\\frac{2}{13}} r^{\\frac{231}{13}} - 1708 \\, {\\left(r - r_{m}\\right)}^{\\frac{1}{13}} r^{\\frac{232}{13}} - 23772 \\, r^{\\frac{233}{13}}\\right)} r_{m}^{3} + 12 \\, {\\left(10647 \\, {\\left(r - r_{m}\\right)}^{\\frac{11}{13}} r^{\\frac{222}{13}} - 17745 \\, {\\left(r - r_{m}\\right)}^{\\frac{9}{13}} r^{\\frac{224}{13}} + 17745 \\, {\\left(r - r_{m}\\right)}^{\\frac{7}{13}} r^{\\frac{226}{13}} - 10647 \\, {\\left(r - r_{m}\\right)}^{\\frac{5}{13}} r^{\\frac{228}{13}} + 3549 \\, {\\left(r - r_{m}\\right)}^{\\frac{3}{13}} r^{\\frac{230}{13}} + 507 \\, {\\left(r - r_{m}\\right)}^{\\frac{2}{13}} r^{\\frac{231}{13}} - 507 \\, {\\left(r - r_{m}\\right)}^{\\frac{1}{13}} r^{\\frac{232}{13}} - 3549 \\, r^{\\frac{233}{13}} - 1868 \\, {\\left(r - r_{m}\\right)}^{\\frac{1}{13}} r^{\\frac{102}{13}} r_{m}^{10} - 3 \\, {\\left(4032 \\, {\\left(r - r_{m}\\right)}^{\\frac{3}{13}} r^{\\frac{113}{13}} - 5783 \\, {\\left(r - r_{m}\\right)}^{\\frac{1}{13}} r^{\\frac{115}{13}}\\right)} r_{m}^{9} - 21 \\, {\\left(1588 \\, {\\left(r - r_{m}\\right)}^{\\frac{5}{13}} r^{\\frac{124}{13}} - 4786 \\, {\\left(r - r_{m}\\right)}^{\\frac{3}{13}} r^{\\frac{126}{13}} + 3431 \\, {\\left(r - r_{m}\\right)}^{\\frac{1}{13}} r^{\\frac{128}{13}}\\right)} r_{m}^{8} - {\\left(50680 \\, {\\left(r - r_{m}\\right)}^{\\frac{7}{13}} r^{\\frac{135}{13}} - 244587 \\, {\\left(r - r_{m}\\right)}^{\\frac{5}{13}} r^{\\frac{137}{13}} + 368403 \\, {\\left(r - r_{m}\\right)}^{\\frac{3}{13}} r^{\\frac{139}{13}} - 176004 \\, {\\left(r - r_{m}\\right)}^{\\frac{1}{13}} r^{\\frac{141}{13}}\\right)} r_{m}^{7} - 21 \\, {\\left(2180 \\, {\\left(r - r_{m}\\right)}^{\\frac{9}{13}} r^{\\frac{146}{13}} - 15360 \\, {\\left(r - r_{m}\\right)}^{\\frac{7}{13}} r^{\\frac{148}{13}} + 37041 \\, {\\left(r - r_{m}\\right)}^{\\frac{5}{13}} r^{\\frac{150}{13}} - 37177 \\, {\\left(r - r_{m}\\right)}^{\\frac{3}{13}} r^{\\frac{152}{13}} + 13316 \\, {\\left(r - r_{m}\\right)}^{\\frac{1}{13}} r^{\\frac{154}{13}}\\right)} r_{m}^{6} - 7 \\, {\\left(3504 \\, {\\left(r - r_{m}\\right)}^{\\frac{11}{13}} r^{\\frac{157}{13}} - 35325 \\, {\\left(r - r_{m}\\right)}^{\\frac{9}{13}} r^{\\frac{159}{13}} + 124335 \\, {\\left(r - r_{m}\\right)}^{\\frac{7}{13}} r^{\\frac{161}{13}} - 199761 \\, {\\left(r - r_{m}\\right)}^{\\frac{5}{13}} r^{\\frac{163}{13}} + 150297 \\, {\\left(r - r_{m}\\right)}^{\\frac{3}{13}} r^{\\frac{165}{13}} - 43050 \\, {\\left(r - r_{m}\\right)}^{\\frac{1}{13}} r^{\\frac{167}{13}} - 1028 \\, r^{\\frac{168}{13}}\\right)} r_{m}^{5} + {\\left(109074 \\, {\\left(r - r_{m}\\right)}^{\\frac{11}{13}} r^{\\frac{170}{13}} - 549045 \\, {\\left(r - r_{m}\\right)}^{\\frac{9}{13}} r^{\\frac{172}{13}} + 1287125 \\, {\\left(r - r_{m}\\right)}^{\\frac{7}{13}} r^{\\frac{174}{13}} - 1549905 \\, {\\left(r - r_{m}\\right)}^{\\frac{5}{13}} r^{\\frac{176}{13}} + 932421 \\, {\\left(r - r_{m}\\right)}^{\\frac{3}{13}} r^{\\frac{178}{13}} + 888 \\, {\\left(r - r_{m}\\right)}^{\\frac{2}{13}} r^{\\frac{179}{13}} - 222474 \\, {\\left(r - r_{m}\\right)}^{\\frac{1}{13}} r^{\\frac{180}{13}} - 32417 \\, r^{\\frac{181}{13}}\\right)} r_{m}^{4} - 3 \\, {\\left(63567 \\, {\\left(r - r_{m}\\right)}^{\\frac{11}{13}} r^{\\frac{183}{13}} - 213010 \\, {\\left(r - r_{m}\\right)}^{\\frac{9}{13}} r^{\\frac{185}{13}} + 374150 \\, {\\left(r - r_{m}\\right)}^{\\frac{7}{13}} r^{\\frac{187}{13}} - 360171 \\, {\\left(r - r_{m}\\right)}^{\\frac{5}{13}} r^{\\frac{189}{13}} + 180467 \\, {\\left(r - r_{m}\\right)}^{\\frac{3}{13}} r^{\\frac{191}{13}} + 1060 \\, {\\left(r - r_{m}\\right)}^{\\frac{2}{13}} r^{\\frac{192}{13}} - 36892 \\, {\\left(r - r_{m}\\right)}^{\\frac{1}{13}} r^{\\frac{193}{13}} - 19208 \\, r^{\\frac{194}{13}}\\right)} r_{m}^{3} + {\\left(162939 \\, {\\left(r - r_{m}\\right)}^{\\frac{11}{13}} r^{\\frac{196}{13}} - 408870 \\, {\\left(r - r_{m}\\right)}^{\\frac{9}{13}} r^{\\frac{198}{13}} + 573930 \\, {\\left(r - r_{m}\\right)}^{\\frac{7}{13}} r^{\\frac{200}{13}} - 460047 \\, {\\left(r - r_{m}\\right)}^{\\frac{5}{13}} r^{\\frac{202}{13}} + 197463 \\, {\\left(r - r_{m}\\right)}^{\\frac{3}{13}} r^{\\frac{204}{13}} + 4203 \\, {\\left(r - r_{m}\\right)}^{\\frac{2}{13}} r^{\\frac{205}{13}} - 35304 \\, {\\left(r - r_{m}\\right)}^{\\frac{1}{13}} r^{\\frac{206}{13}} - 50330 \\, r^{\\frac{207}{13}}\\right)} r_{m}^{2} - 13 \\, {\\left(5187 \\, {\\left(r - r_{m}\\right)}^{\\frac{11}{13}} r^{\\frac{209}{13}} - 10395 \\, {\\left(r - r_{m}\\right)}^{\\frac{9}{13}} r^{\\frac{211}{13}} + 12145 \\, {\\left(r - r_{m}\\right)}^{\\frac{7}{13}} r^{\\frac{213}{13}} - 8337 \\, {\\left(r - r_{m}\\right)}^{\\frac{5}{13}} r^{\\frac{215}{13}} + 3129 \\, {\\left(r - r_{m}\\right)}^{\\frac{3}{13}} r^{\\frac{217}{13}} + 186 \\, {\\left(r - r_{m}\\right)}^{\\frac{2}{13}} r^{\\frac{218}{13}} - 497 \\, {\\left(r - r_{m}\\right)}^{\\frac{1}{13}} r^{\\frac{219}{13}} - 1652 \\, r^{\\frac{220}{13}}\\right)} r_{m}\\right)} r_{p}^{3} - {\\left(71694 \\, {\\left(r - r_{m}\\right)}^{\\frac{11}{13}} r^{\\frac{235}{13}} - 89712 \\, {\\left(r - r_{m}\\right)}^{\\frac{9}{13}} r^{\\frac{237}{13}} + 71820 \\, {\\left(r - r_{m}\\right)}^{\\frac{7}{13}} r^{\\frac{239}{13}} + 140 \\, {\\left(r - r_{m}\\right)}^{\\frac{6}{13}} r^{\\frac{240}{13}} - 35928 \\, {\\left(r - r_{m}\\right)}^{\\frac{5}{13}} r^{\\frac{241}{13}} - 2547 \\, {\\left(r - r_{m}\\right)}^{\\frac{4}{13}} r^{\\frac{242}{13}} + 10269 \\, {\\left(r - r_{m}\\right)}^{\\frac{3}{13}} r^{\\frac{243}{13}} + 15336 \\, {\\left(r - r_{m}\\right)}^{\\frac{2}{13}} r^{\\frac{244}{13}} - 1284 \\, {\\left(r - r_{m}\\right)}^{\\frac{1}{13}} r^{\\frac{245}{13}} - 47796 \\, r^{\\frac{246}{13}}\\right)} r_{m}^{2} - 9 \\, {\\left(9464 \\, {\\left(r - r_{m}\\right)}^{\\frac{11}{13}} r^{\\frac{235}{13}} - 11830 \\, {\\left(r - r_{m}\\right)}^{\\frac{9}{13}} r^{\\frac{237}{13}} + 9464 \\, {\\left(r - r_{m}\\right)}^{\\frac{7}{13}} r^{\\frac{239}{13}} - 4732 \\, {\\left(r - r_{m}\\right)}^{\\frac{5}{13}} r^{\\frac{241}{13}} - 169 \\, {\\left(r - r_{m}\\right)}^{\\frac{4}{13}} r^{\\frac{242}{13}} + 1352 \\, {\\left(r - r_{m}\\right)}^{\\frac{3}{13}} r^{\\frac{243}{13}} + 1352 \\, {\\left(r - r_{m}\\right)}^{\\frac{2}{13}} r^{\\frac{244}{13}} - 169 \\, {\\left(r - r_{m}\\right)}^{\\frac{1}{13}} r^{\\frac{245}{13}} - 4732 \\, r^{\\frac{246}{13}} - 856 \\, {\\left(r - r_{m}\\right)}^{\\frac{1}{13}} r^{\\frac{115}{13}} r_{m}^{10} - 16 \\, {\\left(393 \\, {\\left(r - r_{m}\\right)}^{\\frac{3}{13}} r^{\\frac{126}{13}} - 493 \\, {\\left(r - r_{m}\\right)}^{\\frac{1}{13}} r^{\\frac{128}{13}}\\right)} r_{m}^{9} - {\\left(20048 \\, {\\left(r - r_{m}\\right)}^{\\frac{5}{13}} r^{\\frac{137}{13}} - 51764 \\, {\\left(r - r_{m}\\right)}^{\\frac{3}{13}} r^{\\frac{139}{13}} + 32457 \\, {\\left(r - r_{m}\\right)}^{\\frac{1}{13}} r^{\\frac{141}{13}}\\right)} r_{m}^{8} - 4 \\, {\\left(9044 \\, {\\left(r - r_{m}\\right)}^{\\frac{7}{13}} r^{\\frac{148}{13}} - 36351 \\, {\\left(r - r_{m}\\right)}^{\\frac{5}{13}} r^{\\frac{150}{13}} + 46909 \\, {\\left(r - r_{m}\\right)}^{\\frac{3}{13}} r^{\\frac{152}{13}} - 19602 \\, {\\left(r - r_{m}\\right)}^{\\frac{1}{13}} r^{\\frac{154}{13}}\\right)} r_{m}^{7} - 28 \\, {\\left(1440 \\, {\\left(r - r_{m}\\right)}^{\\frac{9}{13}} r^{\\frac{159}{13}} - 8111 \\, {\\left(r - r_{m}\\right)}^{\\frac{7}{13}} r^{\\frac{161}{13}} + 16291 \\, {\\left(r - r_{m}\\right)}^{\\frac{5}{13}} r^{\\frac{163}{13}} - 14009 \\, {\\left(r - r_{m}\\right)}^{\\frac{3}{13}} r^{\\frac{165}{13}} + 4389 \\, {\\left(r - r_{m}\\right)}^{\\frac{1}{13}} r^{\\frac{167}{13}}\\right)} r_{m}^{6} - 28 \\, {\\left(1012 \\, {\\left(r - r_{m}\\right)}^{\\frac{11}{13}} r^{\\frac{170}{13}} - 7645 \\, {\\left(r - r_{m}\\right)}^{\\frac{9}{13}} r^{\\frac{172}{13}} + 21513 \\, {\\left(r - r_{m}\\right)}^{\\frac{7}{13}} r^{\\frac{174}{13}} - 28789 \\, {\\left(r - r_{m}\\right)}^{\\frac{5}{13}} r^{\\frac{176}{13}} + 18559 \\, {\\left(r - r_{m}\\right)}^{\\frac{3}{13}} r^{\\frac{178}{13}} - 4650 \\, {\\left(r - r_{m}\\right)}^{\\frac{1}{13}} r^{\\frac{180}{13}} - 436 \\, r^{\\frac{181}{13}}\\right)} r_{m}^{5} + 2 \\, {\\left(61614 \\, {\\left(r - r_{m}\\right)}^{\\frac{11}{13}} r^{\\frac{183}{13}} - 232435 \\, {\\left(r - r_{m}\\right)}^{\\frac{9}{13}} r^{\\frac{185}{13}} + 435680 \\, {\\left(r - r_{m}\\right)}^{\\frac{7}{13}} r^{\\frac{187}{13}} - 437010 \\, {\\left(r - r_{m}\\right)}^{\\frac{5}{13}} r^{\\frac{189}{13}} + 225274 \\, {\\left(r - r_{m}\\right)}^{\\frac{3}{13}} r^{\\frac{191}{13}} + 1464 \\, {\\left(r - r_{m}\\right)}^{\\frac{2}{13}} r^{\\frac{192}{13}} - 47019 \\, {\\left(r - r_{m}\\right)}^{\\frac{1}{13}} r^{\\frac{193}{13}} - 26866 \\, r^{\\frac{194}{13}}\\right)} r_{m}^{4} - 4 \\, {\\left(52283 \\, {\\left(r - r_{m}\\right)}^{\\frac{11}{13}} r^{\\frac{196}{13}} - 131320 \\, {\\left(r - r_{m}\\right)}^{\\frac{9}{13}} r^{\\frac{198}{13}} + 184450 \\, {\\left(r - r_{m}\\right)}^{\\frac{7}{13}} r^{\\frac{200}{13}} - 147917 \\, {\\left(r - r_{m}\\right)}^{\\frac{5}{13}} r^{\\frac{202}{13}} - 74 \\, {\\left(r - r_{m}\\right)}^{\\frac{4}{13}} r^{\\frac{203}{13}} + 63511 \\, {\\left(r - r_{m}\\right)}^{\\frac{3}{13}} r^{\\frac{204}{13}} + 2543 \\, {\\left(r - r_{m}\\right)}^{\\frac{2}{13}} r^{\\frac{205}{13}} - 11358 \\, {\\left(r - r_{m}\\right)}^{\\frac{1}{13}} r^{\\frac{206}{13}} - 23170 \\, r^{\\frac{207}{13}}\\right)} r_{m}^{3} + 4 \\, {\\left(42847 \\, {\\left(r - r_{m}\\right)}^{\\frac{11}{13}} r^{\\frac{209}{13}} - 80605 \\, {\\left(r - r_{m}\\right)}^{\\frac{9}{13}} r^{\\frac{211}{13}} + 90489 \\, {\\left(r - r_{m}\\right)}^{\\frac{7}{13}} r^{\\frac{213}{13}} - 60431 \\, {\\left(r - r_{m}\\right)}^{\\frac{5}{13}} r^{\\frac{215}{13}} - 191 \\, {\\left(r - r_{m}\\right)}^{\\frac{4}{13}} r^{\\frac{216}{13}} + 22229 \\, {\\left(r - r_{m}\\right)}^{\\frac{3}{13}} r^{\\frac{217}{13}} + 3228 \\, {\\left(r - r_{m}\\right)}^{\\frac{2}{13}} r^{\\frac{218}{13}} - 3477 \\, {\\left(r - r_{m}\\right)}^{\\frac{1}{13}} r^{\\frac{219}{13}} - 19432 \\, r^{\\frac{220}{13}}\\right)} r_{m}^{2} - 13 \\, {\\left(5124 \\, {\\left(r - r_{m}\\right)}^{\\frac{11}{13}} r^{\\frac{222}{13}} - 7700 \\, {\\left(r - r_{m}\\right)}^{\\frac{9}{13}} r^{\\frac{224}{13}} + 7196 \\, {\\left(r - r_{m}\\right)}^{\\frac{7}{13}} r^{\\frac{226}{13}} - 4116 \\, {\\left(r - r_{m}\\right)}^{\\frac{5}{13}} r^{\\frac{228}{13}} - 49 \\, {\\left(r - r_{m}\\right)}^{\\frac{4}{13}} r^{\\frac{229}{13}} + 1324 \\, {\\left(r - r_{m}\\right)}^{\\frac{3}{13}} r^{\\frac{230}{13}} + 540 \\, {\\left(r - r_{m}\\right)}^{\\frac{2}{13}} r^{\\frac{231}{13}} - 184 \\, {\\left(r - r_{m}\\right)}^{\\frac{1}{13}} r^{\\frac{232}{13}} - 2408 \\, r^{\\frac{233}{13}}\\right)} r_{m}\\right)} r_{p}^{2} + 143 \\, {\\left(126 \\, {\\left(r - r_{m}\\right)}^{\\frac{11}{13}} r^{\\frac{248}{13}} - 126 \\, {\\left(r - r_{m}\\right)}^{\\frac{9}{13}} r^{\\frac{250}{13}} + 84 \\, {\\left(r - r_{m}\\right)}^{\\frac{7}{13}} r^{\\frac{252}{13}} + {\\left(r - r_{m}\\right)}^{\\frac{6}{13}} r^{\\frac{253}{13}} - 36 \\, {\\left(r - r_{m}\\right)}^{\\frac{5}{13}} r^{\\frac{254}{13}} - 9 \\, {\\left(r - r_{m}\\right)}^{\\frac{4}{13}} r^{\\frac{255}{13}} + 9 \\, {\\left(r - r_{m}\\right)}^{\\frac{3}{13}} r^{\\frac{256}{13}} + 36 \\, {\\left(r - r_{m}\\right)}^{\\frac{2}{13}} r^{\\frac{257}{13}} - {\\left(r - r_{m}\\right)}^{\\frac{1}{13}} r^{\\frac{258}{13}} - 84 \\, r^{\\frac{259}{13}}\\right)} r_{m} + {\\left(21294 \\, {\\left(r - r_{m}\\right)}^{\\frac{11}{13}} r^{\\frac{248}{13}} - 21294 \\, {\\left(r - r_{m}\\right)}^{\\frac{9}{13}} r^{\\frac{250}{13}} + 14196 \\, {\\left(r - r_{m}\\right)}^{\\frac{7}{13}} r^{\\frac{252}{13}} + 169 \\, {\\left(r - r_{m}\\right)}^{\\frac{6}{13}} r^{\\frac{253}{13}} - 6084 \\, {\\left(r - r_{m}\\right)}^{\\frac{5}{13}} r^{\\frac{254}{13}} - 1521 \\, {\\left(r - r_{m}\\right)}^{\\frac{4}{13}} r^{\\frac{255}{13}} + 1521 \\, {\\left(r - r_{m}\\right)}^{\\frac{3}{13}} r^{\\frac{256}{13}} + 6084 \\, {\\left(r - r_{m}\\right)}^{\\frac{2}{13}} r^{\\frac{257}{13}} - 169 \\, {\\left(r - r_{m}\\right)}^{\\frac{1}{13}} r^{\\frac{258}{13}} - 14196 \\, r^{\\frac{259}{13}} - 1556 \\, {\\left(r - r_{m}\\right)}^{\\frac{1}{13}} r^{\\frac{128}{13}} r_{m}^{10} - {\\left(12744 \\, {\\left(r - r_{m}\\right)}^{\\frac{3}{13}} r^{\\frac{139}{13}} - 14203 \\, {\\left(r - r_{m}\\right)}^{\\frac{1}{13}} r^{\\frac{141}{13}}\\right)} r_{m}^{9} - 3 \\, {\\left(15312 \\, {\\left(r - r_{m}\\right)}^{\\frac{5}{13}} r^{\\frac{150}{13}} - 34572 \\, {\\left(r - r_{m}\\right)}^{\\frac{3}{13}} r^{\\frac{152}{13}} + 19259 \\, {\\left(r - r_{m}\\right)}^{\\frac{1}{13}} r^{\\frac{154}{13}}\\right)} r_{m}^{8} - 3 \\, {\\left(31808 \\, {\\left(r - r_{m}\\right)}^{\\frac{7}{13}} r^{\\frac{161}{13}} - 109500 \\, {\\left(r - r_{m}\\right)}^{\\frac{5}{13}} r^{\\frac{163}{13}} + 123567 \\, {\\left(r - r_{m}\\right)}^{\\frac{3}{13}} r^{\\frac{165}{13}} - 45876 \\, {\\left(r - r_{m}\\right)}^{\\frac{1}{13}} r^{\\frac{167}{13}}\\right)} r_{m}^{7} - 3 \\, {\\left(41832 \\, {\\left(r - r_{m}\\right)}^{\\frac{9}{13}} r^{\\frac{172}{13}} - 196168 \\, {\\left(r - r_{m}\\right)}^{\\frac{7}{13}} r^{\\frac{174}{13}} + 337476 \\, {\\left(r - r_{m}\\right)}^{\\frac{5}{13}} r^{\\frac{176}{13}} - 253785 \\, {\\left(r - r_{m}\\right)}^{\\frac{3}{13}} r^{\\frac{178}{13}} + 70644 \\, {\\left(r - r_{m}\\right)}^{\\frac{1}{13}} r^{\\frac{180}{13}}\\right)} r_{m}^{6} - 3 \\, {\\left(35952 \\, {\\left(r - r_{m}\\right)}^{\\frac{11}{13}} r^{\\frac{183}{13}} - 217014 \\, {\\left(r - r_{m}\\right)}^{\\frac{9}{13}} r^{\\frac{185}{13}} + 508452 \\, {\\left(r - r_{m}\\right)}^{\\frac{7}{13}} r^{\\frac{187}{13}} - 582828 \\, {\\left(r - r_{m}\\right)}^{\\frac{5}{13}} r^{\\frac{189}{13}} + 328587 \\, {\\left(r - r_{m}\\right)}^{\\frac{3}{13}} r^{\\frac{191}{13}} - 73150 \\, {\\left(r - r_{m}\\right)}^{\\frac{1}{13}} r^{\\frac{193}{13}} - 20048 \\, r^{\\frac{194}{13}}\\right)} r_{m}^{5} + 3 \\, {\\left(151536 \\, {\\left(r - r_{m}\\right)}^{\\frac{11}{13}} r^{\\frac{196}{13}} - 456834 \\, {\\left(r - r_{m}\\right)}^{\\frac{9}{13}} r^{\\frac{198}{13}} + 713020 \\, {\\left(r - r_{m}\\right)}^{\\frac{7}{13}} r^{\\frac{200}{13}} - 612660 \\, {\\left(r - r_{m}\\right)}^{\\frac{5}{13}} r^{\\frac{202}{13}} + 276213 \\, {\\left(r - r_{m}\\right)}^{\\frac{3}{13}} r^{\\frac{204}{13}} + 6912 \\, {\\left(r - r_{m}\\right)}^{\\frac{2}{13}} r^{\\frac{205}{13}} - 51226 \\, {\\left(r - r_{m}\\right)}^{\\frac{1}{13}} r^{\\frac{206}{13}} - 85260 \\, r^{\\frac{207}{13}}\\right)} r_{m}^{4} - 3 \\, {\\left(245994 \\, {\\left(r - r_{m}\\right)}^{\\frac{11}{13}} r^{\\frac{209}{13}} - 493836 \\, {\\left(r - r_{m}\\right)}^{\\frac{9}{13}} r^{\\frac{211}{13}} + 577640 \\, {\\left(r - r_{m}\\right)}^{\\frac{7}{13}} r^{\\frac{213}{13}} - 396852 \\, {\\left(r - r_{m}\\right)}^{\\frac{5}{13}} r^{\\frac{215}{13}} - 1308 \\, {\\left(r - r_{m}\\right)}^{\\frac{4}{13}} r^{\\frac{216}{13}} + 149037 \\, {\\left(r - r_{m}\\right)}^{\\frac{3}{13}} r^{\\frac{217}{13}} + 22872 \\, {\\left(r - r_{m}\\right)}^{\\frac{2}{13}} r^{\\frac{218}{13}} - 23684 \\, {\\left(r - r_{m}\\right)}^{\\frac{1}{13}} r^{\\frac{219}{13}} - 140224 \\, r^{\\frac{220}{13}}\\right)} r_{m}^{3} + {\\left(564858 \\, {\\left(r - r_{m}\\right)}^{\\frac{11}{13}} r^{\\frac{222}{13}} - 849492 \\, {\\left(r - r_{m}\\right)}^{\\frac{9}{13}} r^{\\frac{224}{13}} + 794304 \\, {\\left(r - r_{m}\\right)}^{\\frac{7}{13}} r^{\\frac{226}{13}} + 296 \\, {\\left(r - r_{m}\\right)}^{\\frac{6}{13}} r^{\\frac{227}{13}} - 454500 \\, {\\left(r - r_{m}\\right)}^{\\frac{5}{13}} r^{\\frac{228}{13}} - 9423 \\, {\\left(r - r_{m}\\right)}^{\\frac{4}{13}} r^{\\frac{229}{13}} + 146241 \\, {\\left(r - r_{m}\\right)}^{\\frac{3}{13}} r^{\\frac{230}{13}} + 81108 \\, {\\left(r - r_{m}\\right)}^{\\frac{2}{13}} r^{\\frac{231}{13}} - 20328 \\, {\\left(r - r_{m}\\right)}^{\\frac{1}{13}} r^{\\frac{232}{13}} - 328776 \\, r^{\\frac{233}{13}}\\right)} r_{m}^{2} - 13 \\, {\\left(14994 \\, {\\left(r - r_{m}\\right)}^{\\frac{11}{13}} r^{\\frac{235}{13}} - 18018 \\, {\\left(r - r_{m}\\right)}^{\\frac{9}{13}} r^{\\frac{237}{13}} + 14028 \\, {\\left(r - r_{m}\\right)}^{\\frac{7}{13}} r^{\\frac{239}{13}} + 36 \\, {\\left(r - r_{m}\\right)}^{\\frac{6}{13}} r^{\\frac{240}{13}} - 6876 \\, {\\left(r - r_{m}\\right)}^{\\frac{5}{13}} r^{\\frac{241}{13}} - 540 \\, {\\left(r - r_{m}\\right)}^{\\frac{4}{13}} r^{\\frac{242}{13}} + 1935 \\, {\\left(r - r_{m}\\right)}^{\\frac{3}{13}} r^{\\frac{243}{13}} + 3024 \\, {\\left(r - r_{m}\\right)}^{\\frac{2}{13}} r^{\\frac{244}{13}} - 239 \\, {\\left(r - r_{m}\\right)}^{\\frac{1}{13}} r^{\\frac{245}{13}} - 9072 \\, r^{\\frac{246}{13}}\\right)} r_{m}\\right)} r_{p}}{338 \\, {\\left({\\left(r - r_{m}\\right)}^{\\frac{12}{13}} r^{22} + 84 \\, {\\left(r - r_{m}\\right)}^{\\frac{11}{13}} r^{\\frac{287}{13}} - 126 \\, {\\left(r - r_{m}\\right)}^{\\frac{9}{13}} r^{\\frac{289}{13}} + 126 \\, {\\left(r - r_{m}\\right)}^{\\frac{7}{13}} r^{\\frac{291}{13}} - 84 \\, {\\left(r - r_{m}\\right)}^{\\frac{5}{13}} r^{\\frac{293}{13}} - {\\left(r - r_{m}\\right)}^{\\frac{4}{13}} r^{\\frac{294}{13}} + 36 \\, {\\left(r - r_{m}\\right)}^{\\frac{3}{13}} r^{\\frac{295}{13}} + 9 \\, {\\left(r - r_{m}\\right)}^{\\frac{2}{13}} r^{\\frac{296}{13}} - 9 \\, {\\left(r - r_{m}\\right)}^{\\frac{1}{13}} r^{\\frac{297}{13}} - 36 \\, r^{\\frac{298}{13}} - {\\left({\\left(r - r_{m}\\right)}^{\\frac{12}{13}} r^{13} - 8 \\, {\\left(r - r_{m}\\right)}^{\\frac{12}{13}} r^{12} r_{m} + 28 \\, {\\left(r - r_{m}\\right)}^{\\frac{12}{13}} r^{11} r_{m}^{2} - 56 \\, {\\left(r - r_{m}\\right)}^{\\frac{12}{13}} r^{10} r_{m}^{3} + 70 \\, {\\left(r - r_{m}\\right)}^{\\frac{12}{13}} r^{9} r_{m}^{4} - 56 \\, {\\left(r - r_{m}\\right)}^{\\frac{12}{13}} r^{8} r_{m}^{5} + 28 \\, {\\left(r - r_{m}\\right)}^{\\frac{12}{13}} r^{7} r_{m}^{6} - 8 \\, {\\left(r - r_{m}\\right)}^{\\frac{12}{13}} r^{6} r_{m}^{7} + {\\left(r - r_{m}\\right)}^{\\frac{12}{13}} r^{5} r_{m}^{8}\\right)} r_{p}^{9} + {\\left({\\left(r - r_{m}\\right)}^{\\frac{12}{13}} r^{14} - 9 \\, {\\left(r - r_{m}\\right)}^{\\frac{1}{13}} r^{\\frac{193}{13}}\\right)} r_{m}^{8} + 9 \\, {\\left({\\left(r - r_{m}\\right)}^{\\frac{12}{13}} r^{14} - {\\left(r - r_{m}\\right)}^{\\frac{1}{13}} r^{\\frac{193}{13}} + {\\left({\\left(r - r_{m}\\right)}^{\\frac{12}{13}} r^{6} - {\\left(r - r_{m}\\right)}^{\\frac{1}{13}} r^{\\frac{89}{13}}\\right)} r_{m}^{8} - 8 \\, {\\left({\\left(r - r_{m}\\right)}^{\\frac{12}{13}} r^{7} - {\\left(r - r_{m}\\right)}^{\\frac{1}{13}} r^{\\frac{102}{13}}\\right)} r_{m}^{7} + 28 \\, {\\left({\\left(r - r_{m}\\right)}^{\\frac{12}{13}} r^{8} - {\\left(r - r_{m}\\right)}^{\\frac{1}{13}} r^{\\frac{115}{13}}\\right)} r_{m}^{6} - 56 \\, {\\left({\\left(r - r_{m}\\right)}^{\\frac{12}{13}} r^{9} - {\\left(r - r_{m}\\right)}^{\\frac{1}{13}} r^{\\frac{128}{13}}\\right)} r_{m}^{5} + 70 \\, {\\left({\\left(r - r_{m}\\right)}^{\\frac{12}{13}} r^{10} - {\\left(r - r_{m}\\right)}^{\\frac{1}{13}} r^{\\frac{141}{13}}\\right)} r_{m}^{4} - 56 \\, {\\left({\\left(r - r_{m}\\right)}^{\\frac{12}{13}} r^{11} - {\\left(r - r_{m}\\right)}^{\\frac{1}{13}} r^{\\frac{154}{13}}\\right)} r_{m}^{3} + 28 \\, {\\left({\\left(r - r_{m}\\right)}^{\\frac{12}{13}} r^{12} - {\\left(r - r_{m}\\right)}^{\\frac{1}{13}} r^{\\frac{167}{13}}\\right)} r_{m}^{2} - 8 \\, {\\left({\\left(r - r_{m}\\right)}^{\\frac{12}{13}} r^{13} - {\\left(r - r_{m}\\right)}^{\\frac{1}{13}} r^{\\frac{180}{13}}\\right)} r_{m}\\right)} r_{p}^{8} - 4 \\, {\\left(2 \\, {\\left(r - r_{m}\\right)}^{\\frac{12}{13}} r^{15} + 9 \\, {\\left(r - r_{m}\\right)}^{\\frac{3}{13}} r^{\\frac{204}{13}} - 18 \\, {\\left(r - r_{m}\\right)}^{\\frac{1}{13}} r^{\\frac{206}{13}}\\right)} r_{m}^{7} - 36 \\, {\\left({\\left(r - r_{m}\\right)}^{\\frac{12}{13}} r^{15} + {\\left(r - r_{m}\\right)}^{\\frac{3}{13}} r^{\\frac{204}{13}} - 2 \\, {\\left(r - r_{m}\\right)}^{\\frac{1}{13}} r^{\\frac{206}{13}} + {\\left({\\left(r - r_{m}\\right)}^{\\frac{12}{13}} r^{7} - 2 \\, {\\left(r - r_{m}\\right)}^{\\frac{1}{13}} r^{\\frac{102}{13}}\\right)} r_{m}^{8} - {\\left(8 \\, {\\left(r - r_{m}\\right)}^{\\frac{12}{13}} r^{8} + {\\left(r - r_{m}\\right)}^{\\frac{3}{13}} r^{\\frac{113}{13}} - 16 \\, {\\left(r - r_{m}\\right)}^{\\frac{1}{13}} r^{\\frac{115}{13}}\\right)} r_{m}^{7} + 7 \\, {\\left(4 \\, {\\left(r - r_{m}\\right)}^{\\frac{12}{13}} r^{9} + {\\left(r - r_{m}\\right)}^{\\frac{3}{13}} r^{\\frac{126}{13}} - 8 \\, {\\left(r - r_{m}\\right)}^{\\frac{1}{13}} r^{\\frac{128}{13}}\\right)} r_{m}^{6} - 7 \\, {\\left(8 \\, {\\left(r - r_{m}\\right)}^{\\frac{12}{13}} r^{10} + 3 \\, {\\left(r - r_{m}\\right)}^{\\frac{3}{13}} r^{\\frac{139}{13}} - 16 \\, {\\left(r - r_{m}\\right)}^{\\frac{1}{13}} r^{\\frac{141}{13}}\\right)} r_{m}^{5} + 35 \\, {\\left(2 \\, {\\left(r - r_{m}\\right)}^{\\frac{12}{13}} r^{11} + {\\left(r - r_{m}\\right)}^{\\frac{3}{13}} r^{\\frac{152}{13}} - 4 \\, {\\left(r - r_{m}\\right)}^{\\frac{1}{13}} r^{\\frac{154}{13}}\\right)} r_{m}^{4} - 7 \\, {\\left(8 \\, {\\left(r - r_{m}\\right)}^{\\frac{12}{13}} r^{12} + 5 \\, {\\left(r - r_{m}\\right)}^{\\frac{3}{13}} r^{\\frac{165}{13}} - 16 \\, {\\left(r - r_{m}\\right)}^{\\frac{1}{13}} r^{\\frac{167}{13}}\\right)} r_{m}^{3} + 7 \\, {\\left(4 \\, {\\left(r - r_{m}\\right)}^{\\frac{12}{13}} r^{13} + 3 \\, {\\left(r - r_{m}\\right)}^{\\frac{3}{13}} r^{\\frac{178}{13}} - 8 \\, {\\left(r - r_{m}\\right)}^{\\frac{1}{13}} r^{\\frac{180}{13}}\\right)} r_{m}^{2} - {\\left(8 \\, {\\left(r - r_{m}\\right)}^{\\frac{12}{13}} r^{14} + 7 \\, {\\left(r - r_{m}\\right)}^{\\frac{3}{13}} r^{\\frac{191}{13}} - 16 \\, {\\left(r - r_{m}\\right)}^{\\frac{1}{13}} r^{\\frac{193}{13}}\\right)} r_{m}\\right)} r_{p}^{7} + 28 \\, {\\left({\\left(r - r_{m}\\right)}^{\\frac{12}{13}} r^{16} - 3 \\, {\\left(r - r_{m}\\right)}^{\\frac{5}{13}} r^{\\frac{215}{13}} + 9 \\, {\\left(r - r_{m}\\right)}^{\\frac{3}{13}} r^{\\frac{217}{13}} - 9 \\, {\\left(r - r_{m}\\right)}^{\\frac{1}{13}} r^{\\frac{219}{13}}\\right)} r_{m}^{6} + 84 \\, {\\left({\\left(r - r_{m}\\right)}^{\\frac{12}{13}} r^{16} - {\\left(r - r_{m}\\right)}^{\\frac{5}{13}} r^{\\frac{215}{13}} + 3 \\, {\\left(r - r_{m}\\right)}^{\\frac{3}{13}} r^{\\frac{217}{13}} - 3 \\, {\\left(r - r_{m}\\right)}^{\\frac{1}{13}} r^{\\frac{219}{13}} + {\\left({\\left(r - r_{m}\\right)}^{\\frac{12}{13}} r^{8} - 3 \\, {\\left(r - r_{m}\\right)}^{\\frac{1}{13}} r^{\\frac{115}{13}}\\right)} r_{m}^{8} - {\\left(8 \\, {\\left(r - r_{m}\\right)}^{\\frac{12}{13}} r^{9} + 3 \\, {\\left(r - r_{m}\\right)}^{\\frac{3}{13}} r^{\\frac{126}{13}} - 24 \\, {\\left(r - r_{m}\\right)}^{\\frac{1}{13}} r^{\\frac{128}{13}}\\right)} r_{m}^{7} + {\\left(28 \\, {\\left(r - r_{m}\\right)}^{\\frac{12}{13}} r^{10} - {\\left(r - r_{m}\\right)}^{\\frac{5}{13}} r^{\\frac{137}{13}} + 21 \\, {\\left(r - r_{m}\\right)}^{\\frac{3}{13}} r^{\\frac{139}{13}} - 84 \\, {\\left(r - r_{m}\\right)}^{\\frac{1}{13}} r^{\\frac{141}{13}}\\right)} r_{m}^{6} - {\\left(56 \\, {\\left(r - r_{m}\\right)}^{\\frac{12}{13}} r^{11} - 6 \\, {\\left(r - r_{m}\\right)}^{\\frac{5}{13}} r^{\\frac{150}{13}} + 63 \\, {\\left(r - r_{m}\\right)}^{\\frac{3}{13}} r^{\\frac{152}{13}} - 168 \\, {\\left(r - r_{m}\\right)}^{\\frac{1}{13}} r^{\\frac{154}{13}}\\right)} r_{m}^{5} + 5 \\, {\\left(14 \\, {\\left(r - r_{m}\\right)}^{\\frac{12}{13}} r^{12} - 3 \\, {\\left(r - r_{m}\\right)}^{\\frac{5}{13}} r^{\\frac{163}{13}} + 21 \\, {\\left(r - r_{m}\\right)}^{\\frac{3}{13}} r^{\\frac{165}{13}} - 42 \\, {\\left(r - r_{m}\\right)}^{\\frac{1}{13}} r^{\\frac{167}{13}}\\right)} r_{m}^{4} - {\\left(56 \\, {\\left(r - r_{m}\\right)}^{\\frac{12}{13}} r^{13} - 20 \\, {\\left(r - r_{m}\\right)}^{\\frac{5}{13}} r^{\\frac{176}{13}} + 105 \\, {\\left(r - r_{m}\\right)}^{\\frac{3}{13}} r^{\\frac{178}{13}} - 168 \\, {\\left(r - r_{m}\\right)}^{\\frac{1}{13}} r^{\\frac{180}{13}}\\right)} r_{m}^{3} + {\\left(28 \\, {\\left(r - r_{m}\\right)}^{\\frac{12}{13}} r^{14} - 15 \\, {\\left(r - r_{m}\\right)}^{\\frac{5}{13}} r^{\\frac{189}{13}} + 63 \\, {\\left(r - r_{m}\\right)}^{\\frac{3}{13}} r^{\\frac{191}{13}} - 84 \\, {\\left(r - r_{m}\\right)}^{\\frac{1}{13}} r^{\\frac{193}{13}}\\right)} r_{m}^{2} - {\\left(8 \\, {\\left(r - r_{m}\\right)}^{\\frac{12}{13}} r^{15} - 6 \\, {\\left(r - r_{m}\\right)}^{\\frac{5}{13}} r^{\\frac{202}{13}} + 21 \\, {\\left(r - r_{m}\\right)}^{\\frac{3}{13}} r^{\\frac{204}{13}} - 24 \\, {\\left(r - r_{m}\\right)}^{\\frac{1}{13}} r^{\\frac{206}{13}}\\right)} r_{m}\\right)} r_{p}^{6} - 14 \\, {\\left(4 \\, {\\left(r - r_{m}\\right)}^{\\frac{12}{13}} r^{17} + 9 \\, {\\left(r - r_{m}\\right)}^{\\frac{7}{13}} r^{\\frac{226}{13}} - 36 \\, {\\left(r - r_{m}\\right)}^{\\frac{5}{13}} r^{\\frac{228}{13}} + 54 \\, {\\left(r - r_{m}\\right)}^{\\frac{3}{13}} r^{\\frac{230}{13}} - 36 \\, {\\left(r - r_{m}\\right)}^{\\frac{1}{13}} r^{\\frac{232}{13}}\\right)} r_{m}^{5} - 126 \\, {\\left({\\left(r - r_{m}\\right)}^{\\frac{12}{13}} r^{17} + {\\left(r - r_{m}\\right)}^{\\frac{7}{13}} r^{\\frac{226}{13}} - 4 \\, {\\left(r - r_{m}\\right)}^{\\frac{5}{13}} r^{\\frac{228}{13}} + 6 \\, {\\left(r - r_{m}\\right)}^{\\frac{3}{13}} r^{\\frac{230}{13}} - 4 \\, {\\left(r - r_{m}\\right)}^{\\frac{1}{13}} r^{\\frac{232}{13}} + {\\left({\\left(r - r_{m}\\right)}^{\\frac{12}{13}} r^{9} - 4 \\, {\\left(r - r_{m}\\right)}^{\\frac{1}{13}} r^{\\frac{128}{13}}\\right)} r_{m}^{8} - 2 \\, {\\left(4 \\, {\\left(r - r_{m}\\right)}^{\\frac{12}{13}} r^{10} + 3 \\, {\\left(r - r_{m}\\right)}^{\\frac{3}{13}} r^{\\frac{139}{13}} - 16 \\, {\\left(r - r_{m}\\right)}^{\\frac{1}{13}} r^{\\frac{141}{13}}\\right)} r_{m}^{7} + 2 \\, {\\left(14 \\, {\\left(r - r_{m}\\right)}^{\\frac{12}{13}} r^{11} - 2 \\, {\\left(r - r_{m}\\right)}^{\\frac{5}{13}} r^{\\frac{150}{13}} + 21 \\, {\\left(r - r_{m}\\right)}^{\\frac{3}{13}} r^{\\frac{152}{13}} - 56 \\, {\\left(r - r_{m}\\right)}^{\\frac{1}{13}} r^{\\frac{154}{13}}\\right)} r_{m}^{6} - {\\left(56 \\, {\\left(r - r_{m}\\right)}^{\\frac{12}{13}} r^{12} + {\\left(r - r_{m}\\right)}^{\\frac{7}{13}} r^{\\frac{161}{13}} - 24 \\, {\\left(r - r_{m}\\right)}^{\\frac{5}{13}} r^{\\frac{163}{13}} + 126 \\, {\\left(r - r_{m}\\right)}^{\\frac{3}{13}} r^{\\frac{165}{13}} - 224 \\, {\\left(r - r_{m}\\right)}^{\\frac{1}{13}} r^{\\frac{167}{13}}\\right)} r_{m}^{5} + 5 \\, {\\left(14 \\, {\\left(r - r_{m}\\right)}^{\\frac{12}{13}} r^{13} + {\\left(r - r_{m}\\right)}^{\\frac{7}{13}} r^{\\frac{174}{13}} - 12 \\, {\\left(r - r_{m}\\right)}^{\\frac{5}{13}} r^{\\frac{176}{13}} + 42 \\, {\\left(r - r_{m}\\right)}^{\\frac{3}{13}} r^{\\frac{178}{13}} - 56 \\, {\\left(r - r_{m}\\right)}^{\\frac{1}{13}} r^{\\frac{180}{13}}\\right)} r_{m}^{4} - 2 \\, {\\left(28 \\, {\\left(r - r_{m}\\right)}^{\\frac{12}{13}} r^{14} + 5 \\, {\\left(r - r_{m}\\right)}^{\\frac{7}{13}} r^{\\frac{187}{13}} - 40 \\, {\\left(r - r_{m}\\right)}^{\\frac{5}{13}} r^{\\frac{189}{13}} + 105 \\, {\\left(r - r_{m}\\right)}^{\\frac{3}{13}} r^{\\frac{191}{13}} - 112 \\, {\\left(r - r_{m}\\right)}^{\\frac{1}{13}} r^{\\frac{193}{13}}\\right)} r_{m}^{3} + 2 \\, {\\left(14 \\, {\\left(r - r_{m}\\right)}^{\\frac{12}{13}} r^{15} + 5 \\, {\\left(r - r_{m}\\right)}^{\\frac{7}{13}} r^{\\frac{200}{13}} - 30 \\, {\\left(r - r_{m}\\right)}^{\\frac{5}{13}} r^{\\frac{202}{13}} + 63 \\, {\\left(r - r_{m}\\right)}^{\\frac{3}{13}} r^{\\frac{204}{13}} - 56 \\, {\\left(r - r_{m}\\right)}^{\\frac{1}{13}} r^{\\frac{206}{13}}\\right)} r_{m}^{2} - {\\left(8 \\, {\\left(r - r_{m}\\right)}^{\\frac{12}{13}} r^{16} + 5 \\, {\\left(r - r_{m}\\right)}^{\\frac{7}{13}} r^{\\frac{213}{13}} - 24 \\, {\\left(r - r_{m}\\right)}^{\\frac{5}{13}} r^{\\frac{215}{13}} + 42 \\, {\\left(r - r_{m}\\right)}^{\\frac{3}{13}} r^{\\frac{217}{13}} - 32 \\, {\\left(r - r_{m}\\right)}^{\\frac{1}{13}} r^{\\frac{219}{13}}\\right)} r_{m}\\right)} r_{p}^{5} + 14 \\, {\\left(5 \\, {\\left(r - r_{m}\\right)}^{\\frac{12}{13}} r^{18} - 9 \\, {\\left(r - r_{m}\\right)}^{\\frac{9}{13}} r^{\\frac{237}{13}} + 45 \\, {\\left(r - r_{m}\\right)}^{\\frac{7}{13}} r^{\\frac{239}{13}} - 90 \\, {\\left(r - r_{m}\\right)}^{\\frac{5}{13}} r^{\\frac{241}{13}} + 90 \\, {\\left(r - r_{m}\\right)}^{\\frac{3}{13}} r^{\\frac{243}{13}} - 45 \\, {\\left(r - r_{m}\\right)}^{\\frac{1}{13}} r^{\\frac{245}{13}}\\right)} r_{m}^{4} + 126 \\, {\\left({\\left(r - r_{m}\\right)}^{\\frac{12}{13}} r^{18} - {\\left(r - r_{m}\\right)}^{\\frac{9}{13}} r^{\\frac{237}{13}} + 5 \\, {\\left(r - r_{m}\\right)}^{\\frac{7}{13}} r^{\\frac{239}{13}} - 10 \\, {\\left(r - r_{m}\\right)}^{\\frac{5}{13}} r^{\\frac{241}{13}} + 10 \\, {\\left(r - r_{m}\\right)}^{\\frac{3}{13}} r^{\\frac{243}{13}} - 5 \\, {\\left(r - r_{m}\\right)}^{\\frac{1}{13}} r^{\\frac{245}{13}} + {\\left({\\left(r - r_{m}\\right)}^{\\frac{12}{13}} r^{10} - 5 \\, {\\left(r - r_{m}\\right)}^{\\frac{1}{13}} r^{\\frac{141}{13}}\\right)} r_{m}^{8} - 2 \\, {\\left(4 \\, {\\left(r - r_{m}\\right)}^{\\frac{12}{13}} r^{11} + 5 \\, {\\left(r - r_{m}\\right)}^{\\frac{3}{13}} r^{\\frac{152}{13}} - 20 \\, {\\left(r - r_{m}\\right)}^{\\frac{1}{13}} r^{\\frac{154}{13}}\\right)} r_{m}^{7} + 2 \\, {\\left(14 \\, {\\left(r - r_{m}\\right)}^{\\frac{12}{13}} r^{12} - 5 \\, {\\left(r - r_{m}\\right)}^{\\frac{5}{13}} r^{\\frac{163}{13}} + 35 \\, {\\left(r - r_{m}\\right)}^{\\frac{3}{13}} r^{\\frac{165}{13}} - 70 \\, {\\left(r - r_{m}\\right)}^{\\frac{1}{13}} r^{\\frac{167}{13}}\\right)} r_{m}^{6} - {\\left(56 \\, {\\left(r - r_{m}\\right)}^{\\frac{12}{13}} r^{13} + 5 \\, {\\left(r - r_{m}\\right)}^{\\frac{7}{13}} r^{\\frac{174}{13}} - 60 \\, {\\left(r - r_{m}\\right)}^{\\frac{5}{13}} r^{\\frac{176}{13}} + 210 \\, {\\left(r - r_{m}\\right)}^{\\frac{3}{13}} r^{\\frac{178}{13}} - 280 \\, {\\left(r - r_{m}\\right)}^{\\frac{1}{13}} r^{\\frac{180}{13}}\\right)} r_{m}^{5} + {\\left(70 \\, {\\left(r - r_{m}\\right)}^{\\frac{12}{13}} r^{14} - {\\left(r - r_{m}\\right)}^{\\frac{9}{13}} r^{\\frac{185}{13}} + 25 \\, {\\left(r - r_{m}\\right)}^{\\frac{7}{13}} r^{\\frac{187}{13}} - 150 \\, {\\left(r - r_{m}\\right)}^{\\frac{5}{13}} r^{\\frac{189}{13}} + 350 \\, {\\left(r - r_{m}\\right)}^{\\frac{3}{13}} r^{\\frac{191}{13}} - 350 \\, {\\left(r - r_{m}\\right)}^{\\frac{1}{13}} r^{\\frac{193}{13}}\\right)} r_{m}^{4} - 2 \\, {\\left(28 \\, {\\left(r - r_{m}\\right)}^{\\frac{12}{13}} r^{15} - 2 \\, {\\left(r - r_{m}\\right)}^{\\frac{9}{13}} r^{\\frac{198}{13}} + 25 \\, {\\left(r - r_{m}\\right)}^{\\frac{7}{13}} r^{\\frac{200}{13}} - 100 \\, {\\left(r - r_{m}\\right)}^{\\frac{5}{13}} r^{\\frac{202}{13}} + 175 \\, {\\left(r - r_{m}\\right)}^{\\frac{3}{13}} r^{\\frac{204}{13}} - 140 \\, {\\left(r - r_{m}\\right)}^{\\frac{1}{13}} r^{\\frac{206}{13}}\\right)} r_{m}^{3} + 2 \\, {\\left(14 \\, {\\left(r - r_{m}\\right)}^{\\frac{12}{13}} r^{16} - 3 \\, {\\left(r - r_{m}\\right)}^{\\frac{9}{13}} r^{\\frac{211}{13}} + 25 \\, {\\left(r - r_{m}\\right)}^{\\frac{7}{13}} r^{\\frac{213}{13}} - 75 \\, {\\left(r - r_{m}\\right)}^{\\frac{5}{13}} r^{\\frac{215}{13}} + 105 \\, {\\left(r - r_{m}\\right)}^{\\frac{3}{13}} r^{\\frac{217}{13}} - 70 \\, {\\left(r - r_{m}\\right)}^{\\frac{1}{13}} r^{\\frac{219}{13}}\\right)} r_{m}^{2} - {\\left(8 \\, {\\left(r - r_{m}\\right)}^{\\frac{12}{13}} r^{17} - 4 \\, {\\left(r - r_{m}\\right)}^{\\frac{9}{13}} r^{\\frac{224}{13}} + 25 \\, {\\left(r - r_{m}\\right)}^{\\frac{7}{13}} r^{\\frac{226}{13}} - 60 \\, {\\left(r - r_{m}\\right)}^{\\frac{5}{13}} r^{\\frac{228}{13}} + 70 \\, {\\left(r - r_{m}\\right)}^{\\frac{3}{13}} r^{\\frac{230}{13}} - 40 \\, {\\left(r - r_{m}\\right)}^{\\frac{1}{13}} r^{\\frac{232}{13}}\\right)} r_{m}\\right)} r_{p}^{4} - 4 \\, {\\left(14 \\, {\\left(r - r_{m}\\right)}^{\\frac{12}{13}} r^{19} + 21 \\, {\\left(r - r_{m}\\right)}^{\\frac{11}{13}} r^{\\frac{248}{13}} - 126 \\, {\\left(r - r_{m}\\right)}^{\\frac{9}{13}} r^{\\frac{250}{13}} + 315 \\, {\\left(r - r_{m}\\right)}^{\\frac{7}{13}} r^{\\frac{252}{13}} - 420 \\, {\\left(r - r_{m}\\right)}^{\\frac{5}{13}} r^{\\frac{254}{13}} + 315 \\, {\\left(r - r_{m}\\right)}^{\\frac{3}{13}} r^{\\frac{256}{13}} - 126 \\, {\\left(r - r_{m}\\right)}^{\\frac{1}{13}} r^{\\frac{258}{13}} - 9 \\, r^{\\frac{259}{13}}\\right)} r_{m}^{3} - 84 \\, {\\left({\\left(r - r_{m}\\right)}^{\\frac{12}{13}} r^{19} + {\\left(r - r_{m}\\right)}^{\\frac{11}{13}} r^{\\frac{248}{13}} - 6 \\, {\\left(r - r_{m}\\right)}^{\\frac{9}{13}} r^{\\frac{250}{13}} + 15 \\, {\\left(r - r_{m}\\right)}^{\\frac{7}{13}} r^{\\frac{252}{13}} - 20 \\, {\\left(r - r_{m}\\right)}^{\\frac{5}{13}} r^{\\frac{254}{13}} + 15 \\, {\\left(r - r_{m}\\right)}^{\\frac{3}{13}} r^{\\frac{256}{13}} - 6 \\, {\\left(r - r_{m}\\right)}^{\\frac{1}{13}} r^{\\frac{258}{13}} + {\\left({\\left(r - r_{m}\\right)}^{\\frac{12}{13}} r^{11} - 6 \\, {\\left(r - r_{m}\\right)}^{\\frac{1}{13}} r^{\\frac{154}{13}}\\right)} r_{m}^{8} - {\\left(8 \\, {\\left(r - r_{m}\\right)}^{\\frac{12}{13}} r^{12} + 15 \\, {\\left(r - r_{m}\\right)}^{\\frac{3}{13}} r^{\\frac{165}{13}} - 48 \\, {\\left(r - r_{m}\\right)}^{\\frac{1}{13}} r^{\\frac{167}{13}}\\right)} r_{m}^{7} + {\\left(28 \\, {\\left(r - r_{m}\\right)}^{\\frac{12}{13}} r^{13} - 20 \\, {\\left(r - r_{m}\\right)}^{\\frac{5}{13}} r^{\\frac{176}{13}} + 105 \\, {\\left(r - r_{m}\\right)}^{\\frac{3}{13}} r^{\\frac{178}{13}} - 168 \\, {\\left(r - r_{m}\\right)}^{\\frac{1}{13}} r^{\\frac{180}{13}}\\right)} r_{m}^{6} - {\\left(56 \\, {\\left(r - r_{m}\\right)}^{\\frac{12}{13}} r^{14} + 15 \\, {\\left(r - r_{m}\\right)}^{\\frac{7}{13}} r^{\\frac{187}{13}} - 120 \\, {\\left(r - r_{m}\\right)}^{\\frac{5}{13}} r^{\\frac{189}{13}} + 315 \\, {\\left(r - r_{m}\\right)}^{\\frac{3}{13}} r^{\\frac{191}{13}} - 336 \\, {\\left(r - r_{m}\\right)}^{\\frac{1}{13}} r^{\\frac{193}{13}}\\right)} r_{m}^{5} + {\\left(70 \\, {\\left(r - r_{m}\\right)}^{\\frac{12}{13}} r^{15} - 6 \\, {\\left(r - r_{m}\\right)}^{\\frac{9}{13}} r^{\\frac{198}{13}} + 75 \\, {\\left(r - r_{m}\\right)}^{\\frac{7}{13}} r^{\\frac{200}{13}} - 300 \\, {\\left(r - r_{m}\\right)}^{\\frac{5}{13}} r^{\\frac{202}{13}} + 525 \\, {\\left(r - r_{m}\\right)}^{\\frac{3}{13}} r^{\\frac{204}{13}} - 420 \\, {\\left(r - r_{m}\\right)}^{\\frac{1}{13}} r^{\\frac{206}{13}}\\right)} r_{m}^{4} - {\\left(56 \\, {\\left(r - r_{m}\\right)}^{\\frac{12}{13}} r^{16} + {\\left(r - r_{m}\\right)}^{\\frac{11}{13}} r^{\\frac{209}{13}} - 24 \\, {\\left(r - r_{m}\\right)}^{\\frac{9}{13}} r^{\\frac{211}{13}} + 150 \\, {\\left(r - r_{m}\\right)}^{\\frac{7}{13}} r^{\\frac{213}{13}} - 400 \\, {\\left(r - r_{m}\\right)}^{\\frac{5}{13}} r^{\\frac{215}{13}} + 525 \\, {\\left(r - r_{m}\\right)}^{\\frac{3}{13}} r^{\\frac{217}{13}} - 336 \\, {\\left(r - r_{m}\\right)}^{\\frac{1}{13}} r^{\\frac{219}{13}}\\right)} r_{m}^{3} + {\\left(28 \\, {\\left(r - r_{m}\\right)}^{\\frac{12}{13}} r^{17} + 3 \\, {\\left(r - r_{m}\\right)}^{\\frac{11}{13}} r^{\\frac{222}{13}} - 36 \\, {\\left(r - r_{m}\\right)}^{\\frac{9}{13}} r^{\\frac{224}{13}} + 150 \\, {\\left(r - r_{m}\\right)}^{\\frac{7}{13}} r^{\\frac{226}{13}} - 300 \\, {\\left(r - r_{m}\\right)}^{\\frac{5}{13}} r^{\\frac{228}{13}} + 315 \\, {\\left(r - r_{m}\\right)}^{\\frac{3}{13}} r^{\\frac{230}{13}} - 168 \\, {\\left(r - r_{m}\\right)}^{\\frac{1}{13}} r^{\\frac{232}{13}}\\right)} r_{m}^{2} - {\\left(8 \\, {\\left(r - r_{m}\\right)}^{\\frac{12}{13}} r^{18} + 3 \\, {\\left(r - r_{m}\\right)}^{\\frac{11}{13}} r^{\\frac{235}{13}} - 24 \\, {\\left(r - r_{m}\\right)}^{\\frac{9}{13}} r^{\\frac{237}{13}} + 75 \\, {\\left(r - r_{m}\\right)}^{\\frac{7}{13}} r^{\\frac{239}{13}} - 120 \\, {\\left(r - r_{m}\\right)}^{\\frac{5}{13}} r^{\\frac{241}{13}} + 105 \\, {\\left(r - r_{m}\\right)}^{\\frac{3}{13}} r^{\\frac{243}{13}} - 48 \\, {\\left(r - r_{m}\\right)}^{\\frac{1}{13}} r^{\\frac{245}{13}}\\right)} r_{m}\\right)} r_{p}^{3} + {\\left(28 \\, {\\left(r - r_{m}\\right)}^{\\frac{12}{13}} r^{20} + 252 \\, {\\left(r - r_{m}\\right)}^{\\frac{11}{13}} r^{\\frac{261}{13}} - 756 \\, {\\left(r - r_{m}\\right)}^{\\frac{9}{13}} r^{\\frac{263}{13}} + 1260 \\, {\\left(r - r_{m}\\right)}^{\\frac{7}{13}} r^{\\frac{265}{13}} - 1260 \\, {\\left(r - r_{m}\\right)}^{\\frac{5}{13}} r^{\\frac{267}{13}} + 756 \\, {\\left(r - r_{m}\\right)}^{\\frac{3}{13}} r^{\\frac{269}{13}} + 9 \\, {\\left(r - r_{m}\\right)}^{\\frac{2}{13}} r^{\\frac{270}{13}} - 252 \\, {\\left(r - r_{m}\\right)}^{\\frac{1}{13}} r^{\\frac{271}{13}} - 108 \\, r^{\\frac{272}{13}}\\right)} r_{m}^{2} + 36 \\, {\\left({\\left(r - r_{m}\\right)}^{\\frac{12}{13}} r^{20} + 7 \\, {\\left(r - r_{m}\\right)}^{\\frac{11}{13}} r^{\\frac{261}{13}} - 21 \\, {\\left(r - r_{m}\\right)}^{\\frac{9}{13}} r^{\\frac{263}{13}} + 35 \\, {\\left(r - r_{m}\\right)}^{\\frac{7}{13}} r^{\\frac{265}{13}} - 35 \\, {\\left(r - r_{m}\\right)}^{\\frac{5}{13}} r^{\\frac{267}{13}} + 21 \\, {\\left(r - r_{m}\\right)}^{\\frac{3}{13}} r^{\\frac{269}{13}} - 7 \\, {\\left(r - r_{m}\\right)}^{\\frac{1}{13}} r^{\\frac{271}{13}} - r^{\\frac{272}{13}} + {\\left({\\left(r - r_{m}\\right)}^{\\frac{12}{13}} r^{12} - 7 \\, {\\left(r - r_{m}\\right)}^{\\frac{1}{13}} r^{\\frac{167}{13}}\\right)} r_{m}^{8} - {\\left(8 \\, {\\left(r - r_{m}\\right)}^{\\frac{12}{13}} r^{13} + 21 \\, {\\left(r - r_{m}\\right)}^{\\frac{3}{13}} r^{\\frac{178}{13}} - 56 \\, {\\left(r - r_{m}\\right)}^{\\frac{1}{13}} r^{\\frac{180}{13}}\\right)} r_{m}^{7} + 7 \\, {\\left(4 \\, {\\left(r - r_{m}\\right)}^{\\frac{12}{13}} r^{14} - 5 \\, {\\left(r - r_{m}\\right)}^{\\frac{5}{13}} r^{\\frac{189}{13}} + 21 \\, {\\left(r - r_{m}\\right)}^{\\frac{3}{13}} r^{\\frac{191}{13}} - 28 \\, {\\left(r - r_{m}\\right)}^{\\frac{1}{13}} r^{\\frac{193}{13}}\\right)} r_{m}^{6} - 7 \\, {\\left(8 \\, {\\left(r - r_{m}\\right)}^{\\frac{12}{13}} r^{15} + 5 \\, {\\left(r - r_{m}\\right)}^{\\frac{7}{13}} r^{\\frac{200}{13}} - 30 \\, {\\left(r - r_{m}\\right)}^{\\frac{5}{13}} r^{\\frac{202}{13}} + 63 \\, {\\left(r - r_{m}\\right)}^{\\frac{3}{13}} r^{\\frac{204}{13}} - 56 \\, {\\left(r - r_{m}\\right)}^{\\frac{1}{13}} r^{\\frac{206}{13}}\\right)} r_{m}^{5} + 7 \\, {\\left(10 \\, {\\left(r - r_{m}\\right)}^{\\frac{12}{13}} r^{16} - 3 \\, {\\left(r - r_{m}\\right)}^{\\frac{9}{13}} r^{\\frac{211}{13}} + 25 \\, {\\left(r - r_{m}\\right)}^{\\frac{7}{13}} r^{\\frac{213}{13}} - 75 \\, {\\left(r - r_{m}\\right)}^{\\frac{5}{13}} r^{\\frac{215}{13}} + 105 \\, {\\left(r - r_{m}\\right)}^{\\frac{3}{13}} r^{\\frac{217}{13}} - 70 \\, {\\left(r - r_{m}\\right)}^{\\frac{1}{13}} r^{\\frac{219}{13}}\\right)} r_{m}^{4} - {\\left(56 \\, {\\left(r - r_{m}\\right)}^{\\frac{12}{13}} r^{17} + 7 \\, {\\left(r - r_{m}\\right)}^{\\frac{11}{13}} r^{\\frac{222}{13}} - 84 \\, {\\left(r - r_{m}\\right)}^{\\frac{9}{13}} r^{\\frac{224}{13}} + 350 \\, {\\left(r - r_{m}\\right)}^{\\frac{7}{13}} r^{\\frac{226}{13}} - 700 \\, {\\left(r - r_{m}\\right)}^{\\frac{5}{13}} r^{\\frac{228}{13}} + 735 \\, {\\left(r - r_{m}\\right)}^{\\frac{3}{13}} r^{\\frac{230}{13}} - 392 \\, {\\left(r - r_{m}\\right)}^{\\frac{1}{13}} r^{\\frac{232}{13}} - r^{\\frac{233}{13}}\\right)} r_{m}^{3} + {\\left(28 \\, {\\left(r - r_{m}\\right)}^{\\frac{12}{13}} r^{18} + 21 \\, {\\left(r - r_{m}\\right)}^{\\frac{11}{13}} r^{\\frac{235}{13}} - 126 \\, {\\left(r - r_{m}\\right)}^{\\frac{9}{13}} r^{\\frac{237}{13}} + 350 \\, {\\left(r - r_{m}\\right)}^{\\frac{7}{13}} r^{\\frac{239}{13}} - 525 \\, {\\left(r - r_{m}\\right)}^{\\frac{5}{13}} r^{\\frac{241}{13}} + 441 \\, {\\left(r - r_{m}\\right)}^{\\frac{3}{13}} r^{\\frac{243}{13}} - 196 \\, {\\left(r - r_{m}\\right)}^{\\frac{1}{13}} r^{\\frac{245}{13}} - 3 \\, r^{\\frac{246}{13}}\\right)} r_{m}^{2} - {\\left(8 \\, {\\left(r - r_{m}\\right)}^{\\frac{12}{13}} r^{19} + 21 \\, {\\left(r - r_{m}\\right)}^{\\frac{11}{13}} r^{\\frac{248}{13}} - 84 \\, {\\left(r - r_{m}\\right)}^{\\frac{9}{13}} r^{\\frac{250}{13}} + 175 \\, {\\left(r - r_{m}\\right)}^{\\frac{7}{13}} r^{\\frac{252}{13}} - 210 \\, {\\left(r - r_{m}\\right)}^{\\frac{5}{13}} r^{\\frac{254}{13}} + 147 \\, {\\left(r - r_{m}\\right)}^{\\frac{3}{13}} r^{\\frac{256}{13}} - 56 \\, {\\left(r - r_{m}\\right)}^{\\frac{1}{13}} r^{\\frac{258}{13}} - 3 \\, r^{\\frac{259}{13}}\\right)} r_{m}\\right)} r_{p}^{2} - {\\left(8 \\, {\\left(r - r_{m}\\right)}^{\\frac{12}{13}} r^{21} + 252 \\, {\\left(r - r_{m}\\right)}^{\\frac{11}{13}} r^{\\frac{274}{13}} - 504 \\, {\\left(r - r_{m}\\right)}^{\\frac{9}{13}} r^{\\frac{276}{13}} + 630 \\, {\\left(r - r_{m}\\right)}^{\\frac{7}{13}} r^{\\frac{278}{13}} - 504 \\, {\\left(r - r_{m}\\right)}^{\\frac{5}{13}} r^{\\frac{280}{13}} - {\\left(r - r_{m}\\right)}^{\\frac{4}{13}} r^{\\frac{281}{13}} + 252 \\, {\\left(r - r_{m}\\right)}^{\\frac{3}{13}} r^{\\frac{282}{13}} + 18 \\, {\\left(r - r_{m}\\right)}^{\\frac{2}{13}} r^{\\frac{283}{13}} - 72 \\, {\\left(r - r_{m}\\right)}^{\\frac{1}{13}} r^{\\frac{284}{13}} - 108 \\, r^{\\frac{285}{13}}\\right)} r_{m} - 9 \\, {\\left({\\left(r - r_{m}\\right)}^{\\frac{12}{13}} r^{21} + 28 \\, {\\left(r - r_{m}\\right)}^{\\frac{11}{13}} r^{\\frac{274}{13}} - 56 \\, {\\left(r - r_{m}\\right)}^{\\frac{9}{13}} r^{\\frac{276}{13}} + 70 \\, {\\left(r - r_{m}\\right)}^{\\frac{7}{13}} r^{\\frac{278}{13}} - 56 \\, {\\left(r - r_{m}\\right)}^{\\frac{5}{13}} r^{\\frac{280}{13}} + 28 \\, {\\left(r - r_{m}\\right)}^{\\frac{3}{13}} r^{\\frac{282}{13}} + {\\left(r - r_{m}\\right)}^{\\frac{2}{13}} r^{\\frac{283}{13}} - 8 \\, {\\left(r - r_{m}\\right)}^{\\frac{1}{13}} r^{\\frac{284}{13}} - 8 \\, r^{\\frac{285}{13}} + {\\left({\\left(r - r_{m}\\right)}^{\\frac{12}{13}} r^{13} - 8 \\, {\\left(r - r_{m}\\right)}^{\\frac{1}{13}} r^{\\frac{180}{13}}\\right)} r_{m}^{8} - 4 \\, {\\left(2 \\, {\\left(r - r_{m}\\right)}^{\\frac{12}{13}} r^{14} + 7 \\, {\\left(r - r_{m}\\right)}^{\\frac{3}{13}} r^{\\frac{191}{13}} - 16 \\, {\\left(r - r_{m}\\right)}^{\\frac{1}{13}} r^{\\frac{193}{13}}\\right)} r_{m}^{7} + 28 \\, {\\left({\\left(r - r_{m}\\right)}^{\\frac{12}{13}} r^{15} - 2 \\, {\\left(r - r_{m}\\right)}^{\\frac{5}{13}} r^{\\frac{202}{13}} + 7 \\, {\\left(r - r_{m}\\right)}^{\\frac{3}{13}} r^{\\frac{204}{13}} - 8 \\, {\\left(r - r_{m}\\right)}^{\\frac{1}{13}} r^{\\frac{206}{13}}\\right)} r_{m}^{6} - 14 \\, {\\left(4 \\, {\\left(r - r_{m}\\right)}^{\\frac{12}{13}} r^{16} + 5 \\, {\\left(r - r_{m}\\right)}^{\\frac{7}{13}} r^{\\frac{213}{13}} - 24 \\, {\\left(r - r_{m}\\right)}^{\\frac{5}{13}} r^{\\frac{215}{13}} + 42 \\, {\\left(r - r_{m}\\right)}^{\\frac{3}{13}} r^{\\frac{217}{13}} - 32 \\, {\\left(r - r_{m}\\right)}^{\\frac{1}{13}} r^{\\frac{219}{13}}\\right)} r_{m}^{5} + 14 \\, {\\left(5 \\, {\\left(r - r_{m}\\right)}^{\\frac{12}{13}} r^{17} - 4 \\, {\\left(r - r_{m}\\right)}^{\\frac{9}{13}} r^{\\frac{224}{13}} + 25 \\, {\\left(r - r_{m}\\right)}^{\\frac{7}{13}} r^{\\frac{226}{13}} - 60 \\, {\\left(r - r_{m}\\right)}^{\\frac{5}{13}} r^{\\frac{228}{13}} + 70 \\, {\\left(r - r_{m}\\right)}^{\\frac{3}{13}} r^{\\frac{230}{13}} - 40 \\, {\\left(r - r_{m}\\right)}^{\\frac{1}{13}} r^{\\frac{232}{13}}\\right)} r_{m}^{4} - 4 \\, {\\left(14 \\, {\\left(r - r_{m}\\right)}^{\\frac{12}{13}} r^{18} + 7 \\, {\\left(r - r_{m}\\right)}^{\\frac{11}{13}} r^{\\frac{235}{13}} - 56 \\, {\\left(r - r_{m}\\right)}^{\\frac{9}{13}} r^{\\frac{237}{13}} + 175 \\, {\\left(r - r_{m}\\right)}^{\\frac{7}{13}} r^{\\frac{239}{13}} - 280 \\, {\\left(r - r_{m}\\right)}^{\\frac{5}{13}} r^{\\frac{241}{13}} + 245 \\, {\\left(r - r_{m}\\right)}^{\\frac{3}{13}} r^{\\frac{243}{13}} - 112 \\, {\\left(r - r_{m}\\right)}^{\\frac{1}{13}} r^{\\frac{245}{13}} - 2 \\, r^{\\frac{246}{13}}\\right)} r_{m}^{3} + {\\left(28 \\, {\\left(r - r_{m}\\right)}^{\\frac{12}{13}} r^{19} + 84 \\, {\\left(r - r_{m}\\right)}^{\\frac{11}{13}} r^{\\frac{248}{13}} - 336 \\, {\\left(r - r_{m}\\right)}^{\\frac{9}{13}} r^{\\frac{250}{13}} + 700 \\, {\\left(r - r_{m}\\right)}^{\\frac{7}{13}} r^{\\frac{252}{13}} - 840 \\, {\\left(r - r_{m}\\right)}^{\\frac{5}{13}} r^{\\frac{254}{13}} + 588 \\, {\\left(r - r_{m}\\right)}^{\\frac{3}{13}} r^{\\frac{256}{13}} + {\\left(r - r_{m}\\right)}^{\\frac{2}{13}} r^{\\frac{257}{13}} - 224 \\, {\\left(r - r_{m}\\right)}^{\\frac{1}{13}} r^{\\frac{258}{13}} - 24 \\, r^{\\frac{259}{13}}\\right)} r_{m}^{2} - 2 \\, {\\left(4 \\, {\\left(r - r_{m}\\right)}^{\\frac{12}{13}} r^{20} + 42 \\, {\\left(r - r_{m}\\right)}^{\\frac{11}{13}} r^{\\frac{261}{13}} - 112 \\, {\\left(r - r_{m}\\right)}^{\\frac{9}{13}} r^{\\frac{263}{13}} + 175 \\, {\\left(r - r_{m}\\right)}^{\\frac{7}{13}} r^{\\frac{265}{13}} - 168 \\, {\\left(r - r_{m}\\right)}^{\\frac{5}{13}} r^{\\frac{267}{13}} + 98 \\, {\\left(r - r_{m}\\right)}^{\\frac{3}{13}} r^{\\frac{269}{13}} + {\\left(r - r_{m}\\right)}^{\\frac{2}{13}} r^{\\frac{270}{13}} - 32 \\, {\\left(r - r_{m}\\right)}^{\\frac{1}{13}} r^{\\frac{271}{13}} - 12 \\, r^{\\frac{272}{13}}\\right)} r_{m}\\right)} r_{p}\\right)}} + \\frac{{\\left(-35 i \\, r r_{m} - 3 \\, {\\left(13 i \\, r - 16 i \\, r_{m}\\right)} r_{p}\\right)} a \\cos\\left({\\theta}\\right)}{26 \\, r^{5}}\\)</html>"
      ],
      "text/latex": [
       "$\\displaystyle \\Psi_{2} = W_{\\alpha\\beta\\gamma\\delta}l^{\\alpha}m^{\\beta}\\bar{m}^{\\gamma}n^{\\delta} =  \\frac{140 \\, {\\left(r - r_{m}\\right)}^{\\frac{1}{13}} r^{\\frac{141}{13}} r_{m}^{10} + {\\left(169 \\, {\\left(r - r_{m}\\right)}^{\\frac{1}{13}} r^{\\frac{141}{13}} - 1820 \\, {\\left(r - r_{m}\\right)}^{\\frac{1}{13}} r^{\\frac{128}{13}} r_{m} + 8772 \\, {\\left(r - r_{m}\\right)}^{\\frac{1}{13}} r^{\\frac{115}{13}} r_{m}^{2} - 24936 \\, {\\left(r - r_{m}\\right)}^{\\frac{1}{13}} r^{\\frac{102}{13}} r_{m}^{3} + 46326 \\, {\\left(r - r_{m}\\right)}^{\\frac{1}{13}} r^{\\frac{89}{13}} r_{m}^{4} - 58800 \\, {\\left(r - r_{m}\\right)}^{\\frac{1}{13}} r^{\\frac{76}{13}} r_{m}^{5} + 51660 \\, {\\left(r - r_{m}\\right)}^{\\frac{1}{13}} r^{\\frac{63}{13}} r_{m}^{6} - 31032 \\, {\\left(r - r_{m}\\right)}^{\\frac{1}{13}} r^{\\frac{50}{13}} r_{m}^{7} + 12201 \\, {\\left(r - r_{m}\\right)}^{\\frac{1}{13}} r^{\\frac{37}{13}} r_{m}^{8} - 2836 \\, {\\left(r - r_{m}\\right)}^{\\frac{1}{13}} r^{\\frac{24}{13}} r_{m}^{9} + 296 \\, {\\left(r - r_{m}\\right)}^{\\frac{1}{13}} r^{\\frac{11}{13}} r_{m}^{10}\\right)} r_{p}^{10} + 3 \\, {\\left(420 \\, {\\left(r - r_{m}\\right)}^{\\frac{3}{13}} r^{\\frac{152}{13}} - 421 \\, {\\left(r - r_{m}\\right)}^{\\frac{1}{13}} r^{\\frac{154}{13}}\\right)} r_{m}^{9} + {\\left(1521 \\, {\\left(r - r_{m}\\right)}^{\\frac{3}{13}} r^{\\frac{152}{13}} - 1521 \\, {\\left(r - r_{m}\\right)}^{\\frac{1}{13}} r^{\\frac{154}{13}} - 2804 \\, {\\left(r - r_{m}\\right)}^{\\frac{1}{13}} r^{\\frac{24}{13}} r_{m}^{10} - 3 \\, {\\left(888 \\, {\\left(r - r_{m}\\right)}^{\\frac{3}{13}} r^{\\frac{35}{13}} - 8929 \\, {\\left(r - r_{m}\\right)}^{\\frac{1}{13}} r^{\\frac{37}{13}}\\right)} r_{m}^{9} + 3 \\, {\\left(7620 \\, {\\left(r - r_{m}\\right)}^{\\frac{3}{13}} r^{\\frac{48}{13}} - 38291 \\, {\\left(r - r_{m}\\right)}^{\\frac{1}{13}} r^{\\frac{50}{13}}\\right)} r_{m}^{8} - 9 \\, {\\left(9661 \\, {\\left(r - r_{m}\\right)}^{\\frac{3}{13}} r^{\\frac{61}{13}} - 32348 \\, {\\left(r - r_{m}\\right)}^{\\frac{1}{13}} r^{\\frac{63}{13}}\\right)} r_{m}^{7} + 21 \\, {\\left(9159 \\, {\\left(r - r_{m}\\right)}^{\\frac{3}{13}} r^{\\frac{74}{13}} - 22988 \\, {\\left(r - r_{m}\\right)}^{\\frac{1}{13}} r^{\\frac{76}{13}}\\right)} r_{m}^{6} - 21 \\, {\\left(12981 \\, {\\left(r - r_{m}\\right)}^{\\frac{3}{13}} r^{\\frac{87}{13}} - 26050 \\, {\\left(r - r_{m}\\right)}^{\\frac{1}{13}} r^{\\frac{89}{13}}\\right)} r_{m}^{5} + 21 \\, {\\left(12219 \\, {\\left(r - r_{m}\\right)}^{\\frac{3}{13}} r^{\\frac{100}{13}} - 20422 \\, {\\left(r - r_{m}\\right)}^{\\frac{1}{13}} r^{\\frac{102}{13}}\\right)} r_{m}^{4} - 3 \\, {\\left(53445 \\, {\\left(r - r_{m}\\right)}^{\\frac{3}{13}} r^{\\frac{113}{13}} - 76516 \\, {\\left(r - r_{m}\\right)}^{\\frac{1}{13}} r^{\\frac{115}{13}}\\right)} r_{m}^{3} + 3 \\, {\\left(21363 \\, {\\left(r - r_{m}\\right)}^{\\frac{3}{13}} r^{\\frac{126}{13}} - 26744 \\, {\\left(r - r_{m}\\right)}^{\\frac{1}{13}} r^{\\frac{128}{13}}\\right)} r_{m}^{2} - 13 \\, {\\left(1143 \\, {\\left(r - r_{m}\\right)}^{\\frac{3}{13}} r^{\\frac{139}{13}} - 1271 \\, {\\left(r - r_{m}\\right)}^{\\frac{1}{13}} r^{\\frac{141}{13}}\\right)} r_{m}\\right)} r_{p}^{9} + 3 \\, {\\left(1680 \\, {\\left(r - r_{m}\\right)}^{\\frac{5}{13}} r^{\\frac{163}{13}} - 3369 \\, {\\left(r - r_{m}\\right)}^{\\frac{3}{13}} r^{\\frac{165}{13}} + 1688 \\, {\\left(r - r_{m}\\right)}^{\\frac{1}{13}} r^{\\frac{167}{13}}\\right)} r_{m}^{8} + 9 \\, {\\left(676 \\, {\\left(r - r_{m}\\right)}^{\\frac{5}{13}} r^{\\frac{163}{13}} - 1352 \\, {\\left(r - r_{m}\\right)}^{\\frac{3}{13}} r^{\\frac{165}{13}} + 676 \\, {\\left(r - r_{m}\\right)}^{\\frac{1}{13}} r^{\\frac{167}{13}} + 1324 \\, {\\left(r - r_{m}\\right)}^{\\frac{1}{13}} r^{\\frac{37}{13}} r_{m}^{10} + {\\left(2508 \\, {\\left(r - r_{m}\\right)}^{\\frac{3}{13}} r^{\\frac{48}{13}} - 12607 \\, {\\left(r - r_{m}\\right)}^{\\frac{1}{13}} r^{\\frac{50}{13}}\\right)} r_{m}^{9} + {\\left(1184 \\, {\\left(r - r_{m}\\right)}^{\\frac{5}{13}} r^{\\frac{59}{13}} - 21443 \\, {\\left(r - r_{m}\\right)}^{\\frac{3}{13}} r^{\\frac{61}{13}} + 53868 \\, {\\left(r - r_{m}\\right)}^{\\frac{1}{13}} r^{\\frac{63}{13}}\\right)} r_{m}^{8} - {\\left(8976 \\, {\\left(r - r_{m}\\right)}^{\\frac{5}{13}} r^{\\frac{72}{13}} - 81229 \\, {\\left(r - r_{m}\\right)}^{\\frac{3}{13}} r^{\\frac{74}{13}} + 135972 \\, {\\left(r - r_{m}\\right)}^{\\frac{1}{13}} r^{\\frac{76}{13}}\\right)} r_{m}^{7} + {\\left(29668 \\, {\\left(r - r_{m}\\right)}^{\\frac{5}{13}} r^{\\frac{85}{13}} - 178871 \\, {\\left(r - r_{m}\\right)}^{\\frac{3}{13}} r^{\\frac{87}{13}} + 224448 \\, {\\left(r - r_{m}\\right)}^{\\frac{1}{13}} r^{\\frac{89}{13}}\\right)} r_{m}^{6} - {\\left(55816 \\, {\\left(r - r_{m}\\right)}^{\\frac{5}{13}} r^{\\frac{98}{13}} - 252217 \\, {\\left(r - r_{m}\\right)}^{\\frac{3}{13}} r^{\\frac{100}{13}} + 253050 \\, {\\left(r - r_{m}\\right)}^{\\frac{1}{13}} r^{\\frac{102}{13}}\\right)} r_{m}^{5} + {\\left(65340 \\, {\\left(r - r_{m}\\right)}^{\\frac{5}{13}} r^{\\frac{111}{13}} - 236033 \\, {\\left(r - r_{m}\\right)}^{\\frac{3}{13}} r^{\\frac{113}{13}} + 197232 \\, {\\left(r - r_{m}\\right)}^{\\frac{1}{13}} r^{\\frac{115}{13}}\\right)} r_{m}^{4} - {\\left(48704 \\, {\\left(r - r_{m}\\right)}^{\\frac{5}{13}} r^{\\frac{124}{13}} - 146503 \\, {\\left(r - r_{m}\\right)}^{\\frac{3}{13}} r^{\\frac{126}{13}} + 104868 \\, {\\left(r - r_{m}\\right)}^{\\frac{1}{13}} r^{\\frac{128}{13}}\\right)} r_{m}^{3} + {\\left(22556 \\, {\\left(r - r_{m}\\right)}^{\\frac{5}{13}} r^{\\frac{137}{13}} - 58109 \\, {\\left(r - r_{m}\\right)}^{\\frac{3}{13}} r^{\\frac{139}{13}} + 36372 \\, {\\left(r - r_{m}\\right)}^{\\frac{1}{13}} r^{\\frac{141}{13}}\\right)} r_{m}^{2} - 13 \\, {\\left(456 \\, {\\left(r - r_{m}\\right)}^{\\frac{5}{13}} r^{\\frac{150}{13}} - 1027 \\, {\\left(r - r_{m}\\right)}^{\\frac{3}{13}} r^{\\frac{152}{13}} + 571 \\, {\\left(r - r_{m}\\right)}^{\\frac{1}{13}} r^{\\frac{154}{13}}\\right)} r_{m}\\right)} r_{p}^{8} + 3 \\, {\\left(3920 \\, {\\left(r - r_{m}\\right)}^{\\frac{7}{13}} r^{\\frac{174}{13}} - 11796 \\, {\\left(r - r_{m}\\right)}^{\\frac{5}{13}} r^{\\frac{176}{13}} + 11823 \\, {\\left(r - r_{m}\\right)}^{\\frac{3}{13}} r^{\\frac{178}{13}} - 3948 \\, {\\left(r - r_{m}\\right)}^{\\frac{1}{13}} r^{\\frac{180}{13}}\\right)} r_{m}^{7} + 12 \\, {\\left(1183 \\, {\\left(r - r_{m}\\right)}^{\\frac{7}{13}} r^{\\frac{174}{13}} - 3549 \\, {\\left(r - r_{m}\\right)}^{\\frac{5}{13}} r^{\\frac{176}{13}} + 3549 \\, {\\left(r - r_{m}\\right)}^{\\frac{3}{13}} r^{\\frac{178}{13}} - 1183 \\, {\\left(r - r_{m}\\right)}^{\\frac{1}{13}} r^{\\frac{180}{13}} - 2492 \\, {\\left(r - r_{m}\\right)}^{\\frac{1}{13}} r^{\\frac{50}{13}} r_{m}^{10} - {\\left(7056 \\, {\\left(r - r_{m}\\right)}^{\\frac{3}{13}} r^{\\frac{61}{13}} - 23641 \\, {\\left(r - r_{m}\\right)}^{\\frac{1}{13}} r^{\\frac{63}{13}}\\right)} r_{m}^{9} - 3 \\, {\\left(2212 \\, {\\left(r - r_{m}\\right)}^{\\frac{5}{13}} r^{\\frac{72}{13}} - 20026 \\, {\\left(r - r_{m}\\right)}^{\\frac{3}{13}} r^{\\frac{74}{13}} + 33533 \\, {\\left(r - r_{m}\\right)}^{\\frac{1}{13}} r^{\\frac{76}{13}}\\right)} r_{m}^{8} - {\\left(2072 \\, {\\left(r - r_{m}\\right)}^{\\frac{7}{13}} r^{\\frac{83}{13}} - 50073 \\, {\\left(r - r_{m}\\right)}^{\\frac{5}{13}} r^{\\frac{85}{13}} + 226527 \\, {\\left(r - r_{m}\\right)}^{\\frac{3}{13}} r^{\\frac{87}{13}} - 252756 \\, {\\left(r - r_{m}\\right)}^{\\frac{1}{13}} r^{\\frac{89}{13}}\\right)} r_{m}^{7} + {\\left(13636 \\, {\\left(r - r_{m}\\right)}^{\\frac{7}{13}} r^{\\frac{96}{13}} - 164631 \\, {\\left(r - r_{m}\\right)}^{\\frac{5}{13}} r^{\\frac{98}{13}} + 496209 \\, {\\left(r - r_{m}\\right)}^{\\frac{3}{13}} r^{\\frac{100}{13}} - 415044 \\, {\\left(r - r_{m}\\right)}^{\\frac{1}{13}} r^{\\frac{102}{13}}\\right)} r_{m}^{6} - 3 \\, {\\left(12761 \\, {\\left(r - r_{m}\\right)}^{\\frac{7}{13}} r^{\\frac{109}{13}} - 102623 \\, {\\left(r - r_{m}\\right)}^{\\frac{5}{13}} r^{\\frac{111}{13}} + 231833 \\, {\\left(r - r_{m}\\right)}^{\\frac{3}{13}} r^{\\frac{113}{13}} - 155050 \\, {\\left(r - r_{m}\\right)}^{\\frac{1}{13}} r^{\\frac{115}{13}}\\right)} r_{m}^{5} + {\\left(59395 \\, {\\left(r - r_{m}\\right)}^{\\frac{7}{13}} r^{\\frac{122}{13}} - 357915 \\, {\\left(r - r_{m}\\right)}^{\\frac{5}{13}} r^{\\frac{124}{13}} + 646401 \\, {\\left(r - r_{m}\\right)}^{\\frac{3}{13}} r^{\\frac{126}{13}} - 360066 \\, {\\left(r - r_{m}\\right)}^{\\frac{1}{13}} r^{\\frac{128}{13}}\\right)} r_{m}^{4} - {\\left(54950 \\, {\\left(r - r_{m}\\right)}^{\\frac{7}{13}} r^{\\frac{135}{13}} - 264651 \\, {\\left(r - r_{m}\\right)}^{\\frac{5}{13}} r^{\\frac{137}{13}} + 398013 \\, {\\left(r - r_{m}\\right)}^{\\frac{3}{13}} r^{\\frac{139}{13}} - 189924 \\, {\\left(r - r_{m}\\right)}^{\\frac{1}{13}} r^{\\frac{141}{13}}\\right)} r_{m}^{3} + 3 \\, {\\left(10094 \\, {\\left(r - r_{m}\\right)}^{\\frac{7}{13}} r^{\\frac{148}{13}} - 40471 \\, {\\left(r - r_{m}\\right)}^{\\frac{5}{13}} r^{\\frac{150}{13}} + 52129 \\, {\\left(r - r_{m}\\right)}^{\\frac{3}{13}} r^{\\frac{152}{13}} - 21752 \\, {\\left(r - r_{m}\\right)}^{\\frac{1}{13}} r^{\\frac{154}{13}}\\right)} r_{m}^{2} - 13 \\, {\\left(707 \\, {\\left(r - r_{m}\\right)}^{\\frac{7}{13}} r^{\\frac{161}{13}} - 2427 \\, {\\left(r - r_{m}\\right)}^{\\frac{5}{13}} r^{\\frac{163}{13}} + 2733 \\, {\\left(r - r_{m}\\right)}^{\\frac{3}{13}} r^{\\frac{165}{13}} - 1013 \\, {\\left(r - r_{m}\\right)}^{\\frac{1}{13}} r^{\\frac{167}{13}}\\right)} r_{m}\\right)} r_{p}^{7} + 3 \\, {\\left(5880 \\, {\\left(r - r_{m}\\right)}^{\\frac{9}{13}} r^{\\frac{185}{13}} - 23604 \\, {\\left(r - r_{m}\\right)}^{\\frac{7}{13}} r^{\\frac{187}{13}} + 35496 \\, {\\left(r - r_{m}\\right)}^{\\frac{5}{13}} r^{\\frac{189}{13}} - 23709 \\, {\\left(r - r_{m}\\right)}^{\\frac{3}{13}} r^{\\frac{191}{13}} + 5936 \\, {\\left(r - r_{m}\\right)}^{\\frac{1}{13}} r^{\\frac{193}{13}}\\right)} r_{m}^{6} + 42 \\, {\\left(507 \\, {\\left(r - r_{m}\\right)}^{\\frac{9}{13}} r^{\\frac{185}{13}} - 2028 \\, {\\left(r - r_{m}\\right)}^{\\frac{7}{13}} r^{\\frac{187}{13}} + 3042 \\, {\\left(r - r_{m}\\right)}^{\\frac{5}{13}} r^{\\frac{189}{13}} - 2028 \\, {\\left(r - r_{m}\\right)}^{\\frac{3}{13}} r^{\\frac{191}{13}} + 507 \\, {\\left(r - r_{m}\\right)}^{\\frac{1}{13}} r^{\\frac{193}{13}} + 1168 \\, {\\left(r - r_{m}\\right)}^{\\frac{1}{13}} r^{\\frac{63}{13}} r_{m}^{10} + 18 \\, {\\left(244 \\, {\\left(r - r_{m}\\right)}^{\\frac{3}{13}} r^{\\frac{74}{13}} - 613 \\, {\\left(r - r_{m}\\right)}^{\\frac{1}{13}} r^{\\frac{76}{13}}\\right)} r_{m}^{9} + 3 \\, {\\left(2056 \\, {\\left(r - r_{m}\\right)}^{\\frac{5}{13}} r^{\\frac{85}{13}} - 12406 \\, {\\left(r - r_{m}\\right)}^{\\frac{3}{13}} r^{\\frac{87}{13}} + 15577 \\, {\\left(r - r_{m}\\right)}^{\\frac{1}{13}} r^{\\frac{89}{13}}\\right)} r_{m}^{8} + 2 \\, {\\left(1916 \\, {\\left(r - r_{m}\\right)}^{\\frac{7}{13}} r^{\\frac{96}{13}} - 23145 \\, {\\left(r - r_{m}\\right)}^{\\frac{5}{13}} r^{\\frac{98}{13}} + 69789 \\, {\\left(r - r_{m}\\right)}^{\\frac{3}{13}} r^{\\frac{100}{13}} - 58392 \\, {\\left(r - r_{m}\\right)}^{\\frac{1}{13}} r^{\\frac{102}{13}}\\right)} r_{m}^{7} + 6 \\, {\\left(148 \\, {\\left(r - r_{m}\\right)}^{\\frac{9}{13}} r^{\\frac{107}{13}} - 4177 \\, {\\left(r - r_{m}\\right)}^{\\frac{7}{13}} r^{\\frac{109}{13}} + 25209 \\, {\\left(r - r_{m}\\right)}^{\\frac{5}{13}} r^{\\frac{111}{13}} - 50645 \\, {\\left(r - r_{m}\\right)}^{\\frac{3}{13}} r^{\\frac{113}{13}} + 31766 \\, {\\left(r - r_{m}\\right)}^{\\frac{1}{13}} r^{\\frac{115}{13}}\\right)} r_{m}^{6} - 6 \\, {\\left(826 \\, {\\left(r - r_{m}\\right)}^{\\frac{9}{13}} r^{\\frac{120}{13}} - 11643 \\, {\\left(r - r_{m}\\right)}^{\\frac{7}{13}} r^{\\frac{122}{13}} + 46807 \\, {\\left(r - r_{m}\\right)}^{\\frac{5}{13}} r^{\\frac{124}{13}} - 70483 \\, {\\left(r - r_{m}\\right)}^{\\frac{3}{13}} r^{\\frac{126}{13}} + 35350 \\, {\\left(r - r_{m}\\right)}^{\\frac{1}{13}} r^{\\frac{128}{13}}\\right)} r_{m}^{5} + {\\left(11451 \\, {\\left(r - r_{m}\\right)}^{\\frac{9}{13}} r^{\\frac{133}{13}} - 107480 \\, {\\left(r - r_{m}\\right)}^{\\frac{7}{13}} r^{\\frac{135}{13}} + 323790 \\, {\\left(r - r_{m}\\right)}^{\\frac{5}{13}} r^{\\frac{137}{13}} - 389802 \\, {\\left(r - r_{m}\\right)}^{\\frac{3}{13}} r^{\\frac{139}{13}} + 162834 \\, {\\left(r - r_{m}\\right)}^{\\frac{1}{13}} r^{\\frac{141}{13}}\\right)} r_{m}^{4} - 6 \\, {\\left(2334 \\, {\\left(r - r_{m}\\right)}^{\\frac{9}{13}} r^{\\frac{146}{13}} - 16410 \\, {\\left(r - r_{m}\\right)}^{\\frac{7}{13}} r^{\\frac{148}{13}} + 39513 \\, {\\left(r - r_{m}\\right)}^{\\frac{5}{13}} r^{\\frac{150}{13}} - 39613 \\, {\\left(r - r_{m}\\right)}^{\\frac{3}{13}} r^{\\frac{152}{13}} + 14176 \\, {\\left(r - r_{m}\\right)}^{\\frac{1}{13}} r^{\\frac{154}{13}}\\right)} r_{m}^{3} + 6 \\, {\\left(1591 \\, {\\left(r - r_{m}\\right)}^{\\frac{9}{13}} r^{\\frac{159}{13}} - 8937 \\, {\\left(r - r_{m}\\right)}^{\\frac{7}{13}} r^{\\frac{161}{13}} + 17915 \\, {\\left(r - r_{m}\\right)}^{\\frac{5}{13}} r^{\\frac{163}{13}} - 15383 \\, {\\left(r - r_{m}\\right)}^{\\frac{3}{13}} r^{\\frac{165}{13}} + 4814 \\, {\\left(r - r_{m}\\right)}^{\\frac{1}{13}} r^{\\frac{167}{13}}\\right)} r_{m}^{2} - 26 \\, {\\left(132 \\, {\\left(r - r_{m}\\right)}^{\\frac{9}{13}} r^{\\frac{172}{13}} - 617 \\, {\\left(r - r_{m}\\right)}^{\\frac{7}{13}} r^{\\frac{174}{13}} + 1059 \\, {\\left(r - r_{m}\\right)}^{\\frac{5}{13}} r^{\\frac{176}{13}} - 795 \\, {\\left(r - r_{m}\\right)}^{\\frac{3}{13}} r^{\\frac{178}{13}} + 221 \\, {\\left(r - r_{m}\\right)}^{\\frac{1}{13}} r^{\\frac{180}{13}}\\right)} r_{m}\\right)} r_{p}^{6} + 3 \\, {\\left(5880 \\, {\\left(r - r_{m}\\right)}^{\\frac{11}{13}} r^{\\frac{196}{13}} - 29526 \\, {\\left(r - r_{m}\\right)}^{\\frac{9}{13}} r^{\\frac{198}{13}} + 59220 \\, {\\left(r - r_{m}\\right)}^{\\frac{7}{13}} r^{\\frac{200}{13}} - 59340 \\, {\\left(r - r_{m}\\right)}^{\\frac{5}{13}} r^{\\frac{202}{13}} + 29715 \\, {\\left(r - r_{m}\\right)}^{\\frac{3}{13}} r^{\\frac{204}{13}} - 5950 \\, {\\left(r - r_{m}\\right)}^{\\frac{1}{13}} r^{\\frac{206}{13}} - 3920 \\, r^{\\frac{207}{13}}\\right)} r_{m}^{5} + 126 \\, {\\left(169 \\, {\\left(r - r_{m}\\right)}^{\\frac{11}{13}} r^{\\frac{196}{13}} - 845 \\, {\\left(r - r_{m}\\right)}^{\\frac{9}{13}} r^{\\frac{198}{13}} + 1690 \\, {\\left(r - r_{m}\\right)}^{\\frac{7}{13}} r^{\\frac{200}{13}} - 1690 \\, {\\left(r - r_{m}\\right)}^{\\frac{5}{13}} r^{\\frac{202}{13}} + 845 \\, {\\left(r - r_{m}\\right)}^{\\frac{3}{13}} r^{\\frac{204}{13}} - 169 \\, {\\left(r - r_{m}\\right)}^{\\frac{1}{13}} r^{\\frac{206}{13}} - 436 \\, {\\left(r - r_{m}\\right)}^{\\frac{1}{13}} r^{\\frac{76}{13}} r_{m}^{10} - {\\left(2040 \\, {\\left(r - r_{m}\\right)}^{\\frac{3}{13}} r^{\\frac{87}{13}} - 4099 \\, {\\left(r - r_{m}\\right)}^{\\frac{1}{13}} r^{\\frac{89}{13}}\\right)} r_{m}^{9} - {\\left(3800 \\, {\\left(r - r_{m}\\right)}^{\\frac{5}{13}} r^{\\frac{98}{13}} - 17192 \\, {\\left(r - r_{m}\\right)}^{\\frac{3}{13}} r^{\\frac{100}{13}} + 17265 \\, {\\left(r - r_{m}\\right)}^{\\frac{1}{13}} r^{\\frac{102}{13}}\\right)} r_{m}^{8} - {\\left(3520 \\, {\\left(r - r_{m}\\right)}^{\\frac{7}{13}} r^{\\frac{109}{13}} - 28338 \\, {\\left(r - r_{m}\\right)}^{\\frac{5}{13}} r^{\\frac{111}{13}} + 64069 \\, {\\left(r - r_{m}\\right)}^{\\frac{3}{13}} r^{\\frac{113}{13}} - 42876 \\, {\\left(r - r_{m}\\right)}^{\\frac{1}{13}} r^{\\frac{115}{13}}\\right)} r_{m}^{7} - {\\left(1620 \\, {\\left(r - r_{m}\\right)}^{\\frac{9}{13}} r^{\\frac{120}{13}} - 22852 \\, {\\left(r - r_{m}\\right)}^{\\frac{7}{13}} r^{\\frac{122}{13}} + 91918 \\, {\\left(r - r_{m}\\right)}^{\\frac{5}{13}} r^{\\frac{124}{13}} - 138467 \\, {\\left(r - r_{m}\\right)}^{\\frac{3}{13}} r^{\\frac{126}{13}} + 69468 \\, {\\left(r - r_{m}\\right)}^{\\frac{1}{13}} r^{\\frac{128}{13}}\\right)} r_{m}^{6} - {\\left(296 \\, {\\left(r - r_{m}\\right)}^{\\frac{11}{13}} r^{\\frac{131}{13}} - 8963 \\, {\\left(r - r_{m}\\right)}^{\\frac{9}{13}} r^{\\frac{133}{13}} + 63150 \\, {\\left(r - r_{m}\\right)}^{\\frac{7}{13}} r^{\\frac{135}{13}} - 169210 \\, {\\left(r - r_{m}\\right)}^{\\frac{5}{13}} r^{\\frac{137}{13}} + 191065 \\, {\\left(r - r_{m}\\right)}^{\\frac{3}{13}} r^{\\frac{139}{13}} - 76650 \\, {\\left(r - r_{m}\\right)}^{\\frac{1}{13}} r^{\\frac{141}{13}}\\right)} r_{m}^{5} + {\\left(1356 \\, {\\left(r - r_{m}\\right)}^{\\frac{11}{13}} r^{\\frac{144}{13}} - 20497 \\, {\\left(r - r_{m}\\right)}^{\\frac{9}{13}} r^{\\frac{146}{13}} + 96170 \\, {\\left(r - r_{m}\\right)}^{\\frac{7}{13}} r^{\\frac{148}{13}} - 193110 \\, {\\left(r - r_{m}\\right)}^{\\frac{5}{13}} r^{\\frac{150}{13}} + 174335 \\, {\\left(r - r_{m}\\right)}^{\\frac{3}{13}} r^{\\frac{152}{13}} - 58254 \\, {\\left(r - r_{m}\\right)}^{\\frac{1}{13}} r^{\\frac{154}{13}}\\right)} r_{m}^{4} - {\\left(2461 \\, {\\left(r - r_{m}\\right)}^{\\frac{11}{13}} r^{\\frac{157}{13}} - 24758 \\, {\\left(r - r_{m}\\right)}^{\\frac{9}{13}} r^{\\frac{159}{13}} + 87020 \\, {\\left(r - r_{m}\\right)}^{\\frac{7}{13}} r^{\\frac{161}{13}} - 139670 \\, {\\left(r - r_{m}\\right)}^{\\frac{5}{13}} r^{\\frac{163}{13}} + 105007 \\, {\\left(r - r_{m}\\right)}^{\\frac{3}{13}} r^{\\frac{165}{13}} - 30060 \\, {\\left(r - r_{m}\\right)}^{\\frac{1}{13}} r^{\\frac{167}{13}}\\right)} r_{m}^{3} + {\\left(2207 \\, {\\left(r - r_{m}\\right)}^{\\frac{11}{13}} r^{\\frac{170}{13}} - 16622 \\, {\\left(r - r_{m}\\right)}^{\\frac{9}{13}} r^{\\frac{172}{13}} + 46680 \\, {\\left(r - r_{m}\\right)}^{\\frac{7}{13}} r^{\\frac{174}{13}} - 62378 \\, {\\left(r - r_{m}\\right)}^{\\frac{5}{13}} r^{\\frac{176}{13}} + 40169 \\, {\\left(r - r_{m}\\right)}^{\\frac{3}{13}} r^{\\frac{178}{13}} - 10056 \\, {\\left(r - r_{m}\\right)}^{\\frac{1}{13}} r^{\\frac{180}{13}}\\right)} r_{m}^{2} - 13 \\, {\\left(75 \\, {\\left(r - r_{m}\\right)}^{\\frac{11}{13}} r^{\\frac{183}{13}} - 451 \\, {\\left(r - r_{m}\\right)}^{\\frac{9}{13}} r^{\\frac{185}{13}} + 1054 \\, {\\left(r - r_{m}\\right)}^{\\frac{7}{13}} r^{\\frac{187}{13}} - 1206 \\, {\\left(r - r_{m}\\right)}^{\\frac{5}{13}} r^{\\frac{189}{13}} + 679 \\, {\\left(r - r_{m}\\right)}^{\\frac{3}{13}} r^{\\frac{191}{13}} - 151 \\, {\\left(r - r_{m}\\right)}^{\\frac{1}{13}} r^{\\frac{193}{13}}\\right)} r_{m}\\right)} r_{p}^{5} - 3 \\, {\\left(23646 \\, {\\left(r - r_{m}\\right)}^{\\frac{11}{13}} r^{\\frac{209}{13}} - 59304 \\, {\\left(r - r_{m}\\right)}^{\\frac{9}{13}} r^{\\frac{211}{13}} + 79240 \\, {\\left(r - r_{m}\\right)}^{\\frac{7}{13}} r^{\\frac{213}{13}} - 59520 \\, {\\left(r - r_{m}\\right)}^{\\frac{5}{13}} r^{\\frac{215}{13}} + 23835 \\, {\\left(r - r_{m}\\right)}^{\\frac{3}{13}} r^{\\frac{217}{13}} + 1680 \\, {\\left(r - r_{m}\\right)}^{\\frac{2}{13}} r^{\\frac{218}{13}} - 3976 \\, {\\left(r - r_{m}\\right)}^{\\frac{1}{13}} r^{\\frac{219}{13}} - 15764 \\, r^{\\frac{220}{13}}\\right)} r_{m}^{4} - 42 \\, {\\left(2028 \\, {\\left(r - r_{m}\\right)}^{\\frac{11}{13}} r^{\\frac{209}{13}} - 5070 \\, {\\left(r - r_{m}\\right)}^{\\frac{9}{13}} r^{\\frac{211}{13}} + 6760 \\, {\\left(r - r_{m}\\right)}^{\\frac{7}{13}} r^{\\frac{213}{13}} - 5070 \\, {\\left(r - r_{m}\\right)}^{\\frac{5}{13}} r^{\\frac{215}{13}} + 2028 \\, {\\left(r - r_{m}\\right)}^{\\frac{3}{13}} r^{\\frac{217}{13}} - 338 \\, {\\left(r - r_{m}\\right)}^{\\frac{1}{13}} r^{\\frac{219}{13}} - 338 \\, r^{\\frac{220}{13}} - 1012 \\, {\\left(r - r_{m}\\right)}^{\\frac{1}{13}} r^{\\frac{89}{13}} r_{m}^{10} - {\\left(5652 \\, {\\left(r - r_{m}\\right)}^{\\frac{3}{13}} r^{\\frac{100}{13}} - 9461 \\, {\\left(r - r_{m}\\right)}^{\\frac{1}{13}} r^{\\frac{102}{13}}\\right)} r_{m}^{9} - 3 \\, {\\left(4360 \\, {\\left(r - r_{m}\\right)}^{\\frac{5}{13}} r^{\\frac{111}{13}} - 15775 \\, {\\left(r - r_{m}\\right)}^{\\frac{3}{13}} r^{\\frac{113}{13}} + 13198 \\, {\\left(r - r_{m}\\right)}^{\\frac{1}{13}} r^{\\frac{115}{13}}\\right)} r_{m}^{8} - {\\left(16040 \\, {\\left(r - r_{m}\\right)}^{\\frac{7}{13}} r^{\\frac{122}{13}} - 96810 \\, {\\left(r - r_{m}\\right)}^{\\frac{5}{13}} r^{\\frac{124}{13}} + 175047 \\, {\\left(r - r_{m}\\right)}^{\\frac{3}{13}} r^{\\frac{126}{13}} - 97596 \\, {\\left(r - r_{m}\\right)}^{\\frac{1}{13}} r^{\\frac{128}{13}}\\right)} r_{m}^{7} - {\\left(10980 \\, {\\left(r - r_{m}\\right)}^{\\frac{9}{13}} r^{\\frac{133}{13}} - 103210 \\, {\\left(r - r_{m}\\right)}^{\\frac{7}{13}} r^{\\frac{135}{13}} + 311250 \\, {\\left(r - r_{m}\\right)}^{\\frac{5}{13}} r^{\\frac{137}{13}} - 374997 \\, {\\left(r - r_{m}\\right)}^{\\frac{3}{13}} r^{\\frac{139}{13}} + 156744 \\, {\\left(r - r_{m}\\right)}^{\\frac{1}{13}} r^{\\frac{141}{13}}\\right)} r_{m}^{6} - {\\left(3972 \\, {\\left(r - r_{m}\\right)}^{\\frac{11}{13}} r^{\\frac{144}{13}} - 60105 \\, {\\left(r - r_{m}\\right)}^{\\frac{9}{13}} r^{\\frac{146}{13}} + 282210 \\, {\\left(r - r_{m}\\right)}^{\\frac{7}{13}} r^{\\frac{148}{13}} - 566970 \\, {\\left(r - r_{m}\\right)}^{\\frac{5}{13}} r^{\\frac{150}{13}} + 512043 \\, {\\left(r - r_{m}\\right)}^{\\frac{3}{13}} r^{\\frac{152}{13}} - 171150 \\, {\\left(r - r_{m}\\right)}^{\\frac{1}{13}} r^{\\frac{154}{13}} - 592 \\, r^{\\frac{155}{13}}\\right)} r_{m}^{5} + {\\left(17961 \\, {\\left(r - r_{m}\\right)}^{\\frac{11}{13}} r^{\\frac{157}{13}} - 135690 \\, {\\left(r - r_{m}\\right)}^{\\frac{9}{13}} r^{\\frac{159}{13}} + 424300 \\, {\\left(r - r_{m}\\right)}^{\\frac{7}{13}} r^{\\frac{161}{13}} - 638850 \\, {\\left(r - r_{m}\\right)}^{\\frac{5}{13}} r^{\\frac{163}{13}} + 461307 \\, {\\left(r - r_{m}\\right)}^{\\frac{3}{13}} r^{\\frac{165}{13}} - 128436 \\, {\\left(r - r_{m}\\right)}^{\\frac{1}{13}} r^{\\frac{167}{13}} - 2712 \\, r^{\\frac{168}{13}}\\right)} r_{m}^{4} - {\\left(32079 \\, {\\left(r - r_{m}\\right)}^{\\frac{11}{13}} r^{\\frac{170}{13}} - 161310 \\, {\\left(r - r_{m}\\right)}^{\\frac{9}{13}} r^{\\frac{172}{13}} + 377900 \\, {\\left(r - r_{m}\\right)}^{\\frac{7}{13}} r^{\\frac{174}{13}} - 454830 \\, {\\left(r - r_{m}\\right)}^{\\frac{5}{13}} r^{\\frac{176}{13}} + 273525 \\, {\\left(r - r_{m}\\right)}^{\\frac{3}{13}} r^{\\frac{178}{13}} - 65244 \\, {\\left(r - r_{m}\\right)}^{\\frac{1}{13}} r^{\\frac{180}{13}} - 4922 \\, r^{\\frac{181}{13}}\\right)} r_{m}^{3} + {\\left(28191 \\, {\\left(r - r_{m}\\right)}^{\\frac{11}{13}} r^{\\frac{183}{13}} - 106140 \\, {\\left(r - r_{m}\\right)}^{\\frac{9}{13}} r^{\\frac{185}{13}} + 198690 \\, {\\left(r - r_{m}\\right)}^{\\frac{7}{13}} r^{\\frac{187}{13}} - 199110 \\, {\\left(r - r_{m}\\right)}^{\\frac{5}{13}} r^{\\frac{189}{13}} + 102567 \\, {\\left(r - r_{m}\\right)}^{\\frac{3}{13}} r^{\\frac{191}{13}} - 21396 \\, {\\left(r - r_{m}\\right)}^{\\frac{1}{13}} r^{\\frac{193}{13}} - 4414 \\, r^{\\frac{194}{13}}\\right)} r_{m}^{2} - 13 \\, {\\left(933 \\, {\\left(r - r_{m}\\right)}^{\\frac{11}{13}} r^{\\frac{196}{13}} - 2805 \\, {\\left(r - r_{m}\\right)}^{\\frac{9}{13}} r^{\\frac{198}{13}} + 4370 \\, {\\left(r - r_{m}\\right)}^{\\frac{7}{13}} r^{\\frac{200}{13}} - 3750 \\, {\\left(r - r_{m}\\right)}^{\\frac{5}{13}} r^{\\frac{202}{13}} + 1689 \\, {\\left(r - r_{m}\\right)}^{\\frac{3}{13}} r^{\\frac{204}{13}} - 313 \\, {\\left(r - r_{m}\\right)}^{\\frac{1}{13}} r^{\\frac{206}{13}} - 150 \\, r^{\\frac{207}{13}}\\right)} r_{m}\\right)} r_{p}^{4} + 3 \\, {\\left(35658 \\, {\\left(r - r_{m}\\right)}^{\\frac{11}{13}} r^{\\frac{222}{13}} - 59556 \\, {\\left(r - r_{m}\\right)}^{\\frac{9}{13}} r^{\\frac{224}{13}} + 59640 \\, {\\left(r - r_{m}\\right)}^{\\frac{7}{13}} r^{\\frac{226}{13}} - 35820 \\, {\\left(r - r_{m}\\right)}^{\\frac{5}{13}} r^{\\frac{228}{13}} - 420 \\, {\\left(r - r_{m}\\right)}^{\\frac{4}{13}} r^{\\frac{229}{13}} + 11949 \\, {\\left(r - r_{m}\\right)}^{\\frac{3}{13}} r^{\\frac{230}{13}} + 5076 \\, {\\left(r - r_{m}\\right)}^{\\frac{2}{13}} r^{\\frac{231}{13}} - 1708 \\, {\\left(r - r_{m}\\right)}^{\\frac{1}{13}} r^{\\frac{232}{13}} - 23772 \\, r^{\\frac{233}{13}}\\right)} r_{m}^{3} + 12 \\, {\\left(10647 \\, {\\left(r - r_{m}\\right)}^{\\frac{11}{13}} r^{\\frac{222}{13}} - 17745 \\, {\\left(r - r_{m}\\right)}^{\\frac{9}{13}} r^{\\frac{224}{13}} + 17745 \\, {\\left(r - r_{m}\\right)}^{\\frac{7}{13}} r^{\\frac{226}{13}} - 10647 \\, {\\left(r - r_{m}\\right)}^{\\frac{5}{13}} r^{\\frac{228}{13}} + 3549 \\, {\\left(r - r_{m}\\right)}^{\\frac{3}{13}} r^{\\frac{230}{13}} + 507 \\, {\\left(r - r_{m}\\right)}^{\\frac{2}{13}} r^{\\frac{231}{13}} - 507 \\, {\\left(r - r_{m}\\right)}^{\\frac{1}{13}} r^{\\frac{232}{13}} - 3549 \\, r^{\\frac{233}{13}} - 1868 \\, {\\left(r - r_{m}\\right)}^{\\frac{1}{13}} r^{\\frac{102}{13}} r_{m}^{10} - 3 \\, {\\left(4032 \\, {\\left(r - r_{m}\\right)}^{\\frac{3}{13}} r^{\\frac{113}{13}} - 5783 \\, {\\left(r - r_{m}\\right)}^{\\frac{1}{13}} r^{\\frac{115}{13}}\\right)} r_{m}^{9} - 21 \\, {\\left(1588 \\, {\\left(r - r_{m}\\right)}^{\\frac{5}{13}} r^{\\frac{124}{13}} - 4786 \\, {\\left(r - r_{m}\\right)}^{\\frac{3}{13}} r^{\\frac{126}{13}} + 3431 \\, {\\left(r - r_{m}\\right)}^{\\frac{1}{13}} r^{\\frac{128}{13}}\\right)} r_{m}^{8} - {\\left(50680 \\, {\\left(r - r_{m}\\right)}^{\\frac{7}{13}} r^{\\frac{135}{13}} - 244587 \\, {\\left(r - r_{m}\\right)}^{\\frac{5}{13}} r^{\\frac{137}{13}} + 368403 \\, {\\left(r - r_{m}\\right)}^{\\frac{3}{13}} r^{\\frac{139}{13}} - 176004 \\, {\\left(r - r_{m}\\right)}^{\\frac{1}{13}} r^{\\frac{141}{13}}\\right)} r_{m}^{7} - 21 \\, {\\left(2180 \\, {\\left(r - r_{m}\\right)}^{\\frac{9}{13}} r^{\\frac{146}{13}} - 15360 \\, {\\left(r - r_{m}\\right)}^{\\frac{7}{13}} r^{\\frac{148}{13}} + 37041 \\, {\\left(r - r_{m}\\right)}^{\\frac{5}{13}} r^{\\frac{150}{13}} - 37177 \\, {\\left(r - r_{m}\\right)}^{\\frac{3}{13}} r^{\\frac{152}{13}} + 13316 \\, {\\left(r - r_{m}\\right)}^{\\frac{1}{13}} r^{\\frac{154}{13}}\\right)} r_{m}^{6} - 7 \\, {\\left(3504 \\, {\\left(r - r_{m}\\right)}^{\\frac{11}{13}} r^{\\frac{157}{13}} - 35325 \\, {\\left(r - r_{m}\\right)}^{\\frac{9}{13}} r^{\\frac{159}{13}} + 124335 \\, {\\left(r - r_{m}\\right)}^{\\frac{7}{13}} r^{\\frac{161}{13}} - 199761 \\, {\\left(r - r_{m}\\right)}^{\\frac{5}{13}} r^{\\frac{163}{13}} + 150297 \\, {\\left(r - r_{m}\\right)}^{\\frac{3}{13}} r^{\\frac{165}{13}} - 43050 \\, {\\left(r - r_{m}\\right)}^{\\frac{1}{13}} r^{\\frac{167}{13}} - 1028 \\, r^{\\frac{168}{13}}\\right)} r_{m}^{5} + {\\left(109074 \\, {\\left(r - r_{m}\\right)}^{\\frac{11}{13}} r^{\\frac{170}{13}} - 549045 \\, {\\left(r - r_{m}\\right)}^{\\frac{9}{13}} r^{\\frac{172}{13}} + 1287125 \\, {\\left(r - r_{m}\\right)}^{\\frac{7}{13}} r^{\\frac{174}{13}} - 1549905 \\, {\\left(r - r_{m}\\right)}^{\\frac{5}{13}} r^{\\frac{176}{13}} + 932421 \\, {\\left(r - r_{m}\\right)}^{\\frac{3}{13}} r^{\\frac{178}{13}} + 888 \\, {\\left(r - r_{m}\\right)}^{\\frac{2}{13}} r^{\\frac{179}{13}} - 222474 \\, {\\left(r - r_{m}\\right)}^{\\frac{1}{13}} r^{\\frac{180}{13}} - 32417 \\, r^{\\frac{181}{13}}\\right)} r_{m}^{4} - 3 \\, {\\left(63567 \\, {\\left(r - r_{m}\\right)}^{\\frac{11}{13}} r^{\\frac{183}{13}} - 213010 \\, {\\left(r - r_{m}\\right)}^{\\frac{9}{13}} r^{\\frac{185}{13}} + 374150 \\, {\\left(r - r_{m}\\right)}^{\\frac{7}{13}} r^{\\frac{187}{13}} - 360171 \\, {\\left(r - r_{m}\\right)}^{\\frac{5}{13}} r^{\\frac{189}{13}} + 180467 \\, {\\left(r - r_{m}\\right)}^{\\frac{3}{13}} r^{\\frac{191}{13}} + 1060 \\, {\\left(r - r_{m}\\right)}^{\\frac{2}{13}} r^{\\frac{192}{13}} - 36892 \\, {\\left(r - r_{m}\\right)}^{\\frac{1}{13}} r^{\\frac{193}{13}} - 19208 \\, r^{\\frac{194}{13}}\\right)} r_{m}^{3} + {\\left(162939 \\, {\\left(r - r_{m}\\right)}^{\\frac{11}{13}} r^{\\frac{196}{13}} - 408870 \\, {\\left(r - r_{m}\\right)}^{\\frac{9}{13}} r^{\\frac{198}{13}} + 573930 \\, {\\left(r - r_{m}\\right)}^{\\frac{7}{13}} r^{\\frac{200}{13}} - 460047 \\, {\\left(r - r_{m}\\right)}^{\\frac{5}{13}} r^{\\frac{202}{13}} + 197463 \\, {\\left(r - r_{m}\\right)}^{\\frac{3}{13}} r^{\\frac{204}{13}} + 4203 \\, {\\left(r - r_{m}\\right)}^{\\frac{2}{13}} r^{\\frac{205}{13}} - 35304 \\, {\\left(r - r_{m}\\right)}^{\\frac{1}{13}} r^{\\frac{206}{13}} - 50330 \\, r^{\\frac{207}{13}}\\right)} r_{m}^{2} - 13 \\, {\\left(5187 \\, {\\left(r - r_{m}\\right)}^{\\frac{11}{13}} r^{\\frac{209}{13}} - 10395 \\, {\\left(r - r_{m}\\right)}^{\\frac{9}{13}} r^{\\frac{211}{13}} + 12145 \\, {\\left(r - r_{m}\\right)}^{\\frac{7}{13}} r^{\\frac{213}{13}} - 8337 \\, {\\left(r - r_{m}\\right)}^{\\frac{5}{13}} r^{\\frac{215}{13}} + 3129 \\, {\\left(r - r_{m}\\right)}^{\\frac{3}{13}} r^{\\frac{217}{13}} + 186 \\, {\\left(r - r_{m}\\right)}^{\\frac{2}{13}} r^{\\frac{218}{13}} - 497 \\, {\\left(r - r_{m}\\right)}^{\\frac{1}{13}} r^{\\frac{219}{13}} - 1652 \\, r^{\\frac{220}{13}}\\right)} r_{m}\\right)} r_{p}^{3} - {\\left(71694 \\, {\\left(r - r_{m}\\right)}^{\\frac{11}{13}} r^{\\frac{235}{13}} - 89712 \\, {\\left(r - r_{m}\\right)}^{\\frac{9}{13}} r^{\\frac{237}{13}} + 71820 \\, {\\left(r - r_{m}\\right)}^{\\frac{7}{13}} r^{\\frac{239}{13}} + 140 \\, {\\left(r - r_{m}\\right)}^{\\frac{6}{13}} r^{\\frac{240}{13}} - 35928 \\, {\\left(r - r_{m}\\right)}^{\\frac{5}{13}} r^{\\frac{241}{13}} - 2547 \\, {\\left(r - r_{m}\\right)}^{\\frac{4}{13}} r^{\\frac{242}{13}} + 10269 \\, {\\left(r - r_{m}\\right)}^{\\frac{3}{13}} r^{\\frac{243}{13}} + 15336 \\, {\\left(r - r_{m}\\right)}^{\\frac{2}{13}} r^{\\frac{244}{13}} - 1284 \\, {\\left(r - r_{m}\\right)}^{\\frac{1}{13}} r^{\\frac{245}{13}} - 47796 \\, r^{\\frac{246}{13}}\\right)} r_{m}^{2} - 9 \\, {\\left(9464 \\, {\\left(r - r_{m}\\right)}^{\\frac{11}{13}} r^{\\frac{235}{13}} - 11830 \\, {\\left(r - r_{m}\\right)}^{\\frac{9}{13}} r^{\\frac{237}{13}} + 9464 \\, {\\left(r - r_{m}\\right)}^{\\frac{7}{13}} r^{\\frac{239}{13}} - 4732 \\, {\\left(r - r_{m}\\right)}^{\\frac{5}{13}} r^{\\frac{241}{13}} - 169 \\, {\\left(r - r_{m}\\right)}^{\\frac{4}{13}} r^{\\frac{242}{13}} + 1352 \\, {\\left(r - r_{m}\\right)}^{\\frac{3}{13}} r^{\\frac{243}{13}} + 1352 \\, {\\left(r - r_{m}\\right)}^{\\frac{2}{13}} r^{\\frac{244}{13}} - 169 \\, {\\left(r - r_{m}\\right)}^{\\frac{1}{13}} r^{\\frac{245}{13}} - 4732 \\, r^{\\frac{246}{13}} - 856 \\, {\\left(r - r_{m}\\right)}^{\\frac{1}{13}} r^{\\frac{115}{13}} r_{m}^{10} - 16 \\, {\\left(393 \\, {\\left(r - r_{m}\\right)}^{\\frac{3}{13}} r^{\\frac{126}{13}} - 493 \\, {\\left(r - r_{m}\\right)}^{\\frac{1}{13}} r^{\\frac{128}{13}}\\right)} r_{m}^{9} - {\\left(20048 \\, {\\left(r - r_{m}\\right)}^{\\frac{5}{13}} r^{\\frac{137}{13}} - 51764 \\, {\\left(r - r_{m}\\right)}^{\\frac{3}{13}} r^{\\frac{139}{13}} + 32457 \\, {\\left(r - r_{m}\\right)}^{\\frac{1}{13}} r^{\\frac{141}{13}}\\right)} r_{m}^{8} - 4 \\, {\\left(9044 \\, {\\left(r - r_{m}\\right)}^{\\frac{7}{13}} r^{\\frac{148}{13}} - 36351 \\, {\\left(r - r_{m}\\right)}^{\\frac{5}{13}} r^{\\frac{150}{13}} + 46909 \\, {\\left(r - r_{m}\\right)}^{\\frac{3}{13}} r^{\\frac{152}{13}} - 19602 \\, {\\left(r - r_{m}\\right)}^{\\frac{1}{13}} r^{\\frac{154}{13}}\\right)} r_{m}^{7} - 28 \\, {\\left(1440 \\, {\\left(r - r_{m}\\right)}^{\\frac{9}{13}} r^{\\frac{159}{13}} - 8111 \\, {\\left(r - r_{m}\\right)}^{\\frac{7}{13}} r^{\\frac{161}{13}} + 16291 \\, {\\left(r - r_{m}\\right)}^{\\frac{5}{13}} r^{\\frac{163}{13}} - 14009 \\, {\\left(r - r_{m}\\right)}^{\\frac{3}{13}} r^{\\frac{165}{13}} + 4389 \\, {\\left(r - r_{m}\\right)}^{\\frac{1}{13}} r^{\\frac{167}{13}}\\right)} r_{m}^{6} - 28 \\, {\\left(1012 \\, {\\left(r - r_{m}\\right)}^{\\frac{11}{13}} r^{\\frac{170}{13}} - 7645 \\, {\\left(r - r_{m}\\right)}^{\\frac{9}{13}} r^{\\frac{172}{13}} + 21513 \\, {\\left(r - r_{m}\\right)}^{\\frac{7}{13}} r^{\\frac{174}{13}} - 28789 \\, {\\left(r - r_{m}\\right)}^{\\frac{5}{13}} r^{\\frac{176}{13}} + 18559 \\, {\\left(r - r_{m}\\right)}^{\\frac{3}{13}} r^{\\frac{178}{13}} - 4650 \\, {\\left(r - r_{m}\\right)}^{\\frac{1}{13}} r^{\\frac{180}{13}} - 436 \\, r^{\\frac{181}{13}}\\right)} r_{m}^{5} + 2 \\, {\\left(61614 \\, {\\left(r - r_{m}\\right)}^{\\frac{11}{13}} r^{\\frac{183}{13}} - 232435 \\, {\\left(r - r_{m}\\right)}^{\\frac{9}{13}} r^{\\frac{185}{13}} + 435680 \\, {\\left(r - r_{m}\\right)}^{\\frac{7}{13}} r^{\\frac{187}{13}} - 437010 \\, {\\left(r - r_{m}\\right)}^{\\frac{5}{13}} r^{\\frac{189}{13}} + 225274 \\, {\\left(r - r_{m}\\right)}^{\\frac{3}{13}} r^{\\frac{191}{13}} + 1464 \\, {\\left(r - r_{m}\\right)}^{\\frac{2}{13}} r^{\\frac{192}{13}} - 47019 \\, {\\left(r - r_{m}\\right)}^{\\frac{1}{13}} r^{\\frac{193}{13}} - 26866 \\, r^{\\frac{194}{13}}\\right)} r_{m}^{4} - 4 \\, {\\left(52283 \\, {\\left(r - r_{m}\\right)}^{\\frac{11}{13}} r^{\\frac{196}{13}} - 131320 \\, {\\left(r - r_{m}\\right)}^{\\frac{9}{13}} r^{\\frac{198}{13}} + 184450 \\, {\\left(r - r_{m}\\right)}^{\\frac{7}{13}} r^{\\frac{200}{13}} - 147917 \\, {\\left(r - r_{m}\\right)}^{\\frac{5}{13}} r^{\\frac{202}{13}} - 74 \\, {\\left(r - r_{m}\\right)}^{\\frac{4}{13}} r^{\\frac{203}{13}} + 63511 \\, {\\left(r - r_{m}\\right)}^{\\frac{3}{13}} r^{\\frac{204}{13}} + 2543 \\, {\\left(r - r_{m}\\right)}^{\\frac{2}{13}} r^{\\frac{205}{13}} - 11358 \\, {\\left(r - r_{m}\\right)}^{\\frac{1}{13}} r^{\\frac{206}{13}} - 23170 \\, r^{\\frac{207}{13}}\\right)} r_{m}^{3} + 4 \\, {\\left(42847 \\, {\\left(r - r_{m}\\right)}^{\\frac{11}{13}} r^{\\frac{209}{13}} - 80605 \\, {\\left(r - r_{m}\\right)}^{\\frac{9}{13}} r^{\\frac{211}{13}} + 90489 \\, {\\left(r - r_{m}\\right)}^{\\frac{7}{13}} r^{\\frac{213}{13}} - 60431 \\, {\\left(r - r_{m}\\right)}^{\\frac{5}{13}} r^{\\frac{215}{13}} - 191 \\, {\\left(r - r_{m}\\right)}^{\\frac{4}{13}} r^{\\frac{216}{13}} + 22229 \\, {\\left(r - r_{m}\\right)}^{\\frac{3}{13}} r^{\\frac{217}{13}} + 3228 \\, {\\left(r - r_{m}\\right)}^{\\frac{2}{13}} r^{\\frac{218}{13}} - 3477 \\, {\\left(r - r_{m}\\right)}^{\\frac{1}{13}} r^{\\frac{219}{13}} - 19432 \\, r^{\\frac{220}{13}}\\right)} r_{m}^{2} - 13 \\, {\\left(5124 \\, {\\left(r - r_{m}\\right)}^{\\frac{11}{13}} r^{\\frac{222}{13}} - 7700 \\, {\\left(r - r_{m}\\right)}^{\\frac{9}{13}} r^{\\frac{224}{13}} + 7196 \\, {\\left(r - r_{m}\\right)}^{\\frac{7}{13}} r^{\\frac{226}{13}} - 4116 \\, {\\left(r - r_{m}\\right)}^{\\frac{5}{13}} r^{\\frac{228}{13}} - 49 \\, {\\left(r - r_{m}\\right)}^{\\frac{4}{13}} r^{\\frac{229}{13}} + 1324 \\, {\\left(r - r_{m}\\right)}^{\\frac{3}{13}} r^{\\frac{230}{13}} + 540 \\, {\\left(r - r_{m}\\right)}^{\\frac{2}{13}} r^{\\frac{231}{13}} - 184 \\, {\\left(r - r_{m}\\right)}^{\\frac{1}{13}} r^{\\frac{232}{13}} - 2408 \\, r^{\\frac{233}{13}}\\right)} r_{m}\\right)} r_{p}^{2} + 143 \\, {\\left(126 \\, {\\left(r - r_{m}\\right)}^{\\frac{11}{13}} r^{\\frac{248}{13}} - 126 \\, {\\left(r - r_{m}\\right)}^{\\frac{9}{13}} r^{\\frac{250}{13}} + 84 \\, {\\left(r - r_{m}\\right)}^{\\frac{7}{13}} r^{\\frac{252}{13}} + {\\left(r - r_{m}\\right)}^{\\frac{6}{13}} r^{\\frac{253}{13}} - 36 \\, {\\left(r - r_{m}\\right)}^{\\frac{5}{13}} r^{\\frac{254}{13}} - 9 \\, {\\left(r - r_{m}\\right)}^{\\frac{4}{13}} r^{\\frac{255}{13}} + 9 \\, {\\left(r - r_{m}\\right)}^{\\frac{3}{13}} r^{\\frac{256}{13}} + 36 \\, {\\left(r - r_{m}\\right)}^{\\frac{2}{13}} r^{\\frac{257}{13}} - {\\left(r - r_{m}\\right)}^{\\frac{1}{13}} r^{\\frac{258}{13}} - 84 \\, r^{\\frac{259}{13}}\\right)} r_{m} + {\\left(21294 \\, {\\left(r - r_{m}\\right)}^{\\frac{11}{13}} r^{\\frac{248}{13}} - 21294 \\, {\\left(r - r_{m}\\right)}^{\\frac{9}{13}} r^{\\frac{250}{13}} + 14196 \\, {\\left(r - r_{m}\\right)}^{\\frac{7}{13}} r^{\\frac{252}{13}} + 169 \\, {\\left(r - r_{m}\\right)}^{\\frac{6}{13}} r^{\\frac{253}{13}} - 6084 \\, {\\left(r - r_{m}\\right)}^{\\frac{5}{13}} r^{\\frac{254}{13}} - 1521 \\, {\\left(r - r_{m}\\right)}^{\\frac{4}{13}} r^{\\frac{255}{13}} + 1521 \\, {\\left(r - r_{m}\\right)}^{\\frac{3}{13}} r^{\\frac{256}{13}} + 6084 \\, {\\left(r - r_{m}\\right)}^{\\frac{2}{13}} r^{\\frac{257}{13}} - 169 \\, {\\left(r - r_{m}\\right)}^{\\frac{1}{13}} r^{\\frac{258}{13}} - 14196 \\, r^{\\frac{259}{13}} - 1556 \\, {\\left(r - r_{m}\\right)}^{\\frac{1}{13}} r^{\\frac{128}{13}} r_{m}^{10} - {\\left(12744 \\, {\\left(r - r_{m}\\right)}^{\\frac{3}{13}} r^{\\frac{139}{13}} - 14203 \\, {\\left(r - r_{m}\\right)}^{\\frac{1}{13}} r^{\\frac{141}{13}}\\right)} r_{m}^{9} - 3 \\, {\\left(15312 \\, {\\left(r - r_{m}\\right)}^{\\frac{5}{13}} r^{\\frac{150}{13}} - 34572 \\, {\\left(r - r_{m}\\right)}^{\\frac{3}{13}} r^{\\frac{152}{13}} + 19259 \\, {\\left(r - r_{m}\\right)}^{\\frac{1}{13}} r^{\\frac{154}{13}}\\right)} r_{m}^{8} - 3 \\, {\\left(31808 \\, {\\left(r - r_{m}\\right)}^{\\frac{7}{13}} r^{\\frac{161}{13}} - 109500 \\, {\\left(r - r_{m}\\right)}^{\\frac{5}{13}} r^{\\frac{163}{13}} + 123567 \\, {\\left(r - r_{m}\\right)}^{\\frac{3}{13}} r^{\\frac{165}{13}} - 45876 \\, {\\left(r - r_{m}\\right)}^{\\frac{1}{13}} r^{\\frac{167}{13}}\\right)} r_{m}^{7} - 3 \\, {\\left(41832 \\, {\\left(r - r_{m}\\right)}^{\\frac{9}{13}} r^{\\frac{172}{13}} - 196168 \\, {\\left(r - r_{m}\\right)}^{\\frac{7}{13}} r^{\\frac{174}{13}} + 337476 \\, {\\left(r - r_{m}\\right)}^{\\frac{5}{13}} r^{\\frac{176}{13}} - 253785 \\, {\\left(r - r_{m}\\right)}^{\\frac{3}{13}} r^{\\frac{178}{13}} + 70644 \\, {\\left(r - r_{m}\\right)}^{\\frac{1}{13}} r^{\\frac{180}{13}}\\right)} r_{m}^{6} - 3 \\, {\\left(35952 \\, {\\left(r - r_{m}\\right)}^{\\frac{11}{13}} r^{\\frac{183}{13}} - 217014 \\, {\\left(r - r_{m}\\right)}^{\\frac{9}{13}} r^{\\frac{185}{13}} + 508452 \\, {\\left(r - r_{m}\\right)}^{\\frac{7}{13}} r^{\\frac{187}{13}} - 582828 \\, {\\left(r - r_{m}\\right)}^{\\frac{5}{13}} r^{\\frac{189}{13}} + 328587 \\, {\\left(r - r_{m}\\right)}^{\\frac{3}{13}} r^{\\frac{191}{13}} - 73150 \\, {\\left(r - r_{m}\\right)}^{\\frac{1}{13}} r^{\\frac{193}{13}} - 20048 \\, r^{\\frac{194}{13}}\\right)} r_{m}^{5} + 3 \\, {\\left(151536 \\, {\\left(r - r_{m}\\right)}^{\\frac{11}{13}} r^{\\frac{196}{13}} - 456834 \\, {\\left(r - r_{m}\\right)}^{\\frac{9}{13}} r^{\\frac{198}{13}} + 713020 \\, {\\left(r - r_{m}\\right)}^{\\frac{7}{13}} r^{\\frac{200}{13}} - 612660 \\, {\\left(r - r_{m}\\right)}^{\\frac{5}{13}} r^{\\frac{202}{13}} + 276213 \\, {\\left(r - r_{m}\\right)}^{\\frac{3}{13}} r^{\\frac{204}{13}} + 6912 \\, {\\left(r - r_{m}\\right)}^{\\frac{2}{13}} r^{\\frac{205}{13}} - 51226 \\, {\\left(r - r_{m}\\right)}^{\\frac{1}{13}} r^{\\frac{206}{13}} - 85260 \\, r^{\\frac{207}{13}}\\right)} r_{m}^{4} - 3 \\, {\\left(245994 \\, {\\left(r - r_{m}\\right)}^{\\frac{11}{13}} r^{\\frac{209}{13}} - 493836 \\, {\\left(r - r_{m}\\right)}^{\\frac{9}{13}} r^{\\frac{211}{13}} + 577640 \\, {\\left(r - r_{m}\\right)}^{\\frac{7}{13}} r^{\\frac{213}{13}} - 396852 \\, {\\left(r - r_{m}\\right)}^{\\frac{5}{13}} r^{\\frac{215}{13}} - 1308 \\, {\\left(r - r_{m}\\right)}^{\\frac{4}{13}} r^{\\frac{216}{13}} + 149037 \\, {\\left(r - r_{m}\\right)}^{\\frac{3}{13}} r^{\\frac{217}{13}} + 22872 \\, {\\left(r - r_{m}\\right)}^{\\frac{2}{13}} r^{\\frac{218}{13}} - 23684 \\, {\\left(r - r_{m}\\right)}^{\\frac{1}{13}} r^{\\frac{219}{13}} - 140224 \\, r^{\\frac{220}{13}}\\right)} r_{m}^{3} + {\\left(564858 \\, {\\left(r - r_{m}\\right)}^{\\frac{11}{13}} r^{\\frac{222}{13}} - 849492 \\, {\\left(r - r_{m}\\right)}^{\\frac{9}{13}} r^{\\frac{224}{13}} + 794304 \\, {\\left(r - r_{m}\\right)}^{\\frac{7}{13}} r^{\\frac{226}{13}} + 296 \\, {\\left(r - r_{m}\\right)}^{\\frac{6}{13}} r^{\\frac{227}{13}} - 454500 \\, {\\left(r - r_{m}\\right)}^{\\frac{5}{13}} r^{\\frac{228}{13}} - 9423 \\, {\\left(r - r_{m}\\right)}^{\\frac{4}{13}} r^{\\frac{229}{13}} + 146241 \\, {\\left(r - r_{m}\\right)}^{\\frac{3}{13}} r^{\\frac{230}{13}} + 81108 \\, {\\left(r - r_{m}\\right)}^{\\frac{2}{13}} r^{\\frac{231}{13}} - 20328 \\, {\\left(r - r_{m}\\right)}^{\\frac{1}{13}} r^{\\frac{232}{13}} - 328776 \\, r^{\\frac{233}{13}}\\right)} r_{m}^{2} - 13 \\, {\\left(14994 \\, {\\left(r - r_{m}\\right)}^{\\frac{11}{13}} r^{\\frac{235}{13}} - 18018 \\, {\\left(r - r_{m}\\right)}^{\\frac{9}{13}} r^{\\frac{237}{13}} + 14028 \\, {\\left(r - r_{m}\\right)}^{\\frac{7}{13}} r^{\\frac{239}{13}} + 36 \\, {\\left(r - r_{m}\\right)}^{\\frac{6}{13}} r^{\\frac{240}{13}} - 6876 \\, {\\left(r - r_{m}\\right)}^{\\frac{5}{13}} r^{\\frac{241}{13}} - 540 \\, {\\left(r - r_{m}\\right)}^{\\frac{4}{13}} r^{\\frac{242}{13}} + 1935 \\, {\\left(r - r_{m}\\right)}^{\\frac{3}{13}} r^{\\frac{243}{13}} + 3024 \\, {\\left(r - r_{m}\\right)}^{\\frac{2}{13}} r^{\\frac{244}{13}} - 239 \\, {\\left(r - r_{m}\\right)}^{\\frac{1}{13}} r^{\\frac{245}{13}} - 9072 \\, r^{\\frac{246}{13}}\\right)} r_{m}\\right)} r_{p}}{338 \\, {\\left({\\left(r - r_{m}\\right)}^{\\frac{12}{13}} r^{22} + 84 \\, {\\left(r - r_{m}\\right)}^{\\frac{11}{13}} r^{\\frac{287}{13}} - 126 \\, {\\left(r - r_{m}\\right)}^{\\frac{9}{13}} r^{\\frac{289}{13}} + 126 \\, {\\left(r - r_{m}\\right)}^{\\frac{7}{13}} r^{\\frac{291}{13}} - 84 \\, {\\left(r - r_{m}\\right)}^{\\frac{5}{13}} r^{\\frac{293}{13}} - {\\left(r - r_{m}\\right)}^{\\frac{4}{13}} r^{\\frac{294}{13}} + 36 \\, {\\left(r - r_{m}\\right)}^{\\frac{3}{13}} r^{\\frac{295}{13}} + 9 \\, {\\left(r - r_{m}\\right)}^{\\frac{2}{13}} r^{\\frac{296}{13}} - 9 \\, {\\left(r - r_{m}\\right)}^{\\frac{1}{13}} r^{\\frac{297}{13}} - 36 \\, r^{\\frac{298}{13}} - {\\left({\\left(r - r_{m}\\right)}^{\\frac{12}{13}} r^{13} - 8 \\, {\\left(r - r_{m}\\right)}^{\\frac{12}{13}} r^{12} r_{m} + 28 \\, {\\left(r - r_{m}\\right)}^{\\frac{12}{13}} r^{11} r_{m}^{2} - 56 \\, {\\left(r - r_{m}\\right)}^{\\frac{12}{13}} r^{10} r_{m}^{3} + 70 \\, {\\left(r - r_{m}\\right)}^{\\frac{12}{13}} r^{9} r_{m}^{4} - 56 \\, {\\left(r - r_{m}\\right)}^{\\frac{12}{13}} r^{8} r_{m}^{5} + 28 \\, {\\left(r - r_{m}\\right)}^{\\frac{12}{13}} r^{7} r_{m}^{6} - 8 \\, {\\left(r - r_{m}\\right)}^{\\frac{12}{13}} r^{6} r_{m}^{7} + {\\left(r - r_{m}\\right)}^{\\frac{12}{13}} r^{5} r_{m}^{8}\\right)} r_{p}^{9} + {\\left({\\left(r - r_{m}\\right)}^{\\frac{12}{13}} r^{14} - 9 \\, {\\left(r - r_{m}\\right)}^{\\frac{1}{13}} r^{\\frac{193}{13}}\\right)} r_{m}^{8} + 9 \\, {\\left({\\left(r - r_{m}\\right)}^{\\frac{12}{13}} r^{14} - {\\left(r - r_{m}\\right)}^{\\frac{1}{13}} r^{\\frac{193}{13}} + {\\left({\\left(r - r_{m}\\right)}^{\\frac{12}{13}} r^{6} - {\\left(r - r_{m}\\right)}^{\\frac{1}{13}} r^{\\frac{89}{13}}\\right)} r_{m}^{8} - 8 \\, {\\left({\\left(r - r_{m}\\right)}^{\\frac{12}{13}} r^{7} - {\\left(r - r_{m}\\right)}^{\\frac{1}{13}} r^{\\frac{102}{13}}\\right)} r_{m}^{7} + 28 \\, {\\left({\\left(r - r_{m}\\right)}^{\\frac{12}{13}} r^{8} - {\\left(r - r_{m}\\right)}^{\\frac{1}{13}} r^{\\frac{115}{13}}\\right)} r_{m}^{6} - 56 \\, {\\left({\\left(r - r_{m}\\right)}^{\\frac{12}{13}} r^{9} - {\\left(r - r_{m}\\right)}^{\\frac{1}{13}} r^{\\frac{128}{13}}\\right)} r_{m}^{5} + 70 \\, {\\left({\\left(r - r_{m}\\right)}^{\\frac{12}{13}} r^{10} - {\\left(r - r_{m}\\right)}^{\\frac{1}{13}} r^{\\frac{141}{13}}\\right)} r_{m}^{4} - 56 \\, {\\left({\\left(r - r_{m}\\right)}^{\\frac{12}{13}} r^{11} - {\\left(r - r_{m}\\right)}^{\\frac{1}{13}} r^{\\frac{154}{13}}\\right)} r_{m}^{3} + 28 \\, {\\left({\\left(r - r_{m}\\right)}^{\\frac{12}{13}} r^{12} - {\\left(r - r_{m}\\right)}^{\\frac{1}{13}} r^{\\frac{167}{13}}\\right)} r_{m}^{2} - 8 \\, {\\left({\\left(r - r_{m}\\right)}^{\\frac{12}{13}} r^{13} - {\\left(r - r_{m}\\right)}^{\\frac{1}{13}} r^{\\frac{180}{13}}\\right)} r_{m}\\right)} r_{p}^{8} - 4 \\, {\\left(2 \\, {\\left(r - r_{m}\\right)}^{\\frac{12}{13}} r^{15} + 9 \\, {\\left(r - r_{m}\\right)}^{\\frac{3}{13}} r^{\\frac{204}{13}} - 18 \\, {\\left(r - r_{m}\\right)}^{\\frac{1}{13}} r^{\\frac{206}{13}}\\right)} r_{m}^{7} - 36 \\, {\\left({\\left(r - r_{m}\\right)}^{\\frac{12}{13}} r^{15} + {\\left(r - r_{m}\\right)}^{\\frac{3}{13}} r^{\\frac{204}{13}} - 2 \\, {\\left(r - r_{m}\\right)}^{\\frac{1}{13}} r^{\\frac{206}{13}} + {\\left({\\left(r - r_{m}\\right)}^{\\frac{12}{13}} r^{7} - 2 \\, {\\left(r - r_{m}\\right)}^{\\frac{1}{13}} r^{\\frac{102}{13}}\\right)} r_{m}^{8} - {\\left(8 \\, {\\left(r - r_{m}\\right)}^{\\frac{12}{13}} r^{8} + {\\left(r - r_{m}\\right)}^{\\frac{3}{13}} r^{\\frac{113}{13}} - 16 \\, {\\left(r - r_{m}\\right)}^{\\frac{1}{13}} r^{\\frac{115}{13}}\\right)} r_{m}^{7} + 7 \\, {\\left(4 \\, {\\left(r - r_{m}\\right)}^{\\frac{12}{13}} r^{9} + {\\left(r - r_{m}\\right)}^{\\frac{3}{13}} r^{\\frac{126}{13}} - 8 \\, {\\left(r - r_{m}\\right)}^{\\frac{1}{13}} r^{\\frac{128}{13}}\\right)} r_{m}^{6} - 7 \\, {\\left(8 \\, {\\left(r - r_{m}\\right)}^{\\frac{12}{13}} r^{10} + 3 \\, {\\left(r - r_{m}\\right)}^{\\frac{3}{13}} r^{\\frac{139}{13}} - 16 \\, {\\left(r - r_{m}\\right)}^{\\frac{1}{13}} r^{\\frac{141}{13}}\\right)} r_{m}^{5} + 35 \\, {\\left(2 \\, {\\left(r - r_{m}\\right)}^{\\frac{12}{13}} r^{11} + {\\left(r - r_{m}\\right)}^{\\frac{3}{13}} r^{\\frac{152}{13}} - 4 \\, {\\left(r - r_{m}\\right)}^{\\frac{1}{13}} r^{\\frac{154}{13}}\\right)} r_{m}^{4} - 7 \\, {\\left(8 \\, {\\left(r - r_{m}\\right)}^{\\frac{12}{13}} r^{12} + 5 \\, {\\left(r - r_{m}\\right)}^{\\frac{3}{13}} r^{\\frac{165}{13}} - 16 \\, {\\left(r - r_{m}\\right)}^{\\frac{1}{13}} r^{\\frac{167}{13}}\\right)} r_{m}^{3} + 7 \\, {\\left(4 \\, {\\left(r - r_{m}\\right)}^{\\frac{12}{13}} r^{13} + 3 \\, {\\left(r - r_{m}\\right)}^{\\frac{3}{13}} r^{\\frac{178}{13}} - 8 \\, {\\left(r - r_{m}\\right)}^{\\frac{1}{13}} r^{\\frac{180}{13}}\\right)} r_{m}^{2} - {\\left(8 \\, {\\left(r - r_{m}\\right)}^{\\frac{12}{13}} r^{14} + 7 \\, {\\left(r - r_{m}\\right)}^{\\frac{3}{13}} r^{\\frac{191}{13}} - 16 \\, {\\left(r - r_{m}\\right)}^{\\frac{1}{13}} r^{\\frac{193}{13}}\\right)} r_{m}\\right)} r_{p}^{7} + 28 \\, {\\left({\\left(r - r_{m}\\right)}^{\\frac{12}{13}} r^{16} - 3 \\, {\\left(r - r_{m}\\right)}^{\\frac{5}{13}} r^{\\frac{215}{13}} + 9 \\, {\\left(r - r_{m}\\right)}^{\\frac{3}{13}} r^{\\frac{217}{13}} - 9 \\, {\\left(r - r_{m}\\right)}^{\\frac{1}{13}} r^{\\frac{219}{13}}\\right)} r_{m}^{6} + 84 \\, {\\left({\\left(r - r_{m}\\right)}^{\\frac{12}{13}} r^{16} - {\\left(r - r_{m}\\right)}^{\\frac{5}{13}} r^{\\frac{215}{13}} + 3 \\, {\\left(r - r_{m}\\right)}^{\\frac{3}{13}} r^{\\frac{217}{13}} - 3 \\, {\\left(r - r_{m}\\right)}^{\\frac{1}{13}} r^{\\frac{219}{13}} + {\\left({\\left(r - r_{m}\\right)}^{\\frac{12}{13}} r^{8} - 3 \\, {\\left(r - r_{m}\\right)}^{\\frac{1}{13}} r^{\\frac{115}{13}}\\right)} r_{m}^{8} - {\\left(8 \\, {\\left(r - r_{m}\\right)}^{\\frac{12}{13}} r^{9} + 3 \\, {\\left(r - r_{m}\\right)}^{\\frac{3}{13}} r^{\\frac{126}{13}} - 24 \\, {\\left(r - r_{m}\\right)}^{\\frac{1}{13}} r^{\\frac{128}{13}}\\right)} r_{m}^{7} + {\\left(28 \\, {\\left(r - r_{m}\\right)}^{\\frac{12}{13}} r^{10} - {\\left(r - r_{m}\\right)}^{\\frac{5}{13}} r^{\\frac{137}{13}} + 21 \\, {\\left(r - r_{m}\\right)}^{\\frac{3}{13}} r^{\\frac{139}{13}} - 84 \\, {\\left(r - r_{m}\\right)}^{\\frac{1}{13}} r^{\\frac{141}{13}}\\right)} r_{m}^{6} - {\\left(56 \\, {\\left(r - r_{m}\\right)}^{\\frac{12}{13}} r^{11} - 6 \\, {\\left(r - r_{m}\\right)}^{\\frac{5}{13}} r^{\\frac{150}{13}} + 63 \\, {\\left(r - r_{m}\\right)}^{\\frac{3}{13}} r^{\\frac{152}{13}} - 168 \\, {\\left(r - r_{m}\\right)}^{\\frac{1}{13}} r^{\\frac{154}{13}}\\right)} r_{m}^{5} + 5 \\, {\\left(14 \\, {\\left(r - r_{m}\\right)}^{\\frac{12}{13}} r^{12} - 3 \\, {\\left(r - r_{m}\\right)}^{\\frac{5}{13}} r^{\\frac{163}{13}} + 21 \\, {\\left(r - r_{m}\\right)}^{\\frac{3}{13}} r^{\\frac{165}{13}} - 42 \\, {\\left(r - r_{m}\\right)}^{\\frac{1}{13}} r^{\\frac{167}{13}}\\right)} r_{m}^{4} - {\\left(56 \\, {\\left(r - r_{m}\\right)}^{\\frac{12}{13}} r^{13} - 20 \\, {\\left(r - r_{m}\\right)}^{\\frac{5}{13}} r^{\\frac{176}{13}} + 105 \\, {\\left(r - r_{m}\\right)}^{\\frac{3}{13}} r^{\\frac{178}{13}} - 168 \\, {\\left(r - r_{m}\\right)}^{\\frac{1}{13}} r^{\\frac{180}{13}}\\right)} r_{m}^{3} + {\\left(28 \\, {\\left(r - r_{m}\\right)}^{\\frac{12}{13}} r^{14} - 15 \\, {\\left(r - r_{m}\\right)}^{\\frac{5}{13}} r^{\\frac{189}{13}} + 63 \\, {\\left(r - r_{m}\\right)}^{\\frac{3}{13}} r^{\\frac{191}{13}} - 84 \\, {\\left(r - r_{m}\\right)}^{\\frac{1}{13}} r^{\\frac{193}{13}}\\right)} r_{m}^{2} - {\\left(8 \\, {\\left(r - r_{m}\\right)}^{\\frac{12}{13}} r^{15} - 6 \\, {\\left(r - r_{m}\\right)}^{\\frac{5}{13}} r^{\\frac{202}{13}} + 21 \\, {\\left(r - r_{m}\\right)}^{\\frac{3}{13}} r^{\\frac{204}{13}} - 24 \\, {\\left(r - r_{m}\\right)}^{\\frac{1}{13}} r^{\\frac{206}{13}}\\right)} r_{m}\\right)} r_{p}^{6} - 14 \\, {\\left(4 \\, {\\left(r - r_{m}\\right)}^{\\frac{12}{13}} r^{17} + 9 \\, {\\left(r - r_{m}\\right)}^{\\frac{7}{13}} r^{\\frac{226}{13}} - 36 \\, {\\left(r - r_{m}\\right)}^{\\frac{5}{13}} r^{\\frac{228}{13}} + 54 \\, {\\left(r - r_{m}\\right)}^{\\frac{3}{13}} r^{\\frac{230}{13}} - 36 \\, {\\left(r - r_{m}\\right)}^{\\frac{1}{13}} r^{\\frac{232}{13}}\\right)} r_{m}^{5} - 126 \\, {\\left({\\left(r - r_{m}\\right)}^{\\frac{12}{13}} r^{17} + {\\left(r - r_{m}\\right)}^{\\frac{7}{13}} r^{\\frac{226}{13}} - 4 \\, {\\left(r - r_{m}\\right)}^{\\frac{5}{13}} r^{\\frac{228}{13}} + 6 \\, {\\left(r - r_{m}\\right)}^{\\frac{3}{13}} r^{\\frac{230}{13}} - 4 \\, {\\left(r - r_{m}\\right)}^{\\frac{1}{13}} r^{\\frac{232}{13}} + {\\left({\\left(r - r_{m}\\right)}^{\\frac{12}{13}} r^{9} - 4 \\, {\\left(r - r_{m}\\right)}^{\\frac{1}{13}} r^{\\frac{128}{13}}\\right)} r_{m}^{8} - 2 \\, {\\left(4 \\, {\\left(r - r_{m}\\right)}^{\\frac{12}{13}} r^{10} + 3 \\, {\\left(r - r_{m}\\right)}^{\\frac{3}{13}} r^{\\frac{139}{13}} - 16 \\, {\\left(r - r_{m}\\right)}^{\\frac{1}{13}} r^{\\frac{141}{13}}\\right)} r_{m}^{7} + 2 \\, {\\left(14 \\, {\\left(r - r_{m}\\right)}^{\\frac{12}{13}} r^{11} - 2 \\, {\\left(r - r_{m}\\right)}^{\\frac{5}{13}} r^{\\frac{150}{13}} + 21 \\, {\\left(r - r_{m}\\right)}^{\\frac{3}{13}} r^{\\frac{152}{13}} - 56 \\, {\\left(r - r_{m}\\right)}^{\\frac{1}{13}} r^{\\frac{154}{13}}\\right)} r_{m}^{6} - {\\left(56 \\, {\\left(r - r_{m}\\right)}^{\\frac{12}{13}} r^{12} + {\\left(r - r_{m}\\right)}^{\\frac{7}{13}} r^{\\frac{161}{13}} - 24 \\, {\\left(r - r_{m}\\right)}^{\\frac{5}{13}} r^{\\frac{163}{13}} + 126 \\, {\\left(r - r_{m}\\right)}^{\\frac{3}{13}} r^{\\frac{165}{13}} - 224 \\, {\\left(r - r_{m}\\right)}^{\\frac{1}{13}} r^{\\frac{167}{13}}\\right)} r_{m}^{5} + 5 \\, {\\left(14 \\, {\\left(r - r_{m}\\right)}^{\\frac{12}{13}} r^{13} + {\\left(r - r_{m}\\right)}^{\\frac{7}{13}} r^{\\frac{174}{13}} - 12 \\, {\\left(r - r_{m}\\right)}^{\\frac{5}{13}} r^{\\frac{176}{13}} + 42 \\, {\\left(r - r_{m}\\right)}^{\\frac{3}{13}} r^{\\frac{178}{13}} - 56 \\, {\\left(r - r_{m}\\right)}^{\\frac{1}{13}} r^{\\frac{180}{13}}\\right)} r_{m}^{4} - 2 \\, {\\left(28 \\, {\\left(r - r_{m}\\right)}^{\\frac{12}{13}} r^{14} + 5 \\, {\\left(r - r_{m}\\right)}^{\\frac{7}{13}} r^{\\frac{187}{13}} - 40 \\, {\\left(r - r_{m}\\right)}^{\\frac{5}{13}} r^{\\frac{189}{13}} + 105 \\, {\\left(r - r_{m}\\right)}^{\\frac{3}{13}} r^{\\frac{191}{13}} - 112 \\, {\\left(r - r_{m}\\right)}^{\\frac{1}{13}} r^{\\frac{193}{13}}\\right)} r_{m}^{3} + 2 \\, {\\left(14 \\, {\\left(r - r_{m}\\right)}^{\\frac{12}{13}} r^{15} + 5 \\, {\\left(r - r_{m}\\right)}^{\\frac{7}{13}} r^{\\frac{200}{13}} - 30 \\, {\\left(r - r_{m}\\right)}^{\\frac{5}{13}} r^{\\frac{202}{13}} + 63 \\, {\\left(r - r_{m}\\right)}^{\\frac{3}{13}} r^{\\frac{204}{13}} - 56 \\, {\\left(r - r_{m}\\right)}^{\\frac{1}{13}} r^{\\frac{206}{13}}\\right)} r_{m}^{2} - {\\left(8 \\, {\\left(r - r_{m}\\right)}^{\\frac{12}{13}} r^{16} + 5 \\, {\\left(r - r_{m}\\right)}^{\\frac{7}{13}} r^{\\frac{213}{13}} - 24 \\, {\\left(r - r_{m}\\right)}^{\\frac{5}{13}} r^{\\frac{215}{13}} + 42 \\, {\\left(r - r_{m}\\right)}^{\\frac{3}{13}} r^{\\frac{217}{13}} - 32 \\, {\\left(r - r_{m}\\right)}^{\\frac{1}{13}} r^{\\frac{219}{13}}\\right)} r_{m}\\right)} r_{p}^{5} + 14 \\, {\\left(5 \\, {\\left(r - r_{m}\\right)}^{\\frac{12}{13}} r^{18} - 9 \\, {\\left(r - r_{m}\\right)}^{\\frac{9}{13}} r^{\\frac{237}{13}} + 45 \\, {\\left(r - r_{m}\\right)}^{\\frac{7}{13}} r^{\\frac{239}{13}} - 90 \\, {\\left(r - r_{m}\\right)}^{\\frac{5}{13}} r^{\\frac{241}{13}} + 90 \\, {\\left(r - r_{m}\\right)}^{\\frac{3}{13}} r^{\\frac{243}{13}} - 45 \\, {\\left(r - r_{m}\\right)}^{\\frac{1}{13}} r^{\\frac{245}{13}}\\right)} r_{m}^{4} + 126 \\, {\\left({\\left(r - r_{m}\\right)}^{\\frac{12}{13}} r^{18} - {\\left(r - r_{m}\\right)}^{\\frac{9}{13}} r^{\\frac{237}{13}} + 5 \\, {\\left(r - r_{m}\\right)}^{\\frac{7}{13}} r^{\\frac{239}{13}} - 10 \\, {\\left(r - r_{m}\\right)}^{\\frac{5}{13}} r^{\\frac{241}{13}} + 10 \\, {\\left(r - r_{m}\\right)}^{\\frac{3}{13}} r^{\\frac{243}{13}} - 5 \\, {\\left(r - r_{m}\\right)}^{\\frac{1}{13}} r^{\\frac{245}{13}} + {\\left({\\left(r - r_{m}\\right)}^{\\frac{12}{13}} r^{10} - 5 \\, {\\left(r - r_{m}\\right)}^{\\frac{1}{13}} r^{\\frac{141}{13}}\\right)} r_{m}^{8} - 2 \\, {\\left(4 \\, {\\left(r - r_{m}\\right)}^{\\frac{12}{13}} r^{11} + 5 \\, {\\left(r - r_{m}\\right)}^{\\frac{3}{13}} r^{\\frac{152}{13}} - 20 \\, {\\left(r - r_{m}\\right)}^{\\frac{1}{13}} r^{\\frac{154}{13}}\\right)} r_{m}^{7} + 2 \\, {\\left(14 \\, {\\left(r - r_{m}\\right)}^{\\frac{12}{13}} r^{12} - 5 \\, {\\left(r - r_{m}\\right)}^{\\frac{5}{13}} r^{\\frac{163}{13}} + 35 \\, {\\left(r - r_{m}\\right)}^{\\frac{3}{13}} r^{\\frac{165}{13}} - 70 \\, {\\left(r - r_{m}\\right)}^{\\frac{1}{13}} r^{\\frac{167}{13}}\\right)} r_{m}^{6} - {\\left(56 \\, {\\left(r - r_{m}\\right)}^{\\frac{12}{13}} r^{13} + 5 \\, {\\left(r - r_{m}\\right)}^{\\frac{7}{13}} r^{\\frac{174}{13}} - 60 \\, {\\left(r - r_{m}\\right)}^{\\frac{5}{13}} r^{\\frac{176}{13}} + 210 \\, {\\left(r - r_{m}\\right)}^{\\frac{3}{13}} r^{\\frac{178}{13}} - 280 \\, {\\left(r - r_{m}\\right)}^{\\frac{1}{13}} r^{\\frac{180}{13}}\\right)} r_{m}^{5} + {\\left(70 \\, {\\left(r - r_{m}\\right)}^{\\frac{12}{13}} r^{14} - {\\left(r - r_{m}\\right)}^{\\frac{9}{13}} r^{\\frac{185}{13}} + 25 \\, {\\left(r - r_{m}\\right)}^{\\frac{7}{13}} r^{\\frac{187}{13}} - 150 \\, {\\left(r - r_{m}\\right)}^{\\frac{5}{13}} r^{\\frac{189}{13}} + 350 \\, {\\left(r - r_{m}\\right)}^{\\frac{3}{13}} r^{\\frac{191}{13}} - 350 \\, {\\left(r - r_{m}\\right)}^{\\frac{1}{13}} r^{\\frac{193}{13}}\\right)} r_{m}^{4} - 2 \\, {\\left(28 \\, {\\left(r - r_{m}\\right)}^{\\frac{12}{13}} r^{15} - 2 \\, {\\left(r - r_{m}\\right)}^{\\frac{9}{13}} r^{\\frac{198}{13}} + 25 \\, {\\left(r - r_{m}\\right)}^{\\frac{7}{13}} r^{\\frac{200}{13}} - 100 \\, {\\left(r - r_{m}\\right)}^{\\frac{5}{13}} r^{\\frac{202}{13}} + 175 \\, {\\left(r - r_{m}\\right)}^{\\frac{3}{13}} r^{\\frac{204}{13}} - 140 \\, {\\left(r - r_{m}\\right)}^{\\frac{1}{13}} r^{\\frac{206}{13}}\\right)} r_{m}^{3} + 2 \\, {\\left(14 \\, {\\left(r - r_{m}\\right)}^{\\frac{12}{13}} r^{16} - 3 \\, {\\left(r - r_{m}\\right)}^{\\frac{9}{13}} r^{\\frac{211}{13}} + 25 \\, {\\left(r - r_{m}\\right)}^{\\frac{7}{13}} r^{\\frac{213}{13}} - 75 \\, {\\left(r - r_{m}\\right)}^{\\frac{5}{13}} r^{\\frac{215}{13}} + 105 \\, {\\left(r - r_{m}\\right)}^{\\frac{3}{13}} r^{\\frac{217}{13}} - 70 \\, {\\left(r - r_{m}\\right)}^{\\frac{1}{13}} r^{\\frac{219}{13}}\\right)} r_{m}^{2} - {\\left(8 \\, {\\left(r - r_{m}\\right)}^{\\frac{12}{13}} r^{17} - 4 \\, {\\left(r - r_{m}\\right)}^{\\frac{9}{13}} r^{\\frac{224}{13}} + 25 \\, {\\left(r - r_{m}\\right)}^{\\frac{7}{13}} r^{\\frac{226}{13}} - 60 \\, {\\left(r - r_{m}\\right)}^{\\frac{5}{13}} r^{\\frac{228}{13}} + 70 \\, {\\left(r - r_{m}\\right)}^{\\frac{3}{13}} r^{\\frac{230}{13}} - 40 \\, {\\left(r - r_{m}\\right)}^{\\frac{1}{13}} r^{\\frac{232}{13}}\\right)} r_{m}\\right)} r_{p}^{4} - 4 \\, {\\left(14 \\, {\\left(r - r_{m}\\right)}^{\\frac{12}{13}} r^{19} + 21 \\, {\\left(r - r_{m}\\right)}^{\\frac{11}{13}} r^{\\frac{248}{13}} - 126 \\, {\\left(r - r_{m}\\right)}^{\\frac{9}{13}} r^{\\frac{250}{13}} + 315 \\, {\\left(r - r_{m}\\right)}^{\\frac{7}{13}} r^{\\frac{252}{13}} - 420 \\, {\\left(r - r_{m}\\right)}^{\\frac{5}{13}} r^{\\frac{254}{13}} + 315 \\, {\\left(r - r_{m}\\right)}^{\\frac{3}{13}} r^{\\frac{256}{13}} - 126 \\, {\\left(r - r_{m}\\right)}^{\\frac{1}{13}} r^{\\frac{258}{13}} - 9 \\, r^{\\frac{259}{13}}\\right)} r_{m}^{3} - 84 \\, {\\left({\\left(r - r_{m}\\right)}^{\\frac{12}{13}} r^{19} + {\\left(r - r_{m}\\right)}^{\\frac{11}{13}} r^{\\frac{248}{13}} - 6 \\, {\\left(r - r_{m}\\right)}^{\\frac{9}{13}} r^{\\frac{250}{13}} + 15 \\, {\\left(r - r_{m}\\right)}^{\\frac{7}{13}} r^{\\frac{252}{13}} - 20 \\, {\\left(r - r_{m}\\right)}^{\\frac{5}{13}} r^{\\frac{254}{13}} + 15 \\, {\\left(r - r_{m}\\right)}^{\\frac{3}{13}} r^{\\frac{256}{13}} - 6 \\, {\\left(r - r_{m}\\right)}^{\\frac{1}{13}} r^{\\frac{258}{13}} + {\\left({\\left(r - r_{m}\\right)}^{\\frac{12}{13}} r^{11} - 6 \\, {\\left(r - r_{m}\\right)}^{\\frac{1}{13}} r^{\\frac{154}{13}}\\right)} r_{m}^{8} - {\\left(8 \\, {\\left(r - r_{m}\\right)}^{\\frac{12}{13}} r^{12} + 15 \\, {\\left(r - r_{m}\\right)}^{\\frac{3}{13}} r^{\\frac{165}{13}} - 48 \\, {\\left(r - r_{m}\\right)}^{\\frac{1}{13}} r^{\\frac{167}{13}}\\right)} r_{m}^{7} + {\\left(28 \\, {\\left(r - r_{m}\\right)}^{\\frac{12}{13}} r^{13} - 20 \\, {\\left(r - r_{m}\\right)}^{\\frac{5}{13}} r^{\\frac{176}{13}} + 105 \\, {\\left(r - r_{m}\\right)}^{\\frac{3}{13}} r^{\\frac{178}{13}} - 168 \\, {\\left(r - r_{m}\\right)}^{\\frac{1}{13}} r^{\\frac{180}{13}}\\right)} r_{m}^{6} - {\\left(56 \\, {\\left(r - r_{m}\\right)}^{\\frac{12}{13}} r^{14} + 15 \\, {\\left(r - r_{m}\\right)}^{\\frac{7}{13}} r^{\\frac{187}{13}} - 120 \\, {\\left(r - r_{m}\\right)}^{\\frac{5}{13}} r^{\\frac{189}{13}} + 315 \\, {\\left(r - r_{m}\\right)}^{\\frac{3}{13}} r^{\\frac{191}{13}} - 336 \\, {\\left(r - r_{m}\\right)}^{\\frac{1}{13}} r^{\\frac{193}{13}}\\right)} r_{m}^{5} + {\\left(70 \\, {\\left(r - r_{m}\\right)}^{\\frac{12}{13}} r^{15} - 6 \\, {\\left(r - r_{m}\\right)}^{\\frac{9}{13}} r^{\\frac{198}{13}} + 75 \\, {\\left(r - r_{m}\\right)}^{\\frac{7}{13}} r^{\\frac{200}{13}} - 300 \\, {\\left(r - r_{m}\\right)}^{\\frac{5}{13}} r^{\\frac{202}{13}} + 525 \\, {\\left(r - r_{m}\\right)}^{\\frac{3}{13}} r^{\\frac{204}{13}} - 420 \\, {\\left(r - r_{m}\\right)}^{\\frac{1}{13}} r^{\\frac{206}{13}}\\right)} r_{m}^{4} - {\\left(56 \\, {\\left(r - r_{m}\\right)}^{\\frac{12}{13}} r^{16} + {\\left(r - r_{m}\\right)}^{\\frac{11}{13}} r^{\\frac{209}{13}} - 24 \\, {\\left(r - r_{m}\\right)}^{\\frac{9}{13}} r^{\\frac{211}{13}} + 150 \\, {\\left(r - r_{m}\\right)}^{\\frac{7}{13}} r^{\\frac{213}{13}} - 400 \\, {\\left(r - r_{m}\\right)}^{\\frac{5}{13}} r^{\\frac{215}{13}} + 525 \\, {\\left(r - r_{m}\\right)}^{\\frac{3}{13}} r^{\\frac{217}{13}} - 336 \\, {\\left(r - r_{m}\\right)}^{\\frac{1}{13}} r^{\\frac{219}{13}}\\right)} r_{m}^{3} + {\\left(28 \\, {\\left(r - r_{m}\\right)}^{\\frac{12}{13}} r^{17} + 3 \\, {\\left(r - r_{m}\\right)}^{\\frac{11}{13}} r^{\\frac{222}{13}} - 36 \\, {\\left(r - r_{m}\\right)}^{\\frac{9}{13}} r^{\\frac{224}{13}} + 150 \\, {\\left(r - r_{m}\\right)}^{\\frac{7}{13}} r^{\\frac{226}{13}} - 300 \\, {\\left(r - r_{m}\\right)}^{\\frac{5}{13}} r^{\\frac{228}{13}} + 315 \\, {\\left(r - r_{m}\\right)}^{\\frac{3}{13}} r^{\\frac{230}{13}} - 168 \\, {\\left(r - r_{m}\\right)}^{\\frac{1}{13}} r^{\\frac{232}{13}}\\right)} r_{m}^{2} - {\\left(8 \\, {\\left(r - r_{m}\\right)}^{\\frac{12}{13}} r^{18} + 3 \\, {\\left(r - r_{m}\\right)}^{\\frac{11}{13}} r^{\\frac{235}{13}} - 24 \\, {\\left(r - r_{m}\\right)}^{\\frac{9}{13}} r^{\\frac{237}{13}} + 75 \\, {\\left(r - r_{m}\\right)}^{\\frac{7}{13}} r^{\\frac{239}{13}} - 120 \\, {\\left(r - r_{m}\\right)}^{\\frac{5}{13}} r^{\\frac{241}{13}} + 105 \\, {\\left(r - r_{m}\\right)}^{\\frac{3}{13}} r^{\\frac{243}{13}} - 48 \\, {\\left(r - r_{m}\\right)}^{\\frac{1}{13}} r^{\\frac{245}{13}}\\right)} r_{m}\\right)} r_{p}^{3} + {\\left(28 \\, {\\left(r - r_{m}\\right)}^{\\frac{12}{13}} r^{20} + 252 \\, {\\left(r - r_{m}\\right)}^{\\frac{11}{13}} r^{\\frac{261}{13}} - 756 \\, {\\left(r - r_{m}\\right)}^{\\frac{9}{13}} r^{\\frac{263}{13}} + 1260 \\, {\\left(r - r_{m}\\right)}^{\\frac{7}{13}} r^{\\frac{265}{13}} - 1260 \\, {\\left(r - r_{m}\\right)}^{\\frac{5}{13}} r^{\\frac{267}{13}} + 756 \\, {\\left(r - r_{m}\\right)}^{\\frac{3}{13}} r^{\\frac{269}{13}} + 9 \\, {\\left(r - r_{m}\\right)}^{\\frac{2}{13}} r^{\\frac{270}{13}} - 252 \\, {\\left(r - r_{m}\\right)}^{\\frac{1}{13}} r^{\\frac{271}{13}} - 108 \\, r^{\\frac{272}{13}}\\right)} r_{m}^{2} + 36 \\, {\\left({\\left(r - r_{m}\\right)}^{\\frac{12}{13}} r^{20} + 7 \\, {\\left(r - r_{m}\\right)}^{\\frac{11}{13}} r^{\\frac{261}{13}} - 21 \\, {\\left(r - r_{m}\\right)}^{\\frac{9}{13}} r^{\\frac{263}{13}} + 35 \\, {\\left(r - r_{m}\\right)}^{\\frac{7}{13}} r^{\\frac{265}{13}} - 35 \\, {\\left(r - r_{m}\\right)}^{\\frac{5}{13}} r^{\\frac{267}{13}} + 21 \\, {\\left(r - r_{m}\\right)}^{\\frac{3}{13}} r^{\\frac{269}{13}} - 7 \\, {\\left(r - r_{m}\\right)}^{\\frac{1}{13}} r^{\\frac{271}{13}} - r^{\\frac{272}{13}} + {\\left({\\left(r - r_{m}\\right)}^{\\frac{12}{13}} r^{12} - 7 \\, {\\left(r - r_{m}\\right)}^{\\frac{1}{13}} r^{\\frac{167}{13}}\\right)} r_{m}^{8} - {\\left(8 \\, {\\left(r - r_{m}\\right)}^{\\frac{12}{13}} r^{13} + 21 \\, {\\left(r - r_{m}\\right)}^{\\frac{3}{13}} r^{\\frac{178}{13}} - 56 \\, {\\left(r - r_{m}\\right)}^{\\frac{1}{13}} r^{\\frac{180}{13}}\\right)} r_{m}^{7} + 7 \\, {\\left(4 \\, {\\left(r - r_{m}\\right)}^{\\frac{12}{13}} r^{14} - 5 \\, {\\left(r - r_{m}\\right)}^{\\frac{5}{13}} r^{\\frac{189}{13}} + 21 \\, {\\left(r - r_{m}\\right)}^{\\frac{3}{13}} r^{\\frac{191}{13}} - 28 \\, {\\left(r - r_{m}\\right)}^{\\frac{1}{13}} r^{\\frac{193}{13}}\\right)} r_{m}^{6} - 7 \\, {\\left(8 \\, {\\left(r - r_{m}\\right)}^{\\frac{12}{13}} r^{15} + 5 \\, {\\left(r - r_{m}\\right)}^{\\frac{7}{13}} r^{\\frac{200}{13}} - 30 \\, {\\left(r - r_{m}\\right)}^{\\frac{5}{13}} r^{\\frac{202}{13}} + 63 \\, {\\left(r - r_{m}\\right)}^{\\frac{3}{13}} r^{\\frac{204}{13}} - 56 \\, {\\left(r - r_{m}\\right)}^{\\frac{1}{13}} r^{\\frac{206}{13}}\\right)} r_{m}^{5} + 7 \\, {\\left(10 \\, {\\left(r - r_{m}\\right)}^{\\frac{12}{13}} r^{16} - 3 \\, {\\left(r - r_{m}\\right)}^{\\frac{9}{13}} r^{\\frac{211}{13}} + 25 \\, {\\left(r - r_{m}\\right)}^{\\frac{7}{13}} r^{\\frac{213}{13}} - 75 \\, {\\left(r - r_{m}\\right)}^{\\frac{5}{13}} r^{\\frac{215}{13}} + 105 \\, {\\left(r - r_{m}\\right)}^{\\frac{3}{13}} r^{\\frac{217}{13}} - 70 \\, {\\left(r - r_{m}\\right)}^{\\frac{1}{13}} r^{\\frac{219}{13}}\\right)} r_{m}^{4} - {\\left(56 \\, {\\left(r - r_{m}\\right)}^{\\frac{12}{13}} r^{17} + 7 \\, {\\left(r - r_{m}\\right)}^{\\frac{11}{13}} r^{\\frac{222}{13}} - 84 \\, {\\left(r - r_{m}\\right)}^{\\frac{9}{13}} r^{\\frac{224}{13}} + 350 \\, {\\left(r - r_{m}\\right)}^{\\frac{7}{13}} r^{\\frac{226}{13}} - 700 \\, {\\left(r - r_{m}\\right)}^{\\frac{5}{13}} r^{\\frac{228}{13}} + 735 \\, {\\left(r - r_{m}\\right)}^{\\frac{3}{13}} r^{\\frac{230}{13}} - 392 \\, {\\left(r - r_{m}\\right)}^{\\frac{1}{13}} r^{\\frac{232}{13}} - r^{\\frac{233}{13}}\\right)} r_{m}^{3} + {\\left(28 \\, {\\left(r - r_{m}\\right)}^{\\frac{12}{13}} r^{18} + 21 \\, {\\left(r - r_{m}\\right)}^{\\frac{11}{13}} r^{\\frac{235}{13}} - 126 \\, {\\left(r - r_{m}\\right)}^{\\frac{9}{13}} r^{\\frac{237}{13}} + 350 \\, {\\left(r - r_{m}\\right)}^{\\frac{7}{13}} r^{\\frac{239}{13}} - 525 \\, {\\left(r - r_{m}\\right)}^{\\frac{5}{13}} r^{\\frac{241}{13}} + 441 \\, {\\left(r - r_{m}\\right)}^{\\frac{3}{13}} r^{\\frac{243}{13}} - 196 \\, {\\left(r - r_{m}\\right)}^{\\frac{1}{13}} r^{\\frac{245}{13}} - 3 \\, r^{\\frac{246}{13}}\\right)} r_{m}^{2} - {\\left(8 \\, {\\left(r - r_{m}\\right)}^{\\frac{12}{13}} r^{19} + 21 \\, {\\left(r - r_{m}\\right)}^{\\frac{11}{13}} r^{\\frac{248}{13}} - 84 \\, {\\left(r - r_{m}\\right)}^{\\frac{9}{13}} r^{\\frac{250}{13}} + 175 \\, {\\left(r - r_{m}\\right)}^{\\frac{7}{13}} r^{\\frac{252}{13}} - 210 \\, {\\left(r - r_{m}\\right)}^{\\frac{5}{13}} r^{\\frac{254}{13}} + 147 \\, {\\left(r - r_{m}\\right)}^{\\frac{3}{13}} r^{\\frac{256}{13}} - 56 \\, {\\left(r - r_{m}\\right)}^{\\frac{1}{13}} r^{\\frac{258}{13}} - 3 \\, r^{\\frac{259}{13}}\\right)} r_{m}\\right)} r_{p}^{2} - {\\left(8 \\, {\\left(r - r_{m}\\right)}^{\\frac{12}{13}} r^{21} + 252 \\, {\\left(r - r_{m}\\right)}^{\\frac{11}{13}} r^{\\frac{274}{13}} - 504 \\, {\\left(r - r_{m}\\right)}^{\\frac{9}{13}} r^{\\frac{276}{13}} + 630 \\, {\\left(r - r_{m}\\right)}^{\\frac{7}{13}} r^{\\frac{278}{13}} - 504 \\, {\\left(r - r_{m}\\right)}^{\\frac{5}{13}} r^{\\frac{280}{13}} - {\\left(r - r_{m}\\right)}^{\\frac{4}{13}} r^{\\frac{281}{13}} + 252 \\, {\\left(r - r_{m}\\right)}^{\\frac{3}{13}} r^{\\frac{282}{13}} + 18 \\, {\\left(r - r_{m}\\right)}^{\\frac{2}{13}} r^{\\frac{283}{13}} - 72 \\, {\\left(r - r_{m}\\right)}^{\\frac{1}{13}} r^{\\frac{284}{13}} - 108 \\, r^{\\frac{285}{13}}\\right)} r_{m} - 9 \\, {\\left({\\left(r - r_{m}\\right)}^{\\frac{12}{13}} r^{21} + 28 \\, {\\left(r - r_{m}\\right)}^{\\frac{11}{13}} r^{\\frac{274}{13}} - 56 \\, {\\left(r - r_{m}\\right)}^{\\frac{9}{13}} r^{\\frac{276}{13}} + 70 \\, {\\left(r - r_{m}\\right)}^{\\frac{7}{13}} r^{\\frac{278}{13}} - 56 \\, {\\left(r - r_{m}\\right)}^{\\frac{5}{13}} r^{\\frac{280}{13}} + 28 \\, {\\left(r - r_{m}\\right)}^{\\frac{3}{13}} r^{\\frac{282}{13}} + {\\left(r - r_{m}\\right)}^{\\frac{2}{13}} r^{\\frac{283}{13}} - 8 \\, {\\left(r - r_{m}\\right)}^{\\frac{1}{13}} r^{\\frac{284}{13}} - 8 \\, r^{\\frac{285}{13}} + {\\left({\\left(r - r_{m}\\right)}^{\\frac{12}{13}} r^{13} - 8 \\, {\\left(r - r_{m}\\right)}^{\\frac{1}{13}} r^{\\frac{180}{13}}\\right)} r_{m}^{8} - 4 \\, {\\left(2 \\, {\\left(r - r_{m}\\right)}^{\\frac{12}{13}} r^{14} + 7 \\, {\\left(r - r_{m}\\right)}^{\\frac{3}{13}} r^{\\frac{191}{13}} - 16 \\, {\\left(r - r_{m}\\right)}^{\\frac{1}{13}} r^{\\frac{193}{13}}\\right)} r_{m}^{7} + 28 \\, {\\left({\\left(r - r_{m}\\right)}^{\\frac{12}{13}} r^{15} - 2 \\, {\\left(r - r_{m}\\right)}^{\\frac{5}{13}} r^{\\frac{202}{13}} + 7 \\, {\\left(r - r_{m}\\right)}^{\\frac{3}{13}} r^{\\frac{204}{13}} - 8 \\, {\\left(r - r_{m}\\right)}^{\\frac{1}{13}} r^{\\frac{206}{13}}\\right)} r_{m}^{6} - 14 \\, {\\left(4 \\, {\\left(r - r_{m}\\right)}^{\\frac{12}{13}} r^{16} + 5 \\, {\\left(r - r_{m}\\right)}^{\\frac{7}{13}} r^{\\frac{213}{13}} - 24 \\, {\\left(r - r_{m}\\right)}^{\\frac{5}{13}} r^{\\frac{215}{13}} + 42 \\, {\\left(r - r_{m}\\right)}^{\\frac{3}{13}} r^{\\frac{217}{13}} - 32 \\, {\\left(r - r_{m}\\right)}^{\\frac{1}{13}} r^{\\frac{219}{13}}\\right)} r_{m}^{5} + 14 \\, {\\left(5 \\, {\\left(r - r_{m}\\right)}^{\\frac{12}{13}} r^{17} - 4 \\, {\\left(r - r_{m}\\right)}^{\\frac{9}{13}} r^{\\frac{224}{13}} + 25 \\, {\\left(r - r_{m}\\right)}^{\\frac{7}{13}} r^{\\frac{226}{13}} - 60 \\, {\\left(r - r_{m}\\right)}^{\\frac{5}{13}} r^{\\frac{228}{13}} + 70 \\, {\\left(r - r_{m}\\right)}^{\\frac{3}{13}} r^{\\frac{230}{13}} - 40 \\, {\\left(r - r_{m}\\right)}^{\\frac{1}{13}} r^{\\frac{232}{13}}\\right)} r_{m}^{4} - 4 \\, {\\left(14 \\, {\\left(r - r_{m}\\right)}^{\\frac{12}{13}} r^{18} + 7 \\, {\\left(r - r_{m}\\right)}^{\\frac{11}{13}} r^{\\frac{235}{13}} - 56 \\, {\\left(r - r_{m}\\right)}^{\\frac{9}{13}} r^{\\frac{237}{13}} + 175 \\, {\\left(r - r_{m}\\right)}^{\\frac{7}{13}} r^{\\frac{239}{13}} - 280 \\, {\\left(r - r_{m}\\right)}^{\\frac{5}{13}} r^{\\frac{241}{13}} + 245 \\, {\\left(r - r_{m}\\right)}^{\\frac{3}{13}} r^{\\frac{243}{13}} - 112 \\, {\\left(r - r_{m}\\right)}^{\\frac{1}{13}} r^{\\frac{245}{13}} - 2 \\, r^{\\frac{246}{13}}\\right)} r_{m}^{3} + {\\left(28 \\, {\\left(r - r_{m}\\right)}^{\\frac{12}{13}} r^{19} + 84 \\, {\\left(r - r_{m}\\right)}^{\\frac{11}{13}} r^{\\frac{248}{13}} - 336 \\, {\\left(r - r_{m}\\right)}^{\\frac{9}{13}} r^{\\frac{250}{13}} + 700 \\, {\\left(r - r_{m}\\right)}^{\\frac{7}{13}} r^{\\frac{252}{13}} - 840 \\, {\\left(r - r_{m}\\right)}^{\\frac{5}{13}} r^{\\frac{254}{13}} + 588 \\, {\\left(r - r_{m}\\right)}^{\\frac{3}{13}} r^{\\frac{256}{13}} + {\\left(r - r_{m}\\right)}^{\\frac{2}{13}} r^{\\frac{257}{13}} - 224 \\, {\\left(r - r_{m}\\right)}^{\\frac{1}{13}} r^{\\frac{258}{13}} - 24 \\, r^{\\frac{259}{13}}\\right)} r_{m}^{2} - 2 \\, {\\left(4 \\, {\\left(r - r_{m}\\right)}^{\\frac{12}{13}} r^{20} + 42 \\, {\\left(r - r_{m}\\right)}^{\\frac{11}{13}} r^{\\frac{261}{13}} - 112 \\, {\\left(r - r_{m}\\right)}^{\\frac{9}{13}} r^{\\frac{263}{13}} + 175 \\, {\\left(r - r_{m}\\right)}^{\\frac{7}{13}} r^{\\frac{265}{13}} - 168 \\, {\\left(r - r_{m}\\right)}^{\\frac{5}{13}} r^{\\frac{267}{13}} + 98 \\, {\\left(r - r_{m}\\right)}^{\\frac{3}{13}} r^{\\frac{269}{13}} + {\\left(r - r_{m}\\right)}^{\\frac{2}{13}} r^{\\frac{270}{13}} - 32 \\, {\\left(r - r_{m}\\right)}^{\\frac{1}{13}} r^{\\frac{271}{13}} - 12 \\, r^{\\frac{272}{13}}\\right)} r_{m}\\right)} r_{p}\\right)}} + \\frac{{\\left(-35 i \\, r r_{m} - 3 \\, {\\left(13 i \\, r - 16 i \\, r_{m}\\right)} r_{p}\\right)} a \\cos\\left({\\theta}\\right)}{26 \\, r^{5}}$"
      ],
      "text/plain": [
       "\\Psi_{2} = W_{\\alpha\\beta\\gamma\\delta}l^{\\alpha}m^{\\beta}\\bar{m}^{\\gamma}n^{\\delta} =  1/338*(140*(r - r_m)^(1/13)*r^(141/13)*r_m^10 + (169*(r - r_m)^(1/13)*r^(141/13) - 1820*(r - r_m)^(1/13)*r^(128/13)*r_m + 8772*(r - r_m)^(1/13)*r^(115/13)*r_m^2 - 24936*(r - r_m)^(1/13)*r^(102/13)*r_m^3 + 46326*(r - r_m)^(1/13)*r^(89/13)*r_m^4 - 58800*(r - r_m)^(1/13)*r^(76/13)*r_m^5 + 51660*(r - r_m)^(1/13)*r^(63/13)*r_m^6 - 31032*(r - r_m)^(1/13)*r^(50/13)*r_m^7 + 12201*(r - r_m)^(1/13)*r^(37/13)*r_m^8 - 2836*(r - r_m)^(1/13)*r^(24/13)*r_m^9 + 296*(r - r_m)^(1/13)*r^(11/13)*r_m^10)*r_p^10 + 3*(420*(r - r_m)^(3/13)*r^(152/13) - 421*(r - r_m)^(1/13)*r^(154/13))*r_m^9 + (1521*(r - r_m)^(3/13)*r^(152/13) - 1521*(r - r_m)^(1/13)*r^(154/13) - 2804*(r - r_m)^(1/13)*r^(24/13)*r_m^10 - 3*(888*(r - r_m)^(3/13)*r^(35/13) - 8929*(r - r_m)^(1/13)*r^(37/13))*r_m^9 + 3*(7620*(r - r_m)^(3/13)*r^(48/13) - 38291*(r - r_m)^(1/13)*r^(50/13))*r_m^8 - 9*(9661*(r - r_m)^(3/13)*r^(61/13) - 32348*(r - r_m)^(1/13)*r^(63/13))*r_m^7 + 21*(9159*(r - r_m)^(3/13)*r^(74/13) - 22988*(r - r_m)^(1/13)*r^(76/13))*r_m^6 - 21*(12981*(r - r_m)^(3/13)*r^(87/13) - 26050*(r - r_m)^(1/13)*r^(89/13))*r_m^5 + 21*(12219*(r - r_m)^(3/13)*r^(100/13) - 20422*(r - r_m)^(1/13)*r^(102/13))*r_m^4 - 3*(53445*(r - r_m)^(3/13)*r^(113/13) - 76516*(r - r_m)^(1/13)*r^(115/13))*r_m^3 + 3*(21363*(r - r_m)^(3/13)*r^(126/13) - 26744*(r - r_m)^(1/13)*r^(128/13))*r_m^2 - 13*(1143*(r - r_m)^(3/13)*r^(139/13) - 1271*(r - r_m)^(1/13)*r^(141/13))*r_m)*r_p^9 + 3*(1680*(r - r_m)^(5/13)*r^(163/13) - 3369*(r - r_m)^(3/13)*r^(165/13) + 1688*(r - r_m)^(1/13)*r^(167/13))*r_m^8 + 9*(676*(r - r_m)^(5/13)*r^(163/13) - 1352*(r - r_m)^(3/13)*r^(165/13) + 676*(r - r_m)^(1/13)*r^(167/13) + 1324*(r - r_m)^(1/13)*r^(37/13)*r_m^10 + (2508*(r - r_m)^(3/13)*r^(48/13) - 12607*(r - r_m)^(1/13)*r^(50/13))*r_m^9 + (1184*(r - r_m)^(5/13)*r^(59/13) - 21443*(r - r_m)^(3/13)*r^(61/13) + 53868*(r - r_m)^(1/13)*r^(63/13))*r_m^8 - (8976*(r - r_m)^(5/13)*r^(72/13) - 81229*(r - r_m)^(3/13)*r^(74/13) + 135972*(r - r_m)^(1/13)*r^(76/13))*r_m^7 + (29668*(r - r_m)^(5/13)*r^(85/13) - 178871*(r - r_m)^(3/13)*r^(87/13) + 224448*(r - r_m)^(1/13)*r^(89/13))*r_m^6 - (55816*(r - r_m)^(5/13)*r^(98/13) - 252217*(r - r_m)^(3/13)*r^(100/13) + 253050*(r - r_m)^(1/13)*r^(102/13))*r_m^5 + (65340*(r - r_m)^(5/13)*r^(111/13) - 236033*(r - r_m)^(3/13)*r^(113/13) + 197232*(r - r_m)^(1/13)*r^(115/13))*r_m^4 - (48704*(r - r_m)^(5/13)*r^(124/13) - 146503*(r - r_m)^(3/13)*r^(126/13) + 104868*(r - r_m)^(1/13)*r^(128/13))*r_m^3 + (22556*(r - r_m)^(5/13)*r^(137/13) - 58109*(r - r_m)^(3/13)*r^(139/13) + 36372*(r - r_m)^(1/13)*r^(141/13))*r_m^2 - 13*(456*(r - r_m)^(5/13)*r^(150/13) - 1027*(r - r_m)^(3/13)*r^(152/13) + 571*(r - r_m)^(1/13)*r^(154/13))*r_m)*r_p^8 + 3*(3920*(r - r_m)^(7/13)*r^(174/13) - 11796*(r - r_m)^(5/13)*r^(176/13) + 11823*(r - r_m)^(3/13)*r^(178/13) - 3948*(r - r_m)^(1/13)*r^(180/13))*r_m^7 + 12*(1183*(r - r_m)^(7/13)*r^(174/13) - 3549*(r - r_m)^(5/13)*r^(176/13) + 3549*(r - r_m)^(3/13)*r^(178/13) - 1183*(r - r_m)^(1/13)*r^(180/13) - 2492*(r - r_m)^(1/13)*r^(50/13)*r_m^10 - (7056*(r - r_m)^(3/13)*r^(61/13) - 23641*(r - r_m)^(1/13)*r^(63/13))*r_m^9 - 3*(2212*(r - r_m)^(5/13)*r^(72/13) - 20026*(r - r_m)^(3/13)*r^(74/13) + 33533*(r - r_m)^(1/13)*r^(76/13))*r_m^8 - (2072*(r - r_m)^(7/13)*r^(83/13) - 50073*(r - r_m)^(5/13)*r^(85/13) + 226527*(r - r_m)^(3/13)*r^(87/13) - 252756*(r - r_m)^(1/13)*r^(89/13))*r_m^7 + (13636*(r - r_m)^(7/13)*r^(96/13) - 164631*(r - r_m)^(5/13)*r^(98/13) + 496209*(r - r_m)^(3/13)*r^(100/13) - 415044*(r - r_m)^(1/13)*r^(102/13))*r_m^6 - 3*(12761*(r - r_m)^(7/13)*r^(109/13) - 102623*(r - r_m)^(5/13)*r^(111/13) + 231833*(r - r_m)^(3/13)*r^(113/13) - 155050*(r - r_m)^(1/13)*r^(115/13))*r_m^5 + (59395*(r - r_m)^(7/13)*r^(122/13) - 357915*(r - r_m)^(5/13)*r^(124/13) + 646401*(r - r_m)^(3/13)*r^(126/13) - 360066*(r - r_m)^(1/13)*r^(128/13))*r_m^4 - (54950*(r - r_m)^(7/13)*r^(135/13) - 264651*(r - r_m)^(5/13)*r^(137/13) + 398013*(r - r_m)^(3/13)*r^(139/13) - 189924*(r - r_m)^(1/13)*r^(141/13))*r_m^3 + 3*(10094*(r - r_m)^(7/13)*r^(148/13) - 40471*(r - r_m)^(5/13)*r^(150/13) + 52129*(r - r_m)^(3/13)*r^(152/13) - 21752*(r - r_m)^(1/13)*r^(154/13))*r_m^2 - 13*(707*(r - r_m)^(7/13)*r^(161/13) - 2427*(r - r_m)^(5/13)*r^(163/13) + 2733*(r - r_m)^(3/13)*r^(165/13) - 1013*(r - r_m)^(1/13)*r^(167/13))*r_m)*r_p^7 + 3*(5880*(r - r_m)^(9/13)*r^(185/13) - 23604*(r - r_m)^(7/13)*r^(187/13) + 35496*(r - r_m)^(5/13)*r^(189/13) - 23709*(r - r_m)^(3/13)*r^(191/13) + 5936*(r - r_m)^(1/13)*r^(193/13))*r_m^6 + 42*(507*(r - r_m)^(9/13)*r^(185/13) - 2028*(r - r_m)^(7/13)*r^(187/13) + 3042*(r - r_m)^(5/13)*r^(189/13) - 2028*(r - r_m)^(3/13)*r^(191/13) + 507*(r - r_m)^(1/13)*r^(193/13) + 1168*(r - r_m)^(1/13)*r^(63/13)*r_m^10 + 18*(244*(r - r_m)^(3/13)*r^(74/13) - 613*(r - r_m)^(1/13)*r^(76/13))*r_m^9 + 3*(2056*(r - r_m)^(5/13)*r^(85/13) - 12406*(r - r_m)^(3/13)*r^(87/13) + 15577*(r - r_m)^(1/13)*r^(89/13))*r_m^8 + 2*(1916*(r - r_m)^(7/13)*r^(96/13) - 23145*(r - r_m)^(5/13)*r^(98/13) + 69789*(r - r_m)^(3/13)*r^(100/13) - 58392*(r - r_m)^(1/13)*r^(102/13))*r_m^7 + 6*(148*(r - r_m)^(9/13)*r^(107/13) - 4177*(r - r_m)^(7/13)*r^(109/13) + 25209*(r - r_m)^(5/13)*r^(111/13) - 50645*(r - r_m)^(3/13)*r^(113/13) + 31766*(r - r_m)^(1/13)*r^(115/13))*r_m^6 - 6*(826*(r - r_m)^(9/13)*r^(120/13) - 11643*(r - r_m)^(7/13)*r^(122/13) + 46807*(r - r_m)^(5/13)*r^(124/13) - 70483*(r - r_m)^(3/13)*r^(126/13) + 35350*(r - r_m)^(1/13)*r^(128/13))*r_m^5 + (11451*(r - r_m)^(9/13)*r^(133/13) - 107480*(r - r_m)^(7/13)*r^(135/13) + 323790*(r - r_m)^(5/13)*r^(137/13) - 389802*(r - r_m)^(3/13)*r^(139/13) + 162834*(r - r_m)^(1/13)*r^(141/13))*r_m^4 - 6*(2334*(r - r_m)^(9/13)*r^(146/13) - 16410*(r - r_m)^(7/13)*r^(148/13) + 39513*(r - r_m)^(5/13)*r^(150/13) - 39613*(r - r_m)^(3/13)*r^(152/13) + 14176*(r - r_m)^(1/13)*r^(154/13))*r_m^3 + 6*(1591*(r - r_m)^(9/13)*r^(159/13) - 8937*(r - r_m)^(7/13)*r^(161/13) + 17915*(r - r_m)^(5/13)*r^(163/13) - 15383*(r - r_m)^(3/13)*r^(165/13) + 4814*(r - r_m)^(1/13)*r^(167/13))*r_m^2 - 26*(132*(r - r_m)^(9/13)*r^(172/13) - 617*(r - r_m)^(7/13)*r^(174/13) + 1059*(r - r_m)^(5/13)*r^(176/13) - 795*(r - r_m)^(3/13)*r^(178/13) + 221*(r - r_m)^(1/13)*r^(180/13))*r_m)*r_p^6 + 3*(5880*(r - r_m)^(11/13)*r^(196/13) - 29526*(r - r_m)^(9/13)*r^(198/13) + 59220*(r - r_m)^(7/13)*r^(200/13) - 59340*(r - r_m)^(5/13)*r^(202/13) + 29715*(r - r_m)^(3/13)*r^(204/13) - 5950*(r - r_m)^(1/13)*r^(206/13) - 3920*r^(207/13))*r_m^5 + 126*(169*(r - r_m)^(11/13)*r^(196/13) - 845*(r - r_m)^(9/13)*r^(198/13) + 1690*(r - r_m)^(7/13)*r^(200/13) - 1690*(r - r_m)^(5/13)*r^(202/13) + 845*(r - r_m)^(3/13)*r^(204/13) - 169*(r - r_m)^(1/13)*r^(206/13) - 436*(r - r_m)^(1/13)*r^(76/13)*r_m^10 - (2040*(r - r_m)^(3/13)*r^(87/13) - 4099*(r - r_m)^(1/13)*r^(89/13))*r_m^9 - (3800*(r - r_m)^(5/13)*r^(98/13) - 17192*(r - r_m)^(3/13)*r^(100/13) + 17265*(r - r_m)^(1/13)*r^(102/13))*r_m^8 - (3520*(r - r_m)^(7/13)*r^(109/13) - 28338*(r - r_m)^(5/13)*r^(111/13) + 64069*(r - r_m)^(3/13)*r^(113/13) - 42876*(r - r_m)^(1/13)*r^(115/13))*r_m^7 - (1620*(r - r_m)^(9/13)*r^(120/13) - 22852*(r - r_m)^(7/13)*r^(122/13) + 91918*(r - r_m)^(5/13)*r^(124/13) - 138467*(r - r_m)^(3/13)*r^(126/13) + 69468*(r - r_m)^(1/13)*r^(128/13))*r_m^6 - (296*(r - r_m)^(11/13)*r^(131/13) - 8963*(r - r_m)^(9/13)*r^(133/13) + 63150*(r - r_m)^(7/13)*r^(135/13) - 169210*(r - r_m)^(5/13)*r^(137/13) + 191065*(r - r_m)^(3/13)*r^(139/13) - 76650*(r - r_m)^(1/13)*r^(141/13))*r_m^5 + (1356*(r - r_m)^(11/13)*r^(144/13) - 20497*(r - r_m)^(9/13)*r^(146/13) + 96170*(r - r_m)^(7/13)*r^(148/13) - 193110*(r - r_m)^(5/13)*r^(150/13) + 174335*(r - r_m)^(3/13)*r^(152/13) - 58254*(r - r_m)^(1/13)*r^(154/13))*r_m^4 - (2461*(r - r_m)^(11/13)*r^(157/13) - 24758*(r - r_m)^(9/13)*r^(159/13) + 87020*(r - r_m)^(7/13)*r^(161/13) - 139670*(r - r_m)^(5/13)*r^(163/13) + 105007*(r - r_m)^(3/13)*r^(165/13) - 30060*(r - r_m)^(1/13)*r^(167/13))*r_m^3 + (2207*(r - r_m)^(11/13)*r^(170/13) - 16622*(r - r_m)^(9/13)*r^(172/13) + 46680*(r - r_m)^(7/13)*r^(174/13) - 62378*(r - r_m)^(5/13)*r^(176/13) + 40169*(r - r_m)^(3/13)*r^(178/13) - 10056*(r - r_m)^(1/13)*r^(180/13))*r_m^2 - 13*(75*(r - r_m)^(11/13)*r^(183/13) - 451*(r - r_m)^(9/13)*r^(185/13) + 1054*(r - r_m)^(7/13)*r^(187/13) - 1206*(r - r_m)^(5/13)*r^(189/13) + 679*(r - r_m)^(3/13)*r^(191/13) - 151*(r - r_m)^(1/13)*r^(193/13))*r_m)*r_p^5 - 3*(23646*(r - r_m)^(11/13)*r^(209/13) - 59304*(r - r_m)^(9/13)*r^(211/13) + 79240*(r - r_m)^(7/13)*r^(213/13) - 59520*(r - r_m)^(5/13)*r^(215/13) + 23835*(r - r_m)^(3/13)*r^(217/13) + 1680*(r - r_m)^(2/13)*r^(218/13) - 3976*(r - r_m)^(1/13)*r^(219/13) - 15764*r^(220/13))*r_m^4 - 42*(2028*(r - r_m)^(11/13)*r^(209/13) - 5070*(r - r_m)^(9/13)*r^(211/13) + 6760*(r - r_m)^(7/13)*r^(213/13) - 5070*(r - r_m)^(5/13)*r^(215/13) + 2028*(r - r_m)^(3/13)*r^(217/13) - 338*(r - r_m)^(1/13)*r^(219/13) - 338*r^(220/13) - 1012*(r - r_m)^(1/13)*r^(89/13)*r_m^10 - (5652*(r - r_m)^(3/13)*r^(100/13) - 9461*(r - r_m)^(1/13)*r^(102/13))*r_m^9 - 3*(4360*(r - r_m)^(5/13)*r^(111/13) - 15775*(r - r_m)^(3/13)*r^(113/13) + 13198*(r - r_m)^(1/13)*r^(115/13))*r_m^8 - (16040*(r - r_m)^(7/13)*r^(122/13) - 96810*(r - r_m)^(5/13)*r^(124/13) + 175047*(r - r_m)^(3/13)*r^(126/13) - 97596*(r - r_m)^(1/13)*r^(128/13))*r_m^7 - (10980*(r - r_m)^(9/13)*r^(133/13) - 103210*(r - r_m)^(7/13)*r^(135/13) + 311250*(r - r_m)^(5/13)*r^(137/13) - 374997*(r - r_m)^(3/13)*r^(139/13) + 156744*(r - r_m)^(1/13)*r^(141/13))*r_m^6 - (3972*(r - r_m)^(11/13)*r^(144/13) - 60105*(r - r_m)^(9/13)*r^(146/13) + 282210*(r - r_m)^(7/13)*r^(148/13) - 566970*(r - r_m)^(5/13)*r^(150/13) + 512043*(r - r_m)^(3/13)*r^(152/13) - 171150*(r - r_m)^(1/13)*r^(154/13) - 592*r^(155/13))*r_m^5 + (17961*(r - r_m)^(11/13)*r^(157/13) - 135690*(r - r_m)^(9/13)*r^(159/13) + 424300*(r - r_m)^(7/13)*r^(161/13) - 638850*(r - r_m)^(5/13)*r^(163/13) + 461307*(r - r_m)^(3/13)*r^(165/13) - 128436*(r - r_m)^(1/13)*r^(167/13) - 2712*r^(168/13))*r_m^4 - (32079*(r - r_m)^(11/13)*r^(170/13) - 161310*(r - r_m)^(9/13)*r^(172/13) + 377900*(r - r_m)^(7/13)*r^(174/13) - 454830*(r - r_m)^(5/13)*r^(176/13) + 273525*(r - r_m)^(3/13)*r^(178/13) - 65244*(r - r_m)^(1/13)*r^(180/13) - 4922*r^(181/13))*r_m^3 + (28191*(r - r_m)^(11/13)*r^(183/13) - 106140*(r - r_m)^(9/13)*r^(185/13) + 198690*(r - r_m)^(7/13)*r^(187/13) - 199110*(r - r_m)^(5/13)*r^(189/13) + 102567*(r - r_m)^(3/13)*r^(191/13) - 21396*(r - r_m)^(1/13)*r^(193/13) - 4414*r^(194/13))*r_m^2 - 13*(933*(r - r_m)^(11/13)*r^(196/13) - 2805*(r - r_m)^(9/13)*r^(198/13) + 4370*(r - r_m)^(7/13)*r^(200/13) - 3750*(r - r_m)^(5/13)*r^(202/13) + 1689*(r - r_m)^(3/13)*r^(204/13) - 313*(r - r_m)^(1/13)*r^(206/13) - 150*r^(207/13))*r_m)*r_p^4 + 3*(35658*(r - r_m)^(11/13)*r^(222/13) - 59556*(r - r_m)^(9/13)*r^(224/13) + 59640*(r - r_m)^(7/13)*r^(226/13) - 35820*(r - r_m)^(5/13)*r^(228/13) - 420*(r - r_m)^(4/13)*r^(229/13) + 11949*(r - r_m)^(3/13)*r^(230/13) + 5076*(r - r_m)^(2/13)*r^(231/13) - 1708*(r - r_m)^(1/13)*r^(232/13) - 23772*r^(233/13))*r_m^3 + 12*(10647*(r - r_m)^(11/13)*r^(222/13) - 17745*(r - r_m)^(9/13)*r^(224/13) + 17745*(r - r_m)^(7/13)*r^(226/13) - 10647*(r - r_m)^(5/13)*r^(228/13) + 3549*(r - r_m)^(3/13)*r^(230/13) + 507*(r - r_m)^(2/13)*r^(231/13) - 507*(r - r_m)^(1/13)*r^(232/13) - 3549*r^(233/13) - 1868*(r - r_m)^(1/13)*r^(102/13)*r_m^10 - 3*(4032*(r - r_m)^(3/13)*r^(113/13) - 5783*(r - r_m)^(1/13)*r^(115/13))*r_m^9 - 21*(1588*(r - r_m)^(5/13)*r^(124/13) - 4786*(r - r_m)^(3/13)*r^(126/13) + 3431*(r - r_m)^(1/13)*r^(128/13))*r_m^8 - (50680*(r - r_m)^(7/13)*r^(135/13) - 244587*(r - r_m)^(5/13)*r^(137/13) + 368403*(r - r_m)^(3/13)*r^(139/13) - 176004*(r - r_m)^(1/13)*r^(141/13))*r_m^7 - 21*(2180*(r - r_m)^(9/13)*r^(146/13) - 15360*(r - r_m)^(7/13)*r^(148/13) + 37041*(r - r_m)^(5/13)*r^(150/13) - 37177*(r - r_m)^(3/13)*r^(152/13) + 13316*(r - r_m)^(1/13)*r^(154/13))*r_m^6 - 7*(3504*(r - r_m)^(11/13)*r^(157/13) - 35325*(r - r_m)^(9/13)*r^(159/13) + 124335*(r - r_m)^(7/13)*r^(161/13) - 199761*(r - r_m)^(5/13)*r^(163/13) + 150297*(r - r_m)^(3/13)*r^(165/13) - 43050*(r - r_m)^(1/13)*r^(167/13) - 1028*r^(168/13))*r_m^5 + (109074*(r - r_m)^(11/13)*r^(170/13) - 549045*(r - r_m)^(9/13)*r^(172/13) + 1287125*(r - r_m)^(7/13)*r^(174/13) - 1549905*(r - r_m)^(5/13)*r^(176/13) + 932421*(r - r_m)^(3/13)*r^(178/13) + 888*(r - r_m)^(2/13)*r^(179/13) - 222474*(r - r_m)^(1/13)*r^(180/13) - 32417*r^(181/13))*r_m^4 - 3*(63567*(r - r_m)^(11/13)*r^(183/13) - 213010*(r - r_m)^(9/13)*r^(185/13) + 374150*(r - r_m)^(7/13)*r^(187/13) - 360171*(r - r_m)^(5/13)*r^(189/13) + 180467*(r - r_m)^(3/13)*r^(191/13) + 1060*(r - r_m)^(2/13)*r^(192/13) - 36892*(r - r_m)^(1/13)*r^(193/13) - 19208*r^(194/13))*r_m^3 + (162939*(r - r_m)^(11/13)*r^(196/13) - 408870*(r - r_m)^(9/13)*r^(198/13) + 573930*(r - r_m)^(7/13)*r^(200/13) - 460047*(r - r_m)^(5/13)*r^(202/13) + 197463*(r - r_m)^(3/13)*r^(204/13) + 4203*(r - r_m)^(2/13)*r^(205/13) - 35304*(r - r_m)^(1/13)*r^(206/13) - 50330*r^(207/13))*r_m^2 - 13*(5187*(r - r_m)^(11/13)*r^(209/13) - 10395*(r - r_m)^(9/13)*r^(211/13) + 12145*(r - r_m)^(7/13)*r^(213/13) - 8337*(r - r_m)^(5/13)*r^(215/13) + 3129*(r - r_m)^(3/13)*r^(217/13) + 186*(r - r_m)^(2/13)*r^(218/13) - 497*(r - r_m)^(1/13)*r^(219/13) - 1652*r^(220/13))*r_m)*r_p^3 - (71694*(r - r_m)^(11/13)*r^(235/13) - 89712*(r - r_m)^(9/13)*r^(237/13) + 71820*(r - r_m)^(7/13)*r^(239/13) + 140*(r - r_m)^(6/13)*r^(240/13) - 35928*(r - r_m)^(5/13)*r^(241/13) - 2547*(r - r_m)^(4/13)*r^(242/13) + 10269*(r - r_m)^(3/13)*r^(243/13) + 15336*(r - r_m)^(2/13)*r^(244/13) - 1284*(r - r_m)^(1/13)*r^(245/13) - 47796*r^(246/13))*r_m^2 - 9*(9464*(r - r_m)^(11/13)*r^(235/13) - 11830*(r - r_m)^(9/13)*r^(237/13) + 9464*(r - r_m)^(7/13)*r^(239/13) - 4732*(r - r_m)^(5/13)*r^(241/13) - 169*(r - r_m)^(4/13)*r^(242/13) + 1352*(r - r_m)^(3/13)*r^(243/13) + 1352*(r - r_m)^(2/13)*r^(244/13) - 169*(r - r_m)^(1/13)*r^(245/13) - 4732*r^(246/13) - 856*(r - r_m)^(1/13)*r^(115/13)*r_m^10 - 16*(393*(r - r_m)^(3/13)*r^(126/13) - 493*(r - r_m)^(1/13)*r^(128/13))*r_m^9 - (20048*(r - r_m)^(5/13)*r^(137/13) - 51764*(r - r_m)^(3/13)*r^(139/13) + 32457*(r - r_m)^(1/13)*r^(141/13))*r_m^8 - 4*(9044*(r - r_m)^(7/13)*r^(148/13) - 36351*(r - r_m)^(5/13)*r^(150/13) + 46909*(r - r_m)^(3/13)*r^(152/13) - 19602*(r - r_m)^(1/13)*r^(154/13))*r_m^7 - 28*(1440*(r - r_m)^(9/13)*r^(159/13) - 8111*(r - r_m)^(7/13)*r^(161/13) + 16291*(r - r_m)^(5/13)*r^(163/13) - 14009*(r - r_m)^(3/13)*r^(165/13) + 4389*(r - r_m)^(1/13)*r^(167/13))*r_m^6 - 28*(1012*(r - r_m)^(11/13)*r^(170/13) - 7645*(r - r_m)^(9/13)*r^(172/13) + 21513*(r - r_m)^(7/13)*r^(174/13) - 28789*(r - r_m)^(5/13)*r^(176/13) + 18559*(r - r_m)^(3/13)*r^(178/13) - 4650*(r - r_m)^(1/13)*r^(180/13) - 436*r^(181/13))*r_m^5 + 2*(61614*(r - r_m)^(11/13)*r^(183/13) - 232435*(r - r_m)^(9/13)*r^(185/13) + 435680*(r - r_m)^(7/13)*r^(187/13) - 437010*(r - r_m)^(5/13)*r^(189/13) + 225274*(r - r_m)^(3/13)*r^(191/13) + 1464*(r - r_m)^(2/13)*r^(192/13) - 47019*(r - r_m)^(1/13)*r^(193/13) - 26866*r^(194/13))*r_m^4 - 4*(52283*(r - r_m)^(11/13)*r^(196/13) - 131320*(r - r_m)^(9/13)*r^(198/13) + 184450*(r - r_m)^(7/13)*r^(200/13) - 147917*(r - r_m)^(5/13)*r^(202/13) - 74*(r - r_m)^(4/13)*r^(203/13) + 63511*(r - r_m)^(3/13)*r^(204/13) + 2543*(r - r_m)^(2/13)*r^(205/13) - 11358*(r - r_m)^(1/13)*r^(206/13) - 23170*r^(207/13))*r_m^3 + 4*(42847*(r - r_m)^(11/13)*r^(209/13) - 80605*(r - r_m)^(9/13)*r^(211/13) + 90489*(r - r_m)^(7/13)*r^(213/13) - 60431*(r - r_m)^(5/13)*r^(215/13) - 191*(r - r_m)^(4/13)*r^(216/13) + 22229*(r - r_m)^(3/13)*r^(217/13) + 3228*(r - r_m)^(2/13)*r^(218/13) - 3477*(r - r_m)^(1/13)*r^(219/13) - 19432*r^(220/13))*r_m^2 - 13*(5124*(r - r_m)^(11/13)*r^(222/13) - 7700*(r - r_m)^(9/13)*r^(224/13) + 7196*(r - r_m)^(7/13)*r^(226/13) - 4116*(r - r_m)^(5/13)*r^(228/13) - 49*(r - r_m)^(4/13)*r^(229/13) + 1324*(r - r_m)^(3/13)*r^(230/13) + 540*(r - r_m)^(2/13)*r^(231/13) - 184*(r - r_m)^(1/13)*r^(232/13) - 2408*r^(233/13))*r_m)*r_p^2 + 143*(126*(r - r_m)^(11/13)*r^(248/13) - 126*(r - r_m)^(9/13)*r^(250/13) + 84*(r - r_m)^(7/13)*r^(252/13) + (r - r_m)^(6/13)*r^(253/13) - 36*(r - r_m)^(5/13)*r^(254/13) - 9*(r - r_m)^(4/13)*r^(255/13) + 9*(r - r_m)^(3/13)*r^(256/13) + 36*(r - r_m)^(2/13)*r^(257/13) - (r - r_m)^(1/13)*r^(258/13) - 84*r^(259/13))*r_m + (21294*(r - r_m)^(11/13)*r^(248/13) - 21294*(r - r_m)^(9/13)*r^(250/13) + 14196*(r - r_m)^(7/13)*r^(252/13) + 169*(r - r_m)^(6/13)*r^(253/13) - 6084*(r - r_m)^(5/13)*r^(254/13) - 1521*(r - r_m)^(4/13)*r^(255/13) + 1521*(r - r_m)^(3/13)*r^(256/13) + 6084*(r - r_m)^(2/13)*r^(257/13) - 169*(r - r_m)^(1/13)*r^(258/13) - 14196*r^(259/13) - 1556*(r - r_m)^(1/13)*r^(128/13)*r_m^10 - (12744*(r - r_m)^(3/13)*r^(139/13) - 14203*(r - r_m)^(1/13)*r^(141/13))*r_m^9 - 3*(15312*(r - r_m)^(5/13)*r^(150/13) - 34572*(r - r_m)^(3/13)*r^(152/13) + 19259*(r - r_m)^(1/13)*r^(154/13))*r_m^8 - 3*(31808*(r - r_m)^(7/13)*r^(161/13) - 109500*(r - r_m)^(5/13)*r^(163/13) + 123567*(r - r_m)^(3/13)*r^(165/13) - 45876*(r - r_m)^(1/13)*r^(167/13))*r_m^7 - 3*(41832*(r - r_m)^(9/13)*r^(172/13) - 196168*(r - r_m)^(7/13)*r^(174/13) + 337476*(r - r_m)^(5/13)*r^(176/13) - 253785*(r - r_m)^(3/13)*r^(178/13) + 70644*(r - r_m)^(1/13)*r^(180/13))*r_m^6 - 3*(35952*(r - r_m)^(11/13)*r^(183/13) - 217014*(r - r_m)^(9/13)*r^(185/13) + 508452*(r - r_m)^(7/13)*r^(187/13) - 582828*(r - r_m)^(5/13)*r^(189/13) + 328587*(r - r_m)^(3/13)*r^(191/13) - 73150*(r - r_m)^(1/13)*r^(193/13) - 20048*r^(194/13))*r_m^5 + 3*(151536*(r - r_m)^(11/13)*r^(196/13) - 456834*(r - r_m)^(9/13)*r^(198/13) + 713020*(r - r_m)^(7/13)*r^(200/13) - 612660*(r - r_m)^(5/13)*r^(202/13) + 276213*(r - r_m)^(3/13)*r^(204/13) + 6912*(r - r_m)^(2/13)*r^(205/13) - 51226*(r - r_m)^(1/13)*r^(206/13) - 85260*r^(207/13))*r_m^4 - 3*(245994*(r - r_m)^(11/13)*r^(209/13) - 493836*(r - r_m)^(9/13)*r^(211/13) + 577640*(r - r_m)^(7/13)*r^(213/13) - 396852*(r - r_m)^(5/13)*r^(215/13) - 1308*(r - r_m)^(4/13)*r^(216/13) + 149037*(r - r_m)^(3/13)*r^(217/13) + 22872*(r - r_m)^(2/13)*r^(218/13) - 23684*(r - r_m)^(1/13)*r^(219/13) - 140224*r^(220/13))*r_m^3 + (564858*(r - r_m)^(11/13)*r^(222/13) - 849492*(r - r_m)^(9/13)*r^(224/13) + 794304*(r - r_m)^(7/13)*r^(226/13) + 296*(r - r_m)^(6/13)*r^(227/13) - 454500*(r - r_m)^(5/13)*r^(228/13) - 9423*(r - r_m)^(4/13)*r^(229/13) + 146241*(r - r_m)^(3/13)*r^(230/13) + 81108*(r - r_m)^(2/13)*r^(231/13) - 20328*(r - r_m)^(1/13)*r^(232/13) - 328776*r^(233/13))*r_m^2 - 13*(14994*(r - r_m)^(11/13)*r^(235/13) - 18018*(r - r_m)^(9/13)*r^(237/13) + 14028*(r - r_m)^(7/13)*r^(239/13) + 36*(r - r_m)^(6/13)*r^(240/13) - 6876*(r - r_m)^(5/13)*r^(241/13) - 540*(r - r_m)^(4/13)*r^(242/13) + 1935*(r - r_m)^(3/13)*r^(243/13) + 3024*(r - r_m)^(2/13)*r^(244/13) - 239*(r - r_m)^(1/13)*r^(245/13) - 9072*r^(246/13))*r_m)*r_p)/((r - r_m)^(12/13)*r^22 + 84*(r - r_m)^(11/13)*r^(287/13) - 126*(r - r_m)^(9/13)*r^(289/13) + 126*(r - r_m)^(7/13)*r^(291/13) - 84*(r - r_m)^(5/13)*r^(293/13) - (r - r_m)^(4/13)*r^(294/13) + 36*(r - r_m)^(3/13)*r^(295/13) + 9*(r - r_m)^(2/13)*r^(296/13) - 9*(r - r_m)^(1/13)*r^(297/13) - 36*r^(298/13) - ((r - r_m)^(12/13)*r^13 - 8*(r - r_m)^(12/13)*r^12*r_m + 28*(r - r_m)^(12/13)*r^11*r_m^2 - 56*(r - r_m)^(12/13)*r^10*r_m^3 + 70*(r - r_m)^(12/13)*r^9*r_m^4 - 56*(r - r_m)^(12/13)*r^8*r_m^5 + 28*(r - r_m)^(12/13)*r^7*r_m^6 - 8*(r - r_m)^(12/13)*r^6*r_m^7 + (r - r_m)^(12/13)*r^5*r_m^8)*r_p^9 + ((r - r_m)^(12/13)*r^14 - 9*(r - r_m)^(1/13)*r^(193/13))*r_m^8 + 9*((r - r_m)^(12/13)*r^14 - (r - r_m)^(1/13)*r^(193/13) + ((r - r_m)^(12/13)*r^6 - (r - r_m)^(1/13)*r^(89/13))*r_m^8 - 8*((r - r_m)^(12/13)*r^7 - (r - r_m)^(1/13)*r^(102/13))*r_m^7 + 28*((r - r_m)^(12/13)*r^8 - (r - r_m)^(1/13)*r^(115/13))*r_m^6 - 56*((r - r_m)^(12/13)*r^9 - (r - r_m)^(1/13)*r^(128/13))*r_m^5 + 70*((r - r_m)^(12/13)*r^10 - (r - r_m)^(1/13)*r^(141/13))*r_m^4 - 56*((r - r_m)^(12/13)*r^11 - (r - r_m)^(1/13)*r^(154/13))*r_m^3 + 28*((r - r_m)^(12/13)*r^12 - (r - r_m)^(1/13)*r^(167/13))*r_m^2 - 8*((r - r_m)^(12/13)*r^13 - (r - r_m)^(1/13)*r^(180/13))*r_m)*r_p^8 - 4*(2*(r - r_m)^(12/13)*r^15 + 9*(r - r_m)^(3/13)*r^(204/13) - 18*(r - r_m)^(1/13)*r^(206/13))*r_m^7 - 36*((r - r_m)^(12/13)*r^15 + (r - r_m)^(3/13)*r^(204/13) - 2*(r - r_m)^(1/13)*r^(206/13) + ((r - r_m)^(12/13)*r^7 - 2*(r - r_m)^(1/13)*r^(102/13))*r_m^8 - (8*(r - r_m)^(12/13)*r^8 + (r - r_m)^(3/13)*r^(113/13) - 16*(r - r_m)^(1/13)*r^(115/13))*r_m^7 + 7*(4*(r - r_m)^(12/13)*r^9 + (r - r_m)^(3/13)*r^(126/13) - 8*(r - r_m)^(1/13)*r^(128/13))*r_m^6 - 7*(8*(r - r_m)^(12/13)*r^10 + 3*(r - r_m)^(3/13)*r^(139/13) - 16*(r - r_m)^(1/13)*r^(141/13))*r_m^5 + 35*(2*(r - r_m)^(12/13)*r^11 + (r - r_m)^(3/13)*r^(152/13) - 4*(r - r_m)^(1/13)*r^(154/13))*r_m^4 - 7*(8*(r - r_m)^(12/13)*r^12 + 5*(r - r_m)^(3/13)*r^(165/13) - 16*(r - r_m)^(1/13)*r^(167/13))*r_m^3 + 7*(4*(r - r_m)^(12/13)*r^13 + 3*(r - r_m)^(3/13)*r^(178/13) - 8*(r - r_m)^(1/13)*r^(180/13))*r_m^2 - (8*(r - r_m)^(12/13)*r^14 + 7*(r - r_m)^(3/13)*r^(191/13) - 16*(r - r_m)^(1/13)*r^(193/13))*r_m)*r_p^7 + 28*((r - r_m)^(12/13)*r^16 - 3*(r - r_m)^(5/13)*r^(215/13) + 9*(r - r_m)^(3/13)*r^(217/13) - 9*(r - r_m)^(1/13)*r^(219/13))*r_m^6 + 84*((r - r_m)^(12/13)*r^16 - (r - r_m)^(5/13)*r^(215/13) + 3*(r - r_m)^(3/13)*r^(217/13) - 3*(r - r_m)^(1/13)*r^(219/13) + ((r - r_m)^(12/13)*r^8 - 3*(r - r_m)^(1/13)*r^(115/13))*r_m^8 - (8*(r - r_m)^(12/13)*r^9 + 3*(r - r_m)^(3/13)*r^(126/13) - 24*(r - r_m)^(1/13)*r^(128/13))*r_m^7 + (28*(r - r_m)^(12/13)*r^10 - (r - r_m)^(5/13)*r^(137/13) + 21*(r - r_m)^(3/13)*r^(139/13) - 84*(r - r_m)^(1/13)*r^(141/13))*r_m^6 - (56*(r - r_m)^(12/13)*r^11 - 6*(r - r_m)^(5/13)*r^(150/13) + 63*(r - r_m)^(3/13)*r^(152/13) - 168*(r - r_m)^(1/13)*r^(154/13))*r_m^5 + 5*(14*(r - r_m)^(12/13)*r^12 - 3*(r - r_m)^(5/13)*r^(163/13) + 21*(r - r_m)^(3/13)*r^(165/13) - 42*(r - r_m)^(1/13)*r^(167/13))*r_m^4 - (56*(r - r_m)^(12/13)*r^13 - 20*(r - r_m)^(5/13)*r^(176/13) + 105*(r - r_m)^(3/13)*r^(178/13) - 168*(r - r_m)^(1/13)*r^(180/13))*r_m^3 + (28*(r - r_m)^(12/13)*r^14 - 15*(r - r_m)^(5/13)*r^(189/13) + 63*(r - r_m)^(3/13)*r^(191/13) - 84*(r - r_m)^(1/13)*r^(193/13))*r_m^2 - (8*(r - r_m)^(12/13)*r^15 - 6*(r - r_m)^(5/13)*r^(202/13) + 21*(r - r_m)^(3/13)*r^(204/13) - 24*(r - r_m)^(1/13)*r^(206/13))*r_m)*r_p^6 - 14*(4*(r - r_m)^(12/13)*r^17 + 9*(r - r_m)^(7/13)*r^(226/13) - 36*(r - r_m)^(5/13)*r^(228/13) + 54*(r - r_m)^(3/13)*r^(230/13) - 36*(r - r_m)^(1/13)*r^(232/13))*r_m^5 - 126*((r - r_m)^(12/13)*r^17 + (r - r_m)^(7/13)*r^(226/13) - 4*(r - r_m)^(5/13)*r^(228/13) + 6*(r - r_m)^(3/13)*r^(230/13) - 4*(r - r_m)^(1/13)*r^(232/13) + ((r - r_m)^(12/13)*r^9 - 4*(r - r_m)^(1/13)*r^(128/13))*r_m^8 - 2*(4*(r - r_m)^(12/13)*r^10 + 3*(r - r_m)^(3/13)*r^(139/13) - 16*(r - r_m)^(1/13)*r^(141/13))*r_m^7 + 2*(14*(r - r_m)^(12/13)*r^11 - 2*(r - r_m)^(5/13)*r^(150/13) + 21*(r - r_m)^(3/13)*r^(152/13) - 56*(r - r_m)^(1/13)*r^(154/13))*r_m^6 - (56*(r - r_m)^(12/13)*r^12 + (r - r_m)^(7/13)*r^(161/13) - 24*(r - r_m)^(5/13)*r^(163/13) + 126*(r - r_m)^(3/13)*r^(165/13) - 224*(r - r_m)^(1/13)*r^(167/13))*r_m^5 + 5*(14*(r - r_m)^(12/13)*r^13 + (r - r_m)^(7/13)*r^(174/13) - 12*(r - r_m)^(5/13)*r^(176/13) + 42*(r - r_m)^(3/13)*r^(178/13) - 56*(r - r_m)^(1/13)*r^(180/13))*r_m^4 - 2*(28*(r - r_m)^(12/13)*r^14 + 5*(r - r_m)^(7/13)*r^(187/13) - 40*(r - r_m)^(5/13)*r^(189/13) + 105*(r - r_m)^(3/13)*r^(191/13) - 112*(r - r_m)^(1/13)*r^(193/13))*r_m^3 + 2*(14*(r - r_m)^(12/13)*r^15 + 5*(r - r_m)^(7/13)*r^(200/13) - 30*(r - r_m)^(5/13)*r^(202/13) + 63*(r - r_m)^(3/13)*r^(204/13) - 56*(r - r_m)^(1/13)*r^(206/13))*r_m^2 - (8*(r - r_m)^(12/13)*r^16 + 5*(r - r_m)^(7/13)*r^(213/13) - 24*(r - r_m)^(5/13)*r^(215/13) + 42*(r - r_m)^(3/13)*r^(217/13) - 32*(r - r_m)^(1/13)*r^(219/13))*r_m)*r_p^5 + 14*(5*(r - r_m)^(12/13)*r^18 - 9*(r - r_m)^(9/13)*r^(237/13) + 45*(r - r_m)^(7/13)*r^(239/13) - 90*(r - r_m)^(5/13)*r^(241/13) + 90*(r - r_m)^(3/13)*r^(243/13) - 45*(r - r_m)^(1/13)*r^(245/13))*r_m^4 + 126*((r - r_m)^(12/13)*r^18 - (r - r_m)^(9/13)*r^(237/13) + 5*(r - r_m)^(7/13)*r^(239/13) - 10*(r - r_m)^(5/13)*r^(241/13) + 10*(r - r_m)^(3/13)*r^(243/13) - 5*(r - r_m)^(1/13)*r^(245/13) + ((r - r_m)^(12/13)*r^10 - 5*(r - r_m)^(1/13)*r^(141/13))*r_m^8 - 2*(4*(r - r_m)^(12/13)*r^11 + 5*(r - r_m)^(3/13)*r^(152/13) - 20*(r - r_m)^(1/13)*r^(154/13))*r_m^7 + 2*(14*(r - r_m)^(12/13)*r^12 - 5*(r - r_m)^(5/13)*r^(163/13) + 35*(r - r_m)^(3/13)*r^(165/13) - 70*(r - r_m)^(1/13)*r^(167/13))*r_m^6 - (56*(r - r_m)^(12/13)*r^13 + 5*(r - r_m)^(7/13)*r^(174/13) - 60*(r - r_m)^(5/13)*r^(176/13) + 210*(r - r_m)^(3/13)*r^(178/13) - 280*(r - r_m)^(1/13)*r^(180/13))*r_m^5 + (70*(r - r_m)^(12/13)*r^14 - (r - r_m)^(9/13)*r^(185/13) + 25*(r - r_m)^(7/13)*r^(187/13) - 150*(r - r_m)^(5/13)*r^(189/13) + 350*(r - r_m)^(3/13)*r^(191/13) - 350*(r - r_m)^(1/13)*r^(193/13))*r_m^4 - 2*(28*(r - r_m)^(12/13)*r^15 - 2*(r - r_m)^(9/13)*r^(198/13) + 25*(r - r_m)^(7/13)*r^(200/13) - 100*(r - r_m)^(5/13)*r^(202/13) + 175*(r - r_m)^(3/13)*r^(204/13) - 140*(r - r_m)^(1/13)*r^(206/13))*r_m^3 + 2*(14*(r - r_m)^(12/13)*r^16 - 3*(r - r_m)^(9/13)*r^(211/13) + 25*(r - r_m)^(7/13)*r^(213/13) - 75*(r - r_m)^(5/13)*r^(215/13) + 105*(r - r_m)^(3/13)*r^(217/13) - 70*(r - r_m)^(1/13)*r^(219/13))*r_m^2 - (8*(r - r_m)^(12/13)*r^17 - 4*(r - r_m)^(9/13)*r^(224/13) + 25*(r - r_m)^(7/13)*r^(226/13) - 60*(r - r_m)^(5/13)*r^(228/13) + 70*(r - r_m)^(3/13)*r^(230/13) - 40*(r - r_m)^(1/13)*r^(232/13))*r_m)*r_p^4 - 4*(14*(r - r_m)^(12/13)*r^19 + 21*(r - r_m)^(11/13)*r^(248/13) - 126*(r - r_m)^(9/13)*r^(250/13) + 315*(r - r_m)^(7/13)*r^(252/13) - 420*(r - r_m)^(5/13)*r^(254/13) + 315*(r - r_m)^(3/13)*r^(256/13) - 126*(r - r_m)^(1/13)*r^(258/13) - 9*r^(259/13))*r_m^3 - 84*((r - r_m)^(12/13)*r^19 + (r - r_m)^(11/13)*r^(248/13) - 6*(r - r_m)^(9/13)*r^(250/13) + 15*(r - r_m)^(7/13)*r^(252/13) - 20*(r - r_m)^(5/13)*r^(254/13) + 15*(r - r_m)^(3/13)*r^(256/13) - 6*(r - r_m)^(1/13)*r^(258/13) + ((r - r_m)^(12/13)*r^11 - 6*(r - r_m)^(1/13)*r^(154/13))*r_m^8 - (8*(r - r_m)^(12/13)*r^12 + 15*(r - r_m)^(3/13)*r^(165/13) - 48*(r - r_m)^(1/13)*r^(167/13))*r_m^7 + (28*(r - r_m)^(12/13)*r^13 - 20*(r - r_m)^(5/13)*r^(176/13) + 105*(r - r_m)^(3/13)*r^(178/13) - 168*(r - r_m)^(1/13)*r^(180/13))*r_m^6 - (56*(r - r_m)^(12/13)*r^14 + 15*(r - r_m)^(7/13)*r^(187/13) - 120*(r - r_m)^(5/13)*r^(189/13) + 315*(r - r_m)^(3/13)*r^(191/13) - 336*(r - r_m)^(1/13)*r^(193/13))*r_m^5 + (70*(r - r_m)^(12/13)*r^15 - 6*(r - r_m)^(9/13)*r^(198/13) + 75*(r - r_m)^(7/13)*r^(200/13) - 300*(r - r_m)^(5/13)*r^(202/13) + 525*(r - r_m)^(3/13)*r^(204/13) - 420*(r - r_m)^(1/13)*r^(206/13))*r_m^4 - (56*(r - r_m)^(12/13)*r^16 + (r - r_m)^(11/13)*r^(209/13) - 24*(r - r_m)^(9/13)*r^(211/13) + 150*(r - r_m)^(7/13)*r^(213/13) - 400*(r - r_m)^(5/13)*r^(215/13) + 525*(r - r_m)^(3/13)*r^(217/13) - 336*(r - r_m)^(1/13)*r^(219/13))*r_m^3 + (28*(r - r_m)^(12/13)*r^17 + 3*(r - r_m)^(11/13)*r^(222/13) - 36*(r - r_m)^(9/13)*r^(224/13) + 150*(r - r_m)^(7/13)*r^(226/13) - 300*(r - r_m)^(5/13)*r^(228/13) + 315*(r - r_m)^(3/13)*r^(230/13) - 168*(r - r_m)^(1/13)*r^(232/13))*r_m^2 - (8*(r - r_m)^(12/13)*r^18 + 3*(r - r_m)^(11/13)*r^(235/13) - 24*(r - r_m)^(9/13)*r^(237/13) + 75*(r - r_m)^(7/13)*r^(239/13) - 120*(r - r_m)^(5/13)*r^(241/13) + 105*(r - r_m)^(3/13)*r^(243/13) - 48*(r - r_m)^(1/13)*r^(245/13))*r_m)*r_p^3 + (28*(r - r_m)^(12/13)*r^20 + 252*(r - r_m)^(11/13)*r^(261/13) - 756*(r - r_m)^(9/13)*r^(263/13) + 1260*(r - r_m)^(7/13)*r^(265/13) - 1260*(r - r_m)^(5/13)*r^(267/13) + 756*(r - r_m)^(3/13)*r^(269/13) + 9*(r - r_m)^(2/13)*r^(270/13) - 252*(r - r_m)^(1/13)*r^(271/13) - 108*r^(272/13))*r_m^2 + 36*((r - r_m)^(12/13)*r^20 + 7*(r - r_m)^(11/13)*r^(261/13) - 21*(r - r_m)^(9/13)*r^(263/13) + 35*(r - r_m)^(7/13)*r^(265/13) - 35*(r - r_m)^(5/13)*r^(267/13) + 21*(r - r_m)^(3/13)*r^(269/13) - 7*(r - r_m)^(1/13)*r^(271/13) - r^(272/13) + ((r - r_m)^(12/13)*r^12 - 7*(r - r_m)^(1/13)*r^(167/13))*r_m^8 - (8*(r - r_m)^(12/13)*r^13 + 21*(r - r_m)^(3/13)*r^(178/13) - 56*(r - r_m)^(1/13)*r^(180/13))*r_m^7 + 7*(4*(r - r_m)^(12/13)*r^14 - 5*(r - r_m)^(5/13)*r^(189/13) + 21*(r - r_m)^(3/13)*r^(191/13) - 28*(r - r_m)^(1/13)*r^(193/13))*r_m^6 - 7*(8*(r - r_m)^(12/13)*r^15 + 5*(r - r_m)^(7/13)*r^(200/13) - 30*(r - r_m)^(5/13)*r^(202/13) + 63*(r - r_m)^(3/13)*r^(204/13) - 56*(r - r_m)^(1/13)*r^(206/13))*r_m^5 + 7*(10*(r - r_m)^(12/13)*r^16 - 3*(r - r_m)^(9/13)*r^(211/13) + 25*(r - r_m)^(7/13)*r^(213/13) - 75*(r - r_m)^(5/13)*r^(215/13) + 105*(r - r_m)^(3/13)*r^(217/13) - 70*(r - r_m)^(1/13)*r^(219/13))*r_m^4 - (56*(r - r_m)^(12/13)*r^17 + 7*(r - r_m)^(11/13)*r^(222/13) - 84*(r - r_m)^(9/13)*r^(224/13) + 350*(r - r_m)^(7/13)*r^(226/13) - 700*(r - r_m)^(5/13)*r^(228/13) + 735*(r - r_m)^(3/13)*r^(230/13) - 392*(r - r_m)^(1/13)*r^(232/13) - r^(233/13))*r_m^3 + (28*(r - r_m)^(12/13)*r^18 + 21*(r - r_m)^(11/13)*r^(235/13) - 126*(r - r_m)^(9/13)*r^(237/13) + 350*(r - r_m)^(7/13)*r^(239/13) - 525*(r - r_m)^(5/13)*r^(241/13) + 441*(r - r_m)^(3/13)*r^(243/13) - 196*(r - r_m)^(1/13)*r^(245/13) - 3*r^(246/13))*r_m^2 - (8*(r - r_m)^(12/13)*r^19 + 21*(r - r_m)^(11/13)*r^(248/13) - 84*(r - r_m)^(9/13)*r^(250/13) + 175*(r - r_m)^(7/13)*r^(252/13) - 210*(r - r_m)^(5/13)*r^(254/13) + 147*(r - r_m)^(3/13)*r^(256/13) - 56*(r - r_m)^(1/13)*r^(258/13) - 3*r^(259/13))*r_m)*r_p^2 - (8*(r - r_m)^(12/13)*r^21 + 252*(r - r_m)^(11/13)*r^(274/13) - 504*(r - r_m)^(9/13)*r^(276/13) + 630*(r - r_m)^(7/13)*r^(278/13) - 504*(r - r_m)^(5/13)*r^(280/13) - (r - r_m)^(4/13)*r^(281/13) + 252*(r - r_m)^(3/13)*r^(282/13) + 18*(r - r_m)^(2/13)*r^(283/13) - 72*(r - r_m)^(1/13)*r^(284/13) - 108*r^(285/13))*r_m - 9*((r - r_m)^(12/13)*r^21 + 28*(r - r_m)^(11/13)*r^(274/13) - 56*(r - r_m)^(9/13)*r^(276/13) + 70*(r - r_m)^(7/13)*r^(278/13) - 56*(r - r_m)^(5/13)*r^(280/13) + 28*(r - r_m)^(3/13)*r^(282/13) + (r - r_m)^(2/13)*r^(283/13) - 8*(r - r_m)^(1/13)*r^(284/13) - 8*r^(285/13) + ((r - r_m)^(12/13)*r^13 - 8*(r - r_m)^(1/13)*r^(180/13))*r_m^8 - 4*(2*(r - r_m)^(12/13)*r^14 + 7*(r - r_m)^(3/13)*r^(191/13) - 16*(r - r_m)^(1/13)*r^(193/13))*r_m^7 + 28*((r - r_m)^(12/13)*r^15 - 2*(r - r_m)^(5/13)*r^(202/13) + 7*(r - r_m)^(3/13)*r^(204/13) - 8*(r - r_m)^(1/13)*r^(206/13))*r_m^6 - 14*(4*(r - r_m)^(12/13)*r^16 + 5*(r - r_m)^(7/13)*r^(213/13) - 24*(r - r_m)^(5/13)*r^(215/13) + 42*(r - r_m)^(3/13)*r^(217/13) - 32*(r - r_m)^(1/13)*r^(219/13))*r_m^5 + 14*(5*(r - r_m)^(12/13)*r^17 - 4*(r - r_m)^(9/13)*r^(224/13) + 25*(r - r_m)^(7/13)*r^(226/13) - 60*(r - r_m)^(5/13)*r^(228/13) + 70*(r - r_m)^(3/13)*r^(230/13) - 40*(r - r_m)^(1/13)*r^(232/13))*r_m^4 - 4*(14*(r - r_m)^(12/13)*r^18 + 7*(r - r_m)^(11/13)*r^(235/13) - 56*(r - r_m)^(9/13)*r^(237/13) + 175*(r - r_m)^(7/13)*r^(239/13) - 280*(r - r_m)^(5/13)*r^(241/13) + 245*(r - r_m)^(3/13)*r^(243/13) - 112*(r - r_m)^(1/13)*r^(245/13) - 2*r^(246/13))*r_m^3 + (28*(r - r_m)^(12/13)*r^19 + 84*(r - r_m)^(11/13)*r^(248/13) - 336*(r - r_m)^(9/13)*r^(250/13) + 700*(r - r_m)^(7/13)*r^(252/13) - 840*(r - r_m)^(5/13)*r^(254/13) + 588*(r - r_m)^(3/13)*r^(256/13) + (r - r_m)^(2/13)*r^(257/13) - 224*(r - r_m)^(1/13)*r^(258/13) - 24*r^(259/13))*r_m^2 - 2*(4*(r - r_m)^(12/13)*r^20 + 42*(r - r_m)^(11/13)*r^(261/13) - 112*(r - r_m)^(9/13)*r^(263/13) + 175*(r - r_m)^(7/13)*r^(265/13) - 168*(r - r_m)^(5/13)*r^(267/13) + 98*(r - r_m)^(3/13)*r^(269/13) + (r - r_m)^(2/13)*r^(270/13) - 32*(r - r_m)^(1/13)*r^(271/13) - 12*r^(272/13))*r_m)*r_p) + 1/26*(-35*I*r*r_m - 3*(13*I*r - 16*I*r_m)*r_p)*a*cos(th)/r^5"
      ]
     },
     "metadata": {},
     "output_type": "display_data"
    }
   ],
   "source": [
    "print('1st contraction', Weyl_tensor.tensor_type())\n",
    "Psi2 = Weyl_tensor.contract(0, tetrad_L, 0)\n",
    "Psi2.apply_map(lambda u: u.taylor(a,0,1))\n",
    "print('2nd contraction', Psi2.tensor_type())\n",
    "Psi2 = Psi2.contract(0, tetrad_Mr, 0)\n",
    "Psi2.apply_map(lambda u: u.taylor(a,0,1))\n",
    "print('3rd contraction', Psi2.tensor_type())\n",
    "Psi2 = Psi2.contract(0, tetrad_Mbar, 0)\n",
    "Psi2.apply_map(lambda u: u.taylor(a,0,1))\n",
    "print('4th contraction', Psi2.tensor_type())\n",
    "Psi2 = Psi2.contract(0, tetrad_N, 0)\n",
    "Psi2 = Psi2.expr().taylor(a,0,1)\n",
    "latex_str = r'\\Psi_{2} = W_{\\alpha\\beta\\gamma\\delta}l^{\\alpha}m^{\\beta}\\bar{m}^{\\gamma}n^{\\delta} = ' \n",
    "show(LatexExpr(latex_str), Psi2)"
   ]
  },
  {
   "cell_type": "markdown",
   "id": "f53038b5",
   "metadata": {},
   "source": [
    "## Scalar III"
   ]
  },
  {
   "cell_type": "code",
   "execution_count": 28,
   "id": "62169691",
   "metadata": {},
   "outputs": [
    {
     "name": "stdout",
     "output_type": "stream",
     "text": [
      "1st contraction (0, 4)\n",
      "2nd contraction (0, 3)\n",
      "3rd contraction (0, 2)\n",
      "4th contraction (0, 1)\n"
     ]
    },
    {
     "data": {
      "text/html": [
       "<html>\\(\\displaystyle \\Psi_{3} = W_{\\alpha\\beta\\gamma\\delta}l^{\\alpha}n^{\\beta}\\bar{m}^{\\gamma}n^{\\delta} =  \\frac{{\\left(-13860 i \\, r^{\\frac{76}{13}} r_{m}^{7} - 3 \\, {\\left(5746 i \\, {\\left(r - r_{m}\\right)}^{\\frac{11}{13}} r^{6} + 13860 i \\, {\\left(r - r_{m}\\right)}^{\\frac{2}{13}} r^{\\frac{87}{13}} - 36103 i \\, r^{\\frac{89}{13}}\\right)} r_{m}^{6} + {\\left(44785 i \\, {\\left(r - r_{m}\\right)}^{\\frac{11}{13}} r^{7} - 41580 i \\, {\\left(r - r_{m}\\right)}^{\\frac{4}{13}} r^{\\frac{98}{13}} + 203579 i \\, {\\left(r - r_{m}\\right)}^{\\frac{2}{13}} r^{\\frac{100}{13}} - 220980 i \\, r^{\\frac{102}{13}}\\right)} r_{m}^{5} + {\\left(-28561 i \\, {\\left(r - r_{m}\\right)}^{\\frac{11}{13}} r^{7} + 28561 i \\, {\\left(r - r_{m}\\right)}^{\\frac{2}{13}} r^{\\frac{100}{13}} + 29304 i \\, r^{\\frac{11}{13}} r_{m}^{7} - 6 \\, {\\left(-5915 i \\, {\\left(r - r_{m}\\right)}^{\\frac{11}{13}} r + 22374 i \\, r^{\\frac{24}{13}}\\right)} r_{m}^{6} + {\\left(-111202 i \\, {\\left(r - r_{m}\\right)}^{\\frac{11}{13}} r^{2} - 50024 i \\, {\\left(r - r_{m}\\right)}^{\\frac{2}{13}} r^{\\frac{35}{13}} + 243639 i \\, r^{\\frac{37}{13}}\\right)} r_{m}^{5} - 3 \\, {\\left(-20449 i \\, {\\left(r - r_{m}\\right)}^{\\frac{11}{13}} r^{3} - 76388 i \\, {\\left(r - r_{m}\\right)}^{\\frac{2}{13}} r^{\\frac{48}{13}} + 72831 i \\, r^{\\frac{50}{13}}\\right)} r_{m}^{4} - 13 \\, {\\left(-12064 i \\, {\\left(r - r_{m}\\right)}^{\\frac{11}{13}} r^{4} + 31993 i \\, {\\left(r - r_{m}\\right)}^{\\frac{2}{13}} r^{\\frac{61}{13}} - 7425 i \\, r^{\\frac{63}{13}}\\right)} r_{m}^{3} - 169 \\, {\\left(1532 i \\, {\\left(r - r_{m}\\right)}^{\\frac{11}{13}} r^{5} - 2207 i \\, {\\left(r - r_{m}\\right)}^{\\frac{2}{13}} r^{\\frac{74}{13}} + 99 i \\, r^{\\frac{76}{13}}\\right)} r_{m}^{2} - 6591 \\, {\\left(-22 i \\, {\\left(r - r_{m}\\right)}^{\\frac{11}{13}} r^{6} + 25 i \\, {\\left(r - r_{m}\\right)}^{\\frac{2}{13}} r^{\\frac{87}{13}}\\right)} r_{m}\\right)} r_{p}^{5} + {\\left(-6760 i \\, {\\left(r - r_{m}\\right)}^{\\frac{11}{13}} r^{8} - 13860 i \\, {\\left(r - r_{m}\\right)}^{\\frac{6}{13}} r^{\\frac{109}{13}} + 174843 i \\, {\\left(r - r_{m}\\right)}^{\\frac{4}{13}} r^{\\frac{111}{13}} - 309458 i \\, {\\left(r - r_{m}\\right)}^{\\frac{2}{13}} r^{\\frac{113}{13}} + 79185 i \\, r^{\\frac{115}{13}}\\right)} r_{m}^{4} + {\\left(114244 i \\, {\\left(r - r_{m}\\right)}^{\\frac{11}{13}} r^{8} + 85683 i \\, {\\left(r - r_{m}\\right)}^{\\frac{4}{13}} r^{\\frac{111}{13}} - 114244 i \\, {\\left(r - r_{m}\\right)}^{\\frac{2}{13}} r^{\\frac{113}{13}} - 85683 i \\, r^{\\frac{115}{13}} - 131076 i \\, r^{\\frac{24}{13}} r_{m}^{7} - 3 \\, {\\left(53066 i \\, {\\left(r - r_{m}\\right)}^{\\frac{11}{13}} r^{2} + 29304 i \\, {\\left(r - r_{m}\\right)}^{\\frac{2}{13}} r^{\\frac{35}{13}} - 233347 i \\, r^{\\frac{37}{13}}\\right)} r_{m}^{6} + {\\left(489593 i \\, {\\left(r - r_{m}\\right)}^{\\frac{11}{13}} r^{3} + 538576 i \\, {\\left(r - r_{m}\\right)}^{\\frac{2}{13}} r^{\\frac{48}{13}} - 1394787 i \\, r^{\\frac{50}{13}}\\right)} r_{m}^{5} - 2 \\, {\\left(126074 i \\, {\\left(r - r_{m}\\right)}^{\\frac{11}{13}} r^{4} - 75036 i \\, {\\left(r - r_{m}\\right)}^{\\frac{4}{13}} r^{\\frac{59}{13}} + 713950 i \\, {\\left(r - r_{m}\\right)}^{\\frac{2}{13}} r^{\\frac{61}{13}} - 558459 i \\, r^{\\frac{63}{13}}\\right)} r_{m}^{4} - 13 \\, {\\left(54106 i \\, {\\left(r - r_{m}\\right)}^{\\frac{11}{13}} r^{5} + 41340 i \\, {\\left(r - r_{m}\\right)}^{\\frac{4}{13}} r^{\\frac{72}{13}} - 157423 i \\, {\\left(r - r_{m}\\right)}^{\\frac{2}{13}} r^{\\frac{74}{13}} - 5337 i \\, r^{\\frac{76}{13}}\\right)} r_{m}^{3} - 169 \\, {\\left(-6598 i \\, {\\left(r - r_{m}\\right)}^{\\frac{11}{13}} r^{6} - 4203 i \\, {\\left(r - r_{m}\\right)}^{\\frac{4}{13}} r^{\\frac{85}{13}} + 9694 i \\, {\\left(r - r_{m}\\right)}^{\\frac{2}{13}} r^{\\frac{87}{13}} + 4200 i \\, r^{\\frac{89}{13}}\\right)} r_{m}^{2} - 2197 \\, {\\left(275 i \\, {\\left(r - r_{m}\\right)}^{\\frac{11}{13}} r^{7} + 186 i \\, {\\left(r - r_{m}\\right)}^{\\frac{4}{13}} r^{\\frac{98}{13}} - 311 i \\, {\\left(r - r_{m}\\right)}^{\\frac{2}{13}} r^{\\frac{100}{13}} - 198 i \\, r^{\\frac{102}{13}}\\right)} r_{m}\\right)} r_{p}^{4} - 65 \\, {\\left(1170 i \\, {\\left(r - r_{m}\\right)}^{\\frac{11}{13}} r^{9} - 1323 i \\, {\\left(r - r_{m}\\right)}^{\\frac{6}{13}} r^{\\frac{122}{13}} + 4151 i \\, {\\left(r - r_{m}\\right)}^{\\frac{4}{13}} r^{\\frac{124}{13}} - 1941 i \\, {\\left(r - r_{m}\\right)}^{\\frac{2}{13}} r^{\\frac{126}{13}} - 3279 i \\, r^{\\frac{128}{13}}\\right)} r_{m}^{3} + {\\left(-171366 i \\, {\\left(r - r_{m}\\right)}^{\\frac{11}{13}} r^{9} + 85683 i \\, {\\left(r - r_{m}\\right)}^{\\frac{6}{13}} r^{\\frac{122}{13}} - 257049 i \\, {\\left(r - r_{m}\\right)}^{\\frac{4}{13}} r^{\\frac{124}{13}} + 85683 i \\, {\\left(r - r_{m}\\right)}^{\\frac{2}{13}} r^{\\frac{126}{13}} + 257049 i \\, r^{\\frac{128}{13}} + 231264 i \\, r^{\\frac{37}{13}} r_{m}^{7} - 12 \\, {\\left(-23491 i \\, {\\left(r - r_{m}\\right)}^{\\frac{11}{13}} r^{3} - 25443 i \\, {\\left(r - r_{m}\\right)}^{\\frac{2}{13}} r^{\\frac{48}{13}} + 116914 i \\, r^{\\frac{50}{13}}\\right)} r_{m}^{6} + {\\left(-846352 i \\, {\\left(r - r_{m}\\right)}^{\\frac{11}{13}} r^{4} + 87912 i \\, {\\left(r - r_{m}\\right)}^{\\frac{4}{13}} r^{\\frac{59}{13}} - 1573919 i \\, {\\left(r - r_{m}\\right)}^{\\frac{2}{13}} r^{\\frac{61}{13}} + 2943507 i \\, r^{\\frac{63}{13}}\\right)} r_{m}^{5} + {\\left(395122 i \\, {\\left(r - r_{m}\\right)}^{\\frac{11}{13}} r^{5} - 748104 i \\, {\\left(r - r_{m}\\right)}^{\\frac{4}{13}} r^{\\frac{72}{13}} + 3362669 i \\, {\\left(r - r_{m}\\right)}^{\\frac{2}{13}} r^{\\frac{74}{13}} - 2118981 i \\, r^{\\frac{76}{13}}\\right)} r_{m}^{4} - 78 \\, {\\left(-15964 i \\, {\\left(r - r_{m}\\right)}^{\\frac{11}{13}} r^{6} + 1924 i \\, {\\left(r - r_{m}\\right)}^{\\frac{6}{13}} r^{\\frac{83}{13}} - 25845 i \\, {\\left(r - r_{m}\\right)}^{\\frac{4}{13}} r^{\\frac{85}{13}} + 48583 i \\, {\\left(r - r_{m}\\right)}^{\\frac{2}{13}} r^{\\frac{87}{13}} + 12826 i \\, r^{\\frac{89}{13}}\\right)} r_{m}^{3} - 676 \\, {\\left(2768 i \\, {\\left(r - r_{m}\\right)}^{\\frac{11}{13}} r^{7} - 573 i \\, {\\left(r - r_{m}\\right)}^{\\frac{6}{13}} r^{\\frac{96}{13}} + 3546 i \\, {\\left(r - r_{m}\\right)}^{\\frac{4}{13}} r^{\\frac{98}{13}} - 3470 i \\, {\\left(r - r_{m}\\right)}^{\\frac{2}{13}} r^{\\frac{100}{13}} - 3651 i \\, r^{\\frac{102}{13}}\\right)} r_{m}^{2} - 2197 \\, {\\left(-440 i \\, {\\left(r - r_{m}\\right)}^{\\frac{11}{13}} r^{8} + 147 i \\, {\\left(r - r_{m}\\right)}^{\\frac{6}{13}} r^{\\frac{109}{13}} - 591 i \\, {\\left(r - r_{m}\\right)}^{\\frac{4}{13}} r^{\\frac{111}{13}} + 335 i \\, {\\left(r - r_{m}\\right)}^{\\frac{2}{13}} r^{\\frac{113}{13}} + 627 i \\, r^{\\frac{115}{13}}\\right)} r_{m}\\right)} r_{p}^{3} - 169 \\, {\\left(-470 i \\, {\\left(r - r_{m}\\right)}^{\\frac{11}{13}} r^{10} - 140 i \\, {\\left(r - r_{m}\\right)}^{\\frac{8}{13}} r^{\\frac{133}{13}} + 849 i \\, {\\left(r - r_{m}\\right)}^{\\frac{6}{13}} r^{\\frac{135}{13}} - 1094 i \\, {\\left(r - r_{m}\\right)}^{\\frac{4}{13}} r^{\\frac{137}{13}} - 412 i \\, {\\left(r - r_{m}\\right)}^{\\frac{2}{13}} r^{\\frac{139}{13}} + 1410 i \\, r^{\\frac{141}{13}}\\right)} r_{m}^{2} + {\\left(114244 i \\, {\\left(r - r_{m}\\right)}^{\\frac{11}{13}} r^{10} + 28561 i \\, {\\left(r - r_{m}\\right)}^{\\frac{8}{13}} r^{\\frac{133}{13}} - 171366 i \\, {\\left(r - r_{m}\\right)}^{\\frac{6}{13}} r^{\\frac{135}{13}} + 228488 i \\, {\\left(r - r_{m}\\right)}^{\\frac{4}{13}} r^{\\frac{137}{13}} + 57122 i \\, {\\left(r - r_{m}\\right)}^{\\frac{2}{13}} r^{\\frac{139}{13}} - 257049 i \\, r^{\\frac{141}{13}} - 200376 i \\, r^{\\frac{50}{13}} r_{m}^{7} - 6 \\, {\\left(40898 i \\, {\\left(r - r_{m}\\right)}^{\\frac{11}{13}} r^{4} + 64746 i \\, {\\left(r - r_{m}\\right)}^{\\frac{2}{13}} r^{\\frac{61}{13}} - 225183 i \\, r^{\\frac{63}{13}}\\right)} r_{m}^{6} + {\\left(713518 i \\, {\\left(r - r_{m}\\right)}^{\\frac{11}{13}} r^{5} - 217404 i \\, {\\left(r - r_{m}\\right)}^{\\frac{4}{13}} r^{\\frac{72}{13}} + 1935785 i \\, {\\left(r - r_{m}\\right)}^{\\frac{2}{13}} r^{\\frac{74}{13}} - 2898189 i \\, r^{\\frac{76}{13}}\\right)} r_{m}^{5} - 3 \\, {\\left(95316 i \\, {\\left(r - r_{m}\\right)}^{\\frac{11}{13}} r^{6} + 9768 i \\, {\\left(r - r_{m}\\right)}^{\\frac{6}{13}} r^{\\frac{83}{13}} - 413029 i \\, {\\left(r - r_{m}\\right)}^{\\frac{4}{13}} r^{\\frac{85}{13}} + 1222584 i \\, {\\left(r - r_{m}\\right)}^{\\frac{2}{13}} r^{\\frac{87}{13}} - 613455 i \\, r^{\\frac{89}{13}}\\right)} r_{m}^{4} - 52 \\, {\\left(20839 i \\, {\\left(r - r_{m}\\right)}^{\\frac{11}{13}} r^{7} - 8028 i \\, {\\left(r - r_{m}\\right)}^{\\frac{6}{13}} r^{\\frac{96}{13}} + 52294 i \\, {\\left(r - r_{m}\\right)}^{\\frac{4}{13}} r^{\\frac{98}{13}} - 62101 i \\, {\\left(r - r_{m}\\right)}^{\\frac{2}{13}} r^{\\frac{100}{13}} - 31149 i \\, r^{\\frac{102}{13}}\\right)} r_{m}^{3} - 338 \\, {\\left(-4474 i \\, {\\left(r - r_{m}\\right)}^{\\frac{11}{13}} r^{8} - 148 i \\, {\\left(r - r_{m}\\right)}^{\\frac{8}{13}} r^{\\frac{107}{13}} + 2766 i \\, {\\left(r - r_{m}\\right)}^{\\frac{6}{13}} r^{\\frac{109}{13}} - 8357 i \\, {\\left(r - r_{m}\\right)}^{\\frac{4}{13}} r^{\\frac{111}{13}} + 3547 i \\, {\\left(r - r_{m}\\right)}^{\\frac{2}{13}} r^{\\frac{113}{13}} + 8811 i \\, r^{\\frac{115}{13}}\\right)} r_{m}^{2} - 2197 \\, {\\left(330 i \\, {\\left(r - r_{m}\\right)}^{\\frac{11}{13}} r^{9} + 36 i \\, {\\left(r - r_{m}\\right)}^{\\frac{8}{13}} r^{\\frac{120}{13}} - 327 i \\, {\\left(r - r_{m}\\right)}^{\\frac{6}{13}} r^{\\frac{122}{13}} + 617 i \\, {\\left(r - r_{m}\\right)}^{\\frac{4}{13}} r^{\\frac{124}{13}} - 15 i \\, {\\left(r - r_{m}\\right)}^{\\frac{2}{13}} r^{\\frac{126}{13}} - 693 i \\, r^{\\frac{128}{13}}\\right)} r_{m}\\right)} r_{p}^{2} - 24167 \\, {\\left(i \\, {\\left(r - r_{m}\\right)}^{\\frac{11}{13}} r^{11} + i \\, {\\left(r - r_{m}\\right)}^{\\frac{8}{13}} r^{\\frac{146}{13}} - 3 i \\, {\\left(r - r_{m}\\right)}^{\\frac{6}{13}} r^{\\frac{148}{13}} + 2 i \\, {\\left(r - r_{m}\\right)}^{\\frac{4}{13}} r^{\\frac{150}{13}} + 2 i \\, {\\left(r - r_{m}\\right)}^{\\frac{2}{13}} r^{\\frac{152}{13}} - 3 i \\, r^{\\frac{154}{13}}\\right)} r_{m} + {\\left(-28561 i \\, {\\left(r - r_{m}\\right)}^{\\frac{11}{13}} r^{11} - 28561 i \\, {\\left(r - r_{m}\\right)}^{\\frac{8}{13}} r^{\\frac{146}{13}} + 85683 i \\, {\\left(r - r_{m}\\right)}^{\\frac{6}{13}} r^{\\frac{148}{13}} - 57122 i \\, {\\left(r - r_{m}\\right)}^{\\frac{4}{13}} r^{\\frac{150}{13}} - 57122 i \\, {\\left(r - r_{m}\\right)}^{\\frac{2}{13}} r^{\\frac{152}{13}} + 85683 i \\, r^{\\frac{154}{13}} + 84744 i \\, r^{\\frac{63}{13}} r_{m}^{7} - 6 \\, {\\left(-17407 i \\, {\\left(r - r_{m}\\right)}^{\\frac{11}{13}} r^{5} - 35442 i \\, {\\left(r - r_{m}\\right)}^{\\frac{2}{13}} r^{\\frac{74}{13}} + 103706 i \\, r^{\\frac{76}{13}}\\right)} r_{m}^{6} + {\\left(-290342 i \\, {\\left(r - r_{m}\\right)}^{\\frac{11}{13}} r^{6} + 171072 i \\, {\\left(r - r_{m}\\right)}^{\\frac{4}{13}} r^{\\frac{85}{13}} - 1053997 i \\, {\\left(r - r_{m}\\right)}^{\\frac{2}{13}} r^{\\frac{87}{13}} + 1326810 i \\, r^{\\frac{89}{13}}\\right)} r_{m}^{5} + {\\left(88387 i \\, {\\left(r - r_{m}\\right)}^{\\frac{11}{13}} r^{7} + 43164 i \\, {\\left(r - r_{m}\\right)}^{\\frac{6}{13}} r^{\\frac{96}{13}} - 815898 i \\, {\\left(r - r_{m}\\right)}^{\\frac{4}{13}} r^{\\frac{98}{13}} + 1813277 i \\, {\\left(r - r_{m}\\right)}^{\\frac{2}{13}} r^{\\frac{100}{13}} - 698994 i \\, r^{\\frac{102}{13}}\\right)} r_{m}^{4} - 13 \\, {\\left(-35464 i \\, {\\left(r - r_{m}\\right)}^{\\frac{11}{13}} r^{8} + 27183 i \\, {\\left(r - r_{m}\\right)}^{\\frac{6}{13}} r^{\\frac{109}{13}} - 116201 i \\, {\\left(r - r_{m}\\right)}^{\\frac{4}{13}} r^{\\frac{111}{13}} + 92041 i \\, {\\left(r - r_{m}\\right)}^{\\frac{2}{13}} r^{\\frac{113}{13}} + 76797 i \\, r^{\\frac{115}{13}}\\right)} r_{m}^{3} - 169 \\, {\\left(3412 i \\, {\\left(r - r_{m}\\right)}^{\\frac{11}{13}} r^{9} + 436 i \\, {\\left(r - r_{m}\\right)}^{\\frac{8}{13}} r^{\\frac{120}{13}} - 4089 i \\, {\\left(r - r_{m}\\right)}^{\\frac{6}{13}} r^{\\frac{122}{13}} + 7827 i \\, {\\left(r - r_{m}\\right)}^{\\frac{4}{13}} r^{\\frac{124}{13}} - 289 i \\, {\\left(r - r_{m}\\right)}^{\\frac{2}{13}} r^{\\frac{126}{13}} - 8727 i \\, r^{\\frac{128}{13}}\\right)} r_{m}^{2} - 2197 \\, {\\left(-110 i \\, {\\left(r - r_{m}\\right)}^{\\frac{11}{13}} r^{10} - 47 i \\, {\\left(r - r_{m}\\right)}^{\\frac{8}{13}} r^{\\frac{133}{13}} + 213 i \\, {\\left(r - r_{m}\\right)}^{\\frac{6}{13}} r^{\\frac{135}{13}} - 234 i \\, {\\left(r - r_{m}\\right)}^{\\frac{4}{13}} r^{\\frac{137}{13}} - 106 i \\, {\\left(r - r_{m}\\right)}^{\\frac{2}{13}} r^{\\frac{139}{13}} + 297 i \\, r^{\\frac{141}{13}}\\right)} r_{m}\\right)} r_{p}\\right)} a \\sin\\left({\\theta}\\right)}{22308 \\, {\\left({\\left(\\sqrt{2} {\\left(r - r_{m}\\right)}^{\\frac{12}{13}} r^{\\frac{129}{13}} - 4 \\, \\sqrt{2} {\\left(r - r_{m}\\right)}^{\\frac{1}{13}} r^{\\frac{140}{13}}\\right)} r_{m}^{5} - 3 \\, {\\left(\\sqrt{2} {\\left(r - r_{m}\\right)}^{\\frac{12}{13}} r^{\\frac{142}{13}} + 2 \\, \\sqrt{2} {\\left(r - r_{m}\\right)}^{\\frac{3}{13}} r^{\\frac{151}{13}} - 4 \\, \\sqrt{2} {\\left(r - r_{m}\\right)}^{\\frac{1}{13}} r^{\\frac{153}{13}}\\right)} r_{m}^{4} - {\\left(\\sqrt{2} {\\left(r - r_{m}\\right)}^{\\frac{12}{13}} r^{\\frac{116}{13}} r_{m}^{2} - 3 \\, \\sqrt{2} {\\left(r - r_{m}\\right)}^{\\frac{12}{13}} r^{\\frac{103}{13}} r_{m}^{3} + 3 \\, \\sqrt{2} {\\left(r - r_{m}\\right)}^{\\frac{12}{13}} r^{\\frac{90}{13}} r_{m}^{4} - \\sqrt{2} {\\left(r - r_{m}\\right)}^{\\frac{12}{13}} r^{\\frac{77}{13}} r_{m}^{5}\\right)} r_{p}^{4} + {\\left(3 \\, \\sqrt{2} {\\left(r - r_{m}\\right)}^{\\frac{12}{13}} r^{\\frac{155}{13}} - 4 \\, \\sqrt{2} {\\left(r - r_{m}\\right)}^{\\frac{5}{13}} r^{\\frac{162}{13}} + 12 \\, \\sqrt{2} {\\left(r - r_{m}\\right)}^{\\frac{3}{13}} r^{\\frac{164}{13}} - 12 \\, \\sqrt{2} {\\left(r - r_{m}\\right)}^{\\frac{1}{13}} r^{\\frac{166}{13}}\\right)} r_{m}^{3} - 4 \\, {\\left({\\left(\\sqrt{2} {\\left(r - r_{m}\\right)}^{\\frac{12}{13}} r^{\\frac{90}{13}} - \\sqrt{2} {\\left(r - r_{m}\\right)}^{\\frac{1}{13}} r^{\\frac{101}{13}}\\right)} r_{m}^{5} - 3 \\, {\\left(\\sqrt{2} {\\left(r - r_{m}\\right)}^{\\frac{12}{13}} r^{\\frac{103}{13}} - \\sqrt{2} {\\left(r - r_{m}\\right)}^{\\frac{1}{13}} r^{\\frac{114}{13}}\\right)} r_{m}^{4} + 3 \\, {\\left(\\sqrt{2} {\\left(r - r_{m}\\right)}^{\\frac{12}{13}} r^{\\frac{116}{13}} - \\sqrt{2} {\\left(r - r_{m}\\right)}^{\\frac{1}{13}} r^{\\frac{127}{13}}\\right)} r_{m}^{3} - {\\left(\\sqrt{2} {\\left(r - r_{m}\\right)}^{\\frac{12}{13}} r^{\\frac{129}{13}} - \\sqrt{2} {\\left(r - r_{m}\\right)}^{\\frac{1}{13}} r^{\\frac{140}{13}}\\right)} r_{m}^{2}\\right)} r_{p}^{3} - {\\left(\\sqrt{2} {\\left(r - r_{m}\\right)}^{\\frac{12}{13}} r^{\\frac{168}{13}} + \\sqrt{2} {\\left(r - r_{m}\\right)}^{\\frac{7}{13}} r^{\\frac{173}{13}} - 4 \\, \\sqrt{2} {\\left(r - r_{m}\\right)}^{\\frac{5}{13}} r^{\\frac{175}{13}} + 6 \\, \\sqrt{2} {\\left(r - r_{m}\\right)}^{\\frac{3}{13}} r^{\\frac{177}{13}} - 4 \\, \\sqrt{2} {\\left(r - r_{m}\\right)}^{\\frac{1}{13}} r^{\\frac{179}{13}}\\right)} r_{m}^{2} + 6 \\, {\\left({\\left(\\sqrt{2} {\\left(r - r_{m}\\right)}^{\\frac{12}{13}} r^{\\frac{103}{13}} - 2 \\, \\sqrt{2} {\\left(r - r_{m}\\right)}^{\\frac{1}{13}} r^{\\frac{114}{13}}\\right)} r_{m}^{5} - {\\left(3 \\, \\sqrt{2} {\\left(r - r_{m}\\right)}^{\\frac{12}{13}} r^{\\frac{116}{13}} + \\sqrt{2} {\\left(r - r_{m}\\right)}^{\\frac{3}{13}} r^{\\frac{125}{13}} - 6 \\, \\sqrt{2} {\\left(r - r_{m}\\right)}^{\\frac{1}{13}} r^{\\frac{127}{13}}\\right)} r_{m}^{4} + {\\left(3 \\, \\sqrt{2} {\\left(r - r_{m}\\right)}^{\\frac{12}{13}} r^{\\frac{129}{13}} + 2 \\, \\sqrt{2} {\\left(r - r_{m}\\right)}^{\\frac{3}{13}} r^{\\frac{138}{13}} - 6 \\, \\sqrt{2} {\\left(r - r_{m}\\right)}^{\\frac{1}{13}} r^{\\frac{140}{13}}\\right)} r_{m}^{3} - {\\left(\\sqrt{2} {\\left(r - r_{m}\\right)}^{\\frac{12}{13}} r^{\\frac{142}{13}} + \\sqrt{2} {\\left(r - r_{m}\\right)}^{\\frac{3}{13}} r^{\\frac{151}{13}} - 2 \\, \\sqrt{2} {\\left(r - r_{m}\\right)}^{\\frac{1}{13}} r^{\\frac{153}{13}}\\right)} r_{m}^{2}\\right)} r_{p}^{2} - 4 \\, {\\left({\\left(\\sqrt{2} {\\left(r - r_{m}\\right)}^{\\frac{12}{13}} r^{\\frac{116}{13}} - 3 \\, \\sqrt{2} {\\left(r - r_{m}\\right)}^{\\frac{1}{13}} r^{\\frac{127}{13}}\\right)} r_{m}^{5} - 3 \\, {\\left(\\sqrt{2} {\\left(r - r_{m}\\right)}^{\\frac{12}{13}} r^{\\frac{129}{13}} + \\sqrt{2} {\\left(r - r_{m}\\right)}^{\\frac{3}{13}} r^{\\frac{138}{13}} - 3 \\, \\sqrt{2} {\\left(r - r_{m}\\right)}^{\\frac{1}{13}} r^{\\frac{140}{13}}\\right)} r_{m}^{4} + {\\left(3 \\, \\sqrt{2} {\\left(r - r_{m}\\right)}^{\\frac{12}{13}} r^{\\frac{142}{13}} - \\sqrt{2} {\\left(r - r_{m}\\right)}^{\\frac{5}{13}} r^{\\frac{149}{13}} + 6 \\, \\sqrt{2} {\\left(r - r_{m}\\right)}^{\\frac{3}{13}} r^{\\frac{151}{13}} - 9 \\, \\sqrt{2} {\\left(r - r_{m}\\right)}^{\\frac{1}{13}} r^{\\frac{153}{13}}\\right)} r_{m}^{3} - {\\left(\\sqrt{2} {\\left(r - r_{m}\\right)}^{\\frac{12}{13}} r^{\\frac{155}{13}} - \\sqrt{2} {\\left(r - r_{m}\\right)}^{\\frac{5}{13}} r^{\\frac{162}{13}} + 3 \\, \\sqrt{2} {\\left(r - r_{m}\\right)}^{\\frac{3}{13}} r^{\\frac{164}{13}} - 3 \\, \\sqrt{2} {\\left(r - r_{m}\\right)}^{\\frac{1}{13}} r^{\\frac{166}{13}}\\right)} r_{m}^{2}\\right)} r_{p}\\right)}}\\)</html>"
      ],
      "text/latex": [
       "$\\displaystyle \\Psi_{3} = W_{\\alpha\\beta\\gamma\\delta}l^{\\alpha}n^{\\beta}\\bar{m}^{\\gamma}n^{\\delta} =  \\frac{{\\left(-13860 i \\, r^{\\frac{76}{13}} r_{m}^{7} - 3 \\, {\\left(5746 i \\, {\\left(r - r_{m}\\right)}^{\\frac{11}{13}} r^{6} + 13860 i \\, {\\left(r - r_{m}\\right)}^{\\frac{2}{13}} r^{\\frac{87}{13}} - 36103 i \\, r^{\\frac{89}{13}}\\right)} r_{m}^{6} + {\\left(44785 i \\, {\\left(r - r_{m}\\right)}^{\\frac{11}{13}} r^{7} - 41580 i \\, {\\left(r - r_{m}\\right)}^{\\frac{4}{13}} r^{\\frac{98}{13}} + 203579 i \\, {\\left(r - r_{m}\\right)}^{\\frac{2}{13}} r^{\\frac{100}{13}} - 220980 i \\, r^{\\frac{102}{13}}\\right)} r_{m}^{5} + {\\left(-28561 i \\, {\\left(r - r_{m}\\right)}^{\\frac{11}{13}} r^{7} + 28561 i \\, {\\left(r - r_{m}\\right)}^{\\frac{2}{13}} r^{\\frac{100}{13}} + 29304 i \\, r^{\\frac{11}{13}} r_{m}^{7} - 6 \\, {\\left(-5915 i \\, {\\left(r - r_{m}\\right)}^{\\frac{11}{13}} r + 22374 i \\, r^{\\frac{24}{13}}\\right)} r_{m}^{6} + {\\left(-111202 i \\, {\\left(r - r_{m}\\right)}^{\\frac{11}{13}} r^{2} - 50024 i \\, {\\left(r - r_{m}\\right)}^{\\frac{2}{13}} r^{\\frac{35}{13}} + 243639 i \\, r^{\\frac{37}{13}}\\right)} r_{m}^{5} - 3 \\, {\\left(-20449 i \\, {\\left(r - r_{m}\\right)}^{\\frac{11}{13}} r^{3} - 76388 i \\, {\\left(r - r_{m}\\right)}^{\\frac{2}{13}} r^{\\frac{48}{13}} + 72831 i \\, r^{\\frac{50}{13}}\\right)} r_{m}^{4} - 13 \\, {\\left(-12064 i \\, {\\left(r - r_{m}\\right)}^{\\frac{11}{13}} r^{4} + 31993 i \\, {\\left(r - r_{m}\\right)}^{\\frac{2}{13}} r^{\\frac{61}{13}} - 7425 i \\, r^{\\frac{63}{13}}\\right)} r_{m}^{3} - 169 \\, {\\left(1532 i \\, {\\left(r - r_{m}\\right)}^{\\frac{11}{13}} r^{5} - 2207 i \\, {\\left(r - r_{m}\\right)}^{\\frac{2}{13}} r^{\\frac{74}{13}} + 99 i \\, r^{\\frac{76}{13}}\\right)} r_{m}^{2} - 6591 \\, {\\left(-22 i \\, {\\left(r - r_{m}\\right)}^{\\frac{11}{13}} r^{6} + 25 i \\, {\\left(r - r_{m}\\right)}^{\\frac{2}{13}} r^{\\frac{87}{13}}\\right)} r_{m}\\right)} r_{p}^{5} + {\\left(-6760 i \\, {\\left(r - r_{m}\\right)}^{\\frac{11}{13}} r^{8} - 13860 i \\, {\\left(r - r_{m}\\right)}^{\\frac{6}{13}} r^{\\frac{109}{13}} + 174843 i \\, {\\left(r - r_{m}\\right)}^{\\frac{4}{13}} r^{\\frac{111}{13}} - 309458 i \\, {\\left(r - r_{m}\\right)}^{\\frac{2}{13}} r^{\\frac{113}{13}} + 79185 i \\, r^{\\frac{115}{13}}\\right)} r_{m}^{4} + {\\left(114244 i \\, {\\left(r - r_{m}\\right)}^{\\frac{11}{13}} r^{8} + 85683 i \\, {\\left(r - r_{m}\\right)}^{\\frac{4}{13}} r^{\\frac{111}{13}} - 114244 i \\, {\\left(r - r_{m}\\right)}^{\\frac{2}{13}} r^{\\frac{113}{13}} - 85683 i \\, r^{\\frac{115}{13}} - 131076 i \\, r^{\\frac{24}{13}} r_{m}^{7} - 3 \\, {\\left(53066 i \\, {\\left(r - r_{m}\\right)}^{\\frac{11}{13}} r^{2} + 29304 i \\, {\\left(r - r_{m}\\right)}^{\\frac{2}{13}} r^{\\frac{35}{13}} - 233347 i \\, r^{\\frac{37}{13}}\\right)} r_{m}^{6} + {\\left(489593 i \\, {\\left(r - r_{m}\\right)}^{\\frac{11}{13}} r^{3} + 538576 i \\, {\\left(r - r_{m}\\right)}^{\\frac{2}{13}} r^{\\frac{48}{13}} - 1394787 i \\, r^{\\frac{50}{13}}\\right)} r_{m}^{5} - 2 \\, {\\left(126074 i \\, {\\left(r - r_{m}\\right)}^{\\frac{11}{13}} r^{4} - 75036 i \\, {\\left(r - r_{m}\\right)}^{\\frac{4}{13}} r^{\\frac{59}{13}} + 713950 i \\, {\\left(r - r_{m}\\right)}^{\\frac{2}{13}} r^{\\frac{61}{13}} - 558459 i \\, r^{\\frac{63}{13}}\\right)} r_{m}^{4} - 13 \\, {\\left(54106 i \\, {\\left(r - r_{m}\\right)}^{\\frac{11}{13}} r^{5} + 41340 i \\, {\\left(r - r_{m}\\right)}^{\\frac{4}{13}} r^{\\frac{72}{13}} - 157423 i \\, {\\left(r - r_{m}\\right)}^{\\frac{2}{13}} r^{\\frac{74}{13}} - 5337 i \\, r^{\\frac{76}{13}}\\right)} r_{m}^{3} - 169 \\, {\\left(-6598 i \\, {\\left(r - r_{m}\\right)}^{\\frac{11}{13}} r^{6} - 4203 i \\, {\\left(r - r_{m}\\right)}^{\\frac{4}{13}} r^{\\frac{85}{13}} + 9694 i \\, {\\left(r - r_{m}\\right)}^{\\frac{2}{13}} r^{\\frac{87}{13}} + 4200 i \\, r^{\\frac{89}{13}}\\right)} r_{m}^{2} - 2197 \\, {\\left(275 i \\, {\\left(r - r_{m}\\right)}^{\\frac{11}{13}} r^{7} + 186 i \\, {\\left(r - r_{m}\\right)}^{\\frac{4}{13}} r^{\\frac{98}{13}} - 311 i \\, {\\left(r - r_{m}\\right)}^{\\frac{2}{13}} r^{\\frac{100}{13}} - 198 i \\, r^{\\frac{102}{13}}\\right)} r_{m}\\right)} r_{p}^{4} - 65 \\, {\\left(1170 i \\, {\\left(r - r_{m}\\right)}^{\\frac{11}{13}} r^{9} - 1323 i \\, {\\left(r - r_{m}\\right)}^{\\frac{6}{13}} r^{\\frac{122}{13}} + 4151 i \\, {\\left(r - r_{m}\\right)}^{\\frac{4}{13}} r^{\\frac{124}{13}} - 1941 i \\, {\\left(r - r_{m}\\right)}^{\\frac{2}{13}} r^{\\frac{126}{13}} - 3279 i \\, r^{\\frac{128}{13}}\\right)} r_{m}^{3} + {\\left(-171366 i \\, {\\left(r - r_{m}\\right)}^{\\frac{11}{13}} r^{9} + 85683 i \\, {\\left(r - r_{m}\\right)}^{\\frac{6}{13}} r^{\\frac{122}{13}} - 257049 i \\, {\\left(r - r_{m}\\right)}^{\\frac{4}{13}} r^{\\frac{124}{13}} + 85683 i \\, {\\left(r - r_{m}\\right)}^{\\frac{2}{13}} r^{\\frac{126}{13}} + 257049 i \\, r^{\\frac{128}{13}} + 231264 i \\, r^{\\frac{37}{13}} r_{m}^{7} - 12 \\, {\\left(-23491 i \\, {\\left(r - r_{m}\\right)}^{\\frac{11}{13}} r^{3} - 25443 i \\, {\\left(r - r_{m}\\right)}^{\\frac{2}{13}} r^{\\frac{48}{13}} + 116914 i \\, r^{\\frac{50}{13}}\\right)} r_{m}^{6} + {\\left(-846352 i \\, {\\left(r - r_{m}\\right)}^{\\frac{11}{13}} r^{4} + 87912 i \\, {\\left(r - r_{m}\\right)}^{\\frac{4}{13}} r^{\\frac{59}{13}} - 1573919 i \\, {\\left(r - r_{m}\\right)}^{\\frac{2}{13}} r^{\\frac{61}{13}} + 2943507 i \\, r^{\\frac{63}{13}}\\right)} r_{m}^{5} + {\\left(395122 i \\, {\\left(r - r_{m}\\right)}^{\\frac{11}{13}} r^{5} - 748104 i \\, {\\left(r - r_{m}\\right)}^{\\frac{4}{13}} r^{\\frac{72}{13}} + 3362669 i \\, {\\left(r - r_{m}\\right)}^{\\frac{2}{13}} r^{\\frac{74}{13}} - 2118981 i \\, r^{\\frac{76}{13}}\\right)} r_{m}^{4} - 78 \\, {\\left(-15964 i \\, {\\left(r - r_{m}\\right)}^{\\frac{11}{13}} r^{6} + 1924 i \\, {\\left(r - r_{m}\\right)}^{\\frac{6}{13}} r^{\\frac{83}{13}} - 25845 i \\, {\\left(r - r_{m}\\right)}^{\\frac{4}{13}} r^{\\frac{85}{13}} + 48583 i \\, {\\left(r - r_{m}\\right)}^{\\frac{2}{13}} r^{\\frac{87}{13}} + 12826 i \\, r^{\\frac{89}{13}}\\right)} r_{m}^{3} - 676 \\, {\\left(2768 i \\, {\\left(r - r_{m}\\right)}^{\\frac{11}{13}} r^{7} - 573 i \\, {\\left(r - r_{m}\\right)}^{\\frac{6}{13}} r^{\\frac{96}{13}} + 3546 i \\, {\\left(r - r_{m}\\right)}^{\\frac{4}{13}} r^{\\frac{98}{13}} - 3470 i \\, {\\left(r - r_{m}\\right)}^{\\frac{2}{13}} r^{\\frac{100}{13}} - 3651 i \\, r^{\\frac{102}{13}}\\right)} r_{m}^{2} - 2197 \\, {\\left(-440 i \\, {\\left(r - r_{m}\\right)}^{\\frac{11}{13}} r^{8} + 147 i \\, {\\left(r - r_{m}\\right)}^{\\frac{6}{13}} r^{\\frac{109}{13}} - 591 i \\, {\\left(r - r_{m}\\right)}^{\\frac{4}{13}} r^{\\frac{111}{13}} + 335 i \\, {\\left(r - r_{m}\\right)}^{\\frac{2}{13}} r^{\\frac{113}{13}} + 627 i \\, r^{\\frac{115}{13}}\\right)} r_{m}\\right)} r_{p}^{3} - 169 \\, {\\left(-470 i \\, {\\left(r - r_{m}\\right)}^{\\frac{11}{13}} r^{10} - 140 i \\, {\\left(r - r_{m}\\right)}^{\\frac{8}{13}} r^{\\frac{133}{13}} + 849 i \\, {\\left(r - r_{m}\\right)}^{\\frac{6}{13}} r^{\\frac{135}{13}} - 1094 i \\, {\\left(r - r_{m}\\right)}^{\\frac{4}{13}} r^{\\frac{137}{13}} - 412 i \\, {\\left(r - r_{m}\\right)}^{\\frac{2}{13}} r^{\\frac{139}{13}} + 1410 i \\, r^{\\frac{141}{13}}\\right)} r_{m}^{2} + {\\left(114244 i \\, {\\left(r - r_{m}\\right)}^{\\frac{11}{13}} r^{10} + 28561 i \\, {\\left(r - r_{m}\\right)}^{\\frac{8}{13}} r^{\\frac{133}{13}} - 171366 i \\, {\\left(r - r_{m}\\right)}^{\\frac{6}{13}} r^{\\frac{135}{13}} + 228488 i \\, {\\left(r - r_{m}\\right)}^{\\frac{4}{13}} r^{\\frac{137}{13}} + 57122 i \\, {\\left(r - r_{m}\\right)}^{\\frac{2}{13}} r^{\\frac{139}{13}} - 257049 i \\, r^{\\frac{141}{13}} - 200376 i \\, r^{\\frac{50}{13}} r_{m}^{7} - 6 \\, {\\left(40898 i \\, {\\left(r - r_{m}\\right)}^{\\frac{11}{13}} r^{4} + 64746 i \\, {\\left(r - r_{m}\\right)}^{\\frac{2}{13}} r^{\\frac{61}{13}} - 225183 i \\, r^{\\frac{63}{13}}\\right)} r_{m}^{6} + {\\left(713518 i \\, {\\left(r - r_{m}\\right)}^{\\frac{11}{13}} r^{5} - 217404 i \\, {\\left(r - r_{m}\\right)}^{\\frac{4}{13}} r^{\\frac{72}{13}} + 1935785 i \\, {\\left(r - r_{m}\\right)}^{\\frac{2}{13}} r^{\\frac{74}{13}} - 2898189 i \\, r^{\\frac{76}{13}}\\right)} r_{m}^{5} - 3 \\, {\\left(95316 i \\, {\\left(r - r_{m}\\right)}^{\\frac{11}{13}} r^{6} + 9768 i \\, {\\left(r - r_{m}\\right)}^{\\frac{6}{13}} r^{\\frac{83}{13}} - 413029 i \\, {\\left(r - r_{m}\\right)}^{\\frac{4}{13}} r^{\\frac{85}{13}} + 1222584 i \\, {\\left(r - r_{m}\\right)}^{\\frac{2}{13}} r^{\\frac{87}{13}} - 613455 i \\, r^{\\frac{89}{13}}\\right)} r_{m}^{4} - 52 \\, {\\left(20839 i \\, {\\left(r - r_{m}\\right)}^{\\frac{11}{13}} r^{7} - 8028 i \\, {\\left(r - r_{m}\\right)}^{\\frac{6}{13}} r^{\\frac{96}{13}} + 52294 i \\, {\\left(r - r_{m}\\right)}^{\\frac{4}{13}} r^{\\frac{98}{13}} - 62101 i \\, {\\left(r - r_{m}\\right)}^{\\frac{2}{13}} r^{\\frac{100}{13}} - 31149 i \\, r^{\\frac{102}{13}}\\right)} r_{m}^{3} - 338 \\, {\\left(-4474 i \\, {\\left(r - r_{m}\\right)}^{\\frac{11}{13}} r^{8} - 148 i \\, {\\left(r - r_{m}\\right)}^{\\frac{8}{13}} r^{\\frac{107}{13}} + 2766 i \\, {\\left(r - r_{m}\\right)}^{\\frac{6}{13}} r^{\\frac{109}{13}} - 8357 i \\, {\\left(r - r_{m}\\right)}^{\\frac{4}{13}} r^{\\frac{111}{13}} + 3547 i \\, {\\left(r - r_{m}\\right)}^{\\frac{2}{13}} r^{\\frac{113}{13}} + 8811 i \\, r^{\\frac{115}{13}}\\right)} r_{m}^{2} - 2197 \\, {\\left(330 i \\, {\\left(r - r_{m}\\right)}^{\\frac{11}{13}} r^{9} + 36 i \\, {\\left(r - r_{m}\\right)}^{\\frac{8}{13}} r^{\\frac{120}{13}} - 327 i \\, {\\left(r - r_{m}\\right)}^{\\frac{6}{13}} r^{\\frac{122}{13}} + 617 i \\, {\\left(r - r_{m}\\right)}^{\\frac{4}{13}} r^{\\frac{124}{13}} - 15 i \\, {\\left(r - r_{m}\\right)}^{\\frac{2}{13}} r^{\\frac{126}{13}} - 693 i \\, r^{\\frac{128}{13}}\\right)} r_{m}\\right)} r_{p}^{2} - 24167 \\, {\\left(i \\, {\\left(r - r_{m}\\right)}^{\\frac{11}{13}} r^{11} + i \\, {\\left(r - r_{m}\\right)}^{\\frac{8}{13}} r^{\\frac{146}{13}} - 3 i \\, {\\left(r - r_{m}\\right)}^{\\frac{6}{13}} r^{\\frac{148}{13}} + 2 i \\, {\\left(r - r_{m}\\right)}^{\\frac{4}{13}} r^{\\frac{150}{13}} + 2 i \\, {\\left(r - r_{m}\\right)}^{\\frac{2}{13}} r^{\\frac{152}{13}} - 3 i \\, r^{\\frac{154}{13}}\\right)} r_{m} + {\\left(-28561 i \\, {\\left(r - r_{m}\\right)}^{\\frac{11}{13}} r^{11} - 28561 i \\, {\\left(r - r_{m}\\right)}^{\\frac{8}{13}} r^{\\frac{146}{13}} + 85683 i \\, {\\left(r - r_{m}\\right)}^{\\frac{6}{13}} r^{\\frac{148}{13}} - 57122 i \\, {\\left(r - r_{m}\\right)}^{\\frac{4}{13}} r^{\\frac{150}{13}} - 57122 i \\, {\\left(r - r_{m}\\right)}^{\\frac{2}{13}} r^{\\frac{152}{13}} + 85683 i \\, r^{\\frac{154}{13}} + 84744 i \\, r^{\\frac{63}{13}} r_{m}^{7} - 6 \\, {\\left(-17407 i \\, {\\left(r - r_{m}\\right)}^{\\frac{11}{13}} r^{5} - 35442 i \\, {\\left(r - r_{m}\\right)}^{\\frac{2}{13}} r^{\\frac{74}{13}} + 103706 i \\, r^{\\frac{76}{13}}\\right)} r_{m}^{6} + {\\left(-290342 i \\, {\\left(r - r_{m}\\right)}^{\\frac{11}{13}} r^{6} + 171072 i \\, {\\left(r - r_{m}\\right)}^{\\frac{4}{13}} r^{\\frac{85}{13}} - 1053997 i \\, {\\left(r - r_{m}\\right)}^{\\frac{2}{13}} r^{\\frac{87}{13}} + 1326810 i \\, r^{\\frac{89}{13}}\\right)} r_{m}^{5} + {\\left(88387 i \\, {\\left(r - r_{m}\\right)}^{\\frac{11}{13}} r^{7} + 43164 i \\, {\\left(r - r_{m}\\right)}^{\\frac{6}{13}} r^{\\frac{96}{13}} - 815898 i \\, {\\left(r - r_{m}\\right)}^{\\frac{4}{13}} r^{\\frac{98}{13}} + 1813277 i \\, {\\left(r - r_{m}\\right)}^{\\frac{2}{13}} r^{\\frac{100}{13}} - 698994 i \\, r^{\\frac{102}{13}}\\right)} r_{m}^{4} - 13 \\, {\\left(-35464 i \\, {\\left(r - r_{m}\\right)}^{\\frac{11}{13}} r^{8} + 27183 i \\, {\\left(r - r_{m}\\right)}^{\\frac{6}{13}} r^{\\frac{109}{13}} - 116201 i \\, {\\left(r - r_{m}\\right)}^{\\frac{4}{13}} r^{\\frac{111}{13}} + 92041 i \\, {\\left(r - r_{m}\\right)}^{\\frac{2}{13}} r^{\\frac{113}{13}} + 76797 i \\, r^{\\frac{115}{13}}\\right)} r_{m}^{3} - 169 \\, {\\left(3412 i \\, {\\left(r - r_{m}\\right)}^{\\frac{11}{13}} r^{9} + 436 i \\, {\\left(r - r_{m}\\right)}^{\\frac{8}{13}} r^{\\frac{120}{13}} - 4089 i \\, {\\left(r - r_{m}\\right)}^{\\frac{6}{13}} r^{\\frac{122}{13}} + 7827 i \\, {\\left(r - r_{m}\\right)}^{\\frac{4}{13}} r^{\\frac{124}{13}} - 289 i \\, {\\left(r - r_{m}\\right)}^{\\frac{2}{13}} r^{\\frac{126}{13}} - 8727 i \\, r^{\\frac{128}{13}}\\right)} r_{m}^{2} - 2197 \\, {\\left(-110 i \\, {\\left(r - r_{m}\\right)}^{\\frac{11}{13}} r^{10} - 47 i \\, {\\left(r - r_{m}\\right)}^{\\frac{8}{13}} r^{\\frac{133}{13}} + 213 i \\, {\\left(r - r_{m}\\right)}^{\\frac{6}{13}} r^{\\frac{135}{13}} - 234 i \\, {\\left(r - r_{m}\\right)}^{\\frac{4}{13}} r^{\\frac{137}{13}} - 106 i \\, {\\left(r - r_{m}\\right)}^{\\frac{2}{13}} r^{\\frac{139}{13}} + 297 i \\, r^{\\frac{141}{13}}\\right)} r_{m}\\right)} r_{p}\\right)} a \\sin\\left({\\theta}\\right)}{22308 \\, {\\left({\\left(\\sqrt{2} {\\left(r - r_{m}\\right)}^{\\frac{12}{13}} r^{\\frac{129}{13}} - 4 \\, \\sqrt{2} {\\left(r - r_{m}\\right)}^{\\frac{1}{13}} r^{\\frac{140}{13}}\\right)} r_{m}^{5} - 3 \\, {\\left(\\sqrt{2} {\\left(r - r_{m}\\right)}^{\\frac{12}{13}} r^{\\frac{142}{13}} + 2 \\, \\sqrt{2} {\\left(r - r_{m}\\right)}^{\\frac{3}{13}} r^{\\frac{151}{13}} - 4 \\, \\sqrt{2} {\\left(r - r_{m}\\right)}^{\\frac{1}{13}} r^{\\frac{153}{13}}\\right)} r_{m}^{4} - {\\left(\\sqrt{2} {\\left(r - r_{m}\\right)}^{\\frac{12}{13}} r^{\\frac{116}{13}} r_{m}^{2} - 3 \\, \\sqrt{2} {\\left(r - r_{m}\\right)}^{\\frac{12}{13}} r^{\\frac{103}{13}} r_{m}^{3} + 3 \\, \\sqrt{2} {\\left(r - r_{m}\\right)}^{\\frac{12}{13}} r^{\\frac{90}{13}} r_{m}^{4} - \\sqrt{2} {\\left(r - r_{m}\\right)}^{\\frac{12}{13}} r^{\\frac{77}{13}} r_{m}^{5}\\right)} r_{p}^{4} + {\\left(3 \\, \\sqrt{2} {\\left(r - r_{m}\\right)}^{\\frac{12}{13}} r^{\\frac{155}{13}} - 4 \\, \\sqrt{2} {\\left(r - r_{m}\\right)}^{\\frac{5}{13}} r^{\\frac{162}{13}} + 12 \\, \\sqrt{2} {\\left(r - r_{m}\\right)}^{\\frac{3}{13}} r^{\\frac{164}{13}} - 12 \\, \\sqrt{2} {\\left(r - r_{m}\\right)}^{\\frac{1}{13}} r^{\\frac{166}{13}}\\right)} r_{m}^{3} - 4 \\, {\\left({\\left(\\sqrt{2} {\\left(r - r_{m}\\right)}^{\\frac{12}{13}} r^{\\frac{90}{13}} - \\sqrt{2} {\\left(r - r_{m}\\right)}^{\\frac{1}{13}} r^{\\frac{101}{13}}\\right)} r_{m}^{5} - 3 \\, {\\left(\\sqrt{2} {\\left(r - r_{m}\\right)}^{\\frac{12}{13}} r^{\\frac{103}{13}} - \\sqrt{2} {\\left(r - r_{m}\\right)}^{\\frac{1}{13}} r^{\\frac{114}{13}}\\right)} r_{m}^{4} + 3 \\, {\\left(\\sqrt{2} {\\left(r - r_{m}\\right)}^{\\frac{12}{13}} r^{\\frac{116}{13}} - \\sqrt{2} {\\left(r - r_{m}\\right)}^{\\frac{1}{13}} r^{\\frac{127}{13}}\\right)} r_{m}^{3} - {\\left(\\sqrt{2} {\\left(r - r_{m}\\right)}^{\\frac{12}{13}} r^{\\frac{129}{13}} - \\sqrt{2} {\\left(r - r_{m}\\right)}^{\\frac{1}{13}} r^{\\frac{140}{13}}\\right)} r_{m}^{2}\\right)} r_{p}^{3} - {\\left(\\sqrt{2} {\\left(r - r_{m}\\right)}^{\\frac{12}{13}} r^{\\frac{168}{13}} + \\sqrt{2} {\\left(r - r_{m}\\right)}^{\\frac{7}{13}} r^{\\frac{173}{13}} - 4 \\, \\sqrt{2} {\\left(r - r_{m}\\right)}^{\\frac{5}{13}} r^{\\frac{175}{13}} + 6 \\, \\sqrt{2} {\\left(r - r_{m}\\right)}^{\\frac{3}{13}} r^{\\frac{177}{13}} - 4 \\, \\sqrt{2} {\\left(r - r_{m}\\right)}^{\\frac{1}{13}} r^{\\frac{179}{13}}\\right)} r_{m}^{2} + 6 \\, {\\left({\\left(\\sqrt{2} {\\left(r - r_{m}\\right)}^{\\frac{12}{13}} r^{\\frac{103}{13}} - 2 \\, \\sqrt{2} {\\left(r - r_{m}\\right)}^{\\frac{1}{13}} r^{\\frac{114}{13}}\\right)} r_{m}^{5} - {\\left(3 \\, \\sqrt{2} {\\left(r - r_{m}\\right)}^{\\frac{12}{13}} r^{\\frac{116}{13}} + \\sqrt{2} {\\left(r - r_{m}\\right)}^{\\frac{3}{13}} r^{\\frac{125}{13}} - 6 \\, \\sqrt{2} {\\left(r - r_{m}\\right)}^{\\frac{1}{13}} r^{\\frac{127}{13}}\\right)} r_{m}^{4} + {\\left(3 \\, \\sqrt{2} {\\left(r - r_{m}\\right)}^{\\frac{12}{13}} r^{\\frac{129}{13}} + 2 \\, \\sqrt{2} {\\left(r - r_{m}\\right)}^{\\frac{3}{13}} r^{\\frac{138}{13}} - 6 \\, \\sqrt{2} {\\left(r - r_{m}\\right)}^{\\frac{1}{13}} r^{\\frac{140}{13}}\\right)} r_{m}^{3} - {\\left(\\sqrt{2} {\\left(r - r_{m}\\right)}^{\\frac{12}{13}} r^{\\frac{142}{13}} + \\sqrt{2} {\\left(r - r_{m}\\right)}^{\\frac{3}{13}} r^{\\frac{151}{13}} - 2 \\, \\sqrt{2} {\\left(r - r_{m}\\right)}^{\\frac{1}{13}} r^{\\frac{153}{13}}\\right)} r_{m}^{2}\\right)} r_{p}^{2} - 4 \\, {\\left({\\left(\\sqrt{2} {\\left(r - r_{m}\\right)}^{\\frac{12}{13}} r^{\\frac{116}{13}} - 3 \\, \\sqrt{2} {\\left(r - r_{m}\\right)}^{\\frac{1}{13}} r^{\\frac{127}{13}}\\right)} r_{m}^{5} - 3 \\, {\\left(\\sqrt{2} {\\left(r - r_{m}\\right)}^{\\frac{12}{13}} r^{\\frac{129}{13}} + \\sqrt{2} {\\left(r - r_{m}\\right)}^{\\frac{3}{13}} r^{\\frac{138}{13}} - 3 \\, \\sqrt{2} {\\left(r - r_{m}\\right)}^{\\frac{1}{13}} r^{\\frac{140}{13}}\\right)} r_{m}^{4} + {\\left(3 \\, \\sqrt{2} {\\left(r - r_{m}\\right)}^{\\frac{12}{13}} r^{\\frac{142}{13}} - \\sqrt{2} {\\left(r - r_{m}\\right)}^{\\frac{5}{13}} r^{\\frac{149}{13}} + 6 \\, \\sqrt{2} {\\left(r - r_{m}\\right)}^{\\frac{3}{13}} r^{\\frac{151}{13}} - 9 \\, \\sqrt{2} {\\left(r - r_{m}\\right)}^{\\frac{1}{13}} r^{\\frac{153}{13}}\\right)} r_{m}^{3} - {\\left(\\sqrt{2} {\\left(r - r_{m}\\right)}^{\\frac{12}{13}} r^{\\frac{155}{13}} - \\sqrt{2} {\\left(r - r_{m}\\right)}^{\\frac{5}{13}} r^{\\frac{162}{13}} + 3 \\, \\sqrt{2} {\\left(r - r_{m}\\right)}^{\\frac{3}{13}} r^{\\frac{164}{13}} - 3 \\, \\sqrt{2} {\\left(r - r_{m}\\right)}^{\\frac{1}{13}} r^{\\frac{166}{13}}\\right)} r_{m}^{2}\\right)} r_{p}\\right)}}$"
      ],
      "text/plain": [
       "\\Psi_{3} = W_{\\alpha\\beta\\gamma\\delta}l^{\\alpha}n^{\\beta}\\bar{m}^{\\gamma}n^{\\delta} =  1/22308*(-13860*I*r^(76/13)*r_m^7 - 3*(5746*I*(r - r_m)^(11/13)*r^6 + 13860*I*(r - r_m)^(2/13)*r^(87/13) - 36103*I*r^(89/13))*r_m^6 + (44785*I*(r - r_m)^(11/13)*r^7 - 41580*I*(r - r_m)^(4/13)*r^(98/13) + 203579*I*(r - r_m)^(2/13)*r^(100/13) - 220980*I*r^(102/13))*r_m^5 + (-28561*I*(r - r_m)^(11/13)*r^7 + 28561*I*(r - r_m)^(2/13)*r^(100/13) + 29304*I*r^(11/13)*r_m^7 - 6*(-5915*I*(r - r_m)^(11/13)*r + 22374*I*r^(24/13))*r_m^6 + (-111202*I*(r - r_m)^(11/13)*r^2 - 50024*I*(r - r_m)^(2/13)*r^(35/13) + 243639*I*r^(37/13))*r_m^5 - 3*(-20449*I*(r - r_m)^(11/13)*r^3 - 76388*I*(r - r_m)^(2/13)*r^(48/13) + 72831*I*r^(50/13))*r_m^4 - 13*(-12064*I*(r - r_m)^(11/13)*r^4 + 31993*I*(r - r_m)^(2/13)*r^(61/13) - 7425*I*r^(63/13))*r_m^3 - 169*(1532*I*(r - r_m)^(11/13)*r^5 - 2207*I*(r - r_m)^(2/13)*r^(74/13) + 99*I*r^(76/13))*r_m^2 - 6591*(-22*I*(r - r_m)^(11/13)*r^6 + 25*I*(r - r_m)^(2/13)*r^(87/13))*r_m)*r_p^5 + (-6760*I*(r - r_m)^(11/13)*r^8 - 13860*I*(r - r_m)^(6/13)*r^(109/13) + 174843*I*(r - r_m)^(4/13)*r^(111/13) - 309458*I*(r - r_m)^(2/13)*r^(113/13) + 79185*I*r^(115/13))*r_m^4 + (114244*I*(r - r_m)^(11/13)*r^8 + 85683*I*(r - r_m)^(4/13)*r^(111/13) - 114244*I*(r - r_m)^(2/13)*r^(113/13) - 85683*I*r^(115/13) - 131076*I*r^(24/13)*r_m^7 - 3*(53066*I*(r - r_m)^(11/13)*r^2 + 29304*I*(r - r_m)^(2/13)*r^(35/13) - 233347*I*r^(37/13))*r_m^6 + (489593*I*(r - r_m)^(11/13)*r^3 + 538576*I*(r - r_m)^(2/13)*r^(48/13) - 1394787*I*r^(50/13))*r_m^5 - 2*(126074*I*(r - r_m)^(11/13)*r^4 - 75036*I*(r - r_m)^(4/13)*r^(59/13) + 713950*I*(r - r_m)^(2/13)*r^(61/13) - 558459*I*r^(63/13))*r_m^4 - 13*(54106*I*(r - r_m)^(11/13)*r^5 + 41340*I*(r - r_m)^(4/13)*r^(72/13) - 157423*I*(r - r_m)^(2/13)*r^(74/13) - 5337*I*r^(76/13))*r_m^3 - 169*(-6598*I*(r - r_m)^(11/13)*r^6 - 4203*I*(r - r_m)^(4/13)*r^(85/13) + 9694*I*(r - r_m)^(2/13)*r^(87/13) + 4200*I*r^(89/13))*r_m^2 - 2197*(275*I*(r - r_m)^(11/13)*r^7 + 186*I*(r - r_m)^(4/13)*r^(98/13) - 311*I*(r - r_m)^(2/13)*r^(100/13) - 198*I*r^(102/13))*r_m)*r_p^4 - 65*(1170*I*(r - r_m)^(11/13)*r^9 - 1323*I*(r - r_m)^(6/13)*r^(122/13) + 4151*I*(r - r_m)^(4/13)*r^(124/13) - 1941*I*(r - r_m)^(2/13)*r^(126/13) - 3279*I*r^(128/13))*r_m^3 + (-171366*I*(r - r_m)^(11/13)*r^9 + 85683*I*(r - r_m)^(6/13)*r^(122/13) - 257049*I*(r - r_m)^(4/13)*r^(124/13) + 85683*I*(r - r_m)^(2/13)*r^(126/13) + 257049*I*r^(128/13) + 231264*I*r^(37/13)*r_m^7 - 12*(-23491*I*(r - r_m)^(11/13)*r^3 - 25443*I*(r - r_m)^(2/13)*r^(48/13) + 116914*I*r^(50/13))*r_m^6 + (-846352*I*(r - r_m)^(11/13)*r^4 + 87912*I*(r - r_m)^(4/13)*r^(59/13) - 1573919*I*(r - r_m)^(2/13)*r^(61/13) + 2943507*I*r^(63/13))*r_m^5 + (395122*I*(r - r_m)^(11/13)*r^5 - 748104*I*(r - r_m)^(4/13)*r^(72/13) + 3362669*I*(r - r_m)^(2/13)*r^(74/13) - 2118981*I*r^(76/13))*r_m^4 - 78*(-15964*I*(r - r_m)^(11/13)*r^6 + 1924*I*(r - r_m)^(6/13)*r^(83/13) - 25845*I*(r - r_m)^(4/13)*r^(85/13) + 48583*I*(r - r_m)^(2/13)*r^(87/13) + 12826*I*r^(89/13))*r_m^3 - 676*(2768*I*(r - r_m)^(11/13)*r^7 - 573*I*(r - r_m)^(6/13)*r^(96/13) + 3546*I*(r - r_m)^(4/13)*r^(98/13) - 3470*I*(r - r_m)^(2/13)*r^(100/13) - 3651*I*r^(102/13))*r_m^2 - 2197*(-440*I*(r - r_m)^(11/13)*r^8 + 147*I*(r - r_m)^(6/13)*r^(109/13) - 591*I*(r - r_m)^(4/13)*r^(111/13) + 335*I*(r - r_m)^(2/13)*r^(113/13) + 627*I*r^(115/13))*r_m)*r_p^3 - 169*(-470*I*(r - r_m)^(11/13)*r^10 - 140*I*(r - r_m)^(8/13)*r^(133/13) + 849*I*(r - r_m)^(6/13)*r^(135/13) - 1094*I*(r - r_m)^(4/13)*r^(137/13) - 412*I*(r - r_m)^(2/13)*r^(139/13) + 1410*I*r^(141/13))*r_m^2 + (114244*I*(r - r_m)^(11/13)*r^10 + 28561*I*(r - r_m)^(8/13)*r^(133/13) - 171366*I*(r - r_m)^(6/13)*r^(135/13) + 228488*I*(r - r_m)^(4/13)*r^(137/13) + 57122*I*(r - r_m)^(2/13)*r^(139/13) - 257049*I*r^(141/13) - 200376*I*r^(50/13)*r_m^7 - 6*(40898*I*(r - r_m)^(11/13)*r^4 + 64746*I*(r - r_m)^(2/13)*r^(61/13) - 225183*I*r^(63/13))*r_m^6 + (713518*I*(r - r_m)^(11/13)*r^5 - 217404*I*(r - r_m)^(4/13)*r^(72/13) + 1935785*I*(r - r_m)^(2/13)*r^(74/13) - 2898189*I*r^(76/13))*r_m^5 - 3*(95316*I*(r - r_m)^(11/13)*r^6 + 9768*I*(r - r_m)^(6/13)*r^(83/13) - 413029*I*(r - r_m)^(4/13)*r^(85/13) + 1222584*I*(r - r_m)^(2/13)*r^(87/13) - 613455*I*r^(89/13))*r_m^4 - 52*(20839*I*(r - r_m)^(11/13)*r^7 - 8028*I*(r - r_m)^(6/13)*r^(96/13) + 52294*I*(r - r_m)^(4/13)*r^(98/13) - 62101*I*(r - r_m)^(2/13)*r^(100/13) - 31149*I*r^(102/13))*r_m^3 - 338*(-4474*I*(r - r_m)^(11/13)*r^8 - 148*I*(r - r_m)^(8/13)*r^(107/13) + 2766*I*(r - r_m)^(6/13)*r^(109/13) - 8357*I*(r - r_m)^(4/13)*r^(111/13) + 3547*I*(r - r_m)^(2/13)*r^(113/13) + 8811*I*r^(115/13))*r_m^2 - 2197*(330*I*(r - r_m)^(11/13)*r^9 + 36*I*(r - r_m)^(8/13)*r^(120/13) - 327*I*(r - r_m)^(6/13)*r^(122/13) + 617*I*(r - r_m)^(4/13)*r^(124/13) - 15*I*(r - r_m)^(2/13)*r^(126/13) - 693*I*r^(128/13))*r_m)*r_p^2 - 24167*(I*(r - r_m)^(11/13)*r^11 + I*(r - r_m)^(8/13)*r^(146/13) - 3*I*(r - r_m)^(6/13)*r^(148/13) + 2*I*(r - r_m)^(4/13)*r^(150/13) + 2*I*(r - r_m)^(2/13)*r^(152/13) - 3*I*r^(154/13))*r_m + (-28561*I*(r - r_m)^(11/13)*r^11 - 28561*I*(r - r_m)^(8/13)*r^(146/13) + 85683*I*(r - r_m)^(6/13)*r^(148/13) - 57122*I*(r - r_m)^(4/13)*r^(150/13) - 57122*I*(r - r_m)^(2/13)*r^(152/13) + 85683*I*r^(154/13) + 84744*I*r^(63/13)*r_m^7 - 6*(-17407*I*(r - r_m)^(11/13)*r^5 - 35442*I*(r - r_m)^(2/13)*r^(74/13) + 103706*I*r^(76/13))*r_m^6 + (-290342*I*(r - r_m)^(11/13)*r^6 + 171072*I*(r - r_m)^(4/13)*r^(85/13) - 1053997*I*(r - r_m)^(2/13)*r^(87/13) + 1326810*I*r^(89/13))*r_m^5 + (88387*I*(r - r_m)^(11/13)*r^7 + 43164*I*(r - r_m)^(6/13)*r^(96/13) - 815898*I*(r - r_m)^(4/13)*r^(98/13) + 1813277*I*(r - r_m)^(2/13)*r^(100/13) - 698994*I*r^(102/13))*r_m^4 - 13*(-35464*I*(r - r_m)^(11/13)*r^8 + 27183*I*(r - r_m)^(6/13)*r^(109/13) - 116201*I*(r - r_m)^(4/13)*r^(111/13) + 92041*I*(r - r_m)^(2/13)*r^(113/13) + 76797*I*r^(115/13))*r_m^3 - 169*(3412*I*(r - r_m)^(11/13)*r^9 + 436*I*(r - r_m)^(8/13)*r^(120/13) - 4089*I*(r - r_m)^(6/13)*r^(122/13) + 7827*I*(r - r_m)^(4/13)*r^(124/13) - 289*I*(r - r_m)^(2/13)*r^(126/13) - 8727*I*r^(128/13))*r_m^2 - 2197*(-110*I*(r - r_m)^(11/13)*r^10 - 47*I*(r - r_m)^(8/13)*r^(133/13) + 213*I*(r - r_m)^(6/13)*r^(135/13) - 234*I*(r - r_m)^(4/13)*r^(137/13) - 106*I*(r - r_m)^(2/13)*r^(139/13) + 297*I*r^(141/13))*r_m)*r_p)*a*sin(th)/((sqrt(2)*(r - r_m)^(12/13)*r^(129/13) - 4*sqrt(2)*(r - r_m)^(1/13)*r^(140/13))*r_m^5 - 3*(sqrt(2)*(r - r_m)^(12/13)*r^(142/13) + 2*sqrt(2)*(r - r_m)^(3/13)*r^(151/13) - 4*sqrt(2)*(r - r_m)^(1/13)*r^(153/13))*r_m^4 - (sqrt(2)*(r - r_m)^(12/13)*r^(116/13)*r_m^2 - 3*sqrt(2)*(r - r_m)^(12/13)*r^(103/13)*r_m^3 + 3*sqrt(2)*(r - r_m)^(12/13)*r^(90/13)*r_m^4 - sqrt(2)*(r - r_m)^(12/13)*r^(77/13)*r_m^5)*r_p^4 + (3*sqrt(2)*(r - r_m)^(12/13)*r^(155/13) - 4*sqrt(2)*(r - r_m)^(5/13)*r^(162/13) + 12*sqrt(2)*(r - r_m)^(3/13)*r^(164/13) - 12*sqrt(2)*(r - r_m)^(1/13)*r^(166/13))*r_m^3 - 4*((sqrt(2)*(r - r_m)^(12/13)*r^(90/13) - sqrt(2)*(r - r_m)^(1/13)*r^(101/13))*r_m^5 - 3*(sqrt(2)*(r - r_m)^(12/13)*r^(103/13) - sqrt(2)*(r - r_m)^(1/13)*r^(114/13))*r_m^4 + 3*(sqrt(2)*(r - r_m)^(12/13)*r^(116/13) - sqrt(2)*(r - r_m)^(1/13)*r^(127/13))*r_m^3 - (sqrt(2)*(r - r_m)^(12/13)*r^(129/13) - sqrt(2)*(r - r_m)^(1/13)*r^(140/13))*r_m^2)*r_p^3 - (sqrt(2)*(r - r_m)^(12/13)*r^(168/13) + sqrt(2)*(r - r_m)^(7/13)*r^(173/13) - 4*sqrt(2)*(r - r_m)^(5/13)*r^(175/13) + 6*sqrt(2)*(r - r_m)^(3/13)*r^(177/13) - 4*sqrt(2)*(r - r_m)^(1/13)*r^(179/13))*r_m^2 + 6*((sqrt(2)*(r - r_m)^(12/13)*r^(103/13) - 2*sqrt(2)*(r - r_m)^(1/13)*r^(114/13))*r_m^5 - (3*sqrt(2)*(r - r_m)^(12/13)*r^(116/13) + sqrt(2)*(r - r_m)^(3/13)*r^(125/13) - 6*sqrt(2)*(r - r_m)^(1/13)*r^(127/13))*r_m^4 + (3*sqrt(2)*(r - r_m)^(12/13)*r^(129/13) + 2*sqrt(2)*(r - r_m)^(3/13)*r^(138/13) - 6*sqrt(2)*(r - r_m)^(1/13)*r^(140/13))*r_m^3 - (sqrt(2)*(r - r_m)^(12/13)*r^(142/13) + sqrt(2)*(r - r_m)^(3/13)*r^(151/13) - 2*sqrt(2)*(r - r_m)^(1/13)*r^(153/13))*r_m^2)*r_p^2 - 4*((sqrt(2)*(r - r_m)^(12/13)*r^(116/13) - 3*sqrt(2)*(r - r_m)^(1/13)*r^(127/13))*r_m^5 - 3*(sqrt(2)*(r - r_m)^(12/13)*r^(129/13) + sqrt(2)*(r - r_m)^(3/13)*r^(138/13) - 3*sqrt(2)*(r - r_m)^(1/13)*r^(140/13))*r_m^4 + (3*sqrt(2)*(r - r_m)^(12/13)*r^(142/13) - sqrt(2)*(r - r_m)^(5/13)*r^(149/13) + 6*sqrt(2)*(r - r_m)^(3/13)*r^(151/13) - 9*sqrt(2)*(r - r_m)^(1/13)*r^(153/13))*r_m^3 - (sqrt(2)*(r - r_m)^(12/13)*r^(155/13) - sqrt(2)*(r - r_m)^(5/13)*r^(162/13) + 3*sqrt(2)*(r - r_m)^(3/13)*r^(164/13) - 3*sqrt(2)*(r - r_m)^(1/13)*r^(166/13))*r_m^2)*r_p)"
      ]
     },
     "metadata": {},
     "output_type": "display_data"
    }
   ],
   "source": [
    "print('1st contraction', Weyl_tensor.tensor_type())\n",
    "Psi3 = Weyl_tensor.contract(0, tetrad_L, 0)\n",
    "Psi3.apply_map(lambda u: u.taylor(a,0,1))\n",
    "print('2nd contraction', Psi3.tensor_type())\n",
    "Psi3 = Psi3.contract(0, tetrad_N, 0)\n",
    "Psi3.apply_map(lambda u: u.taylor(a,0,1))\n",
    "print('3rd contraction', Psi3.tensor_type())\n",
    "Psi3 = Psi3.contract(0, tetrad_Mbar, 0)\n",
    "Psi3.apply_map(lambda u: u.taylor(a,0,1))\n",
    "print('4th contraction', Psi3.tensor_type())\n",
    "Psi3 = Psi3.contract(0, tetrad_N, 0)\n",
    "Psi3 = Psi3.expr().taylor(a,0,1)\n",
    "latex_str = r'\\Psi_{3} = W_{\\alpha\\beta\\gamma\\delta}l^{\\alpha}n^{\\beta}\\bar{m}^{\\gamma}n^{\\delta} = ' \n",
    "show(LatexExpr(latex_str), Psi3)"
   ]
  },
  {
   "cell_type": "markdown",
   "id": "852cf8a0",
   "metadata": {},
   "source": [
    "## Scalar IV"
   ]
  },
  {
   "cell_type": "code",
   "execution_count": 29,
   "id": "5fcf17b3",
   "metadata": {},
   "outputs": [
    {
     "name": "stdout",
     "output_type": "stream",
     "text": [
      "1st contraction (0, 4)\n",
      "2nd contraction (0, 3)\n",
      "3rd contraction (0, 2)\n",
      "4th contraction (0, 1)\n"
     ]
    },
    {
     "data": {
      "text/html": [
       "<html>\\(\\displaystyle \\Psi_{4} = W_{\\alpha\\beta\\gamma\\delta}n^{\\alpha}\\bar{m}^{\\beta}n^{\\gamma}\\bar{m}^{\\delta} =  0\\)</html>"
      ],
      "text/latex": [
       "$\\displaystyle \\Psi_{4} = W_{\\alpha\\beta\\gamma\\delta}n^{\\alpha}\\bar{m}^{\\beta}n^{\\gamma}\\bar{m}^{\\delta} =  0$"
      ],
      "text/plain": [
       "\\Psi_{4} = W_{\\alpha\\beta\\gamma\\delta}n^{\\alpha}\\bar{m}^{\\beta}n^{\\gamma}\\bar{m}^{\\delta} =  0"
      ]
     },
     "metadata": {},
     "output_type": "display_data"
    }
   ],
   "source": [
    "print('1st contraction', Weyl_tensor.tensor_type())\n",
    "Psi4 = Weyl_tensor.contract(0, tetrad_N, 0)\n",
    "Psi4.apply_map(lambda u: u.taylor(a,0,1))\n",
    "print('2nd contraction', Psi4.tensor_type())\n",
    "Psi4 = Psi4.contract(0, tetrad_Mbar, 0)\n",
    "Psi4.apply_map(lambda u: u.taylor(a,0,1))\n",
    "print('3rd contraction', Psi4.tensor_type())\n",
    "Psi4 = Psi4.contract(0, tetrad_N, 0)\n",
    "Psi4.apply_map(lambda u: u.taylor(a,0,1))\n",
    "print('4th contraction', Psi4.tensor_type())\n",
    "Psi4 = Psi4.contract(0, tetrad_Mbar, 0)\n",
    "Psi4 = Psi4.expr().taylor(a,0,1)\n",
    "latex_str = r'\\Psi_{4} = W_{\\alpha\\beta\\gamma\\delta}n^{\\alpha}\\bar{m}^{\\beta}n^{\\gamma}\\bar{m}^{\\delta} = ' \n",
    "show(LatexExpr(latex_str), Psi4)"
   ]
  },
  {
   "cell_type": "markdown",
   "id": "7d98fd32",
   "metadata": {},
   "source": [
    "Let's test the characteristics of $\\Psi_{1}$, $\\Psi_{2}$ and $\\Psi_{3}$"
   ]
  },
  {
   "cell_type": "code",
   "execution_count": 30,
   "id": "d92c9efd",
   "metadata": {},
   "outputs": [
    {
     "data": {
      "text/html": [
       "<html>\\(\\displaystyle \\Psi_{1} =  0  + \\mathfrak{O}(r_m^2)\\)</html>"
      ],
      "text/latex": [
       "$\\displaystyle \\Psi_{1} =  0  + \\mathfrak{O}(r_m^2)$"
      ],
      "text/plain": [
       "\\Psi_{1} =  0  + \\mathfrak{O}(r_m^2)"
      ]
     },
     "metadata": {},
     "output_type": "display_data"
    },
    {
     "data": {
      "text/html": [
       "<html>\\(\\displaystyle \\Psi_{2} =  \\frac{-3 i \\, a r_{p} \\cos\\left({\\theta}\\right) - r r_{p}}{2 \\, r^{4}} - \\frac{{\\left(11 \\, r^{2} - 25 \\, r r_{p} - {\\left(-35 i \\, a r + 48 i \\, a r_{p}\\right)} \\cos\\left({\\theta}\\right)\\right)} r_{m}}{26 \\, r^{5}}  + \\mathfrak{O}(r_m^2)\\)</html>"
      ],
      "text/latex": [
       "$\\displaystyle \\Psi_{2} =  \\frac{-3 i \\, a r_{p} \\cos\\left({\\theta}\\right) - r r_{p}}{2 \\, r^{4}} - \\frac{{\\left(11 \\, r^{2} - 25 \\, r r_{p} - {\\left(-35 i \\, a r + 48 i \\, a r_{p}\\right)} \\cos\\left({\\theta}\\right)\\right)} r_{m}}{26 \\, r^{5}}  + \\mathfrak{O}(r_m^2)$"
      ],
      "text/plain": [
       "\\Psi_{2} =  1/2*(-3*I*a*r_p*cos(th) - r*r_p)/r^4 - 1/26*(11*r^2 - 25*r*r_p - (-35*I*a*r + 48*I*a*r_p)*cos(th))*r_m/r^5  + \\mathfrak{O}(r_m^2)"
      ]
     },
     "metadata": {},
     "output_type": "display_data"
    },
    {
     "data": {
      "text/html": [
       "<html>\\(\\displaystyle \\Psi_{3} =  0  + \\mathfrak{O}(r_m^2)\\)</html>"
      ],
      "text/latex": [
       "$\\displaystyle \\Psi_{3} =  0  + \\mathfrak{O}(r_m^2)$"
      ],
      "text/plain": [
       "\\Psi_{3} =  0  + \\mathfrak{O}(r_m^2)"
      ]
     },
     "metadata": {},
     "output_type": "display_data"
    }
   ],
   "source": [
    "show(LatexExpr(r'\\Psi_{1} = '),Psi1.taylor(r_m,0,1),LatexExpr(r' + \\mathfrak{O}(r_m^2)'))\n",
    "show(LatexExpr(r'\\Psi_{2} = '),Psi2.taylor(r_m,0,1),LatexExpr(r' + \\mathfrak{O}(r_m^2)'))\n",
    "show(LatexExpr(r'\\Psi_{3} = '),Psi3.taylor(r_m,0,1),LatexExpr(r' + \\mathfrak{O}(r_m^2)'))"
   ]
  },
  {
   "cell_type": "code",
   "execution_count": 31,
   "id": "e65e1e6e",
   "metadata": {},
   "outputs": [
    {
     "data": {
      "text/html": [
       "<html>\\(\\displaystyle \\lim_{a \\to 0}\\Psi_{1} =  0\\)</html>"
      ],
      "text/latex": [
       "$\\displaystyle \\lim_{a \\to 0}\\Psi_{1} =  0$"
      ],
      "text/plain": [
       "\\lim_{a \\to 0}\\Psi_{1} =  0"
      ]
     },
     "metadata": {},
     "output_type": "display_data"
    },
    {
     "data": {
      "text/html": [
       "<html>\\(\\displaystyle \\lim_{a \\to 0}\\Psi_{2} =  \\frac{140 \\, {\\left(r - r_{m}\\right)}^{\\frac{1}{13}} r^{\\frac{141}{13}} r_{m}^{10} + {\\left(169 \\, {\\left(r - r_{m}\\right)}^{\\frac{1}{13}} r^{\\frac{141}{13}} - 1820 \\, {\\left(r - r_{m}\\right)}^{\\frac{1}{13}} r^{\\frac{128}{13}} r_{m} + 8772 \\, {\\left(r - r_{m}\\right)}^{\\frac{1}{13}} r^{\\frac{115}{13}} r_{m}^{2} - 24936 \\, {\\left(r - r_{m}\\right)}^{\\frac{1}{13}} r^{\\frac{102}{13}} r_{m}^{3} + 46326 \\, {\\left(r - r_{m}\\right)}^{\\frac{1}{13}} r^{\\frac{89}{13}} r_{m}^{4} - 58800 \\, {\\left(r - r_{m}\\right)}^{\\frac{1}{13}} r^{\\frac{76}{13}} r_{m}^{5} + 51660 \\, {\\left(r - r_{m}\\right)}^{\\frac{1}{13}} r^{\\frac{63}{13}} r_{m}^{6} - 31032 \\, {\\left(r - r_{m}\\right)}^{\\frac{1}{13}} r^{\\frac{50}{13}} r_{m}^{7} + 12201 \\, {\\left(r - r_{m}\\right)}^{\\frac{1}{13}} r^{\\frac{37}{13}} r_{m}^{8} - 2836 \\, {\\left(r - r_{m}\\right)}^{\\frac{1}{13}} r^{\\frac{24}{13}} r_{m}^{9} + 296 \\, {\\left(r - r_{m}\\right)}^{\\frac{1}{13}} r^{\\frac{11}{13}} r_{m}^{10}\\right)} r_{p}^{10} + 3 \\, {\\left(420 \\, {\\left(r - r_{m}\\right)}^{\\frac{3}{13}} r^{\\frac{152}{13}} - 421 \\, {\\left(r - r_{m}\\right)}^{\\frac{1}{13}} r^{\\frac{154}{13}}\\right)} r_{m}^{9} + {\\left(1521 \\, {\\left(r - r_{m}\\right)}^{\\frac{3}{13}} r^{\\frac{152}{13}} - 1521 \\, {\\left(r - r_{m}\\right)}^{\\frac{1}{13}} r^{\\frac{154}{13}} - 2804 \\, {\\left(r - r_{m}\\right)}^{\\frac{1}{13}} r^{\\frac{24}{13}} r_{m}^{10} - 3 \\, {\\left(888 \\, {\\left(r - r_{m}\\right)}^{\\frac{3}{13}} r^{\\frac{35}{13}} - 8929 \\, {\\left(r - r_{m}\\right)}^{\\frac{1}{13}} r^{\\frac{37}{13}}\\right)} r_{m}^{9} + 3 \\, {\\left(7620 \\, {\\left(r - r_{m}\\right)}^{\\frac{3}{13}} r^{\\frac{48}{13}} - 38291 \\, {\\left(r - r_{m}\\right)}^{\\frac{1}{13}} r^{\\frac{50}{13}}\\right)} r_{m}^{8} - 9 \\, {\\left(9661 \\, {\\left(r - r_{m}\\right)}^{\\frac{3}{13}} r^{\\frac{61}{13}} - 32348 \\, {\\left(r - r_{m}\\right)}^{\\frac{1}{13}} r^{\\frac{63}{13}}\\right)} r_{m}^{7} + 21 \\, {\\left(9159 \\, {\\left(r - r_{m}\\right)}^{\\frac{3}{13}} r^{\\frac{74}{13}} - 22988 \\, {\\left(r - r_{m}\\right)}^{\\frac{1}{13}} r^{\\frac{76}{13}}\\right)} r_{m}^{6} - 21 \\, {\\left(12981 \\, {\\left(r - r_{m}\\right)}^{\\frac{3}{13}} r^{\\frac{87}{13}} - 26050 \\, {\\left(r - r_{m}\\right)}^{\\frac{1}{13}} r^{\\frac{89}{13}}\\right)} r_{m}^{5} + 21 \\, {\\left(12219 \\, {\\left(r - r_{m}\\right)}^{\\frac{3}{13}} r^{\\frac{100}{13}} - 20422 \\, {\\left(r - r_{m}\\right)}^{\\frac{1}{13}} r^{\\frac{102}{13}}\\right)} r_{m}^{4} - 3 \\, {\\left(53445 \\, {\\left(r - r_{m}\\right)}^{\\frac{3}{13}} r^{\\frac{113}{13}} - 76516 \\, {\\left(r - r_{m}\\right)}^{\\frac{1}{13}} r^{\\frac{115}{13}}\\right)} r_{m}^{3} + 3 \\, {\\left(21363 \\, {\\left(r - r_{m}\\right)}^{\\frac{3}{13}} r^{\\frac{126}{13}} - 26744 \\, {\\left(r - r_{m}\\right)}^{\\frac{1}{13}} r^{\\frac{128}{13}}\\right)} r_{m}^{2} - 13 \\, {\\left(1143 \\, {\\left(r - r_{m}\\right)}^{\\frac{3}{13}} r^{\\frac{139}{13}} - 1271 \\, {\\left(r - r_{m}\\right)}^{\\frac{1}{13}} r^{\\frac{141}{13}}\\right)} r_{m}\\right)} r_{p}^{9} + 3 \\, {\\left(1680 \\, {\\left(r - r_{m}\\right)}^{\\frac{5}{13}} r^{\\frac{163}{13}} - 3369 \\, {\\left(r - r_{m}\\right)}^{\\frac{3}{13}} r^{\\frac{165}{13}} + 1688 \\, {\\left(r - r_{m}\\right)}^{\\frac{1}{13}} r^{\\frac{167}{13}}\\right)} r_{m}^{8} + 9 \\, {\\left(676 \\, {\\left(r - r_{m}\\right)}^{\\frac{5}{13}} r^{\\frac{163}{13}} - 1352 \\, {\\left(r - r_{m}\\right)}^{\\frac{3}{13}} r^{\\frac{165}{13}} + 676 \\, {\\left(r - r_{m}\\right)}^{\\frac{1}{13}} r^{\\frac{167}{13}} + 1324 \\, {\\left(r - r_{m}\\right)}^{\\frac{1}{13}} r^{\\frac{37}{13}} r_{m}^{10} + {\\left(2508 \\, {\\left(r - r_{m}\\right)}^{\\frac{3}{13}} r^{\\frac{48}{13}} - 12607 \\, {\\left(r - r_{m}\\right)}^{\\frac{1}{13}} r^{\\frac{50}{13}}\\right)} r_{m}^{9} + {\\left(1184 \\, {\\left(r - r_{m}\\right)}^{\\frac{5}{13}} r^{\\frac{59}{13}} - 21443 \\, {\\left(r - r_{m}\\right)}^{\\frac{3}{13}} r^{\\frac{61}{13}} + 53868 \\, {\\left(r - r_{m}\\right)}^{\\frac{1}{13}} r^{\\frac{63}{13}}\\right)} r_{m}^{8} - {\\left(8976 \\, {\\left(r - r_{m}\\right)}^{\\frac{5}{13}} r^{\\frac{72}{13}} - 81229 \\, {\\left(r - r_{m}\\right)}^{\\frac{3}{13}} r^{\\frac{74}{13}} + 135972 \\, {\\left(r - r_{m}\\right)}^{\\frac{1}{13}} r^{\\frac{76}{13}}\\right)} r_{m}^{7} + {\\left(29668 \\, {\\left(r - r_{m}\\right)}^{\\frac{5}{13}} r^{\\frac{85}{13}} - 178871 \\, {\\left(r - r_{m}\\right)}^{\\frac{3}{13}} r^{\\frac{87}{13}} + 224448 \\, {\\left(r - r_{m}\\right)}^{\\frac{1}{13}} r^{\\frac{89}{13}}\\right)} r_{m}^{6} - {\\left(55816 \\, {\\left(r - r_{m}\\right)}^{\\frac{5}{13}} r^{\\frac{98}{13}} - 252217 \\, {\\left(r - r_{m}\\right)}^{\\frac{3}{13}} r^{\\frac{100}{13}} + 253050 \\, {\\left(r - r_{m}\\right)}^{\\frac{1}{13}} r^{\\frac{102}{13}}\\right)} r_{m}^{5} + {\\left(65340 \\, {\\left(r - r_{m}\\right)}^{\\frac{5}{13}} r^{\\frac{111}{13}} - 236033 \\, {\\left(r - r_{m}\\right)}^{\\frac{3}{13}} r^{\\frac{113}{13}} + 197232 \\, {\\left(r - r_{m}\\right)}^{\\frac{1}{13}} r^{\\frac{115}{13}}\\right)} r_{m}^{4} - {\\left(48704 \\, {\\left(r - r_{m}\\right)}^{\\frac{5}{13}} r^{\\frac{124}{13}} - 146503 \\, {\\left(r - r_{m}\\right)}^{\\frac{3}{13}} r^{\\frac{126}{13}} + 104868 \\, {\\left(r - r_{m}\\right)}^{\\frac{1}{13}} r^{\\frac{128}{13}}\\right)} r_{m}^{3} + {\\left(22556 \\, {\\left(r - r_{m}\\right)}^{\\frac{5}{13}} r^{\\frac{137}{13}} - 58109 \\, {\\left(r - r_{m}\\right)}^{\\frac{3}{13}} r^{\\frac{139}{13}} + 36372 \\, {\\left(r - r_{m}\\right)}^{\\frac{1}{13}} r^{\\frac{141}{13}}\\right)} r_{m}^{2} - 13 \\, {\\left(456 \\, {\\left(r - r_{m}\\right)}^{\\frac{5}{13}} r^{\\frac{150}{13}} - 1027 \\, {\\left(r - r_{m}\\right)}^{\\frac{3}{13}} r^{\\frac{152}{13}} + 571 \\, {\\left(r - r_{m}\\right)}^{\\frac{1}{13}} r^{\\frac{154}{13}}\\right)} r_{m}\\right)} r_{p}^{8} + 3 \\, {\\left(3920 \\, {\\left(r - r_{m}\\right)}^{\\frac{7}{13}} r^{\\frac{174}{13}} - 11796 \\, {\\left(r - r_{m}\\right)}^{\\frac{5}{13}} r^{\\frac{176}{13}} + 11823 \\, {\\left(r - r_{m}\\right)}^{\\frac{3}{13}} r^{\\frac{178}{13}} - 3948 \\, {\\left(r - r_{m}\\right)}^{\\frac{1}{13}} r^{\\frac{180}{13}}\\right)} r_{m}^{7} + 12 \\, {\\left(1183 \\, {\\left(r - r_{m}\\right)}^{\\frac{7}{13}} r^{\\frac{174}{13}} - 3549 \\, {\\left(r - r_{m}\\right)}^{\\frac{5}{13}} r^{\\frac{176}{13}} + 3549 \\, {\\left(r - r_{m}\\right)}^{\\frac{3}{13}} r^{\\frac{178}{13}} - 1183 \\, {\\left(r - r_{m}\\right)}^{\\frac{1}{13}} r^{\\frac{180}{13}} - 2492 \\, {\\left(r - r_{m}\\right)}^{\\frac{1}{13}} r^{\\frac{50}{13}} r_{m}^{10} - {\\left(7056 \\, {\\left(r - r_{m}\\right)}^{\\frac{3}{13}} r^{\\frac{61}{13}} - 23641 \\, {\\left(r - r_{m}\\right)}^{\\frac{1}{13}} r^{\\frac{63}{13}}\\right)} r_{m}^{9} - 3 \\, {\\left(2212 \\, {\\left(r - r_{m}\\right)}^{\\frac{5}{13}} r^{\\frac{72}{13}} - 20026 \\, {\\left(r - r_{m}\\right)}^{\\frac{3}{13}} r^{\\frac{74}{13}} + 33533 \\, {\\left(r - r_{m}\\right)}^{\\frac{1}{13}} r^{\\frac{76}{13}}\\right)} r_{m}^{8} - {\\left(2072 \\, {\\left(r - r_{m}\\right)}^{\\frac{7}{13}} r^{\\frac{83}{13}} - 50073 \\, {\\left(r - r_{m}\\right)}^{\\frac{5}{13}} r^{\\frac{85}{13}} + 226527 \\, {\\left(r - r_{m}\\right)}^{\\frac{3}{13}} r^{\\frac{87}{13}} - 252756 \\, {\\left(r - r_{m}\\right)}^{\\frac{1}{13}} r^{\\frac{89}{13}}\\right)} r_{m}^{7} + {\\left(13636 \\, {\\left(r - r_{m}\\right)}^{\\frac{7}{13}} r^{\\frac{96}{13}} - 164631 \\, {\\left(r - r_{m}\\right)}^{\\frac{5}{13}} r^{\\frac{98}{13}} + 496209 \\, {\\left(r - r_{m}\\right)}^{\\frac{3}{13}} r^{\\frac{100}{13}} - 415044 \\, {\\left(r - r_{m}\\right)}^{\\frac{1}{13}} r^{\\frac{102}{13}}\\right)} r_{m}^{6} - 3 \\, {\\left(12761 \\, {\\left(r - r_{m}\\right)}^{\\frac{7}{13}} r^{\\frac{109}{13}} - 102623 \\, {\\left(r - r_{m}\\right)}^{\\frac{5}{13}} r^{\\frac{111}{13}} + 231833 \\, {\\left(r - r_{m}\\right)}^{\\frac{3}{13}} r^{\\frac{113}{13}} - 155050 \\, {\\left(r - r_{m}\\right)}^{\\frac{1}{13}} r^{\\frac{115}{13}}\\right)} r_{m}^{5} + {\\left(59395 \\, {\\left(r - r_{m}\\right)}^{\\frac{7}{13}} r^{\\frac{122}{13}} - 357915 \\, {\\left(r - r_{m}\\right)}^{\\frac{5}{13}} r^{\\frac{124}{13}} + 646401 \\, {\\left(r - r_{m}\\right)}^{\\frac{3}{13}} r^{\\frac{126}{13}} - 360066 \\, {\\left(r - r_{m}\\right)}^{\\frac{1}{13}} r^{\\frac{128}{13}}\\right)} r_{m}^{4} - {\\left(54950 \\, {\\left(r - r_{m}\\right)}^{\\frac{7}{13}} r^{\\frac{135}{13}} - 264651 \\, {\\left(r - r_{m}\\right)}^{\\frac{5}{13}} r^{\\frac{137}{13}} + 398013 \\, {\\left(r - r_{m}\\right)}^{\\frac{3}{13}} r^{\\frac{139}{13}} - 189924 \\, {\\left(r - r_{m}\\right)}^{\\frac{1}{13}} r^{\\frac{141}{13}}\\right)} r_{m}^{3} + 3 \\, {\\left(10094 \\, {\\left(r - r_{m}\\right)}^{\\frac{7}{13}} r^{\\frac{148}{13}} - 40471 \\, {\\left(r - r_{m}\\right)}^{\\frac{5}{13}} r^{\\frac{150}{13}} + 52129 \\, {\\left(r - r_{m}\\right)}^{\\frac{3}{13}} r^{\\frac{152}{13}} - 21752 \\, {\\left(r - r_{m}\\right)}^{\\frac{1}{13}} r^{\\frac{154}{13}}\\right)} r_{m}^{2} - 13 \\, {\\left(707 \\, {\\left(r - r_{m}\\right)}^{\\frac{7}{13}} r^{\\frac{161}{13}} - 2427 \\, {\\left(r - r_{m}\\right)}^{\\frac{5}{13}} r^{\\frac{163}{13}} + 2733 \\, {\\left(r - r_{m}\\right)}^{\\frac{3}{13}} r^{\\frac{165}{13}} - 1013 \\, {\\left(r - r_{m}\\right)}^{\\frac{1}{13}} r^{\\frac{167}{13}}\\right)} r_{m}\\right)} r_{p}^{7} + 3 \\, {\\left(5880 \\, {\\left(r - r_{m}\\right)}^{\\frac{9}{13}} r^{\\frac{185}{13}} - 23604 \\, {\\left(r - r_{m}\\right)}^{\\frac{7}{13}} r^{\\frac{187}{13}} + 35496 \\, {\\left(r - r_{m}\\right)}^{\\frac{5}{13}} r^{\\frac{189}{13}} - 23709 \\, {\\left(r - r_{m}\\right)}^{\\frac{3}{13}} r^{\\frac{191}{13}} + 5936 \\, {\\left(r - r_{m}\\right)}^{\\frac{1}{13}} r^{\\frac{193}{13}}\\right)} r_{m}^{6} + 42 \\, {\\left(507 \\, {\\left(r - r_{m}\\right)}^{\\frac{9}{13}} r^{\\frac{185}{13}} - 2028 \\, {\\left(r - r_{m}\\right)}^{\\frac{7}{13}} r^{\\frac{187}{13}} + 3042 \\, {\\left(r - r_{m}\\right)}^{\\frac{5}{13}} r^{\\frac{189}{13}} - 2028 \\, {\\left(r - r_{m}\\right)}^{\\frac{3}{13}} r^{\\frac{191}{13}} + 507 \\, {\\left(r - r_{m}\\right)}^{\\frac{1}{13}} r^{\\frac{193}{13}} + 1168 \\, {\\left(r - r_{m}\\right)}^{\\frac{1}{13}} r^{\\frac{63}{13}} r_{m}^{10} + 18 \\, {\\left(244 \\, {\\left(r - r_{m}\\right)}^{\\frac{3}{13}} r^{\\frac{74}{13}} - 613 \\, {\\left(r - r_{m}\\right)}^{\\frac{1}{13}} r^{\\frac{76}{13}}\\right)} r_{m}^{9} + 3 \\, {\\left(2056 \\, {\\left(r - r_{m}\\right)}^{\\frac{5}{13}} r^{\\frac{85}{13}} - 12406 \\, {\\left(r - r_{m}\\right)}^{\\frac{3}{13}} r^{\\frac{87}{13}} + 15577 \\, {\\left(r - r_{m}\\right)}^{\\frac{1}{13}} r^{\\frac{89}{13}}\\right)} r_{m}^{8} + 2 \\, {\\left(1916 \\, {\\left(r - r_{m}\\right)}^{\\frac{7}{13}} r^{\\frac{96}{13}} - 23145 \\, {\\left(r - r_{m}\\right)}^{\\frac{5}{13}} r^{\\frac{98}{13}} + 69789 \\, {\\left(r - r_{m}\\right)}^{\\frac{3}{13}} r^{\\frac{100}{13}} - 58392 \\, {\\left(r - r_{m}\\right)}^{\\frac{1}{13}} r^{\\frac{102}{13}}\\right)} r_{m}^{7} + 6 \\, {\\left(148 \\, {\\left(r - r_{m}\\right)}^{\\frac{9}{13}} r^{\\frac{107}{13}} - 4177 \\, {\\left(r - r_{m}\\right)}^{\\frac{7}{13}} r^{\\frac{109}{13}} + 25209 \\, {\\left(r - r_{m}\\right)}^{\\frac{5}{13}} r^{\\frac{111}{13}} - 50645 \\, {\\left(r - r_{m}\\right)}^{\\frac{3}{13}} r^{\\frac{113}{13}} + 31766 \\, {\\left(r - r_{m}\\right)}^{\\frac{1}{13}} r^{\\frac{115}{13}}\\right)} r_{m}^{6} - 6 \\, {\\left(826 \\, {\\left(r - r_{m}\\right)}^{\\frac{9}{13}} r^{\\frac{120}{13}} - 11643 \\, {\\left(r - r_{m}\\right)}^{\\frac{7}{13}} r^{\\frac{122}{13}} + 46807 \\, {\\left(r - r_{m}\\right)}^{\\frac{5}{13}} r^{\\frac{124}{13}} - 70483 \\, {\\left(r - r_{m}\\right)}^{\\frac{3}{13}} r^{\\frac{126}{13}} + 35350 \\, {\\left(r - r_{m}\\right)}^{\\frac{1}{13}} r^{\\frac{128}{13}}\\right)} r_{m}^{5} + {\\left(11451 \\, {\\left(r - r_{m}\\right)}^{\\frac{9}{13}} r^{\\frac{133}{13}} - 107480 \\, {\\left(r - r_{m}\\right)}^{\\frac{7}{13}} r^{\\frac{135}{13}} + 323790 \\, {\\left(r - r_{m}\\right)}^{\\frac{5}{13}} r^{\\frac{137}{13}} - 389802 \\, {\\left(r - r_{m}\\right)}^{\\frac{3}{13}} r^{\\frac{139}{13}} + 162834 \\, {\\left(r - r_{m}\\right)}^{\\frac{1}{13}} r^{\\frac{141}{13}}\\right)} r_{m}^{4} - 6 \\, {\\left(2334 \\, {\\left(r - r_{m}\\right)}^{\\frac{9}{13}} r^{\\frac{146}{13}} - 16410 \\, {\\left(r - r_{m}\\right)}^{\\frac{7}{13}} r^{\\frac{148}{13}} + 39513 \\, {\\left(r - r_{m}\\right)}^{\\frac{5}{13}} r^{\\frac{150}{13}} - 39613 \\, {\\left(r - r_{m}\\right)}^{\\frac{3}{13}} r^{\\frac{152}{13}} + 14176 \\, {\\left(r - r_{m}\\right)}^{\\frac{1}{13}} r^{\\frac{154}{13}}\\right)} r_{m}^{3} + 6 \\, {\\left(1591 \\, {\\left(r - r_{m}\\right)}^{\\frac{9}{13}} r^{\\frac{159}{13}} - 8937 \\, {\\left(r - r_{m}\\right)}^{\\frac{7}{13}} r^{\\frac{161}{13}} + 17915 \\, {\\left(r - r_{m}\\right)}^{\\frac{5}{13}} r^{\\frac{163}{13}} - 15383 \\, {\\left(r - r_{m}\\right)}^{\\frac{3}{13}} r^{\\frac{165}{13}} + 4814 \\, {\\left(r - r_{m}\\right)}^{\\frac{1}{13}} r^{\\frac{167}{13}}\\right)} r_{m}^{2} - 26 \\, {\\left(132 \\, {\\left(r - r_{m}\\right)}^{\\frac{9}{13}} r^{\\frac{172}{13}} - 617 \\, {\\left(r - r_{m}\\right)}^{\\frac{7}{13}} r^{\\frac{174}{13}} + 1059 \\, {\\left(r - r_{m}\\right)}^{\\frac{5}{13}} r^{\\frac{176}{13}} - 795 \\, {\\left(r - r_{m}\\right)}^{\\frac{3}{13}} r^{\\frac{178}{13}} + 221 \\, {\\left(r - r_{m}\\right)}^{\\frac{1}{13}} r^{\\frac{180}{13}}\\right)} r_{m}\\right)} r_{p}^{6} + 3 \\, {\\left(5880 \\, {\\left(r - r_{m}\\right)}^{\\frac{11}{13}} r^{\\frac{196}{13}} - 29526 \\, {\\left(r - r_{m}\\right)}^{\\frac{9}{13}} r^{\\frac{198}{13}} + 59220 \\, {\\left(r - r_{m}\\right)}^{\\frac{7}{13}} r^{\\frac{200}{13}} - 59340 \\, {\\left(r - r_{m}\\right)}^{\\frac{5}{13}} r^{\\frac{202}{13}} + 29715 \\, {\\left(r - r_{m}\\right)}^{\\frac{3}{13}} r^{\\frac{204}{13}} - 5950 \\, {\\left(r - r_{m}\\right)}^{\\frac{1}{13}} r^{\\frac{206}{13}} - 3920 \\, r^{\\frac{207}{13}}\\right)} r_{m}^{5} + 126 \\, {\\left(169 \\, {\\left(r - r_{m}\\right)}^{\\frac{11}{13}} r^{\\frac{196}{13}} - 845 \\, {\\left(r - r_{m}\\right)}^{\\frac{9}{13}} r^{\\frac{198}{13}} + 1690 \\, {\\left(r - r_{m}\\right)}^{\\frac{7}{13}} r^{\\frac{200}{13}} - 1690 \\, {\\left(r - r_{m}\\right)}^{\\frac{5}{13}} r^{\\frac{202}{13}} + 845 \\, {\\left(r - r_{m}\\right)}^{\\frac{3}{13}} r^{\\frac{204}{13}} - 169 \\, {\\left(r - r_{m}\\right)}^{\\frac{1}{13}} r^{\\frac{206}{13}} - 436 \\, {\\left(r - r_{m}\\right)}^{\\frac{1}{13}} r^{\\frac{76}{13}} r_{m}^{10} - {\\left(2040 \\, {\\left(r - r_{m}\\right)}^{\\frac{3}{13}} r^{\\frac{87}{13}} - 4099 \\, {\\left(r - r_{m}\\right)}^{\\frac{1}{13}} r^{\\frac{89}{13}}\\right)} r_{m}^{9} - {\\left(3800 \\, {\\left(r - r_{m}\\right)}^{\\frac{5}{13}} r^{\\frac{98}{13}} - 17192 \\, {\\left(r - r_{m}\\right)}^{\\frac{3}{13}} r^{\\frac{100}{13}} + 17265 \\, {\\left(r - r_{m}\\right)}^{\\frac{1}{13}} r^{\\frac{102}{13}}\\right)} r_{m}^{8} - {\\left(3520 \\, {\\left(r - r_{m}\\right)}^{\\frac{7}{13}} r^{\\frac{109}{13}} - 28338 \\, {\\left(r - r_{m}\\right)}^{\\frac{5}{13}} r^{\\frac{111}{13}} + 64069 \\, {\\left(r - r_{m}\\right)}^{\\frac{3}{13}} r^{\\frac{113}{13}} - 42876 \\, {\\left(r - r_{m}\\right)}^{\\frac{1}{13}} r^{\\frac{115}{13}}\\right)} r_{m}^{7} - {\\left(1620 \\, {\\left(r - r_{m}\\right)}^{\\frac{9}{13}} r^{\\frac{120}{13}} - 22852 \\, {\\left(r - r_{m}\\right)}^{\\frac{7}{13}} r^{\\frac{122}{13}} + 91918 \\, {\\left(r - r_{m}\\right)}^{\\frac{5}{13}} r^{\\frac{124}{13}} - 138467 \\, {\\left(r - r_{m}\\right)}^{\\frac{3}{13}} r^{\\frac{126}{13}} + 69468 \\, {\\left(r - r_{m}\\right)}^{\\frac{1}{13}} r^{\\frac{128}{13}}\\right)} r_{m}^{6} - {\\left(296 \\, {\\left(r - r_{m}\\right)}^{\\frac{11}{13}} r^{\\frac{131}{13}} - 8963 \\, {\\left(r - r_{m}\\right)}^{\\frac{9}{13}} r^{\\frac{133}{13}} + 63150 \\, {\\left(r - r_{m}\\right)}^{\\frac{7}{13}} r^{\\frac{135}{13}} - 169210 \\, {\\left(r - r_{m}\\right)}^{\\frac{5}{13}} r^{\\frac{137}{13}} + 191065 \\, {\\left(r - r_{m}\\right)}^{\\frac{3}{13}} r^{\\frac{139}{13}} - 76650 \\, {\\left(r - r_{m}\\right)}^{\\frac{1}{13}} r^{\\frac{141}{13}}\\right)} r_{m}^{5} + {\\left(1356 \\, {\\left(r - r_{m}\\right)}^{\\frac{11}{13}} r^{\\frac{144}{13}} - 20497 \\, {\\left(r - r_{m}\\right)}^{\\frac{9}{13}} r^{\\frac{146}{13}} + 96170 \\, {\\left(r - r_{m}\\right)}^{\\frac{7}{13}} r^{\\frac{148}{13}} - 193110 \\, {\\left(r - r_{m}\\right)}^{\\frac{5}{13}} r^{\\frac{150}{13}} + 174335 \\, {\\left(r - r_{m}\\right)}^{\\frac{3}{13}} r^{\\frac{152}{13}} - 58254 \\, {\\left(r - r_{m}\\right)}^{\\frac{1}{13}} r^{\\frac{154}{13}}\\right)} r_{m}^{4} - {\\left(2461 \\, {\\left(r - r_{m}\\right)}^{\\frac{11}{13}} r^{\\frac{157}{13}} - 24758 \\, {\\left(r - r_{m}\\right)}^{\\frac{9}{13}} r^{\\frac{159}{13}} + 87020 \\, {\\left(r - r_{m}\\right)}^{\\frac{7}{13}} r^{\\frac{161}{13}} - 139670 \\, {\\left(r - r_{m}\\right)}^{\\frac{5}{13}} r^{\\frac{163}{13}} + 105007 \\, {\\left(r - r_{m}\\right)}^{\\frac{3}{13}} r^{\\frac{165}{13}} - 30060 \\, {\\left(r - r_{m}\\right)}^{\\frac{1}{13}} r^{\\frac{167}{13}}\\right)} r_{m}^{3} + {\\left(2207 \\, {\\left(r - r_{m}\\right)}^{\\frac{11}{13}} r^{\\frac{170}{13}} - 16622 \\, {\\left(r - r_{m}\\right)}^{\\frac{9}{13}} r^{\\frac{172}{13}} + 46680 \\, {\\left(r - r_{m}\\right)}^{\\frac{7}{13}} r^{\\frac{174}{13}} - 62378 \\, {\\left(r - r_{m}\\right)}^{\\frac{5}{13}} r^{\\frac{176}{13}} + 40169 \\, {\\left(r - r_{m}\\right)}^{\\frac{3}{13}} r^{\\frac{178}{13}} - 10056 \\, {\\left(r - r_{m}\\right)}^{\\frac{1}{13}} r^{\\frac{180}{13}}\\right)} r_{m}^{2} - 13 \\, {\\left(75 \\, {\\left(r - r_{m}\\right)}^{\\frac{11}{13}} r^{\\frac{183}{13}} - 451 \\, {\\left(r - r_{m}\\right)}^{\\frac{9}{13}} r^{\\frac{185}{13}} + 1054 \\, {\\left(r - r_{m}\\right)}^{\\frac{7}{13}} r^{\\frac{187}{13}} - 1206 \\, {\\left(r - r_{m}\\right)}^{\\frac{5}{13}} r^{\\frac{189}{13}} + 679 \\, {\\left(r - r_{m}\\right)}^{\\frac{3}{13}} r^{\\frac{191}{13}} - 151 \\, {\\left(r - r_{m}\\right)}^{\\frac{1}{13}} r^{\\frac{193}{13}}\\right)} r_{m}\\right)} r_{p}^{5} - 3 \\, {\\left(23646 \\, {\\left(r - r_{m}\\right)}^{\\frac{11}{13}} r^{\\frac{209}{13}} - 59304 \\, {\\left(r - r_{m}\\right)}^{\\frac{9}{13}} r^{\\frac{211}{13}} + 79240 \\, {\\left(r - r_{m}\\right)}^{\\frac{7}{13}} r^{\\frac{213}{13}} - 59520 \\, {\\left(r - r_{m}\\right)}^{\\frac{5}{13}} r^{\\frac{215}{13}} + 23835 \\, {\\left(r - r_{m}\\right)}^{\\frac{3}{13}} r^{\\frac{217}{13}} + 1680 \\, {\\left(r - r_{m}\\right)}^{\\frac{2}{13}} r^{\\frac{218}{13}} - 3976 \\, {\\left(r - r_{m}\\right)}^{\\frac{1}{13}} r^{\\frac{219}{13}} - 15764 \\, r^{\\frac{220}{13}}\\right)} r_{m}^{4} - 42 \\, {\\left(2028 \\, {\\left(r - r_{m}\\right)}^{\\frac{11}{13}} r^{\\frac{209}{13}} - 5070 \\, {\\left(r - r_{m}\\right)}^{\\frac{9}{13}} r^{\\frac{211}{13}} + 6760 \\, {\\left(r - r_{m}\\right)}^{\\frac{7}{13}} r^{\\frac{213}{13}} - 5070 \\, {\\left(r - r_{m}\\right)}^{\\frac{5}{13}} r^{\\frac{215}{13}} + 2028 \\, {\\left(r - r_{m}\\right)}^{\\frac{3}{13}} r^{\\frac{217}{13}} - 338 \\, {\\left(r - r_{m}\\right)}^{\\frac{1}{13}} r^{\\frac{219}{13}} - 338 \\, r^{\\frac{220}{13}} - 1012 \\, {\\left(r - r_{m}\\right)}^{\\frac{1}{13}} r^{\\frac{89}{13}} r_{m}^{10} - {\\left(5652 \\, {\\left(r - r_{m}\\right)}^{\\frac{3}{13}} r^{\\frac{100}{13}} - 9461 \\, {\\left(r - r_{m}\\right)}^{\\frac{1}{13}} r^{\\frac{102}{13}}\\right)} r_{m}^{9} - 3 \\, {\\left(4360 \\, {\\left(r - r_{m}\\right)}^{\\frac{5}{13}} r^{\\frac{111}{13}} - 15775 \\, {\\left(r - r_{m}\\right)}^{\\frac{3}{13}} r^{\\frac{113}{13}} + 13198 \\, {\\left(r - r_{m}\\right)}^{\\frac{1}{13}} r^{\\frac{115}{13}}\\right)} r_{m}^{8} - {\\left(16040 \\, {\\left(r - r_{m}\\right)}^{\\frac{7}{13}} r^{\\frac{122}{13}} - 96810 \\, {\\left(r - r_{m}\\right)}^{\\frac{5}{13}} r^{\\frac{124}{13}} + 175047 \\, {\\left(r - r_{m}\\right)}^{\\frac{3}{13}} r^{\\frac{126}{13}} - 97596 \\, {\\left(r - r_{m}\\right)}^{\\frac{1}{13}} r^{\\frac{128}{13}}\\right)} r_{m}^{7} - {\\left(10980 \\, {\\left(r - r_{m}\\right)}^{\\frac{9}{13}} r^{\\frac{133}{13}} - 103210 \\, {\\left(r - r_{m}\\right)}^{\\frac{7}{13}} r^{\\frac{135}{13}} + 311250 \\, {\\left(r - r_{m}\\right)}^{\\frac{5}{13}} r^{\\frac{137}{13}} - 374997 \\, {\\left(r - r_{m}\\right)}^{\\frac{3}{13}} r^{\\frac{139}{13}} + 156744 \\, {\\left(r - r_{m}\\right)}^{\\frac{1}{13}} r^{\\frac{141}{13}}\\right)} r_{m}^{6} - {\\left(3972 \\, {\\left(r - r_{m}\\right)}^{\\frac{11}{13}} r^{\\frac{144}{13}} - 60105 \\, {\\left(r - r_{m}\\right)}^{\\frac{9}{13}} r^{\\frac{146}{13}} + 282210 \\, {\\left(r - r_{m}\\right)}^{\\frac{7}{13}} r^{\\frac{148}{13}} - 566970 \\, {\\left(r - r_{m}\\right)}^{\\frac{5}{13}} r^{\\frac{150}{13}} + 512043 \\, {\\left(r - r_{m}\\right)}^{\\frac{3}{13}} r^{\\frac{152}{13}} - 171150 \\, {\\left(r - r_{m}\\right)}^{\\frac{1}{13}} r^{\\frac{154}{13}} - 592 \\, r^{\\frac{155}{13}}\\right)} r_{m}^{5} + {\\left(17961 \\, {\\left(r - r_{m}\\right)}^{\\frac{11}{13}} r^{\\frac{157}{13}} - 135690 \\, {\\left(r - r_{m}\\right)}^{\\frac{9}{13}} r^{\\frac{159}{13}} + 424300 \\, {\\left(r - r_{m}\\right)}^{\\frac{7}{13}} r^{\\frac{161}{13}} - 638850 \\, {\\left(r - r_{m}\\right)}^{\\frac{5}{13}} r^{\\frac{163}{13}} + 461307 \\, {\\left(r - r_{m}\\right)}^{\\frac{3}{13}} r^{\\frac{165}{13}} - 128436 \\, {\\left(r - r_{m}\\right)}^{\\frac{1}{13}} r^{\\frac{167}{13}} - 2712 \\, r^{\\frac{168}{13}}\\right)} r_{m}^{4} - {\\left(32079 \\, {\\left(r - r_{m}\\right)}^{\\frac{11}{13}} r^{\\frac{170}{13}} - 161310 \\, {\\left(r - r_{m}\\right)}^{\\frac{9}{13}} r^{\\frac{172}{13}} + 377900 \\, {\\left(r - r_{m}\\right)}^{\\frac{7}{13}} r^{\\frac{174}{13}} - 454830 \\, {\\left(r - r_{m}\\right)}^{\\frac{5}{13}} r^{\\frac{176}{13}} + 273525 \\, {\\left(r - r_{m}\\right)}^{\\frac{3}{13}} r^{\\frac{178}{13}} - 65244 \\, {\\left(r - r_{m}\\right)}^{\\frac{1}{13}} r^{\\frac{180}{13}} - 4922 \\, r^{\\frac{181}{13}}\\right)} r_{m}^{3} + {\\left(28191 \\, {\\left(r - r_{m}\\right)}^{\\frac{11}{13}} r^{\\frac{183}{13}} - 106140 \\, {\\left(r - r_{m}\\right)}^{\\frac{9}{13}} r^{\\frac{185}{13}} + 198690 \\, {\\left(r - r_{m}\\right)}^{\\frac{7}{13}} r^{\\frac{187}{13}} - 199110 \\, {\\left(r - r_{m}\\right)}^{\\frac{5}{13}} r^{\\frac{189}{13}} + 102567 \\, {\\left(r - r_{m}\\right)}^{\\frac{3}{13}} r^{\\frac{191}{13}} - 21396 \\, {\\left(r - r_{m}\\right)}^{\\frac{1}{13}} r^{\\frac{193}{13}} - 4414 \\, r^{\\frac{194}{13}}\\right)} r_{m}^{2} - 13 \\, {\\left(933 \\, {\\left(r - r_{m}\\right)}^{\\frac{11}{13}} r^{\\frac{196}{13}} - 2805 \\, {\\left(r - r_{m}\\right)}^{\\frac{9}{13}} r^{\\frac{198}{13}} + 4370 \\, {\\left(r - r_{m}\\right)}^{\\frac{7}{13}} r^{\\frac{200}{13}} - 3750 \\, {\\left(r - r_{m}\\right)}^{\\frac{5}{13}} r^{\\frac{202}{13}} + 1689 \\, {\\left(r - r_{m}\\right)}^{\\frac{3}{13}} r^{\\frac{204}{13}} - 313 \\, {\\left(r - r_{m}\\right)}^{\\frac{1}{13}} r^{\\frac{206}{13}} - 150 \\, r^{\\frac{207}{13}}\\right)} r_{m}\\right)} r_{p}^{4} + 3 \\, {\\left(35658 \\, {\\left(r - r_{m}\\right)}^{\\frac{11}{13}} r^{\\frac{222}{13}} - 59556 \\, {\\left(r - r_{m}\\right)}^{\\frac{9}{13}} r^{\\frac{224}{13}} + 59640 \\, {\\left(r - r_{m}\\right)}^{\\frac{7}{13}} r^{\\frac{226}{13}} - 35820 \\, {\\left(r - r_{m}\\right)}^{\\frac{5}{13}} r^{\\frac{228}{13}} - 420 \\, {\\left(r - r_{m}\\right)}^{\\frac{4}{13}} r^{\\frac{229}{13}} + 11949 \\, {\\left(r - r_{m}\\right)}^{\\frac{3}{13}} r^{\\frac{230}{13}} + 5076 \\, {\\left(r - r_{m}\\right)}^{\\frac{2}{13}} r^{\\frac{231}{13}} - 1708 \\, {\\left(r - r_{m}\\right)}^{\\frac{1}{13}} r^{\\frac{232}{13}} - 23772 \\, r^{\\frac{233}{13}}\\right)} r_{m}^{3} + 12 \\, {\\left(10647 \\, {\\left(r - r_{m}\\right)}^{\\frac{11}{13}} r^{\\frac{222}{13}} - 17745 \\, {\\left(r - r_{m}\\right)}^{\\frac{9}{13}} r^{\\frac{224}{13}} + 17745 \\, {\\left(r - r_{m}\\right)}^{\\frac{7}{13}} r^{\\frac{226}{13}} - 10647 \\, {\\left(r - r_{m}\\right)}^{\\frac{5}{13}} r^{\\frac{228}{13}} + 3549 \\, {\\left(r - r_{m}\\right)}^{\\frac{3}{13}} r^{\\frac{230}{13}} + 507 \\, {\\left(r - r_{m}\\right)}^{\\frac{2}{13}} r^{\\frac{231}{13}} - 507 \\, {\\left(r - r_{m}\\right)}^{\\frac{1}{13}} r^{\\frac{232}{13}} - 3549 \\, r^{\\frac{233}{13}} - 1868 \\, {\\left(r - r_{m}\\right)}^{\\frac{1}{13}} r^{\\frac{102}{13}} r_{m}^{10} - 3 \\, {\\left(4032 \\, {\\left(r - r_{m}\\right)}^{\\frac{3}{13}} r^{\\frac{113}{13}} - 5783 \\, {\\left(r - r_{m}\\right)}^{\\frac{1}{13}} r^{\\frac{115}{13}}\\right)} r_{m}^{9} - 21 \\, {\\left(1588 \\, {\\left(r - r_{m}\\right)}^{\\frac{5}{13}} r^{\\frac{124}{13}} - 4786 \\, {\\left(r - r_{m}\\right)}^{\\frac{3}{13}} r^{\\frac{126}{13}} + 3431 \\, {\\left(r - r_{m}\\right)}^{\\frac{1}{13}} r^{\\frac{128}{13}}\\right)} r_{m}^{8} - {\\left(50680 \\, {\\left(r - r_{m}\\right)}^{\\frac{7}{13}} r^{\\frac{135}{13}} - 244587 \\, {\\left(r - r_{m}\\right)}^{\\frac{5}{13}} r^{\\frac{137}{13}} + 368403 \\, {\\left(r - r_{m}\\right)}^{\\frac{3}{13}} r^{\\frac{139}{13}} - 176004 \\, {\\left(r - r_{m}\\right)}^{\\frac{1}{13}} r^{\\frac{141}{13}}\\right)} r_{m}^{7} - 21 \\, {\\left(2180 \\, {\\left(r - r_{m}\\right)}^{\\frac{9}{13}} r^{\\frac{146}{13}} - 15360 \\, {\\left(r - r_{m}\\right)}^{\\frac{7}{13}} r^{\\frac{148}{13}} + 37041 \\, {\\left(r - r_{m}\\right)}^{\\frac{5}{13}} r^{\\frac{150}{13}} - 37177 \\, {\\left(r - r_{m}\\right)}^{\\frac{3}{13}} r^{\\frac{152}{13}} + 13316 \\, {\\left(r - r_{m}\\right)}^{\\frac{1}{13}} r^{\\frac{154}{13}}\\right)} r_{m}^{6} - 7 \\, {\\left(3504 \\, {\\left(r - r_{m}\\right)}^{\\frac{11}{13}} r^{\\frac{157}{13}} - 35325 \\, {\\left(r - r_{m}\\right)}^{\\frac{9}{13}} r^{\\frac{159}{13}} + 124335 \\, {\\left(r - r_{m}\\right)}^{\\frac{7}{13}} r^{\\frac{161}{13}} - 199761 \\, {\\left(r - r_{m}\\right)}^{\\frac{5}{13}} r^{\\frac{163}{13}} + 150297 \\, {\\left(r - r_{m}\\right)}^{\\frac{3}{13}} r^{\\frac{165}{13}} - 43050 \\, {\\left(r - r_{m}\\right)}^{\\frac{1}{13}} r^{\\frac{167}{13}} - 1028 \\, r^{\\frac{168}{13}}\\right)} r_{m}^{5} + {\\left(109074 \\, {\\left(r - r_{m}\\right)}^{\\frac{11}{13}} r^{\\frac{170}{13}} - 549045 \\, {\\left(r - r_{m}\\right)}^{\\frac{9}{13}} r^{\\frac{172}{13}} + 1287125 \\, {\\left(r - r_{m}\\right)}^{\\frac{7}{13}} r^{\\frac{174}{13}} - 1549905 \\, {\\left(r - r_{m}\\right)}^{\\frac{5}{13}} r^{\\frac{176}{13}} + 932421 \\, {\\left(r - r_{m}\\right)}^{\\frac{3}{13}} r^{\\frac{178}{13}} + 888 \\, {\\left(r - r_{m}\\right)}^{\\frac{2}{13}} r^{\\frac{179}{13}} - 222474 \\, {\\left(r - r_{m}\\right)}^{\\frac{1}{13}} r^{\\frac{180}{13}} - 32417 \\, r^{\\frac{181}{13}}\\right)} r_{m}^{4} - 3 \\, {\\left(63567 \\, {\\left(r - r_{m}\\right)}^{\\frac{11}{13}} r^{\\frac{183}{13}} - 213010 \\, {\\left(r - r_{m}\\right)}^{\\frac{9}{13}} r^{\\frac{185}{13}} + 374150 \\, {\\left(r - r_{m}\\right)}^{\\frac{7}{13}} r^{\\frac{187}{13}} - 360171 \\, {\\left(r - r_{m}\\right)}^{\\frac{5}{13}} r^{\\frac{189}{13}} + 180467 \\, {\\left(r - r_{m}\\right)}^{\\frac{3}{13}} r^{\\frac{191}{13}} + 1060 \\, {\\left(r - r_{m}\\right)}^{\\frac{2}{13}} r^{\\frac{192}{13}} - 36892 \\, {\\left(r - r_{m}\\right)}^{\\frac{1}{13}} r^{\\frac{193}{13}} - 19208 \\, r^{\\frac{194}{13}}\\right)} r_{m}^{3} + {\\left(162939 \\, {\\left(r - r_{m}\\right)}^{\\frac{11}{13}} r^{\\frac{196}{13}} - 408870 \\, {\\left(r - r_{m}\\right)}^{\\frac{9}{13}} r^{\\frac{198}{13}} + 573930 \\, {\\left(r - r_{m}\\right)}^{\\frac{7}{13}} r^{\\frac{200}{13}} - 460047 \\, {\\left(r - r_{m}\\right)}^{\\frac{5}{13}} r^{\\frac{202}{13}} + 197463 \\, {\\left(r - r_{m}\\right)}^{\\frac{3}{13}} r^{\\frac{204}{13}} + 4203 \\, {\\left(r - r_{m}\\right)}^{\\frac{2}{13}} r^{\\frac{205}{13}} - 35304 \\, {\\left(r - r_{m}\\right)}^{\\frac{1}{13}} r^{\\frac{206}{13}} - 50330 \\, r^{\\frac{207}{13}}\\right)} r_{m}^{2} - 13 \\, {\\left(5187 \\, {\\left(r - r_{m}\\right)}^{\\frac{11}{13}} r^{\\frac{209}{13}} - 10395 \\, {\\left(r - r_{m}\\right)}^{\\frac{9}{13}} r^{\\frac{211}{13}} + 12145 \\, {\\left(r - r_{m}\\right)}^{\\frac{7}{13}} r^{\\frac{213}{13}} - 8337 \\, {\\left(r - r_{m}\\right)}^{\\frac{5}{13}} r^{\\frac{215}{13}} + 3129 \\, {\\left(r - r_{m}\\right)}^{\\frac{3}{13}} r^{\\frac{217}{13}} + 186 \\, {\\left(r - r_{m}\\right)}^{\\frac{2}{13}} r^{\\frac{218}{13}} - 497 \\, {\\left(r - r_{m}\\right)}^{\\frac{1}{13}} r^{\\frac{219}{13}} - 1652 \\, r^{\\frac{220}{13}}\\right)} r_{m}\\right)} r_{p}^{3} - {\\left(71694 \\, {\\left(r - r_{m}\\right)}^{\\frac{11}{13}} r^{\\frac{235}{13}} - 89712 \\, {\\left(r - r_{m}\\right)}^{\\frac{9}{13}} r^{\\frac{237}{13}} + 71820 \\, {\\left(r - r_{m}\\right)}^{\\frac{7}{13}} r^{\\frac{239}{13}} + 140 \\, {\\left(r - r_{m}\\right)}^{\\frac{6}{13}} r^{\\frac{240}{13}} - 35928 \\, {\\left(r - r_{m}\\right)}^{\\frac{5}{13}} r^{\\frac{241}{13}} - 2547 \\, {\\left(r - r_{m}\\right)}^{\\frac{4}{13}} r^{\\frac{242}{13}} + 10269 \\, {\\left(r - r_{m}\\right)}^{\\frac{3}{13}} r^{\\frac{243}{13}} + 15336 \\, {\\left(r - r_{m}\\right)}^{\\frac{2}{13}} r^{\\frac{244}{13}} - 1284 \\, {\\left(r - r_{m}\\right)}^{\\frac{1}{13}} r^{\\frac{245}{13}} - 47796 \\, r^{\\frac{246}{13}}\\right)} r_{m}^{2} - 9 \\, {\\left(9464 \\, {\\left(r - r_{m}\\right)}^{\\frac{11}{13}} r^{\\frac{235}{13}} - 11830 \\, {\\left(r - r_{m}\\right)}^{\\frac{9}{13}} r^{\\frac{237}{13}} + 9464 \\, {\\left(r - r_{m}\\right)}^{\\frac{7}{13}} r^{\\frac{239}{13}} - 4732 \\, {\\left(r - r_{m}\\right)}^{\\frac{5}{13}} r^{\\frac{241}{13}} - 169 \\, {\\left(r - r_{m}\\right)}^{\\frac{4}{13}} r^{\\frac{242}{13}} + 1352 \\, {\\left(r - r_{m}\\right)}^{\\frac{3}{13}} r^{\\frac{243}{13}} + 1352 \\, {\\left(r - r_{m}\\right)}^{\\frac{2}{13}} r^{\\frac{244}{13}} - 169 \\, {\\left(r - r_{m}\\right)}^{\\frac{1}{13}} r^{\\frac{245}{13}} - 4732 \\, r^{\\frac{246}{13}} - 856 \\, {\\left(r - r_{m}\\right)}^{\\frac{1}{13}} r^{\\frac{115}{13}} r_{m}^{10} - 16 \\, {\\left(393 \\, {\\left(r - r_{m}\\right)}^{\\frac{3}{13}} r^{\\frac{126}{13}} - 493 \\, {\\left(r - r_{m}\\right)}^{\\frac{1}{13}} r^{\\frac{128}{13}}\\right)} r_{m}^{9} - {\\left(20048 \\, {\\left(r - r_{m}\\right)}^{\\frac{5}{13}} r^{\\frac{137}{13}} - 51764 \\, {\\left(r - r_{m}\\right)}^{\\frac{3}{13}} r^{\\frac{139}{13}} + 32457 \\, {\\left(r - r_{m}\\right)}^{\\frac{1}{13}} r^{\\frac{141}{13}}\\right)} r_{m}^{8} - 4 \\, {\\left(9044 \\, {\\left(r - r_{m}\\right)}^{\\frac{7}{13}} r^{\\frac{148}{13}} - 36351 \\, {\\left(r - r_{m}\\right)}^{\\frac{5}{13}} r^{\\frac{150}{13}} + 46909 \\, {\\left(r - r_{m}\\right)}^{\\frac{3}{13}} r^{\\frac{152}{13}} - 19602 \\, {\\left(r - r_{m}\\right)}^{\\frac{1}{13}} r^{\\frac{154}{13}}\\right)} r_{m}^{7} - 28 \\, {\\left(1440 \\, {\\left(r - r_{m}\\right)}^{\\frac{9}{13}} r^{\\frac{159}{13}} - 8111 \\, {\\left(r - r_{m}\\right)}^{\\frac{7}{13}} r^{\\frac{161}{13}} + 16291 \\, {\\left(r - r_{m}\\right)}^{\\frac{5}{13}} r^{\\frac{163}{13}} - 14009 \\, {\\left(r - r_{m}\\right)}^{\\frac{3}{13}} r^{\\frac{165}{13}} + 4389 \\, {\\left(r - r_{m}\\right)}^{\\frac{1}{13}} r^{\\frac{167}{13}}\\right)} r_{m}^{6} - 28 \\, {\\left(1012 \\, {\\left(r - r_{m}\\right)}^{\\frac{11}{13}} r^{\\frac{170}{13}} - 7645 \\, {\\left(r - r_{m}\\right)}^{\\frac{9}{13}} r^{\\frac{172}{13}} + 21513 \\, {\\left(r - r_{m}\\right)}^{\\frac{7}{13}} r^{\\frac{174}{13}} - 28789 \\, {\\left(r - r_{m}\\right)}^{\\frac{5}{13}} r^{\\frac{176}{13}} + 18559 \\, {\\left(r - r_{m}\\right)}^{\\frac{3}{13}} r^{\\frac{178}{13}} - 4650 \\, {\\left(r - r_{m}\\right)}^{\\frac{1}{13}} r^{\\frac{180}{13}} - 436 \\, r^{\\frac{181}{13}}\\right)} r_{m}^{5} + 2 \\, {\\left(61614 \\, {\\left(r - r_{m}\\right)}^{\\frac{11}{13}} r^{\\frac{183}{13}} - 232435 \\, {\\left(r - r_{m}\\right)}^{\\frac{9}{13}} r^{\\frac{185}{13}} + 435680 \\, {\\left(r - r_{m}\\right)}^{\\frac{7}{13}} r^{\\frac{187}{13}} - 437010 \\, {\\left(r - r_{m}\\right)}^{\\frac{5}{13}} r^{\\frac{189}{13}} + 225274 \\, {\\left(r - r_{m}\\right)}^{\\frac{3}{13}} r^{\\frac{191}{13}} + 1464 \\, {\\left(r - r_{m}\\right)}^{\\frac{2}{13}} r^{\\frac{192}{13}} - 47019 \\, {\\left(r - r_{m}\\right)}^{\\frac{1}{13}} r^{\\frac{193}{13}} - 26866 \\, r^{\\frac{194}{13}}\\right)} r_{m}^{4} - 4 \\, {\\left(52283 \\, {\\left(r - r_{m}\\right)}^{\\frac{11}{13}} r^{\\frac{196}{13}} - 131320 \\, {\\left(r - r_{m}\\right)}^{\\frac{9}{13}} r^{\\frac{198}{13}} + 184450 \\, {\\left(r - r_{m}\\right)}^{\\frac{7}{13}} r^{\\frac{200}{13}} - 147917 \\, {\\left(r - r_{m}\\right)}^{\\frac{5}{13}} r^{\\frac{202}{13}} - 74 \\, {\\left(r - r_{m}\\right)}^{\\frac{4}{13}} r^{\\frac{203}{13}} + 63511 \\, {\\left(r - r_{m}\\right)}^{\\frac{3}{13}} r^{\\frac{204}{13}} + 2543 \\, {\\left(r - r_{m}\\right)}^{\\frac{2}{13}} r^{\\frac{205}{13}} - 11358 \\, {\\left(r - r_{m}\\right)}^{\\frac{1}{13}} r^{\\frac{206}{13}} - 23170 \\, r^{\\frac{207}{13}}\\right)} r_{m}^{3} + 4 \\, {\\left(42847 \\, {\\left(r - r_{m}\\right)}^{\\frac{11}{13}} r^{\\frac{209}{13}} - 80605 \\, {\\left(r - r_{m}\\right)}^{\\frac{9}{13}} r^{\\frac{211}{13}} + 90489 \\, {\\left(r - r_{m}\\right)}^{\\frac{7}{13}} r^{\\frac{213}{13}} - 60431 \\, {\\left(r - r_{m}\\right)}^{\\frac{5}{13}} r^{\\frac{215}{13}} - 191 \\, {\\left(r - r_{m}\\right)}^{\\frac{4}{13}} r^{\\frac{216}{13}} + 22229 \\, {\\left(r - r_{m}\\right)}^{\\frac{3}{13}} r^{\\frac{217}{13}} + 3228 \\, {\\left(r - r_{m}\\right)}^{\\frac{2}{13}} r^{\\frac{218}{13}} - 3477 \\, {\\left(r - r_{m}\\right)}^{\\frac{1}{13}} r^{\\frac{219}{13}} - 19432 \\, r^{\\frac{220}{13}}\\right)} r_{m}^{2} - 13 \\, {\\left(5124 \\, {\\left(r - r_{m}\\right)}^{\\frac{11}{13}} r^{\\frac{222}{13}} - 7700 \\, {\\left(r - r_{m}\\right)}^{\\frac{9}{13}} r^{\\frac{224}{13}} + 7196 \\, {\\left(r - r_{m}\\right)}^{\\frac{7}{13}} r^{\\frac{226}{13}} - 4116 \\, {\\left(r - r_{m}\\right)}^{\\frac{5}{13}} r^{\\frac{228}{13}} - 49 \\, {\\left(r - r_{m}\\right)}^{\\frac{4}{13}} r^{\\frac{229}{13}} + 1324 \\, {\\left(r - r_{m}\\right)}^{\\frac{3}{13}} r^{\\frac{230}{13}} + 540 \\, {\\left(r - r_{m}\\right)}^{\\frac{2}{13}} r^{\\frac{231}{13}} - 184 \\, {\\left(r - r_{m}\\right)}^{\\frac{1}{13}} r^{\\frac{232}{13}} - 2408 \\, r^{\\frac{233}{13}}\\right)} r_{m}\\right)} r_{p}^{2} + 143 \\, {\\left(126 \\, {\\left(r - r_{m}\\right)}^{\\frac{11}{13}} r^{\\frac{248}{13}} - 126 \\, {\\left(r - r_{m}\\right)}^{\\frac{9}{13}} r^{\\frac{250}{13}} + 84 \\, {\\left(r - r_{m}\\right)}^{\\frac{7}{13}} r^{\\frac{252}{13}} + {\\left(r - r_{m}\\right)}^{\\frac{6}{13}} r^{\\frac{253}{13}} - 36 \\, {\\left(r - r_{m}\\right)}^{\\frac{5}{13}} r^{\\frac{254}{13}} - 9 \\, {\\left(r - r_{m}\\right)}^{\\frac{4}{13}} r^{\\frac{255}{13}} + 9 \\, {\\left(r - r_{m}\\right)}^{\\frac{3}{13}} r^{\\frac{256}{13}} + 36 \\, {\\left(r - r_{m}\\right)}^{\\frac{2}{13}} r^{\\frac{257}{13}} - {\\left(r - r_{m}\\right)}^{\\frac{1}{13}} r^{\\frac{258}{13}} - 84 \\, r^{\\frac{259}{13}}\\right)} r_{m} + {\\left(21294 \\, {\\left(r - r_{m}\\right)}^{\\frac{11}{13}} r^{\\frac{248}{13}} - 21294 \\, {\\left(r - r_{m}\\right)}^{\\frac{9}{13}} r^{\\frac{250}{13}} + 14196 \\, {\\left(r - r_{m}\\right)}^{\\frac{7}{13}} r^{\\frac{252}{13}} + 169 \\, {\\left(r - r_{m}\\right)}^{\\frac{6}{13}} r^{\\frac{253}{13}} - 6084 \\, {\\left(r - r_{m}\\right)}^{\\frac{5}{13}} r^{\\frac{254}{13}} - 1521 \\, {\\left(r - r_{m}\\right)}^{\\frac{4}{13}} r^{\\frac{255}{13}} + 1521 \\, {\\left(r - r_{m}\\right)}^{\\frac{3}{13}} r^{\\frac{256}{13}} + 6084 \\, {\\left(r - r_{m}\\right)}^{\\frac{2}{13}} r^{\\frac{257}{13}} - 169 \\, {\\left(r - r_{m}\\right)}^{\\frac{1}{13}} r^{\\frac{258}{13}} - 14196 \\, r^{\\frac{259}{13}} - 1556 \\, {\\left(r - r_{m}\\right)}^{\\frac{1}{13}} r^{\\frac{128}{13}} r_{m}^{10} - {\\left(12744 \\, {\\left(r - r_{m}\\right)}^{\\frac{3}{13}} r^{\\frac{139}{13}} - 14203 \\, {\\left(r - r_{m}\\right)}^{\\frac{1}{13}} r^{\\frac{141}{13}}\\right)} r_{m}^{9} - 3 \\, {\\left(15312 \\, {\\left(r - r_{m}\\right)}^{\\frac{5}{13}} r^{\\frac{150}{13}} - 34572 \\, {\\left(r - r_{m}\\right)}^{\\frac{3}{13}} r^{\\frac{152}{13}} + 19259 \\, {\\left(r - r_{m}\\right)}^{\\frac{1}{13}} r^{\\frac{154}{13}}\\right)} r_{m}^{8} - 3 \\, {\\left(31808 \\, {\\left(r - r_{m}\\right)}^{\\frac{7}{13}} r^{\\frac{161}{13}} - 109500 \\, {\\left(r - r_{m}\\right)}^{\\frac{5}{13}} r^{\\frac{163}{13}} + 123567 \\, {\\left(r - r_{m}\\right)}^{\\frac{3}{13}} r^{\\frac{165}{13}} - 45876 \\, {\\left(r - r_{m}\\right)}^{\\frac{1}{13}} r^{\\frac{167}{13}}\\right)} r_{m}^{7} - 3 \\, {\\left(41832 \\, {\\left(r - r_{m}\\right)}^{\\frac{9}{13}} r^{\\frac{172}{13}} - 196168 \\, {\\left(r - r_{m}\\right)}^{\\frac{7}{13}} r^{\\frac{174}{13}} + 337476 \\, {\\left(r - r_{m}\\right)}^{\\frac{5}{13}} r^{\\frac{176}{13}} - 253785 \\, {\\left(r - r_{m}\\right)}^{\\frac{3}{13}} r^{\\frac{178}{13}} + 70644 \\, {\\left(r - r_{m}\\right)}^{\\frac{1}{13}} r^{\\frac{180}{13}}\\right)} r_{m}^{6} - 3 \\, {\\left(35952 \\, {\\left(r - r_{m}\\right)}^{\\frac{11}{13}} r^{\\frac{183}{13}} - 217014 \\, {\\left(r - r_{m}\\right)}^{\\frac{9}{13}} r^{\\frac{185}{13}} + 508452 \\, {\\left(r - r_{m}\\right)}^{\\frac{7}{13}} r^{\\frac{187}{13}} - 582828 \\, {\\left(r - r_{m}\\right)}^{\\frac{5}{13}} r^{\\frac{189}{13}} + 328587 \\, {\\left(r - r_{m}\\right)}^{\\frac{3}{13}} r^{\\frac{191}{13}} - 73150 \\, {\\left(r - r_{m}\\right)}^{\\frac{1}{13}} r^{\\frac{193}{13}} - 20048 \\, r^{\\frac{194}{13}}\\right)} r_{m}^{5} + 3 \\, {\\left(151536 \\, {\\left(r - r_{m}\\right)}^{\\frac{11}{13}} r^{\\frac{196}{13}} - 456834 \\, {\\left(r - r_{m}\\right)}^{\\frac{9}{13}} r^{\\frac{198}{13}} + 713020 \\, {\\left(r - r_{m}\\right)}^{\\frac{7}{13}} r^{\\frac{200}{13}} - 612660 \\, {\\left(r - r_{m}\\right)}^{\\frac{5}{13}} r^{\\frac{202}{13}} + 276213 \\, {\\left(r - r_{m}\\right)}^{\\frac{3}{13}} r^{\\frac{204}{13}} + 6912 \\, {\\left(r - r_{m}\\right)}^{\\frac{2}{13}} r^{\\frac{205}{13}} - 51226 \\, {\\left(r - r_{m}\\right)}^{\\frac{1}{13}} r^{\\frac{206}{13}} - 85260 \\, r^{\\frac{207}{13}}\\right)} r_{m}^{4} - 3 \\, {\\left(245994 \\, {\\left(r - r_{m}\\right)}^{\\frac{11}{13}} r^{\\frac{209}{13}} - 493836 \\, {\\left(r - r_{m}\\right)}^{\\frac{9}{13}} r^{\\frac{211}{13}} + 577640 \\, {\\left(r - r_{m}\\right)}^{\\frac{7}{13}} r^{\\frac{213}{13}} - 396852 \\, {\\left(r - r_{m}\\right)}^{\\frac{5}{13}} r^{\\frac{215}{13}} - 1308 \\, {\\left(r - r_{m}\\right)}^{\\frac{4}{13}} r^{\\frac{216}{13}} + 149037 \\, {\\left(r - r_{m}\\right)}^{\\frac{3}{13}} r^{\\frac{217}{13}} + 22872 \\, {\\left(r - r_{m}\\right)}^{\\frac{2}{13}} r^{\\frac{218}{13}} - 23684 \\, {\\left(r - r_{m}\\right)}^{\\frac{1}{13}} r^{\\frac{219}{13}} - 140224 \\, r^{\\frac{220}{13}}\\right)} r_{m}^{3} + {\\left(564858 \\, {\\left(r - r_{m}\\right)}^{\\frac{11}{13}} r^{\\frac{222}{13}} - 849492 \\, {\\left(r - r_{m}\\right)}^{\\frac{9}{13}} r^{\\frac{224}{13}} + 794304 \\, {\\left(r - r_{m}\\right)}^{\\frac{7}{13}} r^{\\frac{226}{13}} + 296 \\, {\\left(r - r_{m}\\right)}^{\\frac{6}{13}} r^{\\frac{227}{13}} - 454500 \\, {\\left(r - r_{m}\\right)}^{\\frac{5}{13}} r^{\\frac{228}{13}} - 9423 \\, {\\left(r - r_{m}\\right)}^{\\frac{4}{13}} r^{\\frac{229}{13}} + 146241 \\, {\\left(r - r_{m}\\right)}^{\\frac{3}{13}} r^{\\frac{230}{13}} + 81108 \\, {\\left(r - r_{m}\\right)}^{\\frac{2}{13}} r^{\\frac{231}{13}} - 20328 \\, {\\left(r - r_{m}\\right)}^{\\frac{1}{13}} r^{\\frac{232}{13}} - 328776 \\, r^{\\frac{233}{13}}\\right)} r_{m}^{2} - 13 \\, {\\left(14994 \\, {\\left(r - r_{m}\\right)}^{\\frac{11}{13}} r^{\\frac{235}{13}} - 18018 \\, {\\left(r - r_{m}\\right)}^{\\frac{9}{13}} r^{\\frac{237}{13}} + 14028 \\, {\\left(r - r_{m}\\right)}^{\\frac{7}{13}} r^{\\frac{239}{13}} + 36 \\, {\\left(r - r_{m}\\right)}^{\\frac{6}{13}} r^{\\frac{240}{13}} - 6876 \\, {\\left(r - r_{m}\\right)}^{\\frac{5}{13}} r^{\\frac{241}{13}} - 540 \\, {\\left(r - r_{m}\\right)}^{\\frac{4}{13}} r^{\\frac{242}{13}} + 1935 \\, {\\left(r - r_{m}\\right)}^{\\frac{3}{13}} r^{\\frac{243}{13}} + 3024 \\, {\\left(r - r_{m}\\right)}^{\\frac{2}{13}} r^{\\frac{244}{13}} - 239 \\, {\\left(r - r_{m}\\right)}^{\\frac{1}{13}} r^{\\frac{245}{13}} - 9072 \\, r^{\\frac{246}{13}}\\right)} r_{m}\\right)} r_{p}}{338 \\, {\\left({\\left(r - r_{m}\\right)}^{\\frac{12}{13}} r^{22} + 84 \\, {\\left(r - r_{m}\\right)}^{\\frac{11}{13}} r^{\\frac{287}{13}} - 126 \\, {\\left(r - r_{m}\\right)}^{\\frac{9}{13}} r^{\\frac{289}{13}} + 126 \\, {\\left(r - r_{m}\\right)}^{\\frac{7}{13}} r^{\\frac{291}{13}} - 84 \\, {\\left(r - r_{m}\\right)}^{\\frac{5}{13}} r^{\\frac{293}{13}} - {\\left(r - r_{m}\\right)}^{\\frac{4}{13}} r^{\\frac{294}{13}} + 36 \\, {\\left(r - r_{m}\\right)}^{\\frac{3}{13}} r^{\\frac{295}{13}} + 9 \\, {\\left(r - r_{m}\\right)}^{\\frac{2}{13}} r^{\\frac{296}{13}} - 9 \\, {\\left(r - r_{m}\\right)}^{\\frac{1}{13}} r^{\\frac{297}{13}} - 36 \\, r^{\\frac{298}{13}} - {\\left({\\left(r - r_{m}\\right)}^{\\frac{12}{13}} r^{13} - 8 \\, {\\left(r - r_{m}\\right)}^{\\frac{12}{13}} r^{12} r_{m} + 28 \\, {\\left(r - r_{m}\\right)}^{\\frac{12}{13}} r^{11} r_{m}^{2} - 56 \\, {\\left(r - r_{m}\\right)}^{\\frac{12}{13}} r^{10} r_{m}^{3} + 70 \\, {\\left(r - r_{m}\\right)}^{\\frac{12}{13}} r^{9} r_{m}^{4} - 56 \\, {\\left(r - r_{m}\\right)}^{\\frac{12}{13}} r^{8} r_{m}^{5} + 28 \\, {\\left(r - r_{m}\\right)}^{\\frac{12}{13}} r^{7} r_{m}^{6} - 8 \\, {\\left(r - r_{m}\\right)}^{\\frac{12}{13}} r^{6} r_{m}^{7} + {\\left(r - r_{m}\\right)}^{\\frac{12}{13}} r^{5} r_{m}^{8}\\right)} r_{p}^{9} + {\\left({\\left(r - r_{m}\\right)}^{\\frac{12}{13}} r^{14} - 9 \\, {\\left(r - r_{m}\\right)}^{\\frac{1}{13}} r^{\\frac{193}{13}}\\right)} r_{m}^{8} + 9 \\, {\\left({\\left(r - r_{m}\\right)}^{\\frac{12}{13}} r^{14} - {\\left(r - r_{m}\\right)}^{\\frac{1}{13}} r^{\\frac{193}{13}} + {\\left({\\left(r - r_{m}\\right)}^{\\frac{12}{13}} r^{6} - {\\left(r - r_{m}\\right)}^{\\frac{1}{13}} r^{\\frac{89}{13}}\\right)} r_{m}^{8} - 8 \\, {\\left({\\left(r - r_{m}\\right)}^{\\frac{12}{13}} r^{7} - {\\left(r - r_{m}\\right)}^{\\frac{1}{13}} r^{\\frac{102}{13}}\\right)} r_{m}^{7} + 28 \\, {\\left({\\left(r - r_{m}\\right)}^{\\frac{12}{13}} r^{8} - {\\left(r - r_{m}\\right)}^{\\frac{1}{13}} r^{\\frac{115}{13}}\\right)} r_{m}^{6} - 56 \\, {\\left({\\left(r - r_{m}\\right)}^{\\frac{12}{13}} r^{9} - {\\left(r - r_{m}\\right)}^{\\frac{1}{13}} r^{\\frac{128}{13}}\\right)} r_{m}^{5} + 70 \\, {\\left({\\left(r - r_{m}\\right)}^{\\frac{12}{13}} r^{10} - {\\left(r - r_{m}\\right)}^{\\frac{1}{13}} r^{\\frac{141}{13}}\\right)} r_{m}^{4} - 56 \\, {\\left({\\left(r - r_{m}\\right)}^{\\frac{12}{13}} r^{11} - {\\left(r - r_{m}\\right)}^{\\frac{1}{13}} r^{\\frac{154}{13}}\\right)} r_{m}^{3} + 28 \\, {\\left({\\left(r - r_{m}\\right)}^{\\frac{12}{13}} r^{12} - {\\left(r - r_{m}\\right)}^{\\frac{1}{13}} r^{\\frac{167}{13}}\\right)} r_{m}^{2} - 8 \\, {\\left({\\left(r - r_{m}\\right)}^{\\frac{12}{13}} r^{13} - {\\left(r - r_{m}\\right)}^{\\frac{1}{13}} r^{\\frac{180}{13}}\\right)} r_{m}\\right)} r_{p}^{8} - 4 \\, {\\left(2 \\, {\\left(r - r_{m}\\right)}^{\\frac{12}{13}} r^{15} + 9 \\, {\\left(r - r_{m}\\right)}^{\\frac{3}{13}} r^{\\frac{204}{13}} - 18 \\, {\\left(r - r_{m}\\right)}^{\\frac{1}{13}} r^{\\frac{206}{13}}\\right)} r_{m}^{7} - 36 \\, {\\left({\\left(r - r_{m}\\right)}^{\\frac{12}{13}} r^{15} + {\\left(r - r_{m}\\right)}^{\\frac{3}{13}} r^{\\frac{204}{13}} - 2 \\, {\\left(r - r_{m}\\right)}^{\\frac{1}{13}} r^{\\frac{206}{13}} + {\\left({\\left(r - r_{m}\\right)}^{\\frac{12}{13}} r^{7} - 2 \\, {\\left(r - r_{m}\\right)}^{\\frac{1}{13}} r^{\\frac{102}{13}}\\right)} r_{m}^{8} - {\\left(8 \\, {\\left(r - r_{m}\\right)}^{\\frac{12}{13}} r^{8} + {\\left(r - r_{m}\\right)}^{\\frac{3}{13}} r^{\\frac{113}{13}} - 16 \\, {\\left(r - r_{m}\\right)}^{\\frac{1}{13}} r^{\\frac{115}{13}}\\right)} r_{m}^{7} + 7 \\, {\\left(4 \\, {\\left(r - r_{m}\\right)}^{\\frac{12}{13}} r^{9} + {\\left(r - r_{m}\\right)}^{\\frac{3}{13}} r^{\\frac{126}{13}} - 8 \\, {\\left(r - r_{m}\\right)}^{\\frac{1}{13}} r^{\\frac{128}{13}}\\right)} r_{m}^{6} - 7 \\, {\\left(8 \\, {\\left(r - r_{m}\\right)}^{\\frac{12}{13}} r^{10} + 3 \\, {\\left(r - r_{m}\\right)}^{\\frac{3}{13}} r^{\\frac{139}{13}} - 16 \\, {\\left(r - r_{m}\\right)}^{\\frac{1}{13}} r^{\\frac{141}{13}}\\right)} r_{m}^{5} + 35 \\, {\\left(2 \\, {\\left(r - r_{m}\\right)}^{\\frac{12}{13}} r^{11} + {\\left(r - r_{m}\\right)}^{\\frac{3}{13}} r^{\\frac{152}{13}} - 4 \\, {\\left(r - r_{m}\\right)}^{\\frac{1}{13}} r^{\\frac{154}{13}}\\right)} r_{m}^{4} - 7 \\, {\\left(8 \\, {\\left(r - r_{m}\\right)}^{\\frac{12}{13}} r^{12} + 5 \\, {\\left(r - r_{m}\\right)}^{\\frac{3}{13}} r^{\\frac{165}{13}} - 16 \\, {\\left(r - r_{m}\\right)}^{\\frac{1}{13}} r^{\\frac{167}{13}}\\right)} r_{m}^{3} + 7 \\, {\\left(4 \\, {\\left(r - r_{m}\\right)}^{\\frac{12}{13}} r^{13} + 3 \\, {\\left(r - r_{m}\\right)}^{\\frac{3}{13}} r^{\\frac{178}{13}} - 8 \\, {\\left(r - r_{m}\\right)}^{\\frac{1}{13}} r^{\\frac{180}{13}}\\right)} r_{m}^{2} - {\\left(8 \\, {\\left(r - r_{m}\\right)}^{\\frac{12}{13}} r^{14} + 7 \\, {\\left(r - r_{m}\\right)}^{\\frac{3}{13}} r^{\\frac{191}{13}} - 16 \\, {\\left(r - r_{m}\\right)}^{\\frac{1}{13}} r^{\\frac{193}{13}}\\right)} r_{m}\\right)} r_{p}^{7} + 28 \\, {\\left({\\left(r - r_{m}\\right)}^{\\frac{12}{13}} r^{16} - 3 \\, {\\left(r - r_{m}\\right)}^{\\frac{5}{13}} r^{\\frac{215}{13}} + 9 \\, {\\left(r - r_{m}\\right)}^{\\frac{3}{13}} r^{\\frac{217}{13}} - 9 \\, {\\left(r - r_{m}\\right)}^{\\frac{1}{13}} r^{\\frac{219}{13}}\\right)} r_{m}^{6} + 84 \\, {\\left({\\left(r - r_{m}\\right)}^{\\frac{12}{13}} r^{16} - {\\left(r - r_{m}\\right)}^{\\frac{5}{13}} r^{\\frac{215}{13}} + 3 \\, {\\left(r - r_{m}\\right)}^{\\frac{3}{13}} r^{\\frac{217}{13}} - 3 \\, {\\left(r - r_{m}\\right)}^{\\frac{1}{13}} r^{\\frac{219}{13}} + {\\left({\\left(r - r_{m}\\right)}^{\\frac{12}{13}} r^{8} - 3 \\, {\\left(r - r_{m}\\right)}^{\\frac{1}{13}} r^{\\frac{115}{13}}\\right)} r_{m}^{8} - {\\left(8 \\, {\\left(r - r_{m}\\right)}^{\\frac{12}{13}} r^{9} + 3 \\, {\\left(r - r_{m}\\right)}^{\\frac{3}{13}} r^{\\frac{126}{13}} - 24 \\, {\\left(r - r_{m}\\right)}^{\\frac{1}{13}} r^{\\frac{128}{13}}\\right)} r_{m}^{7} + {\\left(28 \\, {\\left(r - r_{m}\\right)}^{\\frac{12}{13}} r^{10} - {\\left(r - r_{m}\\right)}^{\\frac{5}{13}} r^{\\frac{137}{13}} + 21 \\, {\\left(r - r_{m}\\right)}^{\\frac{3}{13}} r^{\\frac{139}{13}} - 84 \\, {\\left(r - r_{m}\\right)}^{\\frac{1}{13}} r^{\\frac{141}{13}}\\right)} r_{m}^{6} - {\\left(56 \\, {\\left(r - r_{m}\\right)}^{\\frac{12}{13}} r^{11} - 6 \\, {\\left(r - r_{m}\\right)}^{\\frac{5}{13}} r^{\\frac{150}{13}} + 63 \\, {\\left(r - r_{m}\\right)}^{\\frac{3}{13}} r^{\\frac{152}{13}} - 168 \\, {\\left(r - r_{m}\\right)}^{\\frac{1}{13}} r^{\\frac{154}{13}}\\right)} r_{m}^{5} + 5 \\, {\\left(14 \\, {\\left(r - r_{m}\\right)}^{\\frac{12}{13}} r^{12} - 3 \\, {\\left(r - r_{m}\\right)}^{\\frac{5}{13}} r^{\\frac{163}{13}} + 21 \\, {\\left(r - r_{m}\\right)}^{\\frac{3}{13}} r^{\\frac{165}{13}} - 42 \\, {\\left(r - r_{m}\\right)}^{\\frac{1}{13}} r^{\\frac{167}{13}}\\right)} r_{m}^{4} - {\\left(56 \\, {\\left(r - r_{m}\\right)}^{\\frac{12}{13}} r^{13} - 20 \\, {\\left(r - r_{m}\\right)}^{\\frac{5}{13}} r^{\\frac{176}{13}} + 105 \\, {\\left(r - r_{m}\\right)}^{\\frac{3}{13}} r^{\\frac{178}{13}} - 168 \\, {\\left(r - r_{m}\\right)}^{\\frac{1}{13}} r^{\\frac{180}{13}}\\right)} r_{m}^{3} + {\\left(28 \\, {\\left(r - r_{m}\\right)}^{\\frac{12}{13}} r^{14} - 15 \\, {\\left(r - r_{m}\\right)}^{\\frac{5}{13}} r^{\\frac{189}{13}} + 63 \\, {\\left(r - r_{m}\\right)}^{\\frac{3}{13}} r^{\\frac{191}{13}} - 84 \\, {\\left(r - r_{m}\\right)}^{\\frac{1}{13}} r^{\\frac{193}{13}}\\right)} r_{m}^{2} - {\\left(8 \\, {\\left(r - r_{m}\\right)}^{\\frac{12}{13}} r^{15} - 6 \\, {\\left(r - r_{m}\\right)}^{\\frac{5}{13}} r^{\\frac{202}{13}} + 21 \\, {\\left(r - r_{m}\\right)}^{\\frac{3}{13}} r^{\\frac{204}{13}} - 24 \\, {\\left(r - r_{m}\\right)}^{\\frac{1}{13}} r^{\\frac{206}{13}}\\right)} r_{m}\\right)} r_{p}^{6} - 14 \\, {\\left(4 \\, {\\left(r - r_{m}\\right)}^{\\frac{12}{13}} r^{17} + 9 \\, {\\left(r - r_{m}\\right)}^{\\frac{7}{13}} r^{\\frac{226}{13}} - 36 \\, {\\left(r - r_{m}\\right)}^{\\frac{5}{13}} r^{\\frac{228}{13}} + 54 \\, {\\left(r - r_{m}\\right)}^{\\frac{3}{13}} r^{\\frac{230}{13}} - 36 \\, {\\left(r - r_{m}\\right)}^{\\frac{1}{13}} r^{\\frac{232}{13}}\\right)} r_{m}^{5} - 126 \\, {\\left({\\left(r - r_{m}\\right)}^{\\frac{12}{13}} r^{17} + {\\left(r - r_{m}\\right)}^{\\frac{7}{13}} r^{\\frac{226}{13}} - 4 \\, {\\left(r - r_{m}\\right)}^{\\frac{5}{13}} r^{\\frac{228}{13}} + 6 \\, {\\left(r - r_{m}\\right)}^{\\frac{3}{13}} r^{\\frac{230}{13}} - 4 \\, {\\left(r - r_{m}\\right)}^{\\frac{1}{13}} r^{\\frac{232}{13}} + {\\left({\\left(r - r_{m}\\right)}^{\\frac{12}{13}} r^{9} - 4 \\, {\\left(r - r_{m}\\right)}^{\\frac{1}{13}} r^{\\frac{128}{13}}\\right)} r_{m}^{8} - 2 \\, {\\left(4 \\, {\\left(r - r_{m}\\right)}^{\\frac{12}{13}} r^{10} + 3 \\, {\\left(r - r_{m}\\right)}^{\\frac{3}{13}} r^{\\frac{139}{13}} - 16 \\, {\\left(r - r_{m}\\right)}^{\\frac{1}{13}} r^{\\frac{141}{13}}\\right)} r_{m}^{7} + 2 \\, {\\left(14 \\, {\\left(r - r_{m}\\right)}^{\\frac{12}{13}} r^{11} - 2 \\, {\\left(r - r_{m}\\right)}^{\\frac{5}{13}} r^{\\frac{150}{13}} + 21 \\, {\\left(r - r_{m}\\right)}^{\\frac{3}{13}} r^{\\frac{152}{13}} - 56 \\, {\\left(r - r_{m}\\right)}^{\\frac{1}{13}} r^{\\frac{154}{13}}\\right)} r_{m}^{6} - {\\left(56 \\, {\\left(r - r_{m}\\right)}^{\\frac{12}{13}} r^{12} + {\\left(r - r_{m}\\right)}^{\\frac{7}{13}} r^{\\frac{161}{13}} - 24 \\, {\\left(r - r_{m}\\right)}^{\\frac{5}{13}} r^{\\frac{163}{13}} + 126 \\, {\\left(r - r_{m}\\right)}^{\\frac{3}{13}} r^{\\frac{165}{13}} - 224 \\, {\\left(r - r_{m}\\right)}^{\\frac{1}{13}} r^{\\frac{167}{13}}\\right)} r_{m}^{5} + 5 \\, {\\left(14 \\, {\\left(r - r_{m}\\right)}^{\\frac{12}{13}} r^{13} + {\\left(r - r_{m}\\right)}^{\\frac{7}{13}} r^{\\frac{174}{13}} - 12 \\, {\\left(r - r_{m}\\right)}^{\\frac{5}{13}} r^{\\frac{176}{13}} + 42 \\, {\\left(r - r_{m}\\right)}^{\\frac{3}{13}} r^{\\frac{178}{13}} - 56 \\, {\\left(r - r_{m}\\right)}^{\\frac{1}{13}} r^{\\frac{180}{13}}\\right)} r_{m}^{4} - 2 \\, {\\left(28 \\, {\\left(r - r_{m}\\right)}^{\\frac{12}{13}} r^{14} + 5 \\, {\\left(r - r_{m}\\right)}^{\\frac{7}{13}} r^{\\frac{187}{13}} - 40 \\, {\\left(r - r_{m}\\right)}^{\\frac{5}{13}} r^{\\frac{189}{13}} + 105 \\, {\\left(r - r_{m}\\right)}^{\\frac{3}{13}} r^{\\frac{191}{13}} - 112 \\, {\\left(r - r_{m}\\right)}^{\\frac{1}{13}} r^{\\frac{193}{13}}\\right)} r_{m}^{3} + 2 \\, {\\left(14 \\, {\\left(r - r_{m}\\right)}^{\\frac{12}{13}} r^{15} + 5 \\, {\\left(r - r_{m}\\right)}^{\\frac{7}{13}} r^{\\frac{200}{13}} - 30 \\, {\\left(r - r_{m}\\right)}^{\\frac{5}{13}} r^{\\frac{202}{13}} + 63 \\, {\\left(r - r_{m}\\right)}^{\\frac{3}{13}} r^{\\frac{204}{13}} - 56 \\, {\\left(r - r_{m}\\right)}^{\\frac{1}{13}} r^{\\frac{206}{13}}\\right)} r_{m}^{2} - {\\left(8 \\, {\\left(r - r_{m}\\right)}^{\\frac{12}{13}} r^{16} + 5 \\, {\\left(r - r_{m}\\right)}^{\\frac{7}{13}} r^{\\frac{213}{13}} - 24 \\, {\\left(r - r_{m}\\right)}^{\\frac{5}{13}} r^{\\frac{215}{13}} + 42 \\, {\\left(r - r_{m}\\right)}^{\\frac{3}{13}} r^{\\frac{217}{13}} - 32 \\, {\\left(r - r_{m}\\right)}^{\\frac{1}{13}} r^{\\frac{219}{13}}\\right)} r_{m}\\right)} r_{p}^{5} + 14 \\, {\\left(5 \\, {\\left(r - r_{m}\\right)}^{\\frac{12}{13}} r^{18} - 9 \\, {\\left(r - r_{m}\\right)}^{\\frac{9}{13}} r^{\\frac{237}{13}} + 45 \\, {\\left(r - r_{m}\\right)}^{\\frac{7}{13}} r^{\\frac{239}{13}} - 90 \\, {\\left(r - r_{m}\\right)}^{\\frac{5}{13}} r^{\\frac{241}{13}} + 90 \\, {\\left(r - r_{m}\\right)}^{\\frac{3}{13}} r^{\\frac{243}{13}} - 45 \\, {\\left(r - r_{m}\\right)}^{\\frac{1}{13}} r^{\\frac{245}{13}}\\right)} r_{m}^{4} + 126 \\, {\\left({\\left(r - r_{m}\\right)}^{\\frac{12}{13}} r^{18} - {\\left(r - r_{m}\\right)}^{\\frac{9}{13}} r^{\\frac{237}{13}} + 5 \\, {\\left(r - r_{m}\\right)}^{\\frac{7}{13}} r^{\\frac{239}{13}} - 10 \\, {\\left(r - r_{m}\\right)}^{\\frac{5}{13}} r^{\\frac{241}{13}} + 10 \\, {\\left(r - r_{m}\\right)}^{\\frac{3}{13}} r^{\\frac{243}{13}} - 5 \\, {\\left(r - r_{m}\\right)}^{\\frac{1}{13}} r^{\\frac{245}{13}} + {\\left({\\left(r - r_{m}\\right)}^{\\frac{12}{13}} r^{10} - 5 \\, {\\left(r - r_{m}\\right)}^{\\frac{1}{13}} r^{\\frac{141}{13}}\\right)} r_{m}^{8} - 2 \\, {\\left(4 \\, {\\left(r - r_{m}\\right)}^{\\frac{12}{13}} r^{11} + 5 \\, {\\left(r - r_{m}\\right)}^{\\frac{3}{13}} r^{\\frac{152}{13}} - 20 \\, {\\left(r - r_{m}\\right)}^{\\frac{1}{13}} r^{\\frac{154}{13}}\\right)} r_{m}^{7} + 2 \\, {\\left(14 \\, {\\left(r - r_{m}\\right)}^{\\frac{12}{13}} r^{12} - 5 \\, {\\left(r - r_{m}\\right)}^{\\frac{5}{13}} r^{\\frac{163}{13}} + 35 \\, {\\left(r - r_{m}\\right)}^{\\frac{3}{13}} r^{\\frac{165}{13}} - 70 \\, {\\left(r - r_{m}\\right)}^{\\frac{1}{13}} r^{\\frac{167}{13}}\\right)} r_{m}^{6} - {\\left(56 \\, {\\left(r - r_{m}\\right)}^{\\frac{12}{13}} r^{13} + 5 \\, {\\left(r - r_{m}\\right)}^{\\frac{7}{13}} r^{\\frac{174}{13}} - 60 \\, {\\left(r - r_{m}\\right)}^{\\frac{5}{13}} r^{\\frac{176}{13}} + 210 \\, {\\left(r - r_{m}\\right)}^{\\frac{3}{13}} r^{\\frac{178}{13}} - 280 \\, {\\left(r - r_{m}\\right)}^{\\frac{1}{13}} r^{\\frac{180}{13}}\\right)} r_{m}^{5} + {\\left(70 \\, {\\left(r - r_{m}\\right)}^{\\frac{12}{13}} r^{14} - {\\left(r - r_{m}\\right)}^{\\frac{9}{13}} r^{\\frac{185}{13}} + 25 \\, {\\left(r - r_{m}\\right)}^{\\frac{7}{13}} r^{\\frac{187}{13}} - 150 \\, {\\left(r - r_{m}\\right)}^{\\frac{5}{13}} r^{\\frac{189}{13}} + 350 \\, {\\left(r - r_{m}\\right)}^{\\frac{3}{13}} r^{\\frac{191}{13}} - 350 \\, {\\left(r - r_{m}\\right)}^{\\frac{1}{13}} r^{\\frac{193}{13}}\\right)} r_{m}^{4} - 2 \\, {\\left(28 \\, {\\left(r - r_{m}\\right)}^{\\frac{12}{13}} r^{15} - 2 \\, {\\left(r - r_{m}\\right)}^{\\frac{9}{13}} r^{\\frac{198}{13}} + 25 \\, {\\left(r - r_{m}\\right)}^{\\frac{7}{13}} r^{\\frac{200}{13}} - 100 \\, {\\left(r - r_{m}\\right)}^{\\frac{5}{13}} r^{\\frac{202}{13}} + 175 \\, {\\left(r - r_{m}\\right)}^{\\frac{3}{13}} r^{\\frac{204}{13}} - 140 \\, {\\left(r - r_{m}\\right)}^{\\frac{1}{13}} r^{\\frac{206}{13}}\\right)} r_{m}^{3} + 2 \\, {\\left(14 \\, {\\left(r - r_{m}\\right)}^{\\frac{12}{13}} r^{16} - 3 \\, {\\left(r - r_{m}\\right)}^{\\frac{9}{13}} r^{\\frac{211}{13}} + 25 \\, {\\left(r - r_{m}\\right)}^{\\frac{7}{13}} r^{\\frac{213}{13}} - 75 \\, {\\left(r - r_{m}\\right)}^{\\frac{5}{13}} r^{\\frac{215}{13}} + 105 \\, {\\left(r - r_{m}\\right)}^{\\frac{3}{13}} r^{\\frac{217}{13}} - 70 \\, {\\left(r - r_{m}\\right)}^{\\frac{1}{13}} r^{\\frac{219}{13}}\\right)} r_{m}^{2} - {\\left(8 \\, {\\left(r - r_{m}\\right)}^{\\frac{12}{13}} r^{17} - 4 \\, {\\left(r - r_{m}\\right)}^{\\frac{9}{13}} r^{\\frac{224}{13}} + 25 \\, {\\left(r - r_{m}\\right)}^{\\frac{7}{13}} r^{\\frac{226}{13}} - 60 \\, {\\left(r - r_{m}\\right)}^{\\frac{5}{13}} r^{\\frac{228}{13}} + 70 \\, {\\left(r - r_{m}\\right)}^{\\frac{3}{13}} r^{\\frac{230}{13}} - 40 \\, {\\left(r - r_{m}\\right)}^{\\frac{1}{13}} r^{\\frac{232}{13}}\\right)} r_{m}\\right)} r_{p}^{4} - 4 \\, {\\left(14 \\, {\\left(r - r_{m}\\right)}^{\\frac{12}{13}} r^{19} + 21 \\, {\\left(r - r_{m}\\right)}^{\\frac{11}{13}} r^{\\frac{248}{13}} - 126 \\, {\\left(r - r_{m}\\right)}^{\\frac{9}{13}} r^{\\frac{250}{13}} + 315 \\, {\\left(r - r_{m}\\right)}^{\\frac{7}{13}} r^{\\frac{252}{13}} - 420 \\, {\\left(r - r_{m}\\right)}^{\\frac{5}{13}} r^{\\frac{254}{13}} + 315 \\, {\\left(r - r_{m}\\right)}^{\\frac{3}{13}} r^{\\frac{256}{13}} - 126 \\, {\\left(r - r_{m}\\right)}^{\\frac{1}{13}} r^{\\frac{258}{13}} - 9 \\, r^{\\frac{259}{13}}\\right)} r_{m}^{3} - 84 \\, {\\left({\\left(r - r_{m}\\right)}^{\\frac{12}{13}} r^{19} + {\\left(r - r_{m}\\right)}^{\\frac{11}{13}} r^{\\frac{248}{13}} - 6 \\, {\\left(r - r_{m}\\right)}^{\\frac{9}{13}} r^{\\frac{250}{13}} + 15 \\, {\\left(r - r_{m}\\right)}^{\\frac{7}{13}} r^{\\frac{252}{13}} - 20 \\, {\\left(r - r_{m}\\right)}^{\\frac{5}{13}} r^{\\frac{254}{13}} + 15 \\, {\\left(r - r_{m}\\right)}^{\\frac{3}{13}} r^{\\frac{256}{13}} - 6 \\, {\\left(r - r_{m}\\right)}^{\\frac{1}{13}} r^{\\frac{258}{13}} + {\\left({\\left(r - r_{m}\\right)}^{\\frac{12}{13}} r^{11} - 6 \\, {\\left(r - r_{m}\\right)}^{\\frac{1}{13}} r^{\\frac{154}{13}}\\right)} r_{m}^{8} - {\\left(8 \\, {\\left(r - r_{m}\\right)}^{\\frac{12}{13}} r^{12} + 15 \\, {\\left(r - r_{m}\\right)}^{\\frac{3}{13}} r^{\\frac{165}{13}} - 48 \\, {\\left(r - r_{m}\\right)}^{\\frac{1}{13}} r^{\\frac{167}{13}}\\right)} r_{m}^{7} + {\\left(28 \\, {\\left(r - r_{m}\\right)}^{\\frac{12}{13}} r^{13} - 20 \\, {\\left(r - r_{m}\\right)}^{\\frac{5}{13}} r^{\\frac{176}{13}} + 105 \\, {\\left(r - r_{m}\\right)}^{\\frac{3}{13}} r^{\\frac{178}{13}} - 168 \\, {\\left(r - r_{m}\\right)}^{\\frac{1}{13}} r^{\\frac{180}{13}}\\right)} r_{m}^{6} - {\\left(56 \\, {\\left(r - r_{m}\\right)}^{\\frac{12}{13}} r^{14} + 15 \\, {\\left(r - r_{m}\\right)}^{\\frac{7}{13}} r^{\\frac{187}{13}} - 120 \\, {\\left(r - r_{m}\\right)}^{\\frac{5}{13}} r^{\\frac{189}{13}} + 315 \\, {\\left(r - r_{m}\\right)}^{\\frac{3}{13}} r^{\\frac{191}{13}} - 336 \\, {\\left(r - r_{m}\\right)}^{\\frac{1}{13}} r^{\\frac{193}{13}}\\right)} r_{m}^{5} + {\\left(70 \\, {\\left(r - r_{m}\\right)}^{\\frac{12}{13}} r^{15} - 6 \\, {\\left(r - r_{m}\\right)}^{\\frac{9}{13}} r^{\\frac{198}{13}} + 75 \\, {\\left(r - r_{m}\\right)}^{\\frac{7}{13}} r^{\\frac{200}{13}} - 300 \\, {\\left(r - r_{m}\\right)}^{\\frac{5}{13}} r^{\\frac{202}{13}} + 525 \\, {\\left(r - r_{m}\\right)}^{\\frac{3}{13}} r^{\\frac{204}{13}} - 420 \\, {\\left(r - r_{m}\\right)}^{\\frac{1}{13}} r^{\\frac{206}{13}}\\right)} r_{m}^{4} - {\\left(56 \\, {\\left(r - r_{m}\\right)}^{\\frac{12}{13}} r^{16} + {\\left(r - r_{m}\\right)}^{\\frac{11}{13}} r^{\\frac{209}{13}} - 24 \\, {\\left(r - r_{m}\\right)}^{\\frac{9}{13}} r^{\\frac{211}{13}} + 150 \\, {\\left(r - r_{m}\\right)}^{\\frac{7}{13}} r^{\\frac{213}{13}} - 400 \\, {\\left(r - r_{m}\\right)}^{\\frac{5}{13}} r^{\\frac{215}{13}} + 525 \\, {\\left(r - r_{m}\\right)}^{\\frac{3}{13}} r^{\\frac{217}{13}} - 336 \\, {\\left(r - r_{m}\\right)}^{\\frac{1}{13}} r^{\\frac{219}{13}}\\right)} r_{m}^{3} + {\\left(28 \\, {\\left(r - r_{m}\\right)}^{\\frac{12}{13}} r^{17} + 3 \\, {\\left(r - r_{m}\\right)}^{\\frac{11}{13}} r^{\\frac{222}{13}} - 36 \\, {\\left(r - r_{m}\\right)}^{\\frac{9}{13}} r^{\\frac{224}{13}} + 150 \\, {\\left(r - r_{m}\\right)}^{\\frac{7}{13}} r^{\\frac{226}{13}} - 300 \\, {\\left(r - r_{m}\\right)}^{\\frac{5}{13}} r^{\\frac{228}{13}} + 315 \\, {\\left(r - r_{m}\\right)}^{\\frac{3}{13}} r^{\\frac{230}{13}} - 168 \\, {\\left(r - r_{m}\\right)}^{\\frac{1}{13}} r^{\\frac{232}{13}}\\right)} r_{m}^{2} - {\\left(8 \\, {\\left(r - r_{m}\\right)}^{\\frac{12}{13}} r^{18} + 3 \\, {\\left(r - r_{m}\\right)}^{\\frac{11}{13}} r^{\\frac{235}{13}} - 24 \\, {\\left(r - r_{m}\\right)}^{\\frac{9}{13}} r^{\\frac{237}{13}} + 75 \\, {\\left(r - r_{m}\\right)}^{\\frac{7}{13}} r^{\\frac{239}{13}} - 120 \\, {\\left(r - r_{m}\\right)}^{\\frac{5}{13}} r^{\\frac{241}{13}} + 105 \\, {\\left(r - r_{m}\\right)}^{\\frac{3}{13}} r^{\\frac{243}{13}} - 48 \\, {\\left(r - r_{m}\\right)}^{\\frac{1}{13}} r^{\\frac{245}{13}}\\right)} r_{m}\\right)} r_{p}^{3} + {\\left(28 \\, {\\left(r - r_{m}\\right)}^{\\frac{12}{13}} r^{20} + 252 \\, {\\left(r - r_{m}\\right)}^{\\frac{11}{13}} r^{\\frac{261}{13}} - 756 \\, {\\left(r - r_{m}\\right)}^{\\frac{9}{13}} r^{\\frac{263}{13}} + 1260 \\, {\\left(r - r_{m}\\right)}^{\\frac{7}{13}} r^{\\frac{265}{13}} - 1260 \\, {\\left(r - r_{m}\\right)}^{\\frac{5}{13}} r^{\\frac{267}{13}} + 756 \\, {\\left(r - r_{m}\\right)}^{\\frac{3}{13}} r^{\\frac{269}{13}} + 9 \\, {\\left(r - r_{m}\\right)}^{\\frac{2}{13}} r^{\\frac{270}{13}} - 252 \\, {\\left(r - r_{m}\\right)}^{\\frac{1}{13}} r^{\\frac{271}{13}} - 108 \\, r^{\\frac{272}{13}}\\right)} r_{m}^{2} + 36 \\, {\\left({\\left(r - r_{m}\\right)}^{\\frac{12}{13}} r^{20} + 7 \\, {\\left(r - r_{m}\\right)}^{\\frac{11}{13}} r^{\\frac{261}{13}} - 21 \\, {\\left(r - r_{m}\\right)}^{\\frac{9}{13}} r^{\\frac{263}{13}} + 35 \\, {\\left(r - r_{m}\\right)}^{\\frac{7}{13}} r^{\\frac{265}{13}} - 35 \\, {\\left(r - r_{m}\\right)}^{\\frac{5}{13}} r^{\\frac{267}{13}} + 21 \\, {\\left(r - r_{m}\\right)}^{\\frac{3}{13}} r^{\\frac{269}{13}} - 7 \\, {\\left(r - r_{m}\\right)}^{\\frac{1}{13}} r^{\\frac{271}{13}} - r^{\\frac{272}{13}} + {\\left({\\left(r - r_{m}\\right)}^{\\frac{12}{13}} r^{12} - 7 \\, {\\left(r - r_{m}\\right)}^{\\frac{1}{13}} r^{\\frac{167}{13}}\\right)} r_{m}^{8} - {\\left(8 \\, {\\left(r - r_{m}\\right)}^{\\frac{12}{13}} r^{13} + 21 \\, {\\left(r - r_{m}\\right)}^{\\frac{3}{13}} r^{\\frac{178}{13}} - 56 \\, {\\left(r - r_{m}\\right)}^{\\frac{1}{13}} r^{\\frac{180}{13}}\\right)} r_{m}^{7} + 7 \\, {\\left(4 \\, {\\left(r - r_{m}\\right)}^{\\frac{12}{13}} r^{14} - 5 \\, {\\left(r - r_{m}\\right)}^{\\frac{5}{13}} r^{\\frac{189}{13}} + 21 \\, {\\left(r - r_{m}\\right)}^{\\frac{3}{13}} r^{\\frac{191}{13}} - 28 \\, {\\left(r - r_{m}\\right)}^{\\frac{1}{13}} r^{\\frac{193}{13}}\\right)} r_{m}^{6} - 7 \\, {\\left(8 \\, {\\left(r - r_{m}\\right)}^{\\frac{12}{13}} r^{15} + 5 \\, {\\left(r - r_{m}\\right)}^{\\frac{7}{13}} r^{\\frac{200}{13}} - 30 \\, {\\left(r - r_{m}\\right)}^{\\frac{5}{13}} r^{\\frac{202}{13}} + 63 \\, {\\left(r - r_{m}\\right)}^{\\frac{3}{13}} r^{\\frac{204}{13}} - 56 \\, {\\left(r - r_{m}\\right)}^{\\frac{1}{13}} r^{\\frac{206}{13}}\\right)} r_{m}^{5} + 7 \\, {\\left(10 \\, {\\left(r - r_{m}\\right)}^{\\frac{12}{13}} r^{16} - 3 \\, {\\left(r - r_{m}\\right)}^{\\frac{9}{13}} r^{\\frac{211}{13}} + 25 \\, {\\left(r - r_{m}\\right)}^{\\frac{7}{13}} r^{\\frac{213}{13}} - 75 \\, {\\left(r - r_{m}\\right)}^{\\frac{5}{13}} r^{\\frac{215}{13}} + 105 \\, {\\left(r - r_{m}\\right)}^{\\frac{3}{13}} r^{\\frac{217}{13}} - 70 \\, {\\left(r - r_{m}\\right)}^{\\frac{1}{13}} r^{\\frac{219}{13}}\\right)} r_{m}^{4} - {\\left(56 \\, {\\left(r - r_{m}\\right)}^{\\frac{12}{13}} r^{17} + 7 \\, {\\left(r - r_{m}\\right)}^{\\frac{11}{13}} r^{\\frac{222}{13}} - 84 \\, {\\left(r - r_{m}\\right)}^{\\frac{9}{13}} r^{\\frac{224}{13}} + 350 \\, {\\left(r - r_{m}\\right)}^{\\frac{7}{13}} r^{\\frac{226}{13}} - 700 \\, {\\left(r - r_{m}\\right)}^{\\frac{5}{13}} r^{\\frac{228}{13}} + 735 \\, {\\left(r - r_{m}\\right)}^{\\frac{3}{13}} r^{\\frac{230}{13}} - 392 \\, {\\left(r - r_{m}\\right)}^{\\frac{1}{13}} r^{\\frac{232}{13}} - r^{\\frac{233}{13}}\\right)} r_{m}^{3} + {\\left(28 \\, {\\left(r - r_{m}\\right)}^{\\frac{12}{13}} r^{18} + 21 \\, {\\left(r - r_{m}\\right)}^{\\frac{11}{13}} r^{\\frac{235}{13}} - 126 \\, {\\left(r - r_{m}\\right)}^{\\frac{9}{13}} r^{\\frac{237}{13}} + 350 \\, {\\left(r - r_{m}\\right)}^{\\frac{7}{13}} r^{\\frac{239}{13}} - 525 \\, {\\left(r - r_{m}\\right)}^{\\frac{5}{13}} r^{\\frac{241}{13}} + 441 \\, {\\left(r - r_{m}\\right)}^{\\frac{3}{13}} r^{\\frac{243}{13}} - 196 \\, {\\left(r - r_{m}\\right)}^{\\frac{1}{13}} r^{\\frac{245}{13}} - 3 \\, r^{\\frac{246}{13}}\\right)} r_{m}^{2} - {\\left(8 \\, {\\left(r - r_{m}\\right)}^{\\frac{12}{13}} r^{19} + 21 \\, {\\left(r - r_{m}\\right)}^{\\frac{11}{13}} r^{\\frac{248}{13}} - 84 \\, {\\left(r - r_{m}\\right)}^{\\frac{9}{13}} r^{\\frac{250}{13}} + 175 \\, {\\left(r - r_{m}\\right)}^{\\frac{7}{13}} r^{\\frac{252}{13}} - 210 \\, {\\left(r - r_{m}\\right)}^{\\frac{5}{13}} r^{\\frac{254}{13}} + 147 \\, {\\left(r - r_{m}\\right)}^{\\frac{3}{13}} r^{\\frac{256}{13}} - 56 \\, {\\left(r - r_{m}\\right)}^{\\frac{1}{13}} r^{\\frac{258}{13}} - 3 \\, r^{\\frac{259}{13}}\\right)} r_{m}\\right)} r_{p}^{2} - {\\left(8 \\, {\\left(r - r_{m}\\right)}^{\\frac{12}{13}} r^{21} + 252 \\, {\\left(r - r_{m}\\right)}^{\\frac{11}{13}} r^{\\frac{274}{13}} - 504 \\, {\\left(r - r_{m}\\right)}^{\\frac{9}{13}} r^{\\frac{276}{13}} + 630 \\, {\\left(r - r_{m}\\right)}^{\\frac{7}{13}} r^{\\frac{278}{13}} - 504 \\, {\\left(r - r_{m}\\right)}^{\\frac{5}{13}} r^{\\frac{280}{13}} - {\\left(r - r_{m}\\right)}^{\\frac{4}{13}} r^{\\frac{281}{13}} + 252 \\, {\\left(r - r_{m}\\right)}^{\\frac{3}{13}} r^{\\frac{282}{13}} + 18 \\, {\\left(r - r_{m}\\right)}^{\\frac{2}{13}} r^{\\frac{283}{13}} - 72 \\, {\\left(r - r_{m}\\right)}^{\\frac{1}{13}} r^{\\frac{284}{13}} - 108 \\, r^{\\frac{285}{13}}\\right)} r_{m} - 9 \\, {\\left({\\left(r - r_{m}\\right)}^{\\frac{12}{13}} r^{21} + 28 \\, {\\left(r - r_{m}\\right)}^{\\frac{11}{13}} r^{\\frac{274}{13}} - 56 \\, {\\left(r - r_{m}\\right)}^{\\frac{9}{13}} r^{\\frac{276}{13}} + 70 \\, {\\left(r - r_{m}\\right)}^{\\frac{7}{13}} r^{\\frac{278}{13}} - 56 \\, {\\left(r - r_{m}\\right)}^{\\frac{5}{13}} r^{\\frac{280}{13}} + 28 \\, {\\left(r - r_{m}\\right)}^{\\frac{3}{13}} r^{\\frac{282}{13}} + {\\left(r - r_{m}\\right)}^{\\frac{2}{13}} r^{\\frac{283}{13}} - 8 \\, {\\left(r - r_{m}\\right)}^{\\frac{1}{13}} r^{\\frac{284}{13}} - 8 \\, r^{\\frac{285}{13}} + {\\left({\\left(r - r_{m}\\right)}^{\\frac{12}{13}} r^{13} - 8 \\, {\\left(r - r_{m}\\right)}^{\\frac{1}{13}} r^{\\frac{180}{13}}\\right)} r_{m}^{8} - 4 \\, {\\left(2 \\, {\\left(r - r_{m}\\right)}^{\\frac{12}{13}} r^{14} + 7 \\, {\\left(r - r_{m}\\right)}^{\\frac{3}{13}} r^{\\frac{191}{13}} - 16 \\, {\\left(r - r_{m}\\right)}^{\\frac{1}{13}} r^{\\frac{193}{13}}\\right)} r_{m}^{7} + 28 \\, {\\left({\\left(r - r_{m}\\right)}^{\\frac{12}{13}} r^{15} - 2 \\, {\\left(r - r_{m}\\right)}^{\\frac{5}{13}} r^{\\frac{202}{13}} + 7 \\, {\\left(r - r_{m}\\right)}^{\\frac{3}{13}} r^{\\frac{204}{13}} - 8 \\, {\\left(r - r_{m}\\right)}^{\\frac{1}{13}} r^{\\frac{206}{13}}\\right)} r_{m}^{6} - 14 \\, {\\left(4 \\, {\\left(r - r_{m}\\right)}^{\\frac{12}{13}} r^{16} + 5 \\, {\\left(r - r_{m}\\right)}^{\\frac{7}{13}} r^{\\frac{213}{13}} - 24 \\, {\\left(r - r_{m}\\right)}^{\\frac{5}{13}} r^{\\frac{215}{13}} + 42 \\, {\\left(r - r_{m}\\right)}^{\\frac{3}{13}} r^{\\frac{217}{13}} - 32 \\, {\\left(r - r_{m}\\right)}^{\\frac{1}{13}} r^{\\frac{219}{13}}\\right)} r_{m}^{5} + 14 \\, {\\left(5 \\, {\\left(r - r_{m}\\right)}^{\\frac{12}{13}} r^{17} - 4 \\, {\\left(r - r_{m}\\right)}^{\\frac{9}{13}} r^{\\frac{224}{13}} + 25 \\, {\\left(r - r_{m}\\right)}^{\\frac{7}{13}} r^{\\frac{226}{13}} - 60 \\, {\\left(r - r_{m}\\right)}^{\\frac{5}{13}} r^{\\frac{228}{13}} + 70 \\, {\\left(r - r_{m}\\right)}^{\\frac{3}{13}} r^{\\frac{230}{13}} - 40 \\, {\\left(r - r_{m}\\right)}^{\\frac{1}{13}} r^{\\frac{232}{13}}\\right)} r_{m}^{4} - 4 \\, {\\left(14 \\, {\\left(r - r_{m}\\right)}^{\\frac{12}{13}} r^{18} + 7 \\, {\\left(r - r_{m}\\right)}^{\\frac{11}{13}} r^{\\frac{235}{13}} - 56 \\, {\\left(r - r_{m}\\right)}^{\\frac{9}{13}} r^{\\frac{237}{13}} + 175 \\, {\\left(r - r_{m}\\right)}^{\\frac{7}{13}} r^{\\frac{239}{13}} - 280 \\, {\\left(r - r_{m}\\right)}^{\\frac{5}{13}} r^{\\frac{241}{13}} + 245 \\, {\\left(r - r_{m}\\right)}^{\\frac{3}{13}} r^{\\frac{243}{13}} - 112 \\, {\\left(r - r_{m}\\right)}^{\\frac{1}{13}} r^{\\frac{245}{13}} - 2 \\, r^{\\frac{246}{13}}\\right)} r_{m}^{3} + {\\left(28 \\, {\\left(r - r_{m}\\right)}^{\\frac{12}{13}} r^{19} + 84 \\, {\\left(r - r_{m}\\right)}^{\\frac{11}{13}} r^{\\frac{248}{13}} - 336 \\, {\\left(r - r_{m}\\right)}^{\\frac{9}{13}} r^{\\frac{250}{13}} + 700 \\, {\\left(r - r_{m}\\right)}^{\\frac{7}{13}} r^{\\frac{252}{13}} - 840 \\, {\\left(r - r_{m}\\right)}^{\\frac{5}{13}} r^{\\frac{254}{13}} + 588 \\, {\\left(r - r_{m}\\right)}^{\\frac{3}{13}} r^{\\frac{256}{13}} + {\\left(r - r_{m}\\right)}^{\\frac{2}{13}} r^{\\frac{257}{13}} - 224 \\, {\\left(r - r_{m}\\right)}^{\\frac{1}{13}} r^{\\frac{258}{13}} - 24 \\, r^{\\frac{259}{13}}\\right)} r_{m}^{2} - 2 \\, {\\left(4 \\, {\\left(r - r_{m}\\right)}^{\\frac{12}{13}} r^{20} + 42 \\, {\\left(r - r_{m}\\right)}^{\\frac{11}{13}} r^{\\frac{261}{13}} - 112 \\, {\\left(r - r_{m}\\right)}^{\\frac{9}{13}} r^{\\frac{263}{13}} + 175 \\, {\\left(r - r_{m}\\right)}^{\\frac{7}{13}} r^{\\frac{265}{13}} - 168 \\, {\\left(r - r_{m}\\right)}^{\\frac{5}{13}} r^{\\frac{267}{13}} + 98 \\, {\\left(r - r_{m}\\right)}^{\\frac{3}{13}} r^{\\frac{269}{13}} + {\\left(r - r_{m}\\right)}^{\\frac{2}{13}} r^{\\frac{270}{13}} - 32 \\, {\\left(r - r_{m}\\right)}^{\\frac{1}{13}} r^{\\frac{271}{13}} - 12 \\, r^{\\frac{272}{13}}\\right)} r_{m}\\right)} r_{p}\\right)}}\\)</html>"
      ],
      "text/latex": [
       "$\\displaystyle \\lim_{a \\to 0}\\Psi_{2} =  \\frac{140 \\, {\\left(r - r_{m}\\right)}^{\\frac{1}{13}} r^{\\frac{141}{13}} r_{m}^{10} + {\\left(169 \\, {\\left(r - r_{m}\\right)}^{\\frac{1}{13}} r^{\\frac{141}{13}} - 1820 \\, {\\left(r - r_{m}\\right)}^{\\frac{1}{13}} r^{\\frac{128}{13}} r_{m} + 8772 \\, {\\left(r - r_{m}\\right)}^{\\frac{1}{13}} r^{\\frac{115}{13}} r_{m}^{2} - 24936 \\, {\\left(r - r_{m}\\right)}^{\\frac{1}{13}} r^{\\frac{102}{13}} r_{m}^{3} + 46326 \\, {\\left(r - r_{m}\\right)}^{\\frac{1}{13}} r^{\\frac{89}{13}} r_{m}^{4} - 58800 \\, {\\left(r - r_{m}\\right)}^{\\frac{1}{13}} r^{\\frac{76}{13}} r_{m}^{5} + 51660 \\, {\\left(r - r_{m}\\right)}^{\\frac{1}{13}} r^{\\frac{63}{13}} r_{m}^{6} - 31032 \\, {\\left(r - r_{m}\\right)}^{\\frac{1}{13}} r^{\\frac{50}{13}} r_{m}^{7} + 12201 \\, {\\left(r - r_{m}\\right)}^{\\frac{1}{13}} r^{\\frac{37}{13}} r_{m}^{8} - 2836 \\, {\\left(r - r_{m}\\right)}^{\\frac{1}{13}} r^{\\frac{24}{13}} r_{m}^{9} + 296 \\, {\\left(r - r_{m}\\right)}^{\\frac{1}{13}} r^{\\frac{11}{13}} r_{m}^{10}\\right)} r_{p}^{10} + 3 \\, {\\left(420 \\, {\\left(r - r_{m}\\right)}^{\\frac{3}{13}} r^{\\frac{152}{13}} - 421 \\, {\\left(r - r_{m}\\right)}^{\\frac{1}{13}} r^{\\frac{154}{13}}\\right)} r_{m}^{9} + {\\left(1521 \\, {\\left(r - r_{m}\\right)}^{\\frac{3}{13}} r^{\\frac{152}{13}} - 1521 \\, {\\left(r - r_{m}\\right)}^{\\frac{1}{13}} r^{\\frac{154}{13}} - 2804 \\, {\\left(r - r_{m}\\right)}^{\\frac{1}{13}} r^{\\frac{24}{13}} r_{m}^{10} - 3 \\, {\\left(888 \\, {\\left(r - r_{m}\\right)}^{\\frac{3}{13}} r^{\\frac{35}{13}} - 8929 \\, {\\left(r - r_{m}\\right)}^{\\frac{1}{13}} r^{\\frac{37}{13}}\\right)} r_{m}^{9} + 3 \\, {\\left(7620 \\, {\\left(r - r_{m}\\right)}^{\\frac{3}{13}} r^{\\frac{48}{13}} - 38291 \\, {\\left(r - r_{m}\\right)}^{\\frac{1}{13}} r^{\\frac{50}{13}}\\right)} r_{m}^{8} - 9 \\, {\\left(9661 \\, {\\left(r - r_{m}\\right)}^{\\frac{3}{13}} r^{\\frac{61}{13}} - 32348 \\, {\\left(r - r_{m}\\right)}^{\\frac{1}{13}} r^{\\frac{63}{13}}\\right)} r_{m}^{7} + 21 \\, {\\left(9159 \\, {\\left(r - r_{m}\\right)}^{\\frac{3}{13}} r^{\\frac{74}{13}} - 22988 \\, {\\left(r - r_{m}\\right)}^{\\frac{1}{13}} r^{\\frac{76}{13}}\\right)} r_{m}^{6} - 21 \\, {\\left(12981 \\, {\\left(r - r_{m}\\right)}^{\\frac{3}{13}} r^{\\frac{87}{13}} - 26050 \\, {\\left(r - r_{m}\\right)}^{\\frac{1}{13}} r^{\\frac{89}{13}}\\right)} r_{m}^{5} + 21 \\, {\\left(12219 \\, {\\left(r - r_{m}\\right)}^{\\frac{3}{13}} r^{\\frac{100}{13}} - 20422 \\, {\\left(r - r_{m}\\right)}^{\\frac{1}{13}} r^{\\frac{102}{13}}\\right)} r_{m}^{4} - 3 \\, {\\left(53445 \\, {\\left(r - r_{m}\\right)}^{\\frac{3}{13}} r^{\\frac{113}{13}} - 76516 \\, {\\left(r - r_{m}\\right)}^{\\frac{1}{13}} r^{\\frac{115}{13}}\\right)} r_{m}^{3} + 3 \\, {\\left(21363 \\, {\\left(r - r_{m}\\right)}^{\\frac{3}{13}} r^{\\frac{126}{13}} - 26744 \\, {\\left(r - r_{m}\\right)}^{\\frac{1}{13}} r^{\\frac{128}{13}}\\right)} r_{m}^{2} - 13 \\, {\\left(1143 \\, {\\left(r - r_{m}\\right)}^{\\frac{3}{13}} r^{\\frac{139}{13}} - 1271 \\, {\\left(r - r_{m}\\right)}^{\\frac{1}{13}} r^{\\frac{141}{13}}\\right)} r_{m}\\right)} r_{p}^{9} + 3 \\, {\\left(1680 \\, {\\left(r - r_{m}\\right)}^{\\frac{5}{13}} r^{\\frac{163}{13}} - 3369 \\, {\\left(r - r_{m}\\right)}^{\\frac{3}{13}} r^{\\frac{165}{13}} + 1688 \\, {\\left(r - r_{m}\\right)}^{\\frac{1}{13}} r^{\\frac{167}{13}}\\right)} r_{m}^{8} + 9 \\, {\\left(676 \\, {\\left(r - r_{m}\\right)}^{\\frac{5}{13}} r^{\\frac{163}{13}} - 1352 \\, {\\left(r - r_{m}\\right)}^{\\frac{3}{13}} r^{\\frac{165}{13}} + 676 \\, {\\left(r - r_{m}\\right)}^{\\frac{1}{13}} r^{\\frac{167}{13}} + 1324 \\, {\\left(r - r_{m}\\right)}^{\\frac{1}{13}} r^{\\frac{37}{13}} r_{m}^{10} + {\\left(2508 \\, {\\left(r - r_{m}\\right)}^{\\frac{3}{13}} r^{\\frac{48}{13}} - 12607 \\, {\\left(r - r_{m}\\right)}^{\\frac{1}{13}} r^{\\frac{50}{13}}\\right)} r_{m}^{9} + {\\left(1184 \\, {\\left(r - r_{m}\\right)}^{\\frac{5}{13}} r^{\\frac{59}{13}} - 21443 \\, {\\left(r - r_{m}\\right)}^{\\frac{3}{13}} r^{\\frac{61}{13}} + 53868 \\, {\\left(r - r_{m}\\right)}^{\\frac{1}{13}} r^{\\frac{63}{13}}\\right)} r_{m}^{8} - {\\left(8976 \\, {\\left(r - r_{m}\\right)}^{\\frac{5}{13}} r^{\\frac{72}{13}} - 81229 \\, {\\left(r - r_{m}\\right)}^{\\frac{3}{13}} r^{\\frac{74}{13}} + 135972 \\, {\\left(r - r_{m}\\right)}^{\\frac{1}{13}} r^{\\frac{76}{13}}\\right)} r_{m}^{7} + {\\left(29668 \\, {\\left(r - r_{m}\\right)}^{\\frac{5}{13}} r^{\\frac{85}{13}} - 178871 \\, {\\left(r - r_{m}\\right)}^{\\frac{3}{13}} r^{\\frac{87}{13}} + 224448 \\, {\\left(r - r_{m}\\right)}^{\\frac{1}{13}} r^{\\frac{89}{13}}\\right)} r_{m}^{6} - {\\left(55816 \\, {\\left(r - r_{m}\\right)}^{\\frac{5}{13}} r^{\\frac{98}{13}} - 252217 \\, {\\left(r - r_{m}\\right)}^{\\frac{3}{13}} r^{\\frac{100}{13}} + 253050 \\, {\\left(r - r_{m}\\right)}^{\\frac{1}{13}} r^{\\frac{102}{13}}\\right)} r_{m}^{5} + {\\left(65340 \\, {\\left(r - r_{m}\\right)}^{\\frac{5}{13}} r^{\\frac{111}{13}} - 236033 \\, {\\left(r - r_{m}\\right)}^{\\frac{3}{13}} r^{\\frac{113}{13}} + 197232 \\, {\\left(r - r_{m}\\right)}^{\\frac{1}{13}} r^{\\frac{115}{13}}\\right)} r_{m}^{4} - {\\left(48704 \\, {\\left(r - r_{m}\\right)}^{\\frac{5}{13}} r^{\\frac{124}{13}} - 146503 \\, {\\left(r - r_{m}\\right)}^{\\frac{3}{13}} r^{\\frac{126}{13}} + 104868 \\, {\\left(r - r_{m}\\right)}^{\\frac{1}{13}} r^{\\frac{128}{13}}\\right)} r_{m}^{3} + {\\left(22556 \\, {\\left(r - r_{m}\\right)}^{\\frac{5}{13}} r^{\\frac{137}{13}} - 58109 \\, {\\left(r - r_{m}\\right)}^{\\frac{3}{13}} r^{\\frac{139}{13}} + 36372 \\, {\\left(r - r_{m}\\right)}^{\\frac{1}{13}} r^{\\frac{141}{13}}\\right)} r_{m}^{2} - 13 \\, {\\left(456 \\, {\\left(r - r_{m}\\right)}^{\\frac{5}{13}} r^{\\frac{150}{13}} - 1027 \\, {\\left(r - r_{m}\\right)}^{\\frac{3}{13}} r^{\\frac{152}{13}} + 571 \\, {\\left(r - r_{m}\\right)}^{\\frac{1}{13}} r^{\\frac{154}{13}}\\right)} r_{m}\\right)} r_{p}^{8} + 3 \\, {\\left(3920 \\, {\\left(r - r_{m}\\right)}^{\\frac{7}{13}} r^{\\frac{174}{13}} - 11796 \\, {\\left(r - r_{m}\\right)}^{\\frac{5}{13}} r^{\\frac{176}{13}} + 11823 \\, {\\left(r - r_{m}\\right)}^{\\frac{3}{13}} r^{\\frac{178}{13}} - 3948 \\, {\\left(r - r_{m}\\right)}^{\\frac{1}{13}} r^{\\frac{180}{13}}\\right)} r_{m}^{7} + 12 \\, {\\left(1183 \\, {\\left(r - r_{m}\\right)}^{\\frac{7}{13}} r^{\\frac{174}{13}} - 3549 \\, {\\left(r - r_{m}\\right)}^{\\frac{5}{13}} r^{\\frac{176}{13}} + 3549 \\, {\\left(r - r_{m}\\right)}^{\\frac{3}{13}} r^{\\frac{178}{13}} - 1183 \\, {\\left(r - r_{m}\\right)}^{\\frac{1}{13}} r^{\\frac{180}{13}} - 2492 \\, {\\left(r - r_{m}\\right)}^{\\frac{1}{13}} r^{\\frac{50}{13}} r_{m}^{10} - {\\left(7056 \\, {\\left(r - r_{m}\\right)}^{\\frac{3}{13}} r^{\\frac{61}{13}} - 23641 \\, {\\left(r - r_{m}\\right)}^{\\frac{1}{13}} r^{\\frac{63}{13}}\\right)} r_{m}^{9} - 3 \\, {\\left(2212 \\, {\\left(r - r_{m}\\right)}^{\\frac{5}{13}} r^{\\frac{72}{13}} - 20026 \\, {\\left(r - r_{m}\\right)}^{\\frac{3}{13}} r^{\\frac{74}{13}} + 33533 \\, {\\left(r - r_{m}\\right)}^{\\frac{1}{13}} r^{\\frac{76}{13}}\\right)} r_{m}^{8} - {\\left(2072 \\, {\\left(r - r_{m}\\right)}^{\\frac{7}{13}} r^{\\frac{83}{13}} - 50073 \\, {\\left(r - r_{m}\\right)}^{\\frac{5}{13}} r^{\\frac{85}{13}} + 226527 \\, {\\left(r - r_{m}\\right)}^{\\frac{3}{13}} r^{\\frac{87}{13}} - 252756 \\, {\\left(r - r_{m}\\right)}^{\\frac{1}{13}} r^{\\frac{89}{13}}\\right)} r_{m}^{7} + {\\left(13636 \\, {\\left(r - r_{m}\\right)}^{\\frac{7}{13}} r^{\\frac{96}{13}} - 164631 \\, {\\left(r - r_{m}\\right)}^{\\frac{5}{13}} r^{\\frac{98}{13}} + 496209 \\, {\\left(r - r_{m}\\right)}^{\\frac{3}{13}} r^{\\frac{100}{13}} - 415044 \\, {\\left(r - r_{m}\\right)}^{\\frac{1}{13}} r^{\\frac{102}{13}}\\right)} r_{m}^{6} - 3 \\, {\\left(12761 \\, {\\left(r - r_{m}\\right)}^{\\frac{7}{13}} r^{\\frac{109}{13}} - 102623 \\, {\\left(r - r_{m}\\right)}^{\\frac{5}{13}} r^{\\frac{111}{13}} + 231833 \\, {\\left(r - r_{m}\\right)}^{\\frac{3}{13}} r^{\\frac{113}{13}} - 155050 \\, {\\left(r - r_{m}\\right)}^{\\frac{1}{13}} r^{\\frac{115}{13}}\\right)} r_{m}^{5} + {\\left(59395 \\, {\\left(r - r_{m}\\right)}^{\\frac{7}{13}} r^{\\frac{122}{13}} - 357915 \\, {\\left(r - r_{m}\\right)}^{\\frac{5}{13}} r^{\\frac{124}{13}} + 646401 \\, {\\left(r - r_{m}\\right)}^{\\frac{3}{13}} r^{\\frac{126}{13}} - 360066 \\, {\\left(r - r_{m}\\right)}^{\\frac{1}{13}} r^{\\frac{128}{13}}\\right)} r_{m}^{4} - {\\left(54950 \\, {\\left(r - r_{m}\\right)}^{\\frac{7}{13}} r^{\\frac{135}{13}} - 264651 \\, {\\left(r - r_{m}\\right)}^{\\frac{5}{13}} r^{\\frac{137}{13}} + 398013 \\, {\\left(r - r_{m}\\right)}^{\\frac{3}{13}} r^{\\frac{139}{13}} - 189924 \\, {\\left(r - r_{m}\\right)}^{\\frac{1}{13}} r^{\\frac{141}{13}}\\right)} r_{m}^{3} + 3 \\, {\\left(10094 \\, {\\left(r - r_{m}\\right)}^{\\frac{7}{13}} r^{\\frac{148}{13}} - 40471 \\, {\\left(r - r_{m}\\right)}^{\\frac{5}{13}} r^{\\frac{150}{13}} + 52129 \\, {\\left(r - r_{m}\\right)}^{\\frac{3}{13}} r^{\\frac{152}{13}} - 21752 \\, {\\left(r - r_{m}\\right)}^{\\frac{1}{13}} r^{\\frac{154}{13}}\\right)} r_{m}^{2} - 13 \\, {\\left(707 \\, {\\left(r - r_{m}\\right)}^{\\frac{7}{13}} r^{\\frac{161}{13}} - 2427 \\, {\\left(r - r_{m}\\right)}^{\\frac{5}{13}} r^{\\frac{163}{13}} + 2733 \\, {\\left(r - r_{m}\\right)}^{\\frac{3}{13}} r^{\\frac{165}{13}} - 1013 \\, {\\left(r - r_{m}\\right)}^{\\frac{1}{13}} r^{\\frac{167}{13}}\\right)} r_{m}\\right)} r_{p}^{7} + 3 \\, {\\left(5880 \\, {\\left(r - r_{m}\\right)}^{\\frac{9}{13}} r^{\\frac{185}{13}} - 23604 \\, {\\left(r - r_{m}\\right)}^{\\frac{7}{13}} r^{\\frac{187}{13}} + 35496 \\, {\\left(r - r_{m}\\right)}^{\\frac{5}{13}} r^{\\frac{189}{13}} - 23709 \\, {\\left(r - r_{m}\\right)}^{\\frac{3}{13}} r^{\\frac{191}{13}} + 5936 \\, {\\left(r - r_{m}\\right)}^{\\frac{1}{13}} r^{\\frac{193}{13}}\\right)} r_{m}^{6} + 42 \\, {\\left(507 \\, {\\left(r - r_{m}\\right)}^{\\frac{9}{13}} r^{\\frac{185}{13}} - 2028 \\, {\\left(r - r_{m}\\right)}^{\\frac{7}{13}} r^{\\frac{187}{13}} + 3042 \\, {\\left(r - r_{m}\\right)}^{\\frac{5}{13}} r^{\\frac{189}{13}} - 2028 \\, {\\left(r - r_{m}\\right)}^{\\frac{3}{13}} r^{\\frac{191}{13}} + 507 \\, {\\left(r - r_{m}\\right)}^{\\frac{1}{13}} r^{\\frac{193}{13}} + 1168 \\, {\\left(r - r_{m}\\right)}^{\\frac{1}{13}} r^{\\frac{63}{13}} r_{m}^{10} + 18 \\, {\\left(244 \\, {\\left(r - r_{m}\\right)}^{\\frac{3}{13}} r^{\\frac{74}{13}} - 613 \\, {\\left(r - r_{m}\\right)}^{\\frac{1}{13}} r^{\\frac{76}{13}}\\right)} r_{m}^{9} + 3 \\, {\\left(2056 \\, {\\left(r - r_{m}\\right)}^{\\frac{5}{13}} r^{\\frac{85}{13}} - 12406 \\, {\\left(r - r_{m}\\right)}^{\\frac{3}{13}} r^{\\frac{87}{13}} + 15577 \\, {\\left(r - r_{m}\\right)}^{\\frac{1}{13}} r^{\\frac{89}{13}}\\right)} r_{m}^{8} + 2 \\, {\\left(1916 \\, {\\left(r - r_{m}\\right)}^{\\frac{7}{13}} r^{\\frac{96}{13}} - 23145 \\, {\\left(r - r_{m}\\right)}^{\\frac{5}{13}} r^{\\frac{98}{13}} + 69789 \\, {\\left(r - r_{m}\\right)}^{\\frac{3}{13}} r^{\\frac{100}{13}} - 58392 \\, {\\left(r - r_{m}\\right)}^{\\frac{1}{13}} r^{\\frac{102}{13}}\\right)} r_{m}^{7} + 6 \\, {\\left(148 \\, {\\left(r - r_{m}\\right)}^{\\frac{9}{13}} r^{\\frac{107}{13}} - 4177 \\, {\\left(r - r_{m}\\right)}^{\\frac{7}{13}} r^{\\frac{109}{13}} + 25209 \\, {\\left(r - r_{m}\\right)}^{\\frac{5}{13}} r^{\\frac{111}{13}} - 50645 \\, {\\left(r - r_{m}\\right)}^{\\frac{3}{13}} r^{\\frac{113}{13}} + 31766 \\, {\\left(r - r_{m}\\right)}^{\\frac{1}{13}} r^{\\frac{115}{13}}\\right)} r_{m}^{6} - 6 \\, {\\left(826 \\, {\\left(r - r_{m}\\right)}^{\\frac{9}{13}} r^{\\frac{120}{13}} - 11643 \\, {\\left(r - r_{m}\\right)}^{\\frac{7}{13}} r^{\\frac{122}{13}} + 46807 \\, {\\left(r - r_{m}\\right)}^{\\frac{5}{13}} r^{\\frac{124}{13}} - 70483 \\, {\\left(r - r_{m}\\right)}^{\\frac{3}{13}} r^{\\frac{126}{13}} + 35350 \\, {\\left(r - r_{m}\\right)}^{\\frac{1}{13}} r^{\\frac{128}{13}}\\right)} r_{m}^{5} + {\\left(11451 \\, {\\left(r - r_{m}\\right)}^{\\frac{9}{13}} r^{\\frac{133}{13}} - 107480 \\, {\\left(r - r_{m}\\right)}^{\\frac{7}{13}} r^{\\frac{135}{13}} + 323790 \\, {\\left(r - r_{m}\\right)}^{\\frac{5}{13}} r^{\\frac{137}{13}} - 389802 \\, {\\left(r - r_{m}\\right)}^{\\frac{3}{13}} r^{\\frac{139}{13}} + 162834 \\, {\\left(r - r_{m}\\right)}^{\\frac{1}{13}} r^{\\frac{141}{13}}\\right)} r_{m}^{4} - 6 \\, {\\left(2334 \\, {\\left(r - r_{m}\\right)}^{\\frac{9}{13}} r^{\\frac{146}{13}} - 16410 \\, {\\left(r - r_{m}\\right)}^{\\frac{7}{13}} r^{\\frac{148}{13}} + 39513 \\, {\\left(r - r_{m}\\right)}^{\\frac{5}{13}} r^{\\frac{150}{13}} - 39613 \\, {\\left(r - r_{m}\\right)}^{\\frac{3}{13}} r^{\\frac{152}{13}} + 14176 \\, {\\left(r - r_{m}\\right)}^{\\frac{1}{13}} r^{\\frac{154}{13}}\\right)} r_{m}^{3} + 6 \\, {\\left(1591 \\, {\\left(r - r_{m}\\right)}^{\\frac{9}{13}} r^{\\frac{159}{13}} - 8937 \\, {\\left(r - r_{m}\\right)}^{\\frac{7}{13}} r^{\\frac{161}{13}} + 17915 \\, {\\left(r - r_{m}\\right)}^{\\frac{5}{13}} r^{\\frac{163}{13}} - 15383 \\, {\\left(r - r_{m}\\right)}^{\\frac{3}{13}} r^{\\frac{165}{13}} + 4814 \\, {\\left(r - r_{m}\\right)}^{\\frac{1}{13}} r^{\\frac{167}{13}}\\right)} r_{m}^{2} - 26 \\, {\\left(132 \\, {\\left(r - r_{m}\\right)}^{\\frac{9}{13}} r^{\\frac{172}{13}} - 617 \\, {\\left(r - r_{m}\\right)}^{\\frac{7}{13}} r^{\\frac{174}{13}} + 1059 \\, {\\left(r - r_{m}\\right)}^{\\frac{5}{13}} r^{\\frac{176}{13}} - 795 \\, {\\left(r - r_{m}\\right)}^{\\frac{3}{13}} r^{\\frac{178}{13}} + 221 \\, {\\left(r - r_{m}\\right)}^{\\frac{1}{13}} r^{\\frac{180}{13}}\\right)} r_{m}\\right)} r_{p}^{6} + 3 \\, {\\left(5880 \\, {\\left(r - r_{m}\\right)}^{\\frac{11}{13}} r^{\\frac{196}{13}} - 29526 \\, {\\left(r - r_{m}\\right)}^{\\frac{9}{13}} r^{\\frac{198}{13}} + 59220 \\, {\\left(r - r_{m}\\right)}^{\\frac{7}{13}} r^{\\frac{200}{13}} - 59340 \\, {\\left(r - r_{m}\\right)}^{\\frac{5}{13}} r^{\\frac{202}{13}} + 29715 \\, {\\left(r - r_{m}\\right)}^{\\frac{3}{13}} r^{\\frac{204}{13}} - 5950 \\, {\\left(r - r_{m}\\right)}^{\\frac{1}{13}} r^{\\frac{206}{13}} - 3920 \\, r^{\\frac{207}{13}}\\right)} r_{m}^{5} + 126 \\, {\\left(169 \\, {\\left(r - r_{m}\\right)}^{\\frac{11}{13}} r^{\\frac{196}{13}} - 845 \\, {\\left(r - r_{m}\\right)}^{\\frac{9}{13}} r^{\\frac{198}{13}} + 1690 \\, {\\left(r - r_{m}\\right)}^{\\frac{7}{13}} r^{\\frac{200}{13}} - 1690 \\, {\\left(r - r_{m}\\right)}^{\\frac{5}{13}} r^{\\frac{202}{13}} + 845 \\, {\\left(r - r_{m}\\right)}^{\\frac{3}{13}} r^{\\frac{204}{13}} - 169 \\, {\\left(r - r_{m}\\right)}^{\\frac{1}{13}} r^{\\frac{206}{13}} - 436 \\, {\\left(r - r_{m}\\right)}^{\\frac{1}{13}} r^{\\frac{76}{13}} r_{m}^{10} - {\\left(2040 \\, {\\left(r - r_{m}\\right)}^{\\frac{3}{13}} r^{\\frac{87}{13}} - 4099 \\, {\\left(r - r_{m}\\right)}^{\\frac{1}{13}} r^{\\frac{89}{13}}\\right)} r_{m}^{9} - {\\left(3800 \\, {\\left(r - r_{m}\\right)}^{\\frac{5}{13}} r^{\\frac{98}{13}} - 17192 \\, {\\left(r - r_{m}\\right)}^{\\frac{3}{13}} r^{\\frac{100}{13}} + 17265 \\, {\\left(r - r_{m}\\right)}^{\\frac{1}{13}} r^{\\frac{102}{13}}\\right)} r_{m}^{8} - {\\left(3520 \\, {\\left(r - r_{m}\\right)}^{\\frac{7}{13}} r^{\\frac{109}{13}} - 28338 \\, {\\left(r - r_{m}\\right)}^{\\frac{5}{13}} r^{\\frac{111}{13}} + 64069 \\, {\\left(r - r_{m}\\right)}^{\\frac{3}{13}} r^{\\frac{113}{13}} - 42876 \\, {\\left(r - r_{m}\\right)}^{\\frac{1}{13}} r^{\\frac{115}{13}}\\right)} r_{m}^{7} - {\\left(1620 \\, {\\left(r - r_{m}\\right)}^{\\frac{9}{13}} r^{\\frac{120}{13}} - 22852 \\, {\\left(r - r_{m}\\right)}^{\\frac{7}{13}} r^{\\frac{122}{13}} + 91918 \\, {\\left(r - r_{m}\\right)}^{\\frac{5}{13}} r^{\\frac{124}{13}} - 138467 \\, {\\left(r - r_{m}\\right)}^{\\frac{3}{13}} r^{\\frac{126}{13}} + 69468 \\, {\\left(r - r_{m}\\right)}^{\\frac{1}{13}} r^{\\frac{128}{13}}\\right)} r_{m}^{6} - {\\left(296 \\, {\\left(r - r_{m}\\right)}^{\\frac{11}{13}} r^{\\frac{131}{13}} - 8963 \\, {\\left(r - r_{m}\\right)}^{\\frac{9}{13}} r^{\\frac{133}{13}} + 63150 \\, {\\left(r - r_{m}\\right)}^{\\frac{7}{13}} r^{\\frac{135}{13}} - 169210 \\, {\\left(r - r_{m}\\right)}^{\\frac{5}{13}} r^{\\frac{137}{13}} + 191065 \\, {\\left(r - r_{m}\\right)}^{\\frac{3}{13}} r^{\\frac{139}{13}} - 76650 \\, {\\left(r - r_{m}\\right)}^{\\frac{1}{13}} r^{\\frac{141}{13}}\\right)} r_{m}^{5} + {\\left(1356 \\, {\\left(r - r_{m}\\right)}^{\\frac{11}{13}} r^{\\frac{144}{13}} - 20497 \\, {\\left(r - r_{m}\\right)}^{\\frac{9}{13}} r^{\\frac{146}{13}} + 96170 \\, {\\left(r - r_{m}\\right)}^{\\frac{7}{13}} r^{\\frac{148}{13}} - 193110 \\, {\\left(r - r_{m}\\right)}^{\\frac{5}{13}} r^{\\frac{150}{13}} + 174335 \\, {\\left(r - r_{m}\\right)}^{\\frac{3}{13}} r^{\\frac{152}{13}} - 58254 \\, {\\left(r - r_{m}\\right)}^{\\frac{1}{13}} r^{\\frac{154}{13}}\\right)} r_{m}^{4} - {\\left(2461 \\, {\\left(r - r_{m}\\right)}^{\\frac{11}{13}} r^{\\frac{157}{13}} - 24758 \\, {\\left(r - r_{m}\\right)}^{\\frac{9}{13}} r^{\\frac{159}{13}} + 87020 \\, {\\left(r - r_{m}\\right)}^{\\frac{7}{13}} r^{\\frac{161}{13}} - 139670 \\, {\\left(r - r_{m}\\right)}^{\\frac{5}{13}} r^{\\frac{163}{13}} + 105007 \\, {\\left(r - r_{m}\\right)}^{\\frac{3}{13}} r^{\\frac{165}{13}} - 30060 \\, {\\left(r - r_{m}\\right)}^{\\frac{1}{13}} r^{\\frac{167}{13}}\\right)} r_{m}^{3} + {\\left(2207 \\, {\\left(r - r_{m}\\right)}^{\\frac{11}{13}} r^{\\frac{170}{13}} - 16622 \\, {\\left(r - r_{m}\\right)}^{\\frac{9}{13}} r^{\\frac{172}{13}} + 46680 \\, {\\left(r - r_{m}\\right)}^{\\frac{7}{13}} r^{\\frac{174}{13}} - 62378 \\, {\\left(r - r_{m}\\right)}^{\\frac{5}{13}} r^{\\frac{176}{13}} + 40169 \\, {\\left(r - r_{m}\\right)}^{\\frac{3}{13}} r^{\\frac{178}{13}} - 10056 \\, {\\left(r - r_{m}\\right)}^{\\frac{1}{13}} r^{\\frac{180}{13}}\\right)} r_{m}^{2} - 13 \\, {\\left(75 \\, {\\left(r - r_{m}\\right)}^{\\frac{11}{13}} r^{\\frac{183}{13}} - 451 \\, {\\left(r - r_{m}\\right)}^{\\frac{9}{13}} r^{\\frac{185}{13}} + 1054 \\, {\\left(r - r_{m}\\right)}^{\\frac{7}{13}} r^{\\frac{187}{13}} - 1206 \\, {\\left(r - r_{m}\\right)}^{\\frac{5}{13}} r^{\\frac{189}{13}} + 679 \\, {\\left(r - r_{m}\\right)}^{\\frac{3}{13}} r^{\\frac{191}{13}} - 151 \\, {\\left(r - r_{m}\\right)}^{\\frac{1}{13}} r^{\\frac{193}{13}}\\right)} r_{m}\\right)} r_{p}^{5} - 3 \\, {\\left(23646 \\, {\\left(r - r_{m}\\right)}^{\\frac{11}{13}} r^{\\frac{209}{13}} - 59304 \\, {\\left(r - r_{m}\\right)}^{\\frac{9}{13}} r^{\\frac{211}{13}} + 79240 \\, {\\left(r - r_{m}\\right)}^{\\frac{7}{13}} r^{\\frac{213}{13}} - 59520 \\, {\\left(r - r_{m}\\right)}^{\\frac{5}{13}} r^{\\frac{215}{13}} + 23835 \\, {\\left(r - r_{m}\\right)}^{\\frac{3}{13}} r^{\\frac{217}{13}} + 1680 \\, {\\left(r - r_{m}\\right)}^{\\frac{2}{13}} r^{\\frac{218}{13}} - 3976 \\, {\\left(r - r_{m}\\right)}^{\\frac{1}{13}} r^{\\frac{219}{13}} - 15764 \\, r^{\\frac{220}{13}}\\right)} r_{m}^{4} - 42 \\, {\\left(2028 \\, {\\left(r - r_{m}\\right)}^{\\frac{11}{13}} r^{\\frac{209}{13}} - 5070 \\, {\\left(r - r_{m}\\right)}^{\\frac{9}{13}} r^{\\frac{211}{13}} + 6760 \\, {\\left(r - r_{m}\\right)}^{\\frac{7}{13}} r^{\\frac{213}{13}} - 5070 \\, {\\left(r - r_{m}\\right)}^{\\frac{5}{13}} r^{\\frac{215}{13}} + 2028 \\, {\\left(r - r_{m}\\right)}^{\\frac{3}{13}} r^{\\frac{217}{13}} - 338 \\, {\\left(r - r_{m}\\right)}^{\\frac{1}{13}} r^{\\frac{219}{13}} - 338 \\, r^{\\frac{220}{13}} - 1012 \\, {\\left(r - r_{m}\\right)}^{\\frac{1}{13}} r^{\\frac{89}{13}} r_{m}^{10} - {\\left(5652 \\, {\\left(r - r_{m}\\right)}^{\\frac{3}{13}} r^{\\frac{100}{13}} - 9461 \\, {\\left(r - r_{m}\\right)}^{\\frac{1}{13}} r^{\\frac{102}{13}}\\right)} r_{m}^{9} - 3 \\, {\\left(4360 \\, {\\left(r - r_{m}\\right)}^{\\frac{5}{13}} r^{\\frac{111}{13}} - 15775 \\, {\\left(r - r_{m}\\right)}^{\\frac{3}{13}} r^{\\frac{113}{13}} + 13198 \\, {\\left(r - r_{m}\\right)}^{\\frac{1}{13}} r^{\\frac{115}{13}}\\right)} r_{m}^{8} - {\\left(16040 \\, {\\left(r - r_{m}\\right)}^{\\frac{7}{13}} r^{\\frac{122}{13}} - 96810 \\, {\\left(r - r_{m}\\right)}^{\\frac{5}{13}} r^{\\frac{124}{13}} + 175047 \\, {\\left(r - r_{m}\\right)}^{\\frac{3}{13}} r^{\\frac{126}{13}} - 97596 \\, {\\left(r - r_{m}\\right)}^{\\frac{1}{13}} r^{\\frac{128}{13}}\\right)} r_{m}^{7} - {\\left(10980 \\, {\\left(r - r_{m}\\right)}^{\\frac{9}{13}} r^{\\frac{133}{13}} - 103210 \\, {\\left(r - r_{m}\\right)}^{\\frac{7}{13}} r^{\\frac{135}{13}} + 311250 \\, {\\left(r - r_{m}\\right)}^{\\frac{5}{13}} r^{\\frac{137}{13}} - 374997 \\, {\\left(r - r_{m}\\right)}^{\\frac{3}{13}} r^{\\frac{139}{13}} + 156744 \\, {\\left(r - r_{m}\\right)}^{\\frac{1}{13}} r^{\\frac{141}{13}}\\right)} r_{m}^{6} - {\\left(3972 \\, {\\left(r - r_{m}\\right)}^{\\frac{11}{13}} r^{\\frac{144}{13}} - 60105 \\, {\\left(r - r_{m}\\right)}^{\\frac{9}{13}} r^{\\frac{146}{13}} + 282210 \\, {\\left(r - r_{m}\\right)}^{\\frac{7}{13}} r^{\\frac{148}{13}} - 566970 \\, {\\left(r - r_{m}\\right)}^{\\frac{5}{13}} r^{\\frac{150}{13}} + 512043 \\, {\\left(r - r_{m}\\right)}^{\\frac{3}{13}} r^{\\frac{152}{13}} - 171150 \\, {\\left(r - r_{m}\\right)}^{\\frac{1}{13}} r^{\\frac{154}{13}} - 592 \\, r^{\\frac{155}{13}}\\right)} r_{m}^{5} + {\\left(17961 \\, {\\left(r - r_{m}\\right)}^{\\frac{11}{13}} r^{\\frac{157}{13}} - 135690 \\, {\\left(r - r_{m}\\right)}^{\\frac{9}{13}} r^{\\frac{159}{13}} + 424300 \\, {\\left(r - r_{m}\\right)}^{\\frac{7}{13}} r^{\\frac{161}{13}} - 638850 \\, {\\left(r - r_{m}\\right)}^{\\frac{5}{13}} r^{\\frac{163}{13}} + 461307 \\, {\\left(r - r_{m}\\right)}^{\\frac{3}{13}} r^{\\frac{165}{13}} - 128436 \\, {\\left(r - r_{m}\\right)}^{\\frac{1}{13}} r^{\\frac{167}{13}} - 2712 \\, r^{\\frac{168}{13}}\\right)} r_{m}^{4} - {\\left(32079 \\, {\\left(r - r_{m}\\right)}^{\\frac{11}{13}} r^{\\frac{170}{13}} - 161310 \\, {\\left(r - r_{m}\\right)}^{\\frac{9}{13}} r^{\\frac{172}{13}} + 377900 \\, {\\left(r - r_{m}\\right)}^{\\frac{7}{13}} r^{\\frac{174}{13}} - 454830 \\, {\\left(r - r_{m}\\right)}^{\\frac{5}{13}} r^{\\frac{176}{13}} + 273525 \\, {\\left(r - r_{m}\\right)}^{\\frac{3}{13}} r^{\\frac{178}{13}} - 65244 \\, {\\left(r - r_{m}\\right)}^{\\frac{1}{13}} r^{\\frac{180}{13}} - 4922 \\, r^{\\frac{181}{13}}\\right)} r_{m}^{3} + {\\left(28191 \\, {\\left(r - r_{m}\\right)}^{\\frac{11}{13}} r^{\\frac{183}{13}} - 106140 \\, {\\left(r - r_{m}\\right)}^{\\frac{9}{13}} r^{\\frac{185}{13}} + 198690 \\, {\\left(r - r_{m}\\right)}^{\\frac{7}{13}} r^{\\frac{187}{13}} - 199110 \\, {\\left(r - r_{m}\\right)}^{\\frac{5}{13}} r^{\\frac{189}{13}} + 102567 \\, {\\left(r - r_{m}\\right)}^{\\frac{3}{13}} r^{\\frac{191}{13}} - 21396 \\, {\\left(r - r_{m}\\right)}^{\\frac{1}{13}} r^{\\frac{193}{13}} - 4414 \\, r^{\\frac{194}{13}}\\right)} r_{m}^{2} - 13 \\, {\\left(933 \\, {\\left(r - r_{m}\\right)}^{\\frac{11}{13}} r^{\\frac{196}{13}} - 2805 \\, {\\left(r - r_{m}\\right)}^{\\frac{9}{13}} r^{\\frac{198}{13}} + 4370 \\, {\\left(r - r_{m}\\right)}^{\\frac{7}{13}} r^{\\frac{200}{13}} - 3750 \\, {\\left(r - r_{m}\\right)}^{\\frac{5}{13}} r^{\\frac{202}{13}} + 1689 \\, {\\left(r - r_{m}\\right)}^{\\frac{3}{13}} r^{\\frac{204}{13}} - 313 \\, {\\left(r - r_{m}\\right)}^{\\frac{1}{13}} r^{\\frac{206}{13}} - 150 \\, r^{\\frac{207}{13}}\\right)} r_{m}\\right)} r_{p}^{4} + 3 \\, {\\left(35658 \\, {\\left(r - r_{m}\\right)}^{\\frac{11}{13}} r^{\\frac{222}{13}} - 59556 \\, {\\left(r - r_{m}\\right)}^{\\frac{9}{13}} r^{\\frac{224}{13}} + 59640 \\, {\\left(r - r_{m}\\right)}^{\\frac{7}{13}} r^{\\frac{226}{13}} - 35820 \\, {\\left(r - r_{m}\\right)}^{\\frac{5}{13}} r^{\\frac{228}{13}} - 420 \\, {\\left(r - r_{m}\\right)}^{\\frac{4}{13}} r^{\\frac{229}{13}} + 11949 \\, {\\left(r - r_{m}\\right)}^{\\frac{3}{13}} r^{\\frac{230}{13}} + 5076 \\, {\\left(r - r_{m}\\right)}^{\\frac{2}{13}} r^{\\frac{231}{13}} - 1708 \\, {\\left(r - r_{m}\\right)}^{\\frac{1}{13}} r^{\\frac{232}{13}} - 23772 \\, r^{\\frac{233}{13}}\\right)} r_{m}^{3} + 12 \\, {\\left(10647 \\, {\\left(r - r_{m}\\right)}^{\\frac{11}{13}} r^{\\frac{222}{13}} - 17745 \\, {\\left(r - r_{m}\\right)}^{\\frac{9}{13}} r^{\\frac{224}{13}} + 17745 \\, {\\left(r - r_{m}\\right)}^{\\frac{7}{13}} r^{\\frac{226}{13}} - 10647 \\, {\\left(r - r_{m}\\right)}^{\\frac{5}{13}} r^{\\frac{228}{13}} + 3549 \\, {\\left(r - r_{m}\\right)}^{\\frac{3}{13}} r^{\\frac{230}{13}} + 507 \\, {\\left(r - r_{m}\\right)}^{\\frac{2}{13}} r^{\\frac{231}{13}} - 507 \\, {\\left(r - r_{m}\\right)}^{\\frac{1}{13}} r^{\\frac{232}{13}} - 3549 \\, r^{\\frac{233}{13}} - 1868 \\, {\\left(r - r_{m}\\right)}^{\\frac{1}{13}} r^{\\frac{102}{13}} r_{m}^{10} - 3 \\, {\\left(4032 \\, {\\left(r - r_{m}\\right)}^{\\frac{3}{13}} r^{\\frac{113}{13}} - 5783 \\, {\\left(r - r_{m}\\right)}^{\\frac{1}{13}} r^{\\frac{115}{13}}\\right)} r_{m}^{9} - 21 \\, {\\left(1588 \\, {\\left(r - r_{m}\\right)}^{\\frac{5}{13}} r^{\\frac{124}{13}} - 4786 \\, {\\left(r - r_{m}\\right)}^{\\frac{3}{13}} r^{\\frac{126}{13}} + 3431 \\, {\\left(r - r_{m}\\right)}^{\\frac{1}{13}} r^{\\frac{128}{13}}\\right)} r_{m}^{8} - {\\left(50680 \\, {\\left(r - r_{m}\\right)}^{\\frac{7}{13}} r^{\\frac{135}{13}} - 244587 \\, {\\left(r - r_{m}\\right)}^{\\frac{5}{13}} r^{\\frac{137}{13}} + 368403 \\, {\\left(r - r_{m}\\right)}^{\\frac{3}{13}} r^{\\frac{139}{13}} - 176004 \\, {\\left(r - r_{m}\\right)}^{\\frac{1}{13}} r^{\\frac{141}{13}}\\right)} r_{m}^{7} - 21 \\, {\\left(2180 \\, {\\left(r - r_{m}\\right)}^{\\frac{9}{13}} r^{\\frac{146}{13}} - 15360 \\, {\\left(r - r_{m}\\right)}^{\\frac{7}{13}} r^{\\frac{148}{13}} + 37041 \\, {\\left(r - r_{m}\\right)}^{\\frac{5}{13}} r^{\\frac{150}{13}} - 37177 \\, {\\left(r - r_{m}\\right)}^{\\frac{3}{13}} r^{\\frac{152}{13}} + 13316 \\, {\\left(r - r_{m}\\right)}^{\\frac{1}{13}} r^{\\frac{154}{13}}\\right)} r_{m}^{6} - 7 \\, {\\left(3504 \\, {\\left(r - r_{m}\\right)}^{\\frac{11}{13}} r^{\\frac{157}{13}} - 35325 \\, {\\left(r - r_{m}\\right)}^{\\frac{9}{13}} r^{\\frac{159}{13}} + 124335 \\, {\\left(r - r_{m}\\right)}^{\\frac{7}{13}} r^{\\frac{161}{13}} - 199761 \\, {\\left(r - r_{m}\\right)}^{\\frac{5}{13}} r^{\\frac{163}{13}} + 150297 \\, {\\left(r - r_{m}\\right)}^{\\frac{3}{13}} r^{\\frac{165}{13}} - 43050 \\, {\\left(r - r_{m}\\right)}^{\\frac{1}{13}} r^{\\frac{167}{13}} - 1028 \\, r^{\\frac{168}{13}}\\right)} r_{m}^{5} + {\\left(109074 \\, {\\left(r - r_{m}\\right)}^{\\frac{11}{13}} r^{\\frac{170}{13}} - 549045 \\, {\\left(r - r_{m}\\right)}^{\\frac{9}{13}} r^{\\frac{172}{13}} + 1287125 \\, {\\left(r - r_{m}\\right)}^{\\frac{7}{13}} r^{\\frac{174}{13}} - 1549905 \\, {\\left(r - r_{m}\\right)}^{\\frac{5}{13}} r^{\\frac{176}{13}} + 932421 \\, {\\left(r - r_{m}\\right)}^{\\frac{3}{13}} r^{\\frac{178}{13}} + 888 \\, {\\left(r - r_{m}\\right)}^{\\frac{2}{13}} r^{\\frac{179}{13}} - 222474 \\, {\\left(r - r_{m}\\right)}^{\\frac{1}{13}} r^{\\frac{180}{13}} - 32417 \\, r^{\\frac{181}{13}}\\right)} r_{m}^{4} - 3 \\, {\\left(63567 \\, {\\left(r - r_{m}\\right)}^{\\frac{11}{13}} r^{\\frac{183}{13}} - 213010 \\, {\\left(r - r_{m}\\right)}^{\\frac{9}{13}} r^{\\frac{185}{13}} + 374150 \\, {\\left(r - r_{m}\\right)}^{\\frac{7}{13}} r^{\\frac{187}{13}} - 360171 \\, {\\left(r - r_{m}\\right)}^{\\frac{5}{13}} r^{\\frac{189}{13}} + 180467 \\, {\\left(r - r_{m}\\right)}^{\\frac{3}{13}} r^{\\frac{191}{13}} + 1060 \\, {\\left(r - r_{m}\\right)}^{\\frac{2}{13}} r^{\\frac{192}{13}} - 36892 \\, {\\left(r - r_{m}\\right)}^{\\frac{1}{13}} r^{\\frac{193}{13}} - 19208 \\, r^{\\frac{194}{13}}\\right)} r_{m}^{3} + {\\left(162939 \\, {\\left(r - r_{m}\\right)}^{\\frac{11}{13}} r^{\\frac{196}{13}} - 408870 \\, {\\left(r - r_{m}\\right)}^{\\frac{9}{13}} r^{\\frac{198}{13}} + 573930 \\, {\\left(r - r_{m}\\right)}^{\\frac{7}{13}} r^{\\frac{200}{13}} - 460047 \\, {\\left(r - r_{m}\\right)}^{\\frac{5}{13}} r^{\\frac{202}{13}} + 197463 \\, {\\left(r - r_{m}\\right)}^{\\frac{3}{13}} r^{\\frac{204}{13}} + 4203 \\, {\\left(r - r_{m}\\right)}^{\\frac{2}{13}} r^{\\frac{205}{13}} - 35304 \\, {\\left(r - r_{m}\\right)}^{\\frac{1}{13}} r^{\\frac{206}{13}} - 50330 \\, r^{\\frac{207}{13}}\\right)} r_{m}^{2} - 13 \\, {\\left(5187 \\, {\\left(r - r_{m}\\right)}^{\\frac{11}{13}} r^{\\frac{209}{13}} - 10395 \\, {\\left(r - r_{m}\\right)}^{\\frac{9}{13}} r^{\\frac{211}{13}} + 12145 \\, {\\left(r - r_{m}\\right)}^{\\frac{7}{13}} r^{\\frac{213}{13}} - 8337 \\, {\\left(r - r_{m}\\right)}^{\\frac{5}{13}} r^{\\frac{215}{13}} + 3129 \\, {\\left(r - r_{m}\\right)}^{\\frac{3}{13}} r^{\\frac{217}{13}} + 186 \\, {\\left(r - r_{m}\\right)}^{\\frac{2}{13}} r^{\\frac{218}{13}} - 497 \\, {\\left(r - r_{m}\\right)}^{\\frac{1}{13}} r^{\\frac{219}{13}} - 1652 \\, r^{\\frac{220}{13}}\\right)} r_{m}\\right)} r_{p}^{3} - {\\left(71694 \\, {\\left(r - r_{m}\\right)}^{\\frac{11}{13}} r^{\\frac{235}{13}} - 89712 \\, {\\left(r - r_{m}\\right)}^{\\frac{9}{13}} r^{\\frac{237}{13}} + 71820 \\, {\\left(r - r_{m}\\right)}^{\\frac{7}{13}} r^{\\frac{239}{13}} + 140 \\, {\\left(r - r_{m}\\right)}^{\\frac{6}{13}} r^{\\frac{240}{13}} - 35928 \\, {\\left(r - r_{m}\\right)}^{\\frac{5}{13}} r^{\\frac{241}{13}} - 2547 \\, {\\left(r - r_{m}\\right)}^{\\frac{4}{13}} r^{\\frac{242}{13}} + 10269 \\, {\\left(r - r_{m}\\right)}^{\\frac{3}{13}} r^{\\frac{243}{13}} + 15336 \\, {\\left(r - r_{m}\\right)}^{\\frac{2}{13}} r^{\\frac{244}{13}} - 1284 \\, {\\left(r - r_{m}\\right)}^{\\frac{1}{13}} r^{\\frac{245}{13}} - 47796 \\, r^{\\frac{246}{13}}\\right)} r_{m}^{2} - 9 \\, {\\left(9464 \\, {\\left(r - r_{m}\\right)}^{\\frac{11}{13}} r^{\\frac{235}{13}} - 11830 \\, {\\left(r - r_{m}\\right)}^{\\frac{9}{13}} r^{\\frac{237}{13}} + 9464 \\, {\\left(r - r_{m}\\right)}^{\\frac{7}{13}} r^{\\frac{239}{13}} - 4732 \\, {\\left(r - r_{m}\\right)}^{\\frac{5}{13}} r^{\\frac{241}{13}} - 169 \\, {\\left(r - r_{m}\\right)}^{\\frac{4}{13}} r^{\\frac{242}{13}} + 1352 \\, {\\left(r - r_{m}\\right)}^{\\frac{3}{13}} r^{\\frac{243}{13}} + 1352 \\, {\\left(r - r_{m}\\right)}^{\\frac{2}{13}} r^{\\frac{244}{13}} - 169 \\, {\\left(r - r_{m}\\right)}^{\\frac{1}{13}} r^{\\frac{245}{13}} - 4732 \\, r^{\\frac{246}{13}} - 856 \\, {\\left(r - r_{m}\\right)}^{\\frac{1}{13}} r^{\\frac{115}{13}} r_{m}^{10} - 16 \\, {\\left(393 \\, {\\left(r - r_{m}\\right)}^{\\frac{3}{13}} r^{\\frac{126}{13}} - 493 \\, {\\left(r - r_{m}\\right)}^{\\frac{1}{13}} r^{\\frac{128}{13}}\\right)} r_{m}^{9} - {\\left(20048 \\, {\\left(r - r_{m}\\right)}^{\\frac{5}{13}} r^{\\frac{137}{13}} - 51764 \\, {\\left(r - r_{m}\\right)}^{\\frac{3}{13}} r^{\\frac{139}{13}} + 32457 \\, {\\left(r - r_{m}\\right)}^{\\frac{1}{13}} r^{\\frac{141}{13}}\\right)} r_{m}^{8} - 4 \\, {\\left(9044 \\, {\\left(r - r_{m}\\right)}^{\\frac{7}{13}} r^{\\frac{148}{13}} - 36351 \\, {\\left(r - r_{m}\\right)}^{\\frac{5}{13}} r^{\\frac{150}{13}} + 46909 \\, {\\left(r - r_{m}\\right)}^{\\frac{3}{13}} r^{\\frac{152}{13}} - 19602 \\, {\\left(r - r_{m}\\right)}^{\\frac{1}{13}} r^{\\frac{154}{13}}\\right)} r_{m}^{7} - 28 \\, {\\left(1440 \\, {\\left(r - r_{m}\\right)}^{\\frac{9}{13}} r^{\\frac{159}{13}} - 8111 \\, {\\left(r - r_{m}\\right)}^{\\frac{7}{13}} r^{\\frac{161}{13}} + 16291 \\, {\\left(r - r_{m}\\right)}^{\\frac{5}{13}} r^{\\frac{163}{13}} - 14009 \\, {\\left(r - r_{m}\\right)}^{\\frac{3}{13}} r^{\\frac{165}{13}} + 4389 \\, {\\left(r - r_{m}\\right)}^{\\frac{1}{13}} r^{\\frac{167}{13}}\\right)} r_{m}^{6} - 28 \\, {\\left(1012 \\, {\\left(r - r_{m}\\right)}^{\\frac{11}{13}} r^{\\frac{170}{13}} - 7645 \\, {\\left(r - r_{m}\\right)}^{\\frac{9}{13}} r^{\\frac{172}{13}} + 21513 \\, {\\left(r - r_{m}\\right)}^{\\frac{7}{13}} r^{\\frac{174}{13}} - 28789 \\, {\\left(r - r_{m}\\right)}^{\\frac{5}{13}} r^{\\frac{176}{13}} + 18559 \\, {\\left(r - r_{m}\\right)}^{\\frac{3}{13}} r^{\\frac{178}{13}} - 4650 \\, {\\left(r - r_{m}\\right)}^{\\frac{1}{13}} r^{\\frac{180}{13}} - 436 \\, r^{\\frac{181}{13}}\\right)} r_{m}^{5} + 2 \\, {\\left(61614 \\, {\\left(r - r_{m}\\right)}^{\\frac{11}{13}} r^{\\frac{183}{13}} - 232435 \\, {\\left(r - r_{m}\\right)}^{\\frac{9}{13}} r^{\\frac{185}{13}} + 435680 \\, {\\left(r - r_{m}\\right)}^{\\frac{7}{13}} r^{\\frac{187}{13}} - 437010 \\, {\\left(r - r_{m}\\right)}^{\\frac{5}{13}} r^{\\frac{189}{13}} + 225274 \\, {\\left(r - r_{m}\\right)}^{\\frac{3}{13}} r^{\\frac{191}{13}} + 1464 \\, {\\left(r - r_{m}\\right)}^{\\frac{2}{13}} r^{\\frac{192}{13}} - 47019 \\, {\\left(r - r_{m}\\right)}^{\\frac{1}{13}} r^{\\frac{193}{13}} - 26866 \\, r^{\\frac{194}{13}}\\right)} r_{m}^{4} - 4 \\, {\\left(52283 \\, {\\left(r - r_{m}\\right)}^{\\frac{11}{13}} r^{\\frac{196}{13}} - 131320 \\, {\\left(r - r_{m}\\right)}^{\\frac{9}{13}} r^{\\frac{198}{13}} + 184450 \\, {\\left(r - r_{m}\\right)}^{\\frac{7}{13}} r^{\\frac{200}{13}} - 147917 \\, {\\left(r - r_{m}\\right)}^{\\frac{5}{13}} r^{\\frac{202}{13}} - 74 \\, {\\left(r - r_{m}\\right)}^{\\frac{4}{13}} r^{\\frac{203}{13}} + 63511 \\, {\\left(r - r_{m}\\right)}^{\\frac{3}{13}} r^{\\frac{204}{13}} + 2543 \\, {\\left(r - r_{m}\\right)}^{\\frac{2}{13}} r^{\\frac{205}{13}} - 11358 \\, {\\left(r - r_{m}\\right)}^{\\frac{1}{13}} r^{\\frac{206}{13}} - 23170 \\, r^{\\frac{207}{13}}\\right)} r_{m}^{3} + 4 \\, {\\left(42847 \\, {\\left(r - r_{m}\\right)}^{\\frac{11}{13}} r^{\\frac{209}{13}} - 80605 \\, {\\left(r - r_{m}\\right)}^{\\frac{9}{13}} r^{\\frac{211}{13}} + 90489 \\, {\\left(r - r_{m}\\right)}^{\\frac{7}{13}} r^{\\frac{213}{13}} - 60431 \\, {\\left(r - r_{m}\\right)}^{\\frac{5}{13}} r^{\\frac{215}{13}} - 191 \\, {\\left(r - r_{m}\\right)}^{\\frac{4}{13}} r^{\\frac{216}{13}} + 22229 \\, {\\left(r - r_{m}\\right)}^{\\frac{3}{13}} r^{\\frac{217}{13}} + 3228 \\, {\\left(r - r_{m}\\right)}^{\\frac{2}{13}} r^{\\frac{218}{13}} - 3477 \\, {\\left(r - r_{m}\\right)}^{\\frac{1}{13}} r^{\\frac{219}{13}} - 19432 \\, r^{\\frac{220}{13}}\\right)} r_{m}^{2} - 13 \\, {\\left(5124 \\, {\\left(r - r_{m}\\right)}^{\\frac{11}{13}} r^{\\frac{222}{13}} - 7700 \\, {\\left(r - r_{m}\\right)}^{\\frac{9}{13}} r^{\\frac{224}{13}} + 7196 \\, {\\left(r - r_{m}\\right)}^{\\frac{7}{13}} r^{\\frac{226}{13}} - 4116 \\, {\\left(r - r_{m}\\right)}^{\\frac{5}{13}} r^{\\frac{228}{13}} - 49 \\, {\\left(r - r_{m}\\right)}^{\\frac{4}{13}} r^{\\frac{229}{13}} + 1324 \\, {\\left(r - r_{m}\\right)}^{\\frac{3}{13}} r^{\\frac{230}{13}} + 540 \\, {\\left(r - r_{m}\\right)}^{\\frac{2}{13}} r^{\\frac{231}{13}} - 184 \\, {\\left(r - r_{m}\\right)}^{\\frac{1}{13}} r^{\\frac{232}{13}} - 2408 \\, r^{\\frac{233}{13}}\\right)} r_{m}\\right)} r_{p}^{2} + 143 \\, {\\left(126 \\, {\\left(r - r_{m}\\right)}^{\\frac{11}{13}} r^{\\frac{248}{13}} - 126 \\, {\\left(r - r_{m}\\right)}^{\\frac{9}{13}} r^{\\frac{250}{13}} + 84 \\, {\\left(r - r_{m}\\right)}^{\\frac{7}{13}} r^{\\frac{252}{13}} + {\\left(r - r_{m}\\right)}^{\\frac{6}{13}} r^{\\frac{253}{13}} - 36 \\, {\\left(r - r_{m}\\right)}^{\\frac{5}{13}} r^{\\frac{254}{13}} - 9 \\, {\\left(r - r_{m}\\right)}^{\\frac{4}{13}} r^{\\frac{255}{13}} + 9 \\, {\\left(r - r_{m}\\right)}^{\\frac{3}{13}} r^{\\frac{256}{13}} + 36 \\, {\\left(r - r_{m}\\right)}^{\\frac{2}{13}} r^{\\frac{257}{13}} - {\\left(r - r_{m}\\right)}^{\\frac{1}{13}} r^{\\frac{258}{13}} - 84 \\, r^{\\frac{259}{13}}\\right)} r_{m} + {\\left(21294 \\, {\\left(r - r_{m}\\right)}^{\\frac{11}{13}} r^{\\frac{248}{13}} - 21294 \\, {\\left(r - r_{m}\\right)}^{\\frac{9}{13}} r^{\\frac{250}{13}} + 14196 \\, {\\left(r - r_{m}\\right)}^{\\frac{7}{13}} r^{\\frac{252}{13}} + 169 \\, {\\left(r - r_{m}\\right)}^{\\frac{6}{13}} r^{\\frac{253}{13}} - 6084 \\, {\\left(r - r_{m}\\right)}^{\\frac{5}{13}} r^{\\frac{254}{13}} - 1521 \\, {\\left(r - r_{m}\\right)}^{\\frac{4}{13}} r^{\\frac{255}{13}} + 1521 \\, {\\left(r - r_{m}\\right)}^{\\frac{3}{13}} r^{\\frac{256}{13}} + 6084 \\, {\\left(r - r_{m}\\right)}^{\\frac{2}{13}} r^{\\frac{257}{13}} - 169 \\, {\\left(r - r_{m}\\right)}^{\\frac{1}{13}} r^{\\frac{258}{13}} - 14196 \\, r^{\\frac{259}{13}} - 1556 \\, {\\left(r - r_{m}\\right)}^{\\frac{1}{13}} r^{\\frac{128}{13}} r_{m}^{10} - {\\left(12744 \\, {\\left(r - r_{m}\\right)}^{\\frac{3}{13}} r^{\\frac{139}{13}} - 14203 \\, {\\left(r - r_{m}\\right)}^{\\frac{1}{13}} r^{\\frac{141}{13}}\\right)} r_{m}^{9} - 3 \\, {\\left(15312 \\, {\\left(r - r_{m}\\right)}^{\\frac{5}{13}} r^{\\frac{150}{13}} - 34572 \\, {\\left(r - r_{m}\\right)}^{\\frac{3}{13}} r^{\\frac{152}{13}} + 19259 \\, {\\left(r - r_{m}\\right)}^{\\frac{1}{13}} r^{\\frac{154}{13}}\\right)} r_{m}^{8} - 3 \\, {\\left(31808 \\, {\\left(r - r_{m}\\right)}^{\\frac{7}{13}} r^{\\frac{161}{13}} - 109500 \\, {\\left(r - r_{m}\\right)}^{\\frac{5}{13}} r^{\\frac{163}{13}} + 123567 \\, {\\left(r - r_{m}\\right)}^{\\frac{3}{13}} r^{\\frac{165}{13}} - 45876 \\, {\\left(r - r_{m}\\right)}^{\\frac{1}{13}} r^{\\frac{167}{13}}\\right)} r_{m}^{7} - 3 \\, {\\left(41832 \\, {\\left(r - r_{m}\\right)}^{\\frac{9}{13}} r^{\\frac{172}{13}} - 196168 \\, {\\left(r - r_{m}\\right)}^{\\frac{7}{13}} r^{\\frac{174}{13}} + 337476 \\, {\\left(r - r_{m}\\right)}^{\\frac{5}{13}} r^{\\frac{176}{13}} - 253785 \\, {\\left(r - r_{m}\\right)}^{\\frac{3}{13}} r^{\\frac{178}{13}} + 70644 \\, {\\left(r - r_{m}\\right)}^{\\frac{1}{13}} r^{\\frac{180}{13}}\\right)} r_{m}^{6} - 3 \\, {\\left(35952 \\, {\\left(r - r_{m}\\right)}^{\\frac{11}{13}} r^{\\frac{183}{13}} - 217014 \\, {\\left(r - r_{m}\\right)}^{\\frac{9}{13}} r^{\\frac{185}{13}} + 508452 \\, {\\left(r - r_{m}\\right)}^{\\frac{7}{13}} r^{\\frac{187}{13}} - 582828 \\, {\\left(r - r_{m}\\right)}^{\\frac{5}{13}} r^{\\frac{189}{13}} + 328587 \\, {\\left(r - r_{m}\\right)}^{\\frac{3}{13}} r^{\\frac{191}{13}} - 73150 \\, {\\left(r - r_{m}\\right)}^{\\frac{1}{13}} r^{\\frac{193}{13}} - 20048 \\, r^{\\frac{194}{13}}\\right)} r_{m}^{5} + 3 \\, {\\left(151536 \\, {\\left(r - r_{m}\\right)}^{\\frac{11}{13}} r^{\\frac{196}{13}} - 456834 \\, {\\left(r - r_{m}\\right)}^{\\frac{9}{13}} r^{\\frac{198}{13}} + 713020 \\, {\\left(r - r_{m}\\right)}^{\\frac{7}{13}} r^{\\frac{200}{13}} - 612660 \\, {\\left(r - r_{m}\\right)}^{\\frac{5}{13}} r^{\\frac{202}{13}} + 276213 \\, {\\left(r - r_{m}\\right)}^{\\frac{3}{13}} r^{\\frac{204}{13}} + 6912 \\, {\\left(r - r_{m}\\right)}^{\\frac{2}{13}} r^{\\frac{205}{13}} - 51226 \\, {\\left(r - r_{m}\\right)}^{\\frac{1}{13}} r^{\\frac{206}{13}} - 85260 \\, r^{\\frac{207}{13}}\\right)} r_{m}^{4} - 3 \\, {\\left(245994 \\, {\\left(r - r_{m}\\right)}^{\\frac{11}{13}} r^{\\frac{209}{13}} - 493836 \\, {\\left(r - r_{m}\\right)}^{\\frac{9}{13}} r^{\\frac{211}{13}} + 577640 \\, {\\left(r - r_{m}\\right)}^{\\frac{7}{13}} r^{\\frac{213}{13}} - 396852 \\, {\\left(r - r_{m}\\right)}^{\\frac{5}{13}} r^{\\frac{215}{13}} - 1308 \\, {\\left(r - r_{m}\\right)}^{\\frac{4}{13}} r^{\\frac{216}{13}} + 149037 \\, {\\left(r - r_{m}\\right)}^{\\frac{3}{13}} r^{\\frac{217}{13}} + 22872 \\, {\\left(r - r_{m}\\right)}^{\\frac{2}{13}} r^{\\frac{218}{13}} - 23684 \\, {\\left(r - r_{m}\\right)}^{\\frac{1}{13}} r^{\\frac{219}{13}} - 140224 \\, r^{\\frac{220}{13}}\\right)} r_{m}^{3} + {\\left(564858 \\, {\\left(r - r_{m}\\right)}^{\\frac{11}{13}} r^{\\frac{222}{13}} - 849492 \\, {\\left(r - r_{m}\\right)}^{\\frac{9}{13}} r^{\\frac{224}{13}} + 794304 \\, {\\left(r - r_{m}\\right)}^{\\frac{7}{13}} r^{\\frac{226}{13}} + 296 \\, {\\left(r - r_{m}\\right)}^{\\frac{6}{13}} r^{\\frac{227}{13}} - 454500 \\, {\\left(r - r_{m}\\right)}^{\\frac{5}{13}} r^{\\frac{228}{13}} - 9423 \\, {\\left(r - r_{m}\\right)}^{\\frac{4}{13}} r^{\\frac{229}{13}} + 146241 \\, {\\left(r - r_{m}\\right)}^{\\frac{3}{13}} r^{\\frac{230}{13}} + 81108 \\, {\\left(r - r_{m}\\right)}^{\\frac{2}{13}} r^{\\frac{231}{13}} - 20328 \\, {\\left(r - r_{m}\\right)}^{\\frac{1}{13}} r^{\\frac{232}{13}} - 328776 \\, r^{\\frac{233}{13}}\\right)} r_{m}^{2} - 13 \\, {\\left(14994 \\, {\\left(r - r_{m}\\right)}^{\\frac{11}{13}} r^{\\frac{235}{13}} - 18018 \\, {\\left(r - r_{m}\\right)}^{\\frac{9}{13}} r^{\\frac{237}{13}} + 14028 \\, {\\left(r - r_{m}\\right)}^{\\frac{7}{13}} r^{\\frac{239}{13}} + 36 \\, {\\left(r - r_{m}\\right)}^{\\frac{6}{13}} r^{\\frac{240}{13}} - 6876 \\, {\\left(r - r_{m}\\right)}^{\\frac{5}{13}} r^{\\frac{241}{13}} - 540 \\, {\\left(r - r_{m}\\right)}^{\\frac{4}{13}} r^{\\frac{242}{13}} + 1935 \\, {\\left(r - r_{m}\\right)}^{\\frac{3}{13}} r^{\\frac{243}{13}} + 3024 \\, {\\left(r - r_{m}\\right)}^{\\frac{2}{13}} r^{\\frac{244}{13}} - 239 \\, {\\left(r - r_{m}\\right)}^{\\frac{1}{13}} r^{\\frac{245}{13}} - 9072 \\, r^{\\frac{246}{13}}\\right)} r_{m}\\right)} r_{p}}{338 \\, {\\left({\\left(r - r_{m}\\right)}^{\\frac{12}{13}} r^{22} + 84 \\, {\\left(r - r_{m}\\right)}^{\\frac{11}{13}} r^{\\frac{287}{13}} - 126 \\, {\\left(r - r_{m}\\right)}^{\\frac{9}{13}} r^{\\frac{289}{13}} + 126 \\, {\\left(r - r_{m}\\right)}^{\\frac{7}{13}} r^{\\frac{291}{13}} - 84 \\, {\\left(r - r_{m}\\right)}^{\\frac{5}{13}} r^{\\frac{293}{13}} - {\\left(r - r_{m}\\right)}^{\\frac{4}{13}} r^{\\frac{294}{13}} + 36 \\, {\\left(r - r_{m}\\right)}^{\\frac{3}{13}} r^{\\frac{295}{13}} + 9 \\, {\\left(r - r_{m}\\right)}^{\\frac{2}{13}} r^{\\frac{296}{13}} - 9 \\, {\\left(r - r_{m}\\right)}^{\\frac{1}{13}} r^{\\frac{297}{13}} - 36 \\, r^{\\frac{298}{13}} - {\\left({\\left(r - r_{m}\\right)}^{\\frac{12}{13}} r^{13} - 8 \\, {\\left(r - r_{m}\\right)}^{\\frac{12}{13}} r^{12} r_{m} + 28 \\, {\\left(r - r_{m}\\right)}^{\\frac{12}{13}} r^{11} r_{m}^{2} - 56 \\, {\\left(r - r_{m}\\right)}^{\\frac{12}{13}} r^{10} r_{m}^{3} + 70 \\, {\\left(r - r_{m}\\right)}^{\\frac{12}{13}} r^{9} r_{m}^{4} - 56 \\, {\\left(r - r_{m}\\right)}^{\\frac{12}{13}} r^{8} r_{m}^{5} + 28 \\, {\\left(r - r_{m}\\right)}^{\\frac{12}{13}} r^{7} r_{m}^{6} - 8 \\, {\\left(r - r_{m}\\right)}^{\\frac{12}{13}} r^{6} r_{m}^{7} + {\\left(r - r_{m}\\right)}^{\\frac{12}{13}} r^{5} r_{m}^{8}\\right)} r_{p}^{9} + {\\left({\\left(r - r_{m}\\right)}^{\\frac{12}{13}} r^{14} - 9 \\, {\\left(r - r_{m}\\right)}^{\\frac{1}{13}} r^{\\frac{193}{13}}\\right)} r_{m}^{8} + 9 \\, {\\left({\\left(r - r_{m}\\right)}^{\\frac{12}{13}} r^{14} - {\\left(r - r_{m}\\right)}^{\\frac{1}{13}} r^{\\frac{193}{13}} + {\\left({\\left(r - r_{m}\\right)}^{\\frac{12}{13}} r^{6} - {\\left(r - r_{m}\\right)}^{\\frac{1}{13}} r^{\\frac{89}{13}}\\right)} r_{m}^{8} - 8 \\, {\\left({\\left(r - r_{m}\\right)}^{\\frac{12}{13}} r^{7} - {\\left(r - r_{m}\\right)}^{\\frac{1}{13}} r^{\\frac{102}{13}}\\right)} r_{m}^{7} + 28 \\, {\\left({\\left(r - r_{m}\\right)}^{\\frac{12}{13}} r^{8} - {\\left(r - r_{m}\\right)}^{\\frac{1}{13}} r^{\\frac{115}{13}}\\right)} r_{m}^{6} - 56 \\, {\\left({\\left(r - r_{m}\\right)}^{\\frac{12}{13}} r^{9} - {\\left(r - r_{m}\\right)}^{\\frac{1}{13}} r^{\\frac{128}{13}}\\right)} r_{m}^{5} + 70 \\, {\\left({\\left(r - r_{m}\\right)}^{\\frac{12}{13}} r^{10} - {\\left(r - r_{m}\\right)}^{\\frac{1}{13}} r^{\\frac{141}{13}}\\right)} r_{m}^{4} - 56 \\, {\\left({\\left(r - r_{m}\\right)}^{\\frac{12}{13}} r^{11} - {\\left(r - r_{m}\\right)}^{\\frac{1}{13}} r^{\\frac{154}{13}}\\right)} r_{m}^{3} + 28 \\, {\\left({\\left(r - r_{m}\\right)}^{\\frac{12}{13}} r^{12} - {\\left(r - r_{m}\\right)}^{\\frac{1}{13}} r^{\\frac{167}{13}}\\right)} r_{m}^{2} - 8 \\, {\\left({\\left(r - r_{m}\\right)}^{\\frac{12}{13}} r^{13} - {\\left(r - r_{m}\\right)}^{\\frac{1}{13}} r^{\\frac{180}{13}}\\right)} r_{m}\\right)} r_{p}^{8} - 4 \\, {\\left(2 \\, {\\left(r - r_{m}\\right)}^{\\frac{12}{13}} r^{15} + 9 \\, {\\left(r - r_{m}\\right)}^{\\frac{3}{13}} r^{\\frac{204}{13}} - 18 \\, {\\left(r - r_{m}\\right)}^{\\frac{1}{13}} r^{\\frac{206}{13}}\\right)} r_{m}^{7} - 36 \\, {\\left({\\left(r - r_{m}\\right)}^{\\frac{12}{13}} r^{15} + {\\left(r - r_{m}\\right)}^{\\frac{3}{13}} r^{\\frac{204}{13}} - 2 \\, {\\left(r - r_{m}\\right)}^{\\frac{1}{13}} r^{\\frac{206}{13}} + {\\left({\\left(r - r_{m}\\right)}^{\\frac{12}{13}} r^{7} - 2 \\, {\\left(r - r_{m}\\right)}^{\\frac{1}{13}} r^{\\frac{102}{13}}\\right)} r_{m}^{8} - {\\left(8 \\, {\\left(r - r_{m}\\right)}^{\\frac{12}{13}} r^{8} + {\\left(r - r_{m}\\right)}^{\\frac{3}{13}} r^{\\frac{113}{13}} - 16 \\, {\\left(r - r_{m}\\right)}^{\\frac{1}{13}} r^{\\frac{115}{13}}\\right)} r_{m}^{7} + 7 \\, {\\left(4 \\, {\\left(r - r_{m}\\right)}^{\\frac{12}{13}} r^{9} + {\\left(r - r_{m}\\right)}^{\\frac{3}{13}} r^{\\frac{126}{13}} - 8 \\, {\\left(r - r_{m}\\right)}^{\\frac{1}{13}} r^{\\frac{128}{13}}\\right)} r_{m}^{6} - 7 \\, {\\left(8 \\, {\\left(r - r_{m}\\right)}^{\\frac{12}{13}} r^{10} + 3 \\, {\\left(r - r_{m}\\right)}^{\\frac{3}{13}} r^{\\frac{139}{13}} - 16 \\, {\\left(r - r_{m}\\right)}^{\\frac{1}{13}} r^{\\frac{141}{13}}\\right)} r_{m}^{5} + 35 \\, {\\left(2 \\, {\\left(r - r_{m}\\right)}^{\\frac{12}{13}} r^{11} + {\\left(r - r_{m}\\right)}^{\\frac{3}{13}} r^{\\frac{152}{13}} - 4 \\, {\\left(r - r_{m}\\right)}^{\\frac{1}{13}} r^{\\frac{154}{13}}\\right)} r_{m}^{4} - 7 \\, {\\left(8 \\, {\\left(r - r_{m}\\right)}^{\\frac{12}{13}} r^{12} + 5 \\, {\\left(r - r_{m}\\right)}^{\\frac{3}{13}} r^{\\frac{165}{13}} - 16 \\, {\\left(r - r_{m}\\right)}^{\\frac{1}{13}} r^{\\frac{167}{13}}\\right)} r_{m}^{3} + 7 \\, {\\left(4 \\, {\\left(r - r_{m}\\right)}^{\\frac{12}{13}} r^{13} + 3 \\, {\\left(r - r_{m}\\right)}^{\\frac{3}{13}} r^{\\frac{178}{13}} - 8 \\, {\\left(r - r_{m}\\right)}^{\\frac{1}{13}} r^{\\frac{180}{13}}\\right)} r_{m}^{2} - {\\left(8 \\, {\\left(r - r_{m}\\right)}^{\\frac{12}{13}} r^{14} + 7 \\, {\\left(r - r_{m}\\right)}^{\\frac{3}{13}} r^{\\frac{191}{13}} - 16 \\, {\\left(r - r_{m}\\right)}^{\\frac{1}{13}} r^{\\frac{193}{13}}\\right)} r_{m}\\right)} r_{p}^{7} + 28 \\, {\\left({\\left(r - r_{m}\\right)}^{\\frac{12}{13}} r^{16} - 3 \\, {\\left(r - r_{m}\\right)}^{\\frac{5}{13}} r^{\\frac{215}{13}} + 9 \\, {\\left(r - r_{m}\\right)}^{\\frac{3}{13}} r^{\\frac{217}{13}} - 9 \\, {\\left(r - r_{m}\\right)}^{\\frac{1}{13}} r^{\\frac{219}{13}}\\right)} r_{m}^{6} + 84 \\, {\\left({\\left(r - r_{m}\\right)}^{\\frac{12}{13}} r^{16} - {\\left(r - r_{m}\\right)}^{\\frac{5}{13}} r^{\\frac{215}{13}} + 3 \\, {\\left(r - r_{m}\\right)}^{\\frac{3}{13}} r^{\\frac{217}{13}} - 3 \\, {\\left(r - r_{m}\\right)}^{\\frac{1}{13}} r^{\\frac{219}{13}} + {\\left({\\left(r - r_{m}\\right)}^{\\frac{12}{13}} r^{8} - 3 \\, {\\left(r - r_{m}\\right)}^{\\frac{1}{13}} r^{\\frac{115}{13}}\\right)} r_{m}^{8} - {\\left(8 \\, {\\left(r - r_{m}\\right)}^{\\frac{12}{13}} r^{9} + 3 \\, {\\left(r - r_{m}\\right)}^{\\frac{3}{13}} r^{\\frac{126}{13}} - 24 \\, {\\left(r - r_{m}\\right)}^{\\frac{1}{13}} r^{\\frac{128}{13}}\\right)} r_{m}^{7} + {\\left(28 \\, {\\left(r - r_{m}\\right)}^{\\frac{12}{13}} r^{10} - {\\left(r - r_{m}\\right)}^{\\frac{5}{13}} r^{\\frac{137}{13}} + 21 \\, {\\left(r - r_{m}\\right)}^{\\frac{3}{13}} r^{\\frac{139}{13}} - 84 \\, {\\left(r - r_{m}\\right)}^{\\frac{1}{13}} r^{\\frac{141}{13}}\\right)} r_{m}^{6} - {\\left(56 \\, {\\left(r - r_{m}\\right)}^{\\frac{12}{13}} r^{11} - 6 \\, {\\left(r - r_{m}\\right)}^{\\frac{5}{13}} r^{\\frac{150}{13}} + 63 \\, {\\left(r - r_{m}\\right)}^{\\frac{3}{13}} r^{\\frac{152}{13}} - 168 \\, {\\left(r - r_{m}\\right)}^{\\frac{1}{13}} r^{\\frac{154}{13}}\\right)} r_{m}^{5} + 5 \\, {\\left(14 \\, {\\left(r - r_{m}\\right)}^{\\frac{12}{13}} r^{12} - 3 \\, {\\left(r - r_{m}\\right)}^{\\frac{5}{13}} r^{\\frac{163}{13}} + 21 \\, {\\left(r - r_{m}\\right)}^{\\frac{3}{13}} r^{\\frac{165}{13}} - 42 \\, {\\left(r - r_{m}\\right)}^{\\frac{1}{13}} r^{\\frac{167}{13}}\\right)} r_{m}^{4} - {\\left(56 \\, {\\left(r - r_{m}\\right)}^{\\frac{12}{13}} r^{13} - 20 \\, {\\left(r - r_{m}\\right)}^{\\frac{5}{13}} r^{\\frac{176}{13}} + 105 \\, {\\left(r - r_{m}\\right)}^{\\frac{3}{13}} r^{\\frac{178}{13}} - 168 \\, {\\left(r - r_{m}\\right)}^{\\frac{1}{13}} r^{\\frac{180}{13}}\\right)} r_{m}^{3} + {\\left(28 \\, {\\left(r - r_{m}\\right)}^{\\frac{12}{13}} r^{14} - 15 \\, {\\left(r - r_{m}\\right)}^{\\frac{5}{13}} r^{\\frac{189}{13}} + 63 \\, {\\left(r - r_{m}\\right)}^{\\frac{3}{13}} r^{\\frac{191}{13}} - 84 \\, {\\left(r - r_{m}\\right)}^{\\frac{1}{13}} r^{\\frac{193}{13}}\\right)} r_{m}^{2} - {\\left(8 \\, {\\left(r - r_{m}\\right)}^{\\frac{12}{13}} r^{15} - 6 \\, {\\left(r - r_{m}\\right)}^{\\frac{5}{13}} r^{\\frac{202}{13}} + 21 \\, {\\left(r - r_{m}\\right)}^{\\frac{3}{13}} r^{\\frac{204}{13}} - 24 \\, {\\left(r - r_{m}\\right)}^{\\frac{1}{13}} r^{\\frac{206}{13}}\\right)} r_{m}\\right)} r_{p}^{6} - 14 \\, {\\left(4 \\, {\\left(r - r_{m}\\right)}^{\\frac{12}{13}} r^{17} + 9 \\, {\\left(r - r_{m}\\right)}^{\\frac{7}{13}} r^{\\frac{226}{13}} - 36 \\, {\\left(r - r_{m}\\right)}^{\\frac{5}{13}} r^{\\frac{228}{13}} + 54 \\, {\\left(r - r_{m}\\right)}^{\\frac{3}{13}} r^{\\frac{230}{13}} - 36 \\, {\\left(r - r_{m}\\right)}^{\\frac{1}{13}} r^{\\frac{232}{13}}\\right)} r_{m}^{5} - 126 \\, {\\left({\\left(r - r_{m}\\right)}^{\\frac{12}{13}} r^{17} + {\\left(r - r_{m}\\right)}^{\\frac{7}{13}} r^{\\frac{226}{13}} - 4 \\, {\\left(r - r_{m}\\right)}^{\\frac{5}{13}} r^{\\frac{228}{13}} + 6 \\, {\\left(r - r_{m}\\right)}^{\\frac{3}{13}} r^{\\frac{230}{13}} - 4 \\, {\\left(r - r_{m}\\right)}^{\\frac{1}{13}} r^{\\frac{232}{13}} + {\\left({\\left(r - r_{m}\\right)}^{\\frac{12}{13}} r^{9} - 4 \\, {\\left(r - r_{m}\\right)}^{\\frac{1}{13}} r^{\\frac{128}{13}}\\right)} r_{m}^{8} - 2 \\, {\\left(4 \\, {\\left(r - r_{m}\\right)}^{\\frac{12}{13}} r^{10} + 3 \\, {\\left(r - r_{m}\\right)}^{\\frac{3}{13}} r^{\\frac{139}{13}} - 16 \\, {\\left(r - r_{m}\\right)}^{\\frac{1}{13}} r^{\\frac{141}{13}}\\right)} r_{m}^{7} + 2 \\, {\\left(14 \\, {\\left(r - r_{m}\\right)}^{\\frac{12}{13}} r^{11} - 2 \\, {\\left(r - r_{m}\\right)}^{\\frac{5}{13}} r^{\\frac{150}{13}} + 21 \\, {\\left(r - r_{m}\\right)}^{\\frac{3}{13}} r^{\\frac{152}{13}} - 56 \\, {\\left(r - r_{m}\\right)}^{\\frac{1}{13}} r^{\\frac{154}{13}}\\right)} r_{m}^{6} - {\\left(56 \\, {\\left(r - r_{m}\\right)}^{\\frac{12}{13}} r^{12} + {\\left(r - r_{m}\\right)}^{\\frac{7}{13}} r^{\\frac{161}{13}} - 24 \\, {\\left(r - r_{m}\\right)}^{\\frac{5}{13}} r^{\\frac{163}{13}} + 126 \\, {\\left(r - r_{m}\\right)}^{\\frac{3}{13}} r^{\\frac{165}{13}} - 224 \\, {\\left(r - r_{m}\\right)}^{\\frac{1}{13}} r^{\\frac{167}{13}}\\right)} r_{m}^{5} + 5 \\, {\\left(14 \\, {\\left(r - r_{m}\\right)}^{\\frac{12}{13}} r^{13} + {\\left(r - r_{m}\\right)}^{\\frac{7}{13}} r^{\\frac{174}{13}} - 12 \\, {\\left(r - r_{m}\\right)}^{\\frac{5}{13}} r^{\\frac{176}{13}} + 42 \\, {\\left(r - r_{m}\\right)}^{\\frac{3}{13}} r^{\\frac{178}{13}} - 56 \\, {\\left(r - r_{m}\\right)}^{\\frac{1}{13}} r^{\\frac{180}{13}}\\right)} r_{m}^{4} - 2 \\, {\\left(28 \\, {\\left(r - r_{m}\\right)}^{\\frac{12}{13}} r^{14} + 5 \\, {\\left(r - r_{m}\\right)}^{\\frac{7}{13}} r^{\\frac{187}{13}} - 40 \\, {\\left(r - r_{m}\\right)}^{\\frac{5}{13}} r^{\\frac{189}{13}} + 105 \\, {\\left(r - r_{m}\\right)}^{\\frac{3}{13}} r^{\\frac{191}{13}} - 112 \\, {\\left(r - r_{m}\\right)}^{\\frac{1}{13}} r^{\\frac{193}{13}}\\right)} r_{m}^{3} + 2 \\, {\\left(14 \\, {\\left(r - r_{m}\\right)}^{\\frac{12}{13}} r^{15} + 5 \\, {\\left(r - r_{m}\\right)}^{\\frac{7}{13}} r^{\\frac{200}{13}} - 30 \\, {\\left(r - r_{m}\\right)}^{\\frac{5}{13}} r^{\\frac{202}{13}} + 63 \\, {\\left(r - r_{m}\\right)}^{\\frac{3}{13}} r^{\\frac{204}{13}} - 56 \\, {\\left(r - r_{m}\\right)}^{\\frac{1}{13}} r^{\\frac{206}{13}}\\right)} r_{m}^{2} - {\\left(8 \\, {\\left(r - r_{m}\\right)}^{\\frac{12}{13}} r^{16} + 5 \\, {\\left(r - r_{m}\\right)}^{\\frac{7}{13}} r^{\\frac{213}{13}} - 24 \\, {\\left(r - r_{m}\\right)}^{\\frac{5}{13}} r^{\\frac{215}{13}} + 42 \\, {\\left(r - r_{m}\\right)}^{\\frac{3}{13}} r^{\\frac{217}{13}} - 32 \\, {\\left(r - r_{m}\\right)}^{\\frac{1}{13}} r^{\\frac{219}{13}}\\right)} r_{m}\\right)} r_{p}^{5} + 14 \\, {\\left(5 \\, {\\left(r - r_{m}\\right)}^{\\frac{12}{13}} r^{18} - 9 \\, {\\left(r - r_{m}\\right)}^{\\frac{9}{13}} r^{\\frac{237}{13}} + 45 \\, {\\left(r - r_{m}\\right)}^{\\frac{7}{13}} r^{\\frac{239}{13}} - 90 \\, {\\left(r - r_{m}\\right)}^{\\frac{5}{13}} r^{\\frac{241}{13}} + 90 \\, {\\left(r - r_{m}\\right)}^{\\frac{3}{13}} r^{\\frac{243}{13}} - 45 \\, {\\left(r - r_{m}\\right)}^{\\frac{1}{13}} r^{\\frac{245}{13}}\\right)} r_{m}^{4} + 126 \\, {\\left({\\left(r - r_{m}\\right)}^{\\frac{12}{13}} r^{18} - {\\left(r - r_{m}\\right)}^{\\frac{9}{13}} r^{\\frac{237}{13}} + 5 \\, {\\left(r - r_{m}\\right)}^{\\frac{7}{13}} r^{\\frac{239}{13}} - 10 \\, {\\left(r - r_{m}\\right)}^{\\frac{5}{13}} r^{\\frac{241}{13}} + 10 \\, {\\left(r - r_{m}\\right)}^{\\frac{3}{13}} r^{\\frac{243}{13}} - 5 \\, {\\left(r - r_{m}\\right)}^{\\frac{1}{13}} r^{\\frac{245}{13}} + {\\left({\\left(r - r_{m}\\right)}^{\\frac{12}{13}} r^{10} - 5 \\, {\\left(r - r_{m}\\right)}^{\\frac{1}{13}} r^{\\frac{141}{13}}\\right)} r_{m}^{8} - 2 \\, {\\left(4 \\, {\\left(r - r_{m}\\right)}^{\\frac{12}{13}} r^{11} + 5 \\, {\\left(r - r_{m}\\right)}^{\\frac{3}{13}} r^{\\frac{152}{13}} - 20 \\, {\\left(r - r_{m}\\right)}^{\\frac{1}{13}} r^{\\frac{154}{13}}\\right)} r_{m}^{7} + 2 \\, {\\left(14 \\, {\\left(r - r_{m}\\right)}^{\\frac{12}{13}} r^{12} - 5 \\, {\\left(r - r_{m}\\right)}^{\\frac{5}{13}} r^{\\frac{163}{13}} + 35 \\, {\\left(r - r_{m}\\right)}^{\\frac{3}{13}} r^{\\frac{165}{13}} - 70 \\, {\\left(r - r_{m}\\right)}^{\\frac{1}{13}} r^{\\frac{167}{13}}\\right)} r_{m}^{6} - {\\left(56 \\, {\\left(r - r_{m}\\right)}^{\\frac{12}{13}} r^{13} + 5 \\, {\\left(r - r_{m}\\right)}^{\\frac{7}{13}} r^{\\frac{174}{13}} - 60 \\, {\\left(r - r_{m}\\right)}^{\\frac{5}{13}} r^{\\frac{176}{13}} + 210 \\, {\\left(r - r_{m}\\right)}^{\\frac{3}{13}} r^{\\frac{178}{13}} - 280 \\, {\\left(r - r_{m}\\right)}^{\\frac{1}{13}} r^{\\frac{180}{13}}\\right)} r_{m}^{5} + {\\left(70 \\, {\\left(r - r_{m}\\right)}^{\\frac{12}{13}} r^{14} - {\\left(r - r_{m}\\right)}^{\\frac{9}{13}} r^{\\frac{185}{13}} + 25 \\, {\\left(r - r_{m}\\right)}^{\\frac{7}{13}} r^{\\frac{187}{13}} - 150 \\, {\\left(r - r_{m}\\right)}^{\\frac{5}{13}} r^{\\frac{189}{13}} + 350 \\, {\\left(r - r_{m}\\right)}^{\\frac{3}{13}} r^{\\frac{191}{13}} - 350 \\, {\\left(r - r_{m}\\right)}^{\\frac{1}{13}} r^{\\frac{193}{13}}\\right)} r_{m}^{4} - 2 \\, {\\left(28 \\, {\\left(r - r_{m}\\right)}^{\\frac{12}{13}} r^{15} - 2 \\, {\\left(r - r_{m}\\right)}^{\\frac{9}{13}} r^{\\frac{198}{13}} + 25 \\, {\\left(r - r_{m}\\right)}^{\\frac{7}{13}} r^{\\frac{200}{13}} - 100 \\, {\\left(r - r_{m}\\right)}^{\\frac{5}{13}} r^{\\frac{202}{13}} + 175 \\, {\\left(r - r_{m}\\right)}^{\\frac{3}{13}} r^{\\frac{204}{13}} - 140 \\, {\\left(r - r_{m}\\right)}^{\\frac{1}{13}} r^{\\frac{206}{13}}\\right)} r_{m}^{3} + 2 \\, {\\left(14 \\, {\\left(r - r_{m}\\right)}^{\\frac{12}{13}} r^{16} - 3 \\, {\\left(r - r_{m}\\right)}^{\\frac{9}{13}} r^{\\frac{211}{13}} + 25 \\, {\\left(r - r_{m}\\right)}^{\\frac{7}{13}} r^{\\frac{213}{13}} - 75 \\, {\\left(r - r_{m}\\right)}^{\\frac{5}{13}} r^{\\frac{215}{13}} + 105 \\, {\\left(r - r_{m}\\right)}^{\\frac{3}{13}} r^{\\frac{217}{13}} - 70 \\, {\\left(r - r_{m}\\right)}^{\\frac{1}{13}} r^{\\frac{219}{13}}\\right)} r_{m}^{2} - {\\left(8 \\, {\\left(r - r_{m}\\right)}^{\\frac{12}{13}} r^{17} - 4 \\, {\\left(r - r_{m}\\right)}^{\\frac{9}{13}} r^{\\frac{224}{13}} + 25 \\, {\\left(r - r_{m}\\right)}^{\\frac{7}{13}} r^{\\frac{226}{13}} - 60 \\, {\\left(r - r_{m}\\right)}^{\\frac{5}{13}} r^{\\frac{228}{13}} + 70 \\, {\\left(r - r_{m}\\right)}^{\\frac{3}{13}} r^{\\frac{230}{13}} - 40 \\, {\\left(r - r_{m}\\right)}^{\\frac{1}{13}} r^{\\frac{232}{13}}\\right)} r_{m}\\right)} r_{p}^{4} - 4 \\, {\\left(14 \\, {\\left(r - r_{m}\\right)}^{\\frac{12}{13}} r^{19} + 21 \\, {\\left(r - r_{m}\\right)}^{\\frac{11}{13}} r^{\\frac{248}{13}} - 126 \\, {\\left(r - r_{m}\\right)}^{\\frac{9}{13}} r^{\\frac{250}{13}} + 315 \\, {\\left(r - r_{m}\\right)}^{\\frac{7}{13}} r^{\\frac{252}{13}} - 420 \\, {\\left(r - r_{m}\\right)}^{\\frac{5}{13}} r^{\\frac{254}{13}} + 315 \\, {\\left(r - r_{m}\\right)}^{\\frac{3}{13}} r^{\\frac{256}{13}} - 126 \\, {\\left(r - r_{m}\\right)}^{\\frac{1}{13}} r^{\\frac{258}{13}} - 9 \\, r^{\\frac{259}{13}}\\right)} r_{m}^{3} - 84 \\, {\\left({\\left(r - r_{m}\\right)}^{\\frac{12}{13}} r^{19} + {\\left(r - r_{m}\\right)}^{\\frac{11}{13}} r^{\\frac{248}{13}} - 6 \\, {\\left(r - r_{m}\\right)}^{\\frac{9}{13}} r^{\\frac{250}{13}} + 15 \\, {\\left(r - r_{m}\\right)}^{\\frac{7}{13}} r^{\\frac{252}{13}} - 20 \\, {\\left(r - r_{m}\\right)}^{\\frac{5}{13}} r^{\\frac{254}{13}} + 15 \\, {\\left(r - r_{m}\\right)}^{\\frac{3}{13}} r^{\\frac{256}{13}} - 6 \\, {\\left(r - r_{m}\\right)}^{\\frac{1}{13}} r^{\\frac{258}{13}} + {\\left({\\left(r - r_{m}\\right)}^{\\frac{12}{13}} r^{11} - 6 \\, {\\left(r - r_{m}\\right)}^{\\frac{1}{13}} r^{\\frac{154}{13}}\\right)} r_{m}^{8} - {\\left(8 \\, {\\left(r - r_{m}\\right)}^{\\frac{12}{13}} r^{12} + 15 \\, {\\left(r - r_{m}\\right)}^{\\frac{3}{13}} r^{\\frac{165}{13}} - 48 \\, {\\left(r - r_{m}\\right)}^{\\frac{1}{13}} r^{\\frac{167}{13}}\\right)} r_{m}^{7} + {\\left(28 \\, {\\left(r - r_{m}\\right)}^{\\frac{12}{13}} r^{13} - 20 \\, {\\left(r - r_{m}\\right)}^{\\frac{5}{13}} r^{\\frac{176}{13}} + 105 \\, {\\left(r - r_{m}\\right)}^{\\frac{3}{13}} r^{\\frac{178}{13}} - 168 \\, {\\left(r - r_{m}\\right)}^{\\frac{1}{13}} r^{\\frac{180}{13}}\\right)} r_{m}^{6} - {\\left(56 \\, {\\left(r - r_{m}\\right)}^{\\frac{12}{13}} r^{14} + 15 \\, {\\left(r - r_{m}\\right)}^{\\frac{7}{13}} r^{\\frac{187}{13}} - 120 \\, {\\left(r - r_{m}\\right)}^{\\frac{5}{13}} r^{\\frac{189}{13}} + 315 \\, {\\left(r - r_{m}\\right)}^{\\frac{3}{13}} r^{\\frac{191}{13}} - 336 \\, {\\left(r - r_{m}\\right)}^{\\frac{1}{13}} r^{\\frac{193}{13}}\\right)} r_{m}^{5} + {\\left(70 \\, {\\left(r - r_{m}\\right)}^{\\frac{12}{13}} r^{15} - 6 \\, {\\left(r - r_{m}\\right)}^{\\frac{9}{13}} r^{\\frac{198}{13}} + 75 \\, {\\left(r - r_{m}\\right)}^{\\frac{7}{13}} r^{\\frac{200}{13}} - 300 \\, {\\left(r - r_{m}\\right)}^{\\frac{5}{13}} r^{\\frac{202}{13}} + 525 \\, {\\left(r - r_{m}\\right)}^{\\frac{3}{13}} r^{\\frac{204}{13}} - 420 \\, {\\left(r - r_{m}\\right)}^{\\frac{1}{13}} r^{\\frac{206}{13}}\\right)} r_{m}^{4} - {\\left(56 \\, {\\left(r - r_{m}\\right)}^{\\frac{12}{13}} r^{16} + {\\left(r - r_{m}\\right)}^{\\frac{11}{13}} r^{\\frac{209}{13}} - 24 \\, {\\left(r - r_{m}\\right)}^{\\frac{9}{13}} r^{\\frac{211}{13}} + 150 \\, {\\left(r - r_{m}\\right)}^{\\frac{7}{13}} r^{\\frac{213}{13}} - 400 \\, {\\left(r - r_{m}\\right)}^{\\frac{5}{13}} r^{\\frac{215}{13}} + 525 \\, {\\left(r - r_{m}\\right)}^{\\frac{3}{13}} r^{\\frac{217}{13}} - 336 \\, {\\left(r - r_{m}\\right)}^{\\frac{1}{13}} r^{\\frac{219}{13}}\\right)} r_{m}^{3} + {\\left(28 \\, {\\left(r - r_{m}\\right)}^{\\frac{12}{13}} r^{17} + 3 \\, {\\left(r - r_{m}\\right)}^{\\frac{11}{13}} r^{\\frac{222}{13}} - 36 \\, {\\left(r - r_{m}\\right)}^{\\frac{9}{13}} r^{\\frac{224}{13}} + 150 \\, {\\left(r - r_{m}\\right)}^{\\frac{7}{13}} r^{\\frac{226}{13}} - 300 \\, {\\left(r - r_{m}\\right)}^{\\frac{5}{13}} r^{\\frac{228}{13}} + 315 \\, {\\left(r - r_{m}\\right)}^{\\frac{3}{13}} r^{\\frac{230}{13}} - 168 \\, {\\left(r - r_{m}\\right)}^{\\frac{1}{13}} r^{\\frac{232}{13}}\\right)} r_{m}^{2} - {\\left(8 \\, {\\left(r - r_{m}\\right)}^{\\frac{12}{13}} r^{18} + 3 \\, {\\left(r - r_{m}\\right)}^{\\frac{11}{13}} r^{\\frac{235}{13}} - 24 \\, {\\left(r - r_{m}\\right)}^{\\frac{9}{13}} r^{\\frac{237}{13}} + 75 \\, {\\left(r - r_{m}\\right)}^{\\frac{7}{13}} r^{\\frac{239}{13}} - 120 \\, {\\left(r - r_{m}\\right)}^{\\frac{5}{13}} r^{\\frac{241}{13}} + 105 \\, {\\left(r - r_{m}\\right)}^{\\frac{3}{13}} r^{\\frac{243}{13}} - 48 \\, {\\left(r - r_{m}\\right)}^{\\frac{1}{13}} r^{\\frac{245}{13}}\\right)} r_{m}\\right)} r_{p}^{3} + {\\left(28 \\, {\\left(r - r_{m}\\right)}^{\\frac{12}{13}} r^{20} + 252 \\, {\\left(r - r_{m}\\right)}^{\\frac{11}{13}} r^{\\frac{261}{13}} - 756 \\, {\\left(r - r_{m}\\right)}^{\\frac{9}{13}} r^{\\frac{263}{13}} + 1260 \\, {\\left(r - r_{m}\\right)}^{\\frac{7}{13}} r^{\\frac{265}{13}} - 1260 \\, {\\left(r - r_{m}\\right)}^{\\frac{5}{13}} r^{\\frac{267}{13}} + 756 \\, {\\left(r - r_{m}\\right)}^{\\frac{3}{13}} r^{\\frac{269}{13}} + 9 \\, {\\left(r - r_{m}\\right)}^{\\frac{2}{13}} r^{\\frac{270}{13}} - 252 \\, {\\left(r - r_{m}\\right)}^{\\frac{1}{13}} r^{\\frac{271}{13}} - 108 \\, r^{\\frac{272}{13}}\\right)} r_{m}^{2} + 36 \\, {\\left({\\left(r - r_{m}\\right)}^{\\frac{12}{13}} r^{20} + 7 \\, {\\left(r - r_{m}\\right)}^{\\frac{11}{13}} r^{\\frac{261}{13}} - 21 \\, {\\left(r - r_{m}\\right)}^{\\frac{9}{13}} r^{\\frac{263}{13}} + 35 \\, {\\left(r - r_{m}\\right)}^{\\frac{7}{13}} r^{\\frac{265}{13}} - 35 \\, {\\left(r - r_{m}\\right)}^{\\frac{5}{13}} r^{\\frac{267}{13}} + 21 \\, {\\left(r - r_{m}\\right)}^{\\frac{3}{13}} r^{\\frac{269}{13}} - 7 \\, {\\left(r - r_{m}\\right)}^{\\frac{1}{13}} r^{\\frac{271}{13}} - r^{\\frac{272}{13}} + {\\left({\\left(r - r_{m}\\right)}^{\\frac{12}{13}} r^{12} - 7 \\, {\\left(r - r_{m}\\right)}^{\\frac{1}{13}} r^{\\frac{167}{13}}\\right)} r_{m}^{8} - {\\left(8 \\, {\\left(r - r_{m}\\right)}^{\\frac{12}{13}} r^{13} + 21 \\, {\\left(r - r_{m}\\right)}^{\\frac{3}{13}} r^{\\frac{178}{13}} - 56 \\, {\\left(r - r_{m}\\right)}^{\\frac{1}{13}} r^{\\frac{180}{13}}\\right)} r_{m}^{7} + 7 \\, {\\left(4 \\, {\\left(r - r_{m}\\right)}^{\\frac{12}{13}} r^{14} - 5 \\, {\\left(r - r_{m}\\right)}^{\\frac{5}{13}} r^{\\frac{189}{13}} + 21 \\, {\\left(r - r_{m}\\right)}^{\\frac{3}{13}} r^{\\frac{191}{13}} - 28 \\, {\\left(r - r_{m}\\right)}^{\\frac{1}{13}} r^{\\frac{193}{13}}\\right)} r_{m}^{6} - 7 \\, {\\left(8 \\, {\\left(r - r_{m}\\right)}^{\\frac{12}{13}} r^{15} + 5 \\, {\\left(r - r_{m}\\right)}^{\\frac{7}{13}} r^{\\frac{200}{13}} - 30 \\, {\\left(r - r_{m}\\right)}^{\\frac{5}{13}} r^{\\frac{202}{13}} + 63 \\, {\\left(r - r_{m}\\right)}^{\\frac{3}{13}} r^{\\frac{204}{13}} - 56 \\, {\\left(r - r_{m}\\right)}^{\\frac{1}{13}} r^{\\frac{206}{13}}\\right)} r_{m}^{5} + 7 \\, {\\left(10 \\, {\\left(r - r_{m}\\right)}^{\\frac{12}{13}} r^{16} - 3 \\, {\\left(r - r_{m}\\right)}^{\\frac{9}{13}} r^{\\frac{211}{13}} + 25 \\, {\\left(r - r_{m}\\right)}^{\\frac{7}{13}} r^{\\frac{213}{13}} - 75 \\, {\\left(r - r_{m}\\right)}^{\\frac{5}{13}} r^{\\frac{215}{13}} + 105 \\, {\\left(r - r_{m}\\right)}^{\\frac{3}{13}} r^{\\frac{217}{13}} - 70 \\, {\\left(r - r_{m}\\right)}^{\\frac{1}{13}} r^{\\frac{219}{13}}\\right)} r_{m}^{4} - {\\left(56 \\, {\\left(r - r_{m}\\right)}^{\\frac{12}{13}} r^{17} + 7 \\, {\\left(r - r_{m}\\right)}^{\\frac{11}{13}} r^{\\frac{222}{13}} - 84 \\, {\\left(r - r_{m}\\right)}^{\\frac{9}{13}} r^{\\frac{224}{13}} + 350 \\, {\\left(r - r_{m}\\right)}^{\\frac{7}{13}} r^{\\frac{226}{13}} - 700 \\, {\\left(r - r_{m}\\right)}^{\\frac{5}{13}} r^{\\frac{228}{13}} + 735 \\, {\\left(r - r_{m}\\right)}^{\\frac{3}{13}} r^{\\frac{230}{13}} - 392 \\, {\\left(r - r_{m}\\right)}^{\\frac{1}{13}} r^{\\frac{232}{13}} - r^{\\frac{233}{13}}\\right)} r_{m}^{3} + {\\left(28 \\, {\\left(r - r_{m}\\right)}^{\\frac{12}{13}} r^{18} + 21 \\, {\\left(r - r_{m}\\right)}^{\\frac{11}{13}} r^{\\frac{235}{13}} - 126 \\, {\\left(r - r_{m}\\right)}^{\\frac{9}{13}} r^{\\frac{237}{13}} + 350 \\, {\\left(r - r_{m}\\right)}^{\\frac{7}{13}} r^{\\frac{239}{13}} - 525 \\, {\\left(r - r_{m}\\right)}^{\\frac{5}{13}} r^{\\frac{241}{13}} + 441 \\, {\\left(r - r_{m}\\right)}^{\\frac{3}{13}} r^{\\frac{243}{13}} - 196 \\, {\\left(r - r_{m}\\right)}^{\\frac{1}{13}} r^{\\frac{245}{13}} - 3 \\, r^{\\frac{246}{13}}\\right)} r_{m}^{2} - {\\left(8 \\, {\\left(r - r_{m}\\right)}^{\\frac{12}{13}} r^{19} + 21 \\, {\\left(r - r_{m}\\right)}^{\\frac{11}{13}} r^{\\frac{248}{13}} - 84 \\, {\\left(r - r_{m}\\right)}^{\\frac{9}{13}} r^{\\frac{250}{13}} + 175 \\, {\\left(r - r_{m}\\right)}^{\\frac{7}{13}} r^{\\frac{252}{13}} - 210 \\, {\\left(r - r_{m}\\right)}^{\\frac{5}{13}} r^{\\frac{254}{13}} + 147 \\, {\\left(r - r_{m}\\right)}^{\\frac{3}{13}} r^{\\frac{256}{13}} - 56 \\, {\\left(r - r_{m}\\right)}^{\\frac{1}{13}} r^{\\frac{258}{13}} - 3 \\, r^{\\frac{259}{13}}\\right)} r_{m}\\right)} r_{p}^{2} - {\\left(8 \\, {\\left(r - r_{m}\\right)}^{\\frac{12}{13}} r^{21} + 252 \\, {\\left(r - r_{m}\\right)}^{\\frac{11}{13}} r^{\\frac{274}{13}} - 504 \\, {\\left(r - r_{m}\\right)}^{\\frac{9}{13}} r^{\\frac{276}{13}} + 630 \\, {\\left(r - r_{m}\\right)}^{\\frac{7}{13}} r^{\\frac{278}{13}} - 504 \\, {\\left(r - r_{m}\\right)}^{\\frac{5}{13}} r^{\\frac{280}{13}} - {\\left(r - r_{m}\\right)}^{\\frac{4}{13}} r^{\\frac{281}{13}} + 252 \\, {\\left(r - r_{m}\\right)}^{\\frac{3}{13}} r^{\\frac{282}{13}} + 18 \\, {\\left(r - r_{m}\\right)}^{\\frac{2}{13}} r^{\\frac{283}{13}} - 72 \\, {\\left(r - r_{m}\\right)}^{\\frac{1}{13}} r^{\\frac{284}{13}} - 108 \\, r^{\\frac{285}{13}}\\right)} r_{m} - 9 \\, {\\left({\\left(r - r_{m}\\right)}^{\\frac{12}{13}} r^{21} + 28 \\, {\\left(r - r_{m}\\right)}^{\\frac{11}{13}} r^{\\frac{274}{13}} - 56 \\, {\\left(r - r_{m}\\right)}^{\\frac{9}{13}} r^{\\frac{276}{13}} + 70 \\, {\\left(r - r_{m}\\right)}^{\\frac{7}{13}} r^{\\frac{278}{13}} - 56 \\, {\\left(r - r_{m}\\right)}^{\\frac{5}{13}} r^{\\frac{280}{13}} + 28 \\, {\\left(r - r_{m}\\right)}^{\\frac{3}{13}} r^{\\frac{282}{13}} + {\\left(r - r_{m}\\right)}^{\\frac{2}{13}} r^{\\frac{283}{13}} - 8 \\, {\\left(r - r_{m}\\right)}^{\\frac{1}{13}} r^{\\frac{284}{13}} - 8 \\, r^{\\frac{285}{13}} + {\\left({\\left(r - r_{m}\\right)}^{\\frac{12}{13}} r^{13} - 8 \\, {\\left(r - r_{m}\\right)}^{\\frac{1}{13}} r^{\\frac{180}{13}}\\right)} r_{m}^{8} - 4 \\, {\\left(2 \\, {\\left(r - r_{m}\\right)}^{\\frac{12}{13}} r^{14} + 7 \\, {\\left(r - r_{m}\\right)}^{\\frac{3}{13}} r^{\\frac{191}{13}} - 16 \\, {\\left(r - r_{m}\\right)}^{\\frac{1}{13}} r^{\\frac{193}{13}}\\right)} r_{m}^{7} + 28 \\, {\\left({\\left(r - r_{m}\\right)}^{\\frac{12}{13}} r^{15} - 2 \\, {\\left(r - r_{m}\\right)}^{\\frac{5}{13}} r^{\\frac{202}{13}} + 7 \\, {\\left(r - r_{m}\\right)}^{\\frac{3}{13}} r^{\\frac{204}{13}} - 8 \\, {\\left(r - r_{m}\\right)}^{\\frac{1}{13}} r^{\\frac{206}{13}}\\right)} r_{m}^{6} - 14 \\, {\\left(4 \\, {\\left(r - r_{m}\\right)}^{\\frac{12}{13}} r^{16} + 5 \\, {\\left(r - r_{m}\\right)}^{\\frac{7}{13}} r^{\\frac{213}{13}} - 24 \\, {\\left(r - r_{m}\\right)}^{\\frac{5}{13}} r^{\\frac{215}{13}} + 42 \\, {\\left(r - r_{m}\\right)}^{\\frac{3}{13}} r^{\\frac{217}{13}} - 32 \\, {\\left(r - r_{m}\\right)}^{\\frac{1}{13}} r^{\\frac{219}{13}}\\right)} r_{m}^{5} + 14 \\, {\\left(5 \\, {\\left(r - r_{m}\\right)}^{\\frac{12}{13}} r^{17} - 4 \\, {\\left(r - r_{m}\\right)}^{\\frac{9}{13}} r^{\\frac{224}{13}} + 25 \\, {\\left(r - r_{m}\\right)}^{\\frac{7}{13}} r^{\\frac{226}{13}} - 60 \\, {\\left(r - r_{m}\\right)}^{\\frac{5}{13}} r^{\\frac{228}{13}} + 70 \\, {\\left(r - r_{m}\\right)}^{\\frac{3}{13}} r^{\\frac{230}{13}} - 40 \\, {\\left(r - r_{m}\\right)}^{\\frac{1}{13}} r^{\\frac{232}{13}}\\right)} r_{m}^{4} - 4 \\, {\\left(14 \\, {\\left(r - r_{m}\\right)}^{\\frac{12}{13}} r^{18} + 7 \\, {\\left(r - r_{m}\\right)}^{\\frac{11}{13}} r^{\\frac{235}{13}} - 56 \\, {\\left(r - r_{m}\\right)}^{\\frac{9}{13}} r^{\\frac{237}{13}} + 175 \\, {\\left(r - r_{m}\\right)}^{\\frac{7}{13}} r^{\\frac{239}{13}} - 280 \\, {\\left(r - r_{m}\\right)}^{\\frac{5}{13}} r^{\\frac{241}{13}} + 245 \\, {\\left(r - r_{m}\\right)}^{\\frac{3}{13}} r^{\\frac{243}{13}} - 112 \\, {\\left(r - r_{m}\\right)}^{\\frac{1}{13}} r^{\\frac{245}{13}} - 2 \\, r^{\\frac{246}{13}}\\right)} r_{m}^{3} + {\\left(28 \\, {\\left(r - r_{m}\\right)}^{\\frac{12}{13}} r^{19} + 84 \\, {\\left(r - r_{m}\\right)}^{\\frac{11}{13}} r^{\\frac{248}{13}} - 336 \\, {\\left(r - r_{m}\\right)}^{\\frac{9}{13}} r^{\\frac{250}{13}} + 700 \\, {\\left(r - r_{m}\\right)}^{\\frac{7}{13}} r^{\\frac{252}{13}} - 840 \\, {\\left(r - r_{m}\\right)}^{\\frac{5}{13}} r^{\\frac{254}{13}} + 588 \\, {\\left(r - r_{m}\\right)}^{\\frac{3}{13}} r^{\\frac{256}{13}} + {\\left(r - r_{m}\\right)}^{\\frac{2}{13}} r^{\\frac{257}{13}} - 224 \\, {\\left(r - r_{m}\\right)}^{\\frac{1}{13}} r^{\\frac{258}{13}} - 24 \\, r^{\\frac{259}{13}}\\right)} r_{m}^{2} - 2 \\, {\\left(4 \\, {\\left(r - r_{m}\\right)}^{\\frac{12}{13}} r^{20} + 42 \\, {\\left(r - r_{m}\\right)}^{\\frac{11}{13}} r^{\\frac{261}{13}} - 112 \\, {\\left(r - r_{m}\\right)}^{\\frac{9}{13}} r^{\\frac{263}{13}} + 175 \\, {\\left(r - r_{m}\\right)}^{\\frac{7}{13}} r^{\\frac{265}{13}} - 168 \\, {\\left(r - r_{m}\\right)}^{\\frac{5}{13}} r^{\\frac{267}{13}} + 98 \\, {\\left(r - r_{m}\\right)}^{\\frac{3}{13}} r^{\\frac{269}{13}} + {\\left(r - r_{m}\\right)}^{\\frac{2}{13}} r^{\\frac{270}{13}} - 32 \\, {\\left(r - r_{m}\\right)}^{\\frac{1}{13}} r^{\\frac{271}{13}} - 12 \\, r^{\\frac{272}{13}}\\right)} r_{m}\\right)} r_{p}\\right)}}$"
      ],
      "text/plain": [
       "\\lim_{a \\to 0}\\Psi_{2} =  1/338*(140*(r - r_m)^(1/13)*r^(141/13)*r_m^10 + (169*(r - r_m)^(1/13)*r^(141/13) - 1820*(r - r_m)^(1/13)*r^(128/13)*r_m + 8772*(r - r_m)^(1/13)*r^(115/13)*r_m^2 - 24936*(r - r_m)^(1/13)*r^(102/13)*r_m^3 + 46326*(r - r_m)^(1/13)*r^(89/13)*r_m^4 - 58800*(r - r_m)^(1/13)*r^(76/13)*r_m^5 + 51660*(r - r_m)^(1/13)*r^(63/13)*r_m^6 - 31032*(r - r_m)^(1/13)*r^(50/13)*r_m^7 + 12201*(r - r_m)^(1/13)*r^(37/13)*r_m^8 - 2836*(r - r_m)^(1/13)*r^(24/13)*r_m^9 + 296*(r - r_m)^(1/13)*r^(11/13)*r_m^10)*r_p^10 + 3*(420*(r - r_m)^(3/13)*r^(152/13) - 421*(r - r_m)^(1/13)*r^(154/13))*r_m^9 + (1521*(r - r_m)^(3/13)*r^(152/13) - 1521*(r - r_m)^(1/13)*r^(154/13) - 2804*(r - r_m)^(1/13)*r^(24/13)*r_m^10 - 3*(888*(r - r_m)^(3/13)*r^(35/13) - 8929*(r - r_m)^(1/13)*r^(37/13))*r_m^9 + 3*(7620*(r - r_m)^(3/13)*r^(48/13) - 38291*(r - r_m)^(1/13)*r^(50/13))*r_m^8 - 9*(9661*(r - r_m)^(3/13)*r^(61/13) - 32348*(r - r_m)^(1/13)*r^(63/13))*r_m^7 + 21*(9159*(r - r_m)^(3/13)*r^(74/13) - 22988*(r - r_m)^(1/13)*r^(76/13))*r_m^6 - 21*(12981*(r - r_m)^(3/13)*r^(87/13) - 26050*(r - r_m)^(1/13)*r^(89/13))*r_m^5 + 21*(12219*(r - r_m)^(3/13)*r^(100/13) - 20422*(r - r_m)^(1/13)*r^(102/13))*r_m^4 - 3*(53445*(r - r_m)^(3/13)*r^(113/13) - 76516*(r - r_m)^(1/13)*r^(115/13))*r_m^3 + 3*(21363*(r - r_m)^(3/13)*r^(126/13) - 26744*(r - r_m)^(1/13)*r^(128/13))*r_m^2 - 13*(1143*(r - r_m)^(3/13)*r^(139/13) - 1271*(r - r_m)^(1/13)*r^(141/13))*r_m)*r_p^9 + 3*(1680*(r - r_m)^(5/13)*r^(163/13) - 3369*(r - r_m)^(3/13)*r^(165/13) + 1688*(r - r_m)^(1/13)*r^(167/13))*r_m^8 + 9*(676*(r - r_m)^(5/13)*r^(163/13) - 1352*(r - r_m)^(3/13)*r^(165/13) + 676*(r - r_m)^(1/13)*r^(167/13) + 1324*(r - r_m)^(1/13)*r^(37/13)*r_m^10 + (2508*(r - r_m)^(3/13)*r^(48/13) - 12607*(r - r_m)^(1/13)*r^(50/13))*r_m^9 + (1184*(r - r_m)^(5/13)*r^(59/13) - 21443*(r - r_m)^(3/13)*r^(61/13) + 53868*(r - r_m)^(1/13)*r^(63/13))*r_m^8 - (8976*(r - r_m)^(5/13)*r^(72/13) - 81229*(r - r_m)^(3/13)*r^(74/13) + 135972*(r - r_m)^(1/13)*r^(76/13))*r_m^7 + (29668*(r - r_m)^(5/13)*r^(85/13) - 178871*(r - r_m)^(3/13)*r^(87/13) + 224448*(r - r_m)^(1/13)*r^(89/13))*r_m^6 - (55816*(r - r_m)^(5/13)*r^(98/13) - 252217*(r - r_m)^(3/13)*r^(100/13) + 253050*(r - r_m)^(1/13)*r^(102/13))*r_m^5 + (65340*(r - r_m)^(5/13)*r^(111/13) - 236033*(r - r_m)^(3/13)*r^(113/13) + 197232*(r - r_m)^(1/13)*r^(115/13))*r_m^4 - (48704*(r - r_m)^(5/13)*r^(124/13) - 146503*(r - r_m)^(3/13)*r^(126/13) + 104868*(r - r_m)^(1/13)*r^(128/13))*r_m^3 + (22556*(r - r_m)^(5/13)*r^(137/13) - 58109*(r - r_m)^(3/13)*r^(139/13) + 36372*(r - r_m)^(1/13)*r^(141/13))*r_m^2 - 13*(456*(r - r_m)^(5/13)*r^(150/13) - 1027*(r - r_m)^(3/13)*r^(152/13) + 571*(r - r_m)^(1/13)*r^(154/13))*r_m)*r_p^8 + 3*(3920*(r - r_m)^(7/13)*r^(174/13) - 11796*(r - r_m)^(5/13)*r^(176/13) + 11823*(r - r_m)^(3/13)*r^(178/13) - 3948*(r - r_m)^(1/13)*r^(180/13))*r_m^7 + 12*(1183*(r - r_m)^(7/13)*r^(174/13) - 3549*(r - r_m)^(5/13)*r^(176/13) + 3549*(r - r_m)^(3/13)*r^(178/13) - 1183*(r - r_m)^(1/13)*r^(180/13) - 2492*(r - r_m)^(1/13)*r^(50/13)*r_m^10 - (7056*(r - r_m)^(3/13)*r^(61/13) - 23641*(r - r_m)^(1/13)*r^(63/13))*r_m^9 - 3*(2212*(r - r_m)^(5/13)*r^(72/13) - 20026*(r - r_m)^(3/13)*r^(74/13) + 33533*(r - r_m)^(1/13)*r^(76/13))*r_m^8 - (2072*(r - r_m)^(7/13)*r^(83/13) - 50073*(r - r_m)^(5/13)*r^(85/13) + 226527*(r - r_m)^(3/13)*r^(87/13) - 252756*(r - r_m)^(1/13)*r^(89/13))*r_m^7 + (13636*(r - r_m)^(7/13)*r^(96/13) - 164631*(r - r_m)^(5/13)*r^(98/13) + 496209*(r - r_m)^(3/13)*r^(100/13) - 415044*(r - r_m)^(1/13)*r^(102/13))*r_m^6 - 3*(12761*(r - r_m)^(7/13)*r^(109/13) - 102623*(r - r_m)^(5/13)*r^(111/13) + 231833*(r - r_m)^(3/13)*r^(113/13) - 155050*(r - r_m)^(1/13)*r^(115/13))*r_m^5 + (59395*(r - r_m)^(7/13)*r^(122/13) - 357915*(r - r_m)^(5/13)*r^(124/13) + 646401*(r - r_m)^(3/13)*r^(126/13) - 360066*(r - r_m)^(1/13)*r^(128/13))*r_m^4 - (54950*(r - r_m)^(7/13)*r^(135/13) - 264651*(r - r_m)^(5/13)*r^(137/13) + 398013*(r - r_m)^(3/13)*r^(139/13) - 189924*(r - r_m)^(1/13)*r^(141/13))*r_m^3 + 3*(10094*(r - r_m)^(7/13)*r^(148/13) - 40471*(r - r_m)^(5/13)*r^(150/13) + 52129*(r - r_m)^(3/13)*r^(152/13) - 21752*(r - r_m)^(1/13)*r^(154/13))*r_m^2 - 13*(707*(r - r_m)^(7/13)*r^(161/13) - 2427*(r - r_m)^(5/13)*r^(163/13) + 2733*(r - r_m)^(3/13)*r^(165/13) - 1013*(r - r_m)^(1/13)*r^(167/13))*r_m)*r_p^7 + 3*(5880*(r - r_m)^(9/13)*r^(185/13) - 23604*(r - r_m)^(7/13)*r^(187/13) + 35496*(r - r_m)^(5/13)*r^(189/13) - 23709*(r - r_m)^(3/13)*r^(191/13) + 5936*(r - r_m)^(1/13)*r^(193/13))*r_m^6 + 42*(507*(r - r_m)^(9/13)*r^(185/13) - 2028*(r - r_m)^(7/13)*r^(187/13) + 3042*(r - r_m)^(5/13)*r^(189/13) - 2028*(r - r_m)^(3/13)*r^(191/13) + 507*(r - r_m)^(1/13)*r^(193/13) + 1168*(r - r_m)^(1/13)*r^(63/13)*r_m^10 + 18*(244*(r - r_m)^(3/13)*r^(74/13) - 613*(r - r_m)^(1/13)*r^(76/13))*r_m^9 + 3*(2056*(r - r_m)^(5/13)*r^(85/13) - 12406*(r - r_m)^(3/13)*r^(87/13) + 15577*(r - r_m)^(1/13)*r^(89/13))*r_m^8 + 2*(1916*(r - r_m)^(7/13)*r^(96/13) - 23145*(r - r_m)^(5/13)*r^(98/13) + 69789*(r - r_m)^(3/13)*r^(100/13) - 58392*(r - r_m)^(1/13)*r^(102/13))*r_m^7 + 6*(148*(r - r_m)^(9/13)*r^(107/13) - 4177*(r - r_m)^(7/13)*r^(109/13) + 25209*(r - r_m)^(5/13)*r^(111/13) - 50645*(r - r_m)^(3/13)*r^(113/13) + 31766*(r - r_m)^(1/13)*r^(115/13))*r_m^6 - 6*(826*(r - r_m)^(9/13)*r^(120/13) - 11643*(r - r_m)^(7/13)*r^(122/13) + 46807*(r - r_m)^(5/13)*r^(124/13) - 70483*(r - r_m)^(3/13)*r^(126/13) + 35350*(r - r_m)^(1/13)*r^(128/13))*r_m^5 + (11451*(r - r_m)^(9/13)*r^(133/13) - 107480*(r - r_m)^(7/13)*r^(135/13) + 323790*(r - r_m)^(5/13)*r^(137/13) - 389802*(r - r_m)^(3/13)*r^(139/13) + 162834*(r - r_m)^(1/13)*r^(141/13))*r_m^4 - 6*(2334*(r - r_m)^(9/13)*r^(146/13) - 16410*(r - r_m)^(7/13)*r^(148/13) + 39513*(r - r_m)^(5/13)*r^(150/13) - 39613*(r - r_m)^(3/13)*r^(152/13) + 14176*(r - r_m)^(1/13)*r^(154/13))*r_m^3 + 6*(1591*(r - r_m)^(9/13)*r^(159/13) - 8937*(r - r_m)^(7/13)*r^(161/13) + 17915*(r - r_m)^(5/13)*r^(163/13) - 15383*(r - r_m)^(3/13)*r^(165/13) + 4814*(r - r_m)^(1/13)*r^(167/13))*r_m^2 - 26*(132*(r - r_m)^(9/13)*r^(172/13) - 617*(r - r_m)^(7/13)*r^(174/13) + 1059*(r - r_m)^(5/13)*r^(176/13) - 795*(r - r_m)^(3/13)*r^(178/13) + 221*(r - r_m)^(1/13)*r^(180/13))*r_m)*r_p^6 + 3*(5880*(r - r_m)^(11/13)*r^(196/13) - 29526*(r - r_m)^(9/13)*r^(198/13) + 59220*(r - r_m)^(7/13)*r^(200/13) - 59340*(r - r_m)^(5/13)*r^(202/13) + 29715*(r - r_m)^(3/13)*r^(204/13) - 5950*(r - r_m)^(1/13)*r^(206/13) - 3920*r^(207/13))*r_m^5 + 126*(169*(r - r_m)^(11/13)*r^(196/13) - 845*(r - r_m)^(9/13)*r^(198/13) + 1690*(r - r_m)^(7/13)*r^(200/13) - 1690*(r - r_m)^(5/13)*r^(202/13) + 845*(r - r_m)^(3/13)*r^(204/13) - 169*(r - r_m)^(1/13)*r^(206/13) - 436*(r - r_m)^(1/13)*r^(76/13)*r_m^10 - (2040*(r - r_m)^(3/13)*r^(87/13) - 4099*(r - r_m)^(1/13)*r^(89/13))*r_m^9 - (3800*(r - r_m)^(5/13)*r^(98/13) - 17192*(r - r_m)^(3/13)*r^(100/13) + 17265*(r - r_m)^(1/13)*r^(102/13))*r_m^8 - (3520*(r - r_m)^(7/13)*r^(109/13) - 28338*(r - r_m)^(5/13)*r^(111/13) + 64069*(r - r_m)^(3/13)*r^(113/13) - 42876*(r - r_m)^(1/13)*r^(115/13))*r_m^7 - (1620*(r - r_m)^(9/13)*r^(120/13) - 22852*(r - r_m)^(7/13)*r^(122/13) + 91918*(r - r_m)^(5/13)*r^(124/13) - 138467*(r - r_m)^(3/13)*r^(126/13) + 69468*(r - r_m)^(1/13)*r^(128/13))*r_m^6 - (296*(r - r_m)^(11/13)*r^(131/13) - 8963*(r - r_m)^(9/13)*r^(133/13) + 63150*(r - r_m)^(7/13)*r^(135/13) - 169210*(r - r_m)^(5/13)*r^(137/13) + 191065*(r - r_m)^(3/13)*r^(139/13) - 76650*(r - r_m)^(1/13)*r^(141/13))*r_m^5 + (1356*(r - r_m)^(11/13)*r^(144/13) - 20497*(r - r_m)^(9/13)*r^(146/13) + 96170*(r - r_m)^(7/13)*r^(148/13) - 193110*(r - r_m)^(5/13)*r^(150/13) + 174335*(r - r_m)^(3/13)*r^(152/13) - 58254*(r - r_m)^(1/13)*r^(154/13))*r_m^4 - (2461*(r - r_m)^(11/13)*r^(157/13) - 24758*(r - r_m)^(9/13)*r^(159/13) + 87020*(r - r_m)^(7/13)*r^(161/13) - 139670*(r - r_m)^(5/13)*r^(163/13) + 105007*(r - r_m)^(3/13)*r^(165/13) - 30060*(r - r_m)^(1/13)*r^(167/13))*r_m^3 + (2207*(r - r_m)^(11/13)*r^(170/13) - 16622*(r - r_m)^(9/13)*r^(172/13) + 46680*(r - r_m)^(7/13)*r^(174/13) - 62378*(r - r_m)^(5/13)*r^(176/13) + 40169*(r - r_m)^(3/13)*r^(178/13) - 10056*(r - r_m)^(1/13)*r^(180/13))*r_m^2 - 13*(75*(r - r_m)^(11/13)*r^(183/13) - 451*(r - r_m)^(9/13)*r^(185/13) + 1054*(r - r_m)^(7/13)*r^(187/13) - 1206*(r - r_m)^(5/13)*r^(189/13) + 679*(r - r_m)^(3/13)*r^(191/13) - 151*(r - r_m)^(1/13)*r^(193/13))*r_m)*r_p^5 - 3*(23646*(r - r_m)^(11/13)*r^(209/13) - 59304*(r - r_m)^(9/13)*r^(211/13) + 79240*(r - r_m)^(7/13)*r^(213/13) - 59520*(r - r_m)^(5/13)*r^(215/13) + 23835*(r - r_m)^(3/13)*r^(217/13) + 1680*(r - r_m)^(2/13)*r^(218/13) - 3976*(r - r_m)^(1/13)*r^(219/13) - 15764*r^(220/13))*r_m^4 - 42*(2028*(r - r_m)^(11/13)*r^(209/13) - 5070*(r - r_m)^(9/13)*r^(211/13) + 6760*(r - r_m)^(7/13)*r^(213/13) - 5070*(r - r_m)^(5/13)*r^(215/13) + 2028*(r - r_m)^(3/13)*r^(217/13) - 338*(r - r_m)^(1/13)*r^(219/13) - 338*r^(220/13) - 1012*(r - r_m)^(1/13)*r^(89/13)*r_m^10 - (5652*(r - r_m)^(3/13)*r^(100/13) - 9461*(r - r_m)^(1/13)*r^(102/13))*r_m^9 - 3*(4360*(r - r_m)^(5/13)*r^(111/13) - 15775*(r - r_m)^(3/13)*r^(113/13) + 13198*(r - r_m)^(1/13)*r^(115/13))*r_m^8 - (16040*(r - r_m)^(7/13)*r^(122/13) - 96810*(r - r_m)^(5/13)*r^(124/13) + 175047*(r - r_m)^(3/13)*r^(126/13) - 97596*(r - r_m)^(1/13)*r^(128/13))*r_m^7 - (10980*(r - r_m)^(9/13)*r^(133/13) - 103210*(r - r_m)^(7/13)*r^(135/13) + 311250*(r - r_m)^(5/13)*r^(137/13) - 374997*(r - r_m)^(3/13)*r^(139/13) + 156744*(r - r_m)^(1/13)*r^(141/13))*r_m^6 - (3972*(r - r_m)^(11/13)*r^(144/13) - 60105*(r - r_m)^(9/13)*r^(146/13) + 282210*(r - r_m)^(7/13)*r^(148/13) - 566970*(r - r_m)^(5/13)*r^(150/13) + 512043*(r - r_m)^(3/13)*r^(152/13) - 171150*(r - r_m)^(1/13)*r^(154/13) - 592*r^(155/13))*r_m^5 + (17961*(r - r_m)^(11/13)*r^(157/13) - 135690*(r - r_m)^(9/13)*r^(159/13) + 424300*(r - r_m)^(7/13)*r^(161/13) - 638850*(r - r_m)^(5/13)*r^(163/13) + 461307*(r - r_m)^(3/13)*r^(165/13) - 128436*(r - r_m)^(1/13)*r^(167/13) - 2712*r^(168/13))*r_m^4 - (32079*(r - r_m)^(11/13)*r^(170/13) - 161310*(r - r_m)^(9/13)*r^(172/13) + 377900*(r - r_m)^(7/13)*r^(174/13) - 454830*(r - r_m)^(5/13)*r^(176/13) + 273525*(r - r_m)^(3/13)*r^(178/13) - 65244*(r - r_m)^(1/13)*r^(180/13) - 4922*r^(181/13))*r_m^3 + (28191*(r - r_m)^(11/13)*r^(183/13) - 106140*(r - r_m)^(9/13)*r^(185/13) + 198690*(r - r_m)^(7/13)*r^(187/13) - 199110*(r - r_m)^(5/13)*r^(189/13) + 102567*(r - r_m)^(3/13)*r^(191/13) - 21396*(r - r_m)^(1/13)*r^(193/13) - 4414*r^(194/13))*r_m^2 - 13*(933*(r - r_m)^(11/13)*r^(196/13) - 2805*(r - r_m)^(9/13)*r^(198/13) + 4370*(r - r_m)^(7/13)*r^(200/13) - 3750*(r - r_m)^(5/13)*r^(202/13) + 1689*(r - r_m)^(3/13)*r^(204/13) - 313*(r - r_m)^(1/13)*r^(206/13) - 150*r^(207/13))*r_m)*r_p^4 + 3*(35658*(r - r_m)^(11/13)*r^(222/13) - 59556*(r - r_m)^(9/13)*r^(224/13) + 59640*(r - r_m)^(7/13)*r^(226/13) - 35820*(r - r_m)^(5/13)*r^(228/13) - 420*(r - r_m)^(4/13)*r^(229/13) + 11949*(r - r_m)^(3/13)*r^(230/13) + 5076*(r - r_m)^(2/13)*r^(231/13) - 1708*(r - r_m)^(1/13)*r^(232/13) - 23772*r^(233/13))*r_m^3 + 12*(10647*(r - r_m)^(11/13)*r^(222/13) - 17745*(r - r_m)^(9/13)*r^(224/13) + 17745*(r - r_m)^(7/13)*r^(226/13) - 10647*(r - r_m)^(5/13)*r^(228/13) + 3549*(r - r_m)^(3/13)*r^(230/13) + 507*(r - r_m)^(2/13)*r^(231/13) - 507*(r - r_m)^(1/13)*r^(232/13) - 3549*r^(233/13) - 1868*(r - r_m)^(1/13)*r^(102/13)*r_m^10 - 3*(4032*(r - r_m)^(3/13)*r^(113/13) - 5783*(r - r_m)^(1/13)*r^(115/13))*r_m^9 - 21*(1588*(r - r_m)^(5/13)*r^(124/13) - 4786*(r - r_m)^(3/13)*r^(126/13) + 3431*(r - r_m)^(1/13)*r^(128/13))*r_m^8 - (50680*(r - r_m)^(7/13)*r^(135/13) - 244587*(r - r_m)^(5/13)*r^(137/13) + 368403*(r - r_m)^(3/13)*r^(139/13) - 176004*(r - r_m)^(1/13)*r^(141/13))*r_m^7 - 21*(2180*(r - r_m)^(9/13)*r^(146/13) - 15360*(r - r_m)^(7/13)*r^(148/13) + 37041*(r - r_m)^(5/13)*r^(150/13) - 37177*(r - r_m)^(3/13)*r^(152/13) + 13316*(r - r_m)^(1/13)*r^(154/13))*r_m^6 - 7*(3504*(r - r_m)^(11/13)*r^(157/13) - 35325*(r - r_m)^(9/13)*r^(159/13) + 124335*(r - r_m)^(7/13)*r^(161/13) - 199761*(r - r_m)^(5/13)*r^(163/13) + 150297*(r - r_m)^(3/13)*r^(165/13) - 43050*(r - r_m)^(1/13)*r^(167/13) - 1028*r^(168/13))*r_m^5 + (109074*(r - r_m)^(11/13)*r^(170/13) - 549045*(r - r_m)^(9/13)*r^(172/13) + 1287125*(r - r_m)^(7/13)*r^(174/13) - 1549905*(r - r_m)^(5/13)*r^(176/13) + 932421*(r - r_m)^(3/13)*r^(178/13) + 888*(r - r_m)^(2/13)*r^(179/13) - 222474*(r - r_m)^(1/13)*r^(180/13) - 32417*r^(181/13))*r_m^4 - 3*(63567*(r - r_m)^(11/13)*r^(183/13) - 213010*(r - r_m)^(9/13)*r^(185/13) + 374150*(r - r_m)^(7/13)*r^(187/13) - 360171*(r - r_m)^(5/13)*r^(189/13) + 180467*(r - r_m)^(3/13)*r^(191/13) + 1060*(r - r_m)^(2/13)*r^(192/13) - 36892*(r - r_m)^(1/13)*r^(193/13) - 19208*r^(194/13))*r_m^3 + (162939*(r - r_m)^(11/13)*r^(196/13) - 408870*(r - r_m)^(9/13)*r^(198/13) + 573930*(r - r_m)^(7/13)*r^(200/13) - 460047*(r - r_m)^(5/13)*r^(202/13) + 197463*(r - r_m)^(3/13)*r^(204/13) + 4203*(r - r_m)^(2/13)*r^(205/13) - 35304*(r - r_m)^(1/13)*r^(206/13) - 50330*r^(207/13))*r_m^2 - 13*(5187*(r - r_m)^(11/13)*r^(209/13) - 10395*(r - r_m)^(9/13)*r^(211/13) + 12145*(r - r_m)^(7/13)*r^(213/13) - 8337*(r - r_m)^(5/13)*r^(215/13) + 3129*(r - r_m)^(3/13)*r^(217/13) + 186*(r - r_m)^(2/13)*r^(218/13) - 497*(r - r_m)^(1/13)*r^(219/13) - 1652*r^(220/13))*r_m)*r_p^3 - (71694*(r - r_m)^(11/13)*r^(235/13) - 89712*(r - r_m)^(9/13)*r^(237/13) + 71820*(r - r_m)^(7/13)*r^(239/13) + 140*(r - r_m)^(6/13)*r^(240/13) - 35928*(r - r_m)^(5/13)*r^(241/13) - 2547*(r - r_m)^(4/13)*r^(242/13) + 10269*(r - r_m)^(3/13)*r^(243/13) + 15336*(r - r_m)^(2/13)*r^(244/13) - 1284*(r - r_m)^(1/13)*r^(245/13) - 47796*r^(246/13))*r_m^2 - 9*(9464*(r - r_m)^(11/13)*r^(235/13) - 11830*(r - r_m)^(9/13)*r^(237/13) + 9464*(r - r_m)^(7/13)*r^(239/13) - 4732*(r - r_m)^(5/13)*r^(241/13) - 169*(r - r_m)^(4/13)*r^(242/13) + 1352*(r - r_m)^(3/13)*r^(243/13) + 1352*(r - r_m)^(2/13)*r^(244/13) - 169*(r - r_m)^(1/13)*r^(245/13) - 4732*r^(246/13) - 856*(r - r_m)^(1/13)*r^(115/13)*r_m^10 - 16*(393*(r - r_m)^(3/13)*r^(126/13) - 493*(r - r_m)^(1/13)*r^(128/13))*r_m^9 - (20048*(r - r_m)^(5/13)*r^(137/13) - 51764*(r - r_m)^(3/13)*r^(139/13) + 32457*(r - r_m)^(1/13)*r^(141/13))*r_m^8 - 4*(9044*(r - r_m)^(7/13)*r^(148/13) - 36351*(r - r_m)^(5/13)*r^(150/13) + 46909*(r - r_m)^(3/13)*r^(152/13) - 19602*(r - r_m)^(1/13)*r^(154/13))*r_m^7 - 28*(1440*(r - r_m)^(9/13)*r^(159/13) - 8111*(r - r_m)^(7/13)*r^(161/13) + 16291*(r - r_m)^(5/13)*r^(163/13) - 14009*(r - r_m)^(3/13)*r^(165/13) + 4389*(r - r_m)^(1/13)*r^(167/13))*r_m^6 - 28*(1012*(r - r_m)^(11/13)*r^(170/13) - 7645*(r - r_m)^(9/13)*r^(172/13) + 21513*(r - r_m)^(7/13)*r^(174/13) - 28789*(r - r_m)^(5/13)*r^(176/13) + 18559*(r - r_m)^(3/13)*r^(178/13) - 4650*(r - r_m)^(1/13)*r^(180/13) - 436*r^(181/13))*r_m^5 + 2*(61614*(r - r_m)^(11/13)*r^(183/13) - 232435*(r - r_m)^(9/13)*r^(185/13) + 435680*(r - r_m)^(7/13)*r^(187/13) - 437010*(r - r_m)^(5/13)*r^(189/13) + 225274*(r - r_m)^(3/13)*r^(191/13) + 1464*(r - r_m)^(2/13)*r^(192/13) - 47019*(r - r_m)^(1/13)*r^(193/13) - 26866*r^(194/13))*r_m^4 - 4*(52283*(r - r_m)^(11/13)*r^(196/13) - 131320*(r - r_m)^(9/13)*r^(198/13) + 184450*(r - r_m)^(7/13)*r^(200/13) - 147917*(r - r_m)^(5/13)*r^(202/13) - 74*(r - r_m)^(4/13)*r^(203/13) + 63511*(r - r_m)^(3/13)*r^(204/13) + 2543*(r - r_m)^(2/13)*r^(205/13) - 11358*(r - r_m)^(1/13)*r^(206/13) - 23170*r^(207/13))*r_m^3 + 4*(42847*(r - r_m)^(11/13)*r^(209/13) - 80605*(r - r_m)^(9/13)*r^(211/13) + 90489*(r - r_m)^(7/13)*r^(213/13) - 60431*(r - r_m)^(5/13)*r^(215/13) - 191*(r - r_m)^(4/13)*r^(216/13) + 22229*(r - r_m)^(3/13)*r^(217/13) + 3228*(r - r_m)^(2/13)*r^(218/13) - 3477*(r - r_m)^(1/13)*r^(219/13) - 19432*r^(220/13))*r_m^2 - 13*(5124*(r - r_m)^(11/13)*r^(222/13) - 7700*(r - r_m)^(9/13)*r^(224/13) + 7196*(r - r_m)^(7/13)*r^(226/13) - 4116*(r - r_m)^(5/13)*r^(228/13) - 49*(r - r_m)^(4/13)*r^(229/13) + 1324*(r - r_m)^(3/13)*r^(230/13) + 540*(r - r_m)^(2/13)*r^(231/13) - 184*(r - r_m)^(1/13)*r^(232/13) - 2408*r^(233/13))*r_m)*r_p^2 + 143*(126*(r - r_m)^(11/13)*r^(248/13) - 126*(r - r_m)^(9/13)*r^(250/13) + 84*(r - r_m)^(7/13)*r^(252/13) + (r - r_m)^(6/13)*r^(253/13) - 36*(r - r_m)^(5/13)*r^(254/13) - 9*(r - r_m)^(4/13)*r^(255/13) + 9*(r - r_m)^(3/13)*r^(256/13) + 36*(r - r_m)^(2/13)*r^(257/13) - (r - r_m)^(1/13)*r^(258/13) - 84*r^(259/13))*r_m + (21294*(r - r_m)^(11/13)*r^(248/13) - 21294*(r - r_m)^(9/13)*r^(250/13) + 14196*(r - r_m)^(7/13)*r^(252/13) + 169*(r - r_m)^(6/13)*r^(253/13) - 6084*(r - r_m)^(5/13)*r^(254/13) - 1521*(r - r_m)^(4/13)*r^(255/13) + 1521*(r - r_m)^(3/13)*r^(256/13) + 6084*(r - r_m)^(2/13)*r^(257/13) - 169*(r - r_m)^(1/13)*r^(258/13) - 14196*r^(259/13) - 1556*(r - r_m)^(1/13)*r^(128/13)*r_m^10 - (12744*(r - r_m)^(3/13)*r^(139/13) - 14203*(r - r_m)^(1/13)*r^(141/13))*r_m^9 - 3*(15312*(r - r_m)^(5/13)*r^(150/13) - 34572*(r - r_m)^(3/13)*r^(152/13) + 19259*(r - r_m)^(1/13)*r^(154/13))*r_m^8 - 3*(31808*(r - r_m)^(7/13)*r^(161/13) - 109500*(r - r_m)^(5/13)*r^(163/13) + 123567*(r - r_m)^(3/13)*r^(165/13) - 45876*(r - r_m)^(1/13)*r^(167/13))*r_m^7 - 3*(41832*(r - r_m)^(9/13)*r^(172/13) - 196168*(r - r_m)^(7/13)*r^(174/13) + 337476*(r - r_m)^(5/13)*r^(176/13) - 253785*(r - r_m)^(3/13)*r^(178/13) + 70644*(r - r_m)^(1/13)*r^(180/13))*r_m^6 - 3*(35952*(r - r_m)^(11/13)*r^(183/13) - 217014*(r - r_m)^(9/13)*r^(185/13) + 508452*(r - r_m)^(7/13)*r^(187/13) - 582828*(r - r_m)^(5/13)*r^(189/13) + 328587*(r - r_m)^(3/13)*r^(191/13) - 73150*(r - r_m)^(1/13)*r^(193/13) - 20048*r^(194/13))*r_m^5 + 3*(151536*(r - r_m)^(11/13)*r^(196/13) - 456834*(r - r_m)^(9/13)*r^(198/13) + 713020*(r - r_m)^(7/13)*r^(200/13) - 612660*(r - r_m)^(5/13)*r^(202/13) + 276213*(r - r_m)^(3/13)*r^(204/13) + 6912*(r - r_m)^(2/13)*r^(205/13) - 51226*(r - r_m)^(1/13)*r^(206/13) - 85260*r^(207/13))*r_m^4 - 3*(245994*(r - r_m)^(11/13)*r^(209/13) - 493836*(r - r_m)^(9/13)*r^(211/13) + 577640*(r - r_m)^(7/13)*r^(213/13) - 396852*(r - r_m)^(5/13)*r^(215/13) - 1308*(r - r_m)^(4/13)*r^(216/13) + 149037*(r - r_m)^(3/13)*r^(217/13) + 22872*(r - r_m)^(2/13)*r^(218/13) - 23684*(r - r_m)^(1/13)*r^(219/13) - 140224*r^(220/13))*r_m^3 + (564858*(r - r_m)^(11/13)*r^(222/13) - 849492*(r - r_m)^(9/13)*r^(224/13) + 794304*(r - r_m)^(7/13)*r^(226/13) + 296*(r - r_m)^(6/13)*r^(227/13) - 454500*(r - r_m)^(5/13)*r^(228/13) - 9423*(r - r_m)^(4/13)*r^(229/13) + 146241*(r - r_m)^(3/13)*r^(230/13) + 81108*(r - r_m)^(2/13)*r^(231/13) - 20328*(r - r_m)^(1/13)*r^(232/13) - 328776*r^(233/13))*r_m^2 - 13*(14994*(r - r_m)^(11/13)*r^(235/13) - 18018*(r - r_m)^(9/13)*r^(237/13) + 14028*(r - r_m)^(7/13)*r^(239/13) + 36*(r - r_m)^(6/13)*r^(240/13) - 6876*(r - r_m)^(5/13)*r^(241/13) - 540*(r - r_m)^(4/13)*r^(242/13) + 1935*(r - r_m)^(3/13)*r^(243/13) + 3024*(r - r_m)^(2/13)*r^(244/13) - 239*(r - r_m)^(1/13)*r^(245/13) - 9072*r^(246/13))*r_m)*r_p)/((r - r_m)^(12/13)*r^22 + 84*(r - r_m)^(11/13)*r^(287/13) - 126*(r - r_m)^(9/13)*r^(289/13) + 126*(r - r_m)^(7/13)*r^(291/13) - 84*(r - r_m)^(5/13)*r^(293/13) - (r - r_m)^(4/13)*r^(294/13) + 36*(r - r_m)^(3/13)*r^(295/13) + 9*(r - r_m)^(2/13)*r^(296/13) - 9*(r - r_m)^(1/13)*r^(297/13) - 36*r^(298/13) - ((r - r_m)^(12/13)*r^13 - 8*(r - r_m)^(12/13)*r^12*r_m + 28*(r - r_m)^(12/13)*r^11*r_m^2 - 56*(r - r_m)^(12/13)*r^10*r_m^3 + 70*(r - r_m)^(12/13)*r^9*r_m^4 - 56*(r - r_m)^(12/13)*r^8*r_m^5 + 28*(r - r_m)^(12/13)*r^7*r_m^6 - 8*(r - r_m)^(12/13)*r^6*r_m^7 + (r - r_m)^(12/13)*r^5*r_m^8)*r_p^9 + ((r - r_m)^(12/13)*r^14 - 9*(r - r_m)^(1/13)*r^(193/13))*r_m^8 + 9*((r - r_m)^(12/13)*r^14 - (r - r_m)^(1/13)*r^(193/13) + ((r - r_m)^(12/13)*r^6 - (r - r_m)^(1/13)*r^(89/13))*r_m^8 - 8*((r - r_m)^(12/13)*r^7 - (r - r_m)^(1/13)*r^(102/13))*r_m^7 + 28*((r - r_m)^(12/13)*r^8 - (r - r_m)^(1/13)*r^(115/13))*r_m^6 - 56*((r - r_m)^(12/13)*r^9 - (r - r_m)^(1/13)*r^(128/13))*r_m^5 + 70*((r - r_m)^(12/13)*r^10 - (r - r_m)^(1/13)*r^(141/13))*r_m^4 - 56*((r - r_m)^(12/13)*r^11 - (r - r_m)^(1/13)*r^(154/13))*r_m^3 + 28*((r - r_m)^(12/13)*r^12 - (r - r_m)^(1/13)*r^(167/13))*r_m^2 - 8*((r - r_m)^(12/13)*r^13 - (r - r_m)^(1/13)*r^(180/13))*r_m)*r_p^8 - 4*(2*(r - r_m)^(12/13)*r^15 + 9*(r - r_m)^(3/13)*r^(204/13) - 18*(r - r_m)^(1/13)*r^(206/13))*r_m^7 - 36*((r - r_m)^(12/13)*r^15 + (r - r_m)^(3/13)*r^(204/13) - 2*(r - r_m)^(1/13)*r^(206/13) + ((r - r_m)^(12/13)*r^7 - 2*(r - r_m)^(1/13)*r^(102/13))*r_m^8 - (8*(r - r_m)^(12/13)*r^8 + (r - r_m)^(3/13)*r^(113/13) - 16*(r - r_m)^(1/13)*r^(115/13))*r_m^7 + 7*(4*(r - r_m)^(12/13)*r^9 + (r - r_m)^(3/13)*r^(126/13) - 8*(r - r_m)^(1/13)*r^(128/13))*r_m^6 - 7*(8*(r - r_m)^(12/13)*r^10 + 3*(r - r_m)^(3/13)*r^(139/13) - 16*(r - r_m)^(1/13)*r^(141/13))*r_m^5 + 35*(2*(r - r_m)^(12/13)*r^11 + (r - r_m)^(3/13)*r^(152/13) - 4*(r - r_m)^(1/13)*r^(154/13))*r_m^4 - 7*(8*(r - r_m)^(12/13)*r^12 + 5*(r - r_m)^(3/13)*r^(165/13) - 16*(r - r_m)^(1/13)*r^(167/13))*r_m^3 + 7*(4*(r - r_m)^(12/13)*r^13 + 3*(r - r_m)^(3/13)*r^(178/13) - 8*(r - r_m)^(1/13)*r^(180/13))*r_m^2 - (8*(r - r_m)^(12/13)*r^14 + 7*(r - r_m)^(3/13)*r^(191/13) - 16*(r - r_m)^(1/13)*r^(193/13))*r_m)*r_p^7 + 28*((r - r_m)^(12/13)*r^16 - 3*(r - r_m)^(5/13)*r^(215/13) + 9*(r - r_m)^(3/13)*r^(217/13) - 9*(r - r_m)^(1/13)*r^(219/13))*r_m^6 + 84*((r - r_m)^(12/13)*r^16 - (r - r_m)^(5/13)*r^(215/13) + 3*(r - r_m)^(3/13)*r^(217/13) - 3*(r - r_m)^(1/13)*r^(219/13) + ((r - r_m)^(12/13)*r^8 - 3*(r - r_m)^(1/13)*r^(115/13))*r_m^8 - (8*(r - r_m)^(12/13)*r^9 + 3*(r - r_m)^(3/13)*r^(126/13) - 24*(r - r_m)^(1/13)*r^(128/13))*r_m^7 + (28*(r - r_m)^(12/13)*r^10 - (r - r_m)^(5/13)*r^(137/13) + 21*(r - r_m)^(3/13)*r^(139/13) - 84*(r - r_m)^(1/13)*r^(141/13))*r_m^6 - (56*(r - r_m)^(12/13)*r^11 - 6*(r - r_m)^(5/13)*r^(150/13) + 63*(r - r_m)^(3/13)*r^(152/13) - 168*(r - r_m)^(1/13)*r^(154/13))*r_m^5 + 5*(14*(r - r_m)^(12/13)*r^12 - 3*(r - r_m)^(5/13)*r^(163/13) + 21*(r - r_m)^(3/13)*r^(165/13) - 42*(r - r_m)^(1/13)*r^(167/13))*r_m^4 - (56*(r - r_m)^(12/13)*r^13 - 20*(r - r_m)^(5/13)*r^(176/13) + 105*(r - r_m)^(3/13)*r^(178/13) - 168*(r - r_m)^(1/13)*r^(180/13))*r_m^3 + (28*(r - r_m)^(12/13)*r^14 - 15*(r - r_m)^(5/13)*r^(189/13) + 63*(r - r_m)^(3/13)*r^(191/13) - 84*(r - r_m)^(1/13)*r^(193/13))*r_m^2 - (8*(r - r_m)^(12/13)*r^15 - 6*(r - r_m)^(5/13)*r^(202/13) + 21*(r - r_m)^(3/13)*r^(204/13) - 24*(r - r_m)^(1/13)*r^(206/13))*r_m)*r_p^6 - 14*(4*(r - r_m)^(12/13)*r^17 + 9*(r - r_m)^(7/13)*r^(226/13) - 36*(r - r_m)^(5/13)*r^(228/13) + 54*(r - r_m)^(3/13)*r^(230/13) - 36*(r - r_m)^(1/13)*r^(232/13))*r_m^5 - 126*((r - r_m)^(12/13)*r^17 + (r - r_m)^(7/13)*r^(226/13) - 4*(r - r_m)^(5/13)*r^(228/13) + 6*(r - r_m)^(3/13)*r^(230/13) - 4*(r - r_m)^(1/13)*r^(232/13) + ((r - r_m)^(12/13)*r^9 - 4*(r - r_m)^(1/13)*r^(128/13))*r_m^8 - 2*(4*(r - r_m)^(12/13)*r^10 + 3*(r - r_m)^(3/13)*r^(139/13) - 16*(r - r_m)^(1/13)*r^(141/13))*r_m^7 + 2*(14*(r - r_m)^(12/13)*r^11 - 2*(r - r_m)^(5/13)*r^(150/13) + 21*(r - r_m)^(3/13)*r^(152/13) - 56*(r - r_m)^(1/13)*r^(154/13))*r_m^6 - (56*(r - r_m)^(12/13)*r^12 + (r - r_m)^(7/13)*r^(161/13) - 24*(r - r_m)^(5/13)*r^(163/13) + 126*(r - r_m)^(3/13)*r^(165/13) - 224*(r - r_m)^(1/13)*r^(167/13))*r_m^5 + 5*(14*(r - r_m)^(12/13)*r^13 + (r - r_m)^(7/13)*r^(174/13) - 12*(r - r_m)^(5/13)*r^(176/13) + 42*(r - r_m)^(3/13)*r^(178/13) - 56*(r - r_m)^(1/13)*r^(180/13))*r_m^4 - 2*(28*(r - r_m)^(12/13)*r^14 + 5*(r - r_m)^(7/13)*r^(187/13) - 40*(r - r_m)^(5/13)*r^(189/13) + 105*(r - r_m)^(3/13)*r^(191/13) - 112*(r - r_m)^(1/13)*r^(193/13))*r_m^3 + 2*(14*(r - r_m)^(12/13)*r^15 + 5*(r - r_m)^(7/13)*r^(200/13) - 30*(r - r_m)^(5/13)*r^(202/13) + 63*(r - r_m)^(3/13)*r^(204/13) - 56*(r - r_m)^(1/13)*r^(206/13))*r_m^2 - (8*(r - r_m)^(12/13)*r^16 + 5*(r - r_m)^(7/13)*r^(213/13) - 24*(r - r_m)^(5/13)*r^(215/13) + 42*(r - r_m)^(3/13)*r^(217/13) - 32*(r - r_m)^(1/13)*r^(219/13))*r_m)*r_p^5 + 14*(5*(r - r_m)^(12/13)*r^18 - 9*(r - r_m)^(9/13)*r^(237/13) + 45*(r - r_m)^(7/13)*r^(239/13) - 90*(r - r_m)^(5/13)*r^(241/13) + 90*(r - r_m)^(3/13)*r^(243/13) - 45*(r - r_m)^(1/13)*r^(245/13))*r_m^4 + 126*((r - r_m)^(12/13)*r^18 - (r - r_m)^(9/13)*r^(237/13) + 5*(r - r_m)^(7/13)*r^(239/13) - 10*(r - r_m)^(5/13)*r^(241/13) + 10*(r - r_m)^(3/13)*r^(243/13) - 5*(r - r_m)^(1/13)*r^(245/13) + ((r - r_m)^(12/13)*r^10 - 5*(r - r_m)^(1/13)*r^(141/13))*r_m^8 - 2*(4*(r - r_m)^(12/13)*r^11 + 5*(r - r_m)^(3/13)*r^(152/13) - 20*(r - r_m)^(1/13)*r^(154/13))*r_m^7 + 2*(14*(r - r_m)^(12/13)*r^12 - 5*(r - r_m)^(5/13)*r^(163/13) + 35*(r - r_m)^(3/13)*r^(165/13) - 70*(r - r_m)^(1/13)*r^(167/13))*r_m^6 - (56*(r - r_m)^(12/13)*r^13 + 5*(r - r_m)^(7/13)*r^(174/13) - 60*(r - r_m)^(5/13)*r^(176/13) + 210*(r - r_m)^(3/13)*r^(178/13) - 280*(r - r_m)^(1/13)*r^(180/13))*r_m^5 + (70*(r - r_m)^(12/13)*r^14 - (r - r_m)^(9/13)*r^(185/13) + 25*(r - r_m)^(7/13)*r^(187/13) - 150*(r - r_m)^(5/13)*r^(189/13) + 350*(r - r_m)^(3/13)*r^(191/13) - 350*(r - r_m)^(1/13)*r^(193/13))*r_m^4 - 2*(28*(r - r_m)^(12/13)*r^15 - 2*(r - r_m)^(9/13)*r^(198/13) + 25*(r - r_m)^(7/13)*r^(200/13) - 100*(r - r_m)^(5/13)*r^(202/13) + 175*(r - r_m)^(3/13)*r^(204/13) - 140*(r - r_m)^(1/13)*r^(206/13))*r_m^3 + 2*(14*(r - r_m)^(12/13)*r^16 - 3*(r - r_m)^(9/13)*r^(211/13) + 25*(r - r_m)^(7/13)*r^(213/13) - 75*(r - r_m)^(5/13)*r^(215/13) + 105*(r - r_m)^(3/13)*r^(217/13) - 70*(r - r_m)^(1/13)*r^(219/13))*r_m^2 - (8*(r - r_m)^(12/13)*r^17 - 4*(r - r_m)^(9/13)*r^(224/13) + 25*(r - r_m)^(7/13)*r^(226/13) - 60*(r - r_m)^(5/13)*r^(228/13) + 70*(r - r_m)^(3/13)*r^(230/13) - 40*(r - r_m)^(1/13)*r^(232/13))*r_m)*r_p^4 - 4*(14*(r - r_m)^(12/13)*r^19 + 21*(r - r_m)^(11/13)*r^(248/13) - 126*(r - r_m)^(9/13)*r^(250/13) + 315*(r - r_m)^(7/13)*r^(252/13) - 420*(r - r_m)^(5/13)*r^(254/13) + 315*(r - r_m)^(3/13)*r^(256/13) - 126*(r - r_m)^(1/13)*r^(258/13) - 9*r^(259/13))*r_m^3 - 84*((r - r_m)^(12/13)*r^19 + (r - r_m)^(11/13)*r^(248/13) - 6*(r - r_m)^(9/13)*r^(250/13) + 15*(r - r_m)^(7/13)*r^(252/13) - 20*(r - r_m)^(5/13)*r^(254/13) + 15*(r - r_m)^(3/13)*r^(256/13) - 6*(r - r_m)^(1/13)*r^(258/13) + ((r - r_m)^(12/13)*r^11 - 6*(r - r_m)^(1/13)*r^(154/13))*r_m^8 - (8*(r - r_m)^(12/13)*r^12 + 15*(r - r_m)^(3/13)*r^(165/13) - 48*(r - r_m)^(1/13)*r^(167/13))*r_m^7 + (28*(r - r_m)^(12/13)*r^13 - 20*(r - r_m)^(5/13)*r^(176/13) + 105*(r - r_m)^(3/13)*r^(178/13) - 168*(r - r_m)^(1/13)*r^(180/13))*r_m^6 - (56*(r - r_m)^(12/13)*r^14 + 15*(r - r_m)^(7/13)*r^(187/13) - 120*(r - r_m)^(5/13)*r^(189/13) + 315*(r - r_m)^(3/13)*r^(191/13) - 336*(r - r_m)^(1/13)*r^(193/13))*r_m^5 + (70*(r - r_m)^(12/13)*r^15 - 6*(r - r_m)^(9/13)*r^(198/13) + 75*(r - r_m)^(7/13)*r^(200/13) - 300*(r - r_m)^(5/13)*r^(202/13) + 525*(r - r_m)^(3/13)*r^(204/13) - 420*(r - r_m)^(1/13)*r^(206/13))*r_m^4 - (56*(r - r_m)^(12/13)*r^16 + (r - r_m)^(11/13)*r^(209/13) - 24*(r - r_m)^(9/13)*r^(211/13) + 150*(r - r_m)^(7/13)*r^(213/13) - 400*(r - r_m)^(5/13)*r^(215/13) + 525*(r - r_m)^(3/13)*r^(217/13) - 336*(r - r_m)^(1/13)*r^(219/13))*r_m^3 + (28*(r - r_m)^(12/13)*r^17 + 3*(r - r_m)^(11/13)*r^(222/13) - 36*(r - r_m)^(9/13)*r^(224/13) + 150*(r - r_m)^(7/13)*r^(226/13) - 300*(r - r_m)^(5/13)*r^(228/13) + 315*(r - r_m)^(3/13)*r^(230/13) - 168*(r - r_m)^(1/13)*r^(232/13))*r_m^2 - (8*(r - r_m)^(12/13)*r^18 + 3*(r - r_m)^(11/13)*r^(235/13) - 24*(r - r_m)^(9/13)*r^(237/13) + 75*(r - r_m)^(7/13)*r^(239/13) - 120*(r - r_m)^(5/13)*r^(241/13) + 105*(r - r_m)^(3/13)*r^(243/13) - 48*(r - r_m)^(1/13)*r^(245/13))*r_m)*r_p^3 + (28*(r - r_m)^(12/13)*r^20 + 252*(r - r_m)^(11/13)*r^(261/13) - 756*(r - r_m)^(9/13)*r^(263/13) + 1260*(r - r_m)^(7/13)*r^(265/13) - 1260*(r - r_m)^(5/13)*r^(267/13) + 756*(r - r_m)^(3/13)*r^(269/13) + 9*(r - r_m)^(2/13)*r^(270/13) - 252*(r - r_m)^(1/13)*r^(271/13) - 108*r^(272/13))*r_m^2 + 36*((r - r_m)^(12/13)*r^20 + 7*(r - r_m)^(11/13)*r^(261/13) - 21*(r - r_m)^(9/13)*r^(263/13) + 35*(r - r_m)^(7/13)*r^(265/13) - 35*(r - r_m)^(5/13)*r^(267/13) + 21*(r - r_m)^(3/13)*r^(269/13) - 7*(r - r_m)^(1/13)*r^(271/13) - r^(272/13) + ((r - r_m)^(12/13)*r^12 - 7*(r - r_m)^(1/13)*r^(167/13))*r_m^8 - (8*(r - r_m)^(12/13)*r^13 + 21*(r - r_m)^(3/13)*r^(178/13) - 56*(r - r_m)^(1/13)*r^(180/13))*r_m^7 + 7*(4*(r - r_m)^(12/13)*r^14 - 5*(r - r_m)^(5/13)*r^(189/13) + 21*(r - r_m)^(3/13)*r^(191/13) - 28*(r - r_m)^(1/13)*r^(193/13))*r_m^6 - 7*(8*(r - r_m)^(12/13)*r^15 + 5*(r - r_m)^(7/13)*r^(200/13) - 30*(r - r_m)^(5/13)*r^(202/13) + 63*(r - r_m)^(3/13)*r^(204/13) - 56*(r - r_m)^(1/13)*r^(206/13))*r_m^5 + 7*(10*(r - r_m)^(12/13)*r^16 - 3*(r - r_m)^(9/13)*r^(211/13) + 25*(r - r_m)^(7/13)*r^(213/13) - 75*(r - r_m)^(5/13)*r^(215/13) + 105*(r - r_m)^(3/13)*r^(217/13) - 70*(r - r_m)^(1/13)*r^(219/13))*r_m^4 - (56*(r - r_m)^(12/13)*r^17 + 7*(r - r_m)^(11/13)*r^(222/13) - 84*(r - r_m)^(9/13)*r^(224/13) + 350*(r - r_m)^(7/13)*r^(226/13) - 700*(r - r_m)^(5/13)*r^(228/13) + 735*(r - r_m)^(3/13)*r^(230/13) - 392*(r - r_m)^(1/13)*r^(232/13) - r^(233/13))*r_m^3 + (28*(r - r_m)^(12/13)*r^18 + 21*(r - r_m)^(11/13)*r^(235/13) - 126*(r - r_m)^(9/13)*r^(237/13) + 350*(r - r_m)^(7/13)*r^(239/13) - 525*(r - r_m)^(5/13)*r^(241/13) + 441*(r - r_m)^(3/13)*r^(243/13) - 196*(r - r_m)^(1/13)*r^(245/13) - 3*r^(246/13))*r_m^2 - (8*(r - r_m)^(12/13)*r^19 + 21*(r - r_m)^(11/13)*r^(248/13) - 84*(r - r_m)^(9/13)*r^(250/13) + 175*(r - r_m)^(7/13)*r^(252/13) - 210*(r - r_m)^(5/13)*r^(254/13) + 147*(r - r_m)^(3/13)*r^(256/13) - 56*(r - r_m)^(1/13)*r^(258/13) - 3*r^(259/13))*r_m)*r_p^2 - (8*(r - r_m)^(12/13)*r^21 + 252*(r - r_m)^(11/13)*r^(274/13) - 504*(r - r_m)^(9/13)*r^(276/13) + 630*(r - r_m)^(7/13)*r^(278/13) - 504*(r - r_m)^(5/13)*r^(280/13) - (r - r_m)^(4/13)*r^(281/13) + 252*(r - r_m)^(3/13)*r^(282/13) + 18*(r - r_m)^(2/13)*r^(283/13) - 72*(r - r_m)^(1/13)*r^(284/13) - 108*r^(285/13))*r_m - 9*((r - r_m)^(12/13)*r^21 + 28*(r - r_m)^(11/13)*r^(274/13) - 56*(r - r_m)^(9/13)*r^(276/13) + 70*(r - r_m)^(7/13)*r^(278/13) - 56*(r - r_m)^(5/13)*r^(280/13) + 28*(r - r_m)^(3/13)*r^(282/13) + (r - r_m)^(2/13)*r^(283/13) - 8*(r - r_m)^(1/13)*r^(284/13) - 8*r^(285/13) + ((r - r_m)^(12/13)*r^13 - 8*(r - r_m)^(1/13)*r^(180/13))*r_m^8 - 4*(2*(r - r_m)^(12/13)*r^14 + 7*(r - r_m)^(3/13)*r^(191/13) - 16*(r - r_m)^(1/13)*r^(193/13))*r_m^7 + 28*((r - r_m)^(12/13)*r^15 - 2*(r - r_m)^(5/13)*r^(202/13) + 7*(r - r_m)^(3/13)*r^(204/13) - 8*(r - r_m)^(1/13)*r^(206/13))*r_m^6 - 14*(4*(r - r_m)^(12/13)*r^16 + 5*(r - r_m)^(7/13)*r^(213/13) - 24*(r - r_m)^(5/13)*r^(215/13) + 42*(r - r_m)^(3/13)*r^(217/13) - 32*(r - r_m)^(1/13)*r^(219/13))*r_m^5 + 14*(5*(r - r_m)^(12/13)*r^17 - 4*(r - r_m)^(9/13)*r^(224/13) + 25*(r - r_m)^(7/13)*r^(226/13) - 60*(r - r_m)^(5/13)*r^(228/13) + 70*(r - r_m)^(3/13)*r^(230/13) - 40*(r - r_m)^(1/13)*r^(232/13))*r_m^4 - 4*(14*(r - r_m)^(12/13)*r^18 + 7*(r - r_m)^(11/13)*r^(235/13) - 56*(r - r_m)^(9/13)*r^(237/13) + 175*(r - r_m)^(7/13)*r^(239/13) - 280*(r - r_m)^(5/13)*r^(241/13) + 245*(r - r_m)^(3/13)*r^(243/13) - 112*(r - r_m)^(1/13)*r^(245/13) - 2*r^(246/13))*r_m^3 + (28*(r - r_m)^(12/13)*r^19 + 84*(r - r_m)^(11/13)*r^(248/13) - 336*(r - r_m)^(9/13)*r^(250/13) + 700*(r - r_m)^(7/13)*r^(252/13) - 840*(r - r_m)^(5/13)*r^(254/13) + 588*(r - r_m)^(3/13)*r^(256/13) + (r - r_m)^(2/13)*r^(257/13) - 224*(r - r_m)^(1/13)*r^(258/13) - 24*r^(259/13))*r_m^2 - 2*(4*(r - r_m)^(12/13)*r^20 + 42*(r - r_m)^(11/13)*r^(261/13) - 112*(r - r_m)^(9/13)*r^(263/13) + 175*(r - r_m)^(7/13)*r^(265/13) - 168*(r - r_m)^(5/13)*r^(267/13) + 98*(r - r_m)^(3/13)*r^(269/13) + (r - r_m)^(2/13)*r^(270/13) - 32*(r - r_m)^(1/13)*r^(271/13) - 12*r^(272/13))*r_m)*r_p)"
      ]
     },
     "metadata": {},
     "output_type": "display_data"
    },
    {
     "data": {
      "text/html": [
       "<html>\\(\\displaystyle \\lim_{a \\to 0}\\Psi_{3} =  0\\)</html>"
      ],
      "text/latex": [
       "$\\displaystyle \\lim_{a \\to 0}\\Psi_{3} =  0$"
      ],
      "text/plain": [
       "\\lim_{a \\to 0}\\Psi_{3} =  0"
      ]
     },
     "metadata": {},
     "output_type": "display_data"
    }
   ],
   "source": [
    "show(LatexExpr(r'\\lim_{a \\to 0}\\Psi_{1} = '),Psi1.subs(a=0))\n",
    "show(LatexExpr(r'\\lim_{a \\to 0}\\Psi_{2} = '),Psi2.subs(a=0))\n",
    "show(LatexExpr(r'\\lim_{a \\to 0}\\Psi_{3} = '),Psi3.subs(a=0))"
   ]
  },
  {
   "cell_type": "code",
   "execution_count": 32,
   "id": "75cfcb7f",
   "metadata": {},
   "outputs": [
    {
     "data": {
      "text/html": [
       "<html>\\(\\displaystyle \\mathcal{R}(\\Psi_{1}i) =  \\mathrm{False}\\)</html>"
      ],
      "text/latex": [
       "$\\displaystyle \\mathcal{R}(\\Psi_{1}i) =  \\mathrm{False}$"
      ],
      "text/plain": [
       "\\mathcal{R}(\\Psi_{1}i) =  False"
      ]
     },
     "metadata": {},
     "output_type": "display_data"
    },
    {
     "data": {
      "text/html": [
       "<html>\\(\\displaystyle \\mathcal{R}(\\Psi_{2}i) =  \\mathrm{False}\\)</html>"
      ],
      "text/latex": [
       "$\\displaystyle \\mathcal{R}(\\Psi_{2}i) =  \\mathrm{False}$"
      ],
      "text/plain": [
       "\\mathcal{R}(\\Psi_{2}i) =  False"
      ]
     },
     "metadata": {},
     "output_type": "display_data"
    }
   ],
   "source": [
    "show(LatexExpr(r'\\mathcal{R}(\\Psi_{1}i) = '), (Psi1*I).is_real())\n",
    "show(LatexExpr(r'\\mathcal{R}(\\Psi_{2}i) = '), (Psi2*I).is_real())"
   ]
  },
  {
   "cell_type": "markdown",
   "id": "92c5b1f7",
   "metadata": {},
   "source": [
    "# But, I suspect the expressions to be purely imaginary ! I also suspect that, as we might expect, we have a type D solution, and therefore, the scalars $\\psi_{1}$ and $\\psi_{3}$ are null, but perhaps Sage cannot see this..."
   ]
  },
  {
   "cell_type": "code",
   "execution_count": 33,
   "id": "fa667279",
   "metadata": {},
   "outputs": [],
   "source": [
    "expressions_sc = {\n",
    "    'Psi0_expression': Psi0,\n",
    "    'Psi1_expression': Psi1,\n",
    "    'Psi2_expression': Psi2,\n",
    "    'Psi3_expression': Psi3,\n",
    "    'Psi4_expression': Psi4,\n",
    "}\n",
    "\n",
    "with open('expressions_sc.pkl', 'wb') as file:\n",
    "    pickle.dump(expressions_sc, file)\n"
   ]
  }
 ],
 "metadata": {
  "kernelspec": {
   "display_name": "SageMath 10.1",
   "language": "sage",
   "name": "sagemath"
  },
  "language_info": {
   "codemirror_mode": {
    "name": "ipython",
    "version": 3
   },
   "file_extension": ".py",
   "mimetype": "text/x-python",
   "name": "python",
   "nbconvert_exporter": "python",
   "pygments_lexer": "ipython3",
   "version": "3.10.12"
  }
 },
 "nbformat": 4,
 "nbformat_minor": 5
}
