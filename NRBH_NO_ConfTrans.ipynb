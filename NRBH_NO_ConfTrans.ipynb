{
 "cells": [
  {
   "cell_type": "markdown",
   "id": "7b31ae87-7cb2-4292-ae0d-2b0c91ed6389",
   "metadata": {},
   "source": [
    "# UNROTATING BLACK HOLES SOLUTIONS"
   ]
  },
  {
   "cell_type": "markdown",
   "id": "79888094-33b6-4060-90a3-b90c28345f92",
   "metadata": {},
   "source": [
    "We are interested here in the case of a simple extension of standard matter-gravity coupled to a Maxwell field and a dilaton. The action reads:\n",
    "\n",
    "$S=\\int d^{4}\\sqrt{-g}\\left(-R +2(\\bigtriangledown\\Phi)^{2}+e^{-2\\alpha\\Phi}F^{2}\\right)$\n",
    "\n",
    "$\\alpha$ is the parameter controlling the intensity of the Maxwell-dilaton coupling. The field equations are:\n",
    "\n",
    "\\begin{eqnarray*}\n",
    "\\nabla_{\\mu}(e^{-2\\alpha\\Phi}F^{\\mu\\nu}) &=& 0 \\\\\n",
    "\\nabla^{2}\\Phi + \\frac{\\alpha}{2}e^{-2\\alpha\\Phi}F^{2} &=& 0 \\\\\n",
    "2\\nabla_{\\mu}\\Phi\\nabla_{\\nu}\\Phi + \\frac{T_{\\mu\\nu}}{\\Psi} &=& R_{\\mu\\nu} \n",
    "\\end{eqnarray*}\n",
    "\n",
    "Where $\\Psi=e^{2\\alpha\\Phi}=\\left(1-\\frac{r_{-}}{r}\\right)^{\\frac{2\\alpha^{2}}{1+\\alpha^{2}}}$ and $\\Phi=\\frac{\\ln{(\\Psi)}}{2\\alpha}=\\frac{\\alpha}{(1+\\alpha^{2})}\\ln{(1-\\frac{r_{m}}{r})}$ \n",
    "\n",
    "The stress-energy tensor is $T_{\\mu\\nu}=2\\left(F_{\\rho\\mu}F^{\\rho}_{\\ \\nu} - \\frac{1}{4}g_{\\mu\\nu}F^{2}\\right) $ \n",
    "\n",
    "We only consider here the unrotating black hole solutions to the action, i.e. for :\n",
    "\n",
    "$ds^{2}=-\\lambda^{2}dt^{2}+\\frac{dr^{2}}{\\lambda^{2}}+R^{2}d\\Omega$\n",
    "\n",
    "where $\\lambda^{2}=\\left(1-\\frac{r_{+}}{r}\\right)\\left(1-\\frac{r_{-}}{r}\\right)^{\\frac{1-\\alpha^{2}}{1+\\alpha^{2}}}$ and $R^{2}=r^{2}\\left(1-\\frac{r_{-}}{r}\\right)^{\\frac{2\\alpha^{2}}{1+\\alpha^{2}}}$\n",
    "\n",
    "Note also that $F_{tr}=\\frac{Q}{r^{2}}$ and $Q=\\left(\\frac{r_{+}r_{-}}{1+\\alpha^{2}}\\right)$"
   ]
  },
  {
   "cell_type": "code",
   "execution_count": 1,
   "id": "dbb3361b",
   "metadata": {},
   "outputs": [],
   "source": [
    "%display latex"
   ]
  },
  {
   "cell_type": "markdown",
   "id": "a042daee",
   "metadata": {},
   "source": [
    "'SageMath version 9.5, Release Date: 2022-01-30'"
   ]
  },
  {
   "cell_type": "code",
   "execution_count": 3,
   "id": "9adff967",
   "metadata": {},
   "outputs": [],
   "source": [
    "from sage.manifolds.operators import dalembertian\n",
    "from sage.manifolds.operators import laplacian\n",
    "from sage.manifolds.operators import grad"
   ]
  },
  {
   "cell_type": "markdown",
   "id": "0fa005a6",
   "metadata": {},
   "source": [
    "# Definition of a general metric"
   ]
  },
  {
   "cell_type": "code",
   "execution_count": 4,
   "id": "b674c718",
   "metadata": {},
   "outputs": [
    {
     "name": "stdout",
     "output_type": "stream",
     "text": [
      "4-dimensional Lorentzian manifold M\n"
     ]
    }
   ],
   "source": [
    "M = Manifold(4, 'M', structure='Lorentzian')\n",
    "print(M)"
   ]
  },
  {
   "cell_type": "code",
   "execution_count": 5,
   "id": "7cf08b04",
   "metadata": {},
   "outputs": [
    {
     "data": {
      "text/html": [
       "<html><script type=\"math/tex; mode=display\">\\newcommand{\\Bold}[1]{\\mathbf{#1}}\\left(M,(t, r, {\\theta}, {\\phi})\\right)</script></html>"
      ],
      "text/latex": [
       "$$\\newcommand{\\Bold}[1]{\\mathbf{#1}}\\left(M,(t, r, {\\theta}, {\\phi})\\right)$$"
      ],
      "text/plain": [
       "Chart (M, (t, r, th, ph))"
      ]
     },
     "execution_count": 5,
     "metadata": {},
     "output_type": "execute_result"
    }
   ],
   "source": [
    "X.<t,r,th,ph> = M.chart(r't r:(0,+oo) th:(0,pi):\\theta ph:(0,2*pi):\\phi')\n",
    "X"
   ]
  },
  {
   "cell_type": "code",
   "execution_count": 6,
   "id": "0ea5029f",
   "metadata": {},
   "outputs": [
    {
     "data": {
      "text/html": [
       "<html><script type=\"math/tex; mode=display\">\\newcommand{\\Bold}[1]{\\mathbf{#1}}g = U\\left(r\\right) \\mathrm{d} t\\otimes \\mathrm{d} t + Z\\left(r, {\\theta}\\right) \\mathrm{d} t\\otimes \\mathrm{d} {\\phi} + V\\left(r\\right) \\mathrm{d} r\\otimes \\mathrm{d} r + X\\left(r\\right) \\mathrm{d} {\\theta}\\otimes \\mathrm{d} {\\theta} + Z\\left(r, {\\theta}\\right) \\mathrm{d} {\\phi}\\otimes \\mathrm{d} t + Y\\left(r, {\\theta}\\right) \\mathrm{d} {\\phi}\\otimes \\mathrm{d} {\\phi}</script></html>"
      ],
      "text/latex": [
       "$$\\newcommand{\\Bold}[1]{\\mathbf{#1}}g = U\\left(r\\right) \\mathrm{d} t\\otimes \\mathrm{d} t + Z\\left(r, {\\theta}\\right) \\mathrm{d} t\\otimes \\mathrm{d} {\\phi} + V\\left(r\\right) \\mathrm{d} r\\otimes \\mathrm{d} r + X\\left(r\\right) \\mathrm{d} {\\theta}\\otimes \\mathrm{d} {\\theta} + Z\\left(r, {\\theta}\\right) \\mathrm{d} {\\phi}\\otimes \\mathrm{d} t + Y\\left(r, {\\theta}\\right) \\mathrm{d} {\\phi}\\otimes \\mathrm{d} {\\phi}$$"
      ],
      "text/plain": [
       "g = U(r) dt⊗dt + Z(r, th) dt⊗dph + V(r) dr⊗dr + X(r) dth⊗dth + Z(r, th) dph⊗dt + Y(r, th) dph⊗dph"
      ]
     },
     "execution_count": 6,
     "metadata": {},
     "output_type": "execute_result"
    }
   ],
   "source": [
    "g = M.metric()\n",
    "U = function('U')\n",
    "V = function('V')\n",
    "X = function('X')\n",
    "Y = function('Y')\n",
    "Z = function('Z')\n",
    "g[0,0] = U(r)\n",
    "g[0,3] = Z(r,th) \n",
    "g[1,1] = V(r)\n",
    "g[2,2] = X(r)\n",
    "g[3,3] = Y(r,th)\n",
    "g[3,0] = Z(r,th) \n",
    "g.display()"
   ]
  },
  {
   "cell_type": "code",
   "execution_count": 7,
   "id": "2d35bda6",
   "metadata": {},
   "outputs": [
    {
     "data": {
      "text/html": [
       "<html><script type=\"math/tex; mode=display\">\\newcommand{\\Bold}[1]{\\mathbf{#1}}\\left(\\begin{array}{rrrr}\n",
       "U\\left(r\\right) & 0 & 0 & Z\\left(r, {\\theta}\\right) \\\\\n",
       "0 & V\\left(r\\right) & 0 & 0 \\\\\n",
       "0 & 0 & X\\left(r\\right) & 0 \\\\\n",
       "Z\\left(r, {\\theta}\\right) & 0 & 0 & Y\\left(r, {\\theta}\\right)\n",
       "\\end{array}\\right)</script></html>"
      ],
      "text/latex": [
       "$$\\newcommand{\\Bold}[1]{\\mathbf{#1}}\\left(\\begin{array}{rrrr}\n",
       "U\\left(r\\right) & 0 & 0 & Z\\left(r, {\\theta}\\right) \\\\\n",
       "0 & V\\left(r\\right) & 0 & 0 \\\\\n",
       "0 & 0 & X\\left(r\\right) & 0 \\\\\n",
       "Z\\left(r, {\\theta}\\right) & 0 & 0 & Y\\left(r, {\\theta}\\right)\n",
       "\\end{array}\\right)$$"
      ],
      "text/plain": [
       "[    U(r)        0        0 Z(r, th)]\n",
       "[       0     V(r)        0        0]\n",
       "[       0        0     X(r)        0]\n",
       "[Z(r, th)        0        0 Y(r, th)]"
      ]
     },
     "execution_count": 7,
     "metadata": {},
     "output_type": "execute_result"
    }
   ],
   "source": [
    "g[:]"
   ]
  },
  {
   "cell_type": "markdown",
   "id": "eeb9b56d",
   "metadata": {
    "tags": []
   },
   "source": [
    "# Define the functions U,V,X,Y,Z"
   ]
  },
  {
   "cell_type": "code",
   "execution_count": 8,
   "id": "f52afc49",
   "metadata": {},
   "outputs": [],
   "source": [
    "r_m, r_p, alpha = var('r_m r_p alpha')\n",
    "H=(r_m*r_p/(1+alpha**2))**(1/2)\n",
    "Psi(r) = (1-r_p/r)\n",
    "Phi(r) = (1-r_m/r)\n",
    "A(r)=-Psi(r)*Phi(r)**((1-alpha**2)/(1+alpha**2))\n",
    "B(r)=-A(r)**(-1)\n",
    "C(r)=r**2*Phi(r)**(2*alpha**2/(1+alpha**2))\n",
    "D(r,th)=sin(th)**2*C(r)\n",
    "f(r)=(r**2*(1+alpha**2)**2)*Phi(r)**(2*alpha**2/(1+alpha**2))/(((1-alpha**2)*(1-3*alpha**2)*r_m**2))-Phi(r)**((1-alpha**2)/(1+alpha**2))*(1+(1+alpha**2)**2*r**2/((1-alpha**2)*(1-3*alpha**2)*r_m**2)+(1+alpha**2)*r/((1-alpha**2)*r_m)-r_p/r)\n",
    "E(r,th)=0"
   ]
  },
  {
   "cell_type": "code",
   "execution_count": 9,
   "id": "ccba56ad",
   "metadata": {},
   "outputs": [
    {
     "data": {
      "text/html": [
       "<html><script type=\"math/tex; mode=display\">\\newcommand{\\Bold}[1]{\\mathbf{#1}}g = U\\left(r\\right) \\mathrm{d} t\\otimes \\mathrm{d} t + Z\\left(r, {\\theta}\\right) \\mathrm{d} t\\otimes \\mathrm{d} {\\phi} + V\\left(r\\right) \\mathrm{d} r\\otimes \\mathrm{d} r + X\\left(r\\right) \\mathrm{d} {\\theta}\\otimes \\mathrm{d} {\\theta} + Z\\left(r, {\\theta}\\right) \\mathrm{d} {\\phi}\\otimes \\mathrm{d} t + Y\\left(r, {\\theta}\\right) \\mathrm{d} {\\phi}\\otimes \\mathrm{d} {\\phi}</script></html>"
      ],
      "text/latex": [
       "$$\\newcommand{\\Bold}[1]{\\mathbf{#1}}g = U\\left(r\\right) \\mathrm{d} t\\otimes \\mathrm{d} t + Z\\left(r, {\\theta}\\right) \\mathrm{d} t\\otimes \\mathrm{d} {\\phi} + V\\left(r\\right) \\mathrm{d} r\\otimes \\mathrm{d} r + X\\left(r\\right) \\mathrm{d} {\\theta}\\otimes \\mathrm{d} {\\theta} + Z\\left(r, {\\theta}\\right) \\mathrm{d} {\\phi}\\otimes \\mathrm{d} t + Y\\left(r, {\\theta}\\right) \\mathrm{d} {\\phi}\\otimes \\mathrm{d} {\\phi}$$"
      ],
      "text/plain": [
       "g = U(r) dt⊗dt + Z(r, th) dt⊗dph + V(r) dr⊗dr + X(r) dth⊗dth + Z(r, th) dph⊗dt + Y(r, th) dph⊗dph"
      ]
     },
     "execution_count": 9,
     "metadata": {},
     "output_type": "execute_result"
    }
   ],
   "source": [
    "g.display()"
   ]
  },
  {
   "cell_type": "markdown",
   "id": "8b22c058",
   "metadata": {},
   "source": [
    "# The vector potential"
   ]
  },
  {
   "cell_type": "code",
   "execution_count": 10,
   "id": "2c502531",
   "metadata": {},
   "outputs": [],
   "source": [
    "nab = g.connection() "
   ]
  },
  {
   "cell_type": "code",
   "execution_count": 11,
   "id": "b17edc74",
   "metadata": {},
   "outputs": [
    {
     "data": {
      "text/html": [
       "<html><script type=\"math/tex; mode=display\">\\newcommand{\\Bold}[1]{\\mathbf{#1}}A = \\frac{Q}{r} \\mathrm{d} t</script></html>"
      ],
      "text/latex": [
       "$$\\newcommand{\\Bold}[1]{\\mathbf{#1}}A = \\frac{Q}{r} \\mathrm{d} t$$"
      ],
      "text/plain": [
       "A = Q/r dt"
      ]
     },
     "execution_count": 11,
     "metadata": {},
     "output_type": "execute_result"
    }
   ],
   "source": [
    "#we define here the potential vector field\n",
    "pot_vec = M.tensor_field(0,1,name='A')\n",
    "Q=var('Q')\n",
    "pot_vec[0]=Q/r\n",
    "pot_vec[1]=0\n",
    "pot_vec[2]=0\n",
    "pot_vec[3]=0\n",
    "pot_vec.display()"
   ]
  },
  {
   "cell_type": "markdown",
   "id": "c74d5385",
   "metadata": {},
   "source": [
    "# Definition of the EM tensor"
   ]
  },
  {
   "cell_type": "markdown",
   "id": "d473f707-fed7-434d-a89a-126fa3344070",
   "metadata": {},
   "source": [
    "Let's now define the EM tensor:\n",
    "\n",
    "$F_{\\mu\\nu}=\\partial_{\\mu}A_{\\nu}-\\partial_{\\nu}A_{\\mu}$\n",
    "\n",
    "First, let's define the covariante derivative $\\bigtriangledown_{i}A_{j}$ :"
   ]
  },
  {
   "cell_type": "code",
   "execution_count": 12,
   "id": "4c246ebc",
   "metadata": {},
   "outputs": [
    {
     "data": {
      "text/html": [
       "<html><script type=\"math/tex; mode=display\">\\newcommand{\\Bold}[1]{\\mathbf{#1}}\\nabla_{g} A</script></html>"
      ],
      "text/latex": [
       "$$\\newcommand{\\Bold}[1]{\\mathbf{#1}}\\nabla_{g} A$$"
      ],
      "text/plain": [
       "Tensor field nabla_g(A) of type (0,2) on the 4-dimensional Lorentzian manifold M"
      ]
     },
     "execution_count": 12,
     "metadata": {},
     "output_type": "execute_result"
    }
   ],
   "source": [
    "DF = nab(pot_vec) ; DF# be careful here the indexes are inversed"
   ]
  },
  {
   "cell_type": "code",
   "execution_count": 13,
   "id": "f785b6f5",
   "metadata": {},
   "outputs": [
    {
     "data": {
      "text/html": [
       "<html><script type=\"math/tex; mode=display\">\\newcommand{\\Bold}[1]{\\mathbf{#1}}-\\frac{Q}{r^{2}} \\mathrm{d} t\\otimes \\mathrm{d} r + \\frac{Q}{r^{2}} \\mathrm{d} r\\otimes \\mathrm{d} t</script></html>"
      ],
      "text/latex": [
       "$$\\newcommand{\\Bold}[1]{\\mathbf{#1}}-\\frac{Q}{r^{2}} \\mathrm{d} t\\otimes \\mathrm{d} r + \\frac{Q}{r^{2}} \\mathrm{d} r\\otimes \\mathrm{d} t$$"
      ],
      "text/plain": [
       "-Q/r^2 dt⊗dr + Q/r^2 dr⊗dt"
      ]
     },
     "execution_count": 13,
     "metadata": {},
     "output_type": "execute_result"
    }
   ],
   "source": [
    "F=(DF['_ij']-DF['_ji'])._tensor\n",
    "Fuu = F.up(g)\n",
    "F.display()"
   ]
  },
  {
   "cell_type": "markdown",
   "id": "3ce3182e-274a-4b78-9312-60d447ecd4eb",
   "metadata": {},
   "source": [
    "# Let's verify the equation $\\bigtriangledown_{\\mu}(e^{-2\\alpha\\Phi}F^{\\mu\\nu})=0$"
   ]
  },
  {
   "cell_type": "markdown",
   "id": "410eee7a",
   "metadata": {},
   "source": [
    "We define the scalar $\\Psi=e^{2\\alpha\\Phi}=\\left(1-\\frac{r_{-}}{r}\\right)^{\\frac{2\\alpha^{2}}{1+\\alpha^{2}}}$"
   ]
  },
  {
   "cell_type": "code",
   "execution_count": 14,
   "id": "fec592bb-733e-41fc-b857-3414e84c1bc4",
   "metadata": {},
   "outputs": [
    {
     "data": {
      "text/html": [
       "<html><script type=\"math/tex; mode=display\">\\newcommand{\\Bold}[1]{\\mathbf{#1}}\\begin{array}{llcl} Psi:& M & \\longrightarrow & \\mathbb{R} \\\\ & \\left(t, r, {\\theta}, {\\phi}\\right) & \\longmapsto & {\\left(-\\frac{r_{m}}{r} + 1\\right)}^{\\frac{2 \\, \\alpha^{2}}{\\alpha^{2} + 1}} \\end{array}</script></html>"
      ],
      "text/latex": [
       "$$\\newcommand{\\Bold}[1]{\\mathbf{#1}}\\begin{array}{llcl} Psi:& M & \\longrightarrow & \\mathbb{R} \\\\ & \\left(t, r, {\\theta}, {\\phi}\\right) & \\longmapsto & {\\left(-\\frac{r_{m}}{r} + 1\\right)}^{\\frac{2 \\, \\alpha^{2}}{\\alpha^{2} + 1}} \\end{array}$$"
      ],
      "text/plain": [
       "Psi: M → ℝ\n",
       "   (t, r, th, ph) ↦ (-r_m/r + 1)^(2*alpha^2/(alpha^2 + 1))"
      ]
     },
     "execution_count": 14,
     "metadata": {},
     "output_type": "execute_result"
    }
   ],
   "source": [
    "Psi = M.scalar_field((1-r_m/r)**(2*alpha**2/(1+alpha**2)), name='Psi') ; Psi.display()"
   ]
  },
  {
   "cell_type": "markdown",
   "id": "f9eb4a5c",
   "metadata": {},
   "source": [
    "We substitute the different function U,V,X,Y,Z and Q in the expression"
   ]
  },
  {
   "cell_type": "code",
   "execution_count": 15,
   "id": "a7c3382a-5812-4631-b7b4-d8931996036e",
   "metadata": {},
   "outputs": [
    {
     "data": {
      "text/html": [
       "<html><script type=\"math/tex; mode=display\">\\newcommand{\\Bold}[1]{\\mathbf{#1}}\\left(2, 0\\right)</script></html>"
      ],
      "text/latex": [
       "$$\\newcommand{\\Bold}[1]{\\mathbf{#1}}\\left(2, 0\\right)$$"
      ],
      "text/plain": [
       "(2, 0)"
      ]
     },
     "execution_count": 15,
     "metadata": {},
     "output_type": "execute_result"
    }
   ],
   "source": [
    "Fuu.apply_map(lambda f: f.substitute_function(Z,E))\n",
    "Fuu.apply_map(lambda f: f.substitute_function(U,A).substitute_function(V,B).substitute_function(X, C).substitute_function(Y, D).subs(Q=H))\n",
    "Fuu.tensor_type()"
   ]
  },
  {
   "cell_type": "markdown",
   "id": "e0caf5a3",
   "metadata": {},
   "source": [
    "We define the quantity $\\bigtriangledown_{\\mu}(e^{-2\\alpha\\Phi}F^{\\mu\\nu})$"
   ]
  },
  {
   "cell_type": "code",
   "execution_count": 16,
   "id": "ec93538d-34d9-4543-a1f7-c09645b68602",
   "metadata": {},
   "outputs": [],
   "source": [
    "eq3 = nab(Fuu/Psi)\n",
    "eq3.apply_map(lambda f: f.substitute_function(Z,E))\n",
    "eq3.apply_map(lambda f: f.substitute_function(U,A).substitute_function(V,B).substitute_function(X, C).substitute_function(Y, D).subs(Q=H))"
   ]
  },
  {
   "cell_type": "markdown",
   "id": "22478cae",
   "metadata": {},
   "source": [
    "We verify the epression is zero, i.e. the equation is verified"
   ]
  },
  {
   "cell_type": "code",
   "execution_count": 17,
   "id": "bd689148-0352-44c6-b796-b6e70a2890f1",
   "metadata": {},
   "outputs": [
    {
     "data": {
      "text/html": [
       "<html><script type=\"math/tex; mode=display\">\\newcommand{\\Bold}[1]{\\mathbf{#1}}\\left(1, 0\\right)</script></html>"
      ],
      "text/latex": [
       "$$\\newcommand{\\Bold}[1]{\\mathbf{#1}}\\left(1, 0\\right)$$"
      ],
      "text/plain": [
       "(1, 0)"
      ]
     },
     "execution_count": 17,
     "metadata": {},
     "output_type": "execute_result"
    }
   ],
   "source": [
    "eq3['^a._a'].tensor_type()"
   ]
  },
  {
   "cell_type": "code",
   "execution_count": 18,
   "id": "ac02210a-1315-4b46-ae24-c4b328238f74",
   "metadata": {},
   "outputs": [
    {
     "data": {
      "text/html": [
       "<html><script type=\"math/tex; mode=display\">\\newcommand{\\Bold}[1]{\\mathbf{#1}}0</script></html>"
      ],
      "text/latex": [
       "$$\\newcommand{\\Bold}[1]{\\mathbf{#1}}0$$"
      ],
      "text/plain": [
       "0"
      ]
     },
     "execution_count": 18,
     "metadata": {},
     "output_type": "execute_result"
    }
   ],
   "source": [
    "eq3['^a._a'].display()"
   ]
  },
  {
   "cell_type": "markdown",
   "id": "ad877516-74d2-4aa1-9240-cd513c126f6e",
   "metadata": {},
   "source": [
    "# Let's verify the equation equation $\\bigtriangledown^{2}\\Phi+\\frac{\\alpha}{2}e^{-2\\alpha\\Phi}F^{2}=0$ "
   ]
  },
  {
   "cell_type": "markdown",
   "id": "331ec2cc-d93e-4b32-bbb4-f84a6ad52a54",
   "metadata": {},
   "source": [
    "We define the first term $\\bigtriangledown^{2}(\\Phi)=\\bigtriangledown_{\\mu}\\bigtriangledown^{\\mu}\\Phi$. Note that the first operator is a gradient and the second is a covariant derivative. We then express the new scalar field $\\Phi=\\frac{\\ln{(\\Psi)}}{2\\alpha}=\\frac{\\alpha}{(1+\\alpha^{2})}\\ln{(1-\\frac{r_{m}}{r})}$"
   ]
  },
  {
   "cell_type": "code",
   "execution_count": 19,
   "id": "c14c94ce",
   "metadata": {},
   "outputs": [
    {
     "data": {
      "text/html": [
       "<html><script type=\"math/tex; mode=display\">\\newcommand{\\Bold}[1]{\\mathbf{#1}}\\begin{array}{llcl} Phi:& M & \\longrightarrow & \\mathbb{R} \\\\ & \\left(t, r, {\\theta}, {\\phi}\\right) & \\longmapsto & \\frac{\\alpha \\log\\left(-\\frac{r_{m}}{r} + 1\\right)}{\\alpha^{2} + 1} \\end{array}</script></html>"
      ],
      "text/latex": [
       "$$\\newcommand{\\Bold}[1]{\\mathbf{#1}}\\begin{array}{llcl} Phi:& M & \\longrightarrow & \\mathbb{R} \\\\ & \\left(t, r, {\\theta}, {\\phi}\\right) & \\longmapsto & \\frac{\\alpha \\log\\left(-\\frac{r_{m}}{r} + 1\\right)}{\\alpha^{2} + 1} \\end{array}$$"
      ],
      "text/plain": [
       "Phi: M → ℝ\n",
       "   (t, r, th, ph) ↦ alpha*log(-r_m/r + 1)/(alpha^2 + 1)"
      ]
     },
     "execution_count": 19,
     "metadata": {},
     "output_type": "execute_result"
    }
   ],
   "source": [
    "Phi = M.scalar_field((alpha/(1+alpha**2))*ln((1-r_m/r)), name='Phi') ; Phi.display()"
   ]
  },
  {
   "cell_type": "markdown",
   "id": "6b51ac8b",
   "metadata": {},
   "source": [
    "We replace the different functions U,V,X,Y,Z and Q"
   ]
  },
  {
   "cell_type": "code",
   "execution_count": 20,
   "id": "06cc47eb-42e2-43fd-a4d4-3309cb8dcd34",
   "metadata": {},
   "outputs": [],
   "source": [
    "Gp = grad(Phi)\n",
    "nab_s = nab(Gp)['_k^k'] \n",
    "nab_s_exp = nab_s.expr().substitute_function(U,A).substitute_function(V,B).substitute_function(X,C).substitute_function(Y,D).substitute_function(Z,E).subs(Q=H)\n",
    "nab_s_exp = factor(nab_s_exp, 1/((alpha**2+1)*r**4))"
   ]
  },
  {
   "cell_type": "markdown",
   "id": "f14a4b58",
   "metadata": {},
   "source": [
    "## The electromagnetic invariant $F^{2}$"
   ]
  },
  {
   "cell_type": "markdown",
   "id": "307f6f89",
   "metadata": {},
   "source": [
    "Let's first replace the different functions U,V,X,Y,Z and Q"
   ]
  },
  {
   "cell_type": "code",
   "execution_count": 21,
   "id": "ff3d5f20-1318-4633-a65c-16b6eeaac3f4",
   "metadata": {},
   "outputs": [],
   "source": [
    "Fuu = F.up(g)\n",
    "F2 = F['_ab']*Fuu['^ab']\n",
    "F2_exp = ((alpha/2)*F2/Psi).expr().substitute_function(U,A).substitute_function(V,B).substitute_function(X,C).substitute_function(Y,D).substitute_function(Z,E).subs(Q=H)"
   ]
  },
  {
   "cell_type": "markdown",
   "id": "6b58866f",
   "metadata": {},
   "source": [
    "We now build up the equation"
   ]
  },
  {
   "cell_type": "code",
   "execution_count": 22,
   "id": "41b5a080-e04e-488d-9a59-df24ba0bc051",
   "metadata": {},
   "outputs": [
    {
     "data": {
      "text/html": [
       "<html><script type=\"math/tex; mode=display\">\\newcommand{\\Bold}[1]{\\mathbf{#1}}\\frac{\\alpha r_{m} r_{p} \\left(\\frac{r - r_{m}}{r}\\right)^{-\\frac{\\alpha^{2}}{\\alpha^{2} + 1} + \\frac{1}{\\alpha^{2} + 1}}}{{\\left(\\alpha^{2} + 1\\right)} {\\left(r - r_{m}\\right)} r^{3}} - \\frac{\\alpha r^{\\frac{2 \\, \\alpha^{2}}{\\alpha^{2} + 1}} r_{m} r_{p}}{{\\left(\\alpha^{2} + 1\\right)} {\\left(r - r_{m}\\right)}^{\\frac{2 \\, \\alpha^{2}}{\\alpha^{2} + 1}} r^{4}}</script></html>"
      ],
      "text/latex": [
       "$$\\newcommand{\\Bold}[1]{\\mathbf{#1}}\\frac{\\alpha r_{m} r_{p} \\left(\\frac{r - r_{m}}{r}\\right)^{-\\frac{\\alpha^{2}}{\\alpha^{2} + 1} + \\frac{1}{\\alpha^{2} + 1}}}{{\\left(\\alpha^{2} + 1\\right)} {\\left(r - r_{m}\\right)} r^{3}} - \\frac{\\alpha r^{\\frac{2 \\, \\alpha^{2}}{\\alpha^{2} + 1}} r_{m} r_{p}}{{\\left(\\alpha^{2} + 1\\right)} {\\left(r - r_{m}\\right)}^{\\frac{2 \\, \\alpha^{2}}{\\alpha^{2} + 1}} r^{4}}$$"
      ],
      "text/plain": [
       "alpha*r_m*r_p*((r - r_m)/r)^(-alpha^2/(alpha^2 + 1) + 1/(alpha^2 + 1))/((alpha^2 + 1)*(r - r_m)*r^3) - alpha*r^(2*alpha^2/(alpha^2 + 1))*r_m*r_p/((alpha^2 + 1)*(r - r_m)^(2*alpha^2/(alpha^2 + 1))*r^4)"
      ]
     },
     "execution_count": 22,
     "metadata": {},
     "output_type": "execute_result"
    }
   ],
   "source": [
    "eq4_r = nab_s_exp + F2_exp\n",
    "eq4_r"
   ]
  },
  {
   "cell_type": "markdown",
   "id": "021a8139",
   "metadata": {},
   "source": [
    "Let's test if the equation is zero"
   ]
  },
  {
   "cell_type": "code",
   "execution_count": 23,
   "id": "132ba4e7",
   "metadata": {},
   "outputs": [
    {
     "data": {
      "text/html": [
       "<html><script type=\"math/tex; mode=display\">\\newcommand{\\Bold}[1]{\\mathbf{#1}}\\mathrm{False}</script></html>"
      ],
      "text/latex": [
       "$$\\newcommand{\\Bold}[1]{\\mathbf{#1}}\\mathrm{False}$$"
      ],
      "text/plain": [
       "False"
      ]
     },
     "execution_count": 23,
     "metadata": {},
     "output_type": "execute_result"
    }
   ],
   "source": [
    "eq4_r.is_zero()"
   ]
  },
  {
   "cell_type": "markdown",
   "id": "c72bd2b1",
   "metadata": {},
   "source": [
    "Sage does not detect that this symbolic expression equals zero; however, if we do the maths by hand, it becomes evident that the two terms in this equation are indeed equal:\n",
    "\n",
    "$\\frac{\\alpha r_{m} r_{p} \\left(\\frac{r - r_{m}}{r}\\right)^{-\\frac{\\alpha^{2}}{\\alpha^{2} + 1} + \\frac{1}{\\alpha^{2} + 1}}}{{\\left(\\alpha^{2} + 1\\right)} {\\left(r - r_{m}\\right)} r^{3}} = \\frac{\\alpha r_{m} r_{p} \\left(r - r_{m}\\right)^{\\frac{1-\\alpha^{2}}{\\alpha^{2} + 1}}r^{\\frac{\\alpha^{2}-1}{\\alpha^{2} + 1}}}{{\\left(\\alpha^{2} + 1\\right)} {\\left(r - r_{m}\\right)} r^{3}}= \\frac{\\alpha r_{m} r_{p} r^{\\frac{\\alpha^{2}-1}{\\alpha^{2} + 1}}}{{\\left(\\alpha^{2} + 1\\right)} {\\left(r - r_{m}\\right)^{\\frac{1+\\alpha^{2}}{1+\\alpha^{2}}-\\frac{1-\\alpha^{2}}{\\alpha^{2} + 1}}} r^{3}} = \\frac{\\alpha r_{m} r_{p} r^{\\frac{\\alpha^{2}-1}{\\alpha^{2} + 1}+\\frac{1+\\alpha^{2}}{1+\\alpha^{2}}}}{{\\left(\\alpha^{2} + 1\\right)} {\\left(r - r_{m}\\right)^{\\frac{2\\alpha^{2}}{1+\\alpha^{2}}}} r^{4}} = \\frac{\\alpha r^{\\frac{2 \\, \\alpha^{2}}{\\alpha^{2} + 1}} r_{m} r_{p}}{{\\left(\\alpha^{2} + 1\\right)} {\\left(r - r_{m}\\right)}^{\\frac{2 \\, \\alpha^{2}}{\\alpha^{2} + 1}} r^{4}}$      \n",
    "\n",
    "$\\Rightarrow$    eq4_r$=0$ !!!"
   ]
  },
  {
   "cell_type": "markdown",
   "id": "f300aeb3-10d4-402a-92ff-65c86d747f3b",
   "metadata": {},
   "source": [
    "# Let's verify now the main motion equation $R_{\\mu\\nu}=2\\triangledown_{\\mu}\\Phi\\triangledown_{\\nu}\\Phi+\\frac{T_{\\mu\\nu}}{\\Psi}$"
   ]
  },
  {
   "cell_type": "markdown",
   "id": "e0973f72",
   "metadata": {},
   "source": [
    "Where $\\Psi=e^{2\\alpha\\Phi}=\\left(1-\\frac{r_{-}}{r}\\right)^{\\frac{2\\alpha^{2}}{1+\\alpha^{2}}}$, $\\Phi=\\frac{\\ln{(\\Psi)}}{2\\alpha}$ and $T_{\\mu\\nu}=2\\left(F_{\\rho\\mu}F^{\\rho}_{\\ \\nu} - \\frac{1}{4}g_{\\mu\\nu}F^{2}\\right) $ "
   ]
  },
  {
   "cell_type": "markdown",
   "id": "9c8450db",
   "metadata": {},
   "source": [
    "## The stress-energy tensor $T_{\\mu\\nu}$"
   ]
  },
  {
   "cell_type": "markdown",
   "id": "ec24b14c",
   "metadata": {},
   "source": [
    "Let's first define $2\\left(F_{\\rho\\mu}F^{\\rho}_{\\hspace{0.2cm}\\nu}-\\frac{1}{4}g_{\\mu\\nu}F^{2}\\right)$"
   ]
  },
  {
   "cell_type": "code",
   "execution_count": 24,
   "id": "4195a2fb",
   "metadata": {},
   "outputs": [
    {
     "data": {
      "text/html": [
       "<html><script type=\"math/tex; mode=display\">\\newcommand{\\Bold}[1]{\\mathbf{#1}}\\left( \\frac{Q^{2} U\\left(r\\right) Y\\left(r, {\\theta}\\right) - 2 \\, Q^{2} Z\\left(r, {\\theta}\\right)^{2}}{r^{4} U\\left(r\\right) V\\left(r\\right) Y\\left(r, {\\theta}\\right) - r^{4} V\\left(r\\right) Z\\left(r, {\\theta}\\right)^{2}} \\right) \\mathrm{d} t\\otimes \\mathrm{d} t + \\left( -\\frac{Q^{2} Y\\left(r, {\\theta}\\right) Z\\left(r, {\\theta}\\right)}{r^{4} U\\left(r\\right) V\\left(r\\right) Y\\left(r, {\\theta}\\right) - r^{4} V\\left(r\\right) Z\\left(r, {\\theta}\\right)^{2}} \\right) \\mathrm{d} t\\otimes \\mathrm{d} {\\phi} + \\left( \\frac{Q^{2} Y\\left(r, {\\theta}\\right)}{r^{4} U\\left(r\\right) Y\\left(r, {\\theta}\\right) - r^{4} Z\\left(r, {\\theta}\\right)^{2}} \\right) \\mathrm{d} r\\otimes \\mathrm{d} r + \\left( -\\frac{Q^{2} X\\left(r\\right) Y\\left(r, {\\theta}\\right)}{r^{4} U\\left(r\\right) V\\left(r\\right) Y\\left(r, {\\theta}\\right) - r^{4} V\\left(r\\right) Z\\left(r, {\\theta}\\right)^{2}} \\right) \\mathrm{d} {\\theta}\\otimes \\mathrm{d} {\\theta} + \\left( -\\frac{Q^{2} Y\\left(r, {\\theta}\\right) Z\\left(r, {\\theta}\\right)}{r^{4} U\\left(r\\right) V\\left(r\\right) Y\\left(r, {\\theta}\\right) - r^{4} V\\left(r\\right) Z\\left(r, {\\theta}\\right)^{2}} \\right) \\mathrm{d} {\\phi}\\otimes \\mathrm{d} t + \\left( -\\frac{Q^{2} Y\\left(r, {\\theta}\\right)^{2}}{r^{4} U\\left(r\\right) V\\left(r\\right) Y\\left(r, {\\theta}\\right) - r^{4} V\\left(r\\right) Z\\left(r, {\\theta}\\right)^{2}} \\right) \\mathrm{d} {\\phi}\\otimes \\mathrm{d} {\\phi}</script></html>"
      ],
      "text/latex": [
       "$$\\newcommand{\\Bold}[1]{\\mathbf{#1}}\\left( \\frac{Q^{2} U\\left(r\\right) Y\\left(r, {\\theta}\\right) - 2 \\, Q^{2} Z\\left(r, {\\theta}\\right)^{2}}{r^{4} U\\left(r\\right) V\\left(r\\right) Y\\left(r, {\\theta}\\right) - r^{4} V\\left(r\\right) Z\\left(r, {\\theta}\\right)^{2}} \\right) \\mathrm{d} t\\otimes \\mathrm{d} t + \\left( -\\frac{Q^{2} Y\\left(r, {\\theta}\\right) Z\\left(r, {\\theta}\\right)}{r^{4} U\\left(r\\right) V\\left(r\\right) Y\\left(r, {\\theta}\\right) - r^{4} V\\left(r\\right) Z\\left(r, {\\theta}\\right)^{2}} \\right) \\mathrm{d} t\\otimes \\mathrm{d} {\\phi} + \\left( \\frac{Q^{2} Y\\left(r, {\\theta}\\right)}{r^{4} U\\left(r\\right) Y\\left(r, {\\theta}\\right) - r^{4} Z\\left(r, {\\theta}\\right)^{2}} \\right) \\mathrm{d} r\\otimes \\mathrm{d} r + \\left( -\\frac{Q^{2} X\\left(r\\right) Y\\left(r, {\\theta}\\right)}{r^{4} U\\left(r\\right) V\\left(r\\right) Y\\left(r, {\\theta}\\right) - r^{4} V\\left(r\\right) Z\\left(r, {\\theta}\\right)^{2}} \\right) \\mathrm{d} {\\theta}\\otimes \\mathrm{d} {\\theta} + \\left( -\\frac{Q^{2} Y\\left(r, {\\theta}\\right) Z\\left(r, {\\theta}\\right)}{r^{4} U\\left(r\\right) V\\left(r\\right) Y\\left(r, {\\theta}\\right) - r^{4} V\\left(r\\right) Z\\left(r, {\\theta}\\right)^{2}} \\right) \\mathrm{d} {\\phi}\\otimes \\mathrm{d} t + \\left( -\\frac{Q^{2} Y\\left(r, {\\theta}\\right)^{2}}{r^{4} U\\left(r\\right) V\\left(r\\right) Y\\left(r, {\\theta}\\right) - r^{4} V\\left(r\\right) Z\\left(r, {\\theta}\\right)^{2}} \\right) \\mathrm{d} {\\phi}\\otimes \\mathrm{d} {\\phi}$$"
      ],
      "text/plain": [
       "(Q^2*U(r)*Y(r, th) - 2*Q^2*Z(r, th)^2)/(r^4*U(r)*V(r)*Y(r, th) - r^4*V(r)*Z(r, th)^2) dt⊗dt - Q^2*Y(r, th)*Z(r, th)/(r^4*U(r)*V(r)*Y(r, th) - r^4*V(r)*Z(r, th)^2) dt⊗dph + Q^2*Y(r, th)/(r^4*U(r)*Y(r, th) - r^4*Z(r, th)^2) dr⊗dr - Q^2*X(r)*Y(r, th)/(r^4*U(r)*V(r)*Y(r, th) - r^4*V(r)*Z(r, th)^2) dth⊗dth - Q^2*Y(r, th)*Z(r, th)/(r^4*U(r)*V(r)*Y(r, th) - r^4*V(r)*Z(r, th)^2) dph⊗dt - Q^2*Y(r, th)^2/(r^4*U(r)*V(r)*Y(r, th) - r^4*V(r)*Z(r, th)^2) dph⊗dph"
      ]
     },
     "execution_count": 24,
     "metadata": {},
     "output_type": "execute_result"
    }
   ],
   "source": [
    "Fud = F.up(g,0)\n",
    "T = 2*(F['_k.']*Fud['^k_.'] - 1/4*F2*g)\n",
    "T.display()"
   ]
  },
  {
   "cell_type": "markdown",
   "id": "dad71db9",
   "metadata": {},
   "source": [
    "Note that if we express the scalar fiel as $\\Psi=e^{2\\alpha\\Phi}=\\left(1-\\frac{r_{-}}{r}\\right)^{\\frac{2\\alpha^{2}}{1+\\alpha^{2}}}$ then $\\frac{T}{\\Psi}=2e^{-2\\alpha\\Phi}\\left(F_{\\rho\\mu}F^{\\rho}_{\\hspace{0.2cm}\\nu}-\\frac{1}{4}g_{\\mu\\nu}F^{2}\\right)=2\\left(1-\\frac{r_{-}}{r}\\right)^{\\frac{-2\\alpha^{2}}{1+\\alpha^{2}}}\\left(F_{\\rho\\mu}F^{\\rho}_{\\hspace{0.2cm}\\nu}-\\frac{1}{4}g_{\\mu\\nu}F^{2}\\right)$ so for $\\frac{T}{\\Psi}$"
   ]
  },
  {
   "cell_type": "code",
   "execution_count": 25,
   "id": "14a02b4c",
   "metadata": {},
   "outputs": [
    {
     "data": {
      "text/html": [
       "<html><script type=\"math/tex; mode=display\">\\newcommand{\\Bold}[1]{\\mathbf{#1}}\\left(\\begin{array}{rrrr}\n",
       "-\\frac{r^{\\frac{2 \\, \\alpha^{2}}{\\alpha^{2} + 1}} r_{m} r_{p} {\\left(\\frac{r_{p}}{r} - 1\\right)}}{{\\left(\\alpha^{2} + 1\\right)} {\\left(r - r_{m}\\right)}^{\\frac{2 \\, \\alpha^{2}}{\\alpha^{2} + 1}} r^{4} {\\left(-\\frac{r_{m}}{r} + 1\\right)}^{\\frac{\\alpha^{2} - 1}{\\alpha^{2} + 1}}} & 0 & 0 & 0 \\\\\n",
       "0 & \\frac{r^{\\frac{2 \\, \\alpha^{2}}{\\alpha^{2} + 1}} r_{m} r_{p} {\\left(-\\frac{r_{m}}{r} + 1\\right)}^{\\frac{\\alpha^{2} - 1}{\\alpha^{2} + 1}}}{{\\left(\\alpha^{2} + 1\\right)} {\\left(r - r_{m}\\right)}^{\\frac{2 \\, \\alpha^{2}}{\\alpha^{2} + 1}} r^{4} {\\left(\\frac{r_{p}}{r} - 1\\right)}} & 0 & 0 \\\\\n",
       "0 & 0 & \\frac{r^{\\frac{2 \\, \\alpha^{2}}{\\alpha^{2} + 1}} r_{m} r_{p} {\\left(-\\frac{r_{m}}{r} + 1\\right)}^{\\frac{4 \\, \\alpha^{2}}{\\alpha^{2} + 1}}}{{\\left(\\alpha^{2} + 1\\right)} {\\left(r - r_{m}\\right)}^{\\frac{2 \\, \\alpha^{2}}{\\alpha^{2} + 1}} r^{2} {\\left(-\\frac{r_{m}}{r} + 1\\right)}^{\\frac{2 \\, \\alpha^{2}}{\\alpha^{2} + 1}}} & 0 \\\\\n",
       "0 & 0 & 0 & \\frac{r^{\\frac{2 \\, \\alpha^{2}}{\\alpha^{2} + 1}} r_{m} r_{p} {\\left(-\\frac{r_{m}}{r} + 1\\right)}^{\\frac{4 \\, \\alpha^{2}}{\\alpha^{2} + 1}} \\sin\\left({\\theta}\\right)^{2}}{{\\left(\\alpha^{2} + 1\\right)} {\\left(r - r_{m}\\right)}^{\\frac{2 \\, \\alpha^{2}}{\\alpha^{2} + 1}} r^{2} {\\left(-\\frac{r_{m}}{r} + 1\\right)}^{\\frac{2 \\, \\alpha^{2}}{\\alpha^{2} + 1}}}\n",
       "\\end{array}\\right)</script></html>"
      ],
      "text/latex": [
       "$$\\newcommand{\\Bold}[1]{\\mathbf{#1}}\\left(\\begin{array}{rrrr}\n",
       "-\\frac{r^{\\frac{2 \\, \\alpha^{2}}{\\alpha^{2} + 1}} r_{m} r_{p} {\\left(\\frac{r_{p}}{r} - 1\\right)}}{{\\left(\\alpha^{2} + 1\\right)} {\\left(r - r_{m}\\right)}^{\\frac{2 \\, \\alpha^{2}}{\\alpha^{2} + 1}} r^{4} {\\left(-\\frac{r_{m}}{r} + 1\\right)}^{\\frac{\\alpha^{2} - 1}{\\alpha^{2} + 1}}} & 0 & 0 & 0 \\\\\n",
       "0 & \\frac{r^{\\frac{2 \\, \\alpha^{2}}{\\alpha^{2} + 1}} r_{m} r_{p} {\\left(-\\frac{r_{m}}{r} + 1\\right)}^{\\frac{\\alpha^{2} - 1}{\\alpha^{2} + 1}}}{{\\left(\\alpha^{2} + 1\\right)} {\\left(r - r_{m}\\right)}^{\\frac{2 \\, \\alpha^{2}}{\\alpha^{2} + 1}} r^{4} {\\left(\\frac{r_{p}}{r} - 1\\right)}} & 0 & 0 \\\\\n",
       "0 & 0 & \\frac{r^{\\frac{2 \\, \\alpha^{2}}{\\alpha^{2} + 1}} r_{m} r_{p} {\\left(-\\frac{r_{m}}{r} + 1\\right)}^{\\frac{4 \\, \\alpha^{2}}{\\alpha^{2} + 1}}}{{\\left(\\alpha^{2} + 1\\right)} {\\left(r - r_{m}\\right)}^{\\frac{2 \\, \\alpha^{2}}{\\alpha^{2} + 1}} r^{2} {\\left(-\\frac{r_{m}}{r} + 1\\right)}^{\\frac{2 \\, \\alpha^{2}}{\\alpha^{2} + 1}}} & 0 \\\\\n",
       "0 & 0 & 0 & \\frac{r^{\\frac{2 \\, \\alpha^{2}}{\\alpha^{2} + 1}} r_{m} r_{p} {\\left(-\\frac{r_{m}}{r} + 1\\right)}^{\\frac{4 \\, \\alpha^{2}}{\\alpha^{2} + 1}} \\sin\\left({\\theta}\\right)^{2}}{{\\left(\\alpha^{2} + 1\\right)} {\\left(r - r_{m}\\right)}^{\\frac{2 \\, \\alpha^{2}}{\\alpha^{2} + 1}} r^{2} {\\left(-\\frac{r_{m}}{r} + 1\\right)}^{\\frac{2 \\, \\alpha^{2}}{\\alpha^{2} + 1}}}\n",
       "\\end{array}\\right)$$"
      ],
      "text/plain": [
       "[                                -r^(2*alpha^2/(alpha^2 + 1))*r_m*r_p*(r_p/r - 1)/((alpha^2 + 1)*(r - r_m)^(2*alpha^2/(alpha^2 + 1))*r^4*(-r_m/r + 1)^((alpha^2 - 1)/(alpha^2 + 1)))                                                                                                                                                                                   0                                                                                                                                                                                   0                                                                                                                                                                                   0]\n",
       "[                                                                                                                                                                                  0                                  r^(2*alpha^2/(alpha^2 + 1))*r_m*r_p*(-r_m/r + 1)^((alpha^2 - 1)/(alpha^2 + 1))/((alpha^2 + 1)*(r - r_m)^(2*alpha^2/(alpha^2 + 1))*r^4*(r_p/r - 1))                                                                                                                                                                                   0                                                                                                                                                                                   0]\n",
       "[                                                                                                                                                                                  0                                                                                                                                                                                   0           r^(2*alpha^2/(alpha^2 + 1))*r_m*r_p*(-r_m/r + 1)^(4*alpha^2/(alpha^2 + 1))/((alpha^2 + 1)*(r - r_m)^(2*alpha^2/(alpha^2 + 1))*r^2*(-r_m/r + 1)^(2*alpha^2/(alpha^2 + 1)))                                                                                                                                                                                   0]\n",
       "[                                                                                                                                                                                  0                                                                                                                                                                                   0                                                                                                                                                                                   0 r^(2*alpha^2/(alpha^2 + 1))*r_m*r_p*(-r_m/r + 1)^(4*alpha^2/(alpha^2 + 1))*sin(th)^2/((alpha^2 + 1)*(r - r_m)^(2*alpha^2/(alpha^2 + 1))*r^2*(-r_m/r + 1)^(2*alpha^2/(alpha^2 + 1)))]"
      ]
     },
     "execution_count": 25,
     "metadata": {},
     "output_type": "execute_result"
    }
   ],
   "source": [
    "UU=T/Psi\n",
    "UU.apply_map(lambda f: f.substitute_function(U,A).substitute_function(V,B).substitute_function(X, C).substitute_function(Y, D).substitute_function(Z,E).subs(Q=H))\n",
    "UU[:]"
   ]
  },
  {
   "cell_type": "markdown",
   "id": "e6636164",
   "metadata": {},
   "source": [
    "# The derivative of the scalar field $2\\triangledown_{\\mu}\\Phi\\triangledown_{\\nu}\\Phi$"
   ]
  },
  {
   "cell_type": "code",
   "execution_count": 28,
   "id": "0179a831",
   "metadata": {},
   "outputs": [
    {
     "data": {
      "text/html": [
       "<html><script type=\"math/tex; mode=display\">\\newcommand{\\Bold}[1]{\\mathbf{#1}}\\left(0, 1\\right)</script></html>"
      ],
      "text/latex": [
       "$$\\newcommand{\\Bold}[1]{\\mathbf{#1}}\\left(0, 1\\right)$$"
      ],
      "text/plain": [
       "(0, 1)"
      ]
     },
     "execution_count": 28,
     "metadata": {},
     "output_type": "execute_result"
    }
   ],
   "source": [
    "Gp = nab(Phi); Gp.tensor_type()"
   ]
  },
  {
   "cell_type": "markdown",
   "id": "a3d30968",
   "metadata": {},
   "source": [
    "We now construct the product of derivative of Phi"
   ]
  },
  {
   "cell_type": "code",
   "execution_count": 30,
   "id": "c67dd495",
   "metadata": {},
   "outputs": [
    {
     "data": {
      "text/html": [
       "<html><script type=\"math/tex; mode=display\">\\newcommand{\\Bold}[1]{\\mathbf{#1}}\\left(\\begin{array}{rrrr}\n",
       "0 & 0 & 0 & 0 \\\\\n",
       "0 & \\frac{2 \\, \\alpha^{2} r_{m}^{2}}{{\\left(\\alpha^{2} + 1\\right)}^{2} {\\left(r - r_{m}\\right)}^{2} r^{2}} & 0 & 0 \\\\\n",
       "0 & 0 & 0 & 0 \\\\\n",
       "0 & 0 & 0 & 0\n",
       "\\end{array}\\right)</script></html>"
      ],
      "text/latex": [
       "$$\\newcommand{\\Bold}[1]{\\mathbf{#1}}\\left(\\begin{array}{rrrr}\n",
       "0 & 0 & 0 & 0 \\\\\n",
       "0 & \\frac{2 \\, \\alpha^{2} r_{m}^{2}}{{\\left(\\alpha^{2} + 1\\right)}^{2} {\\left(r - r_{m}\\right)}^{2} r^{2}} & 0 & 0 \\\\\n",
       "0 & 0 & 0 & 0 \\\\\n",
       "0 & 0 & 0 & 0\n",
       "\\end{array}\\right)$$"
      ],
      "text/plain": [
       "[                                                0                                                 0                                                 0                                                 0]\n",
       "[                                                0 2*alpha^2*r_m^2/((alpha^2 + 1)^2*(r - r_m)^2*r^2)                                                 0                                                 0]\n",
       "[                                                0                                                 0                                                 0                                                 0]\n",
       "[                                                0                                                 0                                                 0                                                 0]"
      ]
     },
     "execution_count": 30,
     "metadata": {},
     "output_type": "execute_result"
    }
   ],
   "source": [
    "nab_phi = nab(Phi)\n",
    "S = 2*nab_phi['_a']*nab_phi['_b']\n",
    "S.apply_map(lambda f: factor(f,1/(alpha**2+1)))\n",
    "S[:]"
   ]
  },
  {
   "cell_type": "markdown",
   "id": "c5af666f",
   "metadata": {},
   "source": [
    "$\\frac{\\partial\\left(\\frac{\\alpha\\ln\\left(1-\\frac{r_{-}}{r}\\right)}{\\alpha^{2}+1}\\right)}{\\partial x^{\\mu}}=\\frac{\\partial\\left(\\frac{\\alpha\\ln\\left(1-\\frac{r_{-}}{r}\\right)}{\\alpha^{2}+1}\\right)}{\\partial r}=\\frac{\\alpha}{\\alpha^{2}+1}\\frac{1}{1-\\frac{r_{-}}{r}}\\frac{r_{-}}{r^{2}}\\Rightarrow \\bigtriangledown_{\\mu}\\Phi\\bigtriangledown_{\\nu}\\Phi = (\\partial_{r}\\Phi)^{2}=\\frac{\\alpha^{2}r_{-}^{2}}{(\\alpha^{2}+1)^{2}(r-r_{-})^{2}r^{2}}$"
   ]
  },
  {
   "cell_type": "markdown",
   "id": "1f10c380-7ab8-4384-b7bd-a6456cf47a14",
   "metadata": {},
   "source": [
    "# The right hand side of the equation $2\\triangledown_{\\mu}\\Phi\\triangledown_{\\nu}\\Phi+\\frac{T_{\\mu\\nu}}{\\Psi}$"
   ]
  },
  {
   "cell_type": "code",
   "execution_count": 31,
   "id": "9ad7023c-d514-4c7d-a021-bd5e978aa1ca",
   "metadata": {},
   "outputs": [
    {
     "data": {
      "text/html": [
       "<html><script type=\"math/tex; mode=display\">\\newcommand{\\Bold}[1]{\\mathbf{#1}}\\left(\\begin{array}{rrrr}\n",
       "\\frac{{\\left(r - r_{p}\\right)} r^{\\frac{2 \\, \\alpha^{2}}{\\alpha^{2} + 1} - 5} r_{m} r_{p} \\left(\\frac{r - r_{m}}{r}\\right)^{-\\frac{\\alpha^{2}}{\\alpha^{2} + 1} + \\frac{1}{\\alpha^{2} + 1}}}{{\\left(\\alpha^{2} + 1\\right)} {\\left(r - r_{m}\\right)}^{\\frac{2 \\, \\alpha^{2}}{\\alpha^{2} + 1}}} & 0 & 0 & 0 \\\\\n",
       "0 & \\frac{{\\left(2 \\, \\alpha^{2} r r_{m} - \\alpha^{2} r r_{p} - \\alpha^{2} r_{m} r_{p} - r r_{p} + r_{m} r_{p}\\right)} r_{m}}{{\\left(\\alpha^{2} + 1\\right)}^{2} {\\left(r - r_{m}\\right)}^{2} {\\left(r - r_{p}\\right)} r^{2}} & 0 & 0 \\\\\n",
       "0 & 0 & \\frac{r^{\\frac{2 \\, \\alpha^{2}}{\\alpha^{2} + 1} - 2} r_{m} r_{p} \\left(\\frac{r - r_{m}}{r}\\right)^{\\frac{2 \\, \\alpha^{2}}{\\alpha^{2} + 1}}}{{\\left(\\alpha^{2} + 1\\right)} {\\left(r - r_{m}\\right)}^{\\frac{2 \\, \\alpha^{2}}{\\alpha^{2} + 1}}} & 0 \\\\\n",
       "0 & 0 & 0 & \\frac{r^{\\frac{2 \\, \\alpha^{2}}{\\alpha^{2} + 1} - 2} r_{m} r_{p} \\left(\\frac{r - r_{m}}{r}\\right)^{\\frac{2 \\, \\alpha^{2}}{\\alpha^{2} + 1}} \\sin\\left({\\theta}\\right)^{2}}{{\\left(\\alpha^{2} + 1\\right)} {\\left(r - r_{m}\\right)}^{\\frac{2 \\, \\alpha^{2}}{\\alpha^{2} + 1}}}\n",
       "\\end{array}\\right)</script></html>"
      ],
      "text/latex": [
       "$$\\newcommand{\\Bold}[1]{\\mathbf{#1}}\\left(\\begin{array}{rrrr}\n",
       "\\frac{{\\left(r - r_{p}\\right)} r^{\\frac{2 \\, \\alpha^{2}}{\\alpha^{2} + 1} - 5} r_{m} r_{p} \\left(\\frac{r - r_{m}}{r}\\right)^{-\\frac{\\alpha^{2}}{\\alpha^{2} + 1} + \\frac{1}{\\alpha^{2} + 1}}}{{\\left(\\alpha^{2} + 1\\right)} {\\left(r - r_{m}\\right)}^{\\frac{2 \\, \\alpha^{2}}{\\alpha^{2} + 1}}} & 0 & 0 & 0 \\\\\n",
       "0 & \\frac{{\\left(2 \\, \\alpha^{2} r r_{m} - \\alpha^{2} r r_{p} - \\alpha^{2} r_{m} r_{p} - r r_{p} + r_{m} r_{p}\\right)} r_{m}}{{\\left(\\alpha^{2} + 1\\right)}^{2} {\\left(r - r_{m}\\right)}^{2} {\\left(r - r_{p}\\right)} r^{2}} & 0 & 0 \\\\\n",
       "0 & 0 & \\frac{r^{\\frac{2 \\, \\alpha^{2}}{\\alpha^{2} + 1} - 2} r_{m} r_{p} \\left(\\frac{r - r_{m}}{r}\\right)^{\\frac{2 \\, \\alpha^{2}}{\\alpha^{2} + 1}}}{{\\left(\\alpha^{2} + 1\\right)} {\\left(r - r_{m}\\right)}^{\\frac{2 \\, \\alpha^{2}}{\\alpha^{2} + 1}}} & 0 \\\\\n",
       "0 & 0 & 0 & \\frac{r^{\\frac{2 \\, \\alpha^{2}}{\\alpha^{2} + 1} - 2} r_{m} r_{p} \\left(\\frac{r - r_{m}}{r}\\right)^{\\frac{2 \\, \\alpha^{2}}{\\alpha^{2} + 1}} \\sin\\left({\\theta}\\right)^{2}}{{\\left(\\alpha^{2} + 1\\right)} {\\left(r - r_{m}\\right)}^{\\frac{2 \\, \\alpha^{2}}{\\alpha^{2} + 1}}}\n",
       "\\end{array}\\right)$$"
      ],
      "text/plain": [
       "[(r - r_p)*r^(2*alpha^2/(alpha^2 + 1) - 5)*r_m*r_p*((r - r_m)/r)^(-alpha^2/(alpha^2 + 1) + 1/(alpha^2 + 1))/((alpha^2 + 1)*(r - r_m)^(2*alpha^2/(alpha^2 + 1)))                                                                                                                                                              0                                                                                                                                                              0                                                                                                                                                              0]\n",
       "[                                                                                                                                                             0                                          (2*alpha^2*r*r_m - alpha^2*r*r_p - alpha^2*r_m*r_p - r*r_p + r_m*r_p)*r_m/((alpha^2 + 1)^2*(r - r_m)^2*(r - r_p)*r^2)                                                                                                                                                              0                                                                                                                                                              0]\n",
       "[                                                                                                                                                             0                                                                                                                                                              0                            r^(2*alpha^2/(alpha^2 + 1) - 2)*r_m*r_p*((r - r_m)/r)^(2*alpha^2/(alpha^2 + 1))/((alpha^2 + 1)*(r - r_m)^(2*alpha^2/(alpha^2 + 1)))                                                                                                                                                              0]\n",
       "[                                                                                                                                                             0                                                                                                                                                              0                                                                                                                                                              0                  r^(2*alpha^2/(alpha^2 + 1) - 2)*r_m*r_p*((r - r_m)/r)^(2*alpha^2/(alpha^2 + 1))*sin(th)^2/((alpha^2 + 1)*(r - r_m)^(2*alpha^2/(alpha^2 + 1)))]"
      ]
     },
     "execution_count": 31,
     "metadata": {},
     "output_type": "execute_result"
    }
   ],
   "source": [
    "RHS = UU + S\n",
    "RHS.apply_map(lambda f: factor(f,(r-r_m)))\n",
    "RHS[:]"
   ]
  },
  {
   "cell_type": "markdown",
   "id": "c3e8adc9",
   "metadata": {},
   "source": [
    "# The Ricci tensor"
   ]
  },
  {
   "cell_type": "code",
   "execution_count": 32,
   "id": "1f8441f0-0f68-43e2-b60f-f30129bf7397",
   "metadata": {},
   "outputs": [
    {
     "data": {
      "text/html": [
       "<html><script type=\"math/tex; mode=display\">\\newcommand{\\Bold}[1]{\\mathbf{#1}}g = U\\left(r\\right) \\mathrm{d} t\\otimes \\mathrm{d} t + Z\\left(r, {\\theta}\\right) \\mathrm{d} t\\otimes \\mathrm{d} {\\phi} + V\\left(r\\right) \\mathrm{d} r\\otimes \\mathrm{d} r + X\\left(r\\right) \\mathrm{d} {\\theta}\\otimes \\mathrm{d} {\\theta} + Z\\left(r, {\\theta}\\right) \\mathrm{d} {\\phi}\\otimes \\mathrm{d} t + Y\\left(r, {\\theta}\\right) \\mathrm{d} {\\phi}\\otimes \\mathrm{d} {\\phi}</script></html>"
      ],
      "text/latex": [
       "$$\\newcommand{\\Bold}[1]{\\mathbf{#1}}g = U\\left(r\\right) \\mathrm{d} t\\otimes \\mathrm{d} t + Z\\left(r, {\\theta}\\right) \\mathrm{d} t\\otimes \\mathrm{d} {\\phi} + V\\left(r\\right) \\mathrm{d} r\\otimes \\mathrm{d} r + X\\left(r\\right) \\mathrm{d} {\\theta}\\otimes \\mathrm{d} {\\theta} + Z\\left(r, {\\theta}\\right) \\mathrm{d} {\\phi}\\otimes \\mathrm{d} t + Y\\left(r, {\\theta}\\right) \\mathrm{d} {\\phi}\\otimes \\mathrm{d} {\\phi}$$"
      ],
      "text/plain": [
       "g = U(r) dt⊗dt + Z(r, th) dt⊗dph + V(r) dr⊗dr + X(r) dth⊗dth + Z(r, th) dph⊗dt + Y(r, th) dph⊗dph"
      ]
     },
     "execution_count": 32,
     "metadata": {},
     "output_type": "execute_result"
    }
   ],
   "source": [
    "g.display()"
   ]
  },
  {
   "cell_type": "code",
   "execution_count": 33,
   "id": "00b28c56-218f-4cce-8bf8-7c9c9a453e79",
   "metadata": {},
   "outputs": [
    {
     "data": {
      "text/html": [
       "<html><script type=\"math/tex; mode=display\">\\newcommand{\\Bold}[1]{\\mathbf{#1}}\\left(\\begin{array}{rrrr}\n",
       "\\frac{{\\left(r - r_{p}\\right)} r_{m} r_{p} \\left(\\frac{r - r_{m}}{r}\\right)^{-\\frac{2 \\, \\alpha^{2}}{\\alpha^{2} + 1} + \\frac{2}{\\alpha^{2} + 1}}}{{\\left(\\alpha^{2} + 1\\right)} {\\left(r - r_{m}\\right)} r^{4}} & 0 & 0 & 0 \\\\\n",
       "0 & \\frac{{\\left(2 \\, \\alpha^{2} r r_{m} - \\alpha^{2} r r_{p} - \\alpha^{2} r_{m} r_{p} - r r_{p} + r_{m} r_{p}\\right)} r_{m}}{{\\left(\\alpha^{2} + 1\\right)}^{2} {\\left(r - r_{m}\\right)}^{2} {\\left(r - r_{p}\\right)} r^{2}} & 0 & 0 \\\\\n",
       "0 & 0 & -\\frac{\\alpha^{2} r^{2} \\left(\\frac{r - r_{m}}{r}\\right)^{\\frac{\\alpha^{2}}{\\alpha^{2} + 1} + \\frac{1}{\\alpha^{2} + 1}} - \\alpha^{2} r^{2} + \\alpha^{2} r r_{m} + r^{2} \\left(\\frac{r - r_{m}}{r}\\right)^{\\frac{\\alpha^{2}}{\\alpha^{2} + 1} + \\frac{1}{\\alpha^{2} + 1}} - r_{m} r_{p} \\left(\\frac{r - r_{m}}{r}\\right)^{\\frac{\\alpha^{2}}{\\alpha^{2} + 1} + \\frac{1}{\\alpha^{2} + 1}} - r^{2} + r r_{m}}{{\\left(\\alpha^{2} + 1\\right)} {\\left(r - r_{m}\\right)} r} & 0 \\\\\n",
       "0 & 0 & 0 & -\\frac{{\\left(\\alpha^{2} r^{2} \\left(\\frac{r - r_{m}}{r}\\right)^{\\frac{\\alpha^{2}}{\\alpha^{2} + 1} + \\frac{1}{\\alpha^{2} + 1}} - \\alpha^{2} r^{2} + \\alpha^{2} r r_{m} + r^{2} \\left(\\frac{r - r_{m}}{r}\\right)^{\\frac{\\alpha^{2}}{\\alpha^{2} + 1} + \\frac{1}{\\alpha^{2} + 1}} - r_{m} r_{p} \\left(\\frac{r - r_{m}}{r}\\right)^{\\frac{\\alpha^{2}}{\\alpha^{2} + 1} + \\frac{1}{\\alpha^{2} + 1}} - r^{2} + r r_{m}\\right)} \\sin\\left({\\theta}\\right)^{2}}{{\\left(\\alpha^{2} + 1\\right)} {\\left(r - r_{m}\\right)} r}\n",
       "\\end{array}\\right)</script></html>"
      ],
      "text/latex": [
       "$$\\newcommand{\\Bold}[1]{\\mathbf{#1}}\\left(\\begin{array}{rrrr}\n",
       "\\frac{{\\left(r - r_{p}\\right)} r_{m} r_{p} \\left(\\frac{r - r_{m}}{r}\\right)^{-\\frac{2 \\, \\alpha^{2}}{\\alpha^{2} + 1} + \\frac{2}{\\alpha^{2} + 1}}}{{\\left(\\alpha^{2} + 1\\right)} {\\left(r - r_{m}\\right)} r^{4}} & 0 & 0 & 0 \\\\\n",
       "0 & \\frac{{\\left(2 \\, \\alpha^{2} r r_{m} - \\alpha^{2} r r_{p} - \\alpha^{2} r_{m} r_{p} - r r_{p} + r_{m} r_{p}\\right)} r_{m}}{{\\left(\\alpha^{2} + 1\\right)}^{2} {\\left(r - r_{m}\\right)}^{2} {\\left(r - r_{p}\\right)} r^{2}} & 0 & 0 \\\\\n",
       "0 & 0 & -\\frac{\\alpha^{2} r^{2} \\left(\\frac{r - r_{m}}{r}\\right)^{\\frac{\\alpha^{2}}{\\alpha^{2} + 1} + \\frac{1}{\\alpha^{2} + 1}} - \\alpha^{2} r^{2} + \\alpha^{2} r r_{m} + r^{2} \\left(\\frac{r - r_{m}}{r}\\right)^{\\frac{\\alpha^{2}}{\\alpha^{2} + 1} + \\frac{1}{\\alpha^{2} + 1}} - r_{m} r_{p} \\left(\\frac{r - r_{m}}{r}\\right)^{\\frac{\\alpha^{2}}{\\alpha^{2} + 1} + \\frac{1}{\\alpha^{2} + 1}} - r^{2} + r r_{m}}{{\\left(\\alpha^{2} + 1\\right)} {\\left(r - r_{m}\\right)} r} & 0 \\\\\n",
       "0 & 0 & 0 & -\\frac{{\\left(\\alpha^{2} r^{2} \\left(\\frac{r - r_{m}}{r}\\right)^{\\frac{\\alpha^{2}}{\\alpha^{2} + 1} + \\frac{1}{\\alpha^{2} + 1}} - \\alpha^{2} r^{2} + \\alpha^{2} r r_{m} + r^{2} \\left(\\frac{r - r_{m}}{r}\\right)^{\\frac{\\alpha^{2}}{\\alpha^{2} + 1} + \\frac{1}{\\alpha^{2} + 1}} - r_{m} r_{p} \\left(\\frac{r - r_{m}}{r}\\right)^{\\frac{\\alpha^{2}}{\\alpha^{2} + 1} + \\frac{1}{\\alpha^{2} + 1}} - r^{2} + r r_{m}\\right)} \\sin\\left({\\theta}\\right)^{2}}{{\\left(\\alpha^{2} + 1\\right)} {\\left(r - r_{m}\\right)} r}\n",
       "\\end{array}\\right)$$"
      ],
      "text/plain": [
       "[                                                                                                                                                                              (r - r_p)*r_m*r_p*((r - r_m)/r)^(-2*alpha^2/(alpha^2 + 1) + 2/(alpha^2 + 1))/((alpha^2 + 1)*(r - r_m)*r^4)                                                                                                                                                                                                                                                                                        0                                                                                                                                                                                                                                                                                        0                                                                                                                                                                                                                                                                                        0]\n",
       "[                                                                                                                                                                                                                                                                                       0                                                                                                                                                                    (2*alpha^2*r*r_m - alpha^2*r*r_p - alpha^2*r_m*r_p - r*r_p + r_m*r_p)*r_m/((alpha^2 + 1)^2*(r - r_m)^2*(r - r_p)*r^2)                                                                                                                                                                                                                                                                                        0                                                                                                                                                                                                                                                                                        0]\n",
       "[                                                                                                                                                                                                                                                                                       0                                                                                                                                                                                                                                                                                        0           -(alpha^2*r^2*((r - r_m)/r)^(alpha^2/(alpha^2 + 1) + 1/(alpha^2 + 1)) - alpha^2*r^2 + alpha^2*r*r_m + r^2*((r - r_m)/r)^(alpha^2/(alpha^2 + 1) + 1/(alpha^2 + 1)) - r_m*r_p*((r - r_m)/r)^(alpha^2/(alpha^2 + 1) + 1/(alpha^2 + 1)) - r^2 + r*r_m)/((alpha^2 + 1)*(r - r_m)*r)                                                                                                                                                                                                                                                                                        0]\n",
       "[                                                                                                                                                                                                                                                                                       0                                                                                                                                                                                                                                                                                        0                                                                                                                                                                                                                                                                                        0 -(alpha^2*r^2*((r - r_m)/r)^(alpha^2/(alpha^2 + 1) + 1/(alpha^2 + 1)) - alpha^2*r^2 + alpha^2*r*r_m + r^2*((r - r_m)/r)^(alpha^2/(alpha^2 + 1) + 1/(alpha^2 + 1)) - r_m*r_p*((r - r_m)/r)^(alpha^2/(alpha^2 + 1) + 1/(alpha^2 + 1)) - r^2 + r*r_m)*sin(th)^2/((alpha^2 + 1)*(r - r_m)*r)]"
      ]
     },
     "execution_count": 33,
     "metadata": {},
     "output_type": "execute_result"
    }
   ],
   "source": [
    "ER_ricc = g.ricci()\n",
    "ER_ricc.apply_map(lambda f: f.substitute_function(Z,E))\n",
    "ER_ricc.apply_map(lambda f: f.substitute_function(U, A).substitute_function(V, B).substitute_function(X, C).substitute_function(Y, D))\n",
    "ER_ricc.apply_map(lambda f: f.subs(Q=H))\n",
    "ER_ricc.apply_map(lambda f: factor(f,1/((alpha**2+1)*r**4*(1-r_m/r))))\n",
    "ER_ricc[:]"
   ]
  },
  {
   "cell_type": "markdown",
   "id": "6f0d09cb-6993-4c38-aa3b-b104d1722696",
   "metadata": {},
   "source": [
    "# Equation verification"
   ]
  },
  {
   "cell_type": "code",
   "execution_count": 34,
   "id": "04779e72-5caf-475d-a982-690bfc14560e",
   "metadata": {},
   "outputs": [
    {
     "data": {
      "text/html": [
       "<html><script type=\"math/tex; mode=display\">\\newcommand{\\Bold}[1]{\\mathbf{#1}}\\left(\\begin{array}{rrrr}\n",
       "\\frac{{\\left({\\left(r - r_{m}\\right)}^{\\left(\\frac{1}{\\alpha^{2} + 1}\\right)} r^{4} r_{m}^{2} - {\\left({\\left(r - r_{m}\\right)}^{\\left(\\frac{1}{\\alpha^{2} + 1}\\right)} r^{5} - {\\left(r - r_{m}\\right)}^{\\frac{\\alpha^{2}}{\\alpha^{2} + 1} + \\frac{2}{\\alpha^{2} + 1}} r^{4}\\right)} r_{m}\\right)} r_{p}^{2} - {\\left({\\left(r - r_{m}\\right)}^{\\left(\\frac{1}{\\alpha^{2} + 1}\\right)} r^{5} r_{m}^{2} - {\\left({\\left(r - r_{m}\\right)}^{\\left(\\frac{1}{\\alpha^{2} + 1}\\right)} r^{6} - {\\left(r - r_{m}\\right)}^{\\frac{\\alpha^{2}}{\\alpha^{2} + 1} + \\frac{2}{\\alpha^{2} + 1}} r^{5}\\right)} r_{m}\\right)} r_{p}}{{\\left(\\alpha^{2} + 1\\right)} {\\left(r - r_{m}\\right)}^{\\frac{3 \\, \\alpha^{2}}{\\alpha^{2} + 1}} r^{\\frac{6 \\, \\alpha^{2}}{\\alpha^{2} + 1} + \\frac{10}{\\alpha^{2} + 1}} r_{m} - {\\left(\\alpha^{2} + 1\\right)} {\\left(r - r_{m}\\right)}^{\\frac{3 \\, \\alpha^{2}}{\\alpha^{2} + 1}} r^{\\frac{7 \\, \\alpha^{2}}{\\alpha^{2} + 1} + \\frac{11}{\\alpha^{2} + 1}}} & 0 & 0 & 0 \\\\\n",
       "0 & 0 & 0 & 0 \\\\\n",
       "0 & 0 & 0 & 0 \\\\\n",
       "0 & 0 & 0 & 0\n",
       "\\end{array}\\right)</script></html>"
      ],
      "text/latex": [
       "$$\\newcommand{\\Bold}[1]{\\mathbf{#1}}\\left(\\begin{array}{rrrr}\n",
       "\\frac{{\\left({\\left(r - r_{m}\\right)}^{\\left(\\frac{1}{\\alpha^{2} + 1}\\right)} r^{4} r_{m}^{2} - {\\left({\\left(r - r_{m}\\right)}^{\\left(\\frac{1}{\\alpha^{2} + 1}\\right)} r^{5} - {\\left(r - r_{m}\\right)}^{\\frac{\\alpha^{2}}{\\alpha^{2} + 1} + \\frac{2}{\\alpha^{2} + 1}} r^{4}\\right)} r_{m}\\right)} r_{p}^{2} - {\\left({\\left(r - r_{m}\\right)}^{\\left(\\frac{1}{\\alpha^{2} + 1}\\right)} r^{5} r_{m}^{2} - {\\left({\\left(r - r_{m}\\right)}^{\\left(\\frac{1}{\\alpha^{2} + 1}\\right)} r^{6} - {\\left(r - r_{m}\\right)}^{\\frac{\\alpha^{2}}{\\alpha^{2} + 1} + \\frac{2}{\\alpha^{2} + 1}} r^{5}\\right)} r_{m}\\right)} r_{p}}{{\\left(\\alpha^{2} + 1\\right)} {\\left(r - r_{m}\\right)}^{\\frac{3 \\, \\alpha^{2}}{\\alpha^{2} + 1}} r^{\\frac{6 \\, \\alpha^{2}}{\\alpha^{2} + 1} + \\frac{10}{\\alpha^{2} + 1}} r_{m} - {\\left(\\alpha^{2} + 1\\right)} {\\left(r - r_{m}\\right)}^{\\frac{3 \\, \\alpha^{2}}{\\alpha^{2} + 1}} r^{\\frac{7 \\, \\alpha^{2}}{\\alpha^{2} + 1} + \\frac{11}{\\alpha^{2} + 1}}} & 0 & 0 & 0 \\\\\n",
       "0 & 0 & 0 & 0 \\\\\n",
       "0 & 0 & 0 & 0 \\\\\n",
       "0 & 0 & 0 & 0\n",
       "\\end{array}\\right)$$"
      ],
      "text/plain": [
       "[(((r - r_m)^(1/(alpha^2 + 1))*r^4*r_m^2 - ((r - r_m)^(1/(alpha^2 + 1))*r^5 - (r - r_m)^(alpha^2/(alpha^2 + 1) + 2/(alpha^2 + 1))*r^4)*r_m)*r_p^2 - ((r - r_m)^(1/(alpha^2 + 1))*r^5*r_m^2 - ((r - r_m)^(1/(alpha^2 + 1))*r^6 - (r - r_m)^(alpha^2/(alpha^2 + 1) + 2/(alpha^2 + 1))*r^5)*r_m)*r_p)/((alpha^2 + 1)*(r - r_m)^(3*alpha^2/(alpha^2 + 1))*r^(6*alpha^2/(alpha^2 + 1) + 10/(alpha^2 + 1))*r_m - (alpha^2 + 1)*(r - r_m)^(3*alpha^2/(alpha^2 + 1))*r^(7*alpha^2/(alpha^2 + 1) + 11/(alpha^2 + 1)))                                                                                                                                                                                                                                                                                                                                                                                                                                                                                                           0                                                                                                                                                                                                                                                                                                                                                                                                                                                                                                           0                                                                                                                                                                                                                                                                                                                                                                                                                                                                                                           0]\n",
       "[                                                                                                                                                                                                                                                                                                                                                                                                                                                                                                          0                                                                                                                                                                                                                                                                                                                                                                                                                                                                                                           0                                                                                                                                                                                                                                                                                                                                                                                                                                                                                                           0                                                                                                                                                                                                                                                                                                                                                                                                                                                                                                           0]\n",
       "[                                                                                                                                                                                                                                                                                                                                                                                                                                                                                                          0                                                                                                                                                                                                                                                                                                                                                                                                                                                                                                           0                                                                                                                                                                                                                                                                                                                                                                                                                                                                                                           0                                                                                                                                                                                                                                                                                                                                                                                                                                                                                                           0]\n",
       "[                                                                                                                                                                                                                                                                                                                                                                                                                                                                                                          0                                                                                                                                                                                                                                                                                                                                                                                                                                                                                                           0                                                                                                                                                                                                                                                                                                                                                                                                                                                                                                           0                                                                                                                                                                                                                                                                                                                                                                                                                                                                                                           0]"
      ]
     },
     "execution_count": 34,
     "metadata": {},
     "output_type": "execute_result"
    }
   ],
   "source": [
    "DIFF = ER_ricc - RHS ; DIFF[:]"
   ]
  },
  {
   "cell_type": "code",
   "execution_count": 38,
   "id": "7b6f963f",
   "metadata": {},
   "outputs": [
    {
     "data": {
      "text/html": [
       "<html><script type=\"math/tex; mode=display\">\\newcommand{\\Bold}[1]{\\mathbf{#1}}\\mathrm{False}</script></html>"
      ],
      "text/latex": [
       "$$\\newcommand{\\Bold}[1]{\\mathbf{#1}}\\mathrm{False}$$"
      ],
      "text/plain": [
       "False"
      ]
     },
     "execution_count": 38,
     "metadata": {},
     "output_type": "execute_result"
    }
   ],
   "source": [
    "DIFF.is_zero()"
   ]
  },
  {
   "cell_type": "markdown",
   "id": "77c4e93e",
   "metadata": {},
   "source": [
    "So Sage declares this expression as non-zero. Note that S[1,1]=S[2,2]=S[3,3] are already zero, check for DIFF[0,0]\n"
   ]
  },
  {
   "cell_type": "markdown",
   "id": "c5c51a56",
   "metadata": {},
   "source": [
    "## Check the [0,0] component"
   ]
  },
  {
   "cell_type": "markdown",
   "id": "b034bfbe",
   "metadata": {},
   "source": [
    "Let's now detail the two sides of the equation:"
   ]
  },
  {
   "cell_type": "code",
   "execution_count": 36,
   "id": "746fe826",
   "metadata": {},
   "outputs": [
    {
     "data": {
      "text/html": [
       "<html><script type=\"math/tex; mode=display\">\\newcommand{\\Bold}[1]{\\mathbf{#1}}\\frac{{\\left(r - r_{p}\\right)} r_{m} r_{p} \\left(\\frac{r - r_{m}}{r}\\right)^{-\\frac{2 \\, \\alpha^{2}}{\\alpha^{2} + 1} + \\frac{2}{\\alpha^{2} + 1}}}{{\\left(\\alpha^{2} + 1\\right)} {\\left(r - r_{m}\\right)} r^{4}}</script></html>"
      ],
      "text/latex": [
       "$$\\newcommand{\\Bold}[1]{\\mathbf{#1}}\\frac{{\\left(r - r_{p}\\right)} r_{m} r_{p} \\left(\\frac{r - r_{m}}{r}\\right)^{-\\frac{2 \\, \\alpha^{2}}{\\alpha^{2} + 1} + \\frac{2}{\\alpha^{2} + 1}}}{{\\left(\\alpha^{2} + 1\\right)} {\\left(r - r_{m}\\right)} r^{4}}$$"
      ],
      "text/plain": [
       "(r - r_p)*r_m*r_p*((r - r_m)/r)^(-2*alpha^2/(alpha^2 + 1) + 2/(alpha^2 + 1))/((alpha^2 + 1)*(r - r_m)*r^4)"
      ]
     },
     "execution_count": 36,
     "metadata": {},
     "output_type": "execute_result"
    }
   ],
   "source": [
    "factor((ER_ricc[0,0]).expr().substitute_function(U,A).substitute_function(V,B).substitute_function(X, C).substitute_function(Y, D).substitute_function(Z,E).subs(Q=H),r-r_m)"
   ]
  },
  {
   "cell_type": "code",
   "execution_count": 39,
   "id": "0da1d99d",
   "metadata": {},
   "outputs": [
    {
     "data": {
      "text/html": [
       "<html><script type=\"math/tex; mode=display\">\\newcommand{\\Bold}[1]{\\mathbf{#1}}\\frac{{\\left(r - r_{p}\\right)} r^{\\frac{2 \\, \\alpha^{2}}{\\alpha^{2} + 1} - 5} r_{m} r_{p} \\left(\\frac{r - r_{m}}{r}\\right)^{-\\frac{\\alpha^{2}}{\\alpha^{2} + 1} + \\frac{1}{\\alpha^{2} + 1}}}{{\\left(\\alpha^{2} + 1\\right)} {\\left(r - r_{m}\\right)}^{\\frac{2 \\, \\alpha^{2}}{\\alpha^{2} + 1}}}</script></html>"
      ],
      "text/latex": [
       "$$\\newcommand{\\Bold}[1]{\\mathbf{#1}}\\frac{{\\left(r - r_{p}\\right)} r^{\\frac{2 \\, \\alpha^{2}}{\\alpha^{2} + 1} - 5} r_{m} r_{p} \\left(\\frac{r - r_{m}}{r}\\right)^{-\\frac{\\alpha^{2}}{\\alpha^{2} + 1} + \\frac{1}{\\alpha^{2} + 1}}}{{\\left(\\alpha^{2} + 1\\right)} {\\left(r - r_{m}\\right)}^{\\frac{2 \\, \\alpha^{2}}{\\alpha^{2} + 1}}}$$"
      ],
      "text/plain": [
       "(r - r_p)*r^(2*alpha^2/(alpha^2 + 1) - 5)*r_m*r_p*((r - r_m)/r)^(-alpha^2/(alpha^2 + 1) + 1/(alpha^2 + 1))/((alpha^2 + 1)*(r - r_m)^(2*alpha^2/(alpha^2 + 1)))"
      ]
     },
     "execution_count": 39,
     "metadata": {},
     "output_type": "execute_result"
    }
   ],
   "source": [
    "factor(RHS[0,0],r-r_m)"
   ]
  },
  {
   "cell_type": "markdown",
   "id": "4afff302",
   "metadata": {},
   "source": [
    "Although Sage declares the difference between these expressions as non-zero, one can manually verify that these quantities are equal:\n",
    "\\begin{eqnarray*}\n",
    "    \\frac{\\left(r-r_{p}\\right)r^{\\frac{2\\alpha^{2}}{1+\\alpha^{2}}-5}r_{m}r_{p}\\left(\\frac{r-r_{m}}{r}\\right)^{-\\frac{\\alpha^{2}}{1+\\alpha^{2}}+\\frac{1}{1+\\alpha^{2}}}}{(1+\\alpha^{2})\\left(r-r_{m}\\right)^\\frac{2\\alpha^{2}}{1+\\alpha^{2}}}&=&\\frac{\\left(r-r_{p}\\right)r_{m}r_{p}\\left(\\frac{r-r_{m}}{r}\\right)^{-\\frac{2\\alpha^{2}}{1+\\alpha^{2}}+\\frac{2}{1+\\alpha^{2}}}r^{\\frac{2\\alpha^{2}}{1+\\alpha^{2}}-5}\\left(\\frac{r-r_{m}}{r}\\right)^{\\frac{\\alpha^{2}}{1+\\alpha^{2}}-\\frac{1}{1+\\alpha^{2}}}}{(1+\\alpha^{2})\\left(r-r_{m}\\right)r^{4}\\left(r-r_{m}\\right)^{\\frac{2\\alpha^{2}}{1+\\alpha^{2}}-1}r^{-4}}\\\\\n",
    "    &=&\\frac{\\left(r-r_{p}\\right)r_{m}r_{p}\\left(\\frac{r-r_{m}}{r}\\right)^{-\\frac{2\\alpha^{2}}{1+\\alpha^{2}}+\\frac{2}{1+\\alpha^{2}}}\\left(r-r_{m}\\right)^{\\frac{\\alpha^{2}}{1+\\alpha^{2}}-\\frac{2\\alpha^{2}}{1+\\alpha^{2}}+1-\\frac{1}{1+\\alpha^{2}}}}{(1+\\alpha^{2})\\left(r-r_{m}\\right)r^{4}r^{\\frac{\\alpha^{2}}{1+\\alpha^{2}}-4-\\frac{2\\alpha^{2}}{1+\\alpha^{2}}+5-\\frac{1}{1+\\alpha^{2}}}}\\\\\n",
    "    &=&\\frac{\\left(r-r_{p}\\right)r_{m}r_{p}\\left(\\frac{r-r_{m}}{r}\\right)^{-\\frac{2\\alpha^{2}}{1+\\alpha^{2}}+\\frac{2}{1+\\alpha^{2}}}\\left(r-r_{m}\\right)^{\\frac{2\\alpha^{2}-2\\alpha^{2}+1}{1+\\alpha^{2}}-\\frac{1}{1+\\alpha^{2}}}}{(1+\\alpha^{2})\\left(r-r_{m}\\right)r^{4}r^{-\\frac{\\alpha^{2}}{1+\\alpha^{2}}+1-\\frac{1}{1+\\alpha^{2}}}}\\\\\n",
    "    &=&\\frac{\\left(r-r_{p}\\right)r_{m}r_{p}\\left(\\frac{r-r_{m}}{r}\\right)^{-\\frac{2\\alpha^{2}}{1+\\alpha^{2}}+\\frac{2}{1+\\alpha^{2}}}}{(1+\\alpha^{2})\\left(r-r_{m}\\right)r^{4}}\n",
    "\\end{eqnarray*}\n"
   ]
  },
  {
   "cell_type": "markdown",
   "id": "4d6142c1",
   "metadata": {},
   "source": [
    "# In conclusion despite the Sage ouput, $R_{\\mu\\nu}=2\\triangledown_{\\mu}\\Phi\\triangledown_{\\nu}\\Phi+2e^{-2\\alpha\\Phi}\\left(F_{\\rho\\mu}F^{\\rho}_{\\hspace{0.2cm}\\nu}-\\frac{1}{4}g_{\\mu\\nu}F^{2}\\right)$ is well verified"
   ]
  },
  {
   "cell_type": "code",
   "execution_count": null,
   "id": "14b7f14e",
   "metadata": {},
   "outputs": [],
   "source": []
  }
 ],
 "metadata": {
  "kernelspec": {
   "display_name": "SageMath 9.5",
   "language": "sage",
   "name": "sagemath"
  },
  "language_info": {
   "codemirror_mode": {
    "name": "ipython",
    "version": 3
   },
   "file_extension": ".py",
   "mimetype": "text/x-python",
   "name": "python",
   "nbconvert_exporter": "python",
   "pygments_lexer": "ipython3",
   "version": "3.10.12"
  }
 },
 "nbformat": 4,
 "nbformat_minor": 5
}
