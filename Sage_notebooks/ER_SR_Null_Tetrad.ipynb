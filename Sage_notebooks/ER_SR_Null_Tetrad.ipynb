{
 "cells": [
  {
   "cell_type": "markdown",
   "id": "be74b5e0",
   "metadata": {},
   "source": [
    "# NULL COMPLEX TETRAD FOR GENERAL METRICS IN THE CASE OF SLOWLY ROTATING BLACK HOLES"
   ]
  },
  {
   "cell_type": "markdown",
   "id": "73852f3a",
   "metadata": {},
   "source": [
    "In this notebook, we propose an educated guess to obtain a valid tetrad in the context of entangled relativity for the case of slow rotation. We proceed step by step, starting from a tetrad valid for the Kerr metric, then gradually simplify it while ensuring that the tetrad's orthogonality conditions remain valid. Finally, we obtain a fairly general form for a non-diagonal metric, valid in the case of slow rotation.\n",
    "\n",
    "The complexity of some calculations in this notebook prompted us to perform intermediate first order Taylor expansions to maintain tractability of the different operations using the Sagemath language. This does not affect the validity of our results since they are part of a first-order analysis in 'a'."
   ]
  },
  {
   "cell_type": "code",
   "execution_count": 1,
   "id": "0877badb",
   "metadata": {},
   "outputs": [
    {
     "data": {
      "text/plain": [
       "'SageMath version 10.1, Release Date: 2023-08-20'"
      ]
     },
     "execution_count": 1,
     "metadata": {},
     "output_type": "execute_result"
    }
   ],
   "source": [
    "version()"
   ]
  },
  {
   "cell_type": "code",
   "execution_count": 2,
   "id": "dbb3361b",
   "metadata": {},
   "outputs": [],
   "source": [
    "%display latex"
   ]
  },
  {
   "cell_type": "markdown",
   "id": "25212144",
   "metadata": {},
   "source": [
    "'SageMath version used is 10.1, Release Date: 2023-08-20'"
   ]
  },
  {
   "cell_type": "code",
   "execution_count": 3,
   "id": "9adff967",
   "metadata": {},
   "outputs": [],
   "source": [
    "from sage.manifolds.operators import dalembertian\n",
    "from sage.manifolds.operators import grad\n",
    "import time\n",
    "import pickle\n",
    "comput_time0 = time.perf_counter()"
   ]
  },
  {
   "cell_type": "markdown",
   "id": "b51ef036",
   "metadata": {},
   "source": [
    "# I. GR: Kerr-Newman solutions"
   ]
  },
  {
   "cell_type": "markdown",
   "id": "a7a51afc",
   "metadata": {},
   "source": [
    "We declare the Kerr-Newman spacetime (or more precisely the part of it covered by Boyer-Lindquist coordinates) as a 4-dimensional Lorentzian manifold M"
   ]
  },
  {
   "cell_type": "code",
   "execution_count": 4,
   "id": "6a67b5e1",
   "metadata": {},
   "outputs": [
    {
     "name": "stdout",
     "output_type": "stream",
     "text": [
      "4-dimensional Lorentzian manifold M\n"
     ]
    }
   ],
   "source": [
    "M = Manifold(4, 'M', latex_name=r'\\mathcal{M}', structure='Lorentzian')\n",
    "print(M)"
   ]
  },
  {
   "cell_type": "markdown",
   "id": "863d613a",
   "metadata": {},
   "source": [
    "We then introduce the standard Boyer-Lindquist coordinates as a chart BL (for Boyer-Lindquist) on M, via the method chart(), the argument of which is a string (delimited by r\"...\" because of the backslash symbols) expressing the coordinates names, their ranges (the default is (−∞,+∞)) and their LaTeX symbols:"
   ]
  },
  {
   "cell_type": "code",
   "execution_count": 5,
   "id": "baaeb877",
   "metadata": {},
   "outputs": [
    {
     "name": "stdout",
     "output_type": "stream",
     "text": [
      "Chart (M, (t, r, th, ph))\n"
     ]
    },
    {
     "data": {
      "text/html": [
       "<html>\\(\\displaystyle \\left(\\mathcal{M},(t, r, {\\theta}, {\\phi})\\right)\\)</html>"
      ],
      "text/latex": [
       "$\\displaystyle \\left(\\mathcal{M},(t, r, {\\theta}, {\\phi})\\right)$"
      ],
      "text/plain": [
       "Chart (M, (t, r, th, ph))"
      ]
     },
     "execution_count": 5,
     "metadata": {},
     "output_type": "execute_result"
    }
   ],
   "source": [
    "BL.<t,r,th,ph> = M.chart(r\"t r th:(0,pi):\\theta ph:(0,2*pi):\\phi\") \n",
    "print(BL); BL"
   ]
  },
  {
   "cell_type": "markdown",
   "id": "89b128e8",
   "metadata": {},
   "source": [
    "Let's declare the parameters of the spacetime as symbolic variables in real domain:"
   ]
  },
  {
   "cell_type": "code",
   "execution_count": 6,
   "id": "383dc8c1",
   "metadata": {},
   "outputs": [
    {
     "data": {
      "text/html": [
       "<html>\\(\\displaystyle \\left(m, a, q, r_{m}, r_{p}, \\alpha\\right)\\)</html>"
      ],
      "text/latex": [
       "$\\displaystyle \\left(m, a, q, r_{m}, r_{p}, \\alpha\\right)$"
      ],
      "text/plain": [
       "(m, a, q, r_m, r_p, alpha)"
      ]
     },
     "execution_count": 6,
     "metadata": {},
     "output_type": "execute_result"
    }
   ],
   "source": [
    "var('m a q r_m r_p alpha', domain='real')"
   ]
  },
  {
   "cell_type": "markdown",
   "id": "0f7b6e5b",
   "metadata": {},
   "source": [
    "Notice that in this notebook the parameter $a$ is the angular momentum divided by the mass ($a=J/m$). We get the (yet undefined) spacetime metric:"
   ]
  },
  {
   "cell_type": "code",
   "execution_count": 7,
   "id": "4894add2",
   "metadata": {},
   "outputs": [],
   "source": [
    "g = M.metric()"
   ]
  },
  {
   "cell_type": "code",
   "execution_count": 8,
   "id": "0d201ae0",
   "metadata": {
    "scrolled": true
   },
   "outputs": [
    {
     "data": {
      "text/html": [
       "<html>\\(\\displaystyle g_{\\mu\\nu} =  \\left(\\begin{array}{rrrr}\n",
       "-\\frac{q^{2} - 2 \\, m r}{a^{2} \\cos\\left({\\theta}\\right)^{2} + r^{2}} - 1 & 0 & 0 & \\frac{{\\left(q^{2} - 2 \\, m r\\right)} a \\sin\\left({\\theta}\\right)^{2}}{a^{2} \\cos\\left({\\theta}\\right)^{2} + r^{2}} \\\\\n",
       "0 & \\frac{a^{2} \\cos\\left({\\theta}\\right)^{2} + r^{2}}{a^{2} + q^{2} - 2 \\, m r + r^{2}} & 0 & 0 \\\\\n",
       "0 & 0 & a^{2} \\cos\\left({\\theta}\\right)^{2} + r^{2} & 0 \\\\\n",
       "\\frac{{\\left(q^{2} - 2 \\, m r\\right)} a \\sin\\left({\\theta}\\right)^{2}}{a^{2} \\cos\\left({\\theta}\\right)^{2} + r^{2}} & 0 & 0 & -{\\left(\\frac{{\\left(q^{2} - 2 \\, m r\\right)} a^{2} \\sin\\left({\\theta}\\right)^{2}}{a^{2} \\cos\\left({\\theta}\\right)^{2} + r^{2}} - a^{2} - r^{2}\\right)} \\sin\\left({\\theta}\\right)^{2}\n",
       "\\end{array}\\right)\\)</html>"
      ],
      "text/latex": [
       "$\\displaystyle g_{\\mu\\nu} =  \\left(\\begin{array}{rrrr}\n",
       "-\\frac{q^{2} - 2 \\, m r}{a^{2} \\cos\\left({\\theta}\\right)^{2} + r^{2}} - 1 & 0 & 0 & \\frac{{\\left(q^{2} - 2 \\, m r\\right)} a \\sin\\left({\\theta}\\right)^{2}}{a^{2} \\cos\\left({\\theta}\\right)^{2} + r^{2}} \\\\\n",
       "0 & \\frac{a^{2} \\cos\\left({\\theta}\\right)^{2} + r^{2}}{a^{2} + q^{2} - 2 \\, m r + r^{2}} & 0 & 0 \\\\\n",
       "0 & 0 & a^{2} \\cos\\left({\\theta}\\right)^{2} + r^{2} & 0 \\\\\n",
       "\\frac{{\\left(q^{2} - 2 \\, m r\\right)} a \\sin\\left({\\theta}\\right)^{2}}{a^{2} \\cos\\left({\\theta}\\right)^{2} + r^{2}} & 0 & 0 & -{\\left(\\frac{{\\left(q^{2} - 2 \\, m r\\right)} a^{2} \\sin\\left({\\theta}\\right)^{2}}{a^{2} \\cos\\left({\\theta}\\right)^{2} + r^{2}} - a^{2} - r^{2}\\right)} \\sin\\left({\\theta}\\right)^{2}\n",
       "\\end{array}\\right)$"
      ],
      "text/plain": [
       "g_{\\mu\\nu} =  [                                  -(q^2 - 2*m*r)/(a^2*cos(th)^2 + r^2) - 1                                                                          0                                                                          0                            (q^2 - 2*m*r)*a*sin(th)^2/(a^2*cos(th)^2 + r^2)]\n",
       "[                                                                         0                            (a^2*cos(th)^2 + r^2)/(a^2 + q^2 - 2*m*r + r^2)                                                                          0                                                                          0]\n",
       "[                                                                         0                                                                          0                                                        a^2*cos(th)^2 + r^2                                                                          0]\n",
       "[                           (q^2 - 2*m*r)*a*sin(th)^2/(a^2*cos(th)^2 + r^2)                                                                          0                                                                          0 -((q^2 - 2*m*r)*a^2*sin(th)^2/(a^2*cos(th)^2 + r^2) - a^2 - r^2)*sin(th)^2]"
      ]
     },
     "metadata": {},
     "output_type": "display_data"
    }
   ],
   "source": [
    "rho2 = r^2 + (a*cos(th))^2\n",
    "Delta = r^2 -2*m*r + a^2 + q^2\n",
    "\n",
    "g[0,0] = -1 + (2*m*r-q^2)/rho2\n",
    "g[0,3] = -a*sin(th)^2*(2*m*r-q^2)/rho2\n",
    "g[1,1], g[2,2] = rho2/Delta, rho2\n",
    "g[3,3] = (r^2 + a^2 + (2*m*r-q^2)*(a*sin(th))^2/rho2)*sin(th)^2\n",
    "show(LatexExpr(r'g_{\\mu\\nu} = '), g[:])"
   ]
  },
  {
   "cell_type": "markdown",
   "id": "c0fcb1f9",
   "metadata": {},
   "source": [
    "# II. Special case of $q=0$ (Kerr Metric) and $a=\\mathcal{O}(\\epsilon)$ (slow rotation)"
   ]
  },
  {
   "cell_type": "code",
   "execution_count": 9,
   "id": "bc1a5550",
   "metadata": {},
   "outputs": [
    {
     "data": {
      "text/html": [
       "<html>\\(\\displaystyle g_{\\mu\\nu} =  \\left(\\begin{array}{rrrr}\n",
       "\\frac{2 \\, m r - r^{2}}{r^{2}} & 0 & 0 & -\\frac{2 \\, a m \\sin\\left({\\theta}\\right)^{2}}{r} \\\\\n",
       "0 & -\\frac{r^{2}}{2 \\, m r - r^{2}} & 0 & 0 \\\\\n",
       "0 & 0 & r^{2} & 0 \\\\\n",
       "-\\frac{2 \\, a m \\sin\\left({\\theta}\\right)^{2}}{r} & 0 & 0 & r^{2} \\sin\\left({\\theta}\\right)^{2}\n",
       "\\end{array}\\right)\\)</html>"
      ],
      "text/latex": [
       "$\\displaystyle g_{\\mu\\nu} =  \\left(\\begin{array}{rrrr}\n",
       "\\frac{2 \\, m r - r^{2}}{r^{2}} & 0 & 0 & -\\frac{2 \\, a m \\sin\\left({\\theta}\\right)^{2}}{r} \\\\\n",
       "0 & -\\frac{r^{2}}{2 \\, m r - r^{2}} & 0 & 0 \\\\\n",
       "0 & 0 & r^{2} & 0 \\\\\n",
       "-\\frac{2 \\, a m \\sin\\left({\\theta}\\right)^{2}}{r} & 0 & 0 & r^{2} \\sin\\left({\\theta}\\right)^{2}\n",
       "\\end{array}\\right)$"
      ],
      "text/plain": [
       "g_{\\mu\\nu} =  [ (2*m*r - r^2)/r^2                  0                  0 -2*a*m*sin(th)^2/r]\n",
       "[                 0 -r^2/(2*m*r - r^2)                  0                  0]\n",
       "[                 0                  0                r^2                  0]\n",
       "[-2*a*m*sin(th)^2/r                  0                  0      r^2*sin(th)^2]"
      ]
     },
     "metadata": {},
     "output_type": "display_data"
    }
   ],
   "source": [
    "g.apply_map(lambda f:f.taylor(a,0,1).subs(q=0))\n",
    "show(LatexExpr(r'g_{\\mu\\nu} = '), g[:])"
   ]
  },
  {
   "cell_type": "markdown",
   "id": "15eb7c86",
   "metadata": {},
   "source": [
    "## II. 1. Null complex tetrad for the Kerr metric"
   ]
  },
  {
   "cell_type": "markdown",
   "id": "1f973747",
   "metadata": {},
   "source": [
    "We first introduce a null complex tetrad for the Kerr metric, valid for any rotation regime."
   ]
  },
  {
   "cell_type": "code",
   "execution_count": 10,
   "id": "743d4592",
   "metadata": {},
   "outputs": [],
   "source": [
    "L = M.vector_field(name='L')\n",
    "N = M.vector_field(name='N')\n",
    "Mr = M.vector_field(name='M_real')\n",
    "Mbar = M.vector_field(name='M_bar')"
   ]
  },
  {
   "cell_type": "code",
   "execution_count": 11,
   "id": "f36d0efb",
   "metadata": {},
   "outputs": [],
   "source": [
    "rho2 = r^2 + (a*cos(th))^2\n",
    "Delta = r^2 -2*m*r + a^2\n",
    "sigma = 1/(2**(1/2))*(1/(r+I*a*cos(th)))"
   ]
  },
  {
   "cell_type": "code",
   "execution_count": 12,
   "id": "cc2a756d",
   "metadata": {},
   "outputs": [],
   "source": [
    "L[0],N[0],Mr[0],Mbar[0] = (r**2+a**2)/Delta, (r**2+a**2)/(2*rho2), sigma*I*sin(th)*a, (sigma*I*sin(th)*a).conjugate()\n",
    "L[1],N[1],Mr[1],Mbar[1] = 1, -Delta/(2*rho2), 0, 0\n",
    "L[2],N[2],Mr[2],Mbar[2] = 0,0,sigma, sigma.conjugate()\n",
    "L[3],N[3],Mr[3],Mbar[3] = a/Delta, a/(2*rho2), sigma*I/sin(th), (sigma*I/sin(th)).conjugate()"
   ]
  },
  {
   "cell_type": "code",
   "execution_count": 13,
   "id": "9a84a915",
   "metadata": {},
   "outputs": [
    {
     "data": {
      "text/html": [
       "<html>\\(\\displaystyle l^{\\mu} =  \\left[\\frac{a^{2} + r^{2}}{a^{2} - 2 \\, m r + r^{2}}, 1, 0, \\frac{a}{a^{2} - 2 \\, m r + r^{2}}\\right]\\)</html>"
      ],
      "text/latex": [
       "$\\displaystyle l^{\\mu} =  \\left[\\frac{a^{2} + r^{2}}{a^{2} - 2 \\, m r + r^{2}}, 1, 0, \\frac{a}{a^{2} - 2 \\, m r + r^{2}}\\right]$"
      ],
      "text/plain": [
       "l^{\\mu} =  [(a^2 + r^2)/(a^2 - 2*m*r + r^2), 1, 0, a/(a^2 - 2*m*r + r^2)]"
      ]
     },
     "metadata": {},
     "output_type": "display_data"
    },
    {
     "data": {
      "text/html": [
       "<html>\\(\\displaystyle n^{\\mu} =  \\left[\\frac{a^{2} + r^{2}}{2 \\, {\\left(a^{2} \\cos\\left({\\theta}\\right)^{2} + r^{2}\\right)}}, -\\frac{a^{2} - 2 \\, m r + r^{2}}{2 \\, {\\left(a^{2} \\cos\\left({\\theta}\\right)^{2} + r^{2}\\right)}}, 0, \\frac{a}{2 \\, {\\left(a^{2} \\cos\\left({\\theta}\\right)^{2} + r^{2}\\right)}}\\right]\\)</html>"
      ],
      "text/latex": [
       "$\\displaystyle n^{\\mu} =  \\left[\\frac{a^{2} + r^{2}}{2 \\, {\\left(a^{2} \\cos\\left({\\theta}\\right)^{2} + r^{2}\\right)}}, -\\frac{a^{2} - 2 \\, m r + r^{2}}{2 \\, {\\left(a^{2} \\cos\\left({\\theta}\\right)^{2} + r^{2}\\right)}}, 0, \\frac{a}{2 \\, {\\left(a^{2} \\cos\\left({\\theta}\\right)^{2} + r^{2}\\right)}}\\right]$"
      ],
      "text/plain": [
       "n^{\\mu} =  [1/2*(a^2 + r^2)/(a^2*cos(th)^2 + r^2),\n",
       " -1/2*(a^2 - 2*m*r + r^2)/(a^2*cos(th)^2 + r^2),\n",
       " 0,\n",
       " 1/2*a/(a^2*cos(th)^2 + r^2)]"
      ]
     },
     "metadata": {},
     "output_type": "display_data"
    },
    {
     "data": {
      "text/html": [
       "<html>\\(\\displaystyle m^{\\mu} =  \\left[\\frac{i \\, \\sqrt{2} a \\sin\\left({\\theta}\\right)}{2 \\, {\\left(i \\, a \\cos\\left({\\theta}\\right) + r\\right)}}, 0, \\frac{\\sqrt{2}}{2 \\, {\\left(i \\, a \\cos\\left({\\theta}\\right) + r\\right)}}, \\frac{i \\, \\sqrt{2}}{2 \\, {\\left(i \\, a \\cos\\left({\\theta}\\right) + r\\right)} \\sin\\left({\\theta}\\right)}\\right]\\)</html>"
      ],
      "text/latex": [
       "$\\displaystyle m^{\\mu} =  \\left[\\frac{i \\, \\sqrt{2} a \\sin\\left({\\theta}\\right)}{2 \\, {\\left(i \\, a \\cos\\left({\\theta}\\right) + r\\right)}}, 0, \\frac{\\sqrt{2}}{2 \\, {\\left(i \\, a \\cos\\left({\\theta}\\right) + r\\right)}}, \\frac{i \\, \\sqrt{2}}{2 \\, {\\left(i \\, a \\cos\\left({\\theta}\\right) + r\\right)} \\sin\\left({\\theta}\\right)}\\right]$"
      ],
      "text/plain": [
       "m^{\\mu} =  [1/2*I*sqrt(2)*a*sin(th)/(I*a*cos(th) + r),\n",
       " 0,\n",
       " 1/2*sqrt(2)/(I*a*cos(th) + r),\n",
       " 1/2*I*sqrt(2)/((I*a*cos(th) + r)*sin(th))]"
      ]
     },
     "metadata": {},
     "output_type": "display_data"
    },
    {
     "data": {
      "text/html": [
       "<html>\\(\\displaystyle \\bar{m}^{\\mu} =  \\left[-\\frac{i \\, \\sqrt{2} a \\sin\\left({\\theta}\\right)}{2 \\, {\\left(-i \\, a \\cos\\left({\\theta}\\right) + r\\right)}}, 0, \\frac{\\sqrt{2}}{2 \\, {\\left(-i \\, a \\cos\\left({\\theta}\\right) + r\\right)}}, -\\frac{i \\, \\sqrt{2}}{2 \\, {\\left(-i \\, a \\cos\\left({\\theta}\\right) + r\\right)} \\sin\\left({\\theta}\\right)}\\right]\\)</html>"
      ],
      "text/latex": [
       "$\\displaystyle \\bar{m}^{\\mu} =  \\left[-\\frac{i \\, \\sqrt{2} a \\sin\\left({\\theta}\\right)}{2 \\, {\\left(-i \\, a \\cos\\left({\\theta}\\right) + r\\right)}}, 0, \\frac{\\sqrt{2}}{2 \\, {\\left(-i \\, a \\cos\\left({\\theta}\\right) + r\\right)}}, -\\frac{i \\, \\sqrt{2}}{2 \\, {\\left(-i \\, a \\cos\\left({\\theta}\\right) + r\\right)} \\sin\\left({\\theta}\\right)}\\right]$"
      ],
      "text/plain": [
       "\\bar{m}^{\\mu} =  [-1/2*I*sqrt(2)*a*sin(th)/(-I*a*cos(th) + r),\n",
       " 0,\n",
       " 1/2*sqrt(2)/(-I*a*cos(th) + r),\n",
       " -1/2*I*sqrt(2)/((-I*a*cos(th) + r)*sin(th))]"
      ]
     },
     "metadata": {},
     "output_type": "display_data"
    }
   ],
   "source": [
    "Ld, Md, Nd, Mbar_d= L.down(g), Mr.down(g), N.down(g), Mbar.down(g)\n",
    "show(LatexExpr(r'l^{\\mu} = '),L[:])\n",
    "show(LatexExpr(r'n^{\\mu} = '),N[:])\n",
    "show(LatexExpr(r'm^{\\mu} = '),Mr[:])\n",
    "show(LatexExpr(r'\\bar{m}^{\\mu} = '), Mbar[:])"
   ]
  },
  {
   "cell_type": "markdown",
   "id": "a4192678",
   "metadata": {},
   "source": [
    "Let's show that this tetrad is still valid for the Kerr metric in the case of a slow rotation (i.e. at the first order in 'a')."
   ]
  },
  {
   "cell_type": "code",
   "execution_count": 14,
   "id": "63271460",
   "metadata": {},
   "outputs": [
    {
     "data": {
      "text/html": [
       "<html>\\(\\displaystyle l^{\\mu}l_{\\mu} =  0 \\hspace{0.5cm} n^{\\mu}n_{\\mu} =  0 \\hspace{0.5cm} m^{\\mu}m_{\\mu} =  0 \\hspace{0.5cm} \\bar{m}^{\\mu}\\bar{m}_{\\mu} =  0\\)</html>"
      ],
      "text/latex": [
       "$\\displaystyle l^{\\mu}l_{\\mu} =  0 \\hspace{0.5cm} n^{\\mu}n_{\\mu} =  0 \\hspace{0.5cm} m^{\\mu}m_{\\mu} =  0 \\hspace{0.5cm} \\bar{m}^{\\mu}\\bar{m}_{\\mu} =  0$"
      ],
      "text/plain": [
       "l^{\\mu}l_{\\mu} =  0 \\hspace{0.5cm} n^{\\mu}n_{\\mu} =  0 \\hspace{0.5cm} m^{\\mu}m_{\\mu} =  0 \\hspace{0.5cm} \\bar{m}^{\\mu}\\bar{m}_{\\mu} =  0"
      ]
     },
     "metadata": {},
     "output_type": "display_data"
    },
    {
     "data": {
      "text/html": [
       "<html>\\(\\displaystyle l^{\\mu}m_{\\mu} =  0 \\hspace{0.5cm} m^{\\mu}n_{\\mu} =  0\\)</html>"
      ],
      "text/latex": [
       "$\\displaystyle l^{\\mu}m_{\\mu} =  0 \\hspace{0.5cm} m^{\\mu}n_{\\mu} =  0$"
      ],
      "text/plain": [
       "l^{\\mu}m_{\\mu} =  0 \\hspace{0.5cm} m^{\\mu}n_{\\mu} =  0"
      ]
     },
     "metadata": {},
     "output_type": "display_data"
    },
    {
     "data": {
      "text/html": [
       "<html>\\(\\displaystyle l^{\\mu}n_{\\mu} =  -1 \\hspace{0.5cm} m^{\\mu}\\bar{m}_{\\mu} =  1\\)</html>"
      ],
      "text/latex": [
       "$\\displaystyle l^{\\mu}n_{\\mu} =  -1 \\hspace{0.5cm} m^{\\mu}\\bar{m}_{\\mu} =  1$"
      ],
      "text/plain": [
       "l^{\\mu}n_{\\mu} =  -1 \\hspace{0.5cm} m^{\\mu}\\bar{m}_{\\mu} =  1"
      ]
     },
     "metadata": {},
     "output_type": "display_data"
    }
   ],
   "source": [
    "l_scalar, n_scalar, m_scalar, mbar_scalar = L['^{a}']*Ld['_{a}'], N['^{a}']*Nd['_{a}'], Mr['^{a}']*Md['_{a}'],Mbar['^{a}']*Mbar_d['_{a}']\n",
    "lm, mn,ln, mbarm = L['^{a}']*Md['_{a}'], Mr['^{a}']*Nd['_{a}'], L['^{a}']*Nd['_{a}'], Mr['^{a}']*Mbar_d['_{a}']\n",
    "\n",
    "show(LatexExpr(r'l^{\\mu}l_{\\mu} = '),l_scalar.expr().taylor(a,0,1).subs(q=0), LatexExpr(r'\\hspace{0.5cm} n^{\\mu}n_{\\mu} = '),\\\n",
    "     n_scalar.expr().taylor(a,0,1).subs(q=0), LatexExpr(r'\\hspace{0.5cm} m^{\\mu}m_{\\mu} = '),m_scalar.expr().taylor(a,0,1), \\\n",
    "     LatexExpr(r'\\hspace{0.5cm} \\bar{m}^{\\mu}\\bar{m}_{\\mu} = '),mbar_scalar.expr().taylor(a,0,1))\n",
    "\n",
    "show(LatexExpr(r'l^{\\mu}m_{\\mu} = '),lm.expr().taylor(a,0,1), LatexExpr(r'\\hspace{0.5cm} m^{\\mu}n_{\\mu} = '),\\\n",
    "     mn.expr().taylor(a,0,1))\n",
    "\n",
    "\n",
    "show(LatexExpr(r'l^{\\mu}n_{\\mu} = '),ln.expr().taylor(a,0,1).subs(q=0), LatexExpr(r'\\hspace{0.5cm} m^{\\mu}\\bar{m}_{\\mu} = '),mbarm.expr().taylor(a,0,1))"
   ]
  },
  {
   "cell_type": "markdown",
   "id": "7f5313b3",
   "metadata": {},
   "source": [
    "We now check that we can reconstruct the metric from the components of the tetrad:"
   ]
  },
  {
   "cell_type": "code",
   "execution_count": 15,
   "id": "6b17f029",
   "metadata": {},
   "outputs": [
    {
     "data": {
      "text/html": [
       "<html>\\(\\displaystyle g_{\\mu\\nu} =  \\left(\\begin{array}{rrrr}\n",
       "\\frac{2 \\, m - r}{r} & 0 & 0 & -\\frac{2 \\, a m \\sin\\left({\\theta}\\right)^{2}}{r} \\\\\n",
       "0 & -\\frac{r}{2 \\, m - r} & 0 & 0 \\\\\n",
       "0 & 0 & r^{2} & 0 \\\\\n",
       "-\\frac{2 \\, a m \\sin\\left({\\theta}\\right)^{2}}{r} & 0 & 0 & r^{2} \\sin\\left({\\theta}\\right)^{2}\n",
       "\\end{array}\\right)\\)</html>"
      ],
      "text/latex": [
       "$\\displaystyle g_{\\mu\\nu} =  \\left(\\begin{array}{rrrr}\n",
       "\\frac{2 \\, m - r}{r} & 0 & 0 & -\\frac{2 \\, a m \\sin\\left({\\theta}\\right)^{2}}{r} \\\\\n",
       "0 & -\\frac{r}{2 \\, m - r} & 0 & 0 \\\\\n",
       "0 & 0 & r^{2} & 0 \\\\\n",
       "-\\frac{2 \\, a m \\sin\\left({\\theta}\\right)^{2}}{r} & 0 & 0 & r^{2} \\sin\\left({\\theta}\\right)^{2}\n",
       "\\end{array}\\right)$"
      ],
      "text/plain": [
       "g_{\\mu\\nu} =  [       (2*m - r)/r                  0                  0 -2*a*m*sin(th)^2/r]\n",
       "[                 0       -r/(2*m - r)                  0                  0]\n",
       "[                 0                  0                r^2                  0]\n",
       "[-2*a*m*sin(th)^2/r                  0                  0      r^2*sin(th)^2]"
      ]
     },
     "metadata": {},
     "output_type": "display_data"
    }
   ],
   "source": [
    "for i in range(4):\n",
    "    g[i,i] = -2*Ld[i]*Nd[i] + 2*Md[i]*Mbar_d[i]\n",
    "g[0,3] = -Ld[0]*Nd[3] - Ld[3]*Nd[0] + Md[0]*Mbar_d[3] + Md[3]*Mbar_d[0]\n",
    "g.apply_map(lambda f:f.taylor(a,0,1))\n",
    "show(LatexExpr(r'g_{\\mu\\nu} = '), g[:])"
   ]
  },
  {
   "cell_type": "markdown",
   "id": "ec400a21",
   "metadata": {},
   "source": [
    "## II. 2. First simplifications of the tetrad form"
   ]
  },
  {
   "cell_type": "markdown",
   "id": "21e5fcf4",
   "metadata": {},
   "source": [
    "Let's remove any term in \"a\" with an order higher than 1 and rescale the \"m\" component of the tetrad in order to preserve the equalities."
   ]
  },
  {
   "cell_type": "code",
   "execution_count": 16,
   "id": "22581932",
   "metadata": {},
   "outputs": [],
   "source": [
    "rho2 = r^2\n",
    "Delta = r^2 -2*m*r\n",
    "sigma = 1/(2**(1/2))/r"
   ]
  },
  {
   "cell_type": "code",
   "execution_count": 17,
   "id": "a5a1d82a",
   "metadata": {},
   "outputs": [],
   "source": [
    "L[0],N[0],Mr[0],Mbar[0] = (r**2)/Delta, (r**2)/(2*rho2), sigma*I*sin(th)*a, (sigma*I*sin(th)*a).conjugate()\n",
    "L[1],N[1],Mr[1],Mbar[1] = 1, -Delta/(2*rho2), 0, 0\n",
    "L[2],N[2],Mr[2],Mbar[2] = 0,0,sigma, sigma.conjugate()\n",
    "L[3],N[3],Mr[3],Mbar[3] = a/Delta, a/(2*rho2), sigma*I/sin(th), (sigma*I/sin(th)).conjugate()"
   ]
  },
  {
   "cell_type": "code",
   "execution_count": 18,
   "id": "135abb2e",
   "metadata": {},
   "outputs": [
    {
     "data": {
      "text/html": [
       "<html>\\(\\displaystyle l^{\\mu} =  \\left[-\\frac{r^{2}}{2 \\, m r - r^{2}}, 1, 0, -\\frac{a}{2 \\, m r - r^{2}}\\right]\\)</html>"
      ],
      "text/latex": [
       "$\\displaystyle l^{\\mu} =  \\left[-\\frac{r^{2}}{2 \\, m r - r^{2}}, 1, 0, -\\frac{a}{2 \\, m r - r^{2}}\\right]$"
      ],
      "text/plain": [
       "l^{\\mu} =  [-r^2/(2*m*r - r^2), 1, 0, -a/(2*m*r - r^2)]"
      ]
     },
     "metadata": {},
     "output_type": "display_data"
    },
    {
     "data": {
      "text/html": [
       "<html>\\(\\displaystyle n^{\\mu} =  \\left[\\frac{1}{2}, \\frac{2 \\, m r - r^{2}}{2 \\, r^{2}}, 0, \\frac{a}{2 \\, r^{2}}\\right]\\)</html>"
      ],
      "text/latex": [
       "$\\displaystyle n^{\\mu} =  \\left[\\frac{1}{2}, \\frac{2 \\, m r - r^{2}}{2 \\, r^{2}}, 0, \\frac{a}{2 \\, r^{2}}\\right]$"
      ],
      "text/plain": [
       "n^{\\mu} =  [1/2, 1/2*(2*m*r - r^2)/r^2, 0, 1/2*a/r^2]"
      ]
     },
     "metadata": {},
     "output_type": "display_data"
    },
    {
     "data": {
      "text/html": [
       "<html>\\(\\displaystyle m^{\\mu} =  \\left[\\frac{i \\, \\sqrt{2} a \\sin\\left({\\theta}\\right)}{2 \\, r}, 0, \\frac{\\sqrt{2}}{2 \\, r}, \\frac{i \\, \\sqrt{2}}{2 \\, r \\sin\\left({\\theta}\\right)}\\right]\\)</html>"
      ],
      "text/latex": [
       "$\\displaystyle m^{\\mu} =  \\left[\\frac{i \\, \\sqrt{2} a \\sin\\left({\\theta}\\right)}{2 \\, r}, 0, \\frac{\\sqrt{2}}{2 \\, r}, \\frac{i \\, \\sqrt{2}}{2 \\, r \\sin\\left({\\theta}\\right)}\\right]$"
      ],
      "text/plain": [
       "m^{\\mu} =  [1/2*I*sqrt(2)*a*sin(th)/r, 0, 1/2*sqrt(2)/r, 1/2*I*sqrt(2)/(r*sin(th))]"
      ]
     },
     "metadata": {},
     "output_type": "display_data"
    },
    {
     "data": {
      "text/html": [
       "<html>\\(\\displaystyle \\bar{m}_{\\mu} =  \\left[-\\frac{i \\, \\sqrt{2} a \\sin\\left({\\theta}\\right)}{2 \\, r}, 0, \\frac{\\sqrt{2}}{2 \\, r}, -\\frac{i \\, \\sqrt{2}}{2 \\, r \\sin\\left({\\theta}\\right)}\\right]\\)</html>"
      ],
      "text/latex": [
       "$\\displaystyle \\bar{m}_{\\mu} =  \\left[-\\frac{i \\, \\sqrt{2} a \\sin\\left({\\theta}\\right)}{2 \\, r}, 0, \\frac{\\sqrt{2}}{2 \\, r}, -\\frac{i \\, \\sqrt{2}}{2 \\, r \\sin\\left({\\theta}\\right)}\\right]$"
      ],
      "text/plain": [
       "\\bar{m}_{\\mu} =  [-1/2*I*sqrt(2)*a*sin(th)/r, 0, 1/2*sqrt(2)/r, -1/2*I*sqrt(2)/(r*sin(th))]"
      ]
     },
     "metadata": {},
     "output_type": "display_data"
    }
   ],
   "source": [
    "Ld, Md, Nd, Mbar_d= L.down(g), Mr.down(g), N.down(g), Mbar.down(g)\n",
    "show(LatexExpr(r'l^{\\mu} = '),L[:])\n",
    "show(LatexExpr(r'n^{\\mu} = '),N[:])\n",
    "show(LatexExpr(r'm^{\\mu} = '),Mr[:])\n",
    "show(LatexExpr(r'\\bar{m}_{\\mu} = '), Mbar[:])"
   ]
  },
  {
   "cell_type": "code",
   "execution_count": 19,
   "id": "517bea6f",
   "metadata": {},
   "outputs": [
    {
     "data": {
      "text/html": [
       "<html>\\(\\displaystyle l^{\\mu}l_{\\mu} =  0 \\hspace{0.5cm} n^{\\mu}n_{\\mu} =  0 \\hspace{0.5cm} m^{\\mu}m_{\\mu} =  0 \\hspace{0.5cm} \\bar{m}^{\\mu}\\bar{m}_{\\mu} =  0\\)</html>"
      ],
      "text/latex": [
       "$\\displaystyle l^{\\mu}l_{\\mu} =  0 \\hspace{0.5cm} n^{\\mu}n_{\\mu} =  0 \\hspace{0.5cm} m^{\\mu}m_{\\mu} =  0 \\hspace{0.5cm} \\bar{m}^{\\mu}\\bar{m}_{\\mu} =  0$"
      ],
      "text/plain": [
       "l^{\\mu}l_{\\mu} =  0 \\hspace{0.5cm} n^{\\mu}n_{\\mu} =  0 \\hspace{0.5cm} m^{\\mu}m_{\\mu} =  0 \\hspace{0.5cm} \\bar{m}^{\\mu}\\bar{m}_{\\mu} =  0"
      ]
     },
     "metadata": {},
     "output_type": "display_data"
    },
    {
     "data": {
      "text/html": [
       "<html>\\(\\displaystyle l^{\\mu}m_{\\mu} =  0 \\hspace{0.5cm} m^{\\mu}n_{\\mu} =  0\\)</html>"
      ],
      "text/latex": [
       "$\\displaystyle l^{\\mu}m_{\\mu} =  0 \\hspace{0.5cm} m^{\\mu}n_{\\mu} =  0$"
      ],
      "text/plain": [
       "l^{\\mu}m_{\\mu} =  0 \\hspace{0.5cm} m^{\\mu}n_{\\mu} =  0"
      ]
     },
     "metadata": {},
     "output_type": "display_data"
    },
    {
     "data": {
      "text/html": [
       "<html>\\(\\displaystyle l^{\\mu}n_{\\mu} =  -1 \\hspace{0.5cm} m^{\\mu}\\bar{m}_{\\mu} =  1\\)</html>"
      ],
      "text/latex": [
       "$\\displaystyle l^{\\mu}n_{\\mu} =  -1 \\hspace{0.5cm} m^{\\mu}\\bar{m}_{\\mu} =  1$"
      ],
      "text/plain": [
       "l^{\\mu}n_{\\mu} =  -1 \\hspace{0.5cm} m^{\\mu}\\bar{m}_{\\mu} =  1"
      ]
     },
     "metadata": {},
     "output_type": "display_data"
    }
   ],
   "source": [
    "l_scalar, n_scalar, m_scalar, mbar_scalar = L['^{a}']*Ld['_{a}'], N['^{a}']*Nd['_{a}'], Mr['^{a}']*Md['_{a}'],Mbar['^{a}']*Mbar_d['_{a}']\n",
    "lm, mn,ln, mbarm = L['^{a}']*Md['_{a}'], Mr['^{a}']*Nd['_{a}'], L['^{a}']*Nd['_{a}'], Mr['^{a}']*Mbar_d['_{a}']\n",
    "\n",
    "show(LatexExpr(r'l^{\\mu}l_{\\mu} = '),l_scalar.expr().taylor(a,0,1).subs(q=0), LatexExpr(r'\\hspace{0.5cm} n^{\\mu}n_{\\mu} = '),\\\n",
    "     n_scalar.expr().taylor(a,0,1).subs(q=0), LatexExpr(r'\\hspace{0.5cm} m^{\\mu}m_{\\mu} = '),m_scalar.expr().taylor(a,0,1), \\\n",
    "     LatexExpr(r'\\hspace{0.5cm} \\bar{m}^{\\mu}\\bar{m}_{\\mu} = '),mbar_scalar.expr().taylor(a,0,1))\n",
    "\n",
    "show(LatexExpr(r'l^{\\mu}m_{\\mu} = '),lm.expr().taylor(a,0,1), LatexExpr(r'\\hspace{0.5cm} m^{\\mu}n_{\\mu} = '),\\\n",
    "     mn.expr().taylor(a,0,1))\n",
    "\n",
    "\n",
    "show(LatexExpr(r'l^{\\mu}n_{\\mu} = '),ln.expr().taylor(a,0,1).subs(q=0), LatexExpr(r'\\hspace{0.5cm} m^{\\mu}\\bar{m}_{\\mu} = '),mbarm.expr().taylor(a,0,1))"
   ]
  },
  {
   "cell_type": "code",
   "execution_count": 20,
   "id": "d651a309",
   "metadata": {},
   "outputs": [
    {
     "data": {
      "text/html": [
       "<html>\\(\\displaystyle g_{\\mu\\nu} =  \\left(\\begin{array}{rrrr}\n",
       "\\frac{2 \\, m - r}{r} & 0 & 0 & -\\frac{2 \\, a m \\sin\\left({\\theta}\\right)^{2}}{r} \\\\\n",
       "0 & -\\frac{r}{2 \\, m - r} & 0 & 0 \\\\\n",
       "0 & 0 & r^{2} & 0 \\\\\n",
       "-\\frac{2 \\, a m \\sin\\left({\\theta}\\right)^{2}}{r} & 0 & 0 & r^{2} \\sin\\left({\\theta}\\right)^{2}\n",
       "\\end{array}\\right)\\)</html>"
      ],
      "text/latex": [
       "$\\displaystyle g_{\\mu\\nu} =  \\left(\\begin{array}{rrrr}\n",
       "\\frac{2 \\, m - r}{r} & 0 & 0 & -\\frac{2 \\, a m \\sin\\left({\\theta}\\right)^{2}}{r} \\\\\n",
       "0 & -\\frac{r}{2 \\, m - r} & 0 & 0 \\\\\n",
       "0 & 0 & r^{2} & 0 \\\\\n",
       "-\\frac{2 \\, a m \\sin\\left({\\theta}\\right)^{2}}{r} & 0 & 0 & r^{2} \\sin\\left({\\theta}\\right)^{2}\n",
       "\\end{array}\\right)$"
      ],
      "text/plain": [
       "g_{\\mu\\nu} =  [       (2*m - r)/r                  0                  0 -2*a*m*sin(th)^2/r]\n",
       "[                 0       -r/(2*m - r)                  0                  0]\n",
       "[                 0                  0                r^2                  0]\n",
       "[-2*a*m*sin(th)^2/r                  0                  0      r^2*sin(th)^2]"
      ]
     },
     "metadata": {},
     "output_type": "display_data"
    }
   ],
   "source": [
    "for i in range(4):\n",
    "    g[i,i] = -2*Ld[i]*Nd[i] + 2*Md[i]*Mbar_d[i]\n",
    "g[0,3] = -Ld[0]*Nd[3] - Ld[3]*Nd[0] + Md[0]*Mbar_d[3] + Md[3]*Mbar_d[0]\n",
    "g.apply_map(lambda f:f.taylor(a,0,1).factor())\n",
    "show(LatexExpr(r'g_{\\mu\\nu} = '), g[:])"
   ]
  },
  {
   "cell_type": "markdown",
   "id": "5f0041f3",
   "metadata": {},
   "source": [
    "The tetrad conditions are still verified"
   ]
  },
  {
   "cell_type": "markdown",
   "id": "ce37c4bc",
   "metadata": {},
   "source": [
    "## II. 3. Generalization"
   ]
  },
  {
   "cell_type": "markdown",
   "id": "72e243d1",
   "metadata": {},
   "source": [
    "The quantities \\(m\\), \\(a\\) and \\(r\\) do not have a fixed role a priori and can, from a mathematical point of view, be replaced by any arbitrary function. We first replace \\(r\\) by a function $\\epsilon(r)$, then we find the expression of \\(m\\) to make appear the function $\\sigma(r)$ and finally  \\(a\\) is chosen such that we get $f(r)$. This way, we can obtain a more general form of the metric."
   ]
  },
  {
   "cell_type": "code",
   "execution_count": 21,
   "id": "524ef4fe",
   "metadata": {},
   "outputs": [
    {
     "data": {
      "text/html": [
       "<html>\\(\\displaystyle g = \\sigma\\left(r\\right) \\mathrm{d} t\\otimes \\mathrm{d} t -a f\\left(r\\right) \\sin\\left({\\theta}\\right)^{2} \\mathrm{d} t\\otimes \\mathrm{d} {\\phi} -\\frac{1}{\\sigma\\left(r\\right)} \\mathrm{d} r\\otimes \\mathrm{d} r + \\epsilon\\left(r\\right) \\mathrm{d} {\\theta}\\otimes \\mathrm{d} {\\theta} -a f\\left(r\\right) \\sin\\left({\\theta}\\right)^{2} \\mathrm{d} {\\phi}\\otimes \\mathrm{d} t + \\epsilon\\left(r\\right) \\sin\\left({\\theta}\\right)^{2} \\mathrm{d} {\\phi}\\otimes \\mathrm{d} {\\phi}\\)</html>"
      ],
      "text/latex": [
       "$\\displaystyle g = \\sigma\\left(r\\right) \\mathrm{d} t\\otimes \\mathrm{d} t -a f\\left(r\\right) \\sin\\left({\\theta}\\right)^{2} \\mathrm{d} t\\otimes \\mathrm{d} {\\phi} -\\frac{1}{\\sigma\\left(r\\right)} \\mathrm{d} r\\otimes \\mathrm{d} r + \\epsilon\\left(r\\right) \\mathrm{d} {\\theta}\\otimes \\mathrm{d} {\\theta} -a f\\left(r\\right) \\sin\\left({\\theta}\\right)^{2} \\mathrm{d} {\\phi}\\otimes \\mathrm{d} t + \\epsilon\\left(r\\right) \\sin\\left({\\theta}\\right)^{2} \\mathrm{d} {\\phi}\\otimes \\mathrm{d} {\\phi}$"
      ],
      "text/plain": [
       "g = sigma(r) dt⊗dt - a*f(r)*sin(th)^2 dt⊗dph - 1/sigma(r) dr⊗dr + epsilon(r) dth⊗dth - a*f(r)*sin(th)^2 dph⊗dt + epsilon(r)*sin(th)^2 dph⊗dph"
      ]
     },
     "execution_count": 21,
     "metadata": {},
     "output_type": "execute_result"
    }
   ],
   "source": [
    "g = M.metric()\n",
    "a = var('a')\n",
    "sig = function('sigma')\n",
    "eps = function('epsilon')\n",
    "f = function('f')\n",
    "g[0,0] = sig(r)\n",
    "g[0,3] = -a*f(r)*sin(th)**2 \n",
    "g[1,1] = -1/sig(r)\n",
    "g[2,2] = eps(r)\n",
    "g[3,3] = sin(th)**2*eps(r)\n",
    "g[3,0] = -a*f(r)*sin(th)**2  \n",
    "g.display()"
   ]
  },
  {
   "cell_type": "code",
   "execution_count": 22,
   "id": "44b1ed9c",
   "metadata": {},
   "outputs": [
    {
     "data": {
      "text/html": [
       "<html>\\(\\displaystyle g_{\\mu\\nu} =  \\left(\\begin{array}{rrrr}\n",
       "\\sigma\\left(r\\right) & 0 & 0 & -a f\\left(r\\right) \\sin\\left({\\theta}\\right)^{2} \\\\\n",
       "0 & -\\frac{1}{\\sigma\\left(r\\right)} & 0 & 0 \\\\\n",
       "0 & 0 & \\epsilon\\left(r\\right) & 0 \\\\\n",
       "-a f\\left(r\\right) \\sin\\left({\\theta}\\right)^{2} & 0 & 0 & \\epsilon\\left(r\\right) \\sin\\left({\\theta}\\right)^{2}\n",
       "\\end{array}\\right)\\)</html>"
      ],
      "text/latex": [
       "$\\displaystyle g_{\\mu\\nu} =  \\left(\\begin{array}{rrrr}\n",
       "\\sigma\\left(r\\right) & 0 & 0 & -a f\\left(r\\right) \\sin\\left({\\theta}\\right)^{2} \\\\\n",
       "0 & -\\frac{1}{\\sigma\\left(r\\right)} & 0 & 0 \\\\\n",
       "0 & 0 & \\epsilon\\left(r\\right) & 0 \\\\\n",
       "-a f\\left(r\\right) \\sin\\left({\\theta}\\right)^{2} & 0 & 0 & \\epsilon\\left(r\\right) \\sin\\left({\\theta}\\right)^{2}\n",
       "\\end{array}\\right)$"
      ],
      "text/plain": [
       "g_{\\mu\\nu} =  [            sigma(r)                    0                    0    -a*f(r)*sin(th)^2]\n",
       "[                   0          -1/sigma(r)                    0                    0]\n",
       "[                   0                    0           epsilon(r)                    0]\n",
       "[   -a*f(r)*sin(th)^2                    0                    0 epsilon(r)*sin(th)^2]"
      ]
     },
     "metadata": {},
     "output_type": "display_data"
    }
   ],
   "source": [
    "show(LatexExpr(r'g_{\\mu\\nu} = '), g[:])"
   ]
  },
  {
   "cell_type": "code",
   "execution_count": 23,
   "id": "9df9b3c8",
   "metadata": {},
   "outputs": [],
   "source": [
    "Delta = a*f(r)/((sig(r)+1)*eps(r))"
   ]
  },
  {
   "cell_type": "code",
   "execution_count": 24,
   "id": "23afa2d1",
   "metadata": {},
   "outputs": [
    {
     "data": {
      "text/html": [
       "<html>\\(\\displaystyle l^{\\mu} =  \\left[-\\frac{1}{\\sigma\\left(r\\right)}, 1, 0, -\\frac{a f\\left(r\\right)}{{\\left(\\sigma\\left(r\\right) + 1\\right)} \\epsilon\\left(r\\right) \\sigma\\left(r\\right)}\\right]\\)</html>"
      ],
      "text/latex": [
       "$\\displaystyle l^{\\mu} =  \\left[-\\frac{1}{\\sigma\\left(r\\right)}, 1, 0, -\\frac{a f\\left(r\\right)}{{\\left(\\sigma\\left(r\\right) + 1\\right)} \\epsilon\\left(r\\right) \\sigma\\left(r\\right)}\\right]$"
      ],
      "text/plain": [
       "l^{\\mu} =  [-1/sigma(r), 1, 0, -a*f(r)/((sigma(r) + 1)*epsilon(r)*sigma(r))]"
      ]
     },
     "metadata": {},
     "output_type": "display_data"
    },
    {
     "data": {
      "text/html": [
       "<html>\\(\\displaystyle n^{\\mu} =  \\left[\\frac{1}{2}, \\frac{1}{2} \\, \\sigma\\left(r\\right), 0, \\frac{a f\\left(r\\right)}{2 \\, {\\left(\\sigma\\left(r\\right) + 1\\right)} \\epsilon\\left(r\\right)}\\right]\\)</html>"
      ],
      "text/latex": [
       "$\\displaystyle n^{\\mu} =  \\left[\\frac{1}{2}, \\frac{1}{2} \\, \\sigma\\left(r\\right), 0, \\frac{a f\\left(r\\right)}{2 \\, {\\left(\\sigma\\left(r\\right) + 1\\right)} \\epsilon\\left(r\\right)}\\right]$"
      ],
      "text/plain": [
       "n^{\\mu} =  [1/2, 1/2*sigma(r), 0, 1/2*a*f(r)/((sigma(r) + 1)*epsilon(r))]"
      ]
     },
     "metadata": {},
     "output_type": "display_data"
    },
    {
     "data": {
      "text/html": [
       "<html>\\(\\displaystyle m^{\\mu} =  \\left[\\frac{i \\, \\sqrt{2} a f\\left(r\\right) \\sin\\left({\\theta}\\right)}{2 \\, {\\left(\\sigma\\left(r\\right) + 1\\right)} \\sqrt{\\epsilon\\left(r\\right)}}, 0, \\frac{\\sqrt{2}}{2 \\, \\sqrt{\\epsilon\\left(r\\right)}}, \\frac{i \\, \\sqrt{2}}{2 \\, \\sqrt{\\epsilon\\left(r\\right)} \\sin\\left({\\theta}\\right)}\\right]\\)</html>"
      ],
      "text/latex": [
       "$\\displaystyle m^{\\mu} =  \\left[\\frac{i \\, \\sqrt{2} a f\\left(r\\right) \\sin\\left({\\theta}\\right)}{2 \\, {\\left(\\sigma\\left(r\\right) + 1\\right)} \\sqrt{\\epsilon\\left(r\\right)}}, 0, \\frac{\\sqrt{2}}{2 \\, \\sqrt{\\epsilon\\left(r\\right)}}, \\frac{i \\, \\sqrt{2}}{2 \\, \\sqrt{\\epsilon\\left(r\\right)} \\sin\\left({\\theta}\\right)}\\right]$"
      ],
      "text/plain": [
       "m^{\\mu} =  [1/2*I*sqrt(2)*a*f(r)*sin(th)/((sigma(r) + 1)*sqrt(epsilon(r))),\n",
       " 0,\n",
       " 1/2*sqrt(2)/sqrt(epsilon(r)),\n",
       " 1/2*I*sqrt(2)/(sqrt(epsilon(r))*sin(th))]"
      ]
     },
     "metadata": {},
     "output_type": "display_data"
    },
    {
     "data": {
      "text/html": [
       "<html>\\(\\displaystyle \\bar{m}_{\\mu} =  \\left[-\\frac{i \\, \\sqrt{2} a f\\left(r\\right) \\sin\\left({\\theta}\\right)}{2 \\, {\\left(\\sigma\\left(r\\right) + 1\\right)} \\sqrt{\\epsilon\\left(r\\right)}}, 0, \\frac{\\sqrt{2}}{2 \\, \\sqrt{\\epsilon\\left(r\\right)}}, -\\frac{i \\, \\sqrt{2}}{2 \\, \\sqrt{\\epsilon\\left(r\\right)} \\sin\\left({\\theta}\\right)}\\right]\\)</html>"
      ],
      "text/latex": [
       "$\\displaystyle \\bar{m}_{\\mu} =  \\left[-\\frac{i \\, \\sqrt{2} a f\\left(r\\right) \\sin\\left({\\theta}\\right)}{2 \\, {\\left(\\sigma\\left(r\\right) + 1\\right)} \\sqrt{\\epsilon\\left(r\\right)}}, 0, \\frac{\\sqrt{2}}{2 \\, \\sqrt{\\epsilon\\left(r\\right)}}, -\\frac{i \\, \\sqrt{2}}{2 \\, \\sqrt{\\epsilon\\left(r\\right)} \\sin\\left({\\theta}\\right)}\\right]$"
      ],
      "text/plain": [
       "\\bar{m}_{\\mu} =  [-1/2*I*sqrt(2)*a*f(r)*sin(th)/((sigma(r) + 1)*sqrt(epsilon(r))),\n",
       " 0,\n",
       " 1/2*sqrt(2)/sqrt(epsilon(r)),\n",
       " -1/2*I*sqrt(2)/(sqrt(epsilon(r))*sin(th))]"
      ]
     },
     "metadata": {},
     "output_type": "display_data"
    }
   ],
   "source": [
    "L[0],N[0],Mr[0],Mbar[0] = -1/sig(r), 1/2, Delta*eps(r)**(1/2)*I*sin(th)/(2**(1/2)), -Delta*eps(r)**(1/2)*I*sin(th)/(2**(1/2))\n",
    "L[1],N[1],Mr[1],Mbar[1] = 1, sig(r)/2, 0, 0\n",
    "L[2],N[2],Mr[2],Mbar[2] = 0,0,1/((2*eps(r))**(1/2)), 1/((2*eps(r))**(1/2))\n",
    "L[3],N[3],Mr[3],Mbar[3] = -Delta/sig(r), Delta/2, I/(2**(1/2)*eps(r)**(1/2)*sin(th)), -I/(2**(1/2)*eps(r)**(1/2)*sin(th))\n",
    "Ld, Md, Nd, Mbar_d= L.down(g), Mr.down(g), N.down(g), Mbar.down(g)\n",
    "\n",
    "\n",
    "show(LatexExpr(r'l^{\\mu} = '),L[:])\n",
    "show(LatexExpr(r'n^{\\mu} = '),N[:])\n",
    "show(LatexExpr(r'm^{\\mu} = '),Mr[:])\n",
    "show(LatexExpr(r'\\bar{m}_{\\mu} = '), Mbar[:])"
   ]
  },
  {
   "cell_type": "code",
   "execution_count": 25,
   "id": "25d4bf37",
   "metadata": {},
   "outputs": [
    {
     "data": {
      "text/html": [
       "<html>\\(\\displaystyle l^{\\mu}l_{\\mu} =  0 \\hspace{0.5cm} n^{\\mu}n_{\\mu} =  0 \\hspace{0.5cm} m^{\\mu}m_{\\mu} =  0 \\hspace{0.5cm} \\bar{m}^{\\mu}\\bar{m}_{\\mu} =  0\\)</html>"
      ],
      "text/latex": [
       "$\\displaystyle l^{\\mu}l_{\\mu} =  0 \\hspace{0.5cm} n^{\\mu}n_{\\mu} =  0 \\hspace{0.5cm} m^{\\mu}m_{\\mu} =  0 \\hspace{0.5cm} \\bar{m}^{\\mu}\\bar{m}_{\\mu} =  0$"
      ],
      "text/plain": [
       "l^{\\mu}l_{\\mu} =  0 \\hspace{0.5cm} n^{\\mu}n_{\\mu} =  0 \\hspace{0.5cm} m^{\\mu}m_{\\mu} =  0 \\hspace{0.5cm} \\bar{m}^{\\mu}\\bar{m}_{\\mu} =  0"
      ]
     },
     "metadata": {},
     "output_type": "display_data"
    },
    {
     "data": {
      "text/html": [
       "<html>\\(\\displaystyle l^{\\mu}m_{\\mu} =  0 \\hspace{0.5cm} m^{\\mu}n_{\\mu} =  0\\)</html>"
      ],
      "text/latex": [
       "$\\displaystyle l^{\\mu}m_{\\mu} =  0 \\hspace{0.5cm} m^{\\mu}n_{\\mu} =  0$"
      ],
      "text/plain": [
       "l^{\\mu}m_{\\mu} =  0 \\hspace{0.5cm} m^{\\mu}n_{\\mu} =  0"
      ]
     },
     "metadata": {},
     "output_type": "display_data"
    },
    {
     "data": {
      "text/html": [
       "<html>\\(\\displaystyle l^{\\mu}n_{\\mu} =  -1 \\hspace{0.5cm} m^{\\mu}\\bar{m}_{\\mu} =  1\\)</html>"
      ],
      "text/latex": [
       "$\\displaystyle l^{\\mu}n_{\\mu} =  -1 \\hspace{0.5cm} m^{\\mu}\\bar{m}_{\\mu} =  1$"
      ],
      "text/plain": [
       "l^{\\mu}n_{\\mu} =  -1 \\hspace{0.5cm} m^{\\mu}\\bar{m}_{\\mu} =  1"
      ]
     },
     "metadata": {},
     "output_type": "display_data"
    }
   ],
   "source": [
    "l_scalar, n_scalar, m_scalar, mbar_scalar = L['^{a}']*Ld['_{a}'], N['^{a}']*Nd['_{a}'], Mr['^{a}']*Md['_{a}'],Mbar['^{a}']*Mbar_d['_{a}']\n",
    "lm, mn,ln, mbarm = L['^{a}']*Md['_{a}'], Mr['^{a}']*Nd['_{a}'], L['^{a}']*Nd['_{a}'], Mr['^{a}']*Mbar_d['_{a}']\n",
    "\n",
    "show(LatexExpr(r'l^{\\mu}l_{\\mu} = '),l_scalar.expr().taylor(a,0,1), LatexExpr(r'\\hspace{0.5cm} n^{\\mu}n_{\\mu} = '),\\\n",
    "     n_scalar.expr().taylor(a,0,1).subs(q=0), LatexExpr(r'\\hspace{0.5cm} m^{\\mu}m_{\\mu} = '),m_scalar.expr().taylor(a,0,1), \\\n",
    "     LatexExpr(r'\\hspace{0.5cm} \\bar{m}^{\\mu}\\bar{m}_{\\mu} = '),mbar_scalar.expr().taylor(a,0,1))\n",
    "\n",
    "show(LatexExpr(r'l^{\\mu}m_{\\mu} = '),lm.expr().taylor(a,0,1), LatexExpr(r'\\hspace{0.5cm} m^{\\mu}n_{\\mu} = '),\\\n",
    "     mn.expr().taylor(a,0,1))\n",
    "\n",
    "\n",
    "show(LatexExpr(r'l^{\\mu}n_{\\mu} = '),ln.expr().taylor(a,0,1), LatexExpr(r'\\hspace{0.5cm} m^{\\mu}\\bar{m}_{\\mu} = '),mbarm.expr().taylor(a,0,1))"
   ]
  },
  {
   "cell_type": "code",
   "execution_count": 26,
   "id": "a6a9ed9e",
   "metadata": {},
   "outputs": [
    {
     "data": {
      "text/html": [
       "<html>\\(\\displaystyle g_{\\mu\\nu} =  \\left(\\begin{array}{rrrr}\n",
       "\\sigma\\left(r\\right) & 0 & 0 & -a f\\left(r\\right) \\sin\\left({\\theta}\\right)^{2} \\\\\n",
       "0 & -\\frac{1}{\\sigma\\left(r\\right)} & 0 & 0 \\\\\n",
       "0 & 0 & \\epsilon\\left(r\\right) & 0 \\\\\n",
       "-a f\\left(r\\right) \\sin\\left({\\theta}\\right)^{2} & 0 & 0 & \\epsilon\\left(r\\right) \\sin\\left({\\theta}\\right)^{2}\n",
       "\\end{array}\\right)\\)</html>"
      ],
      "text/latex": [
       "$\\displaystyle g_{\\mu\\nu} =  \\left(\\begin{array}{rrrr}\n",
       "\\sigma\\left(r\\right) & 0 & 0 & -a f\\left(r\\right) \\sin\\left({\\theta}\\right)^{2} \\\\\n",
       "0 & -\\frac{1}{\\sigma\\left(r\\right)} & 0 & 0 \\\\\n",
       "0 & 0 & \\epsilon\\left(r\\right) & 0 \\\\\n",
       "-a f\\left(r\\right) \\sin\\left({\\theta}\\right)^{2} & 0 & 0 & \\epsilon\\left(r\\right) \\sin\\left({\\theta}\\right)^{2}\n",
       "\\end{array}\\right)$"
      ],
      "text/plain": [
       "g_{\\mu\\nu} =  [            sigma(r)                    0                    0    -a*f(r)*sin(th)^2]\n",
       "[                   0          -1/sigma(r)                    0                    0]\n",
       "[                   0                    0           epsilon(r)                    0]\n",
       "[   -a*f(r)*sin(th)^2                    0                    0 epsilon(r)*sin(th)^2]"
      ]
     },
     "metadata": {},
     "output_type": "display_data"
    }
   ],
   "source": [
    "for i in range(4):\n",
    "    g[i,i] = -2*Ld[i]*Nd[i] + 2*Md[i]*Mbar_d[i]\n",
    "g[0,3] = -Ld[0]*Nd[3] - Ld[3]*Nd[0] + Md[0]*Mbar_d[3] + Md[3]*Mbar_d[0]\n",
    "g.apply_map(lambda f:f.taylor(a,0,1))\n",
    "show(LatexExpr(r'g_{\\mu\\nu} = '), g[:])"
   ]
  },
  {
   "cell_type": "markdown",
   "id": "3147c3d4",
   "metadata": {},
   "source": [
    "Thus, we have obtained a form of tetrad valid at the first order in 'a' for a non-diagonal metric composed of functions $\\epsilon(r)$, $\\sigma(r)$ and $f(r)$"
   ]
  },
  {
   "cell_type": "markdown",
   "id": "1fea2b5a",
   "metadata": {},
   "source": [
    "## II. 4. Case of slowly rotating black holes in Entangled Relativity "
   ]
  },
  {
   "cell_type": "code",
   "execution_count": 27,
   "id": "f9f4c52e",
   "metadata": {},
   "outputs": [],
   "source": [
    "r_m, r_p, alpha, a = var('r_m r_p alpha a')\n",
    "\n",
    "H=(r_m*r_p/(1+alpha**2))**(1/2)\n",
    "Psi(r) = (1-r_p/r)\n",
    "Phi(r) = (1-r_m/r)\n",
    "A(r)=-Psi(r)*Phi(r)**((1-alpha**2)/(1+alpha**2))\n",
    "B(r)=r**2*Phi(r)**(2*alpha**2/(1+alpha**2))\n",
    "C(r)=(r**2*(1+alpha**2)**2)*Phi(r)**(2*alpha**2/(1+alpha**2))/(((1-alpha**2)*(1-3*alpha**2)*r_m**2))-Phi(r)**((1-alpha**2)/(1+alpha**2))*(1+(1+alpha**2)**2*r**2/((1-alpha**2)*(1-3*alpha**2)*r_m**2)+(1+alpha**2)*r/((1-alpha**2)*r_m)-r_p/r)"
   ]
  },
  {
   "cell_type": "code",
   "execution_count": 30,
   "id": "6f519e94",
   "metadata": {},
   "outputs": [
    {
     "data": {
      "text/html": [
       "<html>\\(\\displaystyle l^{\\mu} =  \\left[-\\frac{1}{{\\left(-\\frac{r_{m}}{r} + 1\\right)}^{\\frac{11}{13}} {\\left(\\frac{r_{p}}{r} - 1\\right)}}, 1, 0, -\\frac{{\\left({\\left(\\frac{169 \\, r^{2}}{r_{m}^{2}} + \\frac{117 \\, r}{r_{m}} - \\frac{99 \\, r_{p}}{r} + 99\\right)} {\\left(-\\frac{r_{m}}{r} + 1\\right)}^{\\frac{11}{13}} - \\frac{169 \\, r^{2} {\\left(-\\frac{r_{m}}{r} + 1\\right)}^{\\frac{2}{13}}}{r_{m}^{2}}\\right)} a}{99 \\, {\\left({\\left(-\\frac{r_{m}}{r} + 1\\right)}^{\\frac{11}{13}} {\\left(\\frac{r_{p}}{r} - 1\\right)} + 1\\right)} r^{2} {\\left(\\frac{r_{m}}{r} - 1\\right)} {\\left(\\frac{r_{p}}{r} - 1\\right)}}\\right]\\)</html>"
      ],
      "text/latex": [
       "$\\displaystyle l^{\\mu} =  \\left[-\\frac{1}{{\\left(-\\frac{r_{m}}{r} + 1\\right)}^{\\frac{11}{13}} {\\left(\\frac{r_{p}}{r} - 1\\right)}}, 1, 0, -\\frac{{\\left({\\left(\\frac{169 \\, r^{2}}{r_{m}^{2}} + \\frac{117 \\, r}{r_{m}} - \\frac{99 \\, r_{p}}{r} + 99\\right)} {\\left(-\\frac{r_{m}}{r} + 1\\right)}^{\\frac{11}{13}} - \\frac{169 \\, r^{2} {\\left(-\\frac{r_{m}}{r} + 1\\right)}^{\\frac{2}{13}}}{r_{m}^{2}}\\right)} a}{99 \\, {\\left({\\left(-\\frac{r_{m}}{r} + 1\\right)}^{\\frac{11}{13}} {\\left(\\frac{r_{p}}{r} - 1\\right)} + 1\\right)} r^{2} {\\left(\\frac{r_{m}}{r} - 1\\right)} {\\left(\\frac{r_{p}}{r} - 1\\right)}}\\right]$"
      ],
      "text/plain": [
       "l^{\\mu} =  [-1/((-r_m/r + 1)^(11/13)*(r_p/r - 1)),\n",
       " 1,\n",
       " 0,\n",
       " -1/99*((169*r^2/r_m^2 + 117*r/r_m - 99*r_p/r + 99)*(-r_m/r + 1)^(11/13) - 169*r^2*(-r_m/r + 1)^(2/13)/r_m^2)*a/(((-r_m/r + 1)^(11/13)*(r_p/r - 1) + 1)*r^2*(r_m/r - 1)*(r_p/r - 1))]"
      ]
     },
     "metadata": {},
     "output_type": "display_data"
    },
    {
     "data": {
      "text/html": [
       "<html>\\(\\displaystyle n^{\\mu} =  \\left[\\frac{1}{2}, \\frac{1}{2} \\, {\\left(-\\frac{r_{m}}{r} + 1\\right)}^{\\frac{11}{13}} {\\left(\\frac{r_{p}}{r} - 1\\right)}, 0, -\\frac{{\\left({\\left(\\frac{169 \\, r^{2}}{r_{m}^{2}} + \\frac{117 \\, r}{r_{m}} - \\frac{99 \\, r_{p}}{r} + 99\\right)} {\\left(-\\frac{r_{m}}{r} + 1\\right)}^{\\frac{11}{13}} - \\frac{169 \\, r^{2} {\\left(-\\frac{r_{m}}{r} + 1\\right)}^{\\frac{2}{13}}}{r_{m}^{2}}\\right)} a}{198 \\, {\\left({\\left(-\\frac{r_{m}}{r} + 1\\right)}^{\\frac{11}{13}} {\\left(\\frac{r_{p}}{r} - 1\\right)} + 1\\right)} r^{2} {\\left(-\\frac{r_{m}}{r} + 1\\right)}^{\\frac{2}{13}}}\\right]\\)</html>"
      ],
      "text/latex": [
       "$\\displaystyle n^{\\mu} =  \\left[\\frac{1}{2}, \\frac{1}{2} \\, {\\left(-\\frac{r_{m}}{r} + 1\\right)}^{\\frac{11}{13}} {\\left(\\frac{r_{p}}{r} - 1\\right)}, 0, -\\frac{{\\left({\\left(\\frac{169 \\, r^{2}}{r_{m}^{2}} + \\frac{117 \\, r}{r_{m}} - \\frac{99 \\, r_{p}}{r} + 99\\right)} {\\left(-\\frac{r_{m}}{r} + 1\\right)}^{\\frac{11}{13}} - \\frac{169 \\, r^{2} {\\left(-\\frac{r_{m}}{r} + 1\\right)}^{\\frac{2}{13}}}{r_{m}^{2}}\\right)} a}{198 \\, {\\left({\\left(-\\frac{r_{m}}{r} + 1\\right)}^{\\frac{11}{13}} {\\left(\\frac{r_{p}}{r} - 1\\right)} + 1\\right)} r^{2} {\\left(-\\frac{r_{m}}{r} + 1\\right)}^{\\frac{2}{13}}}\\right]$"
      ],
      "text/plain": [
       "n^{\\mu} =  [1/2,\n",
       " 1/2*(-r_m/r + 1)^(11/13)*(r_p/r - 1),\n",
       " 0,\n",
       " -1/198*((169*r^2/r_m^2 + 117*r/r_m - 99*r_p/r + 99)*(-r_m/r + 1)^(11/13) - 169*r^2*(-r_m/r + 1)^(2/13)/r_m^2)*a/(((-r_m/r + 1)^(11/13)*(r_p/r - 1) + 1)*r^2*(-r_m/r + 1)^(2/13))]"
      ]
     },
     "metadata": {},
     "output_type": "display_data"
    },
    {
     "data": {
      "text/html": [
       "<html>\\(\\displaystyle m^{\\mu} =  \\left[-\\frac{i \\, \\sqrt{2} {\\left({\\left(\\frac{169 \\, r^{2}}{r_{m}^{2}} + \\frac{117 \\, r}{r_{m}} - \\frac{99 \\, r_{p}}{r} + 99\\right)} {\\left(-\\frac{r_{m}}{r} + 1\\right)}^{\\frac{11}{13}} - \\frac{169 \\, r^{2} {\\left(-\\frac{r_{m}}{r} + 1\\right)}^{\\frac{2}{13}}}{r_{m}^{2}}\\right)} a \\sin\\left({\\theta}\\right)}{198 \\, {\\left({\\left(-\\frac{r_{m}}{r} + 1\\right)}^{\\frac{11}{13}} {\\left(\\frac{r_{p}}{r} - 1\\right)} + 1\\right)} {\\left(-\\frac{r_{m}}{r} + 1\\right)}^{\\frac{1}{13}} {\\left| r \\right|}}, 0, \\frac{\\sqrt{2}}{2 \\, {\\left(-\\frac{r_{m}}{r} + 1\\right)}^{\\frac{1}{13}} {\\left| r \\right|}}, \\frac{i \\, \\sqrt{2}}{2 \\, {\\left(-\\frac{r_{m}}{r} + 1\\right)}^{\\frac{1}{13}} {\\left| r \\right|} \\sin\\left({\\theta}\\right)}\\right]\\)</html>"
      ],
      "text/latex": [
       "$\\displaystyle m^{\\mu} =  \\left[-\\frac{i \\, \\sqrt{2} {\\left({\\left(\\frac{169 \\, r^{2}}{r_{m}^{2}} + \\frac{117 \\, r}{r_{m}} - \\frac{99 \\, r_{p}}{r} + 99\\right)} {\\left(-\\frac{r_{m}}{r} + 1\\right)}^{\\frac{11}{13}} - \\frac{169 \\, r^{2} {\\left(-\\frac{r_{m}}{r} + 1\\right)}^{\\frac{2}{13}}}{r_{m}^{2}}\\right)} a \\sin\\left({\\theta}\\right)}{198 \\, {\\left({\\left(-\\frac{r_{m}}{r} + 1\\right)}^{\\frac{11}{13}} {\\left(\\frac{r_{p}}{r} - 1\\right)} + 1\\right)} {\\left(-\\frac{r_{m}}{r} + 1\\right)}^{\\frac{1}{13}} {\\left| r \\right|}}, 0, \\frac{\\sqrt{2}}{2 \\, {\\left(-\\frac{r_{m}}{r} + 1\\right)}^{\\frac{1}{13}} {\\left| r \\right|}}, \\frac{i \\, \\sqrt{2}}{2 \\, {\\left(-\\frac{r_{m}}{r} + 1\\right)}^{\\frac{1}{13}} {\\left| r \\right|} \\sin\\left({\\theta}\\right)}\\right]$"
      ],
      "text/plain": [
       "m^{\\mu} =  [-1/198*I*sqrt(2)*((169*r^2/r_m^2 + 117*r/r_m - 99*r_p/r + 99)*(-r_m/r + 1)^(11/13) - 169*r^2*(-r_m/r + 1)^(2/13)/r_m^2)*a*sin(th)/(((-r_m/r + 1)^(11/13)*(r_p/r - 1) + 1)*(-r_m/r + 1)^(1/13)*abs(r)),\n",
       " 0,\n",
       " 1/2*sqrt(2)/((-r_m/r + 1)^(1/13)*abs(r)),\n",
       " 1/2*I*sqrt(2)/((-r_m/r + 1)^(1/13)*abs(r)*sin(th))]"
      ]
     },
     "metadata": {},
     "output_type": "display_data"
    },
    {
     "data": {
      "text/html": [
       "<html>\\(\\displaystyle \\bar{m}^{\\mu} =  \\left[\\frac{i \\, \\sqrt{2} {\\left({\\left(\\frac{169 \\, r^{2}}{r_{m}^{2}} + \\frac{117 \\, r}{r_{m}} - \\frac{99 \\, r_{p}}{r} + 99\\right)} {\\left(-\\frac{r_{m}}{r} + 1\\right)}^{\\frac{11}{13}} - \\frac{169 \\, r^{2} {\\left(-\\frac{r_{m}}{r} + 1\\right)}^{\\frac{2}{13}}}{r_{m}^{2}}\\right)} a \\sin\\left({\\theta}\\right)}{198 \\, {\\left({\\left(-\\frac{r_{m}}{r} + 1\\right)}^{\\frac{11}{13}} {\\left(\\frac{r_{p}}{r} - 1\\right)} + 1\\right)} {\\left(-\\frac{r_{m}}{r} + 1\\right)}^{\\frac{1}{13}} {\\left| r \\right|}}, 0, \\frac{\\sqrt{2}}{2 \\, {\\left(-\\frac{r_{m}}{r} + 1\\right)}^{\\frac{1}{13}} {\\left| r \\right|}}, -\\frac{i \\, \\sqrt{2}}{2 \\, {\\left(-\\frac{r_{m}}{r} + 1\\right)}^{\\frac{1}{13}} {\\left| r \\right|} \\sin\\left({\\theta}\\right)}\\right]\\)</html>"
      ],
      "text/latex": [
       "$\\displaystyle \\bar{m}^{\\mu} =  \\left[\\frac{i \\, \\sqrt{2} {\\left({\\left(\\frac{169 \\, r^{2}}{r_{m}^{2}} + \\frac{117 \\, r}{r_{m}} - \\frac{99 \\, r_{p}}{r} + 99\\right)} {\\left(-\\frac{r_{m}}{r} + 1\\right)}^{\\frac{11}{13}} - \\frac{169 \\, r^{2} {\\left(-\\frac{r_{m}}{r} + 1\\right)}^{\\frac{2}{13}}}{r_{m}^{2}}\\right)} a \\sin\\left({\\theta}\\right)}{198 \\, {\\left({\\left(-\\frac{r_{m}}{r} + 1\\right)}^{\\frac{11}{13}} {\\left(\\frac{r_{p}}{r} - 1\\right)} + 1\\right)} {\\left(-\\frac{r_{m}}{r} + 1\\right)}^{\\frac{1}{13}} {\\left| r \\right|}}, 0, \\frac{\\sqrt{2}}{2 \\, {\\left(-\\frac{r_{m}}{r} + 1\\right)}^{\\frac{1}{13}} {\\left| r \\right|}}, -\\frac{i \\, \\sqrt{2}}{2 \\, {\\left(-\\frac{r_{m}}{r} + 1\\right)}^{\\frac{1}{13}} {\\left| r \\right|} \\sin\\left({\\theta}\\right)}\\right]$"
      ],
      "text/plain": [
       "\\bar{m}^{\\mu} =  [1/198*I*sqrt(2)*((169*r^2/r_m^2 + 117*r/r_m - 99*r_p/r + 99)*(-r_m/r + 1)^(11/13) - 169*r^2*(-r_m/r + 1)^(2/13)/r_m^2)*a*sin(th)/(((-r_m/r + 1)^(11/13)*(r_p/r - 1) + 1)*(-r_m/r + 1)^(1/13)*abs(r)),\n",
       " 0,\n",
       " 1/2*sqrt(2)/((-r_m/r + 1)^(1/13)*abs(r)),\n",
       " -1/2*I*sqrt(2)/((-r_m/r + 1)^(1/13)*abs(r)*sin(th))]"
      ]
     },
     "metadata": {},
     "output_type": "display_data"
    }
   ],
   "source": [
    "L.apply_map(lambda l: l.substitute_function(sig, A).substitute_function(eps, B).substitute_function(f, C).subs(alpha==1/(2*(3)**(1/2)))) \n",
    "N.apply_map(lambda l: l.substitute_function(sig, A).substitute_function(eps, B).substitute_function(f, C).subs(alpha==1/(2*(3)**(1/2)))) \n",
    "Mr.apply_map(lambda l: l.substitute_function(sig, A).substitute_function(eps, B).substitute_function(f, C).subs(alpha==1/(2*(3)**(1/2)))) \n",
    "Mbar.apply_map(lambda l: l.substitute_function(sig, A).substitute_function(eps, B).substitute_function(f, C).subs(alpha==1/(2*(3)**(1/2)))) \n",
    "\n",
    "show(LatexExpr(r'l^{\\mu} = '),L[:])\n",
    "show(LatexExpr(r'n^{\\mu} = '),N[:])\n",
    "show(LatexExpr(r'm^{\\mu} = '),Mr[:])\n",
    "show(LatexExpr(r'\\bar{m}^{\\mu} = '), Mbar[:])"
   ]
  },
  {
   "cell_type": "markdown",
   "id": "0f8d2ed1",
   "metadata": {},
   "source": [
    "Here we have the final expression for the different tetrad components"
   ]
  },
  {
   "cell_type": "code",
   "execution_count": 29,
   "id": "b9eadded",
   "metadata": {},
   "outputs": [],
   "source": [
    "expressions = {\n",
    "    'L_expression': L,\n",
    "    'N_expression': N,\n",
    "    'M_expression': Mr,\n",
    "    'Mbar_expression': Mbar,\n",
    "}\n",
    "\n",
    "with open('expressions.pkl', 'wb') as file:\n",
    "    pickle.dump(expressions, file)\n"
   ]
  }
 ],
 "metadata": {
  "kernelspec": {
   "display_name": "SageMath 10.1",
   "language": "sage",
   "name": "sagemath"
  },
  "language_info": {
   "codemirror_mode": {
    "name": "ipython",
    "version": 3
   },
   "file_extension": ".py",
   "mimetype": "text/x-python",
   "name": "python",
   "nbconvert_exporter": "python",
   "pygments_lexer": "ipython3",
   "version": "3.10.12"
  }
 },
 "nbformat": 4,
 "nbformat_minor": 5
}
