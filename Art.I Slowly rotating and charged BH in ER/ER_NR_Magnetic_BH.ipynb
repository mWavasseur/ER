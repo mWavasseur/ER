{
 "cells": [
  {
   "cell_type": "markdown",
   "id": "be74b5e0",
   "metadata": {},
   "source": [
    "# NON ROTATING CASE IN ENTANGLED RELATIVITY FOR MAGNETICALLY CHARGED BLACK HOLES"
   ]
  },
  {
   "cell_type": "markdown",
   "id": "da549019",
   "metadata": {},
   "source": [
    "For the details of the field equations in the theory of entangled relativity, we invite \n",
    "the reader to refer to O. Minazzoli and E. Santos (2021) - The European Physical Journal describing the case of an electrically charged non rotatin black hole. \n",
    "\n",
    "In the article C.F.E. Holzhey & F. Wilczek (1992)- Nuclear Physics B, the authors deduce the magnetically charged solutions from the electric ones by making the following changes:\n",
    "\n",
    "$\\Psi\\rightarrow\\Psi'=\\frac{1}{\\Psi}=\\left[e^{2\\alpha\\phi}\\right]_{|_{\\alpha=(2\\sqrt{3})^{-1}}}=\\left[\\left(1-\\frac{r_{-}}{r}\\right)^{\\frac{-2\\alpha^{2}}{1+\\alpha^{2}}}\\right]_{|_{\\alpha=(2\\sqrt{3})^{-1}}}=\\left(1-\\frac{r_{-}}{r}\\right)^{\\frac{2}{13}}$\n",
    "\n",
    "and\n",
    "\n",
    "$F_{\\lambda\\rho}^{el}\\rightarrow F^{mag}_{\\mu\\nu}=e^{-2\\alpha\\phi}\\frac{1}{2}\\epsilon^{\\lambda\\rho}_{\\mu\\nu}F_{\\lambda\\rho}^{el}$ where $F_{\\lambda\\rho}^{el}$ is the electrically charged solution\n",
    "\n",
    "The complexity of some calculations in this notebook prompted us to perform intermediate first order Taylor expansions to maintain tractability of the different operations using the Sagemath language. This does not affect the validity of our results since they are part of a first-order analysis in 'a'."
   ]
  },
  {
   "cell_type": "code",
   "execution_count": 1,
   "id": "0877badb",
   "metadata": {},
   "outputs": [
    {
     "data": {
      "text/plain": [
       "'SageMath version 10.1, Release Date: 2023-08-20'"
      ]
     },
     "execution_count": 1,
     "metadata": {},
     "output_type": "execute_result"
    }
   ],
   "source": [
    "version()"
   ]
  },
  {
   "cell_type": "code",
   "execution_count": 2,
   "id": "dbb3361b",
   "metadata": {},
   "outputs": [],
   "source": [
    "%display latex"
   ]
  },
  {
   "cell_type": "markdown",
   "id": "25212144",
   "metadata": {},
   "source": [
    "'SageMath version used is 10.1, Release Date: 2023-08-20'"
   ]
  },
  {
   "cell_type": "code",
   "execution_count": 3,
   "id": "9adff967",
   "metadata": {},
   "outputs": [],
   "source": [
    "from sage.manifolds.operators import dalembertian\n",
    "from sage.manifolds.operators import grad"
   ]
  },
  {
   "cell_type": "markdown",
   "id": "a6cda544",
   "metadata": {},
   "source": [
    "Let's write a function to replace all the different expressions and perform the taylor expansions "
   ]
  },
  {
   "cell_type": "code",
   "execution_count": 4,
   "id": "18db8b65",
   "metadata": {},
   "outputs": [],
   "source": [
    "def slow_rot(arg):\n",
    "    subs_funcs = [(U, A), (V, B), (X, C), (Y, D)]\n",
    "    \n",
    "    if hasattr(arg, 'expr'):\n",
    "        arg = arg.expr()\n",
    "        \n",
    "    if hasattr(arg, 'apply_map')*hasattr(arg, 'display'):\n",
    "        for old_func, new_func in subs_funcs:\n",
    "            arg.apply_map(lambda f: f.substitute_function(old_func, new_func))\n",
    "        arg.apply_map(lambda f: f.taylor(a, 0, 1))\n",
    "    else:\n",
    "        for old_func, new_func in subs_funcs:\n",
    "            arg = arg.substitute_function(old_func, new_func)\n",
    "        arg = arg.taylor(a, 0, 1) \n",
    "        \n",
    "    return arg"
   ]
  },
  {
   "cell_type": "markdown",
   "id": "0fa005a6",
   "metadata": {},
   "source": [
    "# I. Definition of the metric in ER"
   ]
  },
  {
   "cell_type": "code",
   "execution_count": 5,
   "id": "b674c718",
   "metadata": {},
   "outputs": [
    {
     "name": "stdout",
     "output_type": "stream",
     "text": [
      "4-dimensional Lorentzian manifold M\n"
     ]
    }
   ],
   "source": [
    "M = Manifold(4, 'M', structure='Lorentzian')\n",
    "print(M)"
   ]
  },
  {
   "cell_type": "code",
   "execution_count": 6,
   "id": "7cf08b04",
   "metadata": {},
   "outputs": [
    {
     "data": {
      "text/html": [
       "<html>\\(\\displaystyle \\left(M,(t, r, {\\theta}, {\\phi})\\right)\\)</html>"
      ],
      "text/latex": [
       "$\\displaystyle \\left(M,(t, r, {\\theta}, {\\phi})\\right)$"
      ],
      "text/plain": [
       "Chart (M, (t, r, th, ph))"
      ]
     },
     "execution_count": 6,
     "metadata": {},
     "output_type": "execute_result"
    }
   ],
   "source": [
    "X.<t,r,th,ph> = M.chart(r't r:(0,+oo) th:(0,pi):\\theta ph:(0,2*pi):\\phi')\n",
    "X"
   ]
  },
  {
   "cell_type": "code",
   "execution_count": 7,
   "id": "95cbe76d",
   "metadata": {},
   "outputs": [],
   "source": [
    "r_m, r_p, a, Q = var('r_m r_p a Q')"
   ]
  },
  {
   "cell_type": "code",
   "execution_count": 8,
   "id": "387c5705",
   "metadata": {},
   "outputs": [],
   "source": [
    "g = M.metric()\n",
    "U = function('U')\n",
    "V = function('V')\n",
    "X = function('X')\n",
    "Y = function('Y')\n",
    "g[0,0] = U(r)\n",
    "g[1,1] = V(r)\n",
    "g[2,2] = X(r)\n",
    "g[3,3] = Y(r,th) "
   ]
  },
  {
   "cell_type": "code",
   "execution_count": 9,
   "id": "0ea5029f",
   "metadata": {},
   "outputs": [],
   "source": [
    "Psi(r) = (1-r_p/r)\n",
    "Phi(r) = (1-r_m/r)\n",
    "A(r) = -Psi(r)*Phi(r)**(7/13)\n",
    "B(r) = 1/(Psi(r)*Phi(r)**(15/13))\n",
    "C(r) = r**2*Phi(r)**(-2/13)\n",
    "D(r) = (r*sin(th))**2*Phi(r)**(-2/13)"
   ]
  },
  {
   "cell_type": "code",
   "execution_count": 10,
   "id": "064cfd6f",
   "metadata": {},
   "outputs": [
    {
     "data": {
      "text/html": [
       "<html>\\(\\displaystyle h = {\\left(-\\frac{r_{m}}{r} + 1\\right)}^{\\frac{7}{13}} {\\left(\\frac{r_{p}}{r} - 1\\right)} \\mathrm{d} t\\otimes \\mathrm{d} t -\\frac{1}{{\\left(-\\frac{r_{m}}{r} + 1\\right)}^{\\frac{15}{13}} {\\left(\\frac{r_{p}}{r} - 1\\right)}} \\mathrm{d} r\\otimes \\mathrm{d} r + \\frac{r^{2}}{{\\left(-\\frac{r_{m}}{r} + 1\\right)}^{\\frac{2}{13}}} \\mathrm{d} {\\theta}\\otimes \\mathrm{d} {\\theta} + \\frac{r^{2} \\sin\\left({\\theta}\\right)^{2}}{{\\left(-\\frac{r_{m}}{r} + 1\\right)}^{\\frac{2}{13}}} \\mathrm{d} {\\phi}\\otimes \\mathrm{d} {\\phi}\\)</html>"
      ],
      "text/latex": [
       "$\\displaystyle h = {\\left(-\\frac{r_{m}}{r} + 1\\right)}^{\\frac{7}{13}} {\\left(\\frac{r_{p}}{r} - 1\\right)} \\mathrm{d} t\\otimes \\mathrm{d} t -\\frac{1}{{\\left(-\\frac{r_{m}}{r} + 1\\right)}^{\\frac{15}{13}} {\\left(\\frac{r_{p}}{r} - 1\\right)}} \\mathrm{d} r\\otimes \\mathrm{d} r + \\frac{r^{2}}{{\\left(-\\frac{r_{m}}{r} + 1\\right)}^{\\frac{2}{13}}} \\mathrm{d} {\\theta}\\otimes \\mathrm{d} {\\theta} + \\frac{r^{2} \\sin\\left({\\theta}\\right)^{2}}{{\\left(-\\frac{r_{m}}{r} + 1\\right)}^{\\frac{2}{13}}} \\mathrm{d} {\\phi}\\otimes \\mathrm{d} {\\phi}$"
      ],
      "text/plain": [
       "h = (-r_m/r + 1)^(7/13)*(r_p/r - 1) dt⊗dt - 1/((-r_m/r + 1)^(15/13)*(r_p/r - 1)) dr⊗dr + r^2/(-r_m/r + 1)^(2/13) dth⊗dth + r^2*sin(th)^2/(-r_m/r + 1)^(2/13) dph⊗dph"
      ]
     },
     "execution_count": 10,
     "metadata": {},
     "output_type": "execute_result"
    }
   ],
   "source": [
    "h = g.copy()\n",
    "h.set_name('h')\n",
    "h.apply_map(lambda f: f.substitute_function(U, A).substitute_function(V, B).substitute_function(X, C).substitute_function(Y, D)) \n",
    "h.display()"
   ]
  },
  {
   "cell_type": "markdown",
   "id": "8b22c058",
   "metadata": {},
   "source": [
    "# II. The vector potential"
   ]
  },
  {
   "cell_type": "markdown",
   "id": "b8836094",
   "metadata": {},
   "source": [
    "Let's define the covariant derivative"
   ]
  },
  {
   "cell_type": "code",
   "execution_count": 11,
   "id": "2c502531",
   "metadata": {},
   "outputs": [],
   "source": [
    "nab = g.connection() "
   ]
  },
  {
   "cell_type": "markdown",
   "id": "2f5ceb47",
   "metadata": {},
   "source": [
    "and the potential vector field corresponding to a non rotating charged BH"
   ]
  },
  {
   "cell_type": "code",
   "execution_count": 12,
   "id": "b17edc74",
   "metadata": {},
   "outputs": [
    {
     "data": {
      "text/html": [
       "<html>\\(\\displaystyle A = -2 \\, \\sqrt{\\frac{3}{13}} \\sqrt{r_{m} r_{p}} \\cos\\left({\\theta}\\right) \\mathrm{d} {\\phi}\\)</html>"
      ],
      "text/latex": [
       "$\\displaystyle A = -2 \\, \\sqrt{\\frac{3}{13}} \\sqrt{r_{m} r_{p}} \\cos\\left({\\theta}\\right) \\mathrm{d} {\\phi}$"
      ],
      "text/plain": [
       "A = -2*sqrt(3/13)*sqrt(r_m*r_p)*cos(th) dph"
      ]
     },
     "execution_count": 12,
     "metadata": {},
     "output_type": "execute_result"
    }
   ],
   "source": [
    "pot_vec = M.tensor_field(0,1,name='A')\n",
    "pot_vec[0]=0\n",
    "pot_vec[1]=0\n",
    "pot_vec[2]=0\n",
    "pot_vec[3]=-sqrt(12*r_p*r_m/13) * cos(th)\n",
    "pot_vec.display()"
   ]
  },
  {
   "cell_type": "markdown",
   "id": "c74d5385",
   "metadata": {},
   "source": [
    "## II.1. Definition of the EM tensor"
   ]
  },
  {
   "cell_type": "markdown",
   "id": "ce9727a3",
   "metadata": {},
   "source": [
    "We now derive the EM tensor:\n",
    "\n",
    "$F_{\\mu\\nu}=\\partial_{\\mu}A_{\\nu}-\\partial_{\\nu}A_{\\mu}$\n",
    "\n",
    "It can be obtained directly as the exterior derivative of the potential vector $A$ via the function `diff`\n",
    "(or the method `exterior_derivative`)"
   ]
  },
  {
   "cell_type": "code",
   "execution_count": 13,
   "id": "4c246ebc",
   "metadata": {},
   "outputs": [
    {
     "data": {
      "text/html": [
       "<html>\\(\\displaystyle F = \\frac{2}{13} \\, \\sqrt{13} \\sqrt{3} \\sqrt{r_{m}} \\sqrt{r_{p}} \\sin\\left({\\theta}\\right) \\mathrm{d} {\\theta}\\wedge \\mathrm{d} {\\phi}\\)</html>"
      ],
      "text/latex": [
       "$\\displaystyle F = \\frac{2}{13} \\, \\sqrt{13} \\sqrt{3} \\sqrt{r_{m}} \\sqrt{r_{p}} \\sin\\left({\\theta}\\right) \\mathrm{d} {\\theta}\\wedge \\mathrm{d} {\\phi}$"
      ],
      "text/plain": [
       "F = 2/13*sqrt(13)*sqrt(3)*sqrt(r_m)*sqrt(r_p)*sin(th) dth∧dph"
      ]
     },
     "execution_count": 13,
     "metadata": {},
     "output_type": "execute_result"
    }
   ],
   "source": [
    "F = diff(pot_vec)\n",
    "F.set_name('F')\n",
    "Fuu = F.up(g)\n",
    "F.display()"
   ]
  },
  {
   "cell_type": "markdown",
   "id": "07b26f18",
   "metadata": {},
   "source": [
    "In the case of a magnetically charged BH, we must make the following transformation for the EM tensor:\n",
    "$F_{\\mu\\nu}\\rightarrow F'_{\\mu\\nu}=e^{-2\\alpha\\phi}\\frac{1}{2}\\epsilon^{\\lambda\\rho}_{\\mu\\nu}F_{\\lambda\\rho}^{el}$ and $\\phi\\rightarrow\\phi'=-\\phi$.\n",
    "\n",
    "We first define the Levy-Civita tensor:"
   ]
  },
  {
   "cell_type": "code",
   "execution_count": 14,
   "id": "a9c4baf7",
   "metadata": {},
   "outputs": [],
   "source": [
    "eps = g.volume_form()"
   ]
  },
  {
   "cell_type": "markdown",
   "id": "10776ffe",
   "metadata": {},
   "source": [
    "## II.2. The scalar field"
   ]
  },
  {
   "cell_type": "markdown",
   "id": "b3f44e4c",
   "metadata": {},
   "source": [
    "The scalar field is now expressed as $\\phi'=-\\phi$ where $\\phi$ corresponds to the electrical case. "
   ]
  },
  {
   "cell_type": "code",
   "execution_count": 15,
   "id": "54f130b1",
   "metadata": {},
   "outputs": [
    {
     "data": {
      "text/html": [
       "<html>\\(\\displaystyle \\begin{array}{llcl} \\Phi:& M & \\longrightarrow & \\mathbb{R} \\\\ & \\left(t, r, {\\theta}, {\\phi}\\right) & \\longmapsto & {\\left(-\\frac{r_{m}}{r} + 1\\right)}^{\\frac{2}{13}} \\end{array}\\)</html>"
      ],
      "text/latex": [
       "$\\displaystyle \\begin{array}{llcl} \\Phi:& M & \\longrightarrow & \\mathbb{R} \\\\ & \\left(t, r, {\\theta}, {\\phi}\\right) & \\longmapsto & {\\left(-\\frac{r_{m}}{r} + 1\\right)}^{\\frac{2}{13}} \\end{array}$"
      ],
      "text/plain": [
       "Phi_sc: M → ℝ\n",
       "   (t, r, th, ph) ↦ (-r_m/r + 1)^(2/13)"
      ]
     },
     "execution_count": 15,
     "metadata": {},
     "output_type": "execute_result"
    }
   ],
   "source": [
    "Phi_sc = M.scalar_field((1-r_m/r)**(2/13), name='Phi_sc', latex_name=r'\\Phi')\n",
    "Phi_sc.display()"
   ]
  },
  {
   "cell_type": "markdown",
   "id": "7f239c2d",
   "metadata": {},
   "source": [
    "The matter Lagrangian reads"
   ]
  },
  {
   "cell_type": "code",
   "execution_count": 16,
   "id": "35bbb948",
   "metadata": {},
   "outputs": [],
   "source": [
    "Lm = -F['_ij']*F.up(g)['^ij']/2\n",
    "Lm = Lm.expr()\n",
    "Lm = Lm.taylor(a,0,1)"
   ]
  },
  {
   "cell_type": "code",
   "execution_count": 17,
   "id": "7b7e65bc",
   "metadata": {},
   "outputs": [
    {
     "data": {
      "text/html": [
       "<html>\\(\\displaystyle \\mathcal{L}_{m} =  -\\frac{12 \\, r_{m} r_{p} \\sin\\left({\\theta}\\right)^{2}}{13 \\, X\\left(r\\right) Y\\left(r, {\\theta}\\right)} + \\mathcal{O}(a^{2})\\)</html>"
      ],
      "text/latex": [
       "$\\displaystyle \\mathcal{L}_{m} =  -\\frac{12 \\, r_{m} r_{p} \\sin\\left({\\theta}\\right)^{2}}{13 \\, X\\left(r\\right) Y\\left(r, {\\theta}\\right)} + \\mathcal{O}(a^{2})$"
      ],
      "text/plain": [
       "\\mathcal{L}_{m} =  -12/13*r_m*r_p*sin(th)^2/(X(r)*Y(r, th)) + \\mathcal{O}(a^{2})"
      ]
     },
     "metadata": {},
     "output_type": "display_data"
    }
   ],
   "source": [
    "show(LatexExpr(r'\\mathcal{L}_{m} = '), Lm, LatexExpr(r'+ \\mathcal{O}(a^{2})'))"
   ]
  },
  {
   "cell_type": "markdown",
   "id": "b8080b4c",
   "metadata": {},
   "source": [
    "# III. The motion equation  equation (1) "
   ]
  },
  {
   "cell_type": "markdown",
   "id": "6a46d591",
   "metadata": {},
   "source": [
    "## III.1. The left hand side of the motion equation : the Einstein tensor"
   ]
  },
  {
   "cell_type": "code",
   "execution_count": 18,
   "id": "50b0ae9d",
   "metadata": {},
   "outputs": [],
   "source": [
    "ER_ricc = g.ricci()\n",
    "ER_ricc.apply_map(lambda f: f.taylor(a,0,1)) "
   ]
  },
  {
   "cell_type": "code",
   "execution_count": 19,
   "id": "1bee7ce4",
   "metadata": {},
   "outputs": [
    {
     "data": {
      "text/html": [
       "<html>\\(\\displaystyle R =  \\frac{12 \\, r_{m} r_{p} \\left(\\frac{r - r_{m}}{r}\\right)^{\\frac{2}{13}}}{13 \\, r^{4}} + \\mathcal{O}(a^{2})\\)</html>"
      ],
      "text/latex": [
       "$\\displaystyle R =  \\frac{12 \\, r_{m} r_{p} \\left(\\frac{r - r_{m}}{r}\\right)^{\\frac{2}{13}}}{13 \\, r^{4}} + \\mathcal{O}(a^{2})$"
      ],
      "text/plain": [
       "R =  12/13*r_m*r_p*((r - r_m)/r)^(2/13)/r^4 + \\mathcal{O}(a^{2})"
      ]
     },
     "metadata": {},
     "output_type": "display_data"
    }
   ],
   "source": [
    "ER_rsc = g.ricci_scalar()\n",
    "ER_rsct = ER_rsc.expr().taylor(a,0,1)\n",
    "show(LatexExpr(r'R = '), slow_rot(ER_rsc).factor(), LatexExpr(r'+ \\mathcal{O}(a^{2})'))"
   ]
  },
  {
   "cell_type": "markdown",
   "id": "b03bf072",
   "metadata": {},
   "source": [
    "We deduce the Einstein tensor"
   ]
  },
  {
   "cell_type": "code",
   "execution_count": 20,
   "id": "daa2a294",
   "metadata": {},
   "outputs": [],
   "source": [
    "G = ER_ricc - 1/2*g*ER_rsc\n",
    "G.apply_map(lambda f: f.taylor(a,0,1))"
   ]
  },
  {
   "cell_type": "code",
   "execution_count": 21,
   "id": "30e1d32e",
   "metadata": {
    "scrolled": true
   },
   "outputs": [
    {
     "data": {
      "text/html": [
       "<html>\\(\\displaystyle G_{00} =  -\\frac{14 \\, {\\left(r r_{m} - 13 \\, r r_{p} + 12 \\, r_{m} r_{p}\\right)} {\\left(r - r_{p}\\right)} r_{m}}{169 \\, r^{6} \\left(\\frac{r - r_{m}}{r}\\right)^{\\frac{4}{13}}}\\)</html>"
      ],
      "text/latex": [
       "$\\displaystyle G_{00} =  -\\frac{14 \\, {\\left(r r_{m} - 13 \\, r r_{p} + 12 \\, r_{m} r_{p}\\right)} {\\left(r - r_{p}\\right)} r_{m}}{169 \\, r^{6} \\left(\\frac{r - r_{m}}{r}\\right)^{\\frac{4}{13}}}$"
      ],
      "text/plain": [
       "G_{00} =  -14/169*(r*r_m - 13*r*r_p + 12*r_m*r_p)*(r - r_p)*r_m/(r^6*((r - r_m)/r)^(4/13))"
      ]
     },
     "metadata": {},
     "output_type": "display_data"
    }
   ],
   "source": [
    "show(LatexExpr(r'G_{00} = '), slow_rot(G[0,0]).factor())"
   ]
  },
  {
   "cell_type": "markdown",
   "id": "5c4f6f79",
   "metadata": {},
   "source": [
    "## III.2. The right hand side of the motion equation (1) "
   ]
  },
  {
   "cell_type": "markdown",
   "id": "8f752628",
   "metadata": {},
   "source": [
    "### III.2.1 The first component: the stress-energy tensor $T_{\\mu\\nu}=2\\left(F_{\\rho\\mu}F^{\\rho}_{\\hspace{0.2cm}\\nu}-\\frac{1}{4}g_{\\mu\\nu}F^{2}\\right)$ "
   ]
  },
  {
   "cell_type": "code",
   "execution_count": 22,
   "id": "186ea476",
   "metadata": {},
   "outputs": [
    {
     "data": {
      "text/html": [
       "<html>\\(\\displaystyle \\begin{array}{llcl} & M & \\longrightarrow & \\mathbb{R} \\\\ & \\left(t, r, {\\theta}, {\\phi}\\right) & \\longmapsto & \\frac{24 \\, r_{m} r_{p} \\sin\\left({\\theta}\\right)^{2}}{13 \\, X\\left(r\\right) Y\\left(r, {\\theta}\\right)} \\end{array}\\)</html>"
      ],
      "text/latex": [
       "$\\displaystyle \\begin{array}{llcl} & M & \\longrightarrow & \\mathbb{R} \\\\ & \\left(t, r, {\\theta}, {\\phi}\\right) & \\longmapsto & \\frac{24 \\, r_{m} r_{p} \\sin\\left({\\theta}\\right)^{2}}{13 \\, X\\left(r\\right) Y\\left(r, {\\theta}\\right)} \\end{array}$"
      ],
      "text/plain": [
       "M → ℝ\n",
       "(t, r, th, ph) ↦ 24/13*r_m*r_p*sin(th)^2/(X(r)*Y(r, th))"
      ]
     },
     "execution_count": 22,
     "metadata": {},
     "output_type": "execute_result"
    }
   ],
   "source": [
    "Fuu = F.up(g)\n",
    "F2 = F['_ab']*Fuu['^ab'] ; F2.display()"
   ]
  },
  {
   "cell_type": "code",
   "execution_count": 23,
   "id": "5a30b2f9",
   "metadata": {},
   "outputs": [],
   "source": [
    "Fud = F.up(g,0)\n",
    "T = 2*(F['_k.']*Fud['^k_.'] - 1/4*F2 * g)"
   ]
  },
  {
   "cell_type": "markdown",
   "id": "087ac94e",
   "metadata": {},
   "source": [
    "Let's now define the stress-energy tensor"
   ]
  },
  {
   "cell_type": "code",
   "execution_count": 24,
   "id": "0f331122",
   "metadata": {},
   "outputs": [
    {
     "data": {
      "text/html": [
       "<html>\\(\\displaystyle T_{\\mu\\nu} =  \\left(\\begin{array}{rrrr}\n",
       "\\frac{12 \\, {\\left(r r_{m} r_{p} {\\left(-\\frac{r_{m}}{r} + 1\\right)}^{\\frac{11}{13}} - r_{m} r_{p}^{2} {\\left(-\\frac{r_{m}}{r} + 1\\right)}^{\\frac{11}{13}}\\right)}}{13 \\, r^{5}} & 0 & 0 & 0 \\\\\n",
       "0 & -\\frac{12 \\, r_{m} r_{p} {\\left(-\\frac{r_{m}}{r} + 1\\right)}^{\\frac{2}{13}}}{13 \\, {\\left(r^{4} - r^{3} r_{m} - {\\left(r^{3} - r^{2} r_{m}\\right)} r_{p}\\right)}} & 0 & 0 \\\\\n",
       "0 & 0 & \\frac{12 \\, r_{m} r_{p} {\\left(-\\frac{r_{m}}{r} + 1\\right)}^{\\frac{2}{13}}}{13 \\, r^{2}} & 0 \\\\\n",
       "0 & 0 & 0 & \\frac{12 \\, r_{m} r_{p} {\\left(-\\frac{r_{m}}{r} + 1\\right)}^{\\frac{2}{13}} \\sin\\left({\\theta}\\right)^{2}}{13 \\, r^{2}}\n",
       "\\end{array}\\right)\\)</html>"
      ],
      "text/latex": [
       "$\\displaystyle T_{\\mu\\nu} =  \\left(\\begin{array}{rrrr}\n",
       "\\frac{12 \\, {\\left(r r_{m} r_{p} {\\left(-\\frac{r_{m}}{r} + 1\\right)}^{\\frac{11}{13}} - r_{m} r_{p}^{2} {\\left(-\\frac{r_{m}}{r} + 1\\right)}^{\\frac{11}{13}}\\right)}}{13 \\, r^{5}} & 0 & 0 & 0 \\\\\n",
       "0 & -\\frac{12 \\, r_{m} r_{p} {\\left(-\\frac{r_{m}}{r} + 1\\right)}^{\\frac{2}{13}}}{13 \\, {\\left(r^{4} - r^{3} r_{m} - {\\left(r^{3} - r^{2} r_{m}\\right)} r_{p}\\right)}} & 0 & 0 \\\\\n",
       "0 & 0 & \\frac{12 \\, r_{m} r_{p} {\\left(-\\frac{r_{m}}{r} + 1\\right)}^{\\frac{2}{13}}}{13 \\, r^{2}} & 0 \\\\\n",
       "0 & 0 & 0 & \\frac{12 \\, r_{m} r_{p} {\\left(-\\frac{r_{m}}{r} + 1\\right)}^{\\frac{2}{13}} \\sin\\left({\\theta}\\right)^{2}}{13 \\, r^{2}}\n",
       "\\end{array}\\right)$"
      ],
      "text/plain": [
       "T_{\\mu\\nu} =  [12/13*(r*r_m*r_p*(-r_m/r + 1)^(11/13) - r_m*r_p^2*(-r_m/r + 1)^(11/13))/r^5                                                                           0                                                                           0                                                                           0]\n",
       "[                                                                          0    -12/13*r_m*r_p*(-r_m/r + 1)^(2/13)/(r^4 - r^3*r_m - (r^3 - r^2*r_m)*r_p)                                                                           0                                                                           0]\n",
       "[                                                                          0                                                                           0                                       12/13*r_m*r_p*(-r_m/r + 1)^(2/13)/r^2                                                                           0]\n",
       "[                                                                          0                                                                           0                                                                           0                             12/13*r_m*r_p*(-r_m/r + 1)^(2/13)*sin(th)^2/r^2]"
      ]
     },
     "metadata": {},
     "output_type": "display_data"
    }
   ],
   "source": [
    "T.apply_map(lambda f: f.taylor(a,0,1))\n",
    "show(LatexExpr(r'T_{\\mu\\nu} = '), slow_rot(T)[:])"
   ]
  },
  {
   "cell_type": "markdown",
   "id": "21571128",
   "metadata": {},
   "source": [
    "We deduce the final quotient and perform a first-order Taylor expansion to simplify the expression before any further calculations"
   ]
  },
  {
   "cell_type": "code",
   "execution_count": 25,
   "id": "58a9b959",
   "metadata": {},
   "outputs": [],
   "source": [
    "UU=T/Phi_sc\n",
    "UU.apply_map(lambda f: f.taylor(a,0,1)) "
   ]
  },
  {
   "cell_type": "markdown",
   "id": "ee6bc02d",
   "metadata": {},
   "source": [
    "### III.2.3. The second component of the motion equation $\\frac{1}{\\Phi}(\\triangledown_{\\mu}\\triangledown_{\\nu}-g_{\\mu\\nu}\\square)\\Phi$"
   ]
  },
  {
   "cell_type": "markdown",
   "id": "360777d9",
   "metadata": {},
   "source": [
    "We now construct the d'Alembert operator"
   ]
  },
  {
   "cell_type": "code",
   "execution_count": 26,
   "id": "0fd704eb",
   "metadata": {},
   "outputs": [
    {
     "data": {
      "text/html": [
       "<html>\\(\\displaystyle \\Box\\left( {\\Phi}^{ 2 } \\right)\\)</html>"
      ],
      "text/latex": [
       "$\\displaystyle \\Box\\left( {\\Phi}^{ 2 } \\right)$"
      ],
      "text/plain": [
       "Scalar field Box(Phi_sc^2) on the 4-dimensional Lorentzian manifold M"
      ]
     },
     "execution_count": 26,
     "metadata": {},
     "output_type": "execute_result"
    }
   ],
   "source": [
    "Dal = dalembertian(Phi_sc**2); Dal"
   ]
  },
  {
   "cell_type": "code",
   "execution_count": 27,
   "id": "61a706bc",
   "metadata": {},
   "outputs": [
    {
     "data": {
      "text/html": [
       "<html>\\(\\displaystyle \\mathrm{d} {\\Phi}^{ 2 }\\)</html>"
      ],
      "text/latex": [
       "$\\displaystyle \\mathrm{d} {\\Phi}^{ 2 }$"
      ],
      "text/plain": [
       "1-form dPhi_sc^2 on the 4-dimensional Lorentzian manifold M"
      ]
     },
     "execution_count": 27,
     "metadata": {},
     "output_type": "execute_result"
    }
   ],
   "source": [
    "Gp = nab(Phi_sc**2); Gp "
   ]
  },
  {
   "cell_type": "code",
   "execution_count": 28,
   "id": "4115e95c",
   "metadata": {},
   "outputs": [],
   "source": [
    "S = Phi_sc**(-2)*(nab(Gp).down(g)-g*Dal) \n",
    "S.apply_map(lambda f: f.taylor(a,0,1)) "
   ]
  },
  {
   "cell_type": "code",
   "execution_count": 29,
   "id": "c2e1c4cf",
   "metadata": {},
   "outputs": [],
   "source": [
    "RHS = UU + S\n",
    "RHS.apply_map(lambda f: f.taylor(a,0,1)) "
   ]
  },
  {
   "cell_type": "markdown",
   "id": "fea4eb72",
   "metadata": {},
   "source": [
    "# IV. Verification of the field equations"
   ]
  },
  {
   "cell_type": "markdown",
   "id": "54244fef",
   "metadata": {},
   "source": [
    "## IV.1 Verification of the $G_{\\mu\\nu} = \\tilde{k} \\frac{T_{\\alpha\\beta}}{\\sqrt{\\phi}}+\\frac{1}{\\phi}\\left[\\nabla_{\\mu}\\nabla_{\\nu} - g_{\\mu\\nu}\\square\\right]\\phi$ equation"
   ]
  },
  {
   "cell_type": "markdown",
   "id": "e4e12867",
   "metadata": {},
   "source": [
    "Let's check that the two sides of the equation (1) are equal"
   ]
  },
  {
   "cell_type": "code",
   "execution_count": 30,
   "id": "04779e72-5caf-475d-a982-690bfc14560e",
   "metadata": {},
   "outputs": [
    {
     "data": {
      "text/html": [
       "<html>\\(\\displaystyle \\mathrm{True}\\)</html>"
      ],
      "text/latex": [
       "$\\displaystyle \\mathrm{True}$"
      ],
      "text/plain": [
       "True"
      ]
     },
     "execution_count": 30,
     "metadata": {},
     "output_type": "execute_result"
    }
   ],
   "source": [
    "slow_rot(G)==slow_rot(RHS)"
   ]
  },
  {
   "cell_type": "markdown",
   "id": "554842d4",
   "metadata": {},
   "source": [
    "## IV.2. Verification of the Maxewell equations $\\triangledown\\left(\\sqrt{\\phi}F_{\\mu\\nu}\\right)$ "
   ]
  },
  {
   "cell_type": "code",
   "execution_count": 31,
   "id": "6c35a27f",
   "metadata": {},
   "outputs": [],
   "source": [
    "Fuu.apply_map(lambda f: f.taylor(a,0,1))"
   ]
  },
  {
   "cell_type": "code",
   "execution_count": 32,
   "id": "29d8a6d0",
   "metadata": {},
   "outputs": [],
   "source": [
    "q = Fuu*Phi_sc\n",
    "q.apply_map(lambda f: f.taylor(a,0,1))"
   ]
  },
  {
   "cell_type": "code",
   "execution_count": 33,
   "id": "556586ca",
   "metadata": {},
   "outputs": [
    {
     "data": {
      "text/html": [
       "<html>\\(\\displaystyle \\mbox{Vector field on the 4-dimensional Lorentzian manifold M}\\)</html>"
      ],
      "text/latex": [
       "$\\displaystyle \\mbox{Vector field on the 4-dimensional Lorentzian manifold M}$"
      ],
      "text/plain": [
       "Vector field on the 4-dimensional Lorentzian manifold M"
      ]
     },
     "execution_count": 33,
     "metadata": {},
     "output_type": "execute_result"
    }
   ],
   "source": [
    "eq = nab(q)['_i^ij']\n",
    "slow_rot(eq)"
   ]
  },
  {
   "cell_type": "code",
   "execution_count": 34,
   "id": "df06123a",
   "metadata": {},
   "outputs": [
    {
     "data": {
      "text/html": [
       "<html>\\(\\displaystyle \\triangledown\\left(\\sqrt{\\phi}F^{\\mu\\nu}\\right)_{el} =  \\left[0, 0, 0, 0\\right]\\)</html>"
      ],
      "text/latex": [
       "$\\displaystyle \\triangledown\\left(\\sqrt{\\phi}F^{\\mu\\nu}\\right)_{el} =  \\left[0, 0, 0, 0\\right]$"
      ],
      "text/plain": [
       "\\triangledown\\left(\\sqrt{\\phi}F^{\\mu\\nu}\\right)_{el} =  [0, 0, 0, 0]"
      ]
     },
     "metadata": {},
     "output_type": "display_data"
    }
   ],
   "source": [
    "latex_str = r'\\triangledown\\left(\\sqrt{\\phi}F^{\\mu\\nu}\\right)_{el} = ' \n",
    "show(LatexExpr(latex_str), eq[:])"
   ]
  },
  {
   "cell_type": "markdown",
   "id": "104d5095",
   "metadata": {},
   "source": [
    "## IV.3.  Verification of the $\\phi = \\frac{Lm}{R}$ equation"
   ]
  },
  {
   "cell_type": "code",
   "execution_count": 35,
   "id": "19f500be",
   "metadata": {},
   "outputs": [
    {
     "data": {
      "text/html": [
       "<html>\\(\\displaystyle \\mathrm{True}\\)</html>"
      ],
      "text/latex": [
       "$\\displaystyle \\mathrm{True}$"
      ],
      "text/plain": [
       "True"
      ]
     },
     "execution_count": 35,
     "metadata": {},
     "output_type": "execute_result"
    }
   ],
   "source": [
    "Phi_sc + slow_rot(Lm / ER_rsct) == 0"
   ]
  },
  {
   "cell_type": "markdown",
   "id": "e0ca3a93",
   "metadata": {},
   "source": [
    "# In conclusion the field equations $G_{\\mu\\nu} = \\tilde{k} \\frac{T_{\\alpha\\beta}}{\\sqrt{\\phi}}+\\frac{1}{\\phi}\\left[\\nabla_{\\mu}\\nabla_{\\nu} - g_{\\mu\\nu}\\square\\right]\\phi$ and  $\\triangledown\\left(\\sqrt{\\phi}T_{\\mu\\nu}\\right)$ are perfectly verified at the first order.\n",
    "\n",
    "# The magnetically charged solutions are solutions in ER as well for a non rotating black hole."
   ]
  },
  {
   "cell_type": "code",
   "execution_count": null,
   "id": "60681b86",
   "metadata": {},
   "outputs": [],
   "source": []
  }
 ],
 "metadata": {
  "kernelspec": {
   "display_name": "SageMath 10.1",
   "language": "sage",
   "name": "sagemath"
  },
  "language_info": {
   "codemirror_mode": {
    "name": "ipython",
    "version": 3
   },
   "file_extension": ".py",
   "mimetype": "text/x-python",
   "name": "python",
   "nbconvert_exporter": "python",
   "pygments_lexer": "ipython3",
   "version": "3.10.12"
  }
 },
 "nbformat": 4,
 "nbformat_minor": 5
}
