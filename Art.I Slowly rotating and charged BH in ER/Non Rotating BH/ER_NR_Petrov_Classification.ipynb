{
 "cells": [
  {
   "cell_type": "markdown",
   "id": "be74b5e0",
   "metadata": {},
   "source": [
    "# PETROV CLASSIFICATION OF SPACE-TIME IN ENTANGLED RELATIVITY FOR BOTH ELECTRICALLY AND MAGNETICALLY BLACK HOLES WHITHOUT ROTATION"
   ]
  },
  {
   "cell_type": "markdown",
   "id": "6c78c395",
   "metadata": {},
   "source": [
    "This notebook's main objective is to characterize spacetime in the case of a non rotating black hole within the framework of entangled relativity (ER). Here, we use the Petrov classification criteria and expect to find a type D black hole. \n",
    "\n",
    "We will start by introducing the ER metric, then we will calculate the Weyl tensor and finally, we will determine the NP-Weyl scalars to define the type of spacetime."
   ]
  },
  {
   "cell_type": "code",
   "execution_count": 1,
   "id": "0877badb",
   "metadata": {},
   "outputs": [
    {
     "data": {
      "text/plain": [
       "'SageMath version 10.1, Release Date: 2023-08-20'"
      ]
     },
     "execution_count": 1,
     "metadata": {},
     "output_type": "execute_result"
    }
   ],
   "source": [
    "version()"
   ]
  },
  {
   "cell_type": "code",
   "execution_count": 2,
   "id": "dbb3361b",
   "metadata": {},
   "outputs": [],
   "source": [
    "%display latex"
   ]
  },
  {
   "cell_type": "markdown",
   "id": "25212144",
   "metadata": {},
   "source": [
    "'SageMath version used is 10.1, Release Date: 2023-08-20'"
   ]
  },
  {
   "cell_type": "code",
   "execution_count": 3,
   "id": "9adff967",
   "metadata": {},
   "outputs": [],
   "source": [
    "from sage.manifolds.operators import dalembertian\n",
    "from sage.manifolds.operators import grad\n",
    "from sage.tensor.modules.tensor_with_indices import TensorWithIndices\n",
    "import time\n",
    "import pickle\n",
    "comput_time0 = time.perf_counter()"
   ]
  },
  {
   "cell_type": "markdown",
   "id": "ceccc1ac",
   "metadata": {},
   "source": [
    "Let's write a function to replace all the different expressions and perform the taylor expansions "
   ]
  },
  {
   "cell_type": "code",
   "execution_count": 4,
   "id": "31b50eee",
   "metadata": {},
   "outputs": [],
   "source": [
    "def subs_func(arg):\n",
    "    subs_funcs = [(U, A), (V, B), (X, C), (Y, D)]\n",
    "    \n",
    "    if hasattr(arg, 'expr'):\n",
    "        arg = arg.expr()\n",
    "        \n",
    "    if hasattr(arg, 'apply_map')*hasattr(arg, 'display'):\n",
    "        for old_func, new_func in subs_funcs:\n",
    "            arg.apply_map(lambda f: f.substitute_function(old_func, new_func))\n",
    "    else:\n",
    "        for old_func, new_func in subs_funcs:\n",
    "            arg = arg.substitute_function(old_func, new_func)\n",
    "        \n",
    "    return arg"
   ]
  },
  {
   "cell_type": "markdown",
   "id": "0fa005a6",
   "metadata": {},
   "source": [
    "# I. Definition of the metric in ER"
   ]
  },
  {
   "cell_type": "code",
   "execution_count": 5,
   "id": "b674c718",
   "metadata": {},
   "outputs": [
    {
     "name": "stdout",
     "output_type": "stream",
     "text": [
      "4-dimensional Lorentzian manifold M\n"
     ]
    }
   ],
   "source": [
    "M = Manifold(4, 'M', structure='Lorentzian')\n",
    "print(M)"
   ]
  },
  {
   "cell_type": "code",
   "execution_count": 6,
   "id": "7cf08b04",
   "metadata": {},
   "outputs": [
    {
     "data": {
      "text/html": [
       "<html>\\(\\displaystyle \\left(M,(t, r, {\\theta}, {\\phi})\\right)\\)</html>"
      ],
      "text/latex": [
       "$\\displaystyle \\left(M,(t, r, {\\theta}, {\\phi})\\right)$"
      ],
      "text/plain": [
       "Chart (M, (t, r, th, ph))"
      ]
     },
     "execution_count": 6,
     "metadata": {},
     "output_type": "execute_result"
    }
   ],
   "source": [
    "X.<t,r,th,ph> = M.chart(r't r:(0,+oo) th:(0,pi):\\theta ph:(0,2*pi):\\phi')\n",
    "X"
   ]
  },
  {
   "cell_type": "code",
   "execution_count": 7,
   "id": "ae0ac7a9",
   "metadata": {},
   "outputs": [],
   "source": [
    "g = M.metric()\n",
    "r_m, r_p, Q = var('r_m r_p Q')\n",
    "assume(r>r_m)\n",
    "assume(th>0,th<pi)\n",
    "assume(r>r_p)"
   ]
  },
  {
   "cell_type": "code",
   "execution_count": 8,
   "id": "0ea5029f",
   "metadata": {},
   "outputs": [],
   "source": [
    "U = function('U')\n",
    "V = function('V')\n",
    "X = function('X')\n",
    "Y = function('Y')\n",
    "g[0,0] = U(r)\n",
    "g[1,1] = V(r)\n",
    "g[2,2] = X(r)\n",
    "g[3,3] = Y(r,th)"
   ]
  },
  {
   "cell_type": "code",
   "execution_count": 9,
   "id": "f52afc49",
   "metadata": {},
   "outputs": [],
   "source": [
    "Psi(r) = (1-r_p/r)\n",
    "Zeta(r) = (1-r_m/r)\n",
    "\n",
    "A(r) = -Psi(r)*Zeta(r)**(7/13)\n",
    "B(r) = 1/(Psi(r)*Zeta(r)**(15/13))\n",
    "C(r) = r**2*Zeta(r)**(-2/13)\n",
    "D(r) = (r*sin(th))**2*Zeta(r)**(-2/13)"
   ]
  },
  {
   "cell_type": "markdown",
   "id": "bc3f4a9a",
   "metadata": {},
   "source": [
    "Let's now define the mass and the charge expressions"
   ]
  },
  {
   "cell_type": "code",
   "execution_count": 10,
   "id": "8b78b4ad",
   "metadata": {},
   "outputs": [],
   "source": [
    "Ma = (11/26)*r_m+r_p/2 \n",
    "H=(r_m*r_p/(1+(1/(2*(3)**(1/2)))**2))**(1/2)"
   ]
  },
  {
   "cell_type": "code",
   "execution_count": 11,
   "id": "c3791825",
   "metadata": {},
   "outputs": [
    {
     "data": {
      "text/html": [
       "<html>\\(\\displaystyle h = {\\left(-\\frac{r_{m}}{r} + 1\\right)}^{\\frac{7}{13}} {\\left(\\frac{r_{p}}{r} - 1\\right)} \\mathrm{d} t\\otimes \\mathrm{d} t -\\frac{1}{{\\left(-\\frac{r_{m}}{r} + 1\\right)}^{\\frac{15}{13}} {\\left(\\frac{r_{p}}{r} - 1\\right)}} \\mathrm{d} r\\otimes \\mathrm{d} r + \\frac{r^{2}}{{\\left(-\\frac{r_{m}}{r} + 1\\right)}^{\\frac{2}{13}}} \\mathrm{d} {\\theta}\\otimes \\mathrm{d} {\\theta} + \\frac{r^{2} \\sin\\left({\\theta}\\right)^{2}}{{\\left(-\\frac{r_{m}}{r} + 1\\right)}^{\\frac{2}{13}}} \\mathrm{d} {\\phi}\\otimes \\mathrm{d} {\\phi}\\)</html>"
      ],
      "text/latex": [
       "$\\displaystyle h = {\\left(-\\frac{r_{m}}{r} + 1\\right)}^{\\frac{7}{13}} {\\left(\\frac{r_{p}}{r} - 1\\right)} \\mathrm{d} t\\otimes \\mathrm{d} t -\\frac{1}{{\\left(-\\frac{r_{m}}{r} + 1\\right)}^{\\frac{15}{13}} {\\left(\\frac{r_{p}}{r} - 1\\right)}} \\mathrm{d} r\\otimes \\mathrm{d} r + \\frac{r^{2}}{{\\left(-\\frac{r_{m}}{r} + 1\\right)}^{\\frac{2}{13}}} \\mathrm{d} {\\theta}\\otimes \\mathrm{d} {\\theta} + \\frac{r^{2} \\sin\\left({\\theta}\\right)^{2}}{{\\left(-\\frac{r_{m}}{r} + 1\\right)}^{\\frac{2}{13}}} \\mathrm{d} {\\phi}\\otimes \\mathrm{d} {\\phi}$"
      ],
      "text/plain": [
       "h = (-r_m/r + 1)^(7/13)*(r_p/r - 1) dt⊗dt - 1/((-r_m/r + 1)^(15/13)*(r_p/r - 1)) dr⊗dr + r^2/(-r_m/r + 1)^(2/13) dth⊗dth + r^2*sin(th)^2/(-r_m/r + 1)^(2/13) dph⊗dph"
      ]
     },
     "execution_count": 11,
     "metadata": {},
     "output_type": "execute_result"
    }
   ],
   "source": [
    "h = g.copy()\n",
    "h.set_name('h')\n",
    "subs_func(h).display()"
   ]
  },
  {
   "cell_type": "markdown",
   "id": "1993119f",
   "metadata": {},
   "source": [
    "# II. Computation of the Weyl tensor"
   ]
  },
  {
   "cell_type": "markdown",
   "id": "285af115",
   "metadata": {},
   "source": [
    "\\begin{eqnarray}\n",
    "C_{abcd} &=& R_{abcd} - \\frac{1}{2}(g_{a[c}R_{d]b} - g_{b[c}R_{d]a}) + \\frac{1}{6}R g_{a[c}g_{d]b}\\\\\n",
    "&=& R_{abcd} - \\frac{1}{2}\\left(R_{ac}.g_{bd}-R_{ad}.g_{bc}+R_{bd}.g_{ac}-R_{bc}.g_{ad}\\right)+\\frac{1}{6}\\left(g_{ac}g_{bd}-g_{ad}g_{bc}\\right)R\n",
    "\\end{eqnarray}"
   ]
  },
  {
   "cell_type": "code",
   "execution_count": 12,
   "id": "9b95bc13",
   "metadata": {},
   "outputs": [
    {
     "data": {
      "text/html": [
       "<html>\\(\\displaystyle g = U\\left(r\\right) \\mathrm{d} t\\otimes \\mathrm{d} t + V\\left(r\\right) \\mathrm{d} r\\otimes \\mathrm{d} r + X\\left(r\\right) \\mathrm{d} {\\theta}\\otimes \\mathrm{d} {\\theta} + Y\\left(r, {\\theta}\\right) \\mathrm{d} {\\phi}\\otimes \\mathrm{d} {\\phi}\\)</html>"
      ],
      "text/latex": [
       "$\\displaystyle g = U\\left(r\\right) \\mathrm{d} t\\otimes \\mathrm{d} t + V\\left(r\\right) \\mathrm{d} r\\otimes \\mathrm{d} r + X\\left(r\\right) \\mathrm{d} {\\theta}\\otimes \\mathrm{d} {\\theta} + Y\\left(r, {\\theta}\\right) \\mathrm{d} {\\phi}\\otimes \\mathrm{d} {\\phi}$"
      ],
      "text/plain": [
       "g = U(r) dt⊗dt + V(r) dr⊗dr + X(r) dth⊗dth + Y(r, th) dph⊗dph"
      ]
     },
     "execution_count": 12,
     "metadata": {},
     "output_type": "execute_result"
    }
   ],
   "source": [
    "g.display()"
   ]
  },
  {
   "cell_type": "markdown",
   "id": "e1f7a88d",
   "metadata": {},
   "source": [
    "## II.1. The Riemann and Ricci tensors"
   ]
  },
  {
   "cell_type": "code",
   "execution_count": 13,
   "id": "a51108ab",
   "metadata": {},
   "outputs": [],
   "source": [
    "ER_riem = g.riemann()\n",
    "subs_func(ER_riem)\n",
    "ER_riem = ER_riem.down(g,0)\n",
    "subs_func(ER_riem)\n",
    "ER_riem = TensorWithIndices(ER_riem, '_abcd')"
   ]
  },
  {
   "cell_type": "code",
   "execution_count": 14,
   "id": "c491de0b",
   "metadata": {},
   "outputs": [
    {
     "data": {
      "text/html": [
       "<html>\\(\\displaystyle \\mathrm{Ric}\\left(g\\right)\\)</html>"
      ],
      "text/latex": [
       "$\\displaystyle \\mathrm{Ric}\\left(g\\right)$"
      ],
      "text/plain": [
       "Field of symmetric bilinear forms Ric(g) on the 4-dimensional Lorentzian manifold M"
      ]
     },
     "execution_count": 14,
     "metadata": {},
     "output_type": "execute_result"
    }
   ],
   "source": [
    "ER_ricc = g.ricci()\n",
    "subs_func(ER_ricc)"
   ]
  },
  {
   "cell_type": "code",
   "execution_count": 15,
   "id": "c79d6e2d",
   "metadata": {},
   "outputs": [
    {
     "data": {
      "text/html": [
       "<html>\\(\\displaystyle \\mbox{Tensor field of type (2,0) on the 4-dimensional Lorentzian manifold M}\\)</html>"
      ],
      "text/latex": [
       "$\\displaystyle \\mbox{Tensor field of type (2,0) on the 4-dimensional Lorentzian manifold M}$"
      ],
      "text/plain": [
       "Tensor field of type (2,0) on the 4-dimensional Lorentzian manifold M"
      ]
     },
     "execution_count": 15,
     "metadata": {},
     "output_type": "execute_result"
    }
   ],
   "source": [
    "gu = g.up(g)\n",
    "subs_func(gu)"
   ]
  },
  {
   "cell_type": "code",
   "execution_count": 16,
   "id": "6d42104d",
   "metadata": {},
   "outputs": [
    {
     "data": {
      "text/html": [
       "<html>\\(\\displaystyle R =  \\frac{12 \\, {\\left(r r_{m} - r_{m}^{2}\\right)} r_{p}}{13 \\, {\\left(r - r_{m}\\right)}^{\\frac{11}{13}} r^{\\frac{54}{13}}} + \\mathcal{O}(a^{2})\\)</html>"
      ],
      "text/latex": [
       "$\\displaystyle R =  \\frac{12 \\, {\\left(r r_{m} - r_{m}^{2}\\right)} r_{p}}{13 \\, {\\left(r - r_{m}\\right)}^{\\frac{11}{13}} r^{\\frac{54}{13}}} + \\mathcal{O}(a^{2})$"
      ],
      "text/plain": [
       "R =  12/13*(r*r_m - r_m^2)*r_p/((r - r_m)^(11/13)*r^(54/13)) + \\mathcal{O}(a^{2})"
      ]
     },
     "metadata": {},
     "output_type": "display_data"
    }
   ],
   "source": [
    "ER_rsc = gu['^ab']*ER_ricc['_ab']\n",
    "show(LatexExpr(r'R = '), subs_func(ER_rsc), LatexExpr(r'+ \\mathcal{O}(a^{2})'))"
   ]
  },
  {
   "cell_type": "markdown",
   "id": "d5230e21",
   "metadata": {},
   "source": [
    "## II.2. Antisymmetrization"
   ]
  },
  {
   "cell_type": "markdown",
   "id": "dafef50c",
   "metadata": {},
   "source": [
    "1. Let's compute $Rg_{a[c}g_{d]b}$"
   ]
  },
  {
   "cell_type": "code",
   "execution_count": 17,
   "id": "fe0677a1",
   "metadata": {},
   "outputs": [],
   "source": [
    "g_prod = ER_rsc*g*g\n",
    "subs_func(g_prod)\n",
    "gp_anti = g_prod['_acbd']-g_prod['_adbc']"
   ]
  },
  {
   "cell_type": "markdown",
   "id": "16d64f5c",
   "metadata": {},
   "source": [
    "antisymmetrize$\\lbrace1,2\\rbrace(g_{ac}g_{bd})\\rightarrow \\frac{1}{2}\\left(g_{ac}g_{bd}-g_{ad}g_{bc}\\right)=\\frac{1}{2}g_{a[c}g_{b]d}$"
   ]
  },
  {
   "cell_type": "markdown",
   "id": "f8172f4d",
   "metadata": {},
   "source": [
    "2. Let's now compute $g_{a[c}R_{d]b} - g_{b[c}R_{d]a}$"
   ]
  },
  {
   "cell_type": "code",
   "execution_count": 18,
   "id": "906dd13d",
   "metadata": {},
   "outputs": [],
   "source": [
    "gR = g*ER_ricc\n",
    "subs_func(gR)\n",
    "gR_prod = gR['_acbd']-gR['_adbc']+gR['_bdac']-gR['_bcad']"
   ]
  },
  {
   "cell_type": "markdown",
   "id": "3e5664b8",
   "metadata": {},
   "source": [
    "# III. The Weyl tensor"
   ]
  },
  {
   "cell_type": "code",
   "execution_count": 19,
   "id": "ee6adadb",
   "metadata": {},
   "outputs": [
    {
     "data": {
      "text/html": [
       "<html>\\(\\displaystyle C_{0101} =  -\\frac{143 \\, r^{2} r_{m} - 140 \\, r r_{m}^{2} + 169 \\, r^{2} r_{p} - 468 \\, r r_{m} r_{p} + 296 \\, r_{m}^{2} r_{p}}{169 \\, {\\left(r - r_{m}\\right)}^{\\frac{19}{13}} r^{\\frac{46}{13}}}\\)</html>"
      ],
      "text/latex": [
       "$\\displaystyle C_{0101} =  -\\frac{143 \\, r^{2} r_{m} - 140 \\, r r_{m}^{2} + 169 \\, r^{2} r_{p} - 468 \\, r r_{m} r_{p} + 296 \\, r_{m}^{2} r_{p}}{169 \\, {\\left(r - r_{m}\\right)}^{\\frac{19}{13}} r^{\\frac{46}{13}}}$"
      ],
      "text/plain": [
       "C_{0101} =  -1/169*(143*r^2*r_m - 140*r*r_m^2 + 169*r^2*r_p - 468*r*r_m*r_p + 296*r_m^2*r_p)/((r - r_m)^(19/13)*r^(46/13))"
      ]
     },
     "metadata": {},
     "output_type": "display_data"
    },
    {
     "data": {
      "text/html": [
       "<html>\\(\\displaystyle C_{0110} =  \\frac{143 \\, r^{2} r_{m} - 140 \\, r r_{m}^{2} + 169 \\, r^{2} r_{p} - 468 \\, r r_{m} r_{p} + 296 \\, r_{m}^{2} r_{p}}{169 \\, {\\left(r - r_{m}\\right)}^{\\frac{19}{13}} r^{\\frac{46}{13}}}\\)</html>"
      ],
      "text/latex": [
       "$\\displaystyle C_{0110} =  \\frac{143 \\, r^{2} r_{m} - 140 \\, r r_{m}^{2} + 169 \\, r^{2} r_{p} - 468 \\, r r_{m} r_{p} + 296 \\, r_{m}^{2} r_{p}}{169 \\, {\\left(r - r_{m}\\right)}^{\\frac{19}{13}} r^{\\frac{46}{13}}}$"
      ],
      "text/plain": [
       "C_{0110} =  1/169*(143*r^2*r_m - 140*r*r_m^2 + 169*r^2*r_p - 468*r*r_m*r_p + 296*r_m^2*r_p)/((r - r_m)^(19/13)*r^(46/13))"
      ]
     },
     "metadata": {},
     "output_type": "display_data"
    },
    {
     "data": {
      "text/html": [
       "<html>\\(\\displaystyle C_{0113} =  0\\)</html>"
      ],
      "text/latex": [
       "$\\displaystyle C_{0113} =  0$"
      ],
      "text/plain": [
       "C_{0113} =  0"
      ]
     },
     "metadata": {},
     "output_type": "display_data"
    },
    {
     "data": {
      "text/html": [
       "<html>\\(\\displaystyle C_{0123} =  0\\)</html>"
      ],
      "text/latex": [
       "$\\displaystyle C_{0123} =  0$"
      ],
      "text/plain": [
       "C_{0123} =  0"
      ]
     },
     "metadata": {},
     "output_type": "display_data"
    },
    {
     "data": {
      "text/html": [
       "<html>\\(\\displaystyle C_{0132} =  0\\)</html>"
      ],
      "text/latex": [
       "$\\displaystyle C_{0132} =  0$"
      ],
      "text/plain": [
       "C_{0132} =  0"
      ]
     },
     "metadata": {},
     "output_type": "display_data"
    }
   ],
   "source": [
    "ER_Weyl = ER_riem-(1/2)*gR_prod+(1/6)*gp_anti\n",
    "\n",
    "for i in range(4):\n",
    "    for j in range(4):\n",
    "        for k in range(4):\n",
    "            for l in range(4):\n",
    "                latex_str = r'C_{{{}{}{}{}}} = '.format(i, j, k, l)  \n",
    "                if [i, j, k, l] in [[0, 1, 0, 1],[0, 1, 1, 0],[0, 1, 1, 3],[0, 1, 2, 3],[0, 1, 3, 2]]:\n",
    "                    show(LatexExpr(latex_str), ER_Weyl[i, j, k, l].expr().canonicalize_radical().factor().factor()) "
   ]
  },
  {
   "cell_type": "markdown",
   "id": "1df3a3e4",
   "metadata": {},
   "source": [
    "# IV. NP-Weyl scalars"
   ]
  },
  {
   "cell_type": "markdown",
   "id": "dbba7a99",
   "metadata": {},
   "source": [
    "Let's import the tetrad expression in ER derived in the notebook entitled \"ER_SR_BH_Tetrad\""
   ]
  },
  {
   "cell_type": "code",
   "execution_count": 33,
   "id": "76142a91",
   "metadata": {},
   "outputs": [],
   "source": [
    "elec = True"
   ]
  },
  {
   "cell_type": "code",
   "execution_count": 34,
   "id": "347e6391",
   "metadata": {},
   "outputs": [
    {
     "data": {
      "text/html": [
       "<html>\\(\\displaystyle l^{\\mu} =  \\left[\\frac{\\sqrt{2} \\sqrt{-{\\left(-\\frac{r_{m}}{r} + 1\\right)}^{\\frac{11}{13}} {\\left(\\frac{r_{p}}{r} - 1\\right)}}}{2 \\, {\\left(-\\frac{r_{m}}{r} + 1\\right)}^{\\frac{11}{13}} {\\left(\\frac{r_{p}}{r} - 1\\right)}}, \\frac{\\sqrt{2}}{2 \\, \\sqrt{\\frac{1}{{\\left(-\\frac{r_{m}}{r} + 1\\right)}^{\\frac{11}{13}} {\\left(\\frac{r_{p}}{r} - 1\\right)}}}}, 0, 0\\right]\\)</html>"
      ],
      "text/latex": [
       "$\\displaystyle l^{\\mu} =  \\left[\\frac{\\sqrt{2} \\sqrt{-{\\left(-\\frac{r_{m}}{r} + 1\\right)}^{\\frac{11}{13}} {\\left(\\frac{r_{p}}{r} - 1\\right)}}}{2 \\, {\\left(-\\frac{r_{m}}{r} + 1\\right)}^{\\frac{11}{13}} {\\left(\\frac{r_{p}}{r} - 1\\right)}}, \\frac{\\sqrt{2}}{2 \\, \\sqrt{\\frac{1}{{\\left(-\\frac{r_{m}}{r} + 1\\right)}^{\\frac{11}{13}} {\\left(\\frac{r_{p}}{r} - 1\\right)}}}}, 0, 0\\right]$"
      ],
      "text/plain": [
       "l^{\\mu} =  [1/2*sqrt(2)*sqrt(-(-r_m/r + 1)^(11/13)*(r_p/r - 1))/((-r_m/r + 1)^(11/13)*(r_p/r - 1)),\n",
       " 1/2*sqrt(2)/sqrt(1/((-r_m/r + 1)^(11/13)*(r_p/r - 1))),\n",
       " 0,\n",
       " 0]"
      ]
     },
     "metadata": {},
     "output_type": "display_data"
    },
    {
     "data": {
      "text/html": [
       "<html>\\(\\displaystyle n^{\\mu} =  \\left[\\frac{\\sqrt{2} \\sqrt{-{\\left(-\\frac{r_{m}}{r} + 1\\right)}^{\\frac{11}{13}} {\\left(\\frac{r_{p}}{r} - 1\\right)}}}{2 \\, {\\left(-\\frac{r_{m}}{r} + 1\\right)}^{\\frac{11}{13}} {\\left(\\frac{r_{p}}{r} - 1\\right)}}, -\\frac{\\sqrt{2}}{2 \\, \\sqrt{\\frac{1}{{\\left(-\\frac{r_{m}}{r} + 1\\right)}^{\\frac{11}{13}} {\\left(\\frac{r_{p}}{r} - 1\\right)}}}}, 0, 0\\right]\\)</html>"
      ],
      "text/latex": [
       "$\\displaystyle n^{\\mu} =  \\left[\\frac{\\sqrt{2} \\sqrt{-{\\left(-\\frac{r_{m}}{r} + 1\\right)}^{\\frac{11}{13}} {\\left(\\frac{r_{p}}{r} - 1\\right)}}}{2 \\, {\\left(-\\frac{r_{m}}{r} + 1\\right)}^{\\frac{11}{13}} {\\left(\\frac{r_{p}}{r} - 1\\right)}}, -\\frac{\\sqrt{2}}{2 \\, \\sqrt{\\frac{1}{{\\left(-\\frac{r_{m}}{r} + 1\\right)}^{\\frac{11}{13}} {\\left(\\frac{r_{p}}{r} - 1\\right)}}}}, 0, 0\\right]$"
      ],
      "text/plain": [
       "n^{\\mu} =  [1/2*sqrt(2)*sqrt(-(-r_m/r + 1)^(11/13)*(r_p/r - 1))/((-r_m/r + 1)^(11/13)*(r_p/r - 1)),\n",
       " -1/2*sqrt(2)/sqrt(1/((-r_m/r + 1)^(11/13)*(r_p/r - 1))),\n",
       " 0,\n",
       " 0]"
      ]
     },
     "metadata": {},
     "output_type": "display_data"
    },
    {
     "data": {
      "text/html": [
       "<html>\\(\\displaystyle m^{\\mu} =  \\left[0, 0, \\frac{\\sqrt{2}}{2 \\, r {\\left(-\\frac{r_{m}}{r} + 1\\right)}^{\\frac{1}{13}}}, \\frac{i \\, \\sqrt{2}}{2 \\, r {\\left(-\\frac{r_{m}}{r} + 1\\right)}^{\\frac{1}{13}} {\\left| \\sin\\left({\\theta}\\right) \\right|}}\\right]\\)</html>"
      ],
      "text/latex": [
       "$\\displaystyle m^{\\mu} =  \\left[0, 0, \\frac{\\sqrt{2}}{2 \\, r {\\left(-\\frac{r_{m}}{r} + 1\\right)}^{\\frac{1}{13}}}, \\frac{i \\, \\sqrt{2}}{2 \\, r {\\left(-\\frac{r_{m}}{r} + 1\\right)}^{\\frac{1}{13}} {\\left| \\sin\\left({\\theta}\\right) \\right|}}\\right]$"
      ],
      "text/plain": [
       "m^{\\mu} =  [0,\n",
       " 0,\n",
       " 1/2*sqrt(2)/(r*(-r_m/r + 1)^(1/13)),\n",
       " 1/2*I*sqrt(2)/(r*(-r_m/r + 1)^(1/13)*abs(sin(th)))]"
      ]
     },
     "metadata": {},
     "output_type": "display_data"
    },
    {
     "data": {
      "text/html": [
       "<html>\\(\\displaystyle \\bar{m}^{\\mu} =  \\left[0, 0, \\frac{\\sqrt{2}}{2 \\, r {\\left(-\\frac{r_{m}}{r} + 1\\right)}^{\\frac{1}{13}}}, -\\frac{i \\, \\sqrt{2}}{2 \\, r {\\left(-\\frac{r_{m}}{r} + 1\\right)}^{\\frac{1}{13}} {\\left| \\sin\\left({\\theta}\\right) \\right|}}\\right]\\)</html>"
      ],
      "text/latex": [
       "$\\displaystyle \\bar{m}^{\\mu} =  \\left[0, 0, \\frac{\\sqrt{2}}{2 \\, r {\\left(-\\frac{r_{m}}{r} + 1\\right)}^{\\frac{1}{13}}}, -\\frac{i \\, \\sqrt{2}}{2 \\, r {\\left(-\\frac{r_{m}}{r} + 1\\right)}^{\\frac{1}{13}} {\\left| \\sin\\left({\\theta}\\right) \\right|}}\\right]$"
      ],
      "text/plain": [
       "\\bar{m}^{\\mu} =  [0,\n",
       " 0,\n",
       " 1/2*sqrt(2)/(r*(-r_m/r + 1)^(1/13)),\n",
       " -1/2*I*sqrt(2)/(r*(-r_m/r + 1)^(1/13)*abs(sin(th)))]"
      ]
     },
     "metadata": {},
     "output_type": "display_data"
    }
   ],
   "source": [
    "with open('NR_electric_tetrad_.pkl' if elec else 'NR_magnetic_tetrad_.pkl', 'rb') as file:\n",
    "    expressions = pickle.load(file)\n",
    "    \n",
    "L = expressions['L_expression']\n",
    "N = expressions['N_expression']\n",
    "Mr = expressions['M_expression']\n",
    "Mbar = expressions['Mbar_expression']\n",
    "\n",
    "show(LatexExpr(r'l^{\\mu} = '),L[:])\n",
    "show(LatexExpr(r'n^{\\mu} = '),N[:])\n",
    "show(LatexExpr(r'm^{\\mu} = '),Mr[:])\n",
    "show(LatexExpr(r'\\bar{m}^{\\mu} = '), Mbar[:])"
   ]
  },
  {
   "cell_type": "code",
   "execution_count": 35,
   "id": "aa6aae10",
   "metadata": {},
   "outputs": [],
   "source": [
    "tetrad_L, tetrad_N, tetrad_Mr,tetrad_Mbar = M.vector_field(name='tetrad_L'), M.vector_field(name='tetrad_N'), \\\n",
    "                                            M.vector_field(name='tetrad_Mr'), M.vector_field(name='tetrad_Mbar')\n",
    "for i in range(4):\n",
    "    tetrad_L[i] = L[i].expr()\n",
    "    tetrad_N[i] = N[i].expr()\n",
    "    tetrad_Mr[i] = Mr[i].expr()\n",
    "    tetrad_Mbar[i] = Mbar[i].expr()"
   ]
  },
  {
   "cell_type": "code",
   "execution_count": 36,
   "id": "eeed6bad",
   "metadata": {},
   "outputs": [],
   "source": [
    "components = [[[[ER_Weyl[i,j,k,l] for i in range(4)] for j in range(4)] for k in range(4)] for l in range(4)]\n",
    "Weyl_tensor = M.tensor_field(0, 4, name='Weyl_tensor')\n",
    "Weyl_tensor[:, :, :, :] = components"
   ]
  },
  {
   "cell_type": "markdown",
   "id": "023a9e6e",
   "metadata": {},
   "source": [
    "## IV.1. Scalar 0"
   ]
  },
  {
   "cell_type": "code",
   "execution_count": 37,
   "id": "b5be95a6",
   "metadata": {},
   "outputs": [
    {
     "name": "stdout",
     "output_type": "stream",
     "text": [
      "1st contraction (0, 4)\n",
      "2nd contraction (0, 3)\n",
      "3rd contraction (0, 2)\n",
      "4th contraction (0, 1)\n"
     ]
    },
    {
     "data": {
      "text/html": [
       "<html>\\(\\displaystyle \\Psi_{0} = W_{\\alpha\\beta\\gamma\\delta}l^{\\alpha}m^{\\beta}l^{\\gamma}m^{\\delta} =  0\\)</html>"
      ],
      "text/latex": [
       "$\\displaystyle \\Psi_{0} = W_{\\alpha\\beta\\gamma\\delta}l^{\\alpha}m^{\\beta}l^{\\gamma}m^{\\delta} =  0$"
      ],
      "text/plain": [
       "\\Psi_{0} = W_{\\alpha\\beta\\gamma\\delta}l^{\\alpha}m^{\\beta}l^{\\gamma}m^{\\delta} =  0"
      ]
     },
     "metadata": {},
     "output_type": "display_data"
    }
   ],
   "source": [
    "print('1st contraction', Weyl_tensor.tensor_type())\n",
    "Psi0 = Weyl_tensor.contract(0, tetrad_L, 0)\n",
    "print('2nd contraction', Psi0.tensor_type())\n",
    "Psi0 = Psi0.contract(0, tetrad_Mr, 0)\n",
    "print('3rd contraction', Psi0.tensor_type())\n",
    "Psi0 = Psi0.contract(0, tetrad_L, 0)\n",
    "print('4th contraction', Psi0.tensor_type())\n",
    "Psi0 = Psi0.contract(0, tetrad_Mr, 0).expr()\n",
    "latex_str = r'\\Psi_{0} = W_{\\alpha\\beta\\gamma\\delta}l^{\\alpha}m^{\\beta}l^{\\gamma}m^{\\delta} = ' \n",
    "show(LatexExpr(latex_str), Psi0)"
   ]
  },
  {
   "cell_type": "markdown",
   "id": "531e5862",
   "metadata": {},
   "source": [
    "## IV.2. Scalar I"
   ]
  },
  {
   "cell_type": "code",
   "execution_count": 38,
   "id": "575ddc62",
   "metadata": {},
   "outputs": [
    {
     "name": "stdout",
     "output_type": "stream",
     "text": [
      "1st contraction (0, 4)\n",
      "2nd contraction (0, 3)\n",
      "3rd contraction (0, 2)\n",
      "4th contraction (0, 1)\n"
     ]
    },
    {
     "data": {
      "text/html": [
       "<html>\\(\\displaystyle \\Psi_{1} = W_{\\alpha\\beta\\gamma\\delta}l^{\\alpha}n^{\\beta}l^{\\gamma}m^{\\delta} =  0\\)</html>"
      ],
      "text/latex": [
       "$\\displaystyle \\Psi_{1} = W_{\\alpha\\beta\\gamma\\delta}l^{\\alpha}n^{\\beta}l^{\\gamma}m^{\\delta} =  0$"
      ],
      "text/plain": [
       "\\Psi_{1} = W_{\\alpha\\beta\\gamma\\delta}l^{\\alpha}n^{\\beta}l^{\\gamma}m^{\\delta} =  0"
      ]
     },
     "metadata": {},
     "output_type": "display_data"
    }
   ],
   "source": [
    "print('1st contraction', Weyl_tensor.tensor_type())\n",
    "Psi1 = Weyl_tensor.contract(0, tetrad_L, 0)\n",
    "print('2nd contraction', Psi1.tensor_type())\n",
    "Psi1 = Psi1.contract(0, tetrad_N, 0)\n",
    "print('3rd contraction', Psi1.tensor_type())\n",
    "Psi1 = Psi1.contract(0, tetrad_L, 0)\n",
    "print('4th contraction', Psi1.tensor_type())\n",
    "Psi1 = Psi1.contract(0, tetrad_Mr, 0).expr()\n",
    "latex_str = r'\\Psi_{1} = W_{\\alpha\\beta\\gamma\\delta}l^{\\alpha}n^{\\beta}l^{\\gamma}m^{\\delta} = ' \n",
    "show(LatexExpr(latex_str), Psi1)"
   ]
  },
  {
   "cell_type": "markdown",
   "id": "6132a119",
   "metadata": {},
   "source": [
    "## IV.3. Scalar II"
   ]
  },
  {
   "cell_type": "code",
   "execution_count": 39,
   "id": "e15f5e19",
   "metadata": {},
   "outputs": [
    {
     "name": "stdout",
     "output_type": "stream",
     "text": [
      "1st contraction (0, 4)\n",
      "2nd contraction (0, 3)\n",
      "3rd contraction (0, 2)\n",
      "4th contraction (0, 1)\n"
     ]
    },
    {
     "data": {
      "text/html": [
       "<html>\\(\\displaystyle \\Psi_{2} = W_{\\alpha\\beta\\gamma\\delta}l^{\\alpha}m^{\\beta}\\bar{m}^{\\gamma}n^{\\delta} =  -\\frac{143 \\, r^{2} r_{m} - 140 \\, r r_{m}^{2} + {\\left(169 \\, r^{2} - 468 \\, r r_{m} + 296 \\, r_{m}^{2}\\right)} r_{p}}{338 \\, {\\left(r^{4} - r^{3} r_{m}\\right)} {\\left(r - r_{m}\\right)}^{\\frac{6}{13}} r^{\\frac{7}{13}}}\\)</html>"
      ],
      "text/latex": [
       "$\\displaystyle \\Psi_{2} = W_{\\alpha\\beta\\gamma\\delta}l^{\\alpha}m^{\\beta}\\bar{m}^{\\gamma}n^{\\delta} =  -\\frac{143 \\, r^{2} r_{m} - 140 \\, r r_{m}^{2} + {\\left(169 \\, r^{2} - 468 \\, r r_{m} + 296 \\, r_{m}^{2}\\right)} r_{p}}{338 \\, {\\left(r^{4} - r^{3} r_{m}\\right)} {\\left(r - r_{m}\\right)}^{\\frac{6}{13}} r^{\\frac{7}{13}}}$"
      ],
      "text/plain": [
       "\\Psi_{2} = W_{\\alpha\\beta\\gamma\\delta}l^{\\alpha}m^{\\beta}\\bar{m}^{\\gamma}n^{\\delta} =  -1/338*(143*r^2*r_m - 140*r*r_m^2 + (169*r^2 - 468*r*r_m + 296*r_m^2)*r_p)/((r^4 - r^3*r_m)*(r - r_m)^(6/13)*r^(7/13))"
      ]
     },
     "metadata": {},
     "output_type": "display_data"
    }
   ],
   "source": [
    "print('1st contraction', Weyl_tensor.tensor_type())\n",
    "Psi2 = Weyl_tensor.contract(0, tetrad_L, 0)\n",
    "print('2nd contraction', Psi2.tensor_type())\n",
    "Psi2 = Psi2.contract(0, tetrad_Mr, 0)\n",
    "print('3rd contraction', Psi2.tensor_type())\n",
    "Psi2 = Psi2.contract(0, tetrad_Mbar, 0)\n",
    "print('4th contraction', Psi2.tensor_type())\n",
    "Psi2 = Psi2.contract(0, tetrad_N, 0).expr()\n",
    "latex_str = r'\\Psi_{2} = W_{\\alpha\\beta\\gamma\\delta}l^{\\alpha}m^{\\beta}\\bar{m}^{\\gamma}n^{\\delta} = ' \n",
    "show(LatexExpr(latex_str), Psi2)"
   ]
  },
  {
   "cell_type": "markdown",
   "id": "f53038b5",
   "metadata": {},
   "source": [
    "## IV.4. Scalar III"
   ]
  },
  {
   "cell_type": "code",
   "execution_count": 40,
   "id": "62169691",
   "metadata": {},
   "outputs": [
    {
     "name": "stdout",
     "output_type": "stream",
     "text": [
      "1st contraction (0, 4)\n",
      "2nd contraction (0, 3)\n",
      "3rd contraction (0, 2)\n",
      "4th contraction (0, 1)\n"
     ]
    },
    {
     "data": {
      "text/html": [
       "<html>\\(\\displaystyle \\Psi_{3} = W_{\\alpha\\beta\\gamma\\delta}l^{\\alpha}n^{\\beta}\\bar{m}^{\\gamma}n^{\\delta} =  0\\)</html>"
      ],
      "text/latex": [
       "$\\displaystyle \\Psi_{3} = W_{\\alpha\\beta\\gamma\\delta}l^{\\alpha}n^{\\beta}\\bar{m}^{\\gamma}n^{\\delta} =  0$"
      ],
      "text/plain": [
       "\\Psi_{3} = W_{\\alpha\\beta\\gamma\\delta}l^{\\alpha}n^{\\beta}\\bar{m}^{\\gamma}n^{\\delta} =  0"
      ]
     },
     "metadata": {},
     "output_type": "display_data"
    }
   ],
   "source": [
    "print('1st contraction', Weyl_tensor.tensor_type())\n",
    "Psi3 = Weyl_tensor.contract(0, tetrad_L, 0)\n",
    "print('2nd contraction', Psi3.tensor_type())\n",
    "Psi3 = Psi3.contract(0, tetrad_N, 0)\n",
    "print('3rd contraction', Psi3.tensor_type())\n",
    "Psi3 = Psi3.contract(0, tetrad_Mbar, 0)\n",
    "print('4th contraction', Psi3.tensor_type())\n",
    "Psi3 = Psi3.contract(0, tetrad_N, 0).expr()\n",
    "latex_str = r'\\Psi_{3} = W_{\\alpha\\beta\\gamma\\delta}l^{\\alpha}n^{\\beta}\\bar{m}^{\\gamma}n^{\\delta} = ' \n",
    "show(LatexExpr(latex_str), Psi3)"
   ]
  },
  {
   "cell_type": "markdown",
   "id": "852cf8a0",
   "metadata": {},
   "source": [
    "## IV.5. Scalar IV"
   ]
  },
  {
   "cell_type": "code",
   "execution_count": 41,
   "id": "5fcf17b3",
   "metadata": {},
   "outputs": [
    {
     "name": "stdout",
     "output_type": "stream",
     "text": [
      "1st contraction (0, 4)\n",
      "2nd contraction (0, 3)\n",
      "3rd contraction (0, 2)\n",
      "4th contraction (0, 1)\n"
     ]
    },
    {
     "data": {
      "text/html": [
       "<html>\\(\\displaystyle \\Psi_{4} = W_{\\alpha\\beta\\gamma\\delta}n^{\\alpha}\\bar{m}^{\\beta}n^{\\gamma}\\bar{m}^{\\delta} =  0\\)</html>"
      ],
      "text/latex": [
       "$\\displaystyle \\Psi_{4} = W_{\\alpha\\beta\\gamma\\delta}n^{\\alpha}\\bar{m}^{\\beta}n^{\\gamma}\\bar{m}^{\\delta} =  0$"
      ],
      "text/plain": [
       "\\Psi_{4} = W_{\\alpha\\beta\\gamma\\delta}n^{\\alpha}\\bar{m}^{\\beta}n^{\\gamma}\\bar{m}^{\\delta} =  0"
      ]
     },
     "metadata": {},
     "output_type": "display_data"
    }
   ],
   "source": [
    "print('1st contraction', Weyl_tensor.tensor_type())\n",
    "Psi4 = Weyl_tensor.contract(0, tetrad_N, 0)\n",
    "print('2nd contraction', Psi4.tensor_type())\n",
    "Psi4 = Psi4.contract(0, tetrad_Mbar, 0)\n",
    "print('3rd contraction', Psi4.tensor_type())\n",
    "Psi4 = Psi4.contract(0, tetrad_N, 0)\n",
    "print('4th contraction', Psi4.tensor_type())\n",
    "Psi4 = Psi4.contract(0, tetrad_Mbar, 0).expr()\n",
    "latex_str = r'\\Psi_{4} = W_{\\alpha\\beta\\gamma\\delta}n^{\\alpha}\\bar{m}^{\\beta}n^{\\gamma}\\bar{m}^{\\delta} = ' \n",
    "show(LatexExpr(latex_str), Psi4)"
   ]
  },
  {
   "cell_type": "markdown",
   "id": "7d98fd32",
   "metadata": {},
   "source": [
    "# V. Properties of $\\Psi_{2}$"
   ]
  },
  {
   "cell_type": "markdown",
   "id": "321e1879",
   "metadata": {},
   "source": [
    "## V.I. Near vacuum limit"
   ]
  },
  {
   "cell_type": "markdown",
   "id": "81dfb0f8",
   "metadata": {},
   "source": [
    "In the case of small $r_{-}$ for an external solution $r>r_{p}$ we can write:"
   ]
  },
  {
   "cell_type": "code",
   "execution_count": 42,
   "id": "d92c9efd",
   "metadata": {},
   "outputs": [
    {
     "data": {
      "text/html": [
       "<html>\\(\\displaystyle \\Psi_{2} =  -\\frac{{\\left(11 \\, r - 17 \\, r_{p}\\right)} r_{m}}{26 \\, r^{4}} - \\frac{r_{p}}{2 \\, r^{3}}  + \\mathfrak{O}(r_m^2)\\)</html>"
      ],
      "text/latex": [
       "$\\displaystyle \\Psi_{2} =  -\\frac{{\\left(11 \\, r - 17 \\, r_{p}\\right)} r_{m}}{26 \\, r^{4}} - \\frac{r_{p}}{2 \\, r^{3}}  + \\mathfrak{O}(r_m^2)$"
      ],
      "text/plain": [
       "\\Psi_{2} =  -1/26*(11*r - 17*r_p)*r_m/r^4 - 1/2*r_p/r^3  + \\mathfrak{O}(r_m^2)"
      ]
     },
     "metadata": {},
     "output_type": "display_data"
    }
   ],
   "source": [
    "assume(r > r_p)\n",
    "psi_taylor = Psi2.taylor(r_m,0,1)\n",
    "show(LatexExpr(r'\\Psi_{2} = '),psi_taylor,LatexExpr(r' + \\mathfrak{O}(r_m^2)'))"
   ]
  },
  {
   "cell_type": "markdown",
   "id": "ef9d2ec6",
   "metadata": {},
   "source": [
    "Let's check that in the case ($r_{m}=0$), the NP-Weyl scalar $\\Psi_{2}$ has the same expression that in the case of the Schwarzchild solution.\n",
    "$\\Psi_{2}^{schwarz}=-\\frac{M}{r^{3}}$\n",
    "\n",
    "\n",
    "Let's start by replacing $M$ by its expressions, and show that $\\lim_{r_m \\to 0}\\Psi_{2} = \\Psi_{2}^{schwarz}$"
   ]
  },
  {
   "cell_type": "code",
   "execution_count": 43,
   "id": "8c149e96",
   "metadata": {},
   "outputs": [
    {
     "data": {
      "text/html": [
       "<html>\\(\\displaystyle M =  \\frac{11}{26} \\, r_{m} + \\frac{1}{2} \\, r_{p}\\)</html>"
      ],
      "text/latex": [
       "$\\displaystyle M =  \\frac{11}{26} \\, r_{m} + \\frac{1}{2} \\, r_{p}$"
      ],
      "text/plain": [
       "M =  11/26*r_m + 1/2*r_p"
      ]
     },
     "metadata": {},
     "output_type": "display_data"
    },
    {
     "data": {
      "text/html": [
       "<html>\\(\\displaystyle \\Psi_{2}^{schwarz} =  -\\frac{r_{p}}{2 \\, r^{3}}\\)</html>"
      ],
      "text/latex": [
       "$\\displaystyle \\Psi_{2}^{schwarz} =  -\\frac{r_{p}}{2 \\, r^{3}}$"
      ],
      "text/plain": [
       "\\Psi_{2}^{schwarz} =  -1/2*r_p/r^3"
      ]
     },
     "metadata": {},
     "output_type": "display_data"
    }
   ],
   "source": [
    "show(LatexExpr('M = '), Ma)\n",
    "show(LatexExpr(r'\\Psi_{2}^{schwarz} = '), -(Ma/(r**3)).subs(r_m=0))"
   ]
  },
  {
   "cell_type": "markdown",
   "id": "7e89d265",
   "metadata": {},
   "source": [
    "Finally, we verify"
   ]
  },
  {
   "cell_type": "code",
   "execution_count": 44,
   "id": "454e1412",
   "metadata": {},
   "outputs": [
    {
     "data": {
      "text/html": [
       "<html>\\(\\displaystyle \\lim_{r_m \\to 0}\\Psi_{2}^{ER} =  -\\frac{r_{p}}{2 \\, r^{3}}  = \\Psi_{2}^{schwarz}\\)</html>"
      ],
      "text/latex": [
       "$\\displaystyle \\lim_{r_m \\to 0}\\Psi_{2}^{ER} =  -\\frac{r_{p}}{2 \\, r^{3}}  = \\Psi_{2}^{schwarz}$"
      ],
      "text/plain": [
       "\\lim_{r_m \\to 0}\\Psi_{2}^{ER} =  -1/2*r_p/r^3  = \\Psi_{2}^{schwarz}"
      ]
     },
     "metadata": {},
     "output_type": "display_data"
    },
    {
     "data": {
      "text/html": [
       "<html>\\(\\displaystyle \\mathrm{True}\\)</html>"
      ],
      "text/latex": [
       "$\\displaystyle \\mathrm{True}$"
      ],
      "text/plain": [
       "True"
      ]
     },
     "execution_count": 44,
     "metadata": {},
     "output_type": "execute_result"
    }
   ],
   "source": [
    "assume(r > r_p)\n",
    "show(LatexExpr(r'\\lim_{r_m \\to 0}\\Psi_{2}^{ER} = '),psi_taylor.subs(r_m=0),LatexExpr(r' = \\Psi_{2}^{schwarz}'))\n",
    "(psi_taylor.subs(r_m=0)+(Ma/(r**3)).subs(r_m=0)).is_zero()"
   ]
  },
  {
   "cell_type": "markdown",
   "id": "bef58663",
   "metadata": {},
   "source": [
    "So in vacuum, we recover the Schwarzchild solution."
   ]
  },
  {
   "cell_type": "markdown",
   "id": "fd2d5267",
   "metadata": {},
   "source": [
    "# In conclusion, and as expected, we find a type D solution for both the electric and magnetic cases since $\\Psi_{2}$ is conformally invariant."
   ]
  },
  {
   "cell_type": "code",
   "execution_count": null,
   "id": "b41ccb3c",
   "metadata": {},
   "outputs": [],
   "source": []
  }
 ],
 "metadata": {
  "kernelspec": {
   "display_name": "SageMath 10.1",
   "language": "sage",
   "name": "sagemath"
  },
  "language_info": {
   "codemirror_mode": {
    "name": "ipython",
    "version": 3
   },
   "file_extension": ".py",
   "mimetype": "text/x-python",
   "name": "python",
   "nbconvert_exporter": "python",
   "pygments_lexer": "ipython3",
   "version": "3.10.12"
  }
 },
 "nbformat": 4,
 "nbformat_minor": 5
}
