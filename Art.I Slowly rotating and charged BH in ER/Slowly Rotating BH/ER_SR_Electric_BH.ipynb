{
 "cells": [
  {
   "cell_type": "markdown",
   "id": "be74b5e0",
   "metadata": {},
   "source": [
    "# SLOWLY ROTATING CASE IN ENTANGLED RELATIVITY FOR ELECTRICALLY CHARGED BLACK HOLES"
   ]
  },
  {
   "cell_type": "markdown",
   "id": "da549019",
   "metadata": {},
   "source": [
    "Entangled relativity (ER) is based on the idea that there can be no space-time without matter, a hypothesis that aligns with and encompasses Mach's principle. Therefore, this new theory serves as an extension of general relativity (GR), providing its predictions in the presence of weak fields. The purpose of this notebook is to test solutions for slowly rotating black holes within the framework of entangled relativity and demonstrate their validity. \n",
    "\n",
    "The ER action reads:\n",
    "\n",
    "$S=-\\frac{\\xi}{2c}\\int d^{4}x\\sqrt{-g}\\frac{\\mathcal{L}_{m}^{2}}{R}$ where $\\xi$ has the dimension of the usual coupling constant of GR $\\kappa=\\frac{8\\pi G}{c^{4}}$ and $\\mathcal{L}_{m}$ is a scalar Lagrangian representing the matter fields. The corresponding equations of motion are:\n",
    "\n",
    "\\begin{eqnarray*}\n",
    "-\\frac{R}{\\mathcal{L}_{m}}T_{\\mu\\nu}+\\frac{R^{2}}{\\mathcal{L}_{m}^{2}}\\left(\\nabla_{\\mu}\\nabla_{\\nu} - g_{\\mu\\nu}\\square\\right)  \\frac{\\mathcal{L}_{m}^{2}}{R^{2}} &=& R_{\\mu\\nu}-\\frac{1}{2}g_{\\mu\\nu}R\\\\\n",
    "\\end{eqnarray*}\n",
    "\n",
    "This action also has a scalar-tensor form: $\\frac{1}{c}\\frac{\\xi}{\\tilde{k}}\\int d^{4}x\\sqrt{-g}\\left[\\frac{\\phi R}{2\\tilde{k}}+\\sqrt{\\phi}\\mathcal{L}_{m}\\right]$ with the motion equations:\n",
    "\n",
    "\\begin{eqnarray}\n",
    "G_{\\mu\\nu} = \\tilde{k} \\frac{T_{\\alpha\\beta}}{\\sqrt{\\phi}}+\\frac{1}{\\phi}\\left[\\nabla_{\\mu}\\nabla_{\\nu} - g_{\\mu\\nu}\\square\\right]\\phi\\hspace{2cm}(1)\n",
    "\\end{eqnarray} \n",
    "\n",
    "where $\\sqrt{\\phi}=-\\tilde{\\kappa}\\mathcal{L}_{m}/R$ and the stress-energy tensor $T_{\\mu\\nu}=-\\frac{2}{\\sqrt{-g}}\\frac{\\partial(\\sqrt{-g}\\mathcal{L}_{m})}{\\partial g^{\\mu\\nu}}$. It can be shown that this scalar-tensor form expressed in the Einstein frame is a special case of a dilaton theory. \n",
    "\n",
    "In the case of slowly rotating black holes, the work of J. H. Horne and T. Horowitz (1992) - Physical Review D provides solutions for arbitrary coupling of the dilaton with the Maxwell field (governed by the free parameter $\\alpha$) that we wish to test here. Knowing that ER corresponds to the particular case of $\\alpha=\\frac{1}{2\\sqrt{3}}$, the metric and the various quantities that come into play (see notebook SLOWLY ROTATING BLACK HOLES) are now written as follows:\n",
    "\n",
    "$\\Psi=\\left[e^{-2\\alpha\\phi}\\right]_{|_{\\alpha=(2\\sqrt{3})^{-1}}}=\\left[\\left(1-\\frac{r_{-}}{r}\\right)^{\\frac{2\\alpha^{2}}{1+\\alpha^{2}}}\\right]_{|_{\\alpha=(2\\sqrt{3})^{-1}}}=\\left(1-\\frac{r_{-}}{r}\\right)^{\\frac{-2}{13}}$ and $\\Phi=\\sqrt{3}\\ln{(\\Psi)}=\\frac{2\\sqrt{3}}{13}\\ln{(1-\\frac{r_{m}}{r})}$\n",
    "\n",
    "The metric becomes:\n",
    "\n",
    "$ds^{2}=-\\lambda^{2}dt^{2}+\\frac{dr^{2}}{\\lambda^{2}}+R^{2}d\\Omega-2af(r)\\sin{\\theta}^{2}dtd\\phi$\n",
    "\n",
    "where $\\lambda^{2}=\\left(1-\\frac{r_{+}}{r}\\right)\\left(1-\\frac{r_{-}}{r}\\right)^{\\frac{11}{13}}$ and $R^{2}=r^{2}\\left(1-\\frac{r_{-}}{r}\\right)^{\\frac{2}{13}}$. The non diagonal term is driven by the function $f(r)$:\n",
    "\n",
    "$f(r)=\\frac{169 r^2 (1-\\frac{r_{-}}{r})^{\\frac{2}{13}}}{99 r_{-}^2} - (1-\\frac{r_{-}}{r})^{\\frac{11}{13}} \\left( 1 + \\frac{169 r^2}{99 r_{-}^2} + \\frac{13r}{11 r_{-}} - \\frac{r_{+}}{r} \\right)\n",
    "$\n",
    "\n",
    "\n",
    "Note also that $A_{t}=\\frac{Q}{r}$, $A_{\\phi}=-a\\sin^2{\\theta}\\frac{Q}{r}$ and $Q=\\left(\\frac{12 r_{+}r_{-}}{13}\\right)$\n",
    "\n",
    "The complexity of some calculations in this notebook prompted us to perform intermediate first order Taylor expansions to maintain tractability of the different operations using the Sagemath language. This does not affect the validity of our results since they are part of a first-order analysis in 'a'."
   ]
  },
  {
   "cell_type": "code",
   "execution_count": 1,
   "id": "0877badb",
   "metadata": {},
   "outputs": [
    {
     "data": {
      "text/plain": [
       "'SageMath version 10.1, Release Date: 2023-08-20'"
      ]
     },
     "execution_count": 1,
     "metadata": {},
     "output_type": "execute_result"
    }
   ],
   "source": [
    "version()"
   ]
  },
  {
   "cell_type": "code",
   "execution_count": 2,
   "id": "dbb3361b",
   "metadata": {},
   "outputs": [],
   "source": [
    "%display latex"
   ]
  },
  {
   "cell_type": "markdown",
   "id": "25212144",
   "metadata": {},
   "source": [
    "'SageMath version used is 10.1, Release Date: 2023-08-20'"
   ]
  },
  {
   "cell_type": "code",
   "execution_count": 3,
   "id": "9adff967",
   "metadata": {},
   "outputs": [],
   "source": [
    "from sage.manifolds.operators import dalembertian\n",
    "from sage.manifolds.operators import grad"
   ]
  },
  {
   "cell_type": "markdown",
   "id": "51705e33",
   "metadata": {},
   "source": [
    "Let's write a function to replace all the different expressions and perform the taylor expansions "
   ]
  },
  {
   "cell_type": "code",
   "execution_count": 4,
   "id": "5798581d",
   "metadata": {},
   "outputs": [],
   "source": [
    "def slow_rot(arg):\n",
    "    subs_funcs = [(Z, E), (U, A), (V, B), (X, C), (Y, D)]\n",
    "    final_subs = {Q: H}\n",
    "    \n",
    "    if hasattr(arg, 'expr'):\n",
    "        arg = arg.expr()\n",
    "        \n",
    "    if hasattr(arg, 'apply_map')*hasattr(arg, 'display'):\n",
    "        arg.apply_map(lambda f: f.taylor(a, 0, 1))\n",
    "        for i, (old_func, new_func) in enumerate(subs_funcs):\n",
    "            arg.apply_map(lambda f: (f.substitute_function(old_func, new_func).taylor(a, 0, 1) if i == 0 \\\n",
    "                                           else f.substitute_function(old_func, new_func)))                        \n",
    "        arg.apply_map(lambda f: f.subs(final_subs).factor())\n",
    "    else:\n",
    "        arg = arg.taylor(a, 0, 1)\n",
    "        for i, (old_func, new_func) in enumerate(subs_funcs):\n",
    "            arg = (arg.substitute_function(old_func, new_func).taylor(a, 0, 1) if i == 0 \\\n",
    "                                           else arg.substitute_function(old_func, new_func)) \n",
    "        arg = arg.subs(final_subs).factor()\n",
    "    \n",
    "    return arg"
   ]
  },
  {
   "cell_type": "markdown",
   "id": "0fa005a6",
   "metadata": {},
   "source": [
    "# I. Definition of the metric in ER"
   ]
  },
  {
   "cell_type": "code",
   "execution_count": 5,
   "id": "b674c718",
   "metadata": {},
   "outputs": [
    {
     "name": "stdout",
     "output_type": "stream",
     "text": [
      "4-dimensional Lorentzian manifold M\n"
     ]
    }
   ],
   "source": [
    "M = Manifold(4, 'M', structure='Lorentzian')\n",
    "print(M)"
   ]
  },
  {
   "cell_type": "code",
   "execution_count": 6,
   "id": "7cf08b04",
   "metadata": {},
   "outputs": [
    {
     "data": {
      "text/html": [
       "<html>\\(\\displaystyle \\left(M,(t, r, {\\theta}, {\\phi})\\right)\\)</html>"
      ],
      "text/latex": [
       "$\\displaystyle \\left(M,(t, r, {\\theta}, {\\phi})\\right)$"
      ],
      "text/plain": [
       "Chart (M, (t, r, th, ph))"
      ]
     },
     "execution_count": 6,
     "metadata": {},
     "output_type": "execute_result"
    }
   ],
   "source": [
    "X.<t,r,th,ph> = M.chart(r't r:(0,+oo) th:(0,pi):\\theta ph:(0,2*pi):\\phi')\n",
    "X"
   ]
  },
  {
   "cell_type": "code",
   "execution_count": 7,
   "id": "77aa6d47",
   "metadata": {},
   "outputs": [],
   "source": [
    "g = M.metric()\n",
    "r_m, r_p, a, Q = var('r_m r_p a Q')\n",
    "assume(r > r_m)\n",
    "assume(r > r_p)"
   ]
  },
  {
   "cell_type": "code",
   "execution_count": 8,
   "id": "0ea5029f",
   "metadata": {},
   "outputs": [],
   "source": [
    "U = function('U')\n",
    "V = function('V')\n",
    "X = function('X')\n",
    "Y = function('Y')\n",
    "Z = function('Z')\n",
    "g[0,0] = U(r)\n",
    "g[0,3] = Z(r,th) \n",
    "g[1,1] = V(r)\n",
    "g[2,2] = X(r)\n",
    "g[3,3] = Y(r,th)\n",
    "g[3,0] = Z(r,th) "
   ]
  },
  {
   "cell_type": "code",
   "execution_count": 9,
   "id": "f52afc49",
   "metadata": {},
   "outputs": [],
   "source": [
    "Psi(r) = (1-r_p/r)\n",
    "Phi(r) = (1-r_m/r)\n",
    "A(r) = -Psi(r)*Phi(r)**(15/13)\n",
    "B(r) = 1/(Psi(r)*Phi(r)**(7/13))\n",
    "C(r) = r**2*Phi(r)**(6/13)\n",
    "D(r) = (r*sin(th))**2*Phi(r)**(6/13)\n",
    "f(r)=(r**2*(1+(1/(2*(3)**(1/2)))**2)**2)*Phi(r)**(2*(1/(2*(3)**(1/2)))**2/(1+(1/(2*(3)**(1/2)))**2))/(((1-(1/(2*(3)**(1/2)))**2)*(1-3*(1/(2*(3)**(1/2)))**2)*r_m**2))-Phi(r)**((1-(1/(2*(3)**(1/2)))**2)/(1+(1/(2*(3)**(1/2)))**2))*(1+(1+(1/(2*(3)**(1/2)))**2)**2*r**2/((1-(1/(2*(3)**(1/2)))**2)*(1-3*(1/(2*(3)**(1/2)))**2)*r_m**2)+(1+(1/(2*(3)**(1/2)))**2)*r/((1-(1/(2*(3)**(1/2)))**2)*r_m)-r_p/r)\n",
    "E(r,th)=-a*sin(th)**2*f(r)*Phi(r)**(4/13)\n",
    "H=(r_m*r_p/(1+(1/(2*(3)**(1/2)))**2))**(1/2)"
   ]
  },
  {
   "cell_type": "code",
   "execution_count": 10,
   "id": "ccba56ad",
   "metadata": {},
   "outputs": [
    {
     "data": {
      "text/html": [
       "<html>\\(\\displaystyle h = -\\frac{{\\left(r - r_{p}\\right)} \\left(\\frac{r - r_{m}}{r}\\right)^{\\frac{15}{13}}}{r} \\mathrm{d} t\\otimes \\mathrm{d} t + \\frac{{\\left(169 \\, r^{3} \\left(\\frac{r - r_{m}}{r}\\right)^{\\frac{9}{13}} + 117 \\, r^{2} r_{m} \\left(\\frac{r - r_{m}}{r}\\right)^{\\frac{9}{13}} + 99 \\, r r_{m}^{2} \\left(\\frac{r - r_{m}}{r}\\right)^{\\frac{9}{13}} - 99 \\, r_{m}^{2} r_{p} \\left(\\frac{r - r_{m}}{r}\\right)^{\\frac{9}{13}} - 169 \\, r^{3}\\right)} a \\left(\\frac{r - r_{m}}{r}\\right)^{\\frac{6}{13}} \\sin\\left({\\theta}\\right)^{2}}{99 \\, r r_{m}^{2}} \\mathrm{d} t\\otimes \\mathrm{d} {\\phi} + \\frac{r}{{\\left(r - r_{p}\\right)} \\left(\\frac{r - r_{m}}{r}\\right)^{\\frac{7}{13}}} \\mathrm{d} r\\otimes \\mathrm{d} r + r^{2} \\left(\\frac{r - r_{m}}{r}\\right)^{\\frac{6}{13}} \\mathrm{d} {\\theta}\\otimes \\mathrm{d} {\\theta} + \\frac{{\\left(169 \\, r^{3} \\left(\\frac{r - r_{m}}{r}\\right)^{\\frac{9}{13}} + 117 \\, r^{2} r_{m} \\left(\\frac{r - r_{m}}{r}\\right)^{\\frac{9}{13}} + 99 \\, r r_{m}^{2} \\left(\\frac{r - r_{m}}{r}\\right)^{\\frac{9}{13}} - 99 \\, r_{m}^{2} r_{p} \\left(\\frac{r - r_{m}}{r}\\right)^{\\frac{9}{13}} - 169 \\, r^{3}\\right)} a \\left(\\frac{r - r_{m}}{r}\\right)^{\\frac{6}{13}} \\sin\\left({\\theta}\\right)^{2}}{99 \\, r r_{m}^{2}} \\mathrm{d} {\\phi}\\otimes \\mathrm{d} t + r^{2} \\left(\\frac{r - r_{m}}{r}\\right)^{\\frac{6}{13}} \\sin\\left({\\theta}\\right)^{2} \\mathrm{d} {\\phi}\\otimes \\mathrm{d} {\\phi}\\)</html>"
      ],
      "text/latex": [
       "$\\displaystyle h = -\\frac{{\\left(r - r_{p}\\right)} \\left(\\frac{r - r_{m}}{r}\\right)^{\\frac{15}{13}}}{r} \\mathrm{d} t\\otimes \\mathrm{d} t + \\frac{{\\left(169 \\, r^{3} \\left(\\frac{r - r_{m}}{r}\\right)^{\\frac{9}{13}} + 117 \\, r^{2} r_{m} \\left(\\frac{r - r_{m}}{r}\\right)^{\\frac{9}{13}} + 99 \\, r r_{m}^{2} \\left(\\frac{r - r_{m}}{r}\\right)^{\\frac{9}{13}} - 99 \\, r_{m}^{2} r_{p} \\left(\\frac{r - r_{m}}{r}\\right)^{\\frac{9}{13}} - 169 \\, r^{3}\\right)} a \\left(\\frac{r - r_{m}}{r}\\right)^{\\frac{6}{13}} \\sin\\left({\\theta}\\right)^{2}}{99 \\, r r_{m}^{2}} \\mathrm{d} t\\otimes \\mathrm{d} {\\phi} + \\frac{r}{{\\left(r - r_{p}\\right)} \\left(\\frac{r - r_{m}}{r}\\right)^{\\frac{7}{13}}} \\mathrm{d} r\\otimes \\mathrm{d} r + r^{2} \\left(\\frac{r - r_{m}}{r}\\right)^{\\frac{6}{13}} \\mathrm{d} {\\theta}\\otimes \\mathrm{d} {\\theta} + \\frac{{\\left(169 \\, r^{3} \\left(\\frac{r - r_{m}}{r}\\right)^{\\frac{9}{13}} + 117 \\, r^{2} r_{m} \\left(\\frac{r - r_{m}}{r}\\right)^{\\frac{9}{13}} + 99 \\, r r_{m}^{2} \\left(\\frac{r - r_{m}}{r}\\right)^{\\frac{9}{13}} - 99 \\, r_{m}^{2} r_{p} \\left(\\frac{r - r_{m}}{r}\\right)^{\\frac{9}{13}} - 169 \\, r^{3}\\right)} a \\left(\\frac{r - r_{m}}{r}\\right)^{\\frac{6}{13}} \\sin\\left({\\theta}\\right)^{2}}{99 \\, r r_{m}^{2}} \\mathrm{d} {\\phi}\\otimes \\mathrm{d} t + r^{2} \\left(\\frac{r - r_{m}}{r}\\right)^{\\frac{6}{13}} \\sin\\left({\\theta}\\right)^{2} \\mathrm{d} {\\phi}\\otimes \\mathrm{d} {\\phi}$"
      ],
      "text/plain": [
       "h = -(r - r_p)*((r - r_m)/r)^(15/13)/r dt⊗dt + 1/99*(169*r^3*((r - r_m)/r)^(9/13) + 117*r^2*r_m*((r - r_m)/r)^(9/13) + 99*r*r_m^2*((r - r_m)/r)^(9/13) - 99*r_m^2*r_p*((r - r_m)/r)^(9/13) - 169*r^3)*a*((r - r_m)/r)^(6/13)*sin(th)^2/(r*r_m^2) dt⊗dph + r/((r - r_p)*((r - r_m)/r)^(7/13)) dr⊗dr + r^2*((r - r_m)/r)^(6/13) dth⊗dth + 1/99*(169*r^3*((r - r_m)/r)^(9/13) + 117*r^2*r_m*((r - r_m)/r)^(9/13) + 99*r*r_m^2*((r - r_m)/r)^(9/13) - 99*r_m^2*r_p*((r - r_m)/r)^(9/13) - 169*r^3)*a*((r - r_m)/r)^(6/13)*sin(th)^2/(r*r_m^2) dph⊗dt + r^2*((r - r_m)/r)^(6/13)*sin(th)^2 dph⊗dph"
      ]
     },
     "execution_count": 10,
     "metadata": {},
     "output_type": "execute_result"
    }
   ],
   "source": [
    "h = g.copy()\n",
    "h.set_name('h')\n",
    "slow_rot(h).display()"
   ]
  },
  {
   "cell_type": "code",
   "execution_count": 11,
   "id": "354d87f8",
   "metadata": {},
   "outputs": [
    {
     "data": {
      "text/html": [
       "<html>\\(\\displaystyle \\frac{{\\left(169 \\, r^{3} \\left(\\frac{r - r_{m}}{r}\\right)^{\\frac{9}{13}} + 117 \\, r^{2} r_{m} \\left(\\frac{r - r_{m}}{r}\\right)^{\\frac{9}{13}} + 99 \\, r r_{m}^{2} \\left(\\frac{r - r_{m}}{r}\\right)^{\\frac{9}{13}} - 99 \\, r_{m}^{2} r_{p} \\left(\\frac{r - r_{m}}{r}\\right)^{\\frac{9}{13}} - 169 \\, r^{3}\\right)} a \\left(\\frac{r - r_{m}}{r}\\right)^{\\frac{6}{13}} \\sin\\left({\\theta}\\right)^{2}}{99 \\, r r_{m}^{2}}\\)</html>"
      ],
      "text/latex": [
       "$\\displaystyle \\frac{{\\left(169 \\, r^{3} \\left(\\frac{r - r_{m}}{r}\\right)^{\\frac{9}{13}} + 117 \\, r^{2} r_{m} \\left(\\frac{r - r_{m}}{r}\\right)^{\\frac{9}{13}} + 99 \\, r r_{m}^{2} \\left(\\frac{r - r_{m}}{r}\\right)^{\\frac{9}{13}} - 99 \\, r_{m}^{2} r_{p} \\left(\\frac{r - r_{m}}{r}\\right)^{\\frac{9}{13}} - 169 \\, r^{3}\\right)} a \\left(\\frac{r - r_{m}}{r}\\right)^{\\frac{6}{13}} \\sin\\left({\\theta}\\right)^{2}}{99 \\, r r_{m}^{2}}$"
      ],
      "text/plain": [
       "1/99*(169*r^3*((r - r_m)/r)^(9/13) + 117*r^2*r_m*((r - r_m)/r)^(9/13) + 99*r*r_m^2*((r - r_m)/r)^(9/13) - 99*r_m^2*r_p*((r - r_m)/r)^(9/13) - 169*r^3)*a*((r - r_m)/r)^(6/13)*sin(th)^2/(r*r_m^2)"
      ]
     },
     "execution_count": 11,
     "metadata": {},
     "output_type": "execute_result"
    }
   ],
   "source": [
    "slow_rot(h[0,3].factor())"
   ]
  },
  {
   "cell_type": "markdown",
   "id": "8b22c058",
   "metadata": {},
   "source": [
    "# II. The vector potential"
   ]
  },
  {
   "cell_type": "markdown",
   "id": "36f15b49",
   "metadata": {},
   "source": [
    "Let's define the covariant derivative"
   ]
  },
  {
   "cell_type": "code",
   "execution_count": 12,
   "id": "2c502531",
   "metadata": {},
   "outputs": [],
   "source": [
    "nab = g.connection() "
   ]
  },
  {
   "cell_type": "markdown",
   "id": "81434db5",
   "metadata": {},
   "source": [
    "and the potential vector field corresponding to a slowly rotating BH"
   ]
  },
  {
   "cell_type": "code",
   "execution_count": 13,
   "id": "b17edc74",
   "metadata": {},
   "outputs": [
    {
     "data": {
      "text/html": [
       "<html>\\(\\displaystyle A = \\frac{Q}{r} \\mathrm{d} t -\\frac{Q a \\sin\\left({\\theta}\\right)^{2}}{r} \\mathrm{d} {\\phi}\\)</html>"
      ],
      "text/latex": [
       "$\\displaystyle A = \\frac{Q}{r} \\mathrm{d} t -\\frac{Q a \\sin\\left({\\theta}\\right)^{2}}{r} \\mathrm{d} {\\phi}$"
      ],
      "text/plain": [
       "A = Q/r dt - Q*a*sin(th)^2/r dph"
      ]
     },
     "execution_count": 13,
     "metadata": {},
     "output_type": "execute_result"
    }
   ],
   "source": [
    "pot_vec = M.tensor_field(0,1,name='A')\n",
    "Q=var('Q')\n",
    "pot_vec[0]=Q/r\n",
    "pot_vec[1]=0\n",
    "pot_vec[2]=0\n",
    "pot_vec[3]=-a*sin(th)**2*(Q/r)\n",
    "pot_vec.display()"
   ]
  },
  {
   "cell_type": "markdown",
   "id": "c74d5385",
   "metadata": {},
   "source": [
    "## II.1. Definition of the EM tensor"
   ]
  },
  {
   "cell_type": "markdown",
   "id": "ce9727a3",
   "metadata": {},
   "source": [
    "We now derive the EM tensor:\n",
    "\n",
    "$F_{\\mu\\nu}=\\partial_{\\mu}A_{\\nu}-\\partial_{\\nu}A_{\\mu}$\n",
    "\n",
    "It can be obtained directly as the exterior derivative of the potential vector $A$ via the function `diff`\n",
    "(or the method `exterior_derivative`)"
   ]
  },
  {
   "cell_type": "code",
   "execution_count": 14,
   "id": "4c246ebc",
   "metadata": {},
   "outputs": [
    {
     "data": {
      "text/html": [
       "<html>\\(\\displaystyle F = \\frac{Q}{r^{2}} \\mathrm{d} t\\wedge \\mathrm{d} r + \\frac{Q a \\sin\\left({\\theta}\\right)^{2}}{r^{2}} \\mathrm{d} r\\wedge \\mathrm{d} {\\phi} -\\frac{2 \\, Q a \\cos\\left({\\theta}\\right) \\sin\\left({\\theta}\\right)}{r} \\mathrm{d} {\\theta}\\wedge \\mathrm{d} {\\phi}\\)</html>"
      ],
      "text/latex": [
       "$\\displaystyle F = \\frac{Q}{r^{2}} \\mathrm{d} t\\wedge \\mathrm{d} r + \\frac{Q a \\sin\\left({\\theta}\\right)^{2}}{r^{2}} \\mathrm{d} r\\wedge \\mathrm{d} {\\phi} -\\frac{2 \\, Q a \\cos\\left({\\theta}\\right) \\sin\\left({\\theta}\\right)}{r} \\mathrm{d} {\\theta}\\wedge \\mathrm{d} {\\phi}$"
      ],
      "text/plain": [
       "F = Q/r^2 dt∧dr + Q*a*sin(th)^2/r^2 dr∧dph - 2*Q*a*cos(th)*sin(th)/r dth∧dph"
      ]
     },
     "execution_count": 14,
     "metadata": {},
     "output_type": "execute_result"
    }
   ],
   "source": [
    "F = diff(pot_vec)\n",
    "F.set_name('F')\n",
    "Fuu = F.up(g)\n",
    "F.display()"
   ]
  },
  {
   "cell_type": "markdown",
   "id": "af59953d",
   "metadata": {},
   "source": [
    "The matter Lagrangian reads"
   ]
  },
  {
   "cell_type": "code",
   "execution_count": 15,
   "id": "91a20352",
   "metadata": {},
   "outputs": [
    {
     "data": {
      "text/html": [
       "<html>\\(\\displaystyle \\mathcal{L}_{m} =  \\frac{12 \\, r_{m} r_{p}}{13 \\, r^{4} \\left(\\frac{r - r_{m}}{r}\\right)^{\\frac{8}{13}}} + \\mathcal{O}(a^{2})\\)</html>"
      ],
      "text/latex": [
       "$\\displaystyle \\mathcal{L}_{m} =  \\frac{12 \\, r_{m} r_{p}}{13 \\, r^{4} \\left(\\frac{r - r_{m}}{r}\\right)^{\\frac{8}{13}}} + \\mathcal{O}(a^{2})$"
      ],
      "text/plain": [
       "\\mathcal{L}_{m} =  12/13*r_m*r_p/(r^4*((r - r_m)/r)^(8/13)) + \\mathcal{O}(a^{2})"
      ]
     },
     "metadata": {},
     "output_type": "display_data"
    }
   ],
   "source": [
    "Lm = -F['_ij']*F.up(g)['^ij']/2\n",
    "show(LatexExpr(r'\\mathcal{L}_{m} = '), slow_rot(Lm), LatexExpr(r'+ \\mathcal{O}(a^{2})'))"
   ]
  },
  {
   "cell_type": "markdown",
   "id": "2ec66b17",
   "metadata": {},
   "source": [
    "# III. The motion equation  equation (1) "
   ]
  },
  {
   "cell_type": "markdown",
   "id": "67a15cad",
   "metadata": {},
   "source": [
    "## III.1. The left hand side of the motion equation (1) : the Einstein tensor"
   ]
  },
  {
   "cell_type": "code",
   "execution_count": 16,
   "id": "779a486f",
   "metadata": {},
   "outputs": [
    {
     "data": {
      "text/html": [
       "<html>\\(\\displaystyle g = U\\left(r\\right) \\mathrm{d} t\\otimes \\mathrm{d} t + Z\\left(r, {\\theta}\\right) \\mathrm{d} t\\otimes \\mathrm{d} {\\phi} + V\\left(r\\right) \\mathrm{d} r\\otimes \\mathrm{d} r + X\\left(r\\right) \\mathrm{d} {\\theta}\\otimes \\mathrm{d} {\\theta} + Z\\left(r, {\\theta}\\right) \\mathrm{d} {\\phi}\\otimes \\mathrm{d} t + Y\\left(r, {\\theta}\\right) \\mathrm{d} {\\phi}\\otimes \\mathrm{d} {\\phi}\\)</html>"
      ],
      "text/latex": [
       "$\\displaystyle g = U\\left(r\\right) \\mathrm{d} t\\otimes \\mathrm{d} t + Z\\left(r, {\\theta}\\right) \\mathrm{d} t\\otimes \\mathrm{d} {\\phi} + V\\left(r\\right) \\mathrm{d} r\\otimes \\mathrm{d} r + X\\left(r\\right) \\mathrm{d} {\\theta}\\otimes \\mathrm{d} {\\theta} + Z\\left(r, {\\theta}\\right) \\mathrm{d} {\\phi}\\otimes \\mathrm{d} t + Y\\left(r, {\\theta}\\right) \\mathrm{d} {\\phi}\\otimes \\mathrm{d} {\\phi}$"
      ],
      "text/plain": [
       "g = U(r) dt⊗dt + Z(r, th) dt⊗dph + V(r) dr⊗dr + X(r) dth⊗dth + Z(r, th) dph⊗dt + Y(r, th) dph⊗dph"
      ]
     },
     "execution_count": 16,
     "metadata": {},
     "output_type": "execute_result"
    }
   ],
   "source": [
    "g.display()"
   ]
  },
  {
   "cell_type": "code",
   "execution_count": 17,
   "id": "f49f2c37",
   "metadata": {},
   "outputs": [
    {
     "data": {
      "text/html": [
       "<html>\\(\\displaystyle \\mathrm{Ric}\\left(g\\right)\\)</html>"
      ],
      "text/latex": [
       "$\\displaystyle \\mathrm{Ric}\\left(g\\right)$"
      ],
      "text/plain": [
       "Field of symmetric bilinear forms Ric(g) on the 4-dimensional Lorentzian manifold M"
      ]
     },
     "execution_count": 17,
     "metadata": {},
     "output_type": "execute_result"
    }
   ],
   "source": [
    "ER_ricc = g.ricci()\n",
    "slow_rot(ER_ricc)"
   ]
  },
  {
   "cell_type": "code",
   "execution_count": 18,
   "id": "88413b91",
   "metadata": {},
   "outputs": [
    {
     "data": {
      "text/html": [
       "<html>\\(\\displaystyle \\mbox{Tensor field of type (2,0) on the 4-dimensional Lorentzian manifold M}\\)</html>"
      ],
      "text/latex": [
       "$\\displaystyle \\mbox{Tensor field of type (2,0) on the 4-dimensional Lorentzian manifold M}$"
      ],
      "text/plain": [
       "Tensor field of type (2,0) on the 4-dimensional Lorentzian manifold M"
      ]
     },
     "execution_count": 18,
     "metadata": {},
     "output_type": "execute_result"
    }
   ],
   "source": [
    "gu = g.up(g)\n",
    "slow_rot(gu)"
   ]
  },
  {
   "cell_type": "code",
   "execution_count": 19,
   "id": "bd61f674",
   "metadata": {},
   "outputs": [
    {
     "data": {
      "text/html": [
       "<html>\\(\\displaystyle R =  -\\frac{12 \\, r_{m} r_{p}}{13 \\, {\\left(r - r_{m}\\right)}^{\\frac{6}{13}} r^{\\frac{46}{13}}} + \\mathcal{O}(a^{2})\\)</html>"
      ],
      "text/latex": [
       "$\\displaystyle R =  -\\frac{12 \\, r_{m} r_{p}}{13 \\, {\\left(r - r_{m}\\right)}^{\\frac{6}{13}} r^{\\frac{46}{13}}} + \\mathcal{O}(a^{2})$"
      ],
      "text/plain": [
       "R =  -12/13*r_m*r_p/((r - r_m)^(6/13)*r^(46/13)) + \\mathcal{O}(a^{2})"
      ]
     },
     "metadata": {},
     "output_type": "display_data"
    }
   ],
   "source": [
    "ER_rsc = gu['^ab']*ER_ricc['_ab']\n",
    "show(LatexExpr(r'R = '), slow_rot(ER_rsc), LatexExpr(r'+ \\mathcal{O}(a^{2})'))"
   ]
  },
  {
   "cell_type": "markdown",
   "id": "ee9ec567",
   "metadata": {},
   "source": [
    "We deduce the Einstein tensor"
   ]
  },
  {
   "cell_type": "code",
   "execution_count": 20,
   "id": "0e328d2b",
   "metadata": {},
   "outputs": [],
   "source": [
    "G = ER_ricc - 1/2*g*ER_rsc\n",
    "G.apply_map(lambda f: f.taylor(a,0,1)) \n",
    "G.apply_map(lambda f: f.substitute_function(Z,E))\n",
    "G.apply_map(lambda f: f.taylor(a,0,1))\n",
    "G.apply_map(lambda f: f.substitute_function(U, A).substitute_function(V, B).substitute_function(X, C).substitute_function(Y, D))\n",
    "G.apply_map(lambda f: f.subs(Q=H))\n",
    "G.apply_map(lambda f: f.factor())"
   ]
  },
  {
   "cell_type": "code",
   "execution_count": 21,
   "id": "157ed6a7",
   "metadata": {
    "scrolled": true
   },
   "outputs": [
    {
     "data": {
      "text/html": [
       "<html>\\(\\displaystyle G_{\\mu\\nu} = -\\frac{2 \\, {\\left(39 \\, r^{\\frac{15}{13}} r_{p} \\left(\\frac{r - r_{m}}{r}\\right)^{\\frac{15}{13}} - 15 \\, {\\left(r - r_{m}\\right)}^{\\frac{2}{13}} r r_{m} - 104 \\, {\\left(r - r_{m}\\right)}^{\\frac{2}{13}} r r_{p} + 119 \\, {\\left(r - r_{m}\\right)}^{\\frac{2}{13}} r_{m} r_{p}\\right)} {\\left(r - r_{p}\\right)} r_{m}}{169 \\, {\\left(r - r_{m}\\right)}^{\\frac{6}{13}} r^{\\frac{74}{13}}} \\mathrm{d} t\\otimes \\mathrm{d} t + \\frac{2 \\, {\\left(6591 \\, {\\left(r - r_{m}\\right)}^{\\frac{7}{13}} r^{\\frac{58}{13}} r_{p} \\left(\\frac{r - r_{m}}{r}\\right)^{\\frac{15}{13}} + 4563 \\, {\\left(r - r_{m}\\right)}^{\\frac{7}{13}} r^{\\frac{45}{13}} r_{m} r_{p} \\left(\\frac{r - r_{m}}{r}\\right)^{\\frac{15}{13}} + 3861 \\, {\\left(r - r_{m}\\right)}^{\\frac{7}{13}} r^{\\frac{32}{13}} r_{m}^{2} r_{p} \\left(\\frac{r - r_{m}}{r}\\right)^{\\frac{15}{13}} - 3861 \\, {\\left(r - r_{m}\\right)}^{\\frac{7}{13}} r^{\\frac{19}{13}} r_{m}^{2} r_{p}^{2} \\left(\\frac{r - r_{m}}{r}\\right)^{\\frac{15}{13}} - 6591 \\, {\\left(r - r_{m}\\right)}^{\\frac{7}{13}} r^{\\frac{58}{13}} r_{p} \\left(\\frac{r - r_{m}}{r}\\right)^{\\frac{6}{13}} - 4394 \\, {\\left(r - r_{m}\\right)}^{\\frac{9}{13}} r^{\\frac{69}{13}} + 4394 \\, r^{6} + 338 \\, {\\left(r - r_{m}\\right)}^{\\frac{9}{13}} r^{\\frac{56}{13}} r_{m} - 3380 \\, r^{5} r_{m} - 234 \\, {\\left(r - r_{m}\\right)}^{\\frac{9}{13}} r^{\\frac{43}{13}} r_{m}^{2} - 1485 \\, {\\left(r - r_{m}\\right)}^{\\frac{9}{13}} r^{\\frac{30}{13}} r_{m}^{3} + 15379 \\, {\\left(r - r_{m}\\right)}^{\\frac{9}{13}} r^{\\frac{56}{13}} r_{p} - 15379 \\, r^{5} r_{p} - 3718 \\, {\\left(r - r_{m}\\right)}^{\\frac{9}{13}} r^{\\frac{43}{13}} r_{m} r_{p} + 14365 \\, r^{4} r_{m} r_{p} - 17667 \\, {\\left(r - r_{m}\\right)}^{\\frac{9}{13}} r^{\\frac{30}{13}} r_{m}^{2} r_{p} + 13266 \\, {\\left(r - r_{m}\\right)}^{\\frac{9}{13}} r^{\\frac{17}{13}} r_{m}^{3} r_{p} + 10296 \\, {\\left(r - r_{m}\\right)}^{\\frac{9}{13}} r^{\\frac{17}{13}} r_{m}^{2} r_{p}^{2} - 11781 \\, {\\left(r - r_{m}\\right)}^{\\frac{9}{13}} r^{\\frac{4}{13}} r_{m}^{3} r_{p}^{2}\\right)} a \\sin\\left({\\theta}\\right)^{2}}{16731 \\, {\\left(r - r_{m}\\right)} r^{6} r_{m}} \\mathrm{d} t\\otimes \\mathrm{d} {\\phi} + \\frac{2 \\, {\\left(52 \\, r^{3} \\left(\\frac{r - r_{m}}{r}\\right)^{\\frac{7}{13}} - 25 \\, r^{2} r_{m} \\left(\\frac{r - r_{m}}{r}\\right)^{\\frac{7}{13}} - 156 \\, r^{2} r_{p} \\left(\\frac{r - r_{m}}{r}\\right)^{\\frac{7}{13}} + 129 \\, r r_{m} r_{p} \\left(\\frac{r - r_{m}}{r}\\right)^{\\frac{7}{13}} + 39 \\, {\\left(r - r_{m}\\right)}^{\\frac{7}{13}} r^{\\frac{19}{13}} r_{p} - 39 \\, {\\left(r - r_{m}\\right)}^{\\frac{7}{13}} r^{\\frac{6}{13}} r_{m} r_{p}\\right)} r_{m}}{169 \\, {\\left(r - r_{m}\\right)}^{2} {\\left(r - r_{p}\\right)} r^{3} \\left(\\frac{r - r_{m}}{r}\\right)^{\\frac{7}{13}}} \\mathrm{d} r\\otimes \\mathrm{d} r + \\frac{2 \\, {\\left(39 \\, {\\left(r - r_{m}\\right)}^{\\frac{7}{13}} r^{\\frac{6}{13}} r_{p} \\left(\\frac{r - r_{m}}{r}\\right)^{\\frac{6}{13}} - 26 \\, r^{2} + 20 \\, r r_{m} + 91 \\, r r_{p} - 85 \\, r_{m} r_{p}\\right)} r_{m}}{169 \\, {\\left(r - r_{m}\\right)} r^{2}} \\mathrm{d} {\\theta}\\otimes \\mathrm{d} {\\theta} + \\frac{2 \\, {\\left(6591 \\, {\\left(r - r_{m}\\right)}^{\\frac{7}{13}} r^{\\frac{58}{13}} r_{p} \\left(\\frac{r - r_{m}}{r}\\right)^{\\frac{15}{13}} + 4563 \\, {\\left(r - r_{m}\\right)}^{\\frac{7}{13}} r^{\\frac{45}{13}} r_{m} r_{p} \\left(\\frac{r - r_{m}}{r}\\right)^{\\frac{15}{13}} + 3861 \\, {\\left(r - r_{m}\\right)}^{\\frac{7}{13}} r^{\\frac{32}{13}} r_{m}^{2} r_{p} \\left(\\frac{r - r_{m}}{r}\\right)^{\\frac{15}{13}} - 3861 \\, {\\left(r - r_{m}\\right)}^{\\frac{7}{13}} r^{\\frac{19}{13}} r_{m}^{2} r_{p}^{2} \\left(\\frac{r - r_{m}}{r}\\right)^{\\frac{15}{13}} - 6591 \\, {\\left(r - r_{m}\\right)}^{\\frac{7}{13}} r^{\\frac{58}{13}} r_{p} \\left(\\frac{r - r_{m}}{r}\\right)^{\\frac{6}{13}} - 4394 \\, {\\left(r - r_{m}\\right)}^{\\frac{9}{13}} r^{\\frac{69}{13}} + 4394 \\, r^{6} + 338 \\, {\\left(r - r_{m}\\right)}^{\\frac{9}{13}} r^{\\frac{56}{13}} r_{m} - 3380 \\, r^{5} r_{m} - 234 \\, {\\left(r - r_{m}\\right)}^{\\frac{9}{13}} r^{\\frac{43}{13}} r_{m}^{2} - 1485 \\, {\\left(r - r_{m}\\right)}^{\\frac{9}{13}} r^{\\frac{30}{13}} r_{m}^{3} + 15379 \\, {\\left(r - r_{m}\\right)}^{\\frac{9}{13}} r^{\\frac{56}{13}} r_{p} - 15379 \\, r^{5} r_{p} - 3718 \\, {\\left(r - r_{m}\\right)}^{\\frac{9}{13}} r^{\\frac{43}{13}} r_{m} r_{p} + 14365 \\, r^{4} r_{m} r_{p} - 17667 \\, {\\left(r - r_{m}\\right)}^{\\frac{9}{13}} r^{\\frac{30}{13}} r_{m}^{2} r_{p} + 13266 \\, {\\left(r - r_{m}\\right)}^{\\frac{9}{13}} r^{\\frac{17}{13}} r_{m}^{3} r_{p} + 10296 \\, {\\left(r - r_{m}\\right)}^{\\frac{9}{13}} r^{\\frac{17}{13}} r_{m}^{2} r_{p}^{2} - 11781 \\, {\\left(r - r_{m}\\right)}^{\\frac{9}{13}} r^{\\frac{4}{13}} r_{m}^{3} r_{p}^{2}\\right)} a \\sin\\left({\\theta}\\right)^{2}}{16731 \\, {\\left(r - r_{m}\\right)} r^{6} r_{m}} \\mathrm{d} {\\phi}\\otimes \\mathrm{d} t + \\frac{2 \\, {\\left(39 \\, {\\left(r - r_{m}\\right)}^{\\frac{7}{13}} r^{\\frac{6}{13}} r_{p} \\left(\\frac{r - r_{m}}{r}\\right)^{\\frac{6}{13}} - 26 \\, r^{2} + 20 \\, r r_{m} + 91 \\, r r_{p} - 85 \\, r_{m} r_{p}\\right)} r_{m} \\sin\\left({\\theta}\\right)^{2}}{169 \\, {\\left(r - r_{m}\\right)} r^{2}} \\mathrm{d} {\\phi}\\otimes \\mathrm{d} {\\phi}\\)</html>"
      ],
      "text/latex": [
       "$\\displaystyle G_{\\mu\\nu} = -\\frac{2 \\, {\\left(39 \\, r^{\\frac{15}{13}} r_{p} \\left(\\frac{r - r_{m}}{r}\\right)^{\\frac{15}{13}} - 15 \\, {\\left(r - r_{m}\\right)}^{\\frac{2}{13}} r r_{m} - 104 \\, {\\left(r - r_{m}\\right)}^{\\frac{2}{13}} r r_{p} + 119 \\, {\\left(r - r_{m}\\right)}^{\\frac{2}{13}} r_{m} r_{p}\\right)} {\\left(r - r_{p}\\right)} r_{m}}{169 \\, {\\left(r - r_{m}\\right)}^{\\frac{6}{13}} r^{\\frac{74}{13}}} \\mathrm{d} t\\otimes \\mathrm{d} t + \\frac{2 \\, {\\left(6591 \\, {\\left(r - r_{m}\\right)}^{\\frac{7}{13}} r^{\\frac{58}{13}} r_{p} \\left(\\frac{r - r_{m}}{r}\\right)^{\\frac{15}{13}} + 4563 \\, {\\left(r - r_{m}\\right)}^{\\frac{7}{13}} r^{\\frac{45}{13}} r_{m} r_{p} \\left(\\frac{r - r_{m}}{r}\\right)^{\\frac{15}{13}} + 3861 \\, {\\left(r - r_{m}\\right)}^{\\frac{7}{13}} r^{\\frac{32}{13}} r_{m}^{2} r_{p} \\left(\\frac{r - r_{m}}{r}\\right)^{\\frac{15}{13}} - 3861 \\, {\\left(r - r_{m}\\right)}^{\\frac{7}{13}} r^{\\frac{19}{13}} r_{m}^{2} r_{p}^{2} \\left(\\frac{r - r_{m}}{r}\\right)^{\\frac{15}{13}} - 6591 \\, {\\left(r - r_{m}\\right)}^{\\frac{7}{13}} r^{\\frac{58}{13}} r_{p} \\left(\\frac{r - r_{m}}{r}\\right)^{\\frac{6}{13}} - 4394 \\, {\\left(r - r_{m}\\right)}^{\\frac{9}{13}} r^{\\frac{69}{13}} + 4394 \\, r^{6} + 338 \\, {\\left(r - r_{m}\\right)}^{\\frac{9}{13}} r^{\\frac{56}{13}} r_{m} - 3380 \\, r^{5} r_{m} - 234 \\, {\\left(r - r_{m}\\right)}^{\\frac{9}{13}} r^{\\frac{43}{13}} r_{m}^{2} - 1485 \\, {\\left(r - r_{m}\\right)}^{\\frac{9}{13}} r^{\\frac{30}{13}} r_{m}^{3} + 15379 \\, {\\left(r - r_{m}\\right)}^{\\frac{9}{13}} r^{\\frac{56}{13}} r_{p} - 15379 \\, r^{5} r_{p} - 3718 \\, {\\left(r - r_{m}\\right)}^{\\frac{9}{13}} r^{\\frac{43}{13}} r_{m} r_{p} + 14365 \\, r^{4} r_{m} r_{p} - 17667 \\, {\\left(r - r_{m}\\right)}^{\\frac{9}{13}} r^{\\frac{30}{13}} r_{m}^{2} r_{p} + 13266 \\, {\\left(r - r_{m}\\right)}^{\\frac{9}{13}} r^{\\frac{17}{13}} r_{m}^{3} r_{p} + 10296 \\, {\\left(r - r_{m}\\right)}^{\\frac{9}{13}} r^{\\frac{17}{13}} r_{m}^{2} r_{p}^{2} - 11781 \\, {\\left(r - r_{m}\\right)}^{\\frac{9}{13}} r^{\\frac{4}{13}} r_{m}^{3} r_{p}^{2}\\right)} a \\sin\\left({\\theta}\\right)^{2}}{16731 \\, {\\left(r - r_{m}\\right)} r^{6} r_{m}} \\mathrm{d} t\\otimes \\mathrm{d} {\\phi} + \\frac{2 \\, {\\left(52 \\, r^{3} \\left(\\frac{r - r_{m}}{r}\\right)^{\\frac{7}{13}} - 25 \\, r^{2} r_{m} \\left(\\frac{r - r_{m}}{r}\\right)^{\\frac{7}{13}} - 156 \\, r^{2} r_{p} \\left(\\frac{r - r_{m}}{r}\\right)^{\\frac{7}{13}} + 129 \\, r r_{m} r_{p} \\left(\\frac{r - r_{m}}{r}\\right)^{\\frac{7}{13}} + 39 \\, {\\left(r - r_{m}\\right)}^{\\frac{7}{13}} r^{\\frac{19}{13}} r_{p} - 39 \\, {\\left(r - r_{m}\\right)}^{\\frac{7}{13}} r^{\\frac{6}{13}} r_{m} r_{p}\\right)} r_{m}}{169 \\, {\\left(r - r_{m}\\right)}^{2} {\\left(r - r_{p}\\right)} r^{3} \\left(\\frac{r - r_{m}}{r}\\right)^{\\frac{7}{13}}} \\mathrm{d} r\\otimes \\mathrm{d} r + \\frac{2 \\, {\\left(39 \\, {\\left(r - r_{m}\\right)}^{\\frac{7}{13}} r^{\\frac{6}{13}} r_{p} \\left(\\frac{r - r_{m}}{r}\\right)^{\\frac{6}{13}} - 26 \\, r^{2} + 20 \\, r r_{m} + 91 \\, r r_{p} - 85 \\, r_{m} r_{p}\\right)} r_{m}}{169 \\, {\\left(r - r_{m}\\right)} r^{2}} \\mathrm{d} {\\theta}\\otimes \\mathrm{d} {\\theta} + \\frac{2 \\, {\\left(6591 \\, {\\left(r - r_{m}\\right)}^{\\frac{7}{13}} r^{\\frac{58}{13}} r_{p} \\left(\\frac{r - r_{m}}{r}\\right)^{\\frac{15}{13}} + 4563 \\, {\\left(r - r_{m}\\right)}^{\\frac{7}{13}} r^{\\frac{45}{13}} r_{m} r_{p} \\left(\\frac{r - r_{m}}{r}\\right)^{\\frac{15}{13}} + 3861 \\, {\\left(r - r_{m}\\right)}^{\\frac{7}{13}} r^{\\frac{32}{13}} r_{m}^{2} r_{p} \\left(\\frac{r - r_{m}}{r}\\right)^{\\frac{15}{13}} - 3861 \\, {\\left(r - r_{m}\\right)}^{\\frac{7}{13}} r^{\\frac{19}{13}} r_{m}^{2} r_{p}^{2} \\left(\\frac{r - r_{m}}{r}\\right)^{\\frac{15}{13}} - 6591 \\, {\\left(r - r_{m}\\right)}^{\\frac{7}{13}} r^{\\frac{58}{13}} r_{p} \\left(\\frac{r - r_{m}}{r}\\right)^{\\frac{6}{13}} - 4394 \\, {\\left(r - r_{m}\\right)}^{\\frac{9}{13}} r^{\\frac{69}{13}} + 4394 \\, r^{6} + 338 \\, {\\left(r - r_{m}\\right)}^{\\frac{9}{13}} r^{\\frac{56}{13}} r_{m} - 3380 \\, r^{5} r_{m} - 234 \\, {\\left(r - r_{m}\\right)}^{\\frac{9}{13}} r^{\\frac{43}{13}} r_{m}^{2} - 1485 \\, {\\left(r - r_{m}\\right)}^{\\frac{9}{13}} r^{\\frac{30}{13}} r_{m}^{3} + 15379 \\, {\\left(r - r_{m}\\right)}^{\\frac{9}{13}} r^{\\frac{56}{13}} r_{p} - 15379 \\, r^{5} r_{p} - 3718 \\, {\\left(r - r_{m}\\right)}^{\\frac{9}{13}} r^{\\frac{43}{13}} r_{m} r_{p} + 14365 \\, r^{4} r_{m} r_{p} - 17667 \\, {\\left(r - r_{m}\\right)}^{\\frac{9}{13}} r^{\\frac{30}{13}} r_{m}^{2} r_{p} + 13266 \\, {\\left(r - r_{m}\\right)}^{\\frac{9}{13}} r^{\\frac{17}{13}} r_{m}^{3} r_{p} + 10296 \\, {\\left(r - r_{m}\\right)}^{\\frac{9}{13}} r^{\\frac{17}{13}} r_{m}^{2} r_{p}^{2} - 11781 \\, {\\left(r - r_{m}\\right)}^{\\frac{9}{13}} r^{\\frac{4}{13}} r_{m}^{3} r_{p}^{2}\\right)} a \\sin\\left({\\theta}\\right)^{2}}{16731 \\, {\\left(r - r_{m}\\right)} r^{6} r_{m}} \\mathrm{d} {\\phi}\\otimes \\mathrm{d} t + \\frac{2 \\, {\\left(39 \\, {\\left(r - r_{m}\\right)}^{\\frac{7}{13}} r^{\\frac{6}{13}} r_{p} \\left(\\frac{r - r_{m}}{r}\\right)^{\\frac{6}{13}} - 26 \\, r^{2} + 20 \\, r r_{m} + 91 \\, r r_{p} - 85 \\, r_{m} r_{p}\\right)} r_{m} \\sin\\left({\\theta}\\right)^{2}}{169 \\, {\\left(r - r_{m}\\right)} r^{2}} \\mathrm{d} {\\phi}\\otimes \\mathrm{d} {\\phi}$"
      ],
      "text/plain": [
       "G_{\\mu\\nu} = -2/169*(39*r^(15/13)*r_p*((r - r_m)/r)^(15/13) - 15*(r - r_m)^(2/13)*r*r_m - 104*(r - r_m)^(2/13)*r*r_p + 119*(r - r_m)^(2/13)*r_m*r_p)*(r - r_p)*r_m/((r - r_m)^(6/13)*r^(74/13)) dt⊗dt + 2/16731*(6591*(r - r_m)^(7/13)*r^(58/13)*r_p*((r - r_m)/r)^(15/13) + 4563*(r - r_m)^(7/13)*r^(45/13)*r_m*r_p*((r - r_m)/r)^(15/13) + 3861*(r - r_m)^(7/13)*r^(32/13)*r_m^2*r_p*((r - r_m)/r)^(15/13) - 3861*(r - r_m)^(7/13)*r^(19/13)*r_m^2*r_p^2*((r - r_m)/r)^(15/13) - 6591*(r - r_m)^(7/13)*r^(58/13)*r_p*((r - r_m)/r)^(6/13) - 4394*(r - r_m)^(9/13)*r^(69/13) + 4394*r^6 + 338*(r - r_m)^(9/13)*r^(56/13)*r_m - 3380*r^5*r_m - 234*(r - r_m)^(9/13)*r^(43/13)*r_m^2 - 1485*(r - r_m)^(9/13)*r^(30/13)*r_m^3 + 15379*(r - r_m)^(9/13)*r^(56/13)*r_p - 15379*r^5*r_p - 3718*(r - r_m)^(9/13)*r^(43/13)*r_m*r_p + 14365*r^4*r_m*r_p - 17667*(r - r_m)^(9/13)*r^(30/13)*r_m^2*r_p + 13266*(r - r_m)^(9/13)*r^(17/13)*r_m^3*r_p + 10296*(r - r_m)^(9/13)*r^(17/13)*r_m^2*r_p^2 - 11781*(r - r_m)^(9/13)*r^(4/13)*r_m^3*r_p^2)*a*sin(th)^2/((r - r_m)*r^6*r_m) dt⊗dph + 2/169*(52*r^3*((r - r_m)/r)^(7/13) - 25*r^2*r_m*((r - r_m)/r)^(7/13) - 156*r^2*r_p*((r - r_m)/r)^(7/13) + 129*r*r_m*r_p*((r - r_m)/r)^(7/13) + 39*(r - r_m)^(7/13)*r^(19/13)*r_p - 39*(r - r_m)^(7/13)*r^(6/13)*r_m*r_p)*r_m/((r - r_m)^2*(r - r_p)*r^3*((r - r_m)/r)^(7/13)) dr⊗dr + 2/169*(39*(r - r_m)^(7/13)*r^(6/13)*r_p*((r - r_m)/r)^(6/13) - 26*r^2 + 20*r*r_m + 91*r*r_p - 85*r_m*r_p)*r_m/((r - r_m)*r^2) dth⊗dth + 2/16731*(6591*(r - r_m)^(7/13)*r^(58/13)*r_p*((r - r_m)/r)^(15/13) + 4563*(r - r_m)^(7/13)*r^(45/13)*r_m*r_p*((r - r_m)/r)^(15/13) + 3861*(r - r_m)^(7/13)*r^(32/13)*r_m^2*r_p*((r - r_m)/r)^(15/13) - 3861*(r - r_m)^(7/13)*r^(19/13)*r_m^2*r_p^2*((r - r_m)/r)^(15/13) - 6591*(r - r_m)^(7/13)*r^(58/13)*r_p*((r - r_m)/r)^(6/13) - 4394*(r - r_m)^(9/13)*r^(69/13) + 4394*r^6 + 338*(r - r_m)^(9/13)*r^(56/13)*r_m - 3380*r^5*r_m - 234*(r - r_m)^(9/13)*r^(43/13)*r_m^2 - 1485*(r - r_m)^(9/13)*r^(30/13)*r_m^3 + 15379*(r - r_m)^(9/13)*r^(56/13)*r_p - 15379*r^5*r_p - 3718*(r - r_m)^(9/13)*r^(43/13)*r_m*r_p + 14365*r^4*r_m*r_p - 17667*(r - r_m)^(9/13)*r^(30/13)*r_m^2*r_p + 13266*(r - r_m)^(9/13)*r^(17/13)*r_m^3*r_p + 10296*(r - r_m)^(9/13)*r^(17/13)*r_m^2*r_p^2 - 11781*(r - r_m)^(9/13)*r^(4/13)*r_m^3*r_p^2)*a*sin(th)^2/((r - r_m)*r^6*r_m) dph⊗dt + 2/169*(39*(r - r_m)^(7/13)*r^(6/13)*r_p*((r - r_m)/r)^(6/13) - 26*r^2 + 20*r*r_m + 91*r*r_p - 85*r_m*r_p)*r_m*sin(th)^2/((r - r_m)*r^2) dph⊗dph"
      ]
     },
     "execution_count": 21,
     "metadata": {},
     "output_type": "execute_result"
    }
   ],
   "source": [
    "G = ER_ricc - 1/2*g*ER_rsc\n",
    "G.set_name(r'G_{\\mu\\nu}')\n",
    "slow_rot(G).display()"
   ]
  },
  {
   "cell_type": "markdown",
   "id": "8a63bcc4",
   "metadata": {},
   "source": [
    "## III.2. The right hand side of the motion equation (1) "
   ]
  },
  {
   "cell_type": "markdown",
   "id": "6a9b9c62",
   "metadata": {},
   "source": [
    "### III.2.1 The first component: the stress-energy tensor $T_{\\mu\\nu}=2\\left(F_{\\rho\\mu}F^{\\rho}_{\\hspace{0.2cm}\\nu}-\\frac{1}{4}g_{\\mu\\nu}F^{2}\\right)$ "
   ]
  },
  {
   "cell_type": "code",
   "execution_count": 22,
   "id": "a0640a9b",
   "metadata": {},
   "outputs": [
    {
     "data": {
      "text/html": [
       "<html>\\(\\displaystyle F^{2} =  -\\frac{2 \\, Q^{2}}{{\\left(r - r_{m}\\right)}^{\\frac{8}{13}} r^{\\frac{44}{13}}}\\)</html>"
      ],
      "text/latex": [
       "$\\displaystyle F^{2} =  -\\frac{2 \\, Q^{2}}{{\\left(r - r_{m}\\right)}^{\\frac{8}{13}} r^{\\frac{44}{13}}}$"
      ],
      "text/plain": [
       "F^{2} =  -2*Q^2/((r - r_m)^(8/13)*r^(44/13))"
      ]
     },
     "metadata": {},
     "output_type": "display_data"
    }
   ],
   "source": [
    "Fuu = F.up(g)\n",
    "F2 = F['_ab']*Fuu['^ab']\n",
    "F2t = F2.expr().taylor(a,0,1)\n",
    "show(LatexExpr(r'F^{2} = '), F2t)"
   ]
  },
  {
   "cell_type": "code",
   "execution_count": 23,
   "id": "cb1dbc5e",
   "metadata": {},
   "outputs": [
    {
     "data": {
      "text/html": [
       "<html>\\(\\displaystyle -\\frac{12 \\, {\\left(r^{\\frac{15}{13}} \\left(\\frac{r - r_{m}}{r}\\right)^{\\frac{15}{13}} - 2 \\, {\\left(r - r_{m}\\right)}^{\\frac{2}{13}} r + 2 \\, {\\left(r - r_{m}\\right)}^{\\frac{2}{13}} r_{m}\\right)} {\\left(r - r_{p}\\right)} r_{m} r_{p}}{13 \\, {\\left(r - r_{m}\\right)}^{\\frac{8}{13}} r^{\\frac{72}{13}}} \\mathrm{d} t\\otimes \\mathrm{d} t + \\frac{4 \\, {\\left(169 \\, r^{\\frac{54}{13}} \\left(\\frac{r - r_{m}}{r}\\right)^{\\frac{15}{13}} + 117 \\, r^{\\frac{41}{13}} r_{m} \\left(\\frac{r - r_{m}}{r}\\right)^{\\frac{15}{13}} + 99 \\, r^{\\frac{28}{13}} r_{m}^{2} \\left(\\frac{r - r_{m}}{r}\\right)^{\\frac{15}{13}} - 99 \\, r^{\\frac{15}{13}} r_{m}^{2} r_{p} \\left(\\frac{r - r_{m}}{r}\\right)^{\\frac{15}{13}} - 169 \\, r^{\\frac{54}{13}} \\left(\\frac{r - r_{m}}{r}\\right)^{\\frac{6}{13}} - 198 \\, {\\left(r - r_{m}\\right)}^{\\frac{2}{13}} r^{2} r_{m}^{2} + 198 \\, {\\left(r - r_{m}\\right)}^{\\frac{2}{13}} r r_{m}^{3} + 198 \\, {\\left(r - r_{m}\\right)}^{\\frac{2}{13}} r r_{m}^{2} r_{p} - 198 \\, {\\left(r - r_{m}\\right)}^{\\frac{2}{13}} r_{m}^{3} r_{p}\\right)} a r_{p} \\sin\\left({\\theta}\\right)^{2}}{429 \\, {\\left(r - r_{m}\\right)}^{\\frac{8}{13}} r^{\\frac{72}{13}} r_{m}} \\mathrm{d} t\\otimes \\mathrm{d} {\\phi} -\\frac{12 \\, {\\left(2 \\, r \\left(\\frac{r - r_{m}}{r}\\right)^{\\frac{7}{13}} - {\\left(r - r_{m}\\right)}^{\\frac{7}{13}} r^{\\frac{6}{13}}\\right)} r_{m} r_{p}}{13 \\, {\\left(r - r_{m}\\right)}^{\\frac{15}{13}} {\\left(r - r_{p}\\right)} r^{\\frac{37}{13}} \\left(\\frac{r - r_{m}}{r}\\right)^{\\frac{7}{13}}} \\mathrm{d} r\\otimes \\mathrm{d} r + \\frac{12 \\, r_{m} r_{p} \\left(\\frac{r - r_{m}}{r}\\right)^{\\frac{6}{13}}}{13 \\, {\\left(r - r_{m}\\right)}^{\\frac{8}{13}} r^{\\frac{18}{13}}} \\mathrm{d} {\\theta}\\otimes \\mathrm{d} {\\theta} + \\frac{4 \\, {\\left(169 \\, r^{\\frac{54}{13}} \\left(\\frac{r - r_{m}}{r}\\right)^{\\frac{15}{13}} + 117 \\, r^{\\frac{41}{13}} r_{m} \\left(\\frac{r - r_{m}}{r}\\right)^{\\frac{15}{13}} + 99 \\, r^{\\frac{28}{13}} r_{m}^{2} \\left(\\frac{r - r_{m}}{r}\\right)^{\\frac{15}{13}} - 99 \\, r^{\\frac{15}{13}} r_{m}^{2} r_{p} \\left(\\frac{r - r_{m}}{r}\\right)^{\\frac{15}{13}} - 169 \\, r^{\\frac{54}{13}} \\left(\\frac{r - r_{m}}{r}\\right)^{\\frac{6}{13}} - 198 \\, {\\left(r - r_{m}\\right)}^{\\frac{2}{13}} r^{2} r_{m}^{2} + 198 \\, {\\left(r - r_{m}\\right)}^{\\frac{2}{13}} r r_{m}^{3} + 198 \\, {\\left(r - r_{m}\\right)}^{\\frac{2}{13}} r r_{m}^{2} r_{p} - 198 \\, {\\left(r - r_{m}\\right)}^{\\frac{2}{13}} r_{m}^{3} r_{p}\\right)} a r_{p} \\sin\\left({\\theta}\\right)^{2}}{429 \\, {\\left(r - r_{m}\\right)}^{\\frac{8}{13}} r^{\\frac{72}{13}} r_{m}} \\mathrm{d} {\\phi}\\otimes \\mathrm{d} t + \\frac{12 \\, r_{m} r_{p} \\left(\\frac{r - r_{m}}{r}\\right)^{\\frac{6}{13}} \\sin\\left({\\theta}\\right)^{2}}{13 \\, {\\left(r - r_{m}\\right)}^{\\frac{8}{13}} r^{\\frac{18}{13}}} \\mathrm{d} {\\phi}\\otimes \\mathrm{d} {\\phi}\\)</html>"
      ],
      "text/latex": [
       "$\\displaystyle -\\frac{12 \\, {\\left(r^{\\frac{15}{13}} \\left(\\frac{r - r_{m}}{r}\\right)^{\\frac{15}{13}} - 2 \\, {\\left(r - r_{m}\\right)}^{\\frac{2}{13}} r + 2 \\, {\\left(r - r_{m}\\right)}^{\\frac{2}{13}} r_{m}\\right)} {\\left(r - r_{p}\\right)} r_{m} r_{p}}{13 \\, {\\left(r - r_{m}\\right)}^{\\frac{8}{13}} r^{\\frac{72}{13}}} \\mathrm{d} t\\otimes \\mathrm{d} t + \\frac{4 \\, {\\left(169 \\, r^{\\frac{54}{13}} \\left(\\frac{r - r_{m}}{r}\\right)^{\\frac{15}{13}} + 117 \\, r^{\\frac{41}{13}} r_{m} \\left(\\frac{r - r_{m}}{r}\\right)^{\\frac{15}{13}} + 99 \\, r^{\\frac{28}{13}} r_{m}^{2} \\left(\\frac{r - r_{m}}{r}\\right)^{\\frac{15}{13}} - 99 \\, r^{\\frac{15}{13}} r_{m}^{2} r_{p} \\left(\\frac{r - r_{m}}{r}\\right)^{\\frac{15}{13}} - 169 \\, r^{\\frac{54}{13}} \\left(\\frac{r - r_{m}}{r}\\right)^{\\frac{6}{13}} - 198 \\, {\\left(r - r_{m}\\right)}^{\\frac{2}{13}} r^{2} r_{m}^{2} + 198 \\, {\\left(r - r_{m}\\right)}^{\\frac{2}{13}} r r_{m}^{3} + 198 \\, {\\left(r - r_{m}\\right)}^{\\frac{2}{13}} r r_{m}^{2} r_{p} - 198 \\, {\\left(r - r_{m}\\right)}^{\\frac{2}{13}} r_{m}^{3} r_{p}\\right)} a r_{p} \\sin\\left({\\theta}\\right)^{2}}{429 \\, {\\left(r - r_{m}\\right)}^{\\frac{8}{13}} r^{\\frac{72}{13}} r_{m}} \\mathrm{d} t\\otimes \\mathrm{d} {\\phi} -\\frac{12 \\, {\\left(2 \\, r \\left(\\frac{r - r_{m}}{r}\\right)^{\\frac{7}{13}} - {\\left(r - r_{m}\\right)}^{\\frac{7}{13}} r^{\\frac{6}{13}}\\right)} r_{m} r_{p}}{13 \\, {\\left(r - r_{m}\\right)}^{\\frac{15}{13}} {\\left(r - r_{p}\\right)} r^{\\frac{37}{13}} \\left(\\frac{r - r_{m}}{r}\\right)^{\\frac{7}{13}}} \\mathrm{d} r\\otimes \\mathrm{d} r + \\frac{12 \\, r_{m} r_{p} \\left(\\frac{r - r_{m}}{r}\\right)^{\\frac{6}{13}}}{13 \\, {\\left(r - r_{m}\\right)}^{\\frac{8}{13}} r^{\\frac{18}{13}}} \\mathrm{d} {\\theta}\\otimes \\mathrm{d} {\\theta} + \\frac{4 \\, {\\left(169 \\, r^{\\frac{54}{13}} \\left(\\frac{r - r_{m}}{r}\\right)^{\\frac{15}{13}} + 117 \\, r^{\\frac{41}{13}} r_{m} \\left(\\frac{r - r_{m}}{r}\\right)^{\\frac{15}{13}} + 99 \\, r^{\\frac{28}{13}} r_{m}^{2} \\left(\\frac{r - r_{m}}{r}\\right)^{\\frac{15}{13}} - 99 \\, r^{\\frac{15}{13}} r_{m}^{2} r_{p} \\left(\\frac{r - r_{m}}{r}\\right)^{\\frac{15}{13}} - 169 \\, r^{\\frac{54}{13}} \\left(\\frac{r - r_{m}}{r}\\right)^{\\frac{6}{13}} - 198 \\, {\\left(r - r_{m}\\right)}^{\\frac{2}{13}} r^{2} r_{m}^{2} + 198 \\, {\\left(r - r_{m}\\right)}^{\\frac{2}{13}} r r_{m}^{3} + 198 \\, {\\left(r - r_{m}\\right)}^{\\frac{2}{13}} r r_{m}^{2} r_{p} - 198 \\, {\\left(r - r_{m}\\right)}^{\\frac{2}{13}} r_{m}^{3} r_{p}\\right)} a r_{p} \\sin\\left({\\theta}\\right)^{2}}{429 \\, {\\left(r - r_{m}\\right)}^{\\frac{8}{13}} r^{\\frac{72}{13}} r_{m}} \\mathrm{d} {\\phi}\\otimes \\mathrm{d} t + \\frac{12 \\, r_{m} r_{p} \\left(\\frac{r - r_{m}}{r}\\right)^{\\frac{6}{13}} \\sin\\left({\\theta}\\right)^{2}}{13 \\, {\\left(r - r_{m}\\right)}^{\\frac{8}{13}} r^{\\frac{18}{13}}} \\mathrm{d} {\\phi}\\otimes \\mathrm{d} {\\phi}$"
      ],
      "text/plain": [
       "-12/13*(r^(15/13)*((r - r_m)/r)^(15/13) - 2*(r - r_m)^(2/13)*r + 2*(r - r_m)^(2/13)*r_m)*(r - r_p)*r_m*r_p/((r - r_m)^(8/13)*r^(72/13)) dt⊗dt + 4/429*(169*r^(54/13)*((r - r_m)/r)^(15/13) + 117*r^(41/13)*r_m*((r - r_m)/r)^(15/13) + 99*r^(28/13)*r_m^2*((r - r_m)/r)^(15/13) - 99*r^(15/13)*r_m^2*r_p*((r - r_m)/r)^(15/13) - 169*r^(54/13)*((r - r_m)/r)^(6/13) - 198*(r - r_m)^(2/13)*r^2*r_m^2 + 198*(r - r_m)^(2/13)*r*r_m^3 + 198*(r - r_m)^(2/13)*r*r_m^2*r_p - 198*(r - r_m)^(2/13)*r_m^3*r_p)*a*r_p*sin(th)^2/((r - r_m)^(8/13)*r^(72/13)*r_m) dt⊗dph - 12/13*(2*r*((r - r_m)/r)^(7/13) - (r - r_m)^(7/13)*r^(6/13))*r_m*r_p/((r - r_m)^(15/13)*(r - r_p)*r^(37/13)*((r - r_m)/r)^(7/13)) dr⊗dr + 12/13*r_m*r_p*((r - r_m)/r)^(6/13)/((r - r_m)^(8/13)*r^(18/13)) dth⊗dth + 4/429*(169*r^(54/13)*((r - r_m)/r)^(15/13) + 117*r^(41/13)*r_m*((r - r_m)/r)^(15/13) + 99*r^(28/13)*r_m^2*((r - r_m)/r)^(15/13) - 99*r^(15/13)*r_m^2*r_p*((r - r_m)/r)^(15/13) - 169*r^(54/13)*((r - r_m)/r)^(6/13) - 198*(r - r_m)^(2/13)*r^2*r_m^2 + 198*(r - r_m)^(2/13)*r*r_m^3 + 198*(r - r_m)^(2/13)*r*r_m^2*r_p - 198*(r - r_m)^(2/13)*r_m^3*r_p)*a*r_p*sin(th)^2/((r - r_m)^(8/13)*r^(72/13)*r_m) dph⊗dt + 12/13*r_m*r_p*((r - r_m)/r)^(6/13)*sin(th)^2/((r - r_m)^(8/13)*r^(18/13)) dph⊗dph"
      ]
     },
     "execution_count": 23,
     "metadata": {},
     "output_type": "execute_result"
    }
   ],
   "source": [
    "Fud = F.up(g,0)\n",
    "T = 2*(F['_k.']*Fud['^k_.'] - 1/4*F2 * g)\n",
    "slow_rot(T).display()"
   ]
  },
  {
   "cell_type": "markdown",
   "id": "b1fd859b",
   "metadata": {},
   "source": [
    "### III.2.2. The Scalar field"
   ]
  },
  {
   "cell_type": "markdown",
   "id": "3ddb1f3a",
   "metadata": {},
   "source": [
    "The scalar field can be expressed as $\\Phi=\\left[\\left(1-\\frac{r_{-}}{r}\\right)^{\\frac{2\\alpha^{2}}{1+\\alpha^{2}}}_{|_{\\alpha=(2\\sqrt{3})^{-1}}}\\right]^{-2}=\\left(1-\\frac{r_{-}}{r}\\right)^{\\frac{-4\\alpha^{2}}{1+\\alpha^{2}}}_{|_{\\alpha=(2\\sqrt{3})^{-1}}}=e^{-\\frac{2\\phi}{\\sqrt{3}}}=\\left(1-\\frac{r_{-}}{r}\\right)^{\\frac{-4}{13}}$ "
   ]
  },
  {
   "cell_type": "code",
   "execution_count": 24,
   "id": "2561a2d5",
   "metadata": {},
   "outputs": [],
   "source": [
    "Phi_sc = M.scalar_field((1-r_m/r)**(-2/13), name='Phi', latex_name=r'\\Phi')"
   ]
  },
  {
   "cell_type": "markdown",
   "id": "e4ac7d03",
   "metadata": {},
   "source": [
    "We deduce the final quotient and perform a first-order Taylor expansion to simplify the expression before any further calculations"
   ]
  },
  {
   "cell_type": "code",
   "execution_count": 25,
   "id": "8da7f7df",
   "metadata": {},
   "outputs": [
    {
     "data": {
      "text/html": [
       "<html>\\(\\displaystyle \\frac{12 \\, {\\left(r - r_{m}\\right)}^{\\frac{9}{13}} {\\left(r - r_{p}\\right)} r_{m} r_{p}}{13 \\, r^{\\frac{74}{13}}} \\mathrm{d} t\\otimes \\mathrm{d} t -\\frac{4 \\, {\\left(169 \\, {\\left(r - r_{m}\\right)}^{\\frac{4}{13}} r^{\\frac{48}{13}} - 169 \\, r^{4} + 52 \\, r^{3} r_{m} + 216 \\, r^{2} r_{m}^{2} - 99 \\, r r_{m}^{3} - 99 \\, r r_{m}^{2} r_{p} + 99 \\, r_{m}^{3} r_{p}\\right)} a r_{p} \\sin\\left({\\theta}\\right)^{2}}{429 \\, {\\left(r - r_{m}\\right)}^{\\frac{4}{13}} r^{\\frac{74}{13}} r_{m}} \\mathrm{d} t\\otimes \\mathrm{d} {\\phi} -\\frac{12 \\, r_{m} r_{p}}{13 \\, {\\left(r - r_{m}\\right)} {\\left(r - r_{p}\\right)} r^{2}} \\mathrm{d} r\\otimes \\mathrm{d} r + \\frac{12 \\, r_{m} r_{p}}{13 \\, r^{2}} \\mathrm{d} {\\theta}\\otimes \\mathrm{d} {\\theta} -\\frac{4 \\, {\\left(169 \\, {\\left(r - r_{m}\\right)}^{\\frac{4}{13}} r^{\\frac{48}{13}} - 169 \\, r^{4} + 52 \\, r^{3} r_{m} + 216 \\, r^{2} r_{m}^{2} - 99 \\, r r_{m}^{3} - 99 \\, r r_{m}^{2} r_{p} + 99 \\, r_{m}^{3} r_{p}\\right)} a r_{p} \\sin\\left({\\theta}\\right)^{2}}{429 \\, {\\left(r - r_{m}\\right)}^{\\frac{4}{13}} r^{\\frac{74}{13}} r_{m}} \\mathrm{d} {\\phi}\\otimes \\mathrm{d} t + \\frac{12 \\, r_{m} r_{p} \\sin\\left({\\theta}\\right)^{2}}{13 \\, r^{2}} \\mathrm{d} {\\phi}\\otimes \\mathrm{d} {\\phi}\\)</html>"
      ],
      "text/latex": [
       "$\\displaystyle \\frac{12 \\, {\\left(r - r_{m}\\right)}^{\\frac{9}{13}} {\\left(r - r_{p}\\right)} r_{m} r_{p}}{13 \\, r^{\\frac{74}{13}}} \\mathrm{d} t\\otimes \\mathrm{d} t -\\frac{4 \\, {\\left(169 \\, {\\left(r - r_{m}\\right)}^{\\frac{4}{13}} r^{\\frac{48}{13}} - 169 \\, r^{4} + 52 \\, r^{3} r_{m} + 216 \\, r^{2} r_{m}^{2} - 99 \\, r r_{m}^{3} - 99 \\, r r_{m}^{2} r_{p} + 99 \\, r_{m}^{3} r_{p}\\right)} a r_{p} \\sin\\left({\\theta}\\right)^{2}}{429 \\, {\\left(r - r_{m}\\right)}^{\\frac{4}{13}} r^{\\frac{74}{13}} r_{m}} \\mathrm{d} t\\otimes \\mathrm{d} {\\phi} -\\frac{12 \\, r_{m} r_{p}}{13 \\, {\\left(r - r_{m}\\right)} {\\left(r - r_{p}\\right)} r^{2}} \\mathrm{d} r\\otimes \\mathrm{d} r + \\frac{12 \\, r_{m} r_{p}}{13 \\, r^{2}} \\mathrm{d} {\\theta}\\otimes \\mathrm{d} {\\theta} -\\frac{4 \\, {\\left(169 \\, {\\left(r - r_{m}\\right)}^{\\frac{4}{13}} r^{\\frac{48}{13}} - 169 \\, r^{4} + 52 \\, r^{3} r_{m} + 216 \\, r^{2} r_{m}^{2} - 99 \\, r r_{m}^{3} - 99 \\, r r_{m}^{2} r_{p} + 99 \\, r_{m}^{3} r_{p}\\right)} a r_{p} \\sin\\left({\\theta}\\right)^{2}}{429 \\, {\\left(r - r_{m}\\right)}^{\\frac{4}{13}} r^{\\frac{74}{13}} r_{m}} \\mathrm{d} {\\phi}\\otimes \\mathrm{d} t + \\frac{12 \\, r_{m} r_{p} \\sin\\left({\\theta}\\right)^{2}}{13 \\, r^{2}} \\mathrm{d} {\\phi}\\otimes \\mathrm{d} {\\phi}$"
      ],
      "text/plain": [
       "12/13*(r - r_m)^(9/13)*(r - r_p)*r_m*r_p/r^(74/13) dt⊗dt - 4/429*(169*(r - r_m)^(4/13)*r^(48/13) - 169*r^4 + 52*r^3*r_m + 216*r^2*r_m^2 - 99*r*r_m^3 - 99*r*r_m^2*r_p + 99*r_m^3*r_p)*a*r_p*sin(th)^2/((r - r_m)^(4/13)*r^(74/13)*r_m) dt⊗dph - 12/13*r_m*r_p/((r - r_m)*(r - r_p)*r^2) dr⊗dr + 12/13*r_m*r_p/r^2 dth⊗dth - 4/429*(169*(r - r_m)^(4/13)*r^(48/13) - 169*r^4 + 52*r^3*r_m + 216*r^2*r_m^2 - 99*r*r_m^3 - 99*r*r_m^2*r_p + 99*r_m^3*r_p)*a*r_p*sin(th)^2/((r - r_m)^(4/13)*r^(74/13)*r_m) dph⊗dt + 12/13*r_m*r_p*sin(th)^2/r^2 dph⊗dph"
      ]
     },
     "execution_count": 25,
     "metadata": {},
     "output_type": "execute_result"
    }
   ],
   "source": [
    "UU=T/Phi_sc\n",
    "slow_rot(UU).display()"
   ]
  },
  {
   "cell_type": "markdown",
   "id": "9b174a24",
   "metadata": {},
   "source": [
    "### III.2.3. The second component of the motion equation (1) $\\frac{1}{\\Phi}(\\triangledown_{\\mu}\\triangledown_{\\nu}-g_{\\mu\\nu}\\square)\\Phi$"
   ]
  },
  {
   "cell_type": "markdown",
   "id": "5e198b7f",
   "metadata": {},
   "source": [
    "We now construct the d'Alembert operator"
   ]
  },
  {
   "cell_type": "code",
   "execution_count": 26,
   "id": "ffccbcb8",
   "metadata": {},
   "outputs": [
    {
     "data": {
      "text/html": [
       "<html>\\(\\displaystyle \\Box\\left( {\\Phi}^{ 2 } \\right)\\)</html>"
      ],
      "text/latex": [
       "$\\displaystyle \\Box\\left( {\\Phi}^{ 2 } \\right)$"
      ],
      "text/plain": [
       "Scalar field Box(Phi^2) on the 4-dimensional Lorentzian manifold M"
      ]
     },
     "execution_count": 26,
     "metadata": {},
     "output_type": "execute_result"
    }
   ],
   "source": [
    "Dal = dalembertian(Phi_sc**2); Dal"
   ]
  },
  {
   "cell_type": "code",
   "execution_count": 27,
   "id": "488974ef",
   "metadata": {},
   "outputs": [
    {
     "data": {
      "text/html": [
       "<html>\\(\\displaystyle \\mathrm{d} {\\Phi}^{ 2 }\\)</html>"
      ],
      "text/latex": [
       "$\\displaystyle \\mathrm{d} {\\Phi}^{ 2 }$"
      ],
      "text/plain": [
       "1-form dPhi^2 on the 4-dimensional Lorentzian manifold M"
      ]
     },
     "execution_count": 27,
     "metadata": {},
     "output_type": "execute_result"
    }
   ],
   "source": [
    "Gp = nab(Phi_sc**2); Gp "
   ]
  },
  {
   "cell_type": "markdown",
   "id": "fcbf2ff5",
   "metadata": {},
   "source": [
    "We substitute the function Z in the expression and we perform a first first-order Taylor expansion to simplify the expression before any further calculations"
   ]
  },
  {
   "cell_type": "code",
   "execution_count": 28,
   "id": "2d801e48",
   "metadata": {},
   "outputs": [],
   "source": [
    "S = Phi_sc**(-2)*(nab(Gp).down(g)-g*Dal) \n",
    "S.apply_map(lambda f: f.substitute_function(Z,E))\n",
    "S.apply_map(lambda f: f.taylor(a,0,1)) "
   ]
  },
  {
   "cell_type": "markdown",
   "id": "91c9a019",
   "metadata": {},
   "source": [
    "We subsitute the remaining expressions U,V,X,Y and Q to have the final form of the right hand side of the motion equation (1)"
   ]
  },
  {
   "cell_type": "code",
   "execution_count": 29,
   "id": "365d2724",
   "metadata": {},
   "outputs": [],
   "source": [
    "RHS = UU + S\n",
    "RHS.apply_map(lambda f: f.taylor(a,0,1)) \n",
    "RHS.apply_map(lambda f: f.substitute_function(U, A).substitute_function(V, B).substitute_function(X, C).substitute_function(Y, D))\n",
    "RHS.apply_map(lambda f: f.subs(Q=H))"
   ]
  },
  {
   "cell_type": "markdown",
   "id": "fea4eb72",
   "metadata": {},
   "source": [
    "# IV. Verification of the field equations"
   ]
  },
  {
   "cell_type": "markdown",
   "id": "54244fef",
   "metadata": {},
   "source": [
    "## IV.1 Verification of the $G_{\\mu\\nu} = \\tilde{k} \\frac{T_{\\alpha\\beta}}{\\sqrt{\\phi}}+\\frac{1}{\\phi}\\left[\\nabla_{\\mu}\\nabla_{\\nu} - g_{\\mu\\nu}\\square\\right]\\phi$ equation"
   ]
  },
  {
   "cell_type": "markdown",
   "id": "e4e12867",
   "metadata": {},
   "source": [
    "Let's make the difference between the right hand side and the left hand side of the equation (1)"
   ]
  },
  {
   "cell_type": "code",
   "execution_count": 30,
   "id": "04779e72-5caf-475d-a982-690bfc14560e",
   "metadata": {},
   "outputs": [
    {
     "data": {
      "text/html": [
       "<html>\\(\\displaystyle \\mathrm{True}\\)</html>"
      ],
      "text/latex": [
       "$\\displaystyle \\mathrm{True}$"
      ],
      "text/plain": [
       "True"
      ]
     },
     "execution_count": 30,
     "metadata": {},
     "output_type": "execute_result"
    }
   ],
   "source": [
    "G == RHS"
   ]
  },
  {
   "cell_type": "markdown",
   "id": "554842d4",
   "metadata": {},
   "source": [
    "## IV.2. Verification of the $\\triangledown\\left(\\sqrt{\\phi}F_{\\mu\\nu}\\right)$ equation"
   ]
  },
  {
   "cell_type": "code",
   "execution_count": 35,
   "id": "29d8a6d0",
   "metadata": {},
   "outputs": [
    {
     "data": {
      "text/html": [
       "<html>\\(\\displaystyle -\\frac{2 \\, \\sqrt{13} \\sqrt{3} \\sqrt{r_{m}} \\sqrt{r_{p}}}{13 \\, {\\left(r - r_{m}\\right)}^{\\frac{10}{13}} r^{\\frac{16}{13}}} \\frac{\\partial}{\\partial t }\\otimes \\frac{\\partial}{\\partial r } + \\frac{2 \\, \\sqrt{13} \\sqrt{3} \\sqrt{r_{m}} \\sqrt{r_{p}}}{13 \\, {\\left(r - r_{m}\\right)}^{\\frac{10}{13}} r^{\\frac{16}{13}}} \\frac{\\partial}{\\partial r }\\otimes \\frac{\\partial}{\\partial t } + \\frac{2 \\, \\sqrt{13} \\sqrt{3} {\\left(13 \\, {\\left(r - r_{m}\\right)}^{\\frac{4}{13}} r^{\\frac{22}{13}} - 13 \\, r^{2} + 4 \\, r r_{m} + 9 \\, r_{m}^{2}\\right)} a \\sqrt{r_{p}}}{99 \\, {\\left(r - r_{m}\\right)}^{\\frac{14}{13}} r^{\\frac{38}{13}} r_{m}^{\\frac{3}{2}}} \\frac{\\partial}{\\partial r }\\otimes \\frac{\\partial}{\\partial {\\phi} } -\\frac{4 \\, \\sqrt{13} \\sqrt{3} a \\sqrt{r_{m}} \\sqrt{r_{p}} \\cos\\left({\\theta}\\right)}{13 \\, {\\left(r - r_{m}\\right)}^{\\frac{14}{13}} r^{\\frac{51}{13}} \\sin\\left({\\theta}\\right)} \\frac{\\partial}{\\partial {\\theta} }\\otimes \\frac{\\partial}{\\partial {\\phi} } -\\frac{2 \\, \\sqrt{13} \\sqrt{3} {\\left(13 \\, {\\left(r - r_{m}\\right)}^{\\frac{4}{13}} r^{\\frac{22}{13}} - 13 \\, r^{2} + 4 \\, r r_{m} + 9 \\, r_{m}^{2}\\right)} a \\sqrt{r_{p}}}{99 \\, {\\left(r - r_{m}\\right)}^{\\frac{14}{13}} r^{\\frac{38}{13}} r_{m}^{\\frac{3}{2}}} \\frac{\\partial}{\\partial {\\phi} }\\otimes \\frac{\\partial}{\\partial r } + \\frac{4 \\, \\sqrt{13} \\sqrt{3} a \\sqrt{r_{m}} \\sqrt{r_{p}} \\cos\\left({\\theta}\\right)}{13 \\, {\\left(r - r_{m}\\right)}^{\\frac{14}{13}} r^{\\frac{51}{13}} \\sin\\left({\\theta}\\right)} \\frac{\\partial}{\\partial {\\phi} }\\otimes \\frac{\\partial}{\\partial {\\theta} }\\)</html>"
      ],
      "text/latex": [
       "$\\displaystyle -\\frac{2 \\, \\sqrt{13} \\sqrt{3} \\sqrt{r_{m}} \\sqrt{r_{p}}}{13 \\, {\\left(r - r_{m}\\right)}^{\\frac{10}{13}} r^{\\frac{16}{13}}} \\frac{\\partial}{\\partial t }\\otimes \\frac{\\partial}{\\partial r } + \\frac{2 \\, \\sqrt{13} \\sqrt{3} \\sqrt{r_{m}} \\sqrt{r_{p}}}{13 \\, {\\left(r - r_{m}\\right)}^{\\frac{10}{13}} r^{\\frac{16}{13}}} \\frac{\\partial}{\\partial r }\\otimes \\frac{\\partial}{\\partial t } + \\frac{2 \\, \\sqrt{13} \\sqrt{3} {\\left(13 \\, {\\left(r - r_{m}\\right)}^{\\frac{4}{13}} r^{\\frac{22}{13}} - 13 \\, r^{2} + 4 \\, r r_{m} + 9 \\, r_{m}^{2}\\right)} a \\sqrt{r_{p}}}{99 \\, {\\left(r - r_{m}\\right)}^{\\frac{14}{13}} r^{\\frac{38}{13}} r_{m}^{\\frac{3}{2}}} \\frac{\\partial}{\\partial r }\\otimes \\frac{\\partial}{\\partial {\\phi} } -\\frac{4 \\, \\sqrt{13} \\sqrt{3} a \\sqrt{r_{m}} \\sqrt{r_{p}} \\cos\\left({\\theta}\\right)}{13 \\, {\\left(r - r_{m}\\right)}^{\\frac{14}{13}} r^{\\frac{51}{13}} \\sin\\left({\\theta}\\right)} \\frac{\\partial}{\\partial {\\theta} }\\otimes \\frac{\\partial}{\\partial {\\phi} } -\\frac{2 \\, \\sqrt{13} \\sqrt{3} {\\left(13 \\, {\\left(r - r_{m}\\right)}^{\\frac{4}{13}} r^{\\frac{22}{13}} - 13 \\, r^{2} + 4 \\, r r_{m} + 9 \\, r_{m}^{2}\\right)} a \\sqrt{r_{p}}}{99 \\, {\\left(r - r_{m}\\right)}^{\\frac{14}{13}} r^{\\frac{38}{13}} r_{m}^{\\frac{3}{2}}} \\frac{\\partial}{\\partial {\\phi} }\\otimes \\frac{\\partial}{\\partial r } + \\frac{4 \\, \\sqrt{13} \\sqrt{3} a \\sqrt{r_{m}} \\sqrt{r_{p}} \\cos\\left({\\theta}\\right)}{13 \\, {\\left(r - r_{m}\\right)}^{\\frac{14}{13}} r^{\\frac{51}{13}} \\sin\\left({\\theta}\\right)} \\frac{\\partial}{\\partial {\\phi} }\\otimes \\frac{\\partial}{\\partial {\\theta} }$"
      ],
      "text/plain": [
       "-2/13*sqrt(13)*sqrt(3)*sqrt(r_m)*sqrt(r_p)/((r - r_m)^(10/13)*r^(16/13)) ∂/∂t⊗∂/∂r + 2/13*sqrt(13)*sqrt(3)*sqrt(r_m)*sqrt(r_p)/((r - r_m)^(10/13)*r^(16/13)) ∂/∂r⊗∂/∂t + 2/99*sqrt(13)*sqrt(3)*(13*(r - r_m)^(4/13)*r^(22/13) - 13*r^2 + 4*r*r_m + 9*r_m^2)*a*sqrt(r_p)/((r - r_m)^(14/13)*r^(38/13)*r_m^(3/2)) ∂/∂r⊗∂/∂ph - 4/13*sqrt(13)*sqrt(3)*a*sqrt(r_m)*sqrt(r_p)*cos(th)/((r - r_m)^(14/13)*r^(51/13)*sin(th)) ∂/∂th⊗∂/∂ph - 2/99*sqrt(13)*sqrt(3)*(13*(r - r_m)^(4/13)*r^(22/13) - 13*r^2 + 4*r*r_m + 9*r_m^2)*a*sqrt(r_p)/((r - r_m)^(14/13)*r^(38/13)*r_m^(3/2)) ∂/∂ph⊗∂/∂r + 4/13*sqrt(13)*sqrt(3)*a*sqrt(r_m)*sqrt(r_p)*cos(th)/((r - r_m)^(14/13)*r^(51/13)*sin(th)) ∂/∂ph⊗∂/∂th"
      ]
     },
     "execution_count": 35,
     "metadata": {},
     "output_type": "execute_result"
    }
   ],
   "source": [
    "slow_rot(Fuu)\n",
    "q = Fuu*Phi_sc\n",
    "slow_rot(q).display()"
   ]
  },
  {
   "cell_type": "code",
   "execution_count": 32,
   "id": "556586ca",
   "metadata": {},
   "outputs": [],
   "source": [
    "eq = nab(q)['_i^ij']"
   ]
  },
  {
   "cell_type": "code",
   "execution_count": 33,
   "id": "df06123a",
   "metadata": {},
   "outputs": [
    {
     "data": {
      "text/html": [
       "<html>\\(\\displaystyle \\triangledown\\left(\\sqrt{\\phi}F^{\\mu\\nu}\\right)_{el} =  \\left[0, 0, 0, -\\frac{4 \\, \\sqrt{13} \\sqrt{3} {\\left(\\cos\\left({\\theta}\\right)^{2} + \\sin\\left({\\theta}\\right)^{2} - 1\\right)} a \\sqrt{r_{m}} \\sqrt{r_{p}}}{13 \\, {\\left(r - r_{m}\\right)}^{\\frac{14}{13}} r^{\\frac{51}{13}} \\sin\\left({\\theta}\\right)^{2}}\\right] = [0,0,0,0]\\)</html>"
      ],
      "text/latex": [
       "$\\displaystyle \\triangledown\\left(\\sqrt{\\phi}F^{\\mu\\nu}\\right)_{el} =  \\left[0, 0, 0, -\\frac{4 \\, \\sqrt{13} \\sqrt{3} {\\left(\\cos\\left({\\theta}\\right)^{2} + \\sin\\left({\\theta}\\right)^{2} - 1\\right)} a \\sqrt{r_{m}} \\sqrt{r_{p}}}{13 \\, {\\left(r - r_{m}\\right)}^{\\frac{14}{13}} r^{\\frac{51}{13}} \\sin\\left({\\theta}\\right)^{2}}\\right] = [0,0,0,0]$"
      ],
      "text/plain": [
       "\\triangledown\\left(\\sqrt{\\phi}F^{\\mu\\nu}\\right)_{el} =  [0,\n",
       " 0,\n",
       " 0,\n",
       " -4/13*sqrt(13)*sqrt(3)*(cos(th)^2 + sin(th)^2 - 1)*a*sqrt(r_m)*sqrt(r_p)/((r - r_m)^(14/13)*r^(51/13)*sin(th)^2)] = [0,0,0,0]"
      ]
     },
     "metadata": {},
     "output_type": "display_data"
    },
    {
     "data": {
      "text/html": [
       "<html>\\(\\displaystyle \\mathrm{True}\\)</html>"
      ],
      "text/latex": [
       "$\\displaystyle \\mathrm{True}$"
      ],
      "text/plain": [
       "True"
      ]
     },
     "execution_count": 33,
     "metadata": {},
     "output_type": "execute_result"
    }
   ],
   "source": [
    "latex_str = r'\\triangledown\\left(\\sqrt{\\phi}F^{\\mu\\nu}\\right)_{el} = ' \n",
    "show(LatexExpr(latex_str), slow_rot(eq)[:], LatexExpr(r'= [0,0,0,0]'))\n",
    "eq == 0"
   ]
  },
  {
   "cell_type": "markdown",
   "id": "ee0abb41",
   "metadata": {},
   "source": [
    "## IV.3.  Verification of the $\\vartheta = -\\frac{R}{L_{m}}$ equation"
   ]
  },
  {
   "cell_type": "code",
   "execution_count": 34,
   "id": "09f917c9",
   "metadata": {},
   "outputs": [
    {
     "data": {
      "text/html": [
       "<html>\\(\\displaystyle \\mathrm{True}\\)</html>"
      ],
      "text/latex": [
       "$\\displaystyle \\mathrm{True}$"
      ],
      "text/plain": [
       "True"
      ]
     },
     "execution_count": 34,
     "metadata": {},
     "output_type": "execute_result"
    }
   ],
   "source": [
    "Phi_sc + slow_rot(Lm / ER_rsc) == 0"
   ]
  },
  {
   "cell_type": "markdown",
   "id": "e0ca3a93",
   "metadata": {},
   "source": [
    "# In conclusion the field equations $G_{\\mu\\nu} = \\tilde{k} \\frac{T_{\\alpha\\beta}}{\\sqrt{\\phi}}+\\frac{1}{\\phi}\\left[\\nabla_{\\mu}\\nabla_{\\nu} - g_{\\mu\\nu}\\square\\right]\\phi$ and  $\\triangledown\\left(\\sqrt{\\phi}T_{\\mu\\nu}\\right)$ are perfectly verified at the first order.\n",
    "\n",
    "# So the electrically charged solutions are solutions in ER as well for a slowly rotating black hole."
   ]
  }
 ],
 "metadata": {
  "kernelspec": {
   "display_name": "SageMath 10.1",
   "language": "sage",
   "name": "sagemath"
  },
  "language_info": {
   "codemirror_mode": {
    "name": "ipython",
    "version": 3
   },
   "file_extension": ".py",
   "mimetype": "text/x-python",
   "name": "python",
   "nbconvert_exporter": "python",
   "pygments_lexer": "ipython3",
   "version": "3.10.12"
  }
 },
 "nbformat": 4,
 "nbformat_minor": 5
}
