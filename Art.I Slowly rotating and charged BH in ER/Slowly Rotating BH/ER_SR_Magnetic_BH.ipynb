{
 "cells": [
  {
   "cell_type": "markdown",
   "id": "be74b5e0",
   "metadata": {},
   "source": [
    "# SLOWLY ROTATING CASE IN ENTANGLED RELATIVITY FOR MAGNETICALLY CHARGED BLACK HOLES"
   ]
  },
  {
   "cell_type": "markdown",
   "id": "da549019",
   "metadata": {},
   "source": [
    "For the details of the field equations in the theory of entangled relativity, we invite \n",
    "the reader to refer to the notebook ER_SR_Electric_BH describing the case of an electrically charged black hole in slow rotation. For the work of J. H. Horne and T. Horowitz (1992) - Physical Review D which provides solutions for arbitrary coupling of the dilaton with the Maxwell field, see the notebook SLOWLY ROTATING DILATON BLACK HOLES. \n",
    "\n",
    "We can deduce the magnetically charged solutions from the electric ones by making the following changes (see e.g. the article C.F.E. Holzhey & F. Wilczek (1992)- Nuclear Physics B):\n",
    "\n",
    "$\\Psi\\rightarrow\\Psi'=\\frac{1}{\\Psi}=\\left[e^{2\\alpha\\phi}\\right]_{|_{\\alpha=(2\\sqrt{3})^{-1}}}=\\left[\\left(1-\\frac{r_{-}}{r}\\right)^{\\frac{-2\\alpha^{2}}{1+\\alpha^{2}}}\\right]_{|_{\\alpha=(2\\sqrt{3})^{-1}}}=\\left(1-\\frac{r_{-}}{r}\\right)^{\\frac{2}{13}}$\n",
    "\n",
    "and\n",
    "\n",
    "$F_{\\lambda\\rho}^{el}\\rightarrow F^{mag}_{\\mu\\nu}=e^{-2\\alpha\\phi}\\frac{1}{2}\\epsilon^{\\lambda\\rho}_{\\mu\\nu}F_{\\lambda\\rho}^{el}$ where $F_{\\lambda\\rho}^{el}$ is the electrically charged solution\n",
    "\n",
    "The complexity of some calculations in this notebook prompted us to perform intermediate first order Taylor expansions to maintain tractability of the different operations using the Sagemath language. This does not affect the validity of our results since they are part of a first-order analysis in 'a'.\n",
    "\n",
    "Additionally, it was necessary for us to take a very general approach here and to start from the Maxwell-Dilaton solution before applying an inverse conformal transformation to obtain the solution in ER. This allows us to replace the analytical expressions at the last moment and avoid Sage getting lost in the resolution."
   ]
  },
  {
   "cell_type": "code",
   "execution_count": 1,
   "id": "0877badb",
   "metadata": {},
   "outputs": [
    {
     "data": {
      "text/plain": [
       "'SageMath version 10.1, Release Date: 2023-08-20'"
      ]
     },
     "execution_count": 1,
     "metadata": {},
     "output_type": "execute_result"
    }
   ],
   "source": [
    "version()"
   ]
  },
  {
   "cell_type": "code",
   "execution_count": 2,
   "id": "dbb3361b",
   "metadata": {},
   "outputs": [],
   "source": [
    "%display latex"
   ]
  },
  {
   "cell_type": "markdown",
   "id": "25212144",
   "metadata": {},
   "source": [
    "'SageMath version used is 10.1, Release Date: 2023-08-20'"
   ]
  },
  {
   "cell_type": "code",
   "execution_count": 3,
   "id": "9adff967",
   "metadata": {},
   "outputs": [],
   "source": [
    "from sage.manifolds.operators import dalembertian\n",
    "from sage.manifolds.operators import grad"
   ]
  },
  {
   "cell_type": "markdown",
   "id": "d8e87bf1",
   "metadata": {},
   "source": [
    "Let's write a function to replace all the different expressions and perform the taylor expansions "
   ]
  },
  {
   "cell_type": "code",
   "execution_count": 4,
   "id": "cdd42338",
   "metadata": {},
   "outputs": [],
   "source": [
    "def slow_rot(arg):\n",
    "    subs_funcs = [(Z, E), (U, A), (V, B), (X, C), (Y, D), (O, Omega)]\n",
    "    final_subs = {Q: H, alpha:1/(2*(3)**(1/2))}\n",
    "    \n",
    "    if hasattr(arg, 'expr'):\n",
    "        arg = arg.expr()\n",
    "        \n",
    "    if hasattr(arg, 'apply_map')*hasattr(arg, 'display'):\n",
    "        arg.apply_map(lambda f: f.taylor(a, 0, 1))\n",
    "        for i, (old_func, new_func) in enumerate(subs_funcs):\n",
    "            arg.apply_map(lambda f: (f.substitute_function(old_func, new_func).taylor(a, 0, 1) if i == 0 \\\n",
    "                                           else f.substitute_function(old_func, new_func)))                        \n",
    "        arg.apply_map(lambda f: f.subs(final_subs).factor())\n",
    "    else:\n",
    "        arg = arg.taylor(a, 0, 1)\n",
    "        for i, (old_func, new_func) in enumerate(subs_funcs):\n",
    "            arg = (arg.substitute_function(old_func, new_func).taylor(a, 0, 1) if i == 0 \\\n",
    "                                           else arg.substitute_function(old_func, new_func)) \n",
    "        arg = arg.subs(final_subs).factor()()\n",
    "    \n",
    "    return arg"
   ]
  },
  {
   "cell_type": "markdown",
   "id": "0fa005a6",
   "metadata": {},
   "source": [
    "# I. Definition of the metric in ER"
   ]
  },
  {
   "cell_type": "code",
   "execution_count": 5,
   "id": "b674c718",
   "metadata": {},
   "outputs": [
    {
     "name": "stdout",
     "output_type": "stream",
     "text": [
      "4-dimensional Lorentzian manifold M\n"
     ]
    }
   ],
   "source": [
    "M = Manifold(4, 'M', structure='Lorentzian')\n",
    "print(M)"
   ]
  },
  {
   "cell_type": "code",
   "execution_count": 6,
   "id": "7cf08b04",
   "metadata": {},
   "outputs": [
    {
     "data": {
      "text/html": [
       "<html>\\(\\displaystyle \\left(M,(t, r, {\\theta}, {\\phi})\\right)\\)</html>"
      ],
      "text/latex": [
       "$\\displaystyle \\left(M,(t, r, {\\theta}, {\\phi})\\right)$"
      ],
      "text/plain": [
       "Chart (M, (t, r, th, ph))"
      ]
     },
     "execution_count": 6,
     "metadata": {},
     "output_type": "execute_result"
    }
   ],
   "source": [
    "XY.<t,r,th,ph> = M.chart(r't r:(0,+oo) th:(0,pi):\\theta ph:(0,2*pi):\\phi')\n",
    "XY"
   ]
  },
  {
   "cell_type": "code",
   "execution_count": 7,
   "id": "85ca9445",
   "metadata": {},
   "outputs": [],
   "source": [
    "g = M.metric()\n",
    "r_m, r_p, alpha, a, Q = var('r_m r_p alpha a Q')"
   ]
  },
  {
   "cell_type": "code",
   "execution_count": 8,
   "id": "0ea5029f",
   "metadata": {},
   "outputs": [],
   "source": [
    "U = function('U')\n",
    "V = function('V')\n",
    "X = function('X')\n",
    "Y = function('Y')\n",
    "Z = function('Z')\n",
    "O = function('O')\n",
    "g[0,0] = U(r)\n",
    "g[0,3] = Z(r,th) \n",
    "g[1,1] = V(r)\n",
    "g[2,2] = X(r)\n",
    "g[3,3] = Y(r,th)\n",
    "g[3,0] = Z(r,th) "
   ]
  },
  {
   "cell_type": "code",
   "execution_count": 9,
   "id": "f52afc49",
   "metadata": {},
   "outputs": [],
   "source": [
    "Psi(r) = (1-r_p/r)\n",
    "Phi(r) = (1-r_m/r)\n",
    "A(r)=-Psi(r)*Phi(r)**((1-alpha**2)/(1+alpha**2))\n",
    "B(r)=-A(r)**(-1)\n",
    "C(r)=r**2*Phi(r)**(2*alpha**2/(1+alpha**2))\n",
    "D(r,th)=sin(th)**2*C(r)\n",
    "f(r)=(r**2*(1+alpha**2)**2)*Phi(r)**(2*alpha**2/(1+alpha**2))/(((1-alpha**2)*(1-3*alpha**2)*r_m**2))-Phi(r)**((1-alpha**2)/(1+alpha**2))*(1+(1+alpha**2)**2*r**2/((1-alpha**2)*(1-3*alpha**2)*r_m**2)+(1+alpha**2)*r/((1-alpha**2)*r_m)-r_p/r)\n",
    "E(r,th)=-a*sin(th)**2*f(r)\n",
    "H=(r_m*r_p/(1+alpha**2))**(1/2)"
   ]
  },
  {
   "cell_type": "markdown",
   "id": "abf38f53",
   "metadata": {},
   "source": [
    "## I.1. The scalar field"
   ]
  },
  {
   "cell_type": "code",
   "execution_count": 10,
   "id": "10c88c54",
   "metadata": {},
   "outputs": [
    {
     "data": {
      "text/html": [
       "<html>\\(\\displaystyle \\begin{array}{llcl} Phi:& M & \\longrightarrow & \\mathbb{R} \\\\ & \\left(t, r, {\\theta}, {\\phi}\\right) & \\longmapsto & {\\left(-\\frac{r_{m}}{r} + 1\\right)}^{\\frac{2 \\, \\alpha^{2}}{\\alpha^{2} + 1}} \\end{array}\\)</html>"
      ],
      "text/latex": [
       "$\\displaystyle \\begin{array}{llcl} Phi:& M & \\longrightarrow & \\mathbb{R} \\\\ & \\left(t, r, {\\theta}, {\\phi}\\right) & \\longmapsto & {\\left(-\\frac{r_{m}}{r} + 1\\right)}^{\\frac{2 \\, \\alpha^{2}}{\\alpha^{2} + 1}} \\end{array}$"
      ],
      "text/plain": [
       "Phi: M → ℝ\n",
       "   (t, r, th, ph) ↦ (-r_m/r + 1)^(2*alpha^2/(alpha^2 + 1))"
      ]
     },
     "execution_count": 10,
     "metadata": {},
     "output_type": "execute_result"
    }
   ],
   "source": [
    "Phi_sc = M.scalar_field((1-r_m/r)**(2*alpha**2/(1+alpha**2)), name='Phi')\n",
    "Phi_sc.display()"
   ]
  },
  {
   "cell_type": "markdown",
   "id": "333e8a38",
   "metadata": {},
   "source": [
    "## I.2. Conformal transformation"
   ]
  },
  {
   "cell_type": "code",
   "execution_count": 11,
   "id": "bed92928",
   "metadata": {},
   "outputs": [
    {
     "data": {
      "text/html": [
       "<html>\\(\\displaystyle g = O\\left(r\\right)^{2} U\\left(r\\right) \\mathrm{d} t\\otimes \\mathrm{d} t + O\\left(r\\right)^{2} Z\\left(r, {\\theta}\\right) \\mathrm{d} t\\otimes \\mathrm{d} {\\phi} + O\\left(r\\right)^{2} V\\left(r\\right) \\mathrm{d} r\\otimes \\mathrm{d} r + O\\left(r\\right)^{2} X\\left(r\\right) \\mathrm{d} {\\theta}\\otimes \\mathrm{d} {\\theta} + O\\left(r\\right)^{2} Z\\left(r, {\\theta}\\right) \\mathrm{d} {\\phi}\\otimes \\mathrm{d} t + O\\left(r\\right)^{2} Y\\left(r, {\\theta}\\right) \\mathrm{d} {\\phi}\\otimes \\mathrm{d} {\\phi}\\)</html>"
      ],
      "text/latex": [
       "$\\displaystyle g = O\\left(r\\right)^{2} U\\left(r\\right) \\mathrm{d} t\\otimes \\mathrm{d} t + O\\left(r\\right)^{2} Z\\left(r, {\\theta}\\right) \\mathrm{d} t\\otimes \\mathrm{d} {\\phi} + O\\left(r\\right)^{2} V\\left(r\\right) \\mathrm{d} r\\otimes \\mathrm{d} r + O\\left(r\\right)^{2} X\\left(r\\right) \\mathrm{d} {\\theta}\\otimes \\mathrm{d} {\\theta} + O\\left(r\\right)^{2} Z\\left(r, {\\theta}\\right) \\mathrm{d} {\\phi}\\otimes \\mathrm{d} t + O\\left(r\\right)^{2} Y\\left(r, {\\theta}\\right) \\mathrm{d} {\\phi}\\otimes \\mathrm{d} {\\phi}$"
      ],
      "text/plain": [
       "g = O(r)^2*U(r) dt⊗dt + O(r)^2*Z(r, th) dt⊗dph + O(r)^2*V(r) dr⊗dr + O(r)^2*X(r) dth⊗dth + O(r)^2*Z(r, th) dph⊗dt + O(r)^2*Y(r, th) dph⊗dph"
      ]
     },
     "execution_count": 11,
     "metadata": {},
     "output_type": "execute_result"
    }
   ],
   "source": [
    "g.apply_map(lambda f: f*O(r)**2) ; g.display()"
   ]
  },
  {
   "cell_type": "code",
   "execution_count": 12,
   "id": "d62a5221",
   "metadata": {},
   "outputs": [
    {
     "data": {
      "text/html": [
       "<html>\\(\\displaystyle \\frac{1}{{\\left(-\\frac{r_{m}}{r} + 1\\right)}^{\\frac{2}{13}}}\\)</html>"
      ],
      "text/latex": [
       "$\\displaystyle \\frac{1}{{\\left(-\\frac{r_{m}}{r} + 1\\right)}^{\\frac{2}{13}}}$"
      ],
      "text/plain": [
       "(-r_m/r + 1)^(-2/13)"
      ]
     },
     "execution_count": 12,
     "metadata": {},
     "output_type": "execute_result"
    }
   ],
   "source": [
    "Omega(r)=1/(Phi_sc.expr())  ;  Omega(r).subs(alpha=1/(2*(3)**(1/2)))"
   ]
  },
  {
   "cell_type": "code",
   "execution_count": 13,
   "id": "ccba56ad",
   "metadata": {},
   "outputs": [
    {
     "data": {
      "text/html": [
       "<html>\\(\\displaystyle h = O\\left(r\\right)^{2} U\\left(r\\right) \\mathrm{d} t\\otimes \\mathrm{d} t + O\\left(r\\right)^{2} Z\\left(r, {\\theta}\\right) \\mathrm{d} t\\otimes \\mathrm{d} {\\phi} + O\\left(r\\right)^{2} V\\left(r\\right) \\mathrm{d} r\\otimes \\mathrm{d} r + O\\left(r\\right)^{2} X\\left(r\\right) \\mathrm{d} {\\theta}\\otimes \\mathrm{d} {\\theta} + O\\left(r\\right)^{2} Z\\left(r, {\\theta}\\right) \\mathrm{d} {\\phi}\\otimes \\mathrm{d} t + O\\left(r\\right)^{2} Y\\left(r, {\\theta}\\right) \\mathrm{d} {\\phi}\\otimes \\mathrm{d} {\\phi}\\)</html>"
      ],
      "text/latex": [
       "$\\displaystyle h = O\\left(r\\right)^{2} U\\left(r\\right) \\mathrm{d} t\\otimes \\mathrm{d} t + O\\left(r\\right)^{2} Z\\left(r, {\\theta}\\right) \\mathrm{d} t\\otimes \\mathrm{d} {\\phi} + O\\left(r\\right)^{2} V\\left(r\\right) \\mathrm{d} r\\otimes \\mathrm{d} r + O\\left(r\\right)^{2} X\\left(r\\right) \\mathrm{d} {\\theta}\\otimes \\mathrm{d} {\\theta} + O\\left(r\\right)^{2} Z\\left(r, {\\theta}\\right) \\mathrm{d} {\\phi}\\otimes \\mathrm{d} t + O\\left(r\\right)^{2} Y\\left(r, {\\theta}\\right) \\mathrm{d} {\\phi}\\otimes \\mathrm{d} {\\phi}$"
      ],
      "text/plain": [
       "h = O(r)^2*U(r) dt⊗dt + O(r)^2*Z(r, th) dt⊗dph + O(r)^2*V(r) dr⊗dr + O(r)^2*X(r) dth⊗dth + O(r)^2*Z(r, th) dph⊗dt + O(r)^2*Y(r, th) dph⊗dph"
      ]
     },
     "execution_count": 13,
     "metadata": {},
     "output_type": "execute_result"
    }
   ],
   "source": [
    "h = g.copy()\n",
    "h.set_name('h')\n",
    "h.display()"
   ]
  },
  {
   "cell_type": "markdown",
   "id": "b72957ac",
   "metadata": {},
   "source": [
    "We substitute the different functions U,V X,Y,Z,Q and Omega in the expression "
   ]
  },
  {
   "cell_type": "code",
   "execution_count": 14,
   "id": "cec2f2d1",
   "metadata": {},
   "outputs": [
    {
     "data": {
      "text/html": [
       "<html>\\(\\displaystyle h = -\\frac{{\\left(r - r_{p}\\right)} \\left(\\frac{r - r_{m}}{r}\\right)^{\\frac{7}{13}}}{r} \\mathrm{d} t\\otimes \\mathrm{d} t -\\frac{{\\left(169 \\, r^{4} \\left(\\frac{r - r_{m}}{r}\\right)^{\\frac{4}{13}} - 169 \\, r^{4} + 52 \\, r^{3} r_{m} + 18 \\, r^{2} r_{m}^{2} + 99 \\, r r_{m}^{3} + 99 \\, r r_{m}^{2} r_{p} - 99 \\, r_{m}^{3} r_{p}\\right)} a \\left(\\frac{r - r_{m}}{r}\\right)^{\\frac{7}{13}} \\sin\\left({\\theta}\\right)^{2}}{99 \\, {\\left(r - r_{m}\\right)} r r_{m}^{2}} \\mathrm{d} t\\otimes \\mathrm{d} {\\phi} + \\frac{r}{{\\left(r - r_{p}\\right)} \\left(\\frac{r - r_{m}}{r}\\right)^{\\frac{15}{13}}} \\mathrm{d} r\\otimes \\mathrm{d} r + \\frac{r^{2}}{\\left(\\frac{r - r_{m}}{r}\\right)^{\\frac{2}{13}}} \\mathrm{d} {\\theta}\\otimes \\mathrm{d} {\\theta} -\\frac{{\\left(169 \\, r^{4} \\left(\\frac{r - r_{m}}{r}\\right)^{\\frac{4}{13}} - 169 \\, r^{4} + 52 \\, r^{3} r_{m} + 18 \\, r^{2} r_{m}^{2} + 99 \\, r r_{m}^{3} + 99 \\, r r_{m}^{2} r_{p} - 99 \\, r_{m}^{3} r_{p}\\right)} a \\left(\\frac{r - r_{m}}{r}\\right)^{\\frac{7}{13}} \\sin\\left({\\theta}\\right)^{2}}{99 \\, {\\left(r - r_{m}\\right)} r r_{m}^{2}} \\mathrm{d} {\\phi}\\otimes \\mathrm{d} t + \\frac{r^{2} \\sin\\left({\\theta}\\right)^{2}}{\\left(\\frac{r - r_{m}}{r}\\right)^{\\frac{2}{13}}} \\mathrm{d} {\\phi}\\otimes \\mathrm{d} {\\phi}\\)</html>"
      ],
      "text/latex": [
       "$\\displaystyle h = -\\frac{{\\left(r - r_{p}\\right)} \\left(\\frac{r - r_{m}}{r}\\right)^{\\frac{7}{13}}}{r} \\mathrm{d} t\\otimes \\mathrm{d} t -\\frac{{\\left(169 \\, r^{4} \\left(\\frac{r - r_{m}}{r}\\right)^{\\frac{4}{13}} - 169 \\, r^{4} + 52 \\, r^{3} r_{m} + 18 \\, r^{2} r_{m}^{2} + 99 \\, r r_{m}^{3} + 99 \\, r r_{m}^{2} r_{p} - 99 \\, r_{m}^{3} r_{p}\\right)} a \\left(\\frac{r - r_{m}}{r}\\right)^{\\frac{7}{13}} \\sin\\left({\\theta}\\right)^{2}}{99 \\, {\\left(r - r_{m}\\right)} r r_{m}^{2}} \\mathrm{d} t\\otimes \\mathrm{d} {\\phi} + \\frac{r}{{\\left(r - r_{p}\\right)} \\left(\\frac{r - r_{m}}{r}\\right)^{\\frac{15}{13}}} \\mathrm{d} r\\otimes \\mathrm{d} r + \\frac{r^{2}}{\\left(\\frac{r - r_{m}}{r}\\right)^{\\frac{2}{13}}} \\mathrm{d} {\\theta}\\otimes \\mathrm{d} {\\theta} -\\frac{{\\left(169 \\, r^{4} \\left(\\frac{r - r_{m}}{r}\\right)^{\\frac{4}{13}} - 169 \\, r^{4} + 52 \\, r^{3} r_{m} + 18 \\, r^{2} r_{m}^{2} + 99 \\, r r_{m}^{3} + 99 \\, r r_{m}^{2} r_{p} - 99 \\, r_{m}^{3} r_{p}\\right)} a \\left(\\frac{r - r_{m}}{r}\\right)^{\\frac{7}{13}} \\sin\\left({\\theta}\\right)^{2}}{99 \\, {\\left(r - r_{m}\\right)} r r_{m}^{2}} \\mathrm{d} {\\phi}\\otimes \\mathrm{d} t + \\frac{r^{2} \\sin\\left({\\theta}\\right)^{2}}{\\left(\\frac{r - r_{m}}{r}\\right)^{\\frac{2}{13}}} \\mathrm{d} {\\phi}\\otimes \\mathrm{d} {\\phi}$"
      ],
      "text/plain": [
       "h = -(r - r_p)*((r - r_m)/r)^(7/13)/r dt⊗dt - 1/99*(169*r^4*((r - r_m)/r)^(4/13) - 169*r^4 + 52*r^3*r_m + 18*r^2*r_m^2 + 99*r*r_m^3 + 99*r*r_m^2*r_p - 99*r_m^3*r_p)*a*((r - r_m)/r)^(7/13)*sin(th)^2/((r - r_m)*r*r_m^2) dt⊗dph + r/((r - r_p)*((r - r_m)/r)^(15/13)) dr⊗dr + r^2/((r - r_m)/r)^(2/13) dth⊗dth - 1/99*(169*r^4*((r - r_m)/r)^(4/13) - 169*r^4 + 52*r^3*r_m + 18*r^2*r_m^2 + 99*r*r_m^3 + 99*r*r_m^2*r_p - 99*r_m^3*r_p)*a*((r - r_m)/r)^(7/13)*sin(th)^2/((r - r_m)*r*r_m^2) dph⊗dt + r^2*sin(th)^2/((r - r_m)/r)^(2/13) dph⊗dph"
      ]
     },
     "execution_count": 14,
     "metadata": {},
     "output_type": "execute_result"
    }
   ],
   "source": [
    "slow_rot(h).display()"
   ]
  },
  {
   "cell_type": "code",
   "execution_count": 15,
   "id": "cc88e433",
   "metadata": {},
   "outputs": [
    {
     "data": {
      "text/html": [
       "<html>\\(\\displaystyle -\\frac{{\\left(169 \\, r^{4} \\left(\\frac{r - r_{m}}{r}\\right)^{\\frac{4}{13}} - 169 \\, r^{4} + 52 \\, r^{3} r_{m} + 18 \\, r^{2} r_{m}^{2} + 99 \\, r r_{m}^{3} + 99 \\, r r_{m}^{2} r_{p} - 99 \\, r_{m}^{3} r_{p}\\right)} a \\left(\\frac{r - r_{m}}{r}\\right)^{\\frac{7}{13}} \\sin\\left({\\theta}\\right)^{2}}{99 \\, {\\left(r - r_{m}\\right)} r r_{m}^{2}}\\)</html>"
      ],
      "text/latex": [
       "$\\displaystyle -\\frac{{\\left(169 \\, r^{4} \\left(\\frac{r - r_{m}}{r}\\right)^{\\frac{4}{13}} - 169 \\, r^{4} + 52 \\, r^{3} r_{m} + 18 \\, r^{2} r_{m}^{2} + 99 \\, r r_{m}^{3} + 99 \\, r r_{m}^{2} r_{p} - 99 \\, r_{m}^{3} r_{p}\\right)} a \\left(\\frac{r - r_{m}}{r}\\right)^{\\frac{7}{13}} \\sin\\left({\\theta}\\right)^{2}}{99 \\, {\\left(r - r_{m}\\right)} r r_{m}^{2}}$"
      ],
      "text/plain": [
       "-1/99*(169*r^4*((r - r_m)/r)^(4/13) - 169*r^4 + 52*r^3*r_m + 18*r^2*r_m^2 + 99*r*r_m^3 + 99*r*r_m^2*r_p - 99*r_m^3*r_p)*a*((r - r_m)/r)^(7/13)*sin(th)^2/((r - r_m)*r*r_m^2)"
      ]
     },
     "execution_count": 15,
     "metadata": {},
     "output_type": "execute_result"
    }
   ],
   "source": [
    "slow_rot((h[0,3].expr())).simplify()"
   ]
  },
  {
   "cell_type": "markdown",
   "id": "8b22c058",
   "metadata": {},
   "source": [
    "# II. The vector potential"
   ]
  },
  {
   "cell_type": "markdown",
   "id": "047371f4",
   "metadata": {},
   "source": [
    "Let's define the covariant derivative"
   ]
  },
  {
   "cell_type": "code",
   "execution_count": 16,
   "id": "2c502531",
   "metadata": {},
   "outputs": [],
   "source": [
    "nab = g.connection() "
   ]
  },
  {
   "cell_type": "markdown",
   "id": "e1df277d",
   "metadata": {},
   "source": [
    "and the potential vector field corresponding to a slowly rotating BH"
   ]
  },
  {
   "cell_type": "code",
   "execution_count": 17,
   "id": "b17edc74",
   "metadata": {},
   "outputs": [
    {
     "data": {
      "text/html": [
       "<html>\\(\\displaystyle A = \\frac{13 \\, {\\left(13 \\, r \\left(\\frac{r - r_{m}}{r}\\right)^{\\frac{9}{13}} + 9 \\, r_{m} \\left(\\frac{r - r_{m}}{r}\\right)^{\\frac{9}{13}} - 13 \\, r\\right)} Q a \\cos\\left({\\theta}\\right)}{99 \\, r r_{m}^{2}} \\mathrm{d} t + Q \\cos\\left({\\theta}\\right) \\mathrm{d} {\\phi}\\)</html>"
      ],
      "text/latex": [
       "$\\displaystyle A = \\frac{13 \\, {\\left(13 \\, r \\left(\\frac{r - r_{m}}{r}\\right)^{\\frac{9}{13}} + 9 \\, r_{m} \\left(\\frac{r - r_{m}}{r}\\right)^{\\frac{9}{13}} - 13 \\, r\\right)} Q a \\cos\\left({\\theta}\\right)}{99 \\, r r_{m}^{2}} \\mathrm{d} t + Q \\cos\\left({\\theta}\\right) \\mathrm{d} {\\phi}$"
      ],
      "text/plain": [
       "A = 13/99*(13*r*((r - r_m)/r)^(9/13) + 9*r_m*((r - r_m)/r)^(9/13) - 13*r)*Q*a*cos(th)/(r*r_m^2) dt + Q*cos(th) dph"
      ]
     },
     "execution_count": 17,
     "metadata": {},
     "output_type": "execute_result"
    }
   ],
   "source": [
    "pot_vec = M.tensor_field(0,1,name='A')\n",
    "Q=var('Q')\n",
    "\n",
    "A_t = -a*Q*13*(13-(1-r_m/r)**(9/13)*(13+9*r_m/r))/(99*r_m**2)*sin(th)\n",
    "A_phi = -Q*sin(th)\n",
    "\n",
    "pot_vec[0]= -integrate(A_t,th).factor()\n",
    "pot_vec[1]=0\n",
    "pot_vec[2]=0\n",
    "pot_vec[3]=integrate(A_phi,th).factor()\n",
    "pot_vec.display()"
   ]
  },
  {
   "cell_type": "markdown",
   "id": "c74d5385",
   "metadata": {},
   "source": [
    "## II.1. Definition of the EM tensor"
   ]
  },
  {
   "cell_type": "markdown",
   "id": "ce9727a3",
   "metadata": {},
   "source": [
    "Let's now define the EM tensor:\n",
    "\n",
    "$F_{\\mu\\nu}=\\partial_{\\mu}A_{\\nu}-\\partial_{\\nu}A_{\\mu}$\n",
    "\n",
    "It can be obtained directly as the exterior derivative of the potential vector $A$ via the function `diff`\n",
    "(or the method `exterior_derivative`)"
   ]
  },
  {
   "cell_type": "code",
   "execution_count": 18,
   "id": "b710f302",
   "metadata": {},
   "outputs": [
    {
     "data": {
      "text/html": [
       "<html>\\(\\displaystyle F = -\\frac{2 \\, Q a \\cos\\left({\\theta}\\right)}{{\\left(r - r_{m}\\right)}^{\\frac{4}{13}} r^{\\frac{35}{13}}} \\mathrm{d} t\\wedge \\mathrm{d} r -\\frac{13 \\, {\\left(13 \\, Q a r^{\\frac{22}{13}} \\sin\\left({\\theta}\\right) - {\\left(13 \\, Q a r + 9 \\, Q a r_{m}\\right)} {\\left(r - r_{m}\\right)}^{\\frac{9}{13}} \\sin\\left({\\theta}\\right)\\right)}}{99 \\, r^{\\frac{22}{13}} r_{m}^{2}} \\mathrm{d} t\\wedge \\mathrm{d} {\\theta} -Q \\sin\\left({\\theta}\\right) \\mathrm{d} {\\theta}\\wedge \\mathrm{d} {\\phi}\\)</html>"
      ],
      "text/latex": [
       "$\\displaystyle F = -\\frac{2 \\, Q a \\cos\\left({\\theta}\\right)}{{\\left(r - r_{m}\\right)}^{\\frac{4}{13}} r^{\\frac{35}{13}}} \\mathrm{d} t\\wedge \\mathrm{d} r -\\frac{13 \\, {\\left(13 \\, Q a r^{\\frac{22}{13}} \\sin\\left({\\theta}\\right) - {\\left(13 \\, Q a r + 9 \\, Q a r_{m}\\right)} {\\left(r - r_{m}\\right)}^{\\frac{9}{13}} \\sin\\left({\\theta}\\right)\\right)}}{99 \\, r^{\\frac{22}{13}} r_{m}^{2}} \\mathrm{d} t\\wedge \\mathrm{d} {\\theta} -Q \\sin\\left({\\theta}\\right) \\mathrm{d} {\\theta}\\wedge \\mathrm{d} {\\phi}$"
      ],
      "text/plain": [
       "F = -2*Q*a*cos(th)/((r - r_m)^(4/13)*r^(35/13)) dt∧dr - 13/99*(13*Q*a*r^(22/13)*sin(th) - (13*Q*a*r + 9*Q*a*r_m)*(r - r_m)^(9/13)*sin(th))/(r^(22/13)*r_m^2) dt∧dth - Q*sin(th) dth∧dph"
      ]
     },
     "execution_count": 18,
     "metadata": {},
     "output_type": "execute_result"
    }
   ],
   "source": [
    "F = diff(pot_vec)\n",
    "F.set_name('F')\n",
    "Fuu = F.up(g)\n",
    "F.display()"
   ]
  },
  {
   "cell_type": "code",
   "execution_count": 19,
   "id": "50f610a5",
   "metadata": {},
   "outputs": [],
   "source": [
    "Fm = F\n",
    "Fm.apply_map(lambda f:f.substitute_function(Z,E).subs(alpha=1/(2*(3)**(1/2))).taylor(a,0,1))"
   ]
  },
  {
   "cell_type": "code",
   "execution_count": 20,
   "id": "a0962897",
   "metadata": {},
   "outputs": [
    {
     "data": {
      "text/html": [
       "<html>\\(\\displaystyle \\mathcal{F}^{m}_{\\mu\\nu} =  -\\frac{4 \\, \\sqrt{13} \\sqrt{3} a \\sqrt{r_{m}} \\sqrt{r_{p}} \\cos\\left({\\theta}\\right)}{13 \\, {\\left(r - r_{m}\\right)}^{\\frac{4}{13}} r^{\\frac{35}{13}}} \\mathrm{d} t\\wedge \\mathrm{d} r -\\frac{2 \\, \\sqrt{3} {\\left(13 \\, \\sqrt{13} a r^{\\frac{22}{13}} \\sqrt{r_{p}} \\sin\\left({\\theta}\\right) - {\\left(13 \\, \\sqrt{13} a r + 9 \\, \\sqrt{13} a r_{m}\\right)} {\\left(r - r_{m}\\right)}^{\\frac{9}{13}} \\sqrt{r_{p}} \\sin\\left({\\theta}\\right)\\right)}}{99 \\, r^{\\frac{22}{13}} r_{m}^{\\frac{3}{2}}} \\mathrm{d} t\\wedge \\mathrm{d} {\\theta} -\\frac{2}{13} \\, \\sqrt{13} \\sqrt{3} \\sqrt{r_{m}} \\sqrt{r_{p}} \\sin\\left({\\theta}\\right) \\mathrm{d} {\\theta}\\wedge \\mathrm{d} {\\phi}\\)</html>"
      ],
      "text/latex": [
       "$\\displaystyle \\mathcal{F}^{m}_{\\mu\\nu} =  -\\frac{4 \\, \\sqrt{13} \\sqrt{3} a \\sqrt{r_{m}} \\sqrt{r_{p}} \\cos\\left({\\theta}\\right)}{13 \\, {\\left(r - r_{m}\\right)}^{\\frac{4}{13}} r^{\\frac{35}{13}}} \\mathrm{d} t\\wedge \\mathrm{d} r -\\frac{2 \\, \\sqrt{3} {\\left(13 \\, \\sqrt{13} a r^{\\frac{22}{13}} \\sqrt{r_{p}} \\sin\\left({\\theta}\\right) - {\\left(13 \\, \\sqrt{13} a r + 9 \\, \\sqrt{13} a r_{m}\\right)} {\\left(r - r_{m}\\right)}^{\\frac{9}{13}} \\sqrt{r_{p}} \\sin\\left({\\theta}\\right)\\right)}}{99 \\, r^{\\frac{22}{13}} r_{m}^{\\frac{3}{2}}} \\mathrm{d} t\\wedge \\mathrm{d} {\\theta} -\\frac{2}{13} \\, \\sqrt{13} \\sqrt{3} \\sqrt{r_{m}} \\sqrt{r_{p}} \\sin\\left({\\theta}\\right) \\mathrm{d} {\\theta}\\wedge \\mathrm{d} {\\phi}$"
      ],
      "text/plain": [
       "\\mathcal{F}^{m}_{\\mu\\nu} =  -4/13*sqrt(13)*sqrt(3)*a*sqrt(r_m)*sqrt(r_p)*cos(th)/((r - r_m)^(4/13)*r^(35/13)) dt∧dr - 2/99*sqrt(3)*(13*sqrt(13)*a*r^(22/13)*sqrt(r_p)*sin(th) - (13*sqrt(13)*a*r + 9*sqrt(13)*a*r_m)*(r - r_m)^(9/13)*sqrt(r_p)*sin(th))/(r^(22/13)*r_m^(3/2)) dt∧dth - 2/13*sqrt(13)*sqrt(3)*sqrt(r_m)*sqrt(r_p)*sin(th) dth∧dph"
      ]
     },
     "metadata": {},
     "output_type": "display_data"
    }
   ],
   "source": [
    "Fm_c = Fm.copy()\n",
    "Fm_c.apply_map(lambda f:slow_rot(f).subs(alpha=1/(2*sqrt(3))).canonicalize_radical())\n",
    "show(LatexExpr(r'\\mathcal{F}^{m}_{\\mu\\nu} = '), Fm_c.display())"
   ]
  },
  {
   "cell_type": "code",
   "execution_count": 21,
   "id": "1cf976d5",
   "metadata": {},
   "outputs": [
    {
     "data": {
      "text/html": [
       "<html>\\(\\displaystyle \\mathcal{L}_{m} =  -\\frac{r_{m} r_{p} \\left(\\frac{r - r_{m}}{r}\\right)^{\\frac{4}{13}}}{{\\left(\\alpha^{2} + 1\\right)} r^{4}} + \\mathcal{O}(a^{2})\\)</html>"
      ],
      "text/latex": [
       "$\\displaystyle \\mathcal{L}_{m} =  -\\frac{r_{m} r_{p} \\left(\\frac{r - r_{m}}{r}\\right)^{\\frac{4}{13}}}{{\\left(\\alpha^{2} + 1\\right)} r^{4}} + \\mathcal{O}(a^{2})$"
      ],
      "text/plain": [
       "\\mathcal{L}_{m} =  -r_m*r_p*((r - r_m)/r)^(4/13)/((alpha^2 + 1)*r^4) + \\mathcal{O}(a^{2})"
      ]
     },
     "metadata": {},
     "output_type": "display_data"
    }
   ],
   "source": [
    "Lm = -Fm['_ij']*Fm.up(g)['^ij']/2\n",
    "Lm = slow_rot(Lm)\n",
    "show(LatexExpr(r'\\mathcal{L}_{m} = '), Lm, LatexExpr(r'+ \\mathcal{O}(a^{2})'))"
   ]
  },
  {
   "cell_type": "markdown",
   "id": "ac066249",
   "metadata": {},
   "source": [
    "# III. The motion equation"
   ]
  },
  {
   "cell_type": "markdown",
   "id": "414c99bc",
   "metadata": {},
   "source": [
    "## III.1 Left hand side of the motion equation (1) : the Einstein tensor"
   ]
  },
  {
   "cell_type": "code",
   "execution_count": 22,
   "id": "54c8c20b",
   "metadata": {},
   "outputs": [
    {
     "data": {
      "text/html": [
       "<html>\\(\\displaystyle g = O\\left(r\\right)^{2} U\\left(r\\right) \\mathrm{d} t\\otimes \\mathrm{d} t + O\\left(r\\right)^{2} Z\\left(r, {\\theta}\\right) \\mathrm{d} t\\otimes \\mathrm{d} {\\phi} + O\\left(r\\right)^{2} V\\left(r\\right) \\mathrm{d} r\\otimes \\mathrm{d} r + O\\left(r\\right)^{2} X\\left(r\\right) \\mathrm{d} {\\theta}\\otimes \\mathrm{d} {\\theta} + O\\left(r\\right)^{2} Z\\left(r, {\\theta}\\right) \\mathrm{d} {\\phi}\\otimes \\mathrm{d} t + O\\left(r\\right)^{2} Y\\left(r, {\\theta}\\right) \\mathrm{d} {\\phi}\\otimes \\mathrm{d} {\\phi}\\)</html>"
      ],
      "text/latex": [
       "$\\displaystyle g = O\\left(r\\right)^{2} U\\left(r\\right) \\mathrm{d} t\\otimes \\mathrm{d} t + O\\left(r\\right)^{2} Z\\left(r, {\\theta}\\right) \\mathrm{d} t\\otimes \\mathrm{d} {\\phi} + O\\left(r\\right)^{2} V\\left(r\\right) \\mathrm{d} r\\otimes \\mathrm{d} r + O\\left(r\\right)^{2} X\\left(r\\right) \\mathrm{d} {\\theta}\\otimes \\mathrm{d} {\\theta} + O\\left(r\\right)^{2} Z\\left(r, {\\theta}\\right) \\mathrm{d} {\\phi}\\otimes \\mathrm{d} t + O\\left(r\\right)^{2} Y\\left(r, {\\theta}\\right) \\mathrm{d} {\\phi}\\otimes \\mathrm{d} {\\phi}$"
      ],
      "text/plain": [
       "g = O(r)^2*U(r) dt⊗dt + O(r)^2*Z(r, th) dt⊗dph + O(r)^2*V(r) dr⊗dr + O(r)^2*X(r) dth⊗dth + O(r)^2*Z(r, th) dph⊗dt + O(r)^2*Y(r, th) dph⊗dph"
      ]
     },
     "execution_count": 22,
     "metadata": {},
     "output_type": "execute_result"
    }
   ],
   "source": [
    "g.display()"
   ]
  },
  {
   "cell_type": "code",
   "execution_count": 23,
   "id": "d7d4e961",
   "metadata": {},
   "outputs": [
    {
     "data": {
      "text/html": [
       "<html>\\(\\displaystyle \\mathrm{Ric}\\left(g\\right)\\)</html>"
      ],
      "text/latex": [
       "$\\displaystyle \\mathrm{Ric}\\left(g\\right)$"
      ],
      "text/plain": [
       "Field of symmetric bilinear forms Ric(g) on the 4-dimensional Lorentzian manifold M"
      ]
     },
     "execution_count": 23,
     "metadata": {},
     "output_type": "execute_result"
    }
   ],
   "source": [
    "ER_ricc = g.ricci()\n",
    "slow_rot(ER_ricc)"
   ]
  },
  {
   "cell_type": "code",
   "execution_count": 24,
   "id": "803b5bc5",
   "metadata": {},
   "outputs": [
    {
     "data": {
      "text/html": [
       "<html>\\(\\displaystyle \\mbox{Tensor field of type (2,0) on the 4-dimensional Lorentzian manifold M}\\)</html>"
      ],
      "text/latex": [
       "$\\displaystyle \\mbox{Tensor field of type (2,0) on the 4-dimensional Lorentzian manifold M}$"
      ],
      "text/plain": [
       "Tensor field of type (2,0) on the 4-dimensional Lorentzian manifold M"
      ]
     },
     "execution_count": 24,
     "metadata": {},
     "output_type": "execute_result"
    }
   ],
   "source": [
    "gu = g.up(g) \n",
    "slow_rot(gu)"
   ]
  },
  {
   "cell_type": "code",
   "execution_count": 25,
   "id": "d245f3aa",
   "metadata": {},
   "outputs": [
    {
     "data": {
      "text/html": [
       "<html>\\(\\displaystyle R =  \\frac{12 \\, {\\left(r - r_{m}\\right)}^{\\frac{2}{13}} r_{m} r_{p}}{13 \\, r^{\\frac{54}{13}}} + \\mathcal{O}(a^{2})\\)</html>"
      ],
      "text/latex": [
       "$\\displaystyle R =  \\frac{12 \\, {\\left(r - r_{m}\\right)}^{\\frac{2}{13}} r_{m} r_{p}}{13 \\, r^{\\frac{54}{13}}} + \\mathcal{O}(a^{2})$"
      ],
      "text/plain": [
       "R =  12/13*(r - r_m)^(2/13)*r_m*r_p/r^(54/13) + \\mathcal{O}(a^{2})"
      ]
     },
     "metadata": {},
     "output_type": "display_data"
    }
   ],
   "source": [
    "ER_rsc = gu['^ab']*ER_ricc['_ab']\n",
    "show(LatexExpr(r'R = '), slow_rot(ER_rsc), LatexExpr(r'+ \\mathcal{O}(a^{2})'))"
   ]
  },
  {
   "cell_type": "markdown",
   "id": "3ea920f6",
   "metadata": {},
   "source": [
    "We contruct the Einstein tensor"
   ]
  },
  {
   "cell_type": "code",
   "execution_count": 26,
   "id": "0ecc421a",
   "metadata": {},
   "outputs": [
    {
     "data": {
      "text/html": [
       "<html>\\(\\displaystyle G_{\\mu\\nu}\\)</html>"
      ],
      "text/latex": [
       "$\\displaystyle G_{\\mu\\nu}$"
      ],
      "text/plain": [
       "Field of symmetric bilinear forms G_{\\mu\\nu} on the 4-dimensional Lorentzian manifold M"
      ]
     },
     "execution_count": 26,
     "metadata": {},
     "output_type": "execute_result"
    }
   ],
   "source": [
    "G = ER_ricc - 1/2*g*ER_rsc\n",
    "G.set_name(r'G_{\\mu\\nu}')\n",
    "slow_rot(G)"
   ]
  },
  {
   "cell_type": "markdown",
   "id": "606e063d",
   "metadata": {},
   "source": [
    "## III.2. The right hand side of the motion equation (1)"
   ]
  },
  {
   "cell_type": "markdown",
   "id": "9c8450db",
   "metadata": {},
   "source": [
    "### III.2.1. The first component: with the stress-energy tensor $T_{\\mu\\nu}=2\\left(F_{\\rho\\mu}F^{\\rho}_{\\hspace{0.2cm}\\nu}-\\frac{1}{4}g_{\\mu\\nu}F^{2}\\right)$ "
   ]
  },
  {
   "cell_type": "code",
   "execution_count": 27,
   "id": "f5c732a0-ba56-4600-9a81-3db345cda658",
   "metadata": {},
   "outputs": [],
   "source": [
    "Fuu = Fm.up(g)\n",
    "F2 = Fm['_ab']*Fuu['^ab']\n",
    "F2 = F2.expr().substitute_function(Z,E).taylor(a,0,1)"
   ]
  },
  {
   "cell_type": "code",
   "execution_count": 28,
   "id": "4195a2fb",
   "metadata": {},
   "outputs": [
    {
     "data": {
      "text/html": [
       "<html>\\(\\displaystyle \\mbox{Tensor field of type (0,2) on the 4-dimensional Lorentzian manifold M}\\)</html>"
      ],
      "text/latex": [
       "$\\displaystyle \\mbox{Tensor field of type (0,2) on the 4-dimensional Lorentzian manifold M}$"
      ],
      "text/plain": [
       "Tensor field of type (0,2) on the 4-dimensional Lorentzian manifold M"
      ]
     },
     "execution_count": 28,
     "metadata": {},
     "output_type": "execute_result"
    }
   ],
   "source": [
    "Fud = Fm.up(g,0)\n",
    "T = 2*(Fm['_k.']*Fud['^k_.'] - 1/4*F2 * g)\n",
    "slow_rot(T)"
   ]
  },
  {
   "cell_type": "markdown",
   "id": "4b85b9e2",
   "metadata": {},
   "source": [
    "We deduce the final quotient and perform a first first-order Taylor expansion to simplify the expression before any further calculations"
   ]
  },
  {
   "cell_type": "code",
   "execution_count": 29,
   "id": "827085f1",
   "metadata": {},
   "outputs": [
    {
     "data": {
      "text/html": [
       "<html>\\(\\displaystyle \\mbox{Tensor field of type (0,2) on the 4-dimensional Lorentzian manifold M}\\)</html>"
      ],
      "text/latex": [
       "$\\displaystyle \\mbox{Tensor field of type (0,2) on the 4-dimensional Lorentzian manifold M}$"
      ],
      "text/plain": [
       "Tensor field of type (0,2) on the 4-dimensional Lorentzian manifold M"
      ]
     },
     "execution_count": 29,
     "metadata": {},
     "output_type": "execute_result"
    }
   ],
   "source": [
    "UU=T/Phi_sc\n",
    "slow_rot(UU)"
   ]
  },
  {
   "cell_type": "markdown",
   "id": "e6636164",
   "metadata": {},
   "source": [
    "### III.2.3 The second component of the motion equation $\\frac{1}{\\Phi}(\\triangledown_{\\mu}\\triangledown_{\\nu}-g_{\\mu\\nu}\\square)\\Phi$"
   ]
  },
  {
   "cell_type": "markdown",
   "id": "d4b96ca5",
   "metadata": {},
   "source": [
    "We now construct the d'Alembert operator"
   ]
  },
  {
   "cell_type": "code",
   "execution_count": 30,
   "id": "230402f0",
   "metadata": {},
   "outputs": [
    {
     "data": {
      "text/html": [
       "<html>\\(\\displaystyle \\Box\\left( {Phi}^{ 2 } \\right)\\)</html>"
      ],
      "text/latex": [
       "$\\displaystyle \\Box\\left( {Phi}^{ 2 } \\right)$"
      ],
      "text/plain": [
       "Scalar field Box(Phi^2) on the 4-dimensional Lorentzian manifold M"
      ]
     },
     "execution_count": 30,
     "metadata": {},
     "output_type": "execute_result"
    }
   ],
   "source": [
    "Dal = dalembertian(Phi_sc**2); Dal"
   ]
  },
  {
   "cell_type": "code",
   "execution_count": 31,
   "id": "c67dd495",
   "metadata": {},
   "outputs": [
    {
     "data": {
      "text/html": [
       "<html>\\(\\displaystyle \\mathrm{grad}\\left( {Phi}^{ 2 } \\right)\\)</html>"
      ],
      "text/latex": [
       "$\\displaystyle \\mathrm{grad}\\left( {Phi}^{ 2 } \\right)$"
      ],
      "text/plain": [
       "Vector field grad(Phi^2) on the 4-dimensional Lorentzian manifold M"
      ]
     },
     "execution_count": 31,
     "metadata": {},
     "output_type": "execute_result"
    }
   ],
   "source": [
    "Gp = grad(Phi_sc**2); Gp "
   ]
  },
  {
   "cell_type": "markdown",
   "id": "9fca3a78",
   "metadata": {},
   "source": [
    "We substitute the function Z in the expression and we perform a first first-order Taylor expansion to simplify the expression before any further calculations"
   ]
  },
  {
   "cell_type": "code",
   "execution_count": 32,
   "id": "8f0039f2-f877-402d-925b-c17565c79755",
   "metadata": {},
   "outputs": [],
   "source": [
    "S = Phi_sc**(-2)*(nab(Gp).down(g)-g*Dal) \n",
    "S.apply_map(lambda f: f.substitute_function(Z,E))\n",
    "S.apply_map(lambda f: f.taylor(a,0,1)) "
   ]
  },
  {
   "cell_type": "markdown",
   "id": "9579085b",
   "metadata": {},
   "source": [
    "We subsitute the remaining expressions U,V,X,Y,Q and O to have the final form of the right hand side of the motion equation (1)"
   ]
  },
  {
   "cell_type": "code",
   "execution_count": 33,
   "id": "9ad7023c-d514-4c7d-a021-bd5e978aa1ca",
   "metadata": {},
   "outputs": [
    {
     "data": {
      "text/html": [
       "<html>\\(\\displaystyle \\mbox{Tensor field of type (0,2) on the 4-dimensional Lorentzian manifold M}\\)</html>"
      ],
      "text/latex": [
       "$\\displaystyle \\mbox{Tensor field of type (0,2) on the 4-dimensional Lorentzian manifold M}$"
      ],
      "text/plain": [
       "Tensor field of type (0,2) on the 4-dimensional Lorentzian manifold M"
      ]
     },
     "execution_count": 33,
     "metadata": {},
     "output_type": "execute_result"
    }
   ],
   "source": [
    "RHS = UU + S\n",
    "slow_rot(RHS)"
   ]
  },
  {
   "cell_type": "markdown",
   "id": "13cc4d0f",
   "metadata": {},
   "source": [
    "# IV. Verification of the field equations"
   ]
  },
  {
   "cell_type": "markdown",
   "id": "54244fef",
   "metadata": {},
   "source": [
    "## IV.1. Verification of the $G_{\\mu\\nu} = \\tilde{k} \\frac{T_{\\alpha\\beta}}{\\sqrt{\\phi}}+\\frac{1}{\\phi}\\left[\\nabla_{\\mu}\\nabla_{\\nu} - g_{\\mu\\nu}\\square\\right]\\phi$ equation"
   ]
  },
  {
   "cell_type": "markdown",
   "id": "e4e12867",
   "metadata": {},
   "source": [
    "Let's check that the two sides of the equation (1) are equal"
   ]
  },
  {
   "cell_type": "code",
   "execution_count": 34,
   "id": "04779e72-5caf-475d-a982-690bfc14560e",
   "metadata": {},
   "outputs": [
    {
     "data": {
      "text/html": [
       "<html>\\(\\displaystyle \\mathrm{True}\\)</html>"
      ],
      "text/latex": [
       "$\\displaystyle \\mathrm{True}$"
      ],
      "text/plain": [
       "True"
      ]
     },
     "execution_count": 34,
     "metadata": {},
     "output_type": "execute_result"
    }
   ],
   "source": [
    "G == RHS"
   ]
  },
  {
   "cell_type": "markdown",
   "id": "b4936550",
   "metadata": {},
   "source": [
    "## IV.2. Verification of the Maxwell equations $\\triangledown\\left(\\sqrt{\\phi}F_{\\mu\\nu}\\right)$ "
   ]
  },
  {
   "cell_type": "code",
   "execution_count": 35,
   "id": "5d8f2957",
   "metadata": {},
   "outputs": [
    {
     "data": {
      "text/html": [
       "<html>\\(\\displaystyle \\mbox{Tensor field of type (2,0) on the 4-dimensional Lorentzian manifold M}\\)</html>"
      ],
      "text/latex": [
       "$\\displaystyle \\mbox{Tensor field of type (2,0) on the 4-dimensional Lorentzian manifold M}$"
      ],
      "text/plain": [
       "Tensor field of type (2,0) on the 4-dimensional Lorentzian manifold M"
      ]
     },
     "execution_count": 35,
     "metadata": {},
     "output_type": "execute_result"
    }
   ],
   "source": [
    "slow_rot(Fuu)"
   ]
  },
  {
   "cell_type": "code",
   "execution_count": 36,
   "id": "02cf2da6",
   "metadata": {},
   "outputs": [
    {
     "data": {
      "text/html": [
       "<html>\\(\\displaystyle \\mbox{Tensor field of type (2,0) on the 4-dimensional Lorentzian manifold M}\\)</html>"
      ],
      "text/latex": [
       "$\\displaystyle \\mbox{Tensor field of type (2,0) on the 4-dimensional Lorentzian manifold M}$"
      ],
      "text/plain": [
       "Tensor field of type (2,0) on the 4-dimensional Lorentzian manifold M"
      ]
     },
     "execution_count": 36,
     "metadata": {},
     "output_type": "execute_result"
    }
   ],
   "source": [
    "q = Fm.up(g)*Phi_sc\n",
    "slow_rot(q)"
   ]
  },
  {
   "cell_type": "code",
   "execution_count": 37,
   "id": "c1c69a80",
   "metadata": {},
   "outputs": [
    {
     "data": {
      "text/html": [
       "<html>\\(\\displaystyle \\mbox{Vector field on the 4-dimensional Lorentzian manifold M}\\)</html>"
      ],
      "text/latex": [
       "$\\displaystyle \\mbox{Vector field on the 4-dimensional Lorentzian manifold M}$"
      ],
      "text/plain": [
       "Vector field on the 4-dimensional Lorentzian manifold M"
      ]
     },
     "execution_count": 37,
     "metadata": {},
     "output_type": "execute_result"
    }
   ],
   "source": [
    "eq = nab(q)['_i^ij']\n",
    "slow_rot(eq)"
   ]
  },
  {
   "cell_type": "code",
   "execution_count": 38,
   "id": "454ae57b",
   "metadata": {},
   "outputs": [
    {
     "data": {
      "text/html": [
       "<html>\\(\\displaystyle \\triangledown\\left(\\sqrt{\\phi}F^{\\mu\\nu}\\right)_{m} =  \\left[0, 0, 0, 0\\right]\\)</html>"
      ],
      "text/latex": [
       "$\\displaystyle \\triangledown\\left(\\sqrt{\\phi}F^{\\mu\\nu}\\right)_{m} =  \\left[0, 0, 0, 0\\right]$"
      ],
      "text/plain": [
       "\\triangledown\\left(\\sqrt{\\phi}F^{\\mu\\nu}\\right)_{m} =  [0, 0, 0, 0]"
      ]
     },
     "metadata": {},
     "output_type": "display_data"
    }
   ],
   "source": [
    "latex_str = r'\\triangledown\\left(\\sqrt{\\phi}F^{\\mu\\nu}\\right)_{m} = ' \n",
    "show(LatexExpr(latex_str), eq[:])"
   ]
  },
  {
   "cell_type": "code",
   "execution_count": 50,
   "id": "866ed2b7",
   "metadata": {},
   "outputs": [
    {
     "data": {
      "text/html": [
       "<html>\\(\\displaystyle \\triangledown\\left(\\sqrt{\\phi}F^{\\mu\\nu}\\right)_{00} =  0\\)</html>"
      ],
      "text/latex": [
       "$\\displaystyle \\triangledown\\left(\\sqrt{\\phi}F^{\\mu\\nu}\\right)_{00} =  0$"
      ],
      "text/plain": [
       "\\triangledown\\left(\\sqrt{\\phi}F^{\\mu\\nu}\\right)_{00} =  0"
      ]
     },
     "metadata": {},
     "output_type": "display_data"
    },
    {
     "data": {
      "text/html": [
       "<html>\\(\\displaystyle \\mathrm{True}\\)</html>"
      ],
      "text/latex": [
       "$\\displaystyle \\mathrm{True}$"
      ],
      "text/plain": [
       "True"
      ]
     },
     "execution_count": 50,
     "metadata": {},
     "output_type": "execute_result"
    }
   ],
   "source": [
    "assume(r > r_m)\n",
    "assume(r > r_p)\n",
    "expression = eq[0].expr().simplify().factor()\n",
    "latex_str = r'\\triangledown\\left(\\sqrt{\\phi}F^{\\mu\\nu}\\right)_{00} = ' \n",
    "show(LatexExpr(latex_str),expression)\n",
    "expression.is_zero()"
   ]
  },
  {
   "cell_type": "markdown",
   "id": "c4101670",
   "metadata": {},
   "source": [
    "Therefore, $\\triangledown\\left(\\sqrt{\\phi_{m}}F^{\\mu\\nu}\\right) = 0$ is always true outside the black hole, i.e. for $r>r_{m}$ and $r>r_{p}$. \n",
    "\n",
    "As the solution does describe a black hole iff $r_{m}<r_{p}$, the condition $r>r_{p}$ is sufficient\n",
    "\n",
    "In conclusion, Maxwell equations are verified."
   ]
  },
  {
   "cell_type": "markdown",
   "id": "9a01f8b5",
   "metadata": {},
   "source": [
    "## IV.3.  Verification of the $\\vartheta = -\\frac{R}{L_{m}}$ equation"
   ]
  },
  {
   "cell_type": "code",
   "execution_count": 49,
   "id": "d4e4d0c7",
   "metadata": {},
   "outputs": [
    {
     "data": {
      "text/html": [
       "<html>\\(\\displaystyle \\Phi = \\left(\\frac{r - r_{m}}{r}\\right)^{\\frac{2}{13}}\\)</html>"
      ],
      "text/latex": [
       "$\\displaystyle \\Phi = \\left(\\frac{r - r_{m}}{r}\\right)^{\\frac{2}{13}}$"
      ],
      "text/plain": [
       "\\Phi = ((r - r_m)/r)^(2/13)"
      ]
     },
     "metadata": {},
     "output_type": "display_data"
    },
    {
     "data": {
      "text/html": [
       "<html>\\(\\displaystyle \\frac{L_{m}}{R} = -\\frac{{\\left(r - r_{m}\\right)}^{\\frac{2}{13}}}{r^{\\frac{2}{13}}}\\)</html>"
      ],
      "text/latex": [
       "$\\displaystyle \\frac{L_{m}}{R} = -\\frac{{\\left(r - r_{m}\\right)}^{\\frac{2}{13}}}{r^{\\frac{2}{13}}}$"
      ],
      "text/plain": [
       "\\frac{L_{m}}{R} = -(r - r_m)^(2/13)/r^(2/13)"
      ]
     },
     "metadata": {},
     "output_type": "display_data"
    },
    {
     "data": {
      "text/html": [
       "<html>\\(\\displaystyle \\phi + \\frac{Lm}{R} = 0\\)</html>"
      ],
      "text/latex": [
       "$\\displaystyle \\phi + \\frac{Lm}{R} = 0$"
      ],
      "text/plain": [
       "\\phi + \\frac{Lm}{R} = 0"
      ]
     },
     "metadata": {},
     "output_type": "display_data"
    },
    {
     "data": {
      "text/html": [
       "<html>\\(\\displaystyle \\mathrm{True}\\)</html>"
      ],
      "text/latex": [
       "$\\displaystyle \\mathrm{True}$"
      ],
      "text/plain": [
       "True"
      ]
     },
     "execution_count": 49,
     "metadata": {},
     "output_type": "execute_result"
    }
   ],
   "source": [
    "show(LatexExpr(r'\\Phi ='), slow_rot(Phi_sc))\n",
    "show(LatexExpr(r'\\frac{L_{m}}{R} ='), slow_rot(Lm / (slow_rot(ER_rsc))).canonicalize_radical().factor())\n",
    "show(LatexExpr(r'\\phi + \\frac{Lm}{R} ='), (slow_rot(Phi_sc) + slow_rot(Lm / ER_rsc)).canonicalize_radical())\n",
    "(slow_rot(Phi_sc) + slow_rot(Lm / ER_rsc)).canonicalize_radical().is_zero()"
   ]
  },
  {
   "cell_type": "markdown",
   "id": "e0ca3a93",
   "metadata": {},
   "source": [
    "# In conclusion the equation $G_{\\mu\\nu} = \\tilde{k} \\frac{T_{\\alpha\\beta}}{\\sqrt{\\phi}}+\\frac{1}{\\phi}\\left[\\nabla_{\\mu}\\nabla_{\\nu} - g_{\\mu\\nu}\\square\\right]\\phi$ is perfectly verified at the first order and the $\\triangledown\\left(\\sqrt{\\phi}T_{\\mu\\nu}\\right)$ is always verified outside the black hole.\n",
    "\n",
    "# So the magnetically charged solutions are solutions in ER as well for a slowly rotating black hole."
   ]
  }
 ],
 "metadata": {
  "kernelspec": {
   "display_name": "SageMath 10.1",
   "language": "sage",
   "name": "sagemath"
  },
  "language_info": {
   "codemirror_mode": {
    "name": "ipython",
    "version": 3
   },
   "file_extension": ".py",
   "mimetype": "text/x-python",
   "name": "python",
   "nbconvert_exporter": "python",
   "pygments_lexer": "ipython3",
   "version": "3.10.12"
  }
 },
 "nbformat": 4,
 "nbformat_minor": 5
}
