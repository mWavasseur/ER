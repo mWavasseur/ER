{
 "cells": [
  {
   "cell_type": "markdown",
   "id": "be74b5e0",
   "metadata": {},
   "source": [
    "# NULL COMPLEX TETRAD FOR ENTANGLED RELATIVITY SOLUTIONS IN THE CASE OF NON ROTATING BLACK HOLES"
   ]
  },
  {
   "cell_type": "markdown",
   "id": "73852f3a",
   "metadata": {},
   "source": [
    "In this notebook, we propose to derive a valid tetrad in the context of entangled relativity for the case of non rotating black holes. "
   ]
  },
  {
   "cell_type": "code",
   "execution_count": 1,
   "id": "0877badb",
   "metadata": {},
   "outputs": [
    {
     "data": {
      "text/plain": [
       "'SageMath version 10.1, Release Date: 2023-08-20'"
      ]
     },
     "execution_count": 1,
     "metadata": {},
     "output_type": "execute_result"
    }
   ],
   "source": [
    "version()"
   ]
  },
  {
   "cell_type": "code",
   "execution_count": 2,
   "id": "dbb3361b",
   "metadata": {},
   "outputs": [],
   "source": [
    "%display latex"
   ]
  },
  {
   "cell_type": "markdown",
   "id": "25212144",
   "metadata": {},
   "source": [
    "'SageMath version used is 10.1, Release Date: 2023-08-20'"
   ]
  },
  {
   "cell_type": "code",
   "execution_count": 3,
   "id": "9adff967",
   "metadata": {},
   "outputs": [],
   "source": [
    "from sage.manifolds.operators import dalembertian\n",
    "from sage.manifolds.operators import grad\n",
    "import time\n",
    "import pickle\n",
    "comput_time0 = time.perf_counter()"
   ]
  },
  {
   "cell_type": "markdown",
   "id": "e163a075",
   "metadata": {},
   "source": [
    "# I. The Metric"
   ]
  },
  {
   "cell_type": "code",
   "execution_count": 4,
   "id": "dfad7aaf",
   "metadata": {},
   "outputs": [
    {
     "name": "stdout",
     "output_type": "stream",
     "text": [
      "4-dimensional Lorentzian manifold M\n"
     ]
    }
   ],
   "source": [
    "M = Manifold(4, 'M', latex_name=r'\\mathcal{M}', structure='Lorentzian')\n",
    "print(M)"
   ]
  },
  {
   "cell_type": "code",
   "execution_count": 5,
   "id": "b4a4ed44",
   "metadata": {},
   "outputs": [
    {
     "name": "stdout",
     "output_type": "stream",
     "text": [
      "Chart (M, (t, r, th, ph))\n"
     ]
    }
   ],
   "source": [
    "XY.<t,r,th,ph> = M.chart(r\"t r:(0,+oo) th:(0,pi):\\theta ph:(0,2*pi):\\phi\")\n",
    "print(XY)"
   ]
  },
  {
   "cell_type": "code",
   "execution_count": 6,
   "id": "4e4a5615",
   "metadata": {},
   "outputs": [
    {
     "data": {
      "text/html": [
       "<html>\\(\\displaystyle \\left(m, a, r_{m}, r_{p}\\right)\\)</html>"
      ],
      "text/latex": [
       "$\\displaystyle \\left(m, a, r_{m}, r_{p}\\right)$"
      ],
      "text/plain": [
       "(m, a, r_m, r_p)"
      ]
     },
     "execution_count": 6,
     "metadata": {},
     "output_type": "execute_result"
    }
   ],
   "source": [
    "var('m a r_m r_p', domain='real')"
   ]
  },
  {
   "cell_type": "markdown",
   "id": "b3c61eed",
   "metadata": {},
   "source": [
    "# II. General diagonal metric"
   ]
  },
  {
   "cell_type": "code",
   "execution_count": 7,
   "id": "7bcad64f",
   "metadata": {},
   "outputs": [],
   "source": [
    "g = M.metric()"
   ]
  },
  {
   "cell_type": "code",
   "execution_count": 8,
   "id": "efe2c2be",
   "metadata": {},
   "outputs": [],
   "source": [
    "U = function('U')\n",
    "V = function('V')\n",
    "X = function('X')\n",
    "Y = function('Y')\n",
    "g[0,0] = U(r)\n",
    "g[1,1] = V(r)\n",
    "g[2,2] = X(r)\n",
    "g[3,3] = Y(r,th)"
   ]
  },
  {
   "cell_type": "code",
   "execution_count": 9,
   "id": "b3db4ac4",
   "metadata": {},
   "outputs": [
    {
     "data": {
      "text/html": [
       "<html>\\(\\displaystyle g = U\\left(r\\right) \\mathrm{d} t\\otimes \\mathrm{d} t + V\\left(r\\right) \\mathrm{d} r\\otimes \\mathrm{d} r + X\\left(r\\right) \\mathrm{d} {\\theta}\\otimes \\mathrm{d} {\\theta} + Y\\left(r, {\\theta}\\right) \\mathrm{d} {\\phi}\\otimes \\mathrm{d} {\\phi}\\)</html>"
      ],
      "text/latex": [
       "$\\displaystyle g = U\\left(r\\right) \\mathrm{d} t\\otimes \\mathrm{d} t + V\\left(r\\right) \\mathrm{d} r\\otimes \\mathrm{d} r + X\\left(r\\right) \\mathrm{d} {\\theta}\\otimes \\mathrm{d} {\\theta} + Y\\left(r, {\\theta}\\right) \\mathrm{d} {\\phi}\\otimes \\mathrm{d} {\\phi}$"
      ],
      "text/plain": [
       "g = U(r) dt⊗dt + V(r) dr⊗dr + X(r) dth⊗dth + Y(r, th) dph⊗dph"
      ]
     },
     "execution_count": 9,
     "metadata": {},
     "output_type": "execute_result"
    }
   ],
   "source": [
    "g.display()"
   ]
  },
  {
   "cell_type": "code",
   "execution_count": 10,
   "id": "6632823f",
   "metadata": {},
   "outputs": [],
   "source": [
    "Ld = M.one_form({XY.frame(): [sqrt(-g[0,0]/2), sqrt(g[1,1]/2), 0, 0]})\n",
    "Nd = M.one_form({XY.frame(): [sqrt(-g[0,0]/2), -sqrt(g[1,1]/2), 0, 0]})\n",
    "Md = M.one_form({XY.frame(): [0, 0, sqrt(g[2,2]/2), i*sqrt(g[3,3]/2)]})\n",
    "Mbar_d = M.one_form({XY.frame(): [0, 0, sqrt(g[2,2]/2), -i*sqrt(g[3,3]/2)]}) \n",
    "\n",
    "L, N, Mr, Mbar = Ld.up(g), Nd.up(g), Md.up(g), Mbar_d.up(g)"
   ]
  },
  {
   "cell_type": "code",
   "execution_count": 11,
   "id": "b521eade",
   "metadata": {},
   "outputs": [],
   "source": [
    "l_scalar, n_scalar, m_scalar, mbar_scalar =  (Ld.contract(0, L, 0)).expr(), (Nd.contract(0, N, 0)).expr(),\\\n",
    "                                            (Md.contract(0, Mr, 0)).expr(), (Mbar_d.contract(0, Mbar, 0)).expr()\n",
    "lm, mn,ln, mbarm = (Ld.contract(0, Mr, 0)).expr(), (Nd.contract(0, Mr, 0)).expr(),\\\n",
    "                                            (Nd.contract(0, L, 0)).expr(), (Mbar_d.contract(0, Mr, 0)).expr()"
   ]
  },
  {
   "cell_type": "code",
   "execution_count": 12,
   "id": "ed2874f7",
   "metadata": {},
   "outputs": [
    {
     "data": {
      "text/html": [
       "<html>\\(\\displaystyle l^{\\mu}l_{\\mu} =  0 \\hspace{0.5cm} n^{\\mu}n_{\\mu} =  0 \\hspace{0.5cm} m^{\\mu}m_{\\mu} =  0 \\hspace{0.5cm} \\bar{m}^{\\mu}\\bar{m}_{\\mu} =  0\\)</html>"
      ],
      "text/latex": [
       "$\\displaystyle l^{\\mu}l_{\\mu} =  0 \\hspace{0.5cm} n^{\\mu}n_{\\mu} =  0 \\hspace{0.5cm} m^{\\mu}m_{\\mu} =  0 \\hspace{0.5cm} \\bar{m}^{\\mu}\\bar{m}_{\\mu} =  0$"
      ],
      "text/plain": [
       "l^{\\mu}l_{\\mu} =  0 \\hspace{0.5cm} n^{\\mu}n_{\\mu} =  0 \\hspace{0.5cm} m^{\\mu}m_{\\mu} =  0 \\hspace{0.5cm} \\bar{m}^{\\mu}\\bar{m}_{\\mu} =  0"
      ]
     },
     "metadata": {},
     "output_type": "display_data"
    },
    {
     "data": {
      "text/html": [
       "<html>\\(\\displaystyle l^{\\mu}m_{\\mu} =  0 \\hspace{0.5cm} m^{\\mu}n_{\\mu} =  0\\)</html>"
      ],
      "text/latex": [
       "$\\displaystyle l^{\\mu}m_{\\mu} =  0 \\hspace{0.5cm} m^{\\mu}n_{\\mu} =  0$"
      ],
      "text/plain": [
       "l^{\\mu}m_{\\mu} =  0 \\hspace{0.5cm} m^{\\mu}n_{\\mu} =  0"
      ]
     },
     "metadata": {},
     "output_type": "display_data"
    },
    {
     "data": {
      "text/html": [
       "<html>\\(\\displaystyle l^{\\mu}n_{\\mu} =  -1 \\hspace{0.5cm} m^{\\mu}\\bar{m}_{\\mu} =  1\\)</html>"
      ],
      "text/latex": [
       "$\\displaystyle l^{\\mu}n_{\\mu} =  -1 \\hspace{0.5cm} m^{\\mu}\\bar{m}_{\\mu} =  1$"
      ],
      "text/plain": [
       "l^{\\mu}n_{\\mu} =  -1 \\hspace{0.5cm} m^{\\mu}\\bar{m}_{\\mu} =  1"
      ]
     },
     "metadata": {},
     "output_type": "display_data"
    }
   ],
   "source": [
    "show(LatexExpr(r'l^{\\mu}l_{\\mu} = '),l_scalar.taylor(a,0,1), LatexExpr(r'\\hspace{0.5cm} n^{\\mu}n_{\\mu} = '),\\\n",
    "     n_scalar.taylor(a,0,1).subs(q=0), LatexExpr(r'\\hspace{0.5cm} m^{\\mu}m_{\\mu} = '),m_scalar.taylor(a,0,1), \\\n",
    "     LatexExpr(r'\\hspace{0.5cm} \\bar{m}^{\\mu}\\bar{m}_{\\mu} = '),mbar_scalar.taylor(a,0,1))\n",
    "\n",
    "show(LatexExpr(r'l^{\\mu}m_{\\mu} = '),lm.taylor(a,0,1), LatexExpr(r'\\hspace{0.5cm} m^{\\mu}n_{\\mu} = '),\\\n",
    "     mn.taylor(a,0,1))\n",
    "\n",
    "\n",
    "show(LatexExpr(r'l^{\\mu}n_{\\mu} = '),ln.taylor(a,0,1), LatexExpr(r'\\hspace{0.5cm} m^{\\mu}\\bar{m}_{\\mu} = '),mbarm.taylor(a,0,1))"
   ]
  },
  {
   "cell_type": "code",
   "execution_count": 13,
   "id": "9b462d87",
   "metadata": {},
   "outputs": [
    {
     "data": {
      "text/html": [
       "<html>\\(\\displaystyle g_{\\mu\\nu} =  \\left(\\begin{array}{rrrr}\n",
       "U\\left(r\\right) & 0 & 0 & 0 \\\\\n",
       "0 & V\\left(r\\right) & 0 & 0 \\\\\n",
       "0 & 0 & X\\left(r\\right) & 0 \\\\\n",
       "0 & 0 & 0 & Y\\left(r, {\\theta}\\right)\n",
       "\\end{array}\\right)\\)</html>"
      ],
      "text/latex": [
       "$\\displaystyle g_{\\mu\\nu} =  \\left(\\begin{array}{rrrr}\n",
       "U\\left(r\\right) & 0 & 0 & 0 \\\\\n",
       "0 & V\\left(r\\right) & 0 & 0 \\\\\n",
       "0 & 0 & X\\left(r\\right) & 0 \\\\\n",
       "0 & 0 & 0 & Y\\left(r, {\\theta}\\right)\n",
       "\\end{array}\\right)$"
      ],
      "text/plain": [
       "g_{\\mu\\nu} =  [    U(r)        0        0        0]\n",
       "[       0     V(r)        0        0]\n",
       "[       0        0     X(r)        0]\n",
       "[       0        0        0 Y(r, th)]"
      ]
     },
     "metadata": {},
     "output_type": "display_data"
    }
   ],
   "source": [
    "for i in range(4):\n",
    "    g[i,i] = -2*Ld[i]*Nd[i] + 2*Md[i]*Mbar_d[i]\n",
    "show(LatexExpr(r'g_{\\mu\\nu} = '), g[:])"
   ]
  },
  {
   "cell_type": "markdown",
   "id": "2b66f33e",
   "metadata": {},
   "source": [
    "# III. Case of non rotating black holes in Entangled Relativity"
   ]
  },
  {
   "cell_type": "code",
   "execution_count": 14,
   "id": "00a4ca90",
   "metadata": {},
   "outputs": [],
   "source": [
    "elec = False"
   ]
  },
  {
   "cell_type": "code",
   "execution_count": 15,
   "id": "88f2303d",
   "metadata": {},
   "outputs": [],
   "source": [
    "O = function('O')\n",
    "Psi(r) = (1-r_p/r)\n",
    "Zeta(r) = (1-r_m/r)\n",
    "\n",
    "A(r)=-Psi(r)*Zeta(r)**(11/13)\n",
    "C(r)=r**2*Zeta(r)**(2/13)"
   ]
  },
  {
   "cell_type": "code",
   "execution_count": 16,
   "id": "a998ffd2",
   "metadata": {},
   "outputs": [],
   "source": [
    "if elec:\n",
    "    Omega(r)=Zeta(r)**(2/13)\n",
    "else:\n",
    "    Omega(r)=Zeta(r)**(-2/13)"
   ]
  },
  {
   "cell_type": "code",
   "execution_count": 17,
   "id": "3fe90ae2",
   "metadata": {},
   "outputs": [
    {
     "data": {
      "text/html": [
       "<html>\\(\\displaystyle k = {\\left(-\\frac{r_{m}}{r} + 1\\right)}^{\\frac{7}{13}} {\\left(\\frac{r_{p}}{r} - 1\\right)} \\mathrm{d} t\\otimes \\mathrm{d} t + \\frac{1}{{\\left(-\\frac{r_{m}}{r} + 1\\right)}^{\\frac{15}{13}} {\\left(\\frac{r_{p}}{r} - 1\\right)}} \\mathrm{d} r\\otimes \\mathrm{d} r + \\frac{r^{2}}{{\\left(-\\frac{r_{m}}{r} + 1\\right)}^{\\frac{2}{13}}} \\mathrm{d} {\\theta}\\otimes \\mathrm{d} {\\theta} + \\frac{r^{2} \\sin\\left({\\theta}\\right)^{2}}{{\\left(-\\frac{r_{m}}{r} + 1\\right)}^{\\frac{2}{13}}} \\mathrm{d} {\\phi}\\otimes \\mathrm{d} {\\phi}\\)</html>"
      ],
      "text/latex": [
       "$\\displaystyle k = {\\left(-\\frac{r_{m}}{r} + 1\\right)}^{\\frac{7}{13}} {\\left(\\frac{r_{p}}{r} - 1\\right)} \\mathrm{d} t\\otimes \\mathrm{d} t + \\frac{1}{{\\left(-\\frac{r_{m}}{r} + 1\\right)}^{\\frac{15}{13}} {\\left(\\frac{r_{p}}{r} - 1\\right)}} \\mathrm{d} r\\otimes \\mathrm{d} r + \\frac{r^{2}}{{\\left(-\\frac{r_{m}}{r} + 1\\right)}^{\\frac{2}{13}}} \\mathrm{d} {\\theta}\\otimes \\mathrm{d} {\\theta} + \\frac{r^{2} \\sin\\left({\\theta}\\right)^{2}}{{\\left(-\\frac{r_{m}}{r} + 1\\right)}^{\\frac{2}{13}}} \\mathrm{d} {\\phi}\\otimes \\mathrm{d} {\\phi}$"
      ],
      "text/plain": [
       "k = (-r_m/r + 1)^(7/13)*(r_p/r - 1) dt⊗dt + 1/((-r_m/r + 1)^(15/13)*(r_p/r - 1)) dr⊗dr + r^2/(-r_m/r + 1)^(2/13) dth⊗dth + r^2*sin(th)^2/(-r_m/r + 1)^(2/13) dph⊗dph"
      ]
     },
     "execution_count": 17,
     "metadata": {},
     "output_type": "execute_result"
    }
   ],
   "source": [
    "k = g.copy()\n",
    "k.set_name('k')\n",
    "k.apply_map(lambda l: l*O(r)**2) \n",
    "k.apply_map(lambda l: l.substitute_function(O, Omega).substitute_function(U, A).substitute_function(V, 1/A).substitute_function(X, C).substitute_function(Y, C*sin(th)**2)) \n",
    "k.display()"
   ]
  },
  {
   "cell_type": "code",
   "execution_count": 18,
   "id": "9d536dc8",
   "metadata": {},
   "outputs": [
    {
     "data": {
      "text/html": [
       "<html>\\(\\displaystyle l^{\\mu} =  \\left[\\frac{\\sqrt{2} \\sqrt{-{\\left(-\\frac{r_{m}}{r} + 1\\right)}^{\\frac{11}{13}} {\\left(\\frac{r_{p}}{r} - 1\\right)}}}{2 \\, {\\left(-\\frac{r_{m}}{r} + 1\\right)}^{\\frac{11}{13}} {\\left(\\frac{r_{p}}{r} - 1\\right)}}, \\frac{\\sqrt{2}}{2 \\, \\sqrt{\\frac{1}{{\\left(-\\frac{r_{m}}{r} + 1\\right)}^{\\frac{11}{13}} {\\left(\\frac{r_{p}}{r} - 1\\right)}}}}, 0, 0\\right]\\)</html>"
      ],
      "text/latex": [
       "$\\displaystyle l^{\\mu} =  \\left[\\frac{\\sqrt{2} \\sqrt{-{\\left(-\\frac{r_{m}}{r} + 1\\right)}^{\\frac{11}{13}} {\\left(\\frac{r_{p}}{r} - 1\\right)}}}{2 \\, {\\left(-\\frac{r_{m}}{r} + 1\\right)}^{\\frac{11}{13}} {\\left(\\frac{r_{p}}{r} - 1\\right)}}, \\frac{\\sqrt{2}}{2 \\, \\sqrt{\\frac{1}{{\\left(-\\frac{r_{m}}{r} + 1\\right)}^{\\frac{11}{13}} {\\left(\\frac{r_{p}}{r} - 1\\right)}}}}, 0, 0\\right]$"
      ],
      "text/plain": [
       "l^{\\mu} =  [1/2*sqrt(2)*sqrt(-(-r_m/r + 1)^(11/13)*(r_p/r - 1))/((-r_m/r + 1)^(11/13)*(r_p/r - 1)),\n",
       " 1/2*sqrt(2)/sqrt(1/((-r_m/r + 1)^(11/13)*(r_p/r - 1))),\n",
       " 0,\n",
       " 0]"
      ]
     },
     "metadata": {},
     "output_type": "display_data"
    },
    {
     "data": {
      "text/html": [
       "<html>\\(\\displaystyle n^{\\mu} =  \\left[\\frac{\\sqrt{2} \\sqrt{-{\\left(-\\frac{r_{m}}{r} + 1\\right)}^{\\frac{11}{13}} {\\left(\\frac{r_{p}}{r} - 1\\right)}}}{2 \\, {\\left(-\\frac{r_{m}}{r} + 1\\right)}^{\\frac{11}{13}} {\\left(\\frac{r_{p}}{r} - 1\\right)}}, -\\frac{\\sqrt{2}}{2 \\, \\sqrt{\\frac{1}{{\\left(-\\frac{r_{m}}{r} + 1\\right)}^{\\frac{11}{13}} {\\left(\\frac{r_{p}}{r} - 1\\right)}}}}, 0, 0\\right]\\)</html>"
      ],
      "text/latex": [
       "$\\displaystyle n^{\\mu} =  \\left[\\frac{\\sqrt{2} \\sqrt{-{\\left(-\\frac{r_{m}}{r} + 1\\right)}^{\\frac{11}{13}} {\\left(\\frac{r_{p}}{r} - 1\\right)}}}{2 \\, {\\left(-\\frac{r_{m}}{r} + 1\\right)}^{\\frac{11}{13}} {\\left(\\frac{r_{p}}{r} - 1\\right)}}, -\\frac{\\sqrt{2}}{2 \\, \\sqrt{\\frac{1}{{\\left(-\\frac{r_{m}}{r} + 1\\right)}^{\\frac{11}{13}} {\\left(\\frac{r_{p}}{r} - 1\\right)}}}}, 0, 0\\right]$"
      ],
      "text/plain": [
       "n^{\\mu} =  [1/2*sqrt(2)*sqrt(-(-r_m/r + 1)^(11/13)*(r_p/r - 1))/((-r_m/r + 1)^(11/13)*(r_p/r - 1)),\n",
       " -1/2*sqrt(2)/sqrt(1/((-r_m/r + 1)^(11/13)*(r_p/r - 1))),\n",
       " 0,\n",
       " 0]"
      ]
     },
     "metadata": {},
     "output_type": "display_data"
    },
    {
     "data": {
      "text/html": [
       "<html>\\(\\displaystyle m^{\\mu} =  \\left[0, 0, \\frac{\\sqrt{2}}{2 \\, r {\\left(-\\frac{r_{m}}{r} + 1\\right)}^{\\frac{1}{13}}}, \\frac{i \\, \\sqrt{2}}{2 \\, r {\\left(-\\frac{r_{m}}{r} + 1\\right)}^{\\frac{1}{13}} {\\left| \\sin\\left({\\theta}\\right) \\right|}}\\right]\\)</html>"
      ],
      "text/latex": [
       "$\\displaystyle m^{\\mu} =  \\left[0, 0, \\frac{\\sqrt{2}}{2 \\, r {\\left(-\\frac{r_{m}}{r} + 1\\right)}^{\\frac{1}{13}}}, \\frac{i \\, \\sqrt{2}}{2 \\, r {\\left(-\\frac{r_{m}}{r} + 1\\right)}^{\\frac{1}{13}} {\\left| \\sin\\left({\\theta}\\right) \\right|}}\\right]$"
      ],
      "text/plain": [
       "m^{\\mu} =  [0,\n",
       " 0,\n",
       " 1/2*sqrt(2)/(r*(-r_m/r + 1)^(1/13)),\n",
       " 1/2*I*sqrt(2)/(r*(-r_m/r + 1)^(1/13)*abs(sin(th)))]"
      ]
     },
     "metadata": {},
     "output_type": "display_data"
    },
    {
     "data": {
      "text/html": [
       "<html>\\(\\displaystyle \\bar{m}^{\\mu} =  \\left[0, 0, \\frac{\\sqrt{2}}{2 \\, r {\\left(-\\frac{r_{m}}{r} + 1\\right)}^{\\frac{1}{13}}}, -\\frac{i \\, \\sqrt{2}}{2 \\, r {\\left(-\\frac{r_{m}}{r} + 1\\right)}^{\\frac{1}{13}} {\\left| \\sin\\left({\\theta}\\right) \\right|}}\\right]\\)</html>"
      ],
      "text/latex": [
       "$\\displaystyle \\bar{m}^{\\mu} =  \\left[0, 0, \\frac{\\sqrt{2}}{2 \\, r {\\left(-\\frac{r_{m}}{r} + 1\\right)}^{\\frac{1}{13}}}, -\\frac{i \\, \\sqrt{2}}{2 \\, r {\\left(-\\frac{r_{m}}{r} + 1\\right)}^{\\frac{1}{13}} {\\left| \\sin\\left({\\theta}\\right) \\right|}}\\right]$"
      ],
      "text/plain": [
       "\\bar{m}^{\\mu} =  [0,\n",
       " 0,\n",
       " 1/2*sqrt(2)/(r*(-r_m/r + 1)^(1/13)),\n",
       " -1/2*I*sqrt(2)/(r*(-r_m/r + 1)^(1/13)*abs(sin(th)))]"
      ]
     },
     "metadata": {},
     "output_type": "display_data"
    }
   ],
   "source": [
    "for j in [L, N, Mr, Mbar]:\n",
    "    j.apply_map(lambda l: l.substitute_function(U, A).substitute_function(V, 1/A).substitute_function(X, C).substitute_function(Y, C*sin(th)**2)) \n",
    "show(LatexExpr(r'l^{\\mu} = '),L[:])\n",
    "show(LatexExpr(r'n^{\\mu} = '),N[:])\n",
    "show(LatexExpr(r'm^{\\mu} = '),Mr[:])\n",
    "show(LatexExpr(r'\\bar{m}^{\\mu} = '), Mbar[:])"
   ]
  },
  {
   "cell_type": "code",
   "execution_count": 19,
   "id": "d04d2e29",
   "metadata": {},
   "outputs": [],
   "source": [
    "expressions = {\n",
    "    'L_expression': L,\n",
    "    'N_expression': N,\n",
    "    'M_expression': Mr,\n",
    "    'Mbar_expression': Mbar,\n",
    "}\n",
    "\n",
    "with open('NR_electric_tetrad_.pkl' if elec else 'NR_magnetic_tetrad_.pkl', 'wb') as file:\n",
    "    pickle.dump(expressions, file)"
   ]
  },
  {
   "cell_type": "markdown",
   "id": "b443835a",
   "metadata": {},
   "source": [
    "## In conclusion we derived a valid null complex tetrad for both the electric and magnetic solutions in case of a non rotating black hole."
   ]
  },
  {
   "cell_type": "code",
   "execution_count": null,
   "id": "4dc97568",
   "metadata": {},
   "outputs": [],
   "source": []
  }
 ],
 "metadata": {
  "kernelspec": {
   "display_name": "SageMath 10.1",
   "language": "sage",
   "name": "sagemath"
  },
  "language_info": {
   "codemirror_mode": {
    "name": "ipython",
    "version": 3
   },
   "file_extension": ".py",
   "mimetype": "text/x-python",
   "name": "python",
   "nbconvert_exporter": "python",
   "pygments_lexer": "ipython3",
   "version": "3.10.12"
  }
 },
 "nbformat": 4,
 "nbformat_minor": 5
}
