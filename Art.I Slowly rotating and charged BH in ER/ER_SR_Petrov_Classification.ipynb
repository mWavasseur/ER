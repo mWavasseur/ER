{
 "cells": [
  {
   "cell_type": "markdown",
   "id": "be74b5e0",
   "metadata": {},
   "source": [
    "# PETROV CLASSIFICATION OF SPACE-TIME IN ENTANGLED RELATIVITY FOR BOTH ELECTRICALLY AND MAGNETICALLY BLACK HOLES IN SLOW ROTATION"
   ]
  },
  {
   "cell_type": "markdown",
   "id": "6c78c395",
   "metadata": {},
   "source": [
    "This notebook's main objective is to characterize spacetime in the case of a slowly rotating black hole within the framework of entangled relativity (ER). Here, we use the Petrov classification criteria. As external solutions of isolated bodies characterized by their mass and angular momentum, we expect to find a type D black hole. \n",
    "\n",
    "We will start by introducing the ER metric, then we will calculate the Weyl tensor at first order in 'a' (the black hole's angular momentum), and finally, we will determine the NP-Weyl scalars to define the type of spacetime."
   ]
  },
  {
   "cell_type": "markdown",
   "id": "7c01d163",
   "metadata": {},
   "source": [
    "The complexity of some calculations in this notebook prompted us to perform intermediate first order Taylor expansions to maintain tractability of the different operations using the Sagemath language. This does not affect the validity of our results since they are part of a first-order analysis in 'a'."
   ]
  },
  {
   "cell_type": "code",
   "execution_count": null,
   "id": "0877badb",
   "metadata": {},
   "outputs": [],
   "source": [
    "version()"
   ]
  },
  {
   "cell_type": "code",
   "execution_count": null,
   "id": "dbb3361b",
   "metadata": {},
   "outputs": [],
   "source": [
    "%display latex"
   ]
  },
  {
   "cell_type": "markdown",
   "id": "25212144",
   "metadata": {},
   "source": [
    "'SageMath version used is 10.1, Release Date: 2023-08-20'"
   ]
  },
  {
   "cell_type": "code",
   "execution_count": null,
   "id": "9adff967",
   "metadata": {},
   "outputs": [],
   "source": [
    "from sage.manifolds.operators import dalembertian\n",
    "from sage.manifolds.operators import grad\n",
    "from sage.tensor.modules.tensor_with_indices import TensorWithIndices\n",
    "from IPython.display import clear_output\n",
    "import time\n",
    "import pickle\n",
    "comput_time0 = time.perf_counter()"
   ]
  },
  {
   "cell_type": "markdown",
   "id": "ceccc1ac",
   "metadata": {},
   "source": [
    "Let's write a function to replace all the different expressions and perform the taylor expansions "
   ]
  },
  {
   "cell_type": "code",
   "execution_count": null,
   "id": "31b50eee",
   "metadata": {},
   "outputs": [],
   "source": [
    "def slow_rot(arg):\n",
    "    subs_funcs = [(Z, E), (U, A), (V, B), (X, C), (Y, D)]\n",
    "    final_subs = {Q: H}\n",
    "    \n",
    "    if hasattr(arg, 'expr'):\n",
    "        arg = arg.expr()\n",
    "        \n",
    "    if hasattr(arg, 'apply_map')*hasattr(arg, 'display'):\n",
    "        arg.apply_map(lambda f: f.taylor(a, 0, 1))\n",
    "        for i, (old_func, new_func) in enumerate(subs_funcs):\n",
    "            arg.apply_map(lambda f: (f.substitute_function(old_func, new_func).taylor(a, 0, 1) if i == 0 \\\n",
    "                                           else f.substitute_function(old_func, new_func)))                        \n",
    "        arg.apply_map(lambda f: f.subs(final_subs).factor())\n",
    "    else:\n",
    "        arg = arg.taylor(a, 0, 1)\n",
    "        for i, (old_func, new_func) in enumerate(subs_funcs):\n",
    "            arg = (arg.substitute_function(old_func, new_func).taylor(a, 0, 1) if i == 0 \\\n",
    "                                           else arg.substitute_function(old_func, new_func)) \n",
    "        arg = arg.subs(final_subs).factor()\n",
    "    \n",
    "    return arg"
   ]
  },
  {
   "cell_type": "markdown",
   "id": "0fa005a6",
   "metadata": {},
   "source": [
    "# I. Definition of the metric in ER"
   ]
  },
  {
   "cell_type": "code",
   "execution_count": null,
   "id": "b674c718",
   "metadata": {},
   "outputs": [],
   "source": [
    "M = Manifold(4, 'M', structure='Lorentzian')\n",
    "print(M)"
   ]
  },
  {
   "cell_type": "code",
   "execution_count": null,
   "id": "7cf08b04",
   "metadata": {},
   "outputs": [],
   "source": [
    "X.<t,r,th,ph> = M.chart(r't r:(0,+oo) th:(0,pi):\\theta ph:(0,2*pi):\\phi')\n",
    "X"
   ]
  },
  {
   "cell_type": "code",
   "execution_count": null,
   "id": "ae0ac7a9",
   "metadata": {},
   "outputs": [],
   "source": [
    "g = M.metric()\n",
    "r_m, r_p, a, Q = var('r_m r_p a Q')"
   ]
  },
  {
   "cell_type": "code",
   "execution_count": null,
   "id": "0ea5029f",
   "metadata": {},
   "outputs": [],
   "source": [
    "U = function('U')\n",
    "V = function('V')\n",
    "X = function('X')\n",
    "Y = function('Y')\n",
    "Z = function('Z')\n",
    "O = function('O')\n",
    "g[0,0] = U(r)\n",
    "g[0,3] = Z(r,th) \n",
    "g[1,1] = V(r)\n",
    "g[2,2] = X(r)\n",
    "g[3,3] = Y(r,th)\n",
    "g[3,0] = Z(r,th) "
   ]
  },
  {
   "cell_type": "code",
   "execution_count": null,
   "id": "b654e070",
   "metadata": {},
   "outputs": [],
   "source": [
    "elec_case = false # Here we are considering the magnetic case if elec_case=False"
   ]
  },
  {
   "cell_type": "code",
   "execution_count": null,
   "id": "f52afc49",
   "metadata": {},
   "outputs": [],
   "source": [
    "Psi(r) = (1-r_p/r)\n",
    "Zeta(r) = (1-r_m/r)\n",
    "\n",
    "if elec_case:\n",
    "    A(r) = -Psi(r)*Zeta(r)**(15/13)\n",
    "    B(r) = 1/(Psi(r)*Zeta(r)**(7/13))\n",
    "    C(r) = r**2*Zeta(r)**(6/13)\n",
    "    D(r) = (r*sin(th))**2*Zeta(r)**(6/13)\n",
    "    f(r)=(r**2*(1+(1/(2*(3)**(1/2)))**2)**2)*Zeta(r)**(2*(1/(2*(3)**(1/2)))**2/(1+(1/(2*(3)**(1/2)))**2))/(((1-(1/(2*(3)**(1/2)))**2)*(1-3*(1/(2*(3)**(1/2)))**2)*r_m**2))-Zeta(r)**((1-(1/(2*(3)**(1/2)))**2)/(1+(1/(2*(3)**(1/2)))**2))*(1+(1+(1/(2*(3)**(1/2)))**2)**2*r**2/((1-(1/(2*(3)**(1/2)))**2)*(1-3*(1/(2*(3)**(1/2)))**2)*r_m**2)+(1+(1/(2*(3)**(1/2)))**2)*r/((1-(1/(2*(3)**(1/2)))**2)*r_m)-r_p/r)\n",
    "    E(r,th)=-a*sin(th)**2*f(r)*Zeta(r)**(4/13)\n",
    "\n",
    "else:\n",
    "    A(r) = -Psi(r)*Zeta(r)**(7/13)\n",
    "    B(r) = 1/(Psi(r)*Zeta(r)**(15/13))\n",
    "    C(r) = r**2*Zeta(r)**(-2/13)\n",
    "    D(r) = (r*sin(th))**2*Zeta(r)**(-2/13)\n",
    "    f(r)=(r**2*(1+(1/(2*(3)**(1/2)))**2)**2)*Zeta(r)**(2*(1/(2*(3)**(1/2)))**2/(1+(1/(2*(3)**(1/2)))**2))/(((1-(1/(2*(3)**(1/2)))**2)*(1-3*(1/(2*(3)**(1/2)))**2)*r_m**2))-Zeta(r)**((1-(1/(2*(3)**(1/2)))**2)/(1+(1/(2*(3)**(1/2)))**2))*(1+(1+(1/(2*(3)**(1/2)))**2)**2*r**2/((1-(1/(2*(3)**(1/2)))**2)*(1-3*(1/(2*(3)**(1/2)))**2)*r_m**2)+(1+(1/(2*(3)**(1/2)))**2)*r/((1-(1/(2*(3)**(1/2)))**2)*r_m)-r_p/r)\n",
    "    E(r,th)=-a*sin(th)**2*f(r)*Zeta(r)**(-4/13)"
   ]
  },
  {
   "cell_type": "markdown",
   "id": "bc3f4a9a",
   "metadata": {},
   "source": [
    "Let's now define the mass and the charge expressions"
   ]
  },
  {
   "cell_type": "code",
   "execution_count": null,
   "id": "8b78b4ad",
   "metadata": {},
   "outputs": [],
   "source": [
    "Ma = (11/26)*r_m+r_p/2 \n",
    "H=(r_m*r_p/(1+(1/(2*(3)**(1/2)))**2))**(1/2)"
   ]
  },
  {
   "cell_type": "code",
   "execution_count": null,
   "id": "f3c2ba6c",
   "metadata": {},
   "outputs": [],
   "source": [
    "h = g.copy()\n",
    "h.set_name('h')\n",
    "slow_rot(h).display()"
   ]
  },
  {
   "cell_type": "markdown",
   "id": "1993119f",
   "metadata": {},
   "source": [
    "# II. Computation of the Weyl tensor"
   ]
  },
  {
   "cell_type": "markdown",
   "id": "285af115",
   "metadata": {},
   "source": [
    "\\begin{eqnarray}\n",
    "C_{abcd} &=& R_{abcd} - \\frac{1}{2}(g_{a[c}R_{d]b} - g_{b[c}R_{d]a}) + \\frac{1}{6}R g_{a[c}g_{d]b}\\\\\n",
    "&=& R_{abcd} - \\frac{1}{2}\\left(R_{ac}.g_{bd}-R_{ad}.g_{bc}+R_{bd}.g_{ac}-R_{bc}.g_{ad}\\right)+\\frac{1}{6}\\left(g_{ac}g_{bd}-g_{ad}g_{bc}\\right)R\n",
    "\\end{eqnarray}"
   ]
  },
  {
   "cell_type": "markdown",
   "id": "371563cb",
   "metadata": {},
   "source": [
    "We will not use the .weyl() property of SageMath here due to the complexity of the calculations and the need to progressively simplify the expressions through a Taylor expansion to first order in 'a'."
   ]
  },
  {
   "cell_type": "code",
   "execution_count": null,
   "id": "9b95bc13",
   "metadata": {},
   "outputs": [],
   "source": [
    "g.display()"
   ]
  },
  {
   "cell_type": "markdown",
   "id": "e1f7a88d",
   "metadata": {},
   "source": [
    "## II.1. The Riemann and Ricci tensors"
   ]
  },
  {
   "cell_type": "code",
   "execution_count": null,
   "id": "a51108ab",
   "metadata": {},
   "outputs": [],
   "source": [
    "ER_riem = g.riemann()\n",
    "slow_rot(ER_riem)\n",
    "ER_riem = ER_riem.down(g,0)\n",
    "slow_rot(ER_riem)\n",
    "ER_riem = TensorWithIndices(ER_riem, '_abcd')"
   ]
  },
  {
   "cell_type": "code",
   "execution_count": null,
   "id": "c491de0b",
   "metadata": {},
   "outputs": [],
   "source": [
    "ER_ricc = g.ricci()\n",
    "slow_rot(ER_ricc)"
   ]
  },
  {
   "cell_type": "code",
   "execution_count": null,
   "id": "c79d6e2d",
   "metadata": {},
   "outputs": [],
   "source": [
    "gu = g.up(g)\n",
    "slow_rot(gu)"
   ]
  },
  {
   "cell_type": "code",
   "execution_count": null,
   "id": "6d42104d",
   "metadata": {},
   "outputs": [],
   "source": [
    "ER_rsc = gu['^ab']*ER_ricc['_ab']\n",
    "show(LatexExpr(r'R = '), slow_rot(ER_rsc), LatexExpr(r'+ \\mathcal{O}(a^{2})'))"
   ]
  },
  {
   "cell_type": "markdown",
   "id": "d5230e21",
   "metadata": {},
   "source": [
    "## II.2. Antisymmetrization"
   ]
  },
  {
   "cell_type": "markdown",
   "id": "dafef50c",
   "metadata": {},
   "source": [
    "1. Let's compute $Rg_{a[c}g_{d]b}$"
   ]
  },
  {
   "cell_type": "code",
   "execution_count": null,
   "id": "fe0677a1",
   "metadata": {},
   "outputs": [],
   "source": [
    "g_prod = ER_rsc*g*g\n",
    "slow_rot(g_prod)\n",
    "gp_anti = g_prod['_acbd']-g_prod['_adbc']"
   ]
  },
  {
   "cell_type": "markdown",
   "id": "16d64f5c",
   "metadata": {},
   "source": [
    "antisymmetrize$\\lbrace1,2\\rbrace(g_{ac}g_{bd})\\rightarrow \\frac{1}{2}\\left(g_{ac}g_{bd}-g_{ad}g_{bc}\\right)=\\frac{1}{2}g_{a[c}g_{b]d}$"
   ]
  },
  {
   "cell_type": "markdown",
   "id": "f8172f4d",
   "metadata": {},
   "source": [
    "2. Let's now compute $g_{a[c}R_{d]b} - g_{b[c}R_{d]a}$"
   ]
  },
  {
   "cell_type": "code",
   "execution_count": null,
   "id": "906dd13d",
   "metadata": {},
   "outputs": [],
   "source": [
    "gR = g*ER_ricc\n",
    "slow_rot(gR)\n",
    "gR_prod = gR['_acbd']-gR['_adbc']+gR['_bdac']-gR['_bcad']"
   ]
  },
  {
   "cell_type": "markdown",
   "id": "3e5664b8",
   "metadata": {},
   "source": [
    "# III. The Weyl tensor"
   ]
  },
  {
   "cell_type": "code",
   "execution_count": null,
   "id": "ee6adadb",
   "metadata": {},
   "outputs": [],
   "source": [
    "ER_Weyl = ER_riem-(1/2)*gR_prod+(1/6)*gp_anti\n",
    "\n",
    "for i in range(4):\n",
    "    for j in range(4):\n",
    "        for k in range(4):\n",
    "            for l in range(4):\n",
    "                latex_str = r'C_{{{}{}{}{}}} = '.format(i, j, k, l)  \n",
    "                if [i, j, k, l] in [[0, 1, 0, 1],[0, 1, 1, 0],[0, 1, 1, 3],[0, 1, 2, 3],[0, 1, 3, 2]]:\n",
    "                    show(LatexExpr(latex_str), ER_Weyl[i, j, k, l].expr().canonicalize_radical().factor().factor()) \n"
   ]
  },
  {
   "cell_type": "markdown",
   "id": "1df3a3e4",
   "metadata": {},
   "source": [
    "# IV. NP-Weyl scalars"
   ]
  },
  {
   "cell_type": "markdown",
   "id": "82b4e902",
   "metadata": {},
   "source": [
    "Let's import the tetrad expression in ER derived in the notebook entitled \"ER_SR_BH_Tetrad\""
   ]
  },
  {
   "cell_type": "code",
   "execution_count": null,
   "id": "e28d4c1b",
   "metadata": {},
   "outputs": [],
   "source": [
    "with open('SR_electric_tetrad_.pkl' if elec_case else 'SR_magnetic_tetrad_.pkl', 'rb') as file:\n",
    "    expressions = pickle.load(file)\n",
    "    \n",
    "L = expressions['L_expression']\n",
    "N = expressions['N_expression']\n",
    "Mr = expressions['M_expression']\n",
    "Mbar = expressions['Mbar_expression']\n",
    "\n",
    "show(LatexExpr(r'l^{\\mu} = '),L[:])\n",
    "show(LatexExpr(r'n^{\\mu} = '),N[:])\n",
    "show(LatexExpr(r'm^{\\mu} = '),Mr[:])\n",
    "show(LatexExpr(r'\\bar{m}^{\\mu} = '), Mbar[:])"
   ]
  },
  {
   "cell_type": "markdown",
   "id": "b91c491b",
   "metadata": {},
   "source": [
    "We need to convert the tetrad into a M manifold indexed vector field and align it onto the same tetrad"
   ]
  },
  {
   "cell_type": "code",
   "execution_count": null,
   "id": "7fef90db",
   "metadata": {},
   "outputs": [],
   "source": [
    "tetrad_L, tetrad_N, tetrad_Mr,tetrad_Mbar = M.vector_field(name='tetrad_L'), M.vector_field(name='tetrad_N'), \\\n",
    "                                            M.vector_field(name='tetrad_Mr'), M.vector_field(name='tetrad_Mbar')\n",
    "for i in range(4):\n",
    "    tetrad_L[i] = L[i].expr()\n",
    "    tetrad_N[i] = N[i].expr()\n",
    "    tetrad_Mr[i] = Mr[i].expr()\n",
    "    tetrad_Mbar[i] = Mbar[i].expr()"
   ]
  },
  {
   "cell_type": "code",
   "execution_count": null,
   "id": "eeed6bad",
   "metadata": {},
   "outputs": [],
   "source": [
    "components = [[[[ER_Weyl[i,j,k,l] for i in range(4)] for j in range(4)] for k in range(4)] for l in range(4)]\n",
    "Weyl_tensor = M.tensor_field(0, 4, name='Weyl_tensor')\n",
    "Weyl_tensor[:, :, :, :] = components"
   ]
  },
  {
   "cell_type": "markdown",
   "id": "023a9e6e",
   "metadata": {},
   "source": [
    "## IV.1. Scalar 0"
   ]
  },
  {
   "cell_type": "code",
   "execution_count": null,
   "id": "b5be95a6",
   "metadata": {},
   "outputs": [],
   "source": [
    "print('1st contraction', Weyl_tensor.tensor_type())\n",
    "Psi0 = Weyl_tensor.contract(0, tetrad_L, 0)\n",
    "Psi0.apply_map(lambda u: u.taylor(a,0,1))\n",
    "print('2nd contraction', Psi0.tensor_type())\n",
    "Psi0 = Psi0.contract(0, tetrad_Mr, 0)\n",
    "Psi0.apply_map(lambda u: u.taylor(a,0,1))\n",
    "print('3rd contraction', Psi0.tensor_type())\n",
    "Psi0 = Psi0.contract(0, tetrad_L, 0)\n",
    "Psi0.apply_map(lambda u: u.taylor(a,0,1))\n",
    "print('4th contraction', Psi0.tensor_type())\n",
    "Psi0 = Psi0.contract(0, tetrad_Mr, 0)\n",
    "Psi0 = Psi0.expr().taylor(a,0,1)\n",
    "latex_str = r'\\Psi_{0} = W_{\\alpha\\beta\\gamma\\delta}l^{\\alpha}m^{\\beta}l^{\\gamma}m^{\\delta} = ' \n",
    "show(LatexExpr(latex_str), Psi0)\n",
    "clear_output(wait=True)"
   ]
  },
  {
   "cell_type": "markdown",
   "id": "531e5862",
   "metadata": {},
   "source": [
    "## IV.2. Scalar I"
   ]
  },
  {
   "cell_type": "code",
   "execution_count": null,
   "id": "575ddc62",
   "metadata": {},
   "outputs": [],
   "source": [
    "print('1st contraction', Weyl_tensor.tensor_type())\n",
    "Psi1 = Weyl_tensor.contract(0, tetrad_L, 0)\n",
    "Psi1.apply_map(lambda u: u.taylor(a,0,1))\n",
    "print('2nd contraction', Psi1.tensor_type())\n",
    "Psi1 = Psi1.contract(0, tetrad_N, 0)\n",
    "Psi1.apply_map(lambda u: u.taylor(a,0,1))\n",
    "print('3rd contraction', Psi1.tensor_type())\n",
    "Psi1 = Psi1.contract(0, tetrad_L, 0)\n",
    "Psi1.apply_map(lambda u: u.taylor(a,0,1))\n",
    "print('4th contraction', Psi1.tensor_type())\n",
    "Psi1 = Psi1.contract(0, tetrad_Mr, 0)\n",
    "Psi1 = Psi1.expr().taylor(a,0,1)\n",
    "latex_str = r'\\Psi_{1} = W_{\\alpha\\beta\\gamma\\delta}l^{\\alpha}n^{\\beta}l^{\\gamma}m^{\\delta} = ' \n",
    "show(LatexExpr(latex_str), Psi1)\n",
    "clear_output(wait=True)"
   ]
  },
  {
   "cell_type": "markdown",
   "id": "6132a119",
   "metadata": {},
   "source": [
    "## IV.3. Scalar II"
   ]
  },
  {
   "cell_type": "code",
   "execution_count": null,
   "id": "e15f5e19",
   "metadata": {},
   "outputs": [],
   "source": [
    "print('1st contraction', Weyl_tensor.tensor_type())\n",
    "Psi2 = Weyl_tensor.contract(0, tetrad_L, 0)\n",
    "Psi2.apply_map(lambda u: u.taylor(a,0,1))\n",
    "print('2nd contraction', Psi2.tensor_type())\n",
    "Psi2 = Psi2.contract(0, tetrad_Mr, 0)\n",
    "Psi2.apply_map(lambda u: u.taylor(a,0,1))\n",
    "print('3rd contraction', Psi2.tensor_type())\n",
    "Psi2 = Psi2.contract(0, tetrad_Mbar, 0)\n",
    "Psi2.apply_map(lambda u: u.taylor(a,0,1))\n",
    "print('4th contraction', Psi2.tensor_type())\n",
    "Psi2 = Psi2.contract(0, tetrad_N, 0)\n",
    "Psi2 = Psi2.expr().taylor(a,0,1)\n",
    "latex_str = r'\\Psi_{2} = W_{\\alpha\\beta\\gamma\\delta}l^{\\alpha}m^{\\beta}\\bar{m}^{\\gamma}n^{\\delta} = ' \n",
    "show(LatexExpr(latex_str), Psi2)\n",
    "clear_output(wait=True)"
   ]
  },
  {
   "cell_type": "markdown",
   "id": "f53038b5",
   "metadata": {},
   "source": [
    "## IV.4. Scalar III"
   ]
  },
  {
   "cell_type": "code",
   "execution_count": null,
   "id": "62169691",
   "metadata": {},
   "outputs": [],
   "source": [
    "print('1st contraction', Weyl_tensor.tensor_type())\n",
    "Psi3 = Weyl_tensor.contract(0, tetrad_L, 0)\n",
    "Psi3.apply_map(lambda u: u.taylor(a,0,1))\n",
    "print('2nd contraction', Psi3.tensor_type())\n",
    "Psi3 = Psi3.contract(0, tetrad_N, 0)\n",
    "Psi3.apply_map(lambda u: u.taylor(a,0,1))\n",
    "print('3rd contraction', Psi3.tensor_type())\n",
    "Psi3 = Psi3.contract(0, tetrad_Mbar, 0)\n",
    "Psi3.apply_map(lambda u: u.taylor(a,0,1))\n",
    "print('4th contraction', Psi3.tensor_type())\n",
    "Psi3 = Psi3.contract(0, tetrad_N, 0)\n",
    "Psi3 = Psi3.expr().taylor(a,0,1)\n",
    "latex_str = r'\\Psi_{3} = W_{\\alpha\\beta\\gamma\\delta}l^{\\alpha}n^{\\beta}\\bar{m}^{\\gamma}n^{\\delta} = ' \n",
    "show(LatexExpr(latex_str), Psi3)\n",
    "clear_output(wait=True)"
   ]
  },
  {
   "cell_type": "markdown",
   "id": "852cf8a0",
   "metadata": {},
   "source": [
    "## IV.5. Scalar IV"
   ]
  },
  {
   "cell_type": "code",
   "execution_count": null,
   "id": "5fcf17b3",
   "metadata": {},
   "outputs": [],
   "source": [
    "print('1st contraction', Weyl_tensor.tensor_type())\n",
    "Psi4 = Weyl_tensor.contract(0, tetrad_N, 0)\n",
    "Psi4.apply_map(lambda u: u.taylor(a,0,1))\n",
    "print('2nd contraction', Psi4.tensor_type())\n",
    "Psi4 = Psi4.contract(0, tetrad_Mbar, 0)\n",
    "Psi4.apply_map(lambda u: u.taylor(a,0,1))\n",
    "print('3rd contraction', Psi4.tensor_type())\n",
    "Psi4 = Psi4.contract(0, tetrad_N, 0)\n",
    "Psi4.apply_map(lambda u: u.taylor(a,0,1))\n",
    "print('4th contraction', Psi4.tensor_type())\n",
    "Psi4 = Psi4.contract(0, tetrad_Mbar, 0)\n",
    "Psi4 = Psi4.expr().taylor(a,0,1)\n",
    "latex_str = r'\\Psi_{4} = W_{\\alpha\\beta\\gamma\\delta}n^{\\alpha}\\bar{m}^{\\beta}n^{\\gamma}\\bar{m}^{\\delta} = ' \n",
    "show(LatexExpr(latex_str), Psi4)\n",
    "clear_output(wait=True)"
   ]
  },
  {
   "cell_type": "markdown",
   "id": "7d98fd32",
   "metadata": {},
   "source": [
    "# V. Characteristics of $\\Psi_{1}$, $\\Psi_{2}$ and $\\Psi_{3}$"
   ]
  },
  {
   "cell_type": "markdown",
   "id": "321e1879",
   "metadata": {},
   "source": [
    "## V.I. Near vacuum limit of $\\Psi_{1}$, $\\Psi_{3}$"
   ]
  },
  {
   "cell_type": "markdown",
   "id": "81dfb0f8",
   "metadata": {},
   "source": [
    "In the case of small $r_{-}$ we can write:"
   ]
  },
  {
   "cell_type": "code",
   "execution_count": null,
   "id": "d92c9efd",
   "metadata": {},
   "outputs": [],
   "source": [
    "show(LatexExpr(r'\\Psi_{1} = '),Psi1.taylor(r_m,0,1),LatexExpr(r' + \\mathcal{O}(r_m^2)'))\n",
    "show(LatexExpr(r'\\Psi_{3} = '),Psi3.taylor(r_m,0,1),LatexExpr(r' + \\mathcal{O}(r_m^2)'))"
   ]
  },
  {
   "cell_type": "markdown",
   "id": "92c5b1f7",
   "metadata": {},
   "source": [
    "By testing for arbitrary values of $r_{m}$ and $r_{p}$ (Sage is unable to determine whether such an expression is imaginary or real in the general case), we observe that $\\Psi_{1}$ and $\\Psi_{3}$ are pure imaginary numbers but not zero! However, in the nearly empty limit these quantites do reduce to zero."
   ]
  },
  {
   "cell_type": "markdown",
   "id": "55a563ef",
   "metadata": {},
   "source": [
    "## V.I. Near vacuum limit of $\\Psi_{2}$"
   ]
  },
  {
   "cell_type": "markdown",
   "id": "ef9d2ec6",
   "metadata": {},
   "source": [
    "Let's check that in the near-vaccum case ($r_{m}=0$), the NP-Weyl scalar $\\Psi_{2}$ has the same expression that in the case of the Kerr truncated solution at first order in $a$:\n",
    "\n",
    "$\\Psi_{2}^{KERR}=-\\frac{{\\left(-2 i \\, Q^{2} + 3 i \\, M r\\right)} a \\cos\\left({\\theta}\\right)}{r^{5}} + \\frac{Q^{2} - M r}{r^{4}}$\n",
    "\n",
    "\n",
    "Let's start from the Kerr truncated solution and replacing $M$ and $Q$ by their expressions, we'll show that we end up with: \n",
    "\n",
    "$\\lim_{r_m \\to 0}\\Psi_{2} = \\Psi_{2}^{KERR}$"
   ]
  },
  {
   "cell_type": "code",
   "execution_count": null,
   "id": "8c149e96",
   "metadata": {},
   "outputs": [],
   "source": [
    "show(LatexExpr('M = '), Ma)\n",
    "show(LatexExpr('Q = '), H)"
   ]
  },
  {
   "cell_type": "code",
   "execution_count": null,
   "id": "9dd61359",
   "metadata": {},
   "outputs": [],
   "source": [
    "Im = -(-2*H**2+3*Ma*r)*a*cos(th)/(r**5)\n",
    "Re = (H**2-Ma*r)/(r**4)\n",
    "show(LatexExpr(r'\\Psi_{2}^{KERR} = '), (Im*I+Re).subs(r_m=0))"
   ]
  },
  {
   "cell_type": "markdown",
   "id": "7e89d265",
   "metadata": {},
   "source": [
    "Finally, we verify"
   ]
  },
  {
   "cell_type": "code",
   "execution_count": null,
   "id": "1a34edb6",
   "metadata": {},
   "outputs": [],
   "source": [
    "show(LatexExpr(r'\\Psi_{2} = '),Psi2.taylor(r_m,0,1),LatexExpr(r' + \\mathcal{O}(r_m^2)'))"
   ]
  },
  {
   "cell_type": "code",
   "execution_count": null,
   "id": "454e1412",
   "metadata": {},
   "outputs": [],
   "source": [
    "show(LatexExpr(r'\\lim_{r_m \\to 0}\\Psi_{2} = '),Psi2.subs(r_m=0),LatexExpr(r' = \\Psi_{2}^{KERR}'))"
   ]
  },
  {
   "cell_type": "markdown",
   "id": "bef58663",
   "metadata": {},
   "source": [
    "So in vacuum, this corresponds to the truncated Kerr solution for slow rotations."
   ]
  },
  {
   "cell_type": "code",
   "execution_count": null,
   "id": "eb20f754-ee61-4ccb-ba40-01c89594110c",
   "metadata": {},
   "outputs": [],
   "source": [
    "clear_output(wait=True)"
   ]
  },
  {
   "cell_type": "markdown",
   "id": "fd2d5267",
   "metadata": {},
   "source": [
    "# In conclusion, we cannot say that we have a type D solution as the NP-Weyl scalars values escape the Petrov classification for both the electric and magnetic cases, but in the nearly empty limit, we recover the Petrov classification of the Kerr solution."
   ]
  },
  {
   "cell_type": "markdown",
   "id": "0e7c47eb",
   "metadata": {},
   "source": [
    "## /!\\ Due to the memory space required to perform these calculations and to facilitate reopening the notebook, we strongly encourage you to delete all outputs (Kernel -> Restart & Clear Output) before closing /!\\"
   ]
  },
  {
   "cell_type": "code",
   "execution_count": null,
   "id": "be05038c",
   "metadata": {},
   "outputs": [],
   "source": []
  }
 ],
 "metadata": {
  "kernelspec": {
   "display_name": "SageMath 10.1",
   "language": "sage",
   "name": "sagemath"
  },
  "language_info": {
   "codemirror_mode": {
    "name": "ipython",
    "version": 3
   },
   "file_extension": ".py",
   "mimetype": "text/x-python",
   "name": "python",
   "nbconvert_exporter": "python",
   "pygments_lexer": "ipython3",
   "version": "3.10.12"
  }
 },
 "nbformat": 4,
 "nbformat_minor": 5
}
