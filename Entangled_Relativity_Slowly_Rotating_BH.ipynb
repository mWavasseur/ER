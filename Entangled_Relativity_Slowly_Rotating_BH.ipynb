{
 "cells": [
  {
   "cell_type": "markdown",
   "id": "be74b5e0",
   "metadata": {},
   "source": [
    "# SLOWLY ROTATING BLACK HOLES IN ENTANGLED RELATIVITY"
   ]
  },
  {
   "cell_type": "markdown",
   "id": "da549019",
   "metadata": {},
   "source": [
    "Entangled relativity (ER) is based on the idea that there can be no space-time without matter, a hypothesis that aligns with and encompasses Mach's principle. Therefore, this new theory serves as an extension of general relativity (GR), providing its predictions in the presence of weak fields. The purpose of this notebook is to test solutions for slowly rotating black holes within the framework of entangled relativity and demonstrate their validity. \n",
    "\n",
    "The ER action reads:\n",
    "\n",
    "$S=-\\frac{\\xi}{2c}\\int d^{4}x\\sqrt{-g}\\frac{\\mathcal{L}_{m}^{2}}{R}$ where $\\xi$ has the dimension of the usual coupling constant of GR $\\kappa=\\frac{8\\pi G}{c^{4}}$ and $\\mathcal{L}_{m}$ is a scalar Lagrangian representing the matter fields. The corresponding equations of motion are:\n",
    "\n",
    "\\begin{eqnarray*}\n",
    "-\\frac{R}{\\mathcal{L}_{m}}T_{\\mu\\nu}+\\frac{R^{2}}{\\mathcal{L}_{m}^{2}}\\left(\\nabla_{\\mu}\\nabla_{\\nu} - g_{\\mu\\nu}\\square\\right)  \\frac{\\mathcal{L}_{m}^{2}}{R^{2}} &=& R_{\\mu\\nu}-\\frac{1}{2}g_{\\mu\\nu}R\\\\\n",
    "\\end{eqnarray*}\n",
    "\n",
    "This action also has a scalar-tensor form: $\\frac{1}{c}\\frac{\\xi}{\\tilde{k}}\\int d^{4}x\\sqrt{-g}\\left[\\frac{\\phi R}{2\\tilde{k}}+\\sqrt{\\phi}\\mathcal{L}_{m}\\right]$ with the motion equations:\n",
    "\n",
    "\\begin{eqnarray}\n",
    "G_{\\mu\\nu} = \\tilde{k} \\frac{T_{\\alpha\\beta}}{\\sqrt{\\phi}}+\\frac{1}{\\phi}\\left[\\nabla_{\\mu}\\nabla_{\\nu} - g_{\\mu\\nu}\\square\\right]\\phi\\hspace{2cm}(1)\n",
    "\\end{eqnarray} \n",
    "\n",
    "where $\\sqrt{\\phi}=-\\tilde{\\kappa}\\mathcal{L}_{m}/R$ and the stress-energy tensor $T_{\\mu\\nu}=-\\frac{2}{\\sqrt{-g}}\\frac{\\partial(\\sqrt{-g}\\mathcal{L}_{m})}{\\partial g^{\\mu\\nu}}$. It can be shown that this scalar-tensor form expressed in the Einstein frame is a special case of a dilaton theory. \n",
    "\n",
    "In the case of slowly rotating black holes, the work of J. H. Horne and T. Horowitz (1992) - Physical Review D provides solutions for arbitrary coupling of the dilaton with the Maxwell field (governed by the free parameter $\\alpha$) that we wish to test here. Knowing that ER corresponds to the particular case of $\\alpha=\\frac{1}{2\\sqrt{3}}$, the metric and the various quantities that come into play (see notebook SLOWLY ROTATING BLACK HOLES) are now written as follows:\n",
    "\n",
    "$\\Psi=\\left[e^{-2\\alpha\\phi}\\right]_{|_{\\alpha=(2\\sqrt{3})^{-1}}}=\\left[\\left(1-\\frac{r_{-}}{r}\\right)^{\\frac{2\\alpha^{2}}{1+\\alpha^{2}}}\\right]_{|_{\\alpha=(2\\sqrt{3})^{-1}}}=\\left(1-\\frac{r_{-}}{r}\\right)^{\\frac{-2}{13}}$ and $\\Phi=\\sqrt{3}\\ln{(\\Psi)}=\\frac{2\\sqrt{3}}{13}\\ln{(1-\\frac{r_{m}}{r})}$\n",
    "\n",
    "The metric becomes:\n",
    "\n",
    "$ds^{2}=-\\lambda^{2}dt^{2}+\\frac{dr^{2}}{\\lambda^{2}}+R^{2}d\\Omega-2af(r)\\sin{\\theta}^{2}dtd\\phi$\n",
    "\n",
    "where $\\lambda^{2}=\\left(1-\\frac{r_{+}}{r}\\right)\\left(1-\\frac{r_{-}}{r}\\right)^{\\frac{11}{13}}$ and $R^{2}=r^{2}\\left(1-\\frac{r_{-}}{r}\\right)^{\\frac{2}{13}}$. The non diagonal term is driven by the function $f(r)$:\n",
    "\n",
    "$f(r)=\\frac{169 r^2 (1-\\frac{r_{-}}{r})^{\\frac{2}{13}}}{99 r_{-}^2} - (1-\\frac{r_{-}}{r})^{\\frac{11}{13}} \\left( 1 + \\frac{169 r^2}{99 r_{-}^2} + \\frac{13r}{11 r_{-}} - \\frac{r_{+}}{r} \\right)\n",
    "$\n",
    "\n",
    "\n",
    "Note also that $A_{t}=\\frac{Q}{r}$, $A_{\\phi}=-a\\sin^2{\\theta}\\frac{Q}{r}$ and $Q=\\left(\\frac{12 r_{+}r_{-}}{13}\\right)$"
   ]
  },
  {
   "cell_type": "code",
   "execution_count": 1,
   "id": "0877badb",
   "metadata": {},
   "outputs": [
    {
     "data": {
      "text/plain": [
       "'SageMath version 10.1, Release Date: 2023-08-20'"
      ]
     },
     "execution_count": 1,
     "metadata": {},
     "output_type": "execute_result"
    }
   ],
   "source": [
    "version()"
   ]
  },
  {
   "cell_type": "code",
   "execution_count": 2,
   "id": "dbb3361b",
   "metadata": {},
   "outputs": [],
   "source": [
    "%display latex"
   ]
  },
  {
   "cell_type": "markdown",
   "id": "25212144",
   "metadata": {},
   "source": [
    "'SageMath version used is 10.1, Release Date: 2023-08-20'"
   ]
  },
  {
   "cell_type": "code",
   "execution_count": 3,
   "id": "9adff967",
   "metadata": {},
   "outputs": [],
   "source": [
    "from sage.manifolds.operators import dalembertian\n",
    "from sage.manifolds.operators import grad"
   ]
  },
  {
   "cell_type": "markdown",
   "id": "0fa005a6",
   "metadata": {},
   "source": [
    "# Definition of a general metric"
   ]
  },
  {
   "cell_type": "code",
   "execution_count": 4,
   "id": "b674c718",
   "metadata": {},
   "outputs": [
    {
     "name": "stdout",
     "output_type": "stream",
     "text": [
      "4-dimensional Lorentzian manifold M\n"
     ]
    }
   ],
   "source": [
    "M = Manifold(4, 'M', structure='Lorentzian')\n",
    "print(M)"
   ]
  },
  {
   "cell_type": "code",
   "execution_count": 5,
   "id": "7cf08b04",
   "metadata": {},
   "outputs": [
    {
     "data": {
      "text/html": [
       "<html>\\(\\displaystyle \\left(M,(t, r, {\\theta}, {\\phi})\\right)\\)</html>"
      ],
      "text/latex": [
       "$\\displaystyle \\left(M,(t, r, {\\theta}, {\\phi})\\right)$"
      ],
      "text/plain": [
       "Chart (M, (t, r, th, ph))"
      ]
     },
     "execution_count": 5,
     "metadata": {},
     "output_type": "execute_result"
    }
   ],
   "source": [
    "X.<t,r,th,ph> = M.chart(r't r:(0,+oo) th:(0,pi):\\theta ph:(0,2*pi):\\phi')\n",
    "X"
   ]
  },
  {
   "cell_type": "code",
   "execution_count": 6,
   "id": "0ea5029f",
   "metadata": {},
   "outputs": [
    {
     "data": {
      "text/html": [
       "<html>\\(\\displaystyle g = U\\left(r\\right) \\mathrm{d} t\\otimes \\mathrm{d} t + Z\\left(r, {\\theta}\\right) \\mathrm{d} t\\otimes \\mathrm{d} {\\phi} + V\\left(r\\right) \\mathrm{d} r\\otimes \\mathrm{d} r + X\\left(r\\right) \\mathrm{d} {\\theta}\\otimes \\mathrm{d} {\\theta} + Z\\left(r, {\\theta}\\right) \\mathrm{d} {\\phi}\\otimes \\mathrm{d} t + Y\\left(r, {\\theta}\\right) \\mathrm{d} {\\phi}\\otimes \\mathrm{d} {\\phi}\\)</html>"
      ],
      "text/latex": [
       "$\\displaystyle g = U\\left(r\\right) \\mathrm{d} t\\otimes \\mathrm{d} t + Z\\left(r, {\\theta}\\right) \\mathrm{d} t\\otimes \\mathrm{d} {\\phi} + V\\left(r\\right) \\mathrm{d} r\\otimes \\mathrm{d} r + X\\left(r\\right) \\mathrm{d} {\\theta}\\otimes \\mathrm{d} {\\theta} + Z\\left(r, {\\theta}\\right) \\mathrm{d} {\\phi}\\otimes \\mathrm{d} t + Y\\left(r, {\\theta}\\right) \\mathrm{d} {\\phi}\\otimes \\mathrm{d} {\\phi}$"
      ],
      "text/plain": [
       "g = U(r) dt⊗dt + Z(r, th) dt⊗dph + V(r) dr⊗dr + X(r) dth⊗dth + Z(r, th) dph⊗dt + Y(r, th) dph⊗dph"
      ]
     },
     "execution_count": 6,
     "metadata": {},
     "output_type": "execute_result"
    }
   ],
   "source": [
    "g = M.metric()\n",
    "a = var('a')\n",
    "U = function('U')\n",
    "V = function('V')\n",
    "X = function('X')\n",
    "Y = function('Y')\n",
    "Z = function('Z')\n",
    "O = function('O')\n",
    "g[0,0] = U(r)\n",
    "g[0,3] = Z(r,th) \n",
    "g[1,1] = V(r)\n",
    "g[2,2] = X(r)\n",
    "g[3,3] = Y(r,th)\n",
    "g[3,0] = Z(r,th) \n",
    "g.display()"
   ]
  },
  {
   "cell_type": "code",
   "execution_count": 7,
   "id": "2d35bda6",
   "metadata": {},
   "outputs": [
    {
     "data": {
      "text/html": [
       "<html>\\(\\displaystyle \\left(\\begin{array}{rrrr}\n",
       "U\\left(r\\right) & 0 & 0 & Z\\left(r, {\\theta}\\right) \\\\\n",
       "0 & V\\left(r\\right) & 0 & 0 \\\\\n",
       "0 & 0 & X\\left(r\\right) & 0 \\\\\n",
       "Z\\left(r, {\\theta}\\right) & 0 & 0 & Y\\left(r, {\\theta}\\right)\n",
       "\\end{array}\\right)\\)</html>"
      ],
      "text/latex": [
       "$\\displaystyle \\left(\\begin{array}{rrrr}\n",
       "U\\left(r\\right) & 0 & 0 & Z\\left(r, {\\theta}\\right) \\\\\n",
       "0 & V\\left(r\\right) & 0 & 0 \\\\\n",
       "0 & 0 & X\\left(r\\right) & 0 \\\\\n",
       "Z\\left(r, {\\theta}\\right) & 0 & 0 & Y\\left(r, {\\theta}\\right)\n",
       "\\end{array}\\right)$"
      ],
      "text/plain": [
       "[    U(r)        0        0 Z(r, th)]\n",
       "[       0     V(r)        0        0]\n",
       "[       0        0     X(r)        0]\n",
       "[Z(r, th)        0        0 Y(r, th)]"
      ]
     },
     "execution_count": 7,
     "metadata": {},
     "output_type": "execute_result"
    }
   ],
   "source": [
    "g[:]"
   ]
  },
  {
   "cell_type": "markdown",
   "id": "eeb9b56d",
   "metadata": {},
   "source": [
    "# Define the expressions of U,V,X,Y,Z and O"
   ]
  },
  {
   "cell_type": "code",
   "execution_count": 8,
   "id": "f52afc49",
   "metadata": {},
   "outputs": [],
   "source": [
    "r_m, r_p, alpha, a = var('r_m r_p alpha a')\n",
    "H=(r_m*r_p/(1+alpha**2))**(1/2)\n",
    "Psi(r) = (1-r_p/r)\n",
    "Phi(r) = (1-r_m/r)\n",
    "A(r)=-Psi(r)*Phi(r)**((1-alpha**2)/(1+alpha**2))\n",
    "B(r)=-A(r)**(-1)\n",
    "C(r)=r**2*Phi(r)**(2*alpha**2/(1+alpha**2))\n",
    "D(r,th)=sin(th)**2*C(r)\n",
    "f(r)=(r**2*(1+alpha**2)**2)*Phi(r)**(2*alpha**2/(1+alpha**2))/(((1-alpha**2)*(1-3*alpha**2)*r_m**2))-Phi(r)**((1-alpha**2)/(1+alpha**2))*(1+(1+alpha**2)**2*r**2/((1-alpha**2)*(1-3*alpha**2)*r_m**2)+(1+alpha**2)*r/((1-alpha**2)*r_m)-r_p/r)\n",
    "E(r,th)=-a*sin(th)**2*f(r)"
   ]
  },
  {
   "cell_type": "markdown",
   "id": "333e8a38",
   "metadata": {},
   "source": [
    "# Conformal transformation"
   ]
  },
  {
   "cell_type": "markdown",
   "id": "2bfeed49",
   "metadata": {},
   "source": [
    "The scalar-tensor form of the theory can be re-expressed in the Einstein frame by performing the conformal transformation $\\tilde{g}_{\\alpha\\beta}=e^{-2\\phi/\\sqrt{3}}g_{\\alpha\\beta}$. The action now reads:\n",
    "\n",
    "$S=\\frac{1}{c}\\frac{\\xi}{\\tilde{k}}\\int d^{4}x\\sqrt{-\\tilde{g}}\\left[\\frac{1}{2\\kappa}\\left(\\tilde{R} -2\\tilde{g}^{\\alpha\\beta}\\partial_{\\alpha}\\phi\\partial_{\\beta}\\phi\\right)-e^{-\\phi/\\sqrt{3}}\\frac{\\tilde{F}^{2}}{2\\mu_{0}}\\right]$\n",
    " \n",
    "We recognize here a special case ($\\alpha=\\frac{1}{2\\sqrt{3}}$) of the general action for standard matter — gravity coupled to a Maxwell field and a dilaton (see notebook SLOWLY ROTATING BLACK HOLES and J. H. Horne and T. Horowitz (1992) - Physical Review D). \n",
    " \n",
    "The idea is now to take the inverse conformal transformation $g_{\\alpha\\beta}=e^{2\\phi/\\sqrt{3}}\\tilde{g}_{\\alpha\\beta}$ of the solutions in the slowly rotating case to obtain their equivalent for the scalar-tensor form and verify them in the ER motion equations (1).\n",
    "\n",
    "So, let's consider the following inverse conformal transformation $g_{\\mu\\nu}=e^{2\\phi/\\sqrt{3}}(r)\\tilde{g}_{\\mu\\nu}$ where $e^{2\\phi/\\sqrt{3}}=\\left((e^{2\\alpha\\phi})|_{\\alpha=(2\\sqrt{3})^{-1}}\\right)^{2}=\\left[\\left(1-\\frac{r_{-}}{r}\\right)^{\\frac{2\\alpha^{2}}{1+\\alpha^{2}}}_{|_{\\alpha=(2\\sqrt{3})^{-1}}}\\right]^{2}=\\left(1-\\frac{r_{-}}{r}\\right)^{\\frac{4\\alpha^{2}}{1+\\alpha^{2}}}_{|_{\\alpha=(2\\sqrt{3})^{-1}}}=\\Omega^{2}(r)$ "
   ]
  },
  {
   "cell_type": "code",
   "execution_count": 9,
   "id": "d62a5221",
   "metadata": {},
   "outputs": [
    {
     "data": {
      "text/html": [
       "<html>\\(\\displaystyle {\\left(-\\frac{r_{m}}{r} + 1\\right)}^{\\frac{2}{13}}\\)</html>"
      ],
      "text/latex": [
       "$\\displaystyle {\\left(-\\frac{r_{m}}{r} + 1\\right)}^{\\frac{2}{13}}$"
      ],
      "text/plain": [
       "(-r_m/r + 1)^(2/13)"
      ]
     },
     "execution_count": 9,
     "metadata": {},
     "output_type": "execute_result"
    }
   ],
   "source": [
    "Omega(r)=(1-r_m/r)**(2*alpha**2/(1+alpha**2))  ;  Omega(r).subs(alpha=1/(2*(3)**(1/2)))"
   ]
  },
  {
   "cell_type": "markdown",
   "id": "03f2f543",
   "metadata": {},
   "source": [
    "We apply this conformal transformation to each element of the metric"
   ]
  },
  {
   "cell_type": "code",
   "execution_count": 10,
   "id": "bed92928",
   "metadata": {},
   "outputs": [
    {
     "data": {
      "text/html": [
       "<html>\\(\\displaystyle g = O\\left(r\\right)^{2} U\\left(r\\right) \\mathrm{d} t\\otimes \\mathrm{d} t + O\\left(r\\right)^{2} Z\\left(r, {\\theta}\\right) \\mathrm{d} t\\otimes \\mathrm{d} {\\phi} + O\\left(r\\right)^{2} V\\left(r\\right) \\mathrm{d} r\\otimes \\mathrm{d} r + O\\left(r\\right)^{2} X\\left(r\\right) \\mathrm{d} {\\theta}\\otimes \\mathrm{d} {\\theta} + O\\left(r\\right)^{2} Z\\left(r, {\\theta}\\right) \\mathrm{d} {\\phi}\\otimes \\mathrm{d} t + O\\left(r\\right)^{2} Y\\left(r, {\\theta}\\right) \\mathrm{d} {\\phi}\\otimes \\mathrm{d} {\\phi}\\)</html>"
      ],
      "text/latex": [
       "$\\displaystyle g = O\\left(r\\right)^{2} U\\left(r\\right) \\mathrm{d} t\\otimes \\mathrm{d} t + O\\left(r\\right)^{2} Z\\left(r, {\\theta}\\right) \\mathrm{d} t\\otimes \\mathrm{d} {\\phi} + O\\left(r\\right)^{2} V\\left(r\\right) \\mathrm{d} r\\otimes \\mathrm{d} r + O\\left(r\\right)^{2} X\\left(r\\right) \\mathrm{d} {\\theta}\\otimes \\mathrm{d} {\\theta} + O\\left(r\\right)^{2} Z\\left(r, {\\theta}\\right) \\mathrm{d} {\\phi}\\otimes \\mathrm{d} t + O\\left(r\\right)^{2} Y\\left(r, {\\theta}\\right) \\mathrm{d} {\\phi}\\otimes \\mathrm{d} {\\phi}$"
      ],
      "text/plain": [
       "g = O(r)^2*U(r) dt⊗dt + O(r)^2*Z(r, th) dt⊗dph + O(r)^2*V(r) dr⊗dr + O(r)^2*X(r) dth⊗dth + O(r)^2*Z(r, th) dph⊗dt + O(r)^2*Y(r, th) dph⊗dph"
      ]
     },
     "execution_count": 10,
     "metadata": {},
     "output_type": "execute_result"
    }
   ],
   "source": [
    "g.apply_map(lambda f: f*O(r)**2) ; g.display()"
   ]
  },
  {
   "cell_type": "markdown",
   "id": "e7a37b25",
   "metadata": {},
   "source": [
    "# Case of the ER, i.e. when $\\alpha=(2\\sqrt{3})^{-1}$"
   ]
  },
  {
   "cell_type": "code",
   "execution_count": 11,
   "id": "ccba56ad",
   "metadata": {},
   "outputs": [
    {
     "data": {
      "text/html": [
       "<html>\\(\\displaystyle h = O\\left(r\\right)^{2} U\\left(r\\right) \\mathrm{d} t\\otimes \\mathrm{d} t + O\\left(r\\right)^{2} Z\\left(r, {\\theta}\\right) \\mathrm{d} t\\otimes \\mathrm{d} {\\phi} + O\\left(r\\right)^{2} V\\left(r\\right) \\mathrm{d} r\\otimes \\mathrm{d} r + O\\left(r\\right)^{2} X\\left(r\\right) \\mathrm{d} {\\theta}\\otimes \\mathrm{d} {\\theta} + O\\left(r\\right)^{2} Z\\left(r, {\\theta}\\right) \\mathrm{d} {\\phi}\\otimes \\mathrm{d} t + O\\left(r\\right)^{2} Y\\left(r, {\\theta}\\right) \\mathrm{d} {\\phi}\\otimes \\mathrm{d} {\\phi}\\)</html>"
      ],
      "text/latex": [
       "$\\displaystyle h = O\\left(r\\right)^{2} U\\left(r\\right) \\mathrm{d} t\\otimes \\mathrm{d} t + O\\left(r\\right)^{2} Z\\left(r, {\\theta}\\right) \\mathrm{d} t\\otimes \\mathrm{d} {\\phi} + O\\left(r\\right)^{2} V\\left(r\\right) \\mathrm{d} r\\otimes \\mathrm{d} r + O\\left(r\\right)^{2} X\\left(r\\right) \\mathrm{d} {\\theta}\\otimes \\mathrm{d} {\\theta} + O\\left(r\\right)^{2} Z\\left(r, {\\theta}\\right) \\mathrm{d} {\\phi}\\otimes \\mathrm{d} t + O\\left(r\\right)^{2} Y\\left(r, {\\theta}\\right) \\mathrm{d} {\\phi}\\otimes \\mathrm{d} {\\phi}$"
      ],
      "text/plain": [
       "h = O(r)^2*U(r) dt⊗dt + O(r)^2*Z(r, th) dt⊗dph + O(r)^2*V(r) dr⊗dr + O(r)^2*X(r) dth⊗dth + O(r)^2*Z(r, th) dph⊗dt + O(r)^2*Y(r, th) dph⊗dph"
      ]
     },
     "execution_count": 11,
     "metadata": {},
     "output_type": "execute_result"
    }
   ],
   "source": [
    "h = g.copy()\n",
    "h.set_name('h')\n",
    "h.display()"
   ]
  },
  {
   "cell_type": "markdown",
   "id": "b72957ac",
   "metadata": {},
   "source": [
    "We substitute the different functions U,V X,Y,Z,Q and Omega in the expression "
   ]
  },
  {
   "cell_type": "code",
   "execution_count": 12,
   "id": "cec2f2d1",
   "metadata": {},
   "outputs": [
    {
     "data": {
      "text/html": [
       "<html>\\(\\displaystyle h = {\\left(-\\frac{r_{m}}{r} + 1\\right)}^{\\frac{15}{13}} {\\left(\\frac{r_{p}}{r} - 1\\right)} \\mathrm{d} t\\otimes \\mathrm{d} t + \\frac{1}{99} \\, {\\left({\\left(\\frac{169 \\, r^{2}}{r_{m}^{2}} + \\frac{117 \\, r}{r_{m}} - \\frac{99 \\, r_{p}}{r} + 99\\right)} {\\left(-\\frac{r_{m}}{r} + 1\\right)}^{\\frac{11}{13}} - \\frac{169 \\, r^{2} {\\left(-\\frac{r_{m}}{r} + 1\\right)}^{\\frac{2}{13}}}{r_{m}^{2}}\\right)} a {\\left(-\\frac{r_{m}}{r} + 1\\right)}^{\\frac{4}{13}} \\sin\\left({\\theta}\\right)^{2} \\mathrm{d} t\\otimes \\mathrm{d} {\\phi} -\\frac{1}{{\\left(-\\frac{r_{m}}{r} + 1\\right)}^{\\frac{7}{13}} {\\left(\\frac{r_{p}}{r} - 1\\right)}} \\mathrm{d} r\\otimes \\mathrm{d} r + r^{2} {\\left(-\\frac{r_{m}}{r} + 1\\right)}^{\\frac{6}{13}} \\mathrm{d} {\\theta}\\otimes \\mathrm{d} {\\theta} + \\frac{1}{99} \\, {\\left({\\left(\\frac{169 \\, r^{2}}{r_{m}^{2}} + \\frac{117 \\, r}{r_{m}} - \\frac{99 \\, r_{p}}{r} + 99\\right)} {\\left(-\\frac{r_{m}}{r} + 1\\right)}^{\\frac{11}{13}} - \\frac{169 \\, r^{2} {\\left(-\\frac{r_{m}}{r} + 1\\right)}^{\\frac{2}{13}}}{r_{m}^{2}}\\right)} a {\\left(-\\frac{r_{m}}{r} + 1\\right)}^{\\frac{4}{13}} \\sin\\left({\\theta}\\right)^{2} \\mathrm{d} {\\phi}\\otimes \\mathrm{d} t + r^{2} {\\left(-\\frac{r_{m}}{r} + 1\\right)}^{\\frac{6}{13}} \\sin\\left({\\theta}\\right)^{2} \\mathrm{d} {\\phi}\\otimes \\mathrm{d} {\\phi}\\)</html>"
      ],
      "text/latex": [
       "$\\displaystyle h = {\\left(-\\frac{r_{m}}{r} + 1\\right)}^{\\frac{15}{13}} {\\left(\\frac{r_{p}}{r} - 1\\right)} \\mathrm{d} t\\otimes \\mathrm{d} t + \\frac{1}{99} \\, {\\left({\\left(\\frac{169 \\, r^{2}}{r_{m}^{2}} + \\frac{117 \\, r}{r_{m}} - \\frac{99 \\, r_{p}}{r} + 99\\right)} {\\left(-\\frac{r_{m}}{r} + 1\\right)}^{\\frac{11}{13}} - \\frac{169 \\, r^{2} {\\left(-\\frac{r_{m}}{r} + 1\\right)}^{\\frac{2}{13}}}{r_{m}^{2}}\\right)} a {\\left(-\\frac{r_{m}}{r} + 1\\right)}^{\\frac{4}{13}} \\sin\\left({\\theta}\\right)^{2} \\mathrm{d} t\\otimes \\mathrm{d} {\\phi} -\\frac{1}{{\\left(-\\frac{r_{m}}{r} + 1\\right)}^{\\frac{7}{13}} {\\left(\\frac{r_{p}}{r} - 1\\right)}} \\mathrm{d} r\\otimes \\mathrm{d} r + r^{2} {\\left(-\\frac{r_{m}}{r} + 1\\right)}^{\\frac{6}{13}} \\mathrm{d} {\\theta}\\otimes \\mathrm{d} {\\theta} + \\frac{1}{99} \\, {\\left({\\left(\\frac{169 \\, r^{2}}{r_{m}^{2}} + \\frac{117 \\, r}{r_{m}} - \\frac{99 \\, r_{p}}{r} + 99\\right)} {\\left(-\\frac{r_{m}}{r} + 1\\right)}^{\\frac{11}{13}} - \\frac{169 \\, r^{2} {\\left(-\\frac{r_{m}}{r} + 1\\right)}^{\\frac{2}{13}}}{r_{m}^{2}}\\right)} a {\\left(-\\frac{r_{m}}{r} + 1\\right)}^{\\frac{4}{13}} \\sin\\left({\\theta}\\right)^{2} \\mathrm{d} {\\phi}\\otimes \\mathrm{d} t + r^{2} {\\left(-\\frac{r_{m}}{r} + 1\\right)}^{\\frac{6}{13}} \\sin\\left({\\theta}\\right)^{2} \\mathrm{d} {\\phi}\\otimes \\mathrm{d} {\\phi}$"
      ],
      "text/plain": [
       "h = (-r_m/r + 1)^(15/13)*(r_p/r - 1) dt⊗dt + 1/99*((169*r^2/r_m^2 + 117*r/r_m - 99*r_p/r + 99)*(-r_m/r + 1)^(11/13) - 169*r^2*(-r_m/r + 1)^(2/13)/r_m^2)*a*(-r_m/r + 1)^(4/13)*sin(th)^2 dt⊗dph - 1/((-r_m/r + 1)^(7/13)*(r_p/r - 1)) dr⊗dr + r^2*(-r_m/r + 1)^(6/13) dth⊗dth + 1/99*((169*r^2/r_m^2 + 117*r/r_m - 99*r_p/r + 99)*(-r_m/r + 1)^(11/13) - 169*r^2*(-r_m/r + 1)^(2/13)/r_m^2)*a*(-r_m/r + 1)^(4/13)*sin(th)^2 dph⊗dt + r^2*(-r_m/r + 1)^(6/13)*sin(th)^2 dph⊗dph"
      ]
     },
     "execution_count": 12,
     "metadata": {},
     "output_type": "execute_result"
    }
   ],
   "source": [
    "h.apply_map(lambda f: f.substitute_function(U, A).substitute_function(V, B).substitute_function(X, C).substitute_function(Y, D).substitute_function(Z, E)) \n",
    "h.apply_map(lambda f: f.substitute_function(O,Omega).subs(alpha=1/(2*(3)**(1/2))))\n",
    "h.display()"
   ]
  },
  {
   "cell_type": "markdown",
   "id": "8b22c058",
   "metadata": {},
   "source": [
    "# The vector potential"
   ]
  },
  {
   "cell_type": "code",
   "execution_count": 13,
   "id": "2c502531",
   "metadata": {},
   "outputs": [],
   "source": [
    "nab = g.connection() "
   ]
  },
  {
   "cell_type": "code",
   "execution_count": 14,
   "id": "b17edc74",
   "metadata": {},
   "outputs": [
    {
     "data": {
      "text/html": [
       "<html>\\(\\displaystyle A = \\frac{Q}{r} \\mathrm{d} t -\\frac{Q a \\sin\\left({\\theta}\\right)^{2}}{r} \\mathrm{d} {\\phi}\\)</html>"
      ],
      "text/latex": [
       "$\\displaystyle A = \\frac{Q}{r} \\mathrm{d} t -\\frac{Q a \\sin\\left({\\theta}\\right)^{2}}{r} \\mathrm{d} {\\phi}$"
      ],
      "text/plain": [
       "A = Q/r dt - Q*a*sin(th)^2/r dph"
      ]
     },
     "execution_count": 14,
     "metadata": {},
     "output_type": "execute_result"
    }
   ],
   "source": [
    "#we define here the potential vector field\n",
    "pot_vec = M.tensor_field(0,1,name='A')\n",
    "Q=var('Q')\n",
    "pot_vec[0]=Q/r\n",
    "pot_vec[1]=0\n",
    "pot_vec[2]=0\n",
    "pot_vec[3]=-a*sin(th)**2*(Q/r)\n",
    "pot_vec.display()"
   ]
  },
  {
   "cell_type": "markdown",
   "id": "c74d5385",
   "metadata": {},
   "source": [
    "# Definition of the EM tensor"
   ]
  },
  {
   "cell_type": "markdown",
   "id": "ce9727a3",
   "metadata": {},
   "source": [
    "Let's now define the EM tensor:\n",
    "\n",
    "$F_{\\mu\\nu}=\\partial_{\\mu}A_{\\nu}-\\partial_{\\nu}A_{\\mu}$\n",
    "\n",
    "It can be obtained directly as the exterior derivative of the potential vector $A$ via the function `diff`\n",
    "(or the method `exterior_derivative`)"
   ]
  },
  {
   "cell_type": "code",
   "execution_count": 15,
   "id": "4c246ebc",
   "metadata": {},
   "outputs": [
    {
     "data": {
      "text/html": [
       "<html>\\(\\displaystyle F = \\frac{Q}{r^{2}} \\mathrm{d} t\\wedge \\mathrm{d} r + \\frac{Q a \\sin\\left({\\theta}\\right)^{2}}{r^{2}} \\mathrm{d} r\\wedge \\mathrm{d} {\\phi} -\\frac{2 \\, Q a \\cos\\left({\\theta}\\right) \\sin\\left({\\theta}\\right)}{r} \\mathrm{d} {\\theta}\\wedge \\mathrm{d} {\\phi}\\)</html>"
      ],
      "text/latex": [
       "$\\displaystyle F = \\frac{Q}{r^{2}} \\mathrm{d} t\\wedge \\mathrm{d} r + \\frac{Q a \\sin\\left({\\theta}\\right)^{2}}{r^{2}} \\mathrm{d} r\\wedge \\mathrm{d} {\\phi} -\\frac{2 \\, Q a \\cos\\left({\\theta}\\right) \\sin\\left({\\theta}\\right)}{r} \\mathrm{d} {\\theta}\\wedge \\mathrm{d} {\\phi}$"
      ],
      "text/plain": [
       "F = Q/r^2 dt∧dr + Q*a*sin(th)^2/r^2 dr∧dph - 2*Q*a*cos(th)*sin(th)/r dth∧dph"
      ]
     },
     "execution_count": 15,
     "metadata": {},
     "output_type": "execute_result"
    }
   ],
   "source": [
    "F = diff(pot_vec)\n",
    "F.set_name('F')\n",
    "Fuu = F.up(g)\n",
    "F.display()"
   ]
  },
  {
   "cell_type": "markdown",
   "id": "9c8450db",
   "metadata": {},
   "source": [
    "# The first component of the motion equation (1) : the stress-energy tensor $T_{\\mu\\nu}=2\\left(F_{\\rho\\mu}F^{\\rho}_{\\hspace{0.2cm}\\nu}-\\frac{1}{4}g_{\\mu\\nu}F^{2}\\right)$ "
   ]
  },
  {
   "cell_type": "code",
   "execution_count": 16,
   "id": "f5c732a0-ba56-4600-9a81-3db345cda658",
   "metadata": {},
   "outputs": [
    {
     "data": {
      "text/html": [
       "<html>\\(\\displaystyle \\begin{array}{llcl} & M & \\longrightarrow & \\mathbb{R} \\\\ & \\left(t, r, {\\theta}, {\\phi}\\right) & \\longmapsto & \\frac{2 \\, {\\left(Q^{2} a^{2} U\\left(r\\right) X\\left(r\\right) \\sin\\left({\\theta}\\right)^{4} + Q^{2} X\\left(r\\right) Y\\left(r, {\\theta}\\right) + 2 \\, {\\left(2 \\, Q^{2} a^{2} r^{2} U\\left(r\\right) V\\left(r\\right) \\cos\\left({\\theta}\\right)^{2} + Q^{2} a X\\left(r\\right) Z\\left(r, {\\theta}\\right)\\right)} \\sin\\left({\\theta}\\right)^{2}\\right)}}{r^{4} O\\left(r\\right)^{4} U\\left(r\\right) V\\left(r\\right) X\\left(r\\right) Y\\left(r, {\\theta}\\right) - r^{4} O\\left(r\\right)^{4} V\\left(r\\right) X\\left(r\\right) Z\\left(r, {\\theta}\\right)^{2}} \\end{array}\\)</html>"
      ],
      "text/latex": [
       "$\\displaystyle \\begin{array}{llcl} & M & \\longrightarrow & \\mathbb{R} \\\\ & \\left(t, r, {\\theta}, {\\phi}\\right) & \\longmapsto & \\frac{2 \\, {\\left(Q^{2} a^{2} U\\left(r\\right) X\\left(r\\right) \\sin\\left({\\theta}\\right)^{4} + Q^{2} X\\left(r\\right) Y\\left(r, {\\theta}\\right) + 2 \\, {\\left(2 \\, Q^{2} a^{2} r^{2} U\\left(r\\right) V\\left(r\\right) \\cos\\left({\\theta}\\right)^{2} + Q^{2} a X\\left(r\\right) Z\\left(r, {\\theta}\\right)\\right)} \\sin\\left({\\theta}\\right)^{2}\\right)}}{r^{4} O\\left(r\\right)^{4} U\\left(r\\right) V\\left(r\\right) X\\left(r\\right) Y\\left(r, {\\theta}\\right) - r^{4} O\\left(r\\right)^{4} V\\left(r\\right) X\\left(r\\right) Z\\left(r, {\\theta}\\right)^{2}} \\end{array}$"
      ],
      "text/plain": [
       "M → ℝ\n",
       "(t, r, th, ph) ↦ 2*(Q^2*a^2*U(r)*X(r)*sin(th)^4 + Q^2*X(r)*Y(r, th) + 2*(2*Q^2*a^2*r^2*U(r)*V(r)*cos(th)^2 + Q^2*a*X(r)*Z(r, th))*sin(th)^2)/(r^4*O(r)^4*U(r)*V(r)*X(r)*Y(r, th) - r^4*O(r)^4*V(r)*X(r)*Z(r, th)^2)"
      ]
     },
     "execution_count": 16,
     "metadata": {},
     "output_type": "execute_result"
    }
   ],
   "source": [
    "Fuu = F.up(g)\n",
    "F2 = F['_ab']*Fuu['^ab'] ; F2.display()"
   ]
  },
  {
   "cell_type": "code",
   "execution_count": 17,
   "id": "4195a2fb",
   "metadata": {},
   "outputs": [
    {
     "data": {
      "text/html": [
       "<html>\\(\\displaystyle \\left( -\\frac{Q^{2} a^{2} U\\left(r\\right)^{2} X\\left(r\\right) \\sin\\left({\\theta}\\right)^{4} - Q^{2} U\\left(r\\right) X\\left(r\\right) Y\\left(r, {\\theta}\\right) + 2 \\, Q^{2} X\\left(r\\right) Z\\left(r, {\\theta}\\right)^{2} + 2 \\, {\\left(2 \\, Q^{2} a^{2} r^{2} U\\left(r\\right)^{2} V\\left(r\\right) \\cos\\left({\\theta}\\right)^{2} + Q^{2} a U\\left(r\\right) X\\left(r\\right) Z\\left(r, {\\theta}\\right)\\right)} \\sin\\left({\\theta}\\right)^{2}}{r^{4} O\\left(r\\right)^{2} U\\left(r\\right) V\\left(r\\right) X\\left(r\\right) Y\\left(r, {\\theta}\\right) - r^{4} O\\left(r\\right)^{2} V\\left(r\\right) X\\left(r\\right) Z\\left(r, {\\theta}\\right)^{2}} \\right) \\mathrm{d} t\\otimes \\mathrm{d} t + \\left( -\\frac{Q^{2} a^{2} U\\left(r\\right) X\\left(r\\right) Z\\left(r, {\\theta}\\right) \\sin\\left({\\theta}\\right)^{4} + Q^{2} X\\left(r\\right) Y\\left(r, {\\theta}\\right) Z\\left(r, {\\theta}\\right) + 2 \\, {\\left(2 \\, Q^{2} a^{2} r^{2} U\\left(r\\right) V\\left(r\\right) Z\\left(r, {\\theta}\\right) \\cos\\left({\\theta}\\right)^{2} + Q^{2} a U\\left(r\\right) X\\left(r\\right) Y\\left(r, {\\theta}\\right)\\right)} \\sin\\left({\\theta}\\right)^{2}}{r^{4} O\\left(r\\right)^{2} U\\left(r\\right) V\\left(r\\right) X\\left(r\\right) Y\\left(r, {\\theta}\\right) - r^{4} O\\left(r\\right)^{2} V\\left(r\\right) X\\left(r\\right) Z\\left(r, {\\theta}\\right)^{2}} \\right) \\mathrm{d} t\\otimes \\mathrm{d} {\\phi} + \\left( \\frac{Q^{2} a^{2} U\\left(r\\right) X\\left(r\\right) \\sin\\left({\\theta}\\right)^{4} + Q^{2} X\\left(r\\right) Y\\left(r, {\\theta}\\right) - 2 \\, {\\left(2 \\, Q^{2} a^{2} r^{2} U\\left(r\\right) V\\left(r\\right) \\cos\\left({\\theta}\\right)^{2} - Q^{2} a X\\left(r\\right) Z\\left(r, {\\theta}\\right)\\right)} \\sin\\left({\\theta}\\right)^{2}}{r^{4} O\\left(r\\right)^{2} U\\left(r\\right) X\\left(r\\right) Y\\left(r, {\\theta}\\right) - r^{4} O\\left(r\\right)^{2} X\\left(r\\right) Z\\left(r, {\\theta}\\right)^{2}} \\right) \\mathrm{d} r\\otimes \\mathrm{d} r + \\left( -\\frac{4 \\, {\\left(Q^{2} a^{2} U\\left(r\\right) \\cos\\left({\\theta}\\right) \\sin\\left({\\theta}\\right)^{3} + Q^{2} a Z\\left(r, {\\theta}\\right) \\cos\\left({\\theta}\\right) \\sin\\left({\\theta}\\right)\\right)}}{r^{3} O\\left(r\\right)^{2} U\\left(r\\right) Y\\left(r, {\\theta}\\right) - r^{3} O\\left(r\\right)^{2} Z\\left(r, {\\theta}\\right)^{2}} \\right) \\mathrm{d} r\\otimes \\mathrm{d} {\\theta} + \\left( -\\frac{4 \\, {\\left(Q^{2} a^{2} U\\left(r\\right) \\cos\\left({\\theta}\\right) \\sin\\left({\\theta}\\right)^{3} + Q^{2} a Z\\left(r, {\\theta}\\right) \\cos\\left({\\theta}\\right) \\sin\\left({\\theta}\\right)\\right)}}{r^{3} O\\left(r\\right)^{2} U\\left(r\\right) Y\\left(r, {\\theta}\\right) - r^{3} O\\left(r\\right)^{2} Z\\left(r, {\\theta}\\right)^{2}} \\right) \\mathrm{d} {\\theta}\\otimes \\mathrm{d} r + \\left( -\\frac{Q^{2} a^{2} U\\left(r\\right) X\\left(r\\right) \\sin\\left({\\theta}\\right)^{4} + Q^{2} X\\left(r\\right) Y\\left(r, {\\theta}\\right) - 2 \\, {\\left(2 \\, Q^{2} a^{2} r^{2} U\\left(r\\right) V\\left(r\\right) \\cos\\left({\\theta}\\right)^{2} - Q^{2} a X\\left(r\\right) Z\\left(r, {\\theta}\\right)\\right)} \\sin\\left({\\theta}\\right)^{2}}{r^{4} O\\left(r\\right)^{2} U\\left(r\\right) V\\left(r\\right) Y\\left(r, {\\theta}\\right) - r^{4} O\\left(r\\right)^{2} V\\left(r\\right) Z\\left(r, {\\theta}\\right)^{2}} \\right) \\mathrm{d} {\\theta}\\otimes \\mathrm{d} {\\theta} + \\left( -\\frac{Q^{2} a^{2} U\\left(r\\right) X\\left(r\\right) Z\\left(r, {\\theta}\\right) \\sin\\left({\\theta}\\right)^{4} + Q^{2} X\\left(r\\right) Y\\left(r, {\\theta}\\right) Z\\left(r, {\\theta}\\right) + 2 \\, {\\left(2 \\, Q^{2} a^{2} r^{2} U\\left(r\\right) V\\left(r\\right) Z\\left(r, {\\theta}\\right) \\cos\\left({\\theta}\\right)^{2} + Q^{2} a U\\left(r\\right) X\\left(r\\right) Y\\left(r, {\\theta}\\right)\\right)} \\sin\\left({\\theta}\\right)^{2}}{r^{4} O\\left(r\\right)^{2} U\\left(r\\right) V\\left(r\\right) X\\left(r\\right) Y\\left(r, {\\theta}\\right) - r^{4} O\\left(r\\right)^{2} V\\left(r\\right) X\\left(r\\right) Z\\left(r, {\\theta}\\right)^{2}} \\right) \\mathrm{d} {\\phi}\\otimes \\mathrm{d} t + \\left( -\\frac{Q^{2} X\\left(r\\right) Y\\left(r, {\\theta}\\right)^{2} - {\\left(Q^{2} a^{2} U\\left(r\\right) X\\left(r\\right) Y\\left(r, {\\theta}\\right) - 2 \\, Q^{2} a^{2} X\\left(r\\right) Z\\left(r, {\\theta}\\right)^{2}\\right)} \\sin\\left({\\theta}\\right)^{4} + 2 \\, {\\left(Q^{2} a X\\left(r\\right) Y\\left(r, {\\theta}\\right) Z\\left(r, {\\theta}\\right) - 2 \\, {\\left(Q^{2} a^{2} r^{2} U\\left(r\\right) V\\left(r\\right) Y\\left(r, {\\theta}\\right) - 2 \\, Q^{2} a^{2} r^{2} V\\left(r\\right) Z\\left(r, {\\theta}\\right)^{2}\\right)} \\cos\\left({\\theta}\\right)^{2}\\right)} \\sin\\left({\\theta}\\right)^{2}}{r^{4} O\\left(r\\right)^{2} U\\left(r\\right) V\\left(r\\right) X\\left(r\\right) Y\\left(r, {\\theta}\\right) - r^{4} O\\left(r\\right)^{2} V\\left(r\\right) X\\left(r\\right) Z\\left(r, {\\theta}\\right)^{2}} \\right) \\mathrm{d} {\\phi}\\otimes \\mathrm{d} {\\phi}\\)</html>"
      ],
      "text/latex": [
       "$\\displaystyle \\left( -\\frac{Q^{2} a^{2} U\\left(r\\right)^{2} X\\left(r\\right) \\sin\\left({\\theta}\\right)^{4} - Q^{2} U\\left(r\\right) X\\left(r\\right) Y\\left(r, {\\theta}\\right) + 2 \\, Q^{2} X\\left(r\\right) Z\\left(r, {\\theta}\\right)^{2} + 2 \\, {\\left(2 \\, Q^{2} a^{2} r^{2} U\\left(r\\right)^{2} V\\left(r\\right) \\cos\\left({\\theta}\\right)^{2} + Q^{2} a U\\left(r\\right) X\\left(r\\right) Z\\left(r, {\\theta}\\right)\\right)} \\sin\\left({\\theta}\\right)^{2}}{r^{4} O\\left(r\\right)^{2} U\\left(r\\right) V\\left(r\\right) X\\left(r\\right) Y\\left(r, {\\theta}\\right) - r^{4} O\\left(r\\right)^{2} V\\left(r\\right) X\\left(r\\right) Z\\left(r, {\\theta}\\right)^{2}} \\right) \\mathrm{d} t\\otimes \\mathrm{d} t + \\left( -\\frac{Q^{2} a^{2} U\\left(r\\right) X\\left(r\\right) Z\\left(r, {\\theta}\\right) \\sin\\left({\\theta}\\right)^{4} + Q^{2} X\\left(r\\right) Y\\left(r, {\\theta}\\right) Z\\left(r, {\\theta}\\right) + 2 \\, {\\left(2 \\, Q^{2} a^{2} r^{2} U\\left(r\\right) V\\left(r\\right) Z\\left(r, {\\theta}\\right) \\cos\\left({\\theta}\\right)^{2} + Q^{2} a U\\left(r\\right) X\\left(r\\right) Y\\left(r, {\\theta}\\right)\\right)} \\sin\\left({\\theta}\\right)^{2}}{r^{4} O\\left(r\\right)^{2} U\\left(r\\right) V\\left(r\\right) X\\left(r\\right) Y\\left(r, {\\theta}\\right) - r^{4} O\\left(r\\right)^{2} V\\left(r\\right) X\\left(r\\right) Z\\left(r, {\\theta}\\right)^{2}} \\right) \\mathrm{d} t\\otimes \\mathrm{d} {\\phi} + \\left( \\frac{Q^{2} a^{2} U\\left(r\\right) X\\left(r\\right) \\sin\\left({\\theta}\\right)^{4} + Q^{2} X\\left(r\\right) Y\\left(r, {\\theta}\\right) - 2 \\, {\\left(2 \\, Q^{2} a^{2} r^{2} U\\left(r\\right) V\\left(r\\right) \\cos\\left({\\theta}\\right)^{2} - Q^{2} a X\\left(r\\right) Z\\left(r, {\\theta}\\right)\\right)} \\sin\\left({\\theta}\\right)^{2}}{r^{4} O\\left(r\\right)^{2} U\\left(r\\right) X\\left(r\\right) Y\\left(r, {\\theta}\\right) - r^{4} O\\left(r\\right)^{2} X\\left(r\\right) Z\\left(r, {\\theta}\\right)^{2}} \\right) \\mathrm{d} r\\otimes \\mathrm{d} r + \\left( -\\frac{4 \\, {\\left(Q^{2} a^{2} U\\left(r\\right) \\cos\\left({\\theta}\\right) \\sin\\left({\\theta}\\right)^{3} + Q^{2} a Z\\left(r, {\\theta}\\right) \\cos\\left({\\theta}\\right) \\sin\\left({\\theta}\\right)\\right)}}{r^{3} O\\left(r\\right)^{2} U\\left(r\\right) Y\\left(r, {\\theta}\\right) - r^{3} O\\left(r\\right)^{2} Z\\left(r, {\\theta}\\right)^{2}} \\right) \\mathrm{d} r\\otimes \\mathrm{d} {\\theta} + \\left( -\\frac{4 \\, {\\left(Q^{2} a^{2} U\\left(r\\right) \\cos\\left({\\theta}\\right) \\sin\\left({\\theta}\\right)^{3} + Q^{2} a Z\\left(r, {\\theta}\\right) \\cos\\left({\\theta}\\right) \\sin\\left({\\theta}\\right)\\right)}}{r^{3} O\\left(r\\right)^{2} U\\left(r\\right) Y\\left(r, {\\theta}\\right) - r^{3} O\\left(r\\right)^{2} Z\\left(r, {\\theta}\\right)^{2}} \\right) \\mathrm{d} {\\theta}\\otimes \\mathrm{d} r + \\left( -\\frac{Q^{2} a^{2} U\\left(r\\right) X\\left(r\\right) \\sin\\left({\\theta}\\right)^{4} + Q^{2} X\\left(r\\right) Y\\left(r, {\\theta}\\right) - 2 \\, {\\left(2 \\, Q^{2} a^{2} r^{2} U\\left(r\\right) V\\left(r\\right) \\cos\\left({\\theta}\\right)^{2} - Q^{2} a X\\left(r\\right) Z\\left(r, {\\theta}\\right)\\right)} \\sin\\left({\\theta}\\right)^{2}}{r^{4} O\\left(r\\right)^{2} U\\left(r\\right) V\\left(r\\right) Y\\left(r, {\\theta}\\right) - r^{4} O\\left(r\\right)^{2} V\\left(r\\right) Z\\left(r, {\\theta}\\right)^{2}} \\right) \\mathrm{d} {\\theta}\\otimes \\mathrm{d} {\\theta} + \\left( -\\frac{Q^{2} a^{2} U\\left(r\\right) X\\left(r\\right) Z\\left(r, {\\theta}\\right) \\sin\\left({\\theta}\\right)^{4} + Q^{2} X\\left(r\\right) Y\\left(r, {\\theta}\\right) Z\\left(r, {\\theta}\\right) + 2 \\, {\\left(2 \\, Q^{2} a^{2} r^{2} U\\left(r\\right) V\\left(r\\right) Z\\left(r, {\\theta}\\right) \\cos\\left({\\theta}\\right)^{2} + Q^{2} a U\\left(r\\right) X\\left(r\\right) Y\\left(r, {\\theta}\\right)\\right)} \\sin\\left({\\theta}\\right)^{2}}{r^{4} O\\left(r\\right)^{2} U\\left(r\\right) V\\left(r\\right) X\\left(r\\right) Y\\left(r, {\\theta}\\right) - r^{4} O\\left(r\\right)^{2} V\\left(r\\right) X\\left(r\\right) Z\\left(r, {\\theta}\\right)^{2}} \\right) \\mathrm{d} {\\phi}\\otimes \\mathrm{d} t + \\left( -\\frac{Q^{2} X\\left(r\\right) Y\\left(r, {\\theta}\\right)^{2} - {\\left(Q^{2} a^{2} U\\left(r\\right) X\\left(r\\right) Y\\left(r, {\\theta}\\right) - 2 \\, Q^{2} a^{2} X\\left(r\\right) Z\\left(r, {\\theta}\\right)^{2}\\right)} \\sin\\left({\\theta}\\right)^{4} + 2 \\, {\\left(Q^{2} a X\\left(r\\right) Y\\left(r, {\\theta}\\right) Z\\left(r, {\\theta}\\right) - 2 \\, {\\left(Q^{2} a^{2} r^{2} U\\left(r\\right) V\\left(r\\right) Y\\left(r, {\\theta}\\right) - 2 \\, Q^{2} a^{2} r^{2} V\\left(r\\right) Z\\left(r, {\\theta}\\right)^{2}\\right)} \\cos\\left({\\theta}\\right)^{2}\\right)} \\sin\\left({\\theta}\\right)^{2}}{r^{4} O\\left(r\\right)^{2} U\\left(r\\right) V\\left(r\\right) X\\left(r\\right) Y\\left(r, {\\theta}\\right) - r^{4} O\\left(r\\right)^{2} V\\left(r\\right) X\\left(r\\right) Z\\left(r, {\\theta}\\right)^{2}} \\right) \\mathrm{d} {\\phi}\\otimes \\mathrm{d} {\\phi}$"
      ],
      "text/plain": [
       "-(Q^2*a^2*U(r)^2*X(r)*sin(th)^4 - Q^2*U(r)*X(r)*Y(r, th) + 2*Q^2*X(r)*Z(r, th)^2 + 2*(2*Q^2*a^2*r^2*U(r)^2*V(r)*cos(th)^2 + Q^2*a*U(r)*X(r)*Z(r, th))*sin(th)^2)/(r^4*O(r)^2*U(r)*V(r)*X(r)*Y(r, th) - r^4*O(r)^2*V(r)*X(r)*Z(r, th)^2) dt⊗dt - (Q^2*a^2*U(r)*X(r)*Z(r, th)*sin(th)^4 + Q^2*X(r)*Y(r, th)*Z(r, th) + 2*(2*Q^2*a^2*r^2*U(r)*V(r)*Z(r, th)*cos(th)^2 + Q^2*a*U(r)*X(r)*Y(r, th))*sin(th)^2)/(r^4*O(r)^2*U(r)*V(r)*X(r)*Y(r, th) - r^4*O(r)^2*V(r)*X(r)*Z(r, th)^2) dt⊗dph + (Q^2*a^2*U(r)*X(r)*sin(th)^4 + Q^2*X(r)*Y(r, th) - 2*(2*Q^2*a^2*r^2*U(r)*V(r)*cos(th)^2 - Q^2*a*X(r)*Z(r, th))*sin(th)^2)/(r^4*O(r)^2*U(r)*X(r)*Y(r, th) - r^4*O(r)^2*X(r)*Z(r, th)^2) dr⊗dr - 4*(Q^2*a^2*U(r)*cos(th)*sin(th)^3 + Q^2*a*Z(r, th)*cos(th)*sin(th))/(r^3*O(r)^2*U(r)*Y(r, th) - r^3*O(r)^2*Z(r, th)^2) dr⊗dth - 4*(Q^2*a^2*U(r)*cos(th)*sin(th)^3 + Q^2*a*Z(r, th)*cos(th)*sin(th))/(r^3*O(r)^2*U(r)*Y(r, th) - r^3*O(r)^2*Z(r, th)^2) dth⊗dr - (Q^2*a^2*U(r)*X(r)*sin(th)^4 + Q^2*X(r)*Y(r, th) - 2*(2*Q^2*a^2*r^2*U(r)*V(r)*cos(th)^2 - Q^2*a*X(r)*Z(r, th))*sin(th)^2)/(r^4*O(r)^2*U(r)*V(r)*Y(r, th) - r^4*O(r)^2*V(r)*Z(r, th)^2) dth⊗dth - (Q^2*a^2*U(r)*X(r)*Z(r, th)*sin(th)^4 + Q^2*X(r)*Y(r, th)*Z(r, th) + 2*(2*Q^2*a^2*r^2*U(r)*V(r)*Z(r, th)*cos(th)^2 + Q^2*a*U(r)*X(r)*Y(r, th))*sin(th)^2)/(r^4*O(r)^2*U(r)*V(r)*X(r)*Y(r, th) - r^4*O(r)^2*V(r)*X(r)*Z(r, th)^2) dph⊗dt - (Q^2*X(r)*Y(r, th)^2 - (Q^2*a^2*U(r)*X(r)*Y(r, th) - 2*Q^2*a^2*X(r)*Z(r, th)^2)*sin(th)^4 + 2*(Q^2*a*X(r)*Y(r, th)*Z(r, th) - 2*(Q^2*a^2*r^2*U(r)*V(r)*Y(r, th) - 2*Q^2*a^2*r^2*V(r)*Z(r, th)^2)*cos(th)^2)*sin(th)^2)/(r^4*O(r)^2*U(r)*V(r)*X(r)*Y(r, th) - r^4*O(r)^2*V(r)*X(r)*Z(r, th)^2) dph⊗dph"
      ]
     },
     "execution_count": 17,
     "metadata": {},
     "output_type": "execute_result"
    }
   ],
   "source": [
    "Fud = F.up(g,0)\n",
    "T = 2*(F['_k.']*Fud['^k_.'] - 1/4*F2 * g)\n",
    "T.display()"
   ]
  },
  {
   "cell_type": "markdown",
   "id": "5140a8c6",
   "metadata": {},
   "source": [
    "Let's now define the stress-energy tensor"
   ]
  },
  {
   "cell_type": "code",
   "execution_count": 18,
   "id": "fb04d112-9255-4552-90b6-cad73ca07786",
   "metadata": {},
   "outputs": [
    {
     "data": {
      "text/html": [
       "<html>\\(\\displaystyle \\left( -\\frac{2 \\, Q^{2} a U\\left(r\\right) Z\\left(r, {\\theta}\\right) \\sin\\left({\\theta}\\right)^{2}}{r^{4} O\\left(r\\right)^{2} U\\left(r\\right) V\\left(r\\right) Y\\left(r, {\\theta}\\right) - r^{4} O\\left(r\\right)^{2} V\\left(r\\right) Z\\left(r, {\\theta}\\right)^{2}} + \\frac{Q^{2} U\\left(r\\right) Y\\left(r, {\\theta}\\right) - 2 \\, Q^{2} Z\\left(r, {\\theta}\\right)^{2}}{r^{4} O\\left(r\\right)^{2} U\\left(r\\right) V\\left(r\\right) Y\\left(r, {\\theta}\\right) - r^{4} O\\left(r\\right)^{2} V\\left(r\\right) Z\\left(r, {\\theta}\\right)^{2}} \\right) \\mathrm{d} t\\otimes \\mathrm{d} t + \\left( -\\frac{2 \\, Q^{2} a U\\left(r\\right) Y\\left(r, {\\theta}\\right) \\sin\\left({\\theta}\\right)^{2}}{r^{4} O\\left(r\\right)^{2} U\\left(r\\right) V\\left(r\\right) Y\\left(r, {\\theta}\\right) - r^{4} O\\left(r\\right)^{2} V\\left(r\\right) Z\\left(r, {\\theta}\\right)^{2}} - \\frac{Q^{2} Y\\left(r, {\\theta}\\right) Z\\left(r, {\\theta}\\right)}{r^{4} O\\left(r\\right)^{2} U\\left(r\\right) V\\left(r\\right) Y\\left(r, {\\theta}\\right) - r^{4} O\\left(r\\right)^{2} V\\left(r\\right) Z\\left(r, {\\theta}\\right)^{2}} \\right) \\mathrm{d} t\\otimes \\mathrm{d} {\\phi} + \\left( \\frac{2 \\, Q^{2} a Z\\left(r, {\\theta}\\right) \\sin\\left({\\theta}\\right)^{2}}{r^{4} O\\left(r\\right)^{2} U\\left(r\\right) Y\\left(r, {\\theta}\\right) - r^{4} O\\left(r\\right)^{2} Z\\left(r, {\\theta}\\right)^{2}} + \\frac{Q^{2} Y\\left(r, {\\theta}\\right)}{r^{4} O\\left(r\\right)^{2} U\\left(r\\right) Y\\left(r, {\\theta}\\right) - r^{4} O\\left(r\\right)^{2} Z\\left(r, {\\theta}\\right)^{2}} \\right) \\mathrm{d} r\\otimes \\mathrm{d} r + \\left( -\\frac{4 \\, Q^{2} a Z\\left(r, {\\theta}\\right) \\cos\\left({\\theta}\\right) \\sin\\left({\\theta}\\right)}{r^{3} O\\left(r\\right)^{2} U\\left(r\\right) Y\\left(r, {\\theta}\\right) - r^{3} O\\left(r\\right)^{2} Z\\left(r, {\\theta}\\right)^{2}} \\right) \\mathrm{d} r\\otimes \\mathrm{d} {\\theta} + \\left( -\\frac{4 \\, Q^{2} a Z\\left(r, {\\theta}\\right) \\cos\\left({\\theta}\\right) \\sin\\left({\\theta}\\right)}{r^{3} O\\left(r\\right)^{2} U\\left(r\\right) Y\\left(r, {\\theta}\\right) - r^{3} O\\left(r\\right)^{2} Z\\left(r, {\\theta}\\right)^{2}} \\right) \\mathrm{d} {\\theta}\\otimes \\mathrm{d} r + \\left( -\\frac{2 \\, Q^{2} a X\\left(r\\right) Z\\left(r, {\\theta}\\right) \\sin\\left({\\theta}\\right)^{2}}{r^{4} O\\left(r\\right)^{2} U\\left(r\\right) V\\left(r\\right) Y\\left(r, {\\theta}\\right) - r^{4} O\\left(r\\right)^{2} V\\left(r\\right) Z\\left(r, {\\theta}\\right)^{2}} - \\frac{Q^{2} X\\left(r\\right) Y\\left(r, {\\theta}\\right)}{r^{4} O\\left(r\\right)^{2} U\\left(r\\right) V\\left(r\\right) Y\\left(r, {\\theta}\\right) - r^{4} O\\left(r\\right)^{2} V\\left(r\\right) Z\\left(r, {\\theta}\\right)^{2}} \\right) \\mathrm{d} {\\theta}\\otimes \\mathrm{d} {\\theta} + \\left( -\\frac{2 \\, Q^{2} a U\\left(r\\right) Y\\left(r, {\\theta}\\right) \\sin\\left({\\theta}\\right)^{2}}{r^{4} O\\left(r\\right)^{2} U\\left(r\\right) V\\left(r\\right) Y\\left(r, {\\theta}\\right) - r^{4} O\\left(r\\right)^{2} V\\left(r\\right) Z\\left(r, {\\theta}\\right)^{2}} - \\frac{Q^{2} Y\\left(r, {\\theta}\\right) Z\\left(r, {\\theta}\\right)}{r^{4} O\\left(r\\right)^{2} U\\left(r\\right) V\\left(r\\right) Y\\left(r, {\\theta}\\right) - r^{4} O\\left(r\\right)^{2} V\\left(r\\right) Z\\left(r, {\\theta}\\right)^{2}} \\right) \\mathrm{d} {\\phi}\\otimes \\mathrm{d} t + \\left( -\\frac{2 \\, Q^{2} a Y\\left(r, {\\theta}\\right) Z\\left(r, {\\theta}\\right) \\sin\\left({\\theta}\\right)^{2}}{r^{4} O\\left(r\\right)^{2} U\\left(r\\right) V\\left(r\\right) Y\\left(r, {\\theta}\\right) - r^{4} O\\left(r\\right)^{2} V\\left(r\\right) Z\\left(r, {\\theta}\\right)^{2}} - \\frac{Q^{2} Y\\left(r, {\\theta}\\right)^{2}}{r^{4} O\\left(r\\right)^{2} U\\left(r\\right) V\\left(r\\right) Y\\left(r, {\\theta}\\right) - r^{4} O\\left(r\\right)^{2} V\\left(r\\right) Z\\left(r, {\\theta}\\right)^{2}} \\right) \\mathrm{d} {\\phi}\\otimes \\mathrm{d} {\\phi}\\)</html>"
      ],
      "text/latex": [
       "$\\displaystyle \\left( -\\frac{2 \\, Q^{2} a U\\left(r\\right) Z\\left(r, {\\theta}\\right) \\sin\\left({\\theta}\\right)^{2}}{r^{4} O\\left(r\\right)^{2} U\\left(r\\right) V\\left(r\\right) Y\\left(r, {\\theta}\\right) - r^{4} O\\left(r\\right)^{2} V\\left(r\\right) Z\\left(r, {\\theta}\\right)^{2}} + \\frac{Q^{2} U\\left(r\\right) Y\\left(r, {\\theta}\\right) - 2 \\, Q^{2} Z\\left(r, {\\theta}\\right)^{2}}{r^{4} O\\left(r\\right)^{2} U\\left(r\\right) V\\left(r\\right) Y\\left(r, {\\theta}\\right) - r^{4} O\\left(r\\right)^{2} V\\left(r\\right) Z\\left(r, {\\theta}\\right)^{2}} \\right) \\mathrm{d} t\\otimes \\mathrm{d} t + \\left( -\\frac{2 \\, Q^{2} a U\\left(r\\right) Y\\left(r, {\\theta}\\right) \\sin\\left({\\theta}\\right)^{2}}{r^{4} O\\left(r\\right)^{2} U\\left(r\\right) V\\left(r\\right) Y\\left(r, {\\theta}\\right) - r^{4} O\\left(r\\right)^{2} V\\left(r\\right) Z\\left(r, {\\theta}\\right)^{2}} - \\frac{Q^{2} Y\\left(r, {\\theta}\\right) Z\\left(r, {\\theta}\\right)}{r^{4} O\\left(r\\right)^{2} U\\left(r\\right) V\\left(r\\right) Y\\left(r, {\\theta}\\right) - r^{4} O\\left(r\\right)^{2} V\\left(r\\right) Z\\left(r, {\\theta}\\right)^{2}} \\right) \\mathrm{d} t\\otimes \\mathrm{d} {\\phi} + \\left( \\frac{2 \\, Q^{2} a Z\\left(r, {\\theta}\\right) \\sin\\left({\\theta}\\right)^{2}}{r^{4} O\\left(r\\right)^{2} U\\left(r\\right) Y\\left(r, {\\theta}\\right) - r^{4} O\\left(r\\right)^{2} Z\\left(r, {\\theta}\\right)^{2}} + \\frac{Q^{2} Y\\left(r, {\\theta}\\right)}{r^{4} O\\left(r\\right)^{2} U\\left(r\\right) Y\\left(r, {\\theta}\\right) - r^{4} O\\left(r\\right)^{2} Z\\left(r, {\\theta}\\right)^{2}} \\right) \\mathrm{d} r\\otimes \\mathrm{d} r + \\left( -\\frac{4 \\, Q^{2} a Z\\left(r, {\\theta}\\right) \\cos\\left({\\theta}\\right) \\sin\\left({\\theta}\\right)}{r^{3} O\\left(r\\right)^{2} U\\left(r\\right) Y\\left(r, {\\theta}\\right) - r^{3} O\\left(r\\right)^{2} Z\\left(r, {\\theta}\\right)^{2}} \\right) \\mathrm{d} r\\otimes \\mathrm{d} {\\theta} + \\left( -\\frac{4 \\, Q^{2} a Z\\left(r, {\\theta}\\right) \\cos\\left({\\theta}\\right) \\sin\\left({\\theta}\\right)}{r^{3} O\\left(r\\right)^{2} U\\left(r\\right) Y\\left(r, {\\theta}\\right) - r^{3} O\\left(r\\right)^{2} Z\\left(r, {\\theta}\\right)^{2}} \\right) \\mathrm{d} {\\theta}\\otimes \\mathrm{d} r + \\left( -\\frac{2 \\, Q^{2} a X\\left(r\\right) Z\\left(r, {\\theta}\\right) \\sin\\left({\\theta}\\right)^{2}}{r^{4} O\\left(r\\right)^{2} U\\left(r\\right) V\\left(r\\right) Y\\left(r, {\\theta}\\right) - r^{4} O\\left(r\\right)^{2} V\\left(r\\right) Z\\left(r, {\\theta}\\right)^{2}} - \\frac{Q^{2} X\\left(r\\right) Y\\left(r, {\\theta}\\right)}{r^{4} O\\left(r\\right)^{2} U\\left(r\\right) V\\left(r\\right) Y\\left(r, {\\theta}\\right) - r^{4} O\\left(r\\right)^{2} V\\left(r\\right) Z\\left(r, {\\theta}\\right)^{2}} \\right) \\mathrm{d} {\\theta}\\otimes \\mathrm{d} {\\theta} + \\left( -\\frac{2 \\, Q^{2} a U\\left(r\\right) Y\\left(r, {\\theta}\\right) \\sin\\left({\\theta}\\right)^{2}}{r^{4} O\\left(r\\right)^{2} U\\left(r\\right) V\\left(r\\right) Y\\left(r, {\\theta}\\right) - r^{4} O\\left(r\\right)^{2} V\\left(r\\right) Z\\left(r, {\\theta}\\right)^{2}} - \\frac{Q^{2} Y\\left(r, {\\theta}\\right) Z\\left(r, {\\theta}\\right)}{r^{4} O\\left(r\\right)^{2} U\\left(r\\right) V\\left(r\\right) Y\\left(r, {\\theta}\\right) - r^{4} O\\left(r\\right)^{2} V\\left(r\\right) Z\\left(r, {\\theta}\\right)^{2}} \\right) \\mathrm{d} {\\phi}\\otimes \\mathrm{d} t + \\left( -\\frac{2 \\, Q^{2} a Y\\left(r, {\\theta}\\right) Z\\left(r, {\\theta}\\right) \\sin\\left({\\theta}\\right)^{2}}{r^{4} O\\left(r\\right)^{2} U\\left(r\\right) V\\left(r\\right) Y\\left(r, {\\theta}\\right) - r^{4} O\\left(r\\right)^{2} V\\left(r\\right) Z\\left(r, {\\theta}\\right)^{2}} - \\frac{Q^{2} Y\\left(r, {\\theta}\\right)^{2}}{r^{4} O\\left(r\\right)^{2} U\\left(r\\right) V\\left(r\\right) Y\\left(r, {\\theta}\\right) - r^{4} O\\left(r\\right)^{2} V\\left(r\\right) Z\\left(r, {\\theta}\\right)^{2}} \\right) \\mathrm{d} {\\phi}\\otimes \\mathrm{d} {\\phi}$"
      ],
      "text/plain": [
       "(-2*Q^2*a*U(r)*Z(r, th)*sin(th)^2/(r^4*O(r)^2*U(r)*V(r)*Y(r, th) - r^4*O(r)^2*V(r)*Z(r, th)^2) + (Q^2*U(r)*Y(r, th) - 2*Q^2*Z(r, th)^2)/(r^4*O(r)^2*U(r)*V(r)*Y(r, th) - r^4*O(r)^2*V(r)*Z(r, th)^2)) dt⊗dt + (-2*Q^2*a*U(r)*Y(r, th)*sin(th)^2/(r^4*O(r)^2*U(r)*V(r)*Y(r, th) - r^4*O(r)^2*V(r)*Z(r, th)^2) - Q^2*Y(r, th)*Z(r, th)/(r^4*O(r)^2*U(r)*V(r)*Y(r, th) - r^4*O(r)^2*V(r)*Z(r, th)^2)) dt⊗dph + (2*Q^2*a*Z(r, th)*sin(th)^2/(r^4*O(r)^2*U(r)*Y(r, th) - r^4*O(r)^2*Z(r, th)^2) + Q^2*Y(r, th)/(r^4*O(r)^2*U(r)*Y(r, th) - r^4*O(r)^2*Z(r, th)^2)) dr⊗dr - 4*Q^2*a*Z(r, th)*cos(th)*sin(th)/(r^3*O(r)^2*U(r)*Y(r, th) - r^3*O(r)^2*Z(r, th)^2) dr⊗dth - 4*Q^2*a*Z(r, th)*cos(th)*sin(th)/(r^3*O(r)^2*U(r)*Y(r, th) - r^3*O(r)^2*Z(r, th)^2) dth⊗dr + (-2*Q^2*a*X(r)*Z(r, th)*sin(th)^2/(r^4*O(r)^2*U(r)*V(r)*Y(r, th) - r^4*O(r)^2*V(r)*Z(r, th)^2) - Q^2*X(r)*Y(r, th)/(r^4*O(r)^2*U(r)*V(r)*Y(r, th) - r^4*O(r)^2*V(r)*Z(r, th)^2)) dth⊗dth + (-2*Q^2*a*U(r)*Y(r, th)*sin(th)^2/(r^4*O(r)^2*U(r)*V(r)*Y(r, th) - r^4*O(r)^2*V(r)*Z(r, th)^2) - Q^2*Y(r, th)*Z(r, th)/(r^4*O(r)^2*U(r)*V(r)*Y(r, th) - r^4*O(r)^2*V(r)*Z(r, th)^2)) dph⊗dt + (-2*Q^2*a*Y(r, th)*Z(r, th)*sin(th)^2/(r^4*O(r)^2*U(r)*V(r)*Y(r, th) - r^4*O(r)^2*V(r)*Z(r, th)^2) - Q^2*Y(r, th)^2/(r^4*O(r)^2*U(r)*V(r)*Y(r, th) - r^4*O(r)^2*V(r)*Z(r, th)^2)) dph⊗dph"
      ]
     },
     "execution_count": 18,
     "metadata": {},
     "output_type": "execute_result"
    }
   ],
   "source": [
    "T.apply_map(lambda f: f.taylor(a,0,1)) ; T.display()"
   ]
  },
  {
   "cell_type": "markdown",
   "id": "ad248330",
   "metadata": {},
   "source": [
    "We substitute the different functions Omega and Q in the expression and we perform a first-order Taylor expansion"
   ]
  },
  {
   "cell_type": "code",
   "execution_count": 19,
   "id": "bfd41ef9-2b68-48bc-ba21-014f59b12b24",
   "metadata": {},
   "outputs": [
    {
     "data": {
      "text/html": [
       "<html>\\(\\displaystyle \\left(\\begin{array}{rrrr}\n",
       "-\\frac{2 \\, a r_{m} r_{p} U\\left(r\\right) Z\\left(r, {\\theta}\\right) \\sin\\left({\\theta}\\right)^{2}}{{\\left({\\left(\\alpha^{2} + 1\\right)} r^{4} U\\left(r\\right) V\\left(r\\right) Y\\left(r, {\\theta}\\right) - {\\left(\\alpha^{2} + 1\\right)} r^{4} V\\left(r\\right) Z\\left(r, {\\theta}\\right)^{2}\\right)} {\\left(-\\frac{r_{m}}{r} + 1\\right)}^{\\frac{4 \\, \\alpha^{2}}{\\alpha^{2} + 1}}} + \\frac{{\\left(U\\left(r\\right) Y\\left(r, {\\theta}\\right) - 2 \\, Z\\left(r, {\\theta}\\right)^{2}\\right)} r_{m} r_{p}}{{\\left({\\left(\\alpha^{2} + 1\\right)} r^{4} U\\left(r\\right) V\\left(r\\right) Y\\left(r, {\\theta}\\right) - {\\left(\\alpha^{2} + 1\\right)} r^{4} V\\left(r\\right) Z\\left(r, {\\theta}\\right)^{2}\\right)} {\\left(-\\frac{r_{m}}{r} + 1\\right)}^{\\frac{4 \\, \\alpha^{2}}{\\alpha^{2} + 1}}} & 0 & 0 & -\\frac{2 \\, a r_{m} r_{p} U\\left(r\\right) Y\\left(r, {\\theta}\\right) \\sin\\left({\\theta}\\right)^{2}}{{\\left({\\left(\\alpha^{2} + 1\\right)} r^{4} U\\left(r\\right) V\\left(r\\right) Y\\left(r, {\\theta}\\right) - {\\left(\\alpha^{2} + 1\\right)} r^{4} V\\left(r\\right) Z\\left(r, {\\theta}\\right)^{2}\\right)} {\\left(-\\frac{r_{m}}{r} + 1\\right)}^{\\frac{4 \\, \\alpha^{2}}{\\alpha^{2} + 1}}} - \\frac{r_{m} r_{p} Y\\left(r, {\\theta}\\right) Z\\left(r, {\\theta}\\right)}{{\\left({\\left(\\alpha^{2} + 1\\right)} r^{4} U\\left(r\\right) V\\left(r\\right) Y\\left(r, {\\theta}\\right) - {\\left(\\alpha^{2} + 1\\right)} r^{4} V\\left(r\\right) Z\\left(r, {\\theta}\\right)^{2}\\right)} {\\left(-\\frac{r_{m}}{r} + 1\\right)}^{\\frac{4 \\, \\alpha^{2}}{\\alpha^{2} + 1}}} \\\\\n",
       "0 & \\frac{2 \\, a r_{m} r_{p} Z\\left(r, {\\theta}\\right) \\sin\\left({\\theta}\\right)^{2}}{{\\left({\\left(\\alpha^{2} + 1\\right)} r^{4} U\\left(r\\right) Y\\left(r, {\\theta}\\right) - {\\left(\\alpha^{2} + 1\\right)} r^{4} Z\\left(r, {\\theta}\\right)^{2}\\right)} {\\left(-\\frac{r_{m}}{r} + 1\\right)}^{\\frac{4 \\, \\alpha^{2}}{\\alpha^{2} + 1}}} + \\frac{r_{m} r_{p} Y\\left(r, {\\theta}\\right)}{{\\left({\\left(\\alpha^{2} + 1\\right)} r^{4} U\\left(r\\right) Y\\left(r, {\\theta}\\right) - {\\left(\\alpha^{2} + 1\\right)} r^{4} Z\\left(r, {\\theta}\\right)^{2}\\right)} {\\left(-\\frac{r_{m}}{r} + 1\\right)}^{\\frac{4 \\, \\alpha^{2}}{\\alpha^{2} + 1}}} & -\\frac{4 \\, a r_{m} r_{p} Z\\left(r, {\\theta}\\right) \\cos\\left({\\theta}\\right) \\sin\\left({\\theta}\\right)}{{\\left({\\left(\\alpha^{2} + 1\\right)} r^{3} U\\left(r\\right) Y\\left(r, {\\theta}\\right) - {\\left(\\alpha^{2} + 1\\right)} r^{3} Z\\left(r, {\\theta}\\right)^{2}\\right)} {\\left(-\\frac{r_{m}}{r} + 1\\right)}^{\\frac{4 \\, \\alpha^{2}}{\\alpha^{2} + 1}}} & 0 \\\\\n",
       "0 & -\\frac{4 \\, a r_{m} r_{p} Z\\left(r, {\\theta}\\right) \\cos\\left({\\theta}\\right) \\sin\\left({\\theta}\\right)}{{\\left({\\left(\\alpha^{2} + 1\\right)} r^{3} U\\left(r\\right) Y\\left(r, {\\theta}\\right) - {\\left(\\alpha^{2} + 1\\right)} r^{3} Z\\left(r, {\\theta}\\right)^{2}\\right)} {\\left(-\\frac{r_{m}}{r} + 1\\right)}^{\\frac{4 \\, \\alpha^{2}}{\\alpha^{2} + 1}}} & -\\frac{2 \\, a r_{m} r_{p} X\\left(r\\right) Z\\left(r, {\\theta}\\right) \\sin\\left({\\theta}\\right)^{2}}{{\\left({\\left(\\alpha^{2} + 1\\right)} r^{4} U\\left(r\\right) V\\left(r\\right) Y\\left(r, {\\theta}\\right) - {\\left(\\alpha^{2} + 1\\right)} r^{4} V\\left(r\\right) Z\\left(r, {\\theta}\\right)^{2}\\right)} {\\left(-\\frac{r_{m}}{r} + 1\\right)}^{\\frac{4 \\, \\alpha^{2}}{\\alpha^{2} + 1}}} - \\frac{r_{m} r_{p} X\\left(r\\right) Y\\left(r, {\\theta}\\right)}{{\\left({\\left(\\alpha^{2} + 1\\right)} r^{4} U\\left(r\\right) V\\left(r\\right) Y\\left(r, {\\theta}\\right) - {\\left(\\alpha^{2} + 1\\right)} r^{4} V\\left(r\\right) Z\\left(r, {\\theta}\\right)^{2}\\right)} {\\left(-\\frac{r_{m}}{r} + 1\\right)}^{\\frac{4 \\, \\alpha^{2}}{\\alpha^{2} + 1}}} & 0 \\\\\n",
       "-\\frac{2 \\, a r_{m} r_{p} U\\left(r\\right) Y\\left(r, {\\theta}\\right) \\sin\\left({\\theta}\\right)^{2}}{{\\left({\\left(\\alpha^{2} + 1\\right)} r^{4} U\\left(r\\right) V\\left(r\\right) Y\\left(r, {\\theta}\\right) - {\\left(\\alpha^{2} + 1\\right)} r^{4} V\\left(r\\right) Z\\left(r, {\\theta}\\right)^{2}\\right)} {\\left(-\\frac{r_{m}}{r} + 1\\right)}^{\\frac{4 \\, \\alpha^{2}}{\\alpha^{2} + 1}}} - \\frac{r_{m} r_{p} Y\\left(r, {\\theta}\\right) Z\\left(r, {\\theta}\\right)}{{\\left({\\left(\\alpha^{2} + 1\\right)} r^{4} U\\left(r\\right) V\\left(r\\right) Y\\left(r, {\\theta}\\right) - {\\left(\\alpha^{2} + 1\\right)} r^{4} V\\left(r\\right) Z\\left(r, {\\theta}\\right)^{2}\\right)} {\\left(-\\frac{r_{m}}{r} + 1\\right)}^{\\frac{4 \\, \\alpha^{2}}{\\alpha^{2} + 1}}} & 0 & 0 & -\\frac{2 \\, a r_{m} r_{p} Y\\left(r, {\\theta}\\right) Z\\left(r, {\\theta}\\right) \\sin\\left({\\theta}\\right)^{2}}{{\\left({\\left(\\alpha^{2} + 1\\right)} r^{4} U\\left(r\\right) V\\left(r\\right) Y\\left(r, {\\theta}\\right) - {\\left(\\alpha^{2} + 1\\right)} r^{4} V\\left(r\\right) Z\\left(r, {\\theta}\\right)^{2}\\right)} {\\left(-\\frac{r_{m}}{r} + 1\\right)}^{\\frac{4 \\, \\alpha^{2}}{\\alpha^{2} + 1}}} - \\frac{r_{m} r_{p} Y\\left(r, {\\theta}\\right)^{2}}{{\\left({\\left(\\alpha^{2} + 1\\right)} r^{4} U\\left(r\\right) V\\left(r\\right) Y\\left(r, {\\theta}\\right) - {\\left(\\alpha^{2} + 1\\right)} r^{4} V\\left(r\\right) Z\\left(r, {\\theta}\\right)^{2}\\right)} {\\left(-\\frac{r_{m}}{r} + 1\\right)}^{\\frac{4 \\, \\alpha^{2}}{\\alpha^{2} + 1}}}\n",
       "\\end{array}\\right)\\)</html>"
      ],
      "text/latex": [
       "$\\displaystyle \\left(\\begin{array}{rrrr}\n",
       "-\\frac{2 \\, a r_{m} r_{p} U\\left(r\\right) Z\\left(r, {\\theta}\\right) \\sin\\left({\\theta}\\right)^{2}}{{\\left({\\left(\\alpha^{2} + 1\\right)} r^{4} U\\left(r\\right) V\\left(r\\right) Y\\left(r, {\\theta}\\right) - {\\left(\\alpha^{2} + 1\\right)} r^{4} V\\left(r\\right) Z\\left(r, {\\theta}\\right)^{2}\\right)} {\\left(-\\frac{r_{m}}{r} + 1\\right)}^{\\frac{4 \\, \\alpha^{2}}{\\alpha^{2} + 1}}} + \\frac{{\\left(U\\left(r\\right) Y\\left(r, {\\theta}\\right) - 2 \\, Z\\left(r, {\\theta}\\right)^{2}\\right)} r_{m} r_{p}}{{\\left({\\left(\\alpha^{2} + 1\\right)} r^{4} U\\left(r\\right) V\\left(r\\right) Y\\left(r, {\\theta}\\right) - {\\left(\\alpha^{2} + 1\\right)} r^{4} V\\left(r\\right) Z\\left(r, {\\theta}\\right)^{2}\\right)} {\\left(-\\frac{r_{m}}{r} + 1\\right)}^{\\frac{4 \\, \\alpha^{2}}{\\alpha^{2} + 1}}} & 0 & 0 & -\\frac{2 \\, a r_{m} r_{p} U\\left(r\\right) Y\\left(r, {\\theta}\\right) \\sin\\left({\\theta}\\right)^{2}}{{\\left({\\left(\\alpha^{2} + 1\\right)} r^{4} U\\left(r\\right) V\\left(r\\right) Y\\left(r, {\\theta}\\right) - {\\left(\\alpha^{2} + 1\\right)} r^{4} V\\left(r\\right) Z\\left(r, {\\theta}\\right)^{2}\\right)} {\\left(-\\frac{r_{m}}{r} + 1\\right)}^{\\frac{4 \\, \\alpha^{2}}{\\alpha^{2} + 1}}} - \\frac{r_{m} r_{p} Y\\left(r, {\\theta}\\right) Z\\left(r, {\\theta}\\right)}{{\\left({\\left(\\alpha^{2} + 1\\right)} r^{4} U\\left(r\\right) V\\left(r\\right) Y\\left(r, {\\theta}\\right) - {\\left(\\alpha^{2} + 1\\right)} r^{4} V\\left(r\\right) Z\\left(r, {\\theta}\\right)^{2}\\right)} {\\left(-\\frac{r_{m}}{r} + 1\\right)}^{\\frac{4 \\, \\alpha^{2}}{\\alpha^{2} + 1}}} \\\\\n",
       "0 & \\frac{2 \\, a r_{m} r_{p} Z\\left(r, {\\theta}\\right) \\sin\\left({\\theta}\\right)^{2}}{{\\left({\\left(\\alpha^{2} + 1\\right)} r^{4} U\\left(r\\right) Y\\left(r, {\\theta}\\right) - {\\left(\\alpha^{2} + 1\\right)} r^{4} Z\\left(r, {\\theta}\\right)^{2}\\right)} {\\left(-\\frac{r_{m}}{r} + 1\\right)}^{\\frac{4 \\, \\alpha^{2}}{\\alpha^{2} + 1}}} + \\frac{r_{m} r_{p} Y\\left(r, {\\theta}\\right)}{{\\left({\\left(\\alpha^{2} + 1\\right)} r^{4} U\\left(r\\right) Y\\left(r, {\\theta}\\right) - {\\left(\\alpha^{2} + 1\\right)} r^{4} Z\\left(r, {\\theta}\\right)^{2}\\right)} {\\left(-\\frac{r_{m}}{r} + 1\\right)}^{\\frac{4 \\, \\alpha^{2}}{\\alpha^{2} + 1}}} & -\\frac{4 \\, a r_{m} r_{p} Z\\left(r, {\\theta}\\right) \\cos\\left({\\theta}\\right) \\sin\\left({\\theta}\\right)}{{\\left({\\left(\\alpha^{2} + 1\\right)} r^{3} U\\left(r\\right) Y\\left(r, {\\theta}\\right) - {\\left(\\alpha^{2} + 1\\right)} r^{3} Z\\left(r, {\\theta}\\right)^{2}\\right)} {\\left(-\\frac{r_{m}}{r} + 1\\right)}^{\\frac{4 \\, \\alpha^{2}}{\\alpha^{2} + 1}}} & 0 \\\\\n",
       "0 & -\\frac{4 \\, a r_{m} r_{p} Z\\left(r, {\\theta}\\right) \\cos\\left({\\theta}\\right) \\sin\\left({\\theta}\\right)}{{\\left({\\left(\\alpha^{2} + 1\\right)} r^{3} U\\left(r\\right) Y\\left(r, {\\theta}\\right) - {\\left(\\alpha^{2} + 1\\right)} r^{3} Z\\left(r, {\\theta}\\right)^{2}\\right)} {\\left(-\\frac{r_{m}}{r} + 1\\right)}^{\\frac{4 \\, \\alpha^{2}}{\\alpha^{2} + 1}}} & -\\frac{2 \\, a r_{m} r_{p} X\\left(r\\right) Z\\left(r, {\\theta}\\right) \\sin\\left({\\theta}\\right)^{2}}{{\\left({\\left(\\alpha^{2} + 1\\right)} r^{4} U\\left(r\\right) V\\left(r\\right) Y\\left(r, {\\theta}\\right) - {\\left(\\alpha^{2} + 1\\right)} r^{4} V\\left(r\\right) Z\\left(r, {\\theta}\\right)^{2}\\right)} {\\left(-\\frac{r_{m}}{r} + 1\\right)}^{\\frac{4 \\, \\alpha^{2}}{\\alpha^{2} + 1}}} - \\frac{r_{m} r_{p} X\\left(r\\right) Y\\left(r, {\\theta}\\right)}{{\\left({\\left(\\alpha^{2} + 1\\right)} r^{4} U\\left(r\\right) V\\left(r\\right) Y\\left(r, {\\theta}\\right) - {\\left(\\alpha^{2} + 1\\right)} r^{4} V\\left(r\\right) Z\\left(r, {\\theta}\\right)^{2}\\right)} {\\left(-\\frac{r_{m}}{r} + 1\\right)}^{\\frac{4 \\, \\alpha^{2}}{\\alpha^{2} + 1}}} & 0 \\\\\n",
       "-\\frac{2 \\, a r_{m} r_{p} U\\left(r\\right) Y\\left(r, {\\theta}\\right) \\sin\\left({\\theta}\\right)^{2}}{{\\left({\\left(\\alpha^{2} + 1\\right)} r^{4} U\\left(r\\right) V\\left(r\\right) Y\\left(r, {\\theta}\\right) - {\\left(\\alpha^{2} + 1\\right)} r^{4} V\\left(r\\right) Z\\left(r, {\\theta}\\right)^{2}\\right)} {\\left(-\\frac{r_{m}}{r} + 1\\right)}^{\\frac{4 \\, \\alpha^{2}}{\\alpha^{2} + 1}}} - \\frac{r_{m} r_{p} Y\\left(r, {\\theta}\\right) Z\\left(r, {\\theta}\\right)}{{\\left({\\left(\\alpha^{2} + 1\\right)} r^{4} U\\left(r\\right) V\\left(r\\right) Y\\left(r, {\\theta}\\right) - {\\left(\\alpha^{2} + 1\\right)} r^{4} V\\left(r\\right) Z\\left(r, {\\theta}\\right)^{2}\\right)} {\\left(-\\frac{r_{m}}{r} + 1\\right)}^{\\frac{4 \\, \\alpha^{2}}{\\alpha^{2} + 1}}} & 0 & 0 & -\\frac{2 \\, a r_{m} r_{p} Y\\left(r, {\\theta}\\right) Z\\left(r, {\\theta}\\right) \\sin\\left({\\theta}\\right)^{2}}{{\\left({\\left(\\alpha^{2} + 1\\right)} r^{4} U\\left(r\\right) V\\left(r\\right) Y\\left(r, {\\theta}\\right) - {\\left(\\alpha^{2} + 1\\right)} r^{4} V\\left(r\\right) Z\\left(r, {\\theta}\\right)^{2}\\right)} {\\left(-\\frac{r_{m}}{r} + 1\\right)}^{\\frac{4 \\, \\alpha^{2}}{\\alpha^{2} + 1}}} - \\frac{r_{m} r_{p} Y\\left(r, {\\theta}\\right)^{2}}{{\\left({\\left(\\alpha^{2} + 1\\right)} r^{4} U\\left(r\\right) V\\left(r\\right) Y\\left(r, {\\theta}\\right) - {\\left(\\alpha^{2} + 1\\right)} r^{4} V\\left(r\\right) Z\\left(r, {\\theta}\\right)^{2}\\right)} {\\left(-\\frac{r_{m}}{r} + 1\\right)}^{\\frac{4 \\, \\alpha^{2}}{\\alpha^{2} + 1}}}\n",
       "\\end{array}\\right)$"
      ],
      "text/plain": [
       "[-2*a*r_m*r_p*U(r)*Z(r, th)*sin(th)^2/(((alpha^2 + 1)*r^4*U(r)*V(r)*Y(r, th) - (alpha^2 + 1)*r^4*V(r)*Z(r, th)^2)*(-r_m/r + 1)^(4*alpha^2/(alpha^2 + 1))) + (U(r)*Y(r, th) - 2*Z(r, th)^2)*r_m*r_p/(((alpha^2 + 1)*r^4*U(r)*V(r)*Y(r, th) - (alpha^2 + 1)*r^4*V(r)*Z(r, th)^2)*(-r_m/r + 1)^(4*alpha^2/(alpha^2 + 1)))                                                                                                                                                                                                                                                                                                                     0                                                                                                                                                                                                                                                                                                                     0              -2*a*r_m*r_p*U(r)*Y(r, th)*sin(th)^2/(((alpha^2 + 1)*r^4*U(r)*V(r)*Y(r, th) - (alpha^2 + 1)*r^4*V(r)*Z(r, th)^2)*(-r_m/r + 1)^(4*alpha^2/(alpha^2 + 1))) - r_m*r_p*Y(r, th)*Z(r, th)/(((alpha^2 + 1)*r^4*U(r)*V(r)*Y(r, th) - (alpha^2 + 1)*r^4*V(r)*Z(r, th)^2)*(-r_m/r + 1)^(4*alpha^2/(alpha^2 + 1)))]\n",
       "[                                                                                                                                                                                                                                                                                                                    0                                                 2*a*r_m*r_p*Z(r, th)*sin(th)^2/(((alpha^2 + 1)*r^4*U(r)*Y(r, th) - (alpha^2 + 1)*r^4*Z(r, th)^2)*(-r_m/r + 1)^(4*alpha^2/(alpha^2 + 1))) + r_m*r_p*Y(r, th)/(((alpha^2 + 1)*r^4*U(r)*Y(r, th) - (alpha^2 + 1)*r^4*Z(r, th)^2)*(-r_m/r + 1)^(4*alpha^2/(alpha^2 + 1)))                                                                                                                                                                       -4*a*r_m*r_p*Z(r, th)*cos(th)*sin(th)/(((alpha^2 + 1)*r^3*U(r)*Y(r, th) - (alpha^2 + 1)*r^3*Z(r, th)^2)*(-r_m/r + 1)^(4*alpha^2/(alpha^2 + 1)))                                                                                                                                                                                                                                                                                                                     0]\n",
       "[                                                                                                                                                                                                                                                                                                                    0                                                                                                                                                                       -4*a*r_m*r_p*Z(r, th)*cos(th)*sin(th)/(((alpha^2 + 1)*r^3*U(r)*Y(r, th) - (alpha^2 + 1)*r^3*Z(r, th)^2)*(-r_m/r + 1)^(4*alpha^2/(alpha^2 + 1)))                  -2*a*r_m*r_p*X(r)*Z(r, th)*sin(th)^2/(((alpha^2 + 1)*r^4*U(r)*V(r)*Y(r, th) - (alpha^2 + 1)*r^4*V(r)*Z(r, th)^2)*(-r_m/r + 1)^(4*alpha^2/(alpha^2 + 1))) - r_m*r_p*X(r)*Y(r, th)/(((alpha^2 + 1)*r^4*U(r)*V(r)*Y(r, th) - (alpha^2 + 1)*r^4*V(r)*Z(r, th)^2)*(-r_m/r + 1)^(4*alpha^2/(alpha^2 + 1)))                                                                                                                                                                                                                                                                                                                     0]\n",
       "[             -2*a*r_m*r_p*U(r)*Y(r, th)*sin(th)^2/(((alpha^2 + 1)*r^4*U(r)*V(r)*Y(r, th) - (alpha^2 + 1)*r^4*V(r)*Z(r, th)^2)*(-r_m/r + 1)^(4*alpha^2/(alpha^2 + 1))) - r_m*r_p*Y(r, th)*Z(r, th)/(((alpha^2 + 1)*r^4*U(r)*V(r)*Y(r, th) - (alpha^2 + 1)*r^4*V(r)*Z(r, th)^2)*(-r_m/r + 1)^(4*alpha^2/(alpha^2 + 1)))                                                                                                                                                                                                                                                                                                                     0                                                                                                                                                                                                                                                                                                                     0                 -2*a*r_m*r_p*Y(r, th)*Z(r, th)*sin(th)^2/(((alpha^2 + 1)*r^4*U(r)*V(r)*Y(r, th) - (alpha^2 + 1)*r^4*V(r)*Z(r, th)^2)*(-r_m/r + 1)^(4*alpha^2/(alpha^2 + 1))) - r_m*r_p*Y(r, th)^2/(((alpha^2 + 1)*r^4*U(r)*V(r)*Y(r, th) - (alpha^2 + 1)*r^4*V(r)*Z(r, th)^2)*(-r_m/r + 1)^(4*alpha^2/(alpha^2 + 1)))]"
      ]
     },
     "execution_count": 19,
     "metadata": {},
     "output_type": "execute_result"
    }
   ],
   "source": [
    "T.apply_map(lambda f: f.substitute_function(O, Omega).subs(Q=H))\n",
    "T.apply_map(lambda f: f.taylor(a,0,1))\n",
    "T[:]"
   ]
  },
  {
   "cell_type": "markdown",
   "id": "a4ee7288",
   "metadata": {},
   "source": [
    "# The Scalar field"
   ]
  },
  {
   "cell_type": "markdown",
   "id": "dad71db9",
   "metadata": {},
   "source": [
    "The scalar field can be expressed as $\\Phi=\\left[\\left(1-\\frac{r_{-}}{r}\\right)^{\\frac{2\\alpha^{2}}{1+\\alpha^{2}}}_{|_{\\alpha=(2\\sqrt{3})^{-1}}}\\right]^{-2}=\\left(1-\\frac{r_{-}}{r}\\right)^{\\frac{-4\\alpha^{2}}{1+\\alpha^{2}}}_{|_{\\alpha=(2\\sqrt{3})^{-1}}}=e^{-\\frac{2\\phi}{\\sqrt{3}}}=\\left(1-\\frac{r_{-}}{r}\\right)^{\\frac{-4}{13}}$ "
   ]
  },
  {
   "cell_type": "code",
   "execution_count": 20,
   "id": "14a02b4c",
   "metadata": {},
   "outputs": [],
   "source": [
    "Phi = M.scalar_field((1-r_m/r)**(-2*alpha**2/(1+alpha**2)), name='Phi')"
   ]
  },
  {
   "cell_type": "markdown",
   "id": "4b85b9e2",
   "metadata": {},
   "source": [
    "We substitute the function Z in the expression and we perform a first first-order Taylor expansion to simplify the expression before any further calculations"
   ]
  },
  {
   "cell_type": "code",
   "execution_count": 21,
   "id": "827085f1",
   "metadata": {},
   "outputs": [
    {
     "data": {
      "text/html": [
       "<html>\\(\\displaystyle \\left( \\frac{r^{\\frac{2 \\, \\alpha^{2}}{\\alpha^{2} + 1}} r_{m} r_{p}}{{\\left(\\alpha^{2} + 1\\right)} {\\left(r - r_{m}\\right)}^{\\frac{2 \\, \\alpha^{2}}{\\alpha^{2} + 1}} r^{4} V\\left(r\\right)} \\right) \\mathrm{d} t\\otimes \\mathrm{d} t + \\left( \\frac{{\\left({\\left(3 \\, \\alpha^{4} - 4 \\, \\alpha^{2} + 1\\right)} r^{\\frac{2 \\, \\alpha^{2}}{\\alpha^{2} + 1}} r_{m}^{2} r_{p}^{2} + {\\left({\\left(\\alpha^{4} + 2 \\, \\alpha^{2} + 1\\right)} r^{3} r^{\\frac{2 \\, \\alpha^{2}}{\\alpha^{2} + 1}} {\\left(-\\frac{r_{m}}{r} + 1\\right)}^{\\frac{2 \\, \\alpha^{2}}{\\alpha^{2} + 1}} {\\left(-\\frac{r_{m}}{r} + 1\\right)}^{\\frac{\\alpha^{2} - 1}{\\alpha^{2} + 1}} - 2 \\, {\\left(3 \\, \\alpha^{4} - 4 \\, \\alpha^{2} + 1\\right)} r r^{\\frac{2 \\, \\alpha^{2}}{\\alpha^{2} + 1}} r_{m}^{2} {\\left(-\\frac{r_{m}}{r} + 1\\right)}^{\\frac{\\alpha^{2} - 1}{\\alpha^{2} + 1}} U\\left(r\\right) - {\\left(\\alpha^{4} + 2 \\, \\alpha^{2} + 1\\right)} r^{3} r^{\\frac{2 \\, \\alpha^{2}}{\\alpha^{2} + 1}} + {\\left(3 \\, \\alpha^{4} + 2 \\, \\alpha^{2} - 1\\right)} r^{2} r^{\\frac{2 \\, \\alpha^{2}}{\\alpha^{2} + 1}} r_{m} - {\\left(3 \\, \\alpha^{4} - 4 \\, \\alpha^{2} + 1\\right)} r r^{\\frac{2 \\, \\alpha^{2}}{\\alpha^{2} + 1}} r_{m}^{2}\\right)} r_{p}\\right)} a \\sin\\left({\\theta}\\right)^{2}}{{\\left(3 \\, \\alpha^{6} - \\alpha^{4} - 3 \\, \\alpha^{2} + 1\\right)} {\\left(r - r_{m}\\right)}^{\\frac{2 \\, \\alpha^{2}}{\\alpha^{2} + 1}} r^{5} r_{m} {\\left(-\\frac{r_{m}}{r} + 1\\right)}^{\\frac{\\alpha^{2} - 1}{\\alpha^{2} + 1}} U\\left(r\\right) V\\left(r\\right)} \\right) \\mathrm{d} t\\otimes \\mathrm{d} {\\phi} + \\left( \\frac{r^{\\frac{2 \\, \\alpha^{2}}{\\alpha^{2} + 1}} r_{m} r_{p}}{{\\left(\\alpha^{2} + 1\\right)} {\\left(r - r_{m}\\right)}^{\\frac{2 \\, \\alpha^{2}}{\\alpha^{2} + 1}} r^{4} U\\left(r\\right)} \\right) \\mathrm{d} r\\otimes \\mathrm{d} r + \\left( -\\frac{r^{\\frac{2 \\, \\alpha^{2}}{\\alpha^{2} + 1}} r_{m} r_{p} X\\left(r\\right)}{{\\left(\\alpha^{2} + 1\\right)} {\\left(r - r_{m}\\right)}^{\\frac{2 \\, \\alpha^{2}}{\\alpha^{2} + 1}} r^{4} U\\left(r\\right) V\\left(r\\right)} \\right) \\mathrm{d} {\\theta}\\otimes \\mathrm{d} {\\theta} + \\left( \\frac{{\\left({\\left(3 \\, \\alpha^{4} - 4 \\, \\alpha^{2} + 1\\right)} r^{\\frac{2 \\, \\alpha^{2}}{\\alpha^{2} + 1}} r_{m}^{2} r_{p}^{2} + {\\left({\\left(\\alpha^{4} + 2 \\, \\alpha^{2} + 1\\right)} r^{3} r^{\\frac{2 \\, \\alpha^{2}}{\\alpha^{2} + 1}} {\\left(-\\frac{r_{m}}{r} + 1\\right)}^{\\frac{2 \\, \\alpha^{2}}{\\alpha^{2} + 1}} {\\left(-\\frac{r_{m}}{r} + 1\\right)}^{\\frac{\\alpha^{2} - 1}{\\alpha^{2} + 1}} - 2 \\, {\\left(3 \\, \\alpha^{4} - 4 \\, \\alpha^{2} + 1\\right)} r r^{\\frac{2 \\, \\alpha^{2}}{\\alpha^{2} + 1}} r_{m}^{2} {\\left(-\\frac{r_{m}}{r} + 1\\right)}^{\\frac{\\alpha^{2} - 1}{\\alpha^{2} + 1}} U\\left(r\\right) - {\\left(\\alpha^{4} + 2 \\, \\alpha^{2} + 1\\right)} r^{3} r^{\\frac{2 \\, \\alpha^{2}}{\\alpha^{2} + 1}} + {\\left(3 \\, \\alpha^{4} + 2 \\, \\alpha^{2} - 1\\right)} r^{2} r^{\\frac{2 \\, \\alpha^{2}}{\\alpha^{2} + 1}} r_{m} - {\\left(3 \\, \\alpha^{4} - 4 \\, \\alpha^{2} + 1\\right)} r r^{\\frac{2 \\, \\alpha^{2}}{\\alpha^{2} + 1}} r_{m}^{2}\\right)} r_{p}\\right)} a \\sin\\left({\\theta}\\right)^{2}}{{\\left(3 \\, \\alpha^{6} - \\alpha^{4} - 3 \\, \\alpha^{2} + 1\\right)} {\\left(r - r_{m}\\right)}^{\\frac{2 \\, \\alpha^{2}}{\\alpha^{2} + 1}} r^{5} r_{m} {\\left(-\\frac{r_{m}}{r} + 1\\right)}^{\\frac{\\alpha^{2} - 1}{\\alpha^{2} + 1}} U\\left(r\\right) V\\left(r\\right)} \\right) \\mathrm{d} {\\phi}\\otimes \\mathrm{d} t + \\left( -\\frac{r^{\\frac{2 \\, \\alpha^{2}}{\\alpha^{2} + 1}} r_{m} r_{p} Y\\left(r, {\\theta}\\right)}{{\\left(\\alpha^{2} + 1\\right)} {\\left(r - r_{m}\\right)}^{\\frac{2 \\, \\alpha^{2}}{\\alpha^{2} + 1}} r^{4} U\\left(r\\right) V\\left(r\\right)} \\right) \\mathrm{d} {\\phi}\\otimes \\mathrm{d} {\\phi}\\)</html>"
      ],
      "text/latex": [
       "$\\displaystyle \\left( \\frac{r^{\\frac{2 \\, \\alpha^{2}}{\\alpha^{2} + 1}} r_{m} r_{p}}{{\\left(\\alpha^{2} + 1\\right)} {\\left(r - r_{m}\\right)}^{\\frac{2 \\, \\alpha^{2}}{\\alpha^{2} + 1}} r^{4} V\\left(r\\right)} \\right) \\mathrm{d} t\\otimes \\mathrm{d} t + \\left( \\frac{{\\left({\\left(3 \\, \\alpha^{4} - 4 \\, \\alpha^{2} + 1\\right)} r^{\\frac{2 \\, \\alpha^{2}}{\\alpha^{2} + 1}} r_{m}^{2} r_{p}^{2} + {\\left({\\left(\\alpha^{4} + 2 \\, \\alpha^{2} + 1\\right)} r^{3} r^{\\frac{2 \\, \\alpha^{2}}{\\alpha^{2} + 1}} {\\left(-\\frac{r_{m}}{r} + 1\\right)}^{\\frac{2 \\, \\alpha^{2}}{\\alpha^{2} + 1}} {\\left(-\\frac{r_{m}}{r} + 1\\right)}^{\\frac{\\alpha^{2} - 1}{\\alpha^{2} + 1}} - 2 \\, {\\left(3 \\, \\alpha^{4} - 4 \\, \\alpha^{2} + 1\\right)} r r^{\\frac{2 \\, \\alpha^{2}}{\\alpha^{2} + 1}} r_{m}^{2} {\\left(-\\frac{r_{m}}{r} + 1\\right)}^{\\frac{\\alpha^{2} - 1}{\\alpha^{2} + 1}} U\\left(r\\right) - {\\left(\\alpha^{4} + 2 \\, \\alpha^{2} + 1\\right)} r^{3} r^{\\frac{2 \\, \\alpha^{2}}{\\alpha^{2} + 1}} + {\\left(3 \\, \\alpha^{4} + 2 \\, \\alpha^{2} - 1\\right)} r^{2} r^{\\frac{2 \\, \\alpha^{2}}{\\alpha^{2} + 1}} r_{m} - {\\left(3 \\, \\alpha^{4} - 4 \\, \\alpha^{2} + 1\\right)} r r^{\\frac{2 \\, \\alpha^{2}}{\\alpha^{2} + 1}} r_{m}^{2}\\right)} r_{p}\\right)} a \\sin\\left({\\theta}\\right)^{2}}{{\\left(3 \\, \\alpha^{6} - \\alpha^{4} - 3 \\, \\alpha^{2} + 1\\right)} {\\left(r - r_{m}\\right)}^{\\frac{2 \\, \\alpha^{2}}{\\alpha^{2} + 1}} r^{5} r_{m} {\\left(-\\frac{r_{m}}{r} + 1\\right)}^{\\frac{\\alpha^{2} - 1}{\\alpha^{2} + 1}} U\\left(r\\right) V\\left(r\\right)} \\right) \\mathrm{d} t\\otimes \\mathrm{d} {\\phi} + \\left( \\frac{r^{\\frac{2 \\, \\alpha^{2}}{\\alpha^{2} + 1}} r_{m} r_{p}}{{\\left(\\alpha^{2} + 1\\right)} {\\left(r - r_{m}\\right)}^{\\frac{2 \\, \\alpha^{2}}{\\alpha^{2} + 1}} r^{4} U\\left(r\\right)} \\right) \\mathrm{d} r\\otimes \\mathrm{d} r + \\left( -\\frac{r^{\\frac{2 \\, \\alpha^{2}}{\\alpha^{2} + 1}} r_{m} r_{p} X\\left(r\\right)}{{\\left(\\alpha^{2} + 1\\right)} {\\left(r - r_{m}\\right)}^{\\frac{2 \\, \\alpha^{2}}{\\alpha^{2} + 1}} r^{4} U\\left(r\\right) V\\left(r\\right)} \\right) \\mathrm{d} {\\theta}\\otimes \\mathrm{d} {\\theta} + \\left( \\frac{{\\left({\\left(3 \\, \\alpha^{4} - 4 \\, \\alpha^{2} + 1\\right)} r^{\\frac{2 \\, \\alpha^{2}}{\\alpha^{2} + 1}} r_{m}^{2} r_{p}^{2} + {\\left({\\left(\\alpha^{4} + 2 \\, \\alpha^{2} + 1\\right)} r^{3} r^{\\frac{2 \\, \\alpha^{2}}{\\alpha^{2} + 1}} {\\left(-\\frac{r_{m}}{r} + 1\\right)}^{\\frac{2 \\, \\alpha^{2}}{\\alpha^{2} + 1}} {\\left(-\\frac{r_{m}}{r} + 1\\right)}^{\\frac{\\alpha^{2} - 1}{\\alpha^{2} + 1}} - 2 \\, {\\left(3 \\, \\alpha^{4} - 4 \\, \\alpha^{2} + 1\\right)} r r^{\\frac{2 \\, \\alpha^{2}}{\\alpha^{2} + 1}} r_{m}^{2} {\\left(-\\frac{r_{m}}{r} + 1\\right)}^{\\frac{\\alpha^{2} - 1}{\\alpha^{2} + 1}} U\\left(r\\right) - {\\left(\\alpha^{4} + 2 \\, \\alpha^{2} + 1\\right)} r^{3} r^{\\frac{2 \\, \\alpha^{2}}{\\alpha^{2} + 1}} + {\\left(3 \\, \\alpha^{4} + 2 \\, \\alpha^{2} - 1\\right)} r^{2} r^{\\frac{2 \\, \\alpha^{2}}{\\alpha^{2} + 1}} r_{m} - {\\left(3 \\, \\alpha^{4} - 4 \\, \\alpha^{2} + 1\\right)} r r^{\\frac{2 \\, \\alpha^{2}}{\\alpha^{2} + 1}} r_{m}^{2}\\right)} r_{p}\\right)} a \\sin\\left({\\theta}\\right)^{2}}{{\\left(3 \\, \\alpha^{6} - \\alpha^{4} - 3 \\, \\alpha^{2} + 1\\right)} {\\left(r - r_{m}\\right)}^{\\frac{2 \\, \\alpha^{2}}{\\alpha^{2} + 1}} r^{5} r_{m} {\\left(-\\frac{r_{m}}{r} + 1\\right)}^{\\frac{\\alpha^{2} - 1}{\\alpha^{2} + 1}} U\\left(r\\right) V\\left(r\\right)} \\right) \\mathrm{d} {\\phi}\\otimes \\mathrm{d} t + \\left( -\\frac{r^{\\frac{2 \\, \\alpha^{2}}{\\alpha^{2} + 1}} r_{m} r_{p} Y\\left(r, {\\theta}\\right)}{{\\left(\\alpha^{2} + 1\\right)} {\\left(r - r_{m}\\right)}^{\\frac{2 \\, \\alpha^{2}}{\\alpha^{2} + 1}} r^{4} U\\left(r\\right) V\\left(r\\right)} \\right) \\mathrm{d} {\\phi}\\otimes \\mathrm{d} {\\phi}$"
      ],
      "text/plain": [
       "r^(2*alpha^2/(alpha^2 + 1))*r_m*r_p/((alpha^2 + 1)*(r - r_m)^(2*alpha^2/(alpha^2 + 1))*r^4*V(r)) dt⊗dt + ((3*alpha^4 - 4*alpha^2 + 1)*r^(2*alpha^2/(alpha^2 + 1))*r_m^2*r_p^2 + ((alpha^4 + 2*alpha^2 + 1)*r^3*r^(2*alpha^2/(alpha^2 + 1))*(-r_m/r + 1)^(2*alpha^2/(alpha^2 + 1))*(-r_m/r + 1)^((alpha^2 - 1)/(alpha^2 + 1)) - 2*(3*alpha^4 - 4*alpha^2 + 1)*r*r^(2*alpha^2/(alpha^2 + 1))*r_m^2*(-r_m/r + 1)^((alpha^2 - 1)/(alpha^2 + 1))*U(r) - (alpha^4 + 2*alpha^2 + 1)*r^3*r^(2*alpha^2/(alpha^2 + 1)) + (3*alpha^4 + 2*alpha^2 - 1)*r^2*r^(2*alpha^2/(alpha^2 + 1))*r_m - (3*alpha^4 - 4*alpha^2 + 1)*r*r^(2*alpha^2/(alpha^2 + 1))*r_m^2)*r_p)*a*sin(th)^2/((3*alpha^6 - alpha^4 - 3*alpha^2 + 1)*(r - r_m)^(2*alpha^2/(alpha^2 + 1))*r^5*r_m*(-r_m/r + 1)^((alpha^2 - 1)/(alpha^2 + 1))*U(r)*V(r)) dt⊗dph + r^(2*alpha^2/(alpha^2 + 1))*r_m*r_p/((alpha^2 + 1)*(r - r_m)^(2*alpha^2/(alpha^2 + 1))*r^4*U(r)) dr⊗dr - r^(2*alpha^2/(alpha^2 + 1))*r_m*r_p*X(r)/((alpha^2 + 1)*(r - r_m)^(2*alpha^2/(alpha^2 + 1))*r^4*U(r)*V(r)) dth⊗dth + ((3*alpha^4 - 4*alpha^2 + 1)*r^(2*alpha^2/(alpha^2 + 1))*r_m^2*r_p^2 + ((alpha^4 + 2*alpha^2 + 1)*r^3*r^(2*alpha^2/(alpha^2 + 1))*(-r_m/r + 1)^(2*alpha^2/(alpha^2 + 1))*(-r_m/r + 1)^((alpha^2 - 1)/(alpha^2 + 1)) - 2*(3*alpha^4 - 4*alpha^2 + 1)*r*r^(2*alpha^2/(alpha^2 + 1))*r_m^2*(-r_m/r + 1)^((alpha^2 - 1)/(alpha^2 + 1))*U(r) - (alpha^4 + 2*alpha^2 + 1)*r^3*r^(2*alpha^2/(alpha^2 + 1)) + (3*alpha^4 + 2*alpha^2 - 1)*r^2*r^(2*alpha^2/(alpha^2 + 1))*r_m - (3*alpha^4 - 4*alpha^2 + 1)*r*r^(2*alpha^2/(alpha^2 + 1))*r_m^2)*r_p)*a*sin(th)^2/((3*alpha^6 - alpha^4 - 3*alpha^2 + 1)*(r - r_m)^(2*alpha^2/(alpha^2 + 1))*r^5*r_m*(-r_m/r + 1)^((alpha^2 - 1)/(alpha^2 + 1))*U(r)*V(r)) dph⊗dt - r^(2*alpha^2/(alpha^2 + 1))*r_m*r_p*Y(r, th)/((alpha^2 + 1)*(r - r_m)^(2*alpha^2/(alpha^2 + 1))*r^4*U(r)*V(r)) dph⊗dph"
      ]
     },
     "execution_count": 21,
     "metadata": {},
     "output_type": "execute_result"
    }
   ],
   "source": [
    "UU=T/Phi\n",
    "UU.apply_map(lambda f: f.substitute_function(Z,E))\n",
    "UU.apply_map(lambda f: f.taylor(a,0,1)) \n",
    "UU.display()"
   ]
  },
  {
   "cell_type": "markdown",
   "id": "e6636164",
   "metadata": {},
   "source": [
    "# The second component of the motion equation (1) $\\frac{1}{\\Phi}(\\triangledown_{\\mu}\\triangledown_{\\nu}-g_{\\mu\\nu}\\square)\\Phi$"
   ]
  },
  {
   "cell_type": "markdown",
   "id": "d4b96ca5",
   "metadata": {},
   "source": [
    "We now construct the d'Alembert operator"
   ]
  },
  {
   "cell_type": "code",
   "execution_count": 22,
   "id": "230402f0",
   "metadata": {},
   "outputs": [
    {
     "data": {
      "text/html": [
       "<html>\\(\\displaystyle \\Box\\left( {Phi}^{ 2 } \\right)\\)</html>"
      ],
      "text/latex": [
       "$\\displaystyle \\Box\\left( {Phi}^{ 2 } \\right)$"
      ],
      "text/plain": [
       "Scalar field Box(Phi^2) on the 4-dimensional Lorentzian manifold M"
      ]
     },
     "execution_count": 22,
     "metadata": {},
     "output_type": "execute_result"
    }
   ],
   "source": [
    "Dal = dalembertian(Phi**2); Dal"
   ]
  },
  {
   "cell_type": "code",
   "execution_count": 23,
   "id": "c67dd495",
   "metadata": {},
   "outputs": [
    {
     "data": {
      "text/html": [
       "<html>\\(\\displaystyle \\mathrm{grad}\\left( {Phi}^{ 2 } \\right)\\)</html>"
      ],
      "text/latex": [
       "$\\displaystyle \\mathrm{grad}\\left( {Phi}^{ 2 } \\right)$"
      ],
      "text/plain": [
       "Vector field grad(Phi^2) on the 4-dimensional Lorentzian manifold M"
      ]
     },
     "execution_count": 23,
     "metadata": {},
     "output_type": "execute_result"
    }
   ],
   "source": [
    "Gp = grad(Phi**2); Gp "
   ]
  },
  {
   "cell_type": "markdown",
   "id": "9fca3a78",
   "metadata": {},
   "source": [
    "We substitute the function Z in the expression and we perform a first first-order Taylor expansion to simplify the expression before any further calculations"
   ]
  },
  {
   "cell_type": "code",
   "execution_count": 24,
   "id": "8f0039f2-f877-402d-925b-c17565c79755",
   "metadata": {},
   "outputs": [
    {
     "data": {
      "text/html": [
       "<html>\\(\\displaystyle -\\frac{2 \\, {\\left({\\left(2 \\, {\\left(\\alpha^{4} + \\alpha^{2}\\right)} r U\\left(r\\right) V\\left(r\\right) X\\left(r\\right) Y\\left(r, {\\theta}\\right) \\frac{\\partial\\,O}{\\partial r} - {\\left(\\alpha^{4} + \\alpha^{2}\\right)} r O\\left(r\\right) U\\left(r\\right) X\\left(r\\right) Y\\left(r, {\\theta}\\right) \\frac{\\partial\\,V}{\\partial r} + {\\left(\\alpha^{4} + \\alpha^{2}\\right)} r O\\left(r\\right) U\\left(r\\right) V\\left(r\\right) Y\\left(r, {\\theta}\\right) \\frac{\\partial\\,X}{\\partial r} + {\\left(\\alpha^{4} + \\alpha^{2}\\right)} r O\\left(r\\right) U\\left(r\\right) V\\left(r\\right) X\\left(r\\right) \\frac{\\partial\\,Y}{\\partial r} + 2 \\, {\\left(3 \\, \\alpha^{4} - \\alpha^{2}\\right)} O\\left(r\\right) U\\left(r\\right) V\\left(r\\right) X\\left(r\\right) Y\\left(r, {\\theta}\\right)\\right)} r_{m}^{2} - {\\left(2 \\, {\\left(\\alpha^{4} + \\alpha^{2}\\right)} r^{2} U\\left(r\\right) V\\left(r\\right) X\\left(r\\right) Y\\left(r, {\\theta}\\right) \\frac{\\partial\\,O}{\\partial r} - {\\left(\\alpha^{4} + \\alpha^{2}\\right)} r^{2} O\\left(r\\right) U\\left(r\\right) X\\left(r\\right) Y\\left(r, {\\theta}\\right) \\frac{\\partial\\,V}{\\partial r} + {\\left(\\alpha^{4} + \\alpha^{2}\\right)} r^{2} O\\left(r\\right) U\\left(r\\right) V\\left(r\\right) Y\\left(r, {\\theta}\\right) \\frac{\\partial\\,X}{\\partial r} + {\\left(\\alpha^{4} + \\alpha^{2}\\right)} r^{2} O\\left(r\\right) U\\left(r\\right) V\\left(r\\right) X\\left(r\\right) \\frac{\\partial\\,Y}{\\partial r} - 4 \\, {\\left(\\alpha^{4} + \\alpha^{2}\\right)} r O\\left(r\\right) U\\left(r\\right) V\\left(r\\right) X\\left(r\\right) Y\\left(r, {\\theta}\\right)\\right)} r_{m}\\right)}}{{\\left(\\alpha^{4} + 2 \\, \\alpha^{2} + 1\\right)} r^{4} O\\left(r\\right) V\\left(r\\right)^{2} X\\left(r\\right) Y\\left(r, {\\theta}\\right) - 2 \\, {\\left(\\alpha^{4} + 2 \\, \\alpha^{2} + 1\\right)} r^{3} r_{m} O\\left(r\\right) V\\left(r\\right)^{2} X\\left(r\\right) Y\\left(r, {\\theta}\\right) + {\\left(\\alpha^{4} + 2 \\, \\alpha^{2} + 1\\right)} r^{2} r_{m}^{2} O\\left(r\\right) V\\left(r\\right)^{2} X\\left(r\\right) Y\\left(r, {\\theta}\\right)}\\)</html>"
      ],
      "text/latex": [
       "$\\displaystyle -\\frac{2 \\, {\\left({\\left(2 \\, {\\left(\\alpha^{4} + \\alpha^{2}\\right)} r U\\left(r\\right) V\\left(r\\right) X\\left(r\\right) Y\\left(r, {\\theta}\\right) \\frac{\\partial\\,O}{\\partial r} - {\\left(\\alpha^{4} + \\alpha^{2}\\right)} r O\\left(r\\right) U\\left(r\\right) X\\left(r\\right) Y\\left(r, {\\theta}\\right) \\frac{\\partial\\,V}{\\partial r} + {\\left(\\alpha^{4} + \\alpha^{2}\\right)} r O\\left(r\\right) U\\left(r\\right) V\\left(r\\right) Y\\left(r, {\\theta}\\right) \\frac{\\partial\\,X}{\\partial r} + {\\left(\\alpha^{4} + \\alpha^{2}\\right)} r O\\left(r\\right) U\\left(r\\right) V\\left(r\\right) X\\left(r\\right) \\frac{\\partial\\,Y}{\\partial r} + 2 \\, {\\left(3 \\, \\alpha^{4} - \\alpha^{2}\\right)} O\\left(r\\right) U\\left(r\\right) V\\left(r\\right) X\\left(r\\right) Y\\left(r, {\\theta}\\right)\\right)} r_{m}^{2} - {\\left(2 \\, {\\left(\\alpha^{4} + \\alpha^{2}\\right)} r^{2} U\\left(r\\right) V\\left(r\\right) X\\left(r\\right) Y\\left(r, {\\theta}\\right) \\frac{\\partial\\,O}{\\partial r} - {\\left(\\alpha^{4} + \\alpha^{2}\\right)} r^{2} O\\left(r\\right) U\\left(r\\right) X\\left(r\\right) Y\\left(r, {\\theta}\\right) \\frac{\\partial\\,V}{\\partial r} + {\\left(\\alpha^{4} + \\alpha^{2}\\right)} r^{2} O\\left(r\\right) U\\left(r\\right) V\\left(r\\right) Y\\left(r, {\\theta}\\right) \\frac{\\partial\\,X}{\\partial r} + {\\left(\\alpha^{4} + \\alpha^{2}\\right)} r^{2} O\\left(r\\right) U\\left(r\\right) V\\left(r\\right) X\\left(r\\right) \\frac{\\partial\\,Y}{\\partial r} - 4 \\, {\\left(\\alpha^{4} + \\alpha^{2}\\right)} r O\\left(r\\right) U\\left(r\\right) V\\left(r\\right) X\\left(r\\right) Y\\left(r, {\\theta}\\right)\\right)} r_{m}\\right)}}{{\\left(\\alpha^{4} + 2 \\, \\alpha^{2} + 1\\right)} r^{4} O\\left(r\\right) V\\left(r\\right)^{2} X\\left(r\\right) Y\\left(r, {\\theta}\\right) - 2 \\, {\\left(\\alpha^{4} + 2 \\, \\alpha^{2} + 1\\right)} r^{3} r_{m} O\\left(r\\right) V\\left(r\\right)^{2} X\\left(r\\right) Y\\left(r, {\\theta}\\right) + {\\left(\\alpha^{4} + 2 \\, \\alpha^{2} + 1\\right)} r^{2} r_{m}^{2} O\\left(r\\right) V\\left(r\\right)^{2} X\\left(r\\right) Y\\left(r, {\\theta}\\right)}$"
      ],
      "text/plain": [
       "-2*((2*(alpha^4 + alpha^2)*r*U(r)*V(r)*X(r)*Y(r, th)*d(O)/dr - (alpha^4 + alpha^2)*r*O(r)*U(r)*X(r)*Y(r, th)*d(V)/dr + (alpha^4 + alpha^2)*r*O(r)*U(r)*V(r)*Y(r, th)*d(X)/dr + (alpha^4 + alpha^2)*r*O(r)*U(r)*V(r)*X(r)*d(Y)/dr + 2*(3*alpha^4 - alpha^2)*O(r)*U(r)*V(r)*X(r)*Y(r, th))*r_m^2 - (2*(alpha^4 + alpha^2)*r^2*U(r)*V(r)*X(r)*Y(r, th)*d(O)/dr - (alpha^4 + alpha^2)*r^2*O(r)*U(r)*X(r)*Y(r, th)*d(V)/dr + (alpha^4 + alpha^2)*r^2*O(r)*U(r)*V(r)*Y(r, th)*d(X)/dr + (alpha^4 + alpha^2)*r^2*O(r)*U(r)*V(r)*X(r)*d(Y)/dr - 4*(alpha^4 + alpha^2)*r*O(r)*U(r)*V(r)*X(r)*Y(r, th))*r_m)/((alpha^4 + 2*alpha^2 + 1)*r^4*O(r)*V(r)^2*X(r)*Y(r, th) - 2*(alpha^4 + 2*alpha^2 + 1)*r^3*r_m*O(r)*V(r)^2*X(r)*Y(r, th) + (alpha^4 + 2*alpha^2 + 1)*r^2*r_m^2*O(r)*V(r)^2*X(r)*Y(r, th))"
      ]
     },
     "execution_count": 24,
     "metadata": {},
     "output_type": "execute_result"
    }
   ],
   "source": [
    "S = Phi**(-2)*(nab(Gp).down(g)-g*Dal) \n",
    "S.apply_map(lambda f: f.substitute_function(Z,E))\n",
    "S.apply_map(lambda f: f.taylor(a,0,1)) \n",
    "S[0,0]"
   ]
  },
  {
   "cell_type": "markdown",
   "id": "9579085b",
   "metadata": {},
   "source": [
    "We subsitute the remaining expressions U,V,X,Y,Q and O to have the final form of the right hand side of the motion equation (1)"
   ]
  },
  {
   "cell_type": "code",
   "execution_count": 25,
   "id": "9ad7023c-d514-4c7d-a021-bd5e978aa1ca",
   "metadata": {},
   "outputs": [
    {
     "data": {
      "text/html": [
       "<html>\\(\\displaystyle -\\frac{2 \\, {\\left({\\left(r^{7} {\\left(-\\frac{r_{m}}{r} + 1\\right)}^{\\frac{17}{13}} {\\left(\\frac{r_{p}}{r} - 1\\right)} {\\left(\\frac{13 \\, r_{p}}{r^{2} {\\left(-\\frac{r_{m}}{r} + 1\\right)}^{\\frac{11}{13}} {\\left(\\frac{r_{p}}{r} - 1\\right)}^{2}} - \\frac{11 \\, r_{m}}{r^{2} {\\left(-\\frac{r_{m}}{r} + 1\\right)}^{\\frac{24}{13}} {\\left(\\frac{r_{p}}{r} - 1\\right)}}\\right)} \\sin\\left({\\theta}\\right)^{2} + 18 \\, r^{6} {\\left(-\\frac{r_{m}}{r} + 1\\right)}^{\\frac{6}{13}} \\sin\\left({\\theta}\\right)^{2} - 2 \\, {\\left(13 \\, r {\\left(-\\frac{r_{m}}{r} + 1\\right)}^{\\frac{2}{13}} + \\frac{r_{m}}{{\\left(-\\frac{r_{m}}{r} + 1\\right)}^{\\frac{11}{13}}}\\right)} r^{5} {\\left(-\\frac{r_{m}}{r} + 1\\right)}^{\\frac{4}{13}} \\sin\\left({\\theta}\\right)^{2} - \\frac{4 \\, r^{5} r_{m} \\sin\\left({\\theta}\\right)^{2}}{{\\left(-\\frac{r_{m}}{r} + 1\\right)}^{\\frac{7}{13}}} - 2 \\, {\\left(13 \\, r {\\left(-\\frac{r_{m}}{r} + 1\\right)}^{\\frac{2}{13}} \\sin\\left({\\theta}\\right)^{2} + \\frac{r_{m} \\sin\\left({\\theta}\\right)^{2}}{{\\left(-\\frac{r_{m}}{r} + 1\\right)}^{\\frac{11}{13}}}\\right)} r^{5} {\\left(-\\frac{r_{m}}{r} + 1\\right)}^{\\frac{4}{13}}\\right)} {\\left(r - r_{m}\\right)}^{\\frac{2}{13}} r_{m}^{2} - {\\left(r^{8} {\\left(-\\frac{r_{m}}{r} + 1\\right)}^{\\frac{17}{13}} {\\left(\\frac{r_{p}}{r} - 1\\right)} {\\left(\\frac{13 \\, r_{p}}{r^{2} {\\left(-\\frac{r_{m}}{r} + 1\\right)}^{\\frac{11}{13}} {\\left(\\frac{r_{p}}{r} - 1\\right)}^{2}} - \\frac{11 \\, r_{m}}{r^{2} {\\left(-\\frac{r_{m}}{r} + 1\\right)}^{\\frac{24}{13}} {\\left(\\frac{r_{p}}{r} - 1\\right)}}\\right)} \\sin\\left({\\theta}\\right)^{2} + 52 \\, r^{7} {\\left(-\\frac{r_{m}}{r} + 1\\right)}^{\\frac{6}{13}} \\sin\\left({\\theta}\\right)^{2} - 2 \\, {\\left(13 \\, r {\\left(-\\frac{r_{m}}{r} + 1\\right)}^{\\frac{2}{13}} + \\frac{r_{m}}{{\\left(-\\frac{r_{m}}{r} + 1\\right)}^{\\frac{11}{13}}}\\right)} r^{6} {\\left(-\\frac{r_{m}}{r} + 1\\right)}^{\\frac{4}{13}} \\sin\\left({\\theta}\\right)^{2} - \\frac{4 \\, r^{6} r_{m} \\sin\\left({\\theta}\\right)^{2}}{{\\left(-\\frac{r_{m}}{r} + 1\\right)}^{\\frac{7}{13}}} - 2 \\, {\\left(13 \\, r {\\left(-\\frac{r_{m}}{r} + 1\\right)}^{\\frac{2}{13}} \\sin\\left({\\theta}\\right)^{2} + \\frac{r_{m} \\sin\\left({\\theta}\\right)^{2}}{{\\left(-\\frac{r_{m}}{r} + 1\\right)}^{\\frac{11}{13}}}\\right)} r^{6} {\\left(-\\frac{r_{m}}{r} + 1\\right)}^{\\frac{4}{13}}\\right)} {\\left(r - r_{m}\\right)}^{\\frac{2}{13}} r_{m} + 78 \\, {\\left(\\frac{r^{\\frac{80}{13}} r_{m} \\sin\\left({\\theta}\\right)^{2}}{{\\left(-\\frac{r_{m}}{r} + 1\\right)}^{\\frac{5}{13}} {\\left(\\frac{r_{p}}{r} - 1\\right)}} - \\frac{2 \\, r^{\\frac{67}{13}} r_{m}^{2} \\sin\\left({\\theta}\\right)^{2}}{{\\left(-\\frac{r_{m}}{r} + 1\\right)}^{\\frac{5}{13}} {\\left(\\frac{r_{p}}{r} - 1\\right)}} + \\frac{r^{\\frac{54}{13}} r_{m}^{3} \\sin\\left({\\theta}\\right)^{2}}{{\\left(-\\frac{r_{m}}{r} + 1\\right)}^{\\frac{5}{13}} {\\left(\\frac{r_{p}}{r} - 1\\right)}}\\right)} r_{p}\\right)}}{169 \\, {\\left(\\frac{{\\left(r - r_{m}\\right)}^{\\frac{2}{13}} r^{10} \\sin\\left({\\theta}\\right)^{2}}{{\\left(-\\frac{r_{m}}{r} + 1\\right)}^{\\frac{16}{13}} {\\left(\\frac{r_{p}}{r} - 1\\right)}^{2}} - \\frac{2 \\, {\\left(r - r_{m}\\right)}^{\\frac{2}{13}} r^{9} r_{m} \\sin\\left({\\theta}\\right)^{2}}{{\\left(-\\frac{r_{m}}{r} + 1\\right)}^{\\frac{16}{13}} {\\left(\\frac{r_{p}}{r} - 1\\right)}^{2}} + \\frac{{\\left(r - r_{m}\\right)}^{\\frac{2}{13}} r^{8} r_{m}^{2} \\sin\\left({\\theta}\\right)^{2}}{{\\left(-\\frac{r_{m}}{r} + 1\\right)}^{\\frac{16}{13}} {\\left(\\frac{r_{p}}{r} - 1\\right)}^{2}}\\right)}}\\)</html>"
      ],
      "text/latex": [
       "$\\displaystyle -\\frac{2 \\, {\\left({\\left(r^{7} {\\left(-\\frac{r_{m}}{r} + 1\\right)}^{\\frac{17}{13}} {\\left(\\frac{r_{p}}{r} - 1\\right)} {\\left(\\frac{13 \\, r_{p}}{r^{2} {\\left(-\\frac{r_{m}}{r} + 1\\right)}^{\\frac{11}{13}} {\\left(\\frac{r_{p}}{r} - 1\\right)}^{2}} - \\frac{11 \\, r_{m}}{r^{2} {\\left(-\\frac{r_{m}}{r} + 1\\right)}^{\\frac{24}{13}} {\\left(\\frac{r_{p}}{r} - 1\\right)}}\\right)} \\sin\\left({\\theta}\\right)^{2} + 18 \\, r^{6} {\\left(-\\frac{r_{m}}{r} + 1\\right)}^{\\frac{6}{13}} \\sin\\left({\\theta}\\right)^{2} - 2 \\, {\\left(13 \\, r {\\left(-\\frac{r_{m}}{r} + 1\\right)}^{\\frac{2}{13}} + \\frac{r_{m}}{{\\left(-\\frac{r_{m}}{r} + 1\\right)}^{\\frac{11}{13}}}\\right)} r^{5} {\\left(-\\frac{r_{m}}{r} + 1\\right)}^{\\frac{4}{13}} \\sin\\left({\\theta}\\right)^{2} - \\frac{4 \\, r^{5} r_{m} \\sin\\left({\\theta}\\right)^{2}}{{\\left(-\\frac{r_{m}}{r} + 1\\right)}^{\\frac{7}{13}}} - 2 \\, {\\left(13 \\, r {\\left(-\\frac{r_{m}}{r} + 1\\right)}^{\\frac{2}{13}} \\sin\\left({\\theta}\\right)^{2} + \\frac{r_{m} \\sin\\left({\\theta}\\right)^{2}}{{\\left(-\\frac{r_{m}}{r} + 1\\right)}^{\\frac{11}{13}}}\\right)} r^{5} {\\left(-\\frac{r_{m}}{r} + 1\\right)}^{\\frac{4}{13}}\\right)} {\\left(r - r_{m}\\right)}^{\\frac{2}{13}} r_{m}^{2} - {\\left(r^{8} {\\left(-\\frac{r_{m}}{r} + 1\\right)}^{\\frac{17}{13}} {\\left(\\frac{r_{p}}{r} - 1\\right)} {\\left(\\frac{13 \\, r_{p}}{r^{2} {\\left(-\\frac{r_{m}}{r} + 1\\right)}^{\\frac{11}{13}} {\\left(\\frac{r_{p}}{r} - 1\\right)}^{2}} - \\frac{11 \\, r_{m}}{r^{2} {\\left(-\\frac{r_{m}}{r} + 1\\right)}^{\\frac{24}{13}} {\\left(\\frac{r_{p}}{r} - 1\\right)}}\\right)} \\sin\\left({\\theta}\\right)^{2} + 52 \\, r^{7} {\\left(-\\frac{r_{m}}{r} + 1\\right)}^{\\frac{6}{13}} \\sin\\left({\\theta}\\right)^{2} - 2 \\, {\\left(13 \\, r {\\left(-\\frac{r_{m}}{r} + 1\\right)}^{\\frac{2}{13}} + \\frac{r_{m}}{{\\left(-\\frac{r_{m}}{r} + 1\\right)}^{\\frac{11}{13}}}\\right)} r^{6} {\\left(-\\frac{r_{m}}{r} + 1\\right)}^{\\frac{4}{13}} \\sin\\left({\\theta}\\right)^{2} - \\frac{4 \\, r^{6} r_{m} \\sin\\left({\\theta}\\right)^{2}}{{\\left(-\\frac{r_{m}}{r} + 1\\right)}^{\\frac{7}{13}}} - 2 \\, {\\left(13 \\, r {\\left(-\\frac{r_{m}}{r} + 1\\right)}^{\\frac{2}{13}} \\sin\\left({\\theta}\\right)^{2} + \\frac{r_{m} \\sin\\left({\\theta}\\right)^{2}}{{\\left(-\\frac{r_{m}}{r} + 1\\right)}^{\\frac{11}{13}}}\\right)} r^{6} {\\left(-\\frac{r_{m}}{r} + 1\\right)}^{\\frac{4}{13}}\\right)} {\\left(r - r_{m}\\right)}^{\\frac{2}{13}} r_{m} + 78 \\, {\\left(\\frac{r^{\\frac{80}{13}} r_{m} \\sin\\left({\\theta}\\right)^{2}}{{\\left(-\\frac{r_{m}}{r} + 1\\right)}^{\\frac{5}{13}} {\\left(\\frac{r_{p}}{r} - 1\\right)}} - \\frac{2 \\, r^{\\frac{67}{13}} r_{m}^{2} \\sin\\left({\\theta}\\right)^{2}}{{\\left(-\\frac{r_{m}}{r} + 1\\right)}^{\\frac{5}{13}} {\\left(\\frac{r_{p}}{r} - 1\\right)}} + \\frac{r^{\\frac{54}{13}} r_{m}^{3} \\sin\\left({\\theta}\\right)^{2}}{{\\left(-\\frac{r_{m}}{r} + 1\\right)}^{\\frac{5}{13}} {\\left(\\frac{r_{p}}{r} - 1\\right)}}\\right)} r_{p}\\right)}}{169 \\, {\\left(\\frac{{\\left(r - r_{m}\\right)}^{\\frac{2}{13}} r^{10} \\sin\\left({\\theta}\\right)^{2}}{{\\left(-\\frac{r_{m}}{r} + 1\\right)}^{\\frac{16}{13}} {\\left(\\frac{r_{p}}{r} - 1\\right)}^{2}} - \\frac{2 \\, {\\left(r - r_{m}\\right)}^{\\frac{2}{13}} r^{9} r_{m} \\sin\\left({\\theta}\\right)^{2}}{{\\left(-\\frac{r_{m}}{r} + 1\\right)}^{\\frac{16}{13}} {\\left(\\frac{r_{p}}{r} - 1\\right)}^{2}} + \\frac{{\\left(r - r_{m}\\right)}^{\\frac{2}{13}} r^{8} r_{m}^{2} \\sin\\left({\\theta}\\right)^{2}}{{\\left(-\\frac{r_{m}}{r} + 1\\right)}^{\\frac{16}{13}} {\\left(\\frac{r_{p}}{r} - 1\\right)}^{2}}\\right)}}$"
      ],
      "text/plain": [
       "-2/169*((r^7*(-r_m/r + 1)^(17/13)*(r_p/r - 1)*(13*r_p/(r^2*(-r_m/r + 1)^(11/13)*(r_p/r - 1)^2) - 11*r_m/(r^2*(-r_m/r + 1)^(24/13)*(r_p/r - 1)))*sin(th)^2 + 18*r^6*(-r_m/r + 1)^(6/13)*sin(th)^2 - 2*(13*r*(-r_m/r + 1)^(2/13) + r_m/(-r_m/r + 1)^(11/13))*r^5*(-r_m/r + 1)^(4/13)*sin(th)^2 - 4*r^5*r_m*sin(th)^2/(-r_m/r + 1)^(7/13) - 2*(13*r*(-r_m/r + 1)^(2/13)*sin(th)^2 + r_m*sin(th)^2/(-r_m/r + 1)^(11/13))*r^5*(-r_m/r + 1)^(4/13))*(r - r_m)^(2/13)*r_m^2 - (r^8*(-r_m/r + 1)^(17/13)*(r_p/r - 1)*(13*r_p/(r^2*(-r_m/r + 1)^(11/13)*(r_p/r - 1)^2) - 11*r_m/(r^2*(-r_m/r + 1)^(24/13)*(r_p/r - 1)))*sin(th)^2 + 52*r^7*(-r_m/r + 1)^(6/13)*sin(th)^2 - 2*(13*r*(-r_m/r + 1)^(2/13) + r_m/(-r_m/r + 1)^(11/13))*r^6*(-r_m/r + 1)^(4/13)*sin(th)^2 - 4*r^6*r_m*sin(th)^2/(-r_m/r + 1)^(7/13) - 2*(13*r*(-r_m/r + 1)^(2/13)*sin(th)^2 + r_m*sin(th)^2/(-r_m/r + 1)^(11/13))*r^6*(-r_m/r + 1)^(4/13))*(r - r_m)^(2/13)*r_m + 78*(r^(80/13)*r_m*sin(th)^2/((-r_m/r + 1)^(5/13)*(r_p/r - 1)) - 2*r^(67/13)*r_m^2*sin(th)^2/((-r_m/r + 1)^(5/13)*(r_p/r - 1)) + r^(54/13)*r_m^3*sin(th)^2/((-r_m/r + 1)^(5/13)*(r_p/r - 1)))*r_p)/((r - r_m)^(2/13)*r^10*sin(th)^2/((-r_m/r + 1)^(16/13)*(r_p/r - 1)^2) - 2*(r - r_m)^(2/13)*r^9*r_m*sin(th)^2/((-r_m/r + 1)^(16/13)*(r_p/r - 1)^2) + (r - r_m)^(2/13)*r^8*r_m^2*sin(th)^2/((-r_m/r + 1)^(16/13)*(r_p/r - 1)^2))"
      ]
     },
     "execution_count": 25,
     "metadata": {},
     "output_type": "execute_result"
    }
   ],
   "source": [
    "RHS = UU + S\n",
    "RHS.apply_map(lambda f: f.taylor(a,0,1)) \n",
    "RHS.apply_map(lambda f: f.substitute_function(U, A).substitute_function(V, B).substitute_function(X, C).substitute_function(Y, D))\n",
    "RHS.apply_map(lambda f: f.substitute_function(O, Omega).subs(Q=H).subs(alpha=1/(2*3**(1/2))))\n",
    "RHS[0,0]"
   ]
  },
  {
   "cell_type": "markdown",
   "id": "c3e8adc9",
   "metadata": {},
   "source": [
    "# Left hand side of the motion equation (1) : the Einstein tensor"
   ]
  },
  {
   "cell_type": "code",
   "execution_count": 26,
   "id": "1f8441f0-0f68-43e2-b60f-f30129bf7397",
   "metadata": {},
   "outputs": [
    {
     "data": {
      "text/html": [
       "<html>\\(\\displaystyle g = O\\left(r\\right)^{2} U\\left(r\\right) \\mathrm{d} t\\otimes \\mathrm{d} t + O\\left(r\\right)^{2} Z\\left(r, {\\theta}\\right) \\mathrm{d} t\\otimes \\mathrm{d} {\\phi} + O\\left(r\\right)^{2} V\\left(r\\right) \\mathrm{d} r\\otimes \\mathrm{d} r + O\\left(r\\right)^{2} X\\left(r\\right) \\mathrm{d} {\\theta}\\otimes \\mathrm{d} {\\theta} + O\\left(r\\right)^{2} Z\\left(r, {\\theta}\\right) \\mathrm{d} {\\phi}\\otimes \\mathrm{d} t + O\\left(r\\right)^{2} Y\\left(r, {\\theta}\\right) \\mathrm{d} {\\phi}\\otimes \\mathrm{d} {\\phi}\\)</html>"
      ],
      "text/latex": [
       "$\\displaystyle g = O\\left(r\\right)^{2} U\\left(r\\right) \\mathrm{d} t\\otimes \\mathrm{d} t + O\\left(r\\right)^{2} Z\\left(r, {\\theta}\\right) \\mathrm{d} t\\otimes \\mathrm{d} {\\phi} + O\\left(r\\right)^{2} V\\left(r\\right) \\mathrm{d} r\\otimes \\mathrm{d} r + O\\left(r\\right)^{2} X\\left(r\\right) \\mathrm{d} {\\theta}\\otimes \\mathrm{d} {\\theta} + O\\left(r\\right)^{2} Z\\left(r, {\\theta}\\right) \\mathrm{d} {\\phi}\\otimes \\mathrm{d} t + O\\left(r\\right)^{2} Y\\left(r, {\\theta}\\right) \\mathrm{d} {\\phi}\\otimes \\mathrm{d} {\\phi}$"
      ],
      "text/plain": [
       "g = O(r)^2*U(r) dt⊗dt + O(r)^2*Z(r, th) dt⊗dph + O(r)^2*V(r) dr⊗dr + O(r)^2*X(r) dth⊗dth + O(r)^2*Z(r, th) dph⊗dt + O(r)^2*Y(r, th) dph⊗dph"
      ]
     },
     "execution_count": 26,
     "metadata": {},
     "output_type": "execute_result"
    }
   ],
   "source": [
    "g.display()"
   ]
  },
  {
   "cell_type": "code",
   "execution_count": 27,
   "id": "00b28c56-218f-4cce-8bf8-7c9c9a453e79",
   "metadata": {},
   "outputs": [
    {
     "data": {
      "text/html": [
       "<html>\\(\\displaystyle \\left(\\begin{array}{rrrr}\n",
       "\\frac{2 \\, {\\left(15 \\, r r_{m} + 104 \\, r r_{p} - 119 \\, r_{m} r_{p}\\right)} {\\left(r - r_{p}\\right)} r_{m}}{169 \\, r^{6} \\left(\\frac{r - r_{m}}{r}\\right)^{\\frac{4}{13}}} & 0 & 0 & -\\frac{{\\left(28561 \\, r^{8} \\left(\\frac{r - r_{m}}{r}\\right)^{\\frac{35}{13}} - 32955 \\, r^{7} r_{m} \\left(\\frac{r - r_{m}}{r}\\right)^{\\frac{35}{13}} + 2535 \\, r^{6} r_{m}^{2} \\left(\\frac{r - r_{m}}{r}\\right)^{\\frac{35}{13}} - 15444 \\, r^{5} r_{m}^{3} \\left(\\frac{r - r_{m}}{r}\\right)^{\\frac{35}{13}} + 13068 \\, r^{4} r_{m}^{4} \\left(\\frac{r - r_{m}}{r}\\right)^{\\frac{35}{13}} - 4394 \\, r^{6} r_{m} r_{p} \\left(\\frac{r - r_{m}}{r}\\right)^{\\frac{35}{13}} - 13520 \\, r^{5} r_{m}^{2} r_{p} \\left(\\frac{r - r_{m}}{r}\\right)^{\\frac{35}{13}} + 63531 \\, r^{4} r_{m}^{3} r_{p} \\left(\\frac{r - r_{m}}{r}\\right)^{\\frac{35}{13}} - 40293 \\, r^{3} r_{m}^{4} r_{p} \\left(\\frac{r - r_{m}}{r}\\right)^{\\frac{35}{13}} - 28314 \\, r^{3} r_{m}^{3} r_{p}^{2} \\left(\\frac{r - r_{m}}{r}\\right)^{\\frac{35}{13}} + 27225 \\, r^{2} r_{m}^{4} r_{p}^{2} \\left(\\frac{r - r_{m}}{r}\\right)^{\\frac{35}{13}} - 28561 \\, r^{8} \\left(\\frac{r - r_{m}}{r}\\right)^{\\frac{22}{13}} + 70304 \\, r^{7} r_{m} \\left(\\frac{r - r_{m}}{r}\\right)^{\\frac{22}{13}} - 48165 \\, r^{6} r_{m}^{2} \\left(\\frac{r - r_{m}}{r}\\right)^{\\frac{22}{13}} + 20111 \\, r^{5} r_{m}^{3} \\left(\\frac{r - r_{m}}{r}\\right)^{\\frac{22}{13}} - 25668 \\, r^{4} r_{m}^{4} \\left(\\frac{r - r_{m}}{r}\\right)^{\\frac{22}{13}} + 11979 \\, r^{3} r_{m}^{5} \\left(\\frac{r - r_{m}}{r}\\right)^{\\frac{22}{13}} - 26364 \\, r^{6} r_{m} r_{p} \\left(\\frac{r - r_{m}}{r}\\right)^{\\frac{22}{13}} + 50531 \\, r^{5} r_{m}^{2} r_{p} \\left(\\frac{r - r_{m}}{r}\\right)^{\\frac{22}{13}} - 50141 \\, r^{4} r_{m}^{3} r_{p} \\left(\\frac{r - r_{m}}{r}\\right)^{\\frac{22}{13}} + 43497 \\, r^{3} r_{m}^{4} r_{p} \\left(\\frac{r - r_{m}}{r}\\right)^{\\frac{22}{13}} - 17523 \\, r^{2} r_{m}^{5} r_{p} \\left(\\frac{r - r_{m}}{r}\\right)^{\\frac{22}{13}} + 7722 \\, r^{3} r_{m}^{3} r_{p}^{2} \\left(\\frac{r - r_{m}}{r}\\right)^{\\frac{22}{13}} - 13266 \\, r^{2} r_{m}^{4} r_{p}^{2} \\left(\\frac{r - r_{m}}{r}\\right)^{\\frac{22}{13}} + 5544 \\, r r_{m}^{5} r_{p}^{2} \\left(\\frac{r - r_{m}}{r}\\right)^{\\frac{22}{13}} + 3211 \\, r^{6} r_{m}^{2} \\left(\\frac{r - r_{m}}{r}\\right)^{\\frac{9}{13}} - 4199 \\, r^{5} r_{m}^{3} \\left(\\frac{r - r_{m}}{r}\\right)^{\\frac{9}{13}} + 646 \\, r^{4} r_{m}^{4} \\left(\\frac{r - r_{m}}{r}\\right)^{\\frac{9}{13}} - 1539 \\, r^{3} r_{m}^{5} \\left(\\frac{r - r_{m}}{r}\\right)^{\\frac{9}{13}} + 1881 \\, r^{2} r_{m}^{6} \\left(\\frac{r - r_{m}}{r}\\right)^{\\frac{9}{13}} - 3211 \\, r^{5} r_{m}^{2} r_{p} \\left(\\frac{r - r_{m}}{r}\\right)^{\\frac{9}{13}} + 4199 \\, r^{4} r_{m}^{3} r_{p} \\left(\\frac{r - r_{m}}{r}\\right)^{\\frac{9}{13}} - 2527 \\, r^{3} r_{m}^{4} r_{p} \\left(\\frac{r - r_{m}}{r}\\right)^{\\frac{9}{13}} + 5301 \\, r^{2} r_{m}^{5} r_{p} \\left(\\frac{r - r_{m}}{r}\\right)^{\\frac{9}{13}} - 3762 \\, r r_{m}^{6} r_{p} \\left(\\frac{r - r_{m}}{r}\\right)^{\\frac{9}{13}} + 1881 \\, r^{2} r_{m}^{4} r_{p}^{2} \\left(\\frac{r - r_{m}}{r}\\right)^{\\frac{9}{13}} - 3762 \\, r r_{m}^{5} r_{p}^{2} \\left(\\frac{r - r_{m}}{r}\\right)^{\\frac{9}{13}} + 1881 \\, r_{m}^{6} r_{p}^{2} \\left(\\frac{r - r_{m}}{r}\\right)^{\\frac{9}{13}} - 8788 \\, r^{7} r_{m} + 24336 \\, r^{6} r_{m}^{2} - 22308 \\, r^{5} r_{m}^{3} + 6760 \\, r^{4} r_{m}^{4} + 30758 \\, r^{6} r_{m} r_{p} - 90246 \\, r^{5} r_{m}^{2} r_{p} + 88218 \\, r^{4} r_{m}^{3} r_{p} - 28730 \\, r^{3} r_{m}^{4} r_{p}\\right)} a \\sin\\left({\\theta}\\right)^{2}}{16731 \\, {\\left(r - r_{m}\\right)}^{3} r^{5} r_{m}^{2}} \\\\\n",
       "0 & \\frac{2 \\, {\\left(52 \\, r^{2} - 25 \\, r r_{m} - 156 \\, r r_{p} + 129 \\, r_{m} r_{p}\\right)} r_{m}}{169 \\, {\\left(r - r_{m}\\right)}^{2} {\\left(r - r_{p}\\right)} r^{2}} & 0 & 0 \\\\\n",
       "0 & 0 & -\\frac{2 \\, {\\left(26 \\, r^{2} - 20 \\, r r_{m} - 91 \\, r r_{p} + 85 \\, r_{m} r_{p}\\right)} r_{m}}{169 \\, {\\left(r - r_{m}\\right)} r^{2}} & 0 \\\\\n",
       "-\\frac{{\\left(28561 \\, r^{8} \\left(\\frac{r - r_{m}}{r}\\right)^{\\frac{35}{13}} - 32955 \\, r^{7} r_{m} \\left(\\frac{r - r_{m}}{r}\\right)^{\\frac{35}{13}} + 2535 \\, r^{6} r_{m}^{2} \\left(\\frac{r - r_{m}}{r}\\right)^{\\frac{35}{13}} - 15444 \\, r^{5} r_{m}^{3} \\left(\\frac{r - r_{m}}{r}\\right)^{\\frac{35}{13}} + 13068 \\, r^{4} r_{m}^{4} \\left(\\frac{r - r_{m}}{r}\\right)^{\\frac{35}{13}} - 4394 \\, r^{6} r_{m} r_{p} \\left(\\frac{r - r_{m}}{r}\\right)^{\\frac{35}{13}} - 13520 \\, r^{5} r_{m}^{2} r_{p} \\left(\\frac{r - r_{m}}{r}\\right)^{\\frac{35}{13}} + 63531 \\, r^{4} r_{m}^{3} r_{p} \\left(\\frac{r - r_{m}}{r}\\right)^{\\frac{35}{13}} - 40293 \\, r^{3} r_{m}^{4} r_{p} \\left(\\frac{r - r_{m}}{r}\\right)^{\\frac{35}{13}} - 28314 \\, r^{3} r_{m}^{3} r_{p}^{2} \\left(\\frac{r - r_{m}}{r}\\right)^{\\frac{35}{13}} + 27225 \\, r^{2} r_{m}^{4} r_{p}^{2} \\left(\\frac{r - r_{m}}{r}\\right)^{\\frac{35}{13}} - 28561 \\, r^{8} \\left(\\frac{r - r_{m}}{r}\\right)^{\\frac{22}{13}} + 70304 \\, r^{7} r_{m} \\left(\\frac{r - r_{m}}{r}\\right)^{\\frac{22}{13}} - 48165 \\, r^{6} r_{m}^{2} \\left(\\frac{r - r_{m}}{r}\\right)^{\\frac{22}{13}} + 20111 \\, r^{5} r_{m}^{3} \\left(\\frac{r - r_{m}}{r}\\right)^{\\frac{22}{13}} - 25668 \\, r^{4} r_{m}^{4} \\left(\\frac{r - r_{m}}{r}\\right)^{\\frac{22}{13}} + 11979 \\, r^{3} r_{m}^{5} \\left(\\frac{r - r_{m}}{r}\\right)^{\\frac{22}{13}} - 26364 \\, r^{6} r_{m} r_{p} \\left(\\frac{r - r_{m}}{r}\\right)^{\\frac{22}{13}} + 50531 \\, r^{5} r_{m}^{2} r_{p} \\left(\\frac{r - r_{m}}{r}\\right)^{\\frac{22}{13}} - 50141 \\, r^{4} r_{m}^{3} r_{p} \\left(\\frac{r - r_{m}}{r}\\right)^{\\frac{22}{13}} + 43497 \\, r^{3} r_{m}^{4} r_{p} \\left(\\frac{r - r_{m}}{r}\\right)^{\\frac{22}{13}} - 17523 \\, r^{2} r_{m}^{5} r_{p} \\left(\\frac{r - r_{m}}{r}\\right)^{\\frac{22}{13}} + 7722 \\, r^{3} r_{m}^{3} r_{p}^{2} \\left(\\frac{r - r_{m}}{r}\\right)^{\\frac{22}{13}} - 13266 \\, r^{2} r_{m}^{4} r_{p}^{2} \\left(\\frac{r - r_{m}}{r}\\right)^{\\frac{22}{13}} + 5544 \\, r r_{m}^{5} r_{p}^{2} \\left(\\frac{r - r_{m}}{r}\\right)^{\\frac{22}{13}} + 3211 \\, r^{6} r_{m}^{2} \\left(\\frac{r - r_{m}}{r}\\right)^{\\frac{9}{13}} - 4199 \\, r^{5} r_{m}^{3} \\left(\\frac{r - r_{m}}{r}\\right)^{\\frac{9}{13}} + 646 \\, r^{4} r_{m}^{4} \\left(\\frac{r - r_{m}}{r}\\right)^{\\frac{9}{13}} - 1539 \\, r^{3} r_{m}^{5} \\left(\\frac{r - r_{m}}{r}\\right)^{\\frac{9}{13}} + 1881 \\, r^{2} r_{m}^{6} \\left(\\frac{r - r_{m}}{r}\\right)^{\\frac{9}{13}} - 3211 \\, r^{5} r_{m}^{2} r_{p} \\left(\\frac{r - r_{m}}{r}\\right)^{\\frac{9}{13}} + 4199 \\, r^{4} r_{m}^{3} r_{p} \\left(\\frac{r - r_{m}}{r}\\right)^{\\frac{9}{13}} - 2527 \\, r^{3} r_{m}^{4} r_{p} \\left(\\frac{r - r_{m}}{r}\\right)^{\\frac{9}{13}} + 5301 \\, r^{2} r_{m}^{5} r_{p} \\left(\\frac{r - r_{m}}{r}\\right)^{\\frac{9}{13}} - 3762 \\, r r_{m}^{6} r_{p} \\left(\\frac{r - r_{m}}{r}\\right)^{\\frac{9}{13}} + 1881 \\, r^{2} r_{m}^{4} r_{p}^{2} \\left(\\frac{r - r_{m}}{r}\\right)^{\\frac{9}{13}} - 3762 \\, r r_{m}^{5} r_{p}^{2} \\left(\\frac{r - r_{m}}{r}\\right)^{\\frac{9}{13}} + 1881 \\, r_{m}^{6} r_{p}^{2} \\left(\\frac{r - r_{m}}{r}\\right)^{\\frac{9}{13}} - 8788 \\, r^{7} r_{m} + 24336 \\, r^{6} r_{m}^{2} - 22308 \\, r^{5} r_{m}^{3} + 6760 \\, r^{4} r_{m}^{4} + 30758 \\, r^{6} r_{m} r_{p} - 90246 \\, r^{5} r_{m}^{2} r_{p} + 88218 \\, r^{4} r_{m}^{3} r_{p} - 28730 \\, r^{3} r_{m}^{4} r_{p}\\right)} a \\sin\\left({\\theta}\\right)^{2}}{16731 \\, {\\left(r - r_{m}\\right)}^{3} r^{5} r_{m}^{2}} & 0 & 0 & -\\frac{2 \\, {\\left(26 \\, r^{2} - 20 \\, r r_{m} - 91 \\, r r_{p} + 85 \\, r_{m} r_{p}\\right)} r_{m} \\sin\\left({\\theta}\\right)^{2}}{169 \\, {\\left(r - r_{m}\\right)} r^{2}}\n",
       "\\end{array}\\right)\\)</html>"
      ],
      "text/latex": [
       "$\\displaystyle \\left(\\begin{array}{rrrr}\n",
       "\\frac{2 \\, {\\left(15 \\, r r_{m} + 104 \\, r r_{p} - 119 \\, r_{m} r_{p}\\right)} {\\left(r - r_{p}\\right)} r_{m}}{169 \\, r^{6} \\left(\\frac{r - r_{m}}{r}\\right)^{\\frac{4}{13}}} & 0 & 0 & -\\frac{{\\left(28561 \\, r^{8} \\left(\\frac{r - r_{m}}{r}\\right)^{\\frac{35}{13}} - 32955 \\, r^{7} r_{m} \\left(\\frac{r - r_{m}}{r}\\right)^{\\frac{35}{13}} + 2535 \\, r^{6} r_{m}^{2} \\left(\\frac{r - r_{m}}{r}\\right)^{\\frac{35}{13}} - 15444 \\, r^{5} r_{m}^{3} \\left(\\frac{r - r_{m}}{r}\\right)^{\\frac{35}{13}} + 13068 \\, r^{4} r_{m}^{4} \\left(\\frac{r - r_{m}}{r}\\right)^{\\frac{35}{13}} - 4394 \\, r^{6} r_{m} r_{p} \\left(\\frac{r - r_{m}}{r}\\right)^{\\frac{35}{13}} - 13520 \\, r^{5} r_{m}^{2} r_{p} \\left(\\frac{r - r_{m}}{r}\\right)^{\\frac{35}{13}} + 63531 \\, r^{4} r_{m}^{3} r_{p} \\left(\\frac{r - r_{m}}{r}\\right)^{\\frac{35}{13}} - 40293 \\, r^{3} r_{m}^{4} r_{p} \\left(\\frac{r - r_{m}}{r}\\right)^{\\frac{35}{13}} - 28314 \\, r^{3} r_{m}^{3} r_{p}^{2} \\left(\\frac{r - r_{m}}{r}\\right)^{\\frac{35}{13}} + 27225 \\, r^{2} r_{m}^{4} r_{p}^{2} \\left(\\frac{r - r_{m}}{r}\\right)^{\\frac{35}{13}} - 28561 \\, r^{8} \\left(\\frac{r - r_{m}}{r}\\right)^{\\frac{22}{13}} + 70304 \\, r^{7} r_{m} \\left(\\frac{r - r_{m}}{r}\\right)^{\\frac{22}{13}} - 48165 \\, r^{6} r_{m}^{2} \\left(\\frac{r - r_{m}}{r}\\right)^{\\frac{22}{13}} + 20111 \\, r^{5} r_{m}^{3} \\left(\\frac{r - r_{m}}{r}\\right)^{\\frac{22}{13}} - 25668 \\, r^{4} r_{m}^{4} \\left(\\frac{r - r_{m}}{r}\\right)^{\\frac{22}{13}} + 11979 \\, r^{3} r_{m}^{5} \\left(\\frac{r - r_{m}}{r}\\right)^{\\frac{22}{13}} - 26364 \\, r^{6} r_{m} r_{p} \\left(\\frac{r - r_{m}}{r}\\right)^{\\frac{22}{13}} + 50531 \\, r^{5} r_{m}^{2} r_{p} \\left(\\frac{r - r_{m}}{r}\\right)^{\\frac{22}{13}} - 50141 \\, r^{4} r_{m}^{3} r_{p} \\left(\\frac{r - r_{m}}{r}\\right)^{\\frac{22}{13}} + 43497 \\, r^{3} r_{m}^{4} r_{p} \\left(\\frac{r - r_{m}}{r}\\right)^{\\frac{22}{13}} - 17523 \\, r^{2} r_{m}^{5} r_{p} \\left(\\frac{r - r_{m}}{r}\\right)^{\\frac{22}{13}} + 7722 \\, r^{3} r_{m}^{3} r_{p}^{2} \\left(\\frac{r - r_{m}}{r}\\right)^{\\frac{22}{13}} - 13266 \\, r^{2} r_{m}^{4} r_{p}^{2} \\left(\\frac{r - r_{m}}{r}\\right)^{\\frac{22}{13}} + 5544 \\, r r_{m}^{5} r_{p}^{2} \\left(\\frac{r - r_{m}}{r}\\right)^{\\frac{22}{13}} + 3211 \\, r^{6} r_{m}^{2} \\left(\\frac{r - r_{m}}{r}\\right)^{\\frac{9}{13}} - 4199 \\, r^{5} r_{m}^{3} \\left(\\frac{r - r_{m}}{r}\\right)^{\\frac{9}{13}} + 646 \\, r^{4} r_{m}^{4} \\left(\\frac{r - r_{m}}{r}\\right)^{\\frac{9}{13}} - 1539 \\, r^{3} r_{m}^{5} \\left(\\frac{r - r_{m}}{r}\\right)^{\\frac{9}{13}} + 1881 \\, r^{2} r_{m}^{6} \\left(\\frac{r - r_{m}}{r}\\right)^{\\frac{9}{13}} - 3211 \\, r^{5} r_{m}^{2} r_{p} \\left(\\frac{r - r_{m}}{r}\\right)^{\\frac{9}{13}} + 4199 \\, r^{4} r_{m}^{3} r_{p} \\left(\\frac{r - r_{m}}{r}\\right)^{\\frac{9}{13}} - 2527 \\, r^{3} r_{m}^{4} r_{p} \\left(\\frac{r - r_{m}}{r}\\right)^{\\frac{9}{13}} + 5301 \\, r^{2} r_{m}^{5} r_{p} \\left(\\frac{r - r_{m}}{r}\\right)^{\\frac{9}{13}} - 3762 \\, r r_{m}^{6} r_{p} \\left(\\frac{r - r_{m}}{r}\\right)^{\\frac{9}{13}} + 1881 \\, r^{2} r_{m}^{4} r_{p}^{2} \\left(\\frac{r - r_{m}}{r}\\right)^{\\frac{9}{13}} - 3762 \\, r r_{m}^{5} r_{p}^{2} \\left(\\frac{r - r_{m}}{r}\\right)^{\\frac{9}{13}} + 1881 \\, r_{m}^{6} r_{p}^{2} \\left(\\frac{r - r_{m}}{r}\\right)^{\\frac{9}{13}} - 8788 \\, r^{7} r_{m} + 24336 \\, r^{6} r_{m}^{2} - 22308 \\, r^{5} r_{m}^{3} + 6760 \\, r^{4} r_{m}^{4} + 30758 \\, r^{6} r_{m} r_{p} - 90246 \\, r^{5} r_{m}^{2} r_{p} + 88218 \\, r^{4} r_{m}^{3} r_{p} - 28730 \\, r^{3} r_{m}^{4} r_{p}\\right)} a \\sin\\left({\\theta}\\right)^{2}}{16731 \\, {\\left(r - r_{m}\\right)}^{3} r^{5} r_{m}^{2}} \\\\\n",
       "0 & \\frac{2 \\, {\\left(52 \\, r^{2} - 25 \\, r r_{m} - 156 \\, r r_{p} + 129 \\, r_{m} r_{p}\\right)} r_{m}}{169 \\, {\\left(r - r_{m}\\right)}^{2} {\\left(r - r_{p}\\right)} r^{2}} & 0 & 0 \\\\\n",
       "0 & 0 & -\\frac{2 \\, {\\left(26 \\, r^{2} - 20 \\, r r_{m} - 91 \\, r r_{p} + 85 \\, r_{m} r_{p}\\right)} r_{m}}{169 \\, {\\left(r - r_{m}\\right)} r^{2}} & 0 \\\\\n",
       "-\\frac{{\\left(28561 \\, r^{8} \\left(\\frac{r - r_{m}}{r}\\right)^{\\frac{35}{13}} - 32955 \\, r^{7} r_{m} \\left(\\frac{r - r_{m}}{r}\\right)^{\\frac{35}{13}} + 2535 \\, r^{6} r_{m}^{2} \\left(\\frac{r - r_{m}}{r}\\right)^{\\frac{35}{13}} - 15444 \\, r^{5} r_{m}^{3} \\left(\\frac{r - r_{m}}{r}\\right)^{\\frac{35}{13}} + 13068 \\, r^{4} r_{m}^{4} \\left(\\frac{r - r_{m}}{r}\\right)^{\\frac{35}{13}} - 4394 \\, r^{6} r_{m} r_{p} \\left(\\frac{r - r_{m}}{r}\\right)^{\\frac{35}{13}} - 13520 \\, r^{5} r_{m}^{2} r_{p} \\left(\\frac{r - r_{m}}{r}\\right)^{\\frac{35}{13}} + 63531 \\, r^{4} r_{m}^{3} r_{p} \\left(\\frac{r - r_{m}}{r}\\right)^{\\frac{35}{13}} - 40293 \\, r^{3} r_{m}^{4} r_{p} \\left(\\frac{r - r_{m}}{r}\\right)^{\\frac{35}{13}} - 28314 \\, r^{3} r_{m}^{3} r_{p}^{2} \\left(\\frac{r - r_{m}}{r}\\right)^{\\frac{35}{13}} + 27225 \\, r^{2} r_{m}^{4} r_{p}^{2} \\left(\\frac{r - r_{m}}{r}\\right)^{\\frac{35}{13}} - 28561 \\, r^{8} \\left(\\frac{r - r_{m}}{r}\\right)^{\\frac{22}{13}} + 70304 \\, r^{7} r_{m} \\left(\\frac{r - r_{m}}{r}\\right)^{\\frac{22}{13}} - 48165 \\, r^{6} r_{m}^{2} \\left(\\frac{r - r_{m}}{r}\\right)^{\\frac{22}{13}} + 20111 \\, r^{5} r_{m}^{3} \\left(\\frac{r - r_{m}}{r}\\right)^{\\frac{22}{13}} - 25668 \\, r^{4} r_{m}^{4} \\left(\\frac{r - r_{m}}{r}\\right)^{\\frac{22}{13}} + 11979 \\, r^{3} r_{m}^{5} \\left(\\frac{r - r_{m}}{r}\\right)^{\\frac{22}{13}} - 26364 \\, r^{6} r_{m} r_{p} \\left(\\frac{r - r_{m}}{r}\\right)^{\\frac{22}{13}} + 50531 \\, r^{5} r_{m}^{2} r_{p} \\left(\\frac{r - r_{m}}{r}\\right)^{\\frac{22}{13}} - 50141 \\, r^{4} r_{m}^{3} r_{p} \\left(\\frac{r - r_{m}}{r}\\right)^{\\frac{22}{13}} + 43497 \\, r^{3} r_{m}^{4} r_{p} \\left(\\frac{r - r_{m}}{r}\\right)^{\\frac{22}{13}} - 17523 \\, r^{2} r_{m}^{5} r_{p} \\left(\\frac{r - r_{m}}{r}\\right)^{\\frac{22}{13}} + 7722 \\, r^{3} r_{m}^{3} r_{p}^{2} \\left(\\frac{r - r_{m}}{r}\\right)^{\\frac{22}{13}} - 13266 \\, r^{2} r_{m}^{4} r_{p}^{2} \\left(\\frac{r - r_{m}}{r}\\right)^{\\frac{22}{13}} + 5544 \\, r r_{m}^{5} r_{p}^{2} \\left(\\frac{r - r_{m}}{r}\\right)^{\\frac{22}{13}} + 3211 \\, r^{6} r_{m}^{2} \\left(\\frac{r - r_{m}}{r}\\right)^{\\frac{9}{13}} - 4199 \\, r^{5} r_{m}^{3} \\left(\\frac{r - r_{m}}{r}\\right)^{\\frac{9}{13}} + 646 \\, r^{4} r_{m}^{4} \\left(\\frac{r - r_{m}}{r}\\right)^{\\frac{9}{13}} - 1539 \\, r^{3} r_{m}^{5} \\left(\\frac{r - r_{m}}{r}\\right)^{\\frac{9}{13}} + 1881 \\, r^{2} r_{m}^{6} \\left(\\frac{r - r_{m}}{r}\\right)^{\\frac{9}{13}} - 3211 \\, r^{5} r_{m}^{2} r_{p} \\left(\\frac{r - r_{m}}{r}\\right)^{\\frac{9}{13}} + 4199 \\, r^{4} r_{m}^{3} r_{p} \\left(\\frac{r - r_{m}}{r}\\right)^{\\frac{9}{13}} - 2527 \\, r^{3} r_{m}^{4} r_{p} \\left(\\frac{r - r_{m}}{r}\\right)^{\\frac{9}{13}} + 5301 \\, r^{2} r_{m}^{5} r_{p} \\left(\\frac{r - r_{m}}{r}\\right)^{\\frac{9}{13}} - 3762 \\, r r_{m}^{6} r_{p} \\left(\\frac{r - r_{m}}{r}\\right)^{\\frac{9}{13}} + 1881 \\, r^{2} r_{m}^{4} r_{p}^{2} \\left(\\frac{r - r_{m}}{r}\\right)^{\\frac{9}{13}} - 3762 \\, r r_{m}^{5} r_{p}^{2} \\left(\\frac{r - r_{m}}{r}\\right)^{\\frac{9}{13}} + 1881 \\, r_{m}^{6} r_{p}^{2} \\left(\\frac{r - r_{m}}{r}\\right)^{\\frac{9}{13}} - 8788 \\, r^{7} r_{m} + 24336 \\, r^{6} r_{m}^{2} - 22308 \\, r^{5} r_{m}^{3} + 6760 \\, r^{4} r_{m}^{4} + 30758 \\, r^{6} r_{m} r_{p} - 90246 \\, r^{5} r_{m}^{2} r_{p} + 88218 \\, r^{4} r_{m}^{3} r_{p} - 28730 \\, r^{3} r_{m}^{4} r_{p}\\right)} a \\sin\\left({\\theta}\\right)^{2}}{16731 \\, {\\left(r - r_{m}\\right)}^{3} r^{5} r_{m}^{2}} & 0 & 0 & -\\frac{2 \\, {\\left(26 \\, r^{2} - 20 \\, r r_{m} - 91 \\, r r_{p} + 85 \\, r_{m} r_{p}\\right)} r_{m} \\sin\\left({\\theta}\\right)^{2}}{169 \\, {\\left(r - r_{m}\\right)} r^{2}}\n",
       "\\end{array}\\right)$"
      ],
      "text/plain": [
       "[                                                                                                                                                                                                                                                                                                                                                                                                                                                                                                                                                                                                                                                                                                                                                                                                                                                                                                                                                                                                                                                                                                                                                                                                                                                                                                                                                                                                                                                                                                                                                                                                                                                                                                                                              2/169*(15*r*r_m + 104*r*r_p - 119*r_m*r_p)*(r - r_p)*r_m/(r^6*((r - r_m)/r)^(4/13))                                                                                                                                                                                                                                                                                                                                                                                                                                                                                                                                                                                                                                                                                                                                                                                                                                                                                                                                                                                                                                                                                                                                                                                                                                                                                                                                                                                                                                                                                                                                                                                                                                                                                                                                                                                                                                 0                                                                                                                                                                                                                                                                                                                                                                                                                                                                                                                                                                                                                                                                                                                                                                                                                                                                                                                                                                                                                                                                                                                                                                                                                                                                                                                                                                                                                                                                                                                                                                                                                                                                                                                                                                                                                                 0 -1/16731*(28561*r^8*((r - r_m)/r)^(35/13) - 32955*r^7*r_m*((r - r_m)/r)^(35/13) + 2535*r^6*r_m^2*((r - r_m)/r)^(35/13) - 15444*r^5*r_m^3*((r - r_m)/r)^(35/13) + 13068*r^4*r_m^4*((r - r_m)/r)^(35/13) - 4394*r^6*r_m*r_p*((r - r_m)/r)^(35/13) - 13520*r^5*r_m^2*r_p*((r - r_m)/r)^(35/13) + 63531*r^4*r_m^3*r_p*((r - r_m)/r)^(35/13) - 40293*r^3*r_m^4*r_p*((r - r_m)/r)^(35/13) - 28314*r^3*r_m^3*r_p^2*((r - r_m)/r)^(35/13) + 27225*r^2*r_m^4*r_p^2*((r - r_m)/r)^(35/13) - 28561*r^8*((r - r_m)/r)^(22/13) + 70304*r^7*r_m*((r - r_m)/r)^(22/13) - 48165*r^6*r_m^2*((r - r_m)/r)^(22/13) + 20111*r^5*r_m^3*((r - r_m)/r)^(22/13) - 25668*r^4*r_m^4*((r - r_m)/r)^(22/13) + 11979*r^3*r_m^5*((r - r_m)/r)^(22/13) - 26364*r^6*r_m*r_p*((r - r_m)/r)^(22/13) + 50531*r^5*r_m^2*r_p*((r - r_m)/r)^(22/13) - 50141*r^4*r_m^3*r_p*((r - r_m)/r)^(22/13) + 43497*r^3*r_m^4*r_p*((r - r_m)/r)^(22/13) - 17523*r^2*r_m^5*r_p*((r - r_m)/r)^(22/13) + 7722*r^3*r_m^3*r_p^2*((r - r_m)/r)^(22/13) - 13266*r^2*r_m^4*r_p^2*((r - r_m)/r)^(22/13) + 5544*r*r_m^5*r_p^2*((r - r_m)/r)^(22/13) + 3211*r^6*r_m^2*((r - r_m)/r)^(9/13) - 4199*r^5*r_m^3*((r - r_m)/r)^(9/13) + 646*r^4*r_m^4*((r - r_m)/r)^(9/13) - 1539*r^3*r_m^5*((r - r_m)/r)^(9/13) + 1881*r^2*r_m^6*((r - r_m)/r)^(9/13) - 3211*r^5*r_m^2*r_p*((r - r_m)/r)^(9/13) + 4199*r^4*r_m^3*r_p*((r - r_m)/r)^(9/13) - 2527*r^3*r_m^4*r_p*((r - r_m)/r)^(9/13) + 5301*r^2*r_m^5*r_p*((r - r_m)/r)^(9/13) - 3762*r*r_m^6*r_p*((r - r_m)/r)^(9/13) + 1881*r^2*r_m^4*r_p^2*((r - r_m)/r)^(9/13) - 3762*r*r_m^5*r_p^2*((r - r_m)/r)^(9/13) + 1881*r_m^6*r_p^2*((r - r_m)/r)^(9/13) - 8788*r^7*r_m + 24336*r^6*r_m^2 - 22308*r^5*r_m^3 + 6760*r^4*r_m^4 + 30758*r^6*r_m*r_p - 90246*r^5*r_m^2*r_p + 88218*r^4*r_m^3*r_p - 28730*r^3*r_m^4*r_p)*a*sin(th)^2/((r - r_m)^3*r^5*r_m^2)]\n",
       "[                                                                                                                                                                                                                                                                                                                                                                                                                                                                                                                                                                                                                                                                                                                                                                                                                                                                                                                                                                                                                                                                                                                                                                                                                                                                                                                                                                                                                                                                                                                                                                                                                                                                                                                                                                                                                                0                                                                                                                                                                                                                                                                                                                                                                                                                                                                                                                                                                                                                                                                                                                                                                                                                                                                                                                                                                                                                                                                                                                                                                                                                                                                                                                                                                                                                                                                                                                                                                                                                                                                                                                                               2/169*(52*r^2 - 25*r*r_m - 156*r*r_p + 129*r_m*r_p)*r_m/((r - r_m)^2*(r - r_p)*r^2)                                                                                                                                                                                                                                                                                                                                                                                                                                                                                                                                                                                                                                                                                                                                                                                                                                                                                                                                                                                                                                                                                                                                                                                                                                                                                                                                                                                                                                                                                                                                                                                                                                                                                                                                                                                                                                 0                                                                                                                                                                                                                                                                                                                                                                                                                                                                                                                                                                                                                                                                                                                                                                                                                                                                                                                                                                                                                                                                                                                                                                                                                                                                                                                                                                                                                                                                                                                                                                                                                                                                                                                                                                                                                                 0]\n",
       "[                                                                                                                                                                                                                                                                                                                                                                                                                                                                                                                                                                                                                                                                                                                                                                                                                                                                                                                                                                                                                                                                                                                                                                                                                                                                                                                                                                                                                                                                                                                                                                                                                                                                                                                                                                                                                                0                                                                                                                                                                                                                                                                                                                                                                                                                                                                                                                                                                                                                                                                                                                                                                                                                                                                                                                                                                                                                                                                                                                                                                                                                                                                                                                                                                                                                                                                                                                                                                                                                                                                                                                                                                                                                                 0                                                                                                                                                                                                                                                                                                                                                                                                                                                                                                                                                                                                                                                                                                                                                                                                                                                                                                                                                                                                                                                                                                                                                                                                                                                                                                                                                                                                                                                                                                                                                                                                                                                                                                                                                            -2/169*(26*r^2 - 20*r*r_m - 91*r*r_p + 85*r_m*r_p)*r_m/((r - r_m)*r^2)                                                                                                                                                                                                                                                                                                                                                                                                                                                                                                                                                                                                                                                                                                                                                                                                                                                                                                                                                                                                                                                                                                                                                                                                                                                                                                                                                                                                                                                                                                                                                                                                                                                                                                                                                                                                                                 0]\n",
       "[-1/16731*(28561*r^8*((r - r_m)/r)^(35/13) - 32955*r^7*r_m*((r - r_m)/r)^(35/13) + 2535*r^6*r_m^2*((r - r_m)/r)^(35/13) - 15444*r^5*r_m^3*((r - r_m)/r)^(35/13) + 13068*r^4*r_m^4*((r - r_m)/r)^(35/13) - 4394*r^6*r_m*r_p*((r - r_m)/r)^(35/13) - 13520*r^5*r_m^2*r_p*((r - r_m)/r)^(35/13) + 63531*r^4*r_m^3*r_p*((r - r_m)/r)^(35/13) - 40293*r^3*r_m^4*r_p*((r - r_m)/r)^(35/13) - 28314*r^3*r_m^3*r_p^2*((r - r_m)/r)^(35/13) + 27225*r^2*r_m^4*r_p^2*((r - r_m)/r)^(35/13) - 28561*r^8*((r - r_m)/r)^(22/13) + 70304*r^7*r_m*((r - r_m)/r)^(22/13) - 48165*r^6*r_m^2*((r - r_m)/r)^(22/13) + 20111*r^5*r_m^3*((r - r_m)/r)^(22/13) - 25668*r^4*r_m^4*((r - r_m)/r)^(22/13) + 11979*r^3*r_m^5*((r - r_m)/r)^(22/13) - 26364*r^6*r_m*r_p*((r - r_m)/r)^(22/13) + 50531*r^5*r_m^2*r_p*((r - r_m)/r)^(22/13) - 50141*r^4*r_m^3*r_p*((r - r_m)/r)^(22/13) + 43497*r^3*r_m^4*r_p*((r - r_m)/r)^(22/13) - 17523*r^2*r_m^5*r_p*((r - r_m)/r)^(22/13) + 7722*r^3*r_m^3*r_p^2*((r - r_m)/r)^(22/13) - 13266*r^2*r_m^4*r_p^2*((r - r_m)/r)^(22/13) + 5544*r*r_m^5*r_p^2*((r - r_m)/r)^(22/13) + 3211*r^6*r_m^2*((r - r_m)/r)^(9/13) - 4199*r^5*r_m^3*((r - r_m)/r)^(9/13) + 646*r^4*r_m^4*((r - r_m)/r)^(9/13) - 1539*r^3*r_m^5*((r - r_m)/r)^(9/13) + 1881*r^2*r_m^6*((r - r_m)/r)^(9/13) - 3211*r^5*r_m^2*r_p*((r - r_m)/r)^(9/13) + 4199*r^4*r_m^3*r_p*((r - r_m)/r)^(9/13) - 2527*r^3*r_m^4*r_p*((r - r_m)/r)^(9/13) + 5301*r^2*r_m^5*r_p*((r - r_m)/r)^(9/13) - 3762*r*r_m^6*r_p*((r - r_m)/r)^(9/13) + 1881*r^2*r_m^4*r_p^2*((r - r_m)/r)^(9/13) - 3762*r*r_m^5*r_p^2*((r - r_m)/r)^(9/13) + 1881*r_m^6*r_p^2*((r - r_m)/r)^(9/13) - 8788*r^7*r_m + 24336*r^6*r_m^2 - 22308*r^5*r_m^3 + 6760*r^4*r_m^4 + 30758*r^6*r_m*r_p - 90246*r^5*r_m^2*r_p + 88218*r^4*r_m^3*r_p - 28730*r^3*r_m^4*r_p)*a*sin(th)^2/((r - r_m)^3*r^5*r_m^2)                                                                                                                                                                                                                                                                                                                                                                                                                                                                                                                                                                                                                                                                                                                                                                                                                                                                                                                                                                                                                                                                                                                                                                                                                                                                                                                                                                                                                                                                                                                                                                                                                                                                                                                                                                                                                                 0                                                                                                                                                                                                                                                                                                                                                                                                                                                                                                                                                                                                                                                                                                                                                                                                                                                                                                                                                                                                                                                                                                                                                                                                                                                                                                                                                                                                                                                                                                                                                                                                                                                                                                                                                                                                                                 0                                                                                                                                                                                                                                                                                                                                                                                                                                                                                                                                                                                                                                                                                                                                                                                                                                                                                                                                                                                                                                                                                                                                                                                                                                                                                                                                                                                                                                                                                                                                                                                                                                                                                                                                                  -2/169*(26*r^2 - 20*r*r_m - 91*r*r_p + 85*r_m*r_p)*r_m*sin(th)^2/((r - r_m)*r^2)]"
      ]
     },
     "execution_count": 27,
     "metadata": {},
     "output_type": "execute_result"
    }
   ],
   "source": [
    "ER_ricc = g.ricci()\n",
    "ER_ricc.apply_map(lambda f: f.taylor(a,0,1)) \n",
    "ER_ricc.apply_map(lambda f: f.substitute_function(Z,E))\n",
    "ER_ricc.apply_map(lambda f: f.taylor(a,0,1))\n",
    "ER_ricc.apply_map(lambda f: f.substitute_function(U, A).substitute_function(V, B).substitute_function(X, C).substitute_function(Y, D))\n",
    "ER_ricc.apply_map(lambda f: f.substitute_function(O, Omega))\n",
    "ER_ricc.apply_map(lambda f: f.subs(Q=H).subs(alpha=1/(2*3**(1/2))))\n",
    "ER_ricc.apply_map(lambda f: f.factor())\n",
    "ER_ricc[:]"
   ]
  },
  {
   "cell_type": "code",
   "execution_count": 28,
   "id": "dc562424-e3f3-44ec-91a0-3622a30fae66",
   "metadata": {},
   "outputs": [
    {
     "data": {
      "text/html": [
       "<html>\\(\\displaystyle \\left(2, 0\\right)\\)</html>"
      ],
      "text/latex": [
       "$\\displaystyle \\left(2, 0\\right)$"
      ],
      "text/plain": [
       "(2, 0)"
      ]
     },
     "execution_count": 28,
     "metadata": {},
     "output_type": "execute_result"
    }
   ],
   "source": [
    "gu = g.up(g) ; gu.tensor_type()"
   ]
  },
  {
   "cell_type": "code",
   "execution_count": 29,
   "id": "acbae5b2-7c5d-4db2-b2ea-c4565714b371",
   "metadata": {},
   "outputs": [
    {
     "data": {
      "text/html": [
       "<html>\\(\\displaystyle -\\frac{r}{{\\left(r - r_{p}\\right)} \\left(\\frac{r - r_{m}}{r}\\right)^{\\frac{15}{13}}} \\frac{\\partial}{\\partial t }\\otimes \\frac{\\partial}{\\partial t } + \\frac{{\\left(169 \\, r^{3} \\left(\\frac{r - r_{m}}{r}\\right)^{\\frac{9}{13}} + 117 \\, r^{2} r_{m} \\left(\\frac{r - r_{m}}{r}\\right)^{\\frac{9}{13}} + 99 \\, r r_{m}^{2} \\left(\\frac{r - r_{m}}{r}\\right)^{\\frac{9}{13}} - 99 \\, r_{m}^{2} r_{p} \\left(\\frac{r - r_{m}}{r}\\right)^{\\frac{9}{13}} - 169 \\, r^{3}\\right)} a}{99 \\, {\\left(r - r_{p}\\right)} r^{2} r_{m}^{2} \\left(\\frac{r - r_{m}}{r}\\right)^{\\frac{15}{13}}} \\frac{\\partial}{\\partial t }\\otimes \\frac{\\partial}{\\partial {\\phi} } + \\frac{{\\left(r - r_{p}\\right)} \\left(\\frac{r - r_{m}}{r}\\right)^{\\frac{7}{13}}}{r} \\frac{\\partial}{\\partial r }\\otimes \\frac{\\partial}{\\partial r } + \\frac{1}{r^{2} \\left(\\frac{r - r_{m}}{r}\\right)^{\\frac{6}{13}}} \\frac{\\partial}{\\partial {\\theta} }\\otimes \\frac{\\partial}{\\partial {\\theta} } + \\frac{{\\left(169 \\, r^{3} \\left(\\frac{r - r_{m}}{r}\\right)^{\\frac{9}{13}} + 117 \\, r^{2} r_{m} \\left(\\frac{r - r_{m}}{r}\\right)^{\\frac{9}{13}} + 99 \\, r r_{m}^{2} \\left(\\frac{r - r_{m}}{r}\\right)^{\\frac{9}{13}} - 99 \\, r_{m}^{2} r_{p} \\left(\\frac{r - r_{m}}{r}\\right)^{\\frac{9}{13}} - 169 \\, r^{3}\\right)} a}{99 \\, {\\left(r - r_{p}\\right)} r^{2} r_{m}^{2} \\left(\\frac{r - r_{m}}{r}\\right)^{\\frac{15}{13}}} \\frac{\\partial}{\\partial {\\phi} }\\otimes \\frac{\\partial}{\\partial t } + \\frac{1}{r^{2} \\left(\\frac{r - r_{m}}{r}\\right)^{\\frac{6}{13}} \\sin\\left({\\theta}\\right)^{2}} \\frac{\\partial}{\\partial {\\phi} }\\otimes \\frac{\\partial}{\\partial {\\phi} }\\)</html>"
      ],
      "text/latex": [
       "$\\displaystyle -\\frac{r}{{\\left(r - r_{p}\\right)} \\left(\\frac{r - r_{m}}{r}\\right)^{\\frac{15}{13}}} \\frac{\\partial}{\\partial t }\\otimes \\frac{\\partial}{\\partial t } + \\frac{{\\left(169 \\, r^{3} \\left(\\frac{r - r_{m}}{r}\\right)^{\\frac{9}{13}} + 117 \\, r^{2} r_{m} \\left(\\frac{r - r_{m}}{r}\\right)^{\\frac{9}{13}} + 99 \\, r r_{m}^{2} \\left(\\frac{r - r_{m}}{r}\\right)^{\\frac{9}{13}} - 99 \\, r_{m}^{2} r_{p} \\left(\\frac{r - r_{m}}{r}\\right)^{\\frac{9}{13}} - 169 \\, r^{3}\\right)} a}{99 \\, {\\left(r - r_{p}\\right)} r^{2} r_{m}^{2} \\left(\\frac{r - r_{m}}{r}\\right)^{\\frac{15}{13}}} \\frac{\\partial}{\\partial t }\\otimes \\frac{\\partial}{\\partial {\\phi} } + \\frac{{\\left(r - r_{p}\\right)} \\left(\\frac{r - r_{m}}{r}\\right)^{\\frac{7}{13}}}{r} \\frac{\\partial}{\\partial r }\\otimes \\frac{\\partial}{\\partial r } + \\frac{1}{r^{2} \\left(\\frac{r - r_{m}}{r}\\right)^{\\frac{6}{13}}} \\frac{\\partial}{\\partial {\\theta} }\\otimes \\frac{\\partial}{\\partial {\\theta} } + \\frac{{\\left(169 \\, r^{3} \\left(\\frac{r - r_{m}}{r}\\right)^{\\frac{9}{13}} + 117 \\, r^{2} r_{m} \\left(\\frac{r - r_{m}}{r}\\right)^{\\frac{9}{13}} + 99 \\, r r_{m}^{2} \\left(\\frac{r - r_{m}}{r}\\right)^{\\frac{9}{13}} - 99 \\, r_{m}^{2} r_{p} \\left(\\frac{r - r_{m}}{r}\\right)^{\\frac{9}{13}} - 169 \\, r^{3}\\right)} a}{99 \\, {\\left(r - r_{p}\\right)} r^{2} r_{m}^{2} \\left(\\frac{r - r_{m}}{r}\\right)^{\\frac{15}{13}}} \\frac{\\partial}{\\partial {\\phi} }\\otimes \\frac{\\partial}{\\partial t } + \\frac{1}{r^{2} \\left(\\frac{r - r_{m}}{r}\\right)^{\\frac{6}{13}} \\sin\\left({\\theta}\\right)^{2}} \\frac{\\partial}{\\partial {\\phi} }\\otimes \\frac{\\partial}{\\partial {\\phi} }$"
      ],
      "text/plain": [
       "-r/((r - r_p)*((r - r_m)/r)^(15/13)) ∂/∂t⊗∂/∂t + 1/99*(169*r^3*((r - r_m)/r)^(9/13) + 117*r^2*r_m*((r - r_m)/r)^(9/13) + 99*r*r_m^2*((r - r_m)/r)^(9/13) - 99*r_m^2*r_p*((r - r_m)/r)^(9/13) - 169*r^3)*a/((r - r_p)*r^2*r_m^2*((r - r_m)/r)^(15/13)) ∂/∂t⊗∂/∂ph + (r - r_p)*((r - r_m)/r)^(7/13)/r ∂/∂r⊗∂/∂r + 1/(r^2*((r - r_m)/r)^(6/13)) ∂/∂th⊗∂/∂th + 1/99*(169*r^3*((r - r_m)/r)^(9/13) + 117*r^2*r_m*((r - r_m)/r)^(9/13) + 99*r*r_m^2*((r - r_m)/r)^(9/13) - 99*r_m^2*r_p*((r - r_m)/r)^(9/13) - 169*r^3)*a/((r - r_p)*r^2*r_m^2*((r - r_m)/r)^(15/13)) ∂/∂ph⊗∂/∂t + 1/(r^2*((r - r_m)/r)^(6/13)*sin(th)^2) ∂/∂ph⊗∂/∂ph"
      ]
     },
     "execution_count": 29,
     "metadata": {},
     "output_type": "execute_result"
    }
   ],
   "source": [
    "gu.apply_map(lambda f: f.taylor(a,0,1)) \n",
    "gu.apply_map(lambda f: f.substitute_function(Z,E))\n",
    "gu.apply_map(lambda f: f.taylor(a,0,1))\n",
    "gu.apply_map(lambda f: f.substitute_function(U, A).substitute_function(V, B).substitute_function(X, C).substitute_function(Y, D))\n",
    "gu.apply_map(lambda f: f.substitute_function(O, Omega))\n",
    "gu.apply_map(lambda f: f.subs(Q=H).subs(alpha=1/(2*3**(1/2))))\n",
    "gu.apply_map(lambda f: f.factor())\n",
    "gu.display()"
   ]
  },
  {
   "cell_type": "code",
   "execution_count": 31,
   "id": "e34fcf9a-9d5e-4c23-8b4c-76a88ce90132",
   "metadata": {},
   "outputs": [
    {
     "data": {
      "text/html": [
       "<html>\\(\\displaystyle \\begin{array}{llcl} & M & \\longrightarrow & \\mathbb{R} \\\\ & \\left(t, r, {\\theta}, {\\phi}\\right) & \\longmapsto & -\\frac{4 \\, {\\left({\\left(742586 \\, a^{2} r^{9} - 285610 \\, a^{2} r^{8} r_{m} - 21970 \\, a^{2} r^{7} r_{m}^{2} - 190125 \\, a^{2} r^{6} r_{m}^{3} - 47970 \\, a^{2} r^{5} r_{m}^{4} - 49896 \\, a^{2} r^{4} r_{m}^{5} - 147015 \\, a^{2} r^{3} r_{m}^{6} + 9801 \\, {\\left(104 \\, a^{2} r^{2} r_{m}^{4} - 223 \\, a^{2} r r_{m}^{5} + 119 \\, a^{2} r_{m}^{6}\\right)} r_{p}^{3} - 99 \\, {\\left(2197 \\, a^{2} r^{5} r_{m}^{2} - 6422 \\, a^{2} r^{4} r_{m}^{3} + 18265 \\, a^{2} r^{3} r_{m}^{4} - 39087 \\, a^{2} r^{2} r_{m}^{5} + 25047 \\, a^{2} r r_{m}^{6}\\right)} r_{p}^{2} - {\\left(2599051 \\, a^{2} r^{8} - 1428050 \\, a^{2} r^{7} r_{m} - 2634203 \\, a^{2} r^{6} r_{m}^{2} + 1236573 \\, a^{2} r^{5} r_{m}^{3} + 52884 \\, a^{2} r^{4} r_{m}^{4} + 1634094 \\, a^{2} r^{3} r_{m}^{5} - 1460349 \\, a^{2} r^{2} r_{m}^{6}\\right)} r_{p}\\right)} {\\left(r - r_{m}\\right)}^{\\frac{5}{13}} \\sin\\left({\\theta}\\right)^{2} + 28561 \\, {\\left(26 \\, a^{2} r^{9} - 20 \\, a^{2} r^{8} r_{m} - {\\left(91 \\, a^{2} r^{8} - 85 \\, a^{2} r^{7} r_{m}\\right)} r_{p}\\right)} r^{\\frac{5}{13}} \\sin\\left({\\theta}\\right)^{2} - 13 \\, {\\left(29403 \\, {\\left(r^{4} r_{m}^{4} - r^{3} r_{m}^{5}\\right)} r_{p}^{2} + 13 \\, {\\left(8788 \\, a^{2} r^{8} - 676 \\, a^{2} r^{7} r_{m} + 468 \\, a^{2} r^{6} r_{m}^{2} - 495 \\, a^{2} r^{5} r_{m}^{3} - 99 \\, {\\left(13 \\, a^{2} r^{4} r_{m}^{2} - 34 \\, a^{2} r^{3} r_{m}^{3}\\right)} r_{p}^{2} - {\\left(30758 \\, a^{2} r^{7} - 7436 \\, a^{2} r^{6} r_{m} - 16029 \\, a^{2} r^{5} r_{m}^{2} + 2871 \\, a^{2} r^{4} r_{m}^{3}\\right)} r_{p}\\right)} \\sin\\left({\\theta}\\right)^{2} - 29403 \\, {\\left(r^{5} r_{m}^{4} - r^{4} r_{m}^{5}\\right)} r_{p}\\right)} {\\left(r - r_{m}\\right)}^{\\frac{9}{13}} r^{\\frac{9}{13}}\\right)}}{1656369 \\, {\\left(r^{10} r_{m}^{3} - 2 \\, r^{9} r_{m}^{4} + r^{8} r_{m}^{5} - {\\left(r^{9} r_{m}^{3} - 2 \\, r^{8} r_{m}^{4} + r^{7} r_{m}^{5}\\right)} r_{p}\\right)} {\\left(r - r_{m}\\right)}^{\\frac{2}{13}} r^{\\frac{3}{13}}} \\end{array}\\)</html>"
      ],
      "text/latex": [
       "$\\displaystyle \\begin{array}{llcl} & M & \\longrightarrow & \\mathbb{R} \\\\ & \\left(t, r, {\\theta}, {\\phi}\\right) & \\longmapsto & -\\frac{4 \\, {\\left({\\left(742586 \\, a^{2} r^{9} - 285610 \\, a^{2} r^{8} r_{m} - 21970 \\, a^{2} r^{7} r_{m}^{2} - 190125 \\, a^{2} r^{6} r_{m}^{3} - 47970 \\, a^{2} r^{5} r_{m}^{4} - 49896 \\, a^{2} r^{4} r_{m}^{5} - 147015 \\, a^{2} r^{3} r_{m}^{6} + 9801 \\, {\\left(104 \\, a^{2} r^{2} r_{m}^{4} - 223 \\, a^{2} r r_{m}^{5} + 119 \\, a^{2} r_{m}^{6}\\right)} r_{p}^{3} - 99 \\, {\\left(2197 \\, a^{2} r^{5} r_{m}^{2} - 6422 \\, a^{2} r^{4} r_{m}^{3} + 18265 \\, a^{2} r^{3} r_{m}^{4} - 39087 \\, a^{2} r^{2} r_{m}^{5} + 25047 \\, a^{2} r r_{m}^{6}\\right)} r_{p}^{2} - {\\left(2599051 \\, a^{2} r^{8} - 1428050 \\, a^{2} r^{7} r_{m} - 2634203 \\, a^{2} r^{6} r_{m}^{2} + 1236573 \\, a^{2} r^{5} r_{m}^{3} + 52884 \\, a^{2} r^{4} r_{m}^{4} + 1634094 \\, a^{2} r^{3} r_{m}^{5} - 1460349 \\, a^{2} r^{2} r_{m}^{6}\\right)} r_{p}\\right)} {\\left(r - r_{m}\\right)}^{\\frac{5}{13}} \\sin\\left({\\theta}\\right)^{2} + 28561 \\, {\\left(26 \\, a^{2} r^{9} - 20 \\, a^{2} r^{8} r_{m} - {\\left(91 \\, a^{2} r^{8} - 85 \\, a^{2} r^{7} r_{m}\\right)} r_{p}\\right)} r^{\\frac{5}{13}} \\sin\\left({\\theta}\\right)^{2} - 13 \\, {\\left(29403 \\, {\\left(r^{4} r_{m}^{4} - r^{3} r_{m}^{5}\\right)} r_{p}^{2} + 13 \\, {\\left(8788 \\, a^{2} r^{8} - 676 \\, a^{2} r^{7} r_{m} + 468 \\, a^{2} r^{6} r_{m}^{2} - 495 \\, a^{2} r^{5} r_{m}^{3} - 99 \\, {\\left(13 \\, a^{2} r^{4} r_{m}^{2} - 34 \\, a^{2} r^{3} r_{m}^{3}\\right)} r_{p}^{2} - {\\left(30758 \\, a^{2} r^{7} - 7436 \\, a^{2} r^{6} r_{m} - 16029 \\, a^{2} r^{5} r_{m}^{2} + 2871 \\, a^{2} r^{4} r_{m}^{3}\\right)} r_{p}\\right)} \\sin\\left({\\theta}\\right)^{2} - 29403 \\, {\\left(r^{5} r_{m}^{4} - r^{4} r_{m}^{5}\\right)} r_{p}\\right)} {\\left(r - r_{m}\\right)}^{\\frac{9}{13}} r^{\\frac{9}{13}}\\right)}}{1656369 \\, {\\left(r^{10} r_{m}^{3} - 2 \\, r^{9} r_{m}^{4} + r^{8} r_{m}^{5} - {\\left(r^{9} r_{m}^{3} - 2 \\, r^{8} r_{m}^{4} + r^{7} r_{m}^{5}\\right)} r_{p}\\right)} {\\left(r - r_{m}\\right)}^{\\frac{2}{13}} r^{\\frac{3}{13}}} \\end{array}$"
      ],
      "text/plain": [
       "M → ℝ\n",
       "(t, r, th, ph) ↦ -4/1656369*((742586*a^2*r^9 - 285610*a^2*r^8*r_m - 21970*a^2*r^7*r_m^2 - 190125*a^2*r^6*r_m^3 - 47970*a^2*r^5*r_m^4 - 49896*a^2*r^4*r_m^5 - 147015*a^2*r^3*r_m^6 + 9801*(104*a^2*r^2*r_m^4 - 223*a^2*r*r_m^5 + 119*a^2*r_m^6)*r_p^3 - 99*(2197*a^2*r^5*r_m^2 - 6422*a^2*r^4*r_m^3 + 18265*a^2*r^3*r_m^4 - 39087*a^2*r^2*r_m^5 + 25047*a^2*r*r_m^6)*r_p^2 - (2599051*a^2*r^8 - 1428050*a^2*r^7*r_m - 2634203*a^2*r^6*r_m^2 + 1236573*a^2*r^5*r_m^3 + 52884*a^2*r^4*r_m^4 + 1634094*a^2*r^3*r_m^5 - 1460349*a^2*r^2*r_m^6)*r_p)*(r - r_m)^(5/13)*sin(th)^2 + 28561*(26*a^2*r^9 - 20*a^2*r^8*r_m - (91*a^2*r^8 - 85*a^2*r^7*r_m)*r_p)*r^(5/13)*sin(th)^2 - 13*(29403*(r^4*r_m^4 - r^3*r_m^5)*r_p^2 + 13*(8788*a^2*r^8 - 676*a^2*r^7*r_m + 468*a^2*r^6*r_m^2 - 495*a^2*r^5*r_m^3 - 99*(13*a^2*r^4*r_m^2 - 34*a^2*r^3*r_m^3)*r_p^2 - (30758*a^2*r^7 - 7436*a^2*r^6*r_m - 16029*a^2*r^5*r_m^2 + 2871*a^2*r^4*r_m^3)*r_p)*sin(th)^2 - 29403*(r^5*r_m^4 - r^4*r_m^5)*r_p)*(r - r_m)^(9/13)*r^(9/13))/((r^10*r_m^3 - 2*r^9*r_m^4 + r^8*r_m^5 - (r^9*r_m^3 - 2*r^8*r_m^4 + r^7*r_m^5)*r_p)*(r - r_m)^(2/13)*r^(3/13))"
      ]
     },
     "execution_count": 31,
     "metadata": {},
     "output_type": "execute_result"
    }
   ],
   "source": [
    "ER_rsc = gu['^ab']*ER_ricc['_ab']\n",
    "ER_rsc.display()"
   ]
  },
  {
   "cell_type": "markdown",
   "id": "1429abc1",
   "metadata": {},
   "source": [
    "We contruct the Einstein tensor"
   ]
  },
  {
   "cell_type": "code",
   "execution_count": 32,
   "id": "cd07cf77",
   "metadata": {},
   "outputs": [
    {
     "data": {
      "text/html": [
       "<html>\\(\\displaystyle -\\frac{2 \\, {\\left(39 \\, r^{\\frac{15}{13}} r_{p} \\left(\\frac{r - r_{m}}{r}\\right)^{\\frac{15}{13}} - 15 \\, {\\left(r - r_{m}\\right)}^{\\frac{2}{13}} r r_{m} - 104 \\, {\\left(r - r_{m}\\right)}^{\\frac{2}{13}} r r_{p} + 119 \\, {\\left(r - r_{m}\\right)}^{\\frac{2}{13}} r_{m} r_{p}\\right)} {\\left(r - r_{p}\\right)} r_{m}}{169 \\, {\\left(r - r_{m}\\right)}^{\\frac{6}{13}} r^{\\frac{74}{13}}}\\)</html>"
      ],
      "text/latex": [
       "$\\displaystyle -\\frac{2 \\, {\\left(39 \\, r^{\\frac{15}{13}} r_{p} \\left(\\frac{r - r_{m}}{r}\\right)^{\\frac{15}{13}} - 15 \\, {\\left(r - r_{m}\\right)}^{\\frac{2}{13}} r r_{m} - 104 \\, {\\left(r - r_{m}\\right)}^{\\frac{2}{13}} r r_{p} + 119 \\, {\\left(r - r_{m}\\right)}^{\\frac{2}{13}} r_{m} r_{p}\\right)} {\\left(r - r_{p}\\right)} r_{m}}{169 \\, {\\left(r - r_{m}\\right)}^{\\frac{6}{13}} r^{\\frac{74}{13}}}$"
      ],
      "text/plain": [
       "-2/169*(39*r^(15/13)*r_p*((r - r_m)/r)^(15/13) - 15*(r - r_m)^(2/13)*r*r_m - 104*(r - r_m)^(2/13)*r*r_p + 119*(r - r_m)^(2/13)*r_m*r_p)*(r - r_p)*r_m/((r - r_m)^(6/13)*r^(74/13))"
      ]
     },
     "execution_count": 32,
     "metadata": {},
     "output_type": "execute_result"
    }
   ],
   "source": [
    "G = ER_ricc - 1/2*g*ER_rsc\n",
    "G.apply_map(lambda f: f.taylor(a,0,1)) \n",
    "G.apply_map(lambda f: f.substitute_function(Z,E))\n",
    "G.apply_map(lambda f: f.taylor(a,0,1))\n",
    "G.apply_map(lambda f: f.substitute_function(U, A).substitute_function(V, B).substitute_function(X, C).substitute_function(Y, D))\n",
    "G.apply_map(lambda f: f.substitute_function(O, Omega))\n",
    "G.apply_map(lambda f: f.subs(Q=H).subs(alpha=1/(2*3**(1/2))))\n",
    "G.apply_map(lambda f: f.factor())\n",
    "G[0,0]"
   ]
  },
  {
   "cell_type": "markdown",
   "id": "9faab3b9",
   "metadata": {},
   "source": [
    "Let's compare with the [0,0] component of the right hand sife of the equation"
   ]
  },
  {
   "cell_type": "code",
   "execution_count": 33,
   "id": "8127332e",
   "metadata": {},
   "outputs": [
    {
     "data": {
      "text/html": [
       "<html>\\(\\displaystyle \\frac{2 \\, {\\left(78 \\, r^{\\frac{15}{13}} r_{p} \\left(\\frac{r - r_{m}}{r}\\right)^{\\frac{2}{13}} - 78 \\, r^{\\frac{2}{13}} r_{m} r_{p} \\left(\\frac{r - r_{m}}{r}\\right)^{\\frac{2}{13}} + 15 \\, {\\left(r - r_{m}\\right)}^{\\frac{2}{13}} r r_{m} - 13 \\, {\\left(r - r_{m}\\right)}^{\\frac{2}{13}} r r_{p} - 2 \\, {\\left(r - r_{m}\\right)}^{\\frac{2}{13}} r_{m} r_{p}\\right)} {\\left(r - r_{p}\\right)} r_{m} \\left(\\frac{r - r_{m}}{r}\\right)^{\\frac{9}{13}}}{169 \\, {\\left(r - r_{m}\\right)}^{\\frac{15}{13}} r^{5}}\\)</html>"
      ],
      "text/latex": [
       "$\\displaystyle \\frac{2 \\, {\\left(78 \\, r^{\\frac{15}{13}} r_{p} \\left(\\frac{r - r_{m}}{r}\\right)^{\\frac{2}{13}} - 78 \\, r^{\\frac{2}{13}} r_{m} r_{p} \\left(\\frac{r - r_{m}}{r}\\right)^{\\frac{2}{13}} + 15 \\, {\\left(r - r_{m}\\right)}^{\\frac{2}{13}} r r_{m} - 13 \\, {\\left(r - r_{m}\\right)}^{\\frac{2}{13}} r r_{p} - 2 \\, {\\left(r - r_{m}\\right)}^{\\frac{2}{13}} r_{m} r_{p}\\right)} {\\left(r - r_{p}\\right)} r_{m} \\left(\\frac{r - r_{m}}{r}\\right)^{\\frac{9}{13}}}{169 \\, {\\left(r - r_{m}\\right)}^{\\frac{15}{13}} r^{5}}$"
      ],
      "text/plain": [
       "2/169*(78*r^(15/13)*r_p*((r - r_m)/r)^(2/13) - 78*r^(2/13)*r_m*r_p*((r - r_m)/r)^(2/13) + 15*(r - r_m)^(2/13)*r*r_m - 13*(r - r_m)^(2/13)*r*r_p - 2*(r - r_m)^(2/13)*r_m*r_p)*(r - r_p)*r_m*((r - r_m)/r)^(9/13)/((r - r_m)^(15/13)*r^5)"
      ]
     },
     "execution_count": 33,
     "metadata": {},
     "output_type": "execute_result"
    }
   ],
   "source": [
    "RHS[0,0].factor()"
   ]
  },
  {
   "cell_type": "markdown",
   "id": "54244fef",
   "metadata": {},
   "source": [
    "# Equation verification"
   ]
  },
  {
   "cell_type": "markdown",
   "id": "e4e12867",
   "metadata": {},
   "source": [
    "Let's make the difference between the right hand side and the left hand side of the equation (1)"
   ]
  },
  {
   "cell_type": "code",
   "execution_count": 34,
   "id": "04779e72-5caf-475d-a982-690bfc14560e",
   "metadata": {},
   "outputs": [
    {
     "data": {
      "text/html": [
       "<html>\\(\\displaystyle \\left(\\begin{array}{rrrr}\n",
       "0 & 0 & 0 & 0 \\\\\n",
       "0 & 0 & 0 & 0 \\\\\n",
       "0 & 0 & 0 & 0 \\\\\n",
       "0 & 0 & 0 & 0\n",
       "\\end{array}\\right)\\)</html>"
      ],
      "text/latex": [
       "$\\displaystyle \\left(\\begin{array}{rrrr}\n",
       "0 & 0 & 0 & 0 \\\\\n",
       "0 & 0 & 0 & 0 \\\\\n",
       "0 & 0 & 0 & 0 \\\\\n",
       "0 & 0 & 0 & 0\n",
       "\\end{array}\\right)$"
      ],
      "text/plain": [
       "[0 0 0 0]\n",
       "[0 0 0 0]\n",
       "[0 0 0 0]\n",
       "[0 0 0 0]"
      ]
     },
     "execution_count": 34,
     "metadata": {},
     "output_type": "execute_result"
    }
   ],
   "source": [
    "G[:]-RHS[:]"
   ]
  },
  {
   "cell_type": "markdown",
   "id": "e0ca3a93",
   "metadata": {},
   "source": [
    "# In conclusion the equation $G_{\\mu\\nu} = \\tilde{k} \\frac{T_{\\alpha\\beta}}{\\sqrt{\\phi}}+\\frac{1}{\\phi}\\left[\\nabla_{\\mu}\\nabla_{\\nu} - g_{\\mu\\nu}\\square\\right]\\phi$ is perfectly verified at the first order and the slowly rotating black hole solutions are solutions in ER as well."
   ]
  }
 ],
 "metadata": {
  "kernelspec": {
   "display_name": "SageMath 10.1",
   "language": "sage",
   "name": "sagemath"
  },
  "language_info": {
   "codemirror_mode": {
    "name": "ipython",
    "version": 3
   },
   "file_extension": ".py",
   "mimetype": "text/x-python",
   "name": "python",
   "nbconvert_exporter": "python",
   "pygments_lexer": "ipython3",
   "version": "3.10.12"
  }
 },
 "nbformat": 4,
 "nbformat_minor": 5
}
